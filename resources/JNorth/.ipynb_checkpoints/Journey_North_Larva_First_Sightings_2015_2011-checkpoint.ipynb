{
 "cells": [
  {
   "cell_type": "markdown",
   "id": "109556b1",
   "metadata": {},
   "source": [
    "# Journey North Larva First Sightings"
   ]
  },
  {
   "cell_type": "code",
   "execution_count": 1,
   "id": "77377556",
   "metadata": {},
   "outputs": [],
   "source": [
    "#  Import and read\n",
    "import pandas as pd \n",
    "import numpy as np\n",
    "import json\n",
    "# Sue Mottet 2-19-2022"
   ]
  },
  {
   "cell_type": "markdown",
   "id": "71cc5b7d",
   "metadata": {},
   "source": [
    "# geoJSONifier"
   ]
  },
  {
   "cell_type": "code",
   "execution_count": 2,
   "id": "249a00ac",
   "metadata": {},
   "outputs": [],
   "source": [
    "def df_to_geojson(df, properties, lat='latitude', lon='longitude'):\n",
    "    # create a new python dict to contain our geojson data, using geojson format\n",
    "    geojson = {'type':'FeatureCollection', 'features':[]}\n",
    "\n",
    "    # loop through each row in the dataframe and convert each row to geojson format\n",
    "    for _, row in df.iterrows():\n",
    "        # create a feature template to fill in\n",
    "        feature = {'type':'Feature',\n",
    "                   'properties':{},\n",
    "                   'geometry':{'type':'Point',\n",
    "                               'coordinates':[]}}\n",
    "\n",
    "        # fill in the coordinates\n",
    "        feature['geometry']['coordinates'] = [row[lon],row[lat]]\n",
    "\n",
    "        # for each column, get the value and add it as a new feature property\n",
    "        for prop in properties:\n",
    "            feature['properties'][prop] = row[prop]\n",
    "        \n",
    "        # add this feature (aka, converted dataframe row) to the list of features inside our dict\n",
    "        geojson['features'].append(feature)\n",
    "    \n",
    "    return geojson"
   ]
  },
  {
   "cell_type": "markdown",
   "id": "224bf61c",
   "metadata": {},
   "source": [
    "# Load file"
   ]
  },
  {
   "cell_type": "code",
   "execution_count": 3,
   "id": "29091bad",
   "metadata": {},
   "outputs": [
    {
     "name": "stderr",
     "output_type": "stream",
     "text": [
      "C:\\Users\\motte\\anaconda3\\envs\\mlenv\\lib\\site-packages\\IPython\\core\\interactiveshell.py:3444: DtypeWarning: Columns (8) have mixed types.Specify dtype option on import or set low_memory=False.\n",
      "  exec(code_obj, self.user_global_ns, self.user_ns)\n"
     ]
    },
    {
     "data": {
      "text/html": [
       "<div>\n",
       "<style scoped>\n",
       "    .dataframe tbody tr th:only-of-type {\n",
       "        vertical-align: middle;\n",
       "    }\n",
       "\n",
       "    .dataframe tbody tr th {\n",
       "        vertical-align: top;\n",
       "    }\n",
       "\n",
       "    .dataframe thead th {\n",
       "        text-align: right;\n",
       "    }\n",
       "</style>\n",
       "<table border=\"1\" class=\"dataframe\">\n",
       "  <thead>\n",
       "    <tr style=\"text-align: right;\">\n",
       "      <th></th>\n",
       "      <th>id</th>\n",
       "      <th>sighting_date</th>\n",
       "      <th>species</th>\n",
       "      <th>number</th>\n",
       "      <th>latitude</th>\n",
       "      <th>longitude</th>\n",
       "      <th>flag_location</th>\n",
       "      <th>comments</th>\n",
       "      <th>school</th>\n",
       "      <th>grade</th>\n",
       "      <th>image_url</th>\n",
       "      <th>customerid</th>\n",
       "      <th>number_old</th>\n",
       "      <th>flag_number</th>\n",
       "      <th>species_old</th>\n",
       "      <th>flag_species</th>\n",
       "    </tr>\n",
       "  </thead>\n",
       "  <tbody>\n",
       "    <tr>\n",
       "      <th>0</th>\n",
       "      <td>850841703</td>\n",
       "      <td>1996-12-16</td>\n",
       "      <td>Monarch Adult Sighted</td>\n",
       "      <td>1</td>\n",
       "      <td>27.594</td>\n",
       "      <td>-81.362</td>\n",
       "      <td>0</td>\n",
       "      <td>On the ballfield a solitary monarch butterfly ...</td>\n",
       "      <td>Walker memorial junior academy</td>\n",
       "      <td>10.0</td>\n",
       "      <td>-999999.999</td>\n",
       "      <td>135</td>\n",
       "      <td>-999999.999</td>\n",
       "      <td>1</td>\n",
       "      <td>Monarch Butterfly</td>\n",
       "      <td>1</td>\n",
       "    </tr>\n",
       "    <tr>\n",
       "      <th>1</th>\n",
       "      <td>851824801</td>\n",
       "      <td>1996-12-06</td>\n",
       "      <td>Monarch Adult Sighted</td>\n",
       "      <td>1</td>\n",
       "      <td>30.420</td>\n",
       "      <td>-87.224</td>\n",
       "      <td>0</td>\n",
       "      <td>Our 5th grade Discovery students who went alon...</td>\n",
       "      <td>Hambrick elementary school</td>\n",
       "      <td>5.0</td>\n",
       "      <td>-999999.999</td>\n",
       "      <td>150</td>\n",
       "      <td>-999999.999</td>\n",
       "      <td>1</td>\n",
       "      <td>Monarch Butterfly</td>\n",
       "      <td>1</td>\n",
       "    </tr>\n",
       "    <tr>\n",
       "      <th>2</th>\n",
       "      <td>854409931</td>\n",
       "      <td>1996-09-21</td>\n",
       "      <td>Monarch Adult Sighted</td>\n",
       "      <td>1</td>\n",
       "      <td>40.817</td>\n",
       "      <td>-96.710</td>\n",
       "      <td>0</td>\n",
       "      <td>We saw several hundred monarchs in our school ...</td>\n",
       "      <td>-999999.999</td>\n",
       "      <td>5.0</td>\n",
       "      <td>-999999.999</td>\n",
       "      <td>9701054</td>\n",
       "      <td>-999999.999</td>\n",
       "      <td>1</td>\n",
       "      <td>Monarch Butterfly</td>\n",
       "      <td>1</td>\n",
       "    </tr>\n",
       "    <tr>\n",
       "      <th>3</th>\n",
       "      <td>854557206</td>\n",
       "      <td>1996-09-21</td>\n",
       "      <td>Monarch Adult Sighted</td>\n",
       "      <td>1</td>\n",
       "      <td>40.817</td>\n",
       "      <td>-96.710</td>\n",
       "      <td>0</td>\n",
       "      <td>Over a hundered monarchs in our school butterf...</td>\n",
       "      <td>Fredstrom elementary school</td>\n",
       "      <td>6.0</td>\n",
       "      <td>-999999.999</td>\n",
       "      <td>175</td>\n",
       "      <td>-999999.999</td>\n",
       "      <td>1</td>\n",
       "      <td>Monarch Butterfly</td>\n",
       "      <td>1</td>\n",
       "    </tr>\n",
       "    <tr>\n",
       "      <th>4</th>\n",
       "      <td>855061862</td>\n",
       "      <td>1997-01-01</td>\n",
       "      <td>Monarch Adult Sighted</td>\n",
       "      <td>1</td>\n",
       "      <td>34.244</td>\n",
       "      <td>-77.946</td>\n",
       "      <td>0</td>\n",
       "      <td>I Thought I Saw It, But I Was Suprised To See ...</td>\n",
       "      <td>Gregory</td>\n",
       "      <td>3.0</td>\n",
       "      <td>-999999.999</td>\n",
       "      <td>181</td>\n",
       "      <td>-999999.999</td>\n",
       "      <td>1</td>\n",
       "      <td>Monarch Butterfly</td>\n",
       "      <td>1</td>\n",
       "    </tr>\n",
       "  </tbody>\n",
       "</table>\n",
       "</div>"
      ],
      "text/plain": [
       "          id sighting_date                species  number  latitude  \\\n",
       "0  850841703    1996-12-16  Monarch Adult Sighted       1    27.594   \n",
       "1  851824801    1996-12-06  Monarch Adult Sighted       1    30.420   \n",
       "2  854409931    1996-09-21  Monarch Adult Sighted       1    40.817   \n",
       "3  854557206    1996-09-21  Monarch Adult Sighted       1    40.817   \n",
       "4  855061862    1997-01-01  Monarch Adult Sighted       1    34.244   \n",
       "\n",
       "   longitude  flag_location  \\\n",
       "0    -81.362              0   \n",
       "1    -87.224              0   \n",
       "2    -96.710              0   \n",
       "3    -96.710              0   \n",
       "4    -77.946              0   \n",
       "\n",
       "                                            comments  \\\n",
       "0  On the ballfield a solitary monarch butterfly ...   \n",
       "1  Our 5th grade Discovery students who went alon...   \n",
       "2  We saw several hundred monarchs in our school ...   \n",
       "3  Over a hundered monarchs in our school butterf...   \n",
       "4  I Thought I Saw It, But I Was Suprised To See ...   \n",
       "\n",
       "                           school  grade    image_url  customerid  number_old  \\\n",
       "0  Walker memorial junior academy   10.0  -999999.999         135 -999999.999   \n",
       "1      Hambrick elementary school    5.0  -999999.999         150 -999999.999   \n",
       "2                     -999999.999    5.0  -999999.999     9701054 -999999.999   \n",
       "3     Fredstrom elementary school    6.0  -999999.999         175 -999999.999   \n",
       "4                         Gregory    3.0  -999999.999         181 -999999.999   \n",
       "\n",
       "   flag_number        species_old  flag_species  \n",
       "0            1  Monarch Butterfly             1  \n",
       "1            1  Monarch Butterfly             1  \n",
       "2            1  Monarch Butterfly             1  \n",
       "3            1  Monarch Butterfly             1  \n",
       "4            1  Monarch Butterfly             1  "
      ]
     },
     "execution_count": 3,
     "metadata": {},
     "output_type": "execute_result"
    }
   ],
   "source": [
    "JNorth1996_2020_df = pd.read_csv(\"UWMadisonArb_JNorth_Project_MonarchsAndMilkweed_1996-2020.csv\")\n",
    "JNorth1996_2020_df.head()"
   ]
  },
  {
   "cell_type": "markdown",
   "id": "c7319ba8",
   "metadata": {},
   "source": [
    "# Data Exploratory"
   ]
  },
  {
   "cell_type": "code",
   "execution_count": 4,
   "id": "f873e5f6",
   "metadata": {},
   "outputs": [
    {
     "name": "stdout",
     "output_type": "stream",
     "text": [
      "<class 'pandas.core.frame.DataFrame'>\n",
      "RangeIndex: 227433 entries, 0 to 227432\n",
      "Data columns (total 16 columns):\n",
      " #   Column         Non-Null Count   Dtype  \n",
      "---  ------         --------------   -----  \n",
      " 0   id             227433 non-null  int64  \n",
      " 1   sighting_date  227433 non-null  object \n",
      " 2   species        227433 non-null  object \n",
      " 3   number         227433 non-null  int64  \n",
      " 4   latitude       227433 non-null  float64\n",
      " 5   longitude      227433 non-null  float64\n",
      " 6   flag_location  227433 non-null  int64  \n",
      " 7   comments       227433 non-null  object \n",
      " 8   school         227433 non-null  object \n",
      " 9   grade          227433 non-null  float64\n",
      " 10  image_url      227433 non-null  object \n",
      " 11  customerid     227433 non-null  int64  \n",
      " 12  number_old     227433 non-null  float64\n",
      " 13  flag_number    227433 non-null  int64  \n",
      " 14  species_old    227433 non-null  object \n",
      " 15  flag_species   227433 non-null  int64  \n",
      "dtypes: float64(4), int64(6), object(6)\n",
      "memory usage: 27.8+ MB\n"
     ]
    }
   ],
   "source": [
    "JNorth1996_2020_df.info()"
   ]
  },
  {
   "cell_type": "code",
   "execution_count": 5,
   "id": "114eef22",
   "metadata": {},
   "outputs": [
    {
     "data": {
      "text/plain": [
       "\"['id', 'sighting_date', 'species', 'number', 'latitude', 'longitude', 'flag_location', 'comments', 'school', 'grade', 'image_url', 'customerid', 'number_old', 'flag_number', 'species_old', 'flag_species']\""
      ]
     },
     "execution_count": 5,
     "metadata": {},
     "output_type": "execute_result"
    }
   ],
   "source": [
    "str(JNorth1996_2020_df.columns.tolist())"
   ]
  },
  {
   "cell_type": "code",
   "execution_count": 6,
   "id": "a30813e2",
   "metadata": {},
   "outputs": [
    {
     "data": {
      "text/html": [
       "<div>\n",
       "<style scoped>\n",
       "    .dataframe tbody tr th:only-of-type {\n",
       "        vertical-align: middle;\n",
       "    }\n",
       "\n",
       "    .dataframe tbody tr th {\n",
       "        vertical-align: top;\n",
       "    }\n",
       "\n",
       "    .dataframe thead th {\n",
       "        text-align: right;\n",
       "    }\n",
       "</style>\n",
       "<table border=\"1\" class=\"dataframe\">\n",
       "  <thead>\n",
       "    <tr style=\"text-align: right;\">\n",
       "      <th></th>\n",
       "      <th>id</th>\n",
       "      <th>number</th>\n",
       "      <th>latitude</th>\n",
       "      <th>longitude</th>\n",
       "      <th>flag_location</th>\n",
       "      <th>grade</th>\n",
       "      <th>customerid</th>\n",
       "      <th>number_old</th>\n",
       "      <th>flag_number</th>\n",
       "      <th>flag_species</th>\n",
       "    </tr>\n",
       "  </thead>\n",
       "  <tbody>\n",
       "    <tr>\n",
       "      <th>count</th>\n",
       "      <td>2.274330e+05</td>\n",
       "      <td>2.274330e+05</td>\n",
       "      <td>227433.000000</td>\n",
       "      <td>227433.000000</td>\n",
       "      <td>227433.000000</td>\n",
       "      <td>227433.000000</td>\n",
       "      <td>2.274330e+05</td>\n",
       "      <td>2.274330e+05</td>\n",
       "      <td>227433.000000</td>\n",
       "      <td>227433.000000</td>\n",
       "    </tr>\n",
       "    <tr>\n",
       "      <th>mean</th>\n",
       "      <td>1.420650e+09</td>\n",
       "      <td>1.186529e+02</td>\n",
       "      <td>38.400690</td>\n",
       "      <td>-87.569965</td>\n",
       "      <td>0.598018</td>\n",
       "      <td>-907386.217597</td>\n",
       "      <td>9.451737e+06</td>\n",
       "      <td>-2.844270e+05</td>\n",
       "      <td>0.294816</td>\n",
       "      <td>0.130324</td>\n",
       "    </tr>\n",
       "    <tr>\n",
       "      <th>std</th>\n",
       "      <td>1.456887e+08</td>\n",
       "      <td>2.209080e+04</td>\n",
       "      <td>5.268651</td>\n",
       "      <td>10.880362</td>\n",
       "      <td>0.490299</td>\n",
       "      <td>289894.342744</td>\n",
       "      <td>2.193961e+06</td>\n",
       "      <td>4.518136e+05</td>\n",
       "      <td>0.467089</td>\n",
       "      <td>0.336660</td>\n",
       "    </tr>\n",
       "    <tr>\n",
       "      <th>min</th>\n",
       "      <td>8.508417e+08</td>\n",
       "      <td>-1.700000e+01</td>\n",
       "      <td>-12.100000</td>\n",
       "      <td>-165.107000</td>\n",
       "      <td>0.000000</td>\n",
       "      <td>-999999.999000</td>\n",
       "      <td>0.000000e+00</td>\n",
       "      <td>-1.000000e+06</td>\n",
       "      <td>0.000000</td>\n",
       "      <td>0.000000</td>\n",
       "    </tr>\n",
       "    <tr>\n",
       "      <th>25%</th>\n",
       "      <td>1.377751e+09</td>\n",
       "      <td>1.000000e+00</td>\n",
       "      <td>34.723000</td>\n",
       "      <td>-95.268000</td>\n",
       "      <td>0.000000</td>\n",
       "      <td>-999999.999000</td>\n",
       "      <td>9.941050e+06</td>\n",
       "      <td>-1.000000e+06</td>\n",
       "      <td>0.000000</td>\n",
       "      <td>0.000000</td>\n",
       "    </tr>\n",
       "    <tr>\n",
       "      <th>50%</th>\n",
       "      <td>1.477448e+09</td>\n",
       "      <td>1.000000e+00</td>\n",
       "      <td>39.503000</td>\n",
       "      <td>-86.787000</td>\n",
       "      <td>1.000000</td>\n",
       "      <td>-999999.999000</td>\n",
       "      <td>9.977663e+06</td>\n",
       "      <td>1.000000e+00</td>\n",
       "      <td>0.000000</td>\n",
       "      <td>0.000000</td>\n",
       "    </tr>\n",
       "    <tr>\n",
       "      <th>75%</th>\n",
       "      <td>1.526383e+09</td>\n",
       "      <td>3.000000e+00</td>\n",
       "      <td>42.409000</td>\n",
       "      <td>-79.255000</td>\n",
       "      <td>1.000000</td>\n",
       "      <td>-999999.999000</td>\n",
       "      <td>1.000029e+07</td>\n",
       "      <td>3.000000e+00</td>\n",
       "      <td>1.000000</td>\n",
       "      <td>0.000000</td>\n",
       "    </tr>\n",
       "    <tr>\n",
       "      <th>max</th>\n",
       "      <td>1.526525e+09</td>\n",
       "      <td>1.000000e+07</td>\n",
       "      <td>65.136000</td>\n",
       "      <td>-52.883000</td>\n",
       "      <td>1.000000</td>\n",
       "      <td>1112.000000</td>\n",
       "      <td>1.004256e+07</td>\n",
       "      <td>1.000000e+07</td>\n",
       "      <td>2.000000</td>\n",
       "      <td>1.000000</td>\n",
       "    </tr>\n",
       "  </tbody>\n",
       "</table>\n",
       "</div>"
      ],
      "text/plain": [
       "                 id        number       latitude      longitude  \\\n",
       "count  2.274330e+05  2.274330e+05  227433.000000  227433.000000   \n",
       "mean   1.420650e+09  1.186529e+02      38.400690     -87.569965   \n",
       "std    1.456887e+08  2.209080e+04       5.268651      10.880362   \n",
       "min    8.508417e+08 -1.700000e+01     -12.100000    -165.107000   \n",
       "25%    1.377751e+09  1.000000e+00      34.723000     -95.268000   \n",
       "50%    1.477448e+09  1.000000e+00      39.503000     -86.787000   \n",
       "75%    1.526383e+09  3.000000e+00      42.409000     -79.255000   \n",
       "max    1.526525e+09  1.000000e+07      65.136000     -52.883000   \n",
       "\n",
       "       flag_location          grade    customerid    number_old  \\\n",
       "count  227433.000000  227433.000000  2.274330e+05  2.274330e+05   \n",
       "mean        0.598018 -907386.217597  9.451737e+06 -2.844270e+05   \n",
       "std         0.490299  289894.342744  2.193961e+06  4.518136e+05   \n",
       "min         0.000000 -999999.999000  0.000000e+00 -1.000000e+06   \n",
       "25%         0.000000 -999999.999000  9.941050e+06 -1.000000e+06   \n",
       "50%         1.000000 -999999.999000  9.977663e+06  1.000000e+00   \n",
       "75%         1.000000 -999999.999000  1.000029e+07  3.000000e+00   \n",
       "max         1.000000    1112.000000  1.004256e+07  1.000000e+07   \n",
       "\n",
       "         flag_number   flag_species  \n",
       "count  227433.000000  227433.000000  \n",
       "mean        0.294816       0.130324  \n",
       "std         0.467089       0.336660  \n",
       "min         0.000000       0.000000  \n",
       "25%         0.000000       0.000000  \n",
       "50%         0.000000       0.000000  \n",
       "75%         1.000000       0.000000  \n",
       "max         2.000000       1.000000  "
      ]
     },
     "execution_count": 6,
     "metadata": {},
     "output_type": "execute_result"
    }
   ],
   "source": [
    "JNorth1996_2020_df.describe()"
   ]
  },
  {
   "cell_type": "code",
   "execution_count": 7,
   "id": "ae151166",
   "metadata": {},
   "outputs": [
    {
     "data": {
      "text/plain": [
       "['id',\n",
       " 'sighting_date',\n",
       " 'species',\n",
       " 'number',\n",
       " 'latitude',\n",
       " 'longitude',\n",
       " 'flag_location',\n",
       " 'comments',\n",
       " 'school',\n",
       " 'grade',\n",
       " 'image_url',\n",
       " 'customerid',\n",
       " 'number_old',\n",
       " 'flag_number',\n",
       " 'species_old',\n",
       " 'flag_species']"
      ]
     },
     "execution_count": 7,
     "metadata": {},
     "output_type": "execute_result"
    }
   ],
   "source": [
    "JNorth1996_2020_df.columns.tolist()"
   ]
  },
  {
   "cell_type": "code",
   "execution_count": 8,
   "id": "d3e4c845",
   "metadata": {},
   "outputs": [
    {
     "data": {
      "text/plain": [
       "(227433, 16)"
      ]
     },
     "execution_count": 8,
     "metadata": {},
     "output_type": "execute_result"
    }
   ],
   "source": [
    "JNorth1996_2020_df.shape"
   ]
  },
  {
   "cell_type": "code",
   "execution_count": 9,
   "id": "22e5d83e",
   "metadata": {},
   "outputs": [
    {
     "name": "stdout",
     "output_type": "stream",
     "text": [
      "[ 850841703  851824801  854409931 ... 1526524404 1526524405 1526525021]\n",
      "['1996-12-16' '1996-12-06' '1996-09-21' ... '2020-12-29' '2020-12-30'\n",
      " '2020-12-31']\n",
      "['Monarch Adult Sighted' 'Monarch Adult (FIRST sighted)'\n",
      " 'Monarch Egg (FIRST sighted)' 'Monarch (OTHER Observations)'\n",
      " 'Monarch Larva (FIRST sighted)' 'Monarch PEAK Migration'\n",
      " 'Milkweed (FIRST sighted)' 'Monarch Fall Roost' 'Monarch Egg Sighted'\n",
      " 'Monarch Larva Sighted' 'Monarch, Captive-Reared' 'Milkweed Sighted']\n",
      "[       1      150       20       89       30     2000       50     7500\n",
      "       23      200        5      300        4      100       71      120\n",
      "      325       21       28     5000    20000       36       25        6\n",
      "       54     1000      160       24       60       37        2     3000\n",
      "  1000000       10  2000000       40       85       65       15        8\n",
      "      500       14      112       75       80    15000       18    10000\n",
      "      912   100000      400      800       12       35      600       16\n",
      "    25000     1500     1117       70        3      463       45       72\n",
      "      250      182       56       26    30000     2500     8000      750\n",
      "      700       46      556       34      275       53       22      650\n",
      "      210      224     1100      240   200000      900     1200        7\n",
      "       13      115       11       19      810       66       43      510\n",
      "        9       62       27      290      104       44      440      202\n",
      "       55      180       17      140      269       61      142      175\n",
      "       41      123       32       76       31      195      125       29\n",
      "      164      109      119      105     4000       69      360       88\n",
      "       58      239       48      310      117       52      261       90\n",
      "      135      296      211       39       51      102     7001      127\n",
      "       49       47       33     1300       42      101     5075     1520\n",
      "      170       81      190       38      110      558      381      228\n",
      "      248       86       74      172      230      420     2806       94\n",
      "       92      118      425     5400     6300       68       79    50000\n",
      "     2300     7000       84      128       57      350       83      124\n",
      "      114      450      147      501       87       77      197      840\n",
      "    13460     3500       64       73      178      265      151      133\n",
      "      121      477       59       97      850      130      165       95\n",
      "      383       98      729      222      116      225       63     6000\n",
      "      475    34000    13420    21329    12073    16244    30293    11082\n",
      "       78      214      113      108      280      212      138      285\n",
      "      229      216      720      206      606      287      107      134\n",
      "      157      540 10000000      220      103      270       82      139\n",
      "      318       93       67      181      122      158      156      232\n",
      "      106      155     2400      667     1286      179      349      207\n",
      "      505      132      154     1400    32914    29804    18128    15890\n",
      "     7750     8531     7333     7783      173      213      126      378\n",
      "      417      481      780     4800      625      208      205      145\n",
      "      260      193      144      227      305      831      289      246\n",
      "      404      152       96      373      855     1800      519      215\n",
      "      441      337    23800      218      340      231     2100      550\n",
      "     4500      320     9000    12000      324      461      184      570\n",
      "      444      620    11000      870      478      252      447      247\n",
      "      281      980    28073    13492    12864    11472    10200      301\n",
      "      111      259      171      141      256      186      174      198\n",
      "      479      187      223      474      203      278      153      257\n",
      "      520      185     3200      375      258      136    70000    60200\n",
      "    48000    17800      264    19755    17100    12189    13375      233\n",
      "      204      192      131       -1      129      149      -17      460\n",
      "      382      137      143      445       91     1700      330      254\n",
      "      429      813     2200      316     2600      696      291      255\n",
      "      286      543      183      251      362      226      453     1080\n",
      "      860      315      332      244     1351    35000     1503     1125\n",
      "      725     1482      593     2079    12284    19741    12360    10099\n",
      "      587    19000   500000      189      671      713     1016      176\n",
      "      345      219      234      249      409      418    16000     3900\n",
      "      169     7200      272      284      653      428      348      777\n",
      "      253       99      201     1516      335      359      356      875\n",
      "      560      177      525      686     1380      276   999999    12620\n",
      "     6500     5850      188     2960      480      385      827      323\n",
      "      148     1012      465      196      162      238      446      313\n",
      "     2385      307      263      357      163      495     1001      541\n",
      "      733      167     3600      457     5700     1650     1120     3553\n",
      "      995     1600     1390      614     7600     8250      314     1580\n",
      "      221     1620      470      759      267      960     1301      566\n",
      "      342      880      782      241      514     2250     2470      925\n",
      "      403      166     6769      146     2469      209      279      868\n",
      "      585      311      683      354      308      760      387      563\n",
      "      801      536      161      397      322      613      191     1750\n",
      "      199      516      321     1850      277      297     4750      370\n",
      "      489     1149      268     2816      789      430      978      770\n",
      "      493      716      159]\n",
      "[27.594 30.42  40.817 ... 30.139 35.008 54.968]\n",
      "[ -81.362  -87.224  -96.71  ... -118.107 -119.132 -108.727]\n",
      "[0 1]\n",
      "['On the ballfield a solitary monarch butterfly flew across the field in a south-west direction at approximately 1:30 pm.'\n",
      " 'Our 5th grade Discovery students who went along on an overnight field trip to Ft. Pickens, Florida, noticed that there were monarch butterflies all over the grounds of the fort the day they were there (Dec. 6,1996).'\n",
      " 'We saw several hundred monarchs in our school butterfly garden,  sipping nectar from the New England asters and zinnias.'\n",
      " ...\n",
      " \"There have been at least three Monarchs in my yard this year. I know it's at least three, because I often see all of them at once. But there may be more. I have lived here for 35 years, and an additional 23 years just a mile-and-a-half down the road. This is the first time in decades that I've had Monarchs in my yard, and I've been very excited that they're coming back. I'm hoping to see more in the future. \"\n",
      " 'One larva seen.'\n",
      " 'Date of last adult sighted.Total sightings were 98 adults from June 3 to Sept. 4.Peak sightings were July 8 to Aug 7.Approx. acreage with milkweed is equal to 4.5Ac. ']\n",
      "['Walker memorial junior academy' 'Hambrick elementary school'\n",
      " '-999999.999' ... 'Homosassa springs wildlife state park'\n",
      " 'Director, virginia master naturalist program' -999999.999]\n",
      "[ 1.00000000e+01  5.00000000e+00  6.00000000e+00  3.00000000e+00\n",
      "  9.00000000e+00 -9.99999999e+05  7.00000000e+00  2.00000000e+00\n",
      "  8.00000000e+00  9.90000000e+01  4.00000000e+00  1.00000000e+00\n",
      "  1.20000000e+01  1.10000000e+01  0.00000000e+00  3.40000000e+01\n",
      "  2.50000000e+01  4.60000000e+01  6.80000000e+01  1.50000000e+01\n",
      "  9.50000000e+01  3.60000000e+01  1.80000000e+01  2.30000000e+01\n",
      "  1.40000000e+01  4.50000000e+01  9.12000000e+02  2.40000000e+01\n",
      "  6.90000000e+01  5.60000000e+01  7.12000000e+02  6.78000000e+02\n",
      "  1.12000000e+02  4.90000000e+01  7.80000000e+01  6.70000000e+01\n",
      "  1.30000000e+01  4.56000000e+02  1.90000000e+01  6.12000000e+02\n",
      "  1.11200000e+03  1.60000000e+01  1.01200000e+03  3.80000000e+01\n",
      "  6.30000000e+01  2.70000000e+01  1.00000000e+02  9.10000000e+02\n",
      "  6.20000000e+01  3.11000000e+02  5.80000000e+01  1.70000000e+01\n",
      "  2.10000000e+01  2.80000000e+01  7.10000000e+01  3.45000000e+02\n",
      "  1.19000000e+02  3.50000000e+01  4.20000000e+01  6.50000000e+01\n",
      "  5.00000000e+01  4.12000000e+02  7.90000000e+01  2.00000000e+01\n",
      "  7.11000000e+02  5.30000000e+01  1.35000000e+02]\n",
      "['-999999.999'\n",
      " 'https://journeynorth.org/jnorth/images/userfiles2013/1193346010.jpg'\n",
      " 'https://www.learner.org/jnorth/images/userfiles/1317067653.jpg' ...\n",
      " '//journeynorth.org/jnorth/images/userfiles2021/05/1526513089.jpg'\n",
      " '//journeynorth.org/jnorth/images/userfiles2021/05/1526513090.jpg'\n",
      " '//journeynorth.org/jnorth/images/userfiles2021/06/1526524404.jpg']\n",
      "[     135      150  9701054 ... 10042506 10042509 10042557]\n",
      "[-9.99999999e+05  0.00000000e+00  1.50000000e+02  2.00000000e+01\n",
      "  8.90000000e+01  3.00000000e+01  2.00000000e+03  5.00000000e+01\n",
      "  7.50000000e+03  2.30000000e+01  2.00000000e+02  5.00000000e+00\n",
      "  3.00000000e+02  4.00000000e+00  1.00000000e+02  7.10000000e+01\n",
      "  1.20000000e+02  3.25000000e+02  2.10000000e+01  2.80000000e+01\n",
      "  5.00000000e+03  2.00000000e+04  3.60000000e+01  2.50000000e+01\n",
      "  6.00000000e+00  5.40000000e+01  1.00000000e+03  1.60000000e+02\n",
      "  2.40000000e+01  6.00000000e+01  3.70000000e+01  2.00000000e+00\n",
      "  3.00000000e+03  1.00000000e+06  1.00000000e+01  1.00000000e+00\n",
      "  2.00000000e+06  4.00000000e+01  8.50000000e+01  6.50000000e+01\n",
      "  1.50000000e+01  8.00000000e+00  5.00000000e+02  1.40000000e+01\n",
      "  1.12000000e+02  7.50000000e+01  8.00000000e+01  1.50000000e+04\n",
      "  1.80000000e+01  1.00000000e+04  9.12000000e+02  1.00000000e+05\n",
      "  4.00000000e+02  8.00000000e+02  1.20000000e+01  3.50000000e+01\n",
      "  6.00000000e+02  1.60000000e+01  2.50000000e+04  1.50000000e+03\n",
      "  1.11700000e+03  7.00000000e+01  3.00000000e+00  4.63000000e+02\n",
      "  4.50000000e+01  7.20000000e+01  2.50000000e+02  1.82000000e+02\n",
      "  5.60000000e+01  2.60000000e+01  3.00000000e+04  2.50000000e+03\n",
      "  8.00000000e+03  7.50000000e+02  7.00000000e+02  4.60000000e+01\n",
      "  5.56000000e+02  3.40000000e+01  2.75000000e+02  5.30000000e+01\n",
      "  2.20000000e+01  6.50000000e+02  2.10000000e+02  2.24000000e+02\n",
      "  1.10000000e+03  2.40000000e+02  2.00000000e+05  9.00000000e+02\n",
      "  1.20000000e+03  7.00000000e+00  1.30000000e+01  1.15000000e+02\n",
      "  1.10000000e+01  1.90000000e+01  8.10000000e+02  6.60000000e+01\n",
      "  4.30000000e+01  5.10000000e+02  9.00000000e+00  6.20000000e+01\n",
      "  2.70000000e+01  2.90000000e+02  1.04000000e+02  4.40000000e+01\n",
      "  4.40000000e+02  2.02000000e+02  5.50000000e+01  1.80000000e+02\n",
      "  1.70000000e+01  1.40000000e+02  2.69000000e+02  6.10000000e+01\n",
      "  1.42000000e+02  1.75000000e+02  4.10000000e+01  1.23000000e+02\n",
      "  3.20000000e+01  7.60000000e+01  3.10000000e+01  1.95000000e+02\n",
      "  1.25000000e+02  2.90000000e+01  1.64000000e+02  1.09000000e+02\n",
      "  1.19000000e+02  1.05000000e+02  4.00000000e+03  6.90000000e+01\n",
      "  3.60000000e+02  8.80000000e+01  5.80000000e+01  2.39000000e+02\n",
      "  4.80000000e+01  3.10000000e+02  1.17000000e+02  5.20000000e+01\n",
      "  2.61000000e+02  9.00000000e+01  1.35000000e+02  2.96000000e+02\n",
      "  2.11000000e+02  3.90000000e+01  5.10000000e+01  1.02000000e+02\n",
      "  7.00100000e+03  1.27000000e+02  4.90000000e+01  4.70000000e+01\n",
      "  3.30000000e+01  1.30000000e+03  4.20000000e+01  1.01000000e+02\n",
      "  5.07500000e+03  1.52000000e+03  1.70000000e+02  8.10000000e+01\n",
      "  1.90000000e+02  3.80000000e+01  1.10000000e+02  5.58000000e+02\n",
      "  3.81000000e+02  2.28000000e+02  2.48000000e+02  8.60000000e+01\n",
      "  7.40000000e+01  1.72000000e+02  2.30000000e+02  4.20000000e+02\n",
      "  2.80600000e+03  9.40000000e+01  9.20000000e+01  1.18000000e+02\n",
      "  4.25000000e+02  5.40000000e+03  6.30000000e+03  6.80000000e+01\n",
      "  7.90000000e+01  5.00000000e+04  2.30000000e+03  7.00000000e+03\n",
      "  8.40000000e+01  1.28000000e+02  5.70000000e+01  3.50000000e+02\n",
      "  8.30000000e+01  1.24000000e+02  1.14000000e+02  4.50000000e+02\n",
      "  1.47000000e+02  5.01000000e+02  8.70000000e+01  7.70000000e+01\n",
      "  1.97000000e+02  8.40000000e+02  1.34600000e+04  3.50000000e+03\n",
      "  6.40000000e+01  7.30000000e+01  1.78000000e+02  2.65000000e+02\n",
      "  1.51000000e+02  1.33000000e+02  1.21000000e+02  4.77000000e+02\n",
      "  5.90000000e+01  9.70000000e+01  8.50000000e+02  1.30000000e+02\n",
      "  1.65000000e+02  9.50000000e+01  3.83000000e+02  9.80000000e+01\n",
      "  7.29000000e+02  2.22000000e+02  1.16000000e+02  2.25000000e+02\n",
      "  6.30000000e+01  6.00000000e+03  4.75000000e+02  3.40000000e+04\n",
      "  1.34200000e+04  2.13290000e+04  1.20730000e+04  1.62440000e+04\n",
      "  3.02930000e+04  1.10820000e+04  7.80000000e+01  2.14000000e+02\n",
      "  1.13000000e+02  1.08000000e+02  2.80000000e+02  2.12000000e+02\n",
      "  1.38000000e+02  2.85000000e+02  2.29000000e+02  2.16000000e+02\n",
      "  7.20000000e+02  2.06000000e+02  6.06000000e+02  2.87000000e+02\n",
      "  1.07000000e+02  1.34000000e+02  1.57000000e+02  5.40000000e+02\n",
      "  1.00000000e+07  2.20000000e+02  1.03000000e+02  2.70000000e+02\n",
      "  8.20000000e+01  1.39000000e+02  3.18000000e+02  9.30000000e+01\n",
      "  6.70000000e+01  1.81000000e+02  1.22000000e+02  1.58000000e+02\n",
      "  1.56000000e+02  2.32000000e+02  1.06000000e+02  1.55000000e+02\n",
      "  2.40000000e+03  6.67000000e+02  1.28600000e+03  1.79000000e+02\n",
      "  3.49000000e+02  2.07000000e+02  5.05000000e+02  1.32000000e+02\n",
      "  1.54000000e+02  1.40000000e+03  3.29140000e+04  2.98040000e+04\n",
      "  1.81280000e+04  1.58900000e+04  7.75000000e+03  8.53100000e+03\n",
      "  7.33300000e+03  7.78300000e+03  1.73000000e+02  2.13000000e+02\n",
      "  1.26000000e+02  3.78000000e+02  4.17000000e+02  4.81000000e+02\n",
      "  7.80000000e+02  4.80000000e+03  6.25000000e+02  2.08000000e+02\n",
      "  2.05000000e+02  1.45000000e+02  2.60000000e+02  1.93000000e+02\n",
      "  1.44000000e+02  2.27000000e+02  3.05000000e+02  8.31000000e+02\n",
      "  2.89000000e+02  2.46000000e+02  4.04000000e+02  1.52000000e+02\n",
      "  9.60000000e+01  3.73000000e+02  8.55000000e+02  1.80000000e+03\n",
      "  5.19000000e+02  2.15000000e+02  4.41000000e+02  3.37000000e+02\n",
      "  2.38000000e+04  2.18000000e+02  3.40000000e+02  2.31000000e+02\n",
      "  2.10000000e+03  5.50000000e+02  4.50000000e+03  3.20000000e+02\n",
      "  9.00000000e+03  1.20000000e+04  3.24000000e+02  4.61000000e+02\n",
      "  1.84000000e+02  5.70000000e+02  4.44000000e+02  6.20000000e+02\n",
      "  1.10000000e+04  8.70000000e+02  4.78000000e+02  2.52000000e+02\n",
      "  4.47000000e+02  2.47000000e+02  2.81000000e+02  9.80000000e+02\n",
      "  2.80730000e+04  1.34920000e+04  1.28640000e+04  1.14720000e+04\n",
      "  1.02000000e+04  3.01000000e+02  1.11000000e+02  2.59000000e+02\n",
      "  1.71000000e+02  1.41000000e+02  2.56000000e+02  1.86000000e+02\n",
      "  1.74000000e+02  1.98000000e+02  4.79000000e+02  1.87000000e+02\n",
      "  2.23000000e+02  4.74000000e+02  2.03000000e+02  2.78000000e+02\n",
      "  1.53000000e+02  2.57000000e+02  5.20000000e+02  1.85000000e+02\n",
      "  3.20000000e+03  3.75000000e+02  2.58000000e+02  1.36000000e+02\n",
      "  7.00000000e+04  6.02000000e+04  4.80000000e+04  1.78000000e+04\n",
      "  2.64000000e+02  1.97550000e+04  1.71000000e+04  1.21890000e+04\n",
      "  1.33750000e+04  2.33000000e+02  2.04000000e+02  1.92000000e+02\n",
      "  1.31000000e+02 -1.00000000e+00  1.29000000e+02  1.49000000e+02\n",
      " -1.70000000e+01  4.60000000e+02  3.82000000e+02  1.37000000e+02\n",
      "  1.43000000e+02  4.45000000e+02  9.10000000e+01  1.70000000e+03\n",
      "  3.30000000e+02  2.54000000e+02  4.29000000e+02  8.13000000e+02\n",
      "  2.20000000e+03  3.16000000e+02  2.60000000e+03  6.96000000e+02\n",
      "  2.91000000e+02  2.55000000e+02  2.86000000e+02  5.43000000e+02\n",
      "  1.83000000e+02  2.51000000e+02  3.62000000e+02  2.26000000e+02\n",
      "  4.53000000e+02  1.08000000e+03  8.60000000e+02  3.15000000e+02\n",
      "  3.32000000e+02  2.44000000e+02  1.35100000e+03  3.50000000e+04\n",
      "  1.50300000e+03  1.12500000e+03  7.25000000e+02  1.48200000e+03\n",
      "  5.93000000e+02  2.07900000e+03  1.22840000e+04  1.97410000e+04\n",
      "  1.23600000e+04  1.00990000e+04  5.87000000e+02  1.90000000e+04\n",
      "  5.00000000e+05  1.89000000e+02  6.71000000e+02  7.13000000e+02\n",
      "  1.01600000e+03  1.76000000e+02  3.45000000e+02  2.19000000e+02\n",
      "  2.34000000e+02  2.49000000e+02  4.09000000e+02  4.18000000e+02\n",
      "  1.60000000e+04  3.90000000e+03  1.69000000e+02  7.20000000e+03\n",
      "  2.72000000e+02  2.84000000e+02  6.53000000e+02  4.28000000e+02\n",
      "  3.48000000e+02  7.77000000e+02  2.53000000e+02  9.90000000e+01\n",
      "  2.01000000e+02  1.51600000e+03  3.35000000e+02  3.59000000e+02\n",
      "  3.56000000e+02  8.75000000e+02  5.60000000e+02  1.77000000e+02\n",
      "  5.25000000e+02  6.86000000e+02  1.38000000e+03  2.76000000e+02\n",
      "  9.99999000e+05  1.26200000e+04  6.50000000e+03  5.85000000e+03\n",
      "  1.88000000e+02  2.96000000e+03  4.80000000e+02  3.85000000e+02\n",
      "  8.27000000e+02  3.23000000e+02  1.48000000e+02  1.01200000e+03\n",
      "  4.65000000e+02  1.96000000e+02  1.62000000e+02  2.38000000e+02\n",
      "  4.46000000e+02  3.13000000e+02  2.38500000e+03  3.07000000e+02\n",
      "  2.63000000e+02  3.57000000e+02  1.63000000e+02  4.95000000e+02\n",
      "  1.00100000e+03  5.41000000e+02  7.33000000e+02  1.67000000e+02\n",
      "  3.60000000e+03  4.57000000e+02  5.70000000e+03  1.65000000e+03\n",
      "  1.12000000e+03  3.55300000e+03  9.95000000e+02  1.60000000e+03\n",
      "  1.39000000e+03  6.14000000e+02  7.60000000e+03  8.25000000e+03\n",
      "  3.14000000e+02  1.58000000e+03  2.21000000e+02  1.62000000e+03\n",
      "  4.70000000e+02  7.59000000e+02  2.67000000e+02  9.60000000e+02\n",
      "  1.30100000e+03  5.66000000e+02  3.42000000e+02  8.80000000e+02\n",
      "  7.82000000e+02  2.41000000e+02  5.14000000e+02  2.25000000e+03\n",
      "  2.47000000e+03  9.25000000e+02  4.03000000e+02  1.66000000e+02\n",
      "  6.76900000e+03  1.46000000e+02  2.46900000e+03  2.09000000e+02\n",
      "  2.79000000e+02  8.68000000e+02  5.85000000e+02  3.11000000e+02\n",
      "  6.83000000e+02  3.54000000e+02  3.08000000e+02  7.60000000e+02\n",
      "  3.87000000e+02  5.63000000e+02  8.01000000e+02  5.36000000e+02\n",
      "  1.61000000e+02  3.97000000e+02  3.22000000e+02  6.13000000e+02\n",
      "  1.91000000e+02  1.75000000e+03  1.99000000e+02  5.16000000e+02\n",
      "  3.21000000e+02  1.85000000e+03  2.77000000e+02  2.97000000e+02\n",
      "  4.75000000e+03  3.70000000e+02  4.89000000e+02  1.14900000e+03\n",
      "  2.68000000e+02  2.81600000e+03  7.89000000e+02  4.30000000e+02\n",
      "  9.78000000e+02  7.70000000e+02  4.93000000e+02  7.16000000e+02\n",
      "  1.59000000e+02]\n",
      "[1 2 0]\n",
      "['Monarch Butterfly' 'Monarch Migration' 'FIRST Monarch Butterfly'\n",
      " 'FIRST Monarch Egg' 'First Monarch' 'FIRST Monarch' 'LAST Fall Monarch'\n",
      " 'Monarch (OTHER observations)' 'Monarch (FIRST sighting)'\n",
      " 'Monarch (FIRST seen)' 'Monarch (Other Sightings)'\n",
      " 'Monarch (OTHER observation)' 'Monarch (OTHER Observation)'\n",
      " 'Monarch Migration Sighting' 'Monarch (OTHER Observations)'\n",
      " 'Monarch Migration Study' 'LAST Fall Monarch Sighted'\n",
      " ' LAST Fall Monarch Sighted' 'LAST Fall Monarch Migration'\n",
      " 'Monarch (OTHER oservations)' 'Monarch (LAST sighting)'\n",
      " 'Monarch Larva (FIRST sighted)' 'Monarch Egg (FIRST sighted)'\n",
      " 'Monarch Adult (FIRST sighted)' 'Monarch Adult (FIRST Sighted)'\n",
      " 'Monarch PEAK Migration' 'LAST Fall Monarch Sighting'\n",
      " 'Monarchs OTHER (Observation)' '(Monarch) Milkweed emerges'\n",
      " 'Monarch FIRST Migration Sighting' 'Monarch peak Migration'\n",
      " 'Monarch (OTHER) Observations' 'Milkweed (FIRST Leaves)'\n",
      " 'Monarch Over-wintering' 'Monarch Adult  (FIRST sighted)'\n",
      " 'Monarchs (OTHER observations)' 'Monarch (IOTHER observations)'\n",
      " 'Monarch Fall Roost' 'Monarch ADULT' 'Monarch Larva (FIRST Sighted)'\n",
      " 'Monarch (OTHER Observations' 'Monarch Peak Migration'\n",
      " 'Monarch over-wintering' 'Monarch  Adult (FIRST sighted)'\n",
      " 'Monarch (Other Observations)' 'Monarch FIRST Adult'\n",
      " 'Monarch Adult (First sighted)' 'Monarch (Other observations)'\n",
      " 'Monarch Migration Sighting OW' 'Monarch (FIRST sighted)'\n",
      " 'Monarch (NONE sighted)' 'Monarch Fall Roost (None yet)'\n",
      " 'Monarch Adult Sighted' 'Monarch Sighting' 'Monarch (Other Observations'\n",
      " 'Monarch Winter Sighting' 'Monarch Sighted' 'Monarch Egg Sighted'\n",
      " 'Monarch Larva Sighted' 'Monarch OTHER Observations'\n",
      " 'monarch (OTHER Observations)' 'Monarch Egg (FIRST Sighted)'\n",
      " 'Monarch OW Mexico' 'Monarch Adult  Sighted'\n",
      " 'Monarch (OTHER Observations) READY' 'Monarch Adult (FIRST sighted))'\n",
      " 'Monarch, Captive-Reared' 'Monarch Fall Roost (waiting for permission)'\n",
      " 'Milkweed Sighted' 'Milkweed (FIRST sighted)' 'Milkweed (FIRST Sighted)'\n",
      " 'Milkweed sighted' 'Monarch, Captive Reared'\n",
      " 'Monarch Egg (FIRST sighted)ghted)'\n",
      " 'Monarch Adult (FIRST sighted)T sighted)'\n",
      " 'Monarch Adult (FIRST sighted)sighted)' 'Monarch (Captive Reared)ed)'\n",
      " 'Monarch (Captive Reared)' 'Monarch (OTHER Observations)ations)'\n",
      " 'Monarch Larva Sighted ' 'Monarch Fall Roost ' 'Monarch Egg Sighted '\n",
      " 'Monarch, captive-Reared' 'MOnarch Larva Sighted'\n",
      " 'Monarch Adult Sighted ' 'Monarch adult Sighted' 'Monarch Adult SIghted'\n",
      " 'Monarch Adult (FIRST sighted) ' 'Monarchch Adult Sighted'\n",
      " 'Monarch egg Sighted' 'Monarch larva Sighted' 'Monarch , Captive-Raised'\n",
      " 'Monarch, Captive' 'Monarch,' 'Monarch Adult sighted'\n",
      " 'Monarch, Captive-reared']\n",
      "[1 0]\n"
     ]
    }
   ],
   "source": [
    "# Determine the number of unique values in each column.\n",
    "for col in JNorth1996_2020_df:\n",
    "  print(JNorth1996_2020_df[col].unique())"
   ]
  },
  {
   "cell_type": "code",
   "execution_count": 10,
   "id": "5c015895",
   "metadata": {},
   "outputs": [
    {
     "name": "stdout",
     "output_type": "stream",
     "text": [
      "850841703     1\n",
      "1526350827    1\n",
      "1526350816    1\n",
      "1526350817    1\n",
      "1526350818    1\n",
      "             ..\n",
      "1432512422    1\n",
      "1432519704    1\n",
      "1432562236    1\n",
      "1432562641    1\n",
      "1526525021    1\n",
      "Name: id, Length: 227433, dtype: int64\n",
      "2018-08-22    392\n",
      "2018-10-03    377\n",
      "2018-09-06    353\n",
      "2019-09-19    337\n",
      "2018-09-12    335\n",
      "             ... \n",
      "2015-12-31      1\n",
      "2015-11-24      1\n",
      "2015-11-22      1\n",
      "2006-07-30      1\n",
      "1996-12-16      1\n",
      "Name: sighting_date, Length: 7491, dtype: int64\n",
      "Monarch Adult Sighted            102306\n",
      "Monarch Adult (FIRST sighted)     36409\n",
      "Monarch Larva Sighted             17378\n",
      "Monarch, Captive-Reared           14339\n",
      "Monarch (OTHER Observations)      13581\n",
      "Monarch Egg Sighted                8736\n",
      "Milkweed (FIRST sighted)           8465\n",
      "Monarch PEAK Migration             7689\n",
      "Monarch Egg (FIRST sighted)        6876\n",
      "Monarch Fall Roost                 5035\n",
      "Monarch Larva (FIRST sighted)      4898\n",
      "Milkweed Sighted                   1721\n",
      "Name: species, dtype: int64\n",
      "1       139319\n",
      "2        24169\n",
      "3        13055\n",
      "4         7795\n",
      "5         6118\n",
      "         ...  \n",
      "860          1\n",
      "315          1\n",
      "244          1\n",
      "1351         1\n",
      "159          1\n",
      "Name: number, Length: 555, dtype: int64\n",
      "29.757    811\n",
      "30.230    765\n",
      "45.033    702\n",
      "37.944    700\n",
      "42.409    659\n",
      "         ... \n",
      "30.770      1\n",
      "38.355      1\n",
      "33.305      1\n",
      "29.930      1\n",
      "27.594      1\n",
      "Name: latitude, Length: 18851, dtype: int64\n",
      "-95.365     807\n",
      "-97.714     752\n",
      "-87.405     695\n",
      "-93.224     620\n",
      "-82.220     605\n",
      "           ... \n",
      "-77.529       1\n",
      "-69.400       1\n",
      "-101.051      1\n",
      "-69.254       1\n",
      "-122.557      1\n",
      "Name: longitude, Length: 30123, dtype: int64\n",
      "1    136009\n",
      "0     91424\n",
      "Name: flag_location, dtype: int64\n",
      "-999999.999                                                                                                                                                               1427\n",
      "Female                                                                                                                                                                     170\n",
      "Flying                                                                                                                                                                     144\n",
      "Male                                                                                                                                                                       118\n",
      "Recorded as an incidental sighting while conducting surveys on the Fort Hood military base.                                                                                104\n",
      "                                                                                                                                                                          ... \n",
      "first female sighting around 3 pm in richmond-laid egg on common milkweed.  Warm sw wind -monarch looked fresh                                                               1\n",
      "Spotted our first milkweed shoots in our butterfly garden at Lake Anne Elementary this afternoon after the first weekend with warmer temperatures.                           1\n",
      "Spotted 1 adult near Love Valley Wildlife Reserve near the Red River.                                                                                                        1\n",
      "Established Asclepias syriaca L. plants in open area have emerged approximately 1 inch in height one day after 0.7\" rainfall.                                                1\n",
      "Date of last adult sighted.Total sightings were 98 adults from June 3 to Sept. 4.Peak sightings were July 8 to Aug 7.Approx. acreage with milkweed is equal to 4.5Ac.        1\n",
      "Name: comments, Length: 212736, dtype: int64\n",
      "-999999.999                            139036\n",
      "-999999.999                             63593\n",
      "None                                      457\n",
      "Homeschool                                331\n",
      "Virginia living museum                    263\n",
      "                                        ...  \n",
      "William e. norris elementary school         1\n",
      "Coventry elementary school                  1\n",
      "Adams is close                              1\n",
      "Salem elementary school                     1\n",
      "Walker memorial junior academy              1\n",
      "Name: school, Length: 6914, dtype: int64\n",
      "-999999.999    206370\n",
      " 99.000          3136\n",
      " 4.000           2947\n",
      " 3.000           2543\n",
      " 2.000           2541\n",
      "                ...  \n",
      " 1012.000           1\n",
      " 678.000            1\n",
      " 69.000             1\n",
      " 95.000             1\n",
      " 135.000            1\n",
      "Name: grade, Length: 67, dtype: int64\n",
      "-999999.999                                                                   183911\n",
      "//sightings.journeynorth.org/jnorth/images/userfiles2018/09/1526362818.jpg         8\n",
      "https://journeynorth.org/jnorth/images/userfiles/1366245309.jpg                    3\n",
      "https://journeynorth.org/jnorth/images/userfiles/1331931236.jpg                    3\n",
      "//journeynorth.org/jnorth/images/userfiles2020/04/1526445894.jpg                   2\n",
      "                                                                               ...  \n",
      "https://journeynorth.org/jnorth/images/userfiles2017/06/1496327046.jpg             1\n",
      "https://journeynorth.org/jnorth/images/userfiles2017/06/1496327055.jpg             1\n",
      "https://journeynorth.org/jnorth/images/userfiles2017/06/1496327056.jpg             1\n",
      "https://journeynorth.org/jnorth/images/userfiles2017/06/1496327063.jpg             1\n",
      "//journeynorth.org/jnorth/images/userfiles2021/06/1526524404.jpg                   1\n",
      "Name: image_url, Length: 43474, dtype: int64\n",
      "9710973     7256\n",
      "9979617     2054\n",
      "9976074     1055\n",
      "9975275      900\n",
      "10010858     757\n",
      "            ... \n",
      "9979243        1\n",
      "9979242        1\n",
      "9979240        1\n",
      "9979216        1\n",
      "10042557       1\n",
      "Name: customerid, Length: 42518, dtype: int64\n",
      " 1.000         73436\n",
      "-999999.999    64715\n",
      " 2.000         24169\n",
      " 3.000         13055\n",
      " 4.000          7795\n",
      "               ...  \n",
      " 445.000           1\n",
      " 1700.000          1\n",
      " 254.000           1\n",
      " 429.000           1\n",
      " 159.000           1\n",
      "Name: number_old, Length: 557, dtype: int64\n",
      "0    161550\n",
      "1     64715\n",
      "2      1168\n",
      "Name: flag_number, dtype: int64\n",
      "Monarch Adult Sighted                          91662\n",
      "Monarch Adult (FIRST sighted)                  25311\n",
      "Monarch Larva Sighted                          17373\n",
      "Monarch, Captive-Reared                        14329\n",
      "Monarch (OTHER Observations)                   10626\n",
      "                                               ...  \n",
      "monarch (OTHER Observations)                       1\n",
      "Monarch (OTHER Observations) READY                 1\n",
      "Monarch Fall Roost (waiting for permission)        1\n",
      "Monarch, Captive Reared                            1\n",
      "Monarch, Captive-reared                            1\n",
      "Name: species_old, Length: 96, dtype: int64\n",
      "0    197793\n",
      "1     29640\n",
      "Name: flag_species, dtype: int64\n"
     ]
    }
   ],
   "source": [
    "# Determine the number of unique values in each column.\n",
    "for col in JNorth1996_2020_df:\n",
    "  print(JNorth1996_2020_df[col].value_counts())"
   ]
  },
  {
   "cell_type": "code",
   "execution_count": 11,
   "id": "df89a73c",
   "metadata": {},
   "outputs": [
    {
     "name": "stdout",
     "output_type": "stream",
     "text": [
      "Column id has 0 null values\n",
      "Column sighting_date has 0 null values\n",
      "Column species has 0 null values\n",
      "Column number has 0 null values\n",
      "Column latitude has 0 null values\n",
      "Column longitude has 0 null values\n",
      "Column flag_location has 0 null values\n",
      "Column comments has 0 null values\n",
      "Column school has 0 null values\n",
      "Column grade has 0 null values\n",
      "Column image_url has 0 null values\n",
      "Column customerid has 0 null values\n",
      "Column number_old has 0 null values\n",
      "Column flag_number has 0 null values\n",
      "Column species_old has 0 null values\n",
      "Column flag_species has 0 null values\n"
     ]
    }
   ],
   "source": [
    "# Find null values\n",
    "for column in JNorth1996_2020_df.columns:\n",
    "   print(f\"Column {column} has {JNorth1996_2020_df[column].isnull().sum()} null values\")"
   ]
  },
  {
   "cell_type": "code",
   "execution_count": 12,
   "id": "f625b64c",
   "metadata": {},
   "outputs": [
    {
     "name": "stdout",
     "output_type": "stream",
     "text": [
      "Duplicate entries: 0\n"
     ]
    }
   ],
   "source": [
    "# Find duplicate entries\n",
    "print(f\"Duplicate entries: {JNorth1996_2020_df.duplicated().sum()}\")"
   ]
  },
  {
   "cell_type": "code",
   "execution_count": 13,
   "id": "324f6253",
   "metadata": {
    "scrolled": true
   },
   "outputs": [
    {
     "data": {
      "text/html": [
       "<div>\n",
       "<style scoped>\n",
       "    .dataframe tbody tr th:only-of-type {\n",
       "        vertical-align: middle;\n",
       "    }\n",
       "\n",
       "    .dataframe tbody tr th {\n",
       "        vertical-align: top;\n",
       "    }\n",
       "\n",
       "    .dataframe thead th {\n",
       "        text-align: right;\n",
       "    }\n",
       "</style>\n",
       "<table border=\"1\" class=\"dataframe\">\n",
       "  <thead>\n",
       "    <tr style=\"text-align: right;\">\n",
       "      <th></th>\n",
       "      <th>id</th>\n",
       "      <th>sighting_date</th>\n",
       "      <th>species</th>\n",
       "      <th>number</th>\n",
       "      <th>latitude</th>\n",
       "      <th>longitude</th>\n",
       "      <th>flag_location</th>\n",
       "      <th>comments</th>\n",
       "      <th>school</th>\n",
       "      <th>grade</th>\n",
       "      <th>image_url</th>\n",
       "      <th>customerid</th>\n",
       "      <th>number_old</th>\n",
       "      <th>flag_number</th>\n",
       "      <th>species_old</th>\n",
       "      <th>flag_species</th>\n",
       "    </tr>\n",
       "  </thead>\n",
       "  <tbody>\n",
       "    <tr>\n",
       "      <th>2932</th>\n",
       "      <td>946933590</td>\n",
       "      <td>2000-01-02</td>\n",
       "      <td>Monarch Larva (FIRST sighted)</td>\n",
       "      <td>1</td>\n",
       "      <td>27.705</td>\n",
       "      <td>-97.348</td>\n",
       "      <td>0</td>\n",
       "      <td>At Corpus Christi's Hans and Pat Suter Refuge,...</td>\n",
       "      <td>Tamu-cc</td>\n",
       "      <td>-999999.999</td>\n",
       "      <td>-999999.999</td>\n",
       "      <td>9711251</td>\n",
       "      <td>-999999.999</td>\n",
       "      <td>1</td>\n",
       "      <td>Monarch Larva (FIRST sighted)</td>\n",
       "      <td>0</td>\n",
       "    </tr>\n",
       "    <tr>\n",
       "      <th>2961</th>\n",
       "      <td>951423660</td>\n",
       "      <td>1999-12-01</td>\n",
       "      <td>Monarch Larva (FIRST sighted)</td>\n",
       "      <td>1</td>\n",
       "      <td>29.757</td>\n",
       "      <td>-95.365</td>\n",
       "      <td>0</td>\n",
       "      <td>In Harris County, southwest Houston, I have ha...</td>\n",
       "      <td>-999999.999</td>\n",
       "      <td>-999999.999</td>\n",
       "      <td>-999999.999</td>\n",
       "      <td>9706354</td>\n",
       "      <td>-999999.999</td>\n",
       "      <td>1</td>\n",
       "      <td>Monarch Larva (FIRST sighted)</td>\n",
       "      <td>0</td>\n",
       "    </tr>\n",
       "    <tr>\n",
       "      <th>2965</th>\n",
       "      <td>951595960</td>\n",
       "      <td>1999-12-15</td>\n",
       "      <td>Monarch Larva (FIRST sighted)</td>\n",
       "      <td>1</td>\n",
       "      <td>29.757</td>\n",
       "      <td>-95.365</td>\n",
       "      <td>0</td>\n",
       "      <td>We have had such a mild winter here, that the ...</td>\n",
       "      <td>-999999.999</td>\n",
       "      <td>-999999.999</td>\n",
       "      <td>-999999.999</td>\n",
       "      <td>9705512</td>\n",
       "      <td>-999999.999</td>\n",
       "      <td>1</td>\n",
       "      <td>Monarch Larva (FIRST sighted)</td>\n",
       "      <td>0</td>\n",
       "    </tr>\n",
       "    <tr>\n",
       "      <th>2975</th>\n",
       "      <td>952046388</td>\n",
       "      <td>2000-02-01</td>\n",
       "      <td>Monarch Larva (FIRST sighted)</td>\n",
       "      <td>1</td>\n",
       "      <td>26.218</td>\n",
       "      <td>-98.238</td>\n",
       "      <td>0</td>\n",
       "      <td>Milam Elementary School (about 10 miles from t...</td>\n",
       "      <td>Ben milam elementary</td>\n",
       "      <td>4.000</td>\n",
       "      <td>-999999.999</td>\n",
       "      <td>1900</td>\n",
       "      <td>-999999.999</td>\n",
       "      <td>1</td>\n",
       "      <td>Monarch Larva (FIRST sighted)</td>\n",
       "      <td>0</td>\n",
       "    </tr>\n",
       "    <tr>\n",
       "      <th>2977</th>\n",
       "      <td>952110693</td>\n",
       "      <td>2000-03-03</td>\n",
       "      <td>Monarch Larva (FIRST sighted)</td>\n",
       "      <td>1</td>\n",
       "      <td>28.807</td>\n",
       "      <td>-96.979</td>\n",
       "      <td>0</td>\n",
       "      <td>We have had a few monarchs all winter in Victo...</td>\n",
       "      <td>Victoria christian school</td>\n",
       "      <td>7.000</td>\n",
       "      <td>-999999.999</td>\n",
       "      <td>9704928</td>\n",
       "      <td>-999999.999</td>\n",
       "      <td>1</td>\n",
       "      <td>Monarch Larva (FIRST sighted)</td>\n",
       "      <td>0</td>\n",
       "    </tr>\n",
       "  </tbody>\n",
       "</table>\n",
       "</div>"
      ],
      "text/plain": [
       "             id sighting_date                        species  number  \\\n",
       "2932  946933590    2000-01-02  Monarch Larva (FIRST sighted)       1   \n",
       "2961  951423660    1999-12-01  Monarch Larva (FIRST sighted)       1   \n",
       "2965  951595960    1999-12-15  Monarch Larva (FIRST sighted)       1   \n",
       "2975  952046388    2000-02-01  Monarch Larva (FIRST sighted)       1   \n",
       "2977  952110693    2000-03-03  Monarch Larva (FIRST sighted)       1   \n",
       "\n",
       "      latitude  longitude  flag_location  \\\n",
       "2932    27.705    -97.348              0   \n",
       "2961    29.757    -95.365              0   \n",
       "2965    29.757    -95.365              0   \n",
       "2975    26.218    -98.238              0   \n",
       "2977    28.807    -96.979              0   \n",
       "\n",
       "                                               comments  \\\n",
       "2932  At Corpus Christi's Hans and Pat Suter Refuge,...   \n",
       "2961  In Harris County, southwest Houston, I have ha...   \n",
       "2965  We have had such a mild winter here, that the ...   \n",
       "2975  Milam Elementary School (about 10 miles from t...   \n",
       "2977  We have had a few monarchs all winter in Victo...   \n",
       "\n",
       "                         school       grade    image_url  customerid  \\\n",
       "2932                    Tamu-cc -999999.999  -999999.999     9711251   \n",
       "2961                -999999.999 -999999.999  -999999.999     9706354   \n",
       "2965                -999999.999 -999999.999  -999999.999     9705512   \n",
       "2975       Ben milam elementary       4.000  -999999.999        1900   \n",
       "2977  Victoria christian school       7.000  -999999.999     9704928   \n",
       "\n",
       "      number_old  flag_number                    species_old  flag_species  \n",
       "2932 -999999.999            1  Monarch Larva (FIRST sighted)             0  \n",
       "2961 -999999.999            1  Monarch Larva (FIRST sighted)             0  \n",
       "2965 -999999.999            1  Monarch Larva (FIRST sighted)             0  \n",
       "2975 -999999.999            1  Monarch Larva (FIRST sighted)             0  \n",
       "2977 -999999.999            1  Monarch Larva (FIRST sighted)             0  "
      ]
     },
     "execution_count": 13,
     "metadata": {},
     "output_type": "execute_result"
    }
   ],
   "source": [
    "# filtering by type of observation (Monarch Larva First Sighted)\n",
    "JNorth_Larva_First_Site_df = JNorth1996_2020_df[JNorth1996_2020_df['species']=='Monarch Larva (FIRST sighted)']\n",
    "JNorth_Larva_First_Site_df.head()"
   ]
  },
  {
   "cell_type": "code",
   "execution_count": 14,
   "id": "e5f16410",
   "metadata": {},
   "outputs": [],
   "source": [
    "JNorth_Larva_First_Site_df.to_csv('JNorth_Larva_First_Site.csv', header=True, mode='w' )"
   ]
  },
  {
   "cell_type": "code",
   "execution_count": 15,
   "id": "e2fdaf3f",
   "metadata": {},
   "outputs": [
    {
     "data": {
      "text/plain": [
       "(4898, 16)"
      ]
     },
     "execution_count": 15,
     "metadata": {},
     "output_type": "execute_result"
    }
   ],
   "source": [
    "JNorth_Larva_First_Site_df.shape"
   ]
  },
  {
   "cell_type": "markdown",
   "id": "58d210d2",
   "metadata": {},
   "source": [
    "# Format file for geoJSON "
   ]
  },
  {
   "cell_type": "code",
   "execution_count": 16,
   "id": "6134356f",
   "metadata": {},
   "outputs": [
    {
     "data": {
      "text/html": [
       "<div>\n",
       "<style scoped>\n",
       "    .dataframe tbody tr th:only-of-type {\n",
       "        vertical-align: middle;\n",
       "    }\n",
       "\n",
       "    .dataframe tbody tr th {\n",
       "        vertical-align: top;\n",
       "    }\n",
       "\n",
       "    .dataframe thead th {\n",
       "        text-align: right;\n",
       "    }\n",
       "</style>\n",
       "<table border=\"1\" class=\"dataframe\">\n",
       "  <thead>\n",
       "    <tr style=\"text-align: right;\">\n",
       "      <th></th>\n",
       "      <th>sighting_date</th>\n",
       "      <th>species</th>\n",
       "      <th>number</th>\n",
       "      <th>latitude</th>\n",
       "      <th>longitude</th>\n",
       "    </tr>\n",
       "  </thead>\n",
       "  <tbody>\n",
       "    <tr>\n",
       "      <th>2932</th>\n",
       "      <td>2000-01-02</td>\n",
       "      <td>Monarch Larva (FIRST sighted)</td>\n",
       "      <td>1</td>\n",
       "      <td>27.705</td>\n",
       "      <td>-97.348</td>\n",
       "    </tr>\n",
       "    <tr>\n",
       "      <th>2961</th>\n",
       "      <td>1999-12-01</td>\n",
       "      <td>Monarch Larva (FIRST sighted)</td>\n",
       "      <td>1</td>\n",
       "      <td>29.757</td>\n",
       "      <td>-95.365</td>\n",
       "    </tr>\n",
       "    <tr>\n",
       "      <th>2965</th>\n",
       "      <td>1999-12-15</td>\n",
       "      <td>Monarch Larva (FIRST sighted)</td>\n",
       "      <td>1</td>\n",
       "      <td>29.757</td>\n",
       "      <td>-95.365</td>\n",
       "    </tr>\n",
       "    <tr>\n",
       "      <th>2975</th>\n",
       "      <td>2000-02-01</td>\n",
       "      <td>Monarch Larva (FIRST sighted)</td>\n",
       "      <td>1</td>\n",
       "      <td>26.218</td>\n",
       "      <td>-98.238</td>\n",
       "    </tr>\n",
       "    <tr>\n",
       "      <th>2977</th>\n",
       "      <td>2000-03-03</td>\n",
       "      <td>Monarch Larva (FIRST sighted)</td>\n",
       "      <td>1</td>\n",
       "      <td>28.807</td>\n",
       "      <td>-96.979</td>\n",
       "    </tr>\n",
       "  </tbody>\n",
       "</table>\n",
       "</div>"
      ],
      "text/plain": [
       "     sighting_date                        species  number  latitude  longitude\n",
       "2932    2000-01-02  Monarch Larva (FIRST sighted)       1    27.705    -97.348\n",
       "2961    1999-12-01  Monarch Larva (FIRST sighted)       1    29.757    -95.365\n",
       "2965    1999-12-15  Monarch Larva (FIRST sighted)       1    29.757    -95.365\n",
       "2975    2000-02-01  Monarch Larva (FIRST sighted)       1    26.218    -98.238\n",
       "2977    2000-03-03  Monarch Larva (FIRST sighted)       1    28.807    -96.979"
      ]
     },
     "execution_count": 16,
     "metadata": {},
     "output_type": "execute_result"
    }
   ],
   "source": [
    "JNorth_Larva_First_Site_df = pd.DataFrame(JNorth_Larva_First_Site_df)\n",
    "JNorth_Larva_First_Site_df.drop(['id','flag_location', 'comments','school','grade','image_url','customerid','number_old','flag_number','species_old','flag_species'], axis=1, inplace=True)\n",
    "JNorth_Larva_First_Site_df.head()"
   ]
  },
  {
   "cell_type": "code",
   "execution_count": 17,
   "id": "1a6fb766",
   "metadata": {},
   "outputs": [],
   "source": [
    "cols = ['sighting_date', 'species', 'number', 'latitude', 'longitude']"
   ]
  },
  {
   "cell_type": "code",
   "execution_count": 18,
   "id": "7e250a92",
   "metadata": {},
   "outputs": [
    {
     "data": {
      "text/html": [
       "<div>\n",
       "<style scoped>\n",
       "    .dataframe tbody tr th:only-of-type {\n",
       "        vertical-align: middle;\n",
       "    }\n",
       "\n",
       "    .dataframe tbody tr th {\n",
       "        vertical-align: top;\n",
       "    }\n",
       "\n",
       "    .dataframe thead th {\n",
       "        text-align: right;\n",
       "    }\n",
       "</style>\n",
       "<table border=\"1\" class=\"dataframe\">\n",
       "  <thead>\n",
       "    <tr style=\"text-align: right;\">\n",
       "      <th></th>\n",
       "      <th>sighting_date</th>\n",
       "      <th>species</th>\n",
       "      <th>latitude</th>\n",
       "      <th>longitude</th>\n",
       "      <th>number</th>\n",
       "    </tr>\n",
       "  </thead>\n",
       "  <tbody>\n",
       "    <tr>\n",
       "      <th>0</th>\n",
       "      <td>1999-12-01</td>\n",
       "      <td>Monarch Larva (FIRST sighted)</td>\n",
       "      <td>29.757</td>\n",
       "      <td>-95.365</td>\n",
       "      <td>1</td>\n",
       "    </tr>\n",
       "    <tr>\n",
       "      <th>1</th>\n",
       "      <td>1999-12-15</td>\n",
       "      <td>Monarch Larva (FIRST sighted)</td>\n",
       "      <td>29.757</td>\n",
       "      <td>-95.365</td>\n",
       "      <td>1</td>\n",
       "    </tr>\n",
       "    <tr>\n",
       "      <th>2</th>\n",
       "      <td>2000-01-02</td>\n",
       "      <td>Monarch Larva (FIRST sighted)</td>\n",
       "      <td>27.705</td>\n",
       "      <td>-97.348</td>\n",
       "      <td>1</td>\n",
       "    </tr>\n",
       "    <tr>\n",
       "      <th>3</th>\n",
       "      <td>2000-02-01</td>\n",
       "      <td>Monarch Larva (FIRST sighted)</td>\n",
       "      <td>26.218</td>\n",
       "      <td>-98.238</td>\n",
       "      <td>1</td>\n",
       "    </tr>\n",
       "    <tr>\n",
       "      <th>4</th>\n",
       "      <td>2000-03-03</td>\n",
       "      <td>Monarch Larva (FIRST sighted)</td>\n",
       "      <td>26.218</td>\n",
       "      <td>-98.238</td>\n",
       "      <td>1</td>\n",
       "    </tr>\n",
       "  </tbody>\n",
       "</table>\n",
       "</div>"
      ],
      "text/plain": [
       "  sighting_date                        species  latitude  longitude  number\n",
       "0    1999-12-01  Monarch Larva (FIRST sighted)    29.757    -95.365       1\n",
       "1    1999-12-15  Monarch Larva (FIRST sighted)    29.757    -95.365       1\n",
       "2    2000-01-02  Monarch Larva (FIRST sighted)    27.705    -97.348       1\n",
       "3    2000-02-01  Monarch Larva (FIRST sighted)    26.218    -98.238       1\n",
       "4    2000-03-03  Monarch Larva (FIRST sighted)    26.218    -98.238       1"
      ]
     },
     "execution_count": 18,
     "metadata": {},
     "output_type": "execute_result"
    }
   ],
   "source": [
    "JNorth_Larva_First_Site_df =JNorth_Larva_First_Site_df.groupby(['sighting_date', 'species', 'latitude', 'longitude']).sum().reset_index()\n",
    "JNorth_Larva_First_Site_df.head()"
   ]
  },
  {
   "cell_type": "code",
   "execution_count": 19,
   "id": "baed4881",
   "metadata": {},
   "outputs": [
    {
     "data": {
      "text/plain": [
       "['sighting_date', 'species', 'latitude', 'longitude', 'number']"
      ]
     },
     "execution_count": 19,
     "metadata": {},
     "output_type": "execute_result"
    }
   ],
   "source": [
    "JNorth_Larva_First_Site_df.columns.tolist()"
   ]
  },
  {
   "cell_type": "code",
   "execution_count": 20,
   "id": "0414e769",
   "metadata": {},
   "outputs": [
    {
     "data": {
      "text/html": [
       "<div>\n",
       "<style scoped>\n",
       "    .dataframe tbody tr th:only-of-type {\n",
       "        vertical-align: middle;\n",
       "    }\n",
       "\n",
       "    .dataframe tbody tr th {\n",
       "        vertical-align: top;\n",
       "    }\n",
       "\n",
       "    .dataframe thead th {\n",
       "        text-align: right;\n",
       "    }\n",
       "</style>\n",
       "<table border=\"1\" class=\"dataframe\">\n",
       "  <thead>\n",
       "    <tr style=\"text-align: right;\">\n",
       "      <th></th>\n",
       "      <th>sighting_date</th>\n",
       "      <th>species</th>\n",
       "      <th>latitude</th>\n",
       "      <th>longitude</th>\n",
       "      <th>number</th>\n",
       "    </tr>\n",
       "  </thead>\n",
       "  <tbody>\n",
       "    <tr>\n",
       "      <th>0</th>\n",
       "      <td>1999-12-01</td>\n",
       "      <td>Monarch Larva (FIRST sighted)</td>\n",
       "      <td>29.757</td>\n",
       "      <td>-95.365</td>\n",
       "      <td>1</td>\n",
       "    </tr>\n",
       "    <tr>\n",
       "      <th>1</th>\n",
       "      <td>1999-12-15</td>\n",
       "      <td>Monarch Larva (FIRST sighted)</td>\n",
       "      <td>29.757</td>\n",
       "      <td>-95.365</td>\n",
       "      <td>1</td>\n",
       "    </tr>\n",
       "    <tr>\n",
       "      <th>2</th>\n",
       "      <td>2000-01-02</td>\n",
       "      <td>Monarch Larva (FIRST sighted)</td>\n",
       "      <td>27.705</td>\n",
       "      <td>-97.348</td>\n",
       "      <td>1</td>\n",
       "    </tr>\n",
       "    <tr>\n",
       "      <th>3</th>\n",
       "      <td>2000-02-01</td>\n",
       "      <td>Monarch Larva (FIRST sighted)</td>\n",
       "      <td>26.218</td>\n",
       "      <td>-98.238</td>\n",
       "      <td>1</td>\n",
       "    </tr>\n",
       "    <tr>\n",
       "      <th>4</th>\n",
       "      <td>2000-03-03</td>\n",
       "      <td>Monarch Larva (FIRST sighted)</td>\n",
       "      <td>26.218</td>\n",
       "      <td>-98.238</td>\n",
       "      <td>1</td>\n",
       "    </tr>\n",
       "  </tbody>\n",
       "</table>\n",
       "</div>"
      ],
      "text/plain": [
       "  sighting_date                        species  latitude  longitude  number\n",
       "0    1999-12-01  Monarch Larva (FIRST sighted)    29.757    -95.365       1\n",
       "1    1999-12-15  Monarch Larva (FIRST sighted)    29.757    -95.365       1\n",
       "2    2000-01-02  Monarch Larva (FIRST sighted)    27.705    -97.348       1\n",
       "3    2000-02-01  Monarch Larva (FIRST sighted)    26.218    -98.238       1\n",
       "4    2000-03-03  Monarch Larva (FIRST sighted)    26.218    -98.238       1"
      ]
     },
     "execution_count": 20,
     "metadata": {},
     "output_type": "execute_result"
    }
   ],
   "source": [
    "JNorth_Larva_First_Site_df.head()"
   ]
  },
  {
   "cell_type": "code",
   "execution_count": 21,
   "id": "1be947ec",
   "metadata": {},
   "outputs": [
    {
     "data": {
      "text/plain": [
       "(4830, 5)"
      ]
     },
     "execution_count": 21,
     "metadata": {},
     "output_type": "execute_result"
    }
   ],
   "source": [
    "JNorth_Larva_First_Site_df.shape"
   ]
  },
  {
   "cell_type": "code",
   "execution_count": 22,
   "id": "bb6146d3",
   "metadata": {},
   "outputs": [],
   "source": [
    "JNorth_Larva_First_Site_year_df = JNorth_Larva_First_Site_df\n",
    "JNorth_Larva_First_Site_year_df['year'] = pd.DatetimeIndex(JNorth_Larva_First_Site_df['sighting_date']).year"
   ]
  },
  {
   "cell_type": "markdown",
   "id": "fb164498",
   "metadata": {},
   "source": [
    "# 2011"
   ]
  },
  {
   "cell_type": "code",
   "execution_count": 23,
   "id": "213c99b0",
   "metadata": {},
   "outputs": [
    {
     "data": {
      "text/html": [
       "<div>\n",
       "<style scoped>\n",
       "    .dataframe tbody tr th:only-of-type {\n",
       "        vertical-align: middle;\n",
       "    }\n",
       "\n",
       "    .dataframe tbody tr th {\n",
       "        vertical-align: top;\n",
       "    }\n",
       "\n",
       "    .dataframe thead th {\n",
       "        text-align: right;\n",
       "    }\n",
       "</style>\n",
       "<table border=\"1\" class=\"dataframe\">\n",
       "  <thead>\n",
       "    <tr style=\"text-align: right;\">\n",
       "      <th></th>\n",
       "      <th>sighting_date</th>\n",
       "      <th>species</th>\n",
       "      <th>latitude</th>\n",
       "      <th>longitude</th>\n",
       "      <th>number</th>\n",
       "      <th>year</th>\n",
       "    </tr>\n",
       "  </thead>\n",
       "  <tbody>\n",
       "    <tr>\n",
       "      <th>989</th>\n",
       "      <td>2011-08-07</td>\n",
       "      <td>Monarch Larva (FIRST sighted)</td>\n",
       "      <td>41.336</td>\n",
       "      <td>-75.879</td>\n",
       "      <td>1</td>\n",
       "      <td>2011</td>\n",
       "    </tr>\n",
       "    <tr>\n",
       "      <th>990</th>\n",
       "      <td>2011-08-08</td>\n",
       "      <td>Monarch Larva (FIRST sighted)</td>\n",
       "      <td>39.204</td>\n",
       "      <td>-94.555</td>\n",
       "      <td>1</td>\n",
       "      <td>2011</td>\n",
       "    </tr>\n",
       "    <tr>\n",
       "      <th>991</th>\n",
       "      <td>2011-08-09</td>\n",
       "      <td>Monarch Larva (FIRST sighted)</td>\n",
       "      <td>41.336</td>\n",
       "      <td>-75.879</td>\n",
       "      <td>1</td>\n",
       "      <td>2011</td>\n",
       "    </tr>\n",
       "    <tr>\n",
       "      <th>992</th>\n",
       "      <td>2011-08-10</td>\n",
       "      <td>Monarch Larva (FIRST sighted)</td>\n",
       "      <td>38.983</td>\n",
       "      <td>-77.080</td>\n",
       "      <td>1</td>\n",
       "      <td>2011</td>\n",
       "    </tr>\n",
       "    <tr>\n",
       "      <th>993</th>\n",
       "      <td>2011-08-10</td>\n",
       "      <td>Monarch Larva (FIRST sighted)</td>\n",
       "      <td>43.617</td>\n",
       "      <td>-80.133</td>\n",
       "      <td>1</td>\n",
       "      <td>2011</td>\n",
       "    </tr>\n",
       "  </tbody>\n",
       "</table>\n",
       "</div>"
      ],
      "text/plain": [
       "    sighting_date                        species  latitude  longitude  number  \\\n",
       "989    2011-08-07  Monarch Larva (FIRST sighted)    41.336    -75.879       1   \n",
       "990    2011-08-08  Monarch Larva (FIRST sighted)    39.204    -94.555       1   \n",
       "991    2011-08-09  Monarch Larva (FIRST sighted)    41.336    -75.879       1   \n",
       "992    2011-08-10  Monarch Larva (FIRST sighted)    38.983    -77.080       1   \n",
       "993    2011-08-10  Monarch Larva (FIRST sighted)    43.617    -80.133       1   \n",
       "\n",
       "     year  \n",
       "989  2011  \n",
       "990  2011  \n",
       "991  2011  \n",
       "992  2011  \n",
       "993  2011  "
      ]
     },
     "execution_count": 23,
     "metadata": {},
     "output_type": "execute_result"
    }
   ],
   "source": [
    "JNorth_Larva_First_Site_2011_df = JNorth_Larva_First_Site_year_df[JNorth_Larva_First_Site_year_df['year']==2011]\n",
    "JNorth_Larva_First_Site_2011_df.tail()"
   ]
  },
  {
   "cell_type": "code",
   "execution_count": 24,
   "id": "c271bca8",
   "metadata": {},
   "outputs": [
    {
     "data": {
      "text/plain": [
       "(170, 6)"
      ]
     },
     "execution_count": 24,
     "metadata": {},
     "output_type": "execute_result"
    }
   ],
   "source": [
    "JNorth_Larva_First_Site_2011_df.shape"
   ]
  },
  {
   "cell_type": "code",
   "execution_count": 25,
   "id": "d8efa4c7",
   "metadata": {},
   "outputs": [],
   "source": [
    "JNorth_Larva_First_Site_2011_df = pd.DataFrame(JNorth_Larva_First_Site_2011_df)\n",
    "JNorth_Larva_First_Site_2011_df.drop(['year'], axis=1, inplace=True)"
   ]
  },
  {
   "cell_type": "code",
   "execution_count": 26,
   "id": "ac4b06bf",
   "metadata": {},
   "outputs": [],
   "source": [
    "JNorth_Larva_First_Site_2011_df['month'] = pd.DatetimeIndex(JNorth_Larva_First_Site_2011_df['sighting_date']).month"
   ]
  },
  {
   "cell_type": "markdown",
   "id": "e1e014c5",
   "metadata": {},
   "source": [
    "## January"
   ]
  },
  {
   "cell_type": "code",
   "execution_count": 27,
   "id": "4b51587a",
   "metadata": {},
   "outputs": [
    {
     "data": {
      "text/html": [
       "<div>\n",
       "<style scoped>\n",
       "    .dataframe tbody tr th:only-of-type {\n",
       "        vertical-align: middle;\n",
       "    }\n",
       "\n",
       "    .dataframe tbody tr th {\n",
       "        vertical-align: top;\n",
       "    }\n",
       "\n",
       "    .dataframe thead th {\n",
       "        text-align: right;\n",
       "    }\n",
       "</style>\n",
       "<table border=\"1\" class=\"dataframe\">\n",
       "  <thead>\n",
       "    <tr style=\"text-align: right;\">\n",
       "      <th></th>\n",
       "      <th>sighting_date</th>\n",
       "      <th>species</th>\n",
       "      <th>latitude</th>\n",
       "      <th>longitude</th>\n",
       "      <th>number</th>\n",
       "      <th>month</th>\n",
       "    </tr>\n",
       "  </thead>\n",
       "  <tbody>\n",
       "    <tr>\n",
       "      <th>824</th>\n",
       "      <td>2011-01-18</td>\n",
       "      <td>Monarch Larva (FIRST sighted)</td>\n",
       "      <td>26.990</td>\n",
       "      <td>-82.097</td>\n",
       "      <td>1</td>\n",
       "      <td>1</td>\n",
       "    </tr>\n",
       "    <tr>\n",
       "      <th>825</th>\n",
       "      <td>2011-01-20</td>\n",
       "      <td>Monarch Larva (FIRST sighted)</td>\n",
       "      <td>34.110</td>\n",
       "      <td>-117.380</td>\n",
       "      <td>1</td>\n",
       "      <td>1</td>\n",
       "    </tr>\n",
       "    <tr>\n",
       "      <th>826</th>\n",
       "      <td>2011-01-21</td>\n",
       "      <td>Monarch Larva (FIRST sighted)</td>\n",
       "      <td>29.757</td>\n",
       "      <td>-95.365</td>\n",
       "      <td>1</td>\n",
       "      <td>1</td>\n",
       "    </tr>\n",
       "    <tr>\n",
       "      <th>827</th>\n",
       "      <td>2011-01-30</td>\n",
       "      <td>Monarch Larva (FIRST sighted)</td>\n",
       "      <td>26.990</td>\n",
       "      <td>-82.097</td>\n",
       "      <td>1</td>\n",
       "      <td>1</td>\n",
       "    </tr>\n",
       "  </tbody>\n",
       "</table>\n",
       "</div>"
      ],
      "text/plain": [
       "    sighting_date                        species  latitude  longitude  number  \\\n",
       "824    2011-01-18  Monarch Larva (FIRST sighted)    26.990    -82.097       1   \n",
       "825    2011-01-20  Monarch Larva (FIRST sighted)    34.110   -117.380       1   \n",
       "826    2011-01-21  Monarch Larva (FIRST sighted)    29.757    -95.365       1   \n",
       "827    2011-01-30  Monarch Larva (FIRST sighted)    26.990    -82.097       1   \n",
       "\n",
       "     month  \n",
       "824      1  \n",
       "825      1  \n",
       "826      1  \n",
       "827      1  "
      ]
     },
     "execution_count": 27,
     "metadata": {},
     "output_type": "execute_result"
    }
   ],
   "source": [
    "JNorth_Larva_First_Site_2011_month_df =pd.DataFrame(JNorth_Larva_First_Site_2011_df)\n",
    "JNorth_Larva_First_Site_2011_1_df = JNorth_Larva_First_Site_2011_month_df[JNorth_Larva_First_Site_2011_month_df['month']==1]\n",
    "JNorth_Larva_First_Site_2011_1_df.tail()"
   ]
  },
  {
   "cell_type": "code",
   "execution_count": 28,
   "id": "78ffb46c",
   "metadata": {},
   "outputs": [
    {
     "data": {
      "text/plain": [
       "(4, 6)"
      ]
     },
     "execution_count": 28,
     "metadata": {},
     "output_type": "execute_result"
    }
   ],
   "source": [
    "JNorth_Larva_First_Site_2011_1_df.shape"
   ]
  },
  {
   "cell_type": "code",
   "execution_count": 29,
   "id": "0da596a9",
   "metadata": {},
   "outputs": [],
   "source": [
    "JNorth_Larva_First_Site_2011_1_df = pd.DataFrame(JNorth_Larva_First_Site_2011_1_df)\n",
    "JNorth_Larva_First_Site_2011_1_df.drop(['month'], axis=1, inplace=True)"
   ]
  },
  {
   "cell_type": "code",
   "execution_count": 30,
   "id": "b77fbff4",
   "metadata": {},
   "outputs": [],
   "source": [
    "# convert lat-long to floats and change address from ALL CAPS to regular capitalization\n",
    "JNorth_Larva_First_Site_2011_1_df['latitude'] = JNorth_Larva_First_Site_2011_1_df['latitude'].astype(float)\n",
    "JNorth_Larva_First_Site_2011_1_df['longitude'] = JNorth_Larva_First_Site_2011_1_df['longitude'].astype(float)\n",
    "# JNorth_Milkweed_Site_df['street_address'] = JNorth_Milkweed_Site_df['street_address'].str.title()"
   ]
  },
  {
   "cell_type": "code",
   "execution_count": 31,
   "id": "b2d65ff3",
   "metadata": {},
   "outputs": [],
   "source": [
    "geojson = df_to_geojson(JNorth_Larva_First_Site_2011_1_df, cols)"
   ]
  },
  {
   "cell_type": "code",
   "execution_count": 32,
   "id": "7be09d07",
   "metadata": {},
   "outputs": [],
   "source": [
    "file = open(\"JNorth_Larva_First_Site_2011_1.geojson\", \"w\")\n",
    "json.dump(geojson, file, indent =1)\n",
    "file.close()"
   ]
  },
  {
   "cell_type": "markdown",
   "id": "3fbad2ab",
   "metadata": {},
   "source": [
    "## February"
   ]
  },
  {
   "cell_type": "code",
   "execution_count": 33,
   "id": "5884490a",
   "metadata": {},
   "outputs": [
    {
     "data": {
      "text/html": [
       "<div>\n",
       "<style scoped>\n",
       "    .dataframe tbody tr th:only-of-type {\n",
       "        vertical-align: middle;\n",
       "    }\n",
       "\n",
       "    .dataframe tbody tr th {\n",
       "        vertical-align: top;\n",
       "    }\n",
       "\n",
       "    .dataframe thead th {\n",
       "        text-align: right;\n",
       "    }\n",
       "</style>\n",
       "<table border=\"1\" class=\"dataframe\">\n",
       "  <thead>\n",
       "    <tr style=\"text-align: right;\">\n",
       "      <th></th>\n",
       "      <th>sighting_date</th>\n",
       "      <th>species</th>\n",
       "      <th>latitude</th>\n",
       "      <th>longitude</th>\n",
       "      <th>number</th>\n",
       "      <th>month</th>\n",
       "    </tr>\n",
       "  </thead>\n",
       "  <tbody>\n",
       "    <tr>\n",
       "      <th>828</th>\n",
       "      <td>2011-02-06</td>\n",
       "      <td>Monarch Larva (FIRST sighted)</td>\n",
       "      <td>29.314</td>\n",
       "      <td>-81.152</td>\n",
       "      <td>1</td>\n",
       "      <td>2</td>\n",
       "    </tr>\n",
       "    <tr>\n",
       "      <th>829</th>\n",
       "      <td>2011-02-12</td>\n",
       "      <td>Monarch Larva (FIRST sighted)</td>\n",
       "      <td>26.671</td>\n",
       "      <td>-80.291</td>\n",
       "      <td>1</td>\n",
       "      <td>2</td>\n",
       "    </tr>\n",
       "    <tr>\n",
       "      <th>830</th>\n",
       "      <td>2011-02-15</td>\n",
       "      <td>Monarch Larva (FIRST sighted)</td>\n",
       "      <td>33.683</td>\n",
       "      <td>-118.012</td>\n",
       "      <td>1</td>\n",
       "      <td>2</td>\n",
       "    </tr>\n",
       "    <tr>\n",
       "      <th>831</th>\n",
       "      <td>2011-02-16</td>\n",
       "      <td>Monarch Larva (FIRST sighted)</td>\n",
       "      <td>34.346</td>\n",
       "      <td>-119.329</td>\n",
       "      <td>1</td>\n",
       "      <td>2</td>\n",
       "    </tr>\n",
       "    <tr>\n",
       "      <th>832</th>\n",
       "      <td>2011-02-27</td>\n",
       "      <td>Monarch Larva (FIRST sighted)</td>\n",
       "      <td>33.451</td>\n",
       "      <td>-112.069</td>\n",
       "      <td>1</td>\n",
       "      <td>2</td>\n",
       "    </tr>\n",
       "  </tbody>\n",
       "</table>\n",
       "</div>"
      ],
      "text/plain": [
       "    sighting_date                        species  latitude  longitude  number  \\\n",
       "828    2011-02-06  Monarch Larva (FIRST sighted)    29.314    -81.152       1   \n",
       "829    2011-02-12  Monarch Larva (FIRST sighted)    26.671    -80.291       1   \n",
       "830    2011-02-15  Monarch Larva (FIRST sighted)    33.683   -118.012       1   \n",
       "831    2011-02-16  Monarch Larva (FIRST sighted)    34.346   -119.329       1   \n",
       "832    2011-02-27  Monarch Larva (FIRST sighted)    33.451   -112.069       1   \n",
       "\n",
       "     month  \n",
       "828      2  \n",
       "829      2  \n",
       "830      2  \n",
       "831      2  \n",
       "832      2  "
      ]
     },
     "execution_count": 33,
     "metadata": {},
     "output_type": "execute_result"
    }
   ],
   "source": [
    "JNorth_Larva_First_Site_2011_month_df =pd.DataFrame(JNorth_Larva_First_Site_2011_df)\n",
    "JNorth_Larva_First_Site_2011_2_df = JNorth_Larva_First_Site_2011_month_df[JNorth_Larva_First_Site_2011_month_df['month']==2]\n",
    "JNorth_Larva_First_Site_2011_2_df.tail()"
   ]
  },
  {
   "cell_type": "code",
   "execution_count": 34,
   "id": "b42cb926",
   "metadata": {},
   "outputs": [
    {
     "data": {
      "text/plain": [
       "(5, 6)"
      ]
     },
     "execution_count": 34,
     "metadata": {},
     "output_type": "execute_result"
    }
   ],
   "source": [
    "JNorth_Larva_First_Site_2011_2_df.shape"
   ]
  },
  {
   "cell_type": "code",
   "execution_count": 35,
   "id": "b021a9c4",
   "metadata": {},
   "outputs": [],
   "source": [
    "JNorth_Larva_First_Site_2011_2_df= pd.DataFrame(JNorth_Larva_First_Site_2011_2_df)\n",
    "JNorth_Larva_First_Site_2011_2_df.drop(['month'], axis=1, inplace=True)"
   ]
  },
  {
   "cell_type": "code",
   "execution_count": 36,
   "id": "9281836d",
   "metadata": {},
   "outputs": [],
   "source": [
    "# convert lat-long to floats and change address from ALL CAPS to regular capitalization\n",
    "JNorth_Larva_First_Site_2011_2_df['latitude'] = JNorth_Larva_First_Site_2011_2_df['latitude'].astype(float)\n",
    "JNorth_Larva_First_Site_2011_2_df['longitude'] = JNorth_Larva_First_Site_2011_2_df['longitude'].astype(float)\n",
    "# JNorth_Milkweed_Site_df['street_address'] = JNorth_Milkweed_Site_df['street_address'].str.title()"
   ]
  },
  {
   "cell_type": "code",
   "execution_count": 37,
   "id": "a8b965ac",
   "metadata": {},
   "outputs": [],
   "source": [
    "geojson = df_to_geojson(JNorth_Larva_First_Site_2011_2_df, cols)"
   ]
  },
  {
   "cell_type": "code",
   "execution_count": 38,
   "id": "ccc6a687",
   "metadata": {},
   "outputs": [],
   "source": [
    "file = open(\"JNorth_Larva_First_Site_2011_2.geojson\", \"w\")\n",
    "json.dump(geojson, file, indent =1)\n",
    "file.close()"
   ]
  },
  {
   "cell_type": "markdown",
   "id": "f58b04b3",
   "metadata": {},
   "source": [
    "## March"
   ]
  },
  {
   "cell_type": "code",
   "execution_count": 39,
   "id": "a8ef2f5b",
   "metadata": {},
   "outputs": [
    {
     "data": {
      "text/html": [
       "<div>\n",
       "<style scoped>\n",
       "    .dataframe tbody tr th:only-of-type {\n",
       "        vertical-align: middle;\n",
       "    }\n",
       "\n",
       "    .dataframe tbody tr th {\n",
       "        vertical-align: top;\n",
       "    }\n",
       "\n",
       "    .dataframe thead th {\n",
       "        text-align: right;\n",
       "    }\n",
       "</style>\n",
       "<table border=\"1\" class=\"dataframe\">\n",
       "  <thead>\n",
       "    <tr style=\"text-align: right;\">\n",
       "      <th></th>\n",
       "      <th>sighting_date</th>\n",
       "      <th>species</th>\n",
       "      <th>latitude</th>\n",
       "      <th>longitude</th>\n",
       "      <th>number</th>\n",
       "      <th>month</th>\n",
       "    </tr>\n",
       "  </thead>\n",
       "  <tbody>\n",
       "    <tr>\n",
       "      <th>854</th>\n",
       "      <td>2011-03-30</td>\n",
       "      <td>Monarch Larva (FIRST sighted)</td>\n",
       "      <td>28.296</td>\n",
       "      <td>-81.468</td>\n",
       "      <td>1</td>\n",
       "      <td>3</td>\n",
       "    </tr>\n",
       "    <tr>\n",
       "      <th>855</th>\n",
       "      <td>2011-03-30</td>\n",
       "      <td>Monarch Larva (FIRST sighted)</td>\n",
       "      <td>29.469</td>\n",
       "      <td>-98.528</td>\n",
       "      <td>1</td>\n",
       "      <td>3</td>\n",
       "    </tr>\n",
       "    <tr>\n",
       "      <th>856</th>\n",
       "      <td>2011-03-30</td>\n",
       "      <td>Monarch Larva (FIRST sighted)</td>\n",
       "      <td>29.661</td>\n",
       "      <td>-95.928</td>\n",
       "      <td>1</td>\n",
       "      <td>3</td>\n",
       "    </tr>\n",
       "    <tr>\n",
       "      <th>857</th>\n",
       "      <td>2011-03-30</td>\n",
       "      <td>Monarch Larva (FIRST sighted)</td>\n",
       "      <td>30.214</td>\n",
       "      <td>-97.859</td>\n",
       "      <td>1</td>\n",
       "      <td>3</td>\n",
       "    </tr>\n",
       "    <tr>\n",
       "      <th>858</th>\n",
       "      <td>2011-03-31</td>\n",
       "      <td>Monarch Larva (FIRST sighted)</td>\n",
       "      <td>29.908</td>\n",
       "      <td>-89.961</td>\n",
       "      <td>1</td>\n",
       "      <td>3</td>\n",
       "    </tr>\n",
       "  </tbody>\n",
       "</table>\n",
       "</div>"
      ],
      "text/plain": [
       "    sighting_date                        species  latitude  longitude  number  \\\n",
       "854    2011-03-30  Monarch Larva (FIRST sighted)    28.296    -81.468       1   \n",
       "855    2011-03-30  Monarch Larva (FIRST sighted)    29.469    -98.528       1   \n",
       "856    2011-03-30  Monarch Larva (FIRST sighted)    29.661    -95.928       1   \n",
       "857    2011-03-30  Monarch Larva (FIRST sighted)    30.214    -97.859       1   \n",
       "858    2011-03-31  Monarch Larva (FIRST sighted)    29.908    -89.961       1   \n",
       "\n",
       "     month  \n",
       "854      3  \n",
       "855      3  \n",
       "856      3  \n",
       "857      3  \n",
       "858      3  "
      ]
     },
     "execution_count": 39,
     "metadata": {},
     "output_type": "execute_result"
    }
   ],
   "source": [
    "JNorth_Larva_First_Site_2011_month_df =pd.DataFrame(JNorth_Larva_First_Site_2011_df)\n",
    "JNorth_Larva_First_Site_2011_3_df = JNorth_Larva_First_Site_2011_month_df[JNorth_Larva_First_Site_2011_month_df['month']==3]\n",
    "JNorth_Larva_First_Site_2011_3_df.tail()"
   ]
  },
  {
   "cell_type": "code",
   "execution_count": 40,
   "id": "ce7f1737",
   "metadata": {},
   "outputs": [
    {
     "data": {
      "text/plain": [
       "(26, 6)"
      ]
     },
     "execution_count": 40,
     "metadata": {},
     "output_type": "execute_result"
    }
   ],
   "source": [
    "JNorth_Larva_First_Site_2011_3_df.shape"
   ]
  },
  {
   "cell_type": "code",
   "execution_count": 41,
   "id": "7a38c9f2",
   "metadata": {},
   "outputs": [],
   "source": [
    "JNorth_Larva_First_Site_2011_3_df =pd.DataFrame(JNorth_Larva_First_Site_2011_3_df)\n",
    "JNorth_Larva_First_Site_2011_3_df.drop(['month'], axis=1, inplace=True)"
   ]
  },
  {
   "cell_type": "code",
   "execution_count": 42,
   "id": "03245c40",
   "metadata": {},
   "outputs": [],
   "source": [
    "# convert lat-long to floats and change address from ALL CAPS to regular capitalization\n",
    "JNorth_Larva_First_Site_2011_3_df['latitude'] = JNorth_Larva_First_Site_2011_3_df['latitude'].astype(float)\n",
    "JNorth_Larva_First_Site_2011_3_df['longitude'] = JNorth_Larva_First_Site_2011_3_df['longitude'].astype(float)\n",
    "# JNorth_Milkweed_Site_df['street_address'] = JNorth_Milkweed_Site_df['street_address'].str.title()"
   ]
  },
  {
   "cell_type": "code",
   "execution_count": 43,
   "id": "bc9bad5b",
   "metadata": {},
   "outputs": [],
   "source": [
    "geojson = df_to_geojson(JNorth_Larva_First_Site_2011_3_df, cols)"
   ]
  },
  {
   "cell_type": "code",
   "execution_count": 44,
   "id": "336f0947",
   "metadata": {},
   "outputs": [],
   "source": [
    "file = open(\"JNorth_Larva_First_Site_2011_3.geojson\", \"w\")\n",
    "json.dump(geojson, file, indent =1)\n",
    "file.close()"
   ]
  },
  {
   "cell_type": "markdown",
   "id": "b5a4169d",
   "metadata": {},
   "source": [
    "## April"
   ]
  },
  {
   "cell_type": "code",
   "execution_count": 45,
   "id": "e1676dcb",
   "metadata": {},
   "outputs": [
    {
     "data": {
      "text/html": [
       "<div>\n",
       "<style scoped>\n",
       "    .dataframe tbody tr th:only-of-type {\n",
       "        vertical-align: middle;\n",
       "    }\n",
       "\n",
       "    .dataframe tbody tr th {\n",
       "        vertical-align: top;\n",
       "    }\n",
       "\n",
       "    .dataframe thead th {\n",
       "        text-align: right;\n",
       "    }\n",
       "</style>\n",
       "<table border=\"1\" class=\"dataframe\">\n",
       "  <thead>\n",
       "    <tr style=\"text-align: right;\">\n",
       "      <th></th>\n",
       "      <th>sighting_date</th>\n",
       "      <th>species</th>\n",
       "      <th>latitude</th>\n",
       "      <th>longitude</th>\n",
       "      <th>number</th>\n",
       "      <th>month</th>\n",
       "    </tr>\n",
       "  </thead>\n",
       "  <tbody>\n",
       "    <tr>\n",
       "      <th>897</th>\n",
       "      <td>2011-04-27</td>\n",
       "      <td>Monarch Larva (FIRST sighted)</td>\n",
       "      <td>37.072</td>\n",
       "      <td>-76.478</td>\n",
       "      <td>1</td>\n",
       "      <td>4</td>\n",
       "    </tr>\n",
       "    <tr>\n",
       "      <th>898</th>\n",
       "      <td>2011-04-28</td>\n",
       "      <td>Monarch Larva (FIRST sighted)</td>\n",
       "      <td>40.500</td>\n",
       "      <td>-79.366</td>\n",
       "      <td>1</td>\n",
       "      <td>4</td>\n",
       "    </tr>\n",
       "    <tr>\n",
       "      <th>899</th>\n",
       "      <td>2011-04-29</td>\n",
       "      <td>Monarch Larva (FIRST sighted)</td>\n",
       "      <td>34.461</td>\n",
       "      <td>-84.506</td>\n",
       "      <td>1</td>\n",
       "      <td>4</td>\n",
       "    </tr>\n",
       "    <tr>\n",
       "      <th>900</th>\n",
       "      <td>2011-04-29</td>\n",
       "      <td>Monarch Larva (FIRST sighted)</td>\n",
       "      <td>38.577</td>\n",
       "      <td>-90.351</td>\n",
       "      <td>1</td>\n",
       "      <td>4</td>\n",
       "    </tr>\n",
       "    <tr>\n",
       "      <th>901</th>\n",
       "      <td>2011-04-30</td>\n",
       "      <td>Monarch Larva (FIRST sighted)</td>\n",
       "      <td>36.502</td>\n",
       "      <td>-76.786</td>\n",
       "      <td>1</td>\n",
       "      <td>4</td>\n",
       "    </tr>\n",
       "  </tbody>\n",
       "</table>\n",
       "</div>"
      ],
      "text/plain": [
       "    sighting_date                        species  latitude  longitude  number  \\\n",
       "897    2011-04-27  Monarch Larva (FIRST sighted)    37.072    -76.478       1   \n",
       "898    2011-04-28  Monarch Larva (FIRST sighted)    40.500    -79.366       1   \n",
       "899    2011-04-29  Monarch Larva (FIRST sighted)    34.461    -84.506       1   \n",
       "900    2011-04-29  Monarch Larva (FIRST sighted)    38.577    -90.351       1   \n",
       "901    2011-04-30  Monarch Larva (FIRST sighted)    36.502    -76.786       1   \n",
       "\n",
       "     month  \n",
       "897      4  \n",
       "898      4  \n",
       "899      4  \n",
       "900      4  \n",
       "901      4  "
      ]
     },
     "execution_count": 45,
     "metadata": {},
     "output_type": "execute_result"
    }
   ],
   "source": [
    "JNorth_Larva_First_Site_2011_month_df =pd.DataFrame(JNorth_Larva_First_Site_2011_df)\n",
    "JNorth_Larva_First_Site_2011_4_df = JNorth_Larva_First_Site_2011_month_df[JNorth_Larva_First_Site_2011_month_df['month']==4]\n",
    "JNorth_Larva_First_Site_2011_4_df.tail()"
   ]
  },
  {
   "cell_type": "code",
   "execution_count": 46,
   "id": "24530093",
   "metadata": {},
   "outputs": [
    {
     "data": {
      "text/plain": [
       "(43, 6)"
      ]
     },
     "execution_count": 46,
     "metadata": {},
     "output_type": "execute_result"
    }
   ],
   "source": [
    "JNorth_Larva_First_Site_2011_4_df.shape"
   ]
  },
  {
   "cell_type": "code",
   "execution_count": 47,
   "id": "a57f5b9b",
   "metadata": {},
   "outputs": [],
   "source": [
    "JNorth_Larva_First_Site_2011_4_df = pd.DataFrame(JNorth_Larva_First_Site_2011_4_df)\n",
    "JNorth_Larva_First_Site_2011_4_df.drop(['month'], axis=1, inplace=True)"
   ]
  },
  {
   "cell_type": "code",
   "execution_count": 48,
   "id": "fed7891d",
   "metadata": {},
   "outputs": [],
   "source": [
    "# convert lat-long to floats and change address from ALL CAPS to regular capitalization\n",
    "JNorth_Larva_First_Site_2011_4_df['latitude'] = JNorth_Larva_First_Site_2011_4_df['latitude'].astype(float)\n",
    "JNorth_Larva_First_Site_2011_4_df['longitude'] = JNorth_Larva_First_Site_2011_4_df['longitude'].astype(float)\n",
    "# JNorth_Milkweed_Site_df['street_address'] = JNorth_Milkweed_Site_df['street_address'].str.title()"
   ]
  },
  {
   "cell_type": "code",
   "execution_count": 49,
   "id": "8676718c",
   "metadata": {},
   "outputs": [],
   "source": [
    "geojson = df_to_geojson(JNorth_Larva_First_Site_2011_4_df, cols)"
   ]
  },
  {
   "cell_type": "code",
   "execution_count": 50,
   "id": "e4c13f3c",
   "metadata": {},
   "outputs": [],
   "source": [
    "file = open(\"JNorth_Larva_First_Site_2011_4.geojson\", \"w\")\n",
    "json.dump(geojson, file, indent =1)\n",
    "file.close()"
   ]
  },
  {
   "cell_type": "markdown",
   "id": "ecb6189f",
   "metadata": {},
   "source": [
    "## May"
   ]
  },
  {
   "cell_type": "code",
   "execution_count": 51,
   "id": "e8654b2f",
   "metadata": {},
   "outputs": [
    {
     "data": {
      "text/html": [
       "<div>\n",
       "<style scoped>\n",
       "    .dataframe tbody tr th:only-of-type {\n",
       "        vertical-align: middle;\n",
       "    }\n",
       "\n",
       "    .dataframe tbody tr th {\n",
       "        vertical-align: top;\n",
       "    }\n",
       "\n",
       "    .dataframe thead th {\n",
       "        text-align: right;\n",
       "    }\n",
       "</style>\n",
       "<table border=\"1\" class=\"dataframe\">\n",
       "  <thead>\n",
       "    <tr style=\"text-align: right;\">\n",
       "      <th></th>\n",
       "      <th>sighting_date</th>\n",
       "      <th>species</th>\n",
       "      <th>latitude</th>\n",
       "      <th>longitude</th>\n",
       "      <th>number</th>\n",
       "      <th>month</th>\n",
       "    </tr>\n",
       "  </thead>\n",
       "  <tbody>\n",
       "    <tr>\n",
       "      <th>926</th>\n",
       "      <td>2011-05-27</td>\n",
       "      <td>Monarch Larva (FIRST sighted)</td>\n",
       "      <td>33.683</td>\n",
       "      <td>-118.012</td>\n",
       "      <td>1</td>\n",
       "      <td>5</td>\n",
       "    </tr>\n",
       "    <tr>\n",
       "      <th>927</th>\n",
       "      <td>2011-05-27</td>\n",
       "      <td>Monarch Larva (FIRST sighted)</td>\n",
       "      <td>39.103</td>\n",
       "      <td>-77.792</td>\n",
       "      <td>1</td>\n",
       "      <td>5</td>\n",
       "    </tr>\n",
       "    <tr>\n",
       "      <th>928</th>\n",
       "      <td>2011-05-29</td>\n",
       "      <td>Monarch Larva (FIRST sighted)</td>\n",
       "      <td>44.986</td>\n",
       "      <td>-93.270</td>\n",
       "      <td>1</td>\n",
       "      <td>5</td>\n",
       "    </tr>\n",
       "    <tr>\n",
       "      <th>929</th>\n",
       "      <td>2011-05-31</td>\n",
       "      <td>Monarch Larva (FIRST sighted)</td>\n",
       "      <td>39.982</td>\n",
       "      <td>-74.161</td>\n",
       "      <td>1</td>\n",
       "      <td>5</td>\n",
       "    </tr>\n",
       "    <tr>\n",
       "      <th>930</th>\n",
       "      <td>2011-05-31</td>\n",
       "      <td>Monarch Larva (FIRST sighted)</td>\n",
       "      <td>45.320</td>\n",
       "      <td>-92.696</td>\n",
       "      <td>1</td>\n",
       "      <td>5</td>\n",
       "    </tr>\n",
       "  </tbody>\n",
       "</table>\n",
       "</div>"
      ],
      "text/plain": [
       "    sighting_date                        species  latitude  longitude  number  \\\n",
       "926    2011-05-27  Monarch Larva (FIRST sighted)    33.683   -118.012       1   \n",
       "927    2011-05-27  Monarch Larva (FIRST sighted)    39.103    -77.792       1   \n",
       "928    2011-05-29  Monarch Larva (FIRST sighted)    44.986    -93.270       1   \n",
       "929    2011-05-31  Monarch Larva (FIRST sighted)    39.982    -74.161       1   \n",
       "930    2011-05-31  Monarch Larva (FIRST sighted)    45.320    -92.696       1   \n",
       "\n",
       "     month  \n",
       "926      5  \n",
       "927      5  \n",
       "928      5  \n",
       "929      5  \n",
       "930      5  "
      ]
     },
     "execution_count": 51,
     "metadata": {},
     "output_type": "execute_result"
    }
   ],
   "source": [
    "JNorth_Larva_First_Site_2011_month_df =pd.DataFrame(JNorth_Larva_First_Site_2011_df)\n",
    "JNorth_Larva_First_Site_2011_5_df = JNorth_Larva_First_Site_2011_month_df[JNorth_Larva_First_Site_2011_month_df['month']==5]\n",
    "JNorth_Larva_First_Site_2011_5_df.tail()"
   ]
  },
  {
   "cell_type": "code",
   "execution_count": 52,
   "id": "60d8eb59",
   "metadata": {},
   "outputs": [
    {
     "data": {
      "text/plain": [
       "(29, 6)"
      ]
     },
     "execution_count": 52,
     "metadata": {},
     "output_type": "execute_result"
    }
   ],
   "source": [
    "JNorth_Larva_First_Site_2011_5_df.shape"
   ]
  },
  {
   "cell_type": "code",
   "execution_count": 53,
   "id": "73bb7166",
   "metadata": {},
   "outputs": [],
   "source": [
    "JNorth_Larva_First_Site_2011_5_df =pd.DataFrame(JNorth_Larva_First_Site_2011_5_df)\n",
    "JNorth_Larva_First_Site_2011_5_df.drop(['month'], axis=1, inplace=True)"
   ]
  },
  {
   "cell_type": "code",
   "execution_count": 54,
   "id": "6ec1381b",
   "metadata": {},
   "outputs": [],
   "source": [
    "# convert lat-long to floats and change address from ALL CAPS to regular capitalization\n",
    "JNorth_Larva_First_Site_2011_5_df['latitude'] = JNorth_Larva_First_Site_2011_5_df['latitude'].astype(float)\n",
    "JNorth_Larva_First_Site_2011_5_df['longitude'] = JNorth_Larva_First_Site_2011_5_df['longitude'].astype(float)\n",
    "# JNorth_Milkweed_Site_df['street_address'] = JNorth_Milkweed_Site_df['street_address'].str.title()"
   ]
  },
  {
   "cell_type": "code",
   "execution_count": 55,
   "id": "eb6b3375",
   "metadata": {},
   "outputs": [],
   "source": [
    "geojson = df_to_geojson(JNorth_Larva_First_Site_2011_5_df, cols)"
   ]
  },
  {
   "cell_type": "code",
   "execution_count": 56,
   "id": "e38d605b",
   "metadata": {},
   "outputs": [],
   "source": [
    "file = open(\"JNorth_Larva_First_Site_2011_5.geojson\", \"w\")\n",
    "json.dump(geojson, file, indent =1)\n",
    "file.close()"
   ]
  },
  {
   "cell_type": "markdown",
   "id": "e993c20c",
   "metadata": {},
   "source": [
    "## June"
   ]
  },
  {
   "cell_type": "code",
   "execution_count": 57,
   "id": "03fc48b5",
   "metadata": {},
   "outputs": [
    {
     "data": {
      "text/html": [
       "<div>\n",
       "<style scoped>\n",
       "    .dataframe tbody tr th:only-of-type {\n",
       "        vertical-align: middle;\n",
       "    }\n",
       "\n",
       "    .dataframe tbody tr th {\n",
       "        vertical-align: top;\n",
       "    }\n",
       "\n",
       "    .dataframe thead th {\n",
       "        text-align: right;\n",
       "    }\n",
       "</style>\n",
       "<table border=\"1\" class=\"dataframe\">\n",
       "  <thead>\n",
       "    <tr style=\"text-align: right;\">\n",
       "      <th></th>\n",
       "      <th>sighting_date</th>\n",
       "      <th>species</th>\n",
       "      <th>latitude</th>\n",
       "      <th>longitude</th>\n",
       "      <th>number</th>\n",
       "      <th>month</th>\n",
       "    </tr>\n",
       "  </thead>\n",
       "  <tbody>\n",
       "    <tr>\n",
       "      <th>961</th>\n",
       "      <td>2011-06-20</td>\n",
       "      <td>Monarch Larva (FIRST sighted)</td>\n",
       "      <td>41.343</td>\n",
       "      <td>-81.154</td>\n",
       "      <td>1</td>\n",
       "      <td>6</td>\n",
       "    </tr>\n",
       "    <tr>\n",
       "      <th>962</th>\n",
       "      <td>2011-06-25</td>\n",
       "      <td>Monarch Larva (FIRST sighted)</td>\n",
       "      <td>42.078</td>\n",
       "      <td>-87.823</td>\n",
       "      <td>1</td>\n",
       "      <td>6</td>\n",
       "    </tr>\n",
       "    <tr>\n",
       "      <th>963</th>\n",
       "      <td>2011-06-25</td>\n",
       "      <td>Monarch Larva (FIRST sighted)</td>\n",
       "      <td>49.884</td>\n",
       "      <td>-97.141</td>\n",
       "      <td>2</td>\n",
       "      <td>6</td>\n",
       "    </tr>\n",
       "    <tr>\n",
       "      <th>964</th>\n",
       "      <td>2011-06-28</td>\n",
       "      <td>Monarch Larva (FIRST sighted)</td>\n",
       "      <td>38.590</td>\n",
       "      <td>-120.562</td>\n",
       "      <td>1</td>\n",
       "      <td>6</td>\n",
       "    </tr>\n",
       "    <tr>\n",
       "      <th>965</th>\n",
       "      <td>2011-06-28</td>\n",
       "      <td>Monarch Larva (FIRST sighted)</td>\n",
       "      <td>40.240</td>\n",
       "      <td>-75.847</td>\n",
       "      <td>1</td>\n",
       "      <td>6</td>\n",
       "    </tr>\n",
       "  </tbody>\n",
       "</table>\n",
       "</div>"
      ],
      "text/plain": [
       "    sighting_date                        species  latitude  longitude  number  \\\n",
       "961    2011-06-20  Monarch Larva (FIRST sighted)    41.343    -81.154       1   \n",
       "962    2011-06-25  Monarch Larva (FIRST sighted)    42.078    -87.823       1   \n",
       "963    2011-06-25  Monarch Larva (FIRST sighted)    49.884    -97.141       2   \n",
       "964    2011-06-28  Monarch Larva (FIRST sighted)    38.590   -120.562       1   \n",
       "965    2011-06-28  Monarch Larva (FIRST sighted)    40.240    -75.847       1   \n",
       "\n",
       "     month  \n",
       "961      6  \n",
       "962      6  \n",
       "963      6  \n",
       "964      6  \n",
       "965      6  "
      ]
     },
     "execution_count": 57,
     "metadata": {},
     "output_type": "execute_result"
    }
   ],
   "source": [
    "JNorth_Larva_First_Site_2011_month_df =pd.DataFrame(JNorth_Larva_First_Site_2011_df)\n",
    "JNorth_Larva_First_Site_2011_6_df = JNorth_Larva_First_Site_2011_month_df[JNorth_Larva_First_Site_2011_month_df['month']==6]\n",
    "JNorth_Larva_First_Site_2011_6_df.tail()"
   ]
  },
  {
   "cell_type": "code",
   "execution_count": 58,
   "id": "a5b0b8ee",
   "metadata": {},
   "outputs": [
    {
     "data": {
      "text/plain": [
       "(35, 6)"
      ]
     },
     "execution_count": 58,
     "metadata": {},
     "output_type": "execute_result"
    }
   ],
   "source": [
    "JNorth_Larva_First_Site_2011_6_df.shape"
   ]
  },
  {
   "cell_type": "code",
   "execution_count": 59,
   "id": "c92eb8b8",
   "metadata": {},
   "outputs": [],
   "source": [
    "JNorth_Larva_First_Site_2011_6_df=pd.DataFrame(JNorth_Larva_First_Site_2011_6_df)\n",
    "JNorth_Larva_First_Site_2011_6_df.drop(['month'], axis=1, inplace=True)"
   ]
  },
  {
   "cell_type": "code",
   "execution_count": 60,
   "id": "0652626f",
   "metadata": {},
   "outputs": [],
   "source": [
    "# convert lat-long to floats and change address from ALL CAPS to regular capitalization\n",
    "JNorth_Larva_First_Site_2011_6_df['latitude'] = JNorth_Larva_First_Site_2011_6_df['latitude'].astype(float)\n",
    "JNorth_Larva_First_Site_2011_6_df['longitude'] = JNorth_Larva_First_Site_2011_6_df['longitude'].astype(float)\n",
    "# JNorth_Milkweed_Site_df['street_address'] = JNorth_Milkweed_Site_df['street_address'].str.title()"
   ]
  },
  {
   "cell_type": "code",
   "execution_count": 61,
   "id": "d99099a1",
   "metadata": {},
   "outputs": [],
   "source": [
    "geojson = df_to_geojson(JNorth_Larva_First_Site_2011_6_df, cols)"
   ]
  },
  {
   "cell_type": "code",
   "execution_count": 62,
   "id": "52c13f18",
   "metadata": {},
   "outputs": [],
   "source": [
    "file = open(\"JNorth_Larva_First_Site_2011_6.geojson\", \"w\")\n",
    "json.dump(geojson, file, indent =1)\n",
    "file.close()"
   ]
  },
  {
   "cell_type": "markdown",
   "id": "8893271b",
   "metadata": {},
   "source": [
    "## July"
   ]
  },
  {
   "cell_type": "code",
   "execution_count": 63,
   "id": "a78f1523",
   "metadata": {},
   "outputs": [
    {
     "data": {
      "text/html": [
       "<div>\n",
       "<style scoped>\n",
       "    .dataframe tbody tr th:only-of-type {\n",
       "        vertical-align: middle;\n",
       "    }\n",
       "\n",
       "    .dataframe tbody tr th {\n",
       "        vertical-align: top;\n",
       "    }\n",
       "\n",
       "    .dataframe thead th {\n",
       "        text-align: right;\n",
       "    }\n",
       "</style>\n",
       "<table border=\"1\" class=\"dataframe\">\n",
       "  <thead>\n",
       "    <tr style=\"text-align: right;\">\n",
       "      <th></th>\n",
       "      <th>sighting_date</th>\n",
       "      <th>species</th>\n",
       "      <th>latitude</th>\n",
       "      <th>longitude</th>\n",
       "      <th>number</th>\n",
       "      <th>month</th>\n",
       "    </tr>\n",
       "  </thead>\n",
       "  <tbody>\n",
       "    <tr>\n",
       "      <th>982</th>\n",
       "      <td>2011-07-23</td>\n",
       "      <td>Monarch Larva (FIRST sighted)</td>\n",
       "      <td>39.182</td>\n",
       "      <td>-75.592</td>\n",
       "      <td>1</td>\n",
       "      <td>7</td>\n",
       "    </tr>\n",
       "    <tr>\n",
       "      <th>983</th>\n",
       "      <td>2011-07-24</td>\n",
       "      <td>Monarch Larva (FIRST sighted)</td>\n",
       "      <td>41.033</td>\n",
       "      <td>-73.765</td>\n",
       "      <td>1</td>\n",
       "      <td>7</td>\n",
       "    </tr>\n",
       "    <tr>\n",
       "      <th>984</th>\n",
       "      <td>2011-07-24</td>\n",
       "      <td>Monarch Larva (FIRST sighted)</td>\n",
       "      <td>42.113</td>\n",
       "      <td>-85.467</td>\n",
       "      <td>1</td>\n",
       "      <td>7</td>\n",
       "    </tr>\n",
       "    <tr>\n",
       "      <th>985</th>\n",
       "      <td>2011-07-24</td>\n",
       "      <td>Monarch Larva (FIRST sighted)</td>\n",
       "      <td>45.067</td>\n",
       "      <td>-64.633</td>\n",
       "      <td>1</td>\n",
       "      <td>7</td>\n",
       "    </tr>\n",
       "    <tr>\n",
       "      <th>986</th>\n",
       "      <td>2011-07-27</td>\n",
       "      <td>Monarch Larva (FIRST sighted)</td>\n",
       "      <td>42.647</td>\n",
       "      <td>-74.575</td>\n",
       "      <td>2</td>\n",
       "      <td>7</td>\n",
       "    </tr>\n",
       "  </tbody>\n",
       "</table>\n",
       "</div>"
      ],
      "text/plain": [
       "    sighting_date                        species  latitude  longitude  number  \\\n",
       "982    2011-07-23  Monarch Larva (FIRST sighted)    39.182    -75.592       1   \n",
       "983    2011-07-24  Monarch Larva (FIRST sighted)    41.033    -73.765       1   \n",
       "984    2011-07-24  Monarch Larva (FIRST sighted)    42.113    -85.467       1   \n",
       "985    2011-07-24  Monarch Larva (FIRST sighted)    45.067    -64.633       1   \n",
       "986    2011-07-27  Monarch Larva (FIRST sighted)    42.647    -74.575       2   \n",
       "\n",
       "     month  \n",
       "982      7  \n",
       "983      7  \n",
       "984      7  \n",
       "985      7  \n",
       "986      7  "
      ]
     },
     "execution_count": 63,
     "metadata": {},
     "output_type": "execute_result"
    }
   ],
   "source": [
    "JNorth_Larva_First_Site_2011_month_df =pd.DataFrame(JNorth_Larva_First_Site_2011_df)\n",
    "JNorth_Larva_First_Site_2011_7_df = JNorth_Larva_First_Site_2011_month_df[JNorth_Larva_First_Site_2011_month_df['month']==7]\n",
    "JNorth_Larva_First_Site_2011_7_df.tail()"
   ]
  },
  {
   "cell_type": "code",
   "execution_count": 64,
   "id": "cf793498",
   "metadata": {},
   "outputs": [
    {
     "data": {
      "text/plain": [
       "(21, 6)"
      ]
     },
     "execution_count": 64,
     "metadata": {},
     "output_type": "execute_result"
    }
   ],
   "source": [
    "JNorth_Larva_First_Site_2011_7_df.shape"
   ]
  },
  {
   "cell_type": "code",
   "execution_count": 65,
   "id": "0a11df25",
   "metadata": {},
   "outputs": [],
   "source": [
    "JNorth_Larva_First_Site_2011_7_df = pd.DataFrame(JNorth_Larva_First_Site_2011_7_df)\n",
    "JNorth_Larva_First_Site_2011_7_df.drop(['month'], axis=1, inplace=True)"
   ]
  },
  {
   "cell_type": "code",
   "execution_count": 66,
   "id": "547dffdc",
   "metadata": {},
   "outputs": [],
   "source": [
    "# convert lat-long to floats and change address from ALL CAPS to regular capitalization\n",
    "JNorth_Larva_First_Site_2011_7_df['latitude'] = JNorth_Larva_First_Site_2011_7_df['latitude'].astype(float)\n",
    "JNorth_Larva_First_Site_2011_7_df['longitude'] = JNorth_Larva_First_Site_2011_7_df['longitude'].astype(float)\n",
    "# JNorth_Milkweed_Site_df['street_address'] = JNorth_Milkweed_Site_df['street_address'].str.title()"
   ]
  },
  {
   "cell_type": "code",
   "execution_count": 67,
   "id": "9b8a01c4",
   "metadata": {},
   "outputs": [],
   "source": [
    "geojson = df_to_geojson(JNorth_Larva_First_Site_2011_7_df, cols)"
   ]
  },
  {
   "cell_type": "code",
   "execution_count": 68,
   "id": "7ede518a",
   "metadata": {},
   "outputs": [],
   "source": [
    "file = open(\"JNorth_Larva_First_Site_2011_7.geojson\", \"w\")\n",
    "json.dump(geojson, file, indent =1)\n",
    "file.close()"
   ]
  },
  {
   "cell_type": "markdown",
   "id": "510976eb",
   "metadata": {},
   "source": [
    "## August"
   ]
  },
  {
   "cell_type": "code",
   "execution_count": 69,
   "id": "3dd621e6",
   "metadata": {},
   "outputs": [
    {
     "data": {
      "text/html": [
       "<div>\n",
       "<style scoped>\n",
       "    .dataframe tbody tr th:only-of-type {\n",
       "        vertical-align: middle;\n",
       "    }\n",
       "\n",
       "    .dataframe tbody tr th {\n",
       "        vertical-align: top;\n",
       "    }\n",
       "\n",
       "    .dataframe thead th {\n",
       "        text-align: right;\n",
       "    }\n",
       "</style>\n",
       "<table border=\"1\" class=\"dataframe\">\n",
       "  <thead>\n",
       "    <tr style=\"text-align: right;\">\n",
       "      <th></th>\n",
       "      <th>sighting_date</th>\n",
       "      <th>species</th>\n",
       "      <th>latitude</th>\n",
       "      <th>longitude</th>\n",
       "      <th>number</th>\n",
       "      <th>month</th>\n",
       "    </tr>\n",
       "  </thead>\n",
       "  <tbody>\n",
       "    <tr>\n",
       "      <th>989</th>\n",
       "      <td>2011-08-07</td>\n",
       "      <td>Monarch Larva (FIRST sighted)</td>\n",
       "      <td>41.336</td>\n",
       "      <td>-75.879</td>\n",
       "      <td>1</td>\n",
       "      <td>8</td>\n",
       "    </tr>\n",
       "    <tr>\n",
       "      <th>990</th>\n",
       "      <td>2011-08-08</td>\n",
       "      <td>Monarch Larva (FIRST sighted)</td>\n",
       "      <td>39.204</td>\n",
       "      <td>-94.555</td>\n",
       "      <td>1</td>\n",
       "      <td>8</td>\n",
       "    </tr>\n",
       "    <tr>\n",
       "      <th>991</th>\n",
       "      <td>2011-08-09</td>\n",
       "      <td>Monarch Larva (FIRST sighted)</td>\n",
       "      <td>41.336</td>\n",
       "      <td>-75.879</td>\n",
       "      <td>1</td>\n",
       "      <td>8</td>\n",
       "    </tr>\n",
       "    <tr>\n",
       "      <th>992</th>\n",
       "      <td>2011-08-10</td>\n",
       "      <td>Monarch Larva (FIRST sighted)</td>\n",
       "      <td>38.983</td>\n",
       "      <td>-77.080</td>\n",
       "      <td>1</td>\n",
       "      <td>8</td>\n",
       "    </tr>\n",
       "    <tr>\n",
       "      <th>993</th>\n",
       "      <td>2011-08-10</td>\n",
       "      <td>Monarch Larva (FIRST sighted)</td>\n",
       "      <td>43.617</td>\n",
       "      <td>-80.133</td>\n",
       "      <td>1</td>\n",
       "      <td>8</td>\n",
       "    </tr>\n",
       "  </tbody>\n",
       "</table>\n",
       "</div>"
      ],
      "text/plain": [
       "    sighting_date                        species  latitude  longitude  number  \\\n",
       "989    2011-08-07  Monarch Larva (FIRST sighted)    41.336    -75.879       1   \n",
       "990    2011-08-08  Monarch Larva (FIRST sighted)    39.204    -94.555       1   \n",
       "991    2011-08-09  Monarch Larva (FIRST sighted)    41.336    -75.879       1   \n",
       "992    2011-08-10  Monarch Larva (FIRST sighted)    38.983    -77.080       1   \n",
       "993    2011-08-10  Monarch Larva (FIRST sighted)    43.617    -80.133       1   \n",
       "\n",
       "     month  \n",
       "989      8  \n",
       "990      8  \n",
       "991      8  \n",
       "992      8  \n",
       "993      8  "
      ]
     },
     "execution_count": 69,
     "metadata": {},
     "output_type": "execute_result"
    }
   ],
   "source": [
    "JNorth_Larva_First_Site_2011_month_df =pd.DataFrame(JNorth_Larva_First_Site_2011_df)\n",
    "JNorth_Larva_First_Site_2011_8_df = JNorth_Larva_First_Site_2011_month_df[JNorth_Larva_First_Site_2011_month_df['month']==8]\n",
    "JNorth_Larva_First_Site_2011_8_df.tail()"
   ]
  },
  {
   "cell_type": "code",
   "execution_count": 70,
   "id": "d1145a4b",
   "metadata": {},
   "outputs": [
    {
     "data": {
      "text/plain": [
       "(7, 6)"
      ]
     },
     "execution_count": 70,
     "metadata": {},
     "output_type": "execute_result"
    }
   ],
   "source": [
    "JNorth_Larva_First_Site_2011_8_df.shape"
   ]
  },
  {
   "cell_type": "code",
   "execution_count": 71,
   "id": "e7da4bd8",
   "metadata": {},
   "outputs": [],
   "source": [
    "JNorth_Larva_First_Site_2011_8_df = pd.DataFrame(JNorth_Larva_First_Site_2011_8_df)\n",
    "JNorth_Larva_First_Site_2011_8_df.drop(['month'], axis=1, inplace=True)"
   ]
  },
  {
   "cell_type": "code",
   "execution_count": 72,
   "id": "ce6fb27f",
   "metadata": {},
   "outputs": [],
   "source": [
    "# convert lat-long to floats and change address from ALL CAPS to regular capitalization\n",
    "JNorth_Larva_First_Site_2011_8_df['latitude'] = JNorth_Larva_First_Site_2011_8_df['latitude'].astype(float)\n",
    "JNorth_Larva_First_Site_2011_8_df['longitude'] = JNorth_Larva_First_Site_2011_8_df['longitude'].astype(float)\n",
    "# JNorth_Milkweed_Site_df['street_address'] = JNorth_Milkweed_Site_df['street_address'].str.title()"
   ]
  },
  {
   "cell_type": "code",
   "execution_count": 73,
   "id": "3c4ab342",
   "metadata": {},
   "outputs": [],
   "source": [
    "geojson = df_to_geojson(JNorth_Larva_First_Site_2011_8_df, cols)"
   ]
  },
  {
   "cell_type": "code",
   "execution_count": 74,
   "id": "3ead16ab",
   "metadata": {},
   "outputs": [],
   "source": [
    "file = open(\"JNorth_Larva_First_Site_2011_8.geojson\", \"w\")\n",
    "json.dump(geojson, file, indent =1)\n",
    "file.close()"
   ]
  },
  {
   "cell_type": "markdown",
   "id": "ecbd125e",
   "metadata": {},
   "source": [
    "## September"
   ]
  },
  {
   "cell_type": "code",
   "execution_count": 75,
   "id": "8c0ed9a5",
   "metadata": {},
   "outputs": [
    {
     "data": {
      "text/html": [
       "<div>\n",
       "<style scoped>\n",
       "    .dataframe tbody tr th:only-of-type {\n",
       "        vertical-align: middle;\n",
       "    }\n",
       "\n",
       "    .dataframe tbody tr th {\n",
       "        vertical-align: top;\n",
       "    }\n",
       "\n",
       "    .dataframe thead th {\n",
       "        text-align: right;\n",
       "    }\n",
       "</style>\n",
       "<table border=\"1\" class=\"dataframe\">\n",
       "  <thead>\n",
       "    <tr style=\"text-align: right;\">\n",
       "      <th></th>\n",
       "      <th>sighting_date</th>\n",
       "      <th>species</th>\n",
       "      <th>latitude</th>\n",
       "      <th>longitude</th>\n",
       "      <th>number</th>\n",
       "      <th>month</th>\n",
       "    </tr>\n",
       "  </thead>\n",
       "  <tbody>\n",
       "  </tbody>\n",
       "</table>\n",
       "</div>"
      ],
      "text/plain": [
       "Empty DataFrame\n",
       "Columns: [sighting_date, species, latitude, longitude, number, month]\n",
       "Index: []"
      ]
     },
     "execution_count": 75,
     "metadata": {},
     "output_type": "execute_result"
    }
   ],
   "source": [
    "JNorth_Larva_First_Site_2011_month_df =pd.DataFrame(JNorth_Larva_First_Site_2011_df)\n",
    "JNorth_Larva_First_Site_2011_9_df = JNorth_Larva_First_Site_2011_month_df[JNorth_Larva_First_Site_2011_month_df['month']==9]\n",
    "JNorth_Larva_First_Site_2011_9_df.tail()"
   ]
  },
  {
   "cell_type": "code",
   "execution_count": 76,
   "id": "4ca17692",
   "metadata": {},
   "outputs": [
    {
     "data": {
      "text/plain": [
       "(0, 6)"
      ]
     },
     "execution_count": 76,
     "metadata": {},
     "output_type": "execute_result"
    }
   ],
   "source": [
    "JNorth_Larva_First_Site_2011_9_df.shape"
   ]
  },
  {
   "cell_type": "code",
   "execution_count": 77,
   "id": "a486ee81",
   "metadata": {},
   "outputs": [],
   "source": [
    "JNorth_Larva_First_Site_2011_9_df = pd.DataFrame(JNorth_Larva_First_Site_2011_9_df)\n",
    "JNorth_Larva_First_Site_2011_9_df.drop(['month'], axis=1, inplace=True)"
   ]
  },
  {
   "cell_type": "code",
   "execution_count": 78,
   "id": "2ed76410",
   "metadata": {},
   "outputs": [],
   "source": [
    "# convert lat-long to floats and change address from ALL CAPS to regular capitalization\n",
    "JNorth_Larva_First_Site_2011_9_df['latitude'] = JNorth_Larva_First_Site_2011_9_df['latitude'].astype(float)\n",
    "JNorth_Larva_First_Site_2011_9_df['longitude'] = JNorth_Larva_First_Site_2011_9_df['longitude'].astype(float)\n",
    "# JNorth_Milkweed_Site_df['street_address'] = JNorth_Milkweed_Site_df['street_address'].str.title()"
   ]
  },
  {
   "cell_type": "code",
   "execution_count": 79,
   "id": "153962db",
   "metadata": {},
   "outputs": [],
   "source": [
    "geojson = df_to_geojson(JNorth_Larva_First_Site_2011_9_df, cols)"
   ]
  },
  {
   "cell_type": "code",
   "execution_count": 80,
   "id": "f7e3dccf",
   "metadata": {},
   "outputs": [],
   "source": [
    "file = open(\"JNorth_Larva_First_Site_2011_9.geojson\", \"w\")\n",
    "json.dump(geojson, file, indent =1)\n",
    "file.close()"
   ]
  },
  {
   "cell_type": "markdown",
   "id": "eea9348c",
   "metadata": {},
   "source": [
    "## October"
   ]
  },
  {
   "cell_type": "code",
   "execution_count": 81,
   "id": "df23ee0d",
   "metadata": {},
   "outputs": [
    {
     "data": {
      "text/html": [
       "<div>\n",
       "<style scoped>\n",
       "    .dataframe tbody tr th:only-of-type {\n",
       "        vertical-align: middle;\n",
       "    }\n",
       "\n",
       "    .dataframe tbody tr th {\n",
       "        vertical-align: top;\n",
       "    }\n",
       "\n",
       "    .dataframe thead th {\n",
       "        text-align: right;\n",
       "    }\n",
       "</style>\n",
       "<table border=\"1\" class=\"dataframe\">\n",
       "  <thead>\n",
       "    <tr style=\"text-align: right;\">\n",
       "      <th></th>\n",
       "      <th>sighting_date</th>\n",
       "      <th>species</th>\n",
       "      <th>latitude</th>\n",
       "      <th>longitude</th>\n",
       "      <th>number</th>\n",
       "      <th>month</th>\n",
       "    </tr>\n",
       "  </thead>\n",
       "  <tbody>\n",
       "  </tbody>\n",
       "</table>\n",
       "</div>"
      ],
      "text/plain": [
       "Empty DataFrame\n",
       "Columns: [sighting_date, species, latitude, longitude, number, month]\n",
       "Index: []"
      ]
     },
     "execution_count": 81,
     "metadata": {},
     "output_type": "execute_result"
    }
   ],
   "source": [
    "JNorth_Larva_First_Site_2011_month_df =pd.DataFrame(JNorth_Larva_First_Site_2011_df)\n",
    "JNorth_Larva_First_Site_2011_10_df = JNorth_Larva_First_Site_2011_month_df[JNorth_Larva_First_Site_2011_month_df['month']==10]\n",
    "JNorth_Larva_First_Site_2011_10_df.tail()"
   ]
  },
  {
   "cell_type": "code",
   "execution_count": 82,
   "id": "67f5288a",
   "metadata": {},
   "outputs": [
    {
     "data": {
      "text/plain": [
       "(0, 6)"
      ]
     },
     "execution_count": 82,
     "metadata": {},
     "output_type": "execute_result"
    }
   ],
   "source": [
    "JNorth_Larva_First_Site_2011_10_df.shape"
   ]
  },
  {
   "cell_type": "code",
   "execution_count": 83,
   "id": "a1fb31eb",
   "metadata": {},
   "outputs": [],
   "source": [
    "JNorth_Larva_First_Site_2011_10_df = pd.DataFrame(JNorth_Larva_First_Site_2011_10_df)\n",
    "JNorth_Larva_First_Site_2011_10_df.drop(['month'], axis=1, inplace=True)"
   ]
  },
  {
   "cell_type": "code",
   "execution_count": 84,
   "id": "cc6ee857",
   "metadata": {},
   "outputs": [],
   "source": [
    "# convert lat-long to floats and change address from ALL CAPS to regular capitalization\n",
    "JNorth_Larva_First_Site_2011_10_df['latitude'] = JNorth_Larva_First_Site_2011_10_df['latitude'].astype(float)\n",
    "JNorth_Larva_First_Site_2011_10_df['longitude'] = JNorth_Larva_First_Site_2011_10_df['longitude'].astype(float)\n",
    "# JNorth_Milkweed_Site_df['street_address'] = JNorth_Milkweed_Site_df['street_address'].str.title()"
   ]
  },
  {
   "cell_type": "code",
   "execution_count": 85,
   "id": "712beae1",
   "metadata": {},
   "outputs": [],
   "source": [
    "geojson = df_to_geojson(JNorth_Larva_First_Site_2011_10_df, cols)"
   ]
  },
  {
   "cell_type": "code",
   "execution_count": 86,
   "id": "808cb382",
   "metadata": {},
   "outputs": [],
   "source": [
    "file = open(\"JNorth_Larva_First_Site_2011_10.geojson\", \"w\")\n",
    "json.dump(geojson, file, indent =1)\n",
    "file.close()"
   ]
  },
  {
   "cell_type": "markdown",
   "id": "196b7f94",
   "metadata": {},
   "source": [
    "## November"
   ]
  },
  {
   "cell_type": "code",
   "execution_count": 87,
   "id": "8ddf9ecb",
   "metadata": {},
   "outputs": [
    {
     "data": {
      "text/html": [
       "<div>\n",
       "<style scoped>\n",
       "    .dataframe tbody tr th:only-of-type {\n",
       "        vertical-align: middle;\n",
       "    }\n",
       "\n",
       "    .dataframe tbody tr th {\n",
       "        vertical-align: top;\n",
       "    }\n",
       "\n",
       "    .dataframe thead th {\n",
       "        text-align: right;\n",
       "    }\n",
       "</style>\n",
       "<table border=\"1\" class=\"dataframe\">\n",
       "  <thead>\n",
       "    <tr style=\"text-align: right;\">\n",
       "      <th></th>\n",
       "      <th>sighting_date</th>\n",
       "      <th>species</th>\n",
       "      <th>latitude</th>\n",
       "      <th>longitude</th>\n",
       "      <th>number</th>\n",
       "      <th>month</th>\n",
       "    </tr>\n",
       "  </thead>\n",
       "  <tbody>\n",
       "  </tbody>\n",
       "</table>\n",
       "</div>"
      ],
      "text/plain": [
       "Empty DataFrame\n",
       "Columns: [sighting_date, species, latitude, longitude, number, month]\n",
       "Index: []"
      ]
     },
     "execution_count": 87,
     "metadata": {},
     "output_type": "execute_result"
    }
   ],
   "source": [
    "JNorth_Larva_First_Site_2011_month_df =pd.DataFrame(JNorth_Larva_First_Site_2011_df)\n",
    "JNorth_Larva_First_Site_2011_11_df = JNorth_Larva_First_Site_2011_month_df[JNorth_Larva_First_Site_2011_month_df['month']==11]\n",
    "JNorth_Larva_First_Site_2011_11_df.tail()"
   ]
  },
  {
   "cell_type": "code",
   "execution_count": 88,
   "id": "ad68049a",
   "metadata": {},
   "outputs": [
    {
     "data": {
      "text/plain": [
       "(0, 6)"
      ]
     },
     "execution_count": 88,
     "metadata": {},
     "output_type": "execute_result"
    }
   ],
   "source": [
    "JNorth_Larva_First_Site_2011_11_df.shape"
   ]
  },
  {
   "cell_type": "code",
   "execution_count": 89,
   "id": "b4c89154",
   "metadata": {},
   "outputs": [],
   "source": [
    "JNorth_Larva_First_Site_2011_11_df = pd.DataFrame(JNorth_Larva_First_Site_2011_11_df)\n",
    "JNorth_Larva_First_Site_2011_11_df.drop(['month'], axis=1, inplace=True)"
   ]
  },
  {
   "cell_type": "code",
   "execution_count": 90,
   "id": "d58b4c8b",
   "metadata": {},
   "outputs": [],
   "source": [
    "# convert lat-long to floats and change address from ALL CAPS to regular capitalization\n",
    "JNorth_Larva_First_Site_2011_11_df['latitude'] = JNorth_Larva_First_Site_2011_11_df['latitude'].astype(float)\n",
    "JNorth_Larva_First_Site_2011_11_df['longitude'] = JNorth_Larva_First_Site_2011_11_df['longitude'].astype(float)\n",
    "# JNorth_Milkweed_Site_df['street_address'] = JNorth_Milkweed_Site_df['street_address'].str.title()"
   ]
  },
  {
   "cell_type": "code",
   "execution_count": 91,
   "id": "f699d4b6",
   "metadata": {},
   "outputs": [],
   "source": [
    "geojson = df_to_geojson(JNorth_Larva_First_Site_2011_11_df, cols)"
   ]
  },
  {
   "cell_type": "code",
   "execution_count": 92,
   "id": "834ec4dc",
   "metadata": {},
   "outputs": [],
   "source": [
    "file = open(\"JNorth_Larva_First_Site_2011_11.geojson\", \"w\")\n",
    "json.dump(geojson, file, indent =1)\n",
    "file.close()"
   ]
  },
  {
   "cell_type": "markdown",
   "id": "40c71593",
   "metadata": {},
   "source": [
    "## December"
   ]
  },
  {
   "cell_type": "code",
   "execution_count": 93,
   "id": "6b4b81a1",
   "metadata": {},
   "outputs": [
    {
     "data": {
      "text/html": [
       "<div>\n",
       "<style scoped>\n",
       "    .dataframe tbody tr th:only-of-type {\n",
       "        vertical-align: middle;\n",
       "    }\n",
       "\n",
       "    .dataframe tbody tr th {\n",
       "        vertical-align: top;\n",
       "    }\n",
       "\n",
       "    .dataframe thead th {\n",
       "        text-align: right;\n",
       "    }\n",
       "</style>\n",
       "<table border=\"1\" class=\"dataframe\">\n",
       "  <thead>\n",
       "    <tr style=\"text-align: right;\">\n",
       "      <th></th>\n",
       "      <th>sighting_date</th>\n",
       "      <th>species</th>\n",
       "      <th>latitude</th>\n",
       "      <th>longitude</th>\n",
       "      <th>number</th>\n",
       "      <th>month</th>\n",
       "    </tr>\n",
       "  </thead>\n",
       "  <tbody>\n",
       "  </tbody>\n",
       "</table>\n",
       "</div>"
      ],
      "text/plain": [
       "Empty DataFrame\n",
       "Columns: [sighting_date, species, latitude, longitude, number, month]\n",
       "Index: []"
      ]
     },
     "execution_count": 93,
     "metadata": {},
     "output_type": "execute_result"
    }
   ],
   "source": [
    "JNorth_Larva_First_Site_2011_month_df =pd.DataFrame(JNorth_Larva_First_Site_2011_df)\n",
    "JNorth_Larva_First_Site_2011_12_df = JNorth_Larva_First_Site_2011_month_df[JNorth_Larva_First_Site_2011_month_df['month']==12]\n",
    "JNorth_Larva_First_Site_2011_12_df.tail()"
   ]
  },
  {
   "cell_type": "code",
   "execution_count": 94,
   "id": "c4df5f44",
   "metadata": {},
   "outputs": [
    {
     "data": {
      "text/plain": [
       "(0, 6)"
      ]
     },
     "execution_count": 94,
     "metadata": {},
     "output_type": "execute_result"
    }
   ],
   "source": [
    "JNorth_Larva_First_Site_2011_12_df.shape"
   ]
  },
  {
   "cell_type": "code",
   "execution_count": 95,
   "id": "d6ae0a6a",
   "metadata": {},
   "outputs": [],
   "source": [
    "JNorth_Larva_First_Site_2011_12_df = pd.DataFrame(JNorth_Larva_First_Site_2011_12_df)\n",
    "JNorth_Larva_First_Site_2011_12_df.drop(['month'], axis=1, inplace=True)"
   ]
  },
  {
   "cell_type": "code",
   "execution_count": 96,
   "id": "d4152a7f",
   "metadata": {},
   "outputs": [],
   "source": [
    "# convert lat-long to floats and change address from ALL CAPS to regular capitalization\n",
    "JNorth_Larva_First_Site_2011_12_df['latitude'] = JNorth_Larva_First_Site_2011_12_df['latitude'].astype(float)\n",
    "JNorth_Larva_First_Site_2011_12_df['longitude'] = JNorth_Larva_First_Site_2011_12_df['longitude'].astype(float)\n",
    "# JNorth_Milkweed_Site_df['street_address'] = JNorth_Milkweed_Site_df['street_address'].str.title()"
   ]
  },
  {
   "cell_type": "code",
   "execution_count": 97,
   "id": "dd3a5d1f",
   "metadata": {},
   "outputs": [],
   "source": [
    "geojson = df_to_geojson(JNorth_Larva_First_Site_2011_12_df, cols)"
   ]
  },
  {
   "cell_type": "code",
   "execution_count": 98,
   "id": "028f834c",
   "metadata": {},
   "outputs": [],
   "source": [
    "file = open(\"JNorth_Larva_First_Site_2011_12.geojson\", \"w\")\n",
    "json.dump(geojson, file, indent =1)\n",
    "file.close()"
   ]
  },
  {
   "cell_type": "markdown",
   "id": "64ab3e2c",
   "metadata": {},
   "source": [
    "# 2012"
   ]
  },
  {
   "cell_type": "code",
   "execution_count": 99,
   "id": "66b4ab28",
   "metadata": {},
   "outputs": [
    {
     "data": {
      "text/html": [
       "<div>\n",
       "<style scoped>\n",
       "    .dataframe tbody tr th:only-of-type {\n",
       "        vertical-align: middle;\n",
       "    }\n",
       "\n",
       "    .dataframe tbody tr th {\n",
       "        vertical-align: top;\n",
       "    }\n",
       "\n",
       "    .dataframe thead th {\n",
       "        text-align: right;\n",
       "    }\n",
       "</style>\n",
       "<table border=\"1\" class=\"dataframe\">\n",
       "  <thead>\n",
       "    <tr style=\"text-align: right;\">\n",
       "      <th></th>\n",
       "      <th>sighting_date</th>\n",
       "      <th>species</th>\n",
       "      <th>latitude</th>\n",
       "      <th>longitude</th>\n",
       "      <th>number</th>\n",
       "      <th>year</th>\n",
       "    </tr>\n",
       "  </thead>\n",
       "  <tbody>\n",
       "    <tr>\n",
       "      <th>1181</th>\n",
       "      <td>2012-07-28</td>\n",
       "      <td>Monarch Larva (FIRST sighted)</td>\n",
       "      <td>40.215</td>\n",
       "      <td>-74.081</td>\n",
       "      <td>1</td>\n",
       "      <td>2012</td>\n",
       "    </tr>\n",
       "    <tr>\n",
       "      <th>1182</th>\n",
       "      <td>2012-07-29</td>\n",
       "      <td>Monarch Larva (FIRST sighted)</td>\n",
       "      <td>39.951</td>\n",
       "      <td>-104.764</td>\n",
       "      <td>1</td>\n",
       "      <td>2012</td>\n",
       "    </tr>\n",
       "    <tr>\n",
       "      <th>1183</th>\n",
       "      <td>2012-07-29</td>\n",
       "      <td>Monarch Larva (FIRST sighted)</td>\n",
       "      <td>42.830</td>\n",
       "      <td>-77.724</td>\n",
       "      <td>1</td>\n",
       "      <td>2012</td>\n",
       "    </tr>\n",
       "    <tr>\n",
       "      <th>1184</th>\n",
       "      <td>2012-07-31</td>\n",
       "      <td>Monarch Larva (FIRST sighted)</td>\n",
       "      <td>33.398</td>\n",
       "      <td>-117.554</td>\n",
       "      <td>1</td>\n",
       "      <td>2012</td>\n",
       "    </tr>\n",
       "    <tr>\n",
       "      <th>1185</th>\n",
       "      <td>2012-08-15</td>\n",
       "      <td>Monarch Larva (FIRST sighted)</td>\n",
       "      <td>44.667</td>\n",
       "      <td>-63.567</td>\n",
       "      <td>1</td>\n",
       "      <td>2012</td>\n",
       "    </tr>\n",
       "  </tbody>\n",
       "</table>\n",
       "</div>"
      ],
      "text/plain": [
       "     sighting_date                        species  latitude  longitude  \\\n",
       "1181    2012-07-28  Monarch Larva (FIRST sighted)    40.215    -74.081   \n",
       "1182    2012-07-29  Monarch Larva (FIRST sighted)    39.951   -104.764   \n",
       "1183    2012-07-29  Monarch Larva (FIRST sighted)    42.830    -77.724   \n",
       "1184    2012-07-31  Monarch Larva (FIRST sighted)    33.398   -117.554   \n",
       "1185    2012-08-15  Monarch Larva (FIRST sighted)    44.667    -63.567   \n",
       "\n",
       "      number  year  \n",
       "1181       1  2012  \n",
       "1182       1  2012  \n",
       "1183       1  2012  \n",
       "1184       1  2012  \n",
       "1185       1  2012  "
      ]
     },
     "execution_count": 99,
     "metadata": {},
     "output_type": "execute_result"
    }
   ],
   "source": [
    "JNorth_Larva_First_Site_2012_df = JNorth_Larva_First_Site_year_df[JNorth_Larva_First_Site_year_df['year']==2012]\n",
    "JNorth_Larva_First_Site_2012_df.tail()"
   ]
  },
  {
   "cell_type": "code",
   "execution_count": 100,
   "id": "27387600",
   "metadata": {},
   "outputs": [
    {
     "data": {
      "text/plain": [
       "(192, 6)"
      ]
     },
     "execution_count": 100,
     "metadata": {},
     "output_type": "execute_result"
    }
   ],
   "source": [
    "JNorth_Larva_First_Site_2012_df.shape"
   ]
  },
  {
   "cell_type": "code",
   "execution_count": 101,
   "id": "39c22eab",
   "metadata": {},
   "outputs": [],
   "source": [
    "JNorth_Larva_First_Site_2012_df = pd.DataFrame(JNorth_Larva_First_Site_2012_df)\n",
    "JNorth_Larva_First_Site_2012_df.drop(['year'], axis=1, inplace=True)"
   ]
  },
  {
   "cell_type": "code",
   "execution_count": 102,
   "id": "02af16d1",
   "metadata": {},
   "outputs": [
    {
     "data": {
      "text/plain": [
       "<bound method NDFrame.tail of      sighting_date                        species  latitude  longitude  number\n",
       "994     2012-01-02  Monarch Larva (FIRST sighted)    29.333    -95.764       1\n",
       "995     2012-01-10  Monarch Larva (FIRST sighted)    30.158    -95.489       1\n",
       "996     2012-01-15  Monarch Larva (FIRST sighted)    29.757    -95.365       1\n",
       "997     2012-01-15  Monarch Larva (FIRST sighted)    33.976   -117.339       1\n",
       "998     2012-01-18  Monarch Larva (FIRST sighted)    30.177    -85.806       1\n",
       "...            ...                            ...       ...        ...     ...\n",
       "1181    2012-07-28  Monarch Larva (FIRST sighted)    40.215    -74.081       1\n",
       "1182    2012-07-29  Monarch Larva (FIRST sighted)    39.951   -104.764       1\n",
       "1183    2012-07-29  Monarch Larva (FIRST sighted)    42.830    -77.724       1\n",
       "1184    2012-07-31  Monarch Larva (FIRST sighted)    33.398   -117.554       1\n",
       "1185    2012-08-15  Monarch Larva (FIRST sighted)    44.667    -63.567       1\n",
       "\n",
       "[192 rows x 5 columns]>"
      ]
     },
     "execution_count": 102,
     "metadata": {},
     "output_type": "execute_result"
    }
   ],
   "source": [
    "JNorth_Larva_First_Site_2012_df.tail"
   ]
  },
  {
   "cell_type": "code",
   "execution_count": 103,
   "id": "0638da02",
   "metadata": {},
   "outputs": [],
   "source": [
    "JNorth_Larva_First_Site_2012_df['month'] = pd.DatetimeIndex(JNorth_Larva_First_Site_2012_df['sighting_date']).month"
   ]
  },
  {
   "cell_type": "markdown",
   "id": "44e36e34",
   "metadata": {},
   "source": [
    "## January"
   ]
  },
  {
   "cell_type": "code",
   "execution_count": 104,
   "id": "9086a832",
   "metadata": {},
   "outputs": [
    {
     "data": {
      "text/html": [
       "<div>\n",
       "<style scoped>\n",
       "    .dataframe tbody tr th:only-of-type {\n",
       "        vertical-align: middle;\n",
       "    }\n",
       "\n",
       "    .dataframe tbody tr th {\n",
       "        vertical-align: top;\n",
       "    }\n",
       "\n",
       "    .dataframe thead th {\n",
       "        text-align: right;\n",
       "    }\n",
       "</style>\n",
       "<table border=\"1\" class=\"dataframe\">\n",
       "  <thead>\n",
       "    <tr style=\"text-align: right;\">\n",
       "      <th></th>\n",
       "      <th>sighting_date</th>\n",
       "      <th>species</th>\n",
       "      <th>latitude</th>\n",
       "      <th>longitude</th>\n",
       "      <th>number</th>\n",
       "      <th>month</th>\n",
       "    </tr>\n",
       "  </thead>\n",
       "  <tbody>\n",
       "    <tr>\n",
       "      <th>997</th>\n",
       "      <td>2012-01-15</td>\n",
       "      <td>Monarch Larva (FIRST sighted)</td>\n",
       "      <td>33.976</td>\n",
       "      <td>-117.339</td>\n",
       "      <td>1</td>\n",
       "      <td>1</td>\n",
       "    </tr>\n",
       "    <tr>\n",
       "      <th>998</th>\n",
       "      <td>2012-01-18</td>\n",
       "      <td>Monarch Larva (FIRST sighted)</td>\n",
       "      <td>30.177</td>\n",
       "      <td>-85.806</td>\n",
       "      <td>1</td>\n",
       "      <td>1</td>\n",
       "    </tr>\n",
       "    <tr>\n",
       "      <th>999</th>\n",
       "      <td>2012-01-19</td>\n",
       "      <td>Monarch Larva (FIRST sighted)</td>\n",
       "      <td>30.406</td>\n",
       "      <td>-86.619</td>\n",
       "      <td>1</td>\n",
       "      <td>1</td>\n",
       "    </tr>\n",
       "    <tr>\n",
       "      <th>1000</th>\n",
       "      <td>2012-01-20</td>\n",
       "      <td>Monarch Larva (FIRST sighted)</td>\n",
       "      <td>29.469</td>\n",
       "      <td>-98.528</td>\n",
       "      <td>1</td>\n",
       "      <td>1</td>\n",
       "    </tr>\n",
       "    <tr>\n",
       "      <th>1001</th>\n",
       "      <td>2012-01-25</td>\n",
       "      <td>Monarch Larva (FIRST sighted)</td>\n",
       "      <td>29.556</td>\n",
       "      <td>-95.726</td>\n",
       "      <td>1</td>\n",
       "      <td>1</td>\n",
       "    </tr>\n",
       "  </tbody>\n",
       "</table>\n",
       "</div>"
      ],
      "text/plain": [
       "     sighting_date                        species  latitude  longitude  \\\n",
       "997     2012-01-15  Monarch Larva (FIRST sighted)    33.976   -117.339   \n",
       "998     2012-01-18  Monarch Larva (FIRST sighted)    30.177    -85.806   \n",
       "999     2012-01-19  Monarch Larva (FIRST sighted)    30.406    -86.619   \n",
       "1000    2012-01-20  Monarch Larva (FIRST sighted)    29.469    -98.528   \n",
       "1001    2012-01-25  Monarch Larva (FIRST sighted)    29.556    -95.726   \n",
       "\n",
       "      number  month  \n",
       "997        1      1  \n",
       "998        1      1  \n",
       "999        1      1  \n",
       "1000       1      1  \n",
       "1001       1      1  "
      ]
     },
     "execution_count": 104,
     "metadata": {},
     "output_type": "execute_result"
    }
   ],
   "source": [
    "JNorth_Larva_First_Site_2012_month_df =pd.DataFrame(JNorth_Larva_First_Site_2012_df)\n",
    "JNorth_Larva_First_Site_2012_1_df = JNorth_Larva_First_Site_2012_month_df[JNorth_Larva_First_Site_2012_month_df['month']==1]\n",
    "JNorth_Larva_First_Site_2012_1_df.tail()"
   ]
  },
  {
   "cell_type": "code",
   "execution_count": 105,
   "id": "9e27c140",
   "metadata": {},
   "outputs": [
    {
     "data": {
      "text/plain": [
       "(8, 6)"
      ]
     },
     "execution_count": 105,
     "metadata": {},
     "output_type": "execute_result"
    }
   ],
   "source": [
    "JNorth_Larva_First_Site_2012_1_df.shape"
   ]
  },
  {
   "cell_type": "code",
   "execution_count": 106,
   "id": "b53fb638",
   "metadata": {},
   "outputs": [],
   "source": [
    "JNorth_Larva_First_Site_2012_1_df = pd.DataFrame(JNorth_Larva_First_Site_2012_1_df)\n",
    "JNorth_Larva_First_Site_2012_1_df.drop(['month'], axis=1, inplace=True)"
   ]
  },
  {
   "cell_type": "code",
   "execution_count": 107,
   "id": "314d9a0e",
   "metadata": {},
   "outputs": [],
   "source": [
    "# convert lat-long to floats and change address from ALL CAPS to regular capitalization\n",
    "JNorth_Larva_First_Site_2012_1_df['latitude'] = JNorth_Larva_First_Site_2012_1_df['latitude'].astype(float)\n",
    "JNorth_Larva_First_Site_2012_1_df['longitude'] = JNorth_Larva_First_Site_2012_1_df['longitude'].astype(float)\n",
    "# JNorth_Milkweed_Site_df['street_address'] = JNorth_Milkweed_Site_df['street_address'].str.title()"
   ]
  },
  {
   "cell_type": "code",
   "execution_count": 108,
   "id": "cf406e10",
   "metadata": {},
   "outputs": [],
   "source": [
    "geojson = df_to_geojson(JNorth_Larva_First_Site_2012_1_df, cols)"
   ]
  },
  {
   "cell_type": "code",
   "execution_count": 109,
   "id": "cf076629",
   "metadata": {},
   "outputs": [],
   "source": [
    "file = open(\"JNorth_Larva_First_Site_2012_1.geojson\", \"w\")\n",
    "json.dump(geojson, file, indent =1)\n",
    "file.close()"
   ]
  },
  {
   "cell_type": "markdown",
   "id": "f3c4b9a4",
   "metadata": {},
   "source": [
    "## February"
   ]
  },
  {
   "cell_type": "code",
   "execution_count": 110,
   "id": "89e4afd6",
   "metadata": {},
   "outputs": [
    {
     "data": {
      "text/html": [
       "<div>\n",
       "<style scoped>\n",
       "    .dataframe tbody tr th:only-of-type {\n",
       "        vertical-align: middle;\n",
       "    }\n",
       "\n",
       "    .dataframe tbody tr th {\n",
       "        vertical-align: top;\n",
       "    }\n",
       "\n",
       "    .dataframe thead th {\n",
       "        text-align: right;\n",
       "    }\n",
       "</style>\n",
       "<table border=\"1\" class=\"dataframe\">\n",
       "  <thead>\n",
       "    <tr style=\"text-align: right;\">\n",
       "      <th></th>\n",
       "      <th>sighting_date</th>\n",
       "      <th>species</th>\n",
       "      <th>latitude</th>\n",
       "      <th>longitude</th>\n",
       "      <th>number</th>\n",
       "      <th>month</th>\n",
       "    </tr>\n",
       "  </thead>\n",
       "  <tbody>\n",
       "    <tr>\n",
       "      <th>1007</th>\n",
       "      <td>2012-02-22</td>\n",
       "      <td>Monarch Larva (FIRST sighted)</td>\n",
       "      <td>30.047</td>\n",
       "      <td>-95.214</td>\n",
       "      <td>1</td>\n",
       "      <td>2</td>\n",
       "    </tr>\n",
       "    <tr>\n",
       "      <th>1008</th>\n",
       "      <td>2012-02-23</td>\n",
       "      <td>Monarch Larva (FIRST sighted)</td>\n",
       "      <td>26.125</td>\n",
       "      <td>-81.792</td>\n",
       "      <td>1</td>\n",
       "      <td>2</td>\n",
       "    </tr>\n",
       "    <tr>\n",
       "      <th>1009</th>\n",
       "      <td>2012-02-27</td>\n",
       "      <td>Monarch Larva (FIRST sighted)</td>\n",
       "      <td>29.635</td>\n",
       "      <td>-95.635</td>\n",
       "      <td>1</td>\n",
       "      <td>2</td>\n",
       "    </tr>\n",
       "    <tr>\n",
       "      <th>1010</th>\n",
       "      <td>2012-02-27</td>\n",
       "      <td>Monarch Larva (FIRST sighted)</td>\n",
       "      <td>29.757</td>\n",
       "      <td>-95.365</td>\n",
       "      <td>1</td>\n",
       "      <td>2</td>\n",
       "    </tr>\n",
       "    <tr>\n",
       "      <th>1011</th>\n",
       "      <td>2012-02-29</td>\n",
       "      <td>Monarch Larva (FIRST sighted)</td>\n",
       "      <td>29.757</td>\n",
       "      <td>-95.365</td>\n",
       "      <td>1</td>\n",
       "      <td>2</td>\n",
       "    </tr>\n",
       "  </tbody>\n",
       "</table>\n",
       "</div>"
      ],
      "text/plain": [
       "     sighting_date                        species  latitude  longitude  \\\n",
       "1007    2012-02-22  Monarch Larva (FIRST sighted)    30.047    -95.214   \n",
       "1008    2012-02-23  Monarch Larva (FIRST sighted)    26.125    -81.792   \n",
       "1009    2012-02-27  Monarch Larva (FIRST sighted)    29.635    -95.635   \n",
       "1010    2012-02-27  Monarch Larva (FIRST sighted)    29.757    -95.365   \n",
       "1011    2012-02-29  Monarch Larva (FIRST sighted)    29.757    -95.365   \n",
       "\n",
       "      number  month  \n",
       "1007       1      2  \n",
       "1008       1      2  \n",
       "1009       1      2  \n",
       "1010       1      2  \n",
       "1011       1      2  "
      ]
     },
     "execution_count": 110,
     "metadata": {},
     "output_type": "execute_result"
    }
   ],
   "source": [
    "JNorth_Larva_First_Site_2012_month_df =pd.DataFrame(JNorth_Larva_First_Site_2012_df)\n",
    "JNorth_Larva_First_Site_2012_2_df = JNorth_Larva_First_Site_2012_month_df[JNorth_Larva_First_Site_2012_month_df['month']==2]\n",
    "JNorth_Larva_First_Site_2012_2_df.tail()"
   ]
  },
  {
   "cell_type": "code",
   "execution_count": 111,
   "id": "0e6eeb72",
   "metadata": {},
   "outputs": [
    {
     "data": {
      "text/plain": [
       "(10, 6)"
      ]
     },
     "execution_count": 111,
     "metadata": {},
     "output_type": "execute_result"
    }
   ],
   "source": [
    "JNorth_Larva_First_Site_2012_2_df.shape"
   ]
  },
  {
   "cell_type": "code",
   "execution_count": 112,
   "id": "de099469",
   "metadata": {},
   "outputs": [],
   "source": [
    "JNorth_Larva_First_Site_2012_2_df = pd.DataFrame(JNorth_Larva_First_Site_2012_2_df)\n",
    "JNorth_Larva_First_Site_2012_2_df.drop(['month'], axis=1, inplace=True)"
   ]
  },
  {
   "cell_type": "code",
   "execution_count": 113,
   "id": "a94edae4",
   "metadata": {},
   "outputs": [],
   "source": [
    "# convert lat-long to floats and change address from ALL CAPS to regular capitalization\n",
    "JNorth_Larva_First_Site_2012_2_df['latitude'] = JNorth_Larva_First_Site_2012_2_df['latitude'].astype(float)\n",
    "JNorth_Larva_First_Site_2012_2_df['longitude'] = JNorth_Larva_First_Site_2012_2_df['longitude'].astype(float)\n",
    "# JNorth_Milkweed_Site_df['street_address'] = JNorth_Milkweed_Site_df['street_address'].str.title()"
   ]
  },
  {
   "cell_type": "code",
   "execution_count": 114,
   "id": "3a7a03f0",
   "metadata": {},
   "outputs": [],
   "source": [
    "geojson = df_to_geojson(JNorth_Larva_First_Site_2012_2_df, cols)"
   ]
  },
  {
   "cell_type": "code",
   "execution_count": 115,
   "id": "f5e3b20b",
   "metadata": {},
   "outputs": [],
   "source": [
    "file = open(\"JNorth_Larva_First_Site_2012_2.geojson\", \"w\")\n",
    "json.dump(geojson, file, indent =1)\n",
    "file.close()"
   ]
  },
  {
   "cell_type": "markdown",
   "id": "7e14e69d",
   "metadata": {},
   "source": [
    "## March"
   ]
  },
  {
   "cell_type": "code",
   "execution_count": 116,
   "id": "81e1f20b",
   "metadata": {},
   "outputs": [
    {
     "data": {
      "text/html": [
       "<div>\n",
       "<style scoped>\n",
       "    .dataframe tbody tr th:only-of-type {\n",
       "        vertical-align: middle;\n",
       "    }\n",
       "\n",
       "    .dataframe tbody tr th {\n",
       "        vertical-align: top;\n",
       "    }\n",
       "\n",
       "    .dataframe thead th {\n",
       "        text-align: right;\n",
       "    }\n",
       "</style>\n",
       "<table border=\"1\" class=\"dataframe\">\n",
       "  <thead>\n",
       "    <tr style=\"text-align: right;\">\n",
       "      <th></th>\n",
       "      <th>sighting_date</th>\n",
       "      <th>species</th>\n",
       "      <th>latitude</th>\n",
       "      <th>longitude</th>\n",
       "      <th>number</th>\n",
       "      <th>month</th>\n",
       "    </tr>\n",
       "  </thead>\n",
       "  <tbody>\n",
       "    <tr>\n",
       "      <th>1053</th>\n",
       "      <td>2012-03-29</td>\n",
       "      <td>Monarch Larva (FIRST sighted)</td>\n",
       "      <td>35.914</td>\n",
       "      <td>-98.023</td>\n",
       "      <td>1</td>\n",
       "      <td>3</td>\n",
       "    </tr>\n",
       "    <tr>\n",
       "      <th>1054</th>\n",
       "      <td>2012-03-30</td>\n",
       "      <td>Monarch Larva (FIRST sighted)</td>\n",
       "      <td>29.469</td>\n",
       "      <td>-98.528</td>\n",
       "      <td>1</td>\n",
       "      <td>3</td>\n",
       "    </tr>\n",
       "    <tr>\n",
       "      <th>1055</th>\n",
       "      <td>2012-03-30</td>\n",
       "      <td>Monarch Larva (FIRST sighted)</td>\n",
       "      <td>35.914</td>\n",
       "      <td>-98.023</td>\n",
       "      <td>1</td>\n",
       "      <td>3</td>\n",
       "    </tr>\n",
       "    <tr>\n",
       "      <th>1056</th>\n",
       "      <td>2012-03-31</td>\n",
       "      <td>Monarch Larva (FIRST sighted)</td>\n",
       "      <td>30.230</td>\n",
       "      <td>-97.714</td>\n",
       "      <td>2</td>\n",
       "      <td>3</td>\n",
       "    </tr>\n",
       "    <tr>\n",
       "      <th>1057</th>\n",
       "      <td>2012-03-31</td>\n",
       "      <td>Monarch Larva (FIRST sighted)</td>\n",
       "      <td>30.449</td>\n",
       "      <td>-95.489</td>\n",
       "      <td>1</td>\n",
       "      <td>3</td>\n",
       "    </tr>\n",
       "  </tbody>\n",
       "</table>\n",
       "</div>"
      ],
      "text/plain": [
       "     sighting_date                        species  latitude  longitude  \\\n",
       "1053    2012-03-29  Monarch Larva (FIRST sighted)    35.914    -98.023   \n",
       "1054    2012-03-30  Monarch Larva (FIRST sighted)    29.469    -98.528   \n",
       "1055    2012-03-30  Monarch Larva (FIRST sighted)    35.914    -98.023   \n",
       "1056    2012-03-31  Monarch Larva (FIRST sighted)    30.230    -97.714   \n",
       "1057    2012-03-31  Monarch Larva (FIRST sighted)    30.449    -95.489   \n",
       "\n",
       "      number  month  \n",
       "1053       1      3  \n",
       "1054       1      3  \n",
       "1055       1      3  \n",
       "1056       2      3  \n",
       "1057       1      3  "
      ]
     },
     "execution_count": 116,
     "metadata": {},
     "output_type": "execute_result"
    }
   ],
   "source": [
    "JNorth_Larva_First_Site_2012_month_df =pd.DataFrame(JNorth_Larva_First_Site_2012_df)\n",
    "JNorth_Larva_First_Site_2012_3_df = JNorth_Larva_First_Site_2012_month_df[JNorth_Larva_First_Site_2012_month_df['month']==3]\n",
    "JNorth_Larva_First_Site_2012_3_df.tail()"
   ]
  },
  {
   "cell_type": "code",
   "execution_count": 117,
   "id": "77640de4",
   "metadata": {},
   "outputs": [
    {
     "data": {
      "text/plain": [
       "(46, 6)"
      ]
     },
     "execution_count": 117,
     "metadata": {},
     "output_type": "execute_result"
    }
   ],
   "source": [
    "JNorth_Larva_First_Site_2012_3_df.shape"
   ]
  },
  {
   "cell_type": "code",
   "execution_count": 118,
   "id": "457cb4d6",
   "metadata": {},
   "outputs": [],
   "source": [
    "JNorth_Larva_First_Site_2012_3_df = pd.DataFrame(JNorth_Larva_First_Site_2012_3_df)\n",
    "JNorth_Larva_First_Site_2012_3_df.drop(['month'], axis=1, inplace=True)"
   ]
  },
  {
   "cell_type": "code",
   "execution_count": 119,
   "id": "86206cff",
   "metadata": {},
   "outputs": [],
   "source": [
    "# convert lat-long to floats and change address from ALL CAPS to regular capitalization\n",
    "JNorth_Larva_First_Site_2012_3_df['latitude'] = JNorth_Larva_First_Site_2012_3_df['latitude'].astype(float)\n",
    "JNorth_Larva_First_Site_2012_3_df['longitude'] = JNorth_Larva_First_Site_2012_3_df['longitude'].astype(float)\n",
    "# JNorth_Milkweed_Site_df['street_address'] = JNorth_Milkweed_Site_df['street_address'].str.title()"
   ]
  },
  {
   "cell_type": "code",
   "execution_count": 120,
   "id": "b22c5380",
   "metadata": {},
   "outputs": [],
   "source": [
    "geojson = df_to_geojson(JNorth_Larva_First_Site_2012_3_df, cols)"
   ]
  },
  {
   "cell_type": "code",
   "execution_count": 121,
   "id": "17df86d3",
   "metadata": {},
   "outputs": [],
   "source": [
    "file = open(\"JNorth_Larva_First_Site_2012_3.geojson\", \"w\")\n",
    "json.dump(geojson, file, indent =1)\n",
    "file.close()"
   ]
  },
  {
   "cell_type": "markdown",
   "id": "4a4cedaa",
   "metadata": {},
   "source": [
    "## April"
   ]
  },
  {
   "cell_type": "code",
   "execution_count": 122,
   "id": "73accd48",
   "metadata": {},
   "outputs": [
    {
     "data": {
      "text/html": [
       "<div>\n",
       "<style scoped>\n",
       "    .dataframe tbody tr th:only-of-type {\n",
       "        vertical-align: middle;\n",
       "    }\n",
       "\n",
       "    .dataframe tbody tr th {\n",
       "        vertical-align: top;\n",
       "    }\n",
       "\n",
       "    .dataframe thead th {\n",
       "        text-align: right;\n",
       "    }\n",
       "</style>\n",
       "<table border=\"1\" class=\"dataframe\">\n",
       "  <thead>\n",
       "    <tr style=\"text-align: right;\">\n",
       "      <th></th>\n",
       "      <th>sighting_date</th>\n",
       "      <th>species</th>\n",
       "      <th>latitude</th>\n",
       "      <th>longitude</th>\n",
       "      <th>number</th>\n",
       "      <th>month</th>\n",
       "    </tr>\n",
       "  </thead>\n",
       "  <tbody>\n",
       "    <tr>\n",
       "      <th>1089</th>\n",
       "      <td>2012-04-24</td>\n",
       "      <td>Monarch Larva (FIRST sighted)</td>\n",
       "      <td>38.027</td>\n",
       "      <td>-98.087</td>\n",
       "      <td>1</td>\n",
       "      <td>4</td>\n",
       "    </tr>\n",
       "    <tr>\n",
       "      <th>1090</th>\n",
       "      <td>2012-04-24</td>\n",
       "      <td>Monarch Larva (FIRST sighted)</td>\n",
       "      <td>38.221</td>\n",
       "      <td>-122.788</td>\n",
       "      <td>1</td>\n",
       "      <td>4</td>\n",
       "    </tr>\n",
       "    <tr>\n",
       "      <th>1091</th>\n",
       "      <td>2012-04-25</td>\n",
       "      <td>Monarch Larva (FIRST sighted)</td>\n",
       "      <td>33.560</td>\n",
       "      <td>-117.548</td>\n",
       "      <td>1</td>\n",
       "      <td>4</td>\n",
       "    </tr>\n",
       "    <tr>\n",
       "      <th>1092</th>\n",
       "      <td>2012-04-25</td>\n",
       "      <td>Monarch Larva (FIRST sighted)</td>\n",
       "      <td>37.215</td>\n",
       "      <td>-93.295</td>\n",
       "      <td>1</td>\n",
       "      <td>4</td>\n",
       "    </tr>\n",
       "    <tr>\n",
       "      <th>1093</th>\n",
       "      <td>2012-04-28</td>\n",
       "      <td>Monarch Larva (FIRST sighted)</td>\n",
       "      <td>41.881</td>\n",
       "      <td>-90.299</td>\n",
       "      <td>1</td>\n",
       "      <td>4</td>\n",
       "    </tr>\n",
       "  </tbody>\n",
       "</table>\n",
       "</div>"
      ],
      "text/plain": [
       "     sighting_date                        species  latitude  longitude  \\\n",
       "1089    2012-04-24  Monarch Larva (FIRST sighted)    38.027    -98.087   \n",
       "1090    2012-04-24  Monarch Larva (FIRST sighted)    38.221   -122.788   \n",
       "1091    2012-04-25  Monarch Larva (FIRST sighted)    33.560   -117.548   \n",
       "1092    2012-04-25  Monarch Larva (FIRST sighted)    37.215    -93.295   \n",
       "1093    2012-04-28  Monarch Larva (FIRST sighted)    41.881    -90.299   \n",
       "\n",
       "      number  month  \n",
       "1089       1      4  \n",
       "1090       1      4  \n",
       "1091       1      4  \n",
       "1092       1      4  \n",
       "1093       1      4  "
      ]
     },
     "execution_count": 122,
     "metadata": {},
     "output_type": "execute_result"
    }
   ],
   "source": [
    "JNorth_Larva_First_Site_2012_month_df =pd.DataFrame(JNorth_Larva_First_Site_2012_df)\n",
    "JNorth_Larva_First_Site_2012_4_df = JNorth_Larva_First_Site_2012_month_df[JNorth_Larva_First_Site_2012_month_df['month']==4]\n",
    "JNorth_Larva_First_Site_2012_4_df.tail()"
   ]
  },
  {
   "cell_type": "code",
   "execution_count": 123,
   "id": "72615f10",
   "metadata": {},
   "outputs": [
    {
     "data": {
      "text/plain": [
       "(36, 6)"
      ]
     },
     "execution_count": 123,
     "metadata": {},
     "output_type": "execute_result"
    }
   ],
   "source": [
    "JNorth_Larva_First_Site_2012_4_df.shape"
   ]
  },
  {
   "cell_type": "code",
   "execution_count": 124,
   "id": "bffd7898",
   "metadata": {},
   "outputs": [],
   "source": [
    "JNorth_Larva_First_Site_2012_4_df = pd.DataFrame(JNorth_Larva_First_Site_2012_4_df)\n",
    "JNorth_Larva_First_Site_2012_4_df.drop(['month'], axis=1, inplace=True)"
   ]
  },
  {
   "cell_type": "code",
   "execution_count": 125,
   "id": "b3e14bfa",
   "metadata": {},
   "outputs": [],
   "source": [
    "# convert lat-long to floats and change address from ALL CAPS to regular capitalization\n",
    "JNorth_Larva_First_Site_2012_4_df['latitude'] = JNorth_Larva_First_Site_2012_4_df['latitude'].astype(float)\n",
    "JNorth_Larva_First_Site_2012_4_df['longitude'] = JNorth_Larva_First_Site_2012_4_df['longitude'].astype(float)\n",
    "# JNorth_Milkweed_Site_df['street_address'] = JNorth_Milkweed_Site_df['street_address'].str.title()"
   ]
  },
  {
   "cell_type": "code",
   "execution_count": 126,
   "id": "44604289",
   "metadata": {},
   "outputs": [],
   "source": [
    "geojson = df_to_geojson(JNorth_Larva_First_Site_2012_4_df, cols)"
   ]
  },
  {
   "cell_type": "code",
   "execution_count": 127,
   "id": "04f50b24",
   "metadata": {},
   "outputs": [],
   "source": [
    "file = open(\"JNorth_Larva_First_Site_2012_4.geojson\", \"w\")\n",
    "json.dump(geojson, file, indent =1)\n",
    "file.close()"
   ]
  },
  {
   "cell_type": "markdown",
   "id": "c4b4fad0",
   "metadata": {},
   "source": [
    "## May"
   ]
  },
  {
   "cell_type": "code",
   "execution_count": 128,
   "id": "6febcc70",
   "metadata": {},
   "outputs": [
    {
     "data": {
      "text/html": [
       "<div>\n",
       "<style scoped>\n",
       "    .dataframe tbody tr th:only-of-type {\n",
       "        vertical-align: middle;\n",
       "    }\n",
       "\n",
       "    .dataframe tbody tr th {\n",
       "        vertical-align: top;\n",
       "    }\n",
       "\n",
       "    .dataframe thead th {\n",
       "        text-align: right;\n",
       "    }\n",
       "</style>\n",
       "<table border=\"1\" class=\"dataframe\">\n",
       "  <thead>\n",
       "    <tr style=\"text-align: right;\">\n",
       "      <th></th>\n",
       "      <th>sighting_date</th>\n",
       "      <th>species</th>\n",
       "      <th>latitude</th>\n",
       "      <th>longitude</th>\n",
       "      <th>number</th>\n",
       "      <th>month</th>\n",
       "    </tr>\n",
       "  </thead>\n",
       "  <tbody>\n",
       "    <tr>\n",
       "      <th>1140</th>\n",
       "      <td>2012-05-28</td>\n",
       "      <td>Monarch Larva (FIRST sighted)</td>\n",
       "      <td>41.770</td>\n",
       "      <td>-78.146</td>\n",
       "      <td>1</td>\n",
       "      <td>5</td>\n",
       "    </tr>\n",
       "    <tr>\n",
       "      <th>1141</th>\n",
       "      <td>2012-05-28</td>\n",
       "      <td>Monarch Larva (FIRST sighted)</td>\n",
       "      <td>42.838</td>\n",
       "      <td>-91.441</td>\n",
       "      <td>1</td>\n",
       "      <td>5</td>\n",
       "    </tr>\n",
       "    <tr>\n",
       "      <th>1142</th>\n",
       "      <td>2012-05-28</td>\n",
       "      <td>Monarch Larva (FIRST sighted)</td>\n",
       "      <td>44.987</td>\n",
       "      <td>-81.254</td>\n",
       "      <td>1</td>\n",
       "      <td>5</td>\n",
       "    </tr>\n",
       "    <tr>\n",
       "      <th>1143</th>\n",
       "      <td>2012-05-29</td>\n",
       "      <td>Monarch Larva (FIRST sighted)</td>\n",
       "      <td>44.517</td>\n",
       "      <td>-80.017</td>\n",
       "      <td>1</td>\n",
       "      <td>5</td>\n",
       "    </tr>\n",
       "    <tr>\n",
       "      <th>1144</th>\n",
       "      <td>2012-05-31</td>\n",
       "      <td>Monarch Larva (FIRST sighted)</td>\n",
       "      <td>42.732</td>\n",
       "      <td>-82.988</td>\n",
       "      <td>1</td>\n",
       "      <td>5</td>\n",
       "    </tr>\n",
       "  </tbody>\n",
       "</table>\n",
       "</div>"
      ],
      "text/plain": [
       "     sighting_date                        species  latitude  longitude  \\\n",
       "1140    2012-05-28  Monarch Larva (FIRST sighted)    41.770    -78.146   \n",
       "1141    2012-05-28  Monarch Larva (FIRST sighted)    42.838    -91.441   \n",
       "1142    2012-05-28  Monarch Larva (FIRST sighted)    44.987    -81.254   \n",
       "1143    2012-05-29  Monarch Larva (FIRST sighted)    44.517    -80.017   \n",
       "1144    2012-05-31  Monarch Larva (FIRST sighted)    42.732    -82.988   \n",
       "\n",
       "      number  month  \n",
       "1140       1      5  \n",
       "1141       1      5  \n",
       "1142       1      5  \n",
       "1143       1      5  \n",
       "1144       1      5  "
      ]
     },
     "execution_count": 128,
     "metadata": {},
     "output_type": "execute_result"
    }
   ],
   "source": [
    "JNorth_Larva_First_Site_2012_month_df =pd.DataFrame(JNorth_Larva_First_Site_2012_df)\n",
    "JNorth_Larva_First_Site_2012_5_df = JNorth_Larva_First_Site_2012_month_df[JNorth_Larva_First_Site_2012_month_df['month']==5]\n",
    "JNorth_Larva_First_Site_2012_5_df.tail()"
   ]
  },
  {
   "cell_type": "code",
   "execution_count": 129,
   "id": "bc950b62",
   "metadata": {},
   "outputs": [
    {
     "data": {
      "text/plain": [
       "(51, 6)"
      ]
     },
     "execution_count": 129,
     "metadata": {},
     "output_type": "execute_result"
    }
   ],
   "source": [
    "JNorth_Larva_First_Site_2012_5_df.shape"
   ]
  },
  {
   "cell_type": "code",
   "execution_count": 130,
   "id": "a37e0b0f",
   "metadata": {},
   "outputs": [],
   "source": [
    "JNorth_Larva_First_Site_2012_5_df = pd.DataFrame(JNorth_Larva_First_Site_2012_5_df)\n",
    "JNorth_Larva_First_Site_2012_5_df.drop(['month'], axis=1, inplace=True)"
   ]
  },
  {
   "cell_type": "code",
   "execution_count": 131,
   "id": "8b0047b5",
   "metadata": {},
   "outputs": [],
   "source": [
    "# convert lat-long to floats and change address from ALL CAPS to regular capitalization\n",
    "JNorth_Larva_First_Site_2012_5_df['latitude'] = JNorth_Larva_First_Site_2012_5_df['latitude'].astype(float)\n",
    "JNorth_Larva_First_Site_2012_5_df['longitude'] = JNorth_Larva_First_Site_2012_5_df['longitude'].astype(float)\n",
    "# JNorth_Milkweed_Site_df['street_address'] = JNorth_Milkweed_Site_df['street_address'].str.title()"
   ]
  },
  {
   "cell_type": "code",
   "execution_count": 132,
   "id": "b3c214f4",
   "metadata": {},
   "outputs": [],
   "source": [
    "geojson = df_to_geojson(JNorth_Larva_First_Site_2012_5_df, cols)"
   ]
  },
  {
   "cell_type": "code",
   "execution_count": 133,
   "id": "d95a7a19",
   "metadata": {},
   "outputs": [],
   "source": [
    "file = open(\"JNorth_Larva_First_Site_2012_5.geojson\", \"w\")\n",
    "json.dump(geojson, file, indent =1)\n",
    "file.close()"
   ]
  },
  {
   "cell_type": "markdown",
   "id": "531966d4",
   "metadata": {},
   "source": [
    "## June"
   ]
  },
  {
   "cell_type": "code",
   "execution_count": 134,
   "id": "2305e35e",
   "metadata": {},
   "outputs": [
    {
     "data": {
      "text/html": [
       "<div>\n",
       "<style scoped>\n",
       "    .dataframe tbody tr th:only-of-type {\n",
       "        vertical-align: middle;\n",
       "    }\n",
       "\n",
       "    .dataframe tbody tr th {\n",
       "        vertical-align: top;\n",
       "    }\n",
       "\n",
       "    .dataframe thead th {\n",
       "        text-align: right;\n",
       "    }\n",
       "</style>\n",
       "<table border=\"1\" class=\"dataframe\">\n",
       "  <thead>\n",
       "    <tr style=\"text-align: right;\">\n",
       "      <th></th>\n",
       "      <th>sighting_date</th>\n",
       "      <th>species</th>\n",
       "      <th>latitude</th>\n",
       "      <th>longitude</th>\n",
       "      <th>number</th>\n",
       "      <th>month</th>\n",
       "    </tr>\n",
       "  </thead>\n",
       "  <tbody>\n",
       "    <tr>\n",
       "      <th>1159</th>\n",
       "      <td>2012-06-17</td>\n",
       "      <td>Monarch Larva (FIRST sighted)</td>\n",
       "      <td>34.097</td>\n",
       "      <td>-117.906</td>\n",
       "      <td>1</td>\n",
       "      <td>6</td>\n",
       "    </tr>\n",
       "    <tr>\n",
       "      <th>1160</th>\n",
       "      <td>2012-06-24</td>\n",
       "      <td>Monarch Larva (FIRST sighted)</td>\n",
       "      <td>53.500</td>\n",
       "      <td>-112.050</td>\n",
       "      <td>1</td>\n",
       "      <td>6</td>\n",
       "    </tr>\n",
       "    <tr>\n",
       "      <th>1161</th>\n",
       "      <td>2012-06-25</td>\n",
       "      <td>Monarch Larva (FIRST sighted)</td>\n",
       "      <td>43.590</td>\n",
       "      <td>-116.613</td>\n",
       "      <td>1</td>\n",
       "      <td>6</td>\n",
       "    </tr>\n",
       "    <tr>\n",
       "      <th>1162</th>\n",
       "      <td>2012-06-26</td>\n",
       "      <td>Monarch Larva (FIRST sighted)</td>\n",
       "      <td>34.097</td>\n",
       "      <td>-117.906</td>\n",
       "      <td>1</td>\n",
       "      <td>6</td>\n",
       "    </tr>\n",
       "    <tr>\n",
       "      <th>1163</th>\n",
       "      <td>2012-06-29</td>\n",
       "      <td>Monarch Larva (FIRST sighted)</td>\n",
       "      <td>43.068</td>\n",
       "      <td>-70.800</td>\n",
       "      <td>1</td>\n",
       "      <td>6</td>\n",
       "    </tr>\n",
       "  </tbody>\n",
       "</table>\n",
       "</div>"
      ],
      "text/plain": [
       "     sighting_date                        species  latitude  longitude  \\\n",
       "1159    2012-06-17  Monarch Larva (FIRST sighted)    34.097   -117.906   \n",
       "1160    2012-06-24  Monarch Larva (FIRST sighted)    53.500   -112.050   \n",
       "1161    2012-06-25  Monarch Larva (FIRST sighted)    43.590   -116.613   \n",
       "1162    2012-06-26  Monarch Larva (FIRST sighted)    34.097   -117.906   \n",
       "1163    2012-06-29  Monarch Larva (FIRST sighted)    43.068    -70.800   \n",
       "\n",
       "      number  month  \n",
       "1159       1      6  \n",
       "1160       1      6  \n",
       "1161       1      6  \n",
       "1162       1      6  \n",
       "1163       1      6  "
      ]
     },
     "execution_count": 134,
     "metadata": {},
     "output_type": "execute_result"
    }
   ],
   "source": [
    "JNorth_Larva_First_Site_2012_month_df =pd.DataFrame(JNorth_Larva_First_Site_2012_df)\n",
    "JNorth_Larva_First_Site_2012_6_df = JNorth_Larva_First_Site_2012_month_df[JNorth_Larva_First_Site_2012_month_df['month']==6]\n",
    "JNorth_Larva_First_Site_2012_6_df.tail()"
   ]
  },
  {
   "cell_type": "code",
   "execution_count": 135,
   "id": "bdf45121",
   "metadata": {},
   "outputs": [
    {
     "data": {
      "text/plain": [
       "(19, 6)"
      ]
     },
     "execution_count": 135,
     "metadata": {},
     "output_type": "execute_result"
    }
   ],
   "source": [
    "JNorth_Larva_First_Site_2012_6_df.shape"
   ]
  },
  {
   "cell_type": "code",
   "execution_count": 136,
   "id": "7ced5440",
   "metadata": {},
   "outputs": [],
   "source": [
    "JNorth_Larva_First_Site_2012_6_df = pd.DataFrame(JNorth_Larva_First_Site_2012_6_df)\n",
    "JNorth_Larva_First_Site_2012_6_df.drop(['month'], axis=1, inplace=True)"
   ]
  },
  {
   "cell_type": "code",
   "execution_count": 137,
   "id": "2d41d70d",
   "metadata": {},
   "outputs": [],
   "source": [
    "# convert lat-long to floats and change address from ALL CAPS to regular capitalization\n",
    "JNorth_Larva_First_Site_2012_6_df['latitude'] = JNorth_Larva_First_Site_2012_6_df['latitude'].astype(float)\n",
    "JNorth_Larva_First_Site_2012_6_df['longitude'] = JNorth_Larva_First_Site_2012_6_df['longitude'].astype(float)\n",
    "# JNorth_Milkweed_Site_df['street_address'] = JNorth_Milkweed_Site_df['street_address'].str.title()"
   ]
  },
  {
   "cell_type": "code",
   "execution_count": 138,
   "id": "a8475bb2",
   "metadata": {},
   "outputs": [],
   "source": [
    "geojson = df_to_geojson(JNorth_Larva_First_Site_2012_6_df, cols)"
   ]
  },
  {
   "cell_type": "code",
   "execution_count": 139,
   "id": "53caaeb5",
   "metadata": {},
   "outputs": [],
   "source": [
    "file = open(\"JNorth_Larva_First_Site_2012_6.geojson\", \"w\")\n",
    "json.dump(geojson, file, indent =1)\n",
    "file.close()"
   ]
  },
  {
   "cell_type": "markdown",
   "id": "73f9ebaa",
   "metadata": {},
   "source": [
    "## July"
   ]
  },
  {
   "cell_type": "code",
   "execution_count": 140,
   "id": "e7b8b673",
   "metadata": {},
   "outputs": [
    {
     "data": {
      "text/html": [
       "<div>\n",
       "<style scoped>\n",
       "    .dataframe tbody tr th:only-of-type {\n",
       "        vertical-align: middle;\n",
       "    }\n",
       "\n",
       "    .dataframe tbody tr th {\n",
       "        vertical-align: top;\n",
       "    }\n",
       "\n",
       "    .dataframe thead th {\n",
       "        text-align: right;\n",
       "    }\n",
       "</style>\n",
       "<table border=\"1\" class=\"dataframe\">\n",
       "  <thead>\n",
       "    <tr style=\"text-align: right;\">\n",
       "      <th></th>\n",
       "      <th>sighting_date</th>\n",
       "      <th>species</th>\n",
       "      <th>latitude</th>\n",
       "      <th>longitude</th>\n",
       "      <th>number</th>\n",
       "      <th>month</th>\n",
       "    </tr>\n",
       "  </thead>\n",
       "  <tbody>\n",
       "    <tr>\n",
       "      <th>1180</th>\n",
       "      <td>2012-07-27</td>\n",
       "      <td>Monarch Larva (FIRST sighted)</td>\n",
       "      <td>42.830</td>\n",
       "      <td>-77.724</td>\n",
       "      <td>1</td>\n",
       "      <td>7</td>\n",
       "    </tr>\n",
       "    <tr>\n",
       "      <th>1181</th>\n",
       "      <td>2012-07-28</td>\n",
       "      <td>Monarch Larva (FIRST sighted)</td>\n",
       "      <td>40.215</td>\n",
       "      <td>-74.081</td>\n",
       "      <td>1</td>\n",
       "      <td>7</td>\n",
       "    </tr>\n",
       "    <tr>\n",
       "      <th>1182</th>\n",
       "      <td>2012-07-29</td>\n",
       "      <td>Monarch Larva (FIRST sighted)</td>\n",
       "      <td>39.951</td>\n",
       "      <td>-104.764</td>\n",
       "      <td>1</td>\n",
       "      <td>7</td>\n",
       "    </tr>\n",
       "    <tr>\n",
       "      <th>1183</th>\n",
       "      <td>2012-07-29</td>\n",
       "      <td>Monarch Larva (FIRST sighted)</td>\n",
       "      <td>42.830</td>\n",
       "      <td>-77.724</td>\n",
       "      <td>1</td>\n",
       "      <td>7</td>\n",
       "    </tr>\n",
       "    <tr>\n",
       "      <th>1184</th>\n",
       "      <td>2012-07-31</td>\n",
       "      <td>Monarch Larva (FIRST sighted)</td>\n",
       "      <td>33.398</td>\n",
       "      <td>-117.554</td>\n",
       "      <td>1</td>\n",
       "      <td>7</td>\n",
       "    </tr>\n",
       "  </tbody>\n",
       "</table>\n",
       "</div>"
      ],
      "text/plain": [
       "     sighting_date                        species  latitude  longitude  \\\n",
       "1180    2012-07-27  Monarch Larva (FIRST sighted)    42.830    -77.724   \n",
       "1181    2012-07-28  Monarch Larva (FIRST sighted)    40.215    -74.081   \n",
       "1182    2012-07-29  Monarch Larva (FIRST sighted)    39.951   -104.764   \n",
       "1183    2012-07-29  Monarch Larva (FIRST sighted)    42.830    -77.724   \n",
       "1184    2012-07-31  Monarch Larva (FIRST sighted)    33.398   -117.554   \n",
       "\n",
       "      number  month  \n",
       "1180       1      7  \n",
       "1181       1      7  \n",
       "1182       1      7  \n",
       "1183       1      7  \n",
       "1184       1      7  "
      ]
     },
     "execution_count": 140,
     "metadata": {},
     "output_type": "execute_result"
    }
   ],
   "source": [
    "JNorth_Larva_First_Site_2012_month_df =pd.DataFrame(JNorth_Larva_First_Site_2012_df)\n",
    "JNorth_Larva_First_Site_2012_7_df = JNorth_Larva_First_Site_2012_month_df[JNorth_Larva_First_Site_2012_month_df['month']==7]\n",
    "JNorth_Larva_First_Site_2012_7_df.tail()"
   ]
  },
  {
   "cell_type": "code",
   "execution_count": 141,
   "id": "ee190c48",
   "metadata": {},
   "outputs": [
    {
     "data": {
      "text/plain": [
       "(21, 6)"
      ]
     },
     "execution_count": 141,
     "metadata": {},
     "output_type": "execute_result"
    }
   ],
   "source": [
    "JNorth_Larva_First_Site_2012_7_df.shape"
   ]
  },
  {
   "cell_type": "code",
   "execution_count": 142,
   "id": "adeaa0bf",
   "metadata": {},
   "outputs": [],
   "source": [
    "JNorth_Larva_First_Site_2012_7_df = pd.DataFrame(JNorth_Larva_First_Site_2012_7_df)\n",
    "JNorth_Larva_First_Site_2012_7_df.drop(['month'], axis=1, inplace=True)"
   ]
  },
  {
   "cell_type": "code",
   "execution_count": 143,
   "id": "f8d2ae21",
   "metadata": {},
   "outputs": [],
   "source": [
    "# convert lat-long to floats and change address from ALL CAPS to regular capitalization\n",
    "JNorth_Larva_First_Site_2012_7_df['latitude'] = JNorth_Larva_First_Site_2012_7_df['latitude'].astype(float)\n",
    "JNorth_Larva_First_Site_2012_7_df['longitude'] = JNorth_Larva_First_Site_2012_7_df['longitude'].astype(float)\n",
    "# JNorth_Milkweed_Site_df['street_address'] = JNorth_Milkweed_Site_df['street_address'].str.title()"
   ]
  },
  {
   "cell_type": "code",
   "execution_count": 144,
   "id": "bfd792b4",
   "metadata": {},
   "outputs": [],
   "source": [
    "geojson = df_to_geojson(JNorth_Larva_First_Site_2012_7_df, cols)"
   ]
  },
  {
   "cell_type": "code",
   "execution_count": 145,
   "id": "a0490618",
   "metadata": {},
   "outputs": [],
   "source": [
    "file = open(\"JNorth_Larva_First_Site_2012_7.geojson\", \"w\")\n",
    "json.dump(geojson, file, indent =1)\n",
    "file.close()"
   ]
  },
  {
   "cell_type": "markdown",
   "id": "3590d5cf",
   "metadata": {},
   "source": [
    "## August"
   ]
  },
  {
   "cell_type": "code",
   "execution_count": 146,
   "id": "e98788a8",
   "metadata": {},
   "outputs": [
    {
     "data": {
      "text/html": [
       "<div>\n",
       "<style scoped>\n",
       "    .dataframe tbody tr th:only-of-type {\n",
       "        vertical-align: middle;\n",
       "    }\n",
       "\n",
       "    .dataframe tbody tr th {\n",
       "        vertical-align: top;\n",
       "    }\n",
       "\n",
       "    .dataframe thead th {\n",
       "        text-align: right;\n",
       "    }\n",
       "</style>\n",
       "<table border=\"1\" class=\"dataframe\">\n",
       "  <thead>\n",
       "    <tr style=\"text-align: right;\">\n",
       "      <th></th>\n",
       "      <th>sighting_date</th>\n",
       "      <th>species</th>\n",
       "      <th>latitude</th>\n",
       "      <th>longitude</th>\n",
       "      <th>number</th>\n",
       "      <th>month</th>\n",
       "    </tr>\n",
       "  </thead>\n",
       "  <tbody>\n",
       "    <tr>\n",
       "      <th>1185</th>\n",
       "      <td>2012-08-15</td>\n",
       "      <td>Monarch Larva (FIRST sighted)</td>\n",
       "      <td>44.667</td>\n",
       "      <td>-63.567</td>\n",
       "      <td>1</td>\n",
       "      <td>8</td>\n",
       "    </tr>\n",
       "  </tbody>\n",
       "</table>\n",
       "</div>"
      ],
      "text/plain": [
       "     sighting_date                        species  latitude  longitude  \\\n",
       "1185    2012-08-15  Monarch Larva (FIRST sighted)    44.667    -63.567   \n",
       "\n",
       "      number  month  \n",
       "1185       1      8  "
      ]
     },
     "execution_count": 146,
     "metadata": {},
     "output_type": "execute_result"
    }
   ],
   "source": [
    "JNorth_Larva_First_Site_2012_month_df =pd.DataFrame(JNorth_Larva_First_Site_2012_df)\n",
    "JNorth_Larva_First_Site_2012_8_df = JNorth_Larva_First_Site_2012_month_df[JNorth_Larva_First_Site_2012_month_df['month']==8]\n",
    "JNorth_Larva_First_Site_2012_8_df.tail()"
   ]
  },
  {
   "cell_type": "code",
   "execution_count": 147,
   "id": "4dbf852f",
   "metadata": {},
   "outputs": [
    {
     "data": {
      "text/plain": [
       "(1, 6)"
      ]
     },
     "execution_count": 147,
     "metadata": {},
     "output_type": "execute_result"
    }
   ],
   "source": [
    "JNorth_Larva_First_Site_2012_8_df.shape"
   ]
  },
  {
   "cell_type": "code",
   "execution_count": 148,
   "id": "db805f73",
   "metadata": {},
   "outputs": [],
   "source": [
    "JNorth_Larva_First_Site_2012_8_df = pd.DataFrame(JNorth_Larva_First_Site_2012_8_df)\n",
    "JNorth_Larva_First_Site_2012_8_df.drop(['month'], axis=1, inplace=True)"
   ]
  },
  {
   "cell_type": "code",
   "execution_count": 149,
   "id": "65824356",
   "metadata": {},
   "outputs": [],
   "source": [
    "# convert lat-long to floats and change address from ALL CAPS to regular capitalization\n",
    "JNorth_Larva_First_Site_2012_8_df['latitude'] = JNorth_Larva_First_Site_2012_8_df['latitude'].astype(float)\n",
    "JNorth_Larva_First_Site_2012_8_df['longitude'] = JNorth_Larva_First_Site_2012_8_df['longitude'].astype(float)\n",
    "# JNorth_Milkweed_Site_df['street_address'] = JNorth_Milkweed_Site_df['street_address'].str.title()"
   ]
  },
  {
   "cell_type": "code",
   "execution_count": 150,
   "id": "ddc40b63",
   "metadata": {},
   "outputs": [],
   "source": [
    "geojson = df_to_geojson(JNorth_Larva_First_Site_2012_8_df, cols)"
   ]
  },
  {
   "cell_type": "code",
   "execution_count": 151,
   "id": "edee7b1c",
   "metadata": {},
   "outputs": [],
   "source": [
    "file = open(\"JNorth_Larva_First_Site_2012_8.geojson\", \"w\")\n",
    "json.dump(geojson, file, indent =1)\n",
    "file.close()"
   ]
  },
  {
   "cell_type": "markdown",
   "id": "726dda22",
   "metadata": {},
   "source": [
    "## September"
   ]
  },
  {
   "cell_type": "code",
   "execution_count": 152,
   "id": "b54dd953",
   "metadata": {},
   "outputs": [
    {
     "data": {
      "text/html": [
       "<div>\n",
       "<style scoped>\n",
       "    .dataframe tbody tr th:only-of-type {\n",
       "        vertical-align: middle;\n",
       "    }\n",
       "\n",
       "    .dataframe tbody tr th {\n",
       "        vertical-align: top;\n",
       "    }\n",
       "\n",
       "    .dataframe thead th {\n",
       "        text-align: right;\n",
       "    }\n",
       "</style>\n",
       "<table border=\"1\" class=\"dataframe\">\n",
       "  <thead>\n",
       "    <tr style=\"text-align: right;\">\n",
       "      <th></th>\n",
       "      <th>sighting_date</th>\n",
       "      <th>species</th>\n",
       "      <th>latitude</th>\n",
       "      <th>longitude</th>\n",
       "      <th>number</th>\n",
       "      <th>month</th>\n",
       "    </tr>\n",
       "  </thead>\n",
       "  <tbody>\n",
       "  </tbody>\n",
       "</table>\n",
       "</div>"
      ],
      "text/plain": [
       "Empty DataFrame\n",
       "Columns: [sighting_date, species, latitude, longitude, number, month]\n",
       "Index: []"
      ]
     },
     "execution_count": 152,
     "metadata": {},
     "output_type": "execute_result"
    }
   ],
   "source": [
    "JNorth_Larva_First_Site_2012_month_df =pd.DataFrame(JNorth_Larva_First_Site_2012_df)\n",
    "JNorth_Larva_First_Site_2012_9_df = JNorth_Larva_First_Site_2012_month_df[JNorth_Larva_First_Site_2012_month_df['month']==9]\n",
    "JNorth_Larva_First_Site_2012_9_df.tail()"
   ]
  },
  {
   "cell_type": "code",
   "execution_count": 153,
   "id": "c027d5c8",
   "metadata": {},
   "outputs": [
    {
     "data": {
      "text/plain": [
       "(0, 6)"
      ]
     },
     "execution_count": 153,
     "metadata": {},
     "output_type": "execute_result"
    }
   ],
   "source": [
    "JNorth_Larva_First_Site_2012_9_df.shape"
   ]
  },
  {
   "cell_type": "code",
   "execution_count": 154,
   "id": "699bf4e7",
   "metadata": {},
   "outputs": [],
   "source": [
    "JNorth_Larva_First_Site_2012_9_df = pd.DataFrame(JNorth_Larva_First_Site_2012_9_df)\n",
    "JNorth_Larva_First_Site_2012_9_df.drop(['month'], axis=1, inplace=True)"
   ]
  },
  {
   "cell_type": "code",
   "execution_count": 155,
   "id": "30872f1f",
   "metadata": {},
   "outputs": [],
   "source": [
    "# convert lat-long to floats and change address from ALL CAPS to regular capitalization\n",
    "JNorth_Larva_First_Site_2012_9_df['latitude'] = JNorth_Larva_First_Site_2012_9_df['latitude'].astype(float)\n",
    "JNorth_Larva_First_Site_2012_9_df['longitude'] = JNorth_Larva_First_Site_2012_9_df['longitude'].astype(float)\n",
    "# JNorth_Milkweed_Site_df['street_address'] = JNorth_Milkweed_Site_df['street_address'].str.title()"
   ]
  },
  {
   "cell_type": "code",
   "execution_count": 156,
   "id": "eda7a817",
   "metadata": {},
   "outputs": [],
   "source": [
    "geojson = df_to_geojson(JNorth_Larva_First_Site_2012_9_df, cols)"
   ]
  },
  {
   "cell_type": "code",
   "execution_count": 157,
   "id": "ad33e04b",
   "metadata": {},
   "outputs": [],
   "source": [
    "file = open(\"JNorth_Larva_First_Site_2012_9.geojson\", \"w\")\n",
    "json.dump(geojson, file, indent =1)\n",
    "file.close()"
   ]
  },
  {
   "cell_type": "markdown",
   "id": "84b1fe82",
   "metadata": {},
   "source": [
    "## October"
   ]
  },
  {
   "cell_type": "code",
   "execution_count": 158,
   "id": "a9395579",
   "metadata": {},
   "outputs": [
    {
     "data": {
      "text/html": [
       "<div>\n",
       "<style scoped>\n",
       "    .dataframe tbody tr th:only-of-type {\n",
       "        vertical-align: middle;\n",
       "    }\n",
       "\n",
       "    .dataframe tbody tr th {\n",
       "        vertical-align: top;\n",
       "    }\n",
       "\n",
       "    .dataframe thead th {\n",
       "        text-align: right;\n",
       "    }\n",
       "</style>\n",
       "<table border=\"1\" class=\"dataframe\">\n",
       "  <thead>\n",
       "    <tr style=\"text-align: right;\">\n",
       "      <th></th>\n",
       "      <th>sighting_date</th>\n",
       "      <th>species</th>\n",
       "      <th>latitude</th>\n",
       "      <th>longitude</th>\n",
       "      <th>number</th>\n",
       "      <th>month</th>\n",
       "    </tr>\n",
       "  </thead>\n",
       "  <tbody>\n",
       "  </tbody>\n",
       "</table>\n",
       "</div>"
      ],
      "text/plain": [
       "Empty DataFrame\n",
       "Columns: [sighting_date, species, latitude, longitude, number, month]\n",
       "Index: []"
      ]
     },
     "execution_count": 158,
     "metadata": {},
     "output_type": "execute_result"
    }
   ],
   "source": [
    "JNorth_Larva_First_Site_2012_month_df =pd.DataFrame(JNorth_Larva_First_Site_2012_df)\n",
    "JNorth_Larva_First_Site_2012_10_df = JNorth_Larva_First_Site_2012_month_df[JNorth_Larva_First_Site_2012_month_df['month']==10]\n",
    "JNorth_Larva_First_Site_2012_10_df.tail()"
   ]
  },
  {
   "cell_type": "code",
   "execution_count": 159,
   "id": "470beeb5",
   "metadata": {},
   "outputs": [
    {
     "data": {
      "text/plain": [
       "(0, 6)"
      ]
     },
     "execution_count": 159,
     "metadata": {},
     "output_type": "execute_result"
    }
   ],
   "source": [
    "JNorth_Larva_First_Site_2012_10_df.shape"
   ]
  },
  {
   "cell_type": "code",
   "execution_count": 160,
   "id": "1e733e58",
   "metadata": {},
   "outputs": [],
   "source": [
    "JNorth_Larva_First_Site_2012_10_df = pd.DataFrame(JNorth_Larva_First_Site_2012_10_df)\n",
    "JNorth_Larva_First_Site_2012_10_df.drop(['month'], axis=1, inplace=True)"
   ]
  },
  {
   "cell_type": "code",
   "execution_count": 161,
   "id": "06aff208",
   "metadata": {},
   "outputs": [],
   "source": [
    "# convert lat-long to floats and change address from ALL CAPS to regular capitalization\n",
    "JNorth_Larva_First_Site_2012_10_df['latitude'] = JNorth_Larva_First_Site_2012_10_df['latitude'].astype(float)\n",
    "JNorth_Larva_First_Site_2012_10_df['longitude'] = JNorth_Larva_First_Site_2012_10_df['longitude'].astype(float)\n",
    "# JNorth_Milkweed_Site_df['street_address'] = JNorth_Milkweed_Site_df['street_address'].str.title()"
   ]
  },
  {
   "cell_type": "code",
   "execution_count": 162,
   "id": "421e78f4",
   "metadata": {},
   "outputs": [],
   "source": [
    "geojson = df_to_geojson(JNorth_Larva_First_Site_2012_10_df, cols)"
   ]
  },
  {
   "cell_type": "code",
   "execution_count": 163,
   "id": "9017caac",
   "metadata": {},
   "outputs": [],
   "source": [
    "file = open(\"JNorth_Larva_First_Site_2012_10.geojson\", \"w\")\n",
    "json.dump(geojson, file, indent =1)\n",
    "file.close()"
   ]
  },
  {
   "cell_type": "markdown",
   "id": "3be99959",
   "metadata": {},
   "source": [
    "## November"
   ]
  },
  {
   "cell_type": "code",
   "execution_count": 164,
   "id": "f012960d",
   "metadata": {},
   "outputs": [
    {
     "data": {
      "text/html": [
       "<div>\n",
       "<style scoped>\n",
       "    .dataframe tbody tr th:only-of-type {\n",
       "        vertical-align: middle;\n",
       "    }\n",
       "\n",
       "    .dataframe tbody tr th {\n",
       "        vertical-align: top;\n",
       "    }\n",
       "\n",
       "    .dataframe thead th {\n",
       "        text-align: right;\n",
       "    }\n",
       "</style>\n",
       "<table border=\"1\" class=\"dataframe\">\n",
       "  <thead>\n",
       "    <tr style=\"text-align: right;\">\n",
       "      <th></th>\n",
       "      <th>sighting_date</th>\n",
       "      <th>species</th>\n",
       "      <th>latitude</th>\n",
       "      <th>longitude</th>\n",
       "      <th>number</th>\n",
       "      <th>month</th>\n",
       "    </tr>\n",
       "  </thead>\n",
       "  <tbody>\n",
       "  </tbody>\n",
       "</table>\n",
       "</div>"
      ],
      "text/plain": [
       "Empty DataFrame\n",
       "Columns: [sighting_date, species, latitude, longitude, number, month]\n",
       "Index: []"
      ]
     },
     "execution_count": 164,
     "metadata": {},
     "output_type": "execute_result"
    }
   ],
   "source": [
    "JNorth_Larva_First_Site_2012_month_df =pd.DataFrame(JNorth_Larva_First_Site_2012_df)\n",
    "JNorth_Larva_First_Site_2012_11_df = JNorth_Larva_First_Site_2012_month_df[JNorth_Larva_First_Site_2012_month_df['month']==11]\n",
    "JNorth_Larva_First_Site_2012_11_df.tail()"
   ]
  },
  {
   "cell_type": "code",
   "execution_count": 165,
   "id": "c828e53a",
   "metadata": {},
   "outputs": [
    {
     "data": {
      "text/plain": [
       "(0, 6)"
      ]
     },
     "execution_count": 165,
     "metadata": {},
     "output_type": "execute_result"
    }
   ],
   "source": [
    "JNorth_Larva_First_Site_2012_11_df.shape"
   ]
  },
  {
   "cell_type": "code",
   "execution_count": 166,
   "id": "ebbf1625",
   "metadata": {},
   "outputs": [],
   "source": [
    "JNorth_Larva_First_Site_2012_11_df = pd.DataFrame(JNorth_Larva_First_Site_2012_11_df)\n",
    "JNorth_Larva_First_Site_2012_11_df.drop(['month'], axis=1, inplace=True)"
   ]
  },
  {
   "cell_type": "code",
   "execution_count": 167,
   "id": "06217fbf",
   "metadata": {},
   "outputs": [],
   "source": [
    "# convert lat-long to floats and change address from ALL CAPS to regular capitalization\n",
    "JNorth_Larva_First_Site_2012_11_df['latitude'] = JNorth_Larva_First_Site_2012_11_df['latitude'].astype(float)\n",
    "JNorth_Larva_First_Site_2012_11_df['longitude'] = JNorth_Larva_First_Site_2012_11_df['longitude'].astype(float)\n",
    "# JNorth_Milkweed_Site_df['street_address'] = JNorth_Milkweed_Site_df['street_address'].str.title()"
   ]
  },
  {
   "cell_type": "code",
   "execution_count": 168,
   "id": "ea9ffa88",
   "metadata": {},
   "outputs": [],
   "source": [
    "geojson = df_to_geojson(JNorth_Larva_First_Site_2012_11_df, cols)"
   ]
  },
  {
   "cell_type": "code",
   "execution_count": 169,
   "id": "408ccc08",
   "metadata": {},
   "outputs": [],
   "source": [
    "file = open(\"JNorth_Larva_First_Site_2012_11.geojson\", \"w\")\n",
    "json.dump(geojson, file, indent =1)\n",
    "file.close()"
   ]
  },
  {
   "cell_type": "markdown",
   "id": "e8664d64",
   "metadata": {},
   "source": [
    "## December"
   ]
  },
  {
   "cell_type": "code",
   "execution_count": 170,
   "id": "17680c20",
   "metadata": {},
   "outputs": [
    {
     "data": {
      "text/html": [
       "<div>\n",
       "<style scoped>\n",
       "    .dataframe tbody tr th:only-of-type {\n",
       "        vertical-align: middle;\n",
       "    }\n",
       "\n",
       "    .dataframe tbody tr th {\n",
       "        vertical-align: top;\n",
       "    }\n",
       "\n",
       "    .dataframe thead th {\n",
       "        text-align: right;\n",
       "    }\n",
       "</style>\n",
       "<table border=\"1\" class=\"dataframe\">\n",
       "  <thead>\n",
       "    <tr style=\"text-align: right;\">\n",
       "      <th></th>\n",
       "      <th>sighting_date</th>\n",
       "      <th>species</th>\n",
       "      <th>latitude</th>\n",
       "      <th>longitude</th>\n",
       "      <th>number</th>\n",
       "      <th>month</th>\n",
       "    </tr>\n",
       "  </thead>\n",
       "  <tbody>\n",
       "  </tbody>\n",
       "</table>\n",
       "</div>"
      ],
      "text/plain": [
       "Empty DataFrame\n",
       "Columns: [sighting_date, species, latitude, longitude, number, month]\n",
       "Index: []"
      ]
     },
     "execution_count": 170,
     "metadata": {},
     "output_type": "execute_result"
    }
   ],
   "source": [
    "JNorth_Larva_First_Site_2012_month_df =pd.DataFrame(JNorth_Larva_First_Site_2012_df)\n",
    "JNorth_Larva_First_Site_2012_12_df = JNorth_Larva_First_Site_2012_month_df[JNorth_Larva_First_Site_2012_month_df['month']==12]\n",
    "JNorth_Larva_First_Site_2012_12_df.tail()"
   ]
  },
  {
   "cell_type": "code",
   "execution_count": 171,
   "id": "b3f57221",
   "metadata": {},
   "outputs": [
    {
     "data": {
      "text/plain": [
       "(0, 6)"
      ]
     },
     "execution_count": 171,
     "metadata": {},
     "output_type": "execute_result"
    }
   ],
   "source": [
    "JNorth_Larva_First_Site_2012_12_df.shape"
   ]
  },
  {
   "cell_type": "code",
   "execution_count": 172,
   "id": "13478dd2",
   "metadata": {},
   "outputs": [],
   "source": [
    "JNorth_Larva_First_Site_2012_12_df = pd.DataFrame(JNorth_Larva_First_Site_2012_12_df)\n",
    "JNorth_Larva_First_Site_2012_12_df.drop(['month'], axis=1, inplace=True)"
   ]
  },
  {
   "cell_type": "code",
   "execution_count": 173,
   "id": "53a7627c",
   "metadata": {},
   "outputs": [],
   "source": [
    "# convert lat-long to floats and change address from ALL CAPS to regular capitalization\n",
    "JNorth_Larva_First_Site_2012_12_df['latitude'] = JNorth_Larva_First_Site_2012_12_df['latitude'].astype(float)\n",
    "JNorth_Larva_First_Site_2012_12_df['longitude'] = JNorth_Larva_First_Site_2012_12_df['longitude'].astype(float)\n",
    "# JNorth_Milkweed_Site_df['street_address'] = JNorth_Milkweed_Site_df['street_address'].str.title()"
   ]
  },
  {
   "cell_type": "code",
   "execution_count": 174,
   "id": "cc835fba",
   "metadata": {},
   "outputs": [],
   "source": [
    "geojson = df_to_geojson(JNorth_Larva_First_Site_2012_12_df, cols)"
   ]
  },
  {
   "cell_type": "code",
   "execution_count": 175,
   "id": "c122edf2",
   "metadata": {},
   "outputs": [],
   "source": [
    "file = open(\"JNorth_Larva_First_Site_2012_12.geojson\", \"w\")\n",
    "json.dump(geojson, file, indent =1)\n",
    "file.close()"
   ]
  },
  {
   "cell_type": "markdown",
   "id": "b5c76616",
   "metadata": {},
   "source": [
    "# 2013"
   ]
  },
  {
   "cell_type": "code",
   "execution_count": 176,
   "id": "e96b6a71",
   "metadata": {},
   "outputs": [
    {
     "data": {
      "text/html": [
       "<div>\n",
       "<style scoped>\n",
       "    .dataframe tbody tr th:only-of-type {\n",
       "        vertical-align: middle;\n",
       "    }\n",
       "\n",
       "    .dataframe tbody tr th {\n",
       "        vertical-align: top;\n",
       "    }\n",
       "\n",
       "    .dataframe thead th {\n",
       "        text-align: right;\n",
       "    }\n",
       "</style>\n",
       "<table border=\"1\" class=\"dataframe\">\n",
       "  <thead>\n",
       "    <tr style=\"text-align: right;\">\n",
       "      <th></th>\n",
       "      <th>sighting_date</th>\n",
       "      <th>species</th>\n",
       "      <th>latitude</th>\n",
       "      <th>longitude</th>\n",
       "      <th>number</th>\n",
       "      <th>year</th>\n",
       "    </tr>\n",
       "  </thead>\n",
       "  <tbody>\n",
       "    <tr>\n",
       "      <th>1328</th>\n",
       "      <td>2013-07-27</td>\n",
       "      <td>Monarch Larva (FIRST sighted)</td>\n",
       "      <td>50.252</td>\n",
       "      <td>-96.056</td>\n",
       "      <td>1</td>\n",
       "      <td>2013</td>\n",
       "    </tr>\n",
       "    <tr>\n",
       "      <th>1329</th>\n",
       "      <td>2013-07-30</td>\n",
       "      <td>Monarch Larva (FIRST sighted)</td>\n",
       "      <td>32.291</td>\n",
       "      <td>-89.889</td>\n",
       "      <td>1</td>\n",
       "      <td>2013</td>\n",
       "    </tr>\n",
       "    <tr>\n",
       "      <th>1330</th>\n",
       "      <td>2013-07-30</td>\n",
       "      <td>Monarch Larva (FIRST sighted)</td>\n",
       "      <td>37.686</td>\n",
       "      <td>-97.335</td>\n",
       "      <td>1</td>\n",
       "      <td>2013</td>\n",
       "    </tr>\n",
       "    <tr>\n",
       "      <th>1331</th>\n",
       "      <td>2013-07-31</td>\n",
       "      <td>Monarch Larva (FIRST sighted)</td>\n",
       "      <td>41.449</td>\n",
       "      <td>-81.394</td>\n",
       "      <td>1</td>\n",
       "      <td>2013</td>\n",
       "    </tr>\n",
       "    <tr>\n",
       "      <th>1332</th>\n",
       "      <td>2013-08-10</td>\n",
       "      <td>Monarch Larva (FIRST sighted)</td>\n",
       "      <td>41.780</td>\n",
       "      <td>-72.623</td>\n",
       "      <td>1</td>\n",
       "      <td>2013</td>\n",
       "    </tr>\n",
       "  </tbody>\n",
       "</table>\n",
       "</div>"
      ],
      "text/plain": [
       "     sighting_date                        species  latitude  longitude  \\\n",
       "1328    2013-07-27  Monarch Larva (FIRST sighted)    50.252    -96.056   \n",
       "1329    2013-07-30  Monarch Larva (FIRST sighted)    32.291    -89.889   \n",
       "1330    2013-07-30  Monarch Larva (FIRST sighted)    37.686    -97.335   \n",
       "1331    2013-07-31  Monarch Larva (FIRST sighted)    41.449    -81.394   \n",
       "1332    2013-08-10  Monarch Larva (FIRST sighted)    41.780    -72.623   \n",
       "\n",
       "      number  year  \n",
       "1328       1  2013  \n",
       "1329       1  2013  \n",
       "1330       1  2013  \n",
       "1331       1  2013  \n",
       "1332       1  2013  "
      ]
     },
     "execution_count": 176,
     "metadata": {},
     "output_type": "execute_result"
    }
   ],
   "source": [
    "JNorth_Larva_First_Site_2013_df = JNorth_Larva_First_Site_year_df[JNorth_Larva_First_Site_year_df['year']==2013]\n",
    "JNorth_Larva_First_Site_2013_df.tail()"
   ]
  },
  {
   "cell_type": "code",
   "execution_count": 177,
   "id": "3f637079",
   "metadata": {},
   "outputs": [
    {
     "data": {
      "text/plain": [
       "(147, 6)"
      ]
     },
     "execution_count": 177,
     "metadata": {},
     "output_type": "execute_result"
    }
   ],
   "source": [
    "JNorth_Larva_First_Site_2013_df.shape"
   ]
  },
  {
   "cell_type": "code",
   "execution_count": 178,
   "id": "e5c256a8",
   "metadata": {},
   "outputs": [],
   "source": [
    "JNorth_Larva_First_Site_2013_df = pd.DataFrame(JNorth_Larva_First_Site_2013_df)\n",
    "JNorth_Larva_First_Site_2013_df.drop(['year'], axis=1, inplace=True)"
   ]
  },
  {
   "cell_type": "code",
   "execution_count": 179,
   "id": "a28bf072",
   "metadata": {},
   "outputs": [
    {
     "data": {
      "text/plain": [
       "<bound method NDFrame.tail of      sighting_date                        species  latitude  longitude  number\n",
       "1186    2013-02-14  Monarch Larva (FIRST sighted)    33.755   -117.854       1\n",
       "1187    2013-02-16  Monarch Larva (FIRST sighted)    27.770    -82.637       1\n",
       "1188    2013-02-28  Monarch Larva (FIRST sighted)    28.005    -82.695       1\n",
       "1189    2013-03-02  Monarch Larva (FIRST sighted)    33.611   -117.643       1\n",
       "1190    2013-03-04  Monarch Larva (FIRST sighted)    29.836    -95.735       1\n",
       "...            ...                            ...       ...        ...     ...\n",
       "1328    2013-07-27  Monarch Larva (FIRST sighted)    50.252    -96.056       1\n",
       "1329    2013-07-30  Monarch Larva (FIRST sighted)    32.291    -89.889       1\n",
       "1330    2013-07-30  Monarch Larva (FIRST sighted)    37.686    -97.335       1\n",
       "1331    2013-07-31  Monarch Larva (FIRST sighted)    41.449    -81.394       1\n",
       "1332    2013-08-10  Monarch Larva (FIRST sighted)    41.780    -72.623       1\n",
       "\n",
       "[147 rows x 5 columns]>"
      ]
     },
     "execution_count": 179,
     "metadata": {},
     "output_type": "execute_result"
    }
   ],
   "source": [
    "JNorth_Larva_First_Site_2013_df.tail"
   ]
  },
  {
   "cell_type": "code",
   "execution_count": 180,
   "id": "0dba463b",
   "metadata": {},
   "outputs": [],
   "source": [
    "JNorth_Larva_First_Site_2013_df['month'] = pd.DatetimeIndex(JNorth_Larva_First_Site_2013_df['sighting_date']).month"
   ]
  },
  {
   "cell_type": "markdown",
   "id": "5433aeed",
   "metadata": {},
   "source": [
    "## January"
   ]
  },
  {
   "cell_type": "code",
   "execution_count": 181,
   "id": "29864205",
   "metadata": {},
   "outputs": [
    {
     "data": {
      "text/html": [
       "<div>\n",
       "<style scoped>\n",
       "    .dataframe tbody tr th:only-of-type {\n",
       "        vertical-align: middle;\n",
       "    }\n",
       "\n",
       "    .dataframe tbody tr th {\n",
       "        vertical-align: top;\n",
       "    }\n",
       "\n",
       "    .dataframe thead th {\n",
       "        text-align: right;\n",
       "    }\n",
       "</style>\n",
       "<table border=\"1\" class=\"dataframe\">\n",
       "  <thead>\n",
       "    <tr style=\"text-align: right;\">\n",
       "      <th></th>\n",
       "      <th>sighting_date</th>\n",
       "      <th>species</th>\n",
       "      <th>latitude</th>\n",
       "      <th>longitude</th>\n",
       "      <th>number</th>\n",
       "      <th>month</th>\n",
       "    </tr>\n",
       "  </thead>\n",
       "  <tbody>\n",
       "  </tbody>\n",
       "</table>\n",
       "</div>"
      ],
      "text/plain": [
       "Empty DataFrame\n",
       "Columns: [sighting_date, species, latitude, longitude, number, month]\n",
       "Index: []"
      ]
     },
     "execution_count": 181,
     "metadata": {},
     "output_type": "execute_result"
    }
   ],
   "source": [
    "JNorth_Larva_First_Site_2013_month_df =pd.DataFrame(JNorth_Larva_First_Site_2013_df)\n",
    "JNorth_Larva_First_Site_2013_1_df = JNorth_Larva_First_Site_2013_month_df[JNorth_Larva_First_Site_2013_month_df['month']==1]\n",
    "JNorth_Larva_First_Site_2013_1_df.tail()"
   ]
  },
  {
   "cell_type": "code",
   "execution_count": 182,
   "id": "e394de26",
   "metadata": {},
   "outputs": [
    {
     "data": {
      "text/plain": [
       "(0, 6)"
      ]
     },
     "execution_count": 182,
     "metadata": {},
     "output_type": "execute_result"
    }
   ],
   "source": [
    "JNorth_Larva_First_Site_2013_1_df.shape"
   ]
  },
  {
   "cell_type": "code",
   "execution_count": 183,
   "id": "95031fb5",
   "metadata": {},
   "outputs": [],
   "source": [
    "JNorth_Larva_First_Site_2013_1_df = pd.DataFrame(JNorth_Larva_First_Site_2013_1_df)\n",
    "JNorth_Larva_First_Site_2013_1_df.drop(['month'], axis=1, inplace=True)"
   ]
  },
  {
   "cell_type": "code",
   "execution_count": 184,
   "id": "c4d3ff7b",
   "metadata": {},
   "outputs": [],
   "source": [
    "# convert lat-long to floats and change address from ALL CAPS to regular capitalization\n",
    "JNorth_Larva_First_Site_2013_1_df['latitude'] = JNorth_Larva_First_Site_2013_1_df['latitude'].astype(float)\n",
    "JNorth_Larva_First_Site_2013_1_df['longitude'] = JNorth_Larva_First_Site_2013_1_df['longitude'].astype(float)\n",
    "# JNorth_Milkweed_Site_df['street_address'] = JNorth_Milkweed_Site_df['street_address'].str.title()"
   ]
  },
  {
   "cell_type": "code",
   "execution_count": 185,
   "id": "47533ebf",
   "metadata": {},
   "outputs": [],
   "source": [
    "geojson = df_to_geojson(JNorth_Larva_First_Site_2013_1_df, cols)"
   ]
  },
  {
   "cell_type": "code",
   "execution_count": 186,
   "id": "aecfecdc",
   "metadata": {},
   "outputs": [],
   "source": [
    "file = open(\"JNorth_Larva_First_Site_2013_1.geojson\", \"w\")\n",
    "json.dump(geojson, file, indent =1)\n",
    "file.close()"
   ]
  },
  {
   "cell_type": "markdown",
   "id": "f0c205a9",
   "metadata": {},
   "source": [
    "## February"
   ]
  },
  {
   "cell_type": "code",
   "execution_count": 187,
   "id": "5dc66d0d",
   "metadata": {},
   "outputs": [
    {
     "data": {
      "text/html": [
       "<div>\n",
       "<style scoped>\n",
       "    .dataframe tbody tr th:only-of-type {\n",
       "        vertical-align: middle;\n",
       "    }\n",
       "\n",
       "    .dataframe tbody tr th {\n",
       "        vertical-align: top;\n",
       "    }\n",
       "\n",
       "    .dataframe thead th {\n",
       "        text-align: right;\n",
       "    }\n",
       "</style>\n",
       "<table border=\"1\" class=\"dataframe\">\n",
       "  <thead>\n",
       "    <tr style=\"text-align: right;\">\n",
       "      <th></th>\n",
       "      <th>sighting_date</th>\n",
       "      <th>species</th>\n",
       "      <th>latitude</th>\n",
       "      <th>longitude</th>\n",
       "      <th>number</th>\n",
       "      <th>month</th>\n",
       "    </tr>\n",
       "  </thead>\n",
       "  <tbody>\n",
       "    <tr>\n",
       "      <th>1186</th>\n",
       "      <td>2013-02-14</td>\n",
       "      <td>Monarch Larva (FIRST sighted)</td>\n",
       "      <td>33.755</td>\n",
       "      <td>-117.854</td>\n",
       "      <td>1</td>\n",
       "      <td>2</td>\n",
       "    </tr>\n",
       "    <tr>\n",
       "      <th>1187</th>\n",
       "      <td>2013-02-16</td>\n",
       "      <td>Monarch Larva (FIRST sighted)</td>\n",
       "      <td>27.770</td>\n",
       "      <td>-82.637</td>\n",
       "      <td>1</td>\n",
       "      <td>2</td>\n",
       "    </tr>\n",
       "    <tr>\n",
       "      <th>1188</th>\n",
       "      <td>2013-02-28</td>\n",
       "      <td>Monarch Larva (FIRST sighted)</td>\n",
       "      <td>28.005</td>\n",
       "      <td>-82.695</td>\n",
       "      <td>1</td>\n",
       "      <td>2</td>\n",
       "    </tr>\n",
       "  </tbody>\n",
       "</table>\n",
       "</div>"
      ],
      "text/plain": [
       "     sighting_date                        species  latitude  longitude  \\\n",
       "1186    2013-02-14  Monarch Larva (FIRST sighted)    33.755   -117.854   \n",
       "1187    2013-02-16  Monarch Larva (FIRST sighted)    27.770    -82.637   \n",
       "1188    2013-02-28  Monarch Larva (FIRST sighted)    28.005    -82.695   \n",
       "\n",
       "      number  month  \n",
       "1186       1      2  \n",
       "1187       1      2  \n",
       "1188       1      2  "
      ]
     },
     "execution_count": 187,
     "metadata": {},
     "output_type": "execute_result"
    }
   ],
   "source": [
    "JNorth_Larva_First_Site_2013_month_df =pd.DataFrame(JNorth_Larva_First_Site_2013_df)\n",
    "JNorth_Larva_First_Site_2013_2_df = JNorth_Larva_First_Site_2013_month_df[JNorth_Larva_First_Site_2013_month_df['month']==2]\n",
    "JNorth_Larva_First_Site_2013_2_df.tail()"
   ]
  },
  {
   "cell_type": "code",
   "execution_count": 188,
   "id": "2939fa09",
   "metadata": {},
   "outputs": [
    {
     "data": {
      "text/plain": [
       "(3, 6)"
      ]
     },
     "execution_count": 188,
     "metadata": {},
     "output_type": "execute_result"
    }
   ],
   "source": [
    "JNorth_Larva_First_Site_2013_2_df.shape"
   ]
  },
  {
   "cell_type": "code",
   "execution_count": 189,
   "id": "055df0e1",
   "metadata": {},
   "outputs": [],
   "source": [
    "JNorth_Larva_First_Site_2013_2_df = pd.DataFrame(JNorth_Larva_First_Site_2013_2_df)\n",
    "JNorth_Larva_First_Site_2013_2_df.drop(['month'], axis=1, inplace=True)"
   ]
  },
  {
   "cell_type": "code",
   "execution_count": 190,
   "id": "8b945994",
   "metadata": {},
   "outputs": [],
   "source": [
    "# convert lat-long to floats and change address from ALL CAPS to regular capitalization\n",
    "JNorth_Larva_First_Site_2013_2_df['latitude'] = JNorth_Larva_First_Site_2013_2_df['latitude'].astype(float)\n",
    "JNorth_Larva_First_Site_2013_2_df['longitude'] = JNorth_Larva_First_Site_2013_2_df['longitude'].astype(float)\n",
    "# JNorth_Milkweed_Site_df['street_address'] = JNorth_Milkweed_Site_df['street_address'].str.title()"
   ]
  },
  {
   "cell_type": "code",
   "execution_count": 191,
   "id": "bd2a727a",
   "metadata": {},
   "outputs": [],
   "source": [
    "geojson = df_to_geojson(JNorth_Larva_First_Site_2013_2_df, cols)"
   ]
  },
  {
   "cell_type": "code",
   "execution_count": 192,
   "id": "336c1e4d",
   "metadata": {},
   "outputs": [],
   "source": [
    "file = open(\"JNorth_Larva_First_Site_2013_2.geojson\", \"w\")\n",
    "json.dump(geojson, file, indent =1)\n",
    "file.close()"
   ]
  },
  {
   "cell_type": "markdown",
   "id": "308bd862",
   "metadata": {},
   "source": [
    "## March"
   ]
  },
  {
   "cell_type": "code",
   "execution_count": 193,
   "id": "6b02a9ba",
   "metadata": {},
   "outputs": [
    {
     "data": {
      "text/html": [
       "<div>\n",
       "<style scoped>\n",
       "    .dataframe tbody tr th:only-of-type {\n",
       "        vertical-align: middle;\n",
       "    }\n",
       "\n",
       "    .dataframe tbody tr th {\n",
       "        vertical-align: top;\n",
       "    }\n",
       "\n",
       "    .dataframe thead th {\n",
       "        text-align: right;\n",
       "    }\n",
       "</style>\n",
       "<table border=\"1\" class=\"dataframe\">\n",
       "  <thead>\n",
       "    <tr style=\"text-align: right;\">\n",
       "      <th></th>\n",
       "      <th>sighting_date</th>\n",
       "      <th>species</th>\n",
       "      <th>latitude</th>\n",
       "      <th>longitude</th>\n",
       "      <th>number</th>\n",
       "      <th>month</th>\n",
       "    </tr>\n",
       "  </thead>\n",
       "  <tbody>\n",
       "    <tr>\n",
       "      <th>1200</th>\n",
       "      <td>2013-03-27</td>\n",
       "      <td>Monarch Larva (FIRST sighted)</td>\n",
       "      <td>29.757</td>\n",
       "      <td>-95.365</td>\n",
       "      <td>1</td>\n",
       "      <td>3</td>\n",
       "    </tr>\n",
       "    <tr>\n",
       "      <th>1201</th>\n",
       "      <td>2013-03-28</td>\n",
       "      <td>Monarch Larva (FIRST sighted)</td>\n",
       "      <td>30.610</td>\n",
       "      <td>-96.386</td>\n",
       "      <td>1</td>\n",
       "      <td>3</td>\n",
       "    </tr>\n",
       "    <tr>\n",
       "      <th>1202</th>\n",
       "      <td>2013-03-29</td>\n",
       "      <td>Monarch Larva (FIRST sighted)</td>\n",
       "      <td>29.757</td>\n",
       "      <td>-95.365</td>\n",
       "      <td>1</td>\n",
       "      <td>3</td>\n",
       "    </tr>\n",
       "    <tr>\n",
       "      <th>1203</th>\n",
       "      <td>2013-03-31</td>\n",
       "      <td>Monarch Larva (FIRST sighted)</td>\n",
       "      <td>29.960</td>\n",
       "      <td>-90.216</td>\n",
       "      <td>1</td>\n",
       "      <td>3</td>\n",
       "    </tr>\n",
       "    <tr>\n",
       "      <th>1204</th>\n",
       "      <td>2013-03-31</td>\n",
       "      <td>Monarch Larva (FIRST sighted)</td>\n",
       "      <td>29.990</td>\n",
       "      <td>-90.180</td>\n",
       "      <td>1</td>\n",
       "      <td>3</td>\n",
       "    </tr>\n",
       "  </tbody>\n",
       "</table>\n",
       "</div>"
      ],
      "text/plain": [
       "     sighting_date                        species  latitude  longitude  \\\n",
       "1200    2013-03-27  Monarch Larva (FIRST sighted)    29.757    -95.365   \n",
       "1201    2013-03-28  Monarch Larva (FIRST sighted)    30.610    -96.386   \n",
       "1202    2013-03-29  Monarch Larva (FIRST sighted)    29.757    -95.365   \n",
       "1203    2013-03-31  Monarch Larva (FIRST sighted)    29.960    -90.216   \n",
       "1204    2013-03-31  Monarch Larva (FIRST sighted)    29.990    -90.180   \n",
       "\n",
       "      number  month  \n",
       "1200       1      3  \n",
       "1201       1      3  \n",
       "1202       1      3  \n",
       "1203       1      3  \n",
       "1204       1      3  "
      ]
     },
     "execution_count": 193,
     "metadata": {},
     "output_type": "execute_result"
    }
   ],
   "source": [
    "JNorth_Larva_First_Site_2013_month_df =pd.DataFrame(JNorth_Larva_First_Site_2013_df)\n",
    "JNorth_Larva_First_Site_2013_3_df = JNorth_Larva_First_Site_2013_month_df[JNorth_Larva_First_Site_2013_month_df['month']==3]\n",
    "JNorth_Larva_First_Site_2013_3_df.tail()"
   ]
  },
  {
   "cell_type": "code",
   "execution_count": 194,
   "id": "95014e39",
   "metadata": {},
   "outputs": [
    {
     "data": {
      "text/plain": [
       "(16, 6)"
      ]
     },
     "execution_count": 194,
     "metadata": {},
     "output_type": "execute_result"
    }
   ],
   "source": [
    "JNorth_Larva_First_Site_2013_3_df.shape"
   ]
  },
  {
   "cell_type": "code",
   "execution_count": 195,
   "id": "db866638",
   "metadata": {},
   "outputs": [],
   "source": [
    "JNorth_Larva_First_Site_2013_3_df = pd.DataFrame(JNorth_Larva_First_Site_2013_3_df)\n",
    "JNorth_Larva_First_Site_2013_3_df.drop(['month'], axis=1, inplace=True)"
   ]
  },
  {
   "cell_type": "code",
   "execution_count": 196,
   "id": "2e4fb224",
   "metadata": {},
   "outputs": [],
   "source": [
    "# convert lat-long to floats and change address from ALL CAPS to regular capitalization\n",
    "JNorth_Larva_First_Site_2013_3_df['latitude'] = JNorth_Larva_First_Site_2013_3_df['latitude'].astype(float)\n",
    "JNorth_Larva_First_Site_2013_3_df['longitude'] = JNorth_Larva_First_Site_2013_3_df['longitude'].astype(float)\n",
    "# JNorth_Milkweed_Site_df['street_address'] = JNorth_Milkweed_Site_df['street_address'].str.title()"
   ]
  },
  {
   "cell_type": "code",
   "execution_count": 197,
   "id": "a3df213a",
   "metadata": {},
   "outputs": [],
   "source": [
    "geojson = df_to_geojson(JNorth_Larva_First_Site_2013_3_df, cols)"
   ]
  },
  {
   "cell_type": "code",
   "execution_count": 198,
   "id": "aaaf0ed1",
   "metadata": {},
   "outputs": [],
   "source": [
    "file = open(\"JNorth_Larva_First_Site_2013_3.geojson\", \"w\")\n",
    "json.dump(geojson, file, indent =1)\n",
    "file.close()"
   ]
  },
  {
   "cell_type": "markdown",
   "id": "5b8eefd5",
   "metadata": {},
   "source": [
    "## April"
   ]
  },
  {
   "cell_type": "code",
   "execution_count": 199,
   "id": "9de021e0",
   "metadata": {},
   "outputs": [
    {
     "data": {
      "text/html": [
       "<div>\n",
       "<style scoped>\n",
       "    .dataframe tbody tr th:only-of-type {\n",
       "        vertical-align: middle;\n",
       "    }\n",
       "\n",
       "    .dataframe tbody tr th {\n",
       "        vertical-align: top;\n",
       "    }\n",
       "\n",
       "    .dataframe thead th {\n",
       "        text-align: right;\n",
       "    }\n",
       "</style>\n",
       "<table border=\"1\" class=\"dataframe\">\n",
       "  <thead>\n",
       "    <tr style=\"text-align: right;\">\n",
       "      <th></th>\n",
       "      <th>sighting_date</th>\n",
       "      <th>species</th>\n",
       "      <th>latitude</th>\n",
       "      <th>longitude</th>\n",
       "      <th>number</th>\n",
       "      <th>month</th>\n",
       "    </tr>\n",
       "  </thead>\n",
       "  <tbody>\n",
       "    <tr>\n",
       "      <th>1237</th>\n",
       "      <td>2013-04-25</td>\n",
       "      <td>Monarch Larva (FIRST sighted)</td>\n",
       "      <td>30.449</td>\n",
       "      <td>-91.188</td>\n",
       "      <td>1</td>\n",
       "      <td>4</td>\n",
       "    </tr>\n",
       "    <tr>\n",
       "      <th>1238</th>\n",
       "      <td>2013-04-25</td>\n",
       "      <td>Monarch Larva (FIRST sighted)</td>\n",
       "      <td>30.930</td>\n",
       "      <td>-97.557</td>\n",
       "      <td>1</td>\n",
       "      <td>4</td>\n",
       "    </tr>\n",
       "    <tr>\n",
       "      <th>1239</th>\n",
       "      <td>2013-04-25</td>\n",
       "      <td>Monarch Larva (FIRST sighted)</td>\n",
       "      <td>32.774</td>\n",
       "      <td>-91.709</td>\n",
       "      <td>1</td>\n",
       "      <td>4</td>\n",
       "    </tr>\n",
       "    <tr>\n",
       "      <th>1240</th>\n",
       "      <td>2013-04-25</td>\n",
       "      <td>Monarch Larva (FIRST sighted)</td>\n",
       "      <td>33.622</td>\n",
       "      <td>-95.912</td>\n",
       "      <td>1</td>\n",
       "      <td>4</td>\n",
       "    </tr>\n",
       "    <tr>\n",
       "      <th>1241</th>\n",
       "      <td>2013-04-30</td>\n",
       "      <td>Monarch Larva (FIRST sighted)</td>\n",
       "      <td>33.120</td>\n",
       "      <td>-96.790</td>\n",
       "      <td>1</td>\n",
       "      <td>4</td>\n",
       "    </tr>\n",
       "  </tbody>\n",
       "</table>\n",
       "</div>"
      ],
      "text/plain": [
       "     sighting_date                        species  latitude  longitude  \\\n",
       "1237    2013-04-25  Monarch Larva (FIRST sighted)    30.449    -91.188   \n",
       "1238    2013-04-25  Monarch Larva (FIRST sighted)    30.930    -97.557   \n",
       "1239    2013-04-25  Monarch Larva (FIRST sighted)    32.774    -91.709   \n",
       "1240    2013-04-25  Monarch Larva (FIRST sighted)    33.622    -95.912   \n",
       "1241    2013-04-30  Monarch Larva (FIRST sighted)    33.120    -96.790   \n",
       "\n",
       "      number  month  \n",
       "1237       1      4  \n",
       "1238       1      4  \n",
       "1239       1      4  \n",
       "1240       1      4  \n",
       "1241       1      4  "
      ]
     },
     "execution_count": 199,
     "metadata": {},
     "output_type": "execute_result"
    }
   ],
   "source": [
    "JNorth_Larva_First_Site_2013_month_df =pd.DataFrame(JNorth_Larva_First_Site_2013_df)\n",
    "JNorth_Larva_First_Site_2013_4_df = JNorth_Larva_First_Site_2013_month_df[JNorth_Larva_First_Site_2013_month_df['month']==4]\n",
    "JNorth_Larva_First_Site_2013_4_df.tail()"
   ]
  },
  {
   "cell_type": "code",
   "execution_count": 200,
   "id": "4a92a749",
   "metadata": {},
   "outputs": [
    {
     "data": {
      "text/plain": [
       "(37, 6)"
      ]
     },
     "execution_count": 200,
     "metadata": {},
     "output_type": "execute_result"
    }
   ],
   "source": [
    "JNorth_Larva_First_Site_2013_4_df.shape"
   ]
  },
  {
   "cell_type": "code",
   "execution_count": 201,
   "id": "c1bcccfd",
   "metadata": {},
   "outputs": [],
   "source": [
    "JNorth_Larva_First_Site_2013_4_df =pd.DataFrame(JNorth_Larva_First_Site_2013_4_df)\n",
    "JNorth_Larva_First_Site_2013_4_df.drop(['month'], axis=1, inplace=True)"
   ]
  },
  {
   "cell_type": "code",
   "execution_count": 202,
   "id": "083929cc",
   "metadata": {},
   "outputs": [],
   "source": [
    "# convert lat-long to floats and change address from ALL CAPS to regular capitalization\n",
    "JNorth_Larva_First_Site_2013_4_df['latitude'] = JNorth_Larva_First_Site_2013_4_df['latitude'].astype(float)\n",
    "JNorth_Larva_First_Site_2013_4_df['longitude'] = JNorth_Larva_First_Site_2013_4_df['longitude'].astype(float)\n",
    "# JNorth_Milkweed_Site_df['street_address'] = JNorth_Milkweed_Site_df['street_address'].str.title()"
   ]
  },
  {
   "cell_type": "code",
   "execution_count": 203,
   "id": "63ecb386",
   "metadata": {},
   "outputs": [],
   "source": [
    "geojson = df_to_geojson(JNorth_Larva_First_Site_2013_4_df, cols)"
   ]
  },
  {
   "cell_type": "code",
   "execution_count": 204,
   "id": "8da2fa34",
   "metadata": {},
   "outputs": [],
   "source": [
    "file = open(\"JNorth_Larva_First_Site_2013_4.geojson\", \"w\")\n",
    "json.dump(geojson, file, indent =1)\n",
    "file.close()"
   ]
  },
  {
   "cell_type": "markdown",
   "id": "e4b0927a",
   "metadata": {},
   "source": [
    "## May"
   ]
  },
  {
   "cell_type": "code",
   "execution_count": 205,
   "id": "08818b34",
   "metadata": {},
   "outputs": [
    {
     "data": {
      "text/html": [
       "<div>\n",
       "<style scoped>\n",
       "    .dataframe tbody tr th:only-of-type {\n",
       "        vertical-align: middle;\n",
       "    }\n",
       "\n",
       "    .dataframe tbody tr th {\n",
       "        vertical-align: top;\n",
       "    }\n",
       "\n",
       "    .dataframe thead th {\n",
       "        text-align: right;\n",
       "    }\n",
       "</style>\n",
       "<table border=\"1\" class=\"dataframe\">\n",
       "  <thead>\n",
       "    <tr style=\"text-align: right;\">\n",
       "      <th></th>\n",
       "      <th>sighting_date</th>\n",
       "      <th>species</th>\n",
       "      <th>latitude</th>\n",
       "      <th>longitude</th>\n",
       "      <th>number</th>\n",
       "      <th>month</th>\n",
       "    </tr>\n",
       "  </thead>\n",
       "  <tbody>\n",
       "    <tr>\n",
       "      <th>1250</th>\n",
       "      <td>2013-05-21</td>\n",
       "      <td>Monarch Larva (FIRST sighted)</td>\n",
       "      <td>39.774</td>\n",
       "      <td>-86.109</td>\n",
       "      <td>1</td>\n",
       "      <td>5</td>\n",
       "    </tr>\n",
       "    <tr>\n",
       "      <th>1251</th>\n",
       "      <td>2013-05-27</td>\n",
       "      <td>Monarch Larva (FIRST sighted)</td>\n",
       "      <td>26.822</td>\n",
       "      <td>-80.087</td>\n",
       "      <td>1</td>\n",
       "      <td>5</td>\n",
       "    </tr>\n",
       "    <tr>\n",
       "      <th>1252</th>\n",
       "      <td>2013-05-27</td>\n",
       "      <td>Monarch Larva (FIRST sighted)</td>\n",
       "      <td>39.390</td>\n",
       "      <td>-85.990</td>\n",
       "      <td>1</td>\n",
       "      <td>5</td>\n",
       "    </tr>\n",
       "    <tr>\n",
       "      <th>1253</th>\n",
       "      <td>2013-05-29</td>\n",
       "      <td>Monarch Larva (FIRST sighted)</td>\n",
       "      <td>38.224</td>\n",
       "      <td>-76.430</td>\n",
       "      <td>1</td>\n",
       "      <td>5</td>\n",
       "    </tr>\n",
       "    <tr>\n",
       "      <th>1254</th>\n",
       "      <td>2013-05-31</td>\n",
       "      <td>Monarch Larva (FIRST sighted)</td>\n",
       "      <td>34.346</td>\n",
       "      <td>-119.329</td>\n",
       "      <td>1</td>\n",
       "      <td>5</td>\n",
       "    </tr>\n",
       "  </tbody>\n",
       "</table>\n",
       "</div>"
      ],
      "text/plain": [
       "     sighting_date                        species  latitude  longitude  \\\n",
       "1250    2013-05-21  Monarch Larva (FIRST sighted)    39.774    -86.109   \n",
       "1251    2013-05-27  Monarch Larva (FIRST sighted)    26.822    -80.087   \n",
       "1252    2013-05-27  Monarch Larva (FIRST sighted)    39.390    -85.990   \n",
       "1253    2013-05-29  Monarch Larva (FIRST sighted)    38.224    -76.430   \n",
       "1254    2013-05-31  Monarch Larva (FIRST sighted)    34.346   -119.329   \n",
       "\n",
       "      number  month  \n",
       "1250       1      5  \n",
       "1251       1      5  \n",
       "1252       1      5  \n",
       "1253       1      5  \n",
       "1254       1      5  "
      ]
     },
     "execution_count": 205,
     "metadata": {},
     "output_type": "execute_result"
    }
   ],
   "source": [
    "JNorth_Larva_First_Site_2013_month_df =pd.DataFrame(JNorth_Larva_First_Site_2013_df)\n",
    "JNorth_Larva_First_Site_2013_5_df = JNorth_Larva_First_Site_2013_month_df[JNorth_Larva_First_Site_2013_month_df['month']==5]\n",
    "JNorth_Larva_First_Site_2013_5_df.tail()"
   ]
  },
  {
   "cell_type": "code",
   "execution_count": 206,
   "id": "8e3b442c",
   "metadata": {},
   "outputs": [
    {
     "data": {
      "text/plain": [
       "(13, 6)"
      ]
     },
     "execution_count": 206,
     "metadata": {},
     "output_type": "execute_result"
    }
   ],
   "source": [
    "JNorth_Larva_First_Site_2013_5_df.shape"
   ]
  },
  {
   "cell_type": "code",
   "execution_count": 207,
   "id": "dbcbd9d1",
   "metadata": {},
   "outputs": [],
   "source": [
    "JNorth_Larva_First_Site_2013_5_df =pd.DataFrame(JNorth_Larva_First_Site_2013_5_df)\n",
    "JNorth_Larva_First_Site_2013_5_df.drop(['month'], axis=1, inplace=True)"
   ]
  },
  {
   "cell_type": "code",
   "execution_count": 208,
   "id": "ef16ae7f",
   "metadata": {},
   "outputs": [],
   "source": [
    "# convert lat-long to floats and change address from ALL CAPS to regular capitalization\n",
    "JNorth_Larva_First_Site_2013_5_df['latitude'] = JNorth_Larva_First_Site_2013_5_df['latitude'].astype(float)\n",
    "JNorth_Larva_First_Site_2013_5_df['longitude'] = JNorth_Larva_First_Site_2013_5_df['longitude'].astype(float)\n",
    "# JNorth_Milkweed_Site_df['street_address'] = JNorth_Milkweed_Site_df['street_address'].str.title()"
   ]
  },
  {
   "cell_type": "code",
   "execution_count": 209,
   "id": "f57c29c9",
   "metadata": {},
   "outputs": [],
   "source": [
    "geojson = df_to_geojson(JNorth_Larva_First_Site_2013_5_df, cols)"
   ]
  },
  {
   "cell_type": "code",
   "execution_count": 210,
   "id": "bf28ef88",
   "metadata": {},
   "outputs": [],
   "source": [
    "file = open(\"JNorth_Larva_First_Site_2013_5.geojson\", \"w\")\n",
    "json.dump(geojson, file, indent =1)\n",
    "file.close()"
   ]
  },
  {
   "cell_type": "markdown",
   "id": "f17bf01f",
   "metadata": {},
   "source": [
    "## June"
   ]
  },
  {
   "cell_type": "code",
   "execution_count": 211,
   "id": "381829c2",
   "metadata": {},
   "outputs": [
    {
     "data": {
      "text/html": [
       "<div>\n",
       "<style scoped>\n",
       "    .dataframe tbody tr th:only-of-type {\n",
       "        vertical-align: middle;\n",
       "    }\n",
       "\n",
       "    .dataframe tbody tr th {\n",
       "        vertical-align: top;\n",
       "    }\n",
       "\n",
       "    .dataframe thead th {\n",
       "        text-align: right;\n",
       "    }\n",
       "</style>\n",
       "<table border=\"1\" class=\"dataframe\">\n",
       "  <thead>\n",
       "    <tr style=\"text-align: right;\">\n",
       "      <th></th>\n",
       "      <th>sighting_date</th>\n",
       "      <th>species</th>\n",
       "      <th>latitude</th>\n",
       "      <th>longitude</th>\n",
       "      <th>number</th>\n",
       "      <th>month</th>\n",
       "    </tr>\n",
       "  </thead>\n",
       "  <tbody>\n",
       "    <tr>\n",
       "      <th>1281</th>\n",
       "      <td>2013-06-24</td>\n",
       "      <td>Monarch Larva (FIRST sighted)</td>\n",
       "      <td>42.264</td>\n",
       "      <td>-83.839</td>\n",
       "      <td>1</td>\n",
       "      <td>6</td>\n",
       "    </tr>\n",
       "    <tr>\n",
       "      <th>1282</th>\n",
       "      <td>2013-06-25</td>\n",
       "      <td>Monarch Larva (FIRST sighted)</td>\n",
       "      <td>38.896</td>\n",
       "      <td>-77.254</td>\n",
       "      <td>1</td>\n",
       "      <td>6</td>\n",
       "    </tr>\n",
       "    <tr>\n",
       "      <th>1283</th>\n",
       "      <td>2013-06-25</td>\n",
       "      <td>Monarch Larva (FIRST sighted)</td>\n",
       "      <td>45.290</td>\n",
       "      <td>-93.425</td>\n",
       "      <td>1</td>\n",
       "      <td>6</td>\n",
       "    </tr>\n",
       "    <tr>\n",
       "      <th>1284</th>\n",
       "      <td>2013-06-28</td>\n",
       "      <td>Monarch Larva (FIRST sighted)</td>\n",
       "      <td>46.001</td>\n",
       "      <td>-94.341</td>\n",
       "      <td>1</td>\n",
       "      <td>6</td>\n",
       "    </tr>\n",
       "    <tr>\n",
       "      <th>1285</th>\n",
       "      <td>2013-06-30</td>\n",
       "      <td>Monarch Larva (FIRST sighted)</td>\n",
       "      <td>40.715</td>\n",
       "      <td>-74.366</td>\n",
       "      <td>1</td>\n",
       "      <td>6</td>\n",
       "    </tr>\n",
       "  </tbody>\n",
       "</table>\n",
       "</div>"
      ],
      "text/plain": [
       "     sighting_date                        species  latitude  longitude  \\\n",
       "1281    2013-06-24  Monarch Larva (FIRST sighted)    42.264    -83.839   \n",
       "1282    2013-06-25  Monarch Larva (FIRST sighted)    38.896    -77.254   \n",
       "1283    2013-06-25  Monarch Larva (FIRST sighted)    45.290    -93.425   \n",
       "1284    2013-06-28  Monarch Larva (FIRST sighted)    46.001    -94.341   \n",
       "1285    2013-06-30  Monarch Larva (FIRST sighted)    40.715    -74.366   \n",
       "\n",
       "      number  month  \n",
       "1281       1      6  \n",
       "1282       1      6  \n",
       "1283       1      6  \n",
       "1284       1      6  \n",
       "1285       1      6  "
      ]
     },
     "execution_count": 211,
     "metadata": {},
     "output_type": "execute_result"
    }
   ],
   "source": [
    "JNorth_Larva_First_Site_2013_month_df =pd.DataFrame(JNorth_Larva_First_Site_2013_df)\n",
    "JNorth_Larva_First_Site_2013_6_df = JNorth_Larva_First_Site_2013_month_df[JNorth_Larva_First_Site_2013_month_df['month']==6]\n",
    "JNorth_Larva_First_Site_2013_6_df.tail()"
   ]
  },
  {
   "cell_type": "code",
   "execution_count": 212,
   "id": "ec35325f",
   "metadata": {},
   "outputs": [
    {
     "data": {
      "text/plain": [
       "(31, 6)"
      ]
     },
     "execution_count": 212,
     "metadata": {},
     "output_type": "execute_result"
    }
   ],
   "source": [
    "JNorth_Larva_First_Site_2013_6_df.shape"
   ]
  },
  {
   "cell_type": "code",
   "execution_count": 213,
   "id": "8aadd64b",
   "metadata": {},
   "outputs": [],
   "source": [
    "JNorth_Larva_First_Site_2013_6_df = pd.DataFrame(JNorth_Larva_First_Site_2013_6_df)\n",
    "JNorth_Larva_First_Site_2013_6_df.drop(['month'], axis=1, inplace=True)"
   ]
  },
  {
   "cell_type": "code",
   "execution_count": 214,
   "id": "ae769a01",
   "metadata": {},
   "outputs": [],
   "source": [
    "# convert lat-long to floats and change address from ALL CAPS to regular capitalization\n",
    "JNorth_Larva_First_Site_2013_6_df['latitude'] = JNorth_Larva_First_Site_2013_6_df['latitude'].astype(float)\n",
    "JNorth_Larva_First_Site_2013_6_df['longitude'] = JNorth_Larva_First_Site_2013_6_df['longitude'].astype(float)\n",
    "# JNorth_Milkweed_Site_df['street_address'] = JNorth_Milkweed_Site_df['street_address'].str.title()"
   ]
  },
  {
   "cell_type": "code",
   "execution_count": 215,
   "id": "4e1cbc00",
   "metadata": {},
   "outputs": [],
   "source": [
    "geojson = df_to_geojson(JNorth_Larva_First_Site_2013_6_df, cols)"
   ]
  },
  {
   "cell_type": "code",
   "execution_count": 216,
   "id": "72fe008a",
   "metadata": {},
   "outputs": [],
   "source": [
    "file = open(\"JNorth_Larva_First_Site_2013_6.geojson\", \"w\")\n",
    "json.dump(geojson, file, indent =1)\n",
    "file.close()"
   ]
  },
  {
   "cell_type": "markdown",
   "id": "e88e1c71",
   "metadata": {},
   "source": [
    "## July"
   ]
  },
  {
   "cell_type": "code",
   "execution_count": 217,
   "id": "77e25b46",
   "metadata": {},
   "outputs": [
    {
     "data": {
      "text/html": [
       "<div>\n",
       "<style scoped>\n",
       "    .dataframe tbody tr th:only-of-type {\n",
       "        vertical-align: middle;\n",
       "    }\n",
       "\n",
       "    .dataframe tbody tr th {\n",
       "        vertical-align: top;\n",
       "    }\n",
       "\n",
       "    .dataframe thead th {\n",
       "        text-align: right;\n",
       "    }\n",
       "</style>\n",
       "<table border=\"1\" class=\"dataframe\">\n",
       "  <thead>\n",
       "    <tr style=\"text-align: right;\">\n",
       "      <th></th>\n",
       "      <th>sighting_date</th>\n",
       "      <th>species</th>\n",
       "      <th>latitude</th>\n",
       "      <th>longitude</th>\n",
       "      <th>number</th>\n",
       "      <th>month</th>\n",
       "    </tr>\n",
       "  </thead>\n",
       "  <tbody>\n",
       "    <tr>\n",
       "      <th>1327</th>\n",
       "      <td>2013-07-27</td>\n",
       "      <td>Monarch Larva (FIRST sighted)</td>\n",
       "      <td>45.009</td>\n",
       "      <td>-93.340</td>\n",
       "      <td>1</td>\n",
       "      <td>7</td>\n",
       "    </tr>\n",
       "    <tr>\n",
       "      <th>1328</th>\n",
       "      <td>2013-07-27</td>\n",
       "      <td>Monarch Larva (FIRST sighted)</td>\n",
       "      <td>50.252</td>\n",
       "      <td>-96.056</td>\n",
       "      <td>1</td>\n",
       "      <td>7</td>\n",
       "    </tr>\n",
       "    <tr>\n",
       "      <th>1329</th>\n",
       "      <td>2013-07-30</td>\n",
       "      <td>Monarch Larva (FIRST sighted)</td>\n",
       "      <td>32.291</td>\n",
       "      <td>-89.889</td>\n",
       "      <td>1</td>\n",
       "      <td>7</td>\n",
       "    </tr>\n",
       "    <tr>\n",
       "      <th>1330</th>\n",
       "      <td>2013-07-30</td>\n",
       "      <td>Monarch Larva (FIRST sighted)</td>\n",
       "      <td>37.686</td>\n",
       "      <td>-97.335</td>\n",
       "      <td>1</td>\n",
       "      <td>7</td>\n",
       "    </tr>\n",
       "    <tr>\n",
       "      <th>1331</th>\n",
       "      <td>2013-07-31</td>\n",
       "      <td>Monarch Larva (FIRST sighted)</td>\n",
       "      <td>41.449</td>\n",
       "      <td>-81.394</td>\n",
       "      <td>1</td>\n",
       "      <td>7</td>\n",
       "    </tr>\n",
       "  </tbody>\n",
       "</table>\n",
       "</div>"
      ],
      "text/plain": [
       "     sighting_date                        species  latitude  longitude  \\\n",
       "1327    2013-07-27  Monarch Larva (FIRST sighted)    45.009    -93.340   \n",
       "1328    2013-07-27  Monarch Larva (FIRST sighted)    50.252    -96.056   \n",
       "1329    2013-07-30  Monarch Larva (FIRST sighted)    32.291    -89.889   \n",
       "1330    2013-07-30  Monarch Larva (FIRST sighted)    37.686    -97.335   \n",
       "1331    2013-07-31  Monarch Larva (FIRST sighted)    41.449    -81.394   \n",
       "\n",
       "      number  month  \n",
       "1327       1      7  \n",
       "1328       1      7  \n",
       "1329       1      7  \n",
       "1330       1      7  \n",
       "1331       1      7  "
      ]
     },
     "execution_count": 217,
     "metadata": {},
     "output_type": "execute_result"
    }
   ],
   "source": [
    "JNorth_Larva_First_Site_2013_month_df =pd.DataFrame(JNorth_Larva_First_Site_2013_df)\n",
    "JNorth_Larva_First_Site_2013_7_df = JNorth_Larva_First_Site_2013_month_df[JNorth_Larva_First_Site_2013_month_df['month']==7]\n",
    "JNorth_Larva_First_Site_2013_7_df.tail()"
   ]
  },
  {
   "cell_type": "code",
   "execution_count": 218,
   "id": "a2dd7a68",
   "metadata": {},
   "outputs": [
    {
     "data": {
      "text/plain": [
       "(46, 6)"
      ]
     },
     "execution_count": 218,
     "metadata": {},
     "output_type": "execute_result"
    }
   ],
   "source": [
    "JNorth_Larva_First_Site_2013_7_df.shape"
   ]
  },
  {
   "cell_type": "code",
   "execution_count": 219,
   "id": "9aa6caeb",
   "metadata": {},
   "outputs": [],
   "source": [
    "JNorth_Larva_First_Site_2013_7_df = pd.DataFrame(JNorth_Larva_First_Site_2013_7_df)\n",
    "JNorth_Larva_First_Site_2013_7_df.drop(['month'], axis=1, inplace=True)"
   ]
  },
  {
   "cell_type": "code",
   "execution_count": 220,
   "id": "42748eef",
   "metadata": {},
   "outputs": [],
   "source": [
    "# convert lat-long to floats and change address from ALL CAPS to regular capitalization\n",
    "JNorth_Larva_First_Site_2013_7_df['latitude'] = JNorth_Larva_First_Site_2013_7_df['latitude'].astype(float)\n",
    "JNorth_Larva_First_Site_2013_7_df['longitude'] = JNorth_Larva_First_Site_2013_7_df['longitude'].astype(float)\n",
    "# JNorth_Milkweed_Site_df['street_address'] = JNorth_Milkweed_Site_df['street_address'].str.title()"
   ]
  },
  {
   "cell_type": "code",
   "execution_count": 221,
   "id": "c0ff994e",
   "metadata": {},
   "outputs": [],
   "source": [
    "geojson = df_to_geojson(JNorth_Larva_First_Site_2013_7_df, cols)"
   ]
  },
  {
   "cell_type": "code",
   "execution_count": 222,
   "id": "a72a37d3",
   "metadata": {},
   "outputs": [],
   "source": [
    "file = open(\"JNorth_Larva_First_Site_2013_7.geojson\", \"w\")\n",
    "json.dump(geojson, file, indent =1)\n",
    "file.close()"
   ]
  },
  {
   "cell_type": "markdown",
   "id": "4ebd9239",
   "metadata": {},
   "source": [
    "## August"
   ]
  },
  {
   "cell_type": "code",
   "execution_count": 223,
   "id": "5c9ebe9f",
   "metadata": {},
   "outputs": [
    {
     "data": {
      "text/html": [
       "<div>\n",
       "<style scoped>\n",
       "    .dataframe tbody tr th:only-of-type {\n",
       "        vertical-align: middle;\n",
       "    }\n",
       "\n",
       "    .dataframe tbody tr th {\n",
       "        vertical-align: top;\n",
       "    }\n",
       "\n",
       "    .dataframe thead th {\n",
       "        text-align: right;\n",
       "    }\n",
       "</style>\n",
       "<table border=\"1\" class=\"dataframe\">\n",
       "  <thead>\n",
       "    <tr style=\"text-align: right;\">\n",
       "      <th></th>\n",
       "      <th>sighting_date</th>\n",
       "      <th>species</th>\n",
       "      <th>latitude</th>\n",
       "      <th>longitude</th>\n",
       "      <th>number</th>\n",
       "      <th>month</th>\n",
       "    </tr>\n",
       "  </thead>\n",
       "  <tbody>\n",
       "    <tr>\n",
       "      <th>1332</th>\n",
       "      <td>2013-08-10</td>\n",
       "      <td>Monarch Larva (FIRST sighted)</td>\n",
       "      <td>41.78</td>\n",
       "      <td>-72.623</td>\n",
       "      <td>1</td>\n",
       "      <td>8</td>\n",
       "    </tr>\n",
       "  </tbody>\n",
       "</table>\n",
       "</div>"
      ],
      "text/plain": [
       "     sighting_date                        species  latitude  longitude  \\\n",
       "1332    2013-08-10  Monarch Larva (FIRST sighted)     41.78    -72.623   \n",
       "\n",
       "      number  month  \n",
       "1332       1      8  "
      ]
     },
     "execution_count": 223,
     "metadata": {},
     "output_type": "execute_result"
    }
   ],
   "source": [
    "JNorth_Larva_First_Site_2013_month_df =pd.DataFrame(JNorth_Larva_First_Site_2013_df)\n",
    "JNorth_Larva_First_Site_2013_8_df = JNorth_Larva_First_Site_2013_month_df[JNorth_Larva_First_Site_2013_month_df['month']==8]\n",
    "JNorth_Larva_First_Site_2013_8_df.tail()"
   ]
  },
  {
   "cell_type": "code",
   "execution_count": 224,
   "id": "ac0f88df",
   "metadata": {},
   "outputs": [
    {
     "data": {
      "text/plain": [
       "(1, 6)"
      ]
     },
     "execution_count": 224,
     "metadata": {},
     "output_type": "execute_result"
    }
   ],
   "source": [
    "JNorth_Larva_First_Site_2013_8_df.shape"
   ]
  },
  {
   "cell_type": "code",
   "execution_count": 225,
   "id": "a227591e",
   "metadata": {},
   "outputs": [],
   "source": [
    "JNorth_Larva_First_Site_2013_8_df = pd.DataFrame(JNorth_Larva_First_Site_2013_8_df)\n",
    "JNorth_Larva_First_Site_2013_8_df.drop(['month'], axis=1, inplace=True)"
   ]
  },
  {
   "cell_type": "code",
   "execution_count": 226,
   "id": "4e211578",
   "metadata": {},
   "outputs": [],
   "source": [
    "# convert lat-long to floats and change address from ALL CAPS to regular capitalization\n",
    "JNorth_Larva_First_Site_2013_8_df['latitude'] = JNorth_Larva_First_Site_2013_8_df['latitude'].astype(float)\n",
    "JNorth_Larva_First_Site_2013_8_df['longitude'] = JNorth_Larva_First_Site_2013_8_df['longitude'].astype(float)\n",
    "# JNorth_Milkweed_Site_df['street_address'] = JNorth_Milkweed_Site_df['street_address'].str.title()"
   ]
  },
  {
   "cell_type": "code",
   "execution_count": 227,
   "id": "01db8160",
   "metadata": {},
   "outputs": [],
   "source": [
    "geojson = df_to_geojson(JNorth_Larva_First_Site_2013_8_df, cols)"
   ]
  },
  {
   "cell_type": "code",
   "execution_count": 228,
   "id": "3fdff8db",
   "metadata": {},
   "outputs": [],
   "source": [
    "file = open(\"JNorth_Larva_First_Site_2013_8.geojson\", \"w\")\n",
    "json.dump(geojson, file, indent =1)\n",
    "file.close()"
   ]
  },
  {
   "cell_type": "markdown",
   "id": "15eef5a5",
   "metadata": {},
   "source": [
    "## September"
   ]
  },
  {
   "cell_type": "code",
   "execution_count": 229,
   "id": "4201b041",
   "metadata": {},
   "outputs": [
    {
     "data": {
      "text/html": [
       "<div>\n",
       "<style scoped>\n",
       "    .dataframe tbody tr th:only-of-type {\n",
       "        vertical-align: middle;\n",
       "    }\n",
       "\n",
       "    .dataframe tbody tr th {\n",
       "        vertical-align: top;\n",
       "    }\n",
       "\n",
       "    .dataframe thead th {\n",
       "        text-align: right;\n",
       "    }\n",
       "</style>\n",
       "<table border=\"1\" class=\"dataframe\">\n",
       "  <thead>\n",
       "    <tr style=\"text-align: right;\">\n",
       "      <th></th>\n",
       "      <th>sighting_date</th>\n",
       "      <th>species</th>\n",
       "      <th>latitude</th>\n",
       "      <th>longitude</th>\n",
       "      <th>number</th>\n",
       "      <th>month</th>\n",
       "    </tr>\n",
       "  </thead>\n",
       "  <tbody>\n",
       "  </tbody>\n",
       "</table>\n",
       "</div>"
      ],
      "text/plain": [
       "Empty DataFrame\n",
       "Columns: [sighting_date, species, latitude, longitude, number, month]\n",
       "Index: []"
      ]
     },
     "execution_count": 229,
     "metadata": {},
     "output_type": "execute_result"
    }
   ],
   "source": [
    "JNorth_Larva_First_Site_2013_month_df =pd.DataFrame(JNorth_Larva_First_Site_2013_df)\n",
    "JNorth_Larva_First_Site_2013_9_df = JNorth_Larva_First_Site_2013_month_df[JNorth_Larva_First_Site_2013_month_df['month']==9]\n",
    "JNorth_Larva_First_Site_2013_9_df.tail()"
   ]
  },
  {
   "cell_type": "code",
   "execution_count": 230,
   "id": "516fca91",
   "metadata": {},
   "outputs": [
    {
     "data": {
      "text/plain": [
       "(0, 6)"
      ]
     },
     "execution_count": 230,
     "metadata": {},
     "output_type": "execute_result"
    }
   ],
   "source": [
    "JNorth_Larva_First_Site_2013_9_df.shape"
   ]
  },
  {
   "cell_type": "code",
   "execution_count": 231,
   "id": "a6b91576",
   "metadata": {},
   "outputs": [],
   "source": [
    "JNorth_Larva_First_Site_2013_9_df = pd.DataFrame(JNorth_Larva_First_Site_2013_9_df)\n",
    "JNorth_Larva_First_Site_2013_9_df.drop(['month'], axis=1, inplace=True)"
   ]
  },
  {
   "cell_type": "code",
   "execution_count": 232,
   "id": "8033ae13",
   "metadata": {},
   "outputs": [],
   "source": [
    "# convert lat-long to floats and change address from ALL CAPS to regular capitalization\n",
    "JNorth_Larva_First_Site_2013_9_df['latitude'] = JNorth_Larva_First_Site_2013_9_df['latitude'].astype(float)\n",
    "JNorth_Larva_First_Site_2013_9_df['longitude'] = JNorth_Larva_First_Site_2013_9_df['longitude'].astype(float)\n",
    "# JNorth_Milkweed_Site_df['street_address'] = JNorth_Milkweed_Site_df['street_address'].str.title()"
   ]
  },
  {
   "cell_type": "code",
   "execution_count": 233,
   "id": "da8fe8ce",
   "metadata": {},
   "outputs": [],
   "source": [
    "geojson = df_to_geojson(JNorth_Larva_First_Site_2013_9_df, cols)"
   ]
  },
  {
   "cell_type": "code",
   "execution_count": 234,
   "id": "13e5f165",
   "metadata": {},
   "outputs": [],
   "source": [
    "file = open(\"JNorth_Larva_First_Site_2013_9.geojson\", \"w\")\n",
    "json.dump(geojson, file, indent =1)\n",
    "file.close()"
   ]
  },
  {
   "cell_type": "markdown",
   "id": "ae2cb912",
   "metadata": {},
   "source": [
    "## October"
   ]
  },
  {
   "cell_type": "code",
   "execution_count": 235,
   "id": "4f1607ef",
   "metadata": {},
   "outputs": [
    {
     "data": {
      "text/html": [
       "<div>\n",
       "<style scoped>\n",
       "    .dataframe tbody tr th:only-of-type {\n",
       "        vertical-align: middle;\n",
       "    }\n",
       "\n",
       "    .dataframe tbody tr th {\n",
       "        vertical-align: top;\n",
       "    }\n",
       "\n",
       "    .dataframe thead th {\n",
       "        text-align: right;\n",
       "    }\n",
       "</style>\n",
       "<table border=\"1\" class=\"dataframe\">\n",
       "  <thead>\n",
       "    <tr style=\"text-align: right;\">\n",
       "      <th></th>\n",
       "      <th>sighting_date</th>\n",
       "      <th>species</th>\n",
       "      <th>latitude</th>\n",
       "      <th>longitude</th>\n",
       "      <th>number</th>\n",
       "      <th>month</th>\n",
       "    </tr>\n",
       "  </thead>\n",
       "  <tbody>\n",
       "  </tbody>\n",
       "</table>\n",
       "</div>"
      ],
      "text/plain": [
       "Empty DataFrame\n",
       "Columns: [sighting_date, species, latitude, longitude, number, month]\n",
       "Index: []"
      ]
     },
     "execution_count": 235,
     "metadata": {},
     "output_type": "execute_result"
    }
   ],
   "source": [
    "JNorth_Larva_First_Site_2013_month_df =pd.DataFrame(JNorth_Larva_First_Site_2013_df)\n",
    "JNorth_Larva_First_Site_2013_10_df = JNorth_Larva_First_Site_2013_month_df[JNorth_Larva_First_Site_2013_month_df['month']==10]\n",
    "JNorth_Larva_First_Site_2013_10_df.tail()"
   ]
  },
  {
   "cell_type": "code",
   "execution_count": 236,
   "id": "a53315bd",
   "metadata": {},
   "outputs": [
    {
     "data": {
      "text/plain": [
       "(0, 6)"
      ]
     },
     "execution_count": 236,
     "metadata": {},
     "output_type": "execute_result"
    }
   ],
   "source": [
    "JNorth_Larva_First_Site_2013_10_df.shape"
   ]
  },
  {
   "cell_type": "code",
   "execution_count": 237,
   "id": "3d9e0ab1",
   "metadata": {},
   "outputs": [],
   "source": [
    "JNorth_Larva_First_Site_2013_10_df = pd.DataFrame(JNorth_Larva_First_Site_2013_10_df)\n",
    "JNorth_Larva_First_Site_2013_10_df.drop(['month'], axis=1, inplace=True)"
   ]
  },
  {
   "cell_type": "code",
   "execution_count": 238,
   "id": "0727e4cf",
   "metadata": {},
   "outputs": [],
   "source": [
    "# convert lat-long to floats and change address from ALL CAPS to regular capitalization\n",
    "JNorth_Larva_First_Site_2013_10_df['latitude'] = JNorth_Larva_First_Site_2013_10_df['latitude'].astype(float)\n",
    "JNorth_Larva_First_Site_2013_10_df['longitude'] = JNorth_Larva_First_Site_2013_10_df['longitude'].astype(float)\n",
    "# JNorth_Milkweed_Site_df['street_address'] = JNorth_Milkweed_Site_df['street_address'].str.title()"
   ]
  },
  {
   "cell_type": "code",
   "execution_count": 239,
   "id": "a86f9fa3",
   "metadata": {},
   "outputs": [],
   "source": [
    "geojson = df_to_geojson(JNorth_Larva_First_Site_2013_10_df, cols)"
   ]
  },
  {
   "cell_type": "code",
   "execution_count": 240,
   "id": "99899523",
   "metadata": {},
   "outputs": [],
   "source": [
    "file = open(\"JNorth_Larva_First_Site_2013_10.geojson\", \"w\")\n",
    "json.dump(geojson, file, indent =1)\n",
    "file.close()"
   ]
  },
  {
   "cell_type": "markdown",
   "id": "4b968d63",
   "metadata": {},
   "source": [
    "## November"
   ]
  },
  {
   "cell_type": "code",
   "execution_count": 241,
   "id": "2c7b2095",
   "metadata": {},
   "outputs": [
    {
     "data": {
      "text/html": [
       "<div>\n",
       "<style scoped>\n",
       "    .dataframe tbody tr th:only-of-type {\n",
       "        vertical-align: middle;\n",
       "    }\n",
       "\n",
       "    .dataframe tbody tr th {\n",
       "        vertical-align: top;\n",
       "    }\n",
       "\n",
       "    .dataframe thead th {\n",
       "        text-align: right;\n",
       "    }\n",
       "</style>\n",
       "<table border=\"1\" class=\"dataframe\">\n",
       "  <thead>\n",
       "    <tr style=\"text-align: right;\">\n",
       "      <th></th>\n",
       "      <th>sighting_date</th>\n",
       "      <th>species</th>\n",
       "      <th>latitude</th>\n",
       "      <th>longitude</th>\n",
       "      <th>number</th>\n",
       "      <th>month</th>\n",
       "    </tr>\n",
       "  </thead>\n",
       "  <tbody>\n",
       "  </tbody>\n",
       "</table>\n",
       "</div>"
      ],
      "text/plain": [
       "Empty DataFrame\n",
       "Columns: [sighting_date, species, latitude, longitude, number, month]\n",
       "Index: []"
      ]
     },
     "execution_count": 241,
     "metadata": {},
     "output_type": "execute_result"
    }
   ],
   "source": [
    "JNorth_Larva_First_Site_2013_month_df =pd.DataFrame(JNorth_Larva_First_Site_2013_df)\n",
    "JNorth_Larva_First_Site_2013_11_df = JNorth_Larva_First_Site_2013_month_df[JNorth_Larva_First_Site_2013_month_df['month']==11]\n",
    "JNorth_Larva_First_Site_2013_11_df.tail()"
   ]
  },
  {
   "cell_type": "code",
   "execution_count": 242,
   "id": "fc92dbf5",
   "metadata": {},
   "outputs": [
    {
     "data": {
      "text/plain": [
       "(0, 6)"
      ]
     },
     "execution_count": 242,
     "metadata": {},
     "output_type": "execute_result"
    }
   ],
   "source": [
    "JNorth_Larva_First_Site_2013_11_df.shape"
   ]
  },
  {
   "cell_type": "code",
   "execution_count": 243,
   "id": "f87961bf",
   "metadata": {},
   "outputs": [],
   "source": [
    "JNorth_Larva_First_Site_2013_11_df = pd.DataFrame(JNorth_Larva_First_Site_2013_11_df)\n",
    "JNorth_Larva_First_Site_2013_11_df.drop(['month'], axis=1, inplace=True)"
   ]
  },
  {
   "cell_type": "code",
   "execution_count": 244,
   "id": "bfa4940c",
   "metadata": {},
   "outputs": [],
   "source": [
    "# convert lat-long to floats and change address from ALL CAPS to regular capitalization\n",
    "JNorth_Larva_First_Site_2013_11_df['latitude'] = JNorth_Larva_First_Site_2013_11_df['latitude'].astype(float)\n",
    "JNorth_Larva_First_Site_2013_11_df['longitude'] = JNorth_Larva_First_Site_2013_11_df['longitude'].astype(float)\n",
    "# JNorth_Milkweed_Site_df['street_address'] = JNorth_Milkweed_Site_df['street_address'].str.title()"
   ]
  },
  {
   "cell_type": "code",
   "execution_count": 245,
   "id": "2d6164a8",
   "metadata": {},
   "outputs": [],
   "source": [
    "geojson = df_to_geojson(JNorth_Larva_First_Site_2013_11_df, cols)"
   ]
  },
  {
   "cell_type": "code",
   "execution_count": 246,
   "id": "56e38bba",
   "metadata": {},
   "outputs": [],
   "source": [
    "file = open(\"JNorth_Larva_First_Site_2013_11.geojson\", \"w\")\n",
    "json.dump(geojson, file, indent =1)\n",
    "file.close()"
   ]
  },
  {
   "cell_type": "markdown",
   "id": "2b8ef922",
   "metadata": {},
   "source": [
    "## December"
   ]
  },
  {
   "cell_type": "code",
   "execution_count": 247,
   "id": "af6c5f79",
   "metadata": {},
   "outputs": [
    {
     "data": {
      "text/html": [
       "<div>\n",
       "<style scoped>\n",
       "    .dataframe tbody tr th:only-of-type {\n",
       "        vertical-align: middle;\n",
       "    }\n",
       "\n",
       "    .dataframe tbody tr th {\n",
       "        vertical-align: top;\n",
       "    }\n",
       "\n",
       "    .dataframe thead th {\n",
       "        text-align: right;\n",
       "    }\n",
       "</style>\n",
       "<table border=\"1\" class=\"dataframe\">\n",
       "  <thead>\n",
       "    <tr style=\"text-align: right;\">\n",
       "      <th></th>\n",
       "      <th>sighting_date</th>\n",
       "      <th>species</th>\n",
       "      <th>latitude</th>\n",
       "      <th>longitude</th>\n",
       "      <th>number</th>\n",
       "      <th>month</th>\n",
       "    </tr>\n",
       "  </thead>\n",
       "  <tbody>\n",
       "  </tbody>\n",
       "</table>\n",
       "</div>"
      ],
      "text/plain": [
       "Empty DataFrame\n",
       "Columns: [sighting_date, species, latitude, longitude, number, month]\n",
       "Index: []"
      ]
     },
     "execution_count": 247,
     "metadata": {},
     "output_type": "execute_result"
    }
   ],
   "source": [
    "JNorth_Larva_First_Site_2013_month_df =pd.DataFrame(JNorth_Larva_First_Site_2013_df)\n",
    "JNorth_Larva_First_Site_2013_12_df = JNorth_Larva_First_Site_2013_month_df[JNorth_Larva_First_Site_2013_month_df['month']==12]\n",
    "JNorth_Larva_First_Site_2013_12_df.tail()"
   ]
  },
  {
   "cell_type": "code",
   "execution_count": 248,
   "id": "18b6eb6b",
   "metadata": {},
   "outputs": [
    {
     "data": {
      "text/plain": [
       "(0, 6)"
      ]
     },
     "execution_count": 248,
     "metadata": {},
     "output_type": "execute_result"
    }
   ],
   "source": [
    "JNorth_Larva_First_Site_2013_12_df.shape"
   ]
  },
  {
   "cell_type": "code",
   "execution_count": 249,
   "id": "c0ea8b6c",
   "metadata": {},
   "outputs": [],
   "source": [
    "JNorth_Larva_First_Site_2013_12_df = pd.DataFrame(JNorth_Larva_First_Site_2013_12_df)\n",
    "JNorth_Larva_First_Site_2013_12_df.drop(['month'], axis=1, inplace=True)"
   ]
  },
  {
   "cell_type": "code",
   "execution_count": 250,
   "id": "778d493b",
   "metadata": {},
   "outputs": [],
   "source": [
    "# convert lat-long to floats and change address from ALL CAPS to regular capitalization\n",
    "JNorth_Larva_First_Site_2013_12_df['latitude'] = JNorth_Larva_First_Site_2013_12_df['latitude'].astype(float)\n",
    "JNorth_Larva_First_Site_2013_12_df['longitude'] = JNorth_Larva_First_Site_2013_12_df['longitude'].astype(float)\n",
    "# JNorth_Milkweed_Site_df['street_address'] = JNorth_Milkweed_Site_df['street_address'].str.title()"
   ]
  },
  {
   "cell_type": "code",
   "execution_count": 251,
   "id": "417d2972",
   "metadata": {},
   "outputs": [],
   "source": [
    "geojson = df_to_geojson(JNorth_Larva_First_Site_2013_12_df, cols)"
   ]
  },
  {
   "cell_type": "code",
   "execution_count": 252,
   "id": "2a518380",
   "metadata": {},
   "outputs": [],
   "source": [
    "file = open(\"JNorth_Larva_First_Site_2013_12.geojson\", \"w\")\n",
    "json.dump(geojson, file, indent =1)\n",
    "file.close()"
   ]
  },
  {
   "cell_type": "markdown",
   "id": "37696255",
   "metadata": {},
   "source": [
    "# 2014"
   ]
  },
  {
   "cell_type": "code",
   "execution_count": 253,
   "id": "c5711fe9",
   "metadata": {},
   "outputs": [
    {
     "data": {
      "text/html": [
       "<div>\n",
       "<style scoped>\n",
       "    .dataframe tbody tr th:only-of-type {\n",
       "        vertical-align: middle;\n",
       "    }\n",
       "\n",
       "    .dataframe tbody tr th {\n",
       "        vertical-align: top;\n",
       "    }\n",
       "\n",
       "    .dataframe thead th {\n",
       "        text-align: right;\n",
       "    }\n",
       "</style>\n",
       "<table border=\"1\" class=\"dataframe\">\n",
       "  <thead>\n",
       "    <tr style=\"text-align: right;\">\n",
       "      <th></th>\n",
       "      <th>sighting_date</th>\n",
       "      <th>species</th>\n",
       "      <th>latitude</th>\n",
       "      <th>longitude</th>\n",
       "      <th>number</th>\n",
       "      <th>year</th>\n",
       "    </tr>\n",
       "  </thead>\n",
       "  <tbody>\n",
       "    <tr>\n",
       "      <th>1610</th>\n",
       "      <td>2014-07-28</td>\n",
       "      <td>Monarch Larva (FIRST sighted)</td>\n",
       "      <td>45.350</td>\n",
       "      <td>-76.033</td>\n",
       "      <td>1</td>\n",
       "      <td>2014</td>\n",
       "    </tr>\n",
       "    <tr>\n",
       "      <th>1611</th>\n",
       "      <td>2014-07-30</td>\n",
       "      <td>Monarch Larva (FIRST sighted)</td>\n",
       "      <td>29.990</td>\n",
       "      <td>-90.180</td>\n",
       "      <td>1</td>\n",
       "      <td>2014</td>\n",
       "    </tr>\n",
       "    <tr>\n",
       "      <th>1612</th>\n",
       "      <td>2014-07-31</td>\n",
       "      <td>Monarch Larva (FIRST sighted)</td>\n",
       "      <td>44.266</td>\n",
       "      <td>-73.222</td>\n",
       "      <td>1</td>\n",
       "      <td>2014</td>\n",
       "    </tr>\n",
       "    <tr>\n",
       "      <th>1613</th>\n",
       "      <td>2014-12-25</td>\n",
       "      <td>Monarch Larva (FIRST sighted)</td>\n",
       "      <td>34.099</td>\n",
       "      <td>-117.581</td>\n",
       "      <td>1</td>\n",
       "      <td>2014</td>\n",
       "    </tr>\n",
       "    <tr>\n",
       "      <th>1614</th>\n",
       "      <td>2014-12-29</td>\n",
       "      <td>Monarch Larva (FIRST sighted)</td>\n",
       "      <td>28.035</td>\n",
       "      <td>-82.389</td>\n",
       "      <td>1</td>\n",
       "      <td>2014</td>\n",
       "    </tr>\n",
       "  </tbody>\n",
       "</table>\n",
       "</div>"
      ],
      "text/plain": [
       "     sighting_date                        species  latitude  longitude  \\\n",
       "1610    2014-07-28  Monarch Larva (FIRST sighted)    45.350    -76.033   \n",
       "1611    2014-07-30  Monarch Larva (FIRST sighted)    29.990    -90.180   \n",
       "1612    2014-07-31  Monarch Larva (FIRST sighted)    44.266    -73.222   \n",
       "1613    2014-12-25  Monarch Larva (FIRST sighted)    34.099   -117.581   \n",
       "1614    2014-12-29  Monarch Larva (FIRST sighted)    28.035    -82.389   \n",
       "\n",
       "      number  year  \n",
       "1610       1  2014  \n",
       "1611       1  2014  \n",
       "1612       1  2014  \n",
       "1613       1  2014  \n",
       "1614       1  2014  "
      ]
     },
     "execution_count": 253,
     "metadata": {},
     "output_type": "execute_result"
    }
   ],
   "source": [
    "JNorth_Larva_First_Site_2014_df = JNorth_Larva_First_Site_year_df[JNorth_Larva_First_Site_year_df['year']==2014]\n",
    "JNorth_Larva_First_Site_2014_df.tail()"
   ]
  },
  {
   "cell_type": "code",
   "execution_count": 254,
   "id": "aa5b49d4",
   "metadata": {},
   "outputs": [
    {
     "data": {
      "text/plain": [
       "(282, 6)"
      ]
     },
     "execution_count": 254,
     "metadata": {},
     "output_type": "execute_result"
    }
   ],
   "source": [
    "JNorth_Larva_First_Site_2014_df.shape"
   ]
  },
  {
   "cell_type": "code",
   "execution_count": 255,
   "id": "a1f18555",
   "metadata": {},
   "outputs": [],
   "source": [
    "JNorth_Larva_First_Site_2014_df = pd.DataFrame(JNorth_Larva_First_Site_2014_df)\n",
    "JNorth_Larva_First_Site_2014_df.drop(['year'], axis=1, inplace=True)"
   ]
  },
  {
   "cell_type": "code",
   "execution_count": 256,
   "id": "67e0613b",
   "metadata": {},
   "outputs": [
    {
     "data": {
      "text/plain": [
       "<bound method NDFrame.tail of      sighting_date                        species  latitude  longitude  number\n",
       "1333    2014-01-04  Monarch Larva (FIRST sighted)    37.387   -121.897       1\n",
       "1334    2014-01-06  Monarch Larva (FIRST sighted)    30.034    -95.261       1\n",
       "1335    2014-01-20  Monarch Larva (FIRST sighted)    33.755   -117.854       1\n",
       "1336    2014-01-22  Monarch Larva (FIRST sighted)    30.420    -87.224       1\n",
       "1337    2014-01-24  Monarch Larva (FIRST sighted)    34.015   -118.492       1\n",
       "...            ...                            ...       ...        ...     ...\n",
       "1610    2014-07-28  Monarch Larva (FIRST sighted)    45.350    -76.033       1\n",
       "1611    2014-07-30  Monarch Larva (FIRST sighted)    29.990    -90.180       1\n",
       "1612    2014-07-31  Monarch Larva (FIRST sighted)    44.266    -73.222       1\n",
       "1613    2014-12-25  Monarch Larva (FIRST sighted)    34.099   -117.581       1\n",
       "1614    2014-12-29  Monarch Larva (FIRST sighted)    28.035    -82.389       1\n",
       "\n",
       "[282 rows x 5 columns]>"
      ]
     },
     "execution_count": 256,
     "metadata": {},
     "output_type": "execute_result"
    }
   ],
   "source": [
    "JNorth_Larva_First_Site_2014_df.tail"
   ]
  },
  {
   "cell_type": "code",
   "execution_count": 257,
   "id": "101e0e9c",
   "metadata": {},
   "outputs": [],
   "source": [
    "JNorth_Larva_First_Site_2014_df['month'] = pd.DatetimeIndex(JNorth_Larva_First_Site_2014_df['sighting_date']).month"
   ]
  },
  {
   "cell_type": "markdown",
   "id": "a21ec5a6",
   "metadata": {},
   "source": [
    "## January"
   ]
  },
  {
   "cell_type": "code",
   "execution_count": 258,
   "id": "cba59950",
   "metadata": {},
   "outputs": [
    {
     "data": {
      "text/html": [
       "<div>\n",
       "<style scoped>\n",
       "    .dataframe tbody tr th:only-of-type {\n",
       "        vertical-align: middle;\n",
       "    }\n",
       "\n",
       "    .dataframe tbody tr th {\n",
       "        vertical-align: top;\n",
       "    }\n",
       "\n",
       "    .dataframe thead th {\n",
       "        text-align: right;\n",
       "    }\n",
       "</style>\n",
       "<table border=\"1\" class=\"dataframe\">\n",
       "  <thead>\n",
       "    <tr style=\"text-align: right;\">\n",
       "      <th></th>\n",
       "      <th>sighting_date</th>\n",
       "      <th>species</th>\n",
       "      <th>latitude</th>\n",
       "      <th>longitude</th>\n",
       "      <th>number</th>\n",
       "      <th>month</th>\n",
       "    </tr>\n",
       "  </thead>\n",
       "  <tbody>\n",
       "    <tr>\n",
       "      <th>1336</th>\n",
       "      <td>2014-01-22</td>\n",
       "      <td>Monarch Larva (FIRST sighted)</td>\n",
       "      <td>30.420</td>\n",
       "      <td>-87.224</td>\n",
       "      <td>1</td>\n",
       "      <td>1</td>\n",
       "    </tr>\n",
       "    <tr>\n",
       "      <th>1337</th>\n",
       "      <td>2014-01-24</td>\n",
       "      <td>Monarch Larva (FIRST sighted)</td>\n",
       "      <td>34.015</td>\n",
       "      <td>-118.492</td>\n",
       "      <td>1</td>\n",
       "      <td>1</td>\n",
       "    </tr>\n",
       "    <tr>\n",
       "      <th>1338</th>\n",
       "      <td>2014-01-28</td>\n",
       "      <td>Monarch Larva (FIRST sighted)</td>\n",
       "      <td>33.917</td>\n",
       "      <td>-118.401</td>\n",
       "      <td>1</td>\n",
       "      <td>1</td>\n",
       "    </tr>\n",
       "    <tr>\n",
       "      <th>1339</th>\n",
       "      <td>2014-01-28</td>\n",
       "      <td>Monarch Larva (FIRST sighted)</td>\n",
       "      <td>34.155</td>\n",
       "      <td>-118.594</td>\n",
       "      <td>1</td>\n",
       "      <td>1</td>\n",
       "    </tr>\n",
       "    <tr>\n",
       "      <th>1340</th>\n",
       "      <td>2014-01-30</td>\n",
       "      <td>Monarch Larva (FIRST sighted)</td>\n",
       "      <td>26.189</td>\n",
       "      <td>-80.109</td>\n",
       "      <td>1</td>\n",
       "      <td>1</td>\n",
       "    </tr>\n",
       "  </tbody>\n",
       "</table>\n",
       "</div>"
      ],
      "text/plain": [
       "     sighting_date                        species  latitude  longitude  \\\n",
       "1336    2014-01-22  Monarch Larva (FIRST sighted)    30.420    -87.224   \n",
       "1337    2014-01-24  Monarch Larva (FIRST sighted)    34.015   -118.492   \n",
       "1338    2014-01-28  Monarch Larva (FIRST sighted)    33.917   -118.401   \n",
       "1339    2014-01-28  Monarch Larva (FIRST sighted)    34.155   -118.594   \n",
       "1340    2014-01-30  Monarch Larva (FIRST sighted)    26.189    -80.109   \n",
       "\n",
       "      number  month  \n",
       "1336       1      1  \n",
       "1337       1      1  \n",
       "1338       1      1  \n",
       "1339       1      1  \n",
       "1340       1      1  "
      ]
     },
     "execution_count": 258,
     "metadata": {},
     "output_type": "execute_result"
    }
   ],
   "source": [
    "JNorth_Larva_First_Site_2014_month_df =pd.DataFrame(JNorth_Larva_First_Site_2014_df)\n",
    "JNorth_Larva_First_Site_2014_1_df = JNorth_Larva_First_Site_2014_month_df[JNorth_Larva_First_Site_2014_month_df['month']==1]\n",
    "JNorth_Larva_First_Site_2014_1_df.tail()"
   ]
  },
  {
   "cell_type": "code",
   "execution_count": 259,
   "id": "e4f50cc1",
   "metadata": {},
   "outputs": [
    {
     "data": {
      "text/plain": [
       "(8, 6)"
      ]
     },
     "execution_count": 259,
     "metadata": {},
     "output_type": "execute_result"
    }
   ],
   "source": [
    "JNorth_Larva_First_Site_2014_1_df.shape"
   ]
  },
  {
   "cell_type": "code",
   "execution_count": 260,
   "id": "6648dc94",
   "metadata": {},
   "outputs": [],
   "source": [
    "JNorth_Larva_First_Site_2014_1_df = pd.DataFrame(JNorth_Larva_First_Site_2014_1_df)\n",
    "JNorth_Larva_First_Site_2014_1_df.drop(['month'], axis=1, inplace=True)"
   ]
  },
  {
   "cell_type": "code",
   "execution_count": 261,
   "id": "4b0457dd",
   "metadata": {},
   "outputs": [],
   "source": [
    "# convert lat-long to floats and change address from ALL CAPS to regular capitalization\n",
    "JNorth_Larva_First_Site_2014_1_df['latitude'] = JNorth_Larva_First_Site_2014_1_df['latitude'].astype(float)\n",
    "JNorth_Larva_First_Site_2014_1_df['longitude'] = JNorth_Larva_First_Site_2014_1_df['longitude'].astype(float)\n",
    "# JNorth_Milkweed_Site_df['street_address'] = JNorth_Milkweed_Site_df['street_address'].str.title()"
   ]
  },
  {
   "cell_type": "code",
   "execution_count": 262,
   "id": "68a03ebb",
   "metadata": {},
   "outputs": [],
   "source": [
    "geojson = df_to_geojson(JNorth_Larva_First_Site_2014_1_df, cols)"
   ]
  },
  {
   "cell_type": "code",
   "execution_count": 263,
   "id": "d5ffc5d6",
   "metadata": {},
   "outputs": [],
   "source": [
    "file = open(\"JNorth_Larva_First_Site_2014_1.geojson\", \"w\")\n",
    "json.dump(geojson, file, indent =1)\n",
    "file.close()"
   ]
  },
  {
   "cell_type": "markdown",
   "id": "d5873010",
   "metadata": {},
   "source": [
    "## February"
   ]
  },
  {
   "cell_type": "code",
   "execution_count": 264,
   "id": "44a69ab5",
   "metadata": {},
   "outputs": [
    {
     "data": {
      "text/html": [
       "<div>\n",
       "<style scoped>\n",
       "    .dataframe tbody tr th:only-of-type {\n",
       "        vertical-align: middle;\n",
       "    }\n",
       "\n",
       "    .dataframe tbody tr th {\n",
       "        vertical-align: top;\n",
       "    }\n",
       "\n",
       "    .dataframe thead th {\n",
       "        text-align: right;\n",
       "    }\n",
       "</style>\n",
       "<table border=\"1\" class=\"dataframe\">\n",
       "  <thead>\n",
       "    <tr style=\"text-align: right;\">\n",
       "      <th></th>\n",
       "      <th>sighting_date</th>\n",
       "      <th>species</th>\n",
       "      <th>latitude</th>\n",
       "      <th>longitude</th>\n",
       "      <th>number</th>\n",
       "      <th>month</th>\n",
       "    </tr>\n",
       "  </thead>\n",
       "  <tbody>\n",
       "    <tr>\n",
       "      <th>1342</th>\n",
       "      <td>2014-02-01</td>\n",
       "      <td>Monarch Larva (FIRST sighted)</td>\n",
       "      <td>30.429</td>\n",
       "      <td>-84.258</td>\n",
       "      <td>1</td>\n",
       "      <td>2</td>\n",
       "    </tr>\n",
       "    <tr>\n",
       "      <th>1343</th>\n",
       "      <td>2014-02-01</td>\n",
       "      <td>Monarch Larva (FIRST sighted)</td>\n",
       "      <td>33.525</td>\n",
       "      <td>-111.907</td>\n",
       "      <td>1</td>\n",
       "      <td>2</td>\n",
       "    </tr>\n",
       "    <tr>\n",
       "      <th>1344</th>\n",
       "      <td>2014-02-03</td>\n",
       "      <td>Monarch Larva (FIRST sighted)</td>\n",
       "      <td>26.381</td>\n",
       "      <td>-80.171</td>\n",
       "      <td>1</td>\n",
       "      <td>2</td>\n",
       "    </tr>\n",
       "    <tr>\n",
       "      <th>1345</th>\n",
       "      <td>2014-02-08</td>\n",
       "      <td>Monarch Larva (FIRST sighted)</td>\n",
       "      <td>34.156</td>\n",
       "      <td>-118.132</td>\n",
       "      <td>1</td>\n",
       "      <td>2</td>\n",
       "    </tr>\n",
       "    <tr>\n",
       "      <th>1346</th>\n",
       "      <td>2014-02-28</td>\n",
       "      <td>Monarch Larva (FIRST sighted)</td>\n",
       "      <td>30.230</td>\n",
       "      <td>-97.714</td>\n",
       "      <td>1</td>\n",
       "      <td>2</td>\n",
       "    </tr>\n",
       "  </tbody>\n",
       "</table>\n",
       "</div>"
      ],
      "text/plain": [
       "     sighting_date                        species  latitude  longitude  \\\n",
       "1342    2014-02-01  Monarch Larva (FIRST sighted)    30.429    -84.258   \n",
       "1343    2014-02-01  Monarch Larva (FIRST sighted)    33.525   -111.907   \n",
       "1344    2014-02-03  Monarch Larva (FIRST sighted)    26.381    -80.171   \n",
       "1345    2014-02-08  Monarch Larva (FIRST sighted)    34.156   -118.132   \n",
       "1346    2014-02-28  Monarch Larva (FIRST sighted)    30.230    -97.714   \n",
       "\n",
       "      number  month  \n",
       "1342       1      2  \n",
       "1343       1      2  \n",
       "1344       1      2  \n",
       "1345       1      2  \n",
       "1346       1      2  "
      ]
     },
     "execution_count": 264,
     "metadata": {},
     "output_type": "execute_result"
    }
   ],
   "source": [
    "JNorth_Larva_First_Site_2014_month_df =pd.DataFrame(JNorth_Larva_First_Site_2014_df)\n",
    "JNorth_Larva_First_Site_2014_2_df = JNorth_Larva_First_Site_2014_month_df[JNorth_Larva_First_Site_2014_month_df['month']==2]\n",
    "JNorth_Larva_First_Site_2014_2_df.tail()"
   ]
  },
  {
   "cell_type": "code",
   "execution_count": 265,
   "id": "d53e5084",
   "metadata": {},
   "outputs": [
    {
     "data": {
      "text/plain": [
       "(6, 6)"
      ]
     },
     "execution_count": 265,
     "metadata": {},
     "output_type": "execute_result"
    }
   ],
   "source": [
    "JNorth_Larva_First_Site_2014_2_df.shape"
   ]
  },
  {
   "cell_type": "code",
   "execution_count": 266,
   "id": "0e83f703",
   "metadata": {},
   "outputs": [],
   "source": [
    "JNorth_Larva_First_Site_2014_2_df = pd.DataFrame(JNorth_Larva_First_Site_2014_2_df)\n",
    "JNorth_Larva_First_Site_2014_2_df.drop(['month'], axis=1, inplace=True)"
   ]
  },
  {
   "cell_type": "code",
   "execution_count": 267,
   "id": "4a4a84a2",
   "metadata": {},
   "outputs": [],
   "source": [
    "# convert lat-long to floats and change address from ALL CAPS to regular capitalization\n",
    "JNorth_Larva_First_Site_2014_2_df['latitude'] = JNorth_Larva_First_Site_2014_2_df['latitude'].astype(float)\n",
    "JNorth_Larva_First_Site_2014_2_df['longitude'] = JNorth_Larva_First_Site_2014_2_df['longitude'].astype(float)\n",
    "# JNorth_Milkweed_Site_df['street_address'] = JNorth_Milkweed_Site_df['street_address'].str.title()"
   ]
  },
  {
   "cell_type": "code",
   "execution_count": 268,
   "id": "3cbf2fba",
   "metadata": {},
   "outputs": [],
   "source": [
    "geojson = df_to_geojson(JNorth_Larva_First_Site_2014_2_df, cols)"
   ]
  },
  {
   "cell_type": "code",
   "execution_count": 269,
   "id": "82350196",
   "metadata": {},
   "outputs": [],
   "source": [
    "file = open(\"JNorth_Larva_First_Site_2014_2.geojson\", \"w\")\n",
    "json.dump(geojson, file, indent =1)\n",
    "file.close()"
   ]
  },
  {
   "cell_type": "markdown",
   "id": "77061a71",
   "metadata": {},
   "source": [
    "## March"
   ]
  },
  {
   "cell_type": "code",
   "execution_count": 270,
   "id": "b85708c1",
   "metadata": {},
   "outputs": [
    {
     "data": {
      "text/html": [
       "<div>\n",
       "<style scoped>\n",
       "    .dataframe tbody tr th:only-of-type {\n",
       "        vertical-align: middle;\n",
       "    }\n",
       "\n",
       "    .dataframe tbody tr th {\n",
       "        vertical-align: top;\n",
       "    }\n",
       "\n",
       "    .dataframe thead th {\n",
       "        text-align: right;\n",
       "    }\n",
       "</style>\n",
       "<table border=\"1\" class=\"dataframe\">\n",
       "  <thead>\n",
       "    <tr style=\"text-align: right;\">\n",
       "      <th></th>\n",
       "      <th>sighting_date</th>\n",
       "      <th>species</th>\n",
       "      <th>latitude</th>\n",
       "      <th>longitude</th>\n",
       "      <th>number</th>\n",
       "      <th>month</th>\n",
       "    </tr>\n",
       "  </thead>\n",
       "  <tbody>\n",
       "    <tr>\n",
       "      <th>1373</th>\n",
       "      <td>2014-03-28</td>\n",
       "      <td>Monarch Larva (FIRST sighted)</td>\n",
       "      <td>30.034</td>\n",
       "      <td>-95.261</td>\n",
       "      <td>1</td>\n",
       "      <td>3</td>\n",
       "    </tr>\n",
       "    <tr>\n",
       "      <th>1374</th>\n",
       "      <td>2014-03-30</td>\n",
       "      <td>Monarch Larva (FIRST sighted)</td>\n",
       "      <td>23.726</td>\n",
       "      <td>-99.150</td>\n",
       "      <td>1</td>\n",
       "      <td>3</td>\n",
       "    </tr>\n",
       "    <tr>\n",
       "      <th>1375</th>\n",
       "      <td>2014-03-30</td>\n",
       "      <td>Monarch Larva (FIRST sighted)</td>\n",
       "      <td>29.830</td>\n",
       "      <td>-91.520</td>\n",
       "      <td>1</td>\n",
       "      <td>3</td>\n",
       "    </tr>\n",
       "    <tr>\n",
       "      <th>1376</th>\n",
       "      <td>2014-03-31</td>\n",
       "      <td>Monarch Larva (FIRST sighted)</td>\n",
       "      <td>27.770</td>\n",
       "      <td>-82.637</td>\n",
       "      <td>1</td>\n",
       "      <td>3</td>\n",
       "    </tr>\n",
       "    <tr>\n",
       "      <th>1377</th>\n",
       "      <td>2014-03-31</td>\n",
       "      <td>Monarch Larva (FIRST sighted)</td>\n",
       "      <td>29.081</td>\n",
       "      <td>-97.360</td>\n",
       "      <td>1</td>\n",
       "      <td>3</td>\n",
       "    </tr>\n",
       "  </tbody>\n",
       "</table>\n",
       "</div>"
      ],
      "text/plain": [
       "     sighting_date                        species  latitude  longitude  \\\n",
       "1373    2014-03-28  Monarch Larva (FIRST sighted)    30.034    -95.261   \n",
       "1374    2014-03-30  Monarch Larva (FIRST sighted)    23.726    -99.150   \n",
       "1375    2014-03-30  Monarch Larva (FIRST sighted)    29.830    -91.520   \n",
       "1376    2014-03-31  Monarch Larva (FIRST sighted)    27.770    -82.637   \n",
       "1377    2014-03-31  Monarch Larva (FIRST sighted)    29.081    -97.360   \n",
       "\n",
       "      number  month  \n",
       "1373       1      3  \n",
       "1374       1      3  \n",
       "1375       1      3  \n",
       "1376       1      3  \n",
       "1377       1      3  "
      ]
     },
     "execution_count": 270,
     "metadata": {},
     "output_type": "execute_result"
    }
   ],
   "source": [
    "JNorth_Larva_First_Site_2014_month_df =pd.DataFrame(JNorth_Larva_First_Site_2014_df)\n",
    "JNorth_Larva_First_Site_2014_3_df = JNorth_Larva_First_Site_2014_month_df[JNorth_Larva_First_Site_2014_month_df['month']==3]\n",
    "JNorth_Larva_First_Site_2014_3_df.tail()"
   ]
  },
  {
   "cell_type": "code",
   "execution_count": 271,
   "id": "52d84ebf",
   "metadata": {},
   "outputs": [
    {
     "data": {
      "text/plain": [
       "(31, 6)"
      ]
     },
     "execution_count": 271,
     "metadata": {},
     "output_type": "execute_result"
    }
   ],
   "source": [
    "JNorth_Larva_First_Site_2014_3_df.shape"
   ]
  },
  {
   "cell_type": "code",
   "execution_count": 272,
   "id": "7e18485a",
   "metadata": {},
   "outputs": [],
   "source": [
    "JNorth_Larva_First_Site_2014_3_df = pd.DataFrame(JNorth_Larva_First_Site_2014_3_df)\n",
    "JNorth_Larva_First_Site_2014_3_df.drop(['month'], axis=1, inplace=True)"
   ]
  },
  {
   "cell_type": "code",
   "execution_count": 273,
   "id": "d4c0a1cd",
   "metadata": {},
   "outputs": [],
   "source": [
    "# convert lat-long to floats and change address from ALL CAPS to regular capitalization\n",
    "JNorth_Larva_First_Site_2014_3_df['latitude'] = JNorth_Larva_First_Site_2014_3_df['latitude'].astype(float)\n",
    "JNorth_Larva_First_Site_2014_3_df['longitude'] = JNorth_Larva_First_Site_2014_3_df['longitude'].astype(float)\n",
    "# JNorth_Milkweed_Site_df['street_address'] = JNorth_Milkweed_Site_df['street_address'].str.title()"
   ]
  },
  {
   "cell_type": "code",
   "execution_count": 274,
   "id": "765e97ac",
   "metadata": {},
   "outputs": [],
   "source": [
    "geojson = df_to_geojson(JNorth_Larva_First_Site_2014_3_df, cols)"
   ]
  },
  {
   "cell_type": "code",
   "execution_count": 275,
   "id": "82ef8d30",
   "metadata": {},
   "outputs": [],
   "source": [
    "file = open(\"JNorth_Larva_First_Site_2014_3.geojson\", \"w\")\n",
    "json.dump(geojson, file, indent =1)\n",
    "file.close()"
   ]
  },
  {
   "cell_type": "markdown",
   "id": "eb9ba3a4",
   "metadata": {},
   "source": [
    "## April"
   ]
  },
  {
   "cell_type": "code",
   "execution_count": 276,
   "id": "048f6cf2",
   "metadata": {},
   "outputs": [
    {
     "data": {
      "text/html": [
       "<div>\n",
       "<style scoped>\n",
       "    .dataframe tbody tr th:only-of-type {\n",
       "        vertical-align: middle;\n",
       "    }\n",
       "\n",
       "    .dataframe tbody tr th {\n",
       "        vertical-align: top;\n",
       "    }\n",
       "\n",
       "    .dataframe thead th {\n",
       "        text-align: right;\n",
       "    }\n",
       "</style>\n",
       "<table border=\"1\" class=\"dataframe\">\n",
       "  <thead>\n",
       "    <tr style=\"text-align: right;\">\n",
       "      <th></th>\n",
       "      <th>sighting_date</th>\n",
       "      <th>species</th>\n",
       "      <th>latitude</th>\n",
       "      <th>longitude</th>\n",
       "      <th>number</th>\n",
       "      <th>month</th>\n",
       "    </tr>\n",
       "  </thead>\n",
       "  <tbody>\n",
       "    <tr>\n",
       "      <th>1426</th>\n",
       "      <td>2014-04-27</td>\n",
       "      <td>Monarch Larva (FIRST sighted)</td>\n",
       "      <td>33.179</td>\n",
       "      <td>-117.243</td>\n",
       "      <td>1</td>\n",
       "      <td>4</td>\n",
       "    </tr>\n",
       "    <tr>\n",
       "      <th>1427</th>\n",
       "      <td>2014-04-28</td>\n",
       "      <td>Monarch Larva (FIRST sighted)</td>\n",
       "      <td>34.614</td>\n",
       "      <td>-120.193</td>\n",
       "      <td>1</td>\n",
       "      <td>4</td>\n",
       "    </tr>\n",
       "    <tr>\n",
       "      <th>1428</th>\n",
       "      <td>2014-04-28</td>\n",
       "      <td>Monarch Larva (FIRST sighted)</td>\n",
       "      <td>35.980</td>\n",
       "      <td>-95.808</td>\n",
       "      <td>1</td>\n",
       "      <td>4</td>\n",
       "    </tr>\n",
       "    <tr>\n",
       "      <th>1429</th>\n",
       "      <td>2014-04-29</td>\n",
       "      <td>Monarch Larva (FIRST sighted)</td>\n",
       "      <td>32.540</td>\n",
       "      <td>-95.428</td>\n",
       "      <td>1</td>\n",
       "      <td>4</td>\n",
       "    </tr>\n",
       "    <tr>\n",
       "      <th>1430</th>\n",
       "      <td>2014-04-30</td>\n",
       "      <td>Monarch Larva (FIRST sighted)</td>\n",
       "      <td>23.066</td>\n",
       "      <td>-99.169</td>\n",
       "      <td>1</td>\n",
       "      <td>4</td>\n",
       "    </tr>\n",
       "  </tbody>\n",
       "</table>\n",
       "</div>"
      ],
      "text/plain": [
       "     sighting_date                        species  latitude  longitude  \\\n",
       "1426    2014-04-27  Monarch Larva (FIRST sighted)    33.179   -117.243   \n",
       "1427    2014-04-28  Monarch Larva (FIRST sighted)    34.614   -120.193   \n",
       "1428    2014-04-28  Monarch Larva (FIRST sighted)    35.980    -95.808   \n",
       "1429    2014-04-29  Monarch Larva (FIRST sighted)    32.540    -95.428   \n",
       "1430    2014-04-30  Monarch Larva (FIRST sighted)    23.066    -99.169   \n",
       "\n",
       "      number  month  \n",
       "1426       1      4  \n",
       "1427       1      4  \n",
       "1428       1      4  \n",
       "1429       1      4  \n",
       "1430       1      4  "
      ]
     },
     "execution_count": 276,
     "metadata": {},
     "output_type": "execute_result"
    }
   ],
   "source": [
    "JNorth_Larva_First_Site_2014_month_df =pd.DataFrame(JNorth_Larva_First_Site_2014_df)\n",
    "JNorth_Larva_First_Site_2014_4_df = JNorth_Larva_First_Site_2014_month_df[JNorth_Larva_First_Site_2014_month_df['month']==4]\n",
    "JNorth_Larva_First_Site_2014_4_df.tail()"
   ]
  },
  {
   "cell_type": "code",
   "execution_count": 277,
   "id": "aee6f7fd",
   "metadata": {},
   "outputs": [
    {
     "data": {
      "text/plain": [
       "(53, 6)"
      ]
     },
     "execution_count": 277,
     "metadata": {},
     "output_type": "execute_result"
    }
   ],
   "source": [
    "JNorth_Larva_First_Site_2014_4_df.shape"
   ]
  },
  {
   "cell_type": "code",
   "execution_count": 278,
   "id": "9c7faf6f",
   "metadata": {},
   "outputs": [],
   "source": [
    "JNorth_Larva_First_Site_2014_4_df = pd.DataFrame(JNorth_Larva_First_Site_2014_4_df)\n",
    "JNorth_Larva_First_Site_2014_4_df.drop(['month'], axis=1, inplace=True)"
   ]
  },
  {
   "cell_type": "code",
   "execution_count": 279,
   "id": "b2abce47",
   "metadata": {},
   "outputs": [],
   "source": [
    "# convert lat-long to floats and change address from ALL CAPS to regular capitalization\n",
    "JNorth_Larva_First_Site_2014_4_df['latitude'] = JNorth_Larva_First_Site_2014_4_df['latitude'].astype(float)\n",
    "JNorth_Larva_First_Site_2014_4_df['longitude'] = JNorth_Larva_First_Site_2014_4_df['longitude'].astype(float)\n",
    "# JNorth_Milkweed_Site_df['street_address'] = JNorth_Milkweed_Site_df['street_address'].str.title()"
   ]
  },
  {
   "cell_type": "code",
   "execution_count": 280,
   "id": "b4dd7e9b",
   "metadata": {},
   "outputs": [],
   "source": [
    "geojson = df_to_geojson(JNorth_Larva_First_Site_2014_4_df, cols)"
   ]
  },
  {
   "cell_type": "code",
   "execution_count": 281,
   "id": "c22bd60e",
   "metadata": {},
   "outputs": [],
   "source": [
    "file = open(\"JNorth_Larva_First_Site_2014_4.geojson\", \"w\")\n",
    "json.dump(geojson, file, indent =1)\n",
    "file.close()"
   ]
  },
  {
   "cell_type": "markdown",
   "id": "f6e85297",
   "metadata": {},
   "source": [
    "## May"
   ]
  },
  {
   "cell_type": "code",
   "execution_count": 282,
   "id": "4740a950",
   "metadata": {},
   "outputs": [
    {
     "data": {
      "text/html": [
       "<div>\n",
       "<style scoped>\n",
       "    .dataframe tbody tr th:only-of-type {\n",
       "        vertical-align: middle;\n",
       "    }\n",
       "\n",
       "    .dataframe tbody tr th {\n",
       "        vertical-align: top;\n",
       "    }\n",
       "\n",
       "    .dataframe thead th {\n",
       "        text-align: right;\n",
       "    }\n",
       "</style>\n",
       "<table border=\"1\" class=\"dataframe\">\n",
       "  <thead>\n",
       "    <tr style=\"text-align: right;\">\n",
       "      <th></th>\n",
       "      <th>sighting_date</th>\n",
       "      <th>species</th>\n",
       "      <th>latitude</th>\n",
       "      <th>longitude</th>\n",
       "      <th>number</th>\n",
       "      <th>month</th>\n",
       "    </tr>\n",
       "  </thead>\n",
       "  <tbody>\n",
       "    <tr>\n",
       "      <th>1483</th>\n",
       "      <td>2014-05-31</td>\n",
       "      <td>Monarch Larva (FIRST sighted)</td>\n",
       "      <td>40.366</td>\n",
       "      <td>-83.757</td>\n",
       "      <td>1</td>\n",
       "      <td>5</td>\n",
       "    </tr>\n",
       "    <tr>\n",
       "      <th>1484</th>\n",
       "      <td>2014-05-31</td>\n",
       "      <td>Monarch Larva (FIRST sighted)</td>\n",
       "      <td>41.614</td>\n",
       "      <td>-81.149</td>\n",
       "      <td>1</td>\n",
       "      <td>5</td>\n",
       "    </tr>\n",
       "    <tr>\n",
       "      <th>1485</th>\n",
       "      <td>2014-05-31</td>\n",
       "      <td>Monarch Larva (FIRST sighted)</td>\n",
       "      <td>42.542</td>\n",
       "      <td>-92.471</td>\n",
       "      <td>1</td>\n",
       "      <td>5</td>\n",
       "    </tr>\n",
       "    <tr>\n",
       "      <th>1486</th>\n",
       "      <td>2014-05-31</td>\n",
       "      <td>Monarch Larva (FIRST sighted)</td>\n",
       "      <td>42.980</td>\n",
       "      <td>-88.631</td>\n",
       "      <td>1</td>\n",
       "      <td>5</td>\n",
       "    </tr>\n",
       "    <tr>\n",
       "      <th>1487</th>\n",
       "      <td>2014-05-31</td>\n",
       "      <td>Monarch Larva (FIRST sighted)</td>\n",
       "      <td>45.320</td>\n",
       "      <td>-92.696</td>\n",
       "      <td>1</td>\n",
       "      <td>5</td>\n",
       "    </tr>\n",
       "  </tbody>\n",
       "</table>\n",
       "</div>"
      ],
      "text/plain": [
       "     sighting_date                        species  latitude  longitude  \\\n",
       "1483    2014-05-31  Monarch Larva (FIRST sighted)    40.366    -83.757   \n",
       "1484    2014-05-31  Monarch Larva (FIRST sighted)    41.614    -81.149   \n",
       "1485    2014-05-31  Monarch Larva (FIRST sighted)    42.542    -92.471   \n",
       "1486    2014-05-31  Monarch Larva (FIRST sighted)    42.980    -88.631   \n",
       "1487    2014-05-31  Monarch Larva (FIRST sighted)    45.320    -92.696   \n",
       "\n",
       "      number  month  \n",
       "1483       1      5  \n",
       "1484       1      5  \n",
       "1485       1      5  \n",
       "1486       1      5  \n",
       "1487       1      5  "
      ]
     },
     "execution_count": 282,
     "metadata": {},
     "output_type": "execute_result"
    }
   ],
   "source": [
    "JNorth_Larva_First_Site_2014_month_df =pd.DataFrame(JNorth_Larva_First_Site_2014_df)\n",
    "JNorth_Larva_First_Site_2014_5_df = JNorth_Larva_First_Site_2014_month_df[JNorth_Larva_First_Site_2014_month_df['month']==5]\n",
    "JNorth_Larva_First_Site_2014_5_df.tail()"
   ]
  },
  {
   "cell_type": "code",
   "execution_count": 283,
   "id": "ddefd2a3",
   "metadata": {},
   "outputs": [
    {
     "data": {
      "text/plain": [
       "(57, 6)"
      ]
     },
     "execution_count": 283,
     "metadata": {},
     "output_type": "execute_result"
    }
   ],
   "source": [
    "JNorth_Larva_First_Site_2014_5_df.shape"
   ]
  },
  {
   "cell_type": "code",
   "execution_count": 284,
   "id": "614cd3a8",
   "metadata": {},
   "outputs": [],
   "source": [
    "JNorth_Larva_First_Site_2014_5_df = pd.DataFrame(JNorth_Larva_First_Site_2014_5_df)\n",
    "JNorth_Larva_First_Site_2014_5_df.drop(['month'], axis=1, inplace=True)"
   ]
  },
  {
   "cell_type": "code",
   "execution_count": 285,
   "id": "01509961",
   "metadata": {},
   "outputs": [],
   "source": [
    "# convert lat-long to floats and change address from ALL CAPS to regular capitalization\n",
    "JNorth_Larva_First_Site_2014_5_df['latitude'] = JNorth_Larva_First_Site_2014_5_df['latitude'].astype(float)\n",
    "JNorth_Larva_First_Site_2014_5_df['longitude'] = JNorth_Larva_First_Site_2014_5_df['longitude'].astype(float)\n",
    "# JNorth_Milkweed_Site_df['street_address'] = JNorth_Milkweed_Site_df['street_address'].str.title()"
   ]
  },
  {
   "cell_type": "code",
   "execution_count": 286,
   "id": "bb763379",
   "metadata": {},
   "outputs": [],
   "source": [
    "geojson = df_to_geojson(JNorth_Larva_First_Site_2014_5_df, cols)"
   ]
  },
  {
   "cell_type": "code",
   "execution_count": 287,
   "id": "f2e88fe7",
   "metadata": {},
   "outputs": [],
   "source": [
    "file = open(\"JNorth_Larva_First_Site_2014_5.geojson\", \"w\")\n",
    "json.dump(geojson, file, indent =1)\n",
    "file.close()"
   ]
  },
  {
   "cell_type": "markdown",
   "id": "264863cf",
   "metadata": {},
   "source": [
    "## June"
   ]
  },
  {
   "cell_type": "code",
   "execution_count": 288,
   "id": "18fd4a7c",
   "metadata": {},
   "outputs": [
    {
     "data": {
      "text/html": [
       "<div>\n",
       "<style scoped>\n",
       "    .dataframe tbody tr th:only-of-type {\n",
       "        vertical-align: middle;\n",
       "    }\n",
       "\n",
       "    .dataframe tbody tr th {\n",
       "        vertical-align: top;\n",
       "    }\n",
       "\n",
       "    .dataframe thead th {\n",
       "        text-align: right;\n",
       "    }\n",
       "</style>\n",
       "<table border=\"1\" class=\"dataframe\">\n",
       "  <thead>\n",
       "    <tr style=\"text-align: right;\">\n",
       "      <th></th>\n",
       "      <th>sighting_date</th>\n",
       "      <th>species</th>\n",
       "      <th>latitude</th>\n",
       "      <th>longitude</th>\n",
       "      <th>number</th>\n",
       "      <th>month</th>\n",
       "    </tr>\n",
       "  </thead>\n",
       "  <tbody>\n",
       "    <tr>\n",
       "      <th>1592</th>\n",
       "      <td>2014-06-29</td>\n",
       "      <td>Monarch Larva (FIRST sighted)</td>\n",
       "      <td>44.852</td>\n",
       "      <td>-122.949</td>\n",
       "      <td>1</td>\n",
       "      <td>6</td>\n",
       "    </tr>\n",
       "    <tr>\n",
       "      <th>1593</th>\n",
       "      <td>2014-06-29</td>\n",
       "      <td>Monarch Larva (FIRST sighted)</td>\n",
       "      <td>46.925</td>\n",
       "      <td>-88.626</td>\n",
       "      <td>1</td>\n",
       "      <td>6</td>\n",
       "    </tr>\n",
       "    <tr>\n",
       "      <th>1594</th>\n",
       "      <td>2014-06-30</td>\n",
       "      <td>Monarch Larva (FIRST sighted)</td>\n",
       "      <td>39.345</td>\n",
       "      <td>-81.646</td>\n",
       "      <td>1</td>\n",
       "      <td>6</td>\n",
       "    </tr>\n",
       "    <tr>\n",
       "      <th>1595</th>\n",
       "      <td>2014-06-30</td>\n",
       "      <td>Monarch Larva (FIRST sighted)</td>\n",
       "      <td>42.908</td>\n",
       "      <td>-78.633</td>\n",
       "      <td>1</td>\n",
       "      <td>6</td>\n",
       "    </tr>\n",
       "    <tr>\n",
       "      <th>1596</th>\n",
       "      <td>2014-06-30</td>\n",
       "      <td>Monarch Larva (FIRST sighted)</td>\n",
       "      <td>42.921</td>\n",
       "      <td>-112.466</td>\n",
       "      <td>1</td>\n",
       "      <td>6</td>\n",
       "    </tr>\n",
       "  </tbody>\n",
       "</table>\n",
       "</div>"
      ],
      "text/plain": [
       "     sighting_date                        species  latitude  longitude  \\\n",
       "1592    2014-06-29  Monarch Larva (FIRST sighted)    44.852   -122.949   \n",
       "1593    2014-06-29  Monarch Larva (FIRST sighted)    46.925    -88.626   \n",
       "1594    2014-06-30  Monarch Larva (FIRST sighted)    39.345    -81.646   \n",
       "1595    2014-06-30  Monarch Larva (FIRST sighted)    42.908    -78.633   \n",
       "1596    2014-06-30  Monarch Larva (FIRST sighted)    42.921   -112.466   \n",
       "\n",
       "      number  month  \n",
       "1592       1      6  \n",
       "1593       1      6  \n",
       "1594       1      6  \n",
       "1595       1      6  \n",
       "1596       1      6  "
      ]
     },
     "execution_count": 288,
     "metadata": {},
     "output_type": "execute_result"
    }
   ],
   "source": [
    "JNorth_Larva_First_Site_2014_month_df =pd.DataFrame(JNorth_Larva_First_Site_2014_df)\n",
    "JNorth_Larva_First_Site_2014_6_df = JNorth_Larva_First_Site_2014_month_df[JNorth_Larva_First_Site_2014_month_df['month']==6]\n",
    "JNorth_Larva_First_Site_2014_6_df.tail()"
   ]
  },
  {
   "cell_type": "code",
   "execution_count": 289,
   "id": "446147fa",
   "metadata": {},
   "outputs": [
    {
     "data": {
      "text/plain": [
       "(109, 6)"
      ]
     },
     "execution_count": 289,
     "metadata": {},
     "output_type": "execute_result"
    }
   ],
   "source": [
    "JNorth_Larva_First_Site_2014_6_df.shape"
   ]
  },
  {
   "cell_type": "code",
   "execution_count": 290,
   "id": "073ab0c6",
   "metadata": {},
   "outputs": [],
   "source": [
    "JNorth_Larva_First_Site_2014_6_df = pd.DataFrame(JNorth_Larva_First_Site_2014_6_df)\n",
    "JNorth_Larva_First_Site_2014_6_df.drop(['month'], axis=1, inplace=True)"
   ]
  },
  {
   "cell_type": "code",
   "execution_count": 291,
   "id": "616d6b41",
   "metadata": {},
   "outputs": [],
   "source": [
    "# convert lat-long to floats and change address from ALL CAPS to regular capitalization\n",
    "JNorth_Larva_First_Site_2014_6_df['latitude'] = JNorth_Larva_First_Site_2014_6_df['latitude'].astype(float)\n",
    "JNorth_Larva_First_Site_2014_6_df['longitude'] = JNorth_Larva_First_Site_2014_6_df['longitude'].astype(float)\n",
    "# JNorth_Milkweed_Site_df['street_address'] = JNorth_Milkweed_Site_df['street_address'].str.title()"
   ]
  },
  {
   "cell_type": "code",
   "execution_count": 292,
   "id": "afab2795",
   "metadata": {},
   "outputs": [],
   "source": [
    "geojson = df_to_geojson(JNorth_Larva_First_Site_2014_6_df, cols)"
   ]
  },
  {
   "cell_type": "code",
   "execution_count": 293,
   "id": "ac1131c1",
   "metadata": {},
   "outputs": [],
   "source": [
    "file = open(\"JNorth_Larva_First_Site_2014_6.geojson\", \"w\")\n",
    "json.dump(geojson, file, indent =1)\n",
    "file.close()"
   ]
  },
  {
   "cell_type": "markdown",
   "id": "f99d61b2",
   "metadata": {},
   "source": [
    "## July"
   ]
  },
  {
   "cell_type": "code",
   "execution_count": 294,
   "id": "b0f8b698",
   "metadata": {},
   "outputs": [
    {
     "data": {
      "text/html": [
       "<div>\n",
       "<style scoped>\n",
       "    .dataframe tbody tr th:only-of-type {\n",
       "        vertical-align: middle;\n",
       "    }\n",
       "\n",
       "    .dataframe tbody tr th {\n",
       "        vertical-align: top;\n",
       "    }\n",
       "\n",
       "    .dataframe thead th {\n",
       "        text-align: right;\n",
       "    }\n",
       "</style>\n",
       "<table border=\"1\" class=\"dataframe\">\n",
       "  <thead>\n",
       "    <tr style=\"text-align: right;\">\n",
       "      <th></th>\n",
       "      <th>sighting_date</th>\n",
       "      <th>species</th>\n",
       "      <th>latitude</th>\n",
       "      <th>longitude</th>\n",
       "      <th>number</th>\n",
       "      <th>month</th>\n",
       "    </tr>\n",
       "  </thead>\n",
       "  <tbody>\n",
       "    <tr>\n",
       "      <th>1608</th>\n",
       "      <td>2014-07-24</td>\n",
       "      <td>Monarch Larva (FIRST sighted)</td>\n",
       "      <td>50.252</td>\n",
       "      <td>-96.056</td>\n",
       "      <td>1</td>\n",
       "      <td>7</td>\n",
       "    </tr>\n",
       "    <tr>\n",
       "      <th>1609</th>\n",
       "      <td>2014-07-28</td>\n",
       "      <td>Monarch Larva (FIRST sighted)</td>\n",
       "      <td>40.266</td>\n",
       "      <td>-74.570</td>\n",
       "      <td>1</td>\n",
       "      <td>7</td>\n",
       "    </tr>\n",
       "    <tr>\n",
       "      <th>1610</th>\n",
       "      <td>2014-07-28</td>\n",
       "      <td>Monarch Larva (FIRST sighted)</td>\n",
       "      <td>45.350</td>\n",
       "      <td>-76.033</td>\n",
       "      <td>1</td>\n",
       "      <td>7</td>\n",
       "    </tr>\n",
       "    <tr>\n",
       "      <th>1611</th>\n",
       "      <td>2014-07-30</td>\n",
       "      <td>Monarch Larva (FIRST sighted)</td>\n",
       "      <td>29.990</td>\n",
       "      <td>-90.180</td>\n",
       "      <td>1</td>\n",
       "      <td>7</td>\n",
       "    </tr>\n",
       "    <tr>\n",
       "      <th>1612</th>\n",
       "      <td>2014-07-31</td>\n",
       "      <td>Monarch Larva (FIRST sighted)</td>\n",
       "      <td>44.266</td>\n",
       "      <td>-73.222</td>\n",
       "      <td>1</td>\n",
       "      <td>7</td>\n",
       "    </tr>\n",
       "  </tbody>\n",
       "</table>\n",
       "</div>"
      ],
      "text/plain": [
       "     sighting_date                        species  latitude  longitude  \\\n",
       "1608    2014-07-24  Monarch Larva (FIRST sighted)    50.252    -96.056   \n",
       "1609    2014-07-28  Monarch Larva (FIRST sighted)    40.266    -74.570   \n",
       "1610    2014-07-28  Monarch Larva (FIRST sighted)    45.350    -76.033   \n",
       "1611    2014-07-30  Monarch Larva (FIRST sighted)    29.990    -90.180   \n",
       "1612    2014-07-31  Monarch Larva (FIRST sighted)    44.266    -73.222   \n",
       "\n",
       "      number  month  \n",
       "1608       1      7  \n",
       "1609       1      7  \n",
       "1610       1      7  \n",
       "1611       1      7  \n",
       "1612       1      7  "
      ]
     },
     "execution_count": 294,
     "metadata": {},
     "output_type": "execute_result"
    }
   ],
   "source": [
    "JNorth_Larva_First_Site_2014_month_df =pd.DataFrame(JNorth_Larva_First_Site_2014_df)\n",
    "JNorth_Larva_First_Site_2014_7_df = JNorth_Larva_First_Site_2014_month_df[JNorth_Larva_First_Site_2014_month_df['month']==7]\n",
    "JNorth_Larva_First_Site_2014_7_df.tail()"
   ]
  },
  {
   "cell_type": "code",
   "execution_count": 295,
   "id": "288aa2ec",
   "metadata": {},
   "outputs": [
    {
     "data": {
      "text/plain": [
       "(16, 6)"
      ]
     },
     "execution_count": 295,
     "metadata": {},
     "output_type": "execute_result"
    }
   ],
   "source": [
    "JNorth_Larva_First_Site_2014_7_df.shape"
   ]
  },
  {
   "cell_type": "code",
   "execution_count": 296,
   "id": "903c70c3",
   "metadata": {},
   "outputs": [],
   "source": [
    "JNorth_Larva_First_Site_2014_7_df = pd.DataFrame(JNorth_Larva_First_Site_2014_7_df)\n",
    "JNorth_Larva_First_Site_2014_7_df.drop(['month'], axis=1, inplace=True)"
   ]
  },
  {
   "cell_type": "code",
   "execution_count": 297,
   "id": "1f4a36a7",
   "metadata": {},
   "outputs": [],
   "source": [
    "# convert lat-long to floats and change address from ALL CAPS to regular capitalization\n",
    "JNorth_Larva_First_Site_2014_7_df['latitude'] = JNorth_Larva_First_Site_2014_7_df['latitude'].astype(float)\n",
    "JNorth_Larva_First_Site_2014_7_df['longitude'] = JNorth_Larva_First_Site_2014_7_df['longitude'].astype(float)\n",
    "# JNorth_Milkweed_Site_df['street_address'] = JNorth_Milkweed_Site_df['street_address'].str.title()"
   ]
  },
  {
   "cell_type": "code",
   "execution_count": 298,
   "id": "3537d71f",
   "metadata": {},
   "outputs": [],
   "source": [
    "geojson = df_to_geojson(JNorth_Larva_First_Site_2014_7_df, cols)"
   ]
  },
  {
   "cell_type": "code",
   "execution_count": 299,
   "id": "df48c8b8",
   "metadata": {},
   "outputs": [],
   "source": [
    "file = open(\"JNorth_Larva_First_Site_2014_7.geojson\", \"w\")\n",
    "json.dump(geojson, file, indent =1)\n",
    "file.close()"
   ]
  },
  {
   "cell_type": "markdown",
   "id": "3d498e81",
   "metadata": {},
   "source": [
    "## August"
   ]
  },
  {
   "cell_type": "code",
   "execution_count": 300,
   "id": "55d756cb",
   "metadata": {},
   "outputs": [
    {
     "data": {
      "text/html": [
       "<div>\n",
       "<style scoped>\n",
       "    .dataframe tbody tr th:only-of-type {\n",
       "        vertical-align: middle;\n",
       "    }\n",
       "\n",
       "    .dataframe tbody tr th {\n",
       "        vertical-align: top;\n",
       "    }\n",
       "\n",
       "    .dataframe thead th {\n",
       "        text-align: right;\n",
       "    }\n",
       "</style>\n",
       "<table border=\"1\" class=\"dataframe\">\n",
       "  <thead>\n",
       "    <tr style=\"text-align: right;\">\n",
       "      <th></th>\n",
       "      <th>sighting_date</th>\n",
       "      <th>species</th>\n",
       "      <th>latitude</th>\n",
       "      <th>longitude</th>\n",
       "      <th>number</th>\n",
       "      <th>month</th>\n",
       "    </tr>\n",
       "  </thead>\n",
       "  <tbody>\n",
       "  </tbody>\n",
       "</table>\n",
       "</div>"
      ],
      "text/plain": [
       "Empty DataFrame\n",
       "Columns: [sighting_date, species, latitude, longitude, number, month]\n",
       "Index: []"
      ]
     },
     "execution_count": 300,
     "metadata": {},
     "output_type": "execute_result"
    }
   ],
   "source": [
    "JNorth_Larva_First_Site_2014_month_df =pd.DataFrame(JNorth_Larva_First_Site_2014_df)\n",
    "JNorth_Larva_First_Site_2014_8_df = JNorth_Larva_First_Site_2014_month_df[JNorth_Larva_First_Site_2014_month_df['month']==8]\n",
    "JNorth_Larva_First_Site_2014_8_df.tail()"
   ]
  },
  {
   "cell_type": "code",
   "execution_count": 301,
   "id": "e5f73698",
   "metadata": {},
   "outputs": [
    {
     "data": {
      "text/plain": [
       "(0, 6)"
      ]
     },
     "execution_count": 301,
     "metadata": {},
     "output_type": "execute_result"
    }
   ],
   "source": [
    "JNorth_Larva_First_Site_2014_8_df.shape"
   ]
  },
  {
   "cell_type": "code",
   "execution_count": 302,
   "id": "ef7668b7",
   "metadata": {},
   "outputs": [],
   "source": [
    "JNorth_Larva_First_Site_2014_8_df= pd.DataFrame(JNorth_Larva_First_Site_2014_8_df)\n",
    "JNorth_Larva_First_Site_2014_8_df.drop(['month'], axis=1, inplace=True)"
   ]
  },
  {
   "cell_type": "code",
   "execution_count": 303,
   "id": "48dacef8",
   "metadata": {},
   "outputs": [],
   "source": [
    "# convert lat-long to floats and change address from ALL CAPS to regular capitalization\n",
    "JNorth_Larva_First_Site_2014_8_df['latitude'] = JNorth_Larva_First_Site_2014_8_df['latitude'].astype(float)\n",
    "JNorth_Larva_First_Site_2014_8_df['longitude'] = JNorth_Larva_First_Site_2014_8_df['longitude'].astype(float)\n",
    "# JNorth_Milkweed_Site_df['street_address'] = JNorth_Milkweed_Site_df['street_address'].str.title()"
   ]
  },
  {
   "cell_type": "code",
   "execution_count": 304,
   "id": "1d563ba1",
   "metadata": {},
   "outputs": [],
   "source": [
    "geojson = df_to_geojson(JNorth_Larva_First_Site_2014_8_df, cols)"
   ]
  },
  {
   "cell_type": "code",
   "execution_count": 305,
   "id": "06443449",
   "metadata": {},
   "outputs": [],
   "source": [
    "file = open(\"JNorth_Larva_First_Site_2014_8.geojson\", \"w\")\n",
    "json.dump(geojson, file, indent =1)\n",
    "file.close()"
   ]
  },
  {
   "cell_type": "markdown",
   "id": "96a57c30",
   "metadata": {},
   "source": [
    "## September"
   ]
  },
  {
   "cell_type": "code",
   "execution_count": 306,
   "id": "d016649a",
   "metadata": {},
   "outputs": [
    {
     "data": {
      "text/html": [
       "<div>\n",
       "<style scoped>\n",
       "    .dataframe tbody tr th:only-of-type {\n",
       "        vertical-align: middle;\n",
       "    }\n",
       "\n",
       "    .dataframe tbody tr th {\n",
       "        vertical-align: top;\n",
       "    }\n",
       "\n",
       "    .dataframe thead th {\n",
       "        text-align: right;\n",
       "    }\n",
       "</style>\n",
       "<table border=\"1\" class=\"dataframe\">\n",
       "  <thead>\n",
       "    <tr style=\"text-align: right;\">\n",
       "      <th></th>\n",
       "      <th>sighting_date</th>\n",
       "      <th>species</th>\n",
       "      <th>latitude</th>\n",
       "      <th>longitude</th>\n",
       "      <th>number</th>\n",
       "      <th>month</th>\n",
       "    </tr>\n",
       "  </thead>\n",
       "  <tbody>\n",
       "  </tbody>\n",
       "</table>\n",
       "</div>"
      ],
      "text/plain": [
       "Empty DataFrame\n",
       "Columns: [sighting_date, species, latitude, longitude, number, month]\n",
       "Index: []"
      ]
     },
     "execution_count": 306,
     "metadata": {},
     "output_type": "execute_result"
    }
   ],
   "source": [
    "JNorth_Larva_First_Site_2014_month_df =pd.DataFrame(JNorth_Larva_First_Site_2014_df)\n",
    "JNorth_Larva_First_Site_2014_9_df = JNorth_Larva_First_Site_2014_month_df[JNorth_Larva_First_Site_2014_month_df['month']==9]\n",
    "JNorth_Larva_First_Site_2014_9_df.tail()"
   ]
  },
  {
   "cell_type": "code",
   "execution_count": 307,
   "id": "0ecef701",
   "metadata": {},
   "outputs": [
    {
     "data": {
      "text/plain": [
       "(0, 6)"
      ]
     },
     "execution_count": 307,
     "metadata": {},
     "output_type": "execute_result"
    }
   ],
   "source": [
    "JNorth_Larva_First_Site_2014_9_df.shape"
   ]
  },
  {
   "cell_type": "code",
   "execution_count": 308,
   "id": "a073c137",
   "metadata": {},
   "outputs": [],
   "source": [
    "JNorth_Larva_First_Site_2014_9_df = pd.DataFrame(JNorth_Larva_First_Site_2014_9_df)\n",
    "JNorth_Larva_First_Site_2014_9_df.drop(['month'], axis=1, inplace=True)"
   ]
  },
  {
   "cell_type": "code",
   "execution_count": 309,
   "id": "815c4094",
   "metadata": {},
   "outputs": [],
   "source": [
    "# convert lat-long to floats and change address from ALL CAPS to regular capitalization\n",
    "JNorth_Larva_First_Site_2014_9_df['latitude'] = JNorth_Larva_First_Site_2014_9_df['latitude'].astype(float)\n",
    "JNorth_Larva_First_Site_2014_9_df['longitude'] = JNorth_Larva_First_Site_2014_9_df['longitude'].astype(float)\n",
    "# JNorth_Milkweed_Site_df['street_address'] = JNorth_Milkweed_Site_df['street_address'].str.title()"
   ]
  },
  {
   "cell_type": "code",
   "execution_count": 310,
   "id": "264210fa",
   "metadata": {},
   "outputs": [],
   "source": [
    "geojson = df_to_geojson(JNorth_Larva_First_Site_2014_9_df, cols)"
   ]
  },
  {
   "cell_type": "code",
   "execution_count": 311,
   "id": "8324bca8",
   "metadata": {},
   "outputs": [],
   "source": [
    "file = open(\"JNorth_Larva_First_Site_2014_9.geojson\", \"w\")\n",
    "json.dump(geojson, file, indent =1)\n",
    "file.close()"
   ]
  },
  {
   "cell_type": "markdown",
   "id": "25891dac",
   "metadata": {},
   "source": [
    "## October"
   ]
  },
  {
   "cell_type": "code",
   "execution_count": 312,
   "id": "2e972169",
   "metadata": {},
   "outputs": [
    {
     "data": {
      "text/html": [
       "<div>\n",
       "<style scoped>\n",
       "    .dataframe tbody tr th:only-of-type {\n",
       "        vertical-align: middle;\n",
       "    }\n",
       "\n",
       "    .dataframe tbody tr th {\n",
       "        vertical-align: top;\n",
       "    }\n",
       "\n",
       "    .dataframe thead th {\n",
       "        text-align: right;\n",
       "    }\n",
       "</style>\n",
       "<table border=\"1\" class=\"dataframe\">\n",
       "  <thead>\n",
       "    <tr style=\"text-align: right;\">\n",
       "      <th></th>\n",
       "      <th>sighting_date</th>\n",
       "      <th>species</th>\n",
       "      <th>latitude</th>\n",
       "      <th>longitude</th>\n",
       "      <th>number</th>\n",
       "      <th>month</th>\n",
       "    </tr>\n",
       "  </thead>\n",
       "  <tbody>\n",
       "  </tbody>\n",
       "</table>\n",
       "</div>"
      ],
      "text/plain": [
       "Empty DataFrame\n",
       "Columns: [sighting_date, species, latitude, longitude, number, month]\n",
       "Index: []"
      ]
     },
     "execution_count": 312,
     "metadata": {},
     "output_type": "execute_result"
    }
   ],
   "source": [
    "JNorth_Larva_First_Site_2014_month_df =pd.DataFrame(JNorth_Larva_First_Site_2014_df)\n",
    "JNorth_Larva_First_Site_2014_10_df = JNorth_Larva_First_Site_2014_month_df[JNorth_Larva_First_Site_2014_month_df['month']==10]\n",
    "JNorth_Larva_First_Site_2014_10_df.tail()"
   ]
  },
  {
   "cell_type": "code",
   "execution_count": 313,
   "id": "b02cb6c5",
   "metadata": {},
   "outputs": [
    {
     "data": {
      "text/plain": [
       "(0, 6)"
      ]
     },
     "execution_count": 313,
     "metadata": {},
     "output_type": "execute_result"
    }
   ],
   "source": [
    "JNorth_Larva_First_Site_2014_10_df.shape"
   ]
  },
  {
   "cell_type": "code",
   "execution_count": 314,
   "id": "4c128c57",
   "metadata": {},
   "outputs": [],
   "source": [
    "JNorth_Larva_First_Site_2014_10_df = pd.DataFrame(JNorth_Larva_First_Site_2014_10_df)\n",
    "JNorth_Larva_First_Site_2014_10_df.drop(['month'], axis=1, inplace=True)"
   ]
  },
  {
   "cell_type": "code",
   "execution_count": 315,
   "id": "e11b561b",
   "metadata": {},
   "outputs": [],
   "source": [
    "# convert lat-long to floats and change address from ALL CAPS to regular capitalization\n",
    "JNorth_Larva_First_Site_2014_10_df['latitude'] = JNorth_Larva_First_Site_2014_10_df['latitude'].astype(float)\n",
    "JNorth_Larva_First_Site_2014_10_df['longitude'] = JNorth_Larva_First_Site_2014_10_df['longitude'].astype(float)\n",
    "# JNorth_Milkweed_Site_df['street_address'] = JNorth_Milkweed_Site_df['street_address'].str.title()"
   ]
  },
  {
   "cell_type": "code",
   "execution_count": 316,
   "id": "7510a3c3",
   "metadata": {},
   "outputs": [],
   "source": [
    "geojson = df_to_geojson(JNorth_Larva_First_Site_2014_10_df, cols)"
   ]
  },
  {
   "cell_type": "code",
   "execution_count": 317,
   "id": "c4baae80",
   "metadata": {},
   "outputs": [],
   "source": [
    "file = open(\"JNorth_Larva_First_Site_2014_10.geojson\", \"w\")\n",
    "json.dump(geojson, file, indent =1)\n",
    "file.close()"
   ]
  },
  {
   "cell_type": "markdown",
   "id": "bd664e59",
   "metadata": {},
   "source": [
    "## November"
   ]
  },
  {
   "cell_type": "code",
   "execution_count": 318,
   "id": "1204d4e5",
   "metadata": {},
   "outputs": [
    {
     "data": {
      "text/html": [
       "<div>\n",
       "<style scoped>\n",
       "    .dataframe tbody tr th:only-of-type {\n",
       "        vertical-align: middle;\n",
       "    }\n",
       "\n",
       "    .dataframe tbody tr th {\n",
       "        vertical-align: top;\n",
       "    }\n",
       "\n",
       "    .dataframe thead th {\n",
       "        text-align: right;\n",
       "    }\n",
       "</style>\n",
       "<table border=\"1\" class=\"dataframe\">\n",
       "  <thead>\n",
       "    <tr style=\"text-align: right;\">\n",
       "      <th></th>\n",
       "      <th>sighting_date</th>\n",
       "      <th>species</th>\n",
       "      <th>latitude</th>\n",
       "      <th>longitude</th>\n",
       "      <th>number</th>\n",
       "      <th>month</th>\n",
       "    </tr>\n",
       "  </thead>\n",
       "  <tbody>\n",
       "  </tbody>\n",
       "</table>\n",
       "</div>"
      ],
      "text/plain": [
       "Empty DataFrame\n",
       "Columns: [sighting_date, species, latitude, longitude, number, month]\n",
       "Index: []"
      ]
     },
     "execution_count": 318,
     "metadata": {},
     "output_type": "execute_result"
    }
   ],
   "source": [
    "JNorth_Larva_First_Site_2014_month_df =pd.DataFrame(JNorth_Larva_First_Site_2014_df)\n",
    "JNorth_Larva_First_Site_2014_11_df = JNorth_Larva_First_Site_2014_month_df[JNorth_Larva_First_Site_2014_month_df['month']==11]\n",
    "JNorth_Larva_First_Site_2014_11_df.tail()"
   ]
  },
  {
   "cell_type": "code",
   "execution_count": 319,
   "id": "b5447ef0",
   "metadata": {},
   "outputs": [
    {
     "data": {
      "text/plain": [
       "(0, 6)"
      ]
     },
     "execution_count": 319,
     "metadata": {},
     "output_type": "execute_result"
    }
   ],
   "source": [
    "JNorth_Larva_First_Site_2014_11_df.shape"
   ]
  },
  {
   "cell_type": "code",
   "execution_count": 320,
   "id": "f3d3ebcd",
   "metadata": {},
   "outputs": [],
   "source": [
    "JNorth_Larva_First_Site_2014_11_df = pd.DataFrame(JNorth_Larva_First_Site_2014_11_df)\n",
    "JNorth_Larva_First_Site_2014_11_df.drop(['month'], axis=1, inplace=True)"
   ]
  },
  {
   "cell_type": "code",
   "execution_count": 321,
   "id": "efcce95f",
   "metadata": {},
   "outputs": [],
   "source": [
    "# convert lat-long to floats and change address from ALL CAPS to regular capitalization\n",
    "JNorth_Larva_First_Site_2014_11_df['latitude'] = JNorth_Larva_First_Site_2014_11_df['latitude'].astype(float)\n",
    "JNorth_Larva_First_Site_2014_11_df['longitude'] = JNorth_Larva_First_Site_2014_11_df['longitude'].astype(float)\n",
    "# JNorth_Milkweed_Site_df['street_address'] = JNorth_Milkweed_Site_df['street_address'].str.title()"
   ]
  },
  {
   "cell_type": "code",
   "execution_count": 322,
   "id": "f3d6c1d9",
   "metadata": {},
   "outputs": [],
   "source": [
    "geojson = df_to_geojson(JNorth_Larva_First_Site_2014_11_df, cols)"
   ]
  },
  {
   "cell_type": "code",
   "execution_count": 323,
   "id": "fd0e9741",
   "metadata": {},
   "outputs": [],
   "source": [
    "file = open(\"JNorth_Larva_First_Site_2014_11.geojson\", \"w\")\n",
    "json.dump(geojson, file, indent =1)\n",
    "file.close()"
   ]
  },
  {
   "cell_type": "markdown",
   "id": "cdcf918e",
   "metadata": {},
   "source": [
    "## December"
   ]
  },
  {
   "cell_type": "code",
   "execution_count": 324,
   "id": "3e347baa",
   "metadata": {},
   "outputs": [
    {
     "data": {
      "text/html": [
       "<div>\n",
       "<style scoped>\n",
       "    .dataframe tbody tr th:only-of-type {\n",
       "        vertical-align: middle;\n",
       "    }\n",
       "\n",
       "    .dataframe tbody tr th {\n",
       "        vertical-align: top;\n",
       "    }\n",
       "\n",
       "    .dataframe thead th {\n",
       "        text-align: right;\n",
       "    }\n",
       "</style>\n",
       "<table border=\"1\" class=\"dataframe\">\n",
       "  <thead>\n",
       "    <tr style=\"text-align: right;\">\n",
       "      <th></th>\n",
       "      <th>sighting_date</th>\n",
       "      <th>species</th>\n",
       "      <th>latitude</th>\n",
       "      <th>longitude</th>\n",
       "      <th>number</th>\n",
       "      <th>month</th>\n",
       "    </tr>\n",
       "  </thead>\n",
       "  <tbody>\n",
       "    <tr>\n",
       "      <th>1613</th>\n",
       "      <td>2014-12-25</td>\n",
       "      <td>Monarch Larva (FIRST sighted)</td>\n",
       "      <td>34.099</td>\n",
       "      <td>-117.581</td>\n",
       "      <td>1</td>\n",
       "      <td>12</td>\n",
       "    </tr>\n",
       "    <tr>\n",
       "      <th>1614</th>\n",
       "      <td>2014-12-29</td>\n",
       "      <td>Monarch Larva (FIRST sighted)</td>\n",
       "      <td>28.035</td>\n",
       "      <td>-82.389</td>\n",
       "      <td>1</td>\n",
       "      <td>12</td>\n",
       "    </tr>\n",
       "  </tbody>\n",
       "</table>\n",
       "</div>"
      ],
      "text/plain": [
       "     sighting_date                        species  latitude  longitude  \\\n",
       "1613    2014-12-25  Monarch Larva (FIRST sighted)    34.099   -117.581   \n",
       "1614    2014-12-29  Monarch Larva (FIRST sighted)    28.035    -82.389   \n",
       "\n",
       "      number  month  \n",
       "1613       1     12  \n",
       "1614       1     12  "
      ]
     },
     "execution_count": 324,
     "metadata": {},
     "output_type": "execute_result"
    }
   ],
   "source": [
    "JNorth_Larva_First_Site_2014_month_df =pd.DataFrame(JNorth_Larva_First_Site_2014_df)\n",
    "JNorth_Larva_First_Site_2014_12_df = JNorth_Larva_First_Site_2014_month_df[JNorth_Larva_First_Site_2014_month_df['month']==12]\n",
    "JNorth_Larva_First_Site_2014_12_df.tail()"
   ]
  },
  {
   "cell_type": "code",
   "execution_count": 325,
   "id": "20a8e5a5",
   "metadata": {},
   "outputs": [
    {
     "data": {
      "text/plain": [
       "(2, 6)"
      ]
     },
     "execution_count": 325,
     "metadata": {},
     "output_type": "execute_result"
    }
   ],
   "source": [
    "JNorth_Larva_First_Site_2014_12_df.shape"
   ]
  },
  {
   "cell_type": "code",
   "execution_count": 326,
   "id": "529a75b3",
   "metadata": {},
   "outputs": [],
   "source": [
    "JNorth_Larva_First_Site_2014_12_df = pd.DataFrame(JNorth_Larva_First_Site_2014_12_df)\n",
    "JNorth_Larva_First_Site_2014_12_df.drop(['month'], axis=1, inplace=True)"
   ]
  },
  {
   "cell_type": "code",
   "execution_count": 327,
   "id": "9d50cf68",
   "metadata": {},
   "outputs": [],
   "source": [
    "# convert lat-long to floats and change address from ALL CAPS to regular capitalization\n",
    "JNorth_Larva_First_Site_2014_12_df['latitude'] = JNorth_Larva_First_Site_2014_12_df['latitude'].astype(float)\n",
    "JNorth_Larva_First_Site_2014_12_df['longitude'] = JNorth_Larva_First_Site_2014_12_df['longitude'].astype(float)\n",
    "# JNorth_Milkweed_Site_df['street_address'] = JNorth_Milkweed_Site_df['street_address'].str.title()"
   ]
  },
  {
   "cell_type": "code",
   "execution_count": 328,
   "id": "90e20da8",
   "metadata": {},
   "outputs": [],
   "source": [
    "geojson = df_to_geojson(JNorth_Larva_First_Site_2014_12_df, cols)"
   ]
  },
  {
   "cell_type": "code",
   "execution_count": 329,
   "id": "1dc06ea2",
   "metadata": {},
   "outputs": [],
   "source": [
    "file = open(\"JNorth_Larva_First_Site_2014_12.geojson\", \"w\")\n",
    "json.dump(geojson, file, indent =1)\n",
    "file.close()"
   ]
  },
  {
   "cell_type": "markdown",
   "id": "8bf917be",
   "metadata": {},
   "source": [
    "# 2015"
   ]
  },
  {
   "cell_type": "code",
   "execution_count": 330,
   "id": "4968168c",
   "metadata": {},
   "outputs": [
    {
     "data": {
      "text/html": [
       "<div>\n",
       "<style scoped>\n",
       "    .dataframe tbody tr th:only-of-type {\n",
       "        vertical-align: middle;\n",
       "    }\n",
       "\n",
       "    .dataframe tbody tr th {\n",
       "        vertical-align: top;\n",
       "    }\n",
       "\n",
       "    .dataframe thead th {\n",
       "        text-align: right;\n",
       "    }\n",
       "</style>\n",
       "<table border=\"1\" class=\"dataframe\">\n",
       "  <thead>\n",
       "    <tr style=\"text-align: right;\">\n",
       "      <th></th>\n",
       "      <th>sighting_date</th>\n",
       "      <th>species</th>\n",
       "      <th>latitude</th>\n",
       "      <th>longitude</th>\n",
       "      <th>number</th>\n",
       "      <th>year</th>\n",
       "    </tr>\n",
       "  </thead>\n",
       "  <tbody>\n",
       "    <tr>\n",
       "      <th>1973</th>\n",
       "      <td>2015-07-27</td>\n",
       "      <td>Monarch Larva (FIRST sighted)</td>\n",
       "      <td>44.648</td>\n",
       "      <td>-83.361</td>\n",
       "      <td>5</td>\n",
       "      <td>2015</td>\n",
       "    </tr>\n",
       "    <tr>\n",
       "      <th>1974</th>\n",
       "      <td>2015-07-28</td>\n",
       "      <td>Monarch Larva (FIRST sighted)</td>\n",
       "      <td>39.625</td>\n",
       "      <td>-75.726</td>\n",
       "      <td>1</td>\n",
       "      <td>2015</td>\n",
       "    </tr>\n",
       "    <tr>\n",
       "      <th>1975</th>\n",
       "      <td>2015-07-29</td>\n",
       "      <td>Monarch Larva (FIRST sighted)</td>\n",
       "      <td>41.681</td>\n",
       "      <td>-87.972</td>\n",
       "      <td>1</td>\n",
       "      <td>2015</td>\n",
       "    </tr>\n",
       "    <tr>\n",
       "      <th>1976</th>\n",
       "      <td>2015-07-30</td>\n",
       "      <td>Monarch Larva (FIRST sighted)</td>\n",
       "      <td>43.754</td>\n",
       "      <td>-72.310</td>\n",
       "      <td>1</td>\n",
       "      <td>2015</td>\n",
       "    </tr>\n",
       "    <tr>\n",
       "      <th>1977</th>\n",
       "      <td>2015-12-26</td>\n",
       "      <td>Monarch Larva (FIRST sighted)</td>\n",
       "      <td>32.416</td>\n",
       "      <td>-80.738</td>\n",
       "      <td>15</td>\n",
       "      <td>2015</td>\n",
       "    </tr>\n",
       "  </tbody>\n",
       "</table>\n",
       "</div>"
      ],
      "text/plain": [
       "     sighting_date                        species  latitude  longitude  \\\n",
       "1973    2015-07-27  Monarch Larva (FIRST sighted)    44.648    -83.361   \n",
       "1974    2015-07-28  Monarch Larva (FIRST sighted)    39.625    -75.726   \n",
       "1975    2015-07-29  Monarch Larva (FIRST sighted)    41.681    -87.972   \n",
       "1976    2015-07-30  Monarch Larva (FIRST sighted)    43.754    -72.310   \n",
       "1977    2015-12-26  Monarch Larva (FIRST sighted)    32.416    -80.738   \n",
       "\n",
       "      number  year  \n",
       "1973       5  2015  \n",
       "1974       1  2015  \n",
       "1975       1  2015  \n",
       "1976       1  2015  \n",
       "1977      15  2015  "
      ]
     },
     "execution_count": 330,
     "metadata": {},
     "output_type": "execute_result"
    }
   ],
   "source": [
    "JNorth_Larva_First_Site_2015_df = JNorth_Larva_First_Site_df[JNorth_Larva_First_Site_df['year']==2015]\n",
    "JNorth_Larva_First_Site_2015_df.tail()"
   ]
  },
  {
   "cell_type": "code",
   "execution_count": 331,
   "id": "0c944693",
   "metadata": {},
   "outputs": [
    {
     "data": {
      "text/plain": [
       "(363, 6)"
      ]
     },
     "execution_count": 331,
     "metadata": {},
     "output_type": "execute_result"
    }
   ],
   "source": [
    "JNorth_Larva_First_Site_2015_df.shape"
   ]
  },
  {
   "cell_type": "code",
   "execution_count": 332,
   "id": "92bc2990",
   "metadata": {},
   "outputs": [],
   "source": [
    "JNorth_Larva_First_Site_2015_df = pd.DataFrame(JNorth_Larva_First_Site_2015_df)\n",
    "JNorth_Larva_First_Site_2015_df.drop(['year'], axis=1, inplace=True)"
   ]
  },
  {
   "cell_type": "code",
   "execution_count": 333,
   "id": "9cdb97b2",
   "metadata": {},
   "outputs": [
    {
     "data": {
      "text/plain": [
       "<bound method NDFrame.tail of      sighting_date                        species  latitude  longitude  number\n",
       "1615    2015-01-02  Monarch Larva (FIRST sighted)    28.029    -80.608       1\n",
       "1616    2015-01-02  Monarch Larva (FIRST sighted)    29.757    -95.365       1\n",
       "1617    2015-01-02  Monarch Larva (FIRST sighted)    30.449    -91.188       1\n",
       "1618    2015-01-19  Monarch Larva (FIRST sighted)    30.420    -87.224       1\n",
       "1619    2015-01-24  Monarch Larva (FIRST sighted)    25.204    -80.362       1\n",
       "...            ...                            ...       ...        ...     ...\n",
       "1973    2015-07-27  Monarch Larva (FIRST sighted)    44.648    -83.361       5\n",
       "1974    2015-07-28  Monarch Larva (FIRST sighted)    39.625    -75.726       1\n",
       "1975    2015-07-29  Monarch Larva (FIRST sighted)    41.681    -87.972       1\n",
       "1976    2015-07-30  Monarch Larva (FIRST sighted)    43.754    -72.310       1\n",
       "1977    2015-12-26  Monarch Larva (FIRST sighted)    32.416    -80.738      15\n",
       "\n",
       "[363 rows x 5 columns]>"
      ]
     },
     "execution_count": 333,
     "metadata": {},
     "output_type": "execute_result"
    }
   ],
   "source": [
    "JNorth_Larva_First_Site_2015_df.tail"
   ]
  },
  {
   "cell_type": "code",
   "execution_count": 334,
   "id": "7783762f",
   "metadata": {},
   "outputs": [],
   "source": [
    "JNorth_Larva_First_Site_2015_df['month'] = pd.DatetimeIndex(JNorth_Larva_First_Site_2015_df['sighting_date']).month"
   ]
  },
  {
   "cell_type": "markdown",
   "id": "f71cd27e",
   "metadata": {},
   "source": [
    "## January"
   ]
  },
  {
   "cell_type": "code",
   "execution_count": 335,
   "id": "5aa17557",
   "metadata": {},
   "outputs": [
    {
     "data": {
      "text/html": [
       "<div>\n",
       "<style scoped>\n",
       "    .dataframe tbody tr th:only-of-type {\n",
       "        vertical-align: middle;\n",
       "    }\n",
       "\n",
       "    .dataframe tbody tr th {\n",
       "        vertical-align: top;\n",
       "    }\n",
       "\n",
       "    .dataframe thead th {\n",
       "        text-align: right;\n",
       "    }\n",
       "</style>\n",
       "<table border=\"1\" class=\"dataframe\">\n",
       "  <thead>\n",
       "    <tr style=\"text-align: right;\">\n",
       "      <th></th>\n",
       "      <th>sighting_date</th>\n",
       "      <th>species</th>\n",
       "      <th>latitude</th>\n",
       "      <th>longitude</th>\n",
       "      <th>number</th>\n",
       "      <th>month</th>\n",
       "    </tr>\n",
       "  </thead>\n",
       "  <tbody>\n",
       "    <tr>\n",
       "      <th>1615</th>\n",
       "      <td>2015-01-02</td>\n",
       "      <td>Monarch Larva (FIRST sighted)</td>\n",
       "      <td>28.029</td>\n",
       "      <td>-80.608</td>\n",
       "      <td>1</td>\n",
       "      <td>1</td>\n",
       "    </tr>\n",
       "    <tr>\n",
       "      <th>1616</th>\n",
       "      <td>2015-01-02</td>\n",
       "      <td>Monarch Larva (FIRST sighted)</td>\n",
       "      <td>29.757</td>\n",
       "      <td>-95.365</td>\n",
       "      <td>1</td>\n",
       "      <td>1</td>\n",
       "    </tr>\n",
       "    <tr>\n",
       "      <th>1617</th>\n",
       "      <td>2015-01-02</td>\n",
       "      <td>Monarch Larva (FIRST sighted)</td>\n",
       "      <td>30.449</td>\n",
       "      <td>-91.188</td>\n",
       "      <td>1</td>\n",
       "      <td>1</td>\n",
       "    </tr>\n",
       "    <tr>\n",
       "      <th>1618</th>\n",
       "      <td>2015-01-19</td>\n",
       "      <td>Monarch Larva (FIRST sighted)</td>\n",
       "      <td>30.420</td>\n",
       "      <td>-87.224</td>\n",
       "      <td>1</td>\n",
       "      <td>1</td>\n",
       "    </tr>\n",
       "    <tr>\n",
       "      <th>1619</th>\n",
       "      <td>2015-01-24</td>\n",
       "      <td>Monarch Larva (FIRST sighted)</td>\n",
       "      <td>25.204</td>\n",
       "      <td>-80.362</td>\n",
       "      <td>1</td>\n",
       "      <td>1</td>\n",
       "    </tr>\n",
       "  </tbody>\n",
       "</table>\n",
       "</div>"
      ],
      "text/plain": [
       "     sighting_date                        species  latitude  longitude  \\\n",
       "1615    2015-01-02  Monarch Larva (FIRST sighted)    28.029    -80.608   \n",
       "1616    2015-01-02  Monarch Larva (FIRST sighted)    29.757    -95.365   \n",
       "1617    2015-01-02  Monarch Larva (FIRST sighted)    30.449    -91.188   \n",
       "1618    2015-01-19  Monarch Larva (FIRST sighted)    30.420    -87.224   \n",
       "1619    2015-01-24  Monarch Larva (FIRST sighted)    25.204    -80.362   \n",
       "\n",
       "      number  month  \n",
       "1615       1      1  \n",
       "1616       1      1  \n",
       "1617       1      1  \n",
       "1618       1      1  \n",
       "1619       1      1  "
      ]
     },
     "execution_count": 335,
     "metadata": {},
     "output_type": "execute_result"
    }
   ],
   "source": [
    "JNorth_Larva_First_Site_2015_month_df =pd.DataFrame(JNorth_Larva_First_Site_2015_df)\n",
    "JNorth_Larva_First_Site_2015_1_df = JNorth_Larva_First_Site_2015_month_df[JNorth_Larva_First_Site_2015_month_df['month']==1]\n",
    "JNorth_Larva_First_Site_2015_1_df.tail()"
   ]
  },
  {
   "cell_type": "code",
   "execution_count": 336,
   "id": "ca135c2e",
   "metadata": {},
   "outputs": [
    {
     "data": {
      "text/plain": [
       "(5, 6)"
      ]
     },
     "execution_count": 336,
     "metadata": {},
     "output_type": "execute_result"
    }
   ],
   "source": [
    "JNorth_Larva_First_Site_2015_1_df.shape"
   ]
  },
  {
   "cell_type": "code",
   "execution_count": 337,
   "id": "6d0be994",
   "metadata": {},
   "outputs": [],
   "source": [
    "JNorth_Larva_First_Site_2015_1_df = pd.DataFrame(JNorth_Larva_First_Site_2015_1_df)\n",
    "JNorth_Larva_First_Site_2015_1_df.drop(['month'], axis=1, inplace=True)"
   ]
  },
  {
   "cell_type": "code",
   "execution_count": 338,
   "id": "be4f1dc4",
   "metadata": {},
   "outputs": [],
   "source": [
    "# convert lat-long to floats and change address from ALL CAPS to regular capitalization\n",
    "JNorth_Larva_First_Site_2015_1_df['latitude'] = JNorth_Larva_First_Site_2015_1_df['latitude'].astype(float)\n",
    "JNorth_Larva_First_Site_2015_1_df['longitude'] = JNorth_Larva_First_Site_2015_1_df['longitude'].astype(float)\n",
    "# JNorth_Milkweed_Site_df['street_address'] = JNorth_Milkweed_Site_df['street_address'].str.title()"
   ]
  },
  {
   "cell_type": "code",
   "execution_count": 339,
   "id": "918699f7",
   "metadata": {},
   "outputs": [],
   "source": [
    "geojson = df_to_geojson(JNorth_Larva_First_Site_2015_1_df, cols)"
   ]
  },
  {
   "cell_type": "code",
   "execution_count": 340,
   "id": "d4b56319",
   "metadata": {},
   "outputs": [],
   "source": [
    "file = open(\"JNorth_Larva_First_Site_2015_1.geojson\", \"w\")\n",
    "json.dump(geojson, file, indent =1)\n",
    "file.close()"
   ]
  },
  {
   "cell_type": "markdown",
   "id": "2330de88",
   "metadata": {},
   "source": [
    "# February"
   ]
  },
  {
   "cell_type": "code",
   "execution_count": 341,
   "id": "a96637fc",
   "metadata": {},
   "outputs": [
    {
     "data": {
      "text/html": [
       "<div>\n",
       "<style scoped>\n",
       "    .dataframe tbody tr th:only-of-type {\n",
       "        vertical-align: middle;\n",
       "    }\n",
       "\n",
       "    .dataframe tbody tr th {\n",
       "        vertical-align: top;\n",
       "    }\n",
       "\n",
       "    .dataframe thead th {\n",
       "        text-align: right;\n",
       "    }\n",
       "</style>\n",
       "<table border=\"1\" class=\"dataframe\">\n",
       "  <thead>\n",
       "    <tr style=\"text-align: right;\">\n",
       "      <th></th>\n",
       "      <th>sighting_date</th>\n",
       "      <th>species</th>\n",
       "      <th>latitude</th>\n",
       "      <th>longitude</th>\n",
       "      <th>number</th>\n",
       "      <th>month</th>\n",
       "    </tr>\n",
       "  </thead>\n",
       "  <tbody>\n",
       "    <tr>\n",
       "      <th>1627</th>\n",
       "      <td>2015-02-18</td>\n",
       "      <td>Monarch Larva (FIRST sighted)</td>\n",
       "      <td>32.760</td>\n",
       "      <td>-116.998</td>\n",
       "      <td>1</td>\n",
       "      <td>2</td>\n",
       "    </tr>\n",
       "    <tr>\n",
       "      <th>1628</th>\n",
       "      <td>2015-02-18</td>\n",
       "      <td>Monarch Larva (FIRST sighted)</td>\n",
       "      <td>33.861</td>\n",
       "      <td>-116.564</td>\n",
       "      <td>1</td>\n",
       "      <td>2</td>\n",
       "    </tr>\n",
       "    <tr>\n",
       "      <th>1629</th>\n",
       "      <td>2015-02-18</td>\n",
       "      <td>Monarch Larva (FIRST sighted)</td>\n",
       "      <td>33.902</td>\n",
       "      <td>-118.008</td>\n",
       "      <td>1</td>\n",
       "      <td>2</td>\n",
       "    </tr>\n",
       "    <tr>\n",
       "      <th>1630</th>\n",
       "      <td>2015-02-21</td>\n",
       "      <td>Monarch Larva (FIRST sighted)</td>\n",
       "      <td>29.990</td>\n",
       "      <td>-90.180</td>\n",
       "      <td>1</td>\n",
       "      <td>2</td>\n",
       "    </tr>\n",
       "    <tr>\n",
       "      <th>1631</th>\n",
       "      <td>2015-02-28</td>\n",
       "      <td>Monarch Larva (FIRST sighted)</td>\n",
       "      <td>33.861</td>\n",
       "      <td>-116.564</td>\n",
       "      <td>1</td>\n",
       "      <td>2</td>\n",
       "    </tr>\n",
       "  </tbody>\n",
       "</table>\n",
       "</div>"
      ],
      "text/plain": [
       "     sighting_date                        species  latitude  longitude  \\\n",
       "1627    2015-02-18  Monarch Larva (FIRST sighted)    32.760   -116.998   \n",
       "1628    2015-02-18  Monarch Larva (FIRST sighted)    33.861   -116.564   \n",
       "1629    2015-02-18  Monarch Larva (FIRST sighted)    33.902   -118.008   \n",
       "1630    2015-02-21  Monarch Larva (FIRST sighted)    29.990    -90.180   \n",
       "1631    2015-02-28  Monarch Larva (FIRST sighted)    33.861   -116.564   \n",
       "\n",
       "      number  month  \n",
       "1627       1      2  \n",
       "1628       1      2  \n",
       "1629       1      2  \n",
       "1630       1      2  \n",
       "1631       1      2  "
      ]
     },
     "execution_count": 341,
     "metadata": {},
     "output_type": "execute_result"
    }
   ],
   "source": [
    "JNorth_Larva_First_Site_2015_month_df =pd.DataFrame(JNorth_Larva_First_Site_2015_df)\n",
    "JNorth_Larva_First_Site_2015_2_df = JNorth_Larva_First_Site_2015_month_df[JNorth_Larva_First_Site_2015_month_df['month']==2]\n",
    "JNorth_Larva_First_Site_2015_2_df.tail()"
   ]
  },
  {
   "cell_type": "code",
   "execution_count": 342,
   "id": "27970c15",
   "metadata": {},
   "outputs": [
    {
     "data": {
      "text/plain": [
       "(12, 6)"
      ]
     },
     "execution_count": 342,
     "metadata": {},
     "output_type": "execute_result"
    }
   ],
   "source": [
    "JNorth_Larva_First_Site_2015_2_df.shape"
   ]
  },
  {
   "cell_type": "code",
   "execution_count": 343,
   "id": "c2b5b887",
   "metadata": {},
   "outputs": [],
   "source": [
    "JNorth_Larva_First_Site_2015_2_df = pd.DataFrame(JNorth_Larva_First_Site_2015_2_df)\n",
    "JNorth_Larva_First_Site_2015_2_df.drop(['month'], axis=1, inplace=True)"
   ]
  },
  {
   "cell_type": "code",
   "execution_count": 344,
   "id": "c7b9db54",
   "metadata": {},
   "outputs": [],
   "source": [
    "# convert lat-long to floats and change address from ALL CAPS to regular capitalization\n",
    "JNorth_Larva_First_Site_2015_2_df['latitude'] = JNorth_Larva_First_Site_2015_2_df['latitude'].astype(float)\n",
    "JNorth_Larva_First_Site_2015_2_df['longitude'] = JNorth_Larva_First_Site_2015_2_df['longitude'].astype(float)\n",
    "# JNorth_Milkweed_Site_df['street_address'] = JNorth_Milkweed_Site_df['street_address'].str.title()"
   ]
  },
  {
   "cell_type": "code",
   "execution_count": 345,
   "id": "8cd49e48",
   "metadata": {},
   "outputs": [],
   "source": [
    "geojson = df_to_geojson(JNorth_Larva_First_Site_2015_2_df, cols)"
   ]
  },
  {
   "cell_type": "code",
   "execution_count": 346,
   "id": "fc85e820",
   "metadata": {},
   "outputs": [],
   "source": [
    "file = open(\"JNorth_Larva_First_Site_2015_2.geojson\", \"w\")\n",
    "json.dump(geojson, file, indent =1)\n",
    "file.close()"
   ]
  },
  {
   "cell_type": "markdown",
   "id": "cd09c9fa",
   "metadata": {},
   "source": [
    "# March"
   ]
  },
  {
   "cell_type": "code",
   "execution_count": 347,
   "id": "80cd9c13",
   "metadata": {},
   "outputs": [
    {
     "data": {
      "text/html": [
       "<div>\n",
       "<style scoped>\n",
       "    .dataframe tbody tr th:only-of-type {\n",
       "        vertical-align: middle;\n",
       "    }\n",
       "\n",
       "    .dataframe tbody tr th {\n",
       "        vertical-align: top;\n",
       "    }\n",
       "\n",
       "    .dataframe thead th {\n",
       "        text-align: right;\n",
       "    }\n",
       "</style>\n",
       "<table border=\"1\" class=\"dataframe\">\n",
       "  <thead>\n",
       "    <tr style=\"text-align: right;\">\n",
       "      <th></th>\n",
       "      <th>sighting_date</th>\n",
       "      <th>species</th>\n",
       "      <th>latitude</th>\n",
       "      <th>longitude</th>\n",
       "      <th>number</th>\n",
       "      <th>month</th>\n",
       "    </tr>\n",
       "  </thead>\n",
       "  <tbody>\n",
       "    <tr>\n",
       "      <th>1659</th>\n",
       "      <td>2015-03-28</td>\n",
       "      <td>Monarch Larva (FIRST sighted)</td>\n",
       "      <td>33.994</td>\n",
       "      <td>-118.462</td>\n",
       "      <td>1</td>\n",
       "      <td>3</td>\n",
       "    </tr>\n",
       "    <tr>\n",
       "      <th>1660</th>\n",
       "      <td>2015-03-29</td>\n",
       "      <td>Monarch Larva (FIRST sighted)</td>\n",
       "      <td>29.757</td>\n",
       "      <td>-95.365</td>\n",
       "      <td>1</td>\n",
       "      <td>3</td>\n",
       "    </tr>\n",
       "    <tr>\n",
       "      <th>1661</th>\n",
       "      <td>2015-03-30</td>\n",
       "      <td>Monarch Larva (FIRST sighted)</td>\n",
       "      <td>29.757</td>\n",
       "      <td>-95.365</td>\n",
       "      <td>1</td>\n",
       "      <td>3</td>\n",
       "    </tr>\n",
       "    <tr>\n",
       "      <th>1662</th>\n",
       "      <td>2015-03-30</td>\n",
       "      <td>Monarch Larva (FIRST sighted)</td>\n",
       "      <td>39.636</td>\n",
       "      <td>-121.585</td>\n",
       "      <td>1</td>\n",
       "      <td>3</td>\n",
       "    </tr>\n",
       "    <tr>\n",
       "      <th>1663</th>\n",
       "      <td>2015-03-31</td>\n",
       "      <td>Monarch Larva (FIRST sighted)</td>\n",
       "      <td>37.387</td>\n",
       "      <td>-121.897</td>\n",
       "      <td>1</td>\n",
       "      <td>3</td>\n",
       "    </tr>\n",
       "  </tbody>\n",
       "</table>\n",
       "</div>"
      ],
      "text/plain": [
       "     sighting_date                        species  latitude  longitude  \\\n",
       "1659    2015-03-28  Monarch Larva (FIRST sighted)    33.994   -118.462   \n",
       "1660    2015-03-29  Monarch Larva (FIRST sighted)    29.757    -95.365   \n",
       "1661    2015-03-30  Monarch Larva (FIRST sighted)    29.757    -95.365   \n",
       "1662    2015-03-30  Monarch Larva (FIRST sighted)    39.636   -121.585   \n",
       "1663    2015-03-31  Monarch Larva (FIRST sighted)    37.387   -121.897   \n",
       "\n",
       "      number  month  \n",
       "1659       1      3  \n",
       "1660       1      3  \n",
       "1661       1      3  \n",
       "1662       1      3  \n",
       "1663       1      3  "
      ]
     },
     "execution_count": 347,
     "metadata": {},
     "output_type": "execute_result"
    }
   ],
   "source": [
    "JNorth_Larva_First_Site_2015_month_df =pd.DataFrame(JNorth_Larva_First_Site_2015_df)\n",
    "JNorth_Larva_First_Site_2015_3_df = JNorth_Larva_First_Site_2015_month_df[JNorth_Larva_First_Site_2015_month_df['month']==3]\n",
    "JNorth_Larva_First_Site_2015_3_df.tail()"
   ]
  },
  {
   "cell_type": "code",
   "execution_count": 348,
   "id": "f59a1362",
   "metadata": {},
   "outputs": [
    {
     "data": {
      "text/plain": [
       "(32, 6)"
      ]
     },
     "execution_count": 348,
     "metadata": {},
     "output_type": "execute_result"
    }
   ],
   "source": [
    "JNorth_Larva_First_Site_2015_3_df.shape"
   ]
  },
  {
   "cell_type": "code",
   "execution_count": 349,
   "id": "bbda5b6a",
   "metadata": {},
   "outputs": [],
   "source": [
    "JNorth_Larva_First_Site_2015_3_df = pd.DataFrame(JNorth_Larva_First_Site_2015_3_df)\n",
    "JNorth_Larva_First_Site_2015_3_df.drop(['month'], axis=1, inplace=True)"
   ]
  },
  {
   "cell_type": "code",
   "execution_count": 350,
   "id": "512d795b",
   "metadata": {},
   "outputs": [],
   "source": [
    "# convert lat-long to floats and change address from ALL CAPS to regular capitalization\n",
    "JNorth_Larva_First_Site_2015_3_df['latitude'] = JNorth_Larva_First_Site_2015_3_df['latitude'].astype(float)\n",
    "JNorth_Larva_First_Site_2015_3_df['longitude'] = JNorth_Larva_First_Site_2015_3_df['longitude'].astype(float)\n",
    "# JNorth_Milkweed_Site_df['street_address'] = JNorth_Milkweed_Site_df['street_address'].str.title()"
   ]
  },
  {
   "cell_type": "code",
   "execution_count": 351,
   "id": "0aaa7c36",
   "metadata": {},
   "outputs": [],
   "source": [
    "geojson = df_to_geojson(JNorth_Larva_First_Site_2015_3_df, cols)"
   ]
  },
  {
   "cell_type": "code",
   "execution_count": 352,
   "id": "aac20231",
   "metadata": {},
   "outputs": [],
   "source": [
    "file = open(\"JNorth_Larva_First_Site_2015_3.geojson\", \"w\")\n",
    "json.dump(geojson, file, indent =1)\n",
    "file.close()"
   ]
  },
  {
   "cell_type": "markdown",
   "id": "3f2c0fb6",
   "metadata": {},
   "source": [
    "# April"
   ]
  },
  {
   "cell_type": "code",
   "execution_count": 353,
   "id": "daf0e414",
   "metadata": {},
   "outputs": [
    {
     "data": {
      "text/html": [
       "<div>\n",
       "<style scoped>\n",
       "    .dataframe tbody tr th:only-of-type {\n",
       "        vertical-align: middle;\n",
       "    }\n",
       "\n",
       "    .dataframe tbody tr th {\n",
       "        vertical-align: top;\n",
       "    }\n",
       "\n",
       "    .dataframe thead th {\n",
       "        text-align: right;\n",
       "    }\n",
       "</style>\n",
       "<table border=\"1\" class=\"dataframe\">\n",
       "  <thead>\n",
       "    <tr style=\"text-align: right;\">\n",
       "      <th></th>\n",
       "      <th>sighting_date</th>\n",
       "      <th>species</th>\n",
       "      <th>latitude</th>\n",
       "      <th>longitude</th>\n",
       "      <th>number</th>\n",
       "      <th>month</th>\n",
       "    </tr>\n",
       "  </thead>\n",
       "  <tbody>\n",
       "    <tr>\n",
       "      <th>1727</th>\n",
       "      <td>2015-04-26</td>\n",
       "      <td>Monarch Larva (FIRST sighted)</td>\n",
       "      <td>33.768</td>\n",
       "      <td>-78.792</td>\n",
       "      <td>1</td>\n",
       "      <td>4</td>\n",
       "    </tr>\n",
       "    <tr>\n",
       "      <th>1728</th>\n",
       "      <td>2015-04-26</td>\n",
       "      <td>Monarch Larva (FIRST sighted)</td>\n",
       "      <td>35.898</td>\n",
       "      <td>-86.446</td>\n",
       "      <td>1</td>\n",
       "      <td>4</td>\n",
       "    </tr>\n",
       "    <tr>\n",
       "      <th>1729</th>\n",
       "      <td>2015-04-26</td>\n",
       "      <td>Monarch Larva (FIRST sighted)</td>\n",
       "      <td>38.600</td>\n",
       "      <td>-120.864</td>\n",
       "      <td>2</td>\n",
       "      <td>4</td>\n",
       "    </tr>\n",
       "    <tr>\n",
       "      <th>1730</th>\n",
       "      <td>2015-04-27</td>\n",
       "      <td>Monarch Larva (FIRST sighted)</td>\n",
       "      <td>38.918</td>\n",
       "      <td>-119.758</td>\n",
       "      <td>1</td>\n",
       "      <td>4</td>\n",
       "    </tr>\n",
       "    <tr>\n",
       "      <th>1731</th>\n",
       "      <td>2015-04-30</td>\n",
       "      <td>Monarch Larva (FIRST sighted)</td>\n",
       "      <td>33.056</td>\n",
       "      <td>-96.733</td>\n",
       "      <td>1</td>\n",
       "      <td>4</td>\n",
       "    </tr>\n",
       "  </tbody>\n",
       "</table>\n",
       "</div>"
      ],
      "text/plain": [
       "     sighting_date                        species  latitude  longitude  \\\n",
       "1727    2015-04-26  Monarch Larva (FIRST sighted)    33.768    -78.792   \n",
       "1728    2015-04-26  Monarch Larva (FIRST sighted)    35.898    -86.446   \n",
       "1729    2015-04-26  Monarch Larva (FIRST sighted)    38.600   -120.864   \n",
       "1730    2015-04-27  Monarch Larva (FIRST sighted)    38.918   -119.758   \n",
       "1731    2015-04-30  Monarch Larva (FIRST sighted)    33.056    -96.733   \n",
       "\n",
       "      number  month  \n",
       "1727       1      4  \n",
       "1728       1      4  \n",
       "1729       2      4  \n",
       "1730       1      4  \n",
       "1731       1      4  "
      ]
     },
     "execution_count": 353,
     "metadata": {},
     "output_type": "execute_result"
    }
   ],
   "source": [
    "JNorth_Larva_First_Site_2015_month_df =pd.DataFrame(JNorth_Larva_First_Site_2015_df)\n",
    "JNorth_Larva_First_Site_2015_4_df = JNorth_Larva_First_Site_2015_month_df[JNorth_Larva_First_Site_2015_month_df['month']==4]\n",
    "JNorth_Larva_First_Site_2015_4_df.tail()"
   ]
  },
  {
   "cell_type": "code",
   "execution_count": 354,
   "id": "f1600f0b",
   "metadata": {},
   "outputs": [
    {
     "data": {
      "text/plain": [
       "(68, 6)"
      ]
     },
     "execution_count": 354,
     "metadata": {},
     "output_type": "execute_result"
    }
   ],
   "source": [
    "JNorth_Larva_First_Site_2015_4_df.shape"
   ]
  },
  {
   "cell_type": "code",
   "execution_count": 355,
   "id": "2f4f800f",
   "metadata": {},
   "outputs": [],
   "source": [
    "JNorth_Larva_First_Site_2015_4_df= pd.DataFrame(JNorth_Larva_First_Site_2015_4_df)\n",
    "JNorth_Larva_First_Site_2015_4_df.drop(['month'], axis=1, inplace=True)"
   ]
  },
  {
   "cell_type": "code",
   "execution_count": 356,
   "id": "60a78c48",
   "metadata": {},
   "outputs": [],
   "source": [
    "# convert lat-long to floats and change address from ALL CAPS to regular capitalization\n",
    "JNorth_Larva_First_Site_2015_4_df['latitude'] = JNorth_Larva_First_Site_2015_4_df['latitude'].astype(float)\n",
    "JNorth_Larva_First_Site_2015_4_df['longitude'] = JNorth_Larva_First_Site_2015_4_df['longitude'].astype(float)\n",
    "# JNorth_Milkweed_Site_df['street_address'] = JNorth_Milkweed_Site_df['street_address'].str.title()"
   ]
  },
  {
   "cell_type": "code",
   "execution_count": 357,
   "id": "a9e22556",
   "metadata": {},
   "outputs": [],
   "source": [
    "geojson = df_to_geojson(JNorth_Larva_First_Site_2015_4_df, cols)"
   ]
  },
  {
   "cell_type": "code",
   "execution_count": 358,
   "id": "e0a805fc",
   "metadata": {},
   "outputs": [],
   "source": [
    "file = open(\"JNorth_Larva_First_Site_2015_4.geojson\", \"w\")\n",
    "json.dump(geojson, file, indent =1)\n",
    "file.close()"
   ]
  },
  {
   "cell_type": "markdown",
   "id": "6cb35157",
   "metadata": {},
   "source": [
    "# May"
   ]
  },
  {
   "cell_type": "code",
   "execution_count": 359,
   "id": "e5fe21a9",
   "metadata": {},
   "outputs": [
    {
     "data": {
      "text/html": [
       "<div>\n",
       "<style scoped>\n",
       "    .dataframe tbody tr th:only-of-type {\n",
       "        vertical-align: middle;\n",
       "    }\n",
       "\n",
       "    .dataframe tbody tr th {\n",
       "        vertical-align: top;\n",
       "    }\n",
       "\n",
       "    .dataframe thead th {\n",
       "        text-align: right;\n",
       "    }\n",
       "</style>\n",
       "<table border=\"1\" class=\"dataframe\">\n",
       "  <thead>\n",
       "    <tr style=\"text-align: right;\">\n",
       "      <th></th>\n",
       "      <th>sighting_date</th>\n",
       "      <th>species</th>\n",
       "      <th>latitude</th>\n",
       "      <th>longitude</th>\n",
       "      <th>number</th>\n",
       "      <th>month</th>\n",
       "    </tr>\n",
       "  </thead>\n",
       "  <tbody>\n",
       "    <tr>\n",
       "      <th>1774</th>\n",
       "      <td>2015-05-30</td>\n",
       "      <td>Monarch Larva (FIRST sighted)</td>\n",
       "      <td>38.752</td>\n",
       "      <td>-76.764</td>\n",
       "      <td>1</td>\n",
       "      <td>5</td>\n",
       "    </tr>\n",
       "    <tr>\n",
       "      <th>1775</th>\n",
       "      <td>2015-05-30</td>\n",
       "      <td>Monarch Larva (FIRST sighted)</td>\n",
       "      <td>39.858</td>\n",
       "      <td>-74.803</td>\n",
       "      <td>1</td>\n",
       "      <td>5</td>\n",
       "    </tr>\n",
       "    <tr>\n",
       "      <th>1776</th>\n",
       "      <td>2015-05-30</td>\n",
       "      <td>Monarch Larva (FIRST sighted)</td>\n",
       "      <td>42.320</td>\n",
       "      <td>-84.391</td>\n",
       "      <td>1</td>\n",
       "      <td>5</td>\n",
       "    </tr>\n",
       "    <tr>\n",
       "      <th>1777</th>\n",
       "      <td>2015-05-31</td>\n",
       "      <td>Monarch Larva (FIRST sighted)</td>\n",
       "      <td>41.195</td>\n",
       "      <td>-90.389</td>\n",
       "      <td>1</td>\n",
       "      <td>5</td>\n",
       "    </tr>\n",
       "    <tr>\n",
       "      <th>1778</th>\n",
       "      <td>2015-05-31</td>\n",
       "      <td>Monarch Larva (FIRST sighted)</td>\n",
       "      <td>41.197</td>\n",
       "      <td>-90.606</td>\n",
       "      <td>1</td>\n",
       "      <td>5</td>\n",
       "    </tr>\n",
       "  </tbody>\n",
       "</table>\n",
       "</div>"
      ],
      "text/plain": [
       "     sighting_date                        species  latitude  longitude  \\\n",
       "1774    2015-05-30  Monarch Larva (FIRST sighted)    38.752    -76.764   \n",
       "1775    2015-05-30  Monarch Larva (FIRST sighted)    39.858    -74.803   \n",
       "1776    2015-05-30  Monarch Larva (FIRST sighted)    42.320    -84.391   \n",
       "1777    2015-05-31  Monarch Larva (FIRST sighted)    41.195    -90.389   \n",
       "1778    2015-05-31  Monarch Larva (FIRST sighted)    41.197    -90.606   \n",
       "\n",
       "      number  month  \n",
       "1774       1      5  \n",
       "1775       1      5  \n",
       "1776       1      5  \n",
       "1777       1      5  \n",
       "1778       1      5  "
      ]
     },
     "execution_count": 359,
     "metadata": {},
     "output_type": "execute_result"
    }
   ],
   "source": [
    "JNorth_Larva_First_Site_2015_month_df =pd.DataFrame(JNorth_Larva_First_Site_2015_df)\n",
    "JNorth_Larva_First_Site_2015_5_df = JNorth_Larva_First_Site_2015_month_df[JNorth_Larva_First_Site_2015_month_df['month']==5]\n",
    "JNorth_Larva_First_Site_2015_5_df.tail()"
   ]
  },
  {
   "cell_type": "code",
   "execution_count": 360,
   "id": "5fa880cc",
   "metadata": {},
   "outputs": [
    {
     "data": {
      "text/plain": [
       "(47, 6)"
      ]
     },
     "execution_count": 360,
     "metadata": {},
     "output_type": "execute_result"
    }
   ],
   "source": [
    "JNorth_Larva_First_Site_2015_5_df.shape"
   ]
  },
  {
   "cell_type": "code",
   "execution_count": 361,
   "id": "cd71d0df",
   "metadata": {},
   "outputs": [],
   "source": [
    "JNorth_Larva_First_Site_2015_5_df = pd.DataFrame(JNorth_Larva_First_Site_2015_5_df)\n",
    "JNorth_Larva_First_Site_2015_5_df.drop(['month'], axis=1, inplace=True)"
   ]
  },
  {
   "cell_type": "code",
   "execution_count": 362,
   "id": "ceb51d7e",
   "metadata": {},
   "outputs": [],
   "source": [
    "# convert lat-long to floats and change address from ALL CAPS to regular capitalization\n",
    "JNorth_Larva_First_Site_2015_5_df['latitude'] = JNorth_Larva_First_Site_2015_5_df['latitude'].astype(float)\n",
    "JNorth_Larva_First_Site_2015_5_df['longitude'] = JNorth_Larva_First_Site_2015_5_df['longitude'].astype(float)\n",
    "# JNorth_Milkweed_Site_df['street_address'] = JNorth_Milkweed_Site_df['street_address'].str.title()"
   ]
  },
  {
   "cell_type": "code",
   "execution_count": 363,
   "id": "a9c45134",
   "metadata": {},
   "outputs": [],
   "source": [
    "geojson = df_to_geojson(JNorth_Larva_First_Site_2015_5_df, cols)"
   ]
  },
  {
   "cell_type": "code",
   "execution_count": 364,
   "id": "a126786f",
   "metadata": {},
   "outputs": [],
   "source": [
    "file = open(\"JNorth_Larva_First_Site_2015_5.geojson\", \"w\")\n",
    "json.dump(geojson, file, indent =1)\n",
    "file.close()"
   ]
  },
  {
   "cell_type": "markdown",
   "id": "38bfaaba",
   "metadata": {},
   "source": [
    "# June"
   ]
  },
  {
   "cell_type": "code",
   "execution_count": 365,
   "id": "c9432557",
   "metadata": {},
   "outputs": [
    {
     "data": {
      "text/html": [
       "<div>\n",
       "<style scoped>\n",
       "    .dataframe tbody tr th:only-of-type {\n",
       "        vertical-align: middle;\n",
       "    }\n",
       "\n",
       "    .dataframe tbody tr th {\n",
       "        vertical-align: top;\n",
       "    }\n",
       "\n",
       "    .dataframe thead th {\n",
       "        text-align: right;\n",
       "    }\n",
       "</style>\n",
       "<table border=\"1\" class=\"dataframe\">\n",
       "  <thead>\n",
       "    <tr style=\"text-align: right;\">\n",
       "      <th></th>\n",
       "      <th>sighting_date</th>\n",
       "      <th>species</th>\n",
       "      <th>latitude</th>\n",
       "      <th>longitude</th>\n",
       "      <th>number</th>\n",
       "      <th>month</th>\n",
       "    </tr>\n",
       "  </thead>\n",
       "  <tbody>\n",
       "    <tr>\n",
       "      <th>1892</th>\n",
       "      <td>2015-06-30</td>\n",
       "      <td>Monarch Larva (FIRST sighted)</td>\n",
       "      <td>38.826</td>\n",
       "      <td>-77.895</td>\n",
       "      <td>1</td>\n",
       "      <td>6</td>\n",
       "    </tr>\n",
       "    <tr>\n",
       "      <th>1893</th>\n",
       "      <td>2015-06-30</td>\n",
       "      <td>Monarch Larva (FIRST sighted)</td>\n",
       "      <td>40.551</td>\n",
       "      <td>-111.978</td>\n",
       "      <td>1</td>\n",
       "      <td>6</td>\n",
       "    </tr>\n",
       "    <tr>\n",
       "      <th>1894</th>\n",
       "      <td>2015-06-30</td>\n",
       "      <td>Monarch Larva (FIRST sighted)</td>\n",
       "      <td>40.698</td>\n",
       "      <td>-73.880</td>\n",
       "      <td>1</td>\n",
       "      <td>6</td>\n",
       "    </tr>\n",
       "    <tr>\n",
       "      <th>1895</th>\n",
       "      <td>2015-06-30</td>\n",
       "      <td>Monarch Larva (FIRST sighted)</td>\n",
       "      <td>41.650</td>\n",
       "      <td>-70.246</td>\n",
       "      <td>1</td>\n",
       "      <td>6</td>\n",
       "    </tr>\n",
       "    <tr>\n",
       "      <th>1896</th>\n",
       "      <td>2015-06-30</td>\n",
       "      <td>Monarch Larva (FIRST sighted)</td>\n",
       "      <td>45.467</td>\n",
       "      <td>-76.833</td>\n",
       "      <td>1</td>\n",
       "      <td>6</td>\n",
       "    </tr>\n",
       "  </tbody>\n",
       "</table>\n",
       "</div>"
      ],
      "text/plain": [
       "     sighting_date                        species  latitude  longitude  \\\n",
       "1892    2015-06-30  Monarch Larva (FIRST sighted)    38.826    -77.895   \n",
       "1893    2015-06-30  Monarch Larva (FIRST sighted)    40.551   -111.978   \n",
       "1894    2015-06-30  Monarch Larva (FIRST sighted)    40.698    -73.880   \n",
       "1895    2015-06-30  Monarch Larva (FIRST sighted)    41.650    -70.246   \n",
       "1896    2015-06-30  Monarch Larva (FIRST sighted)    45.467    -76.833   \n",
       "\n",
       "      number  month  \n",
       "1892       1      6  \n",
       "1893       1      6  \n",
       "1894       1      6  \n",
       "1895       1      6  \n",
       "1896       1      6  "
      ]
     },
     "execution_count": 365,
     "metadata": {},
     "output_type": "execute_result"
    }
   ],
   "source": [
    "JNorth_Larva_First_Site_2015_month_df =pd.DataFrame(JNorth_Larva_First_Site_2015_df)\n",
    "JNorth_Larva_First_Site_2015_6_df = JNorth_Larva_First_Site_2015_month_df[JNorth_Larva_First_Site_2015_month_df['month']==6]\n",
    "JNorth_Larva_First_Site_2015_6_df.tail()"
   ]
  },
  {
   "cell_type": "code",
   "execution_count": 366,
   "id": "b1bd8bf7",
   "metadata": {},
   "outputs": [
    {
     "data": {
      "text/plain": [
       "(118, 6)"
      ]
     },
     "execution_count": 366,
     "metadata": {},
     "output_type": "execute_result"
    }
   ],
   "source": [
    "JNorth_Larva_First_Site_2015_6_df.shape"
   ]
  },
  {
   "cell_type": "code",
   "execution_count": 367,
   "id": "2f2ac9bc",
   "metadata": {},
   "outputs": [],
   "source": [
    "JNorth_Larva_First_Site_2015_6_df = pd.DataFrame(JNorth_Larva_First_Site_2015_6_df)\n",
    "JNorth_Larva_First_Site_2015_6_df.drop(['month'], axis=1, inplace=True)"
   ]
  },
  {
   "cell_type": "code",
   "execution_count": 368,
   "id": "a91809a2",
   "metadata": {},
   "outputs": [],
   "source": [
    "# convert lat-long to floats and change address from ALL CAPS to regular capitalization\n",
    "JNorth_Larva_First_Site_2015_6_df['latitude'] = JNorth_Larva_First_Site_2015_6_df['latitude'].astype(float)\n",
    "JNorth_Larva_First_Site_2015_6_df['longitude'] = JNorth_Larva_First_Site_2015_6_df['longitude'].astype(float)\n",
    "# JNorth_Milkweed_Site_df['street_address'] = JNorth_Milkweed_Site_df['street_address'].str.title()"
   ]
  },
  {
   "cell_type": "code",
   "execution_count": 369,
   "id": "03d8de83",
   "metadata": {},
   "outputs": [],
   "source": [
    "geojson = df_to_geojson(JNorth_Larva_First_Site_2015_6_df, cols)"
   ]
  },
  {
   "cell_type": "code",
   "execution_count": 370,
   "id": "a24a9426",
   "metadata": {},
   "outputs": [],
   "source": [
    "file = open(\"JNorth_Larva_First_Site_2015_6.geojson\", \"w\")\n",
    "json.dump(geojson, file, indent =1)\n",
    "file.close()"
   ]
  },
  {
   "cell_type": "markdown",
   "id": "1a99bb2f",
   "metadata": {},
   "source": [
    "# July"
   ]
  },
  {
   "cell_type": "code",
   "execution_count": 371,
   "id": "d7920b96",
   "metadata": {},
   "outputs": [
    {
     "data": {
      "text/html": [
       "<div>\n",
       "<style scoped>\n",
       "    .dataframe tbody tr th:only-of-type {\n",
       "        vertical-align: middle;\n",
       "    }\n",
       "\n",
       "    .dataframe tbody tr th {\n",
       "        vertical-align: top;\n",
       "    }\n",
       "\n",
       "    .dataframe thead th {\n",
       "        text-align: right;\n",
       "    }\n",
       "</style>\n",
       "<table border=\"1\" class=\"dataframe\">\n",
       "  <thead>\n",
       "    <tr style=\"text-align: right;\">\n",
       "      <th></th>\n",
       "      <th>sighting_date</th>\n",
       "      <th>species</th>\n",
       "      <th>latitude</th>\n",
       "      <th>longitude</th>\n",
       "      <th>number</th>\n",
       "      <th>month</th>\n",
       "    </tr>\n",
       "  </thead>\n",
       "  <tbody>\n",
       "    <tr>\n",
       "      <th>1972</th>\n",
       "      <td>2015-07-27</td>\n",
       "      <td>Monarch Larva (FIRST sighted)</td>\n",
       "      <td>43.550</td>\n",
       "      <td>-71.410</td>\n",
       "      <td>1</td>\n",
       "      <td>7</td>\n",
       "    </tr>\n",
       "    <tr>\n",
       "      <th>1973</th>\n",
       "      <td>2015-07-27</td>\n",
       "      <td>Monarch Larva (FIRST sighted)</td>\n",
       "      <td>44.648</td>\n",
       "      <td>-83.361</td>\n",
       "      <td>5</td>\n",
       "      <td>7</td>\n",
       "    </tr>\n",
       "    <tr>\n",
       "      <th>1974</th>\n",
       "      <td>2015-07-28</td>\n",
       "      <td>Monarch Larva (FIRST sighted)</td>\n",
       "      <td>39.625</td>\n",
       "      <td>-75.726</td>\n",
       "      <td>1</td>\n",
       "      <td>7</td>\n",
       "    </tr>\n",
       "    <tr>\n",
       "      <th>1975</th>\n",
       "      <td>2015-07-29</td>\n",
       "      <td>Monarch Larva (FIRST sighted)</td>\n",
       "      <td>41.681</td>\n",
       "      <td>-87.972</td>\n",
       "      <td>1</td>\n",
       "      <td>7</td>\n",
       "    </tr>\n",
       "    <tr>\n",
       "      <th>1976</th>\n",
       "      <td>2015-07-30</td>\n",
       "      <td>Monarch Larva (FIRST sighted)</td>\n",
       "      <td>43.754</td>\n",
       "      <td>-72.310</td>\n",
       "      <td>1</td>\n",
       "      <td>7</td>\n",
       "    </tr>\n",
       "  </tbody>\n",
       "</table>\n",
       "</div>"
      ],
      "text/plain": [
       "     sighting_date                        species  latitude  longitude  \\\n",
       "1972    2015-07-27  Monarch Larva (FIRST sighted)    43.550    -71.410   \n",
       "1973    2015-07-27  Monarch Larva (FIRST sighted)    44.648    -83.361   \n",
       "1974    2015-07-28  Monarch Larva (FIRST sighted)    39.625    -75.726   \n",
       "1975    2015-07-29  Monarch Larva (FIRST sighted)    41.681    -87.972   \n",
       "1976    2015-07-30  Monarch Larva (FIRST sighted)    43.754    -72.310   \n",
       "\n",
       "      number  month  \n",
       "1972       1      7  \n",
       "1973       5      7  \n",
       "1974       1      7  \n",
       "1975       1      7  \n",
       "1976       1      7  "
      ]
     },
     "execution_count": 371,
     "metadata": {},
     "output_type": "execute_result"
    }
   ],
   "source": [
    "JNorth_Larva_First_Site_2015_month_df =pd.DataFrame(JNorth_Larva_First_Site_2015_df)\n",
    "JNorth_Larva_First_Site_2015_7_df = JNorth_Larva_First_Site_2015_month_df[JNorth_Larva_First_Site_2015_month_df['month']==7]\n",
    "JNorth_Larva_First_Site_2015_7_df.tail()"
   ]
  },
  {
   "cell_type": "code",
   "execution_count": 372,
   "id": "5924e525",
   "metadata": {},
   "outputs": [
    {
     "data": {
      "text/plain": [
       "(80, 6)"
      ]
     },
     "execution_count": 372,
     "metadata": {},
     "output_type": "execute_result"
    }
   ],
   "source": [
    "JNorth_Larva_First_Site_2015_7_df.shape"
   ]
  },
  {
   "cell_type": "code",
   "execution_count": 373,
   "id": "0a39c6f9",
   "metadata": {},
   "outputs": [],
   "source": [
    "JNorth_Larva_First_Site_2015_7_df = pd.DataFrame(JNorth_Larva_First_Site_2015_7_df)\n",
    "JNorth_Larva_First_Site_2015_7_df.drop(['month'], axis=1, inplace=True)"
   ]
  },
  {
   "cell_type": "code",
   "execution_count": 374,
   "id": "4366b19a",
   "metadata": {},
   "outputs": [],
   "source": [
    "# convert lat-long to floats and change address from ALL CAPS to regular capitalization\n",
    "JNorth_Larva_First_Site_2015_7_df['latitude'] = JNorth_Larva_First_Site_2015_7_df['latitude'].astype(float)\n",
    "JNorth_Larva_First_Site_2015_7_df['longitude'] = JNorth_Larva_First_Site_2015_7_df['longitude'].astype(float)\n",
    "# JNorth_Milkweed_Site_df['street_address'] = JNorth_Milkweed_Site_df['street_address'].str.title()"
   ]
  },
  {
   "cell_type": "code",
   "execution_count": 375,
   "id": "bfd9a473",
   "metadata": {},
   "outputs": [],
   "source": [
    "geojson = df_to_geojson(JNorth_Larva_First_Site_2015_7_df, cols)"
   ]
  },
  {
   "cell_type": "code",
   "execution_count": 376,
   "id": "d6fd2df8",
   "metadata": {},
   "outputs": [],
   "source": [
    "file = open(\"JNorth_Larva_First_Site_2015_7.geojson\", \"w\")\n",
    "json.dump(geojson, file, indent =1)\n",
    "file.close()"
   ]
  },
  {
   "cell_type": "markdown",
   "id": "98101220",
   "metadata": {},
   "source": [
    "# August"
   ]
  },
  {
   "cell_type": "code",
   "execution_count": 377,
   "id": "4e9bd738",
   "metadata": {},
   "outputs": [
    {
     "data": {
      "text/html": [
       "<div>\n",
       "<style scoped>\n",
       "    .dataframe tbody tr th:only-of-type {\n",
       "        vertical-align: middle;\n",
       "    }\n",
       "\n",
       "    .dataframe tbody tr th {\n",
       "        vertical-align: top;\n",
       "    }\n",
       "\n",
       "    .dataframe thead th {\n",
       "        text-align: right;\n",
       "    }\n",
       "</style>\n",
       "<table border=\"1\" class=\"dataframe\">\n",
       "  <thead>\n",
       "    <tr style=\"text-align: right;\">\n",
       "      <th></th>\n",
       "      <th>sighting_date</th>\n",
       "      <th>species</th>\n",
       "      <th>latitude</th>\n",
       "      <th>longitude</th>\n",
       "      <th>number</th>\n",
       "      <th>month</th>\n",
       "    </tr>\n",
       "  </thead>\n",
       "  <tbody>\n",
       "  </tbody>\n",
       "</table>\n",
       "</div>"
      ],
      "text/plain": [
       "Empty DataFrame\n",
       "Columns: [sighting_date, species, latitude, longitude, number, month]\n",
       "Index: []"
      ]
     },
     "execution_count": 377,
     "metadata": {},
     "output_type": "execute_result"
    }
   ],
   "source": [
    "JNorth_Larva_First_Site_2015_month_df =pd.DataFrame(JNorth_Larva_First_Site_2015_df)\n",
    "JNorth_Larva_First_Site_2015_8_df = JNorth_Larva_First_Site_2015_month_df[JNorth_Larva_First_Site_2015_month_df['month']==8]\n",
    "JNorth_Larva_First_Site_2015_8_df.tail()"
   ]
  },
  {
   "cell_type": "code",
   "execution_count": 378,
   "id": "538be366",
   "metadata": {},
   "outputs": [
    {
     "data": {
      "text/plain": [
       "(0, 6)"
      ]
     },
     "execution_count": 378,
     "metadata": {},
     "output_type": "execute_result"
    }
   ],
   "source": [
    "JNorth_Larva_First_Site_2015_8_df.shape"
   ]
  },
  {
   "cell_type": "code",
   "execution_count": 379,
   "id": "4ed62f67",
   "metadata": {},
   "outputs": [],
   "source": [
    "JNorth_Larva_First_Site_2015_8_df = pd.DataFrame(JNorth_Larva_First_Site_2015_8_df)\n",
    "JNorth_Larva_First_Site_2015_8_df.drop(['month'], axis=1, inplace=True)"
   ]
  },
  {
   "cell_type": "code",
   "execution_count": 380,
   "id": "9efc6a19",
   "metadata": {},
   "outputs": [],
   "source": [
    "# convert lat-long to floats and change address from ALL CAPS to regular capitalization\n",
    "JNorth_Larva_First_Site_2015_8_df['latitude'] = JNorth_Larva_First_Site_2015_8_df['latitude'].astype(float)\n",
    "JNorth_Larva_First_Site_2015_8_df['longitude'] = JNorth_Larva_First_Site_2015_8_df['longitude'].astype(float)\n",
    "# JNorth_Milkweed_Site_df['street_address'] = JNorth_Milkweed_Site_df['street_address'].str.title()"
   ]
  },
  {
   "cell_type": "code",
   "execution_count": 381,
   "id": "49ec38e2",
   "metadata": {},
   "outputs": [],
   "source": [
    "geojson = df_to_geojson(JNorth_Larva_First_Site_2015_8_df, cols)"
   ]
  },
  {
   "cell_type": "code",
   "execution_count": 382,
   "id": "debcba01",
   "metadata": {},
   "outputs": [],
   "source": [
    "file = open(\"JNorth_Larva_First_Site_2015_8.geojson\", \"w\")\n",
    "json.dump(geojson, file, indent =1)\n",
    "file.close()"
   ]
  },
  {
   "cell_type": "markdown",
   "id": "7e007365",
   "metadata": {},
   "source": [
    "# September"
   ]
  },
  {
   "cell_type": "code",
   "execution_count": 383,
   "id": "5c4d5091",
   "metadata": {},
   "outputs": [
    {
     "data": {
      "text/html": [
       "<div>\n",
       "<style scoped>\n",
       "    .dataframe tbody tr th:only-of-type {\n",
       "        vertical-align: middle;\n",
       "    }\n",
       "\n",
       "    .dataframe tbody tr th {\n",
       "        vertical-align: top;\n",
       "    }\n",
       "\n",
       "    .dataframe thead th {\n",
       "        text-align: right;\n",
       "    }\n",
       "</style>\n",
       "<table border=\"1\" class=\"dataframe\">\n",
       "  <thead>\n",
       "    <tr style=\"text-align: right;\">\n",
       "      <th></th>\n",
       "      <th>sighting_date</th>\n",
       "      <th>species</th>\n",
       "      <th>latitude</th>\n",
       "      <th>longitude</th>\n",
       "      <th>number</th>\n",
       "      <th>month</th>\n",
       "    </tr>\n",
       "  </thead>\n",
       "  <tbody>\n",
       "  </tbody>\n",
       "</table>\n",
       "</div>"
      ],
      "text/plain": [
       "Empty DataFrame\n",
       "Columns: [sighting_date, species, latitude, longitude, number, month]\n",
       "Index: []"
      ]
     },
     "execution_count": 383,
     "metadata": {},
     "output_type": "execute_result"
    }
   ],
   "source": [
    "JNorth_Larva_First_Site_2015_month_df =pd.DataFrame(JNorth_Larva_First_Site_2015_df)\n",
    "JNorth_Larva_First_Site_2015_9_df = JNorth_Larva_First_Site_2015_month_df[JNorth_Larva_First_Site_2015_month_df['month']==9]\n",
    "JNorth_Larva_First_Site_2015_9_df.tail()"
   ]
  },
  {
   "cell_type": "code",
   "execution_count": 384,
   "id": "969c475a",
   "metadata": {},
   "outputs": [
    {
     "data": {
      "text/plain": [
       "(0, 6)"
      ]
     },
     "execution_count": 384,
     "metadata": {},
     "output_type": "execute_result"
    }
   ],
   "source": [
    "JNorth_Larva_First_Site_2015_9_df.shape"
   ]
  },
  {
   "cell_type": "code",
   "execution_count": 385,
   "id": "37c1983d",
   "metadata": {},
   "outputs": [],
   "source": [
    "JNorth_Larva_First_Site_2015_9_df = pd.DataFrame(JNorth_Larva_First_Site_2015_9_df)\n",
    "JNorth_Larva_First_Site_2015_9_df.drop(['month'], axis=1, inplace=True)"
   ]
  },
  {
   "cell_type": "code",
   "execution_count": 386,
   "id": "bb7ca10e",
   "metadata": {},
   "outputs": [],
   "source": [
    "# convert lat-long to floats and change address from ALL CAPS to regular capitalization\n",
    "JNorth_Larva_First_Site_2015_9_df['latitude'] = JNorth_Larva_First_Site_2015_9_df['latitude'].astype(float)\n",
    "JNorth_Larva_First_Site_2015_9_df['longitude'] = JNorth_Larva_First_Site_2015_9_df['longitude'].astype(float)\n",
    "# JNorth_Milkweed_Site_df['street_address'] = JNorth_Milkweed_Site_df['street_address'].str.title()"
   ]
  },
  {
   "cell_type": "code",
   "execution_count": 387,
   "id": "08f724f1",
   "metadata": {},
   "outputs": [],
   "source": [
    "geojson = df_to_geojson(JNorth_Larva_First_Site_2015_9_df, cols)"
   ]
  },
  {
   "cell_type": "code",
   "execution_count": 388,
   "id": "ef197820",
   "metadata": {},
   "outputs": [],
   "source": [
    "file = open(\"JNorth_Larva_First_Site_2015_9.geojson\", \"w\")\n",
    "json.dump(geojson, file, indent =1)\n",
    "file.close()"
   ]
  },
  {
   "cell_type": "markdown",
   "id": "7816f536",
   "metadata": {},
   "source": [
    "# October"
   ]
  },
  {
   "cell_type": "code",
   "execution_count": 389,
   "id": "1c2fa71b",
   "metadata": {},
   "outputs": [
    {
     "data": {
      "text/html": [
       "<div>\n",
       "<style scoped>\n",
       "    .dataframe tbody tr th:only-of-type {\n",
       "        vertical-align: middle;\n",
       "    }\n",
       "\n",
       "    .dataframe tbody tr th {\n",
       "        vertical-align: top;\n",
       "    }\n",
       "\n",
       "    .dataframe thead th {\n",
       "        text-align: right;\n",
       "    }\n",
       "</style>\n",
       "<table border=\"1\" class=\"dataframe\">\n",
       "  <thead>\n",
       "    <tr style=\"text-align: right;\">\n",
       "      <th></th>\n",
       "      <th>sighting_date</th>\n",
       "      <th>species</th>\n",
       "      <th>latitude</th>\n",
       "      <th>longitude</th>\n",
       "      <th>number</th>\n",
       "      <th>month</th>\n",
       "    </tr>\n",
       "  </thead>\n",
       "  <tbody>\n",
       "  </tbody>\n",
       "</table>\n",
       "</div>"
      ],
      "text/plain": [
       "Empty DataFrame\n",
       "Columns: [sighting_date, species, latitude, longitude, number, month]\n",
       "Index: []"
      ]
     },
     "execution_count": 389,
     "metadata": {},
     "output_type": "execute_result"
    }
   ],
   "source": [
    "JNorth_Larva_First_Site_2015_month_df =pd.DataFrame(JNorth_Larva_First_Site_2015_df)\n",
    "JNorth_Larva_First_Site_2015_10_df = JNorth_Larva_First_Site_2015_month_df[JNorth_Larva_First_Site_2015_month_df['month']==10]\n",
    "JNorth_Larva_First_Site_2015_10_df.tail()"
   ]
  },
  {
   "cell_type": "code",
   "execution_count": 390,
   "id": "2d002b31",
   "metadata": {},
   "outputs": [
    {
     "data": {
      "text/plain": [
       "(0, 6)"
      ]
     },
     "execution_count": 390,
     "metadata": {},
     "output_type": "execute_result"
    }
   ],
   "source": [
    "JNorth_Larva_First_Site_2015_10_df.shape"
   ]
  },
  {
   "cell_type": "code",
   "execution_count": 391,
   "id": "7568cee5",
   "metadata": {},
   "outputs": [],
   "source": [
    "JNorth_Larva_First_Site_2015_10_df = pd.DataFrame(JNorth_Larva_First_Site_2015_10_df)\n",
    "JNorth_Larva_First_Site_2015_10_df.drop(['month'], axis=1, inplace=True)"
   ]
  },
  {
   "cell_type": "code",
   "execution_count": 392,
   "id": "a5fbe353",
   "metadata": {},
   "outputs": [],
   "source": [
    "# convert lat-long to floats and change address from ALL CAPS to regular capitalization\n",
    "JNorth_Larva_First_Site_2015_10_df['latitude'] = JNorth_Larva_First_Site_2015_10_df['latitude'].astype(float)\n",
    "JNorth_Larva_First_Site_2015_10_df['longitude'] = JNorth_Larva_First_Site_2015_10_df['longitude'].astype(float)\n",
    "# JNorth_Milkweed_Site_df['street_address'] = JNorth_Milkweed_Site_df['street_address'].str.title()"
   ]
  },
  {
   "cell_type": "code",
   "execution_count": 393,
   "id": "100933f3",
   "metadata": {},
   "outputs": [],
   "source": [
    "geojson = df_to_geojson(JNorth_Larva_First_Site_2015_10_df, cols)"
   ]
  },
  {
   "cell_type": "code",
   "execution_count": 394,
   "id": "9d0df34e",
   "metadata": {},
   "outputs": [],
   "source": [
    "file = open(\"JNorth_Larva_First_Site_2015_10.geojson\", \"w\")\n",
    "json.dump(geojson, file, indent =1)\n",
    "file.close()"
   ]
  },
  {
   "cell_type": "markdown",
   "id": "259fb494",
   "metadata": {},
   "source": [
    "# November"
   ]
  },
  {
   "cell_type": "code",
   "execution_count": 395,
   "id": "fb16df8a",
   "metadata": {},
   "outputs": [
    {
     "data": {
      "text/html": [
       "<div>\n",
       "<style scoped>\n",
       "    .dataframe tbody tr th:only-of-type {\n",
       "        vertical-align: middle;\n",
       "    }\n",
       "\n",
       "    .dataframe tbody tr th {\n",
       "        vertical-align: top;\n",
       "    }\n",
       "\n",
       "    .dataframe thead th {\n",
       "        text-align: right;\n",
       "    }\n",
       "</style>\n",
       "<table border=\"1\" class=\"dataframe\">\n",
       "  <thead>\n",
       "    <tr style=\"text-align: right;\">\n",
       "      <th></th>\n",
       "      <th>sighting_date</th>\n",
       "      <th>species</th>\n",
       "      <th>latitude</th>\n",
       "      <th>longitude</th>\n",
       "      <th>number</th>\n",
       "      <th>month</th>\n",
       "    </tr>\n",
       "  </thead>\n",
       "  <tbody>\n",
       "  </tbody>\n",
       "</table>\n",
       "</div>"
      ],
      "text/plain": [
       "Empty DataFrame\n",
       "Columns: [sighting_date, species, latitude, longitude, number, month]\n",
       "Index: []"
      ]
     },
     "execution_count": 395,
     "metadata": {},
     "output_type": "execute_result"
    }
   ],
   "source": [
    "JNorth_Larva_First_Site_2015_month_df =pd.DataFrame(JNorth_Larva_First_Site_2015_df)\n",
    "JNorth_Larva_First_Site_2015_11_df = JNorth_Larva_First_Site_2015_month_df[JNorth_Larva_First_Site_2015_month_df['month']==11]\n",
    "JNorth_Larva_First_Site_2015_11_df.tail()"
   ]
  },
  {
   "cell_type": "code",
   "execution_count": 396,
   "id": "8efd904d",
   "metadata": {},
   "outputs": [
    {
     "data": {
      "text/plain": [
       "(0, 6)"
      ]
     },
     "execution_count": 396,
     "metadata": {},
     "output_type": "execute_result"
    }
   ],
   "source": [
    "JNorth_Larva_First_Site_2015_11_df.shape"
   ]
  },
  {
   "cell_type": "code",
   "execution_count": 397,
   "id": "2b8c63f7",
   "metadata": {},
   "outputs": [],
   "source": [
    "JNorth_Larva_First_Site_2015_11_df = pd.DataFrame(JNorth_Larva_First_Site_2015_11_df)\n",
    "JNorth_Larva_First_Site_2015_11_df.drop(['month'], axis=1, inplace=True)"
   ]
  },
  {
   "cell_type": "code",
   "execution_count": 398,
   "id": "2abbf8e3",
   "metadata": {},
   "outputs": [],
   "source": [
    "# convert lat-long to floats and change address from ALL CAPS to regular capitalization\n",
    "JNorth_Larva_First_Site_2015_11_df['latitude'] = JNorth_Larva_First_Site_2015_11_df['latitude'].astype(float)\n",
    "JNorth_Larva_First_Site_2015_11_df['longitude'] = JNorth_Larva_First_Site_2015_11_df['longitude'].astype(float)\n",
    "# JNorth_Milkweed_Site_df['street_address'] = JNorth_Milkweed_Site_df['street_address'].str.title()"
   ]
  },
  {
   "cell_type": "code",
   "execution_count": 399,
   "id": "5de70789",
   "metadata": {},
   "outputs": [],
   "source": [
    "geojson = df_to_geojson(JNorth_Larva_First_Site_2015_11_df, cols)"
   ]
  },
  {
   "cell_type": "code",
   "execution_count": 400,
   "id": "ce936002",
   "metadata": {},
   "outputs": [],
   "source": [
    "file = open(\"JNorth_Larva_First_Site_2015_11.geojson\", \"w\")\n",
    "json.dump(geojson, file, indent =1)\n",
    "file.close()"
   ]
  },
  {
   "cell_type": "markdown",
   "id": "c5739a4b",
   "metadata": {},
   "source": [
    "# December"
   ]
  },
  {
   "cell_type": "code",
   "execution_count": 401,
   "id": "94259ac3",
   "metadata": {},
   "outputs": [
    {
     "data": {
      "text/html": [
       "<div>\n",
       "<style scoped>\n",
       "    .dataframe tbody tr th:only-of-type {\n",
       "        vertical-align: middle;\n",
       "    }\n",
       "\n",
       "    .dataframe tbody tr th {\n",
       "        vertical-align: top;\n",
       "    }\n",
       "\n",
       "    .dataframe thead th {\n",
       "        text-align: right;\n",
       "    }\n",
       "</style>\n",
       "<table border=\"1\" class=\"dataframe\">\n",
       "  <thead>\n",
       "    <tr style=\"text-align: right;\">\n",
       "      <th></th>\n",
       "      <th>sighting_date</th>\n",
       "      <th>species</th>\n",
       "      <th>latitude</th>\n",
       "      <th>longitude</th>\n",
       "      <th>number</th>\n",
       "      <th>month</th>\n",
       "    </tr>\n",
       "  </thead>\n",
       "  <tbody>\n",
       "    <tr>\n",
       "      <th>1977</th>\n",
       "      <td>2015-12-26</td>\n",
       "      <td>Monarch Larva (FIRST sighted)</td>\n",
       "      <td>32.416</td>\n",
       "      <td>-80.738</td>\n",
       "      <td>15</td>\n",
       "      <td>12</td>\n",
       "    </tr>\n",
       "  </tbody>\n",
       "</table>\n",
       "</div>"
      ],
      "text/plain": [
       "     sighting_date                        species  latitude  longitude  \\\n",
       "1977    2015-12-26  Monarch Larva (FIRST sighted)    32.416    -80.738   \n",
       "\n",
       "      number  month  \n",
       "1977      15     12  "
      ]
     },
     "execution_count": 401,
     "metadata": {},
     "output_type": "execute_result"
    }
   ],
   "source": [
    "JNorth_Larva_First_Site_2015_month_df =pd.DataFrame(JNorth_Larva_First_Site_2015_df)\n",
    "JNorth_Larva_First_Site_2015_12_df = JNorth_Larva_First_Site_2015_month_df[JNorth_Larva_First_Site_2015_month_df['month']==12]\n",
    "JNorth_Larva_First_Site_2015_12_df.tail()"
   ]
  },
  {
   "cell_type": "code",
   "execution_count": 402,
   "id": "b8fe3b61",
   "metadata": {},
   "outputs": [
    {
     "data": {
      "text/plain": [
       "(1, 6)"
      ]
     },
     "execution_count": 402,
     "metadata": {},
     "output_type": "execute_result"
    }
   ],
   "source": [
    "JNorth_Larva_First_Site_2015_12_df.shape"
   ]
  },
  {
   "cell_type": "code",
   "execution_count": 403,
   "id": "efa8e27d",
   "metadata": {},
   "outputs": [],
   "source": [
    "JNorth_Larva_First_Site_2015_12_df = pd.DataFrame(JNorth_Larva_First_Site_2015_12_df)\n",
    "JNorth_Larva_First_Site_2015_12_df.drop(['month'], axis=1, inplace=True)"
   ]
  },
  {
   "cell_type": "code",
   "execution_count": 404,
   "id": "e7903a53",
   "metadata": {},
   "outputs": [],
   "source": [
    "# convert lat-long to floats and change address from ALL CAPS to regular capitalization\n",
    "JNorth_Larva_First_Site_2015_12_df['latitude'] = JNorth_Larva_First_Site_2015_12_df['latitude'].astype(float)\n",
    "JNorth_Larva_First_Site_2015_12_df['longitude'] = JNorth_Larva_First_Site_2015_12_df['longitude'].astype(float)\n",
    "# JNorth_Milkweed_Site_df['street_address'] = JNorth_Milkweed_Site_df['street_address'].str.title()"
   ]
  },
  {
   "cell_type": "code",
   "execution_count": 405,
   "id": "575291f2",
   "metadata": {},
   "outputs": [],
   "source": [
    "geojson = df_to_geojson(JNorth_Larva_First_Site_2015_12_df, cols)"
   ]
  },
  {
   "cell_type": "code",
   "execution_count": 406,
   "id": "b6be6057",
   "metadata": {},
   "outputs": [],
   "source": [
    "file = open(\"JNorth_Larva_First_Site_2015_12.geojson\", \"w\")\n",
    "json.dump(geojson, file, indent =1)\n",
    "file.close()"
   ]
  }
 ],
 "metadata": {
  "kernelspec": {
   "display_name": "mlenv",
   "language": "python",
   "name": "mlenv"
  },
  "language_info": {
   "codemirror_mode": {
    "name": "ipython",
    "version": 3
   },
   "file_extension": ".py",
   "mimetype": "text/x-python",
   "name": "python",
   "nbconvert_exporter": "python",
   "pygments_lexer": "ipython3",
   "version": "3.7.11"
  }
 },
 "nbformat": 4,
 "nbformat_minor": 5
}
