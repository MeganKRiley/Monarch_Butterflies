{
 "cells": [
  {
   "cell_type": "markdown",
   "id": "198264ce",
   "metadata": {},
   "source": [
    "# Journey North Adult First Sightings"
   ]
  },
  {
   "cell_type": "code",
   "execution_count": 1,
   "id": "77377556",
   "metadata": {},
   "outputs": [],
   "source": [
    "#  Import and read\n",
    "import pandas as pd \n",
    "import numpy as np\n",
    "import json\n",
    "# Sue Mottet 2-19-2022"
   ]
  },
  {
   "cell_type": "markdown",
   "id": "71cc5b7d",
   "metadata": {},
   "source": [
    "# geoJSONifier"
   ]
  },
  {
   "cell_type": "code",
   "execution_count": 2,
   "id": "249a00ac",
   "metadata": {},
   "outputs": [],
   "source": [
    "def df_to_geojson(df, properties, lat='latitude', lon='longitude'):\n",
    "    # create a new python dict to contain our geojson data, using geojson format\n",
    "    geojson = {'type':'FeatureCollection', 'features':[]}\n",
    "\n",
    "    # loop through each row in the dataframe and convert each row to geojson format\n",
    "    for _, row in df.iterrows():\n",
    "        # create a feature template to fill in\n",
    "        feature = {'type':'Feature',\n",
    "                   'properties':{},\n",
    "                   'geometry':{'type':'Point',\n",
    "                               'coordinates':[]}}\n",
    "\n",
    "        # fill in the coordinates\n",
    "        feature['geometry']['coordinates'] = [row[lon],row[lat]]\n",
    "\n",
    "        # for each column, get the value and add it as a new feature property\n",
    "        for prop in properties:\n",
    "            feature['properties'][prop] = row[prop]\n",
    "        \n",
    "        # add this feature (aka, converted dataframe row) to the list of features inside our dict\n",
    "        geojson['features'].append(feature)\n",
    "    \n",
    "    return geojson"
   ]
  },
  {
   "cell_type": "markdown",
   "id": "224bf61c",
   "metadata": {},
   "source": [
    "# Load file"
   ]
  },
  {
   "cell_type": "code",
   "execution_count": 3,
   "id": "29091bad",
   "metadata": {},
   "outputs": [
    {
     "name": "stderr",
     "output_type": "stream",
     "text": [
      "C:\\Users\\motte\\anaconda3\\envs\\mlenv\\lib\\site-packages\\IPython\\core\\interactiveshell.py:3444: DtypeWarning: Columns (8) have mixed types.Specify dtype option on import or set low_memory=False.\n",
      "  exec(code_obj, self.user_global_ns, self.user_ns)\n"
     ]
    },
    {
     "data": {
      "text/html": [
       "<div>\n",
       "<style scoped>\n",
       "    .dataframe tbody tr th:only-of-type {\n",
       "        vertical-align: middle;\n",
       "    }\n",
       "\n",
       "    .dataframe tbody tr th {\n",
       "        vertical-align: top;\n",
       "    }\n",
       "\n",
       "    .dataframe thead th {\n",
       "        text-align: right;\n",
       "    }\n",
       "</style>\n",
       "<table border=\"1\" class=\"dataframe\">\n",
       "  <thead>\n",
       "    <tr style=\"text-align: right;\">\n",
       "      <th></th>\n",
       "      <th>id</th>\n",
       "      <th>sighting_date</th>\n",
       "      <th>species</th>\n",
       "      <th>number</th>\n",
       "      <th>latitude</th>\n",
       "      <th>longitude</th>\n",
       "      <th>flag_location</th>\n",
       "      <th>comments</th>\n",
       "      <th>school</th>\n",
       "      <th>grade</th>\n",
       "      <th>image_url</th>\n",
       "      <th>customerid</th>\n",
       "      <th>number_old</th>\n",
       "      <th>flag_number</th>\n",
       "      <th>species_old</th>\n",
       "      <th>flag_species</th>\n",
       "    </tr>\n",
       "  </thead>\n",
       "  <tbody>\n",
       "    <tr>\n",
       "      <th>0</th>\n",
       "      <td>850841703</td>\n",
       "      <td>1996-12-16</td>\n",
       "      <td>Monarch Adult Sighted</td>\n",
       "      <td>1</td>\n",
       "      <td>27.594</td>\n",
       "      <td>-81.362</td>\n",
       "      <td>0</td>\n",
       "      <td>On the ballfield a solitary monarch butterfly ...</td>\n",
       "      <td>Walker memorial junior academy</td>\n",
       "      <td>10.0</td>\n",
       "      <td>-999999.999</td>\n",
       "      <td>135</td>\n",
       "      <td>-999999.999</td>\n",
       "      <td>1</td>\n",
       "      <td>Monarch Butterfly</td>\n",
       "      <td>1</td>\n",
       "    </tr>\n",
       "    <tr>\n",
       "      <th>1</th>\n",
       "      <td>851824801</td>\n",
       "      <td>1996-12-06</td>\n",
       "      <td>Monarch Adult Sighted</td>\n",
       "      <td>1</td>\n",
       "      <td>30.420</td>\n",
       "      <td>-87.224</td>\n",
       "      <td>0</td>\n",
       "      <td>Our 5th grade Discovery students who went alon...</td>\n",
       "      <td>Hambrick elementary school</td>\n",
       "      <td>5.0</td>\n",
       "      <td>-999999.999</td>\n",
       "      <td>150</td>\n",
       "      <td>-999999.999</td>\n",
       "      <td>1</td>\n",
       "      <td>Monarch Butterfly</td>\n",
       "      <td>1</td>\n",
       "    </tr>\n",
       "    <tr>\n",
       "      <th>2</th>\n",
       "      <td>854409931</td>\n",
       "      <td>1996-09-21</td>\n",
       "      <td>Monarch Adult Sighted</td>\n",
       "      <td>1</td>\n",
       "      <td>40.817</td>\n",
       "      <td>-96.710</td>\n",
       "      <td>0</td>\n",
       "      <td>We saw several hundred monarchs in our school ...</td>\n",
       "      <td>-999999.999</td>\n",
       "      <td>5.0</td>\n",
       "      <td>-999999.999</td>\n",
       "      <td>9701054</td>\n",
       "      <td>-999999.999</td>\n",
       "      <td>1</td>\n",
       "      <td>Monarch Butterfly</td>\n",
       "      <td>1</td>\n",
       "    </tr>\n",
       "    <tr>\n",
       "      <th>3</th>\n",
       "      <td>854557206</td>\n",
       "      <td>1996-09-21</td>\n",
       "      <td>Monarch Adult Sighted</td>\n",
       "      <td>1</td>\n",
       "      <td>40.817</td>\n",
       "      <td>-96.710</td>\n",
       "      <td>0</td>\n",
       "      <td>Over a hundered monarchs in our school butterf...</td>\n",
       "      <td>Fredstrom elementary school</td>\n",
       "      <td>6.0</td>\n",
       "      <td>-999999.999</td>\n",
       "      <td>175</td>\n",
       "      <td>-999999.999</td>\n",
       "      <td>1</td>\n",
       "      <td>Monarch Butterfly</td>\n",
       "      <td>1</td>\n",
       "    </tr>\n",
       "    <tr>\n",
       "      <th>4</th>\n",
       "      <td>855061862</td>\n",
       "      <td>1997-01-01</td>\n",
       "      <td>Monarch Adult Sighted</td>\n",
       "      <td>1</td>\n",
       "      <td>34.244</td>\n",
       "      <td>-77.946</td>\n",
       "      <td>0</td>\n",
       "      <td>I Thought I Saw It, But I Was Suprised To See ...</td>\n",
       "      <td>Gregory</td>\n",
       "      <td>3.0</td>\n",
       "      <td>-999999.999</td>\n",
       "      <td>181</td>\n",
       "      <td>-999999.999</td>\n",
       "      <td>1</td>\n",
       "      <td>Monarch Butterfly</td>\n",
       "      <td>1</td>\n",
       "    </tr>\n",
       "  </tbody>\n",
       "</table>\n",
       "</div>"
      ],
      "text/plain": [
       "          id sighting_date                species  number  latitude  \\\n",
       "0  850841703    1996-12-16  Monarch Adult Sighted       1    27.594   \n",
       "1  851824801    1996-12-06  Monarch Adult Sighted       1    30.420   \n",
       "2  854409931    1996-09-21  Monarch Adult Sighted       1    40.817   \n",
       "3  854557206    1996-09-21  Monarch Adult Sighted       1    40.817   \n",
       "4  855061862    1997-01-01  Monarch Adult Sighted       1    34.244   \n",
       "\n",
       "   longitude  flag_location  \\\n",
       "0    -81.362              0   \n",
       "1    -87.224              0   \n",
       "2    -96.710              0   \n",
       "3    -96.710              0   \n",
       "4    -77.946              0   \n",
       "\n",
       "                                            comments  \\\n",
       "0  On the ballfield a solitary monarch butterfly ...   \n",
       "1  Our 5th grade Discovery students who went alon...   \n",
       "2  We saw several hundred monarchs in our school ...   \n",
       "3  Over a hundered monarchs in our school butterf...   \n",
       "4  I Thought I Saw It, But I Was Suprised To See ...   \n",
       "\n",
       "                           school  grade    image_url  customerid  number_old  \\\n",
       "0  Walker memorial junior academy   10.0  -999999.999         135 -999999.999   \n",
       "1      Hambrick elementary school    5.0  -999999.999         150 -999999.999   \n",
       "2                     -999999.999    5.0  -999999.999     9701054 -999999.999   \n",
       "3     Fredstrom elementary school    6.0  -999999.999         175 -999999.999   \n",
       "4                         Gregory    3.0  -999999.999         181 -999999.999   \n",
       "\n",
       "   flag_number        species_old  flag_species  \n",
       "0            1  Monarch Butterfly             1  \n",
       "1            1  Monarch Butterfly             1  \n",
       "2            1  Monarch Butterfly             1  \n",
       "3            1  Monarch Butterfly             1  \n",
       "4            1  Monarch Butterfly             1  "
      ]
     },
     "execution_count": 3,
     "metadata": {},
     "output_type": "execute_result"
    }
   ],
   "source": [
    "JNorth1996_2020_df = pd.read_csv(\"UWMadisonArb_JNorth_Project_MonarchsAndMilkweed_1996-2020.csv\")\n",
    "JNorth1996_2020_df.head()"
   ]
  },
  {
   "cell_type": "markdown",
   "id": "c7319ba8",
   "metadata": {},
   "source": [
    "# Data Exploratory"
   ]
  },
  {
   "cell_type": "code",
   "execution_count": 4,
   "id": "f873e5f6",
   "metadata": {},
   "outputs": [
    {
     "name": "stdout",
     "output_type": "stream",
     "text": [
      "<class 'pandas.core.frame.DataFrame'>\n",
      "RangeIndex: 227433 entries, 0 to 227432\n",
      "Data columns (total 16 columns):\n",
      " #   Column         Non-Null Count   Dtype  \n",
      "---  ------         --------------   -----  \n",
      " 0   id             227433 non-null  int64  \n",
      " 1   sighting_date  227433 non-null  object \n",
      " 2   species        227433 non-null  object \n",
      " 3   number         227433 non-null  int64  \n",
      " 4   latitude       227433 non-null  float64\n",
      " 5   longitude      227433 non-null  float64\n",
      " 6   flag_location  227433 non-null  int64  \n",
      " 7   comments       227433 non-null  object \n",
      " 8   school         227433 non-null  object \n",
      " 9   grade          227433 non-null  float64\n",
      " 10  image_url      227433 non-null  object \n",
      " 11  customerid     227433 non-null  int64  \n",
      " 12  number_old     227433 non-null  float64\n",
      " 13  flag_number    227433 non-null  int64  \n",
      " 14  species_old    227433 non-null  object \n",
      " 15  flag_species   227433 non-null  int64  \n",
      "dtypes: float64(4), int64(6), object(6)\n",
      "memory usage: 27.8+ MB\n"
     ]
    }
   ],
   "source": [
    "JNorth1996_2020_df.info()"
   ]
  },
  {
   "cell_type": "code",
   "execution_count": 5,
   "id": "114eef22",
   "metadata": {},
   "outputs": [
    {
     "data": {
      "text/plain": [
       "\"['id', 'sighting_date', 'species', 'number', 'latitude', 'longitude', 'flag_location', 'comments', 'school', 'grade', 'image_url', 'customerid', 'number_old', 'flag_number', 'species_old', 'flag_species']\""
      ]
     },
     "execution_count": 5,
     "metadata": {},
     "output_type": "execute_result"
    }
   ],
   "source": [
    "str(JNorth1996_2020_df.columns.tolist())"
   ]
  },
  {
   "cell_type": "code",
   "execution_count": 6,
   "id": "a30813e2",
   "metadata": {},
   "outputs": [
    {
     "data": {
      "text/html": [
       "<div>\n",
       "<style scoped>\n",
       "    .dataframe tbody tr th:only-of-type {\n",
       "        vertical-align: middle;\n",
       "    }\n",
       "\n",
       "    .dataframe tbody tr th {\n",
       "        vertical-align: top;\n",
       "    }\n",
       "\n",
       "    .dataframe thead th {\n",
       "        text-align: right;\n",
       "    }\n",
       "</style>\n",
       "<table border=\"1\" class=\"dataframe\">\n",
       "  <thead>\n",
       "    <tr style=\"text-align: right;\">\n",
       "      <th></th>\n",
       "      <th>id</th>\n",
       "      <th>number</th>\n",
       "      <th>latitude</th>\n",
       "      <th>longitude</th>\n",
       "      <th>flag_location</th>\n",
       "      <th>grade</th>\n",
       "      <th>customerid</th>\n",
       "      <th>number_old</th>\n",
       "      <th>flag_number</th>\n",
       "      <th>flag_species</th>\n",
       "    </tr>\n",
       "  </thead>\n",
       "  <tbody>\n",
       "    <tr>\n",
       "      <th>count</th>\n",
       "      <td>2.274330e+05</td>\n",
       "      <td>2.274330e+05</td>\n",
       "      <td>227433.000000</td>\n",
       "      <td>227433.000000</td>\n",
       "      <td>227433.000000</td>\n",
       "      <td>227433.000000</td>\n",
       "      <td>2.274330e+05</td>\n",
       "      <td>2.274330e+05</td>\n",
       "      <td>227433.000000</td>\n",
       "      <td>227433.000000</td>\n",
       "    </tr>\n",
       "    <tr>\n",
       "      <th>mean</th>\n",
       "      <td>1.420650e+09</td>\n",
       "      <td>1.186529e+02</td>\n",
       "      <td>38.400690</td>\n",
       "      <td>-87.569965</td>\n",
       "      <td>0.598018</td>\n",
       "      <td>-907386.217597</td>\n",
       "      <td>9.451737e+06</td>\n",
       "      <td>-2.844270e+05</td>\n",
       "      <td>0.294816</td>\n",
       "      <td>0.130324</td>\n",
       "    </tr>\n",
       "    <tr>\n",
       "      <th>std</th>\n",
       "      <td>1.456887e+08</td>\n",
       "      <td>2.209080e+04</td>\n",
       "      <td>5.268651</td>\n",
       "      <td>10.880362</td>\n",
       "      <td>0.490299</td>\n",
       "      <td>289894.342744</td>\n",
       "      <td>2.193961e+06</td>\n",
       "      <td>4.518136e+05</td>\n",
       "      <td>0.467089</td>\n",
       "      <td>0.336660</td>\n",
       "    </tr>\n",
       "    <tr>\n",
       "      <th>min</th>\n",
       "      <td>8.508417e+08</td>\n",
       "      <td>-1.700000e+01</td>\n",
       "      <td>-12.100000</td>\n",
       "      <td>-165.107000</td>\n",
       "      <td>0.000000</td>\n",
       "      <td>-999999.999000</td>\n",
       "      <td>0.000000e+00</td>\n",
       "      <td>-1.000000e+06</td>\n",
       "      <td>0.000000</td>\n",
       "      <td>0.000000</td>\n",
       "    </tr>\n",
       "    <tr>\n",
       "      <th>25%</th>\n",
       "      <td>1.377751e+09</td>\n",
       "      <td>1.000000e+00</td>\n",
       "      <td>34.723000</td>\n",
       "      <td>-95.268000</td>\n",
       "      <td>0.000000</td>\n",
       "      <td>-999999.999000</td>\n",
       "      <td>9.941050e+06</td>\n",
       "      <td>-1.000000e+06</td>\n",
       "      <td>0.000000</td>\n",
       "      <td>0.000000</td>\n",
       "    </tr>\n",
       "    <tr>\n",
       "      <th>50%</th>\n",
       "      <td>1.477448e+09</td>\n",
       "      <td>1.000000e+00</td>\n",
       "      <td>39.503000</td>\n",
       "      <td>-86.787000</td>\n",
       "      <td>1.000000</td>\n",
       "      <td>-999999.999000</td>\n",
       "      <td>9.977663e+06</td>\n",
       "      <td>1.000000e+00</td>\n",
       "      <td>0.000000</td>\n",
       "      <td>0.000000</td>\n",
       "    </tr>\n",
       "    <tr>\n",
       "      <th>75%</th>\n",
       "      <td>1.526383e+09</td>\n",
       "      <td>3.000000e+00</td>\n",
       "      <td>42.409000</td>\n",
       "      <td>-79.255000</td>\n",
       "      <td>1.000000</td>\n",
       "      <td>-999999.999000</td>\n",
       "      <td>1.000029e+07</td>\n",
       "      <td>3.000000e+00</td>\n",
       "      <td>1.000000</td>\n",
       "      <td>0.000000</td>\n",
       "    </tr>\n",
       "    <tr>\n",
       "      <th>max</th>\n",
       "      <td>1.526525e+09</td>\n",
       "      <td>1.000000e+07</td>\n",
       "      <td>65.136000</td>\n",
       "      <td>-52.883000</td>\n",
       "      <td>1.000000</td>\n",
       "      <td>1112.000000</td>\n",
       "      <td>1.004256e+07</td>\n",
       "      <td>1.000000e+07</td>\n",
       "      <td>2.000000</td>\n",
       "      <td>1.000000</td>\n",
       "    </tr>\n",
       "  </tbody>\n",
       "</table>\n",
       "</div>"
      ],
      "text/plain": [
       "                 id        number       latitude      longitude  \\\n",
       "count  2.274330e+05  2.274330e+05  227433.000000  227433.000000   \n",
       "mean   1.420650e+09  1.186529e+02      38.400690     -87.569965   \n",
       "std    1.456887e+08  2.209080e+04       5.268651      10.880362   \n",
       "min    8.508417e+08 -1.700000e+01     -12.100000    -165.107000   \n",
       "25%    1.377751e+09  1.000000e+00      34.723000     -95.268000   \n",
       "50%    1.477448e+09  1.000000e+00      39.503000     -86.787000   \n",
       "75%    1.526383e+09  3.000000e+00      42.409000     -79.255000   \n",
       "max    1.526525e+09  1.000000e+07      65.136000     -52.883000   \n",
       "\n",
       "       flag_location          grade    customerid    number_old  \\\n",
       "count  227433.000000  227433.000000  2.274330e+05  2.274330e+05   \n",
       "mean        0.598018 -907386.217597  9.451737e+06 -2.844270e+05   \n",
       "std         0.490299  289894.342744  2.193961e+06  4.518136e+05   \n",
       "min         0.000000 -999999.999000  0.000000e+00 -1.000000e+06   \n",
       "25%         0.000000 -999999.999000  9.941050e+06 -1.000000e+06   \n",
       "50%         1.000000 -999999.999000  9.977663e+06  1.000000e+00   \n",
       "75%         1.000000 -999999.999000  1.000029e+07  3.000000e+00   \n",
       "max         1.000000    1112.000000  1.004256e+07  1.000000e+07   \n",
       "\n",
       "         flag_number   flag_species  \n",
       "count  227433.000000  227433.000000  \n",
       "mean        0.294816       0.130324  \n",
       "std         0.467089       0.336660  \n",
       "min         0.000000       0.000000  \n",
       "25%         0.000000       0.000000  \n",
       "50%         0.000000       0.000000  \n",
       "75%         1.000000       0.000000  \n",
       "max         2.000000       1.000000  "
      ]
     },
     "execution_count": 6,
     "metadata": {},
     "output_type": "execute_result"
    }
   ],
   "source": [
    "JNorth1996_2020_df.describe()"
   ]
  },
  {
   "cell_type": "code",
   "execution_count": 7,
   "id": "ae151166",
   "metadata": {},
   "outputs": [
    {
     "data": {
      "text/plain": [
       "['id',\n",
       " 'sighting_date',\n",
       " 'species',\n",
       " 'number',\n",
       " 'latitude',\n",
       " 'longitude',\n",
       " 'flag_location',\n",
       " 'comments',\n",
       " 'school',\n",
       " 'grade',\n",
       " 'image_url',\n",
       " 'customerid',\n",
       " 'number_old',\n",
       " 'flag_number',\n",
       " 'species_old',\n",
       " 'flag_species']"
      ]
     },
     "execution_count": 7,
     "metadata": {},
     "output_type": "execute_result"
    }
   ],
   "source": [
    "JNorth1996_2020_df.columns.tolist()"
   ]
  },
  {
   "cell_type": "code",
   "execution_count": 8,
   "id": "d3e4c845",
   "metadata": {},
   "outputs": [
    {
     "data": {
      "text/plain": [
       "(227433, 16)"
      ]
     },
     "execution_count": 8,
     "metadata": {},
     "output_type": "execute_result"
    }
   ],
   "source": [
    "JNorth1996_2020_df.shape"
   ]
  },
  {
   "cell_type": "code",
   "execution_count": 9,
   "id": "22e5d83e",
   "metadata": {},
   "outputs": [
    {
     "name": "stdout",
     "output_type": "stream",
     "text": [
      "[ 850841703  851824801  854409931 ... 1526524404 1526524405 1526525021]\n",
      "['1996-12-16' '1996-12-06' '1996-09-21' ... '2020-12-29' '2020-12-30'\n",
      " '2020-12-31']\n",
      "['Monarch Adult Sighted' 'Monarch Adult (FIRST sighted)'\n",
      " 'Monarch Egg (FIRST sighted)' 'Monarch (OTHER Observations)'\n",
      " 'Monarch Larva (FIRST sighted)' 'Monarch PEAK Migration'\n",
      " 'Milkweed (FIRST sighted)' 'Monarch Fall Roost' 'Monarch Egg Sighted'\n",
      " 'Monarch Larva Sighted' 'Monarch, Captive-Reared' 'Milkweed Sighted']\n",
      "[       1      150       20       89       30     2000       50     7500\n",
      "       23      200        5      300        4      100       71      120\n",
      "      325       21       28     5000    20000       36       25        6\n",
      "       54     1000      160       24       60       37        2     3000\n",
      "  1000000       10  2000000       40       85       65       15        8\n",
      "      500       14      112       75       80    15000       18    10000\n",
      "      912   100000      400      800       12       35      600       16\n",
      "    25000     1500     1117       70        3      463       45       72\n",
      "      250      182       56       26    30000     2500     8000      750\n",
      "      700       46      556       34      275       53       22      650\n",
      "      210      224     1100      240   200000      900     1200        7\n",
      "       13      115       11       19      810       66       43      510\n",
      "        9       62       27      290      104       44      440      202\n",
      "       55      180       17      140      269       61      142      175\n",
      "       41      123       32       76       31      195      125       29\n",
      "      164      109      119      105     4000       69      360       88\n",
      "       58      239       48      310      117       52      261       90\n",
      "      135      296      211       39       51      102     7001      127\n",
      "       49       47       33     1300       42      101     5075     1520\n",
      "      170       81      190       38      110      558      381      228\n",
      "      248       86       74      172      230      420     2806       94\n",
      "       92      118      425     5400     6300       68       79    50000\n",
      "     2300     7000       84      128       57      350       83      124\n",
      "      114      450      147      501       87       77      197      840\n",
      "    13460     3500       64       73      178      265      151      133\n",
      "      121      477       59       97      850      130      165       95\n",
      "      383       98      729      222      116      225       63     6000\n",
      "      475    34000    13420    21329    12073    16244    30293    11082\n",
      "       78      214      113      108      280      212      138      285\n",
      "      229      216      720      206      606      287      107      134\n",
      "      157      540 10000000      220      103      270       82      139\n",
      "      318       93       67      181      122      158      156      232\n",
      "      106      155     2400      667     1286      179      349      207\n",
      "      505      132      154     1400    32914    29804    18128    15890\n",
      "     7750     8531     7333     7783      173      213      126      378\n",
      "      417      481      780     4800      625      208      205      145\n",
      "      260      193      144      227      305      831      289      246\n",
      "      404      152       96      373      855     1800      519      215\n",
      "      441      337    23800      218      340      231     2100      550\n",
      "     4500      320     9000    12000      324      461      184      570\n",
      "      444      620    11000      870      478      252      447      247\n",
      "      281      980    28073    13492    12864    11472    10200      301\n",
      "      111      259      171      141      256      186      174      198\n",
      "      479      187      223      474      203      278      153      257\n",
      "      520      185     3200      375      258      136    70000    60200\n",
      "    48000    17800      264    19755    17100    12189    13375      233\n",
      "      204      192      131       -1      129      149      -17      460\n",
      "      382      137      143      445       91     1700      330      254\n",
      "      429      813     2200      316     2600      696      291      255\n",
      "      286      543      183      251      362      226      453     1080\n",
      "      860      315      332      244     1351    35000     1503     1125\n",
      "      725     1482      593     2079    12284    19741    12360    10099\n",
      "      587    19000   500000      189      671      713     1016      176\n",
      "      345      219      234      249      409      418    16000     3900\n",
      "      169     7200      272      284      653      428      348      777\n",
      "      253       99      201     1516      335      359      356      875\n",
      "      560      177      525      686     1380      276   999999    12620\n",
      "     6500     5850      188     2960      480      385      827      323\n",
      "      148     1012      465      196      162      238      446      313\n",
      "     2385      307      263      357      163      495     1001      541\n",
      "      733      167     3600      457     5700     1650     1120     3553\n",
      "      995     1600     1390      614     7600     8250      314     1580\n",
      "      221     1620      470      759      267      960     1301      566\n",
      "      342      880      782      241      514     2250     2470      925\n",
      "      403      166     6769      146     2469      209      279      868\n",
      "      585      311      683      354      308      760      387      563\n",
      "      801      536      161      397      322      613      191     1750\n",
      "      199      516      321     1850      277      297     4750      370\n",
      "      489     1149      268     2816      789      430      978      770\n",
      "      493      716      159]\n",
      "[27.594 30.42  40.817 ... 30.139 35.008 54.968]\n",
      "[ -81.362  -87.224  -96.71  ... -118.107 -119.132 -108.727]\n",
      "[0 1]\n",
      "['On the ballfield a solitary monarch butterfly flew across the field in a south-west direction at approximately 1:30 pm.'\n",
      " 'Our 5th grade Discovery students who went along on an overnight field trip to Ft. Pickens, Florida, noticed that there were monarch butterflies all over the grounds of the fort the day they were there (Dec. 6,1996).'\n",
      " 'We saw several hundred monarchs in our school butterfly garden,  sipping nectar from the New England asters and zinnias.'\n",
      " ...\n",
      " \"There have been at least three Monarchs in my yard this year. I know it's at least three, because I often see all of them at once. But there may be more. I have lived here for 35 years, and an additional 23 years just a mile-and-a-half down the road. This is the first time in decades that I've had Monarchs in my yard, and I've been very excited that they're coming back. I'm hoping to see more in the future. \"\n",
      " 'One larva seen.'\n",
      " 'Date of last adult sighted.Total sightings were 98 adults from June 3 to Sept. 4.Peak sightings were July 8 to Aug 7.Approx. acreage with milkweed is equal to 4.5Ac. ']\n",
      "['Walker memorial junior academy' 'Hambrick elementary school'\n",
      " '-999999.999' ... 'Homosassa springs wildlife state park'\n",
      " 'Director, virginia master naturalist program' -999999.999]\n",
      "[ 1.00000000e+01  5.00000000e+00  6.00000000e+00  3.00000000e+00\n",
      "  9.00000000e+00 -9.99999999e+05  7.00000000e+00  2.00000000e+00\n",
      "  8.00000000e+00  9.90000000e+01  4.00000000e+00  1.00000000e+00\n",
      "  1.20000000e+01  1.10000000e+01  0.00000000e+00  3.40000000e+01\n",
      "  2.50000000e+01  4.60000000e+01  6.80000000e+01  1.50000000e+01\n",
      "  9.50000000e+01  3.60000000e+01  1.80000000e+01  2.30000000e+01\n",
      "  1.40000000e+01  4.50000000e+01  9.12000000e+02  2.40000000e+01\n",
      "  6.90000000e+01  5.60000000e+01  7.12000000e+02  6.78000000e+02\n",
      "  1.12000000e+02  4.90000000e+01  7.80000000e+01  6.70000000e+01\n",
      "  1.30000000e+01  4.56000000e+02  1.90000000e+01  6.12000000e+02\n",
      "  1.11200000e+03  1.60000000e+01  1.01200000e+03  3.80000000e+01\n",
      "  6.30000000e+01  2.70000000e+01  1.00000000e+02  9.10000000e+02\n",
      "  6.20000000e+01  3.11000000e+02  5.80000000e+01  1.70000000e+01\n",
      "  2.10000000e+01  2.80000000e+01  7.10000000e+01  3.45000000e+02\n",
      "  1.19000000e+02  3.50000000e+01  4.20000000e+01  6.50000000e+01\n",
      "  5.00000000e+01  4.12000000e+02  7.90000000e+01  2.00000000e+01\n",
      "  7.11000000e+02  5.30000000e+01  1.35000000e+02]\n",
      "['-999999.999'\n",
      " 'https://journeynorth.org/jnorth/images/userfiles2013/1193346010.jpg'\n",
      " 'https://www.learner.org/jnorth/images/userfiles/1317067653.jpg' ...\n",
      " '//journeynorth.org/jnorth/images/userfiles2021/05/1526513089.jpg'\n",
      " '//journeynorth.org/jnorth/images/userfiles2021/05/1526513090.jpg'\n",
      " '//journeynorth.org/jnorth/images/userfiles2021/06/1526524404.jpg']\n",
      "[     135      150  9701054 ... 10042506 10042509 10042557]\n",
      "[-9.99999999e+05  0.00000000e+00  1.50000000e+02  2.00000000e+01\n",
      "  8.90000000e+01  3.00000000e+01  2.00000000e+03  5.00000000e+01\n",
      "  7.50000000e+03  2.30000000e+01  2.00000000e+02  5.00000000e+00\n",
      "  3.00000000e+02  4.00000000e+00  1.00000000e+02  7.10000000e+01\n",
      "  1.20000000e+02  3.25000000e+02  2.10000000e+01  2.80000000e+01\n",
      "  5.00000000e+03  2.00000000e+04  3.60000000e+01  2.50000000e+01\n",
      "  6.00000000e+00  5.40000000e+01  1.00000000e+03  1.60000000e+02\n",
      "  2.40000000e+01  6.00000000e+01  3.70000000e+01  2.00000000e+00\n",
      "  3.00000000e+03  1.00000000e+06  1.00000000e+01  1.00000000e+00\n",
      "  2.00000000e+06  4.00000000e+01  8.50000000e+01  6.50000000e+01\n",
      "  1.50000000e+01  8.00000000e+00  5.00000000e+02  1.40000000e+01\n",
      "  1.12000000e+02  7.50000000e+01  8.00000000e+01  1.50000000e+04\n",
      "  1.80000000e+01  1.00000000e+04  9.12000000e+02  1.00000000e+05\n",
      "  4.00000000e+02  8.00000000e+02  1.20000000e+01  3.50000000e+01\n",
      "  6.00000000e+02  1.60000000e+01  2.50000000e+04  1.50000000e+03\n",
      "  1.11700000e+03  7.00000000e+01  3.00000000e+00  4.63000000e+02\n",
      "  4.50000000e+01  7.20000000e+01  2.50000000e+02  1.82000000e+02\n",
      "  5.60000000e+01  2.60000000e+01  3.00000000e+04  2.50000000e+03\n",
      "  8.00000000e+03  7.50000000e+02  7.00000000e+02  4.60000000e+01\n",
      "  5.56000000e+02  3.40000000e+01  2.75000000e+02  5.30000000e+01\n",
      "  2.20000000e+01  6.50000000e+02  2.10000000e+02  2.24000000e+02\n",
      "  1.10000000e+03  2.40000000e+02  2.00000000e+05  9.00000000e+02\n",
      "  1.20000000e+03  7.00000000e+00  1.30000000e+01  1.15000000e+02\n",
      "  1.10000000e+01  1.90000000e+01  8.10000000e+02  6.60000000e+01\n",
      "  4.30000000e+01  5.10000000e+02  9.00000000e+00  6.20000000e+01\n",
      "  2.70000000e+01  2.90000000e+02  1.04000000e+02  4.40000000e+01\n",
      "  4.40000000e+02  2.02000000e+02  5.50000000e+01  1.80000000e+02\n",
      "  1.70000000e+01  1.40000000e+02  2.69000000e+02  6.10000000e+01\n",
      "  1.42000000e+02  1.75000000e+02  4.10000000e+01  1.23000000e+02\n",
      "  3.20000000e+01  7.60000000e+01  3.10000000e+01  1.95000000e+02\n",
      "  1.25000000e+02  2.90000000e+01  1.64000000e+02  1.09000000e+02\n",
      "  1.19000000e+02  1.05000000e+02  4.00000000e+03  6.90000000e+01\n",
      "  3.60000000e+02  8.80000000e+01  5.80000000e+01  2.39000000e+02\n",
      "  4.80000000e+01  3.10000000e+02  1.17000000e+02  5.20000000e+01\n",
      "  2.61000000e+02  9.00000000e+01  1.35000000e+02  2.96000000e+02\n",
      "  2.11000000e+02  3.90000000e+01  5.10000000e+01  1.02000000e+02\n",
      "  7.00100000e+03  1.27000000e+02  4.90000000e+01  4.70000000e+01\n",
      "  3.30000000e+01  1.30000000e+03  4.20000000e+01  1.01000000e+02\n",
      "  5.07500000e+03  1.52000000e+03  1.70000000e+02  8.10000000e+01\n",
      "  1.90000000e+02  3.80000000e+01  1.10000000e+02  5.58000000e+02\n",
      "  3.81000000e+02  2.28000000e+02  2.48000000e+02  8.60000000e+01\n",
      "  7.40000000e+01  1.72000000e+02  2.30000000e+02  4.20000000e+02\n",
      "  2.80600000e+03  9.40000000e+01  9.20000000e+01  1.18000000e+02\n",
      "  4.25000000e+02  5.40000000e+03  6.30000000e+03  6.80000000e+01\n",
      "  7.90000000e+01  5.00000000e+04  2.30000000e+03  7.00000000e+03\n",
      "  8.40000000e+01  1.28000000e+02  5.70000000e+01  3.50000000e+02\n",
      "  8.30000000e+01  1.24000000e+02  1.14000000e+02  4.50000000e+02\n",
      "  1.47000000e+02  5.01000000e+02  8.70000000e+01  7.70000000e+01\n",
      "  1.97000000e+02  8.40000000e+02  1.34600000e+04  3.50000000e+03\n",
      "  6.40000000e+01  7.30000000e+01  1.78000000e+02  2.65000000e+02\n",
      "  1.51000000e+02  1.33000000e+02  1.21000000e+02  4.77000000e+02\n",
      "  5.90000000e+01  9.70000000e+01  8.50000000e+02  1.30000000e+02\n",
      "  1.65000000e+02  9.50000000e+01  3.83000000e+02  9.80000000e+01\n",
      "  7.29000000e+02  2.22000000e+02  1.16000000e+02  2.25000000e+02\n",
      "  6.30000000e+01  6.00000000e+03  4.75000000e+02  3.40000000e+04\n",
      "  1.34200000e+04  2.13290000e+04  1.20730000e+04  1.62440000e+04\n",
      "  3.02930000e+04  1.10820000e+04  7.80000000e+01  2.14000000e+02\n",
      "  1.13000000e+02  1.08000000e+02  2.80000000e+02  2.12000000e+02\n",
      "  1.38000000e+02  2.85000000e+02  2.29000000e+02  2.16000000e+02\n",
      "  7.20000000e+02  2.06000000e+02  6.06000000e+02  2.87000000e+02\n",
      "  1.07000000e+02  1.34000000e+02  1.57000000e+02  5.40000000e+02\n",
      "  1.00000000e+07  2.20000000e+02  1.03000000e+02  2.70000000e+02\n",
      "  8.20000000e+01  1.39000000e+02  3.18000000e+02  9.30000000e+01\n",
      "  6.70000000e+01  1.81000000e+02  1.22000000e+02  1.58000000e+02\n",
      "  1.56000000e+02  2.32000000e+02  1.06000000e+02  1.55000000e+02\n",
      "  2.40000000e+03  6.67000000e+02  1.28600000e+03  1.79000000e+02\n",
      "  3.49000000e+02  2.07000000e+02  5.05000000e+02  1.32000000e+02\n",
      "  1.54000000e+02  1.40000000e+03  3.29140000e+04  2.98040000e+04\n",
      "  1.81280000e+04  1.58900000e+04  7.75000000e+03  8.53100000e+03\n",
      "  7.33300000e+03  7.78300000e+03  1.73000000e+02  2.13000000e+02\n",
      "  1.26000000e+02  3.78000000e+02  4.17000000e+02  4.81000000e+02\n",
      "  7.80000000e+02  4.80000000e+03  6.25000000e+02  2.08000000e+02\n",
      "  2.05000000e+02  1.45000000e+02  2.60000000e+02  1.93000000e+02\n",
      "  1.44000000e+02  2.27000000e+02  3.05000000e+02  8.31000000e+02\n",
      "  2.89000000e+02  2.46000000e+02  4.04000000e+02  1.52000000e+02\n",
      "  9.60000000e+01  3.73000000e+02  8.55000000e+02  1.80000000e+03\n",
      "  5.19000000e+02  2.15000000e+02  4.41000000e+02  3.37000000e+02\n",
      "  2.38000000e+04  2.18000000e+02  3.40000000e+02  2.31000000e+02\n",
      "  2.10000000e+03  5.50000000e+02  4.50000000e+03  3.20000000e+02\n",
      "  9.00000000e+03  1.20000000e+04  3.24000000e+02  4.61000000e+02\n",
      "  1.84000000e+02  5.70000000e+02  4.44000000e+02  6.20000000e+02\n",
      "  1.10000000e+04  8.70000000e+02  4.78000000e+02  2.52000000e+02\n",
      "  4.47000000e+02  2.47000000e+02  2.81000000e+02  9.80000000e+02\n",
      "  2.80730000e+04  1.34920000e+04  1.28640000e+04  1.14720000e+04\n",
      "  1.02000000e+04  3.01000000e+02  1.11000000e+02  2.59000000e+02\n",
      "  1.71000000e+02  1.41000000e+02  2.56000000e+02  1.86000000e+02\n",
      "  1.74000000e+02  1.98000000e+02  4.79000000e+02  1.87000000e+02\n",
      "  2.23000000e+02  4.74000000e+02  2.03000000e+02  2.78000000e+02\n",
      "  1.53000000e+02  2.57000000e+02  5.20000000e+02  1.85000000e+02\n",
      "  3.20000000e+03  3.75000000e+02  2.58000000e+02  1.36000000e+02\n",
      "  7.00000000e+04  6.02000000e+04  4.80000000e+04  1.78000000e+04\n",
      "  2.64000000e+02  1.97550000e+04  1.71000000e+04  1.21890000e+04\n",
      "  1.33750000e+04  2.33000000e+02  2.04000000e+02  1.92000000e+02\n",
      "  1.31000000e+02 -1.00000000e+00  1.29000000e+02  1.49000000e+02\n",
      " -1.70000000e+01  4.60000000e+02  3.82000000e+02  1.37000000e+02\n",
      "  1.43000000e+02  4.45000000e+02  9.10000000e+01  1.70000000e+03\n",
      "  3.30000000e+02  2.54000000e+02  4.29000000e+02  8.13000000e+02\n",
      "  2.20000000e+03  3.16000000e+02  2.60000000e+03  6.96000000e+02\n",
      "  2.91000000e+02  2.55000000e+02  2.86000000e+02  5.43000000e+02\n",
      "  1.83000000e+02  2.51000000e+02  3.62000000e+02  2.26000000e+02\n",
      "  4.53000000e+02  1.08000000e+03  8.60000000e+02  3.15000000e+02\n",
      "  3.32000000e+02  2.44000000e+02  1.35100000e+03  3.50000000e+04\n",
      "  1.50300000e+03  1.12500000e+03  7.25000000e+02  1.48200000e+03\n",
      "  5.93000000e+02  2.07900000e+03  1.22840000e+04  1.97410000e+04\n",
      "  1.23600000e+04  1.00990000e+04  5.87000000e+02  1.90000000e+04\n",
      "  5.00000000e+05  1.89000000e+02  6.71000000e+02  7.13000000e+02\n",
      "  1.01600000e+03  1.76000000e+02  3.45000000e+02  2.19000000e+02\n",
      "  2.34000000e+02  2.49000000e+02  4.09000000e+02  4.18000000e+02\n",
      "  1.60000000e+04  3.90000000e+03  1.69000000e+02  7.20000000e+03\n",
      "  2.72000000e+02  2.84000000e+02  6.53000000e+02  4.28000000e+02\n",
      "  3.48000000e+02  7.77000000e+02  2.53000000e+02  9.90000000e+01\n",
      "  2.01000000e+02  1.51600000e+03  3.35000000e+02  3.59000000e+02\n",
      "  3.56000000e+02  8.75000000e+02  5.60000000e+02  1.77000000e+02\n",
      "  5.25000000e+02  6.86000000e+02  1.38000000e+03  2.76000000e+02\n",
      "  9.99999000e+05  1.26200000e+04  6.50000000e+03  5.85000000e+03\n",
      "  1.88000000e+02  2.96000000e+03  4.80000000e+02  3.85000000e+02\n",
      "  8.27000000e+02  3.23000000e+02  1.48000000e+02  1.01200000e+03\n",
      "  4.65000000e+02  1.96000000e+02  1.62000000e+02  2.38000000e+02\n",
      "  4.46000000e+02  3.13000000e+02  2.38500000e+03  3.07000000e+02\n",
      "  2.63000000e+02  3.57000000e+02  1.63000000e+02  4.95000000e+02\n",
      "  1.00100000e+03  5.41000000e+02  7.33000000e+02  1.67000000e+02\n",
      "  3.60000000e+03  4.57000000e+02  5.70000000e+03  1.65000000e+03\n",
      "  1.12000000e+03  3.55300000e+03  9.95000000e+02  1.60000000e+03\n",
      "  1.39000000e+03  6.14000000e+02  7.60000000e+03  8.25000000e+03\n",
      "  3.14000000e+02  1.58000000e+03  2.21000000e+02  1.62000000e+03\n",
      "  4.70000000e+02  7.59000000e+02  2.67000000e+02  9.60000000e+02\n",
      "  1.30100000e+03  5.66000000e+02  3.42000000e+02  8.80000000e+02\n",
      "  7.82000000e+02  2.41000000e+02  5.14000000e+02  2.25000000e+03\n",
      "  2.47000000e+03  9.25000000e+02  4.03000000e+02  1.66000000e+02\n",
      "  6.76900000e+03  1.46000000e+02  2.46900000e+03  2.09000000e+02\n",
      "  2.79000000e+02  8.68000000e+02  5.85000000e+02  3.11000000e+02\n",
      "  6.83000000e+02  3.54000000e+02  3.08000000e+02  7.60000000e+02\n",
      "  3.87000000e+02  5.63000000e+02  8.01000000e+02  5.36000000e+02\n",
      "  1.61000000e+02  3.97000000e+02  3.22000000e+02  6.13000000e+02\n",
      "  1.91000000e+02  1.75000000e+03  1.99000000e+02  5.16000000e+02\n",
      "  3.21000000e+02  1.85000000e+03  2.77000000e+02  2.97000000e+02\n",
      "  4.75000000e+03  3.70000000e+02  4.89000000e+02  1.14900000e+03\n",
      "  2.68000000e+02  2.81600000e+03  7.89000000e+02  4.30000000e+02\n",
      "  9.78000000e+02  7.70000000e+02  4.93000000e+02  7.16000000e+02\n",
      "  1.59000000e+02]\n",
      "[1 2 0]\n",
      "['Monarch Butterfly' 'Monarch Migration' 'FIRST Monarch Butterfly'\n",
      " 'FIRST Monarch Egg' 'First Monarch' 'FIRST Monarch' 'LAST Fall Monarch'\n",
      " 'Monarch (OTHER observations)' 'Monarch (FIRST sighting)'\n",
      " 'Monarch (FIRST seen)' 'Monarch (Other Sightings)'\n",
      " 'Monarch (OTHER observation)' 'Monarch (OTHER Observation)'\n",
      " 'Monarch Migration Sighting' 'Monarch (OTHER Observations)'\n",
      " 'Monarch Migration Study' 'LAST Fall Monarch Sighted'\n",
      " ' LAST Fall Monarch Sighted' 'LAST Fall Monarch Migration'\n",
      " 'Monarch (OTHER oservations)' 'Monarch (LAST sighting)'\n",
      " 'Monarch Larva (FIRST sighted)' 'Monarch Egg (FIRST sighted)'\n",
      " 'Monarch Adult (FIRST sighted)' 'Monarch Adult (FIRST Sighted)'\n",
      " 'Monarch PEAK Migration' 'LAST Fall Monarch Sighting'\n",
      " 'Monarchs OTHER (Observation)' '(Monarch) Milkweed emerges'\n",
      " 'Monarch FIRST Migration Sighting' 'Monarch peak Migration'\n",
      " 'Monarch (OTHER) Observations' 'Milkweed (FIRST Leaves)'\n",
      " 'Monarch Over-wintering' 'Monarch Adult  (FIRST sighted)'\n",
      " 'Monarchs (OTHER observations)' 'Monarch (IOTHER observations)'\n",
      " 'Monarch Fall Roost' 'Monarch ADULT' 'Monarch Larva (FIRST Sighted)'\n",
      " 'Monarch (OTHER Observations' 'Monarch Peak Migration'\n",
      " 'Monarch over-wintering' 'Monarch  Adult (FIRST sighted)'\n",
      " 'Monarch (Other Observations)' 'Monarch FIRST Adult'\n",
      " 'Monarch Adult (First sighted)' 'Monarch (Other observations)'\n",
      " 'Monarch Migration Sighting OW' 'Monarch (FIRST sighted)'\n",
      " 'Monarch (NONE sighted)' 'Monarch Fall Roost (None yet)'\n",
      " 'Monarch Adult Sighted' 'Monarch Sighting' 'Monarch (Other Observations'\n",
      " 'Monarch Winter Sighting' 'Monarch Sighted' 'Monarch Egg Sighted'\n",
      " 'Monarch Larva Sighted' 'Monarch OTHER Observations'\n",
      " 'monarch (OTHER Observations)' 'Monarch Egg (FIRST Sighted)'\n",
      " 'Monarch OW Mexico' 'Monarch Adult  Sighted'\n",
      " 'Monarch (OTHER Observations) READY' 'Monarch Adult (FIRST sighted))'\n",
      " 'Monarch, Captive-Reared' 'Monarch Fall Roost (waiting for permission)'\n",
      " 'Milkweed Sighted' 'Milkweed (FIRST sighted)' 'Milkweed (FIRST Sighted)'\n",
      " 'Milkweed sighted' 'Monarch, Captive Reared'\n",
      " 'Monarch Egg (FIRST sighted)ghted)'\n",
      " 'Monarch Adult (FIRST sighted)T sighted)'\n",
      " 'Monarch Adult (FIRST sighted)sighted)' 'Monarch (Captive Reared)ed)'\n",
      " 'Monarch (Captive Reared)' 'Monarch (OTHER Observations)ations)'\n",
      " 'Monarch Larva Sighted ' 'Monarch Fall Roost ' 'Monarch Egg Sighted '\n",
      " 'Monarch, captive-Reared' 'MOnarch Larva Sighted'\n",
      " 'Monarch Adult Sighted ' 'Monarch adult Sighted' 'Monarch Adult SIghted'\n",
      " 'Monarch Adult (FIRST sighted) ' 'Monarchch Adult Sighted'\n",
      " 'Monarch egg Sighted' 'Monarch larva Sighted' 'Monarch , Captive-Raised'\n",
      " 'Monarch, Captive' 'Monarch,' 'Monarch Adult sighted'\n",
      " 'Monarch, Captive-reared']\n",
      "[1 0]\n"
     ]
    }
   ],
   "source": [
    "# Determine the number of unique values in each column.\n",
    "for col in JNorth1996_2020_df:\n",
    "  print(JNorth1996_2020_df[col].unique())"
   ]
  },
  {
   "cell_type": "code",
   "execution_count": 10,
   "id": "5c015895",
   "metadata": {},
   "outputs": [
    {
     "name": "stdout",
     "output_type": "stream",
     "text": [
      "850841703     1\n",
      "1526350827    1\n",
      "1526350816    1\n",
      "1526350817    1\n",
      "1526350818    1\n",
      "             ..\n",
      "1432512422    1\n",
      "1432519704    1\n",
      "1432562236    1\n",
      "1432562641    1\n",
      "1526525021    1\n",
      "Name: id, Length: 227433, dtype: int64\n",
      "2018-08-22    392\n",
      "2018-10-03    377\n",
      "2018-09-06    353\n",
      "2019-09-19    337\n",
      "2018-09-12    335\n",
      "             ... \n",
      "2015-12-31      1\n",
      "2015-11-24      1\n",
      "2015-11-22      1\n",
      "2006-07-30      1\n",
      "1996-12-16      1\n",
      "Name: sighting_date, Length: 7491, dtype: int64\n",
      "Monarch Adult Sighted            102306\n",
      "Monarch Adult (FIRST sighted)     36409\n",
      "Monarch Larva Sighted             17378\n",
      "Monarch, Captive-Reared           14339\n",
      "Monarch (OTHER Observations)      13581\n",
      "Monarch Egg Sighted                8736\n",
      "Milkweed (FIRST sighted)           8465\n",
      "Monarch PEAK Migration             7689\n",
      "Monarch Egg (FIRST sighted)        6876\n",
      "Monarch Fall Roost                 5035\n",
      "Monarch Larva (FIRST sighted)      4898\n",
      "Milkweed Sighted                   1721\n",
      "Name: species, dtype: int64\n",
      "1       139319\n",
      "2        24169\n",
      "3        13055\n",
      "4         7795\n",
      "5         6118\n",
      "         ...  \n",
      "860          1\n",
      "315          1\n",
      "244          1\n",
      "1351         1\n",
      "159          1\n",
      "Name: number, Length: 555, dtype: int64\n",
      "29.757    811\n",
      "30.230    765\n",
      "45.033    702\n",
      "37.944    700\n",
      "42.409    659\n",
      "         ... \n",
      "30.770      1\n",
      "38.355      1\n",
      "33.305      1\n",
      "29.930      1\n",
      "27.594      1\n",
      "Name: latitude, Length: 18851, dtype: int64\n",
      "-95.365     807\n",
      "-97.714     752\n",
      "-87.405     695\n",
      "-93.224     620\n",
      "-82.220     605\n",
      "           ... \n",
      "-77.529       1\n",
      "-69.400       1\n",
      "-101.051      1\n",
      "-69.254       1\n",
      "-122.557      1\n",
      "Name: longitude, Length: 30123, dtype: int64\n",
      "1    136009\n",
      "0     91424\n",
      "Name: flag_location, dtype: int64\n",
      "-999999.999                                                                                                                                                               1427\n",
      "Female                                                                                                                                                                     170\n",
      "Flying                                                                                                                                                                     144\n",
      "Male                                                                                                                                                                       118\n",
      "Recorded as an incidental sighting while conducting surveys on the Fort Hood military base.                                                                                104\n",
      "                                                                                                                                                                          ... \n",
      "first female sighting around 3 pm in richmond-laid egg on common milkweed.  Warm sw wind -monarch looked fresh                                                               1\n",
      "Spotted our first milkweed shoots in our butterfly garden at Lake Anne Elementary this afternoon after the first weekend with warmer temperatures.                           1\n",
      "Spotted 1 adult near Love Valley Wildlife Reserve near the Red River.                                                                                                        1\n",
      "Established Asclepias syriaca L. plants in open area have emerged approximately 1 inch in height one day after 0.7\" rainfall.                                                1\n",
      "Date of last adult sighted.Total sightings were 98 adults from June 3 to Sept. 4.Peak sightings were July 8 to Aug 7.Approx. acreage with milkweed is equal to 4.5Ac.        1\n",
      "Name: comments, Length: 212736, dtype: int64\n",
      "-999999.999                            139036\n",
      "-999999.999                             63593\n",
      "None                                      457\n",
      "Homeschool                                331\n",
      "Virginia living museum                    263\n",
      "                                        ...  \n",
      "William e. norris elementary school         1\n",
      "Coventry elementary school                  1\n",
      "Adams is close                              1\n",
      "Salem elementary school                     1\n",
      "Walker memorial junior academy              1\n",
      "Name: school, Length: 6914, dtype: int64\n",
      "-999999.999    206370\n",
      " 99.000          3136\n",
      " 4.000           2947\n",
      " 3.000           2543\n",
      " 2.000           2541\n",
      "                ...  \n",
      " 1012.000           1\n",
      " 678.000            1\n",
      " 69.000             1\n",
      " 95.000             1\n",
      " 135.000            1\n",
      "Name: grade, Length: 67, dtype: int64\n",
      "-999999.999                                                                   183911\n",
      "//sightings.journeynorth.org/jnorth/images/userfiles2018/09/1526362818.jpg         8\n",
      "https://journeynorth.org/jnorth/images/userfiles/1366245309.jpg                    3\n",
      "https://journeynorth.org/jnorth/images/userfiles/1331931236.jpg                    3\n",
      "//journeynorth.org/jnorth/images/userfiles2020/04/1526445894.jpg                   2\n",
      "                                                                               ...  \n",
      "https://journeynorth.org/jnorth/images/userfiles2017/06/1496327046.jpg             1\n",
      "https://journeynorth.org/jnorth/images/userfiles2017/06/1496327055.jpg             1\n",
      "https://journeynorth.org/jnorth/images/userfiles2017/06/1496327056.jpg             1\n",
      "https://journeynorth.org/jnorth/images/userfiles2017/06/1496327063.jpg             1\n",
      "//journeynorth.org/jnorth/images/userfiles2021/06/1526524404.jpg                   1\n",
      "Name: image_url, Length: 43474, dtype: int64\n",
      "9710973     7256\n",
      "9979617     2054\n",
      "9976074     1055\n",
      "9975275      900\n",
      "10010858     757\n",
      "            ... \n",
      "9979243        1\n",
      "9979242        1\n",
      "9979240        1\n",
      "9979216        1\n",
      "10042557       1\n",
      "Name: customerid, Length: 42518, dtype: int64\n",
      " 1.000         73436\n",
      "-999999.999    64715\n",
      " 2.000         24169\n",
      " 3.000         13055\n",
      " 4.000          7795\n",
      "               ...  \n",
      " 445.000           1\n",
      " 1700.000          1\n",
      " 254.000           1\n",
      " 429.000           1\n",
      " 159.000           1\n",
      "Name: number_old, Length: 557, dtype: int64\n",
      "0    161550\n",
      "1     64715\n",
      "2      1168\n",
      "Name: flag_number, dtype: int64\n",
      "Monarch Adult Sighted                          91662\n",
      "Monarch Adult (FIRST sighted)                  25311\n",
      "Monarch Larva Sighted                          17373\n",
      "Monarch, Captive-Reared                        14329\n",
      "Monarch (OTHER Observations)                   10626\n",
      "                                               ...  \n",
      "monarch (OTHER Observations)                       1\n",
      "Monarch (OTHER Observations) READY                 1\n",
      "Monarch Fall Roost (waiting for permission)        1\n",
      "Monarch, Captive Reared                            1\n",
      "Monarch, Captive-reared                            1\n",
      "Name: species_old, Length: 96, dtype: int64\n",
      "0    197793\n",
      "1     29640\n",
      "Name: flag_species, dtype: int64\n"
     ]
    }
   ],
   "source": [
    "# Determine the number of unique values in each column.\n",
    "for col in JNorth1996_2020_df:\n",
    "  print(JNorth1996_2020_df[col].value_counts())"
   ]
  },
  {
   "cell_type": "code",
   "execution_count": 11,
   "id": "df89a73c",
   "metadata": {},
   "outputs": [
    {
     "name": "stdout",
     "output_type": "stream",
     "text": [
      "Column id has 0 null values\n",
      "Column sighting_date has 0 null values\n",
      "Column species has 0 null values\n",
      "Column number has 0 null values\n",
      "Column latitude has 0 null values\n",
      "Column longitude has 0 null values\n",
      "Column flag_location has 0 null values\n",
      "Column comments has 0 null values\n",
      "Column school has 0 null values\n",
      "Column grade has 0 null values\n",
      "Column image_url has 0 null values\n",
      "Column customerid has 0 null values\n",
      "Column number_old has 0 null values\n",
      "Column flag_number has 0 null values\n",
      "Column species_old has 0 null values\n",
      "Column flag_species has 0 null values\n"
     ]
    }
   ],
   "source": [
    "# Find null values\n",
    "for column in JNorth1996_2020_df.columns:\n",
    "   print(f\"Column {column} has {JNorth1996_2020_df[column].isnull().sum()} null values\")"
   ]
  },
  {
   "cell_type": "code",
   "execution_count": 12,
   "id": "f625b64c",
   "metadata": {},
   "outputs": [
    {
     "name": "stdout",
     "output_type": "stream",
     "text": [
      "Duplicate entries: 0\n"
     ]
    }
   ],
   "source": [
    "# Find duplicate entries\n",
    "print(f\"Duplicate entries: {JNorth1996_2020_df.duplicated().sum()}\")"
   ]
  },
  {
   "cell_type": "code",
   "execution_count": 13,
   "id": "324f6253",
   "metadata": {
    "scrolled": true
   },
   "outputs": [
    {
     "data": {
      "text/html": [
       "<div>\n",
       "<style scoped>\n",
       "    .dataframe tbody tr th:only-of-type {\n",
       "        vertical-align: middle;\n",
       "    }\n",
       "\n",
       "    .dataframe tbody tr th {\n",
       "        vertical-align: top;\n",
       "    }\n",
       "\n",
       "    .dataframe thead th {\n",
       "        text-align: right;\n",
       "    }\n",
       "</style>\n",
       "<table border=\"1\" class=\"dataframe\">\n",
       "  <thead>\n",
       "    <tr style=\"text-align: right;\">\n",
       "      <th></th>\n",
       "      <th>id</th>\n",
       "      <th>sighting_date</th>\n",
       "      <th>species</th>\n",
       "      <th>number</th>\n",
       "      <th>latitude</th>\n",
       "      <th>longitude</th>\n",
       "      <th>flag_location</th>\n",
       "      <th>comments</th>\n",
       "      <th>school</th>\n",
       "      <th>grade</th>\n",
       "      <th>image_url</th>\n",
       "      <th>customerid</th>\n",
       "      <th>number_old</th>\n",
       "      <th>flag_number</th>\n",
       "      <th>species_old</th>\n",
       "      <th>flag_species</th>\n",
       "    </tr>\n",
       "  </thead>\n",
       "  <tbody>\n",
       "    <tr>\n",
       "      <th>0</th>\n",
       "      <td>850841703</td>\n",
       "      <td>1996-12-16</td>\n",
       "      <td>Monarch Adult Sighted</td>\n",
       "      <td>1</td>\n",
       "      <td>27.594</td>\n",
       "      <td>-81.362</td>\n",
       "      <td>0</td>\n",
       "      <td>On the ballfield a solitary monarch butterfly ...</td>\n",
       "      <td>Walker memorial junior academy</td>\n",
       "      <td>10.0</td>\n",
       "      <td>-999999.999</td>\n",
       "      <td>135</td>\n",
       "      <td>-999999.999</td>\n",
       "      <td>1</td>\n",
       "      <td>Monarch Butterfly</td>\n",
       "      <td>1</td>\n",
       "    </tr>\n",
       "    <tr>\n",
       "      <th>1</th>\n",
       "      <td>851824801</td>\n",
       "      <td>1996-12-06</td>\n",
       "      <td>Monarch Adult Sighted</td>\n",
       "      <td>1</td>\n",
       "      <td>30.420</td>\n",
       "      <td>-87.224</td>\n",
       "      <td>0</td>\n",
       "      <td>Our 5th grade Discovery students who went alon...</td>\n",
       "      <td>Hambrick elementary school</td>\n",
       "      <td>5.0</td>\n",
       "      <td>-999999.999</td>\n",
       "      <td>150</td>\n",
       "      <td>-999999.999</td>\n",
       "      <td>1</td>\n",
       "      <td>Monarch Butterfly</td>\n",
       "      <td>1</td>\n",
       "    </tr>\n",
       "    <tr>\n",
       "      <th>2</th>\n",
       "      <td>854409931</td>\n",
       "      <td>1996-09-21</td>\n",
       "      <td>Monarch Adult Sighted</td>\n",
       "      <td>1</td>\n",
       "      <td>40.817</td>\n",
       "      <td>-96.710</td>\n",
       "      <td>0</td>\n",
       "      <td>We saw several hundred monarchs in our school ...</td>\n",
       "      <td>-999999.999</td>\n",
       "      <td>5.0</td>\n",
       "      <td>-999999.999</td>\n",
       "      <td>9701054</td>\n",
       "      <td>-999999.999</td>\n",
       "      <td>1</td>\n",
       "      <td>Monarch Butterfly</td>\n",
       "      <td>1</td>\n",
       "    </tr>\n",
       "    <tr>\n",
       "      <th>3</th>\n",
       "      <td>854557206</td>\n",
       "      <td>1996-09-21</td>\n",
       "      <td>Monarch Adult Sighted</td>\n",
       "      <td>1</td>\n",
       "      <td>40.817</td>\n",
       "      <td>-96.710</td>\n",
       "      <td>0</td>\n",
       "      <td>Over a hundered monarchs in our school butterf...</td>\n",
       "      <td>Fredstrom elementary school</td>\n",
       "      <td>6.0</td>\n",
       "      <td>-999999.999</td>\n",
       "      <td>175</td>\n",
       "      <td>-999999.999</td>\n",
       "      <td>1</td>\n",
       "      <td>Monarch Butterfly</td>\n",
       "      <td>1</td>\n",
       "    </tr>\n",
       "    <tr>\n",
       "      <th>4</th>\n",
       "      <td>855061862</td>\n",
       "      <td>1997-01-01</td>\n",
       "      <td>Monarch Adult Sighted</td>\n",
       "      <td>1</td>\n",
       "      <td>34.244</td>\n",
       "      <td>-77.946</td>\n",
       "      <td>0</td>\n",
       "      <td>I Thought I Saw It, But I Was Suprised To See ...</td>\n",
       "      <td>Gregory</td>\n",
       "      <td>3.0</td>\n",
       "      <td>-999999.999</td>\n",
       "      <td>181</td>\n",
       "      <td>-999999.999</td>\n",
       "      <td>1</td>\n",
       "      <td>Monarch Butterfly</td>\n",
       "      <td>1</td>\n",
       "    </tr>\n",
       "  </tbody>\n",
       "</table>\n",
       "</div>"
      ],
      "text/plain": [
       "          id sighting_date                species  number  latitude  \\\n",
       "0  850841703    1996-12-16  Monarch Adult Sighted       1    27.594   \n",
       "1  851824801    1996-12-06  Monarch Adult Sighted       1    30.420   \n",
       "2  854409931    1996-09-21  Monarch Adult Sighted       1    40.817   \n",
       "3  854557206    1996-09-21  Monarch Adult Sighted       1    40.817   \n",
       "4  855061862    1997-01-01  Monarch Adult Sighted       1    34.244   \n",
       "\n",
       "   longitude  flag_location  \\\n",
       "0    -81.362              0   \n",
       "1    -87.224              0   \n",
       "2    -96.710              0   \n",
       "3    -96.710              0   \n",
       "4    -77.946              0   \n",
       "\n",
       "                                            comments  \\\n",
       "0  On the ballfield a solitary monarch butterfly ...   \n",
       "1  Our 5th grade Discovery students who went alon...   \n",
       "2  We saw several hundred monarchs in our school ...   \n",
       "3  Over a hundered monarchs in our school butterf...   \n",
       "4  I Thought I Saw It, But I Was Suprised To See ...   \n",
       "\n",
       "                           school  grade    image_url  customerid  number_old  \\\n",
       "0  Walker memorial junior academy   10.0  -999999.999         135 -999999.999   \n",
       "1      Hambrick elementary school    5.0  -999999.999         150 -999999.999   \n",
       "2                     -999999.999    5.0  -999999.999     9701054 -999999.999   \n",
       "3     Fredstrom elementary school    6.0  -999999.999         175 -999999.999   \n",
       "4                         Gregory    3.0  -999999.999         181 -999999.999   \n",
       "\n",
       "   flag_number        species_old  flag_species  \n",
       "0            1  Monarch Butterfly             1  \n",
       "1            1  Monarch Butterfly             1  \n",
       "2            1  Monarch Butterfly             1  \n",
       "3            1  Monarch Butterfly             1  \n",
       "4            1  Monarch Butterfly             1  "
      ]
     },
     "execution_count": 13,
     "metadata": {},
     "output_type": "execute_result"
    }
   ],
   "source": [
    "# filtering by type of observation (Monarch Adult Sighted)\n",
    "JNorth_Adult_First_Site_df = JNorth1996_2020_df[JNorth1996_2020_df['species']=='Monarch Adult (FIRST sighted)']\n",
    "JNorth_Adult_First_Site_df.head()"
   ]
  },
  {
   "cell_type": "code",
   "execution_count": 14,
   "id": "e5f16410",
   "metadata": {},
   "outputs": [],
   "source": [
    "JNorth_Adult_First_Site_df.to_csv('JNorth_Adult_First_Site.csv', header=True, mode='w' )"
   ]
  },
  {
   "cell_type": "code",
   "execution_count": 15,
   "id": "e2fdaf3f",
   "metadata": {},
   "outputs": [
    {
     "data": {
      "text/plain": [
       "(102306, 16)"
      ]
     },
     "execution_count": 15,
     "metadata": {},
     "output_type": "execute_result"
    }
   ],
   "source": [
    "JNorth_Adult_First_Site_df.shape"
   ]
  },
  {
   "cell_type": "markdown",
   "id": "58d210d2",
   "metadata": {},
   "source": [
    "# Format file for geoJSON "
   ]
  },
  {
   "cell_type": "code",
   "execution_count": 17,
   "id": "6134356f",
   "metadata": {},
   "outputs": [
    {
     "ename": "KeyError",
     "evalue": "\"['id' 'flag_location' 'comments' 'school' 'grade' 'image_url' 'customerid'\\n 'number_old' 'flag_number' 'species_old' 'flag_species'] not found in axis\"",
     "output_type": "error",
     "traceback": [
      "\u001b[1;31m---------------------------------------------------------------------------\u001b[0m",
      "\u001b[1;31mKeyError\u001b[0m                                  Traceback (most recent call last)",
      "\u001b[1;32m~\\AppData\\Local\\Temp/ipykernel_15900/2928791965.py\u001b[0m in \u001b[0;36m<module>\u001b[1;34m\u001b[0m\n\u001b[0;32m      1\u001b[0m \u001b[0mJNorth_Adult_Site_df\u001b[0m \u001b[1;33m=\u001b[0m \u001b[0mpd\u001b[0m\u001b[1;33m.\u001b[0m\u001b[0mDataFrame\u001b[0m\u001b[1;33m(\u001b[0m\u001b[0mJNorth_Adult_Site_df\u001b[0m\u001b[1;33m)\u001b[0m\u001b[1;33m\u001b[0m\u001b[1;33m\u001b[0m\u001b[0m\n\u001b[1;32m----> 2\u001b[1;33m \u001b[0mJNorth_Adult_Site_df\u001b[0m\u001b[1;33m.\u001b[0m\u001b[0mdrop\u001b[0m\u001b[1;33m(\u001b[0m\u001b[1;33m[\u001b[0m\u001b[1;34m'id'\u001b[0m\u001b[1;33m,\u001b[0m\u001b[1;34m'flag_location'\u001b[0m\u001b[1;33m,\u001b[0m \u001b[1;34m'comments'\u001b[0m\u001b[1;33m,\u001b[0m\u001b[1;34m'school'\u001b[0m\u001b[1;33m,\u001b[0m\u001b[1;34m'grade'\u001b[0m\u001b[1;33m,\u001b[0m\u001b[1;34m'image_url'\u001b[0m\u001b[1;33m,\u001b[0m\u001b[1;34m'customerid'\u001b[0m\u001b[1;33m,\u001b[0m\u001b[1;34m'number_old'\u001b[0m\u001b[1;33m,\u001b[0m\u001b[1;34m'flag_number'\u001b[0m\u001b[1;33m,\u001b[0m\u001b[1;34m'species_old'\u001b[0m\u001b[1;33m,\u001b[0m\u001b[1;34m'flag_species'\u001b[0m\u001b[1;33m]\u001b[0m\u001b[1;33m,\u001b[0m \u001b[0maxis\u001b[0m\u001b[1;33m=\u001b[0m\u001b[1;36m1\u001b[0m\u001b[1;33m,\u001b[0m \u001b[0minplace\u001b[0m\u001b[1;33m=\u001b[0m\u001b[1;32mTrue\u001b[0m\u001b[1;33m)\u001b[0m\u001b[1;33m\u001b[0m\u001b[1;33m\u001b[0m\u001b[0m\n\u001b[0m\u001b[0;32m      3\u001b[0m \u001b[0mJNorth_Adult_Site_df\u001b[0m\u001b[1;33m.\u001b[0m\u001b[0mhead\u001b[0m\u001b[1;33m(\u001b[0m\u001b[1;33m)\u001b[0m\u001b[1;33m\u001b[0m\u001b[1;33m\u001b[0m\u001b[0m\n",
      "\u001b[1;32m~\\anaconda3\\envs\\mlenv\\lib\\site-packages\\pandas\\util\\_decorators.py\u001b[0m in \u001b[0;36mwrapper\u001b[1;34m(*args, **kwargs)\u001b[0m\n\u001b[0;32m    309\u001b[0m                     \u001b[0mstacklevel\u001b[0m\u001b[1;33m=\u001b[0m\u001b[0mstacklevel\u001b[0m\u001b[1;33m,\u001b[0m\u001b[1;33m\u001b[0m\u001b[1;33m\u001b[0m\u001b[0m\n\u001b[0;32m    310\u001b[0m                 )\n\u001b[1;32m--> 311\u001b[1;33m             \u001b[1;32mreturn\u001b[0m \u001b[0mfunc\u001b[0m\u001b[1;33m(\u001b[0m\u001b[1;33m*\u001b[0m\u001b[0margs\u001b[0m\u001b[1;33m,\u001b[0m \u001b[1;33m**\u001b[0m\u001b[0mkwargs\u001b[0m\u001b[1;33m)\u001b[0m\u001b[1;33m\u001b[0m\u001b[1;33m\u001b[0m\u001b[0m\n\u001b[0m\u001b[0;32m    312\u001b[0m \u001b[1;33m\u001b[0m\u001b[0m\n\u001b[0;32m    313\u001b[0m         \u001b[1;32mreturn\u001b[0m \u001b[0mwrapper\u001b[0m\u001b[1;33m\u001b[0m\u001b[1;33m\u001b[0m\u001b[0m\n",
      "\u001b[1;32m~\\anaconda3\\envs\\mlenv\\lib\\site-packages\\pandas\\core\\frame.py\u001b[0m in \u001b[0;36mdrop\u001b[1;34m(self, labels, axis, index, columns, level, inplace, errors)\u001b[0m\n\u001b[0;32m   4911\u001b[0m             \u001b[0mlevel\u001b[0m\u001b[1;33m=\u001b[0m\u001b[0mlevel\u001b[0m\u001b[1;33m,\u001b[0m\u001b[1;33m\u001b[0m\u001b[1;33m\u001b[0m\u001b[0m\n\u001b[0;32m   4912\u001b[0m             \u001b[0minplace\u001b[0m\u001b[1;33m=\u001b[0m\u001b[0minplace\u001b[0m\u001b[1;33m,\u001b[0m\u001b[1;33m\u001b[0m\u001b[1;33m\u001b[0m\u001b[0m\n\u001b[1;32m-> 4913\u001b[1;33m             \u001b[0merrors\u001b[0m\u001b[1;33m=\u001b[0m\u001b[0merrors\u001b[0m\u001b[1;33m,\u001b[0m\u001b[1;33m\u001b[0m\u001b[1;33m\u001b[0m\u001b[0m\n\u001b[0m\u001b[0;32m   4914\u001b[0m         )\n\u001b[0;32m   4915\u001b[0m \u001b[1;33m\u001b[0m\u001b[0m\n",
      "\u001b[1;32m~\\anaconda3\\envs\\mlenv\\lib\\site-packages\\pandas\\core\\generic.py\u001b[0m in \u001b[0;36mdrop\u001b[1;34m(self, labels, axis, index, columns, level, inplace, errors)\u001b[0m\n\u001b[0;32m   4148\u001b[0m         \u001b[1;32mfor\u001b[0m \u001b[0maxis\u001b[0m\u001b[1;33m,\u001b[0m \u001b[0mlabels\u001b[0m \u001b[1;32min\u001b[0m \u001b[0maxes\u001b[0m\u001b[1;33m.\u001b[0m\u001b[0mitems\u001b[0m\u001b[1;33m(\u001b[0m\u001b[1;33m)\u001b[0m\u001b[1;33m:\u001b[0m\u001b[1;33m\u001b[0m\u001b[1;33m\u001b[0m\u001b[0m\n\u001b[0;32m   4149\u001b[0m             \u001b[1;32mif\u001b[0m \u001b[0mlabels\u001b[0m \u001b[1;32mis\u001b[0m \u001b[1;32mnot\u001b[0m \u001b[1;32mNone\u001b[0m\u001b[1;33m:\u001b[0m\u001b[1;33m\u001b[0m\u001b[1;33m\u001b[0m\u001b[0m\n\u001b[1;32m-> 4150\u001b[1;33m                 \u001b[0mobj\u001b[0m \u001b[1;33m=\u001b[0m \u001b[0mobj\u001b[0m\u001b[1;33m.\u001b[0m\u001b[0m_drop_axis\u001b[0m\u001b[1;33m(\u001b[0m\u001b[0mlabels\u001b[0m\u001b[1;33m,\u001b[0m \u001b[0maxis\u001b[0m\u001b[1;33m,\u001b[0m \u001b[0mlevel\u001b[0m\u001b[1;33m=\u001b[0m\u001b[0mlevel\u001b[0m\u001b[1;33m,\u001b[0m \u001b[0merrors\u001b[0m\u001b[1;33m=\u001b[0m\u001b[0merrors\u001b[0m\u001b[1;33m)\u001b[0m\u001b[1;33m\u001b[0m\u001b[1;33m\u001b[0m\u001b[0m\n\u001b[0m\u001b[0;32m   4151\u001b[0m \u001b[1;33m\u001b[0m\u001b[0m\n\u001b[0;32m   4152\u001b[0m         \u001b[1;32mif\u001b[0m \u001b[0minplace\u001b[0m\u001b[1;33m:\u001b[0m\u001b[1;33m\u001b[0m\u001b[1;33m\u001b[0m\u001b[0m\n",
      "\u001b[1;32m~\\anaconda3\\envs\\mlenv\\lib\\site-packages\\pandas\\core\\generic.py\u001b[0m in \u001b[0;36m_drop_axis\u001b[1;34m(self, labels, axis, level, errors)\u001b[0m\n\u001b[0;32m   4183\u001b[0m                 \u001b[0mnew_axis\u001b[0m \u001b[1;33m=\u001b[0m \u001b[0maxis\u001b[0m\u001b[1;33m.\u001b[0m\u001b[0mdrop\u001b[0m\u001b[1;33m(\u001b[0m\u001b[0mlabels\u001b[0m\u001b[1;33m,\u001b[0m \u001b[0mlevel\u001b[0m\u001b[1;33m=\u001b[0m\u001b[0mlevel\u001b[0m\u001b[1;33m,\u001b[0m \u001b[0merrors\u001b[0m\u001b[1;33m=\u001b[0m\u001b[0merrors\u001b[0m\u001b[1;33m)\u001b[0m\u001b[1;33m\u001b[0m\u001b[1;33m\u001b[0m\u001b[0m\n\u001b[0;32m   4184\u001b[0m             \u001b[1;32melse\u001b[0m\u001b[1;33m:\u001b[0m\u001b[1;33m\u001b[0m\u001b[1;33m\u001b[0m\u001b[0m\n\u001b[1;32m-> 4185\u001b[1;33m                 \u001b[0mnew_axis\u001b[0m \u001b[1;33m=\u001b[0m \u001b[0maxis\u001b[0m\u001b[1;33m.\u001b[0m\u001b[0mdrop\u001b[0m\u001b[1;33m(\u001b[0m\u001b[0mlabels\u001b[0m\u001b[1;33m,\u001b[0m \u001b[0merrors\u001b[0m\u001b[1;33m=\u001b[0m\u001b[0merrors\u001b[0m\u001b[1;33m)\u001b[0m\u001b[1;33m\u001b[0m\u001b[1;33m\u001b[0m\u001b[0m\n\u001b[0m\u001b[0;32m   4186\u001b[0m             \u001b[0mresult\u001b[0m \u001b[1;33m=\u001b[0m \u001b[0mself\u001b[0m\u001b[1;33m.\u001b[0m\u001b[0mreindex\u001b[0m\u001b[1;33m(\u001b[0m\u001b[1;33m**\u001b[0m\u001b[1;33m{\u001b[0m\u001b[0maxis_name\u001b[0m\u001b[1;33m:\u001b[0m \u001b[0mnew_axis\u001b[0m\u001b[1;33m}\u001b[0m\u001b[1;33m)\u001b[0m\u001b[1;33m\u001b[0m\u001b[1;33m\u001b[0m\u001b[0m\n\u001b[0;32m   4187\u001b[0m \u001b[1;33m\u001b[0m\u001b[0m\n",
      "\u001b[1;32m~\\anaconda3\\envs\\mlenv\\lib\\site-packages\\pandas\\core\\indexes\\base.py\u001b[0m in \u001b[0;36mdrop\u001b[1;34m(self, labels, errors)\u001b[0m\n\u001b[0;32m   6015\u001b[0m         \u001b[1;32mif\u001b[0m \u001b[0mmask\u001b[0m\u001b[1;33m.\u001b[0m\u001b[0many\u001b[0m\u001b[1;33m(\u001b[0m\u001b[1;33m)\u001b[0m\u001b[1;33m:\u001b[0m\u001b[1;33m\u001b[0m\u001b[1;33m\u001b[0m\u001b[0m\n\u001b[0;32m   6016\u001b[0m             \u001b[1;32mif\u001b[0m \u001b[0merrors\u001b[0m \u001b[1;33m!=\u001b[0m \u001b[1;34m\"ignore\"\u001b[0m\u001b[1;33m:\u001b[0m\u001b[1;33m\u001b[0m\u001b[1;33m\u001b[0m\u001b[0m\n\u001b[1;32m-> 6017\u001b[1;33m                 \u001b[1;32mraise\u001b[0m \u001b[0mKeyError\u001b[0m\u001b[1;33m(\u001b[0m\u001b[1;34mf\"{labels[mask]} not found in axis\"\u001b[0m\u001b[1;33m)\u001b[0m\u001b[1;33m\u001b[0m\u001b[1;33m\u001b[0m\u001b[0m\n\u001b[0m\u001b[0;32m   6018\u001b[0m             \u001b[0mindexer\u001b[0m \u001b[1;33m=\u001b[0m \u001b[0mindexer\u001b[0m\u001b[1;33m[\u001b[0m\u001b[1;33m~\u001b[0m\u001b[0mmask\u001b[0m\u001b[1;33m]\u001b[0m\u001b[1;33m\u001b[0m\u001b[1;33m\u001b[0m\u001b[0m\n\u001b[0;32m   6019\u001b[0m         \u001b[1;32mreturn\u001b[0m \u001b[0mself\u001b[0m\u001b[1;33m.\u001b[0m\u001b[0mdelete\u001b[0m\u001b[1;33m(\u001b[0m\u001b[0mindexer\u001b[0m\u001b[1;33m)\u001b[0m\u001b[1;33m\u001b[0m\u001b[1;33m\u001b[0m\u001b[0m\n",
      "\u001b[1;31mKeyError\u001b[0m: \"['id' 'flag_location' 'comments' 'school' 'grade' 'image_url' 'customerid'\\n 'number_old' 'flag_number' 'species_old' 'flag_species'] not found in axis\""
     ]
    }
   ],
   "source": [
    "JNorth_Adult_First_Site_df = pd.DataFrame(JNorth_Adult_First_Site_df)\n",
    "JNorth_Adult_First_Site_df.drop(['id','flag_location', 'comments','school','grade','image_url','customerid','number_old','flag_number','species_old','flag_species'], axis=1, inplace=True)\n",
    "JNorth_Adult_First_Site_df.head()"
   ]
  },
  {
   "cell_type": "code",
   "execution_count": 18,
   "id": "1a6fb766",
   "metadata": {},
   "outputs": [],
   "source": [
    "cols = ['sighting_date', 'species', 'number', 'latitude', 'longitude']"
   ]
  },
  {
   "cell_type": "code",
   "execution_count": 19,
   "id": "7e250a92",
   "metadata": {},
   "outputs": [
    {
     "data": {
      "text/html": [
       "<div>\n",
       "<style scoped>\n",
       "    .dataframe tbody tr th:only-of-type {\n",
       "        vertical-align: middle;\n",
       "    }\n",
       "\n",
       "    .dataframe tbody tr th {\n",
       "        vertical-align: top;\n",
       "    }\n",
       "\n",
       "    .dataframe thead th {\n",
       "        text-align: right;\n",
       "    }\n",
       "</style>\n",
       "<table border=\"1\" class=\"dataframe\">\n",
       "  <thead>\n",
       "    <tr style=\"text-align: right;\">\n",
       "      <th></th>\n",
       "      <th>sighting_date</th>\n",
       "      <th>species</th>\n",
       "      <th>latitude</th>\n",
       "      <th>longitude</th>\n",
       "      <th>number</th>\n",
       "    </tr>\n",
       "  </thead>\n",
       "  <tbody>\n",
       "    <tr>\n",
       "      <th>0</th>\n",
       "      <td>1996-03-26</td>\n",
       "      <td>Monarch Adult Sighted</td>\n",
       "      <td>35.170</td>\n",
       "      <td>-79.396</td>\n",
       "      <td>1</td>\n",
       "    </tr>\n",
       "    <tr>\n",
       "      <th>1</th>\n",
       "      <td>1996-06-16</td>\n",
       "      <td>Monarch Adult Sighted</td>\n",
       "      <td>44.957</td>\n",
       "      <td>-93.540</td>\n",
       "      <td>1</td>\n",
       "    </tr>\n",
       "    <tr>\n",
       "      <th>2</th>\n",
       "      <td>1996-09-21</td>\n",
       "      <td>Monarch Adult Sighted</td>\n",
       "      <td>40.817</td>\n",
       "      <td>-96.710</td>\n",
       "      <td>2</td>\n",
       "    </tr>\n",
       "    <tr>\n",
       "      <th>3</th>\n",
       "      <td>1996-12-06</td>\n",
       "      <td>Monarch Adult Sighted</td>\n",
       "      <td>30.420</td>\n",
       "      <td>-87.224</td>\n",
       "      <td>1</td>\n",
       "    </tr>\n",
       "    <tr>\n",
       "      <th>4</th>\n",
       "      <td>1996-12-16</td>\n",
       "      <td>Monarch Adult Sighted</td>\n",
       "      <td>27.594</td>\n",
       "      <td>-81.362</td>\n",
       "      <td>1</td>\n",
       "    </tr>\n",
       "  </tbody>\n",
       "</table>\n",
       "</div>"
      ],
      "text/plain": [
       "  sighting_date                species  latitude  longitude  number\n",
       "0    1996-03-26  Monarch Adult Sighted    35.170    -79.396       1\n",
       "1    1996-06-16  Monarch Adult Sighted    44.957    -93.540       1\n",
       "2    1996-09-21  Monarch Adult Sighted    40.817    -96.710       2\n",
       "3    1996-12-06  Monarch Adult Sighted    30.420    -87.224       1\n",
       "4    1996-12-16  Monarch Adult Sighted    27.594    -81.362       1"
      ]
     },
     "execution_count": 19,
     "metadata": {},
     "output_type": "execute_result"
    }
   ],
   "source": [
    "JNorth_Adult_First_Site_df =JNorth_Adult_First_Site_df.groupby(['sighting_date', 'species', 'latitude', 'longitude']).sum().reset_index()\n",
    "JNorth_Adult_First_Site_df.head()"
   ]
  },
  {
   "cell_type": "code",
   "execution_count": 20,
   "id": "baed4881",
   "metadata": {},
   "outputs": [
    {
     "data": {
      "text/plain": [
       "['sighting_date', 'species', 'latitude', 'longitude', 'number']"
      ]
     },
     "execution_count": 20,
     "metadata": {},
     "output_type": "execute_result"
    }
   ],
   "source": [
    "JNorth_Adult_First_Site_df.columns.tolist()"
   ]
  },
  {
   "cell_type": "code",
   "execution_count": 21,
   "id": "0414e769",
   "metadata": {},
   "outputs": [
    {
     "data": {
      "text/html": [
       "<div>\n",
       "<style scoped>\n",
       "    .dataframe tbody tr th:only-of-type {\n",
       "        vertical-align: middle;\n",
       "    }\n",
       "\n",
       "    .dataframe tbody tr th {\n",
       "        vertical-align: top;\n",
       "    }\n",
       "\n",
       "    .dataframe thead th {\n",
       "        text-align: right;\n",
       "    }\n",
       "</style>\n",
       "<table border=\"1\" class=\"dataframe\">\n",
       "  <thead>\n",
       "    <tr style=\"text-align: right;\">\n",
       "      <th></th>\n",
       "      <th>sighting_date</th>\n",
       "      <th>species</th>\n",
       "      <th>latitude</th>\n",
       "      <th>longitude</th>\n",
       "      <th>number</th>\n",
       "    </tr>\n",
       "  </thead>\n",
       "  <tbody>\n",
       "    <tr>\n",
       "      <th>0</th>\n",
       "      <td>1996-03-26</td>\n",
       "      <td>Monarch Adult Sighted</td>\n",
       "      <td>35.170</td>\n",
       "      <td>-79.396</td>\n",
       "      <td>1</td>\n",
       "    </tr>\n",
       "    <tr>\n",
       "      <th>1</th>\n",
       "      <td>1996-06-16</td>\n",
       "      <td>Monarch Adult Sighted</td>\n",
       "      <td>44.957</td>\n",
       "      <td>-93.540</td>\n",
       "      <td>1</td>\n",
       "    </tr>\n",
       "    <tr>\n",
       "      <th>2</th>\n",
       "      <td>1996-09-21</td>\n",
       "      <td>Monarch Adult Sighted</td>\n",
       "      <td>40.817</td>\n",
       "      <td>-96.710</td>\n",
       "      <td>2</td>\n",
       "    </tr>\n",
       "    <tr>\n",
       "      <th>3</th>\n",
       "      <td>1996-12-06</td>\n",
       "      <td>Monarch Adult Sighted</td>\n",
       "      <td>30.420</td>\n",
       "      <td>-87.224</td>\n",
       "      <td>1</td>\n",
       "    </tr>\n",
       "    <tr>\n",
       "      <th>4</th>\n",
       "      <td>1996-12-16</td>\n",
       "      <td>Monarch Adult Sighted</td>\n",
       "      <td>27.594</td>\n",
       "      <td>-81.362</td>\n",
       "      <td>1</td>\n",
       "    </tr>\n",
       "  </tbody>\n",
       "</table>\n",
       "</div>"
      ],
      "text/plain": [
       "  sighting_date                species  latitude  longitude  number\n",
       "0    1996-03-26  Monarch Adult Sighted    35.170    -79.396       1\n",
       "1    1996-06-16  Monarch Adult Sighted    44.957    -93.540       1\n",
       "2    1996-09-21  Monarch Adult Sighted    40.817    -96.710       2\n",
       "3    1996-12-06  Monarch Adult Sighted    30.420    -87.224       1\n",
       "4    1996-12-16  Monarch Adult Sighted    27.594    -81.362       1"
      ]
     },
     "execution_count": 21,
     "metadata": {},
     "output_type": "execute_result"
    }
   ],
   "source": [
    "JNorth_Adult_First_Site_df.head()"
   ]
  },
  {
   "cell_type": "code",
   "execution_count": 22,
   "id": "1be947ec",
   "metadata": {},
   "outputs": [
    {
     "data": {
      "text/plain": [
       "(98258, 5)"
      ]
     },
     "execution_count": 22,
     "metadata": {},
     "output_type": "execute_result"
    }
   ],
   "source": [
    "JNorth_Adult_First_Site_df.shape"
   ]
  },
  {
   "cell_type": "code",
   "execution_count": 23,
   "id": "bb6146d3",
   "metadata": {},
   "outputs": [],
   "source": [
    "JNorth_Adult_First_Site_year_df = JNorth_Adult_First_Site_df\n",
    "JNorth_Adult_First_Site_year_df['year'] = pd.DatetimeIndex(JNorth_Adult_First_Site_df['sighting_date']).year"
   ]
  },
  {
   "cell_type": "markdown",
   "id": "fb164498",
   "metadata": {},
   "source": [
    "# 2011"
   ]
  },
  {
   "cell_type": "code",
   "execution_count": 24,
   "id": "213c99b0",
   "metadata": {},
   "outputs": [
    {
     "data": {
      "text/html": [
       "<div>\n",
       "<style scoped>\n",
       "    .dataframe tbody tr th:only-of-type {\n",
       "        vertical-align: middle;\n",
       "    }\n",
       "\n",
       "    .dataframe tbody tr th {\n",
       "        vertical-align: top;\n",
       "    }\n",
       "\n",
       "    .dataframe thead th {\n",
       "        text-align: right;\n",
       "    }\n",
       "</style>\n",
       "<table border=\"1\" class=\"dataframe\">\n",
       "  <thead>\n",
       "    <tr style=\"text-align: right;\">\n",
       "      <th></th>\n",
       "      <th>sighting_date</th>\n",
       "      <th>species</th>\n",
       "      <th>latitude</th>\n",
       "      <th>longitude</th>\n",
       "      <th>number</th>\n",
       "      <th>year</th>\n",
       "    </tr>\n",
       "  </thead>\n",
       "  <tbody>\n",
       "    <tr>\n",
       "      <th>8960</th>\n",
       "      <td>2011-12-29</td>\n",
       "      <td>Monarch Adult Sighted</td>\n",
       "      <td>29.990</td>\n",
       "      <td>-90.255</td>\n",
       "      <td>2</td>\n",
       "      <td>2011</td>\n",
       "    </tr>\n",
       "    <tr>\n",
       "      <th>8961</th>\n",
       "      <td>2011-12-29</td>\n",
       "      <td>Monarch Adult Sighted</td>\n",
       "      <td>30.340</td>\n",
       "      <td>-81.831</td>\n",
       "      <td>10</td>\n",
       "      <td>2011</td>\n",
       "    </tr>\n",
       "    <tr>\n",
       "      <th>8962</th>\n",
       "      <td>2011-12-30</td>\n",
       "      <td>Monarch Adult Sighted</td>\n",
       "      <td>26.988</td>\n",
       "      <td>-82.343</td>\n",
       "      <td>25</td>\n",
       "      <td>2011</td>\n",
       "    </tr>\n",
       "    <tr>\n",
       "      <th>8963</th>\n",
       "      <td>2011-12-30</td>\n",
       "      <td>Monarch Adult Sighted</td>\n",
       "      <td>29.957</td>\n",
       "      <td>-90.078</td>\n",
       "      <td>1520</td>\n",
       "      <td>2011</td>\n",
       "    </tr>\n",
       "    <tr>\n",
       "      <th>8964</th>\n",
       "      <td>2011-12-30</td>\n",
       "      <td>Monarch Adult Sighted</td>\n",
       "      <td>34.346</td>\n",
       "      <td>-119.329</td>\n",
       "      <td>2</td>\n",
       "      <td>2011</td>\n",
       "    </tr>\n",
       "  </tbody>\n",
       "</table>\n",
       "</div>"
      ],
      "text/plain": [
       "     sighting_date                species  latitude  longitude  number  year\n",
       "8960    2011-12-29  Monarch Adult Sighted    29.990    -90.255       2  2011\n",
       "8961    2011-12-29  Monarch Adult Sighted    30.340    -81.831      10  2011\n",
       "8962    2011-12-30  Monarch Adult Sighted    26.988    -82.343      25  2011\n",
       "8963    2011-12-30  Monarch Adult Sighted    29.957    -90.078    1520  2011\n",
       "8964    2011-12-30  Monarch Adult Sighted    34.346   -119.329       2  2011"
      ]
     },
     "execution_count": 24,
     "metadata": {},
     "output_type": "execute_result"
    }
   ],
   "source": [
    "JNorth_Adult_First_Site_2011_df = JNorth_Adult_First_Site_year_df[JNorth_Adult_First_Site_year_df['year']==2011]\n",
    "JNorth_Adult_First_Site_2011_df.tail()"
   ]
  },
  {
   "cell_type": "code",
   "execution_count": 25,
   "id": "c271bca8",
   "metadata": {},
   "outputs": [
    {
     "data": {
      "text/plain": [
       "(4087, 6)"
      ]
     },
     "execution_count": 25,
     "metadata": {},
     "output_type": "execute_result"
    }
   ],
   "source": [
    "JNorth_Adult_First_Site_2011_df.shape"
   ]
  },
  {
   "cell_type": "code",
   "execution_count": 26,
   "id": "d8efa4c7",
   "metadata": {},
   "outputs": [
    {
     "name": "stderr",
     "output_type": "stream",
     "text": [
      "C:\\Users\\motte\\anaconda3\\envs\\mlenv\\lib\\site-packages\\pandas\\core\\frame.py:4913: SettingWithCopyWarning: \n",
      "A value is trying to be set on a copy of a slice from a DataFrame\n",
      "\n",
      "See the caveats in the documentation: https://pandas.pydata.org/pandas-docs/stable/user_guide/indexing.html#returning-a-view-versus-a-copy\n",
      "  errors=errors,\n"
     ]
    }
   ],
   "source": [
    "JNorth_Adult_First_Site_2011_df = pd.DataFrame(JNorth_Adult_First_Site_2011_df)\n",
    "JNorth_Adult_First_Site_2011_df.drop(['year'], axis=1, inplace=True)"
   ]
  },
  {
   "cell_type": "code",
   "execution_count": 28,
   "id": "ac4b06bf",
   "metadata": {},
   "outputs": [
    {
     "name": "stderr",
     "output_type": "stream",
     "text": [
      "C:\\Users\\motte\\anaconda3\\envs\\mlenv\\lib\\site-packages\\ipykernel_launcher.py:1: SettingWithCopyWarning: \n",
      "A value is trying to be set on a copy of a slice from a DataFrame.\n",
      "Try using .loc[row_indexer,col_indexer] = value instead\n",
      "\n",
      "See the caveats in the documentation: https://pandas.pydata.org/pandas-docs/stable/user_guide/indexing.html#returning-a-view-versus-a-copy\n",
      "  \"\"\"Entry point for launching an IPython kernel.\n"
     ]
    }
   ],
   "source": [
    "JNorth_Adult_First_Site_2011_df['month'] = pd.DatetimeIndex(JNorth_Adult_First_Site_2011_df['sighting_date']).month"
   ]
  },
  {
   "cell_type": "markdown",
   "id": "e1e014c5",
   "metadata": {},
   "source": [
    "## January"
   ]
  },
  {
   "cell_type": "code",
   "execution_count": 29,
   "id": "4b51587a",
   "metadata": {},
   "outputs": [
    {
     "data": {
      "text/html": [
       "<div>\n",
       "<style scoped>\n",
       "    .dataframe tbody tr th:only-of-type {\n",
       "        vertical-align: middle;\n",
       "    }\n",
       "\n",
       "    .dataframe tbody tr th {\n",
       "        vertical-align: top;\n",
       "    }\n",
       "\n",
       "    .dataframe thead th {\n",
       "        text-align: right;\n",
       "    }\n",
       "</style>\n",
       "<table border=\"1\" class=\"dataframe\">\n",
       "  <thead>\n",
       "    <tr style=\"text-align: right;\">\n",
       "      <th></th>\n",
       "      <th>sighting_date</th>\n",
       "      <th>species</th>\n",
       "      <th>latitude</th>\n",
       "      <th>longitude</th>\n",
       "      <th>number</th>\n",
       "      <th>month</th>\n",
       "    </tr>\n",
       "  </thead>\n",
       "  <tbody>\n",
       "    <tr>\n",
       "      <th>4920</th>\n",
       "      <td>2011-01-30</td>\n",
       "      <td>Monarch Adult Sighted</td>\n",
       "      <td>27.770</td>\n",
       "      <td>-82.637</td>\n",
       "      <td>2</td>\n",
       "      <td>1</td>\n",
       "    </tr>\n",
       "    <tr>\n",
       "      <th>4921</th>\n",
       "      <td>2011-01-30</td>\n",
       "      <td>Monarch Adult Sighted</td>\n",
       "      <td>27.839</td>\n",
       "      <td>-82.715</td>\n",
       "      <td>1</td>\n",
       "      <td>1</td>\n",
       "    </tr>\n",
       "    <tr>\n",
       "      <th>4922</th>\n",
       "      <td>2011-01-30</td>\n",
       "      <td>Monarch Adult Sighted</td>\n",
       "      <td>29.582</td>\n",
       "      <td>-95.038</td>\n",
       "      <td>1</td>\n",
       "      <td>1</td>\n",
       "    </tr>\n",
       "    <tr>\n",
       "      <th>4923</th>\n",
       "      <td>2011-01-30</td>\n",
       "      <td>Monarch Adult Sighted</td>\n",
       "      <td>36.579</td>\n",
       "      <td>-121.832</td>\n",
       "      <td>1</td>\n",
       "      <td>1</td>\n",
       "    </tr>\n",
       "    <tr>\n",
       "      <th>4924</th>\n",
       "      <td>2011-01-31</td>\n",
       "      <td>Monarch Adult Sighted</td>\n",
       "      <td>30.862</td>\n",
       "      <td>-87.712</td>\n",
       "      <td>1</td>\n",
       "      <td>1</td>\n",
       "    </tr>\n",
       "  </tbody>\n",
       "</table>\n",
       "</div>"
      ],
      "text/plain": [
       "     sighting_date                species  latitude  longitude  number  month\n",
       "4920    2011-01-30  Monarch Adult Sighted    27.770    -82.637       2      1\n",
       "4921    2011-01-30  Monarch Adult Sighted    27.839    -82.715       1      1\n",
       "4922    2011-01-30  Monarch Adult Sighted    29.582    -95.038       1      1\n",
       "4923    2011-01-30  Monarch Adult Sighted    36.579   -121.832       1      1\n",
       "4924    2011-01-31  Monarch Adult Sighted    30.862    -87.712       1      1"
      ]
     },
     "execution_count": 29,
     "metadata": {},
     "output_type": "execute_result"
    }
   ],
   "source": [
    "JNorth_Adult_First_Site_2011_month_df =pd.DataFrame(JNorth_Adult_First_Site_2011_df)\n",
    "JNorth_Adult_First_Site_2011_1_df = JNorth_Adult_First_Site_2011_month_df[JNorth_Adult_First_Site_2011_month_df['month']==1]\n",
    "JNorth_Adult_First_Site_2011_1_df.tail()"
   ]
  },
  {
   "cell_type": "code",
   "execution_count": 30,
   "id": "78ffb46c",
   "metadata": {},
   "outputs": [
    {
     "data": {
      "text/plain": [
       "(47, 6)"
      ]
     },
     "execution_count": 30,
     "metadata": {},
     "output_type": "execute_result"
    }
   ],
   "source": [
    "JNorth_Adult_First_Site_2011_1_df.shape"
   ]
  },
  {
   "cell_type": "code",
   "execution_count": 31,
   "id": "0da596a9",
   "metadata": {},
   "outputs": [],
   "source": [
    "JNorth_Adult_First_Site_2011_1_df = pd.DataFrame(JNorth_Adult_First_Site_2011_1_df)\n",
    "JNorth_Adult_First_Site_2011_1_df.drop(['month'], axis=1, inplace=True)"
   ]
  },
  {
   "cell_type": "code",
   "execution_count": 32,
   "id": "b77fbff4",
   "metadata": {},
   "outputs": [],
   "source": [
    "# convert lat-long to floats and change address from ALL CAPS to regular capitalization\n",
    "JNorth_Adult_First_Site_2011_1_df['latitude'] = JNorth_Adult_First_Site_2011_1_df['latitude'].astype(float)\n",
    "JNorth_Adult_First_Site_2011_1_df['longitude'] = JNorth_Adult_First_Site_2011_1_df['longitude'].astype(float)\n",
    "# JNorth_Milkweed_Site_df['street_address'] = JNorth_Milkweed_Site_df['street_address'].str.title()"
   ]
  },
  {
   "cell_type": "code",
   "execution_count": 33,
   "id": "b2d65ff3",
   "metadata": {},
   "outputs": [],
   "source": [
    "geojson = df_to_geojson(JNorth_Adult_First_Site_2011_1_df, cols)"
   ]
  },
  {
   "cell_type": "code",
   "execution_count": 34,
   "id": "7be09d07",
   "metadata": {},
   "outputs": [],
   "source": [
    "file = open(\"JNorth_Adult_First_Site_2011_1.geojson\", \"w\")\n",
    "json.dump(geojson, file, indent =1)\n",
    "file.close()"
   ]
  },
  {
   "cell_type": "markdown",
   "id": "3fbad2ab",
   "metadata": {},
   "source": [
    "## February"
   ]
  },
  {
   "cell_type": "code",
   "execution_count": 35,
   "id": "5884490a",
   "metadata": {},
   "outputs": [
    {
     "data": {
      "text/html": [
       "<div>\n",
       "<style scoped>\n",
       "    .dataframe tbody tr th:only-of-type {\n",
       "        vertical-align: middle;\n",
       "    }\n",
       "\n",
       "    .dataframe tbody tr th {\n",
       "        vertical-align: top;\n",
       "    }\n",
       "\n",
       "    .dataframe thead th {\n",
       "        text-align: right;\n",
       "    }\n",
       "</style>\n",
       "<table border=\"1\" class=\"dataframe\">\n",
       "  <thead>\n",
       "    <tr style=\"text-align: right;\">\n",
       "      <th></th>\n",
       "      <th>sighting_date</th>\n",
       "      <th>species</th>\n",
       "      <th>latitude</th>\n",
       "      <th>longitude</th>\n",
       "      <th>number</th>\n",
       "      <th>month</th>\n",
       "    </tr>\n",
       "  </thead>\n",
       "  <tbody>\n",
       "    <tr>\n",
       "      <th>4956</th>\n",
       "      <td>2011-02-25</td>\n",
       "      <td>Monarch Adult Sighted</td>\n",
       "      <td>28.140</td>\n",
       "      <td>-97.006</td>\n",
       "      <td>1</td>\n",
       "      <td>2</td>\n",
       "    </tr>\n",
       "    <tr>\n",
       "      <th>4957</th>\n",
       "      <td>2011-02-25</td>\n",
       "      <td>Monarch Adult Sighted</td>\n",
       "      <td>36.579</td>\n",
       "      <td>-121.832</td>\n",
       "      <td>1</td>\n",
       "      <td>2</td>\n",
       "    </tr>\n",
       "    <tr>\n",
       "      <th>4958</th>\n",
       "      <td>2011-02-27</td>\n",
       "      <td>Monarch Adult Sighted</td>\n",
       "      <td>29.469</td>\n",
       "      <td>-98.528</td>\n",
       "      <td>1</td>\n",
       "      <td>2</td>\n",
       "    </tr>\n",
       "    <tr>\n",
       "      <th>4959</th>\n",
       "      <td>2011-02-28</td>\n",
       "      <td>Monarch Adult Sighted</td>\n",
       "      <td>26.530</td>\n",
       "      <td>-81.826</td>\n",
       "      <td>1</td>\n",
       "      <td>2</td>\n",
       "    </tr>\n",
       "    <tr>\n",
       "      <th>4960</th>\n",
       "      <td>2011-02-28</td>\n",
       "      <td>Monarch Adult Sighted</td>\n",
       "      <td>29.582</td>\n",
       "      <td>-95.038</td>\n",
       "      <td>1</td>\n",
       "      <td>2</td>\n",
       "    </tr>\n",
       "  </tbody>\n",
       "</table>\n",
       "</div>"
      ],
      "text/plain": [
       "     sighting_date                species  latitude  longitude  number  month\n",
       "4956    2011-02-25  Monarch Adult Sighted    28.140    -97.006       1      2\n",
       "4957    2011-02-25  Monarch Adult Sighted    36.579   -121.832       1      2\n",
       "4958    2011-02-27  Monarch Adult Sighted    29.469    -98.528       1      2\n",
       "4959    2011-02-28  Monarch Adult Sighted    26.530    -81.826       1      2\n",
       "4960    2011-02-28  Monarch Adult Sighted    29.582    -95.038       1      2"
      ]
     },
     "execution_count": 35,
     "metadata": {},
     "output_type": "execute_result"
    }
   ],
   "source": [
    "JNorth_Adult_First_Site_2011_month_df =pd.DataFrame(JNorth_Adult_First_Site_2011_df)\n",
    "JNorth_Adult_First_Site_2011_2_df = JNorth_Adult_First_Site_2011_month_df[JNorth_Adult_First_Site_2011_month_df['month']==2]\n",
    "JNorth_Adult_First_Site_2011_2_df.tail()"
   ]
  },
  {
   "cell_type": "code",
   "execution_count": 36,
   "id": "b42cb926",
   "metadata": {},
   "outputs": [
    {
     "data": {
      "text/plain": [
       "(36, 6)"
      ]
     },
     "execution_count": 36,
     "metadata": {},
     "output_type": "execute_result"
    }
   ],
   "source": [
    "JNorth_Adult_First_Site_2011_2_df.shape"
   ]
  },
  {
   "cell_type": "code",
   "execution_count": 37,
   "id": "b021a9c4",
   "metadata": {},
   "outputs": [],
   "source": [
    "JNorth_Adult_First_Site_2011_2_df= pd.DataFrame(JNorth_Adult_First_Site_2011_2_df)\n",
    "JNorth_Adult_First_Site_2011_2_df.drop(['month'], axis=1, inplace=True)"
   ]
  },
  {
   "cell_type": "code",
   "execution_count": 38,
   "id": "9281836d",
   "metadata": {},
   "outputs": [],
   "source": [
    "# convert lat-long to floats and change address from ALL CAPS to regular capitalization\n",
    "JNorth_Adult_First_Site_2011_2_df['latitude'] = JNorth_Adult_First_Site_2011_2_df['latitude'].astype(float)\n",
    "JNorth_Adult_First_Site_2011_2_df['longitude'] = JNorth_Adult_First_Site_2011_2_df['longitude'].astype(float)\n",
    "# JNorth_Milkweed_Site_df['street_address'] = JNorth_Milkweed_Site_df['street_address'].str.title()"
   ]
  },
  {
   "cell_type": "code",
   "execution_count": 39,
   "id": "a8b965ac",
   "metadata": {},
   "outputs": [],
   "source": [
    "geojson = df_to_geojson(JNorth_Adult_First_Site_2011_2_df, cols)"
   ]
  },
  {
   "cell_type": "code",
   "execution_count": 40,
   "id": "ccc6a687",
   "metadata": {},
   "outputs": [],
   "source": [
    "file = open(\"JNorth_Adult_First_Site_2011_2.geojson\", \"w\")\n",
    "json.dump(geojson, file, indent =1)\n",
    "file.close()"
   ]
  },
  {
   "cell_type": "markdown",
   "id": "f58b04b3",
   "metadata": {},
   "source": [
    "## March"
   ]
  },
  {
   "cell_type": "code",
   "execution_count": 41,
   "id": "a8ef2f5b",
   "metadata": {},
   "outputs": [
    {
     "data": {
      "text/html": [
       "<div>\n",
       "<style scoped>\n",
       "    .dataframe tbody tr th:only-of-type {\n",
       "        vertical-align: middle;\n",
       "    }\n",
       "\n",
       "    .dataframe tbody tr th {\n",
       "        vertical-align: top;\n",
       "    }\n",
       "\n",
       "    .dataframe thead th {\n",
       "        text-align: right;\n",
       "    }\n",
       "</style>\n",
       "<table border=\"1\" class=\"dataframe\">\n",
       "  <thead>\n",
       "    <tr style=\"text-align: right;\">\n",
       "      <th></th>\n",
       "      <th>sighting_date</th>\n",
       "      <th>species</th>\n",
       "      <th>latitude</th>\n",
       "      <th>longitude</th>\n",
       "      <th>number</th>\n",
       "      <th>month</th>\n",
       "    </tr>\n",
       "  </thead>\n",
       "  <tbody>\n",
       "    <tr>\n",
       "      <th>4965</th>\n",
       "      <td>2011-03-05</td>\n",
       "      <td>Monarch Adult Sighted</td>\n",
       "      <td>36.579</td>\n",
       "      <td>-121.832</td>\n",
       "      <td>1</td>\n",
       "      <td>3</td>\n",
       "    </tr>\n",
       "    <tr>\n",
       "      <th>4966</th>\n",
       "      <td>2011-03-10</td>\n",
       "      <td>Monarch Adult Sighted</td>\n",
       "      <td>33.451</td>\n",
       "      <td>-112.069</td>\n",
       "      <td>1</td>\n",
       "      <td>3</td>\n",
       "    </tr>\n",
       "    <tr>\n",
       "      <th>4967</th>\n",
       "      <td>2011-03-12</td>\n",
       "      <td>Monarch Adult Sighted</td>\n",
       "      <td>35.221</td>\n",
       "      <td>-120.635</td>\n",
       "      <td>1</td>\n",
       "      <td>3</td>\n",
       "    </tr>\n",
       "    <tr>\n",
       "      <th>4968</th>\n",
       "      <td>2011-03-12</td>\n",
       "      <td>Monarch Adult Sighted</td>\n",
       "      <td>36.579</td>\n",
       "      <td>-121.832</td>\n",
       "      <td>1</td>\n",
       "      <td>3</td>\n",
       "    </tr>\n",
       "    <tr>\n",
       "      <th>4969</th>\n",
       "      <td>2011-03-18</td>\n",
       "      <td>Monarch Adult Sighted</td>\n",
       "      <td>35.221</td>\n",
       "      <td>-120.635</td>\n",
       "      <td>1</td>\n",
       "      <td>3</td>\n",
       "    </tr>\n",
       "  </tbody>\n",
       "</table>\n",
       "</div>"
      ],
      "text/plain": [
       "     sighting_date                species  latitude  longitude  number  month\n",
       "4965    2011-03-05  Monarch Adult Sighted    36.579   -121.832       1      3\n",
       "4966    2011-03-10  Monarch Adult Sighted    33.451   -112.069       1      3\n",
       "4967    2011-03-12  Monarch Adult Sighted    35.221   -120.635       1      3\n",
       "4968    2011-03-12  Monarch Adult Sighted    36.579   -121.832       1      3\n",
       "4969    2011-03-18  Monarch Adult Sighted    35.221   -120.635       1      3"
      ]
     },
     "execution_count": 41,
     "metadata": {},
     "output_type": "execute_result"
    }
   ],
   "source": [
    "JNorth_Adult_First_Site_2011_month_df =pd.DataFrame(JNorth_Adult_First_Site_2011_df)\n",
    "JNorth_Adult_First_Site_2011_3_df = JNorth_Adult_First_Site_2011_month_df[JNorth_Adult_First_Site_2011_month_df['month']==3]\n",
    "JNorth_Adult_First_Site_2011_3_df.tail()"
   ]
  },
  {
   "cell_type": "code",
   "execution_count": 42,
   "id": "ce7f1737",
   "metadata": {},
   "outputs": [
    {
     "data": {
      "text/plain": [
       "(9, 6)"
      ]
     },
     "execution_count": 42,
     "metadata": {},
     "output_type": "execute_result"
    }
   ],
   "source": [
    "JNorth_Adult_First_Site_2011_3_df.shape"
   ]
  },
  {
   "cell_type": "code",
   "execution_count": 43,
   "id": "7a38c9f2",
   "metadata": {},
   "outputs": [],
   "source": [
    "JNorth_Adult_First_Site_2011_3_df =pd.DataFrame(JNorth_Adult_First_Site_2011_3_df)\n",
    "JNorth_Adult_First_Site_2011_3_df.drop(['month'], axis=1, inplace=True)"
   ]
  },
  {
   "cell_type": "code",
   "execution_count": 44,
   "id": "03245c40",
   "metadata": {},
   "outputs": [],
   "source": [
    "# convert lat-long to floats and change address from ALL CAPS to regular capitalization\n",
    "JNorth_Adult_First_Site_2011_3_df['latitude'] = JNorth_Adult_First_Site_2011_3_df['latitude'].astype(float)\n",
    "JNorth_Adult_First_Site_2011_3_df['longitude'] = JNorth_Adult_First_Site_2011_3_df['longitude'].astype(float)\n",
    "# JNorth_Milkweed_Site_df['street_address'] = JNorth_Milkweed_Site_df['street_address'].str.title()"
   ]
  },
  {
   "cell_type": "code",
   "execution_count": 45,
   "id": "bc9bad5b",
   "metadata": {},
   "outputs": [],
   "source": [
    "geojson = df_to_geojson(JNorth_Adult_First_Site_2011_3_df, cols)"
   ]
  },
  {
   "cell_type": "code",
   "execution_count": 46,
   "id": "336f0947",
   "metadata": {},
   "outputs": [],
   "source": [
    "file = open(\"JNorth_Adult_First_Site_2011_3.geojson\", \"w\")\n",
    "json.dump(geojson, file, indent =1)\n",
    "file.close()"
   ]
  },
  {
   "cell_type": "markdown",
   "id": "b5a4169d",
   "metadata": {},
   "source": [
    "## April"
   ]
  },
  {
   "cell_type": "code",
   "execution_count": 47,
   "id": "e1676dcb",
   "metadata": {},
   "outputs": [
    {
     "data": {
      "text/html": [
       "<div>\n",
       "<style scoped>\n",
       "    .dataframe tbody tr th:only-of-type {\n",
       "        vertical-align: middle;\n",
       "    }\n",
       "\n",
       "    .dataframe tbody tr th {\n",
       "        vertical-align: top;\n",
       "    }\n",
       "\n",
       "    .dataframe thead th {\n",
       "        text-align: right;\n",
       "    }\n",
       "</style>\n",
       "<table border=\"1\" class=\"dataframe\">\n",
       "  <thead>\n",
       "    <tr style=\"text-align: right;\">\n",
       "      <th></th>\n",
       "      <th>sighting_date</th>\n",
       "      <th>species</th>\n",
       "      <th>latitude</th>\n",
       "      <th>longitude</th>\n",
       "      <th>number</th>\n",
       "      <th>month</th>\n",
       "    </tr>\n",
       "  </thead>\n",
       "  <tbody>\n",
       "    <tr>\n",
       "      <th>4970</th>\n",
       "      <td>2011-04-02</td>\n",
       "      <td>Monarch Adult Sighted</td>\n",
       "      <td>31.918</td>\n",
       "      <td>-81.024</td>\n",
       "      <td>1</td>\n",
       "      <td>4</td>\n",
       "    </tr>\n",
       "    <tr>\n",
       "      <th>4971</th>\n",
       "      <td>2011-04-07</td>\n",
       "      <td>Monarch Adult Sighted</td>\n",
       "      <td>19.557</td>\n",
       "      <td>-155.966</td>\n",
       "      <td>1</td>\n",
       "      <td>4</td>\n",
       "    </tr>\n",
       "    <tr>\n",
       "      <th>4972</th>\n",
       "      <td>2011-04-15</td>\n",
       "      <td>Monarch Adult Sighted</td>\n",
       "      <td>32.641</td>\n",
       "      <td>-107.068</td>\n",
       "      <td>3</td>\n",
       "      <td>4</td>\n",
       "    </tr>\n",
       "  </tbody>\n",
       "</table>\n",
       "</div>"
      ],
      "text/plain": [
       "     sighting_date                species  latitude  longitude  number  month\n",
       "4970    2011-04-02  Monarch Adult Sighted    31.918    -81.024       1      4\n",
       "4971    2011-04-07  Monarch Adult Sighted    19.557   -155.966       1      4\n",
       "4972    2011-04-15  Monarch Adult Sighted    32.641   -107.068       3      4"
      ]
     },
     "execution_count": 47,
     "metadata": {},
     "output_type": "execute_result"
    }
   ],
   "source": [
    "JNorth_Adult_First_Site_2011_month_df =pd.DataFrame(JNorth_Adult_First_Site_2011_df)\n",
    "JNorth_Adult_First_Site_2011_4_df = JNorth_Adult_First_Site_2011_month_df[JNorth_Adult_First_Site_2011_month_df['month']==4]\n",
    "JNorth_Adult_First_Site_2011_4_df.tail()"
   ]
  },
  {
   "cell_type": "code",
   "execution_count": 48,
   "id": "24530093",
   "metadata": {},
   "outputs": [
    {
     "data": {
      "text/plain": [
       "(3, 6)"
      ]
     },
     "execution_count": 48,
     "metadata": {},
     "output_type": "execute_result"
    }
   ],
   "source": [
    "JNorth_Adult_First_Site_2011_4_df.shape"
   ]
  },
  {
   "cell_type": "code",
   "execution_count": 49,
   "id": "a57f5b9b",
   "metadata": {},
   "outputs": [],
   "source": [
    "JNorth_Adult_First_Site_2011_4_df = pd.DataFrame(JNorth_Adult_First_Site_2011_4_df)\n",
    "JNorth_Adult_First_Site_2011_4_df.drop(['month'], axis=1, inplace=True)"
   ]
  },
  {
   "cell_type": "code",
   "execution_count": 50,
   "id": "fed7891d",
   "metadata": {},
   "outputs": [],
   "source": [
    "# convert lat-long to floats and change address from ALL CAPS to regular capitalization\n",
    "JNorth_Adult_First_Site_2011_4_df['latitude'] = JNorth_Adult_First_Site_2011_4_df['latitude'].astype(float)\n",
    "JNorth_Adult_First_Site_2011_4_df['longitude'] = JNorth_Adult_First_Site_2011_4_df['longitude'].astype(float)\n",
    "# JNorth_Milkweed_Site_df['street_address'] = JNorth_Milkweed_Site_df['street_address'].str.title()"
   ]
  },
  {
   "cell_type": "code",
   "execution_count": 51,
   "id": "8676718c",
   "metadata": {},
   "outputs": [],
   "source": [
    "geojson = df_to_geojson(JNorth_Adult_First_Site_2011_4_df, cols)"
   ]
  },
  {
   "cell_type": "code",
   "execution_count": 52,
   "id": "e4c13f3c",
   "metadata": {},
   "outputs": [],
   "source": [
    "file = open(\"JNorth_Adult_First_Site_2011_4.geojson\", \"w\")\n",
    "json.dump(geojson, file, indent =1)\n",
    "file.close()"
   ]
  },
  {
   "cell_type": "markdown",
   "id": "ecb6189f",
   "metadata": {},
   "source": [
    "## May"
   ]
  },
  {
   "cell_type": "code",
   "execution_count": 53,
   "id": "e8654b2f",
   "metadata": {},
   "outputs": [
    {
     "data": {
      "text/html": [
       "<div>\n",
       "<style scoped>\n",
       "    .dataframe tbody tr th:only-of-type {\n",
       "        vertical-align: middle;\n",
       "    }\n",
       "\n",
       "    .dataframe tbody tr th {\n",
       "        vertical-align: top;\n",
       "    }\n",
       "\n",
       "    .dataframe thead th {\n",
       "        text-align: right;\n",
       "    }\n",
       "</style>\n",
       "<table border=\"1\" class=\"dataframe\">\n",
       "  <thead>\n",
       "    <tr style=\"text-align: right;\">\n",
       "      <th></th>\n",
       "      <th>sighting_date</th>\n",
       "      <th>species</th>\n",
       "      <th>latitude</th>\n",
       "      <th>longitude</th>\n",
       "      <th>number</th>\n",
       "      <th>month</th>\n",
       "    </tr>\n",
       "  </thead>\n",
       "  <tbody>\n",
       "    <tr>\n",
       "      <th>4973</th>\n",
       "      <td>2011-05-15</td>\n",
       "      <td>Monarch Adult Sighted</td>\n",
       "      <td>33.846</td>\n",
       "      <td>-118.01</td>\n",
       "      <td>1</td>\n",
       "      <td>5</td>\n",
       "    </tr>\n",
       "  </tbody>\n",
       "</table>\n",
       "</div>"
      ],
      "text/plain": [
       "     sighting_date                species  latitude  longitude  number  month\n",
       "4973    2011-05-15  Monarch Adult Sighted    33.846    -118.01       1      5"
      ]
     },
     "execution_count": 53,
     "metadata": {},
     "output_type": "execute_result"
    }
   ],
   "source": [
    "JNorth_Adult_First_Site_2011_month_df =pd.DataFrame(JNorth_Adult_First_Site_2011_df)\n",
    "JNorth_Adult_First_Site_2011_5_df = JNorth_Adult_First_Site_2011_month_df[JNorth_Adult_First_Site_2011_month_df['month']==5]\n",
    "JNorth_Adult_First_Site_2011_5_df.tail()"
   ]
  },
  {
   "cell_type": "code",
   "execution_count": 54,
   "id": "60d8eb59",
   "metadata": {},
   "outputs": [
    {
     "data": {
      "text/plain": [
       "(1, 6)"
      ]
     },
     "execution_count": 54,
     "metadata": {},
     "output_type": "execute_result"
    }
   ],
   "source": [
    "JNorth_Adult_First_Site_2011_5_df.shape"
   ]
  },
  {
   "cell_type": "code",
   "execution_count": 55,
   "id": "73bb7166",
   "metadata": {},
   "outputs": [],
   "source": [
    "JNorth_Adult_First_Site_2011_5_df =pd.DataFrame(JNorth_Adult_First_Site_2011_5_df)\n",
    "JNorth_Adult_First_Site_2011_5_df.drop(['month'], axis=1, inplace=True)"
   ]
  },
  {
   "cell_type": "code",
   "execution_count": 56,
   "id": "6ec1381b",
   "metadata": {},
   "outputs": [],
   "source": [
    "# convert lat-long to floats and change address from ALL CAPS to regular capitalization\n",
    "JNorth_Adult_First_Site_2011_5_df['latitude'] = JNorth_Adult_First_Site_2011_5_df['latitude'].astype(float)\n",
    "JNorth_Adult_First_Site_2011_5_df['longitude'] = JNorth_Adult_First_Site_2011_5_df['longitude'].astype(float)\n",
    "# JNorth_Milkweed_Site_df['street_address'] = JNorth_Milkweed_Site_df['street_address'].str.title()"
   ]
  },
  {
   "cell_type": "code",
   "execution_count": 57,
   "id": "eb6b3375",
   "metadata": {},
   "outputs": [],
   "source": [
    "geojson = df_to_geojson(JNorth_Adult_First_Site_2011_5_df, cols)"
   ]
  },
  {
   "cell_type": "code",
   "execution_count": 58,
   "id": "e38d605b",
   "metadata": {},
   "outputs": [],
   "source": [
    "file = open(\"JNorth_Adult_First_Site_2011_5.geojson\", \"w\")\n",
    "json.dump(geojson, file, indent =1)\n",
    "file.close()"
   ]
  },
  {
   "cell_type": "markdown",
   "id": "e993c20c",
   "metadata": {},
   "source": [
    "## June"
   ]
  },
  {
   "cell_type": "code",
   "execution_count": 59,
   "id": "03fc48b5",
   "metadata": {},
   "outputs": [
    {
     "data": {
      "text/html": [
       "<div>\n",
       "<style scoped>\n",
       "    .dataframe tbody tr th:only-of-type {\n",
       "        vertical-align: middle;\n",
       "    }\n",
       "\n",
       "    .dataframe tbody tr th {\n",
       "        vertical-align: top;\n",
       "    }\n",
       "\n",
       "    .dataframe thead th {\n",
       "        text-align: right;\n",
       "    }\n",
       "</style>\n",
       "<table border=\"1\" class=\"dataframe\">\n",
       "  <thead>\n",
       "    <tr style=\"text-align: right;\">\n",
       "      <th></th>\n",
       "      <th>sighting_date</th>\n",
       "      <th>species</th>\n",
       "      <th>latitude</th>\n",
       "      <th>longitude</th>\n",
       "      <th>number</th>\n",
       "      <th>month</th>\n",
       "    </tr>\n",
       "  </thead>\n",
       "  <tbody>\n",
       "  </tbody>\n",
       "</table>\n",
       "</div>"
      ],
      "text/plain": [
       "Empty DataFrame\n",
       "Columns: [sighting_date, species, latitude, longitude, number, month]\n",
       "Index: []"
      ]
     },
     "execution_count": 59,
     "metadata": {},
     "output_type": "execute_result"
    }
   ],
   "source": [
    "JNorth_Adult_First_Site_2011_month_df =pd.DataFrame(JNorth_Adult_First_Site_2011_df)\n",
    "JNorth_Adult_First_Site_2011_6_df = JNorth_Adult_First_Site_2011_month_df[JNorth_Adult_First_Site_2011_month_df['month']==6]\n",
    "JNorth_Adult_First_Site_2011_6_df.tail()"
   ]
  },
  {
   "cell_type": "code",
   "execution_count": 60,
   "id": "a5b0b8ee",
   "metadata": {},
   "outputs": [
    {
     "data": {
      "text/plain": [
       "(0, 6)"
      ]
     },
     "execution_count": 60,
     "metadata": {},
     "output_type": "execute_result"
    }
   ],
   "source": [
    "JNorth_Adult_First_Site_2011_6_df.shape"
   ]
  },
  {
   "cell_type": "code",
   "execution_count": 61,
   "id": "c92eb8b8",
   "metadata": {},
   "outputs": [],
   "source": [
    "JNorth_Adult_First_Site_2011_6_df=pd.DataFrame(JNorth_Adult_First_Site_2011_6_df)\n",
    "JNorth_Adult_First_Site_2011_6_df.drop(['month'], axis=1, inplace=True)"
   ]
  },
  {
   "cell_type": "code",
   "execution_count": 62,
   "id": "0652626f",
   "metadata": {},
   "outputs": [],
   "source": [
    "# convert lat-long to floats and change address from ALL CAPS to regular capitalization\n",
    "JNorth_Adult_First_Site_2011_6_df['latitude'] = JNorth_Adult_First_Site_2011_6_df['latitude'].astype(float)\n",
    "JNorth_Adult_First_Site_2011_6_df['longitude'] = JNorth_Adult_First_Site_2011_6_df['longitude'].astype(float)\n",
    "# JNorth_Milkweed_Site_df['street_address'] = JNorth_Milkweed_Site_df['street_address'].str.title()"
   ]
  },
  {
   "cell_type": "code",
   "execution_count": 63,
   "id": "d99099a1",
   "metadata": {},
   "outputs": [],
   "source": [
    "geojson = df_to_geojson(JNorth_Adult_First_Site_2011_6_df, cols)"
   ]
  },
  {
   "cell_type": "code",
   "execution_count": 64,
   "id": "52c13f18",
   "metadata": {},
   "outputs": [],
   "source": [
    "file = open(\"JNorth_Adult_First_Site_2011_6.geojson\", \"w\")\n",
    "json.dump(geojson, file, indent =1)\n",
    "file.close()"
   ]
  },
  {
   "cell_type": "markdown",
   "id": "8893271b",
   "metadata": {},
   "source": [
    "## July"
   ]
  },
  {
   "cell_type": "code",
   "execution_count": 65,
   "id": "a78f1523",
   "metadata": {},
   "outputs": [
    {
     "data": {
      "text/html": [
       "<div>\n",
       "<style scoped>\n",
       "    .dataframe tbody tr th:only-of-type {\n",
       "        vertical-align: middle;\n",
       "    }\n",
       "\n",
       "    .dataframe tbody tr th {\n",
       "        vertical-align: top;\n",
       "    }\n",
       "\n",
       "    .dataframe thead th {\n",
       "        text-align: right;\n",
       "    }\n",
       "</style>\n",
       "<table border=\"1\" class=\"dataframe\">\n",
       "  <thead>\n",
       "    <tr style=\"text-align: right;\">\n",
       "      <th></th>\n",
       "      <th>sighting_date</th>\n",
       "      <th>species</th>\n",
       "      <th>latitude</th>\n",
       "      <th>longitude</th>\n",
       "      <th>number</th>\n",
       "      <th>month</th>\n",
       "    </tr>\n",
       "  </thead>\n",
       "  <tbody>\n",
       "    <tr>\n",
       "      <th>4976</th>\n",
       "      <td>2011-07-20</td>\n",
       "      <td>Monarch Adult Sighted</td>\n",
       "      <td>40.880</td>\n",
       "      <td>-73.004</td>\n",
       "      <td>1</td>\n",
       "      <td>7</td>\n",
       "    </tr>\n",
       "    <tr>\n",
       "      <th>4977</th>\n",
       "      <td>2011-07-22</td>\n",
       "      <td>Monarch Adult Sighted</td>\n",
       "      <td>36.736</td>\n",
       "      <td>-105.476</td>\n",
       "      <td>1</td>\n",
       "      <td>7</td>\n",
       "    </tr>\n",
       "    <tr>\n",
       "      <th>4978</th>\n",
       "      <td>2011-07-23</td>\n",
       "      <td>Monarch Adult Sighted</td>\n",
       "      <td>44.850</td>\n",
       "      <td>-65.300</td>\n",
       "      <td>1</td>\n",
       "      <td>7</td>\n",
       "    </tr>\n",
       "    <tr>\n",
       "      <th>4979</th>\n",
       "      <td>2011-07-29</td>\n",
       "      <td>Monarch Adult Sighted</td>\n",
       "      <td>44.856</td>\n",
       "      <td>-92.249</td>\n",
       "      <td>1</td>\n",
       "      <td>7</td>\n",
       "    </tr>\n",
       "    <tr>\n",
       "      <th>4980</th>\n",
       "      <td>2011-07-31</td>\n",
       "      <td>Monarch Adult Sighted</td>\n",
       "      <td>44.420</td>\n",
       "      <td>-69.724</td>\n",
       "      <td>1</td>\n",
       "      <td>7</td>\n",
       "    </tr>\n",
       "  </tbody>\n",
       "</table>\n",
       "</div>"
      ],
      "text/plain": [
       "     sighting_date                species  latitude  longitude  number  month\n",
       "4976    2011-07-20  Monarch Adult Sighted    40.880    -73.004       1      7\n",
       "4977    2011-07-22  Monarch Adult Sighted    36.736   -105.476       1      7\n",
       "4978    2011-07-23  Monarch Adult Sighted    44.850    -65.300       1      7\n",
       "4979    2011-07-29  Monarch Adult Sighted    44.856    -92.249       1      7\n",
       "4980    2011-07-31  Monarch Adult Sighted    44.420    -69.724       1      7"
      ]
     },
     "execution_count": 65,
     "metadata": {},
     "output_type": "execute_result"
    }
   ],
   "source": [
    "JNorth_Adult_First_Site_2011_month_df =pd.DataFrame(JNorth_Adult_First_Site_2011_df)\n",
    "JNorth_Adult_First_Site_2011_7_df = JNorth_Adult_First_Site_2011_month_df[JNorth_Adult_First_Site_2011_month_df['month']==7]\n",
    "JNorth_Adult_First_Site_2011_7_df.tail()"
   ]
  },
  {
   "cell_type": "code",
   "execution_count": 66,
   "id": "cf793498",
   "metadata": {},
   "outputs": [
    {
     "data": {
      "text/plain": [
       "(7, 6)"
      ]
     },
     "execution_count": 66,
     "metadata": {},
     "output_type": "execute_result"
    }
   ],
   "source": [
    "JNorth_Adult_First_Site_2011_7_df.shape"
   ]
  },
  {
   "cell_type": "code",
   "execution_count": 67,
   "id": "0a11df25",
   "metadata": {},
   "outputs": [],
   "source": [
    "JNorth_Adult_First_Site_2011_7_df = pd.DataFrame(JNorth_Adult_First_Site_2011_7_df)\n",
    "JNorth_Adult_First_Site_2011_7_df.drop(['month'], axis=1, inplace=True)"
   ]
  },
  {
   "cell_type": "code",
   "execution_count": 68,
   "id": "547dffdc",
   "metadata": {},
   "outputs": [],
   "source": [
    "# convert lat-long to floats and change address from ALL CAPS to regular capitalization\n",
    "JNorth_Adult_First_Site_2011_7_df['latitude'] = JNorth_Adult_First_Site_2011_7_df['latitude'].astype(float)\n",
    "JNorth_Adult_First_Site_2011_7_df['longitude'] = JNorth_Adult_First_Site_2011_7_df['longitude'].astype(float)\n",
    "# JNorth_Milkweed_Site_df['street_address'] = JNorth_Milkweed_Site_df['street_address'].str.title()"
   ]
  },
  {
   "cell_type": "code",
   "execution_count": 69,
   "id": "9b8a01c4",
   "metadata": {},
   "outputs": [],
   "source": [
    "geojson = df_to_geojson(JNorth_Adult_First_Site_2011_7_df, cols)"
   ]
  },
  {
   "cell_type": "code",
   "execution_count": 70,
   "id": "7ede518a",
   "metadata": {},
   "outputs": [],
   "source": [
    "file = open(\"JNorth_Adult_First_Site_2011_7.geojson\", \"w\")\n",
    "json.dump(geojson, file, indent =1)\n",
    "file.close()"
   ]
  },
  {
   "cell_type": "markdown",
   "id": "510976eb",
   "metadata": {},
   "source": [
    "## August"
   ]
  },
  {
   "cell_type": "code",
   "execution_count": 71,
   "id": "3dd621e6",
   "metadata": {},
   "outputs": [
    {
     "data": {
      "text/html": [
       "<div>\n",
       "<style scoped>\n",
       "    .dataframe tbody tr th:only-of-type {\n",
       "        vertical-align: middle;\n",
       "    }\n",
       "\n",
       "    .dataframe tbody tr th {\n",
       "        vertical-align: top;\n",
       "    }\n",
       "\n",
       "    .dataframe thead th {\n",
       "        text-align: right;\n",
       "    }\n",
       "</style>\n",
       "<table border=\"1\" class=\"dataframe\">\n",
       "  <thead>\n",
       "    <tr style=\"text-align: right;\">\n",
       "      <th></th>\n",
       "      <th>sighting_date</th>\n",
       "      <th>species</th>\n",
       "      <th>latitude</th>\n",
       "      <th>longitude</th>\n",
       "      <th>number</th>\n",
       "      <th>month</th>\n",
       "    </tr>\n",
       "  </thead>\n",
       "  <tbody>\n",
       "    <tr>\n",
       "      <th>5565</th>\n",
       "      <td>2011-08-31</td>\n",
       "      <td>Monarch Adult Sighted</td>\n",
       "      <td>44.547</td>\n",
       "      <td>-103.721</td>\n",
       "      <td>1</td>\n",
       "      <td>8</td>\n",
       "    </tr>\n",
       "    <tr>\n",
       "      <th>5566</th>\n",
       "      <td>2011-08-31</td>\n",
       "      <td>Monarch Adult Sighted</td>\n",
       "      <td>44.902</td>\n",
       "      <td>-93.288</td>\n",
       "      <td>30</td>\n",
       "      <td>8</td>\n",
       "    </tr>\n",
       "    <tr>\n",
       "      <th>5567</th>\n",
       "      <td>2011-08-31</td>\n",
       "      <td>Monarch Adult Sighted</td>\n",
       "      <td>46.924</td>\n",
       "      <td>-96.714</td>\n",
       "      <td>10</td>\n",
       "      <td>8</td>\n",
       "    </tr>\n",
       "    <tr>\n",
       "      <th>5568</th>\n",
       "      <td>2011-08-31</td>\n",
       "      <td>Monarch Adult Sighted</td>\n",
       "      <td>47.112</td>\n",
       "      <td>-91.857</td>\n",
       "      <td>5</td>\n",
       "      <td>8</td>\n",
       "    </tr>\n",
       "    <tr>\n",
       "      <th>5569</th>\n",
       "      <td>2011-08-31</td>\n",
       "      <td>Monarch Adult Sighted</td>\n",
       "      <td>48.061</td>\n",
       "      <td>-101.422</td>\n",
       "      <td>1</td>\n",
       "      <td>8</td>\n",
       "    </tr>\n",
       "  </tbody>\n",
       "</table>\n",
       "</div>"
      ],
      "text/plain": [
       "     sighting_date                species  latitude  longitude  number  month\n",
       "5565    2011-08-31  Monarch Adult Sighted    44.547   -103.721       1      8\n",
       "5566    2011-08-31  Monarch Adult Sighted    44.902    -93.288      30      8\n",
       "5567    2011-08-31  Monarch Adult Sighted    46.924    -96.714      10      8\n",
       "5568    2011-08-31  Monarch Adult Sighted    47.112    -91.857       5      8\n",
       "5569    2011-08-31  Monarch Adult Sighted    48.061   -101.422       1      8"
      ]
     },
     "execution_count": 71,
     "metadata": {},
     "output_type": "execute_result"
    }
   ],
   "source": [
    "JNorth_Adult_First_Site_2011_month_df =pd.DataFrame(JNorth_Adult_First_Site_2011_df)\n",
    "JNorth_Adult_First_Site_2011_8_df = JNorth_Adult_First_Site_2011_month_df[JNorth_Adult_First_Site_2011_month_df['month']==8]\n",
    "JNorth_Adult_First_Site_2011_8_df.tail()"
   ]
  },
  {
   "cell_type": "code",
   "execution_count": 72,
   "id": "d1145a4b",
   "metadata": {},
   "outputs": [
    {
     "data": {
      "text/plain": [
       "(589, 6)"
      ]
     },
     "execution_count": 72,
     "metadata": {},
     "output_type": "execute_result"
    }
   ],
   "source": [
    "JNorth_Adult_First_Site_2011_8_df.shape"
   ]
  },
  {
   "cell_type": "code",
   "execution_count": 73,
   "id": "e7da4bd8",
   "metadata": {},
   "outputs": [],
   "source": [
    "JNorth_Adult_First_Site_2011_8_df = pd.DataFrame(JNorth_Adult_First_Site_2011_8_df)\n",
    "JNorth_Adult_First_Site_2011_8_df.drop(['month'], axis=1, inplace=True)"
   ]
  },
  {
   "cell_type": "code",
   "execution_count": 74,
   "id": "ce6fb27f",
   "metadata": {},
   "outputs": [],
   "source": [
    "# convert lat-long to floats and change address from ALL CAPS to regular capitalization\n",
    "JNorth_Adult_First_Site_2011_8_df['latitude'] = JNorth_Adult_First_Site_2011_8_df['latitude'].astype(float)\n",
    "JNorth_Adult_First_Site_2011_8_df['longitude'] = JNorth_Adult_First_Site_2011_8_df['longitude'].astype(float)\n",
    "# JNorth_Milkweed_Site_df['street_address'] = JNorth_Milkweed_Site_df['street_address'].str.title()"
   ]
  },
  {
   "cell_type": "code",
   "execution_count": 75,
   "id": "3c4ab342",
   "metadata": {},
   "outputs": [],
   "source": [
    "geojson = df_to_geojson(JNorth_Adult_First_Site_2011_8_df, cols)"
   ]
  },
  {
   "cell_type": "code",
   "execution_count": 76,
   "id": "3ead16ab",
   "metadata": {},
   "outputs": [],
   "source": [
    "file = open(\"JNorth_Adult_First_Site_2011_8.geojson\", \"w\")\n",
    "json.dump(geojson, file, indent =1)\n",
    "file.close()"
   ]
  },
  {
   "cell_type": "markdown",
   "id": "ecbd125e",
   "metadata": {},
   "source": [
    "## September"
   ]
  },
  {
   "cell_type": "code",
   "execution_count": 77,
   "id": "8c0ed9a5",
   "metadata": {},
   "outputs": [
    {
     "data": {
      "text/html": [
       "<div>\n",
       "<style scoped>\n",
       "    .dataframe tbody tr th:only-of-type {\n",
       "        vertical-align: middle;\n",
       "    }\n",
       "\n",
       "    .dataframe tbody tr th {\n",
       "        vertical-align: top;\n",
       "    }\n",
       "\n",
       "    .dataframe thead th {\n",
       "        text-align: right;\n",
       "    }\n",
       "</style>\n",
       "<table border=\"1\" class=\"dataframe\">\n",
       "  <thead>\n",
       "    <tr style=\"text-align: right;\">\n",
       "      <th></th>\n",
       "      <th>sighting_date</th>\n",
       "      <th>species</th>\n",
       "      <th>latitude</th>\n",
       "      <th>longitude</th>\n",
       "      <th>number</th>\n",
       "      <th>month</th>\n",
       "    </tr>\n",
       "  </thead>\n",
       "  <tbody>\n",
       "    <tr>\n",
       "      <th>7199</th>\n",
       "      <td>2011-09-30</td>\n",
       "      <td>Monarch Adult Sighted</td>\n",
       "      <td>44.300</td>\n",
       "      <td>-77.950</td>\n",
       "      <td>4</td>\n",
       "      <td>9</td>\n",
       "    </tr>\n",
       "    <tr>\n",
       "      <th>7200</th>\n",
       "      <td>2011-09-30</td>\n",
       "      <td>Monarch Adult Sighted</td>\n",
       "      <td>44.591</td>\n",
       "      <td>-69.343</td>\n",
       "      <td>1</td>\n",
       "      <td>9</td>\n",
       "    </tr>\n",
       "    <tr>\n",
       "      <th>7201</th>\n",
       "      <td>2011-09-30</td>\n",
       "      <td>Monarch Adult Sighted</td>\n",
       "      <td>44.800</td>\n",
       "      <td>-79.717</td>\n",
       "      <td>1</td>\n",
       "      <td>9</td>\n",
       "    </tr>\n",
       "    <tr>\n",
       "      <th>7202</th>\n",
       "      <td>2011-09-30</td>\n",
       "      <td>Monarch Adult Sighted</td>\n",
       "      <td>44.823</td>\n",
       "      <td>-70.340</td>\n",
       "      <td>1</td>\n",
       "      <td>9</td>\n",
       "    </tr>\n",
       "    <tr>\n",
       "      <th>7203</th>\n",
       "      <td>2011-09-30</td>\n",
       "      <td>Monarch Adult Sighted</td>\n",
       "      <td>44.845</td>\n",
       "      <td>-70.379</td>\n",
       "      <td>1</td>\n",
       "      <td>9</td>\n",
       "    </tr>\n",
       "  </tbody>\n",
       "</table>\n",
       "</div>"
      ],
      "text/plain": [
       "     sighting_date                species  latitude  longitude  number  month\n",
       "7199    2011-09-30  Monarch Adult Sighted    44.300    -77.950       4      9\n",
       "7200    2011-09-30  Monarch Adult Sighted    44.591    -69.343       1      9\n",
       "7201    2011-09-30  Monarch Adult Sighted    44.800    -79.717       1      9\n",
       "7202    2011-09-30  Monarch Adult Sighted    44.823    -70.340       1      9\n",
       "7203    2011-09-30  Monarch Adult Sighted    44.845    -70.379       1      9"
      ]
     },
     "execution_count": 77,
     "metadata": {},
     "output_type": "execute_result"
    }
   ],
   "source": [
    "JNorth_Adult_First_Site_2011_month_df =pd.DataFrame(JNorth_Adult_First_Site_2011_df)\n",
    "JNorth_Adult_First_Site_2011_9_df = JNorth_Adult_First_Site_2011_month_df[JNorth_Adult_First_Site_2011_month_df['month']==9]\n",
    "JNorth_Adult_First_Site_2011_9_df.tail()"
   ]
  },
  {
   "cell_type": "code",
   "execution_count": 78,
   "id": "4ca17692",
   "metadata": {},
   "outputs": [
    {
     "data": {
      "text/plain": [
       "(1634, 6)"
      ]
     },
     "execution_count": 78,
     "metadata": {},
     "output_type": "execute_result"
    }
   ],
   "source": [
    "JNorth_Adult_First_Site_2011_9_df.shape"
   ]
  },
  {
   "cell_type": "code",
   "execution_count": 79,
   "id": "a486ee81",
   "metadata": {},
   "outputs": [],
   "source": [
    "JNorth_Adult_First_Site_2011_9_df = pd.DataFrame(JNorth_Adult_First_Site_2011_9_df)\n",
    "JNorth_Adult_First_Site_2011_9_df.drop(['month'], axis=1, inplace=True)"
   ]
  },
  {
   "cell_type": "code",
   "execution_count": 80,
   "id": "2ed76410",
   "metadata": {},
   "outputs": [],
   "source": [
    "# convert lat-long to floats and change address from ALL CAPS to regular capitalization\n",
    "JNorth_Adult_First_Site_2011_9_df['latitude'] = JNorth_Adult_First_Site_2011_9_df['latitude'].astype(float)\n",
    "JNorth_Adult_First_Site_2011_9_df['longitude'] = JNorth_Adult_First_Site_2011_9_df['longitude'].astype(float)\n",
    "# JNorth_Milkweed_Site_df['street_address'] = JNorth_Milkweed_Site_df['street_address'].str.title()"
   ]
  },
  {
   "cell_type": "code",
   "execution_count": 81,
   "id": "153962db",
   "metadata": {},
   "outputs": [],
   "source": [
    "geojson = df_to_geojson(JNorth_Adult_First_Site_2011_9_df, cols)"
   ]
  },
  {
   "cell_type": "code",
   "execution_count": 82,
   "id": "f7e3dccf",
   "metadata": {},
   "outputs": [],
   "source": [
    "file = open(\"JNorth_Adult_First_Site_2011_9.geojson\", \"w\")\n",
    "json.dump(geojson, file, indent =1)\n",
    "file.close()"
   ]
  },
  {
   "cell_type": "markdown",
   "id": "eea9348c",
   "metadata": {},
   "source": [
    "## October"
   ]
  },
  {
   "cell_type": "code",
   "execution_count": 83,
   "id": "df23ee0d",
   "metadata": {},
   "outputs": [
    {
     "data": {
      "text/html": [
       "<div>\n",
       "<style scoped>\n",
       "    .dataframe tbody tr th:only-of-type {\n",
       "        vertical-align: middle;\n",
       "    }\n",
       "\n",
       "    .dataframe tbody tr th {\n",
       "        vertical-align: top;\n",
       "    }\n",
       "\n",
       "    .dataframe thead th {\n",
       "        text-align: right;\n",
       "    }\n",
       "</style>\n",
       "<table border=\"1\" class=\"dataframe\">\n",
       "  <thead>\n",
       "    <tr style=\"text-align: right;\">\n",
       "      <th></th>\n",
       "      <th>sighting_date</th>\n",
       "      <th>species</th>\n",
       "      <th>latitude</th>\n",
       "      <th>longitude</th>\n",
       "      <th>number</th>\n",
       "      <th>month</th>\n",
       "    </tr>\n",
       "  </thead>\n",
       "  <tbody>\n",
       "    <tr>\n",
       "      <th>8635</th>\n",
       "      <td>2011-10-31</td>\n",
       "      <td>Monarch Adult Sighted</td>\n",
       "      <td>36.070</td>\n",
       "      <td>-79.766</td>\n",
       "      <td>1</td>\n",
       "      <td>10</td>\n",
       "    </tr>\n",
       "    <tr>\n",
       "      <th>8636</th>\n",
       "      <td>2011-10-31</td>\n",
       "      <td>Monarch Adult Sighted</td>\n",
       "      <td>39.114</td>\n",
       "      <td>-74.821</td>\n",
       "      <td>1</td>\n",
       "      <td>10</td>\n",
       "    </tr>\n",
       "    <tr>\n",
       "      <th>8637</th>\n",
       "      <td>2011-10-31</td>\n",
       "      <td>Monarch Adult Sighted</td>\n",
       "      <td>39.255</td>\n",
       "      <td>-74.608</td>\n",
       "      <td>6</td>\n",
       "      <td>10</td>\n",
       "    </tr>\n",
       "    <tr>\n",
       "      <th>8638</th>\n",
       "      <td>2011-10-31</td>\n",
       "      <td>Monarch Adult Sighted</td>\n",
       "      <td>43.316</td>\n",
       "      <td>-73.935</td>\n",
       "      <td>1</td>\n",
       "      <td>10</td>\n",
       "    </tr>\n",
       "    <tr>\n",
       "      <th>8639</th>\n",
       "      <td>2011-10-31</td>\n",
       "      <td>Monarch Adult Sighted</td>\n",
       "      <td>43.900</td>\n",
       "      <td>-79.133</td>\n",
       "      <td>1</td>\n",
       "      <td>10</td>\n",
       "    </tr>\n",
       "  </tbody>\n",
       "</table>\n",
       "</div>"
      ],
      "text/plain": [
       "     sighting_date                species  latitude  longitude  number  month\n",
       "8635    2011-10-31  Monarch Adult Sighted    36.070    -79.766       1     10\n",
       "8636    2011-10-31  Monarch Adult Sighted    39.114    -74.821       1     10\n",
       "8637    2011-10-31  Monarch Adult Sighted    39.255    -74.608       6     10\n",
       "8638    2011-10-31  Monarch Adult Sighted    43.316    -73.935       1     10\n",
       "8639    2011-10-31  Monarch Adult Sighted    43.900    -79.133       1     10"
      ]
     },
     "execution_count": 83,
     "metadata": {},
     "output_type": "execute_result"
    }
   ],
   "source": [
    "JNorth_Adult_First_Site_2011_month_df =pd.DataFrame(JNorth_Adult_First_Site_2011_df)\n",
    "JNorth_Adult_First_Site_2011_10_df = JNorth_Adult_First_Site_2011_month_df[JNorth_Adult_First_Site_2011_month_df['month']==10]\n",
    "JNorth_Adult_First_Site_2011_10_df.tail()"
   ]
  },
  {
   "cell_type": "code",
   "execution_count": 84,
   "id": "67f5288a",
   "metadata": {},
   "outputs": [
    {
     "data": {
      "text/plain": [
       "(1436, 6)"
      ]
     },
     "execution_count": 84,
     "metadata": {},
     "output_type": "execute_result"
    }
   ],
   "source": [
    "JNorth_Adult_First_Site_2011_10_df.shape"
   ]
  },
  {
   "cell_type": "code",
   "execution_count": 85,
   "id": "a1fb31eb",
   "metadata": {},
   "outputs": [],
   "source": [
    "JNorth_Adult_First_Site_2011_10_df = pd.DataFrame(JNorth_Adult_First_Site_2011_10_df)\n",
    "JNorth_Adult_First_Site_2011_10_df.drop(['month'], axis=1, inplace=True)"
   ]
  },
  {
   "cell_type": "code",
   "execution_count": 86,
   "id": "cc6ee857",
   "metadata": {},
   "outputs": [],
   "source": [
    "# convert lat-long to floats and change address from ALL CAPS to regular capitalization\n",
    "JNorth_Adult_First_Site_2011_10_df['latitude'] = JNorth_Adult_First_Site_2011_10_df['latitude'].astype(float)\n",
    "JNorth_Adult_First_Site_2011_10_df['longitude'] = JNorth_Adult_First_Site_2011_10_df['longitude'].astype(float)\n",
    "# JNorth_Milkweed_Site_df['street_address'] = JNorth_Milkweed_Site_df['street_address'].str.title()"
   ]
  },
  {
   "cell_type": "code",
   "execution_count": 87,
   "id": "712beae1",
   "metadata": {},
   "outputs": [],
   "source": [
    "geojson = df_to_geojson(JNorth_Adult_First_Site_2011_10_df, cols)"
   ]
  },
  {
   "cell_type": "code",
   "execution_count": 88,
   "id": "808cb382",
   "metadata": {},
   "outputs": [],
   "source": [
    "file = open(\"JNorth_Adult_First_Site_2011_10.geojson\", \"w\")\n",
    "json.dump(geojson, file, indent =1)\n",
    "file.close()"
   ]
  },
  {
   "cell_type": "markdown",
   "id": "196b7f94",
   "metadata": {},
   "source": [
    "## November"
   ]
  },
  {
   "cell_type": "code",
   "execution_count": 89,
   "id": "8ddf9ecb",
   "metadata": {},
   "outputs": [
    {
     "data": {
      "text/html": [
       "<div>\n",
       "<style scoped>\n",
       "    .dataframe tbody tr th:only-of-type {\n",
       "        vertical-align: middle;\n",
       "    }\n",
       "\n",
       "    .dataframe tbody tr th {\n",
       "        vertical-align: top;\n",
       "    }\n",
       "\n",
       "    .dataframe thead th {\n",
       "        text-align: right;\n",
       "    }\n",
       "</style>\n",
       "<table border=\"1\" class=\"dataframe\">\n",
       "  <thead>\n",
       "    <tr style=\"text-align: right;\">\n",
       "      <th></th>\n",
       "      <th>sighting_date</th>\n",
       "      <th>species</th>\n",
       "      <th>latitude</th>\n",
       "      <th>longitude</th>\n",
       "      <th>number</th>\n",
       "      <th>month</th>\n",
       "    </tr>\n",
       "  </thead>\n",
       "  <tbody>\n",
       "    <tr>\n",
       "      <th>8918</th>\n",
       "      <td>2011-11-29</td>\n",
       "      <td>Monarch Adult Sighted</td>\n",
       "      <td>29.887</td>\n",
       "      <td>-97.830</td>\n",
       "      <td>1</td>\n",
       "      <td>11</td>\n",
       "    </tr>\n",
       "    <tr>\n",
       "      <th>8919</th>\n",
       "      <td>2011-11-29</td>\n",
       "      <td>Monarch Adult Sighted</td>\n",
       "      <td>37.072</td>\n",
       "      <td>-76.478</td>\n",
       "      <td>1</td>\n",
       "      <td>11</td>\n",
       "    </tr>\n",
       "    <tr>\n",
       "      <th>8920</th>\n",
       "      <td>2011-11-30</td>\n",
       "      <td>Monarch Adult Sighted</td>\n",
       "      <td>28.233</td>\n",
       "      <td>-97.019</td>\n",
       "      <td>50</td>\n",
       "      <td>11</td>\n",
       "    </tr>\n",
       "    <tr>\n",
       "      <th>8921</th>\n",
       "      <td>2011-11-30</td>\n",
       "      <td>Monarch Adult Sighted</td>\n",
       "      <td>29.582</td>\n",
       "      <td>-95.038</td>\n",
       "      <td>5</td>\n",
       "      <td>11</td>\n",
       "    </tr>\n",
       "    <tr>\n",
       "      <th>8922</th>\n",
       "      <td>2011-11-30</td>\n",
       "      <td>Monarch Adult Sighted</td>\n",
       "      <td>29.635</td>\n",
       "      <td>-95.635</td>\n",
       "      <td>1</td>\n",
       "      <td>11</td>\n",
       "    </tr>\n",
       "  </tbody>\n",
       "</table>\n",
       "</div>"
      ],
      "text/plain": [
       "     sighting_date                species  latitude  longitude  number  month\n",
       "8918    2011-11-29  Monarch Adult Sighted    29.887    -97.830       1     11\n",
       "8919    2011-11-29  Monarch Adult Sighted    37.072    -76.478       1     11\n",
       "8920    2011-11-30  Monarch Adult Sighted    28.233    -97.019      50     11\n",
       "8921    2011-11-30  Monarch Adult Sighted    29.582    -95.038       5     11\n",
       "8922    2011-11-30  Monarch Adult Sighted    29.635    -95.635       1     11"
      ]
     },
     "execution_count": 89,
     "metadata": {},
     "output_type": "execute_result"
    }
   ],
   "source": [
    "JNorth_Adult_First_Site_2011_month_df =pd.DataFrame(JNorth_Adult_First_Site_2011_df)\n",
    "JNorth_Adult_First_Site_2011_11_df = JNorth_Adult_First_Site_2011_month_df[JNorth_Adult_First_Site_2011_month_df['month']==11]\n",
    "JNorth_Adult_First_Site_2011_11_df.tail()"
   ]
  },
  {
   "cell_type": "code",
   "execution_count": 90,
   "id": "ad68049a",
   "metadata": {},
   "outputs": [
    {
     "data": {
      "text/plain": [
       "(283, 6)"
      ]
     },
     "execution_count": 90,
     "metadata": {},
     "output_type": "execute_result"
    }
   ],
   "source": [
    "JNorth_Adult_First_Site_2011_11_df.shape"
   ]
  },
  {
   "cell_type": "code",
   "execution_count": 91,
   "id": "b4c89154",
   "metadata": {},
   "outputs": [],
   "source": [
    "JNorth_Adult_First_Site_2011_11_df = pd.DataFrame(JNorth_Adult_First_Site_2011_11_df)\n",
    "JNorth_Adult_First_Site_2011_11_df.drop(['month'], axis=1, inplace=True)"
   ]
  },
  {
   "cell_type": "code",
   "execution_count": 92,
   "id": "d58b4c8b",
   "metadata": {},
   "outputs": [],
   "source": [
    "# convert lat-long to floats and change address from ALL CAPS to regular capitalization\n",
    "JNorth_Adult_First_Site_2011_11_df['latitude'] = JNorth_Adult_First_Site_2011_11_df['latitude'].astype(float)\n",
    "JNorth_Adult_First_Site_2011_11_df['longitude'] = JNorth_Adult_First_Site_2011_11_df['longitude'].astype(float)\n",
    "# JNorth_Milkweed_Site_df['street_address'] = JNorth_Milkweed_Site_df['street_address'].str.title()"
   ]
  },
  {
   "cell_type": "code",
   "execution_count": 93,
   "id": "f699d4b6",
   "metadata": {},
   "outputs": [],
   "source": [
    "geojson = df_to_geojson(JNorth_Adult_First_Site_2011_11_df, cols)"
   ]
  },
  {
   "cell_type": "code",
   "execution_count": 94,
   "id": "834ec4dc",
   "metadata": {},
   "outputs": [],
   "source": [
    "file = open(\"JNorth_Adult_First_Site_2011_11.geojson\", \"w\")\n",
    "json.dump(geojson, file, indent =1)\n",
    "file.close()"
   ]
  },
  {
   "cell_type": "markdown",
   "id": "40c71593",
   "metadata": {},
   "source": [
    "## December"
   ]
  },
  {
   "cell_type": "code",
   "execution_count": 95,
   "id": "6b4b81a1",
   "metadata": {},
   "outputs": [
    {
     "data": {
      "text/html": [
       "<div>\n",
       "<style scoped>\n",
       "    .dataframe tbody tr th:only-of-type {\n",
       "        vertical-align: middle;\n",
       "    }\n",
       "\n",
       "    .dataframe tbody tr th {\n",
       "        vertical-align: top;\n",
       "    }\n",
       "\n",
       "    .dataframe thead th {\n",
       "        text-align: right;\n",
       "    }\n",
       "</style>\n",
       "<table border=\"1\" class=\"dataframe\">\n",
       "  <thead>\n",
       "    <tr style=\"text-align: right;\">\n",
       "      <th></th>\n",
       "      <th>sighting_date</th>\n",
       "      <th>species</th>\n",
       "      <th>latitude</th>\n",
       "      <th>longitude</th>\n",
       "      <th>number</th>\n",
       "      <th>month</th>\n",
       "    </tr>\n",
       "  </thead>\n",
       "  <tbody>\n",
       "    <tr>\n",
       "      <th>8960</th>\n",
       "      <td>2011-12-29</td>\n",
       "      <td>Monarch Adult Sighted</td>\n",
       "      <td>29.990</td>\n",
       "      <td>-90.255</td>\n",
       "      <td>2</td>\n",
       "      <td>12</td>\n",
       "    </tr>\n",
       "    <tr>\n",
       "      <th>8961</th>\n",
       "      <td>2011-12-29</td>\n",
       "      <td>Monarch Adult Sighted</td>\n",
       "      <td>30.340</td>\n",
       "      <td>-81.831</td>\n",
       "      <td>10</td>\n",
       "      <td>12</td>\n",
       "    </tr>\n",
       "    <tr>\n",
       "      <th>8962</th>\n",
       "      <td>2011-12-30</td>\n",
       "      <td>Monarch Adult Sighted</td>\n",
       "      <td>26.988</td>\n",
       "      <td>-82.343</td>\n",
       "      <td>25</td>\n",
       "      <td>12</td>\n",
       "    </tr>\n",
       "    <tr>\n",
       "      <th>8963</th>\n",
       "      <td>2011-12-30</td>\n",
       "      <td>Monarch Adult Sighted</td>\n",
       "      <td>29.957</td>\n",
       "      <td>-90.078</td>\n",
       "      <td>1520</td>\n",
       "      <td>12</td>\n",
       "    </tr>\n",
       "    <tr>\n",
       "      <th>8964</th>\n",
       "      <td>2011-12-30</td>\n",
       "      <td>Monarch Adult Sighted</td>\n",
       "      <td>34.346</td>\n",
       "      <td>-119.329</td>\n",
       "      <td>2</td>\n",
       "      <td>12</td>\n",
       "    </tr>\n",
       "  </tbody>\n",
       "</table>\n",
       "</div>"
      ],
      "text/plain": [
       "     sighting_date                species  latitude  longitude  number  month\n",
       "8960    2011-12-29  Monarch Adult Sighted    29.990    -90.255       2     12\n",
       "8961    2011-12-29  Monarch Adult Sighted    30.340    -81.831      10     12\n",
       "8962    2011-12-30  Monarch Adult Sighted    26.988    -82.343      25     12\n",
       "8963    2011-12-30  Monarch Adult Sighted    29.957    -90.078    1520     12\n",
       "8964    2011-12-30  Monarch Adult Sighted    34.346   -119.329       2     12"
      ]
     },
     "execution_count": 95,
     "metadata": {},
     "output_type": "execute_result"
    }
   ],
   "source": [
    "JNorth_Adult_First_Site_2011_month_df =pd.DataFrame(JNorth_Adult_First_Site_2011_df)\n",
    "JNorth_Adult_First_Site_2011_12_df = JNorth_Adult_First_Site_2011_month_df[JNorth_Adult_First_Site_2011_month_df['month']==12]\n",
    "JNorth_Adult_First_Site_2011_12_df.tail()"
   ]
  },
  {
   "cell_type": "code",
   "execution_count": 96,
   "id": "c4df5f44",
   "metadata": {},
   "outputs": [
    {
     "data": {
      "text/plain": [
       "(42, 6)"
      ]
     },
     "execution_count": 96,
     "metadata": {},
     "output_type": "execute_result"
    }
   ],
   "source": [
    "JNorth_Adult_First_Site_2011_12_df.shape"
   ]
  },
  {
   "cell_type": "code",
   "execution_count": 97,
   "id": "d6ae0a6a",
   "metadata": {},
   "outputs": [],
   "source": [
    "JNorth_Adult_First_Site_2011_12_df = pd.DataFrame(JNorth_Adult_First_Site_2011_12_df)\n",
    "JNorth_Adult_First_Site_2011_12_df.drop(['month'], axis=1, inplace=True)"
   ]
  },
  {
   "cell_type": "code",
   "execution_count": 98,
   "id": "d4152a7f",
   "metadata": {},
   "outputs": [],
   "source": [
    "# convert lat-long to floats and change address from ALL CAPS to regular capitalization\n",
    "JNorth_Adult_First_Site_2011_12_df['latitude'] = JNorth_Adult_First_Site_2011_12_df['latitude'].astype(float)\n",
    "JNorth_Adult_First_Site_2011_12_df['longitude'] = JNorth_Adult_First_Site_2011_12_df['longitude'].astype(float)\n",
    "# JNorth_Milkweed_Site_df['street_address'] = JNorth_Milkweed_Site_df['street_address'].str.title()"
   ]
  },
  {
   "cell_type": "code",
   "execution_count": 99,
   "id": "dd3a5d1f",
   "metadata": {},
   "outputs": [],
   "source": [
    "geojson = df_to_geojson(JNorth_Adult_First_Site_2011_12_df, cols)"
   ]
  },
  {
   "cell_type": "code",
   "execution_count": 100,
   "id": "028f834c",
   "metadata": {},
   "outputs": [],
   "source": [
    "file = open(\"JNorth_Adult_First_Site_2011_12.geojson\", \"w\")\n",
    "json.dump(geojson, file, indent =1)\n",
    "file.close()"
   ]
  },
  {
   "cell_type": "markdown",
   "id": "64ab3e2c",
   "metadata": {},
   "source": [
    "# 2012"
   ]
  },
  {
   "cell_type": "code",
   "execution_count": 101,
   "id": "66b4ab28",
   "metadata": {},
   "outputs": [
    {
     "data": {
      "text/html": [
       "<div>\n",
       "<style scoped>\n",
       "    .dataframe tbody tr th:only-of-type {\n",
       "        vertical-align: middle;\n",
       "    }\n",
       "\n",
       "    .dataframe tbody tr th {\n",
       "        vertical-align: top;\n",
       "    }\n",
       "\n",
       "    .dataframe thead th {\n",
       "        text-align: right;\n",
       "    }\n",
       "</style>\n",
       "<table border=\"1\" class=\"dataframe\">\n",
       "  <thead>\n",
       "    <tr style=\"text-align: right;\">\n",
       "      <th></th>\n",
       "      <th>sighting_date</th>\n",
       "      <th>species</th>\n",
       "      <th>latitude</th>\n",
       "      <th>longitude</th>\n",
       "      <th>number</th>\n",
       "      <th>year</th>\n",
       "    </tr>\n",
       "  </thead>\n",
       "  <tbody>\n",
       "    <tr>\n",
       "      <th>12344</th>\n",
       "      <td>2012-12-26</td>\n",
       "      <td>Monarch Adult Sighted</td>\n",
       "      <td>34.272</td>\n",
       "      <td>-119.231</td>\n",
       "      <td>1</td>\n",
       "      <td>2012</td>\n",
       "    </tr>\n",
       "    <tr>\n",
       "      <th>12345</th>\n",
       "      <td>2012-12-26</td>\n",
       "      <td>Monarch Adult Sighted</td>\n",
       "      <td>34.423</td>\n",
       "      <td>-119.890</td>\n",
       "      <td>1</td>\n",
       "      <td>2012</td>\n",
       "    </tr>\n",
       "    <tr>\n",
       "      <th>12346</th>\n",
       "      <td>2012-12-26</td>\n",
       "      <td>Monarch Adult Sighted</td>\n",
       "      <td>35.132</td>\n",
       "      <td>-120.635</td>\n",
       "      <td>1</td>\n",
       "      <td>2012</td>\n",
       "    </tr>\n",
       "    <tr>\n",
       "      <th>12347</th>\n",
       "      <td>2012-12-26</td>\n",
       "      <td>Monarch Adult Sighted</td>\n",
       "      <td>36.626</td>\n",
       "      <td>-121.930</td>\n",
       "      <td>1</td>\n",
       "      <td>2012</td>\n",
       "    </tr>\n",
       "    <tr>\n",
       "      <th>12348</th>\n",
       "      <td>2012-12-27</td>\n",
       "      <td>Monarch Adult Sighted</td>\n",
       "      <td>37.063</td>\n",
       "      <td>-122.162</td>\n",
       "      <td>7500</td>\n",
       "      <td>2012</td>\n",
       "    </tr>\n",
       "  </tbody>\n",
       "</table>\n",
       "</div>"
      ],
      "text/plain": [
       "      sighting_date                species  latitude  longitude  number  year\n",
       "12344    2012-12-26  Monarch Adult Sighted    34.272   -119.231       1  2012\n",
       "12345    2012-12-26  Monarch Adult Sighted    34.423   -119.890       1  2012\n",
       "12346    2012-12-26  Monarch Adult Sighted    35.132   -120.635       1  2012\n",
       "12347    2012-12-26  Monarch Adult Sighted    36.626   -121.930       1  2012\n",
       "12348    2012-12-27  Monarch Adult Sighted    37.063   -122.162    7500  2012"
      ]
     },
     "execution_count": 101,
     "metadata": {},
     "output_type": "execute_result"
    }
   ],
   "source": [
    "JNorth_Adult_First_Site_2012_df = JNorth_Adult_First_Site_year_df[JNorth_Adult_First_Site_year_df['year']==2012]\n",
    "JNorth_Adult_First_Site_2012_df.tail()"
   ]
  },
  {
   "cell_type": "code",
   "execution_count": 102,
   "id": "27387600",
   "metadata": {},
   "outputs": [
    {
     "data": {
      "text/plain": [
       "(3384, 6)"
      ]
     },
     "execution_count": 102,
     "metadata": {},
     "output_type": "execute_result"
    }
   ],
   "source": [
    "JNorth_Adult_First_Site_2012_df.shape"
   ]
  },
  {
   "cell_type": "code",
   "execution_count": 103,
   "id": "39c22eab",
   "metadata": {},
   "outputs": [],
   "source": [
    "JNorth_Adult_First_Site_2012_df = pd.DataFrame(JNorth_Adult_First_Site_2012_df)\n",
    "JNorth_Adult_First_Site_2012_df.drop(['year'], axis=1, inplace=True)"
   ]
  },
  {
   "cell_type": "code",
   "execution_count": 104,
   "id": "02af16d1",
   "metadata": {},
   "outputs": [
    {
     "data": {
      "text/plain": [
       "<bound method NDFrame.tail of       sighting_date                species  latitude  longitude  number\n",
       "8965     2012-01-01  Monarch Adult Sighted    19.590   -100.264       1\n",
       "8966     2012-01-01  Monarch Adult Sighted    19.670   -100.280       1\n",
       "8967     2012-01-01  Monarch Adult Sighted    27.522    -82.578       1\n",
       "8968     2012-01-01  Monarch Adult Sighted    29.556    -95.726       1\n",
       "8969     2012-01-01  Monarch Adult Sighted    29.757    -95.365       1\n",
       "...             ...                    ...       ...        ...     ...\n",
       "12344    2012-12-26  Monarch Adult Sighted    34.272   -119.231       1\n",
       "12345    2012-12-26  Monarch Adult Sighted    34.423   -119.890       1\n",
       "12346    2012-12-26  Monarch Adult Sighted    35.132   -120.635       1\n",
       "12347    2012-12-26  Monarch Adult Sighted    36.626   -121.930       1\n",
       "12348    2012-12-27  Monarch Adult Sighted    37.063   -122.162    7500\n",
       "\n",
       "[3384 rows x 5 columns]>"
      ]
     },
     "execution_count": 104,
     "metadata": {},
     "output_type": "execute_result"
    }
   ],
   "source": [
    "JNorth_Adult_First_Site_2012_df.tail"
   ]
  },
  {
   "cell_type": "code",
   "execution_count": 105,
   "id": "0638da02",
   "metadata": {},
   "outputs": [],
   "source": [
    "JNorth_Adult_First_Site_2012_df['month'] = pd.DatetimeIndex(JNorth_Adult_First_Site_2012_df['sighting_date']).month"
   ]
  },
  {
   "cell_type": "markdown",
   "id": "44e36e34",
   "metadata": {},
   "source": [
    "## January"
   ]
  },
  {
   "cell_type": "code",
   "execution_count": 106,
   "id": "9086a832",
   "metadata": {},
   "outputs": [
    {
     "data": {
      "text/html": [
       "<div>\n",
       "<style scoped>\n",
       "    .dataframe tbody tr th:only-of-type {\n",
       "        vertical-align: middle;\n",
       "    }\n",
       "\n",
       "    .dataframe tbody tr th {\n",
       "        vertical-align: top;\n",
       "    }\n",
       "\n",
       "    .dataframe thead th {\n",
       "        text-align: right;\n",
       "    }\n",
       "</style>\n",
       "<table border=\"1\" class=\"dataframe\">\n",
       "  <thead>\n",
       "    <tr style=\"text-align: right;\">\n",
       "      <th></th>\n",
       "      <th>sighting_date</th>\n",
       "      <th>species</th>\n",
       "      <th>latitude</th>\n",
       "      <th>longitude</th>\n",
       "      <th>number</th>\n",
       "      <th>month</th>\n",
       "    </tr>\n",
       "  </thead>\n",
       "  <tbody>\n",
       "    <tr>\n",
       "      <th>9076</th>\n",
       "      <td>2012-01-30</td>\n",
       "      <td>Monarch Adult Sighted</td>\n",
       "      <td>33.324</td>\n",
       "      <td>-111.867</td>\n",
       "      <td>1</td>\n",
       "      <td>1</td>\n",
       "    </tr>\n",
       "    <tr>\n",
       "      <th>9077</th>\n",
       "      <td>2012-01-31</td>\n",
       "      <td>Monarch Adult Sighted</td>\n",
       "      <td>29.809</td>\n",
       "      <td>-91.221</td>\n",
       "      <td>1</td>\n",
       "      <td>1</td>\n",
       "    </tr>\n",
       "    <tr>\n",
       "      <th>9078</th>\n",
       "      <td>2012-01-31</td>\n",
       "      <td>Monarch Adult Sighted</td>\n",
       "      <td>29.990</td>\n",
       "      <td>-90.255</td>\n",
       "      <td>1</td>\n",
       "      <td>1</td>\n",
       "    </tr>\n",
       "    <tr>\n",
       "      <th>9079</th>\n",
       "      <td>2012-01-31</td>\n",
       "      <td>Monarch Adult Sighted</td>\n",
       "      <td>32.216</td>\n",
       "      <td>-110.971</td>\n",
       "      <td>1</td>\n",
       "      <td>1</td>\n",
       "    </tr>\n",
       "    <tr>\n",
       "      <th>9080</th>\n",
       "      <td>2012-01-31</td>\n",
       "      <td>Monarch Adult Sighted</td>\n",
       "      <td>33.804</td>\n",
       "      <td>-112.888</td>\n",
       "      <td>1</td>\n",
       "      <td>1</td>\n",
       "    </tr>\n",
       "  </tbody>\n",
       "</table>\n",
       "</div>"
      ],
      "text/plain": [
       "     sighting_date                species  latitude  longitude  number  month\n",
       "9076    2012-01-30  Monarch Adult Sighted    33.324   -111.867       1      1\n",
       "9077    2012-01-31  Monarch Adult Sighted    29.809    -91.221       1      1\n",
       "9078    2012-01-31  Monarch Adult Sighted    29.990    -90.255       1      1\n",
       "9079    2012-01-31  Monarch Adult Sighted    32.216   -110.971       1      1\n",
       "9080    2012-01-31  Monarch Adult Sighted    33.804   -112.888       1      1"
      ]
     },
     "execution_count": 106,
     "metadata": {},
     "output_type": "execute_result"
    }
   ],
   "source": [
    "JNorth_Adult_First_Site_2012_month_df =pd.DataFrame(JNorth_Adult_First_Site_2012_df)\n",
    "JNorth_Adult_First_Site_2012_1_df = JNorth_Adult_First_Site_2012_month_df[JNorth_Adult_First_Site_2012_month_df['month']==1]\n",
    "JNorth_Adult_First_Site_2012_1_df.tail()"
   ]
  },
  {
   "cell_type": "code",
   "execution_count": 107,
   "id": "9e27c140",
   "metadata": {},
   "outputs": [
    {
     "data": {
      "text/plain": [
       "(116, 6)"
      ]
     },
     "execution_count": 107,
     "metadata": {},
     "output_type": "execute_result"
    }
   ],
   "source": [
    "JNorth_Adult_First_Site_2012_1_df.shape"
   ]
  },
  {
   "cell_type": "code",
   "execution_count": 108,
   "id": "b53fb638",
   "metadata": {},
   "outputs": [],
   "source": [
    "JNorth_Adult_First_Site_2012_1_df = pd.DataFrame(JNorth_Adult_First_Site_2012_1_df)\n",
    "JNorth_Adult_First_Site_2012_1_df.drop(['month'], axis=1, inplace=True)"
   ]
  },
  {
   "cell_type": "code",
   "execution_count": 109,
   "id": "314d9a0e",
   "metadata": {},
   "outputs": [],
   "source": [
    "# convert lat-long to floats and change address from ALL CAPS to regular capitalization\n",
    "JNorth_Adult_First_Site_2012_1_df['latitude'] = JNorth_Adult_First_Site_2012_1_df['latitude'].astype(float)\n",
    "JNorth_Adult_First_Site_2012_1_df['longitude'] = JNorth_Adult_First_Site_2012_1_df['longitude'].astype(float)\n",
    "# JNorth_Milkweed_Site_df['street_address'] = JNorth_Milkweed_Site_df['street_address'].str.title()"
   ]
  },
  {
   "cell_type": "code",
   "execution_count": 110,
   "id": "cf406e10",
   "metadata": {},
   "outputs": [],
   "source": [
    "geojson = df_to_geojson(JNorth_Adult_First_Site_2012_1_df, cols)"
   ]
  },
  {
   "cell_type": "code",
   "execution_count": 111,
   "id": "cf076629",
   "metadata": {},
   "outputs": [],
   "source": [
    "file = open(\"JNorth_Adult_First_Site_2012_1.geojson\", \"w\")\n",
    "json.dump(geojson, file, indent =1)\n",
    "file.close()"
   ]
  },
  {
   "cell_type": "markdown",
   "id": "f3c4b9a4",
   "metadata": {},
   "source": [
    "## February"
   ]
  },
  {
   "cell_type": "code",
   "execution_count": 112,
   "id": "89e4afd6",
   "metadata": {},
   "outputs": [
    {
     "data": {
      "text/html": [
       "<div>\n",
       "<style scoped>\n",
       "    .dataframe tbody tr th:only-of-type {\n",
       "        vertical-align: middle;\n",
       "    }\n",
       "\n",
       "    .dataframe tbody tr th {\n",
       "        vertical-align: top;\n",
       "    }\n",
       "\n",
       "    .dataframe thead th {\n",
       "        text-align: right;\n",
       "    }\n",
       "</style>\n",
       "<table border=\"1\" class=\"dataframe\">\n",
       "  <thead>\n",
       "    <tr style=\"text-align: right;\">\n",
       "      <th></th>\n",
       "      <th>sighting_date</th>\n",
       "      <th>species</th>\n",
       "      <th>latitude</th>\n",
       "      <th>longitude</th>\n",
       "      <th>number</th>\n",
       "      <th>month</th>\n",
       "    </tr>\n",
       "  </thead>\n",
       "  <tbody>\n",
       "    <tr>\n",
       "      <th>9114</th>\n",
       "      <td>2012-02-25</td>\n",
       "      <td>Monarch Adult Sighted</td>\n",
       "      <td>10.433</td>\n",
       "      <td>-85.400</td>\n",
       "      <td>1</td>\n",
       "      <td>2</td>\n",
       "    </tr>\n",
       "    <tr>\n",
       "      <th>9115</th>\n",
       "      <td>2012-02-25</td>\n",
       "      <td>Monarch Adult Sighted</td>\n",
       "      <td>29.676</td>\n",
       "      <td>-98.570</td>\n",
       "      <td>1</td>\n",
       "      <td>2</td>\n",
       "    </tr>\n",
       "    <tr>\n",
       "      <th>9116</th>\n",
       "      <td>2012-02-26</td>\n",
       "      <td>Monarch Adult Sighted</td>\n",
       "      <td>27.792</td>\n",
       "      <td>-80.479</td>\n",
       "      <td>1</td>\n",
       "      <td>2</td>\n",
       "    </tr>\n",
       "    <tr>\n",
       "      <th>9117</th>\n",
       "      <td>2012-02-26</td>\n",
       "      <td>Monarch Adult Sighted</td>\n",
       "      <td>29.676</td>\n",
       "      <td>-98.570</td>\n",
       "      <td>1</td>\n",
       "      <td>2</td>\n",
       "    </tr>\n",
       "    <tr>\n",
       "      <th>9118</th>\n",
       "      <td>2012-02-27</td>\n",
       "      <td>Monarch Adult Sighted</td>\n",
       "      <td>29.888</td>\n",
       "      <td>-95.563</td>\n",
       "      <td>1</td>\n",
       "      <td>2</td>\n",
       "    </tr>\n",
       "  </tbody>\n",
       "</table>\n",
       "</div>"
      ],
      "text/plain": [
       "     sighting_date                species  latitude  longitude  number  month\n",
       "9114    2012-02-25  Monarch Adult Sighted    10.433    -85.400       1      2\n",
       "9115    2012-02-25  Monarch Adult Sighted    29.676    -98.570       1      2\n",
       "9116    2012-02-26  Monarch Adult Sighted    27.792    -80.479       1      2\n",
       "9117    2012-02-26  Monarch Adult Sighted    29.676    -98.570       1      2\n",
       "9118    2012-02-27  Monarch Adult Sighted    29.888    -95.563       1      2"
      ]
     },
     "execution_count": 112,
     "metadata": {},
     "output_type": "execute_result"
    }
   ],
   "source": [
    "JNorth_Adult_First_Site_2012_month_df =pd.DataFrame(JNorth_Adult_First_Site_2012_df)\n",
    "JNorth_Adult_First_Site_2012_2_df = JNorth_Adult_First_Site_2012_month_df[JNorth_Adult_First_Site_2012_month_df['month']==2]\n",
    "JNorth_Adult_First_Site_2012_2_df.tail()"
   ]
  },
  {
   "cell_type": "code",
   "execution_count": 113,
   "id": "0e6eeb72",
   "metadata": {},
   "outputs": [
    {
     "data": {
      "text/plain": [
       "(38, 6)"
      ]
     },
     "execution_count": 113,
     "metadata": {},
     "output_type": "execute_result"
    }
   ],
   "source": [
    "JNorth_Adult_First_Site_2012_2_df.shape"
   ]
  },
  {
   "cell_type": "code",
   "execution_count": 114,
   "id": "de099469",
   "metadata": {},
   "outputs": [],
   "source": [
    "JNorth_Adult_First_Site_2012_2_df = pd.DataFrame(JNorth_Adult_First_Site_2012_2_df)\n",
    "JNorth_Adult_First_Site_2012_2_df.drop(['month'], axis=1, inplace=True)"
   ]
  },
  {
   "cell_type": "code",
   "execution_count": 115,
   "id": "a94edae4",
   "metadata": {},
   "outputs": [],
   "source": [
    "# convert lat-long to floats and change address from ALL CAPS to regular capitalization\n",
    "JNorth_Adult_First_Site_2012_2_df['latitude'] = JNorth_Adult_First_Site_2012_2_df['latitude'].astype(float)\n",
    "JNorth_Adult_First_Site_2012_2_df['longitude'] = JNorth_Adult_First_Site_2012_2_df['longitude'].astype(float)\n",
    "# JNorth_Milkweed_Site_df['street_address'] = JNorth_Milkweed_Site_df['street_address'].str.title()"
   ]
  },
  {
   "cell_type": "code",
   "execution_count": 116,
   "id": "3a7a03f0",
   "metadata": {},
   "outputs": [],
   "source": [
    "geojson = df_to_geojson(JNorth_Adult_First_Site_2012_2_df, cols)"
   ]
  },
  {
   "cell_type": "code",
   "execution_count": 117,
   "id": "f5e3b20b",
   "metadata": {},
   "outputs": [],
   "source": [
    "file = open(\"JNorth_Adult_First_Site_2012_2.geojson\", \"w\")\n",
    "json.dump(geojson, file, indent =1)\n",
    "file.close()"
   ]
  },
  {
   "cell_type": "markdown",
   "id": "7e14e69d",
   "metadata": {},
   "source": [
    "## March"
   ]
  },
  {
   "cell_type": "code",
   "execution_count": 118,
   "id": "81e1f20b",
   "metadata": {},
   "outputs": [
    {
     "data": {
      "text/html": [
       "<div>\n",
       "<style scoped>\n",
       "    .dataframe tbody tr th:only-of-type {\n",
       "        vertical-align: middle;\n",
       "    }\n",
       "\n",
       "    .dataframe tbody tr th {\n",
       "        vertical-align: top;\n",
       "    }\n",
       "\n",
       "    .dataframe thead th {\n",
       "        text-align: right;\n",
       "    }\n",
       "</style>\n",
       "<table border=\"1\" class=\"dataframe\">\n",
       "  <thead>\n",
       "    <tr style=\"text-align: right;\">\n",
       "      <th></th>\n",
       "      <th>sighting_date</th>\n",
       "      <th>species</th>\n",
       "      <th>latitude</th>\n",
       "      <th>longitude</th>\n",
       "      <th>number</th>\n",
       "      <th>month</th>\n",
       "    </tr>\n",
       "  </thead>\n",
       "  <tbody>\n",
       "    <tr>\n",
       "      <th>9125</th>\n",
       "      <td>2012-03-15</td>\n",
       "      <td>Monarch Adult Sighted</td>\n",
       "      <td>26.623</td>\n",
       "      <td>-81.883</td>\n",
       "      <td>1</td>\n",
       "      <td>3</td>\n",
       "    </tr>\n",
       "    <tr>\n",
       "      <th>9126</th>\n",
       "      <td>2012-03-16</td>\n",
       "      <td>Monarch Adult Sighted</td>\n",
       "      <td>29.957</td>\n",
       "      <td>-90.078</td>\n",
       "      <td>1</td>\n",
       "      <td>3</td>\n",
       "    </tr>\n",
       "    <tr>\n",
       "      <th>9127</th>\n",
       "      <td>2012-03-18</td>\n",
       "      <td>Monarch Adult Sighted</td>\n",
       "      <td>30.212</td>\n",
       "      <td>-84.357</td>\n",
       "      <td>2</td>\n",
       "      <td>3</td>\n",
       "    </tr>\n",
       "    <tr>\n",
       "      <th>9128</th>\n",
       "      <td>2012-03-19</td>\n",
       "      <td>Monarch Adult Sighted</td>\n",
       "      <td>28.036</td>\n",
       "      <td>-81.928</td>\n",
       "      <td>1</td>\n",
       "      <td>3</td>\n",
       "    </tr>\n",
       "    <tr>\n",
       "      <th>9129</th>\n",
       "      <td>2012-03-21</td>\n",
       "      <td>Monarch Adult Sighted</td>\n",
       "      <td>27.839</td>\n",
       "      <td>-82.715</td>\n",
       "      <td>1</td>\n",
       "      <td>3</td>\n",
       "    </tr>\n",
       "  </tbody>\n",
       "</table>\n",
       "</div>"
      ],
      "text/plain": [
       "     sighting_date                species  latitude  longitude  number  month\n",
       "9125    2012-03-15  Monarch Adult Sighted    26.623    -81.883       1      3\n",
       "9126    2012-03-16  Monarch Adult Sighted    29.957    -90.078       1      3\n",
       "9127    2012-03-18  Monarch Adult Sighted    30.212    -84.357       2      3\n",
       "9128    2012-03-19  Monarch Adult Sighted    28.036    -81.928       1      3\n",
       "9129    2012-03-21  Monarch Adult Sighted    27.839    -82.715       1      3"
      ]
     },
     "execution_count": 118,
     "metadata": {},
     "output_type": "execute_result"
    }
   ],
   "source": [
    "JNorth_Adult_First_Site_2012_month_df =pd.DataFrame(JNorth_Adult_First_Site_2012_df)\n",
    "JNorth_Adult_First_Site_2012_3_df = JNorth_Adult_First_Site_2012_month_df[JNorth_Adult_First_Site_2012_month_df['month']==3]\n",
    "JNorth_Adult_First_Site_2012_3_df.tail()"
   ]
  },
  {
   "cell_type": "code",
   "execution_count": 119,
   "id": "77640de4",
   "metadata": {},
   "outputs": [
    {
     "data": {
      "text/plain": [
       "(11, 6)"
      ]
     },
     "execution_count": 119,
     "metadata": {},
     "output_type": "execute_result"
    }
   ],
   "source": [
    "JNorth_Adult_First_Site_2012_3_df.shape"
   ]
  },
  {
   "cell_type": "code",
   "execution_count": 120,
   "id": "457cb4d6",
   "metadata": {},
   "outputs": [],
   "source": [
    "JNorth_Adult_First_Site_2012_3_df = pd.DataFrame(JNorth_Adult_First_Site_2012_3_df)\n",
    "JNorth_Adult_First_Site_2012_3_df.drop(['month'], axis=1, inplace=True)"
   ]
  },
  {
   "cell_type": "code",
   "execution_count": 121,
   "id": "86206cff",
   "metadata": {},
   "outputs": [],
   "source": [
    "# convert lat-long to floats and change address from ALL CAPS to regular capitalization\n",
    "JNorth_Adult_First_Site_2012_3_df['latitude'] = JNorth_Adult_First_Site_2012_3_df['latitude'].astype(float)\n",
    "JNorth_Adult_First_Site_2012_3_df['longitude'] = JNorth_Adult_First_Site_2012_3_df['longitude'].astype(float)\n",
    "# JNorth_Milkweed_Site_df['street_address'] = JNorth_Milkweed_Site_df['street_address'].str.title()"
   ]
  },
  {
   "cell_type": "code",
   "execution_count": 122,
   "id": "b22c5380",
   "metadata": {},
   "outputs": [],
   "source": [
    "geojson = df_to_geojson(JNorth_Adult_First_Site_2012_3_df, cols)"
   ]
  },
  {
   "cell_type": "code",
   "execution_count": 123,
   "id": "17df86d3",
   "metadata": {},
   "outputs": [],
   "source": [
    "file = open(\"JNorth_Adult_First_Site_2012_3.geojson\", \"w\")\n",
    "json.dump(geojson, file, indent =1)\n",
    "file.close()"
   ]
  },
  {
   "cell_type": "markdown",
   "id": "4a4cedaa",
   "metadata": {},
   "source": [
    "## April"
   ]
  },
  {
   "cell_type": "code",
   "execution_count": 124,
   "id": "73accd48",
   "metadata": {},
   "outputs": [
    {
     "data": {
      "text/html": [
       "<div>\n",
       "<style scoped>\n",
       "    .dataframe tbody tr th:only-of-type {\n",
       "        vertical-align: middle;\n",
       "    }\n",
       "\n",
       "    .dataframe tbody tr th {\n",
       "        vertical-align: top;\n",
       "    }\n",
       "\n",
       "    .dataframe thead th {\n",
       "        text-align: right;\n",
       "    }\n",
       "</style>\n",
       "<table border=\"1\" class=\"dataframe\">\n",
       "  <thead>\n",
       "    <tr style=\"text-align: right;\">\n",
       "      <th></th>\n",
       "      <th>sighting_date</th>\n",
       "      <th>species</th>\n",
       "      <th>latitude</th>\n",
       "      <th>longitude</th>\n",
       "      <th>number</th>\n",
       "      <th>month</th>\n",
       "    </tr>\n",
       "  </thead>\n",
       "  <tbody>\n",
       "  </tbody>\n",
       "</table>\n",
       "</div>"
      ],
      "text/plain": [
       "Empty DataFrame\n",
       "Columns: [sighting_date, species, latitude, longitude, number, month]\n",
       "Index: []"
      ]
     },
     "execution_count": 124,
     "metadata": {},
     "output_type": "execute_result"
    }
   ],
   "source": [
    "JNorth_Adult_First_Site_2012_month_df =pd.DataFrame(JNorth_Adult_First_Site_2012_df)\n",
    "JNorth_Adult_First_Site_2012_4_df = JNorth_Adult_First_Site_2012_month_df[JNorth_Adult_First_Site_2012_month_df['month']==4]\n",
    "JNorth_Adult_First_Site_2012_4_df.tail()"
   ]
  },
  {
   "cell_type": "code",
   "execution_count": 125,
   "id": "72615f10",
   "metadata": {},
   "outputs": [
    {
     "data": {
      "text/plain": [
       "(0, 6)"
      ]
     },
     "execution_count": 125,
     "metadata": {},
     "output_type": "execute_result"
    }
   ],
   "source": [
    "JNorth_Adult_First_Site_2012_4_df.shape"
   ]
  },
  {
   "cell_type": "code",
   "execution_count": 126,
   "id": "bffd7898",
   "metadata": {},
   "outputs": [],
   "source": [
    "JNorth_Adult_First_Site_2012_4_df = pd.DataFrame(JNorth_Adult_First_Site_2012_4_df)\n",
    "JNorth_Adult_First_Site_2012_4_df.drop(['month'], axis=1, inplace=True)"
   ]
  },
  {
   "cell_type": "code",
   "execution_count": 127,
   "id": "b3e14bfa",
   "metadata": {},
   "outputs": [],
   "source": [
    "# convert lat-long to floats and change address from ALL CAPS to regular capitalization\n",
    "JNorth_Adult_First_Site_2012_4_df['latitude'] = JNorth_Adult_First_Site_2012_4_df['latitude'].astype(float)\n",
    "JNorth_Adult_First_Site_2012_4_df['longitude'] = JNorth_Adult_First_Site_2012_4_df['longitude'].astype(float)\n",
    "# JNorth_Milkweed_Site_df['street_address'] = JNorth_Milkweed_Site_df['street_address'].str.title()"
   ]
  },
  {
   "cell_type": "code",
   "execution_count": 128,
   "id": "44604289",
   "metadata": {},
   "outputs": [],
   "source": [
    "geojson = df_to_geojson(JNorth_Adult_First_Site_2012_4_df, cols)"
   ]
  },
  {
   "cell_type": "code",
   "execution_count": 129,
   "id": "04f50b24",
   "metadata": {},
   "outputs": [],
   "source": [
    "file = open(\"JNorth_Adult_First_Site_2012_4.geojson\", \"w\")\n",
    "json.dump(geojson, file, indent =1)\n",
    "file.close()"
   ]
  },
  {
   "cell_type": "markdown",
   "id": "c4b4fad0",
   "metadata": {},
   "source": [
    "## May"
   ]
  },
  {
   "cell_type": "code",
   "execution_count": 130,
   "id": "6febcc70",
   "metadata": {},
   "outputs": [
    {
     "data": {
      "text/html": [
       "<div>\n",
       "<style scoped>\n",
       "    .dataframe tbody tr th:only-of-type {\n",
       "        vertical-align: middle;\n",
       "    }\n",
       "\n",
       "    .dataframe tbody tr th {\n",
       "        vertical-align: top;\n",
       "    }\n",
       "\n",
       "    .dataframe thead th {\n",
       "        text-align: right;\n",
       "    }\n",
       "</style>\n",
       "<table border=\"1\" class=\"dataframe\">\n",
       "  <thead>\n",
       "    <tr style=\"text-align: right;\">\n",
       "      <th></th>\n",
       "      <th>sighting_date</th>\n",
       "      <th>species</th>\n",
       "      <th>latitude</th>\n",
       "      <th>longitude</th>\n",
       "      <th>number</th>\n",
       "      <th>month</th>\n",
       "    </tr>\n",
       "  </thead>\n",
       "  <tbody>\n",
       "    <tr>\n",
       "      <th>9130</th>\n",
       "      <td>2012-05-08</td>\n",
       "      <td>Monarch Adult Sighted</td>\n",
       "      <td>41.886</td>\n",
       "      <td>-87.623</td>\n",
       "      <td>1</td>\n",
       "      <td>5</td>\n",
       "    </tr>\n",
       "    <tr>\n",
       "      <th>9131</th>\n",
       "      <td>2012-05-18</td>\n",
       "      <td>Monarch Adult Sighted</td>\n",
       "      <td>30.212</td>\n",
       "      <td>-84.357</td>\n",
       "      <td>5</td>\n",
       "      <td>5</td>\n",
       "    </tr>\n",
       "  </tbody>\n",
       "</table>\n",
       "</div>"
      ],
      "text/plain": [
       "     sighting_date                species  latitude  longitude  number  month\n",
       "9130    2012-05-08  Monarch Adult Sighted    41.886    -87.623       1      5\n",
       "9131    2012-05-18  Monarch Adult Sighted    30.212    -84.357       5      5"
      ]
     },
     "execution_count": 130,
     "metadata": {},
     "output_type": "execute_result"
    }
   ],
   "source": [
    "JNorth_Adult_First_Site_2012_month_df =pd.DataFrame(JNorth_Adult_First_Site_2012_df)\n",
    "JNorth_Adult_First_Site_2012_5_df = JNorth_Adult_First_Site_2012_month_df[JNorth_Adult_First_Site_2012_month_df['month']==5]\n",
    "JNorth_Adult_First_Site_2012_5_df.tail()"
   ]
  },
  {
   "cell_type": "code",
   "execution_count": 131,
   "id": "bc950b62",
   "metadata": {},
   "outputs": [
    {
     "data": {
      "text/plain": [
       "(2, 6)"
      ]
     },
     "execution_count": 131,
     "metadata": {},
     "output_type": "execute_result"
    }
   ],
   "source": [
    "JNorth_Adult_First_Site_2012_5_df.shape"
   ]
  },
  {
   "cell_type": "code",
   "execution_count": 132,
   "id": "a37e0b0f",
   "metadata": {},
   "outputs": [],
   "source": [
    "JNorth_Adult_First_Site_2012_5_df = pd.DataFrame(JNorth_Adult_First_Site_2012_5_df)\n",
    "JNorth_Adult_First_Site_2012_5_df.drop(['month'], axis=1, inplace=True)"
   ]
  },
  {
   "cell_type": "code",
   "execution_count": 133,
   "id": "8b0047b5",
   "metadata": {},
   "outputs": [],
   "source": [
    "# convert lat-long to floats and change address from ALL CAPS to regular capitalization\n",
    "JNorth_Adult_First_Site_2012_5_df['latitude'] = JNorth_Adult_First_Site_2012_5_df['latitude'].astype(float)\n",
    "JNorth_Adult_First_Site_2012_5_df['longitude'] = JNorth_Adult_First_Site_2012_5_df['longitude'].astype(float)\n",
    "# JNorth_Milkweed_Site_df['street_address'] = JNorth_Milkweed_Site_df['street_address'].str.title()"
   ]
  },
  {
   "cell_type": "code",
   "execution_count": 134,
   "id": "b3c214f4",
   "metadata": {},
   "outputs": [],
   "source": [
    "geojson = df_to_geojson(JNorth_Adult_First_Site_2012_5_df, cols)"
   ]
  },
  {
   "cell_type": "code",
   "execution_count": 135,
   "id": "d95a7a19",
   "metadata": {},
   "outputs": [],
   "source": [
    "file = open(\"JNorth_Adult_First_Site_2012_5.geojson\", \"w\")\n",
    "json.dump(geojson, file, indent =1)\n",
    "file.close()"
   ]
  },
  {
   "cell_type": "markdown",
   "id": "531966d4",
   "metadata": {},
   "source": [
    "## June"
   ]
  },
  {
   "cell_type": "code",
   "execution_count": 136,
   "id": "2305e35e",
   "metadata": {},
   "outputs": [
    {
     "data": {
      "text/html": [
       "<div>\n",
       "<style scoped>\n",
       "    .dataframe tbody tr th:only-of-type {\n",
       "        vertical-align: middle;\n",
       "    }\n",
       "\n",
       "    .dataframe tbody tr th {\n",
       "        vertical-align: top;\n",
       "    }\n",
       "\n",
       "    .dataframe thead th {\n",
       "        text-align: right;\n",
       "    }\n",
       "</style>\n",
       "<table border=\"1\" class=\"dataframe\">\n",
       "  <thead>\n",
       "    <tr style=\"text-align: right;\">\n",
       "      <th></th>\n",
       "      <th>sighting_date</th>\n",
       "      <th>species</th>\n",
       "      <th>latitude</th>\n",
       "      <th>longitude</th>\n",
       "      <th>number</th>\n",
       "      <th>month</th>\n",
       "    </tr>\n",
       "  </thead>\n",
       "  <tbody>\n",
       "    <tr>\n",
       "      <th>9132</th>\n",
       "      <td>2012-06-18</td>\n",
       "      <td>Monarch Adult Sighted</td>\n",
       "      <td>49.733</td>\n",
       "      <td>-104.017</td>\n",
       "      <td>3</td>\n",
       "      <td>6</td>\n",
       "    </tr>\n",
       "    <tr>\n",
       "      <th>9133</th>\n",
       "      <td>2012-06-30</td>\n",
       "      <td>Monarch Adult Sighted</td>\n",
       "      <td>44.729</td>\n",
       "      <td>-91.869</td>\n",
       "      <td>1</td>\n",
       "      <td>6</td>\n",
       "    </tr>\n",
       "    <tr>\n",
       "      <th>9134</th>\n",
       "      <td>2012-06-30</td>\n",
       "      <td>Monarch Adult Sighted</td>\n",
       "      <td>46.183</td>\n",
       "      <td>-59.950</td>\n",
       "      <td>1</td>\n",
       "      <td>6</td>\n",
       "    </tr>\n",
       "  </tbody>\n",
       "</table>\n",
       "</div>"
      ],
      "text/plain": [
       "     sighting_date                species  latitude  longitude  number  month\n",
       "9132    2012-06-18  Monarch Adult Sighted    49.733   -104.017       3      6\n",
       "9133    2012-06-30  Monarch Adult Sighted    44.729    -91.869       1      6\n",
       "9134    2012-06-30  Monarch Adult Sighted    46.183    -59.950       1      6"
      ]
     },
     "execution_count": 136,
     "metadata": {},
     "output_type": "execute_result"
    }
   ],
   "source": [
    "JNorth_Adult_First_Site_2012_month_df =pd.DataFrame(JNorth_Adult_First_Site_2012_df)\n",
    "JNorth_Adult_First_Site_2012_6_df = JNorth_Adult_First_Site_2012_month_df[JNorth_Adult_First_Site_2012_month_df['month']==6]\n",
    "JNorth_Adult_First_Site_2012_6_df.tail()"
   ]
  },
  {
   "cell_type": "code",
   "execution_count": 137,
   "id": "bdf45121",
   "metadata": {},
   "outputs": [
    {
     "data": {
      "text/plain": [
       "(3, 6)"
      ]
     },
     "execution_count": 137,
     "metadata": {},
     "output_type": "execute_result"
    }
   ],
   "source": [
    "JNorth_Adult_First_Site_2012_6_df.shape"
   ]
  },
  {
   "cell_type": "code",
   "execution_count": 138,
   "id": "7ced5440",
   "metadata": {},
   "outputs": [],
   "source": [
    "JNorth_Adult_First_Site_2012_6_df = pd.DataFrame(JNorth_Adult_First_Site_2012_6_df)\n",
    "JNorth_Adult_First_Site_2012_6_df.drop(['month'], axis=1, inplace=True)"
   ]
  },
  {
   "cell_type": "code",
   "execution_count": 139,
   "id": "2d41d70d",
   "metadata": {},
   "outputs": [],
   "source": [
    "# convert lat-long to floats and change address from ALL CAPS to regular capitalization\n",
    "JNorth_Adult_First_Site_2012_6_df['latitude'] = JNorth_Adult_First_Site_2012_6_df['latitude'].astype(float)\n",
    "JNorth_Adult_First_Site_2012_6_df['longitude'] = JNorth_Adult_First_Site_2012_6_df['longitude'].astype(float)\n",
    "# JNorth_Milkweed_Site_df['street_address'] = JNorth_Milkweed_Site_df['street_address'].str.title()"
   ]
  },
  {
   "cell_type": "code",
   "execution_count": 140,
   "id": "a8475bb2",
   "metadata": {},
   "outputs": [],
   "source": [
    "geojson = df_to_geojson(JNorth_Adult_First_Site_2012_6_df, cols)"
   ]
  },
  {
   "cell_type": "code",
   "execution_count": 141,
   "id": "53caaeb5",
   "metadata": {},
   "outputs": [],
   "source": [
    "file = open(\"JNorth_Adult_First_Site_2012_6.geojson\", \"w\")\n",
    "json.dump(geojson, file, indent =1)\n",
    "file.close()"
   ]
  },
  {
   "cell_type": "markdown",
   "id": "73f9ebaa",
   "metadata": {},
   "source": [
    "## July"
   ]
  },
  {
   "cell_type": "code",
   "execution_count": 142,
   "id": "e7b8b673",
   "metadata": {},
   "outputs": [
    {
     "data": {
      "text/html": [
       "<div>\n",
       "<style scoped>\n",
       "    .dataframe tbody tr th:only-of-type {\n",
       "        vertical-align: middle;\n",
       "    }\n",
       "\n",
       "    .dataframe tbody tr th {\n",
       "        vertical-align: top;\n",
       "    }\n",
       "\n",
       "    .dataframe thead th {\n",
       "        text-align: right;\n",
       "    }\n",
       "</style>\n",
       "<table border=\"1\" class=\"dataframe\">\n",
       "  <thead>\n",
       "    <tr style=\"text-align: right;\">\n",
       "      <th></th>\n",
       "      <th>sighting_date</th>\n",
       "      <th>species</th>\n",
       "      <th>latitude</th>\n",
       "      <th>longitude</th>\n",
       "      <th>number</th>\n",
       "      <th>month</th>\n",
       "    </tr>\n",
       "  </thead>\n",
       "  <tbody>\n",
       "    <tr>\n",
       "      <th>9138</th>\n",
       "      <td>2012-07-23</td>\n",
       "      <td>Monarch Adult Sighted</td>\n",
       "      <td>34.390</td>\n",
       "      <td>-111.430</td>\n",
       "      <td>1</td>\n",
       "      <td>7</td>\n",
       "    </tr>\n",
       "    <tr>\n",
       "      <th>9139</th>\n",
       "      <td>2012-07-25</td>\n",
       "      <td>Monarch Adult Sighted</td>\n",
       "      <td>42.830</td>\n",
       "      <td>-77.724</td>\n",
       "      <td>2</td>\n",
       "      <td>7</td>\n",
       "    </tr>\n",
       "    <tr>\n",
       "      <th>9140</th>\n",
       "      <td>2012-07-26</td>\n",
       "      <td>Monarch Adult Sighted</td>\n",
       "      <td>33.324</td>\n",
       "      <td>-111.867</td>\n",
       "      <td>1</td>\n",
       "      <td>7</td>\n",
       "    </tr>\n",
       "    <tr>\n",
       "      <th>9141</th>\n",
       "      <td>2012-07-26</td>\n",
       "      <td>Monarch Adult Sighted</td>\n",
       "      <td>37.119</td>\n",
       "      <td>-76.546</td>\n",
       "      <td>1</td>\n",
       "      <td>7</td>\n",
       "    </tr>\n",
       "    <tr>\n",
       "      <th>9142</th>\n",
       "      <td>2012-07-28</td>\n",
       "      <td>Monarch Adult Sighted</td>\n",
       "      <td>34.155</td>\n",
       "      <td>-109.446</td>\n",
       "      <td>1</td>\n",
       "      <td>7</td>\n",
       "    </tr>\n",
       "  </tbody>\n",
       "</table>\n",
       "</div>"
      ],
      "text/plain": [
       "     sighting_date                species  latitude  longitude  number  month\n",
       "9138    2012-07-23  Monarch Adult Sighted    34.390   -111.430       1      7\n",
       "9139    2012-07-25  Monarch Adult Sighted    42.830    -77.724       2      7\n",
       "9140    2012-07-26  Monarch Adult Sighted    33.324   -111.867       1      7\n",
       "9141    2012-07-26  Monarch Adult Sighted    37.119    -76.546       1      7\n",
       "9142    2012-07-28  Monarch Adult Sighted    34.155   -109.446       1      7"
      ]
     },
     "execution_count": 142,
     "metadata": {},
     "output_type": "execute_result"
    }
   ],
   "source": [
    "JNorth_Adult_First_Site_2012_month_df =pd.DataFrame(JNorth_Adult_First_Site_2012_df)\n",
    "JNorth_Adult_First_Site_2012_7_df = JNorth_Adult_First_Site_2012_month_df[JNorth_Adult_First_Site_2012_month_df['month']==7]\n",
    "JNorth_Adult_First_Site_2012_7_df.tail()"
   ]
  },
  {
   "cell_type": "code",
   "execution_count": 143,
   "id": "ee190c48",
   "metadata": {},
   "outputs": [
    {
     "data": {
      "text/plain": [
       "(8, 6)"
      ]
     },
     "execution_count": 143,
     "metadata": {},
     "output_type": "execute_result"
    }
   ],
   "source": [
    "JNorth_Adult_First_Site_2012_7_df.shape"
   ]
  },
  {
   "cell_type": "code",
   "execution_count": 144,
   "id": "adeaa0bf",
   "metadata": {},
   "outputs": [],
   "source": [
    "JNorth_Adult_First_Site_2012_7_df = pd.DataFrame(JNorth_Adult_First_Site_2012_7_df)\n",
    "JNorth_Adult_First_Site_2012_7_df.drop(['month'], axis=1, inplace=True)"
   ]
  },
  {
   "cell_type": "code",
   "execution_count": 145,
   "id": "f8d2ae21",
   "metadata": {},
   "outputs": [],
   "source": [
    "# convert lat-long to floats and change address from ALL CAPS to regular capitalization\n",
    "JNorth_Adult_First_Site_2012_7_df['latitude'] = JNorth_Adult_First_Site_2012_7_df['latitude'].astype(float)\n",
    "JNorth_Adult_First_Site_2012_7_df['longitude'] = JNorth_Adult_First_Site_2012_7_df['longitude'].astype(float)\n",
    "# JNorth_Milkweed_Site_df['street_address'] = JNorth_Milkweed_Site_df['street_address'].str.title()"
   ]
  },
  {
   "cell_type": "code",
   "execution_count": 146,
   "id": "bfd792b4",
   "metadata": {},
   "outputs": [],
   "source": [
    "geojson = df_to_geojson(JNorth_Adult_First_Site_2012_7_df, cols)"
   ]
  },
  {
   "cell_type": "code",
   "execution_count": 147,
   "id": "a0490618",
   "metadata": {},
   "outputs": [],
   "source": [
    "file = open(\"JNorth_Adult_First_Site_2012_7.geojson\", \"w\")\n",
    "json.dump(geojson, file, indent =1)\n",
    "file.close()"
   ]
  },
  {
   "cell_type": "markdown",
   "id": "3590d5cf",
   "metadata": {},
   "source": [
    "## August"
   ]
  },
  {
   "cell_type": "code",
   "execution_count": 148,
   "id": "e98788a8",
   "metadata": {},
   "outputs": [
    {
     "data": {
      "text/html": [
       "<div>\n",
       "<style scoped>\n",
       "    .dataframe tbody tr th:only-of-type {\n",
       "        vertical-align: middle;\n",
       "    }\n",
       "\n",
       "    .dataframe tbody tr th {\n",
       "        vertical-align: top;\n",
       "    }\n",
       "\n",
       "    .dataframe thead th {\n",
       "        text-align: right;\n",
       "    }\n",
       "</style>\n",
       "<table border=\"1\" class=\"dataframe\">\n",
       "  <thead>\n",
       "    <tr style=\"text-align: right;\">\n",
       "      <th></th>\n",
       "      <th>sighting_date</th>\n",
       "      <th>species</th>\n",
       "      <th>latitude</th>\n",
       "      <th>longitude</th>\n",
       "      <th>number</th>\n",
       "      <th>month</th>\n",
       "    </tr>\n",
       "  </thead>\n",
       "  <tbody>\n",
       "    <tr>\n",
       "      <th>9941</th>\n",
       "      <td>2012-08-31</td>\n",
       "      <td>Monarch Adult Sighted</td>\n",
       "      <td>44.000</td>\n",
       "      <td>-79.467</td>\n",
       "      <td>6</td>\n",
       "      <td>8</td>\n",
       "    </tr>\n",
       "    <tr>\n",
       "      <th>9942</th>\n",
       "      <td>2012-08-31</td>\n",
       "      <td>Monarch Adult Sighted</td>\n",
       "      <td>44.017</td>\n",
       "      <td>-79.817</td>\n",
       "      <td>5</td>\n",
       "      <td>8</td>\n",
       "    </tr>\n",
       "    <tr>\n",
       "      <th>9943</th>\n",
       "      <td>2012-08-31</td>\n",
       "      <td>Monarch Adult Sighted</td>\n",
       "      <td>44.417</td>\n",
       "      <td>-76.600</td>\n",
       "      <td>2</td>\n",
       "      <td>8</td>\n",
       "    </tr>\n",
       "    <tr>\n",
       "      <th>9944</th>\n",
       "      <td>2012-08-31</td>\n",
       "      <td>Monarch Adult Sighted</td>\n",
       "      <td>44.883</td>\n",
       "      <td>-93.283</td>\n",
       "      <td>2</td>\n",
       "      <td>8</td>\n",
       "    </tr>\n",
       "    <tr>\n",
       "      <th>9945</th>\n",
       "      <td>2012-08-31</td>\n",
       "      <td>Monarch Adult Sighted</td>\n",
       "      <td>45.100</td>\n",
       "      <td>-64.417</td>\n",
       "      <td>1</td>\n",
       "      <td>8</td>\n",
       "    </tr>\n",
       "  </tbody>\n",
       "</table>\n",
       "</div>"
      ],
      "text/plain": [
       "     sighting_date                species  latitude  longitude  number  month\n",
       "9941    2012-08-31  Monarch Adult Sighted    44.000    -79.467       6      8\n",
       "9942    2012-08-31  Monarch Adult Sighted    44.017    -79.817       5      8\n",
       "9943    2012-08-31  Monarch Adult Sighted    44.417    -76.600       2      8\n",
       "9944    2012-08-31  Monarch Adult Sighted    44.883    -93.283       2      8\n",
       "9945    2012-08-31  Monarch Adult Sighted    45.100    -64.417       1      8"
      ]
     },
     "execution_count": 148,
     "metadata": {},
     "output_type": "execute_result"
    }
   ],
   "source": [
    "JNorth_Adult_First_Site_2012_month_df =pd.DataFrame(JNorth_Adult_First_Site_2012_df)\n",
    "JNorth_Adult_First_Site_2012_8_df = JNorth_Adult_First_Site_2012_month_df[JNorth_Adult_First_Site_2012_month_df['month']==8]\n",
    "JNorth_Adult_First_Site_2012_8_df.tail()"
   ]
  },
  {
   "cell_type": "code",
   "execution_count": 149,
   "id": "4dbf852f",
   "metadata": {},
   "outputs": [
    {
     "data": {
      "text/plain": [
       "(803, 6)"
      ]
     },
     "execution_count": 149,
     "metadata": {},
     "output_type": "execute_result"
    }
   ],
   "source": [
    "JNorth_Adult_First_Site_2012_8_df.shape"
   ]
  },
  {
   "cell_type": "code",
   "execution_count": 150,
   "id": "db805f73",
   "metadata": {},
   "outputs": [],
   "source": [
    "JNorth_Adult_First_Site_2012_8_df = pd.DataFrame(JNorth_Adult_First_Site_2012_8_df)\n",
    "JNorth_Adult_First_Site_2012_8_df.drop(['month'], axis=1, inplace=True)"
   ]
  },
  {
   "cell_type": "code",
   "execution_count": 151,
   "id": "65824356",
   "metadata": {},
   "outputs": [],
   "source": [
    "# convert lat-long to floats and change address from ALL CAPS to regular capitalization\n",
    "JNorth_Adult_First_Site_2012_8_df['latitude'] = JNorth_Adult_First_Site_2012_8_df['latitude'].astype(float)\n",
    "JNorth_Adult_First_Site_2012_8_df['longitude'] = JNorth_Adult_First_Site_2012_8_df['longitude'].astype(float)\n",
    "# JNorth_Milkweed_Site_df['street_address'] = JNorth_Milkweed_Site_df['street_address'].str.title()"
   ]
  },
  {
   "cell_type": "code",
   "execution_count": 152,
   "id": "ddc40b63",
   "metadata": {},
   "outputs": [],
   "source": [
    "geojson = df_to_geojson(JNorth_Adult_First_Site_2012_8_df, cols)"
   ]
  },
  {
   "cell_type": "code",
   "execution_count": 153,
   "id": "edee7b1c",
   "metadata": {},
   "outputs": [],
   "source": [
    "file = open(\"JNorth_Adult_First_Site_2012_8.geojson\", \"w\")\n",
    "json.dump(geojson, file, indent =1)\n",
    "file.close()"
   ]
  },
  {
   "cell_type": "markdown",
   "id": "726dda22",
   "metadata": {},
   "source": [
    "## September"
   ]
  },
  {
   "cell_type": "code",
   "execution_count": 154,
   "id": "b54dd953",
   "metadata": {},
   "outputs": [
    {
     "data": {
      "text/html": [
       "<div>\n",
       "<style scoped>\n",
       "    .dataframe tbody tr th:only-of-type {\n",
       "        vertical-align: middle;\n",
       "    }\n",
       "\n",
       "    .dataframe tbody tr th {\n",
       "        vertical-align: top;\n",
       "    }\n",
       "\n",
       "    .dataframe thead th {\n",
       "        text-align: right;\n",
       "    }\n",
       "</style>\n",
       "<table border=\"1\" class=\"dataframe\">\n",
       "  <thead>\n",
       "    <tr style=\"text-align: right;\">\n",
       "      <th></th>\n",
       "      <th>sighting_date</th>\n",
       "      <th>species</th>\n",
       "      <th>latitude</th>\n",
       "      <th>longitude</th>\n",
       "      <th>number</th>\n",
       "      <th>month</th>\n",
       "    </tr>\n",
       "  </thead>\n",
       "  <tbody>\n",
       "    <tr>\n",
       "      <th>11301</th>\n",
       "      <td>2012-09-30</td>\n",
       "      <td>Monarch Adult Sighted</td>\n",
       "      <td>45.161</td>\n",
       "      <td>-93.235</td>\n",
       "      <td>2</td>\n",
       "      <td>9</td>\n",
       "    </tr>\n",
       "    <tr>\n",
       "      <th>11302</th>\n",
       "      <td>2012-09-30</td>\n",
       "      <td>Monarch Adult Sighted</td>\n",
       "      <td>45.561</td>\n",
       "      <td>-94.162</td>\n",
       "      <td>1</td>\n",
       "      <td>9</td>\n",
       "    </tr>\n",
       "    <tr>\n",
       "      <th>11303</th>\n",
       "      <td>2012-09-30</td>\n",
       "      <td>Monarch Adult Sighted</td>\n",
       "      <td>46.001</td>\n",
       "      <td>-94.341</td>\n",
       "      <td>2</td>\n",
       "      <td>9</td>\n",
       "    </tr>\n",
       "    <tr>\n",
       "      <th>11304</th>\n",
       "      <td>2012-09-30</td>\n",
       "      <td>Monarch Adult Sighted</td>\n",
       "      <td>47.523</td>\n",
       "      <td>-94.745</td>\n",
       "      <td>1</td>\n",
       "      <td>9</td>\n",
       "    </tr>\n",
       "    <tr>\n",
       "      <th>11305</th>\n",
       "      <td>2012-09-30</td>\n",
       "      <td>Monarch Adult Sighted</td>\n",
       "      <td>52.550</td>\n",
       "      <td>-113.640</td>\n",
       "      <td>1</td>\n",
       "      <td>9</td>\n",
       "    </tr>\n",
       "  </tbody>\n",
       "</table>\n",
       "</div>"
      ],
      "text/plain": [
       "      sighting_date                species  latitude  longitude  number  month\n",
       "11301    2012-09-30  Monarch Adult Sighted    45.161    -93.235       2      9\n",
       "11302    2012-09-30  Monarch Adult Sighted    45.561    -94.162       1      9\n",
       "11303    2012-09-30  Monarch Adult Sighted    46.001    -94.341       2      9\n",
       "11304    2012-09-30  Monarch Adult Sighted    47.523    -94.745       1      9\n",
       "11305    2012-09-30  Monarch Adult Sighted    52.550   -113.640       1      9"
      ]
     },
     "execution_count": 154,
     "metadata": {},
     "output_type": "execute_result"
    }
   ],
   "source": [
    "JNorth_Adult_First_Site_2012_month_df =pd.DataFrame(JNorth_Adult_First_Site_2012_df)\n",
    "JNorth_Adult_First_Site_2012_9_df = JNorth_Adult_First_Site_2012_month_df[JNorth_Adult_First_Site_2012_month_df['month']==9]\n",
    "JNorth_Adult_First_Site_2012_9_df.tail()"
   ]
  },
  {
   "cell_type": "code",
   "execution_count": 155,
   "id": "c027d5c8",
   "metadata": {},
   "outputs": [
    {
     "data": {
      "text/plain": [
       "(1360, 6)"
      ]
     },
     "execution_count": 155,
     "metadata": {},
     "output_type": "execute_result"
    }
   ],
   "source": [
    "JNorth_Adult_First_Site_2012_9_df.shape"
   ]
  },
  {
   "cell_type": "code",
   "execution_count": 156,
   "id": "699bf4e7",
   "metadata": {},
   "outputs": [],
   "source": [
    "JNorth_Adult_First_Site_2012_9_df = pd.DataFrame(JNorth_Adult_First_Site_2012_9_df)\n",
    "JNorth_Adult_First_Site_2012_9_df.drop(['month'], axis=1, inplace=True)"
   ]
  },
  {
   "cell_type": "code",
   "execution_count": 157,
   "id": "30872f1f",
   "metadata": {},
   "outputs": [],
   "source": [
    "# convert lat-long to floats and change address from ALL CAPS to regular capitalization\n",
    "JNorth_Adult_First_Site_2012_9_df['latitude'] = JNorth_Adult_First_Site_2012_9_df['latitude'].astype(float)\n",
    "JNorth_Adult_First_Site_2012_9_df['longitude'] = JNorth_Adult_First_Site_2012_9_df['longitude'].astype(float)\n",
    "# JNorth_Milkweed_Site_df['street_address'] = JNorth_Milkweed_Site_df['street_address'].str.title()"
   ]
  },
  {
   "cell_type": "code",
   "execution_count": 158,
   "id": "eda7a817",
   "metadata": {},
   "outputs": [],
   "source": [
    "geojson = df_to_geojson(JNorth_Adult_First_Site_2012_9_df, cols)"
   ]
  },
  {
   "cell_type": "code",
   "execution_count": 159,
   "id": "ad33e04b",
   "metadata": {},
   "outputs": [],
   "source": [
    "file = open(\"JNorth_Adult_First_Site_2012_9.geojson\", \"w\")\n",
    "json.dump(geojson, file, indent =1)\n",
    "file.close()"
   ]
  },
  {
   "cell_type": "markdown",
   "id": "84b1fe82",
   "metadata": {},
   "source": [
    "## October"
   ]
  },
  {
   "cell_type": "code",
   "execution_count": 160,
   "id": "a9395579",
   "metadata": {},
   "outputs": [
    {
     "data": {
      "text/html": [
       "<div>\n",
       "<style scoped>\n",
       "    .dataframe tbody tr th:only-of-type {\n",
       "        vertical-align: middle;\n",
       "    }\n",
       "\n",
       "    .dataframe tbody tr th {\n",
       "        vertical-align: top;\n",
       "    }\n",
       "\n",
       "    .dataframe thead th {\n",
       "        text-align: right;\n",
       "    }\n",
       "</style>\n",
       "<table border=\"1\" class=\"dataframe\">\n",
       "  <thead>\n",
       "    <tr style=\"text-align: right;\">\n",
       "      <th></th>\n",
       "      <th>sighting_date</th>\n",
       "      <th>species</th>\n",
       "      <th>latitude</th>\n",
       "      <th>longitude</th>\n",
       "      <th>number</th>\n",
       "      <th>month</th>\n",
       "    </tr>\n",
       "  </thead>\n",
       "  <tbody>\n",
       "    <tr>\n",
       "      <th>12184</th>\n",
       "      <td>2012-10-31</td>\n",
       "      <td>Monarch Adult Sighted</td>\n",
       "      <td>33.279</td>\n",
       "      <td>-82.114</td>\n",
       "      <td>3</td>\n",
       "      <td>10</td>\n",
       "    </tr>\n",
       "    <tr>\n",
       "      <th>12185</th>\n",
       "      <td>2012-10-31</td>\n",
       "      <td>Monarch Adult Sighted</td>\n",
       "      <td>33.285</td>\n",
       "      <td>-91.020</td>\n",
       "      <td>1</td>\n",
       "      <td>10</td>\n",
       "    </tr>\n",
       "    <tr>\n",
       "      <th>12186</th>\n",
       "      <td>2012-10-31</td>\n",
       "      <td>Monarch Adult Sighted</td>\n",
       "      <td>34.138</td>\n",
       "      <td>-118.166</td>\n",
       "      <td>4</td>\n",
       "      <td>10</td>\n",
       "    </tr>\n",
       "    <tr>\n",
       "      <th>12187</th>\n",
       "      <td>2012-10-31</td>\n",
       "      <td>Monarch Adult Sighted</td>\n",
       "      <td>34.391</td>\n",
       "      <td>-101.712</td>\n",
       "      <td>1</td>\n",
       "      <td>10</td>\n",
       "    </tr>\n",
       "    <tr>\n",
       "      <th>12188</th>\n",
       "      <td>2012-10-31</td>\n",
       "      <td>Monarch Adult Sighted</td>\n",
       "      <td>44.648</td>\n",
       "      <td>-83.361</td>\n",
       "      <td>1</td>\n",
       "      <td>10</td>\n",
       "    </tr>\n",
       "  </tbody>\n",
       "</table>\n",
       "</div>"
      ],
      "text/plain": [
       "      sighting_date                species  latitude  longitude  number  month\n",
       "12184    2012-10-31  Monarch Adult Sighted    33.279    -82.114       3     10\n",
       "12185    2012-10-31  Monarch Adult Sighted    33.285    -91.020       1     10\n",
       "12186    2012-10-31  Monarch Adult Sighted    34.138   -118.166       4     10\n",
       "12187    2012-10-31  Monarch Adult Sighted    34.391   -101.712       1     10\n",
       "12188    2012-10-31  Monarch Adult Sighted    44.648    -83.361       1     10"
      ]
     },
     "execution_count": 160,
     "metadata": {},
     "output_type": "execute_result"
    }
   ],
   "source": [
    "JNorth_Adult_First_Site_2012_month_df =pd.DataFrame(JNorth_Adult_First_Site_2012_df)\n",
    "JNorth_Adult_First_Site_2012_10_df = JNorth_Adult_First_Site_2012_month_df[JNorth_Adult_First_Site_2012_month_df['month']==10]\n",
    "JNorth_Adult_First_Site_2012_10_df.tail()"
   ]
  },
  {
   "cell_type": "code",
   "execution_count": 161,
   "id": "470beeb5",
   "metadata": {},
   "outputs": [
    {
     "data": {
      "text/plain": [
       "(883, 6)"
      ]
     },
     "execution_count": 161,
     "metadata": {},
     "output_type": "execute_result"
    }
   ],
   "source": [
    "JNorth_Adult_First_Site_2012_10_df.shape"
   ]
  },
  {
   "cell_type": "code",
   "execution_count": 162,
   "id": "1e733e58",
   "metadata": {},
   "outputs": [],
   "source": [
    "JNorth_Adult_First_Site_2012_10_df = pd.DataFrame(JNorth_Adult_First_Site_2012_10_df)\n",
    "JNorth_Adult_First_Site_2012_10_df.drop(['month'], axis=1, inplace=True)"
   ]
  },
  {
   "cell_type": "code",
   "execution_count": 163,
   "id": "06aff208",
   "metadata": {},
   "outputs": [],
   "source": [
    "# convert lat-long to floats and change address from ALL CAPS to regular capitalization\n",
    "JNorth_Adult_First_Site_2012_10_df['latitude'] = JNorth_Adult_First_Site_2012_10_df['latitude'].astype(float)\n",
    "JNorth_Adult_First_Site_2012_10_df['longitude'] = JNorth_Adult_First_Site_2012_10_df['longitude'].astype(float)\n",
    "# JNorth_Milkweed_Site_df['street_address'] = JNorth_Milkweed_Site_df['street_address'].str.title()"
   ]
  },
  {
   "cell_type": "code",
   "execution_count": 164,
   "id": "421e78f4",
   "metadata": {},
   "outputs": [],
   "source": [
    "geojson = df_to_geojson(JNorth_Adult_First_Site_2012_10_df, cols)"
   ]
  },
  {
   "cell_type": "code",
   "execution_count": 165,
   "id": "9017caac",
   "metadata": {},
   "outputs": [],
   "source": [
    "file = open(\"JNorth_Adult_First_Site_2012_10.geojson\", \"w\")\n",
    "json.dump(geojson, file, indent =1)\n",
    "file.close()"
   ]
  },
  {
   "cell_type": "markdown",
   "id": "3be99959",
   "metadata": {},
   "source": [
    "## November"
   ]
  },
  {
   "cell_type": "code",
   "execution_count": 166,
   "id": "f012960d",
   "metadata": {},
   "outputs": [
    {
     "data": {
      "text/html": [
       "<div>\n",
       "<style scoped>\n",
       "    .dataframe tbody tr th:only-of-type {\n",
       "        vertical-align: middle;\n",
       "    }\n",
       "\n",
       "    .dataframe tbody tr th {\n",
       "        vertical-align: top;\n",
       "    }\n",
       "\n",
       "    .dataframe thead th {\n",
       "        text-align: right;\n",
       "    }\n",
       "</style>\n",
       "<table border=\"1\" class=\"dataframe\">\n",
       "  <thead>\n",
       "    <tr style=\"text-align: right;\">\n",
       "      <th></th>\n",
       "      <th>sighting_date</th>\n",
       "      <th>species</th>\n",
       "      <th>latitude</th>\n",
       "      <th>longitude</th>\n",
       "      <th>number</th>\n",
       "      <th>month</th>\n",
       "    </tr>\n",
       "  </thead>\n",
       "  <tbody>\n",
       "    <tr>\n",
       "      <th>12316</th>\n",
       "      <td>2012-11-26</td>\n",
       "      <td>Monarch Adult Sighted</td>\n",
       "      <td>30.340</td>\n",
       "      <td>-81.831</td>\n",
       "      <td>3</td>\n",
       "      <td>11</td>\n",
       "    </tr>\n",
       "    <tr>\n",
       "      <th>12317</th>\n",
       "      <td>2012-11-27</td>\n",
       "      <td>Monarch Adult Sighted</td>\n",
       "      <td>30.358</td>\n",
       "      <td>-81.421</td>\n",
       "      <td>1</td>\n",
       "      <td>11</td>\n",
       "    </tr>\n",
       "    <tr>\n",
       "      <th>12318</th>\n",
       "      <td>2012-11-28</td>\n",
       "      <td>Monarch Adult Sighted</td>\n",
       "      <td>29.836</td>\n",
       "      <td>-95.735</td>\n",
       "      <td>1</td>\n",
       "      <td>11</td>\n",
       "    </tr>\n",
       "    <tr>\n",
       "      <th>12319</th>\n",
       "      <td>2012-11-28</td>\n",
       "      <td>Monarch Adult Sighted</td>\n",
       "      <td>32.216</td>\n",
       "      <td>-110.971</td>\n",
       "      <td>2</td>\n",
       "      <td>11</td>\n",
       "    </tr>\n",
       "    <tr>\n",
       "      <th>12320</th>\n",
       "      <td>2012-11-30</td>\n",
       "      <td>Monarch Adult Sighted</td>\n",
       "      <td>30.230</td>\n",
       "      <td>-97.714</td>\n",
       "      <td>1</td>\n",
       "      <td>11</td>\n",
       "    </tr>\n",
       "  </tbody>\n",
       "</table>\n",
       "</div>"
      ],
      "text/plain": [
       "      sighting_date                species  latitude  longitude  number  month\n",
       "12316    2012-11-26  Monarch Adult Sighted    30.340    -81.831       3     11\n",
       "12317    2012-11-27  Monarch Adult Sighted    30.358    -81.421       1     11\n",
       "12318    2012-11-28  Monarch Adult Sighted    29.836    -95.735       1     11\n",
       "12319    2012-11-28  Monarch Adult Sighted    32.216   -110.971       2     11\n",
       "12320    2012-11-30  Monarch Adult Sighted    30.230    -97.714       1     11"
      ]
     },
     "execution_count": 166,
     "metadata": {},
     "output_type": "execute_result"
    }
   ],
   "source": [
    "JNorth_Adult_First_Site_2012_month_df =pd.DataFrame(JNorth_Adult_First_Site_2012_df)\n",
    "JNorth_Adult_First_Site_2012_11_df = JNorth_Adult_First_Site_2012_month_df[JNorth_Adult_First_Site_2012_month_df['month']==11]\n",
    "JNorth_Adult_First_Site_2012_11_df.tail()"
   ]
  },
  {
   "cell_type": "code",
   "execution_count": 167,
   "id": "c828e53a",
   "metadata": {},
   "outputs": [
    {
     "data": {
      "text/plain": [
       "(132, 6)"
      ]
     },
     "execution_count": 167,
     "metadata": {},
     "output_type": "execute_result"
    }
   ],
   "source": [
    "JNorth_Adult_First_Site_2012_11_df.shape"
   ]
  },
  {
   "cell_type": "code",
   "execution_count": 168,
   "id": "ebbf1625",
   "metadata": {},
   "outputs": [
    {
     "name": "stderr",
     "output_type": "stream",
     "text": [
      "C:\\Users\\motte\\anaconda3\\envs\\mlenv\\lib\\site-packages\\pandas\\core\\frame.py:4913: SettingWithCopyWarning: \n",
      "A value is trying to be set on a copy of a slice from a DataFrame\n",
      "\n",
      "See the caveats in the documentation: https://pandas.pydata.org/pandas-docs/stable/user_guide/indexing.html#returning-a-view-versus-a-copy\n",
      "  errors=errors,\n"
     ]
    }
   ],
   "source": [
    "JNorth_Adult_First_Site_2012_11_df = pd.DataFrame(JNorth_Adult_First_Site_2012_11_df)\n",
    "JNorth_Adult_First_Site_2012_11_df.drop(['month'], axis=1, inplace=True)"
   ]
  },
  {
   "cell_type": "code",
   "execution_count": 169,
   "id": "06217fbf",
   "metadata": {},
   "outputs": [
    {
     "name": "stderr",
     "output_type": "stream",
     "text": [
      "C:\\Users\\motte\\anaconda3\\envs\\mlenv\\lib\\site-packages\\ipykernel_launcher.py:2: SettingWithCopyWarning: \n",
      "A value is trying to be set on a copy of a slice from a DataFrame.\n",
      "Try using .loc[row_indexer,col_indexer] = value instead\n",
      "\n",
      "See the caveats in the documentation: https://pandas.pydata.org/pandas-docs/stable/user_guide/indexing.html#returning-a-view-versus-a-copy\n",
      "  \n",
      "C:\\Users\\motte\\anaconda3\\envs\\mlenv\\lib\\site-packages\\ipykernel_launcher.py:3: SettingWithCopyWarning: \n",
      "A value is trying to be set on a copy of a slice from a DataFrame.\n",
      "Try using .loc[row_indexer,col_indexer] = value instead\n",
      "\n",
      "See the caveats in the documentation: https://pandas.pydata.org/pandas-docs/stable/user_guide/indexing.html#returning-a-view-versus-a-copy\n",
      "  This is separate from the ipykernel package so we can avoid doing imports until\n"
     ]
    }
   ],
   "source": [
    "# convert lat-long to floats and change address from ALL CAPS to regular capitalization\n",
    "JNorth_Adult_First_Site_2012_11_df['latitude'] = JNorth_Adult_First_Site_2012_11_df['latitude'].astype(float)\n",
    "JNorth_Adult_First_Site_2012_11_df['longitude'] = JNorth_Adult_First_Site_2012_11_df['longitude'].astype(float)\n",
    "# JNorth_Milkweed_Site_df['street_address'] = JNorth_Milkweed_Site_df['street_address'].str.title()"
   ]
  },
  {
   "cell_type": "code",
   "execution_count": 170,
   "id": "ea9ffa88",
   "metadata": {},
   "outputs": [],
   "source": [
    "geojson = df_to_geojson(JNorth_Adult_First_Site_2012_11_df, cols)"
   ]
  },
  {
   "cell_type": "code",
   "execution_count": 171,
   "id": "408ccc08",
   "metadata": {},
   "outputs": [],
   "source": [
    "file = open(\"JNorth_Adult_First_Site_2012_11.geojson\", \"w\")\n",
    "json.dump(geojson, file, indent =1)\n",
    "file.close()"
   ]
  },
  {
   "cell_type": "markdown",
   "id": "e8664d64",
   "metadata": {},
   "source": [
    "## December"
   ]
  },
  {
   "cell_type": "code",
   "execution_count": 172,
   "id": "17680c20",
   "metadata": {},
   "outputs": [
    {
     "data": {
      "text/html": [
       "<div>\n",
       "<style scoped>\n",
       "    .dataframe tbody tr th:only-of-type {\n",
       "        vertical-align: middle;\n",
       "    }\n",
       "\n",
       "    .dataframe tbody tr th {\n",
       "        vertical-align: top;\n",
       "    }\n",
       "\n",
       "    .dataframe thead th {\n",
       "        text-align: right;\n",
       "    }\n",
       "</style>\n",
       "<table border=\"1\" class=\"dataframe\">\n",
       "  <thead>\n",
       "    <tr style=\"text-align: right;\">\n",
       "      <th></th>\n",
       "      <th>sighting_date</th>\n",
       "      <th>species</th>\n",
       "      <th>latitude</th>\n",
       "      <th>longitude</th>\n",
       "      <th>number</th>\n",
       "      <th>month</th>\n",
       "    </tr>\n",
       "  </thead>\n",
       "  <tbody>\n",
       "    <tr>\n",
       "      <th>12344</th>\n",
       "      <td>2012-12-26</td>\n",
       "      <td>Monarch Adult Sighted</td>\n",
       "      <td>34.272</td>\n",
       "      <td>-119.231</td>\n",
       "      <td>1</td>\n",
       "      <td>12</td>\n",
       "    </tr>\n",
       "    <tr>\n",
       "      <th>12345</th>\n",
       "      <td>2012-12-26</td>\n",
       "      <td>Monarch Adult Sighted</td>\n",
       "      <td>34.423</td>\n",
       "      <td>-119.890</td>\n",
       "      <td>1</td>\n",
       "      <td>12</td>\n",
       "    </tr>\n",
       "    <tr>\n",
       "      <th>12346</th>\n",
       "      <td>2012-12-26</td>\n",
       "      <td>Monarch Adult Sighted</td>\n",
       "      <td>35.132</td>\n",
       "      <td>-120.635</td>\n",
       "      <td>1</td>\n",
       "      <td>12</td>\n",
       "    </tr>\n",
       "    <tr>\n",
       "      <th>12347</th>\n",
       "      <td>2012-12-26</td>\n",
       "      <td>Monarch Adult Sighted</td>\n",
       "      <td>36.626</td>\n",
       "      <td>-121.930</td>\n",
       "      <td>1</td>\n",
       "      <td>12</td>\n",
       "    </tr>\n",
       "    <tr>\n",
       "      <th>12348</th>\n",
       "      <td>2012-12-27</td>\n",
       "      <td>Monarch Adult Sighted</td>\n",
       "      <td>37.063</td>\n",
       "      <td>-122.162</td>\n",
       "      <td>7500</td>\n",
       "      <td>12</td>\n",
       "    </tr>\n",
       "  </tbody>\n",
       "</table>\n",
       "</div>"
      ],
      "text/plain": [
       "      sighting_date                species  latitude  longitude  number  month\n",
       "12344    2012-12-26  Monarch Adult Sighted    34.272   -119.231       1     12\n",
       "12345    2012-12-26  Monarch Adult Sighted    34.423   -119.890       1     12\n",
       "12346    2012-12-26  Monarch Adult Sighted    35.132   -120.635       1     12\n",
       "12347    2012-12-26  Monarch Adult Sighted    36.626   -121.930       1     12\n",
       "12348    2012-12-27  Monarch Adult Sighted    37.063   -122.162    7500     12"
      ]
     },
     "execution_count": 172,
     "metadata": {},
     "output_type": "execute_result"
    }
   ],
   "source": [
    "JNorth_Adult_First_Site_2012_month_df =pd.DataFrame(JNorth_Adult_First_Site_2012_df)\n",
    "JNorth_Adult_First_Site_2012_12_df = JNorth_Adult_First_Site_2012_month_df[JNorth_Adult_First_Site_2012_month_df['month']==12]\n",
    "JNorth_Adult_First_Site_2012_12_df.tail()"
   ]
  },
  {
   "cell_type": "code",
   "execution_count": 173,
   "id": "b3f57221",
   "metadata": {},
   "outputs": [
    {
     "data": {
      "text/plain": [
       "(28, 6)"
      ]
     },
     "execution_count": 173,
     "metadata": {},
     "output_type": "execute_result"
    }
   ],
   "source": [
    "JNorth_Adult_First_Site_2012_12_df.shape"
   ]
  },
  {
   "cell_type": "code",
   "execution_count": 174,
   "id": "13478dd2",
   "metadata": {},
   "outputs": [],
   "source": [
    "JNorth_Adult_First_Site_2012_12_df = pd.DataFrame(JNorth_Adult_First_Site_2012_12_df)\n",
    "JNorth_Adult_First_Site_2012_12_df.drop(['month'], axis=1, inplace=True)"
   ]
  },
  {
   "cell_type": "code",
   "execution_count": 175,
   "id": "53a7627c",
   "metadata": {},
   "outputs": [],
   "source": [
    "# convert lat-long to floats and change address from ALL CAPS to regular capitalization\n",
    "JNorth_Adult_First_Site_2012_12_df['latitude'] = JNorth_Adult_First_Site_2012_12_df['latitude'].astype(float)\n",
    "JNorth_Adult_First_Site_2012_12_df['longitude'] = JNorth_Adult_First_Site_2012_12_df['longitude'].astype(float)\n",
    "# JNorth_Milkweed_Site_df['street_address'] = JNorth_Milkweed_Site_df['street_address'].str.title()"
   ]
  },
  {
   "cell_type": "code",
   "execution_count": 176,
   "id": "cc835fba",
   "metadata": {},
   "outputs": [],
   "source": [
    "geojson = df_to_geojson(JNorth_Adult_First_Site_2012_12_df, cols)"
   ]
  },
  {
   "cell_type": "code",
   "execution_count": 177,
   "id": "c122edf2",
   "metadata": {},
   "outputs": [],
   "source": [
    "file = open(\"JNorth_Adult_First_Site_2012_12.geojson\", \"w\")\n",
    "json.dump(geojson, file, indent =1)\n",
    "file.close()"
   ]
  },
  {
   "cell_type": "markdown",
   "id": "b5c76616",
   "metadata": {},
   "source": [
    "# 2013"
   ]
  },
  {
   "cell_type": "code",
   "execution_count": 178,
   "id": "e96b6a71",
   "metadata": {},
   "outputs": [
    {
     "data": {
      "text/html": [
       "<div>\n",
       "<style scoped>\n",
       "    .dataframe tbody tr th:only-of-type {\n",
       "        vertical-align: middle;\n",
       "    }\n",
       "\n",
       "    .dataframe tbody tr th {\n",
       "        vertical-align: top;\n",
       "    }\n",
       "\n",
       "    .dataframe thead th {\n",
       "        text-align: right;\n",
       "    }\n",
       "</style>\n",
       "<table border=\"1\" class=\"dataframe\">\n",
       "  <thead>\n",
       "    <tr style=\"text-align: right;\">\n",
       "      <th></th>\n",
       "      <th>sighting_date</th>\n",
       "      <th>species</th>\n",
       "      <th>latitude</th>\n",
       "      <th>longitude</th>\n",
       "      <th>number</th>\n",
       "      <th>year</th>\n",
       "    </tr>\n",
       "  </thead>\n",
       "  <tbody>\n",
       "    <tr>\n",
       "      <th>16434</th>\n",
       "      <td>2013-12-22</td>\n",
       "      <td>Monarch Adult Sighted</td>\n",
       "      <td>30.034</td>\n",
       "      <td>-99.092</td>\n",
       "      <td>1</td>\n",
       "      <td>2013</td>\n",
       "    </tr>\n",
       "    <tr>\n",
       "      <th>16435</th>\n",
       "      <td>2013-12-25</td>\n",
       "      <td>Monarch Adult Sighted</td>\n",
       "      <td>29.821</td>\n",
       "      <td>-98.751</td>\n",
       "      <td>1</td>\n",
       "      <td>2013</td>\n",
       "    </tr>\n",
       "    <tr>\n",
       "      <th>16436</th>\n",
       "      <td>2013-12-26</td>\n",
       "      <td>Monarch Adult Sighted</td>\n",
       "      <td>19.590</td>\n",
       "      <td>-100.266</td>\n",
       "      <td>1</td>\n",
       "      <td>2013</td>\n",
       "    </tr>\n",
       "    <tr>\n",
       "      <th>16437</th>\n",
       "      <td>2013-12-29</td>\n",
       "      <td>Monarch Adult Sighted</td>\n",
       "      <td>29.757</td>\n",
       "      <td>-95.365</td>\n",
       "      <td>1</td>\n",
       "      <td>2013</td>\n",
       "    </tr>\n",
       "    <tr>\n",
       "      <th>16438</th>\n",
       "      <td>2013-12-30</td>\n",
       "      <td>Monarch Adult Sighted</td>\n",
       "      <td>33.398</td>\n",
       "      <td>-117.554</td>\n",
       "      <td>1</td>\n",
       "      <td>2013</td>\n",
       "    </tr>\n",
       "  </tbody>\n",
       "</table>\n",
       "</div>"
      ],
      "text/plain": [
       "      sighting_date                species  latitude  longitude  number  year\n",
       "16434    2013-12-22  Monarch Adult Sighted    30.034    -99.092       1  2013\n",
       "16435    2013-12-25  Monarch Adult Sighted    29.821    -98.751       1  2013\n",
       "16436    2013-12-26  Monarch Adult Sighted    19.590   -100.266       1  2013\n",
       "16437    2013-12-29  Monarch Adult Sighted    29.757    -95.365       1  2013\n",
       "16438    2013-12-30  Monarch Adult Sighted    33.398   -117.554       1  2013"
      ]
     },
     "execution_count": 178,
     "metadata": {},
     "output_type": "execute_result"
    }
   ],
   "source": [
    "JNorth_Adult_First_Site_2013_df = JNorth_Adult_First_Site_year_df[JNorth_Adult_First_Site_year_df['year']==2013]\n",
    "JNorth_Adult_First_Site_2013_df.tail()"
   ]
  },
  {
   "cell_type": "code",
   "execution_count": 179,
   "id": "3f637079",
   "metadata": {},
   "outputs": [
    {
     "data": {
      "text/plain": [
       "(4090, 6)"
      ]
     },
     "execution_count": 179,
     "metadata": {},
     "output_type": "execute_result"
    }
   ],
   "source": [
    "JNorth_Adult_First_Site_2013_df.shape"
   ]
  },
  {
   "cell_type": "code",
   "execution_count": 180,
   "id": "e5c256a8",
   "metadata": {},
   "outputs": [],
   "source": [
    "JNorth_Adult_First_Site_2013_df = pd.DataFrame(JNorth_Adult_First_Site_2013_df)\n",
    "JNorth_Adult_First_Site_2013_df.drop(['year'], axis=1, inplace=True)"
   ]
  },
  {
   "cell_type": "code",
   "execution_count": 181,
   "id": "a28bf072",
   "metadata": {},
   "outputs": [
    {
     "data": {
      "text/plain": [
       "<bound method NDFrame.tail of       sighting_date                species  latitude  longitude  number\n",
       "12349    2013-01-01  Monarch Adult Sighted    19.590   -100.266       1\n",
       "12350    2013-01-01  Monarch Adult Sighted    27.294    -80.350       1\n",
       "12351    2013-01-01  Monarch Adult Sighted    27.954    -82.457       1\n",
       "12352    2013-01-01  Monarch Adult Sighted    33.421   -112.069      12\n",
       "12353    2013-01-01  Monarch Adult Sighted    34.045   -118.682       1\n",
       "...             ...                    ...       ...        ...     ...\n",
       "16434    2013-12-22  Monarch Adult Sighted    30.034    -99.092       1\n",
       "16435    2013-12-25  Monarch Adult Sighted    29.821    -98.751       1\n",
       "16436    2013-12-26  Monarch Adult Sighted    19.590   -100.266       1\n",
       "16437    2013-12-29  Monarch Adult Sighted    29.757    -95.365       1\n",
       "16438    2013-12-30  Monarch Adult Sighted    33.398   -117.554       1\n",
       "\n",
       "[4090 rows x 5 columns]>"
      ]
     },
     "execution_count": 181,
     "metadata": {},
     "output_type": "execute_result"
    }
   ],
   "source": [
    "JNorth_Adult_First_Site_2013_df.tail"
   ]
  },
  {
   "cell_type": "code",
   "execution_count": 182,
   "id": "0dba463b",
   "metadata": {},
   "outputs": [],
   "source": [
    "JNorth_Adult_First_Site_2013_df['month'] = pd.DatetimeIndex(JNorth_Adult_First_Site_2013_df['sighting_date']).month"
   ]
  },
  {
   "cell_type": "markdown",
   "id": "5433aeed",
   "metadata": {},
   "source": [
    "## January"
   ]
  },
  {
   "cell_type": "code",
   "execution_count": 183,
   "id": "29864205",
   "metadata": {},
   "outputs": [
    {
     "data": {
      "text/html": [
       "<div>\n",
       "<style scoped>\n",
       "    .dataframe tbody tr th:only-of-type {\n",
       "        vertical-align: middle;\n",
       "    }\n",
       "\n",
       "    .dataframe tbody tr th {\n",
       "        vertical-align: top;\n",
       "    }\n",
       "\n",
       "    .dataframe thead th {\n",
       "        text-align: right;\n",
       "    }\n",
       "</style>\n",
       "<table border=\"1\" class=\"dataframe\">\n",
       "  <thead>\n",
       "    <tr style=\"text-align: right;\">\n",
       "      <th></th>\n",
       "      <th>sighting_date</th>\n",
       "      <th>species</th>\n",
       "      <th>latitude</th>\n",
       "      <th>longitude</th>\n",
       "      <th>number</th>\n",
       "      <th>month</th>\n",
       "    </tr>\n",
       "  </thead>\n",
       "  <tbody>\n",
       "    <tr>\n",
       "      <th>12404</th>\n",
       "      <td>2013-01-29</td>\n",
       "      <td>Monarch Adult Sighted</td>\n",
       "      <td>29.524</td>\n",
       "      <td>-95.535</td>\n",
       "      <td>1</td>\n",
       "      <td>1</td>\n",
       "    </tr>\n",
       "    <tr>\n",
       "      <th>12405</th>\n",
       "      <td>2013-01-29</td>\n",
       "      <td>Monarch Adult Sighted</td>\n",
       "      <td>33.831</td>\n",
       "      <td>-118.073</td>\n",
       "      <td>1</td>\n",
       "      <td>1</td>\n",
       "    </tr>\n",
       "    <tr>\n",
       "      <th>12406</th>\n",
       "      <td>2013-01-31</td>\n",
       "      <td>Monarch Adult Sighted</td>\n",
       "      <td>26.641</td>\n",
       "      <td>-81.872</td>\n",
       "      <td>1</td>\n",
       "      <td>1</td>\n",
       "    </tr>\n",
       "    <tr>\n",
       "      <th>12407</th>\n",
       "      <td>2013-01-31</td>\n",
       "      <td>Monarch Adult Sighted</td>\n",
       "      <td>26.990</td>\n",
       "      <td>-82.097</td>\n",
       "      <td>1</td>\n",
       "      <td>1</td>\n",
       "    </tr>\n",
       "    <tr>\n",
       "      <th>12408</th>\n",
       "      <td>2013-01-31</td>\n",
       "      <td>Monarch Adult Sighted</td>\n",
       "      <td>29.836</td>\n",
       "      <td>-95.735</td>\n",
       "      <td>1</td>\n",
       "      <td>1</td>\n",
       "    </tr>\n",
       "  </tbody>\n",
       "</table>\n",
       "</div>"
      ],
      "text/plain": [
       "      sighting_date                species  latitude  longitude  number  month\n",
       "12404    2013-01-29  Monarch Adult Sighted    29.524    -95.535       1      1\n",
       "12405    2013-01-29  Monarch Adult Sighted    33.831   -118.073       1      1\n",
       "12406    2013-01-31  Monarch Adult Sighted    26.641    -81.872       1      1\n",
       "12407    2013-01-31  Monarch Adult Sighted    26.990    -82.097       1      1\n",
       "12408    2013-01-31  Monarch Adult Sighted    29.836    -95.735       1      1"
      ]
     },
     "execution_count": 183,
     "metadata": {},
     "output_type": "execute_result"
    }
   ],
   "source": [
    "JNorth_Adult_First_Site_2013_month_df =pd.DataFrame(JNorth_Adult_First_Site_2013_df)\n",
    "JNorth_Adult_First_Site_2013_1_df = JNorth_Adult_First_Site_2013_month_df[JNorth_Adult_First_Site_2013_month_df['month']==1]\n",
    "JNorth_Adult_First_Site_2013_1_df.tail()"
   ]
  },
  {
   "cell_type": "code",
   "execution_count": 184,
   "id": "e394de26",
   "metadata": {},
   "outputs": [
    {
     "data": {
      "text/plain": [
       "(60, 6)"
      ]
     },
     "execution_count": 184,
     "metadata": {},
     "output_type": "execute_result"
    }
   ],
   "source": [
    "JNorth_Adult_First_Site_2013_1_df.shape"
   ]
  },
  {
   "cell_type": "code",
   "execution_count": 185,
   "id": "95031fb5",
   "metadata": {},
   "outputs": [],
   "source": [
    "JNorth_Adult_First_Site_2013_1_df = pd.DataFrame(JNorth_Adult_First_Site_2013_1_df)\n",
    "JNorth_Adult_First_Site_2013_1_df.drop(['month'], axis=1, inplace=True)"
   ]
  },
  {
   "cell_type": "code",
   "execution_count": 186,
   "id": "c4d3ff7b",
   "metadata": {},
   "outputs": [],
   "source": [
    "# convert lat-long to floats and change address from ALL CAPS to regular capitalization\n",
    "JNorth_Adult_First_Site_2013_1_df['latitude'] = JNorth_Adult_First_Site_2013_1_df['latitude'].astype(float)\n",
    "JNorth_Adult_First_Site_2013_1_df['longitude'] = JNorth_Adult_First_Site_2013_1_df['longitude'].astype(float)\n",
    "# JNorth_Milkweed_Site_df['street_address'] = JNorth_Milkweed_Site_df['street_address'].str.title()"
   ]
  },
  {
   "cell_type": "code",
   "execution_count": 187,
   "id": "47533ebf",
   "metadata": {},
   "outputs": [],
   "source": [
    "geojson = df_to_geojson(JNorth_Adult_First_Site_2013_1_df, cols)"
   ]
  },
  {
   "cell_type": "code",
   "execution_count": 188,
   "id": "aecfecdc",
   "metadata": {},
   "outputs": [],
   "source": [
    "file = open(\"JNorth_Adult_First_Site_2013_1.geojson\", \"w\")\n",
    "json.dump(geojson, file, indent =1)\n",
    "file.close()"
   ]
  },
  {
   "cell_type": "markdown",
   "id": "f0c205a9",
   "metadata": {},
   "source": [
    "## February"
   ]
  },
  {
   "cell_type": "code",
   "execution_count": 189,
   "id": "5dc66d0d",
   "metadata": {},
   "outputs": [
    {
     "data": {
      "text/html": [
       "<div>\n",
       "<style scoped>\n",
       "    .dataframe tbody tr th:only-of-type {\n",
       "        vertical-align: middle;\n",
       "    }\n",
       "\n",
       "    .dataframe tbody tr th {\n",
       "        vertical-align: top;\n",
       "    }\n",
       "\n",
       "    .dataframe thead th {\n",
       "        text-align: right;\n",
       "    }\n",
       "</style>\n",
       "<table border=\"1\" class=\"dataframe\">\n",
       "  <thead>\n",
       "    <tr style=\"text-align: right;\">\n",
       "      <th></th>\n",
       "      <th>sighting_date</th>\n",
       "      <th>species</th>\n",
       "      <th>latitude</th>\n",
       "      <th>longitude</th>\n",
       "      <th>number</th>\n",
       "      <th>month</th>\n",
       "    </tr>\n",
       "  </thead>\n",
       "  <tbody>\n",
       "    <tr>\n",
       "      <th>12484</th>\n",
       "      <td>2013-02-26</td>\n",
       "      <td>Monarch Adult Sighted</td>\n",
       "      <td>33.212</td>\n",
       "      <td>-95.218</td>\n",
       "      <td>1</td>\n",
       "      <td>2</td>\n",
       "    </tr>\n",
       "    <tr>\n",
       "      <th>12485</th>\n",
       "      <td>2013-02-26</td>\n",
       "      <td>Monarch Adult Sighted</td>\n",
       "      <td>33.963</td>\n",
       "      <td>-117.247</td>\n",
       "      <td>1</td>\n",
       "      <td>2</td>\n",
       "    </tr>\n",
       "    <tr>\n",
       "      <th>12486</th>\n",
       "      <td>2013-02-27</td>\n",
       "      <td>Monarch Adult Sighted</td>\n",
       "      <td>26.063</td>\n",
       "      <td>-80.233</td>\n",
       "      <td>1</td>\n",
       "      <td>2</td>\n",
       "    </tr>\n",
       "    <tr>\n",
       "      <th>12487</th>\n",
       "      <td>2013-02-27</td>\n",
       "      <td>Monarch Adult Sighted</td>\n",
       "      <td>33.761</td>\n",
       "      <td>-118.199</td>\n",
       "      <td>1</td>\n",
       "      <td>2</td>\n",
       "    </tr>\n",
       "    <tr>\n",
       "      <th>12488</th>\n",
       "      <td>2013-02-28</td>\n",
       "      <td>Monarch Adult Sighted</td>\n",
       "      <td>35.221</td>\n",
       "      <td>-120.635</td>\n",
       "      <td>1</td>\n",
       "      <td>2</td>\n",
       "    </tr>\n",
       "  </tbody>\n",
       "</table>\n",
       "</div>"
      ],
      "text/plain": [
       "      sighting_date                species  latitude  longitude  number  month\n",
       "12484    2013-02-26  Monarch Adult Sighted    33.212    -95.218       1      2\n",
       "12485    2013-02-26  Monarch Adult Sighted    33.963   -117.247       1      2\n",
       "12486    2013-02-27  Monarch Adult Sighted    26.063    -80.233       1      2\n",
       "12487    2013-02-27  Monarch Adult Sighted    33.761   -118.199       1      2\n",
       "12488    2013-02-28  Monarch Adult Sighted    35.221   -120.635       1      2"
      ]
     },
     "execution_count": 189,
     "metadata": {},
     "output_type": "execute_result"
    }
   ],
   "source": [
    "JNorth_Adult_First_Site_2013_month_df =pd.DataFrame(JNorth_Adult_First_Site_2013_df)\n",
    "JNorth_Adult_First_Site_2013_2_df = JNorth_Adult_First_Site_2013_month_df[JNorth_Adult_First_Site_2013_month_df['month']==2]\n",
    "JNorth_Adult_First_Site_2013_2_df.tail()"
   ]
  },
  {
   "cell_type": "code",
   "execution_count": 190,
   "id": "2939fa09",
   "metadata": {},
   "outputs": [
    {
     "data": {
      "text/plain": [
       "(80, 6)"
      ]
     },
     "execution_count": 190,
     "metadata": {},
     "output_type": "execute_result"
    }
   ],
   "source": [
    "JNorth_Adult_First_Site_2013_2_df.shape"
   ]
  },
  {
   "cell_type": "code",
   "execution_count": 191,
   "id": "055df0e1",
   "metadata": {},
   "outputs": [],
   "source": [
    "JNorth_Adult_First_Site_2013_2_df = pd.DataFrame(JNorth_Adult_First_Site_2013_2_df)\n",
    "JNorth_Adult_First_Site_2013_2_df.drop(['month'], axis=1, inplace=True)"
   ]
  },
  {
   "cell_type": "code",
   "execution_count": 192,
   "id": "8b945994",
   "metadata": {},
   "outputs": [],
   "source": [
    "# convert lat-long to floats and change address from ALL CAPS to regular capitalization\n",
    "JNorth_Adult_First_Site_2013_2_df['latitude'] = JNorth_Adult_First_Site_2013_2_df['latitude'].astype(float)\n",
    "JNorth_Adult_First_Site_2013_2_df['longitude'] = JNorth_Adult_First_Site_2013_2_df['longitude'].astype(float)\n",
    "# JNorth_Milkweed_Site_df['street_address'] = JNorth_Milkweed_Site_df['street_address'].str.title()"
   ]
  },
  {
   "cell_type": "code",
   "execution_count": 193,
   "id": "bd2a727a",
   "metadata": {},
   "outputs": [],
   "source": [
    "geojson = df_to_geojson(JNorth_Adult_First_Site_2013_2_df, cols)"
   ]
  },
  {
   "cell_type": "code",
   "execution_count": 194,
   "id": "336c1e4d",
   "metadata": {},
   "outputs": [],
   "source": [
    "file = open(\"JNorth_Adult_First_Site_2013_2.geojson\", \"w\")\n",
    "json.dump(geojson, file, indent =1)\n",
    "file.close()"
   ]
  },
  {
   "cell_type": "markdown",
   "id": "308bd862",
   "metadata": {},
   "source": [
    "## March"
   ]
  },
  {
   "cell_type": "code",
   "execution_count": 195,
   "id": "6b02a9ba",
   "metadata": {},
   "outputs": [
    {
     "data": {
      "text/html": [
       "<div>\n",
       "<style scoped>\n",
       "    .dataframe tbody tr th:only-of-type {\n",
       "        vertical-align: middle;\n",
       "    }\n",
       "\n",
       "    .dataframe tbody tr th {\n",
       "        vertical-align: top;\n",
       "    }\n",
       "\n",
       "    .dataframe thead th {\n",
       "        text-align: right;\n",
       "    }\n",
       "</style>\n",
       "<table border=\"1\" class=\"dataframe\">\n",
       "  <thead>\n",
       "    <tr style=\"text-align: right;\">\n",
       "      <th></th>\n",
       "      <th>sighting_date</th>\n",
       "      <th>species</th>\n",
       "      <th>latitude</th>\n",
       "      <th>longitude</th>\n",
       "      <th>number</th>\n",
       "      <th>month</th>\n",
       "    </tr>\n",
       "  </thead>\n",
       "  <tbody>\n",
       "    <tr>\n",
       "      <th>12489</th>\n",
       "      <td>2013-03-01</td>\n",
       "      <td>Monarch Adult Sighted</td>\n",
       "      <td>29.635</td>\n",
       "      <td>-95.635</td>\n",
       "      <td>1</td>\n",
       "      <td>3</td>\n",
       "    </tr>\n",
       "    <tr>\n",
       "      <th>12490</th>\n",
       "      <td>2013-03-01</td>\n",
       "      <td>Monarch Adult Sighted</td>\n",
       "      <td>29.957</td>\n",
       "      <td>-90.078</td>\n",
       "      <td>1</td>\n",
       "      <td>3</td>\n",
       "    </tr>\n",
       "    <tr>\n",
       "      <th>12491</th>\n",
       "      <td>2013-03-09</td>\n",
       "      <td>Monarch Adult Sighted</td>\n",
       "      <td>37.058</td>\n",
       "      <td>-76.464</td>\n",
       "      <td>1</td>\n",
       "      <td>3</td>\n",
       "    </tr>\n",
       "  </tbody>\n",
       "</table>\n",
       "</div>"
      ],
      "text/plain": [
       "      sighting_date                species  latitude  longitude  number  month\n",
       "12489    2013-03-01  Monarch Adult Sighted    29.635    -95.635       1      3\n",
       "12490    2013-03-01  Monarch Adult Sighted    29.957    -90.078       1      3\n",
       "12491    2013-03-09  Monarch Adult Sighted    37.058    -76.464       1      3"
      ]
     },
     "execution_count": 195,
     "metadata": {},
     "output_type": "execute_result"
    }
   ],
   "source": [
    "JNorth_Adult_First_Site_2013_month_df =pd.DataFrame(JNorth_Adult_First_Site_2013_df)\n",
    "JNorth_Adult_First_Site_2013_3_df = JNorth_Adult_First_Site_2013_month_df[JNorth_Adult_First_Site_2013_month_df['month']==3]\n",
    "JNorth_Adult_First_Site_2013_3_df.tail()"
   ]
  },
  {
   "cell_type": "code",
   "execution_count": 196,
   "id": "95014e39",
   "metadata": {},
   "outputs": [
    {
     "data": {
      "text/plain": [
       "(3, 6)"
      ]
     },
     "execution_count": 196,
     "metadata": {},
     "output_type": "execute_result"
    }
   ],
   "source": [
    "JNorth_Adult_First_Site_2013_3_df.shape"
   ]
  },
  {
   "cell_type": "code",
   "execution_count": 197,
   "id": "db866638",
   "metadata": {},
   "outputs": [],
   "source": [
    "JNorth_Adult_First_Site_2013_3_df = pd.DataFrame(JNorth_Adult_First_Site_2013_3_df)\n",
    "JNorth_Adult_First_Site_2013_3_df.drop(['month'], axis=1, inplace=True)"
   ]
  },
  {
   "cell_type": "code",
   "execution_count": 198,
   "id": "2e4fb224",
   "metadata": {},
   "outputs": [],
   "source": [
    "# convert lat-long to floats and change address from ALL CAPS to regular capitalization\n",
    "JNorth_Adult_First_Site_2013_3_df['latitude'] = JNorth_Adult_First_Site_2013_3_df['latitude'].astype(float)\n",
    "JNorth_Adult_First_Site_2013_3_df['longitude'] = JNorth_Adult_First_Site_2013_3_df['longitude'].astype(float)\n",
    "# JNorth_Milkweed_Site_df['street_address'] = JNorth_Milkweed_Site_df['street_address'].str.title()"
   ]
  },
  {
   "cell_type": "code",
   "execution_count": 199,
   "id": "a3df213a",
   "metadata": {},
   "outputs": [],
   "source": [
    "geojson = df_to_geojson(JNorth_Adult_First_Site_2013_3_df, cols)"
   ]
  },
  {
   "cell_type": "code",
   "execution_count": 200,
   "id": "aaaf0ed1",
   "metadata": {},
   "outputs": [],
   "source": [
    "file = open(\"JNorth_Adult_First_Site_2013_3.geojson\", \"w\")\n",
    "json.dump(geojson, file, indent =1)\n",
    "file.close()"
   ]
  },
  {
   "cell_type": "markdown",
   "id": "5b8eefd5",
   "metadata": {},
   "source": [
    "## April"
   ]
  },
  {
   "cell_type": "code",
   "execution_count": 201,
   "id": "9de021e0",
   "metadata": {},
   "outputs": [
    {
     "data": {
      "text/html": [
       "<div>\n",
       "<style scoped>\n",
       "    .dataframe tbody tr th:only-of-type {\n",
       "        vertical-align: middle;\n",
       "    }\n",
       "\n",
       "    .dataframe tbody tr th {\n",
       "        vertical-align: top;\n",
       "    }\n",
       "\n",
       "    .dataframe thead th {\n",
       "        text-align: right;\n",
       "    }\n",
       "</style>\n",
       "<table border=\"1\" class=\"dataframe\">\n",
       "  <thead>\n",
       "    <tr style=\"text-align: right;\">\n",
       "      <th></th>\n",
       "      <th>sighting_date</th>\n",
       "      <th>species</th>\n",
       "      <th>latitude</th>\n",
       "      <th>longitude</th>\n",
       "      <th>number</th>\n",
       "      <th>month</th>\n",
       "    </tr>\n",
       "  </thead>\n",
       "  <tbody>\n",
       "  </tbody>\n",
       "</table>\n",
       "</div>"
      ],
      "text/plain": [
       "Empty DataFrame\n",
       "Columns: [sighting_date, species, latitude, longitude, number, month]\n",
       "Index: []"
      ]
     },
     "execution_count": 201,
     "metadata": {},
     "output_type": "execute_result"
    }
   ],
   "source": [
    "JNorth_Adult_First_Site_2013_month_df =pd.DataFrame(JNorth_Adult_First_Site_2013_df)\n",
    "JNorth_Adult_First_Site_2013_4_df = JNorth_Adult_First_Site_2013_month_df[JNorth_Adult_First_Site_2013_month_df['month']==4]\n",
    "JNorth_Adult_First_Site_2013_4_df.tail()"
   ]
  },
  {
   "cell_type": "code",
   "execution_count": 202,
   "id": "4a92a749",
   "metadata": {},
   "outputs": [
    {
     "data": {
      "text/plain": [
       "(0, 6)"
      ]
     },
     "execution_count": 202,
     "metadata": {},
     "output_type": "execute_result"
    }
   ],
   "source": [
    "JNorth_Adult_First_Site_2013_4_df.shape"
   ]
  },
  {
   "cell_type": "code",
   "execution_count": 203,
   "id": "c1bcccfd",
   "metadata": {},
   "outputs": [],
   "source": [
    "JNorth_Adult_First_Site_2013_4_df =pd.DataFrame(JNorth_Adult_First_Site_2013_4_df)\n",
    "JNorth_Adult_First_Site_2013_4_df.drop(['month'], axis=1, inplace=True)"
   ]
  },
  {
   "cell_type": "code",
   "execution_count": 204,
   "id": "083929cc",
   "metadata": {},
   "outputs": [],
   "source": [
    "# convert lat-long to floats and change address from ALL CAPS to regular capitalization\n",
    "JNorth_Adult_First_Site_2013_4_df['latitude'] = JNorth_Adult_First_Site_2013_4_df['latitude'].astype(float)\n",
    "JNorth_Adult_First_Site_2013_4_df['longitude'] = JNorth_Adult_First_Site_2013_4_df['longitude'].astype(float)\n",
    "# JNorth_Milkweed_Site_df['street_address'] = JNorth_Milkweed_Site_df['street_address'].str.title()"
   ]
  },
  {
   "cell_type": "code",
   "execution_count": 205,
   "id": "63ecb386",
   "metadata": {},
   "outputs": [],
   "source": [
    "geojson = df_to_geojson(JNorth_Adult_First_Site_2013_4_df, cols)"
   ]
  },
  {
   "cell_type": "code",
   "execution_count": 206,
   "id": "8da2fa34",
   "metadata": {},
   "outputs": [],
   "source": [
    "file = open(\"JNorth_Adult_First_Site_2013_4.geojson\", \"w\")\n",
    "json.dump(geojson, file, indent =1)\n",
    "file.close()"
   ]
  },
  {
   "cell_type": "markdown",
   "id": "e4b0927a",
   "metadata": {},
   "source": [
    "## May"
   ]
  },
  {
   "cell_type": "code",
   "execution_count": 207,
   "id": "08818b34",
   "metadata": {},
   "outputs": [
    {
     "data": {
      "text/html": [
       "<div>\n",
       "<style scoped>\n",
       "    .dataframe tbody tr th:only-of-type {\n",
       "        vertical-align: middle;\n",
       "    }\n",
       "\n",
       "    .dataframe tbody tr th {\n",
       "        vertical-align: top;\n",
       "    }\n",
       "\n",
       "    .dataframe thead th {\n",
       "        text-align: right;\n",
       "    }\n",
       "</style>\n",
       "<table border=\"1\" class=\"dataframe\">\n",
       "  <thead>\n",
       "    <tr style=\"text-align: right;\">\n",
       "      <th></th>\n",
       "      <th>sighting_date</th>\n",
       "      <th>species</th>\n",
       "      <th>latitude</th>\n",
       "      <th>longitude</th>\n",
       "      <th>number</th>\n",
       "      <th>month</th>\n",
       "    </tr>\n",
       "  </thead>\n",
       "  <tbody>\n",
       "    <tr>\n",
       "      <th>12494</th>\n",
       "      <td>2013-05-15</td>\n",
       "      <td>Monarch Adult Sighted</td>\n",
       "      <td>38.450</td>\n",
       "      <td>-76.220</td>\n",
       "      <td>1</td>\n",
       "      <td>5</td>\n",
       "    </tr>\n",
       "    <tr>\n",
       "      <th>12495</th>\n",
       "      <td>2013-05-18</td>\n",
       "      <td>Monarch Adult Sighted</td>\n",
       "      <td>39.746</td>\n",
       "      <td>-75.547</td>\n",
       "      <td>2</td>\n",
       "      <td>5</td>\n",
       "    </tr>\n",
       "    <tr>\n",
       "      <th>12496</th>\n",
       "      <td>2013-05-19</td>\n",
       "      <td>Monarch Adult Sighted</td>\n",
       "      <td>32.237</td>\n",
       "      <td>-80.887</td>\n",
       "      <td>1</td>\n",
       "      <td>5</td>\n",
       "    </tr>\n",
       "    <tr>\n",
       "      <th>12497</th>\n",
       "      <td>2013-05-25</td>\n",
       "      <td>Monarch Adult Sighted</td>\n",
       "      <td>43.592</td>\n",
       "      <td>-70.369</td>\n",
       "      <td>1</td>\n",
       "      <td>5</td>\n",
       "    </tr>\n",
       "    <tr>\n",
       "      <th>12498</th>\n",
       "      <td>2013-05-30</td>\n",
       "      <td>Monarch Adult Sighted</td>\n",
       "      <td>34.604</td>\n",
       "      <td>-106.669</td>\n",
       "      <td>1</td>\n",
       "      <td>5</td>\n",
       "    </tr>\n",
       "  </tbody>\n",
       "</table>\n",
       "</div>"
      ],
      "text/plain": [
       "      sighting_date                species  latitude  longitude  number  month\n",
       "12494    2013-05-15  Monarch Adult Sighted    38.450    -76.220       1      5\n",
       "12495    2013-05-18  Monarch Adult Sighted    39.746    -75.547       2      5\n",
       "12496    2013-05-19  Monarch Adult Sighted    32.237    -80.887       1      5\n",
       "12497    2013-05-25  Monarch Adult Sighted    43.592    -70.369       1      5\n",
       "12498    2013-05-30  Monarch Adult Sighted    34.604   -106.669       1      5"
      ]
     },
     "execution_count": 207,
     "metadata": {},
     "output_type": "execute_result"
    }
   ],
   "source": [
    "JNorth_Adult_First_Site_2013_month_df =pd.DataFrame(JNorth_Adult_First_Site_2013_df)\n",
    "JNorth_Adult_First_Site_2013_5_df = JNorth_Adult_First_Site_2013_month_df[JNorth_Adult_First_Site_2013_month_df['month']==5]\n",
    "JNorth_Adult_First_Site_2013_5_df.tail()"
   ]
  },
  {
   "cell_type": "code",
   "execution_count": 208,
   "id": "8e3b442c",
   "metadata": {},
   "outputs": [
    {
     "data": {
      "text/plain": [
       "(7, 6)"
      ]
     },
     "execution_count": 208,
     "metadata": {},
     "output_type": "execute_result"
    }
   ],
   "source": [
    "JNorth_Adult_First_Site_2013_5_df.shape"
   ]
  },
  {
   "cell_type": "code",
   "execution_count": 209,
   "id": "dbcbd9d1",
   "metadata": {},
   "outputs": [],
   "source": [
    "JNorth_Adult_First_Site_2013_5_df =pd.DataFrame(JNorth_Adult_First_Site_2013_5_df)\n",
    "JNorth_Adult_First_Site_2013_5_df.drop(['month'], axis=1, inplace=True)"
   ]
  },
  {
   "cell_type": "code",
   "execution_count": 210,
   "id": "ef16ae7f",
   "metadata": {},
   "outputs": [],
   "source": [
    "# convert lat-long to floats and change address from ALL CAPS to regular capitalization\n",
    "JNorth_Adult_First_Site_2013_5_df['latitude'] = JNorth_Adult_First_Site_2013_5_df['latitude'].astype(float)\n",
    "JNorth_Adult_First_Site_2013_5_df['longitude'] = JNorth_Adult_First_Site_2013_5_df['longitude'].astype(float)\n",
    "# JNorth_Milkweed_Site_df['street_address'] = JNorth_Milkweed_Site_df['street_address'].str.title()"
   ]
  },
  {
   "cell_type": "code",
   "execution_count": 211,
   "id": "f57c29c9",
   "metadata": {},
   "outputs": [],
   "source": [
    "geojson = df_to_geojson(JNorth_Adult_First_Site_2013_5_df, cols)"
   ]
  },
  {
   "cell_type": "code",
   "execution_count": 212,
   "id": "bf28ef88",
   "metadata": {},
   "outputs": [],
   "source": [
    "file = open(\"JNorth_Adult_First_Site_2013_5.geojson\", \"w\")\n",
    "json.dump(geojson, file, indent =1)\n",
    "file.close()"
   ]
  },
  {
   "cell_type": "markdown",
   "id": "f17bf01f",
   "metadata": {},
   "source": [
    "## June"
   ]
  },
  {
   "cell_type": "code",
   "execution_count": 213,
   "id": "381829c2",
   "metadata": {},
   "outputs": [
    {
     "data": {
      "text/html": [
       "<div>\n",
       "<style scoped>\n",
       "    .dataframe tbody tr th:only-of-type {\n",
       "        vertical-align: middle;\n",
       "    }\n",
       "\n",
       "    .dataframe tbody tr th {\n",
       "        vertical-align: top;\n",
       "    }\n",
       "\n",
       "    .dataframe thead th {\n",
       "        text-align: right;\n",
       "    }\n",
       "</style>\n",
       "<table border=\"1\" class=\"dataframe\">\n",
       "  <thead>\n",
       "    <tr style=\"text-align: right;\">\n",
       "      <th></th>\n",
       "      <th>sighting_date</th>\n",
       "      <th>species</th>\n",
       "      <th>latitude</th>\n",
       "      <th>longitude</th>\n",
       "      <th>number</th>\n",
       "      <th>month</th>\n",
       "    </tr>\n",
       "  </thead>\n",
       "  <tbody>\n",
       "    <tr>\n",
       "      <th>12499</th>\n",
       "      <td>2013-06-15</td>\n",
       "      <td>Monarch Adult Sighted</td>\n",
       "      <td>45.321</td>\n",
       "      <td>-84.445</td>\n",
       "      <td>4</td>\n",
       "      <td>6</td>\n",
       "    </tr>\n",
       "    <tr>\n",
       "      <th>12500</th>\n",
       "      <td>2013-06-16</td>\n",
       "      <td>Monarch Adult Sighted</td>\n",
       "      <td>40.783</td>\n",
       "      <td>-123.130</td>\n",
       "      <td>1</td>\n",
       "      <td>6</td>\n",
       "    </tr>\n",
       "    <tr>\n",
       "      <th>12501</th>\n",
       "      <td>2013-06-22</td>\n",
       "      <td>Monarch Adult Sighted</td>\n",
       "      <td>40.336</td>\n",
       "      <td>-121.915</td>\n",
       "      <td>1</td>\n",
       "      <td>6</td>\n",
       "    </tr>\n",
       "    <tr>\n",
       "      <th>12502</th>\n",
       "      <td>2013-06-25</td>\n",
       "      <td>Monarch Adult Sighted</td>\n",
       "      <td>40.116</td>\n",
       "      <td>-75.014</td>\n",
       "      <td>1</td>\n",
       "      <td>6</td>\n",
       "    </tr>\n",
       "    <tr>\n",
       "      <th>12503</th>\n",
       "      <td>2013-06-28</td>\n",
       "      <td>Monarch Adult Sighted</td>\n",
       "      <td>39.763</td>\n",
       "      <td>-86.400</td>\n",
       "      <td>1</td>\n",
       "      <td>6</td>\n",
       "    </tr>\n",
       "  </tbody>\n",
       "</table>\n",
       "</div>"
      ],
      "text/plain": [
       "      sighting_date                species  latitude  longitude  number  month\n",
       "12499    2013-06-15  Monarch Adult Sighted    45.321    -84.445       4      6\n",
       "12500    2013-06-16  Monarch Adult Sighted    40.783   -123.130       1      6\n",
       "12501    2013-06-22  Monarch Adult Sighted    40.336   -121.915       1      6\n",
       "12502    2013-06-25  Monarch Adult Sighted    40.116    -75.014       1      6\n",
       "12503    2013-06-28  Monarch Adult Sighted    39.763    -86.400       1      6"
      ]
     },
     "execution_count": 213,
     "metadata": {},
     "output_type": "execute_result"
    }
   ],
   "source": [
    "JNorth_Adult_First_Site_2013_month_df =pd.DataFrame(JNorth_Adult_First_Site_2013_df)\n",
    "JNorth_Adult_First_Site_2013_6_df = JNorth_Adult_First_Site_2013_month_df[JNorth_Adult_First_Site_2013_month_df['month']==6]\n",
    "JNorth_Adult_First_Site_2013_6_df.tail()"
   ]
  },
  {
   "cell_type": "code",
   "execution_count": 214,
   "id": "ec35325f",
   "metadata": {},
   "outputs": [
    {
     "data": {
      "text/plain": [
       "(5, 6)"
      ]
     },
     "execution_count": 214,
     "metadata": {},
     "output_type": "execute_result"
    }
   ],
   "source": [
    "JNorth_Adult_First_Site_2013_6_df.shape"
   ]
  },
  {
   "cell_type": "code",
   "execution_count": 215,
   "id": "8aadd64b",
   "metadata": {},
   "outputs": [],
   "source": [
    "JNorth_Adult_First_Site_2013_6_df = pd.DataFrame(JNorth_Adult_First_Site_2013_6_df)\n",
    "JNorth_Adult_First_Site_2013_6_df.drop(['month'], axis=1, inplace=True)"
   ]
  },
  {
   "cell_type": "code",
   "execution_count": 216,
   "id": "ae769a01",
   "metadata": {},
   "outputs": [],
   "source": [
    "# convert lat-long to floats and change address from ALL CAPS to regular capitalization\n",
    "JNorth_Adult_First_Site_2013_6_df['latitude'] = JNorth_Adult_First_Site_2013_6_df['latitude'].astype(float)\n",
    "JNorth_Adult_First_Site_2013_6_df['longitude'] = JNorth_Adult_First_Site_2013_6_df['longitude'].astype(float)\n",
    "# JNorth_Milkweed_Site_df['street_address'] = JNorth_Milkweed_Site_df['street_address'].str.title()"
   ]
  },
  {
   "cell_type": "code",
   "execution_count": 217,
   "id": "4e1cbc00",
   "metadata": {},
   "outputs": [],
   "source": [
    "geojson = df_to_geojson(JNorth_Adult_First_Site_2013_6_df, cols)"
   ]
  },
  {
   "cell_type": "code",
   "execution_count": 218,
   "id": "72fe008a",
   "metadata": {},
   "outputs": [],
   "source": [
    "file = open(\"JNorth_Adult_First_Site_2013_6.geojson\", \"w\")\n",
    "json.dump(geojson, file, indent =1)\n",
    "file.close()"
   ]
  },
  {
   "cell_type": "markdown",
   "id": "e88e1c71",
   "metadata": {},
   "source": [
    "## July"
   ]
  },
  {
   "cell_type": "code",
   "execution_count": 219,
   "id": "77e25b46",
   "metadata": {},
   "outputs": [
    {
     "data": {
      "text/html": [
       "<div>\n",
       "<style scoped>\n",
       "    .dataframe tbody tr th:only-of-type {\n",
       "        vertical-align: middle;\n",
       "    }\n",
       "\n",
       "    .dataframe tbody tr th {\n",
       "        vertical-align: top;\n",
       "    }\n",
       "\n",
       "    .dataframe thead th {\n",
       "        text-align: right;\n",
       "    }\n",
       "</style>\n",
       "<table border=\"1\" class=\"dataframe\">\n",
       "  <thead>\n",
       "    <tr style=\"text-align: right;\">\n",
       "      <th></th>\n",
       "      <th>sighting_date</th>\n",
       "      <th>species</th>\n",
       "      <th>latitude</th>\n",
       "      <th>longitude</th>\n",
       "      <th>number</th>\n",
       "      <th>month</th>\n",
       "    </tr>\n",
       "  </thead>\n",
       "  <tbody>\n",
       "    <tr>\n",
       "      <th>12534</th>\n",
       "      <td>2013-07-31</td>\n",
       "      <td>Monarch Adult Sighted</td>\n",
       "      <td>34.003</td>\n",
       "      <td>-118.028</td>\n",
       "      <td>1</td>\n",
       "      <td>7</td>\n",
       "    </tr>\n",
       "    <tr>\n",
       "      <th>12535</th>\n",
       "      <td>2013-07-31</td>\n",
       "      <td>Monarch Adult Sighted</td>\n",
       "      <td>38.445</td>\n",
       "      <td>-93.178</td>\n",
       "      <td>1</td>\n",
       "      <td>7</td>\n",
       "    </tr>\n",
       "    <tr>\n",
       "      <th>12536</th>\n",
       "      <td>2013-07-31</td>\n",
       "      <td>Monarch Adult Sighted</td>\n",
       "      <td>40.518</td>\n",
       "      <td>-81.656</td>\n",
       "      <td>1</td>\n",
       "      <td>7</td>\n",
       "    </tr>\n",
       "    <tr>\n",
       "      <th>12537</th>\n",
       "      <td>2013-07-31</td>\n",
       "      <td>Monarch Adult Sighted</td>\n",
       "      <td>40.804</td>\n",
       "      <td>-81.990</td>\n",
       "      <td>1</td>\n",
       "      <td>7</td>\n",
       "    </tr>\n",
       "    <tr>\n",
       "      <th>12538</th>\n",
       "      <td>2013-07-31</td>\n",
       "      <td>Monarch Adult Sighted</td>\n",
       "      <td>41.118</td>\n",
       "      <td>-76.842</td>\n",
       "      <td>4</td>\n",
       "      <td>7</td>\n",
       "    </tr>\n",
       "  </tbody>\n",
       "</table>\n",
       "</div>"
      ],
      "text/plain": [
       "      sighting_date                species  latitude  longitude  number  month\n",
       "12534    2013-07-31  Monarch Adult Sighted    34.003   -118.028       1      7\n",
       "12535    2013-07-31  Monarch Adult Sighted    38.445    -93.178       1      7\n",
       "12536    2013-07-31  Monarch Adult Sighted    40.518    -81.656       1      7\n",
       "12537    2013-07-31  Monarch Adult Sighted    40.804    -81.990       1      7\n",
       "12538    2013-07-31  Monarch Adult Sighted    41.118    -76.842       4      7"
      ]
     },
     "execution_count": 219,
     "metadata": {},
     "output_type": "execute_result"
    }
   ],
   "source": [
    "JNorth_Adult_First_Site_2013_month_df =pd.DataFrame(JNorth_Adult_First_Site_2013_df)\n",
    "JNorth_Adult_First_Site_2013_7_df = JNorth_Adult_First_Site_2013_month_df[JNorth_Adult_First_Site_2013_month_df['month']==7]\n",
    "JNorth_Adult_First_Site_2013_7_df.tail()"
   ]
  },
  {
   "cell_type": "code",
   "execution_count": 220,
   "id": "a2dd7a68",
   "metadata": {},
   "outputs": [
    {
     "data": {
      "text/plain": [
       "(35, 6)"
      ]
     },
     "execution_count": 220,
     "metadata": {},
     "output_type": "execute_result"
    }
   ],
   "source": [
    "JNorth_Adult_First_Site_2013_7_df.shape"
   ]
  },
  {
   "cell_type": "code",
   "execution_count": 221,
   "id": "9aa6caeb",
   "metadata": {},
   "outputs": [],
   "source": [
    "JNorth_Adult_First_Site_2013_7_df = pd.DataFrame(JNorth_Adult_First_Site_2013_7_df)\n",
    "JNorth_Adult_First_Site_2013_7_df.drop(['month'], axis=1, inplace=True)"
   ]
  },
  {
   "cell_type": "code",
   "execution_count": 222,
   "id": "42748eef",
   "metadata": {},
   "outputs": [],
   "source": [
    "# convert lat-long to floats and change address from ALL CAPS to regular capitalization\n",
    "JNorth_Adult_First_Site_2013_7_df['latitude'] = JNorth_Adult_First_Site_2013_7_df['latitude'].astype(float)\n",
    "JNorth_Adult_First_Site_2013_7_df['longitude'] = JNorth_Adult_First_Site_2013_7_df['longitude'].astype(float)\n",
    "# JNorth_Milkweed_Site_df['street_address'] = JNorth_Milkweed_Site_df['street_address'].str.title()"
   ]
  },
  {
   "cell_type": "code",
   "execution_count": 223,
   "id": "c0ff994e",
   "metadata": {},
   "outputs": [],
   "source": [
    "geojson = df_to_geojson(JNorth_Adult_First_Site_2013_7_df, cols)"
   ]
  },
  {
   "cell_type": "code",
   "execution_count": 224,
   "id": "a72a37d3",
   "metadata": {},
   "outputs": [],
   "source": [
    "file = open(\"JNorth_Adult_First_Site_2013_7.geojson\", \"w\")\n",
    "json.dump(geojson, file, indent =1)\n",
    "file.close()"
   ]
  },
  {
   "cell_type": "markdown",
   "id": "4ebd9239",
   "metadata": {},
   "source": [
    "## August"
   ]
  },
  {
   "cell_type": "code",
   "execution_count": 225,
   "id": "5c9ebe9f",
   "metadata": {},
   "outputs": [
    {
     "data": {
      "text/html": [
       "<div>\n",
       "<style scoped>\n",
       "    .dataframe tbody tr th:only-of-type {\n",
       "        vertical-align: middle;\n",
       "    }\n",
       "\n",
       "    .dataframe tbody tr th {\n",
       "        vertical-align: top;\n",
       "    }\n",
       "\n",
       "    .dataframe thead th {\n",
       "        text-align: right;\n",
       "    }\n",
       "</style>\n",
       "<table border=\"1\" class=\"dataframe\">\n",
       "  <thead>\n",
       "    <tr style=\"text-align: right;\">\n",
       "      <th></th>\n",
       "      <th>sighting_date</th>\n",
       "      <th>species</th>\n",
       "      <th>latitude</th>\n",
       "      <th>longitude</th>\n",
       "      <th>number</th>\n",
       "      <th>month</th>\n",
       "    </tr>\n",
       "  </thead>\n",
       "  <tbody>\n",
       "    <tr>\n",
       "      <th>13550</th>\n",
       "      <td>2013-08-31</td>\n",
       "      <td>Monarch Adult Sighted</td>\n",
       "      <td>44.627</td>\n",
       "      <td>-93.240</td>\n",
       "      <td>1</td>\n",
       "      <td>8</td>\n",
       "    </tr>\n",
       "    <tr>\n",
       "      <th>13551</th>\n",
       "      <td>2013-08-31</td>\n",
       "      <td>Monarch Adult Sighted</td>\n",
       "      <td>44.738</td>\n",
       "      <td>-91.510</td>\n",
       "      <td>1</td>\n",
       "      <td>8</td>\n",
       "    </tr>\n",
       "    <tr>\n",
       "      <th>13552</th>\n",
       "      <td>2013-08-31</td>\n",
       "      <td>Monarch Adult Sighted</td>\n",
       "      <td>44.902</td>\n",
       "      <td>-93.288</td>\n",
       "      <td>8</td>\n",
       "      <td>8</td>\n",
       "    </tr>\n",
       "    <tr>\n",
       "      <th>13553</th>\n",
       "      <td>2013-08-31</td>\n",
       "      <td>Monarch Adult Sighted</td>\n",
       "      <td>44.986</td>\n",
       "      <td>-93.270</td>\n",
       "      <td>6</td>\n",
       "      <td>8</td>\n",
       "    </tr>\n",
       "    <tr>\n",
       "      <th>13554</th>\n",
       "      <td>2013-08-31</td>\n",
       "      <td>Monarch Adult Sighted</td>\n",
       "      <td>45.317</td>\n",
       "      <td>-77.517</td>\n",
       "      <td>2</td>\n",
       "      <td>8</td>\n",
       "    </tr>\n",
       "  </tbody>\n",
       "</table>\n",
       "</div>"
      ],
      "text/plain": [
       "      sighting_date                species  latitude  longitude  number  month\n",
       "13550    2013-08-31  Monarch Adult Sighted    44.627    -93.240       1      8\n",
       "13551    2013-08-31  Monarch Adult Sighted    44.738    -91.510       1      8\n",
       "13552    2013-08-31  Monarch Adult Sighted    44.902    -93.288       8      8\n",
       "13553    2013-08-31  Monarch Adult Sighted    44.986    -93.270       6      8\n",
       "13554    2013-08-31  Monarch Adult Sighted    45.317    -77.517       2      8"
      ]
     },
     "execution_count": 225,
     "metadata": {},
     "output_type": "execute_result"
    }
   ],
   "source": [
    "JNorth_Adult_First_Site_2013_month_df =pd.DataFrame(JNorth_Adult_First_Site_2013_df)\n",
    "JNorth_Adult_First_Site_2013_8_df = JNorth_Adult_First_Site_2013_month_df[JNorth_Adult_First_Site_2013_month_df['month']==8]\n",
    "JNorth_Adult_First_Site_2013_8_df.tail()"
   ]
  },
  {
   "cell_type": "code",
   "execution_count": 226,
   "id": "ac0f88df",
   "metadata": {},
   "outputs": [
    {
     "data": {
      "text/plain": [
       "(1016, 6)"
      ]
     },
     "execution_count": 226,
     "metadata": {},
     "output_type": "execute_result"
    }
   ],
   "source": [
    "JNorth_Adult_First_Site_2013_8_df.shape"
   ]
  },
  {
   "cell_type": "code",
   "execution_count": 227,
   "id": "a227591e",
   "metadata": {},
   "outputs": [],
   "source": [
    "JNorth_Adult_First_Site_2013_8_df = pd.DataFrame(JNorth_Adult_First_Site_2013_8_df)\n",
    "JNorth_Adult_First_Site_2013_8_df.drop(['month'], axis=1, inplace=True)"
   ]
  },
  {
   "cell_type": "code",
   "execution_count": 228,
   "id": "4e211578",
   "metadata": {},
   "outputs": [],
   "source": [
    "# convert lat-long to floats and change address from ALL CAPS to regular capitalization\n",
    "JNorth_Adult_First_Site_2013_8_df['latitude'] = JNorth_Adult_First_Site_2013_8_df['latitude'].astype(float)\n",
    "JNorth_Adult_First_Site_2013_8_df['longitude'] = JNorth_Adult_First_Site_2013_8_df['longitude'].astype(float)\n",
    "# JNorth_Milkweed_Site_df['street_address'] = JNorth_Milkweed_Site_df['street_address'].str.title()"
   ]
  },
  {
   "cell_type": "code",
   "execution_count": 229,
   "id": "01db8160",
   "metadata": {},
   "outputs": [],
   "source": [
    "geojson = df_to_geojson(JNorth_Adult_First_Site_2013_8_df, cols)"
   ]
  },
  {
   "cell_type": "code",
   "execution_count": 230,
   "id": "3fdff8db",
   "metadata": {},
   "outputs": [],
   "source": [
    "file = open(\"JNorth_Adult_First_Site_2013_8.geojson\", \"w\")\n",
    "json.dump(geojson, file, indent =1)\n",
    "file.close()"
   ]
  },
  {
   "cell_type": "markdown",
   "id": "15eef5a5",
   "metadata": {},
   "source": [
    "## September"
   ]
  },
  {
   "cell_type": "code",
   "execution_count": 231,
   "id": "4201b041",
   "metadata": {},
   "outputs": [
    {
     "data": {
      "text/html": [
       "<div>\n",
       "<style scoped>\n",
       "    .dataframe tbody tr th:only-of-type {\n",
       "        vertical-align: middle;\n",
       "    }\n",
       "\n",
       "    .dataframe tbody tr th {\n",
       "        vertical-align: top;\n",
       "    }\n",
       "\n",
       "    .dataframe thead th {\n",
       "        text-align: right;\n",
       "    }\n",
       "</style>\n",
       "<table border=\"1\" class=\"dataframe\">\n",
       "  <thead>\n",
       "    <tr style=\"text-align: right;\">\n",
       "      <th></th>\n",
       "      <th>sighting_date</th>\n",
       "      <th>species</th>\n",
       "      <th>latitude</th>\n",
       "      <th>longitude</th>\n",
       "      <th>number</th>\n",
       "      <th>month</th>\n",
       "    </tr>\n",
       "  </thead>\n",
       "  <tbody>\n",
       "    <tr>\n",
       "      <th>15093</th>\n",
       "      <td>2013-09-30</td>\n",
       "      <td>Monarch Adult Sighted</td>\n",
       "      <td>44.986</td>\n",
       "      <td>-93.270</td>\n",
       "      <td>2</td>\n",
       "      <td>9</td>\n",
       "    </tr>\n",
       "    <tr>\n",
       "      <th>15094</th>\n",
       "      <td>2013-09-30</td>\n",
       "      <td>Monarch Adult Sighted</td>\n",
       "      <td>45.070</td>\n",
       "      <td>-92.890</td>\n",
       "      <td>1</td>\n",
       "      <td>9</td>\n",
       "    </tr>\n",
       "    <tr>\n",
       "      <th>15095</th>\n",
       "      <td>2013-09-30</td>\n",
       "      <td>Monarch Adult Sighted</td>\n",
       "      <td>45.187</td>\n",
       "      <td>-87.639</td>\n",
       "      <td>1</td>\n",
       "      <td>9</td>\n",
       "    </tr>\n",
       "    <tr>\n",
       "      <th>15096</th>\n",
       "      <td>2013-09-30</td>\n",
       "      <td>Monarch Adult Sighted</td>\n",
       "      <td>45.434</td>\n",
       "      <td>-94.738</td>\n",
       "      <td>1</td>\n",
       "      <td>9</td>\n",
       "    </tr>\n",
       "    <tr>\n",
       "      <th>15097</th>\n",
       "      <td>2013-09-30</td>\n",
       "      <td>Monarch Adult Sighted</td>\n",
       "      <td>45.701</td>\n",
       "      <td>-95.023</td>\n",
       "      <td>3</td>\n",
       "      <td>9</td>\n",
       "    </tr>\n",
       "  </tbody>\n",
       "</table>\n",
       "</div>"
      ],
      "text/plain": [
       "      sighting_date                species  latitude  longitude  number  month\n",
       "15093    2013-09-30  Monarch Adult Sighted    44.986    -93.270       2      9\n",
       "15094    2013-09-30  Monarch Adult Sighted    45.070    -92.890       1      9\n",
       "15095    2013-09-30  Monarch Adult Sighted    45.187    -87.639       1      9\n",
       "15096    2013-09-30  Monarch Adult Sighted    45.434    -94.738       1      9\n",
       "15097    2013-09-30  Monarch Adult Sighted    45.701    -95.023       3      9"
      ]
     },
     "execution_count": 231,
     "metadata": {},
     "output_type": "execute_result"
    }
   ],
   "source": [
    "JNorth_Adult_First_Site_2013_month_df =pd.DataFrame(JNorth_Adult_First_Site_2013_df)\n",
    "JNorth_Adult_First_Site_2013_9_df = JNorth_Adult_First_Site_2013_month_df[JNorth_Adult_First_Site_2013_month_df['month']==9]\n",
    "JNorth_Adult_First_Site_2013_9_df.tail()"
   ]
  },
  {
   "cell_type": "code",
   "execution_count": 232,
   "id": "516fca91",
   "metadata": {},
   "outputs": [
    {
     "data": {
      "text/plain": [
       "(1543, 6)"
      ]
     },
     "execution_count": 232,
     "metadata": {},
     "output_type": "execute_result"
    }
   ],
   "source": [
    "JNorth_Adult_First_Site_2013_9_df.shape"
   ]
  },
  {
   "cell_type": "code",
   "execution_count": 233,
   "id": "a6b91576",
   "metadata": {},
   "outputs": [],
   "source": [
    "JNorth_Adult_First_Site_2013_9_df = pd.DataFrame(JNorth_Adult_First_Site_2013_9_df)\n",
    "JNorth_Adult_First_Site_2013_9_df.drop(['month'], axis=1, inplace=True)"
   ]
  },
  {
   "cell_type": "code",
   "execution_count": 234,
   "id": "8033ae13",
   "metadata": {},
   "outputs": [],
   "source": [
    "# convert lat-long to floats and change address from ALL CAPS to regular capitalization\n",
    "JNorth_Adult_First_Site_2013_9_df['latitude'] = JNorth_Adult_First_Site_2013_9_df['latitude'].astype(float)\n",
    "JNorth_Adult_First_Site_2013_9_df['longitude'] = JNorth_Adult_First_Site_2013_9_df['longitude'].astype(float)\n",
    "# JNorth_Milkweed_Site_df['street_address'] = JNorth_Milkweed_Site_df['street_address'].str.title()"
   ]
  },
  {
   "cell_type": "code",
   "execution_count": 235,
   "id": "da8fe8ce",
   "metadata": {},
   "outputs": [],
   "source": [
    "geojson = df_to_geojson(JNorth_Adult_First_Site_2013_9_df, cols)"
   ]
  },
  {
   "cell_type": "code",
   "execution_count": 236,
   "id": "13e5f165",
   "metadata": {},
   "outputs": [],
   "source": [
    "file = open(\"JNorth_Adult_First_Site_2013_9.geojson\", \"w\")\n",
    "json.dump(geojson, file, indent =1)\n",
    "file.close()"
   ]
  },
  {
   "cell_type": "markdown",
   "id": "ae2cb912",
   "metadata": {},
   "source": [
    "## October"
   ]
  },
  {
   "cell_type": "code",
   "execution_count": 237,
   "id": "4f1607ef",
   "metadata": {},
   "outputs": [
    {
     "data": {
      "text/html": [
       "<div>\n",
       "<style scoped>\n",
       "    .dataframe tbody tr th:only-of-type {\n",
       "        vertical-align: middle;\n",
       "    }\n",
       "\n",
       "    .dataframe tbody tr th {\n",
       "        vertical-align: top;\n",
       "    }\n",
       "\n",
       "    .dataframe thead th {\n",
       "        text-align: right;\n",
       "    }\n",
       "</style>\n",
       "<table border=\"1\" class=\"dataframe\">\n",
       "  <thead>\n",
       "    <tr style=\"text-align: right;\">\n",
       "      <th></th>\n",
       "      <th>sighting_date</th>\n",
       "      <th>species</th>\n",
       "      <th>latitude</th>\n",
       "      <th>longitude</th>\n",
       "      <th>number</th>\n",
       "      <th>month</th>\n",
       "    </tr>\n",
       "  </thead>\n",
       "  <tbody>\n",
       "    <tr>\n",
       "      <th>16277</th>\n",
       "      <td>2013-10-31</td>\n",
       "      <td>Monarch Adult Sighted</td>\n",
       "      <td>32.398</td>\n",
       "      <td>-97.750</td>\n",
       "      <td>4</td>\n",
       "      <td>10</td>\n",
       "    </tr>\n",
       "    <tr>\n",
       "      <th>16278</th>\n",
       "      <td>2013-10-31</td>\n",
       "      <td>Monarch Adult Sighted</td>\n",
       "      <td>32.723</td>\n",
       "      <td>-117.168</td>\n",
       "      <td>5</td>\n",
       "      <td>10</td>\n",
       "    </tr>\n",
       "    <tr>\n",
       "      <th>16279</th>\n",
       "      <td>2013-10-31</td>\n",
       "      <td>Monarch Adult Sighted</td>\n",
       "      <td>33.198</td>\n",
       "      <td>-96.615</td>\n",
       "      <td>1</td>\n",
       "      <td>10</td>\n",
       "    </tr>\n",
       "    <tr>\n",
       "      <th>16280</th>\n",
       "      <td>2013-10-31</td>\n",
       "      <td>Monarch Adult Sighted</td>\n",
       "      <td>33.768</td>\n",
       "      <td>-78.792</td>\n",
       "      <td>1</td>\n",
       "      <td>10</td>\n",
       "    </tr>\n",
       "    <tr>\n",
       "      <th>16281</th>\n",
       "      <td>2013-10-31</td>\n",
       "      <td>Monarch Adult Sighted</td>\n",
       "      <td>38.094</td>\n",
       "      <td>-78.893</td>\n",
       "      <td>4</td>\n",
       "      <td>10</td>\n",
       "    </tr>\n",
       "  </tbody>\n",
       "</table>\n",
       "</div>"
      ],
      "text/plain": [
       "      sighting_date                species  latitude  longitude  number  month\n",
       "16277    2013-10-31  Monarch Adult Sighted    32.398    -97.750       4     10\n",
       "16278    2013-10-31  Monarch Adult Sighted    32.723   -117.168       5     10\n",
       "16279    2013-10-31  Monarch Adult Sighted    33.198    -96.615       1     10\n",
       "16280    2013-10-31  Monarch Adult Sighted    33.768    -78.792       1     10\n",
       "16281    2013-10-31  Monarch Adult Sighted    38.094    -78.893       4     10"
      ]
     },
     "execution_count": 237,
     "metadata": {},
     "output_type": "execute_result"
    }
   ],
   "source": [
    "JNorth_Adult_First_Site_2013_month_df =pd.DataFrame(JNorth_Adult_First_Site_2013_df)\n",
    "JNorth_Adult_First_Site_2013_10_df = JNorth_Adult_First_Site_2013_month_df[JNorth_Adult_First_Site_2013_month_df['month']==10]\n",
    "JNorth_Adult_First_Site_2013_10_df.tail()"
   ]
  },
  {
   "cell_type": "code",
   "execution_count": 238,
   "id": "a53315bd",
   "metadata": {},
   "outputs": [
    {
     "data": {
      "text/plain": [
       "(1184, 6)"
      ]
     },
     "execution_count": 238,
     "metadata": {},
     "output_type": "execute_result"
    }
   ],
   "source": [
    "JNorth_Adult_First_Site_2013_10_df.shape"
   ]
  },
  {
   "cell_type": "code",
   "execution_count": 239,
   "id": "3d9e0ab1",
   "metadata": {},
   "outputs": [],
   "source": [
    "JNorth_Adult_First_Site_2013_10_df = pd.DataFrame(JNorth_Adult_First_Site_2013_10_df)\n",
    "JNorth_Adult_First_Site_2013_10_df.drop(['month'], axis=1, inplace=True)"
   ]
  },
  {
   "cell_type": "code",
   "execution_count": 240,
   "id": "0727e4cf",
   "metadata": {},
   "outputs": [],
   "source": [
    "# convert lat-long to floats and change address from ALL CAPS to regular capitalization\n",
    "JNorth_Adult_First_Site_2013_10_df['latitude'] = JNorth_Adult_First_Site_2013_10_df['latitude'].astype(float)\n",
    "JNorth_Adult_First_Site_2013_10_df['longitude'] = JNorth_Adult_First_Site_2013_10_df['longitude'].astype(float)\n",
    "# JNorth_Milkweed_Site_df['street_address'] = JNorth_Milkweed_Site_df['street_address'].str.title()"
   ]
  },
  {
   "cell_type": "code",
   "execution_count": 241,
   "id": "a86f9fa3",
   "metadata": {},
   "outputs": [],
   "source": [
    "geojson = df_to_geojson(JNorth_Adult_First_Site_2013_10_df, cols)"
   ]
  },
  {
   "cell_type": "code",
   "execution_count": 242,
   "id": "99899523",
   "metadata": {},
   "outputs": [],
   "source": [
    "file = open(\"JNorth_Adult_First_Site_2013_10.geojson\", \"w\")\n",
    "json.dump(geojson, file, indent =1)\n",
    "file.close()"
   ]
  },
  {
   "cell_type": "markdown",
   "id": "4b968d63",
   "metadata": {},
   "source": [
    "## November"
   ]
  },
  {
   "cell_type": "code",
   "execution_count": 243,
   "id": "2c7b2095",
   "metadata": {},
   "outputs": [
    {
     "data": {
      "text/html": [
       "<div>\n",
       "<style scoped>\n",
       "    .dataframe tbody tr th:only-of-type {\n",
       "        vertical-align: middle;\n",
       "    }\n",
       "\n",
       "    .dataframe tbody tr th {\n",
       "        vertical-align: top;\n",
       "    }\n",
       "\n",
       "    .dataframe thead th {\n",
       "        text-align: right;\n",
       "    }\n",
       "</style>\n",
       "<table border=\"1\" class=\"dataframe\">\n",
       "  <thead>\n",
       "    <tr style=\"text-align: right;\">\n",
       "      <th></th>\n",
       "      <th>sighting_date</th>\n",
       "      <th>species</th>\n",
       "      <th>latitude</th>\n",
       "      <th>longitude</th>\n",
       "      <th>number</th>\n",
       "      <th>month</th>\n",
       "    </tr>\n",
       "  </thead>\n",
       "  <tbody>\n",
       "    <tr>\n",
       "      <th>16406</th>\n",
       "      <td>2013-11-25</td>\n",
       "      <td>Monarch Adult Sighted</td>\n",
       "      <td>30.230</td>\n",
       "      <td>-97.714</td>\n",
       "      <td>1</td>\n",
       "      <td>11</td>\n",
       "    </tr>\n",
       "    <tr>\n",
       "      <th>16407</th>\n",
       "      <td>2013-11-27</td>\n",
       "      <td>Monarch Adult Sighted</td>\n",
       "      <td>32.797</td>\n",
       "      <td>-106.114</td>\n",
       "      <td>2</td>\n",
       "      <td>11</td>\n",
       "    </tr>\n",
       "    <tr>\n",
       "      <th>16408</th>\n",
       "      <td>2013-11-28</td>\n",
       "      <td>Monarch Adult Sighted</td>\n",
       "      <td>30.230</td>\n",
       "      <td>-97.714</td>\n",
       "      <td>1</td>\n",
       "      <td>11</td>\n",
       "    </tr>\n",
       "    <tr>\n",
       "      <th>16409</th>\n",
       "      <td>2013-11-29</td>\n",
       "      <td>Monarch Adult Sighted</td>\n",
       "      <td>29.836</td>\n",
       "      <td>-95.735</td>\n",
       "      <td>1</td>\n",
       "      <td>11</td>\n",
       "    </tr>\n",
       "    <tr>\n",
       "      <th>16410</th>\n",
       "      <td>2013-11-29</td>\n",
       "      <td>Monarch Adult Sighted</td>\n",
       "      <td>30.930</td>\n",
       "      <td>-97.557</td>\n",
       "      <td>2</td>\n",
       "      <td>11</td>\n",
       "    </tr>\n",
       "  </tbody>\n",
       "</table>\n",
       "</div>"
      ],
      "text/plain": [
       "      sighting_date                species  latitude  longitude  number  month\n",
       "16406    2013-11-25  Monarch Adult Sighted    30.230    -97.714       1     11\n",
       "16407    2013-11-27  Monarch Adult Sighted    32.797   -106.114       2     11\n",
       "16408    2013-11-28  Monarch Adult Sighted    30.230    -97.714       1     11\n",
       "16409    2013-11-29  Monarch Adult Sighted    29.836    -95.735       1     11\n",
       "16410    2013-11-29  Monarch Adult Sighted    30.930    -97.557       2     11"
      ]
     },
     "execution_count": 243,
     "metadata": {},
     "output_type": "execute_result"
    }
   ],
   "source": [
    "JNorth_Adult_First_Site_2013_month_df =pd.DataFrame(JNorth_Adult_First_Site_2013_df)\n",
    "JNorth_Adult_First_Site_2013_11_df = JNorth_Adult_First_Site_2013_month_df[JNorth_Adult_First_Site_2013_month_df['month']==11]\n",
    "JNorth_Adult_First_Site_2013_11_df.tail()"
   ]
  },
  {
   "cell_type": "code",
   "execution_count": 244,
   "id": "fc92dbf5",
   "metadata": {},
   "outputs": [
    {
     "data": {
      "text/plain": [
       "(129, 6)"
      ]
     },
     "execution_count": 244,
     "metadata": {},
     "output_type": "execute_result"
    }
   ],
   "source": [
    "JNorth_Adult_First_Site_2013_11_df.shape"
   ]
  },
  {
   "cell_type": "code",
   "execution_count": 245,
   "id": "f87961bf",
   "metadata": {},
   "outputs": [],
   "source": [
    "JNorth_Adult_First_Site_2013_11_df = pd.DataFrame(JNorth_Adult_First_Site_2013_11_df)\n",
    "JNorth_Adult_First_Site_2013_11_df.drop(['month'], axis=1, inplace=True)"
   ]
  },
  {
   "cell_type": "code",
   "execution_count": 246,
   "id": "bfa4940c",
   "metadata": {},
   "outputs": [],
   "source": [
    "# convert lat-long to floats and change address from ALL CAPS to regular capitalization\n",
    "JNorth_Adult_First_Site_2013_11_df['latitude'] = JNorth_Adult_First_Site_2013_11_df['latitude'].astype(float)\n",
    "JNorth_Adult_First_Site_2013_11_df['longitude'] = JNorth_Adult_First_Site_2013_11_df['longitude'].astype(float)\n",
    "# JNorth_Milkweed_Site_df['street_address'] = JNorth_Milkweed_Site_df['street_address'].str.title()"
   ]
  },
  {
   "cell_type": "code",
   "execution_count": 247,
   "id": "2d6164a8",
   "metadata": {},
   "outputs": [],
   "source": [
    "geojson = df_to_geojson(JNorth_Adult_First_Site_2013_11_df, cols)"
   ]
  },
  {
   "cell_type": "code",
   "execution_count": 248,
   "id": "56e38bba",
   "metadata": {},
   "outputs": [],
   "source": [
    "file = open(\"JNorth_Adult_First_Site_2013_11.geojson\", \"w\")\n",
    "json.dump(geojson, file, indent =1)\n",
    "file.close()"
   ]
  },
  {
   "cell_type": "markdown",
   "id": "2b8ef922",
   "metadata": {},
   "source": [
    "## December"
   ]
  },
  {
   "cell_type": "code",
   "execution_count": 249,
   "id": "af6c5f79",
   "metadata": {},
   "outputs": [
    {
     "data": {
      "text/html": [
       "<div>\n",
       "<style scoped>\n",
       "    .dataframe tbody tr th:only-of-type {\n",
       "        vertical-align: middle;\n",
       "    }\n",
       "\n",
       "    .dataframe tbody tr th {\n",
       "        vertical-align: top;\n",
       "    }\n",
       "\n",
       "    .dataframe thead th {\n",
       "        text-align: right;\n",
       "    }\n",
       "</style>\n",
       "<table border=\"1\" class=\"dataframe\">\n",
       "  <thead>\n",
       "    <tr style=\"text-align: right;\">\n",
       "      <th></th>\n",
       "      <th>sighting_date</th>\n",
       "      <th>species</th>\n",
       "      <th>latitude</th>\n",
       "      <th>longitude</th>\n",
       "      <th>number</th>\n",
       "      <th>month</th>\n",
       "    </tr>\n",
       "  </thead>\n",
       "  <tbody>\n",
       "    <tr>\n",
       "      <th>16434</th>\n",
       "      <td>2013-12-22</td>\n",
       "      <td>Monarch Adult Sighted</td>\n",
       "      <td>30.034</td>\n",
       "      <td>-99.092</td>\n",
       "      <td>1</td>\n",
       "      <td>12</td>\n",
       "    </tr>\n",
       "    <tr>\n",
       "      <th>16435</th>\n",
       "      <td>2013-12-25</td>\n",
       "      <td>Monarch Adult Sighted</td>\n",
       "      <td>29.821</td>\n",
       "      <td>-98.751</td>\n",
       "      <td>1</td>\n",
       "      <td>12</td>\n",
       "    </tr>\n",
       "    <tr>\n",
       "      <th>16436</th>\n",
       "      <td>2013-12-26</td>\n",
       "      <td>Monarch Adult Sighted</td>\n",
       "      <td>19.590</td>\n",
       "      <td>-100.266</td>\n",
       "      <td>1</td>\n",
       "      <td>12</td>\n",
       "    </tr>\n",
       "    <tr>\n",
       "      <th>16437</th>\n",
       "      <td>2013-12-29</td>\n",
       "      <td>Monarch Adult Sighted</td>\n",
       "      <td>29.757</td>\n",
       "      <td>-95.365</td>\n",
       "      <td>1</td>\n",
       "      <td>12</td>\n",
       "    </tr>\n",
       "    <tr>\n",
       "      <th>16438</th>\n",
       "      <td>2013-12-30</td>\n",
       "      <td>Monarch Adult Sighted</td>\n",
       "      <td>33.398</td>\n",
       "      <td>-117.554</td>\n",
       "      <td>1</td>\n",
       "      <td>12</td>\n",
       "    </tr>\n",
       "  </tbody>\n",
       "</table>\n",
       "</div>"
      ],
      "text/plain": [
       "      sighting_date                species  latitude  longitude  number  month\n",
       "16434    2013-12-22  Monarch Adult Sighted    30.034    -99.092       1     12\n",
       "16435    2013-12-25  Monarch Adult Sighted    29.821    -98.751       1     12\n",
       "16436    2013-12-26  Monarch Adult Sighted    19.590   -100.266       1     12\n",
       "16437    2013-12-29  Monarch Adult Sighted    29.757    -95.365       1     12\n",
       "16438    2013-12-30  Monarch Adult Sighted    33.398   -117.554       1     12"
      ]
     },
     "execution_count": 249,
     "metadata": {},
     "output_type": "execute_result"
    }
   ],
   "source": [
    "JNorth_Adult_First_Site_2013_month_df =pd.DataFrame(JNorth_Adult_First_Site_2013_df)\n",
    "JNorth_Adult_First_Site_2013_12_df = JNorth_Adult_First_Site_2013_month_df[JNorth_Adult_First_Site_2013_month_df['month']==12]\n",
    "JNorth_Adult_First_Site_2013_12_df.tail()"
   ]
  },
  {
   "cell_type": "code",
   "execution_count": 250,
   "id": "18b6eb6b",
   "metadata": {},
   "outputs": [
    {
     "data": {
      "text/plain": [
       "(28, 6)"
      ]
     },
     "execution_count": 250,
     "metadata": {},
     "output_type": "execute_result"
    }
   ],
   "source": [
    "JNorth_Adult_First_Site_2013_12_df.shape"
   ]
  },
  {
   "cell_type": "code",
   "execution_count": 251,
   "id": "c0ea8b6c",
   "metadata": {},
   "outputs": [],
   "source": [
    "JNorth_Adult_First_Site_2013_12_df = pd.DataFrame(JNorth_Adult_First_Site_2013_12_df)\n",
    "JNorth_Adult_First_Site_2013_12_df.drop(['month'], axis=1, inplace=True)"
   ]
  },
  {
   "cell_type": "code",
   "execution_count": 252,
   "id": "778d493b",
   "metadata": {},
   "outputs": [],
   "source": [
    "# convert lat-long to floats and change address from ALL CAPS to regular capitalization\n",
    "JNorth_Adult_First_Site_2013_12_df['latitude'] = JNorth_Adult_First_Site_2013_12_df['latitude'].astype(float)\n",
    "JNorth_Adult_First_Site_2013_12_df['longitude'] = JNorth_Adult_First_Site_2013_12_df['longitude'].astype(float)\n",
    "# JNorth_Milkweed_Site_df['street_address'] = JNorth_Milkweed_Site_df['street_address'].str.title()"
   ]
  },
  {
   "cell_type": "code",
   "execution_count": 253,
   "id": "417d2972",
   "metadata": {},
   "outputs": [],
   "source": [
    "geojson = df_to_geojson(JNorth_Adult_First_Site_2013_12_df, cols)"
   ]
  },
  {
   "cell_type": "code",
   "execution_count": 254,
   "id": "2a518380",
   "metadata": {},
   "outputs": [],
   "source": [
    "file = open(\"JNorth_Adult_First_Site_2013_12.geojson\", \"w\")\n",
    "json.dump(geojson, file, indent =1)\n",
    "file.close()"
   ]
  },
  {
   "cell_type": "markdown",
   "id": "37696255",
   "metadata": {},
   "source": [
    "# 2014"
   ]
  },
  {
   "cell_type": "code",
   "execution_count": 255,
   "id": "c5711fe9",
   "metadata": {},
   "outputs": [
    {
     "data": {
      "text/html": [
       "<div>\n",
       "<style scoped>\n",
       "    .dataframe tbody tr th:only-of-type {\n",
       "        vertical-align: middle;\n",
       "    }\n",
       "\n",
       "    .dataframe tbody tr th {\n",
       "        vertical-align: top;\n",
       "    }\n",
       "\n",
       "    .dataframe thead th {\n",
       "        text-align: right;\n",
       "    }\n",
       "</style>\n",
       "<table border=\"1\" class=\"dataframe\">\n",
       "  <thead>\n",
       "    <tr style=\"text-align: right;\">\n",
       "      <th></th>\n",
       "      <th>sighting_date</th>\n",
       "      <th>species</th>\n",
       "      <th>latitude</th>\n",
       "      <th>longitude</th>\n",
       "      <th>number</th>\n",
       "      <th>year</th>\n",
       "    </tr>\n",
       "  </thead>\n",
       "  <tbody>\n",
       "    <tr>\n",
       "      <th>22638</th>\n",
       "      <td>2014-12-28</td>\n",
       "      <td>Monarch Adult Sighted</td>\n",
       "      <td>33.834</td>\n",
       "      <td>-118.313</td>\n",
       "      <td>3</td>\n",
       "      <td>2014</td>\n",
       "    </tr>\n",
       "    <tr>\n",
       "      <th>22639</th>\n",
       "      <td>2014-12-29</td>\n",
       "      <td>Monarch Adult Sighted</td>\n",
       "      <td>30.389</td>\n",
       "      <td>-89.098</td>\n",
       "      <td>10</td>\n",
       "      <td>2014</td>\n",
       "    </tr>\n",
       "    <tr>\n",
       "      <th>22640</th>\n",
       "      <td>2014-12-30</td>\n",
       "      <td>Monarch Adult Sighted</td>\n",
       "      <td>34.200</td>\n",
       "      <td>-118.294</td>\n",
       "      <td>2</td>\n",
       "      <td>2014</td>\n",
       "    </tr>\n",
       "    <tr>\n",
       "      <th>22641</th>\n",
       "      <td>2014-12-31</td>\n",
       "      <td>Monarch Adult Sighted</td>\n",
       "      <td>28.827</td>\n",
       "      <td>-82.256</td>\n",
       "      <td>1</td>\n",
       "      <td>2014</td>\n",
       "    </tr>\n",
       "    <tr>\n",
       "      <th>22642</th>\n",
       "      <td>2014-12-31</td>\n",
       "      <td>Monarch Adult Sighted</td>\n",
       "      <td>33.761</td>\n",
       "      <td>-118.199</td>\n",
       "      <td>1</td>\n",
       "      <td>2014</td>\n",
       "    </tr>\n",
       "  </tbody>\n",
       "</table>\n",
       "</div>"
      ],
      "text/plain": [
       "      sighting_date                species  latitude  longitude  number  year\n",
       "22638    2014-12-28  Monarch Adult Sighted    33.834   -118.313       3  2014\n",
       "22639    2014-12-29  Monarch Adult Sighted    30.389    -89.098      10  2014\n",
       "22640    2014-12-30  Monarch Adult Sighted    34.200   -118.294       2  2014\n",
       "22641    2014-12-31  Monarch Adult Sighted    28.827    -82.256       1  2014\n",
       "22642    2014-12-31  Monarch Adult Sighted    33.761   -118.199       1  2014"
      ]
     },
     "execution_count": 255,
     "metadata": {},
     "output_type": "execute_result"
    }
   ],
   "source": [
    "JNorth_Adult_First_Site_2014_df = JNorth_Adult_First_Site_year_df[JNorth_Adult_First_Site_year_df['year']==2014]\n",
    "JNorth_Adult_First_Site_2014_df.tail()"
   ]
  },
  {
   "cell_type": "code",
   "execution_count": 256,
   "id": "aa5b49d4",
   "metadata": {},
   "outputs": [
    {
     "data": {
      "text/plain": [
       "(6204, 6)"
      ]
     },
     "execution_count": 256,
     "metadata": {},
     "output_type": "execute_result"
    }
   ],
   "source": [
    "JNorth_Adult_First_Site_2014_df.shape"
   ]
  },
  {
   "cell_type": "code",
   "execution_count": 257,
   "id": "a1f18555",
   "metadata": {},
   "outputs": [],
   "source": [
    "JNorth_Adult_First_Site_2014_df = pd.DataFrame(JNorth_Adult_First_Site_2014_df)\n",
    "JNorth_Adult_First_Site_2014_df.drop(['year'], axis=1, inplace=True)"
   ]
  },
  {
   "cell_type": "code",
   "execution_count": 258,
   "id": "67e0613b",
   "metadata": {},
   "outputs": [
    {
     "data": {
      "text/plain": [
       "<bound method NDFrame.tail of       sighting_date                species  latitude  longitude  number\n",
       "16439    2014-01-01  Monarch Adult Sighted    19.590   -100.266       1\n",
       "16440    2014-01-01  Monarch Adult Sighted    19.670   -100.280       1\n",
       "16441    2014-01-01  Monarch Adult Sighted    28.984    -81.057       1\n",
       "16442    2014-01-01  Monarch Adult Sighted    33.373   -112.390       1\n",
       "16443    2014-01-01  Monarch Adult Sighted    34.559   -120.545   11082\n",
       "...             ...                    ...       ...        ...     ...\n",
       "22638    2014-12-28  Monarch Adult Sighted    33.834   -118.313       3\n",
       "22639    2014-12-29  Monarch Adult Sighted    30.389    -89.098      10\n",
       "22640    2014-12-30  Monarch Adult Sighted    34.200   -118.294       2\n",
       "22641    2014-12-31  Monarch Adult Sighted    28.827    -82.256       1\n",
       "22642    2014-12-31  Monarch Adult Sighted    33.761   -118.199       1\n",
       "\n",
       "[6204 rows x 5 columns]>"
      ]
     },
     "execution_count": 258,
     "metadata": {},
     "output_type": "execute_result"
    }
   ],
   "source": [
    "JNorth_Adult_First_Site_2014_df.tail"
   ]
  },
  {
   "cell_type": "code",
   "execution_count": 259,
   "id": "101e0e9c",
   "metadata": {},
   "outputs": [],
   "source": [
    "JNorth_Adult_First_Site_2014_df['month'] = pd.DatetimeIndex(JNorth_Adult_First_Site_2014_df['sighting_date']).month"
   ]
  },
  {
   "cell_type": "markdown",
   "id": "a21ec5a6",
   "metadata": {},
   "source": [
    "## January"
   ]
  },
  {
   "cell_type": "code",
   "execution_count": 260,
   "id": "cba59950",
   "metadata": {},
   "outputs": [
    {
     "data": {
      "text/html": [
       "<div>\n",
       "<style scoped>\n",
       "    .dataframe tbody tr th:only-of-type {\n",
       "        vertical-align: middle;\n",
       "    }\n",
       "\n",
       "    .dataframe tbody tr th {\n",
       "        vertical-align: top;\n",
       "    }\n",
       "\n",
       "    .dataframe thead th {\n",
       "        text-align: right;\n",
       "    }\n",
       "</style>\n",
       "<table border=\"1\" class=\"dataframe\">\n",
       "  <thead>\n",
       "    <tr style=\"text-align: right;\">\n",
       "      <th></th>\n",
       "      <th>sighting_date</th>\n",
       "      <th>species</th>\n",
       "      <th>latitude</th>\n",
       "      <th>longitude</th>\n",
       "      <th>number</th>\n",
       "      <th>month</th>\n",
       "    </tr>\n",
       "  </thead>\n",
       "  <tbody>\n",
       "    <tr>\n",
       "      <th>16488</th>\n",
       "      <td>2014-01-28</td>\n",
       "      <td>Monarch Adult Sighted</td>\n",
       "      <td>37.777</td>\n",
       "      <td>-122.217</td>\n",
       "      <td>1</td>\n",
       "      <td>1</td>\n",
       "    </tr>\n",
       "    <tr>\n",
       "      <th>16489</th>\n",
       "      <td>2014-01-29</td>\n",
       "      <td>Monarch Adult Sighted</td>\n",
       "      <td>27.771</td>\n",
       "      <td>-82.679</td>\n",
       "      <td>1</td>\n",
       "      <td>1</td>\n",
       "    </tr>\n",
       "    <tr>\n",
       "      <th>16490</th>\n",
       "      <td>2014-01-30</td>\n",
       "      <td>Monarch Adult Sighted</td>\n",
       "      <td>32.723</td>\n",
       "      <td>-117.168</td>\n",
       "      <td>1</td>\n",
       "      <td>1</td>\n",
       "    </tr>\n",
       "    <tr>\n",
       "      <th>16491</th>\n",
       "      <td>2014-01-30</td>\n",
       "      <td>Monarch Adult Sighted</td>\n",
       "      <td>33.212</td>\n",
       "      <td>-117.357</td>\n",
       "      <td>1</td>\n",
       "      <td>1</td>\n",
       "    </tr>\n",
       "    <tr>\n",
       "      <th>16492</th>\n",
       "      <td>2014-01-30</td>\n",
       "      <td>Monarch Adult Sighted</td>\n",
       "      <td>34.097</td>\n",
       "      <td>-117.906</td>\n",
       "      <td>1</td>\n",
       "      <td>1</td>\n",
       "    </tr>\n",
       "  </tbody>\n",
       "</table>\n",
       "</div>"
      ],
      "text/plain": [
       "      sighting_date                species  latitude  longitude  number  month\n",
       "16488    2014-01-28  Monarch Adult Sighted    37.777   -122.217       1      1\n",
       "16489    2014-01-29  Monarch Adult Sighted    27.771    -82.679       1      1\n",
       "16490    2014-01-30  Monarch Adult Sighted    32.723   -117.168       1      1\n",
       "16491    2014-01-30  Monarch Adult Sighted    33.212   -117.357       1      1\n",
       "16492    2014-01-30  Monarch Adult Sighted    34.097   -117.906       1      1"
      ]
     },
     "execution_count": 260,
     "metadata": {},
     "output_type": "execute_result"
    }
   ],
   "source": [
    "JNorth_Adult_First_Site_2014_month_df =pd.DataFrame(JNorth_Adult_First_Site_2014_df)\n",
    "JNorth_Adult_First_Site_2014_1_df = JNorth_Adult_First_Site_2014_month_df[JNorth_Adult_First_Site_2014_month_df['month']==1]\n",
    "JNorth_Adult_First_Site_2014_1_df.tail()"
   ]
  },
  {
   "cell_type": "code",
   "execution_count": 261,
   "id": "e4f50cc1",
   "metadata": {},
   "outputs": [
    {
     "data": {
      "text/plain": [
       "(54, 6)"
      ]
     },
     "execution_count": 261,
     "metadata": {},
     "output_type": "execute_result"
    }
   ],
   "source": [
    "JNorth_Adult_First_Site_2014_1_df.shape"
   ]
  },
  {
   "cell_type": "code",
   "execution_count": 262,
   "id": "6648dc94",
   "metadata": {},
   "outputs": [],
   "source": [
    "JNorth_Adult_First_Site_2014_1_df = pd.DataFrame(JNorth_Adult_First_Site_2014_1_df)\n",
    "JNorth_Adult_First_Site_2014_1_df.drop(['month'], axis=1, inplace=True)"
   ]
  },
  {
   "cell_type": "code",
   "execution_count": 263,
   "id": "4b0457dd",
   "metadata": {},
   "outputs": [],
   "source": [
    "# convert lat-long to floats and change address from ALL CAPS to regular capitalization\n",
    "JNorth_Adult_First_Site_2014_1_df['latitude'] = JNorth_Adult_First_Site_2014_1_df['latitude'].astype(float)\n",
    "JNorth_Adult_First_Site_2014_1_df['longitude'] = JNorth_Adult_First_Site_2014_1_df['longitude'].astype(float)\n",
    "# JNorth_Milkweed_Site_df['street_address'] = JNorth_Milkweed_Site_df['street_address'].str.title()"
   ]
  },
  {
   "cell_type": "code",
   "execution_count": 264,
   "id": "68a03ebb",
   "metadata": {},
   "outputs": [],
   "source": [
    "geojson = df_to_geojson(JNorth_Adult_First_Site_2014_1_df, cols)"
   ]
  },
  {
   "cell_type": "code",
   "execution_count": 265,
   "id": "d5ffc5d6",
   "metadata": {},
   "outputs": [],
   "source": [
    "file = open(\"JNorth_Adult_First_Site_2014_1.geojson\", \"w\")\n",
    "json.dump(geojson, file, indent =1)\n",
    "file.close()"
   ]
  },
  {
   "cell_type": "markdown",
   "id": "d5873010",
   "metadata": {},
   "source": [
    "## February"
   ]
  },
  {
   "cell_type": "code",
   "execution_count": 266,
   "id": "44a69ab5",
   "metadata": {},
   "outputs": [
    {
     "data": {
      "text/html": [
       "<div>\n",
       "<style scoped>\n",
       "    .dataframe tbody tr th:only-of-type {\n",
       "        vertical-align: middle;\n",
       "    }\n",
       "\n",
       "    .dataframe tbody tr th {\n",
       "        vertical-align: top;\n",
       "    }\n",
       "\n",
       "    .dataframe thead th {\n",
       "        text-align: right;\n",
       "    }\n",
       "</style>\n",
       "<table border=\"1\" class=\"dataframe\">\n",
       "  <thead>\n",
       "    <tr style=\"text-align: right;\">\n",
       "      <th></th>\n",
       "      <th>sighting_date</th>\n",
       "      <th>species</th>\n",
       "      <th>latitude</th>\n",
       "      <th>longitude</th>\n",
       "      <th>number</th>\n",
       "      <th>month</th>\n",
       "    </tr>\n",
       "  </thead>\n",
       "  <tbody>\n",
       "    <tr>\n",
       "      <th>16523</th>\n",
       "      <td>2014-02-20</td>\n",
       "      <td>Monarch Adult Sighted</td>\n",
       "      <td>38.757</td>\n",
       "      <td>-123.512</td>\n",
       "      <td>1</td>\n",
       "      <td>2</td>\n",
       "    </tr>\n",
       "    <tr>\n",
       "      <th>16524</th>\n",
       "      <td>2014-02-20</td>\n",
       "      <td>Monarch Adult Sighted</td>\n",
       "      <td>38.832</td>\n",
       "      <td>-123.436</td>\n",
       "      <td>1</td>\n",
       "      <td>2</td>\n",
       "    </tr>\n",
       "    <tr>\n",
       "      <th>16525</th>\n",
       "      <td>2014-02-23</td>\n",
       "      <td>Monarch Adult Sighted</td>\n",
       "      <td>27.915</td>\n",
       "      <td>-82.802</td>\n",
       "      <td>1</td>\n",
       "      <td>2</td>\n",
       "    </tr>\n",
       "    <tr>\n",
       "      <th>16526</th>\n",
       "      <td>2014-02-23</td>\n",
       "      <td>Monarch Adult Sighted</td>\n",
       "      <td>29.757</td>\n",
       "      <td>-95.365</td>\n",
       "      <td>1</td>\n",
       "      <td>2</td>\n",
       "    </tr>\n",
       "    <tr>\n",
       "      <th>16527</th>\n",
       "      <td>2014-02-24</td>\n",
       "      <td>Monarch Adult Sighted</td>\n",
       "      <td>27.337</td>\n",
       "      <td>-82.514</td>\n",
       "      <td>1</td>\n",
       "      <td>2</td>\n",
       "    </tr>\n",
       "  </tbody>\n",
       "</table>\n",
       "</div>"
      ],
      "text/plain": [
       "      sighting_date                species  latitude  longitude  number  month\n",
       "16523    2014-02-20  Monarch Adult Sighted    38.757   -123.512       1      2\n",
       "16524    2014-02-20  Monarch Adult Sighted    38.832   -123.436       1      2\n",
       "16525    2014-02-23  Monarch Adult Sighted    27.915    -82.802       1      2\n",
       "16526    2014-02-23  Monarch Adult Sighted    29.757    -95.365       1      2\n",
       "16527    2014-02-24  Monarch Adult Sighted    27.337    -82.514       1      2"
      ]
     },
     "execution_count": 266,
     "metadata": {},
     "output_type": "execute_result"
    }
   ],
   "source": [
    "JNorth_Adult_First_Site_2014_month_df =pd.DataFrame(JNorth_Adult_First_Site_2014_df)\n",
    "JNorth_Adult_First_Site_2014_2_df = JNorth_Adult_First_Site_2014_month_df[JNorth_Adult_First_Site_2014_month_df['month']==2]\n",
    "JNorth_Adult_First_Site_2014_2_df.tail()"
   ]
  },
  {
   "cell_type": "code",
   "execution_count": 267,
   "id": "d53e5084",
   "metadata": {},
   "outputs": [
    {
     "data": {
      "text/plain": [
       "(35, 6)"
      ]
     },
     "execution_count": 267,
     "metadata": {},
     "output_type": "execute_result"
    }
   ],
   "source": [
    "JNorth_Adult_First_Site_2014_2_df.shape"
   ]
  },
  {
   "cell_type": "code",
   "execution_count": 268,
   "id": "0e83f703",
   "metadata": {},
   "outputs": [],
   "source": [
    "JNorth_Adult_First_Site_2014_2_df = pd.DataFrame(JNorth_Adult_First_Site_2014_2_df)\n",
    "JNorth_Adult_First_Site_2014_2_df.drop(['month'], axis=1, inplace=True)"
   ]
  },
  {
   "cell_type": "code",
   "execution_count": 269,
   "id": "4a4a84a2",
   "metadata": {},
   "outputs": [],
   "source": [
    "# convert lat-long to floats and change address from ALL CAPS to regular capitalization\n",
    "JNorth_Adult_First_Site_2014_2_df['latitude'] = JNorth_Adult_First_Site_2014_2_df['latitude'].astype(float)\n",
    "JNorth_Adult_First_Site_2014_2_df['longitude'] = JNorth_Adult_First_Site_2014_2_df['longitude'].astype(float)\n",
    "# JNorth_Milkweed_Site_df['street_address'] = JNorth_Milkweed_Site_df['street_address'].str.title()"
   ]
  },
  {
   "cell_type": "code",
   "execution_count": 270,
   "id": "3cbf2fba",
   "metadata": {},
   "outputs": [],
   "source": [
    "geojson = df_to_geojson(JNorth_Adult_First_Site_2014_2_df, cols)"
   ]
  },
  {
   "cell_type": "code",
   "execution_count": 271,
   "id": "82350196",
   "metadata": {},
   "outputs": [],
   "source": [
    "file = open(\"JNorth_Adult_First_Site_2014_2.geojson\", \"w\")\n",
    "json.dump(geojson, file, indent =1)\n",
    "file.close()"
   ]
  },
  {
   "cell_type": "markdown",
   "id": "77061a71",
   "metadata": {},
   "source": [
    "## March"
   ]
  },
  {
   "cell_type": "code",
   "execution_count": 272,
   "id": "b85708c1",
   "metadata": {},
   "outputs": [
    {
     "data": {
      "text/html": [
       "<div>\n",
       "<style scoped>\n",
       "    .dataframe tbody tr th:only-of-type {\n",
       "        vertical-align: middle;\n",
       "    }\n",
       "\n",
       "    .dataframe tbody tr th {\n",
       "        vertical-align: top;\n",
       "    }\n",
       "\n",
       "    .dataframe thead th {\n",
       "        text-align: right;\n",
       "    }\n",
       "</style>\n",
       "<table border=\"1\" class=\"dataframe\">\n",
       "  <thead>\n",
       "    <tr style=\"text-align: right;\">\n",
       "      <th></th>\n",
       "      <th>sighting_date</th>\n",
       "      <th>species</th>\n",
       "      <th>latitude</th>\n",
       "      <th>longitude</th>\n",
       "      <th>number</th>\n",
       "      <th>month</th>\n",
       "    </tr>\n",
       "  </thead>\n",
       "  <tbody>\n",
       "    <tr>\n",
       "      <th>16528</th>\n",
       "      <td>2014-03-01</td>\n",
       "      <td>Monarch Adult Sighted</td>\n",
       "      <td>29.757</td>\n",
       "      <td>-95.365</td>\n",
       "      <td>1</td>\n",
       "      <td>3</td>\n",
       "    </tr>\n",
       "  </tbody>\n",
       "</table>\n",
       "</div>"
      ],
      "text/plain": [
       "      sighting_date                species  latitude  longitude  number  month\n",
       "16528    2014-03-01  Monarch Adult Sighted    29.757    -95.365       1      3"
      ]
     },
     "execution_count": 272,
     "metadata": {},
     "output_type": "execute_result"
    }
   ],
   "source": [
    "JNorth_Adult_First_Site_2014_month_df =pd.DataFrame(JNorth_Adult_First_Site_2014_df)\n",
    "JNorth_Adult_First_Site_2014_3_df = JNorth_Adult_First_Site_2014_month_df[JNorth_Adult_First_Site_2014_month_df['month']==3]\n",
    "JNorth_Adult_First_Site_2014_3_df.tail()"
   ]
  },
  {
   "cell_type": "code",
   "execution_count": 273,
   "id": "52d84ebf",
   "metadata": {},
   "outputs": [
    {
     "data": {
      "text/plain": [
       "(1, 6)"
      ]
     },
     "execution_count": 273,
     "metadata": {},
     "output_type": "execute_result"
    }
   ],
   "source": [
    "JNorth_Adult_First_Site_2014_3_df.shape"
   ]
  },
  {
   "cell_type": "code",
   "execution_count": 274,
   "id": "7e18485a",
   "metadata": {},
   "outputs": [],
   "source": [
    "JNorth_Adult_First_Site_2014_3_df = pd.DataFrame(JNorth_Adult_First_Site_2014_3_df)\n",
    "JNorth_Adult_First_Site_2014_3_df.drop(['month'], axis=1, inplace=True)"
   ]
  },
  {
   "cell_type": "code",
   "execution_count": 275,
   "id": "d4c0a1cd",
   "metadata": {},
   "outputs": [],
   "source": [
    "# convert lat-long to floats and change address from ALL CAPS to regular capitalization\n",
    "JNorth_Adult_First_Site_2014_3_df['latitude'] = JNorth_Adult_First_Site_2014_3_df['latitude'].astype(float)\n",
    "JNorth_Adult_First_Site_2014_3_df['longitude'] = JNorth_Adult_First_Site_2014_3_df['longitude'].astype(float)\n",
    "# JNorth_Milkweed_Site_df['street_address'] = JNorth_Milkweed_Site_df['street_address'].str.title()"
   ]
  },
  {
   "cell_type": "code",
   "execution_count": 276,
   "id": "765e97ac",
   "metadata": {},
   "outputs": [],
   "source": [
    "geojson = df_to_geojson(JNorth_Adult_First_Site_2014_3_df, cols)"
   ]
  },
  {
   "cell_type": "code",
   "execution_count": 277,
   "id": "82ef8d30",
   "metadata": {},
   "outputs": [],
   "source": [
    "file = open(\"JNorth_Adult_First_Site_2014_3.geojson\", \"w\")\n",
    "json.dump(geojson, file, indent =1)\n",
    "file.close()"
   ]
  },
  {
   "cell_type": "markdown",
   "id": "eb9ba3a4",
   "metadata": {},
   "source": [
    "## April"
   ]
  },
  {
   "cell_type": "code",
   "execution_count": 278,
   "id": "048f6cf2",
   "metadata": {},
   "outputs": [
    {
     "data": {
      "text/html": [
       "<div>\n",
       "<style scoped>\n",
       "    .dataframe tbody tr th:only-of-type {\n",
       "        vertical-align: middle;\n",
       "    }\n",
       "\n",
       "    .dataframe tbody tr th {\n",
       "        vertical-align: top;\n",
       "    }\n",
       "\n",
       "    .dataframe thead th {\n",
       "        text-align: right;\n",
       "    }\n",
       "</style>\n",
       "<table border=\"1\" class=\"dataframe\">\n",
       "  <thead>\n",
       "    <tr style=\"text-align: right;\">\n",
       "      <th></th>\n",
       "      <th>sighting_date</th>\n",
       "      <th>species</th>\n",
       "      <th>latitude</th>\n",
       "      <th>longitude</th>\n",
       "      <th>number</th>\n",
       "      <th>month</th>\n",
       "    </tr>\n",
       "  </thead>\n",
       "  <tbody>\n",
       "    <tr>\n",
       "      <th>16529</th>\n",
       "      <td>2014-04-06</td>\n",
       "      <td>Monarch Adult Sighted</td>\n",
       "      <td>28.542</td>\n",
       "      <td>-81.374</td>\n",
       "      <td>1</td>\n",
       "      <td>4</td>\n",
       "    </tr>\n",
       "    <tr>\n",
       "      <th>16530</th>\n",
       "      <td>2014-04-09</td>\n",
       "      <td>Monarch Adult Sighted</td>\n",
       "      <td>44.292</td>\n",
       "      <td>-74.326</td>\n",
       "      <td>6</td>\n",
       "      <td>4</td>\n",
       "    </tr>\n",
       "    <tr>\n",
       "      <th>16531</th>\n",
       "      <td>2014-04-09</td>\n",
       "      <td>Monarch Adult Sighted</td>\n",
       "      <td>44.300</td>\n",
       "      <td>-79.367</td>\n",
       "      <td>1</td>\n",
       "      <td>4</td>\n",
       "    </tr>\n",
       "  </tbody>\n",
       "</table>\n",
       "</div>"
      ],
      "text/plain": [
       "      sighting_date                species  latitude  longitude  number  month\n",
       "16529    2014-04-06  Monarch Adult Sighted    28.542    -81.374       1      4\n",
       "16530    2014-04-09  Monarch Adult Sighted    44.292    -74.326       6      4\n",
       "16531    2014-04-09  Monarch Adult Sighted    44.300    -79.367       1      4"
      ]
     },
     "execution_count": 278,
     "metadata": {},
     "output_type": "execute_result"
    }
   ],
   "source": [
    "JNorth_Adult_First_Site_2014_month_df =pd.DataFrame(JNorth_Adult_First_Site_2014_df)\n",
    "JNorth_Adult_First_Site_2014_4_df = JNorth_Adult_First_Site_2014_month_df[JNorth_Adult_First_Site_2014_month_df['month']==4]\n",
    "JNorth_Adult_First_Site_2014_4_df.tail()"
   ]
  },
  {
   "cell_type": "code",
   "execution_count": 279,
   "id": "aee6f7fd",
   "metadata": {},
   "outputs": [
    {
     "data": {
      "text/plain": [
       "(3, 6)"
      ]
     },
     "execution_count": 279,
     "metadata": {},
     "output_type": "execute_result"
    }
   ],
   "source": [
    "JNorth_Adult_First_Site_2014_4_df.shape"
   ]
  },
  {
   "cell_type": "code",
   "execution_count": 280,
   "id": "9c7faf6f",
   "metadata": {},
   "outputs": [],
   "source": [
    "JNorth_Adult_First_Site_2014_4_df = pd.DataFrame(JNorth_Adult_First_Site_2014_4_df)\n",
    "JNorth_Adult_First_Site_2014_4_df.drop(['month'], axis=1, inplace=True)"
   ]
  },
  {
   "cell_type": "code",
   "execution_count": 281,
   "id": "b2abce47",
   "metadata": {},
   "outputs": [],
   "source": [
    "# convert lat-long to floats and change address from ALL CAPS to regular capitalization\n",
    "JNorth_Adult_First_Site_2014_4_df['latitude'] = JNorth_Adult_First_Site_2014_4_df['latitude'].astype(float)\n",
    "JNorth_Adult_First_Site_2014_4_df['longitude'] = JNorth_Adult_First_Site_2014_4_df['longitude'].astype(float)\n",
    "# JNorth_Milkweed_Site_df['street_address'] = JNorth_Milkweed_Site_df['street_address'].str.title()"
   ]
  },
  {
   "cell_type": "code",
   "execution_count": 282,
   "id": "b4dd7e9b",
   "metadata": {},
   "outputs": [],
   "source": [
    "geojson = df_to_geojson(JNorth_Adult_First_Site_2014_4_df, cols)"
   ]
  },
  {
   "cell_type": "code",
   "execution_count": 283,
   "id": "c22bd60e",
   "metadata": {},
   "outputs": [],
   "source": [
    "file = open(\"JNorth_Adult_First_Site_2014_4.geojson\", \"w\")\n",
    "json.dump(geojson, file, indent =1)\n",
    "file.close()"
   ]
  },
  {
   "cell_type": "markdown",
   "id": "f6e85297",
   "metadata": {},
   "source": [
    "## May"
   ]
  },
  {
   "cell_type": "code",
   "execution_count": 284,
   "id": "4740a950",
   "metadata": {},
   "outputs": [
    {
     "data": {
      "text/html": [
       "<div>\n",
       "<style scoped>\n",
       "    .dataframe tbody tr th:only-of-type {\n",
       "        vertical-align: middle;\n",
       "    }\n",
       "\n",
       "    .dataframe tbody tr th {\n",
       "        vertical-align: top;\n",
       "    }\n",
       "\n",
       "    .dataframe thead th {\n",
       "        text-align: right;\n",
       "    }\n",
       "</style>\n",
       "<table border=\"1\" class=\"dataframe\">\n",
       "  <thead>\n",
       "    <tr style=\"text-align: right;\">\n",
       "      <th></th>\n",
       "      <th>sighting_date</th>\n",
       "      <th>species</th>\n",
       "      <th>latitude</th>\n",
       "      <th>longitude</th>\n",
       "      <th>number</th>\n",
       "      <th>month</th>\n",
       "    </tr>\n",
       "  </thead>\n",
       "  <tbody>\n",
       "    <tr>\n",
       "      <th>16535</th>\n",
       "      <td>2014-05-19</td>\n",
       "      <td>Monarch Adult Sighted</td>\n",
       "      <td>39.104</td>\n",
       "      <td>-94.601</td>\n",
       "      <td>1</td>\n",
       "      <td>5</td>\n",
       "    </tr>\n",
       "    <tr>\n",
       "      <th>16536</th>\n",
       "      <td>2014-05-22</td>\n",
       "      <td>Monarch Adult Sighted</td>\n",
       "      <td>43.633</td>\n",
       "      <td>-84.788</td>\n",
       "      <td>1</td>\n",
       "      <td>5</td>\n",
       "    </tr>\n",
       "    <tr>\n",
       "      <th>16537</th>\n",
       "      <td>2014-05-24</td>\n",
       "      <td>Monarch Adult Sighted</td>\n",
       "      <td>38.631</td>\n",
       "      <td>-90.192</td>\n",
       "      <td>2</td>\n",
       "      <td>5</td>\n",
       "    </tr>\n",
       "    <tr>\n",
       "      <th>16538</th>\n",
       "      <td>2014-05-26</td>\n",
       "      <td>Monarch Adult Sighted</td>\n",
       "      <td>44.753</td>\n",
       "      <td>-85.701</td>\n",
       "      <td>1</td>\n",
       "      <td>5</td>\n",
       "    </tr>\n",
       "    <tr>\n",
       "      <th>16539</th>\n",
       "      <td>2014-05-30</td>\n",
       "      <td>Monarch Adult Sighted</td>\n",
       "      <td>41.886</td>\n",
       "      <td>-87.623</td>\n",
       "      <td>1</td>\n",
       "      <td>5</td>\n",
       "    </tr>\n",
       "  </tbody>\n",
       "</table>\n",
       "</div>"
      ],
      "text/plain": [
       "      sighting_date                species  latitude  longitude  number  month\n",
       "16535    2014-05-19  Monarch Adult Sighted    39.104    -94.601       1      5\n",
       "16536    2014-05-22  Monarch Adult Sighted    43.633    -84.788       1      5\n",
       "16537    2014-05-24  Monarch Adult Sighted    38.631    -90.192       2      5\n",
       "16538    2014-05-26  Monarch Adult Sighted    44.753    -85.701       1      5\n",
       "16539    2014-05-30  Monarch Adult Sighted    41.886    -87.623       1      5"
      ]
     },
     "execution_count": 284,
     "metadata": {},
     "output_type": "execute_result"
    }
   ],
   "source": [
    "JNorth_Adult_First_Site_2014_month_df =pd.DataFrame(JNorth_Adult_First_Site_2014_df)\n",
    "JNorth_Adult_First_Site_2014_5_df = JNorth_Adult_First_Site_2014_month_df[JNorth_Adult_First_Site_2014_month_df['month']==5]\n",
    "JNorth_Adult_First_Site_2014_5_df.tail()"
   ]
  },
  {
   "cell_type": "code",
   "execution_count": 285,
   "id": "ddefd2a3",
   "metadata": {},
   "outputs": [
    {
     "data": {
      "text/plain": [
       "(8, 6)"
      ]
     },
     "execution_count": 285,
     "metadata": {},
     "output_type": "execute_result"
    }
   ],
   "source": [
    "JNorth_Adult_First_Site_2014_5_df.shape"
   ]
  },
  {
   "cell_type": "code",
   "execution_count": 286,
   "id": "614cd3a8",
   "metadata": {},
   "outputs": [],
   "source": [
    "JNorth_Adult_First_Site_2014_5_df = pd.DataFrame(JNorth_Adult_First_Site_2014_5_df)\n",
    "JNorth_Adult_First_Site_2014_5_df.drop(['month'], axis=1, inplace=True)"
   ]
  },
  {
   "cell_type": "code",
   "execution_count": 287,
   "id": "01509961",
   "metadata": {},
   "outputs": [],
   "source": [
    "# convert lat-long to floats and change address from ALL CAPS to regular capitalization\n",
    "JNorth_Adult_First_Site_2014_5_df['latitude'] = JNorth_Adult_First_Site_2014_5_df['latitude'].astype(float)\n",
    "JNorth_Adult_First_Site_2014_5_df['longitude'] = JNorth_Adult_First_Site_2014_5_df['longitude'].astype(float)\n",
    "# JNorth_Milkweed_Site_df['street_address'] = JNorth_Milkweed_Site_df['street_address'].str.title()"
   ]
  },
  {
   "cell_type": "code",
   "execution_count": 288,
   "id": "bb763379",
   "metadata": {},
   "outputs": [],
   "source": [
    "geojson = df_to_geojson(JNorth_Adult_First_Site_2014_5_df, cols)"
   ]
  },
  {
   "cell_type": "code",
   "execution_count": 289,
   "id": "f2e88fe7",
   "metadata": {},
   "outputs": [],
   "source": [
    "file = open(\"JNorth_Adult_First_Site_2014_5.geojson\", \"w\")\n",
    "json.dump(geojson, file, indent =1)\n",
    "file.close()"
   ]
  },
  {
   "cell_type": "markdown",
   "id": "264863cf",
   "metadata": {},
   "source": [
    "## June"
   ]
  },
  {
   "cell_type": "code",
   "execution_count": 290,
   "id": "18fd4a7c",
   "metadata": {},
   "outputs": [
    {
     "data": {
      "text/html": [
       "<div>\n",
       "<style scoped>\n",
       "    .dataframe tbody tr th:only-of-type {\n",
       "        vertical-align: middle;\n",
       "    }\n",
       "\n",
       "    .dataframe tbody tr th {\n",
       "        vertical-align: top;\n",
       "    }\n",
       "\n",
       "    .dataframe thead th {\n",
       "        text-align: right;\n",
       "    }\n",
       "</style>\n",
       "<table border=\"1\" class=\"dataframe\">\n",
       "  <thead>\n",
       "    <tr style=\"text-align: right;\">\n",
       "      <th></th>\n",
       "      <th>sighting_date</th>\n",
       "      <th>species</th>\n",
       "      <th>latitude</th>\n",
       "      <th>longitude</th>\n",
       "      <th>number</th>\n",
       "      <th>month</th>\n",
       "    </tr>\n",
       "  </thead>\n",
       "  <tbody>\n",
       "    <tr>\n",
       "      <th>16589</th>\n",
       "      <td>2014-06-30</td>\n",
       "      <td>Monarch Adult Sighted</td>\n",
       "      <td>42.988</td>\n",
       "      <td>-89.570</td>\n",
       "      <td>1</td>\n",
       "      <td>6</td>\n",
       "    </tr>\n",
       "    <tr>\n",
       "      <th>16590</th>\n",
       "      <td>2014-06-30</td>\n",
       "      <td>Monarch Adult Sighted</td>\n",
       "      <td>44.305</td>\n",
       "      <td>-77.800</td>\n",
       "      <td>1</td>\n",
       "      <td>6</td>\n",
       "    </tr>\n",
       "    <tr>\n",
       "      <th>16591</th>\n",
       "      <td>2014-06-30</td>\n",
       "      <td>Monarch Adult Sighted</td>\n",
       "      <td>44.350</td>\n",
       "      <td>-78.733</td>\n",
       "      <td>1</td>\n",
       "      <td>6</td>\n",
       "    </tr>\n",
       "    <tr>\n",
       "      <th>16592</th>\n",
       "      <td>2014-06-30</td>\n",
       "      <td>Monarch Adult Sighted</td>\n",
       "      <td>45.050</td>\n",
       "      <td>-78.517</td>\n",
       "      <td>2</td>\n",
       "      <td>6</td>\n",
       "    </tr>\n",
       "    <tr>\n",
       "      <th>16593</th>\n",
       "      <td>2014-06-30</td>\n",
       "      <td>Monarch Adult Sighted</td>\n",
       "      <td>45.427</td>\n",
       "      <td>-84.537</td>\n",
       "      <td>1</td>\n",
       "      <td>6</td>\n",
       "    </tr>\n",
       "  </tbody>\n",
       "</table>\n",
       "</div>"
      ],
      "text/plain": [
       "      sighting_date                species  latitude  longitude  number  month\n",
       "16589    2014-06-30  Monarch Adult Sighted    42.988    -89.570       1      6\n",
       "16590    2014-06-30  Monarch Adult Sighted    44.305    -77.800       1      6\n",
       "16591    2014-06-30  Monarch Adult Sighted    44.350    -78.733       1      6\n",
       "16592    2014-06-30  Monarch Adult Sighted    45.050    -78.517       2      6\n",
       "16593    2014-06-30  Monarch Adult Sighted    45.427    -84.537       1      6"
      ]
     },
     "execution_count": 290,
     "metadata": {},
     "output_type": "execute_result"
    }
   ],
   "source": [
    "JNorth_Adult_First_Site_2014_month_df =pd.DataFrame(JNorth_Adult_First_Site_2014_df)\n",
    "JNorth_Adult_First_Site_2014_6_df = JNorth_Adult_First_Site_2014_month_df[JNorth_Adult_First_Site_2014_month_df['month']==6]\n",
    "JNorth_Adult_First_Site_2014_6_df.tail()"
   ]
  },
  {
   "cell_type": "code",
   "execution_count": 291,
   "id": "446147fa",
   "metadata": {},
   "outputs": [
    {
     "data": {
      "text/plain": [
       "(54, 6)"
      ]
     },
     "execution_count": 291,
     "metadata": {},
     "output_type": "execute_result"
    }
   ],
   "source": [
    "JNorth_Adult_First_Site_2014_6_df.shape"
   ]
  },
  {
   "cell_type": "code",
   "execution_count": 292,
   "id": "073ab0c6",
   "metadata": {},
   "outputs": [],
   "source": [
    "JNorth_Adult_First_Site_2014_6_df = pd.DataFrame(JNorth_Adult_First_Site_2014_6_df)\n",
    "JNorth_Adult_First_Site_2014_6_df.drop(['month'], axis=1, inplace=True)"
   ]
  },
  {
   "cell_type": "code",
   "execution_count": 293,
   "id": "616d6b41",
   "metadata": {},
   "outputs": [],
   "source": [
    "# convert lat-long to floats and change address from ALL CAPS to regular capitalization\n",
    "JNorth_Adult_First_Site_2014_6_df['latitude'] = JNorth_Adult_First_Site_2014_6_df['latitude'].astype(float)\n",
    "JNorth_Adult_First_Site_2014_6_df['longitude'] = JNorth_Adult_First_Site_2014_6_df['longitude'].astype(float)\n",
    "# JNorth_Milkweed_Site_df['street_address'] = JNorth_Milkweed_Site_df['street_address'].str.title()"
   ]
  },
  {
   "cell_type": "code",
   "execution_count": 294,
   "id": "afab2795",
   "metadata": {},
   "outputs": [],
   "source": [
    "geojson = df_to_geojson(JNorth_Adult_First_Site_2014_6_df, cols)"
   ]
  },
  {
   "cell_type": "code",
   "execution_count": 295,
   "id": "ac1131c1",
   "metadata": {},
   "outputs": [],
   "source": [
    "file = open(\"JNorth_Adult_First_Site_2014_6.geojson\", \"w\")\n",
    "json.dump(geojson, file, indent =1)\n",
    "file.close()"
   ]
  },
  {
   "cell_type": "markdown",
   "id": "f99d61b2",
   "metadata": {},
   "source": [
    "## July"
   ]
  },
  {
   "cell_type": "code",
   "execution_count": 296,
   "id": "b0f8b698",
   "metadata": {},
   "outputs": [
    {
     "data": {
      "text/html": [
       "<div>\n",
       "<style scoped>\n",
       "    .dataframe tbody tr th:only-of-type {\n",
       "        vertical-align: middle;\n",
       "    }\n",
       "\n",
       "    .dataframe tbody tr th {\n",
       "        vertical-align: top;\n",
       "    }\n",
       "\n",
       "    .dataframe thead th {\n",
       "        text-align: right;\n",
       "    }\n",
       "</style>\n",
       "<table border=\"1\" class=\"dataframe\">\n",
       "  <thead>\n",
       "    <tr style=\"text-align: right;\">\n",
       "      <th></th>\n",
       "      <th>sighting_date</th>\n",
       "      <th>species</th>\n",
       "      <th>latitude</th>\n",
       "      <th>longitude</th>\n",
       "      <th>number</th>\n",
       "      <th>month</th>\n",
       "    </tr>\n",
       "  </thead>\n",
       "  <tbody>\n",
       "    <tr>\n",
       "      <th>17389</th>\n",
       "      <td>2014-07-31</td>\n",
       "      <td>Monarch Adult Sighted</td>\n",
       "      <td>43.183</td>\n",
       "      <td>-79.233</td>\n",
       "      <td>1</td>\n",
       "      <td>7</td>\n",
       "    </tr>\n",
       "    <tr>\n",
       "      <th>17390</th>\n",
       "      <td>2014-07-31</td>\n",
       "      <td>Monarch Adult Sighted</td>\n",
       "      <td>43.633</td>\n",
       "      <td>-79.967</td>\n",
       "      <td>1</td>\n",
       "      <td>7</td>\n",
       "    </tr>\n",
       "    <tr>\n",
       "      <th>17391</th>\n",
       "      <td>2014-07-31</td>\n",
       "      <td>Monarch Adult Sighted</td>\n",
       "      <td>43.650</td>\n",
       "      <td>-79.917</td>\n",
       "      <td>1</td>\n",
       "      <td>7</td>\n",
       "    </tr>\n",
       "    <tr>\n",
       "      <th>17392</th>\n",
       "      <td>2014-07-31</td>\n",
       "      <td>Monarch Adult Sighted</td>\n",
       "      <td>43.700</td>\n",
       "      <td>-79.417</td>\n",
       "      <td>2</td>\n",
       "      <td>7</td>\n",
       "    </tr>\n",
       "    <tr>\n",
       "      <th>17393</th>\n",
       "      <td>2014-07-31</td>\n",
       "      <td>Monarch Adult Sighted</td>\n",
       "      <td>43.903</td>\n",
       "      <td>-69.980</td>\n",
       "      <td>2</td>\n",
       "      <td>7</td>\n",
       "    </tr>\n",
       "  </tbody>\n",
       "</table>\n",
       "</div>"
      ],
      "text/plain": [
       "      sighting_date                species  latitude  longitude  number  month\n",
       "17389    2014-07-31  Monarch Adult Sighted    43.183    -79.233       1      7\n",
       "17390    2014-07-31  Monarch Adult Sighted    43.633    -79.967       1      7\n",
       "17391    2014-07-31  Monarch Adult Sighted    43.650    -79.917       1      7\n",
       "17392    2014-07-31  Monarch Adult Sighted    43.700    -79.417       2      7\n",
       "17393    2014-07-31  Monarch Adult Sighted    43.903    -69.980       2      7"
      ]
     },
     "execution_count": 296,
     "metadata": {},
     "output_type": "execute_result"
    }
   ],
   "source": [
    "JNorth_Adult_First_Site_2014_month_df =pd.DataFrame(JNorth_Adult_First_Site_2014_df)\n",
    "JNorth_Adult_First_Site_2014_7_df = JNorth_Adult_First_Site_2014_month_df[JNorth_Adult_First_Site_2014_month_df['month']==7]\n",
    "JNorth_Adult_First_Site_2014_7_df.tail()"
   ]
  },
  {
   "cell_type": "code",
   "execution_count": 297,
   "id": "288aa2ec",
   "metadata": {},
   "outputs": [
    {
     "data": {
      "text/plain": [
       "(800, 6)"
      ]
     },
     "execution_count": 297,
     "metadata": {},
     "output_type": "execute_result"
    }
   ],
   "source": [
    "JNorth_Adult_First_Site_2014_7_df.shape"
   ]
  },
  {
   "cell_type": "code",
   "execution_count": 298,
   "id": "903c70c3",
   "metadata": {},
   "outputs": [],
   "source": [
    "JNorth_Adult_First_Site_2014_7_df = pd.DataFrame(JNorth_Adult_First_Site_2014_7_df)\n",
    "JNorth_Adult_First_Site_2014_7_df.drop(['month'], axis=1, inplace=True)"
   ]
  },
  {
   "cell_type": "code",
   "execution_count": 299,
   "id": "1f4a36a7",
   "metadata": {},
   "outputs": [],
   "source": [
    "# convert lat-long to floats and change address from ALL CAPS to regular capitalization\n",
    "JNorth_Adult_First_Site_2014_7_df['latitude'] = JNorth_Adult_First_Site_2014_7_df['latitude'].astype(float)\n",
    "JNorth_Adult_First_Site_2014_7_df['longitude'] = JNorth_Adult_First_Site_2014_7_df['longitude'].astype(float)\n",
    "# JNorth_Milkweed_Site_df['street_address'] = JNorth_Milkweed_Site_df['street_address'].str.title()"
   ]
  },
  {
   "cell_type": "code",
   "execution_count": 300,
   "id": "3537d71f",
   "metadata": {},
   "outputs": [],
   "source": [
    "geojson = df_to_geojson(JNorth_Adult_First_Site_2014_7_df, cols)"
   ]
  },
  {
   "cell_type": "code",
   "execution_count": 301,
   "id": "df48c8b8",
   "metadata": {},
   "outputs": [],
   "source": [
    "file = open(\"JNorth_Adult_First_Site_2014_7.geojson\", \"w\")\n",
    "json.dump(geojson, file, indent =1)\n",
    "file.close()"
   ]
  },
  {
   "cell_type": "markdown",
   "id": "3d498e81",
   "metadata": {},
   "source": [
    "## August"
   ]
  },
  {
   "cell_type": "code",
   "execution_count": 302,
   "id": "55d756cb",
   "metadata": {},
   "outputs": [
    {
     "data": {
      "text/html": [
       "<div>\n",
       "<style scoped>\n",
       "    .dataframe tbody tr th:only-of-type {\n",
       "        vertical-align: middle;\n",
       "    }\n",
       "\n",
       "    .dataframe tbody tr th {\n",
       "        vertical-align: top;\n",
       "    }\n",
       "\n",
       "    .dataframe thead th {\n",
       "        text-align: right;\n",
       "    }\n",
       "</style>\n",
       "<table border=\"1\" class=\"dataframe\">\n",
       "  <thead>\n",
       "    <tr style=\"text-align: right;\">\n",
       "      <th></th>\n",
       "      <th>sighting_date</th>\n",
       "      <th>species</th>\n",
       "      <th>latitude</th>\n",
       "      <th>longitude</th>\n",
       "      <th>number</th>\n",
       "      <th>month</th>\n",
       "    </tr>\n",
       "  </thead>\n",
       "  <tbody>\n",
       "    <tr>\n",
       "      <th>18631</th>\n",
       "      <td>2014-08-31</td>\n",
       "      <td>Monarch Adult Sighted</td>\n",
       "      <td>45.104</td>\n",
       "      <td>-83.460</td>\n",
       "      <td>5</td>\n",
       "      <td>8</td>\n",
       "    </tr>\n",
       "    <tr>\n",
       "      <th>18632</th>\n",
       "      <td>2014-08-31</td>\n",
       "      <td>Monarch Adult Sighted</td>\n",
       "      <td>45.170</td>\n",
       "      <td>-93.390</td>\n",
       "      <td>1</td>\n",
       "      <td>8</td>\n",
       "    </tr>\n",
       "    <tr>\n",
       "      <th>18633</th>\n",
       "      <td>2014-08-31</td>\n",
       "      <td>Monarch Adult Sighted</td>\n",
       "      <td>46.113</td>\n",
       "      <td>-74.477</td>\n",
       "      <td>1</td>\n",
       "      <td>8</td>\n",
       "    </tr>\n",
       "    <tr>\n",
       "      <th>18634</th>\n",
       "      <td>2014-08-31</td>\n",
       "      <td>Monarch Adult Sighted</td>\n",
       "      <td>46.154</td>\n",
       "      <td>-85.338</td>\n",
       "      <td>1</td>\n",
       "      <td>8</td>\n",
       "    </tr>\n",
       "    <tr>\n",
       "      <th>18635</th>\n",
       "      <td>2014-08-31</td>\n",
       "      <td>Monarch Adult Sighted</td>\n",
       "      <td>46.158</td>\n",
       "      <td>-89.412</td>\n",
       "      <td>10</td>\n",
       "      <td>8</td>\n",
       "    </tr>\n",
       "  </tbody>\n",
       "</table>\n",
       "</div>"
      ],
      "text/plain": [
       "      sighting_date                species  latitude  longitude  number  month\n",
       "18631    2014-08-31  Monarch Adult Sighted    45.104    -83.460       5      8\n",
       "18632    2014-08-31  Monarch Adult Sighted    45.170    -93.390       1      8\n",
       "18633    2014-08-31  Monarch Adult Sighted    46.113    -74.477       1      8\n",
       "18634    2014-08-31  Monarch Adult Sighted    46.154    -85.338       1      8\n",
       "18635    2014-08-31  Monarch Adult Sighted    46.158    -89.412      10      8"
      ]
     },
     "execution_count": 302,
     "metadata": {},
     "output_type": "execute_result"
    }
   ],
   "source": [
    "JNorth_Adult_First_Site_2014_month_df =pd.DataFrame(JNorth_Adult_First_Site_2014_df)\n",
    "JNorth_Adult_First_Site_2014_8_df = JNorth_Adult_First_Site_2014_month_df[JNorth_Adult_First_Site_2014_month_df['month']==8]\n",
    "JNorth_Adult_First_Site_2014_8_df.tail()"
   ]
  },
  {
   "cell_type": "code",
   "execution_count": 303,
   "id": "e5f73698",
   "metadata": {},
   "outputs": [
    {
     "data": {
      "text/plain": [
       "(1242, 6)"
      ]
     },
     "execution_count": 303,
     "metadata": {},
     "output_type": "execute_result"
    }
   ],
   "source": [
    "JNorth_Adult_First_Site_2014_8_df.shape"
   ]
  },
  {
   "cell_type": "code",
   "execution_count": 304,
   "id": "ef7668b7",
   "metadata": {},
   "outputs": [],
   "source": [
    "JNorth_Adult_First_Site_2014_8_df= pd.DataFrame(JNorth_Adult_First_Site_2014_8_df)\n",
    "JNorth_Adult_First_Site_2014_8_df.drop(['month'], axis=1, inplace=True)"
   ]
  },
  {
   "cell_type": "code",
   "execution_count": 305,
   "id": "48dacef8",
   "metadata": {},
   "outputs": [],
   "source": [
    "# convert lat-long to floats and change address from ALL CAPS to regular capitalization\n",
    "JNorth_Adult_First_Site_2014_8_df['latitude'] = JNorth_Adult_First_Site_2014_8_df['latitude'].astype(float)\n",
    "JNorth_Adult_First_Site_2014_8_df['longitude'] = JNorth_Adult_First_Site_2014_8_df['longitude'].astype(float)\n",
    "# JNorth_Milkweed_Site_df['street_address'] = JNorth_Milkweed_Site_df['street_address'].str.title()"
   ]
  },
  {
   "cell_type": "code",
   "execution_count": 306,
   "id": "1d563ba1",
   "metadata": {},
   "outputs": [],
   "source": [
    "geojson = df_to_geojson(JNorth_Adult_First_Site_2014_8_df, cols)"
   ]
  },
  {
   "cell_type": "code",
   "execution_count": 307,
   "id": "06443449",
   "metadata": {},
   "outputs": [],
   "source": [
    "file = open(\"JNorth_Adult_First_Site_2014_8.geojson\", \"w\")\n",
    "json.dump(geojson, file, indent =1)\n",
    "file.close()"
   ]
  },
  {
   "cell_type": "markdown",
   "id": "96a57c30",
   "metadata": {},
   "source": [
    "## September"
   ]
  },
  {
   "cell_type": "code",
   "execution_count": 308,
   "id": "d016649a",
   "metadata": {},
   "outputs": [
    {
     "data": {
      "text/html": [
       "<div>\n",
       "<style scoped>\n",
       "    .dataframe tbody tr th:only-of-type {\n",
       "        vertical-align: middle;\n",
       "    }\n",
       "\n",
       "    .dataframe tbody tr th {\n",
       "        vertical-align: top;\n",
       "    }\n",
       "\n",
       "    .dataframe thead th {\n",
       "        text-align: right;\n",
       "    }\n",
       "</style>\n",
       "<table border=\"1\" class=\"dataframe\">\n",
       "  <thead>\n",
       "    <tr style=\"text-align: right;\">\n",
       "      <th></th>\n",
       "      <th>sighting_date</th>\n",
       "      <th>species</th>\n",
       "      <th>latitude</th>\n",
       "      <th>longitude</th>\n",
       "      <th>number</th>\n",
       "      <th>month</th>\n",
       "    </tr>\n",
       "  </thead>\n",
       "  <tbody>\n",
       "    <tr>\n",
       "      <th>20724</th>\n",
       "      <td>2014-09-30</td>\n",
       "      <td>Monarch Adult Sighted</td>\n",
       "      <td>43.750</td>\n",
       "      <td>-81.717</td>\n",
       "      <td>1</td>\n",
       "      <td>9</td>\n",
       "    </tr>\n",
       "    <tr>\n",
       "      <th>20725</th>\n",
       "      <td>2014-09-30</td>\n",
       "      <td>Monarch Adult Sighted</td>\n",
       "      <td>43.771</td>\n",
       "      <td>-72.787</td>\n",
       "      <td>1</td>\n",
       "      <td>9</td>\n",
       "    </tr>\n",
       "    <tr>\n",
       "      <th>20726</th>\n",
       "      <td>2014-09-30</td>\n",
       "      <td>Monarch Adult Sighted</td>\n",
       "      <td>43.900</td>\n",
       "      <td>-78.850</td>\n",
       "      <td>20</td>\n",
       "      <td>9</td>\n",
       "    </tr>\n",
       "    <tr>\n",
       "      <th>20727</th>\n",
       "      <td>2014-09-30</td>\n",
       "      <td>Monarch Adult Sighted</td>\n",
       "      <td>44.648</td>\n",
       "      <td>-83.361</td>\n",
       "      <td>3</td>\n",
       "      <td>9</td>\n",
       "    </tr>\n",
       "    <tr>\n",
       "      <th>20728</th>\n",
       "      <td>2014-09-30</td>\n",
       "      <td>Monarch Adult Sighted</td>\n",
       "      <td>49.884</td>\n",
       "      <td>-97.141</td>\n",
       "      <td>1</td>\n",
       "      <td>9</td>\n",
       "    </tr>\n",
       "  </tbody>\n",
       "</table>\n",
       "</div>"
      ],
      "text/plain": [
       "      sighting_date                species  latitude  longitude  number  month\n",
       "20724    2014-09-30  Monarch Adult Sighted    43.750    -81.717       1      9\n",
       "20725    2014-09-30  Monarch Adult Sighted    43.771    -72.787       1      9\n",
       "20726    2014-09-30  Monarch Adult Sighted    43.900    -78.850      20      9\n",
       "20727    2014-09-30  Monarch Adult Sighted    44.648    -83.361       3      9\n",
       "20728    2014-09-30  Monarch Adult Sighted    49.884    -97.141       1      9"
      ]
     },
     "execution_count": 308,
     "metadata": {},
     "output_type": "execute_result"
    }
   ],
   "source": [
    "JNorth_Adult_First_Site_2014_month_df =pd.DataFrame(JNorth_Adult_First_Site_2014_df)\n",
    "JNorth_Adult_First_Site_2014_9_df = JNorth_Adult_First_Site_2014_month_df[JNorth_Adult_First_Site_2014_month_df['month']==9]\n",
    "JNorth_Adult_First_Site_2014_9_df.tail()"
   ]
  },
  {
   "cell_type": "code",
   "execution_count": 309,
   "id": "0ecef701",
   "metadata": {},
   "outputs": [
    {
     "data": {
      "text/plain": [
       "(2093, 6)"
      ]
     },
     "execution_count": 309,
     "metadata": {},
     "output_type": "execute_result"
    }
   ],
   "source": [
    "JNorth_Adult_First_Site_2014_9_df.shape"
   ]
  },
  {
   "cell_type": "code",
   "execution_count": 310,
   "id": "a073c137",
   "metadata": {},
   "outputs": [],
   "source": [
    "JNorth_Adult_First_Site_2014_9_df = pd.DataFrame(JNorth_Adult_First_Site_2014_9_df)\n",
    "JNorth_Adult_First_Site_2014_9_df.drop(['month'], axis=1, inplace=True)"
   ]
  },
  {
   "cell_type": "code",
   "execution_count": 311,
   "id": "815c4094",
   "metadata": {},
   "outputs": [],
   "source": [
    "# convert lat-long to floats and change address from ALL CAPS to regular capitalization\n",
    "JNorth_Adult_First_Site_2014_9_df['latitude'] = JNorth_Adult_First_Site_2014_9_df['latitude'].astype(float)\n",
    "JNorth_Adult_First_Site_2014_9_df['longitude'] = JNorth_Adult_First_Site_2014_9_df['longitude'].astype(float)\n",
    "# JNorth_Milkweed_Site_df['street_address'] = JNorth_Milkweed_Site_df['street_address'].str.title()"
   ]
  },
  {
   "cell_type": "code",
   "execution_count": 312,
   "id": "264210fa",
   "metadata": {},
   "outputs": [],
   "source": [
    "geojson = df_to_geojson(JNorth_Adult_First_Site_2014_9_df, cols)"
   ]
  },
  {
   "cell_type": "code",
   "execution_count": 313,
   "id": "8324bca8",
   "metadata": {},
   "outputs": [],
   "source": [
    "file = open(\"JNorth_Adult_First_Site_2014_9.geojson\", \"w\")\n",
    "json.dump(geojson, file, indent =1)\n",
    "file.close()"
   ]
  },
  {
   "cell_type": "markdown",
   "id": "25891dac",
   "metadata": {},
   "source": [
    "## October"
   ]
  },
  {
   "cell_type": "code",
   "execution_count": 314,
   "id": "2e972169",
   "metadata": {},
   "outputs": [
    {
     "data": {
      "text/html": [
       "<div>\n",
       "<style scoped>\n",
       "    .dataframe tbody tr th:only-of-type {\n",
       "        vertical-align: middle;\n",
       "    }\n",
       "\n",
       "    .dataframe tbody tr th {\n",
       "        vertical-align: top;\n",
       "    }\n",
       "\n",
       "    .dataframe thead th {\n",
       "        text-align: right;\n",
       "    }\n",
       "</style>\n",
       "<table border=\"1\" class=\"dataframe\">\n",
       "  <thead>\n",
       "    <tr style=\"text-align: right;\">\n",
       "      <th></th>\n",
       "      <th>sighting_date</th>\n",
       "      <th>species</th>\n",
       "      <th>latitude</th>\n",
       "      <th>longitude</th>\n",
       "      <th>number</th>\n",
       "      <th>month</th>\n",
       "    </tr>\n",
       "  </thead>\n",
       "  <tbody>\n",
       "    <tr>\n",
       "      <th>22452</th>\n",
       "      <td>2014-10-31</td>\n",
       "      <td>Monarch Adult Sighted</td>\n",
       "      <td>29.757</td>\n",
       "      <td>-95.365</td>\n",
       "      <td>1</td>\n",
       "      <td>10</td>\n",
       "    </tr>\n",
       "    <tr>\n",
       "      <th>22453</th>\n",
       "      <td>2014-10-31</td>\n",
       "      <td>Monarch Adult Sighted</td>\n",
       "      <td>30.230</td>\n",
       "      <td>-97.714</td>\n",
       "      <td>6</td>\n",
       "      <td>10</td>\n",
       "    </tr>\n",
       "    <tr>\n",
       "      <th>22454</th>\n",
       "      <td>2014-10-31</td>\n",
       "      <td>Monarch Adult Sighted</td>\n",
       "      <td>35.257</td>\n",
       "      <td>-90.807</td>\n",
       "      <td>1</td>\n",
       "      <td>10</td>\n",
       "    </tr>\n",
       "    <tr>\n",
       "      <th>22455</th>\n",
       "      <td>2014-10-31</td>\n",
       "      <td>Monarch Adult Sighted</td>\n",
       "      <td>38.262</td>\n",
       "      <td>-77.121</td>\n",
       "      <td>2</td>\n",
       "      <td>10</td>\n",
       "    </tr>\n",
       "    <tr>\n",
       "      <th>22456</th>\n",
       "      <td>2014-10-31</td>\n",
       "      <td>Monarch Adult Sighted</td>\n",
       "      <td>39.294</td>\n",
       "      <td>-82.082</td>\n",
       "      <td>1</td>\n",
       "      <td>10</td>\n",
       "    </tr>\n",
       "  </tbody>\n",
       "</table>\n",
       "</div>"
      ],
      "text/plain": [
       "      sighting_date                species  latitude  longitude  number  month\n",
       "22452    2014-10-31  Monarch Adult Sighted    29.757    -95.365       1     10\n",
       "22453    2014-10-31  Monarch Adult Sighted    30.230    -97.714       6     10\n",
       "22454    2014-10-31  Monarch Adult Sighted    35.257    -90.807       1     10\n",
       "22455    2014-10-31  Monarch Adult Sighted    38.262    -77.121       2     10\n",
       "22456    2014-10-31  Monarch Adult Sighted    39.294    -82.082       1     10"
      ]
     },
     "execution_count": 314,
     "metadata": {},
     "output_type": "execute_result"
    }
   ],
   "source": [
    "JNorth_Adult_First_Site_2014_month_df =pd.DataFrame(JNorth_Adult_First_Site_2014_df)\n",
    "JNorth_Adult_First_Site_2014_10_df = JNorth_Adult_First_Site_2014_month_df[JNorth_Adult_First_Site_2014_month_df['month']==10]\n",
    "JNorth_Adult_First_Site_2014_10_df.tail()"
   ]
  },
  {
   "cell_type": "code",
   "execution_count": 315,
   "id": "b02cb6c5",
   "metadata": {},
   "outputs": [
    {
     "data": {
      "text/plain": [
       "(1728, 6)"
      ]
     },
     "execution_count": 315,
     "metadata": {},
     "output_type": "execute_result"
    }
   ],
   "source": [
    "JNorth_Adult_First_Site_2014_10_df.shape"
   ]
  },
  {
   "cell_type": "code",
   "execution_count": 316,
   "id": "4c128c57",
   "metadata": {},
   "outputs": [],
   "source": [
    "JNorth_Adult_First_Site_2014_10_df = pd.DataFrame(JNorth_Adult_First_Site_2014_10_df)\n",
    "JNorth_Adult_First_Site_2014_10_df.drop(['month'], axis=1, inplace=True)"
   ]
  },
  {
   "cell_type": "code",
   "execution_count": 317,
   "id": "e11b561b",
   "metadata": {},
   "outputs": [],
   "source": [
    "# convert lat-long to floats and change address from ALL CAPS to regular capitalization\n",
    "JNorth_Adult_First_Site_2014_10_df['latitude'] = JNorth_Adult_First_Site_2014_10_df['latitude'].astype(float)\n",
    "JNorth_Adult_First_Site_2014_10_df['longitude'] = JNorth_Adult_First_Site_2014_10_df['longitude'].astype(float)\n",
    "# JNorth_Milkweed_Site_df['street_address'] = JNorth_Milkweed_Site_df['street_address'].str.title()"
   ]
  },
  {
   "cell_type": "code",
   "execution_count": 318,
   "id": "7510a3c3",
   "metadata": {},
   "outputs": [],
   "source": [
    "geojson = df_to_geojson(JNorth_Adult_First_Site_2014_10_df, cols)"
   ]
  },
  {
   "cell_type": "code",
   "execution_count": 319,
   "id": "c4baae80",
   "metadata": {},
   "outputs": [],
   "source": [
    "file = open(\"JNorth_Adult_First_Site_2014_10.geojson\", \"w\")\n",
    "json.dump(geojson, file, indent =1)\n",
    "file.close()"
   ]
  },
  {
   "cell_type": "markdown",
   "id": "bd664e59",
   "metadata": {},
   "source": [
    "## November"
   ]
  },
  {
   "cell_type": "code",
   "execution_count": 320,
   "id": "1204d4e5",
   "metadata": {},
   "outputs": [
    {
     "data": {
      "text/html": [
       "<div>\n",
       "<style scoped>\n",
       "    .dataframe tbody tr th:only-of-type {\n",
       "        vertical-align: middle;\n",
       "    }\n",
       "\n",
       "    .dataframe tbody tr th {\n",
       "        vertical-align: top;\n",
       "    }\n",
       "\n",
       "    .dataframe thead th {\n",
       "        text-align: right;\n",
       "    }\n",
       "</style>\n",
       "<table border=\"1\" class=\"dataframe\">\n",
       "  <thead>\n",
       "    <tr style=\"text-align: right;\">\n",
       "      <th></th>\n",
       "      <th>sighting_date</th>\n",
       "      <th>species</th>\n",
       "      <th>latitude</th>\n",
       "      <th>longitude</th>\n",
       "      <th>number</th>\n",
       "      <th>month</th>\n",
       "    </tr>\n",
       "  </thead>\n",
       "  <tbody>\n",
       "    <tr>\n",
       "      <th>22594</th>\n",
       "      <td>2014-11-28</td>\n",
       "      <td>Monarch Adult Sighted</td>\n",
       "      <td>30.230</td>\n",
       "      <td>-97.714</td>\n",
       "      <td>2</td>\n",
       "      <td>11</td>\n",
       "    </tr>\n",
       "    <tr>\n",
       "      <th>22595</th>\n",
       "      <td>2014-11-28</td>\n",
       "      <td>Monarch Adult Sighted</td>\n",
       "      <td>30.410</td>\n",
       "      <td>-86.760</td>\n",
       "      <td>6</td>\n",
       "      <td>11</td>\n",
       "    </tr>\n",
       "    <tr>\n",
       "      <th>22596</th>\n",
       "      <td>2014-11-29</td>\n",
       "      <td>Monarch Adult Sighted</td>\n",
       "      <td>25.666</td>\n",
       "      <td>-100.215</td>\n",
       "      <td>1</td>\n",
       "      <td>11</td>\n",
       "    </tr>\n",
       "    <tr>\n",
       "      <th>22597</th>\n",
       "      <td>2014-11-29</td>\n",
       "      <td>Monarch Adult Sighted</td>\n",
       "      <td>34.442</td>\n",
       "      <td>-119.863</td>\n",
       "      <td>3</td>\n",
       "      <td>11</td>\n",
       "    </tr>\n",
       "    <tr>\n",
       "      <th>22598</th>\n",
       "      <td>2014-11-30</td>\n",
       "      <td>Monarch Adult Sighted</td>\n",
       "      <td>29.757</td>\n",
       "      <td>-95.365</td>\n",
       "      <td>2</td>\n",
       "      <td>11</td>\n",
       "    </tr>\n",
       "  </tbody>\n",
       "</table>\n",
       "</div>"
      ],
      "text/plain": [
       "      sighting_date                species  latitude  longitude  number  month\n",
       "22594    2014-11-28  Monarch Adult Sighted    30.230    -97.714       2     11\n",
       "22595    2014-11-28  Monarch Adult Sighted    30.410    -86.760       6     11\n",
       "22596    2014-11-29  Monarch Adult Sighted    25.666   -100.215       1     11\n",
       "22597    2014-11-29  Monarch Adult Sighted    34.442   -119.863       3     11\n",
       "22598    2014-11-30  Monarch Adult Sighted    29.757    -95.365       2     11"
      ]
     },
     "execution_count": 320,
     "metadata": {},
     "output_type": "execute_result"
    }
   ],
   "source": [
    "JNorth_Adult_First_Site_2014_month_df =pd.DataFrame(JNorth_Adult_First_Site_2014_df)\n",
    "JNorth_Adult_First_Site_2014_11_df = JNorth_Adult_First_Site_2014_month_df[JNorth_Adult_First_Site_2014_month_df['month']==11]\n",
    "JNorth_Adult_First_Site_2014_11_df.tail()"
   ]
  },
  {
   "cell_type": "code",
   "execution_count": 321,
   "id": "b5447ef0",
   "metadata": {},
   "outputs": [
    {
     "data": {
      "text/plain": [
       "(142, 6)"
      ]
     },
     "execution_count": 321,
     "metadata": {},
     "output_type": "execute_result"
    }
   ],
   "source": [
    "JNorth_Adult_First_Site_2014_11_df.shape"
   ]
  },
  {
   "cell_type": "code",
   "execution_count": 322,
   "id": "f3d3ebcd",
   "metadata": {},
   "outputs": [],
   "source": [
    "JNorth_Adult_First_Site_2014_11_df = pd.DataFrame(JNorth_Adult_First_Site_2014_11_df)\n",
    "JNorth_Adult_First_Site_2014_11_df.drop(['month'], axis=1, inplace=True)"
   ]
  },
  {
   "cell_type": "code",
   "execution_count": 323,
   "id": "efcce95f",
   "metadata": {},
   "outputs": [],
   "source": [
    "# convert lat-long to floats and change address from ALL CAPS to regular capitalization\n",
    "JNorth_Adult_First_Site_2014_11_df['latitude'] = JNorth_Adult_First_Site_2014_11_df['latitude'].astype(float)\n",
    "JNorth_Adult_First_Site_2014_11_df['longitude'] = JNorth_Adult_First_Site_2014_11_df['longitude'].astype(float)\n",
    "# JNorth_Milkweed_Site_df['street_address'] = JNorth_Milkweed_Site_df['street_address'].str.title()"
   ]
  },
  {
   "cell_type": "code",
   "execution_count": 324,
   "id": "f3d6c1d9",
   "metadata": {},
   "outputs": [],
   "source": [
    "geojson = df_to_geojson(JNorth_Adult_First_Site_2014_11_df, cols)"
   ]
  },
  {
   "cell_type": "code",
   "execution_count": 325,
   "id": "fd0e9741",
   "metadata": {},
   "outputs": [],
   "source": [
    "file = open(\"JNorth_Adult_First_Site_2014_11.geojson\", \"w\")\n",
    "json.dump(geojson, file, indent =1)\n",
    "file.close()"
   ]
  },
  {
   "cell_type": "markdown",
   "id": "cdcf918e",
   "metadata": {},
   "source": [
    "## December"
   ]
  },
  {
   "cell_type": "code",
   "execution_count": 326,
   "id": "3e347baa",
   "metadata": {},
   "outputs": [
    {
     "data": {
      "text/html": [
       "<div>\n",
       "<style scoped>\n",
       "    .dataframe tbody tr th:only-of-type {\n",
       "        vertical-align: middle;\n",
       "    }\n",
       "\n",
       "    .dataframe tbody tr th {\n",
       "        vertical-align: top;\n",
       "    }\n",
       "\n",
       "    .dataframe thead th {\n",
       "        text-align: right;\n",
       "    }\n",
       "</style>\n",
       "<table border=\"1\" class=\"dataframe\">\n",
       "  <thead>\n",
       "    <tr style=\"text-align: right;\">\n",
       "      <th></th>\n",
       "      <th>sighting_date</th>\n",
       "      <th>species</th>\n",
       "      <th>latitude</th>\n",
       "      <th>longitude</th>\n",
       "      <th>number</th>\n",
       "      <th>month</th>\n",
       "    </tr>\n",
       "  </thead>\n",
       "  <tbody>\n",
       "    <tr>\n",
       "      <th>22638</th>\n",
       "      <td>2014-12-28</td>\n",
       "      <td>Monarch Adult Sighted</td>\n",
       "      <td>33.834</td>\n",
       "      <td>-118.313</td>\n",
       "      <td>3</td>\n",
       "      <td>12</td>\n",
       "    </tr>\n",
       "    <tr>\n",
       "      <th>22639</th>\n",
       "      <td>2014-12-29</td>\n",
       "      <td>Monarch Adult Sighted</td>\n",
       "      <td>30.389</td>\n",
       "      <td>-89.098</td>\n",
       "      <td>10</td>\n",
       "      <td>12</td>\n",
       "    </tr>\n",
       "    <tr>\n",
       "      <th>22640</th>\n",
       "      <td>2014-12-30</td>\n",
       "      <td>Monarch Adult Sighted</td>\n",
       "      <td>34.200</td>\n",
       "      <td>-118.294</td>\n",
       "      <td>2</td>\n",
       "      <td>12</td>\n",
       "    </tr>\n",
       "    <tr>\n",
       "      <th>22641</th>\n",
       "      <td>2014-12-31</td>\n",
       "      <td>Monarch Adult Sighted</td>\n",
       "      <td>28.827</td>\n",
       "      <td>-82.256</td>\n",
       "      <td>1</td>\n",
       "      <td>12</td>\n",
       "    </tr>\n",
       "    <tr>\n",
       "      <th>22642</th>\n",
       "      <td>2014-12-31</td>\n",
       "      <td>Monarch Adult Sighted</td>\n",
       "      <td>33.761</td>\n",
       "      <td>-118.199</td>\n",
       "      <td>1</td>\n",
       "      <td>12</td>\n",
       "    </tr>\n",
       "  </tbody>\n",
       "</table>\n",
       "</div>"
      ],
      "text/plain": [
       "      sighting_date                species  latitude  longitude  number  month\n",
       "22638    2014-12-28  Monarch Adult Sighted    33.834   -118.313       3     12\n",
       "22639    2014-12-29  Monarch Adult Sighted    30.389    -89.098      10     12\n",
       "22640    2014-12-30  Monarch Adult Sighted    34.200   -118.294       2     12\n",
       "22641    2014-12-31  Monarch Adult Sighted    28.827    -82.256       1     12\n",
       "22642    2014-12-31  Monarch Adult Sighted    33.761   -118.199       1     12"
      ]
     },
     "execution_count": 326,
     "metadata": {},
     "output_type": "execute_result"
    }
   ],
   "source": [
    "JNorth_Adult_First_Site_2014_month_df =pd.DataFrame(JNorth_Adult_First_Site_2014_df)\n",
    "JNorth_Adult_First_Site_2014_12_df = JNorth_Adult_First_Site_2014_month_df[JNorth_Adult_First_Site_2014_month_df['month']==12]\n",
    "JNorth_Adult_First_Site_2014_12_df.tail()"
   ]
  },
  {
   "cell_type": "code",
   "execution_count": 327,
   "id": "20a8e5a5",
   "metadata": {},
   "outputs": [
    {
     "data": {
      "text/plain": [
       "(44, 6)"
      ]
     },
     "execution_count": 327,
     "metadata": {},
     "output_type": "execute_result"
    }
   ],
   "source": [
    "JNorth_Adult_First_Site_2014_12_df.shape"
   ]
  },
  {
   "cell_type": "code",
   "execution_count": 328,
   "id": "529a75b3",
   "metadata": {},
   "outputs": [],
   "source": [
    "JNorth_Adult_First_Site_2014_12_df = pd.DataFrame(JNorth_Adult_First_Site_2014_12_df)\n",
    "JNorth_Adult_First_Site_2014_12_df.drop(['month'], axis=1, inplace=True)"
   ]
  },
  {
   "cell_type": "code",
   "execution_count": 329,
   "id": "9d50cf68",
   "metadata": {},
   "outputs": [],
   "source": [
    "# convert lat-long to floats and change address from ALL CAPS to regular capitalization\n",
    "JNorth_Adult_First_Site_2014_12_df['latitude'] = JNorth_Adult_First_Site_2014_12_df['latitude'].astype(float)\n",
    "JNorth_Adult_First_Site_2014_12_df['longitude'] = JNorth_Adult_First_Site_2014_12_df['longitude'].astype(float)\n",
    "# JNorth_Milkweed_Site_df['street_address'] = JNorth_Milkweed_Site_df['street_address'].str.title()"
   ]
  },
  {
   "cell_type": "code",
   "execution_count": 330,
   "id": "90e20da8",
   "metadata": {},
   "outputs": [],
   "source": [
    "geojson = df_to_geojson(JNorth_Adult_First_Site_2014_12_df, cols)"
   ]
  },
  {
   "cell_type": "code",
   "execution_count": 331,
   "id": "1dc06ea2",
   "metadata": {},
   "outputs": [],
   "source": [
    "file = open(\"JNorth_Adult_First_Site_2014_12.geojson\", \"w\")\n",
    "json.dump(geojson, file, indent =1)\n",
    "file.close()"
   ]
  },
  {
   "cell_type": "markdown",
   "id": "8bf917be",
   "metadata": {},
   "source": [
    "# 2015"
   ]
  },
  {
   "cell_type": "code",
   "execution_count": 332,
   "id": "4968168c",
   "metadata": {},
   "outputs": [
    {
     "data": {
      "text/html": [
       "<div>\n",
       "<style scoped>\n",
       "    .dataframe tbody tr th:only-of-type {\n",
       "        vertical-align: middle;\n",
       "    }\n",
       "\n",
       "    .dataframe tbody tr th {\n",
       "        vertical-align: top;\n",
       "    }\n",
       "\n",
       "    .dataframe thead th {\n",
       "        text-align: right;\n",
       "    }\n",
       "</style>\n",
       "<table border=\"1\" class=\"dataframe\">\n",
       "  <thead>\n",
       "    <tr style=\"text-align: right;\">\n",
       "      <th></th>\n",
       "      <th>sighting_date</th>\n",
       "      <th>species</th>\n",
       "      <th>latitude</th>\n",
       "      <th>longitude</th>\n",
       "      <th>number</th>\n",
       "      <th>year</th>\n",
       "    </tr>\n",
       "  </thead>\n",
       "  <tbody>\n",
       "    <tr>\n",
       "      <th>30819</th>\n",
       "      <td>2015-12-26</td>\n",
       "      <td>Monarch Adult Sighted</td>\n",
       "      <td>19.590</td>\n",
       "      <td>-100.266</td>\n",
       "      <td>1</td>\n",
       "      <td>2015</td>\n",
       "    </tr>\n",
       "    <tr>\n",
       "      <th>30820</th>\n",
       "      <td>2015-12-26</td>\n",
       "      <td>Monarch Adult Sighted</td>\n",
       "      <td>30.047</td>\n",
       "      <td>-95.214</td>\n",
       "      <td>1</td>\n",
       "      <td>2015</td>\n",
       "    </tr>\n",
       "    <tr>\n",
       "      <th>30821</th>\n",
       "      <td>2015-12-27</td>\n",
       "      <td>Monarch Adult Sighted</td>\n",
       "      <td>29.272</td>\n",
       "      <td>-95.729</td>\n",
       "      <td>1</td>\n",
       "      <td>2015</td>\n",
       "    </tr>\n",
       "    <tr>\n",
       "      <th>30822</th>\n",
       "      <td>2015-12-27</td>\n",
       "      <td>Monarch Adult Sighted</td>\n",
       "      <td>32.237</td>\n",
       "      <td>-80.887</td>\n",
       "      <td>1</td>\n",
       "      <td>2015</td>\n",
       "    </tr>\n",
       "    <tr>\n",
       "      <th>30823</th>\n",
       "      <td>2015-12-27</td>\n",
       "      <td>Monarch Adult Sighted</td>\n",
       "      <td>32.237</td>\n",
       "      <td>-80.860</td>\n",
       "      <td>1</td>\n",
       "      <td>2015</td>\n",
       "    </tr>\n",
       "  </tbody>\n",
       "</table>\n",
       "</div>"
      ],
      "text/plain": [
       "      sighting_date                species  latitude  longitude  number  year\n",
       "30819    2015-12-26  Monarch Adult Sighted    19.590   -100.266       1  2015\n",
       "30820    2015-12-26  Monarch Adult Sighted    30.047    -95.214       1  2015\n",
       "30821    2015-12-27  Monarch Adult Sighted    29.272    -95.729       1  2015\n",
       "30822    2015-12-27  Monarch Adult Sighted    32.237    -80.887       1  2015\n",
       "30823    2015-12-27  Monarch Adult Sighted    32.237    -80.860       1  2015"
      ]
     },
     "execution_count": 332,
     "metadata": {},
     "output_type": "execute_result"
    }
   ],
   "source": [
    "JNorth_Adult_First_Site_2015_df = JNorth_Adult_First_Site_df[JNorth_Adult_First_Site_df['year']==2015]\n",
    "JNorth_Adult_First_Site_2015_df.tail()"
   ]
  },
  {
   "cell_type": "code",
   "execution_count": 333,
   "id": "0c944693",
   "metadata": {},
   "outputs": [
    {
     "data": {
      "text/plain": [
       "(8181, 6)"
      ]
     },
     "execution_count": 333,
     "metadata": {},
     "output_type": "execute_result"
    }
   ],
   "source": [
    "JNorth_Adult_First_Site_2015_df.shape"
   ]
  },
  {
   "cell_type": "code",
   "execution_count": 334,
   "id": "92bc2990",
   "metadata": {},
   "outputs": [],
   "source": [
    "JNorth_Adult_First_Site_2015_df = pd.DataFrame(JNorth_Adult_First_Site_2015_df)\n",
    "JNorth_Adult_First_Site_2015_df.drop(['year'], axis=1, inplace=True)"
   ]
  },
  {
   "cell_type": "code",
   "execution_count": 335,
   "id": "9cdb97b2",
   "metadata": {},
   "outputs": [
    {
     "data": {
      "text/plain": [
       "<bound method NDFrame.tail of       sighting_date                species  latitude  longitude  number\n",
       "22643    2015-01-01  Monarch Adult Sighted    19.590   -100.266       1\n",
       "22644    2015-01-01  Monarch Adult Sighted    19.670   -100.280       1\n",
       "22645    2015-01-01  Monarch Adult Sighted    26.978    -82.199       1\n",
       "22646    2015-01-01  Monarch Adult Sighted    27.770    -82.637       2\n",
       "22647    2015-01-01  Monarch Adult Sighted    34.346   -119.329       2\n",
       "...             ...                    ...       ...        ...     ...\n",
       "30819    2015-12-26  Monarch Adult Sighted    19.590   -100.266       1\n",
       "30820    2015-12-26  Monarch Adult Sighted    30.047    -95.214       1\n",
       "30821    2015-12-27  Monarch Adult Sighted    29.272    -95.729       1\n",
       "30822    2015-12-27  Monarch Adult Sighted    32.237    -80.887       1\n",
       "30823    2015-12-27  Monarch Adult Sighted    32.237    -80.860       1\n",
       "\n",
       "[8181 rows x 5 columns]>"
      ]
     },
     "execution_count": 335,
     "metadata": {},
     "output_type": "execute_result"
    }
   ],
   "source": [
    "JNorth_Adult_First_Site_2015_df.tail"
   ]
  },
  {
   "cell_type": "code",
   "execution_count": 336,
   "id": "7783762f",
   "metadata": {},
   "outputs": [],
   "source": [
    "JNorth_Adult_First_Site_2015_df['month'] = pd.DatetimeIndex(JNorth_Adult_First_Site_2015_df['sighting_date']).month"
   ]
  },
  {
   "cell_type": "markdown",
   "id": "f71cd27e",
   "metadata": {},
   "source": [
    "## January"
   ]
  },
  {
   "cell_type": "code",
   "execution_count": 337,
   "id": "5aa17557",
   "metadata": {},
   "outputs": [
    {
     "data": {
      "text/html": [
       "<div>\n",
       "<style scoped>\n",
       "    .dataframe tbody tr th:only-of-type {\n",
       "        vertical-align: middle;\n",
       "    }\n",
       "\n",
       "    .dataframe tbody tr th {\n",
       "        vertical-align: top;\n",
       "    }\n",
       "\n",
       "    .dataframe thead th {\n",
       "        text-align: right;\n",
       "    }\n",
       "</style>\n",
       "<table border=\"1\" class=\"dataframe\">\n",
       "  <thead>\n",
       "    <tr style=\"text-align: right;\">\n",
       "      <th></th>\n",
       "      <th>sighting_date</th>\n",
       "      <th>species</th>\n",
       "      <th>latitude</th>\n",
       "      <th>longitude</th>\n",
       "      <th>number</th>\n",
       "      <th>month</th>\n",
       "    </tr>\n",
       "  </thead>\n",
       "  <tbody>\n",
       "    <tr>\n",
       "      <th>22709</th>\n",
       "      <td>2015-01-31</td>\n",
       "      <td>Monarch Adult Sighted</td>\n",
       "      <td>28.529</td>\n",
       "      <td>-96.679</td>\n",
       "      <td>1</td>\n",
       "      <td>1</td>\n",
       "    </tr>\n",
       "    <tr>\n",
       "      <th>22710</th>\n",
       "      <td>2015-01-31</td>\n",
       "      <td>Monarch Adult Sighted</td>\n",
       "      <td>29.750</td>\n",
       "      <td>-85.294</td>\n",
       "      <td>1</td>\n",
       "      <td>1</td>\n",
       "    </tr>\n",
       "    <tr>\n",
       "      <th>22711</th>\n",
       "      <td>2015-01-31</td>\n",
       "      <td>Monarch Adult Sighted</td>\n",
       "      <td>33.761</td>\n",
       "      <td>-118.199</td>\n",
       "      <td>1</td>\n",
       "      <td>1</td>\n",
       "    </tr>\n",
       "    <tr>\n",
       "      <th>22712</th>\n",
       "      <td>2015-01-31</td>\n",
       "      <td>Monarch Adult Sighted</td>\n",
       "      <td>37.378</td>\n",
       "      <td>-122.020</td>\n",
       "      <td>1</td>\n",
       "      <td>1</td>\n",
       "    </tr>\n",
       "    <tr>\n",
       "      <th>22713</th>\n",
       "      <td>2015-01-31</td>\n",
       "      <td>Monarch Adult Sighted</td>\n",
       "      <td>37.417</td>\n",
       "      <td>-122.048</td>\n",
       "      <td>1</td>\n",
       "      <td>1</td>\n",
       "    </tr>\n",
       "  </tbody>\n",
       "</table>\n",
       "</div>"
      ],
      "text/plain": [
       "      sighting_date                species  latitude  longitude  number  month\n",
       "22709    2015-01-31  Monarch Adult Sighted    28.529    -96.679       1      1\n",
       "22710    2015-01-31  Monarch Adult Sighted    29.750    -85.294       1      1\n",
       "22711    2015-01-31  Monarch Adult Sighted    33.761   -118.199       1      1\n",
       "22712    2015-01-31  Monarch Adult Sighted    37.378   -122.020       1      1\n",
       "22713    2015-01-31  Monarch Adult Sighted    37.417   -122.048       1      1"
      ]
     },
     "execution_count": 337,
     "metadata": {},
     "output_type": "execute_result"
    }
   ],
   "source": [
    "JNorth_Adult_First_Site_2015_month_df =pd.DataFrame(JNorth_Adult_First_Site_2015_df)\n",
    "JNorth_Adult_First_Site_2015_1_df = JNorth_Adult_First_Site_2015_month_df[JNorth_Adult_First_Site_2015_month_df['month']==1]\n",
    "JNorth_Adult_First_Site_2015_1_df.tail()"
   ]
  },
  {
   "cell_type": "code",
   "execution_count": 338,
   "id": "ca135c2e",
   "metadata": {},
   "outputs": [
    {
     "data": {
      "text/plain": [
       "(71, 6)"
      ]
     },
     "execution_count": 338,
     "metadata": {},
     "output_type": "execute_result"
    }
   ],
   "source": [
    "JNorth_Adult_First_Site_2015_1_df.shape"
   ]
  },
  {
   "cell_type": "code",
   "execution_count": 339,
   "id": "6d0be994",
   "metadata": {},
   "outputs": [],
   "source": [
    "JNorth_Adult_First_Site_2015_1_df = pd.DataFrame(JNorth_Adult_First_Site_2015_1_df)\n",
    "JNorth_Adult_First_Site_2015_1_df.drop(['month'], axis=1, inplace=True)"
   ]
  },
  {
   "cell_type": "code",
   "execution_count": 340,
   "id": "be4f1dc4",
   "metadata": {},
   "outputs": [],
   "source": [
    "# convert lat-long to floats and change address from ALL CAPS to regular capitalization\n",
    "JNorth_Adult_First_Site_2015_1_df['latitude'] = JNorth_Adult_First_Site_2015_1_df['latitude'].astype(float)\n",
    "JNorth_Adult_First_Site_2015_1_df['longitude'] = JNorth_Adult_First_Site_2015_1_df['longitude'].astype(float)\n",
    "# JNorth_Milkweed_Site_df['street_address'] = JNorth_Milkweed_Site_df['street_address'].str.title()"
   ]
  },
  {
   "cell_type": "code",
   "execution_count": 341,
   "id": "918699f7",
   "metadata": {},
   "outputs": [],
   "source": [
    "geojson = df_to_geojson(JNorth_Adult_First_Site_2015_1_df, cols)"
   ]
  },
  {
   "cell_type": "code",
   "execution_count": 342,
   "id": "d4b56319",
   "metadata": {},
   "outputs": [],
   "source": [
    "file = open(\"JNorth_Adult_First_Site_2015_1.geojson\", \"w\")\n",
    "json.dump(geojson, file, indent =1)\n",
    "file.close()"
   ]
  },
  {
   "cell_type": "markdown",
   "id": "2330de88",
   "metadata": {},
   "source": [
    "# February"
   ]
  },
  {
   "cell_type": "code",
   "execution_count": 343,
   "id": "a96637fc",
   "metadata": {},
   "outputs": [
    {
     "data": {
      "text/html": [
       "<div>\n",
       "<style scoped>\n",
       "    .dataframe tbody tr th:only-of-type {\n",
       "        vertical-align: middle;\n",
       "    }\n",
       "\n",
       "    .dataframe tbody tr th {\n",
       "        vertical-align: top;\n",
       "    }\n",
       "\n",
       "    .dataframe thead th {\n",
       "        text-align: right;\n",
       "    }\n",
       "</style>\n",
       "<table border=\"1\" class=\"dataframe\">\n",
       "  <thead>\n",
       "    <tr style=\"text-align: right;\">\n",
       "      <th></th>\n",
       "      <th>sighting_date</th>\n",
       "      <th>species</th>\n",
       "      <th>latitude</th>\n",
       "      <th>longitude</th>\n",
       "      <th>number</th>\n",
       "      <th>month</th>\n",
       "    </tr>\n",
       "  </thead>\n",
       "  <tbody>\n",
       "    <tr>\n",
       "      <th>22762</th>\n",
       "      <td>2015-02-21</td>\n",
       "      <td>Monarch Adult Sighted</td>\n",
       "      <td>29.957</td>\n",
       "      <td>-90.078</td>\n",
       "      <td>1</td>\n",
       "      <td>2</td>\n",
       "    </tr>\n",
       "    <tr>\n",
       "      <th>22763</th>\n",
       "      <td>2015-02-22</td>\n",
       "      <td>Monarch Adult Sighted</td>\n",
       "      <td>28.029</td>\n",
       "      <td>-80.608</td>\n",
       "      <td>1</td>\n",
       "      <td>2</td>\n",
       "    </tr>\n",
       "    <tr>\n",
       "      <th>22764</th>\n",
       "      <td>2015-02-22</td>\n",
       "      <td>Monarch Adult Sighted</td>\n",
       "      <td>29.469</td>\n",
       "      <td>-98.528</td>\n",
       "      <td>1</td>\n",
       "      <td>2</td>\n",
       "    </tr>\n",
       "    <tr>\n",
       "      <th>22765</th>\n",
       "      <td>2015-02-22</td>\n",
       "      <td>Monarch Adult Sighted</td>\n",
       "      <td>31.566</td>\n",
       "      <td>-81.444</td>\n",
       "      <td>1</td>\n",
       "      <td>2</td>\n",
       "    </tr>\n",
       "    <tr>\n",
       "      <th>22766</th>\n",
       "      <td>2015-02-24</td>\n",
       "      <td>Monarch Adult Sighted</td>\n",
       "      <td>28.711</td>\n",
       "      <td>-81.347</td>\n",
       "      <td>1</td>\n",
       "      <td>2</td>\n",
       "    </tr>\n",
       "  </tbody>\n",
       "</table>\n",
       "</div>"
      ],
      "text/plain": [
       "      sighting_date                species  latitude  longitude  number  month\n",
       "22762    2015-02-21  Monarch Adult Sighted    29.957    -90.078       1      2\n",
       "22763    2015-02-22  Monarch Adult Sighted    28.029    -80.608       1      2\n",
       "22764    2015-02-22  Monarch Adult Sighted    29.469    -98.528       1      2\n",
       "22765    2015-02-22  Monarch Adult Sighted    31.566    -81.444       1      2\n",
       "22766    2015-02-24  Monarch Adult Sighted    28.711    -81.347       1      2"
      ]
     },
     "execution_count": 343,
     "metadata": {},
     "output_type": "execute_result"
    }
   ],
   "source": [
    "JNorth_Adult_First_Site_2015_month_df =pd.DataFrame(JNorth_Adult_First_Site_2015_df)\n",
    "JNorth_Adult_First_Site_2015_2_df = JNorth_Adult_First_Site_2015_month_df[JNorth_Adult_First_Site_2015_month_df['month']==2]\n",
    "JNorth_Adult_First_Site_2015_2_df.tail()"
   ]
  },
  {
   "cell_type": "code",
   "execution_count": 344,
   "id": "27970c15",
   "metadata": {},
   "outputs": [
    {
     "data": {
      "text/plain": [
       "(53, 6)"
      ]
     },
     "execution_count": 344,
     "metadata": {},
     "output_type": "execute_result"
    }
   ],
   "source": [
    "JNorth_Adult_First_Site_2015_2_df.shape"
   ]
  },
  {
   "cell_type": "code",
   "execution_count": 345,
   "id": "c2b5b887",
   "metadata": {},
   "outputs": [],
   "source": [
    "JNorth_Adult_First_Site_2015_2_df = pd.DataFrame(JNorth_Adult_First_Site_2015_2_df)\n",
    "JNorth_Adult_First_Site_2015_2_df.drop(['month'], axis=1, inplace=True)"
   ]
  },
  {
   "cell_type": "code",
   "execution_count": 346,
   "id": "c7b9db54",
   "metadata": {},
   "outputs": [],
   "source": [
    "# convert lat-long to floats and change address from ALL CAPS to regular capitalization\n",
    "JNorth_Adult_First_Site_2015_2_df['latitude'] = JNorth_Adult_First_Site_2015_2_df['latitude'].astype(float)\n",
    "JNorth_Adult_First_Site_2015_2_df['longitude'] = JNorth_Adult_First_Site_2015_2_df['longitude'].astype(float)\n",
    "# JNorth_Milkweed_Site_df['street_address'] = JNorth_Milkweed_Site_df['street_address'].str.title()"
   ]
  },
  {
   "cell_type": "code",
   "execution_count": 347,
   "id": "8cd49e48",
   "metadata": {},
   "outputs": [],
   "source": [
    "geojson = df_to_geojson(JNorth_Adult_First_Site_2015_2_df, cols)"
   ]
  },
  {
   "cell_type": "code",
   "execution_count": 348,
   "id": "fc85e820",
   "metadata": {},
   "outputs": [],
   "source": [
    "file = open(\"JNorth_Adult_First_Site_2015_2.geojson\", \"w\")\n",
    "json.dump(geojson, file, indent =1)\n",
    "file.close()"
   ]
  },
  {
   "cell_type": "markdown",
   "id": "fae9abab",
   "metadata": {},
   "source": [
    "# March"
   ]
  },
  {
   "cell_type": "code",
   "execution_count": 349,
   "id": "80cd9c13",
   "metadata": {},
   "outputs": [
    {
     "data": {
      "text/html": [
       "<div>\n",
       "<style scoped>\n",
       "    .dataframe tbody tr th:only-of-type {\n",
       "        vertical-align: middle;\n",
       "    }\n",
       "\n",
       "    .dataframe tbody tr th {\n",
       "        vertical-align: top;\n",
       "    }\n",
       "\n",
       "    .dataframe thead th {\n",
       "        text-align: right;\n",
       "    }\n",
       "</style>\n",
       "<table border=\"1\" class=\"dataframe\">\n",
       "  <thead>\n",
       "    <tr style=\"text-align: right;\">\n",
       "      <th></th>\n",
       "      <th>sighting_date</th>\n",
       "      <th>species</th>\n",
       "      <th>latitude</th>\n",
       "      <th>longitude</th>\n",
       "      <th>number</th>\n",
       "      <th>month</th>\n",
       "    </tr>\n",
       "  </thead>\n",
       "  <tbody>\n",
       "    <tr>\n",
       "      <th>22776</th>\n",
       "      <td>2015-03-08</td>\n",
       "      <td>Monarch Adult Sighted</td>\n",
       "      <td>32.723</td>\n",
       "      <td>-117.168</td>\n",
       "      <td>1</td>\n",
       "      <td>3</td>\n",
       "    </tr>\n",
       "    <tr>\n",
       "      <th>22777</th>\n",
       "      <td>2015-03-08</td>\n",
       "      <td>Monarch Adult Sighted</td>\n",
       "      <td>44.633</td>\n",
       "      <td>-75.950</td>\n",
       "      <td>5</td>\n",
       "      <td>3</td>\n",
       "    </tr>\n",
       "    <tr>\n",
       "      <th>22778</th>\n",
       "      <td>2015-03-08</td>\n",
       "      <td>Monarch Adult Sighted</td>\n",
       "      <td>44.883</td>\n",
       "      <td>-65.167</td>\n",
       "      <td>1</td>\n",
       "      <td>3</td>\n",
       "    </tr>\n",
       "    <tr>\n",
       "      <th>22779</th>\n",
       "      <td>2015-03-09</td>\n",
       "      <td>Monarch Adult Sighted</td>\n",
       "      <td>30.455</td>\n",
       "      <td>-84.253</td>\n",
       "      <td>1</td>\n",
       "      <td>3</td>\n",
       "    </tr>\n",
       "    <tr>\n",
       "      <th>22780</th>\n",
       "      <td>2015-03-15</td>\n",
       "      <td>Monarch Adult Sighted</td>\n",
       "      <td>25.942</td>\n",
       "      <td>-81.718</td>\n",
       "      <td>1</td>\n",
       "      <td>3</td>\n",
       "    </tr>\n",
       "  </tbody>\n",
       "</table>\n",
       "</div>"
      ],
      "text/plain": [
       "      sighting_date                species  latitude  longitude  number  month\n",
       "22776    2015-03-08  Monarch Adult Sighted    32.723   -117.168       1      3\n",
       "22777    2015-03-08  Monarch Adult Sighted    44.633    -75.950       5      3\n",
       "22778    2015-03-08  Monarch Adult Sighted    44.883    -65.167       1      3\n",
       "22779    2015-03-09  Monarch Adult Sighted    30.455    -84.253       1      3\n",
       "22780    2015-03-15  Monarch Adult Sighted    25.942    -81.718       1      3"
      ]
     },
     "execution_count": 349,
     "metadata": {},
     "output_type": "execute_result"
    }
   ],
   "source": [
    "JNorth_Adult_First_Site_2015_month_df =pd.DataFrame(JNorth_Adult_First_Site_2015_df)\n",
    "JNorth_Adult_First_Site_2015_3_df = JNorth_Adult_First_Site_2015_month_df[JNorth_Adult_First_Site_2015_month_df['month']==3]\n",
    "JNorth_Adult_First_Site_2015_3_df.tail()"
   ]
  },
  {
   "cell_type": "code",
   "execution_count": 350,
   "id": "f59a1362",
   "metadata": {},
   "outputs": [
    {
     "data": {
      "text/plain": [
       "(14, 6)"
      ]
     },
     "execution_count": 350,
     "metadata": {},
     "output_type": "execute_result"
    }
   ],
   "source": [
    "JNorth_Adult_First_Site_2015_3_df.shape"
   ]
  },
  {
   "cell_type": "code",
   "execution_count": 351,
   "id": "bbda5b6a",
   "metadata": {},
   "outputs": [],
   "source": [
    "JNorth_Adult_First_Site_2015_3_df = pd.DataFrame(JNorth_Adult_First_Site_2015_3_df)\n",
    "JNorth_Adult_First_Site_2015_3_df.drop(['month'], axis=1, inplace=True)"
   ]
  },
  {
   "cell_type": "code",
   "execution_count": 352,
   "id": "512d795b",
   "metadata": {},
   "outputs": [],
   "source": [
    "# convert lat-long to floats and change address from ALL CAPS to regular capitalization\n",
    "JNorth_Adult_First_Site_2015_3_df['latitude'] = JNorth_Adult_First_Site_2015_3_df['latitude'].astype(float)\n",
    "JNorth_Adult_First_Site_2015_3_df['longitude'] = JNorth_Adult_First_Site_2015_3_df['longitude'].astype(float)\n",
    "# JNorth_Milkweed_Site_df['street_address'] = JNorth_Milkweed_Site_df['street_address'].str.title()"
   ]
  },
  {
   "cell_type": "code",
   "execution_count": 353,
   "id": "0aaa7c36",
   "metadata": {},
   "outputs": [],
   "source": [
    "geojson = df_to_geojson(JNorth_Adult_First_Site_2015_3_df, cols)"
   ]
  },
  {
   "cell_type": "code",
   "execution_count": 354,
   "id": "aac20231",
   "metadata": {},
   "outputs": [],
   "source": [
    "file = open(\"JNorth_Adult_First_Site_2015_3.geojson\", \"w\")\n",
    "json.dump(geojson, file, indent =1)\n",
    "file.close()"
   ]
  },
  {
   "cell_type": "markdown",
   "id": "787bcc6e",
   "metadata": {},
   "source": [
    "# April"
   ]
  },
  {
   "cell_type": "code",
   "execution_count": 355,
   "id": "daf0e414",
   "metadata": {},
   "outputs": [
    {
     "data": {
      "text/html": [
       "<div>\n",
       "<style scoped>\n",
       "    .dataframe tbody tr th:only-of-type {\n",
       "        vertical-align: middle;\n",
       "    }\n",
       "\n",
       "    .dataframe tbody tr th {\n",
       "        vertical-align: top;\n",
       "    }\n",
       "\n",
       "    .dataframe thead th {\n",
       "        text-align: right;\n",
       "    }\n",
       "</style>\n",
       "<table border=\"1\" class=\"dataframe\">\n",
       "  <thead>\n",
       "    <tr style=\"text-align: right;\">\n",
       "      <th></th>\n",
       "      <th>sighting_date</th>\n",
       "      <th>species</th>\n",
       "      <th>latitude</th>\n",
       "      <th>longitude</th>\n",
       "      <th>number</th>\n",
       "      <th>month</th>\n",
       "    </tr>\n",
       "  </thead>\n",
       "  <tbody>\n",
       "  </tbody>\n",
       "</table>\n",
       "</div>"
      ],
      "text/plain": [
       "Empty DataFrame\n",
       "Columns: [sighting_date, species, latitude, longitude, number, month]\n",
       "Index: []"
      ]
     },
     "execution_count": 355,
     "metadata": {},
     "output_type": "execute_result"
    }
   ],
   "source": [
    "JNorth_Adult_First_Site_2015_month_df =pd.DataFrame(JNorth_Adult_First_Site_2015_df)\n",
    "JNorth_Adult_First_Site_2015_4_df = JNorth_Adult_First_Site_2015_month_df[JNorth_Adult_First_Site_2015_month_df['month']==4]\n",
    "JNorth_Adult_First_Site_2015_4_df.tail()"
   ]
  },
  {
   "cell_type": "code",
   "execution_count": 356,
   "id": "f1600f0b",
   "metadata": {},
   "outputs": [
    {
     "data": {
      "text/plain": [
       "(0, 6)"
      ]
     },
     "execution_count": 356,
     "metadata": {},
     "output_type": "execute_result"
    }
   ],
   "source": [
    "JNorth_Adult_First_Site_2015_4_df.shape"
   ]
  },
  {
   "cell_type": "code",
   "execution_count": 357,
   "id": "2f4f800f",
   "metadata": {},
   "outputs": [],
   "source": [
    "JNorth_Adult_First_Site_2015_4_df= pd.DataFrame(JNorth_Adult_First_Site_2015_4_df)\n",
    "JNorth_Adult_First_Site_2015_4_df.drop(['month'], axis=1, inplace=True)"
   ]
  },
  {
   "cell_type": "code",
   "execution_count": 358,
   "id": "60a78c48",
   "metadata": {},
   "outputs": [],
   "source": [
    "# convert lat-long to floats and change address from ALL CAPS to regular capitalization\n",
    "JNorth_Adult_First_Site_2015_4_df['latitude'] = JNorth_Adult_First_Site_2015_4_df['latitude'].astype(float)\n",
    "JNorth_Adult_First_Site_2015_4_df['longitude'] = JNorth_Adult_First_Site_2015_4_df['longitude'].astype(float)\n",
    "# JNorth_Milkweed_Site_df['street_address'] = JNorth_Milkweed_Site_df['street_address'].str.title()"
   ]
  },
  {
   "cell_type": "code",
   "execution_count": 359,
   "id": "a9e22556",
   "metadata": {},
   "outputs": [],
   "source": [
    "geojson = df_to_geojson(JNorth_Adult_First_Site_2015_4_df, cols)"
   ]
  },
  {
   "cell_type": "code",
   "execution_count": 360,
   "id": "e0a805fc",
   "metadata": {},
   "outputs": [],
   "source": [
    "file = open(\"JNorth_Adult_First_Site_2015_4.geojson\", \"w\")\n",
    "json.dump(geojson, file, indent =1)\n",
    "file.close()"
   ]
  },
  {
   "cell_type": "markdown",
   "id": "1b33d9b6",
   "metadata": {},
   "source": [
    "# May"
   ]
  },
  {
   "cell_type": "code",
   "execution_count": 367,
   "id": "e5fe21a9",
   "metadata": {},
   "outputs": [
    {
     "data": {
      "text/html": [
       "<div>\n",
       "<style scoped>\n",
       "    .dataframe tbody tr th:only-of-type {\n",
       "        vertical-align: middle;\n",
       "    }\n",
       "\n",
       "    .dataframe tbody tr th {\n",
       "        vertical-align: top;\n",
       "    }\n",
       "\n",
       "    .dataframe thead th {\n",
       "        text-align: right;\n",
       "    }\n",
       "</style>\n",
       "<table border=\"1\" class=\"dataframe\">\n",
       "  <thead>\n",
       "    <tr style=\"text-align: right;\">\n",
       "      <th></th>\n",
       "      <th>sighting_date</th>\n",
       "      <th>species</th>\n",
       "      <th>latitude</th>\n",
       "      <th>longitude</th>\n",
       "      <th>number</th>\n",
       "      <th>month</th>\n",
       "    </tr>\n",
       "  </thead>\n",
       "  <tbody>\n",
       "    <tr>\n",
       "      <th>22782</th>\n",
       "      <td>2015-05-04</td>\n",
       "      <td>Monarch Adult Sighted</td>\n",
       "      <td>34.413</td>\n",
       "      <td>-119.861</td>\n",
       "      <td>24</td>\n",
       "      <td>5</td>\n",
       "    </tr>\n",
       "    <tr>\n",
       "      <th>22783</th>\n",
       "      <td>2015-05-04</td>\n",
       "      <td>Monarch Adult Sighted</td>\n",
       "      <td>40.852</td>\n",
       "      <td>-91.097</td>\n",
       "      <td>2</td>\n",
       "      <td>5</td>\n",
       "    </tr>\n",
       "    <tr>\n",
       "      <th>22784</th>\n",
       "      <td>2015-05-08</td>\n",
       "      <td>Monarch Adult Sighted</td>\n",
       "      <td>46.183</td>\n",
       "      <td>-82.955</td>\n",
       "      <td>4</td>\n",
       "      <td>5</td>\n",
       "    </tr>\n",
       "    <tr>\n",
       "      <th>22785</th>\n",
       "      <td>2015-05-15</td>\n",
       "      <td>Monarch Adult Sighted</td>\n",
       "      <td>44.950</td>\n",
       "      <td>-76.333</td>\n",
       "      <td>1</td>\n",
       "      <td>5</td>\n",
       "    </tr>\n",
       "    <tr>\n",
       "      <th>22786</th>\n",
       "      <td>2015-05-28</td>\n",
       "      <td>Monarch Adult Sighted</td>\n",
       "      <td>29.757</td>\n",
       "      <td>-95.365</td>\n",
       "      <td>1</td>\n",
       "      <td>5</td>\n",
       "    </tr>\n",
       "  </tbody>\n",
       "</table>\n",
       "</div>"
      ],
      "text/plain": [
       "      sighting_date                species  latitude  longitude  number  month\n",
       "22782    2015-05-04  Monarch Adult Sighted    34.413   -119.861      24      5\n",
       "22783    2015-05-04  Monarch Adult Sighted    40.852    -91.097       2      5\n",
       "22784    2015-05-08  Monarch Adult Sighted    46.183    -82.955       4      5\n",
       "22785    2015-05-15  Monarch Adult Sighted    44.950    -76.333       1      5\n",
       "22786    2015-05-28  Monarch Adult Sighted    29.757    -95.365       1      5"
      ]
     },
     "execution_count": 367,
     "metadata": {},
     "output_type": "execute_result"
    }
   ],
   "source": [
    "JNorth_Adult_First_Site_2015_month_df =pd.DataFrame(JNorth_Adult_First_Site_2015_df)\n",
    "JNorth_Adult_First_Site_2015_5_df = JNorth_Adult_First_Site_2015_month_df[JNorth_Adult_First_Site_2015_month_df['month']==5]\n",
    "JNorth_Adult_First_Site_2015_5_df.tail()"
   ]
  },
  {
   "cell_type": "code",
   "execution_count": 368,
   "id": "5fa880cc",
   "metadata": {},
   "outputs": [
    {
     "data": {
      "text/plain": [
       "(6, 6)"
      ]
     },
     "execution_count": 368,
     "metadata": {},
     "output_type": "execute_result"
    }
   ],
   "source": [
    "JNorth_Adult_First_Site_2015_5_df.shape"
   ]
  },
  {
   "cell_type": "code",
   "execution_count": 369,
   "id": "cd71d0df",
   "metadata": {},
   "outputs": [],
   "source": [
    "JNorth_Adult_First_Site_2015_5_df = pd.DataFrame(JNorth_Adult_First_Site_2015_5_df)\n",
    "JNorth_Adult_First_Site_2015_5_df.drop(['month'], axis=1, inplace=True)"
   ]
  },
  {
   "cell_type": "code",
   "execution_count": 370,
   "id": "ceb51d7e",
   "metadata": {},
   "outputs": [],
   "source": [
    "# convert lat-long to floats and change address from ALL CAPS to regular capitalization\n",
    "JNorth_Adult_First_Site_2015_5_df['latitude'] = JNorth_Adult_First_Site_2015_5_df['latitude'].astype(float)\n",
    "JNorth_Adult_First_Site_2015_5_df['longitude'] = JNorth_Adult_First_Site_2015_5_df['longitude'].astype(float)\n",
    "# JNorth_Milkweed_Site_df['street_address'] = JNorth_Milkweed_Site_df['street_address'].str.title()"
   ]
  },
  {
   "cell_type": "code",
   "execution_count": 371,
   "id": "a9c45134",
   "metadata": {},
   "outputs": [],
   "source": [
    "geojson = df_to_geojson(JNorth_Adult_First_Site_2015_5_df, cols)"
   ]
  },
  {
   "cell_type": "code",
   "execution_count": 372,
   "id": "a126786f",
   "metadata": {},
   "outputs": [],
   "source": [
    "file = open(\"JNorth_Adult_First_Site_2015_5.geojson\", \"w\")\n",
    "json.dump(geojson, file, indent =1)\n",
    "file.close()"
   ]
  },
  {
   "cell_type": "markdown",
   "id": "21608e7a",
   "metadata": {},
   "source": [
    "# June"
   ]
  },
  {
   "cell_type": "code",
   "execution_count": 373,
   "id": "c9432557",
   "metadata": {},
   "outputs": [
    {
     "data": {
      "text/html": [
       "<div>\n",
       "<style scoped>\n",
       "    .dataframe tbody tr th:only-of-type {\n",
       "        vertical-align: middle;\n",
       "    }\n",
       "\n",
       "    .dataframe tbody tr th {\n",
       "        vertical-align: top;\n",
       "    }\n",
       "\n",
       "    .dataframe thead th {\n",
       "        text-align: right;\n",
       "    }\n",
       "</style>\n",
       "<table border=\"1\" class=\"dataframe\">\n",
       "  <thead>\n",
       "    <tr style=\"text-align: right;\">\n",
       "      <th></th>\n",
       "      <th>sighting_date</th>\n",
       "      <th>species</th>\n",
       "      <th>latitude</th>\n",
       "      <th>longitude</th>\n",
       "      <th>number</th>\n",
       "      <th>month</th>\n",
       "    </tr>\n",
       "  </thead>\n",
       "  <tbody>\n",
       "    <tr>\n",
       "      <th>22802</th>\n",
       "      <td>2015-06-28</td>\n",
       "      <td>Monarch Adult Sighted</td>\n",
       "      <td>49.188</td>\n",
       "      <td>-98.100</td>\n",
       "      <td>2</td>\n",
       "      <td>6</td>\n",
       "    </tr>\n",
       "    <tr>\n",
       "      <th>22803</th>\n",
       "      <td>2015-06-29</td>\n",
       "      <td>Monarch Adult Sighted</td>\n",
       "      <td>39.586</td>\n",
       "      <td>-79.959</td>\n",
       "      <td>2</td>\n",
       "      <td>6</td>\n",
       "    </tr>\n",
       "    <tr>\n",
       "      <th>22804</th>\n",
       "      <td>2015-06-29</td>\n",
       "      <td>Monarch Adult Sighted</td>\n",
       "      <td>43.450</td>\n",
       "      <td>-80.483</td>\n",
       "      <td>1</td>\n",
       "      <td>6</td>\n",
       "    </tr>\n",
       "    <tr>\n",
       "      <th>22805</th>\n",
       "      <td>2015-06-30</td>\n",
       "      <td>Monarch Adult Sighted</td>\n",
       "      <td>41.760</td>\n",
       "      <td>-72.959</td>\n",
       "      <td>1</td>\n",
       "      <td>6</td>\n",
       "    </tr>\n",
       "    <tr>\n",
       "      <th>22806</th>\n",
       "      <td>2015-06-30</td>\n",
       "      <td>Monarch Adult Sighted</td>\n",
       "      <td>42.983</td>\n",
       "      <td>-81.233</td>\n",
       "      <td>1</td>\n",
       "      <td>6</td>\n",
       "    </tr>\n",
       "  </tbody>\n",
       "</table>\n",
       "</div>"
      ],
      "text/plain": [
       "      sighting_date                species  latitude  longitude  number  month\n",
       "22802    2015-06-28  Monarch Adult Sighted    49.188    -98.100       2      6\n",
       "22803    2015-06-29  Monarch Adult Sighted    39.586    -79.959       2      6\n",
       "22804    2015-06-29  Monarch Adult Sighted    43.450    -80.483       1      6\n",
       "22805    2015-06-30  Monarch Adult Sighted    41.760    -72.959       1      6\n",
       "22806    2015-06-30  Monarch Adult Sighted    42.983    -81.233       1      6"
      ]
     },
     "execution_count": 373,
     "metadata": {},
     "output_type": "execute_result"
    }
   ],
   "source": [
    "JNorth_Adult_First_Site_2015_month_df =pd.DataFrame(JNorth_Adult_First_Site_2015_df)\n",
    "JNorth_Adult_First_Site_2015_6_df = JNorth_Adult_First_Site_2015_month_df[JNorth_Adult_First_Site_2015_month_df['month']==6]\n",
    "JNorth_Adult_First_Site_2015_6_df.tail()"
   ]
  },
  {
   "cell_type": "code",
   "execution_count": 374,
   "id": "b1bd8bf7",
   "metadata": {},
   "outputs": [
    {
     "data": {
      "text/plain": [
       "(20, 6)"
      ]
     },
     "execution_count": 374,
     "metadata": {},
     "output_type": "execute_result"
    }
   ],
   "source": [
    "JNorth_Adult_First_Site_2015_6_df.shape"
   ]
  },
  {
   "cell_type": "code",
   "execution_count": 375,
   "id": "2f2ac9bc",
   "metadata": {},
   "outputs": [],
   "source": [
    "JNorth_Adult_First_Site_2015_6_df = pd.DataFrame(JNorth_Adult_First_Site_2015_6_df)\n",
    "JNorth_Adult_First_Site_2015_6_df.drop(['month'], axis=1, inplace=True)"
   ]
  },
  {
   "cell_type": "code",
   "execution_count": 376,
   "id": "a91809a2",
   "metadata": {},
   "outputs": [],
   "source": [
    "# convert lat-long to floats and change address from ALL CAPS to regular capitalization\n",
    "JNorth_Adult_First_Site_2015_6_df['latitude'] = JNorth_Adult_First_Site_2015_6_df['latitude'].astype(float)\n",
    "JNorth_Adult_First_Site_2015_6_df['longitude'] = JNorth_Adult_First_Site_2015_6_df['longitude'].astype(float)\n",
    "# JNorth_Milkweed_Site_df['street_address'] = JNorth_Milkweed_Site_df['street_address'].str.title()"
   ]
  },
  {
   "cell_type": "code",
   "execution_count": 377,
   "id": "03d8de83",
   "metadata": {},
   "outputs": [],
   "source": [
    "geojson = df_to_geojson(JNorth_Adult_First_Site_2015_6_df, cols)"
   ]
  },
  {
   "cell_type": "code",
   "execution_count": 378,
   "id": "a24a9426",
   "metadata": {},
   "outputs": [],
   "source": [
    "file = open(\"JNorth_Adult_First_Site_2015_6.geojson\", \"w\")\n",
    "json.dump(geojson, file, indent =1)\n",
    "file.close()"
   ]
  },
  {
   "cell_type": "markdown",
   "id": "6f0a7a5a",
   "metadata": {},
   "source": [
    "# July"
   ]
  },
  {
   "cell_type": "code",
   "execution_count": 379,
   "id": "d7920b96",
   "metadata": {},
   "outputs": [
    {
     "data": {
      "text/html": [
       "<div>\n",
       "<style scoped>\n",
       "    .dataframe tbody tr th:only-of-type {\n",
       "        vertical-align: middle;\n",
       "    }\n",
       "\n",
       "    .dataframe tbody tr th {\n",
       "        vertical-align: top;\n",
       "    }\n",
       "\n",
       "    .dataframe thead th {\n",
       "        text-align: right;\n",
       "    }\n",
       "</style>\n",
       "<table border=\"1\" class=\"dataframe\">\n",
       "  <thead>\n",
       "    <tr style=\"text-align: right;\">\n",
       "      <th></th>\n",
       "      <th>sighting_date</th>\n",
       "      <th>species</th>\n",
       "      <th>latitude</th>\n",
       "      <th>longitude</th>\n",
       "      <th>number</th>\n",
       "      <th>month</th>\n",
       "    </tr>\n",
       "  </thead>\n",
       "  <tbody>\n",
       "    <tr>\n",
       "      <th>23207</th>\n",
       "      <td>2015-07-31</td>\n",
       "      <td>Monarch Adult Sighted</td>\n",
       "      <td>44.683</td>\n",
       "      <td>-76.400</td>\n",
       "      <td>5</td>\n",
       "      <td>7</td>\n",
       "    </tr>\n",
       "    <tr>\n",
       "      <th>23208</th>\n",
       "      <td>2015-07-31</td>\n",
       "      <td>Monarch Adult Sighted</td>\n",
       "      <td>44.735</td>\n",
       "      <td>-79.769</td>\n",
       "      <td>1</td>\n",
       "      <td>7</td>\n",
       "    </tr>\n",
       "    <tr>\n",
       "      <th>23209</th>\n",
       "      <td>2015-07-31</td>\n",
       "      <td>Monarch Adult Sighted</td>\n",
       "      <td>44.808</td>\n",
       "      <td>-85.244</td>\n",
       "      <td>1</td>\n",
       "      <td>7</td>\n",
       "    </tr>\n",
       "    <tr>\n",
       "      <th>23210</th>\n",
       "      <td>2015-07-31</td>\n",
       "      <td>Monarch Adult Sighted</td>\n",
       "      <td>45.030</td>\n",
       "      <td>-93.320</td>\n",
       "      <td>3</td>\n",
       "      <td>7</td>\n",
       "    </tr>\n",
       "    <tr>\n",
       "      <th>23211</th>\n",
       "      <td>2015-07-31</td>\n",
       "      <td>Monarch Adult Sighted</td>\n",
       "      <td>47.665</td>\n",
       "      <td>-117.435</td>\n",
       "      <td>1</td>\n",
       "      <td>7</td>\n",
       "    </tr>\n",
       "  </tbody>\n",
       "</table>\n",
       "</div>"
      ],
      "text/plain": [
       "      sighting_date                species  latitude  longitude  number  month\n",
       "23207    2015-07-31  Monarch Adult Sighted    44.683    -76.400       5      7\n",
       "23208    2015-07-31  Monarch Adult Sighted    44.735    -79.769       1      7\n",
       "23209    2015-07-31  Monarch Adult Sighted    44.808    -85.244       1      7\n",
       "23210    2015-07-31  Monarch Adult Sighted    45.030    -93.320       3      7\n",
       "23211    2015-07-31  Monarch Adult Sighted    47.665   -117.435       1      7"
      ]
     },
     "execution_count": 379,
     "metadata": {},
     "output_type": "execute_result"
    }
   ],
   "source": [
    "JNorth_Adult_First_Site_2015_month_df =pd.DataFrame(JNorth_Adult_First_Site_2015_df)\n",
    "JNorth_Adult_First_Site_2015_7_df = JNorth_Adult_First_Site_2015_month_df[JNorth_Adult_First_Site_2015_month_df['month']==7]\n",
    "JNorth_Adult_First_Site_2015_7_df.tail()"
   ]
  },
  {
   "cell_type": "code",
   "execution_count": 380,
   "id": "5924e525",
   "metadata": {},
   "outputs": [
    {
     "data": {
      "text/plain": [
       "(405, 6)"
      ]
     },
     "execution_count": 380,
     "metadata": {},
     "output_type": "execute_result"
    }
   ],
   "source": [
    "JNorth_Adult_First_Site_2015_7_df.shape"
   ]
  },
  {
   "cell_type": "code",
   "execution_count": 381,
   "id": "0a39c6f9",
   "metadata": {},
   "outputs": [],
   "source": [
    "JNorth_Adult_First_Site_2015_7_df = pd.DataFrame(JNorth_Adult_First_Site_2015_7_df)\n",
    "JNorth_Adult_First_Site_2015_7_df.drop(['month'], axis=1, inplace=True)"
   ]
  },
  {
   "cell_type": "code",
   "execution_count": 382,
   "id": "4366b19a",
   "metadata": {},
   "outputs": [],
   "source": [
    "# convert lat-long to floats and change address from ALL CAPS to regular capitalization\n",
    "JNorth_Adult_First_Site_2015_7_df['latitude'] = JNorth_Adult_First_Site_2015_7_df['latitude'].astype(float)\n",
    "JNorth_Adult_First_Site_2015_7_df['longitude'] = JNorth_Adult_First_Site_2015_7_df['longitude'].astype(float)\n",
    "# JNorth_Milkweed_Site_df['street_address'] = JNorth_Milkweed_Site_df['street_address'].str.title()"
   ]
  },
  {
   "cell_type": "code",
   "execution_count": 383,
   "id": "bfd9a473",
   "metadata": {},
   "outputs": [],
   "source": [
    "geojson = df_to_geojson(JNorth_Adult_First_Site_2015_7_df, cols)"
   ]
  },
  {
   "cell_type": "code",
   "execution_count": 384,
   "id": "d6fd2df8",
   "metadata": {},
   "outputs": [],
   "source": [
    "file = open(\"JNorth_Adult_First_Site_2015_7.geojson\", \"w\")\n",
    "json.dump(geojson, file, indent =1)\n",
    "file.close()"
   ]
  },
  {
   "cell_type": "markdown",
   "id": "334b2c32",
   "metadata": {},
   "source": [
    "# August"
   ]
  },
  {
   "cell_type": "code",
   "execution_count": 385,
   "id": "4e9bd738",
   "metadata": {},
   "outputs": [
    {
     "data": {
      "text/html": [
       "<div>\n",
       "<style scoped>\n",
       "    .dataframe tbody tr th:only-of-type {\n",
       "        vertical-align: middle;\n",
       "    }\n",
       "\n",
       "    .dataframe tbody tr th {\n",
       "        vertical-align: top;\n",
       "    }\n",
       "\n",
       "    .dataframe thead th {\n",
       "        text-align: right;\n",
       "    }\n",
       "</style>\n",
       "<table border=\"1\" class=\"dataframe\">\n",
       "  <thead>\n",
       "    <tr style=\"text-align: right;\">\n",
       "      <th></th>\n",
       "      <th>sighting_date</th>\n",
       "      <th>species</th>\n",
       "      <th>latitude</th>\n",
       "      <th>longitude</th>\n",
       "      <th>number</th>\n",
       "      <th>month</th>\n",
       "    </tr>\n",
       "  </thead>\n",
       "  <tbody>\n",
       "    <tr>\n",
       "      <th>25256</th>\n",
       "      <td>2015-08-31</td>\n",
       "      <td>Monarch Adult Sighted</td>\n",
       "      <td>46.317</td>\n",
       "      <td>-79.467</td>\n",
       "      <td>2</td>\n",
       "      <td>8</td>\n",
       "    </tr>\n",
       "    <tr>\n",
       "      <th>25257</th>\n",
       "      <td>2015-08-31</td>\n",
       "      <td>Monarch Adult Sighted</td>\n",
       "      <td>46.383</td>\n",
       "      <td>-82.633</td>\n",
       "      <td>1</td>\n",
       "      <td>8</td>\n",
       "    </tr>\n",
       "    <tr>\n",
       "      <th>25258</th>\n",
       "      <td>2015-08-31</td>\n",
       "      <td>Monarch Adult Sighted</td>\n",
       "      <td>48.239</td>\n",
       "      <td>-96.496</td>\n",
       "      <td>5</td>\n",
       "      <td>8</td>\n",
       "    </tr>\n",
       "    <tr>\n",
       "      <th>25259</th>\n",
       "      <td>2015-08-31</td>\n",
       "      <td>Monarch Adult Sighted</td>\n",
       "      <td>49.817</td>\n",
       "      <td>-94.433</td>\n",
       "      <td>2</td>\n",
       "      <td>8</td>\n",
       "    </tr>\n",
       "    <tr>\n",
       "      <th>25260</th>\n",
       "      <td>2015-08-31</td>\n",
       "      <td>Monarch Adult Sighted</td>\n",
       "      <td>49.884</td>\n",
       "      <td>-97.141</td>\n",
       "      <td>1</td>\n",
       "      <td>8</td>\n",
       "    </tr>\n",
       "  </tbody>\n",
       "</table>\n",
       "</div>"
      ],
      "text/plain": [
       "      sighting_date                species  latitude  longitude  number  month\n",
       "25256    2015-08-31  Monarch Adult Sighted    46.317    -79.467       2      8\n",
       "25257    2015-08-31  Monarch Adult Sighted    46.383    -82.633       1      8\n",
       "25258    2015-08-31  Monarch Adult Sighted    48.239    -96.496       5      8\n",
       "25259    2015-08-31  Monarch Adult Sighted    49.817    -94.433       2      8\n",
       "25260    2015-08-31  Monarch Adult Sighted    49.884    -97.141       1      8"
      ]
     },
     "execution_count": 385,
     "metadata": {},
     "output_type": "execute_result"
    }
   ],
   "source": [
    "JNorth_Adult_First_Site_2015_month_df =pd.DataFrame(JNorth_Adult_First_Site_2015_df)\n",
    "JNorth_Adult_First_Site_2015_8_df = JNorth_Adult_First_Site_2015_month_df[JNorth_Adult_First_Site_2015_month_df['month']==8]\n",
    "JNorth_Adult_First_Site_2015_8_df.tail()"
   ]
  },
  {
   "cell_type": "code",
   "execution_count": 386,
   "id": "538be366",
   "metadata": {},
   "outputs": [
    {
     "data": {
      "text/plain": [
       "(2049, 6)"
      ]
     },
     "execution_count": 386,
     "metadata": {},
     "output_type": "execute_result"
    }
   ],
   "source": [
    "JNorth_Adult_First_Site_2015_8_df.shape"
   ]
  },
  {
   "cell_type": "code",
   "execution_count": 387,
   "id": "4ed62f67",
   "metadata": {},
   "outputs": [],
   "source": [
    "JNorth_Adult_First_Site_2015_8_df = pd.DataFrame(JNorth_Adult_First_Site_2015_8_df)\n",
    "JNorth_Adult_First_Site_2015_8_df.drop(['month'], axis=1, inplace=True)"
   ]
  },
  {
   "cell_type": "code",
   "execution_count": 388,
   "id": "9efc6a19",
   "metadata": {},
   "outputs": [],
   "source": [
    "# convert lat-long to floats and change address from ALL CAPS to regular capitalization\n",
    "JNorth_Adult_First_Site_2015_8_df['latitude'] = JNorth_Adult_First_Site_2015_8_df['latitude'].astype(float)\n",
    "JNorth_Adult_First_Site_2015_8_df['longitude'] = JNorth_Adult_First_Site_2015_8_df['longitude'].astype(float)\n",
    "# JNorth_Milkweed_Site_df['street_address'] = JNorth_Milkweed_Site_df['street_address'].str.title()"
   ]
  },
  {
   "cell_type": "code",
   "execution_count": 389,
   "id": "49ec38e2",
   "metadata": {},
   "outputs": [],
   "source": [
    "geojson = df_to_geojson(JNorth_Adult_First_Site_2015_8_df, cols)"
   ]
  },
  {
   "cell_type": "code",
   "execution_count": 390,
   "id": "debcba01",
   "metadata": {},
   "outputs": [],
   "source": [
    "file = open(\"JNorth_Adult_First_Site_2015_8.geojson\", \"w\")\n",
    "json.dump(geojson, file, indent =1)\n",
    "file.close()"
   ]
  },
  {
   "cell_type": "markdown",
   "id": "1e000700",
   "metadata": {},
   "source": [
    "# September"
   ]
  },
  {
   "cell_type": "code",
   "execution_count": 391,
   "id": "5c4d5091",
   "metadata": {},
   "outputs": [
    {
     "data": {
      "text/html": [
       "<div>\n",
       "<style scoped>\n",
       "    .dataframe tbody tr th:only-of-type {\n",
       "        vertical-align: middle;\n",
       "    }\n",
       "\n",
       "    .dataframe tbody tr th {\n",
       "        vertical-align: top;\n",
       "    }\n",
       "\n",
       "    .dataframe thead th {\n",
       "        text-align: right;\n",
       "    }\n",
       "</style>\n",
       "<table border=\"1\" class=\"dataframe\">\n",
       "  <thead>\n",
       "    <tr style=\"text-align: right;\">\n",
       "      <th></th>\n",
       "      <th>sighting_date</th>\n",
       "      <th>species</th>\n",
       "      <th>latitude</th>\n",
       "      <th>longitude</th>\n",
       "      <th>number</th>\n",
       "      <th>month</th>\n",
       "    </tr>\n",
       "  </thead>\n",
       "  <tbody>\n",
       "    <tr>\n",
       "      <th>28502</th>\n",
       "      <td>2015-09-30</td>\n",
       "      <td>Monarch Adult Sighted</td>\n",
       "      <td>42.400</td>\n",
       "      <td>-82.183</td>\n",
       "      <td>1</td>\n",
       "      <td>9</td>\n",
       "    </tr>\n",
       "    <tr>\n",
       "      <th>28503</th>\n",
       "      <td>2015-09-30</td>\n",
       "      <td>Monarch Adult Sighted</td>\n",
       "      <td>43.367</td>\n",
       "      <td>-80.950</td>\n",
       "      <td>1</td>\n",
       "      <td>9</td>\n",
       "    </tr>\n",
       "    <tr>\n",
       "      <th>28504</th>\n",
       "      <td>2015-09-30</td>\n",
       "      <td>Monarch Adult Sighted</td>\n",
       "      <td>43.731</td>\n",
       "      <td>-73.559</td>\n",
       "      <td>1</td>\n",
       "      <td>9</td>\n",
       "    </tr>\n",
       "    <tr>\n",
       "      <th>28505</th>\n",
       "      <td>2015-09-30</td>\n",
       "      <td>Monarch Adult Sighted</td>\n",
       "      <td>45.020</td>\n",
       "      <td>-93.218</td>\n",
       "      <td>2</td>\n",
       "      <td>9</td>\n",
       "    </tr>\n",
       "    <tr>\n",
       "      <th>28506</th>\n",
       "      <td>2015-09-30</td>\n",
       "      <td>Monarch Adult Sighted</td>\n",
       "      <td>47.112</td>\n",
       "      <td>-91.857</td>\n",
       "      <td>1</td>\n",
       "      <td>9</td>\n",
       "    </tr>\n",
       "  </tbody>\n",
       "</table>\n",
       "</div>"
      ],
      "text/plain": [
       "      sighting_date                species  latitude  longitude  number  month\n",
       "28502    2015-09-30  Monarch Adult Sighted    42.400    -82.183       1      9\n",
       "28503    2015-09-30  Monarch Adult Sighted    43.367    -80.950       1      9\n",
       "28504    2015-09-30  Monarch Adult Sighted    43.731    -73.559       1      9\n",
       "28505    2015-09-30  Monarch Adult Sighted    45.020    -93.218       2      9\n",
       "28506    2015-09-30  Monarch Adult Sighted    47.112    -91.857       1      9"
      ]
     },
     "execution_count": 391,
     "metadata": {},
     "output_type": "execute_result"
    }
   ],
   "source": [
    "JNorth_Adult_First_Site_2015_month_df =pd.DataFrame(JNorth_Adult_First_Site_2015_df)\n",
    "JNorth_Adult_First_Site_2015_9_df = JNorth_Adult_First_Site_2015_month_df[JNorth_Adult_First_Site_2015_month_df['month']==9]\n",
    "JNorth_Adult_First_Site_2015_9_df.tail()"
   ]
  },
  {
   "cell_type": "code",
   "execution_count": 392,
   "id": "969c475a",
   "metadata": {},
   "outputs": [
    {
     "data": {
      "text/plain": [
       "(3246, 6)"
      ]
     },
     "execution_count": 392,
     "metadata": {},
     "output_type": "execute_result"
    }
   ],
   "source": [
    "JNorth_Adult_First_Site_2015_9_df.shape"
   ]
  },
  {
   "cell_type": "code",
   "execution_count": 393,
   "id": "37c1983d",
   "metadata": {},
   "outputs": [],
   "source": [
    "JNorth_Adult_First_Site_2015_9_df = pd.DataFrame(JNorth_Adult_First_Site_2015_9_df)\n",
    "JNorth_Adult_First_Site_2015_9_df.drop(['month'], axis=1, inplace=True)"
   ]
  },
  {
   "cell_type": "code",
   "execution_count": 394,
   "id": "bb7ca10e",
   "metadata": {},
   "outputs": [],
   "source": [
    "# convert lat-long to floats and change address from ALL CAPS to regular capitalization\n",
    "JNorth_Adult_First_Site_2015_9_df['latitude'] = JNorth_Adult_First_Site_2015_9_df['latitude'].astype(float)\n",
    "JNorth_Adult_First_Site_2015_9_df['longitude'] = JNorth_Adult_First_Site_2015_9_df['longitude'].astype(float)\n",
    "# JNorth_Milkweed_Site_df['street_address'] = JNorth_Milkweed_Site_df['street_address'].str.title()"
   ]
  },
  {
   "cell_type": "code",
   "execution_count": 395,
   "id": "08f724f1",
   "metadata": {},
   "outputs": [],
   "source": [
    "geojson = df_to_geojson(JNorth_Adult_First_Site_2015_9_df, cols)"
   ]
  },
  {
   "cell_type": "code",
   "execution_count": 396,
   "id": "ef197820",
   "metadata": {},
   "outputs": [],
   "source": [
    "file = open(\"JNorth_Adult_First_Site_2015_9.geojson\", \"w\")\n",
    "json.dump(geojson, file, indent =1)\n",
    "file.close()"
   ]
  },
  {
   "cell_type": "markdown",
   "id": "4f5b7c4f",
   "metadata": {},
   "source": [
    "# October"
   ]
  },
  {
   "cell_type": "code",
   "execution_count": 397,
   "id": "1c2fa71b",
   "metadata": {},
   "outputs": [
    {
     "data": {
      "text/html": [
       "<div>\n",
       "<style scoped>\n",
       "    .dataframe tbody tr th:only-of-type {\n",
       "        vertical-align: middle;\n",
       "    }\n",
       "\n",
       "    .dataframe tbody tr th {\n",
       "        vertical-align: top;\n",
       "    }\n",
       "\n",
       "    .dataframe thead th {\n",
       "        text-align: right;\n",
       "    }\n",
       "</style>\n",
       "<table border=\"1\" class=\"dataframe\">\n",
       "  <thead>\n",
       "    <tr style=\"text-align: right;\">\n",
       "      <th></th>\n",
       "      <th>sighting_date</th>\n",
       "      <th>species</th>\n",
       "      <th>latitude</th>\n",
       "      <th>longitude</th>\n",
       "      <th>number</th>\n",
       "      <th>month</th>\n",
       "    </tr>\n",
       "  </thead>\n",
       "  <tbody>\n",
       "    <tr>\n",
       "      <th>30329</th>\n",
       "      <td>2015-10-31</td>\n",
       "      <td>Monarch Adult Sighted</td>\n",
       "      <td>36.846</td>\n",
       "      <td>-76.092</td>\n",
       "      <td>3</td>\n",
       "      <td>10</td>\n",
       "    </tr>\n",
       "    <tr>\n",
       "      <th>30330</th>\n",
       "      <td>2015-10-31</td>\n",
       "      <td>Monarch Adult Sighted</td>\n",
       "      <td>38.482</td>\n",
       "      <td>-122.435</td>\n",
       "      <td>1</td>\n",
       "      <td>10</td>\n",
       "    </tr>\n",
       "    <tr>\n",
       "      <th>30331</th>\n",
       "      <td>2015-10-31</td>\n",
       "      <td>Monarch Adult Sighted</td>\n",
       "      <td>38.968</td>\n",
       "      <td>-74.924</td>\n",
       "      <td>2</td>\n",
       "      <td>10</td>\n",
       "    </tr>\n",
       "    <tr>\n",
       "      <th>30332</th>\n",
       "      <td>2015-10-31</td>\n",
       "      <td>Monarch Adult Sighted</td>\n",
       "      <td>39.097</td>\n",
       "      <td>-84.139</td>\n",
       "      <td>1</td>\n",
       "      <td>10</td>\n",
       "    </tr>\n",
       "    <tr>\n",
       "      <th>30333</th>\n",
       "      <td>2015-10-31</td>\n",
       "      <td>Monarch Adult Sighted</td>\n",
       "      <td>40.821</td>\n",
       "      <td>-73.924</td>\n",
       "      <td>1</td>\n",
       "      <td>10</td>\n",
       "    </tr>\n",
       "  </tbody>\n",
       "</table>\n",
       "</div>"
      ],
      "text/plain": [
       "      sighting_date                species  latitude  longitude  number  month\n",
       "30329    2015-10-31  Monarch Adult Sighted    36.846    -76.092       3     10\n",
       "30330    2015-10-31  Monarch Adult Sighted    38.482   -122.435       1     10\n",
       "30331    2015-10-31  Monarch Adult Sighted    38.968    -74.924       2     10\n",
       "30332    2015-10-31  Monarch Adult Sighted    39.097    -84.139       1     10\n",
       "30333    2015-10-31  Monarch Adult Sighted    40.821    -73.924       1     10"
      ]
     },
     "execution_count": 397,
     "metadata": {},
     "output_type": "execute_result"
    }
   ],
   "source": [
    "JNorth_Adult_First_Site_2015_month_df =pd.DataFrame(JNorth_Adult_First_Site_2015_df)\n",
    "JNorth_Adult_First_Site_2015_10_df = JNorth_Adult_First_Site_2015_month_df[JNorth_Adult_First_Site_2015_month_df['month']==10]\n",
    "JNorth_Adult_First_Site_2015_10_df.tail()"
   ]
  },
  {
   "cell_type": "code",
   "execution_count": 398,
   "id": "2d002b31",
   "metadata": {},
   "outputs": [
    {
     "data": {
      "text/plain": [
       "(1827, 6)"
      ]
     },
     "execution_count": 398,
     "metadata": {},
     "output_type": "execute_result"
    }
   ],
   "source": [
    "JNorth_Adult_First_Site_2015_10_df.shape"
   ]
  },
  {
   "cell_type": "code",
   "execution_count": 399,
   "id": "7568cee5",
   "metadata": {},
   "outputs": [],
   "source": [
    "JNorth_Adult_First_Site_2015_10_df = pd.DataFrame(JNorth_Adult_First_Site_2015_10_df)\n",
    "JNorth_Adult_First_Site_2015_10_df.drop(['month'], axis=1, inplace=True)"
   ]
  },
  {
   "cell_type": "code",
   "execution_count": 400,
   "id": "a5fbe353",
   "metadata": {},
   "outputs": [],
   "source": [
    "# convert lat-long to floats and change address from ALL CAPS to regular capitalization\n",
    "JNorth_Adult_First_Site_2015_10_df['latitude'] = JNorth_Adult_First_Site_2015_10_df['latitude'].astype(float)\n",
    "JNorth_Adult_First_Site_2015_10_df['longitude'] = JNorth_Adult_First_Site_2015_10_df['longitude'].astype(float)\n",
    "# JNorth_Milkweed_Site_df['street_address'] = JNorth_Milkweed_Site_df['street_address'].str.title()"
   ]
  },
  {
   "cell_type": "code",
   "execution_count": 401,
   "id": "100933f3",
   "metadata": {},
   "outputs": [],
   "source": [
    "geojson = df_to_geojson(JNorth_Adult_First_Site_2015_10_df, cols)"
   ]
  },
  {
   "cell_type": "code",
   "execution_count": 402,
   "id": "9d0df34e",
   "metadata": {},
   "outputs": [],
   "source": [
    "file = open(\"JNorth_Adult_First_Site_2015_10.geojson\", \"w\")\n",
    "json.dump(geojson, file, indent =1)\n",
    "file.close()"
   ]
  },
  {
   "cell_type": "markdown",
   "id": "0eb32a56",
   "metadata": {},
   "source": [
    "# November"
   ]
  },
  {
   "cell_type": "code",
   "execution_count": 403,
   "id": "fb16df8a",
   "metadata": {},
   "outputs": [
    {
     "data": {
      "text/html": [
       "<div>\n",
       "<style scoped>\n",
       "    .dataframe tbody tr th:only-of-type {\n",
       "        vertical-align: middle;\n",
       "    }\n",
       "\n",
       "    .dataframe tbody tr th {\n",
       "        vertical-align: top;\n",
       "    }\n",
       "\n",
       "    .dataframe thead th {\n",
       "        text-align: right;\n",
       "    }\n",
       "</style>\n",
       "<table border=\"1\" class=\"dataframe\">\n",
       "  <thead>\n",
       "    <tr style=\"text-align: right;\">\n",
       "      <th></th>\n",
       "      <th>sighting_date</th>\n",
       "      <th>species</th>\n",
       "      <th>latitude</th>\n",
       "      <th>longitude</th>\n",
       "      <th>number</th>\n",
       "      <th>month</th>\n",
       "    </tr>\n",
       "  </thead>\n",
       "  <tbody>\n",
       "    <tr>\n",
       "      <th>30752</th>\n",
       "      <td>2015-11-27</td>\n",
       "      <td>Monarch Adult Sighted</td>\n",
       "      <td>32.237</td>\n",
       "      <td>-80.887</td>\n",
       "      <td>1</td>\n",
       "      <td>11</td>\n",
       "    </tr>\n",
       "    <tr>\n",
       "      <th>30753</th>\n",
       "      <td>2015-11-27</td>\n",
       "      <td>Monarch Adult Sighted</td>\n",
       "      <td>40.205</td>\n",
       "      <td>-75.530</td>\n",
       "      <td>1</td>\n",
       "      <td>11</td>\n",
       "    </tr>\n",
       "    <tr>\n",
       "      <th>30754</th>\n",
       "      <td>2015-11-28</td>\n",
       "      <td>Monarch Adult Sighted</td>\n",
       "      <td>28.179</td>\n",
       "      <td>-80.600</td>\n",
       "      <td>2</td>\n",
       "      <td>11</td>\n",
       "    </tr>\n",
       "    <tr>\n",
       "      <th>30755</th>\n",
       "      <td>2015-11-29</td>\n",
       "      <td>Monarch Adult Sighted</td>\n",
       "      <td>33.056</td>\n",
       "      <td>-96.733</td>\n",
       "      <td>2</td>\n",
       "      <td>11</td>\n",
       "    </tr>\n",
       "    <tr>\n",
       "      <th>30756</th>\n",
       "      <td>2015-11-29</td>\n",
       "      <td>Monarch Adult Sighted</td>\n",
       "      <td>33.889</td>\n",
       "      <td>-118.396</td>\n",
       "      <td>1</td>\n",
       "      <td>11</td>\n",
       "    </tr>\n",
       "  </tbody>\n",
       "</table>\n",
       "</div>"
      ],
      "text/plain": [
       "      sighting_date                species  latitude  longitude  number  month\n",
       "30752    2015-11-27  Monarch Adult Sighted    32.237    -80.887       1     11\n",
       "30753    2015-11-27  Monarch Adult Sighted    40.205    -75.530       1     11\n",
       "30754    2015-11-28  Monarch Adult Sighted    28.179    -80.600       2     11\n",
       "30755    2015-11-29  Monarch Adult Sighted    33.056    -96.733       2     11\n",
       "30756    2015-11-29  Monarch Adult Sighted    33.889   -118.396       1     11"
      ]
     },
     "execution_count": 403,
     "metadata": {},
     "output_type": "execute_result"
    }
   ],
   "source": [
    "JNorth_Adult_First_Site_2015_month_df =pd.DataFrame(JNorth_Adult_First_Site_2015_df)\n",
    "JNorth_Adult_First_Site_2015_11_df = JNorth_Adult_First_Site_2015_month_df[JNorth_Adult_First_Site_2015_month_df['month']==11]\n",
    "JNorth_Adult_First_Site_2015_11_df.tail()"
   ]
  },
  {
   "cell_type": "code",
   "execution_count": 404,
   "id": "8efd904d",
   "metadata": {},
   "outputs": [
    {
     "data": {
      "text/plain": [
       "(423, 6)"
      ]
     },
     "execution_count": 404,
     "metadata": {},
     "output_type": "execute_result"
    }
   ],
   "source": [
    "JNorth_Adult_First_Site_2015_11_df.shape"
   ]
  },
  {
   "cell_type": "code",
   "execution_count": 405,
   "id": "2b8c63f7",
   "metadata": {},
   "outputs": [],
   "source": [
    "JNorth_Adult_First_Site_2015_11_df = pd.DataFrame(JNorth_Adult_First_Site_2015_11_df)\n",
    "JNorth_Adult_First_Site_2015_11_df.drop(['month'], axis=1, inplace=True)"
   ]
  },
  {
   "cell_type": "code",
   "execution_count": 406,
   "id": "2abbf8e3",
   "metadata": {},
   "outputs": [],
   "source": [
    "# convert lat-long to floats and change address from ALL CAPS to regular capitalization\n",
    "JNorth_Adult_First_Site_2015_11_df['latitude'] = JNorth_Adult_First_Site_2015_11_df['latitude'].astype(float)\n",
    "JNorth_Adult_First_Site_2015_11_df['longitude'] = JNorth_Adult_First_Site_2015_11_df['longitude'].astype(float)\n",
    "# JNorth_Milkweed_Site_df['street_address'] = JNorth_Milkweed_Site_df['street_address'].str.title()"
   ]
  },
  {
   "cell_type": "code",
   "execution_count": 407,
   "id": "5de70789",
   "metadata": {},
   "outputs": [],
   "source": [
    "geojson = df_to_geojson(JNorth_Adult_First_Site_2015_11_df, cols)"
   ]
  },
  {
   "cell_type": "code",
   "execution_count": 408,
   "id": "ce936002",
   "metadata": {},
   "outputs": [],
   "source": [
    "file = open(\"JNorth_Adult_First_Site_2015_11.geojson\", \"w\")\n",
    "json.dump(geojson, file, indent =1)\n",
    "file.close()"
   ]
  },
  {
   "cell_type": "markdown",
   "id": "df18b8f4",
   "metadata": {},
   "source": [
    "# December"
   ]
  },
  {
   "cell_type": "code",
   "execution_count": 409,
   "id": "94259ac3",
   "metadata": {},
   "outputs": [
    {
     "data": {
      "text/html": [
       "<div>\n",
       "<style scoped>\n",
       "    .dataframe tbody tr th:only-of-type {\n",
       "        vertical-align: middle;\n",
       "    }\n",
       "\n",
       "    .dataframe tbody tr th {\n",
       "        vertical-align: top;\n",
       "    }\n",
       "\n",
       "    .dataframe thead th {\n",
       "        text-align: right;\n",
       "    }\n",
       "</style>\n",
       "<table border=\"1\" class=\"dataframe\">\n",
       "  <thead>\n",
       "    <tr style=\"text-align: right;\">\n",
       "      <th></th>\n",
       "      <th>sighting_date</th>\n",
       "      <th>species</th>\n",
       "      <th>latitude</th>\n",
       "      <th>longitude</th>\n",
       "      <th>number</th>\n",
       "      <th>month</th>\n",
       "    </tr>\n",
       "  </thead>\n",
       "  <tbody>\n",
       "    <tr>\n",
       "      <th>30819</th>\n",
       "      <td>2015-12-26</td>\n",
       "      <td>Monarch Adult Sighted</td>\n",
       "      <td>19.590</td>\n",
       "      <td>-100.266</td>\n",
       "      <td>1</td>\n",
       "      <td>12</td>\n",
       "    </tr>\n",
       "    <tr>\n",
       "      <th>30820</th>\n",
       "      <td>2015-12-26</td>\n",
       "      <td>Monarch Adult Sighted</td>\n",
       "      <td>30.047</td>\n",
       "      <td>-95.214</td>\n",
       "      <td>1</td>\n",
       "      <td>12</td>\n",
       "    </tr>\n",
       "    <tr>\n",
       "      <th>30821</th>\n",
       "      <td>2015-12-27</td>\n",
       "      <td>Monarch Adult Sighted</td>\n",
       "      <td>29.272</td>\n",
       "      <td>-95.729</td>\n",
       "      <td>1</td>\n",
       "      <td>12</td>\n",
       "    </tr>\n",
       "    <tr>\n",
       "      <th>30822</th>\n",
       "      <td>2015-12-27</td>\n",
       "      <td>Monarch Adult Sighted</td>\n",
       "      <td>32.237</td>\n",
       "      <td>-80.887</td>\n",
       "      <td>1</td>\n",
       "      <td>12</td>\n",
       "    </tr>\n",
       "    <tr>\n",
       "      <th>30823</th>\n",
       "      <td>2015-12-27</td>\n",
       "      <td>Monarch Adult Sighted</td>\n",
       "      <td>32.237</td>\n",
       "      <td>-80.860</td>\n",
       "      <td>1</td>\n",
       "      <td>12</td>\n",
       "    </tr>\n",
       "  </tbody>\n",
       "</table>\n",
       "</div>"
      ],
      "text/plain": [
       "      sighting_date                species  latitude  longitude  number  month\n",
       "30819    2015-12-26  Monarch Adult Sighted    19.590   -100.266       1     12\n",
       "30820    2015-12-26  Monarch Adult Sighted    30.047    -95.214       1     12\n",
       "30821    2015-12-27  Monarch Adult Sighted    29.272    -95.729       1     12\n",
       "30822    2015-12-27  Monarch Adult Sighted    32.237    -80.887       1     12\n",
       "30823    2015-12-27  Monarch Adult Sighted    32.237    -80.860       1     12"
      ]
     },
     "execution_count": 409,
     "metadata": {},
     "output_type": "execute_result"
    }
   ],
   "source": [
    "JNorth_Adult_First_Site_2015_month_df =pd.DataFrame(JNorth_Adult_First_Site_2015_df)\n",
    "JNorth_Adult_First_Site_2015_12_df = JNorth_Adult_First_Site_2015_month_df[JNorth_Adult_First_Site_2015_month_df['month']==12]\n",
    "JNorth_Adult_First_Site_2015_12_df.tail()"
   ]
  },
  {
   "cell_type": "code",
   "execution_count": 410,
   "id": "b8fe3b61",
   "metadata": {},
   "outputs": [
    {
     "data": {
      "text/plain": [
       "(67, 6)"
      ]
     },
     "execution_count": 410,
     "metadata": {},
     "output_type": "execute_result"
    }
   ],
   "source": [
    "JNorth_Adult_First_Site_2015_12_df.shape"
   ]
  },
  {
   "cell_type": "code",
   "execution_count": 411,
   "id": "efa8e27d",
   "metadata": {},
   "outputs": [],
   "source": [
    "JNorth_Adult_First_Site_2015_12_df = pd.DataFrame(JNorth_Adult_First_Site_2015_12_df)\n",
    "JNorth_Adult_First_Site_2015_12_df.drop(['month'], axis=1, inplace=True)"
   ]
  },
  {
   "cell_type": "code",
   "execution_count": 412,
   "id": "e7903a53",
   "metadata": {},
   "outputs": [],
   "source": [
    "# convert lat-long to floats and change address from ALL CAPS to regular capitalization\n",
    "JNorth_Adult_First_Site_2015_12_df['latitude'] = JNorth_Adult_First_Site_2015_12_df['latitude'].astype(float)\n",
    "JNorth_Adult_First_Site_2015_12_df['longitude'] = JNorth_Adult_First_Site_2015_12_df['longitude'].astype(float)\n",
    "# JNorth_Milkweed_Site_df['street_address'] = JNorth_Milkweed_Site_df['street_address'].str.title()"
   ]
  },
  {
   "cell_type": "code",
   "execution_count": 413,
   "id": "575291f2",
   "metadata": {},
   "outputs": [],
   "source": [
    "geojson = df_to_geojson(JNorth_Adult_First_Site_2015_12_df, cols)"
   ]
  },
  {
   "cell_type": "code",
   "execution_count": 414,
   "id": "b6be6057",
   "metadata": {},
   "outputs": [],
   "source": [
    "file = open(\"JNorth_Adult_First_Site_2015_12.geojson\", \"w\")\n",
    "json.dump(geojson, file, indent =1)\n",
    "file.close()"
   ]
  }
 ],
 "metadata": {
  "kernelspec": {
   "display_name": "mlenv",
   "language": "python",
   "name": "mlenv"
  },
  "language_info": {
   "codemirror_mode": {
    "name": "ipython",
    "version": 3
   },
   "file_extension": ".py",
   "mimetype": "text/x-python",
   "name": "python",
   "nbconvert_exporter": "python",
   "pygments_lexer": "ipython3",
   "version": "3.7.11"
  }
 },
 "nbformat": 4,
 "nbformat_minor": 5
}
