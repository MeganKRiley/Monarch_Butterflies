{
 "cells": [
  {
   "cell_type": "code",
   "execution_count": 1,
   "id": "a16d5957",
   "metadata": {},
   "outputs": [],
   "source": [
    "import pandas as pd\n",
    "from pathlib import Path\n",
    "import matplotlib.pyplot as plt\n",
    "from sklearn.linear_model import LinearRegression\n",
    "from sklearn.preprocessing import PolynomialFeatures"
   ]
  },
  {
   "cell_type": "code",
   "execution_count": 2,
   "id": "c5a20576",
   "metadata": {},
   "outputs": [
    {
     "data": {
      "text/html": [
       "<div>\n",
       "<style scoped>\n",
       "    .dataframe tbody tr th:only-of-type {\n",
       "        vertical-align: middle;\n",
       "    }\n",
       "\n",
       "    .dataframe tbody tr th {\n",
       "        vertical-align: top;\n",
       "    }\n",
       "\n",
       "    .dataframe thead th {\n",
       "        text-align: right;\n",
       "    }\n",
       "</style>\n",
       "<table border=\"1\" class=\"dataframe\">\n",
       "  <thead>\n",
       "    <tr style=\"text-align: right;\">\n",
       "      <th></th>\n",
       "      <th>Tag Code</th>\n",
       "      <th>Date</th>\n",
       "      <th>City/Location</th>\n",
       "      <th>State/Province</th>\n",
       "      <th>ZIP/PC</th>\n",
       "      <th>Country</th>\n",
       "      <th>First Name</th>\n",
       "      <th>Notes</th>\n",
       "    </tr>\n",
       "  </thead>\n",
       "  <tbody>\n",
       "    <tr>\n",
       "      <th>0</th>\n",
       "      <td>AAAA183</td>\n",
       "      <td>8/21/2019</td>\n",
       "      <td>Digby County</td>\n",
       "      <td>NS</td>\n",
       "      <td>B0W 2R0</td>\n",
       "      <td>CAN</td>\n",
       "      <td>Lisa</td>\n",
       "      <td>I have a Photo</td>\n",
       "    </tr>\n",
       "    <tr>\n",
       "      <th>1</th>\n",
       "      <td>AAAB212</td>\n",
       "      <td>9/1/2019</td>\n",
       "      <td>Briar Island</td>\n",
       "      <td>NS</td>\n",
       "      <td>B0V1H0</td>\n",
       "      <td>CAN</td>\n",
       "      <td>Cindy</td>\n",
       "      <td>Near the coast while hiking the Island, I have...</td>\n",
       "    </tr>\n",
       "    <tr>\n",
       "      <th>2</th>\n",
       "      <td>AAAC112</td>\n",
       "      <td>9/22/2019</td>\n",
       "      <td>Scarborough</td>\n",
       "      <td>ON</td>\n",
       "      <td>M1C 5G1</td>\n",
       "      <td>CAN</td>\n",
       "      <td>Laurie</td>\n",
       "      <td>NaN</td>\n",
       "    </tr>\n",
       "    <tr>\n",
       "      <th>3</th>\n",
       "      <td>AAAC908</td>\n",
       "      <td>10/5/2019</td>\n",
       "      <td>Geneva</td>\n",
       "      <td>OH</td>\n",
       "      <td>44041</td>\n",
       "      <td>USA</td>\n",
       "      <td>Samantha</td>\n",
       "      <td>Coast of Lake Erie</td>\n",
       "    </tr>\n",
       "    <tr>\n",
       "      <th>4</th>\n",
       "      <td>AAAE016</td>\n",
       "      <td>8/23/2019</td>\n",
       "      <td>Beaverton</td>\n",
       "      <td>ON</td>\n",
       "      <td>L0K1A0</td>\n",
       "      <td>CAN</td>\n",
       "      <td>Ryan</td>\n",
       "      <td>A camper killed the monarch as it was flying w...</td>\n",
       "    </tr>\n",
       "  </tbody>\n",
       "</table>\n",
       "</div>"
      ],
      "text/plain": [
       "  Tag Code       Date City/Location State/Province   ZIP/PC Country  \\\n",
       "0  AAAA183  8/21/2019  Digby County             NS  B0W 2R0     CAN   \n",
       "1  AAAB212   9/1/2019  Briar Island             NS   B0V1H0     CAN   \n",
       "2  AAAC112  9/22/2019   Scarborough             ON  M1C 5G1     CAN   \n",
       "3  AAAC908  10/5/2019        Geneva             OH    44041     USA   \n",
       "4  AAAE016  8/23/2019     Beaverton             ON   L0K1A0     CAN   \n",
       "\n",
       "  First Name                                              Notes  \n",
       "0       Lisa                                     I have a Photo  \n",
       "1      Cindy  Near the coast while hiking the Island, I have...  \n",
       "2     Laurie                                                NaN  \n",
       "3   Samantha                                 Coast of Lake Erie  \n",
       "4       Ryan  A camper killed the monarch as it was flying w...  "
      ]
     },
     "execution_count": 2,
     "metadata": {},
     "output_type": "execute_result"
    }
   ],
   "source": [
    "df = pd.read_csv(Path('Monarch_Watch_2019.csv'))\n",
    "df.head()"
   ]
  },
  {
   "cell_type": "code",
   "execution_count": 3,
   "id": "d069c9f9",
   "metadata": {},
   "outputs": [
    {
     "data": {
      "text/html": [
       "<div>\n",
       "<style scoped>\n",
       "    .dataframe tbody tr th:only-of-type {\n",
       "        vertical-align: middle;\n",
       "    }\n",
       "\n",
       "    .dataframe tbody tr th {\n",
       "        vertical-align: top;\n",
       "    }\n",
       "\n",
       "    .dataframe thead th {\n",
       "        text-align: right;\n",
       "    }\n",
       "</style>\n",
       "<table border=\"1\" class=\"dataframe\">\n",
       "  <thead>\n",
       "    <tr style=\"text-align: right;\">\n",
       "      <th></th>\n",
       "      <th>Tag Code</th>\n",
       "      <th>Date</th>\n",
       "      <th>City/Location</th>\n",
       "      <th>State/Province</th>\n",
       "      <th>ZIP/PC</th>\n",
       "      <th>Country</th>\n",
       "      <th>First Name</th>\n",
       "      <th>Notes</th>\n",
       "      <th>year</th>\n",
       "    </tr>\n",
       "  </thead>\n",
       "  <tbody>\n",
       "    <tr>\n",
       "      <th>0</th>\n",
       "      <td>AAAA183</td>\n",
       "      <td>8/21/2019</td>\n",
       "      <td>Digby County</td>\n",
       "      <td>NS</td>\n",
       "      <td>B0W 2R0</td>\n",
       "      <td>CAN</td>\n",
       "      <td>Lisa</td>\n",
       "      <td>I have a Photo</td>\n",
       "      <td>2019</td>\n",
       "    </tr>\n",
       "    <tr>\n",
       "      <th>1</th>\n",
       "      <td>AAAB212</td>\n",
       "      <td>9/1/2019</td>\n",
       "      <td>Briar Island</td>\n",
       "      <td>NS</td>\n",
       "      <td>B0V1H0</td>\n",
       "      <td>CAN</td>\n",
       "      <td>Cindy</td>\n",
       "      <td>Near the coast while hiking the Island, I have...</td>\n",
       "      <td>2019</td>\n",
       "    </tr>\n",
       "    <tr>\n",
       "      <th>2</th>\n",
       "      <td>AAAC112</td>\n",
       "      <td>9/22/2019</td>\n",
       "      <td>Scarborough</td>\n",
       "      <td>ON</td>\n",
       "      <td>M1C 5G1</td>\n",
       "      <td>CAN</td>\n",
       "      <td>Laurie</td>\n",
       "      <td>NaN</td>\n",
       "      <td>2019</td>\n",
       "    </tr>\n",
       "    <tr>\n",
       "      <th>3</th>\n",
       "      <td>AAAC908</td>\n",
       "      <td>10/5/2019</td>\n",
       "      <td>Geneva</td>\n",
       "      <td>OH</td>\n",
       "      <td>44041</td>\n",
       "      <td>USA</td>\n",
       "      <td>Samantha</td>\n",
       "      <td>Coast of Lake Erie</td>\n",
       "      <td>2019</td>\n",
       "    </tr>\n",
       "    <tr>\n",
       "      <th>4</th>\n",
       "      <td>AAAE016</td>\n",
       "      <td>8/23/2019</td>\n",
       "      <td>Beaverton</td>\n",
       "      <td>ON</td>\n",
       "      <td>L0K1A0</td>\n",
       "      <td>CAN</td>\n",
       "      <td>Ryan</td>\n",
       "      <td>A camper killed the monarch as it was flying w...</td>\n",
       "      <td>2019</td>\n",
       "    </tr>\n",
       "  </tbody>\n",
       "</table>\n",
       "</div>"
      ],
      "text/plain": [
       "  Tag Code       Date City/Location State/Province   ZIP/PC Country  \\\n",
       "0  AAAA183  8/21/2019  Digby County             NS  B0W 2R0     CAN   \n",
       "1  AAAB212   9/1/2019  Briar Island             NS   B0V1H0     CAN   \n",
       "2  AAAC112  9/22/2019   Scarborough             ON  M1C 5G1     CAN   \n",
       "3  AAAC908  10/5/2019        Geneva             OH    44041     USA   \n",
       "4  AAAE016  8/23/2019     Beaverton             ON   L0K1A0     CAN   \n",
       "\n",
       "  First Name                                              Notes  year  \n",
       "0       Lisa                                     I have a Photo  2019  \n",
       "1      Cindy  Near the coast while hiking the Island, I have...  2019  \n",
       "2     Laurie                                                NaN  2019  \n",
       "3   Samantha                                 Coast of Lake Erie  2019  \n",
       "4       Ryan  A camper killed the monarch as it was flying w...  2019  "
      ]
     },
     "execution_count": 3,
     "metadata": {},
     "output_type": "execute_result"
    }
   ],
   "source": [
    "# adding a column for year\n",
    "df['year'] = pd.DatetimeIndex(df['Date']).year\n",
    "df.head()"
   ]
  },
  {
   "cell_type": "code",
   "execution_count": 4,
   "id": "45afb203",
   "metadata": {},
   "outputs": [
    {
     "data": {
      "text/html": [
       "<div>\n",
       "<style scoped>\n",
       "    .dataframe tbody tr th:only-of-type {\n",
       "        vertical-align: middle;\n",
       "    }\n",
       "\n",
       "    .dataframe tbody tr th {\n",
       "        vertical-align: top;\n",
       "    }\n",
       "\n",
       "    .dataframe thead th {\n",
       "        text-align: right;\n",
       "    }\n",
       "</style>\n",
       "<table border=\"1\" class=\"dataframe\">\n",
       "  <thead>\n",
       "    <tr style=\"text-align: right;\">\n",
       "      <th></th>\n",
       "      <th>Tag Code</th>\n",
       "      <th>Date</th>\n",
       "      <th>City/Location</th>\n",
       "      <th>State/Province</th>\n",
       "      <th>ZIP/PC</th>\n",
       "      <th>Country</th>\n",
       "      <th>First Name</th>\n",
       "      <th>Notes</th>\n",
       "      <th>year</th>\n",
       "      <th>month</th>\n",
       "    </tr>\n",
       "  </thead>\n",
       "  <tbody>\n",
       "    <tr>\n",
       "      <th>0</th>\n",
       "      <td>AAAA183</td>\n",
       "      <td>8/21/2019</td>\n",
       "      <td>Digby County</td>\n",
       "      <td>NS</td>\n",
       "      <td>B0W 2R0</td>\n",
       "      <td>CAN</td>\n",
       "      <td>Lisa</td>\n",
       "      <td>I have a Photo</td>\n",
       "      <td>2019</td>\n",
       "      <td>8</td>\n",
       "    </tr>\n",
       "    <tr>\n",
       "      <th>1</th>\n",
       "      <td>AAAB212</td>\n",
       "      <td>9/1/2019</td>\n",
       "      <td>Briar Island</td>\n",
       "      <td>NS</td>\n",
       "      <td>B0V1H0</td>\n",
       "      <td>CAN</td>\n",
       "      <td>Cindy</td>\n",
       "      <td>Near the coast while hiking the Island, I have...</td>\n",
       "      <td>2019</td>\n",
       "      <td>9</td>\n",
       "    </tr>\n",
       "    <tr>\n",
       "      <th>2</th>\n",
       "      <td>AAAC112</td>\n",
       "      <td>9/22/2019</td>\n",
       "      <td>Scarborough</td>\n",
       "      <td>ON</td>\n",
       "      <td>M1C 5G1</td>\n",
       "      <td>CAN</td>\n",
       "      <td>Laurie</td>\n",
       "      <td>NaN</td>\n",
       "      <td>2019</td>\n",
       "      <td>9</td>\n",
       "    </tr>\n",
       "    <tr>\n",
       "      <th>3</th>\n",
       "      <td>AAAC908</td>\n",
       "      <td>10/5/2019</td>\n",
       "      <td>Geneva</td>\n",
       "      <td>OH</td>\n",
       "      <td>44041</td>\n",
       "      <td>USA</td>\n",
       "      <td>Samantha</td>\n",
       "      <td>Coast of Lake Erie</td>\n",
       "      <td>2019</td>\n",
       "      <td>10</td>\n",
       "    </tr>\n",
       "    <tr>\n",
       "      <th>4</th>\n",
       "      <td>AAAE016</td>\n",
       "      <td>8/23/2019</td>\n",
       "      <td>Beaverton</td>\n",
       "      <td>ON</td>\n",
       "      <td>L0K1A0</td>\n",
       "      <td>CAN</td>\n",
       "      <td>Ryan</td>\n",
       "      <td>A camper killed the monarch as it was flying w...</td>\n",
       "      <td>2019</td>\n",
       "      <td>8</td>\n",
       "    </tr>\n",
       "  </tbody>\n",
       "</table>\n",
       "</div>"
      ],
      "text/plain": [
       "  Tag Code       Date City/Location State/Province   ZIP/PC Country  \\\n",
       "0  AAAA183  8/21/2019  Digby County             NS  B0W 2R0     CAN   \n",
       "1  AAAB212   9/1/2019  Briar Island             NS   B0V1H0     CAN   \n",
       "2  AAAC112  9/22/2019   Scarborough             ON  M1C 5G1     CAN   \n",
       "3  AAAC908  10/5/2019        Geneva             OH    44041     USA   \n",
       "4  AAAE016  8/23/2019     Beaverton             ON   L0K1A0     CAN   \n",
       "\n",
       "  First Name                                              Notes  year  month  \n",
       "0       Lisa                                     I have a Photo  2019      8  \n",
       "1      Cindy  Near the coast while hiking the Island, I have...  2019      9  \n",
       "2     Laurie                                                NaN  2019      9  \n",
       "3   Samantha                                 Coast of Lake Erie  2019     10  \n",
       "4       Ryan  A camper killed the monarch as it was flying w...  2019      8  "
      ]
     },
     "execution_count": 4,
     "metadata": {},
     "output_type": "execute_result"
    }
   ],
   "source": [
    "# Adding a column for month\n",
    "\n",
    "df['month'] = pd.DatetimeIndex(df['Date']).month\n",
    "df.head()"
   ]
  },
  {
   "cell_type": "code",
   "execution_count": 5,
   "id": "31c9cb13",
   "metadata": {},
   "outputs": [
    {
     "data": {
      "text/html": [
       "<div>\n",
       "<style scoped>\n",
       "    .dataframe tbody tr th:only-of-type {\n",
       "        vertical-align: middle;\n",
       "    }\n",
       "\n",
       "    .dataframe tbody tr th {\n",
       "        vertical-align: top;\n",
       "    }\n",
       "\n",
       "    .dataframe thead th {\n",
       "        text-align: right;\n",
       "    }\n",
       "</style>\n",
       "<table border=\"1\" class=\"dataframe\">\n",
       "  <thead>\n",
       "    <tr style=\"text-align: right;\">\n",
       "      <th></th>\n",
       "      <th>month</th>\n",
       "      <th>Tag Code</th>\n",
       "      <th>Date</th>\n",
       "      <th>City/Location</th>\n",
       "      <th>State/Province</th>\n",
       "      <th>ZIP/PC</th>\n",
       "      <th>Country</th>\n",
       "      <th>First Name</th>\n",
       "      <th>Notes</th>\n",
       "      <th>year</th>\n",
       "    </tr>\n",
       "  </thead>\n",
       "  <tbody>\n",
       "    <tr>\n",
       "      <th>0</th>\n",
       "      <td>1</td>\n",
       "      <td>10</td>\n",
       "      <td>10</td>\n",
       "      <td>10</td>\n",
       "      <td>10</td>\n",
       "      <td>10</td>\n",
       "      <td>10</td>\n",
       "      <td>10</td>\n",
       "      <td>10</td>\n",
       "      <td>10</td>\n",
       "    </tr>\n",
       "    <tr>\n",
       "      <th>1</th>\n",
       "      <td>2</td>\n",
       "      <td>1</td>\n",
       "      <td>1</td>\n",
       "      <td>1</td>\n",
       "      <td>1</td>\n",
       "      <td>1</td>\n",
       "      <td>1</td>\n",
       "      <td>1</td>\n",
       "      <td>1</td>\n",
       "      <td>1</td>\n",
       "    </tr>\n",
       "    <tr>\n",
       "      <th>2</th>\n",
       "      <td>8</td>\n",
       "      <td>129</td>\n",
       "      <td>129</td>\n",
       "      <td>129</td>\n",
       "      <td>129</td>\n",
       "      <td>129</td>\n",
       "      <td>129</td>\n",
       "      <td>127</td>\n",
       "      <td>106</td>\n",
       "      <td>129</td>\n",
       "    </tr>\n",
       "    <tr>\n",
       "      <th>3</th>\n",
       "      <td>9</td>\n",
       "      <td>417</td>\n",
       "      <td>417</td>\n",
       "      <td>417</td>\n",
       "      <td>417</td>\n",
       "      <td>416</td>\n",
       "      <td>417</td>\n",
       "      <td>404</td>\n",
       "      <td>316</td>\n",
       "      <td>417</td>\n",
       "    </tr>\n",
       "    <tr>\n",
       "      <th>4</th>\n",
       "      <td>10</td>\n",
       "      <td>245</td>\n",
       "      <td>245</td>\n",
       "      <td>245</td>\n",
       "      <td>245</td>\n",
       "      <td>245</td>\n",
       "      <td>245</td>\n",
       "      <td>238</td>\n",
       "      <td>173</td>\n",
       "      <td>245</td>\n",
       "    </tr>\n",
       "    <tr>\n",
       "      <th>5</th>\n",
       "      <td>11</td>\n",
       "      <td>80</td>\n",
       "      <td>80</td>\n",
       "      <td>80</td>\n",
       "      <td>80</td>\n",
       "      <td>80</td>\n",
       "      <td>80</td>\n",
       "      <td>77</td>\n",
       "      <td>57</td>\n",
       "      <td>80</td>\n",
       "    </tr>\n",
       "    <tr>\n",
       "      <th>6</th>\n",
       "      <td>12</td>\n",
       "      <td>8</td>\n",
       "      <td>8</td>\n",
       "      <td>8</td>\n",
       "      <td>8</td>\n",
       "      <td>8</td>\n",
       "      <td>8</td>\n",
       "      <td>8</td>\n",
       "      <td>6</td>\n",
       "      <td>8</td>\n",
       "    </tr>\n",
       "  </tbody>\n",
       "</table>\n",
       "</div>"
      ],
      "text/plain": [
       "   month  Tag Code  Date  City/Location  State/Province  ZIP/PC  Country  \\\n",
       "0      1        10    10             10              10      10       10   \n",
       "1      2         1     1              1               1       1        1   \n",
       "2      8       129   129            129             129     129      129   \n",
       "3      9       417   417            417             417     416      417   \n",
       "4     10       245   245            245             245     245      245   \n",
       "5     11        80    80             80              80      80       80   \n",
       "6     12         8     8              8               8       8        8   \n",
       "\n",
       "   First Name  Notes  year  \n",
       "0          10     10    10  \n",
       "1           1      1     1  \n",
       "2         127    106   129  \n",
       "3         404    316   417  \n",
       "4         238    173   245  \n",
       "5          77     57    80  \n",
       "6           8      6     8  "
      ]
     },
     "execution_count": 5,
     "metadata": {},
     "output_type": "execute_result"
    }
   ],
   "source": [
    "# grouping by month and assuring month isn't an index\n",
    "counts = df.groupby([\"month\"]).count()\n",
    "counts = counts.reset_index()\n",
    "counts"
   ]
  },
  {
   "cell_type": "code",
   "execution_count": 6,
   "id": "272e4277",
   "metadata": {},
   "outputs": [
    {
     "data": {
      "image/png": "[encoded data removed]",
      "text/plain": [
       "<Figure size 432x288 with 1 Axes>"
      ]
     },
     "metadata": {
      "needs_background": "light"
     },
     "output_type": "display_data"
    }
   ],
   "source": [
    "# initial graph. note y-axis with counts.Date is a COUNT of total dates grouped by month; it is not the actual date\n",
    "plt.scatter(counts.month, counts.Date)\n",
    "plt.xlabel('Month')\n",
    "plt.ylabel('Butterfly Counts')\n",
    "plt.show()"
   ]
  },
  {
   "cell_type": "code",
   "execution_count": 7,
   "id": "d5955438",
   "metadata": {},
   "outputs": [],
   "source": [
    "# using reshape\n",
    "X = counts.month.values.reshape(-1, 1)"
   ]
  },
  {
   "cell_type": "code",
   "execution_count": 8,
   "id": "043cd222",
   "metadata": {},
   "outputs": [],
   "source": [
    "# setting the y axis as the count of dates\n",
    "y = counts.Date"
   ]
  },
  {
   "cell_type": "code",
   "execution_count": 9,
   "id": "2843c63e",
   "metadata": {},
   "outputs": [],
   "source": [
    "# setting the model\n",
    "model = LinearRegression()"
   ]
  },
  {
   "cell_type": "code",
   "execution_count": 10,
   "id": "0763914a",
   "metadata": {},
   "outputs": [
    {
     "data": {
      "text/plain": [
       "LinearRegression()"
      ]
     },
     "execution_count": 10,
     "metadata": {},
     "output_type": "execute_result"
    }
   ],
   "source": [
    "# fitting the model\n",
    "model.fit(X, y)"
   ]
  },
  {
   "cell_type": "code",
   "execution_count": 11,
   "id": "eac3aa2a",
   "metadata": {},
   "outputs": [
    {
     "name": "stdout",
     "output_type": "stream",
     "text": [
      "(7,)\n"
     ]
    }
   ],
   "source": [
    "# number of predictions\n",
    "y_pred = model.predict(X)\n",
    "print(y_pred.shape)"
   ]
  },
  {
   "cell_type": "code",
   "execution_count": 12,
   "id": "8ee38911",
   "metadata": {},
   "outputs": [
    {
     "data": {
      "image/png": "[encoded data removed]",
      "text/plain": [
       "<Figure size 432x288 with 1 Axes>"
      ]
     },
     "metadata": {
      "needs_background": "light"
     },
     "output_type": "display_data"
    }
   ],
   "source": [
    "# a straight line for linear regression\n",
    "plt.scatter(X, y)\n",
    "plt.plot(X, y_pred, color='red')\n",
    "plt.show()"
   ]
  },
  {
   "cell_type": "code",
   "execution_count": 13,
   "id": "16d33625",
   "metadata": {},
   "outputs": [],
   "source": [
    "# creating a polynomial function that allows us to input degrees for fitting\n",
    "def fit_and_plot_poly_deg(degree):\n",
    "    poly_feat = PolynomialFeatures(degree)\n",
    "    X_poly = poly_feat.fit_transform(X)\n",
    "    \n",
    "    print('X_poly shape is: {}'.format(str(X_poly.shape)))\n",
    "\n",
    "    poly_model = LinearRegression().fit(X_poly, y)\n",
    "    y_pred = poly_model.predict(X_poly)\n",
    "\n",
    "    plt.scatter(X, y, zorder=3)\n",
    "    plt.plot(X, y_pred, color='black');"
   ]
  },
  {
   "cell_type": "code",
   "execution_count": 14,
   "id": "09dc2434",
   "metadata": {},
   "outputs": [
    {
     "name": "stdout",
     "output_type": "stream",
     "text": [
      "X_poly shape is: (7, 3)\n"
     ]
    },
    {
     "data": {
      "image/png": "[encoded data removed]",
      "text/plain": [
       "<Figure size 432x288 with 1 Axes>"
      ]
     },
     "metadata": {
      "needs_background": "light"
     },
     "output_type": "display_data"
    }
   ],
   "source": [
    "# two degree fit\n",
    "fit_and_plot_poly_deg(2)"
   ]
  },
  {
   "cell_type": "code",
   "execution_count": 15,
   "id": "de045ba6",
   "metadata": {},
   "outputs": [
    {
     "name": "stdout",
     "output_type": "stream",
     "text": [
      "X_poly shape is: (7, 4)\n"
     ]
    },
    {
     "data": {
      "image/png": "[encoded data removed]",
      "text/plain": [
       "<Figure size 432x288 with 1 Axes>"
      ]
     },
     "metadata": {
      "needs_background": "light"
     },
     "output_type": "display_data"
    }
   ],
   "source": [
    "# 3rd degree fit\n",
    "fit_and_plot_poly_deg(3)"
   ]
  },
  {
   "cell_type": "code",
   "execution_count": 16,
   "id": "98460854",
   "metadata": {
    "scrolled": true
   },
   "outputs": [
    {
     "name": "stdout",
     "output_type": "stream",
     "text": [
      "X_poly shape is: (7, 5)\n"
     ]
    },
    {
     "data": {
      "image/png": "[encoded data removed]",
      "text/plain": [
       "<Figure size 432x288 with 1 Axes>"
      ]
     },
     "metadata": {
      "needs_background": "light"
     },
     "output_type": "display_data"
    }
   ],
   "source": [
    "# 4th degree\n",
    "fit_and_plot_poly_deg(4)"
   ]
  },
  {
   "cell_type": "code",
   "execution_count": null,
   "id": "64b0ddd3",
   "metadata": {},
   "outputs": [],
   "source": []
  }
 ],
 "metadata": {
  "kernelspec": {
   "display_name": "mlenv",
   "language": "python",
   "name": "mlenv"
  },
  "language_info": {
   "codemirror_mode": {
    "name": "ipython",
    "version": 3
   },
   "file_extension": ".py",
   "mimetype": "text/x-python",
   "name": "python",
   "nbconvert_exporter": "python",
   "pygments_lexer": "ipython3",
   "version": "3.7.11"
  }
 },
 "nbformat": 4,
 "nbformat_minor": 5
}
