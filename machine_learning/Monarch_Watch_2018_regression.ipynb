{
 "cells": [
  {
   "cell_type": "code",
   "execution_count": 1,
   "id": "a16d5957",
   "metadata": {},
   "outputs": [],
   "source": [
    "import pandas as pd\n",
    "from pathlib import Path\n",
    "import matplotlib.pyplot as plt\n",
    "from sklearn.linear_model import LinearRegression\n",
    "from sklearn.preprocessing import PolynomialFeatures"
   ]
  },
  {
   "cell_type": "code",
   "execution_count": 2,
   "id": "c5a20576",
   "metadata": {},
   "outputs": [
    {
     "data": {
      "text/html": [
       "<div>\n",
       "<style scoped>\n",
       "    .dataframe tbody tr th:only-of-type {\n",
       "        vertical-align: middle;\n",
       "    }\n",
       "\n",
       "    .dataframe tbody tr th {\n",
       "        vertical-align: top;\n",
       "    }\n",
       "\n",
       "    .dataframe thead th {\n",
       "        text-align: right;\n",
       "    }\n",
       "</style>\n",
       "<table border=\"1\" class=\"dataframe\">\n",
       "  <thead>\n",
       "    <tr style=\"text-align: right;\">\n",
       "      <th></th>\n",
       "      <th>Tag</th>\n",
       "      <th>Date</th>\n",
       "      <th>City</th>\n",
       "      <th>State</th>\n",
       "      <th>ZipCode</th>\n",
       "      <th>Country</th>\n",
       "      <th>Latitude</th>\n",
       "      <th>Longitude</th>\n",
       "      <th>First Name</th>\n",
       "      <th>Notes</th>\n",
       "    </tr>\n",
       "  </thead>\n",
       "  <tbody>\n",
       "    <tr>\n",
       "      <th>0</th>\n",
       "      <td>MPT293</td>\n",
       "      <td>11/26/2018</td>\n",
       "      <td>Mount Pleasant</td>\n",
       "      <td>SC</td>\n",
       "      <td>29464</td>\n",
       "      <td>USA</td>\n",
       "      <td>32.847273</td>\n",
       "      <td>-79.820563</td>\n",
       "      <td>William</td>\n",
       "      <td>NaN</td>\n",
       "    </tr>\n",
       "    <tr>\n",
       "      <th>1</th>\n",
       "      <td>RJL275</td>\n",
       "      <td>9/3/2018</td>\n",
       "      <td>Lancaster</td>\n",
       "      <td>PA</td>\n",
       "      <td>17602</td>\n",
       "      <td>USA</td>\n",
       "      <td>40.048755</td>\n",
       "      <td>-76.315491</td>\n",
       "      <td>Caitlin</td>\n",
       "      <td>In our garden</td>\n",
       "    </tr>\n",
       "    <tr>\n",
       "      <th>2</th>\n",
       "      <td>RJL307</td>\n",
       "      <td>10/1/2018</td>\n",
       "      <td>LANCASTER</td>\n",
       "      <td>PA</td>\n",
       "      <td>17601</td>\n",
       "      <td>USA</td>\n",
       "      <td>40.076553</td>\n",
       "      <td>-76.310680</td>\n",
       "      <td>Pamela</td>\n",
       "      <td>nectaring with 5 others on butterfly bush</td>\n",
       "    </tr>\n",
       "    <tr>\n",
       "      <th>3</th>\n",
       "      <td>SGT699</td>\n",
       "      <td>10/5/2018</td>\n",
       "      <td>Manchester</td>\n",
       "      <td>VT</td>\n",
       "      <td>5254</td>\n",
       "      <td>USA</td>\n",
       "      <td>43.163690</td>\n",
       "      <td>-73.072330</td>\n",
       "      <td>Tara</td>\n",
       "      <td>Monarch was at the equinox nursery</td>\n",
       "    </tr>\n",
       "    <tr>\n",
       "      <th>4</th>\n",
       "      <td>SNC614</td>\n",
       "      <td>11/17/2018</td>\n",
       "      <td>Folly Beach</td>\n",
       "      <td>SC</td>\n",
       "      <td>29439</td>\n",
       "      <td>USA</td>\n",
       "      <td>32.663043</td>\n",
       "      <td>-79.926970</td>\n",
       "      <td>NaN</td>\n",
       "      <td>Pelican Watch pavilion @ County Park</td>\n",
       "    </tr>\n",
       "  </tbody>\n",
       "</table>\n",
       "</div>"
      ],
      "text/plain": [
       "      Tag        Date            City State ZipCode Country   Latitude  \\\n",
       "0  MPT293  11/26/2018  Mount Pleasant    SC   29464     USA  32.847273   \n",
       "1  RJL275    9/3/2018       Lancaster    PA   17602     USA  40.048755   \n",
       "2  RJL307   10/1/2018       LANCASTER    PA   17601     USA  40.076553   \n",
       "3  SGT699   10/5/2018      Manchester    VT    5254     USA  43.163690   \n",
       "4  SNC614  11/17/2018     Folly Beach    SC   29439     USA  32.663043   \n",
       "\n",
       "   Longitude First Name                                      Notes  \n",
       "0 -79.820563    William                                        NaN  \n",
       "1 -76.315491    Caitlin                              In our garden  \n",
       "2 -76.310680     Pamela  nectaring with 5 others on butterfly bush  \n",
       "3 -73.072330       Tara         Monarch was at the equinox nursery  \n",
       "4 -79.926970        NaN       Pelican Watch pavilion @ County Park  "
      ]
     },
     "execution_count": 2,
     "metadata": {},
     "output_type": "execute_result"
    }
   ],
   "source": [
    "df = pd.read_csv(Path('Monarch_Watch_2018.csv'))\n",
    "df.head()"
   ]
  },
  {
   "cell_type": "code",
   "execution_count": 3,
   "id": "d069c9f9",
   "metadata": {},
   "outputs": [
    {
     "data": {
      "text/html": [
       "<div>\n",
       "<style scoped>\n",
       "    .dataframe tbody tr th:only-of-type {\n",
       "        vertical-align: middle;\n",
       "    }\n",
       "\n",
       "    .dataframe tbody tr th {\n",
       "        vertical-align: top;\n",
       "    }\n",
       "\n",
       "    .dataframe thead th {\n",
       "        text-align: right;\n",
       "    }\n",
       "</style>\n",
       "<table border=\"1\" class=\"dataframe\">\n",
       "  <thead>\n",
       "    <tr style=\"text-align: right;\">\n",
       "      <th></th>\n",
       "      <th>Tag</th>\n",
       "      <th>Date</th>\n",
       "      <th>City</th>\n",
       "      <th>State</th>\n",
       "      <th>ZipCode</th>\n",
       "      <th>Country</th>\n",
       "      <th>Latitude</th>\n",
       "      <th>Longitude</th>\n",
       "      <th>First Name</th>\n",
       "      <th>Notes</th>\n",
       "      <th>year</th>\n",
       "    </tr>\n",
       "  </thead>\n",
       "  <tbody>\n",
       "    <tr>\n",
       "      <th>0</th>\n",
       "      <td>MPT293</td>\n",
       "      <td>11/26/2018</td>\n",
       "      <td>Mount Pleasant</td>\n",
       "      <td>SC</td>\n",
       "      <td>29464</td>\n",
       "      <td>USA</td>\n",
       "      <td>32.847273</td>\n",
       "      <td>-79.820563</td>\n",
       "      <td>William</td>\n",
       "      <td>NaN</td>\n",
       "      <td>2018</td>\n",
       "    </tr>\n",
       "    <tr>\n",
       "      <th>1</th>\n",
       "      <td>RJL275</td>\n",
       "      <td>9/3/2018</td>\n",
       "      <td>Lancaster</td>\n",
       "      <td>PA</td>\n",
       "      <td>17602</td>\n",
       "      <td>USA</td>\n",
       "      <td>40.048755</td>\n",
       "      <td>-76.315491</td>\n",
       "      <td>Caitlin</td>\n",
       "      <td>In our garden</td>\n",
       "      <td>2018</td>\n",
       "    </tr>\n",
       "    <tr>\n",
       "      <th>2</th>\n",
       "      <td>RJL307</td>\n",
       "      <td>10/1/2018</td>\n",
       "      <td>LANCASTER</td>\n",
       "      <td>PA</td>\n",
       "      <td>17601</td>\n",
       "      <td>USA</td>\n",
       "      <td>40.076553</td>\n",
       "      <td>-76.310680</td>\n",
       "      <td>Pamela</td>\n",
       "      <td>nectaring with 5 others on butterfly bush</td>\n",
       "      <td>2018</td>\n",
       "    </tr>\n",
       "    <tr>\n",
       "      <th>3</th>\n",
       "      <td>SGT699</td>\n",
       "      <td>10/5/2018</td>\n",
       "      <td>Manchester</td>\n",
       "      <td>VT</td>\n",
       "      <td>5254</td>\n",
       "      <td>USA</td>\n",
       "      <td>43.163690</td>\n",
       "      <td>-73.072330</td>\n",
       "      <td>Tara</td>\n",
       "      <td>Monarch was at the equinox nursery</td>\n",
       "      <td>2018</td>\n",
       "    </tr>\n",
       "    <tr>\n",
       "      <th>4</th>\n",
       "      <td>SNC614</td>\n",
       "      <td>11/17/2018</td>\n",
       "      <td>Folly Beach</td>\n",
       "      <td>SC</td>\n",
       "      <td>29439</td>\n",
       "      <td>USA</td>\n",
       "      <td>32.663043</td>\n",
       "      <td>-79.926970</td>\n",
       "      <td>NaN</td>\n",
       "      <td>Pelican Watch pavilion @ County Park</td>\n",
       "      <td>2018</td>\n",
       "    </tr>\n",
       "  </tbody>\n",
       "</table>\n",
       "</div>"
      ],
      "text/plain": [
       "      Tag        Date            City State ZipCode Country   Latitude  \\\n",
       "0  MPT293  11/26/2018  Mount Pleasant    SC   29464     USA  32.847273   \n",
       "1  RJL275    9/3/2018       Lancaster    PA   17602     USA  40.048755   \n",
       "2  RJL307   10/1/2018       LANCASTER    PA   17601     USA  40.076553   \n",
       "3  SGT699   10/5/2018      Manchester    VT    5254     USA  43.163690   \n",
       "4  SNC614  11/17/2018     Folly Beach    SC   29439     USA  32.663043   \n",
       "\n",
       "   Longitude First Name                                      Notes  year  \n",
       "0 -79.820563    William                                        NaN  2018  \n",
       "1 -76.315491    Caitlin                              In our garden  2018  \n",
       "2 -76.310680     Pamela  nectaring with 5 others on butterfly bush  2018  \n",
       "3 -73.072330       Tara         Monarch was at the equinox nursery  2018  \n",
       "4 -79.926970        NaN       Pelican Watch pavilion @ County Park  2018  "
      ]
     },
     "execution_count": 3,
     "metadata": {},
     "output_type": "execute_result"
    }
   ],
   "source": [
    "# adding a column for year\n",
    "df['year'] = pd.DatetimeIndex(df['Date']).year\n",
    "df.head()"
   ]
  },
  {
   "cell_type": "code",
   "execution_count": 4,
   "id": "45afb203",
   "metadata": {},
   "outputs": [
    {
     "data": {
      "text/html": [
       "<div>\n",
       "<style scoped>\n",
       "    .dataframe tbody tr th:only-of-type {\n",
       "        vertical-align: middle;\n",
       "    }\n",
       "\n",
       "    .dataframe tbody tr th {\n",
       "        vertical-align: top;\n",
       "    }\n",
       "\n",
       "    .dataframe thead th {\n",
       "        text-align: right;\n",
       "    }\n",
       "</style>\n",
       "<table border=\"1\" class=\"dataframe\">\n",
       "  <thead>\n",
       "    <tr style=\"text-align: right;\">\n",
       "      <th></th>\n",
       "      <th>Tag</th>\n",
       "      <th>Date</th>\n",
       "      <th>City</th>\n",
       "      <th>State</th>\n",
       "      <th>ZipCode</th>\n",
       "      <th>Country</th>\n",
       "      <th>Latitude</th>\n",
       "      <th>Longitude</th>\n",
       "      <th>First Name</th>\n",
       "      <th>Notes</th>\n",
       "      <th>year</th>\n",
       "      <th>month</th>\n",
       "    </tr>\n",
       "  </thead>\n",
       "  <tbody>\n",
       "    <tr>\n",
       "      <th>0</th>\n",
       "      <td>MPT293</td>\n",
       "      <td>11/26/2018</td>\n",
       "      <td>Mount Pleasant</td>\n",
       "      <td>SC</td>\n",
       "      <td>29464</td>\n",
       "      <td>USA</td>\n",
       "      <td>32.847273</td>\n",
       "      <td>-79.820563</td>\n",
       "      <td>William</td>\n",
       "      <td>NaN</td>\n",
       "      <td>2018</td>\n",
       "      <td>11</td>\n",
       "    </tr>\n",
       "    <tr>\n",
       "      <th>1</th>\n",
       "      <td>RJL275</td>\n",
       "      <td>9/3/2018</td>\n",
       "      <td>Lancaster</td>\n",
       "      <td>PA</td>\n",
       "      <td>17602</td>\n",
       "      <td>USA</td>\n",
       "      <td>40.048755</td>\n",
       "      <td>-76.315491</td>\n",
       "      <td>Caitlin</td>\n",
       "      <td>In our garden</td>\n",
       "      <td>2018</td>\n",
       "      <td>9</td>\n",
       "    </tr>\n",
       "    <tr>\n",
       "      <th>2</th>\n",
       "      <td>RJL307</td>\n",
       "      <td>10/1/2018</td>\n",
       "      <td>LANCASTER</td>\n",
       "      <td>PA</td>\n",
       "      <td>17601</td>\n",
       "      <td>USA</td>\n",
       "      <td>40.076553</td>\n",
       "      <td>-76.310680</td>\n",
       "      <td>Pamela</td>\n",
       "      <td>nectaring with 5 others on butterfly bush</td>\n",
       "      <td>2018</td>\n",
       "      <td>10</td>\n",
       "    </tr>\n",
       "    <tr>\n",
       "      <th>3</th>\n",
       "      <td>SGT699</td>\n",
       "      <td>10/5/2018</td>\n",
       "      <td>Manchester</td>\n",
       "      <td>VT</td>\n",
       "      <td>5254</td>\n",
       "      <td>USA</td>\n",
       "      <td>43.163690</td>\n",
       "      <td>-73.072330</td>\n",
       "      <td>Tara</td>\n",
       "      <td>Monarch was at the equinox nursery</td>\n",
       "      <td>2018</td>\n",
       "      <td>10</td>\n",
       "    </tr>\n",
       "    <tr>\n",
       "      <th>4</th>\n",
       "      <td>SNC614</td>\n",
       "      <td>11/17/2018</td>\n",
       "      <td>Folly Beach</td>\n",
       "      <td>SC</td>\n",
       "      <td>29439</td>\n",
       "      <td>USA</td>\n",
       "      <td>32.663043</td>\n",
       "      <td>-79.926970</td>\n",
       "      <td>NaN</td>\n",
       "      <td>Pelican Watch pavilion @ County Park</td>\n",
       "      <td>2018</td>\n",
       "      <td>11</td>\n",
       "    </tr>\n",
       "  </tbody>\n",
       "</table>\n",
       "</div>"
      ],
      "text/plain": [
       "      Tag        Date            City State ZipCode Country   Latitude  \\\n",
       "0  MPT293  11/26/2018  Mount Pleasant    SC   29464     USA  32.847273   \n",
       "1  RJL275    9/3/2018       Lancaster    PA   17602     USA  40.048755   \n",
       "2  RJL307   10/1/2018       LANCASTER    PA   17601     USA  40.076553   \n",
       "3  SGT699   10/5/2018      Manchester    VT    5254     USA  43.163690   \n",
       "4  SNC614  11/17/2018     Folly Beach    SC   29439     USA  32.663043   \n",
       "\n",
       "   Longitude First Name                                      Notes  year  \\\n",
       "0 -79.820563    William                                        NaN  2018   \n",
       "1 -76.315491    Caitlin                              In our garden  2018   \n",
       "2 -76.310680     Pamela  nectaring with 5 others on butterfly bush  2018   \n",
       "3 -73.072330       Tara         Monarch was at the equinox nursery  2018   \n",
       "4 -79.926970        NaN       Pelican Watch pavilion @ County Park  2018   \n",
       "\n",
       "   month  \n",
       "0     11  \n",
       "1      9  \n",
       "2     10  \n",
       "3     10  \n",
       "4     11  "
      ]
     },
     "execution_count": 4,
     "metadata": {},
     "output_type": "execute_result"
    }
   ],
   "source": [
    "# Adding a column for month\n",
    "\n",
    "df['month'] = pd.DatetimeIndex(df['Date']).month\n",
    "df.head()"
   ]
  },
  {
   "cell_type": "code",
   "execution_count": 5,
   "id": "31c9cb13",
   "metadata": {},
   "outputs": [
    {
     "data": {
      "text/html": [
       "<div>\n",
       "<style scoped>\n",
       "    .dataframe tbody tr th:only-of-type {\n",
       "        vertical-align: middle;\n",
       "    }\n",
       "\n",
       "    .dataframe tbody tr th {\n",
       "        vertical-align: top;\n",
       "    }\n",
       "\n",
       "    .dataframe thead th {\n",
       "        text-align: right;\n",
       "    }\n",
       "</style>\n",
       "<table border=\"1\" class=\"dataframe\">\n",
       "  <thead>\n",
       "    <tr style=\"text-align: right;\">\n",
       "      <th></th>\n",
       "      <th>month</th>\n",
       "      <th>Tag</th>\n",
       "      <th>Date</th>\n",
       "      <th>City</th>\n",
       "      <th>State</th>\n",
       "      <th>ZipCode</th>\n",
       "      <th>Country</th>\n",
       "      <th>Latitude</th>\n",
       "      <th>Longitude</th>\n",
       "      <th>First Name</th>\n",
       "      <th>Notes</th>\n",
       "      <th>year</th>\n",
       "    </tr>\n",
       "  </thead>\n",
       "  <tbody>\n",
       "    <tr>\n",
       "      <th>0</th>\n",
       "      <td>1</td>\n",
       "      <td>5</td>\n",
       "      <td>5</td>\n",
       "      <td>5</td>\n",
       "      <td>5</td>\n",
       "      <td>5</td>\n",
       "      <td>5</td>\n",
       "      <td>5</td>\n",
       "      <td>5</td>\n",
       "      <td>5</td>\n",
       "      <td>4</td>\n",
       "      <td>5</td>\n",
       "    </tr>\n",
       "    <tr>\n",
       "      <th>1</th>\n",
       "      <td>2</td>\n",
       "      <td>3</td>\n",
       "      <td>3</td>\n",
       "      <td>3</td>\n",
       "      <td>3</td>\n",
       "      <td>3</td>\n",
       "      <td>3</td>\n",
       "      <td>3</td>\n",
       "      <td>3</td>\n",
       "      <td>3</td>\n",
       "      <td>3</td>\n",
       "      <td>3</td>\n",
       "    </tr>\n",
       "    <tr>\n",
       "      <th>2</th>\n",
       "      <td>3</td>\n",
       "      <td>6</td>\n",
       "      <td>6</td>\n",
       "      <td>6</td>\n",
       "      <td>6</td>\n",
       "      <td>6</td>\n",
       "      <td>6</td>\n",
       "      <td>6</td>\n",
       "      <td>6</td>\n",
       "      <td>5</td>\n",
       "      <td>6</td>\n",
       "      <td>6</td>\n",
       "    </tr>\n",
       "    <tr>\n",
       "      <th>3</th>\n",
       "      <td>8</td>\n",
       "      <td>171</td>\n",
       "      <td>171</td>\n",
       "      <td>171</td>\n",
       "      <td>171</td>\n",
       "      <td>170</td>\n",
       "      <td>171</td>\n",
       "      <td>171</td>\n",
       "      <td>171</td>\n",
       "      <td>170</td>\n",
       "      <td>139</td>\n",
       "      <td>171</td>\n",
       "    </tr>\n",
       "    <tr>\n",
       "      <th>4</th>\n",
       "      <td>9</td>\n",
       "      <td>584</td>\n",
       "      <td>584</td>\n",
       "      <td>584</td>\n",
       "      <td>584</td>\n",
       "      <td>584</td>\n",
       "      <td>584</td>\n",
       "      <td>584</td>\n",
       "      <td>584</td>\n",
       "      <td>567</td>\n",
       "      <td>431</td>\n",
       "      <td>584</td>\n",
       "    </tr>\n",
       "    <tr>\n",
       "      <th>5</th>\n",
       "      <td>10</td>\n",
       "      <td>367</td>\n",
       "      <td>367</td>\n",
       "      <td>367</td>\n",
       "      <td>367</td>\n",
       "      <td>367</td>\n",
       "      <td>367</td>\n",
       "      <td>367</td>\n",
       "      <td>367</td>\n",
       "      <td>351</td>\n",
       "      <td>286</td>\n",
       "      <td>367</td>\n",
       "    </tr>\n",
       "    <tr>\n",
       "      <th>6</th>\n",
       "      <td>11</td>\n",
       "      <td>57</td>\n",
       "      <td>57</td>\n",
       "      <td>57</td>\n",
       "      <td>57</td>\n",
       "      <td>56</td>\n",
       "      <td>57</td>\n",
       "      <td>57</td>\n",
       "      <td>57</td>\n",
       "      <td>53</td>\n",
       "      <td>48</td>\n",
       "      <td>57</td>\n",
       "    </tr>\n",
       "    <tr>\n",
       "      <th>7</th>\n",
       "      <td>12</td>\n",
       "      <td>13</td>\n",
       "      <td>13</td>\n",
       "      <td>13</td>\n",
       "      <td>13</td>\n",
       "      <td>13</td>\n",
       "      <td>13</td>\n",
       "      <td>13</td>\n",
       "      <td>13</td>\n",
       "      <td>12</td>\n",
       "      <td>9</td>\n",
       "      <td>13</td>\n",
       "    </tr>\n",
       "  </tbody>\n",
       "</table>\n",
       "</div>"
      ],
      "text/plain": [
       "   month  Tag  Date  City  State  ZipCode  Country  Latitude  Longitude  \\\n",
       "0      1    5     5     5      5        5        5         5          5   \n",
       "1      2    3     3     3      3        3        3         3          3   \n",
       "2      3    6     6     6      6        6        6         6          6   \n",
       "3      8  171   171   171    171      170      171       171        171   \n",
       "4      9  584   584   584    584      584      584       584        584   \n",
       "5     10  367   367   367    367      367      367       367        367   \n",
       "6     11   57    57    57     57       56       57        57         57   \n",
       "7     12   13    13    13     13       13       13        13         13   \n",
       "\n",
       "   First Name  Notes  year  \n",
       "0           5      4     5  \n",
       "1           3      3     3  \n",
       "2           5      6     6  \n",
       "3         170    139   171  \n",
       "4         567    431   584  \n",
       "5         351    286   367  \n",
       "6          53     48    57  \n",
       "7          12      9    13  "
      ]
     },
     "execution_count": 5,
     "metadata": {},
     "output_type": "execute_result"
    }
   ],
   "source": [
    "# grouping by month and assuring month isn't an index\n",
    "counts = df.groupby([\"month\"]).count()\n",
    "counts = counts.reset_index()\n",
    "counts"
   ]
  },
  {
   "cell_type": "code",
   "execution_count": 6,
   "id": "272e4277",
   "metadata": {},
   "outputs": [
    {
     "data": {
      "image/png": "[encoded data removed]",
      "text/plain": [
       "<Figure size 432x288 with 1 Axes>"
      ]
     },
     "metadata": {
      "needs_background": "light"
     },
     "output_type": "display_data"
    }
   ],
   "source": [
    "# initial graph. note y-axis with counts.Date is a COUNT of total dates grouped by month; it is not the actual date\n",
    "plt.scatter(counts.month, counts.Date)\n",
    "plt.xlabel('Month')\n",
    "plt.ylabel('Butterfly Counts')\n",
    "plt.show()"
   ]
  },
  {
   "cell_type": "code",
   "execution_count": 7,
   "id": "d5955438",
   "metadata": {},
   "outputs": [],
   "source": [
    "# using reshape\n",
    "X = counts.month.values.reshape(-1, 1)"
   ]
  },
  {
   "cell_type": "code",
   "execution_count": 8,
   "id": "043cd222",
   "metadata": {},
   "outputs": [],
   "source": [
    "# setting the y axis as the count of dates\n",
    "y = counts.Date"
   ]
  },
  {
   "cell_type": "code",
   "execution_count": 9,
   "id": "2843c63e",
   "metadata": {},
   "outputs": [],
   "source": [
    "# setting the model\n",
    "model = LinearRegression()"
   ]
  },
  {
   "cell_type": "code",
   "execution_count": 10,
   "id": "0763914a",
   "metadata": {},
   "outputs": [
    {
     "data": {
      "text/plain": [
       "LinearRegression()"
      ]
     },
     "execution_count": 10,
     "metadata": {},
     "output_type": "execute_result"
    }
   ],
   "source": [
    "# fitting the model\n",
    "model.fit(X, y)"
   ]
  },
  {
   "cell_type": "code",
   "execution_count": 11,
   "id": "eac3aa2a",
   "metadata": {},
   "outputs": [
    {
     "name": "stdout",
     "output_type": "stream",
     "text": [
      "(8,)\n"
     ]
    }
   ],
   "source": [
    "# number of predictions\n",
    "y_pred = model.predict(X)\n",
    "print(y_pred.shape)"
   ]
  },
  {
   "cell_type": "code",
   "execution_count": 12,
   "id": "8ee38911",
   "metadata": {},
   "outputs": [
    {
     "data": {
      "image/png": "[encoded data removed]",
      "text/plain": [
       "<Figure size 432x288 with 1 Axes>"
      ]
     },
     "metadata": {
      "needs_background": "light"
     },
     "output_type": "display_data"
    }
   ],
   "source": [
    "# a straight line for linear regression\n",
    "plt.scatter(X, y)\n",
    "plt.plot(X, y_pred, color='red')\n",
    "plt.show()"
   ]
  },
  {
   "cell_type": "code",
   "execution_count": 13,
   "id": "16d33625",
   "metadata": {},
   "outputs": [],
   "source": [
    "# creating a polynomial function that allows us to input degrees for fitting\n",
    "def fit_and_plot_poly_deg(degree):\n",
    "    poly_feat = PolynomialFeatures(degree)\n",
    "    X_poly = poly_feat.fit_transform(X)\n",
    "    \n",
    "    print('X_poly shape is: {}'.format(str(X_poly.shape)))\n",
    "\n",
    "    poly_model = LinearRegression().fit(X_poly, y)\n",
    "    y_pred = poly_model.predict(X_poly)\n",
    "\n",
    "    plt.scatter(X, y, zorder=3)\n",
    "    plt.plot(X, y_pred, color='black');"
   ]
  },
  {
   "cell_type": "code",
   "execution_count": 14,
   "id": "09dc2434",
   "metadata": {},
   "outputs": [
    {
     "name": "stdout",
     "output_type": "stream",
     "text": [
      "X_poly shape is: (8, 3)\n"
     ]
    },
    {
     "data": {
      "image/png": "[encoded data removed]",
      "text/plain": [
       "<Figure size 432x288 with 1 Axes>"
      ]
     },
     "metadata": {
      "needs_background": "light"
     },
     "output_type": "display_data"
    }
   ],
   "source": [
    "# two degree fit\n",
    "fit_and_plot_poly_deg(2)"
   ]
  },
  {
   "cell_type": "code",
   "execution_count": 15,
   "id": "de045ba6",
   "metadata": {},
   "outputs": [
    {
     "name": "stdout",
     "output_type": "stream",
     "text": [
      "X_poly shape is: (8, 4)\n"
     ]
    },
    {
     "data": {
      "image/png": "[encoded data removed]",
      "text/plain": [
       "<Figure size 432x288 with 1 Axes>"
      ]
     },
     "metadata": {
      "needs_background": "light"
     },
     "output_type": "display_data"
    }
   ],
   "source": [
    "# 3rd degree fit\n",
    "fit_and_plot_poly_deg(3)"
   ]
  },
  {
   "cell_type": "code",
   "execution_count": 16,
   "id": "98460854",
   "metadata": {
    "scrolled": true
   },
   "outputs": [
    {
     "name": "stdout",
     "output_type": "stream",
     "text": [
      "X_poly shape is: (8, 5)\n"
     ]
    },
    {
     "data": {
      "image/png": "[encoded data removed]",
      "text/plain": [
       "<Figure size 432x288 with 1 Axes>"
      ]
     },
     "metadata": {
      "needs_background": "light"
     },
     "output_type": "display_data"
    }
   ],
   "source": [
    "# 4th degree\n",
    "fit_and_plot_poly_deg(4)"
   ]
  },
  {
   "cell_type": "code",
   "execution_count": null,
   "id": "64b0ddd3",
   "metadata": {},
   "outputs": [],
   "source": []
  },
  {
   "cell_type": "code",
   "execution_count": null,
   "id": "3210fc96",
   "metadata": {},
   "outputs": [],
   "source": []
  }
 ],
 "metadata": {
  "kernelspec": {
   "display_name": "mlenv",
   "language": "python",
   "name": "mlenv"
  },
  "language_info": {
   "codemirror_mode": {
    "name": "ipython",
    "version": 3
   },
   "file_extension": ".py",
   "mimetype": "text/x-python",
   "name": "python",
   "nbconvert_exporter": "python",
   "pygments_lexer": "ipython3",
   "version": "3.7.11"
  }
 },
 "nbformat": 4,
 "nbformat_minor": 5
}
