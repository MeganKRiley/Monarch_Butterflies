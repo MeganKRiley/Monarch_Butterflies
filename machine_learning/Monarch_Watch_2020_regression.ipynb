{
 "cells": [
  {
   "cell_type": "code",
   "execution_count": 1,
   "id": "a16d5957",
   "metadata": {},
   "outputs": [],
   "source": [
    "import pandas as pd\n",
    "from pathlib import Path\n",
    "import matplotlib.pyplot as plt\n",
    "from sklearn.linear_model import LinearRegression\n",
    "from sklearn.preprocessing import PolynomialFeatures"
   ]
  },
  {
   "cell_type": "code",
   "execution_count": 2,
   "id": "c5a20576",
   "metadata": {},
   "outputs": [
    {
     "data": {
      "text/html": [
       "<div>\n",
       "<style scoped>\n",
       "    .dataframe tbody tr th:only-of-type {\n",
       "        vertical-align: middle;\n",
       "    }\n",
       "\n",
       "    .dataframe tbody tr th {\n",
       "        vertical-align: top;\n",
       "    }\n",
       "\n",
       "    .dataframe thead th {\n",
       "        text-align: right;\n",
       "    }\n",
       "</style>\n",
       "<table border=\"1\" class=\"dataframe\">\n",
       "  <thead>\n",
       "    <tr style=\"text-align: right;\">\n",
       "      <th></th>\n",
       "      <th>Tag Code</th>\n",
       "      <th>Date</th>\n",
       "      <th>City/Location</th>\n",
       "      <th>State/Province</th>\n",
       "      <th>ZIP/PC</th>\n",
       "      <th>Country</th>\n",
       "      <th>First Name</th>\n",
       "      <th>Notes</th>\n",
       "    </tr>\n",
       "  </thead>\n",
       "  <tbody>\n",
       "    <tr>\n",
       "      <th>0</th>\n",
       "      <td>AABX630</td>\n",
       "      <td>10/22/2020</td>\n",
       "      <td>North Cape May</td>\n",
       "      <td>NJ</td>\n",
       "      <td>8204</td>\n",
       "      <td>USA</td>\n",
       "      <td>Mark</td>\n",
       "      <td>Beth Polvino's Garden</td>\n",
       "    </tr>\n",
       "    <tr>\n",
       "      <th>1</th>\n",
       "      <td>AABX693</td>\n",
       "      <td>9/30/2020</td>\n",
       "      <td>Sewell</td>\n",
       "      <td>NJ</td>\n",
       "      <td>8080</td>\n",
       "      <td>USA</td>\n",
       "      <td>Debbie</td>\n",
       "      <td>flying around and sucking up nectar form aster...</td>\n",
       "    </tr>\n",
       "    <tr>\n",
       "      <th>2</th>\n",
       "      <td>AAHL099</td>\n",
       "      <td>9/26/2020</td>\n",
       "      <td>Saint-Lambert</td>\n",
       "      <td>QC</td>\n",
       "      <td>J4p 2j4</td>\n",
       "      <td>CAN</td>\n",
       "      <td>Luce</td>\n",
       "      <td>On a Flower, sidewalk of a commercial street</td>\n",
       "    </tr>\n",
       "    <tr>\n",
       "      <th>3</th>\n",
       "      <td>AAHL209</td>\n",
       "      <td>10/10/2020</td>\n",
       "      <td>Quebec City</td>\n",
       "      <td>QC</td>\n",
       "      <td>G1S 3J3</td>\n",
       "      <td>CAN</td>\n",
       "      <td>Pierre</td>\n",
       "      <td>Was found in my backyard. Looked in good shape...</td>\n",
       "    </tr>\n",
       "    <tr>\n",
       "      <th>4</th>\n",
       "      <td>AAJM336</td>\n",
       "      <td>8/26/2020</td>\n",
       "      <td>Wilmington</td>\n",
       "      <td>NC</td>\n",
       "      <td>28403</td>\n",
       "      <td>USA</td>\n",
       "      <td>Franca</td>\n",
       "      <td>Landed on the Butterfly Bush in our front yard...</td>\n",
       "    </tr>\n",
       "  </tbody>\n",
       "</table>\n",
       "</div>"
      ],
      "text/plain": [
       "  Tag Code        Date   City/Location State/Province   ZIP/PC Country  \\\n",
       "0  AABX630  10/22/2020  North Cape May             NJ     8204     USA   \n",
       "1  AABX693   9/30/2020          Sewell             NJ     8080     USA   \n",
       "2  AAHL099   9/26/2020   Saint-Lambert             QC  J4p 2j4     CAN   \n",
       "3  AAHL209  10/10/2020     Quebec City             QC  G1S 3J3     CAN   \n",
       "4  AAJM336   8/26/2020      Wilmington             NC    28403     USA   \n",
       "\n",
       "  First Name                                              Notes  \n",
       "0       Mark                              Beth Polvino's Garden  \n",
       "1     Debbie  flying around and sucking up nectar form aster...  \n",
       "2       Luce       On a Flower, sidewalk of a commercial street  \n",
       "3     Pierre  Was found in my backyard. Looked in good shape...  \n",
       "4     Franca  Landed on the Butterfly Bush in our front yard...  "
      ]
     },
     "execution_count": 2,
     "metadata": {},
     "output_type": "execute_result"
    }
   ],
   "source": [
    "df = pd.read_csv(Path('Monarch_Watch_2020.csv'))\n",
    "df.head()"
   ]
  },
  {
   "cell_type": "code",
   "execution_count": 3,
   "id": "d069c9f9",
   "metadata": {},
   "outputs": [
    {
     "data": {
      "text/html": [
       "<div>\n",
       "<style scoped>\n",
       "    .dataframe tbody tr th:only-of-type {\n",
       "        vertical-align: middle;\n",
       "    }\n",
       "\n",
       "    .dataframe tbody tr th {\n",
       "        vertical-align: top;\n",
       "    }\n",
       "\n",
       "    .dataframe thead th {\n",
       "        text-align: right;\n",
       "    }\n",
       "</style>\n",
       "<table border=\"1\" class=\"dataframe\">\n",
       "  <thead>\n",
       "    <tr style=\"text-align: right;\">\n",
       "      <th></th>\n",
       "      <th>Tag Code</th>\n",
       "      <th>Date</th>\n",
       "      <th>City/Location</th>\n",
       "      <th>State/Province</th>\n",
       "      <th>ZIP/PC</th>\n",
       "      <th>Country</th>\n",
       "      <th>First Name</th>\n",
       "      <th>Notes</th>\n",
       "      <th>year</th>\n",
       "    </tr>\n",
       "  </thead>\n",
       "  <tbody>\n",
       "    <tr>\n",
       "      <th>0</th>\n",
       "      <td>AABX630</td>\n",
       "      <td>10/22/2020</td>\n",
       "      <td>North Cape May</td>\n",
       "      <td>NJ</td>\n",
       "      <td>8204</td>\n",
       "      <td>USA</td>\n",
       "      <td>Mark</td>\n",
       "      <td>Beth Polvino's Garden</td>\n",
       "      <td>2020</td>\n",
       "    </tr>\n",
       "    <tr>\n",
       "      <th>1</th>\n",
       "      <td>AABX693</td>\n",
       "      <td>9/30/2020</td>\n",
       "      <td>Sewell</td>\n",
       "      <td>NJ</td>\n",
       "      <td>8080</td>\n",
       "      <td>USA</td>\n",
       "      <td>Debbie</td>\n",
       "      <td>flying around and sucking up nectar form aster...</td>\n",
       "      <td>2020</td>\n",
       "    </tr>\n",
       "    <tr>\n",
       "      <th>2</th>\n",
       "      <td>AAHL099</td>\n",
       "      <td>9/26/2020</td>\n",
       "      <td>Saint-Lambert</td>\n",
       "      <td>QC</td>\n",
       "      <td>J4p 2j4</td>\n",
       "      <td>CAN</td>\n",
       "      <td>Luce</td>\n",
       "      <td>On a Flower, sidewalk of a commercial street</td>\n",
       "      <td>2020</td>\n",
       "    </tr>\n",
       "    <tr>\n",
       "      <th>3</th>\n",
       "      <td>AAHL209</td>\n",
       "      <td>10/10/2020</td>\n",
       "      <td>Quebec City</td>\n",
       "      <td>QC</td>\n",
       "      <td>G1S 3J3</td>\n",
       "      <td>CAN</td>\n",
       "      <td>Pierre</td>\n",
       "      <td>Was found in my backyard. Looked in good shape...</td>\n",
       "      <td>2020</td>\n",
       "    </tr>\n",
       "    <tr>\n",
       "      <th>4</th>\n",
       "      <td>AAJM336</td>\n",
       "      <td>8/26/2020</td>\n",
       "      <td>Wilmington</td>\n",
       "      <td>NC</td>\n",
       "      <td>28403</td>\n",
       "      <td>USA</td>\n",
       "      <td>Franca</td>\n",
       "      <td>Landed on the Butterfly Bush in our front yard...</td>\n",
       "      <td>2020</td>\n",
       "    </tr>\n",
       "  </tbody>\n",
       "</table>\n",
       "</div>"
      ],
      "text/plain": [
       "  Tag Code        Date   City/Location State/Province   ZIP/PC Country  \\\n",
       "0  AABX630  10/22/2020  North Cape May             NJ     8204     USA   \n",
       "1  AABX693   9/30/2020          Sewell             NJ     8080     USA   \n",
       "2  AAHL099   9/26/2020   Saint-Lambert             QC  J4p 2j4     CAN   \n",
       "3  AAHL209  10/10/2020     Quebec City             QC  G1S 3J3     CAN   \n",
       "4  AAJM336   8/26/2020      Wilmington             NC    28403     USA   \n",
       "\n",
       "  First Name                                              Notes  year  \n",
       "0       Mark                              Beth Polvino's Garden  2020  \n",
       "1     Debbie  flying around and sucking up nectar form aster...  2020  \n",
       "2       Luce       On a Flower, sidewalk of a commercial street  2020  \n",
       "3     Pierre  Was found in my backyard. Looked in good shape...  2020  \n",
       "4     Franca  Landed on the Butterfly Bush in our front yard...  2020  "
      ]
     },
     "execution_count": 3,
     "metadata": {},
     "output_type": "execute_result"
    }
   ],
   "source": [
    "# adding a column for year\n",
    "df['year'] = pd.DatetimeIndex(df['Date']).year\n",
    "df.head()"
   ]
  },
  {
   "cell_type": "code",
   "execution_count": 4,
   "id": "45afb203",
   "metadata": {},
   "outputs": [
    {
     "data": {
      "text/html": [
       "<div>\n",
       "<style scoped>\n",
       "    .dataframe tbody tr th:only-of-type {\n",
       "        vertical-align: middle;\n",
       "    }\n",
       "\n",
       "    .dataframe tbody tr th {\n",
       "        vertical-align: top;\n",
       "    }\n",
       "\n",
       "    .dataframe thead th {\n",
       "        text-align: right;\n",
       "    }\n",
       "</style>\n",
       "<table border=\"1\" class=\"dataframe\">\n",
       "  <thead>\n",
       "    <tr style=\"text-align: right;\">\n",
       "      <th></th>\n",
       "      <th>Tag Code</th>\n",
       "      <th>Date</th>\n",
       "      <th>City/Location</th>\n",
       "      <th>State/Province</th>\n",
       "      <th>ZIP/PC</th>\n",
       "      <th>Country</th>\n",
       "      <th>First Name</th>\n",
       "      <th>Notes</th>\n",
       "      <th>year</th>\n",
       "      <th>month</th>\n",
       "    </tr>\n",
       "  </thead>\n",
       "  <tbody>\n",
       "    <tr>\n",
       "      <th>0</th>\n",
       "      <td>AABX630</td>\n",
       "      <td>10/22/2020</td>\n",
       "      <td>North Cape May</td>\n",
       "      <td>NJ</td>\n",
       "      <td>8204</td>\n",
       "      <td>USA</td>\n",
       "      <td>Mark</td>\n",
       "      <td>Beth Polvino's Garden</td>\n",
       "      <td>2020</td>\n",
       "      <td>10</td>\n",
       "    </tr>\n",
       "    <tr>\n",
       "      <th>1</th>\n",
       "      <td>AABX693</td>\n",
       "      <td>9/30/2020</td>\n",
       "      <td>Sewell</td>\n",
       "      <td>NJ</td>\n",
       "      <td>8080</td>\n",
       "      <td>USA</td>\n",
       "      <td>Debbie</td>\n",
       "      <td>flying around and sucking up nectar form aster...</td>\n",
       "      <td>2020</td>\n",
       "      <td>9</td>\n",
       "    </tr>\n",
       "    <tr>\n",
       "      <th>2</th>\n",
       "      <td>AAHL099</td>\n",
       "      <td>9/26/2020</td>\n",
       "      <td>Saint-Lambert</td>\n",
       "      <td>QC</td>\n",
       "      <td>J4p 2j4</td>\n",
       "      <td>CAN</td>\n",
       "      <td>Luce</td>\n",
       "      <td>On a Flower, sidewalk of a commercial street</td>\n",
       "      <td>2020</td>\n",
       "      <td>9</td>\n",
       "    </tr>\n",
       "    <tr>\n",
       "      <th>3</th>\n",
       "      <td>AAHL209</td>\n",
       "      <td>10/10/2020</td>\n",
       "      <td>Quebec City</td>\n",
       "      <td>QC</td>\n",
       "      <td>G1S 3J3</td>\n",
       "      <td>CAN</td>\n",
       "      <td>Pierre</td>\n",
       "      <td>Was found in my backyard. Looked in good shape...</td>\n",
       "      <td>2020</td>\n",
       "      <td>10</td>\n",
       "    </tr>\n",
       "    <tr>\n",
       "      <th>4</th>\n",
       "      <td>AAJM336</td>\n",
       "      <td>8/26/2020</td>\n",
       "      <td>Wilmington</td>\n",
       "      <td>NC</td>\n",
       "      <td>28403</td>\n",
       "      <td>USA</td>\n",
       "      <td>Franca</td>\n",
       "      <td>Landed on the Butterfly Bush in our front yard...</td>\n",
       "      <td>2020</td>\n",
       "      <td>8</td>\n",
       "    </tr>\n",
       "  </tbody>\n",
       "</table>\n",
       "</div>"
      ],
      "text/plain": [
       "  Tag Code        Date   City/Location State/Province   ZIP/PC Country  \\\n",
       "0  AABX630  10/22/2020  North Cape May             NJ     8204     USA   \n",
       "1  AABX693   9/30/2020          Sewell             NJ     8080     USA   \n",
       "2  AAHL099   9/26/2020   Saint-Lambert             QC  J4p 2j4     CAN   \n",
       "3  AAHL209  10/10/2020     Quebec City             QC  G1S 3J3     CAN   \n",
       "4  AAJM336   8/26/2020      Wilmington             NC    28403     USA   \n",
       "\n",
       "  First Name                                              Notes  year  month  \n",
       "0       Mark                              Beth Polvino's Garden  2020     10  \n",
       "1     Debbie  flying around and sucking up nectar form aster...  2020      9  \n",
       "2       Luce       On a Flower, sidewalk of a commercial street  2020      9  \n",
       "3     Pierre  Was found in my backyard. Looked in good shape...  2020     10  \n",
       "4     Franca  Landed on the Butterfly Bush in our front yard...  2020      8  "
      ]
     },
     "execution_count": 4,
     "metadata": {},
     "output_type": "execute_result"
    }
   ],
   "source": [
    "# Adding a column for month\n",
    "\n",
    "df['month'] = pd.DatetimeIndex(df['Date']).month\n",
    "df.head()"
   ]
  },
  {
   "cell_type": "code",
   "execution_count": 5,
   "id": "31c9cb13",
   "metadata": {},
   "outputs": [
    {
     "data": {
      "text/html": [
       "<div>\n",
       "<style scoped>\n",
       "    .dataframe tbody tr th:only-of-type {\n",
       "        vertical-align: middle;\n",
       "    }\n",
       "\n",
       "    .dataframe tbody tr th {\n",
       "        vertical-align: top;\n",
       "    }\n",
       "\n",
       "    .dataframe thead th {\n",
       "        text-align: right;\n",
       "    }\n",
       "</style>\n",
       "<table border=\"1\" class=\"dataframe\">\n",
       "  <thead>\n",
       "    <tr style=\"text-align: right;\">\n",
       "      <th></th>\n",
       "      <th>month</th>\n",
       "      <th>Tag Code</th>\n",
       "      <th>Date</th>\n",
       "      <th>City/Location</th>\n",
       "      <th>State/Province</th>\n",
       "      <th>ZIP/PC</th>\n",
       "      <th>Country</th>\n",
       "      <th>First Name</th>\n",
       "      <th>Notes</th>\n",
       "      <th>year</th>\n",
       "    </tr>\n",
       "  </thead>\n",
       "  <tbody>\n",
       "    <tr>\n",
       "      <th>0</th>\n",
       "      <td>7</td>\n",
       "      <td>1</td>\n",
       "      <td>1</td>\n",
       "      <td>1</td>\n",
       "      <td>1</td>\n",
       "      <td>1</td>\n",
       "      <td>1</td>\n",
       "      <td>1</td>\n",
       "      <td>0</td>\n",
       "      <td>1</td>\n",
       "    </tr>\n",
       "    <tr>\n",
       "      <th>1</th>\n",
       "      <td>8</td>\n",
       "      <td>96</td>\n",
       "      <td>96</td>\n",
       "      <td>96</td>\n",
       "      <td>96</td>\n",
       "      <td>96</td>\n",
       "      <td>96</td>\n",
       "      <td>92</td>\n",
       "      <td>74</td>\n",
       "      <td>96</td>\n",
       "    </tr>\n",
       "    <tr>\n",
       "      <th>2</th>\n",
       "      <td>9</td>\n",
       "      <td>448</td>\n",
       "      <td>448</td>\n",
       "      <td>448</td>\n",
       "      <td>448</td>\n",
       "      <td>448</td>\n",
       "      <td>448</td>\n",
       "      <td>431</td>\n",
       "      <td>352</td>\n",
       "      <td>448</td>\n",
       "    </tr>\n",
       "    <tr>\n",
       "      <th>3</th>\n",
       "      <td>10</td>\n",
       "      <td>241</td>\n",
       "      <td>241</td>\n",
       "      <td>241</td>\n",
       "      <td>241</td>\n",
       "      <td>241</td>\n",
       "      <td>241</td>\n",
       "      <td>235</td>\n",
       "      <td>199</td>\n",
       "      <td>241</td>\n",
       "    </tr>\n",
       "    <tr>\n",
       "      <th>4</th>\n",
       "      <td>11</td>\n",
       "      <td>77</td>\n",
       "      <td>77</td>\n",
       "      <td>77</td>\n",
       "      <td>77</td>\n",
       "      <td>77</td>\n",
       "      <td>77</td>\n",
       "      <td>76</td>\n",
       "      <td>68</td>\n",
       "      <td>77</td>\n",
       "    </tr>\n",
       "    <tr>\n",
       "      <th>5</th>\n",
       "      <td>12</td>\n",
       "      <td>14</td>\n",
       "      <td>14</td>\n",
       "      <td>14</td>\n",
       "      <td>14</td>\n",
       "      <td>14</td>\n",
       "      <td>14</td>\n",
       "      <td>12</td>\n",
       "      <td>12</td>\n",
       "      <td>14</td>\n",
       "    </tr>\n",
       "  </tbody>\n",
       "</table>\n",
       "</div>"
      ],
      "text/plain": [
       "   month  Tag Code  Date  City/Location  State/Province  ZIP/PC  Country  \\\n",
       "0      7         1     1              1               1       1        1   \n",
       "1      8        96    96             96              96      96       96   \n",
       "2      9       448   448            448             448     448      448   \n",
       "3     10       241   241            241             241     241      241   \n",
       "4     11        77    77             77              77      77       77   \n",
       "5     12        14    14             14              14      14       14   \n",
       "\n",
       "   First Name  Notes  year  \n",
       "0           1      0     1  \n",
       "1          92     74    96  \n",
       "2         431    352   448  \n",
       "3         235    199   241  \n",
       "4          76     68    77  \n",
       "5          12     12    14  "
      ]
     },
     "execution_count": 5,
     "metadata": {},
     "output_type": "execute_result"
    }
   ],
   "source": [
    "# grouping by month and assuring month isn't an index\n",
    "counts = df.groupby([\"month\"]).count()\n",
    "counts = counts.reset_index()\n",
    "counts"
   ]
  },
  {
   "cell_type": "code",
   "execution_count": 6,
   "id": "272e4277",
   "metadata": {},
   "outputs": [
    {
     "data": {
      "image/png": "[encoded data removed]",
      "text/plain": [
       "<Figure size 432x288 with 1 Axes>"
      ]
     },
     "metadata": {
      "needs_background": "light"
     },
     "output_type": "display_data"
    }
   ],
   "source": [
    "# initial graph. note y-axis with counts.Date is a COUNT of total dates grouped by month; it is not the actual date\n",
    "plt.scatter(counts.month, counts.Date)\n",
    "plt.xlabel('Month')\n",
    "plt.ylabel('Butterfly Counts')\n",
    "plt.show()"
   ]
  },
  {
   "cell_type": "code",
   "execution_count": 17,
   "id": "d5955438",
   "metadata": {},
   "outputs": [
    {
     "name": "stdout",
     "output_type": "stream",
     "text": [
      "[[ 7]\n",
      " [ 8]\n",
      " [ 9]\n",
      " [10]\n",
      " [11]\n",
      " [12]]\n"
     ]
    }
   ],
   "source": [
    "# using reshape\n",
    "X = counts.month.values.reshape(-1, 1)"
   ]
  },
  {
   "cell_type": "code",
   "execution_count": 8,
   "id": "043cd222",
   "metadata": {},
   "outputs": [],
   "source": [
    "# setting the y axis as the count of dates\n",
    "y = counts.Date"
   ]
  },
  {
   "cell_type": "code",
   "execution_count": 9,
   "id": "2843c63e",
   "metadata": {},
   "outputs": [],
   "source": [
    "# setting the model\n",
    "model = LinearRegression()"
   ]
  },
  {
   "cell_type": "code",
   "execution_count": 10,
   "id": "0763914a",
   "metadata": {},
   "outputs": [
    {
     "data": {
      "text/plain": [
       "LinearRegression()"
      ]
     },
     "execution_count": 10,
     "metadata": {},
     "output_type": "execute_result"
    }
   ],
   "source": [
    "# fitting the model\n",
    "model.fit(X, y)"
   ]
  },
  {
   "cell_type": "code",
   "execution_count": 11,
   "id": "eac3aa2a",
   "metadata": {},
   "outputs": [
    {
     "name": "stdout",
     "output_type": "stream",
     "text": [
      "(6,)\n"
     ]
    }
   ],
   "source": [
    "# number of predictions\n",
    "y_pred = model.predict(X)\n",
    "print(y_pred.shape)"
   ]
  },
  {
   "cell_type": "code",
   "execution_count": 12,
   "id": "8ee38911",
   "metadata": {},
   "outputs": [
    {
     "data": {
      "image/png": "[encoded data removed]",
      "text/plain": [
       "<Figure size 432x288 with 1 Axes>"
      ]
     },
     "metadata": {
      "needs_background": "light"
     },
     "output_type": "display_data"
    }
   ],
   "source": [
    "# a straight line for linear regression\n",
    "plt.scatter(X, y)\n",
    "plt.plot(X, y_pred, color='red')\n",
    "plt.show()"
   ]
  },
  {
   "cell_type": "code",
   "execution_count": 13,
   "id": "16d33625",
   "metadata": {},
   "outputs": [],
   "source": [
    "# creating a polynomial function that allows us to input degrees for fitting\n",
    "def fit_and_plot_poly_deg(degree):\n",
    "    poly_feat = PolynomialFeatures(degree)\n",
    "    X_poly = poly_feat.fit_transform(X)\n",
    "    \n",
    "    print('X_poly shape is: {}'.format(str(X_poly.shape)))\n",
    "\n",
    "    poly_model = LinearRegression().fit(X_poly, y)\n",
    "    y_pred = poly_model.predict(X_poly)\n",
    "\n",
    "    plt.scatter(X, y, zorder=3)\n",
    "    plt.plot(X, y_pred, color='black');"
   ]
  },
  {
   "cell_type": "code",
   "execution_count": 14,
   "id": "09dc2434",
   "metadata": {},
   "outputs": [
    {
     "name": "stdout",
     "output_type": "stream",
     "text": [
      "X_poly shape is: (6, 3)\n"
     ]
    },
    {
     "data": {
      "image/png": "[encoded data removed]",
      "text/plain": [
       "<Figure size 432x288 with 1 Axes>"
      ]
     },
     "metadata": {
      "needs_background": "light"
     },
     "output_type": "display_data"
    }
   ],
   "source": [
    "# two degree fit\n",
    "fit_and_plot_poly_deg(2)"
   ]
  },
  {
   "cell_type": "code",
   "execution_count": 15,
   "id": "de045ba6",
   "metadata": {},
   "outputs": [
    {
     "name": "stdout",
     "output_type": "stream",
     "text": [
      "X_poly shape is: (6, 4)\n"
     ]
    },
    {
     "data": {
      "image/png": "[encoded data removed]",
      "text/plain": [
       "<Figure size 432x288 with 1 Axes>"
      ]
     },
     "metadata": {
      "needs_background": "light"
     },
     "output_type": "display_data"
    }
   ],
   "source": [
    "# 3rd degree fit\n",
    "fit_and_plot_poly_deg(3)"
   ]
  },
  {
   "cell_type": "code",
   "execution_count": 16,
   "id": "98460854",
   "metadata": {
    "scrolled": true
   },
   "outputs": [
    {
     "name": "stdout",
     "output_type": "stream",
     "text": [
      "X_poly shape is: (6, 5)\n"
     ]
    },
    {
     "data": {
      "image/png": "[encoded data removed]",
      "text/plain": [
       "<Figure size 432x288 with 1 Axes>"
      ]
     },
     "metadata": {
      "needs_background": "light"
     },
     "output_type": "display_data"
    }
   ],
   "source": [
    "# 4th degree\n",
    "fit_and_plot_poly_deg(4)"
   ]
  },
  {
   "cell_type": "code",
   "execution_count": null,
   "id": "64b0ddd3",
   "metadata": {},
   "outputs": [],
   "source": []
  }
 ],
 "metadata": {
  "kernelspec": {
   "display_name": "mlenv",
   "language": "python",
   "name": "mlenv"
  },
  "language_info": {
   "codemirror_mode": {
    "name": "ipython",
    "version": 3
   },
   "file_extension": ".py",
   "mimetype": "text/x-python",
   "name": "python",
   "nbconvert_exporter": "python",
   "pygments_lexer": "ipython3",
   "version": "3.7.11"
  }
 },
 "nbformat": 4,
 "nbformat_minor": 5
}
