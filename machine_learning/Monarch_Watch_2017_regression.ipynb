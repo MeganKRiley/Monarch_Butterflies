{
 "cells": [
  {
   "cell_type": "code",
   "execution_count": 1,
   "id": "a16d5957",
   "metadata": {},
   "outputs": [],
   "source": [
    "import pandas as pd\n",
    "from pathlib import Path\n",
    "import matplotlib.pyplot as plt\n",
    "from sklearn.linear_model import LinearRegression\n",
    "from sklearn.preprocessing import PolynomialFeatures"
   ]
  },
  {
   "cell_type": "code",
   "execution_count": 2,
   "id": "c5a20576",
   "metadata": {},
   "outputs": [
    {
     "data": {
      "text/html": [
       "<div>\n",
       "<style scoped>\n",
       "    .dataframe tbody tr th:only-of-type {\n",
       "        vertical-align: middle;\n",
       "    }\n",
       "\n",
       "    .dataframe tbody tr th {\n",
       "        vertical-align: top;\n",
       "    }\n",
       "\n",
       "    .dataframe thead th {\n",
       "        text-align: right;\n",
       "    }\n",
       "</style>\n",
       "<table border=\"1\" class=\"dataframe\">\n",
       "  <thead>\n",
       "    <tr style=\"text-align: right;\">\n",
       "      <th></th>\n",
       "      <th>TAG</th>\n",
       "      <th>DATE</th>\n",
       "      <th>CITY</th>\n",
       "      <th>STATE/PROV</th>\n",
       "      <th>ZIP/POST</th>\n",
       "      <th>COUNTRY</th>\n",
       "      <th>LAT</th>\n",
       "      <th>LONG</th>\n",
       "      <th>FIRST</th>\n",
       "      <th>NOTES</th>\n",
       "    </tr>\n",
       "  </thead>\n",
       "  <tbody>\n",
       "    <tr>\n",
       "      <th>0</th>\n",
       "      <td>XAT710</td>\n",
       "      <td>8/1/2017</td>\n",
       "      <td>SOUTHWEST HARBOR</td>\n",
       "      <td>ME</td>\n",
       "      <td>4679</td>\n",
       "      <td>USA</td>\n",
       "      <td>44.279865</td>\n",
       "      <td>-68.330071</td>\n",
       "      <td>KHRIS</td>\n",
       "      <td>feeding on 'gay feather' on the coast!</td>\n",
       "    </tr>\n",
       "    <tr>\n",
       "      <th>1</th>\n",
       "      <td>XCN101</td>\n",
       "      <td>8/8/2017</td>\n",
       "      <td>KETTERING</td>\n",
       "      <td>OH</td>\n",
       "      <td>45409</td>\n",
       "      <td>USA</td>\n",
       "      <td>39.724144</td>\n",
       "      <td>-84.183354</td>\n",
       "      <td>MARGARET</td>\n",
       "      <td>Son and his best friend found near nature reserve</td>\n",
       "    </tr>\n",
       "    <tr>\n",
       "      <th>2</th>\n",
       "      <td>XUC556</td>\n",
       "      <td>8/9/2017</td>\n",
       "      <td>WYOMING</td>\n",
       "      <td>MI</td>\n",
       "      <td>49509</td>\n",
       "      <td>USA</td>\n",
       "      <td>42.883860</td>\n",
       "      <td>-85.706160</td>\n",
       "      <td>PHIL</td>\n",
       "      <td>NaN</td>\n",
       "    </tr>\n",
       "    <tr>\n",
       "      <th>3</th>\n",
       "      <td>WPU203</td>\n",
       "      <td>8/11/2017</td>\n",
       "      <td>EAST LANSING</td>\n",
       "      <td>MI</td>\n",
       "      <td>48824</td>\n",
       "      <td>USA</td>\n",
       "      <td>42.653979</td>\n",
       "      <td>-84.492032</td>\n",
       "      <td>OREN</td>\n",
       "      <td>Children's garden MSU. Have good photos, can s...</td>\n",
       "    </tr>\n",
       "    <tr>\n",
       "      <th>4</th>\n",
       "      <td>XEL625</td>\n",
       "      <td>8/12/2017</td>\n",
       "      <td>FISH CREEK</td>\n",
       "      <td>WI</td>\n",
       "      <td>54212</td>\n",
       "      <td>USA</td>\n",
       "      <td>45.105511</td>\n",
       "      <td>-87.217607</td>\n",
       "      <td>PUM</td>\n",
       "      <td>Found at nature center, peninsula state park</td>\n",
       "    </tr>\n",
       "  </tbody>\n",
       "</table>\n",
       "</div>"
      ],
      "text/plain": [
       "      TAG       DATE              CITY STATE/PROV ZIP/POST COUNTRY        LAT  \\\n",
       "0  XAT710   8/1/2017  SOUTHWEST HARBOR         ME     4679     USA  44.279865   \n",
       "1  XCN101   8/8/2017         KETTERING         OH    45409     USA  39.724144   \n",
       "2  XUC556   8/9/2017           WYOMING         MI    49509     USA  42.883860   \n",
       "3  WPU203  8/11/2017      EAST LANSING         MI    48824     USA  42.653979   \n",
       "4  XEL625  8/12/2017        FISH CREEK         WI    54212     USA  45.105511   \n",
       "\n",
       "        LONG     FIRST                                              NOTES  \n",
       "0 -68.330071     KHRIS             feeding on 'gay feather' on the coast!  \n",
       "1 -84.183354  MARGARET  Son and his best friend found near nature reserve  \n",
       "2 -85.706160      PHIL                                                NaN  \n",
       "3 -84.492032      OREN  Children's garden MSU. Have good photos, can s...  \n",
       "4 -87.217607       PUM       Found at nature center, peninsula state park  "
      ]
     },
     "execution_count": 2,
     "metadata": {},
     "output_type": "execute_result"
    }
   ],
   "source": [
    "df = pd.read_csv(Path('Monarch_Watch_2017.csv'))\n",
    "df.head()"
   ]
  },
  {
   "cell_type": "code",
   "execution_count": 3,
   "id": "d069c9f9",
   "metadata": {},
   "outputs": [
    {
     "data": {
      "text/html": [
       "<div>\n",
       "<style scoped>\n",
       "    .dataframe tbody tr th:only-of-type {\n",
       "        vertical-align: middle;\n",
       "    }\n",
       "\n",
       "    .dataframe tbody tr th {\n",
       "        vertical-align: top;\n",
       "    }\n",
       "\n",
       "    .dataframe thead th {\n",
       "        text-align: right;\n",
       "    }\n",
       "</style>\n",
       "<table border=\"1\" class=\"dataframe\">\n",
       "  <thead>\n",
       "    <tr style=\"text-align: right;\">\n",
       "      <th></th>\n",
       "      <th>TAG</th>\n",
       "      <th>DATE</th>\n",
       "      <th>CITY</th>\n",
       "      <th>STATE/PROV</th>\n",
       "      <th>ZIP/POST</th>\n",
       "      <th>COUNTRY</th>\n",
       "      <th>LAT</th>\n",
       "      <th>LONG</th>\n",
       "      <th>FIRST</th>\n",
       "      <th>NOTES</th>\n",
       "      <th>year</th>\n",
       "    </tr>\n",
       "  </thead>\n",
       "  <tbody>\n",
       "    <tr>\n",
       "      <th>0</th>\n",
       "      <td>XAT710</td>\n",
       "      <td>8/1/2017</td>\n",
       "      <td>SOUTHWEST HARBOR</td>\n",
       "      <td>ME</td>\n",
       "      <td>4679</td>\n",
       "      <td>USA</td>\n",
       "      <td>44.279865</td>\n",
       "      <td>-68.330071</td>\n",
       "      <td>KHRIS</td>\n",
       "      <td>feeding on 'gay feather' on the coast!</td>\n",
       "      <td>2017</td>\n",
       "    </tr>\n",
       "    <tr>\n",
       "      <th>1</th>\n",
       "      <td>XCN101</td>\n",
       "      <td>8/8/2017</td>\n",
       "      <td>KETTERING</td>\n",
       "      <td>OH</td>\n",
       "      <td>45409</td>\n",
       "      <td>USA</td>\n",
       "      <td>39.724144</td>\n",
       "      <td>-84.183354</td>\n",
       "      <td>MARGARET</td>\n",
       "      <td>Son and his best friend found near nature reserve</td>\n",
       "      <td>2017</td>\n",
       "    </tr>\n",
       "    <tr>\n",
       "      <th>2</th>\n",
       "      <td>XUC556</td>\n",
       "      <td>8/9/2017</td>\n",
       "      <td>WYOMING</td>\n",
       "      <td>MI</td>\n",
       "      <td>49509</td>\n",
       "      <td>USA</td>\n",
       "      <td>42.883860</td>\n",
       "      <td>-85.706160</td>\n",
       "      <td>PHIL</td>\n",
       "      <td>NaN</td>\n",
       "      <td>2017</td>\n",
       "    </tr>\n",
       "    <tr>\n",
       "      <th>3</th>\n",
       "      <td>WPU203</td>\n",
       "      <td>8/11/2017</td>\n",
       "      <td>EAST LANSING</td>\n",
       "      <td>MI</td>\n",
       "      <td>48824</td>\n",
       "      <td>USA</td>\n",
       "      <td>42.653979</td>\n",
       "      <td>-84.492032</td>\n",
       "      <td>OREN</td>\n",
       "      <td>Children's garden MSU. Have good photos, can s...</td>\n",
       "      <td>2017</td>\n",
       "    </tr>\n",
       "    <tr>\n",
       "      <th>4</th>\n",
       "      <td>XEL625</td>\n",
       "      <td>8/12/2017</td>\n",
       "      <td>FISH CREEK</td>\n",
       "      <td>WI</td>\n",
       "      <td>54212</td>\n",
       "      <td>USA</td>\n",
       "      <td>45.105511</td>\n",
       "      <td>-87.217607</td>\n",
       "      <td>PUM</td>\n",
       "      <td>Found at nature center, peninsula state park</td>\n",
       "      <td>2017</td>\n",
       "    </tr>\n",
       "  </tbody>\n",
       "</table>\n",
       "</div>"
      ],
      "text/plain": [
       "      TAG       DATE              CITY STATE/PROV ZIP/POST COUNTRY        LAT  \\\n",
       "0  XAT710   8/1/2017  SOUTHWEST HARBOR         ME     4679     USA  44.279865   \n",
       "1  XCN101   8/8/2017         KETTERING         OH    45409     USA  39.724144   \n",
       "2  XUC556   8/9/2017           WYOMING         MI    49509     USA  42.883860   \n",
       "3  WPU203  8/11/2017      EAST LANSING         MI    48824     USA  42.653979   \n",
       "4  XEL625  8/12/2017        FISH CREEK         WI    54212     USA  45.105511   \n",
       "\n",
       "        LONG     FIRST                                              NOTES  \\\n",
       "0 -68.330071     KHRIS             feeding on 'gay feather' on the coast!   \n",
       "1 -84.183354  MARGARET  Son and his best friend found near nature reserve   \n",
       "2 -85.706160      PHIL                                                NaN   \n",
       "3 -84.492032      OREN  Children's garden MSU. Have good photos, can s...   \n",
       "4 -87.217607       PUM       Found at nature center, peninsula state park   \n",
       "\n",
       "   year  \n",
       "0  2017  \n",
       "1  2017  \n",
       "2  2017  \n",
       "3  2017  \n",
       "4  2017  "
      ]
     },
     "execution_count": 3,
     "metadata": {},
     "output_type": "execute_result"
    }
   ],
   "source": [
    "# adding a column for year\n",
    "df['year'] = pd.DatetimeIndex(df['DATE']).year\n",
    "df.head()"
   ]
  },
  {
   "cell_type": "code",
   "execution_count": 5,
   "id": "45afb203",
   "metadata": {},
   "outputs": [
    {
     "data": {
      "text/html": [
       "<div>\n",
       "<style scoped>\n",
       "    .dataframe tbody tr th:only-of-type {\n",
       "        vertical-align: middle;\n",
       "    }\n",
       "\n",
       "    .dataframe tbody tr th {\n",
       "        vertical-align: top;\n",
       "    }\n",
       "\n",
       "    .dataframe thead th {\n",
       "        text-align: right;\n",
       "    }\n",
       "</style>\n",
       "<table border=\"1\" class=\"dataframe\">\n",
       "  <thead>\n",
       "    <tr style=\"text-align: right;\">\n",
       "      <th></th>\n",
       "      <th>TAG</th>\n",
       "      <th>DATE</th>\n",
       "      <th>CITY</th>\n",
       "      <th>STATE/PROV</th>\n",
       "      <th>ZIP/POST</th>\n",
       "      <th>COUNTRY</th>\n",
       "      <th>LAT</th>\n",
       "      <th>LONG</th>\n",
       "      <th>FIRST</th>\n",
       "      <th>NOTES</th>\n",
       "      <th>year</th>\n",
       "      <th>month</th>\n",
       "    </tr>\n",
       "  </thead>\n",
       "  <tbody>\n",
       "    <tr>\n",
       "      <th>0</th>\n",
       "      <td>XAT710</td>\n",
       "      <td>8/1/2017</td>\n",
       "      <td>SOUTHWEST HARBOR</td>\n",
       "      <td>ME</td>\n",
       "      <td>4679</td>\n",
       "      <td>USA</td>\n",
       "      <td>44.279865</td>\n",
       "      <td>-68.330071</td>\n",
       "      <td>KHRIS</td>\n",
       "      <td>feeding on 'gay feather' on the coast!</td>\n",
       "      <td>2017</td>\n",
       "      <td>8</td>\n",
       "    </tr>\n",
       "    <tr>\n",
       "      <th>1</th>\n",
       "      <td>XCN101</td>\n",
       "      <td>8/8/2017</td>\n",
       "      <td>KETTERING</td>\n",
       "      <td>OH</td>\n",
       "      <td>45409</td>\n",
       "      <td>USA</td>\n",
       "      <td>39.724144</td>\n",
       "      <td>-84.183354</td>\n",
       "      <td>MARGARET</td>\n",
       "      <td>Son and his best friend found near nature reserve</td>\n",
       "      <td>2017</td>\n",
       "      <td>8</td>\n",
       "    </tr>\n",
       "    <tr>\n",
       "      <th>2</th>\n",
       "      <td>XUC556</td>\n",
       "      <td>8/9/2017</td>\n",
       "      <td>WYOMING</td>\n",
       "      <td>MI</td>\n",
       "      <td>49509</td>\n",
       "      <td>USA</td>\n",
       "      <td>42.883860</td>\n",
       "      <td>-85.706160</td>\n",
       "      <td>PHIL</td>\n",
       "      <td>NaN</td>\n",
       "      <td>2017</td>\n",
       "      <td>8</td>\n",
       "    </tr>\n",
       "    <tr>\n",
       "      <th>3</th>\n",
       "      <td>WPU203</td>\n",
       "      <td>8/11/2017</td>\n",
       "      <td>EAST LANSING</td>\n",
       "      <td>MI</td>\n",
       "      <td>48824</td>\n",
       "      <td>USA</td>\n",
       "      <td>42.653979</td>\n",
       "      <td>-84.492032</td>\n",
       "      <td>OREN</td>\n",
       "      <td>Children's garden MSU. Have good photos, can s...</td>\n",
       "      <td>2017</td>\n",
       "      <td>8</td>\n",
       "    </tr>\n",
       "    <tr>\n",
       "      <th>4</th>\n",
       "      <td>XEL625</td>\n",
       "      <td>8/12/2017</td>\n",
       "      <td>FISH CREEK</td>\n",
       "      <td>WI</td>\n",
       "      <td>54212</td>\n",
       "      <td>USA</td>\n",
       "      <td>45.105511</td>\n",
       "      <td>-87.217607</td>\n",
       "      <td>PUM</td>\n",
       "      <td>Found at nature center, peninsula state park</td>\n",
       "      <td>2017</td>\n",
       "      <td>8</td>\n",
       "    </tr>\n",
       "  </tbody>\n",
       "</table>\n",
       "</div>"
      ],
      "text/plain": [
       "      TAG       DATE              CITY STATE/PROV ZIP/POST COUNTRY        LAT  \\\n",
       "0  XAT710   8/1/2017  SOUTHWEST HARBOR         ME     4679     USA  44.279865   \n",
       "1  XCN101   8/8/2017         KETTERING         OH    45409     USA  39.724144   \n",
       "2  XUC556   8/9/2017           WYOMING         MI    49509     USA  42.883860   \n",
       "3  WPU203  8/11/2017      EAST LANSING         MI    48824     USA  42.653979   \n",
       "4  XEL625  8/12/2017        FISH CREEK         WI    54212     USA  45.105511   \n",
       "\n",
       "        LONG     FIRST                                              NOTES  \\\n",
       "0 -68.330071     KHRIS             feeding on 'gay feather' on the coast!   \n",
       "1 -84.183354  MARGARET  Son and his best friend found near nature reserve   \n",
       "2 -85.706160      PHIL                                                NaN   \n",
       "3 -84.492032      OREN  Children's garden MSU. Have good photos, can s...   \n",
       "4 -87.217607       PUM       Found at nature center, peninsula state park   \n",
       "\n",
       "   year  month  \n",
       "0  2017      8  \n",
       "1  2017      8  \n",
       "2  2017      8  \n",
       "3  2017      8  \n",
       "4  2017      8  "
      ]
     },
     "execution_count": 5,
     "metadata": {},
     "output_type": "execute_result"
    }
   ],
   "source": [
    "# Adding a column for month\n",
    "\n",
    "df['month'] = pd.DatetimeIndex(df['DATE']).month\n",
    "df.head()"
   ]
  },
  {
   "cell_type": "code",
   "execution_count": 6,
   "id": "31c9cb13",
   "metadata": {},
   "outputs": [
    {
     "data": {
      "text/html": [
       "<div>\n",
       "<style scoped>\n",
       "    .dataframe tbody tr th:only-of-type {\n",
       "        vertical-align: middle;\n",
       "    }\n",
       "\n",
       "    .dataframe tbody tr th {\n",
       "        vertical-align: top;\n",
       "    }\n",
       "\n",
       "    .dataframe thead th {\n",
       "        text-align: right;\n",
       "    }\n",
       "</style>\n",
       "<table border=\"1\" class=\"dataframe\">\n",
       "  <thead>\n",
       "    <tr style=\"text-align: right;\">\n",
       "      <th></th>\n",
       "      <th>month</th>\n",
       "      <th>TAG</th>\n",
       "      <th>DATE</th>\n",
       "      <th>CITY</th>\n",
       "      <th>STATE/PROV</th>\n",
       "      <th>ZIP/POST</th>\n",
       "      <th>COUNTRY</th>\n",
       "      <th>LAT</th>\n",
       "      <th>LONG</th>\n",
       "      <th>FIRST</th>\n",
       "      <th>NOTES</th>\n",
       "      <th>year</th>\n",
       "    </tr>\n",
       "  </thead>\n",
       "  <tbody>\n",
       "    <tr>\n",
       "      <th>0</th>\n",
       "      <td>1</td>\n",
       "      <td>9</td>\n",
       "      <td>9</td>\n",
       "      <td>9</td>\n",
       "      <td>9</td>\n",
       "      <td>9</td>\n",
       "      <td>9</td>\n",
       "      <td>9</td>\n",
       "      <td>9</td>\n",
       "      <td>9</td>\n",
       "      <td>6</td>\n",
       "      <td>9</td>\n",
       "    </tr>\n",
       "    <tr>\n",
       "      <th>1</th>\n",
       "      <td>8</td>\n",
       "      <td>66</td>\n",
       "      <td>66</td>\n",
       "      <td>66</td>\n",
       "      <td>66</td>\n",
       "      <td>66</td>\n",
       "      <td>66</td>\n",
       "      <td>66</td>\n",
       "      <td>66</td>\n",
       "      <td>65</td>\n",
       "      <td>53</td>\n",
       "      <td>66</td>\n",
       "    </tr>\n",
       "    <tr>\n",
       "      <th>2</th>\n",
       "      <td>9</td>\n",
       "      <td>378</td>\n",
       "      <td>378</td>\n",
       "      <td>378</td>\n",
       "      <td>378</td>\n",
       "      <td>376</td>\n",
       "      <td>378</td>\n",
       "      <td>378</td>\n",
       "      <td>378</td>\n",
       "      <td>365</td>\n",
       "      <td>281</td>\n",
       "      <td>378</td>\n",
       "    </tr>\n",
       "    <tr>\n",
       "      <th>3</th>\n",
       "      <td>10</td>\n",
       "      <td>296</td>\n",
       "      <td>296</td>\n",
       "      <td>296</td>\n",
       "      <td>296</td>\n",
       "      <td>295</td>\n",
       "      <td>296</td>\n",
       "      <td>296</td>\n",
       "      <td>296</td>\n",
       "      <td>285</td>\n",
       "      <td>251</td>\n",
       "      <td>296</td>\n",
       "    </tr>\n",
       "    <tr>\n",
       "      <th>4</th>\n",
       "      <td>11</td>\n",
       "      <td>88</td>\n",
       "      <td>88</td>\n",
       "      <td>88</td>\n",
       "      <td>88</td>\n",
       "      <td>88</td>\n",
       "      <td>88</td>\n",
       "      <td>88</td>\n",
       "      <td>88</td>\n",
       "      <td>83</td>\n",
       "      <td>76</td>\n",
       "      <td>88</td>\n",
       "    </tr>\n",
       "    <tr>\n",
       "      <th>5</th>\n",
       "      <td>12</td>\n",
       "      <td>17</td>\n",
       "      <td>17</td>\n",
       "      <td>17</td>\n",
       "      <td>17</td>\n",
       "      <td>17</td>\n",
       "      <td>17</td>\n",
       "      <td>17</td>\n",
       "      <td>17</td>\n",
       "      <td>17</td>\n",
       "      <td>14</td>\n",
       "      <td>17</td>\n",
       "    </tr>\n",
       "  </tbody>\n",
       "</table>\n",
       "</div>"
      ],
      "text/plain": [
       "   month  TAG  DATE  CITY  STATE/PROV  ZIP/POST  COUNTRY  LAT  LONG  FIRST  \\\n",
       "0      1    9     9     9           9         9        9    9     9      9   \n",
       "1      8   66    66    66          66        66       66   66    66     65   \n",
       "2      9  378   378   378         378       376      378  378   378    365   \n",
       "3     10  296   296   296         296       295      296  296   296    285   \n",
       "4     11   88    88    88          88        88       88   88    88     83   \n",
       "5     12   17    17    17          17        17       17   17    17     17   \n",
       "\n",
       "   NOTES  year  \n",
       "0      6     9  \n",
       "1     53    66  \n",
       "2    281   378  \n",
       "3    251   296  \n",
       "4     76    88  \n",
       "5     14    17  "
      ]
     },
     "execution_count": 6,
     "metadata": {},
     "output_type": "execute_result"
    }
   ],
   "source": [
    "# grouping by month and assuring month isn't an index\n",
    "counts = df.groupby([\"month\"]).count()\n",
    "counts = counts.reset_index()\n",
    "counts"
   ]
  },
  {
   "cell_type": "code",
   "execution_count": 9,
   "id": "272e4277",
   "metadata": {},
   "outputs": [
    {
     "data": {
      "image/png": "[encoded data removed]",
      "text/plain": [
       "<Figure size 432x288 with 1 Axes>"
      ]
     },
     "metadata": {
      "needs_background": "light"
     },
     "output_type": "display_data"
    }
   ],
   "source": [
    "# initial graph. note y-axis with counts.Date is a COUNT of total dates grouped by month; it is not the actual date\n",
    "plt.scatter(counts.month, counts.DATE)\n",
    "plt.xlabel('Month')\n",
    "plt.ylabel('Butterfly Counts')\n",
    "plt.show()"
   ]
  },
  {
   "cell_type": "code",
   "execution_count": 10,
   "id": "d5955438",
   "metadata": {},
   "outputs": [],
   "source": [
    "# using reshape\n",
    "X = counts.month.values.reshape(-1, 1)"
   ]
  },
  {
   "cell_type": "code",
   "execution_count": 13,
   "id": "043cd222",
   "metadata": {},
   "outputs": [],
   "source": [
    "# setting the y axis as the count of dates\n",
    "y = counts.DATE"
   ]
  },
  {
   "cell_type": "code",
   "execution_count": 14,
   "id": "2843c63e",
   "metadata": {},
   "outputs": [],
   "source": [
    "# setting the model\n",
    "model = LinearRegression()"
   ]
  },
  {
   "cell_type": "code",
   "execution_count": 15,
   "id": "0763914a",
   "metadata": {},
   "outputs": [
    {
     "data": {
      "text/plain": [
       "LinearRegression()"
      ]
     },
     "execution_count": 15,
     "metadata": {},
     "output_type": "execute_result"
    }
   ],
   "source": [
    "# fitting the model\n",
    "model.fit(X, y)"
   ]
  },
  {
   "cell_type": "code",
   "execution_count": 16,
   "id": "eac3aa2a",
   "metadata": {},
   "outputs": [
    {
     "name": "stdout",
     "output_type": "stream",
     "text": [
      "(6,)\n"
     ]
    }
   ],
   "source": [
    "# number of predictions\n",
    "y_pred = model.predict(X)\n",
    "print(y_pred.shape)"
   ]
  },
  {
   "cell_type": "code",
   "execution_count": 17,
   "id": "8ee38911",
   "metadata": {},
   "outputs": [
    {
     "data": {
      "image/png": "[encoded data removed]",
      "text/plain": [
       "<Figure size 432x288 with 1 Axes>"
      ]
     },
     "metadata": {
      "needs_background": "light"
     },
     "output_type": "display_data"
    }
   ],
   "source": [
    "# a straight line for linear regression\n",
    "plt.scatter(X, y)\n",
    "plt.plot(X, y_pred, color='red')\n",
    "plt.show()"
   ]
  },
  {
   "cell_type": "code",
   "execution_count": 18,
   "id": "16d33625",
   "metadata": {},
   "outputs": [],
   "source": [
    "# creating a polynomial function that allows us to input degrees for fitting\n",
    "def fit_and_plot_poly_deg(degree):\n",
    "    poly_feat = PolynomialFeatures(degree)\n",
    "    X_poly = poly_feat.fit_transform(X)\n",
    "    \n",
    "    print('X_poly shape is: {}'.format(str(X_poly.shape)))\n",
    "\n",
    "    poly_model = LinearRegression().fit(X_poly, y)\n",
    "    y_pred = poly_model.predict(X_poly)\n",
    "\n",
    "    plt.scatter(X, y, zorder=3)\n",
    "    plt.plot(X, y_pred, color='black');"
   ]
  },
  {
   "cell_type": "code",
   "execution_count": 19,
   "id": "09dc2434",
   "metadata": {},
   "outputs": [
    {
     "name": "stdout",
     "output_type": "stream",
     "text": [
      "X_poly shape is: (6, 3)\n"
     ]
    },
    {
     "data": {
      "image/png": "[encoded data removed]",
      "text/plain": [
       "<Figure size 432x288 with 1 Axes>"
      ]
     },
     "metadata": {
      "needs_background": "light"
     },
     "output_type": "display_data"
    }
   ],
   "source": [
    "# two degree fit\n",
    "fit_and_plot_poly_deg(2)"
   ]
  },
  {
   "cell_type": "code",
   "execution_count": 20,
   "id": "de045ba6",
   "metadata": {},
   "outputs": [
    {
     "name": "stdout",
     "output_type": "stream",
     "text": [
      "X_poly shape is: (6, 4)\n"
     ]
    },
    {
     "data": {
      "image/png": "[encoded data removed]",
      "text/plain": [
       "<Figure size 432x288 with 1 Axes>"
      ]
     },
     "metadata": {
      "needs_background": "light"
     },
     "output_type": "display_data"
    }
   ],
   "source": [
    "# 3rd degree fit\n",
    "fit_and_plot_poly_deg(3)"
   ]
  },
  {
   "cell_type": "code",
   "execution_count": 21,
   "id": "98460854",
   "metadata": {
    "scrolled": true
   },
   "outputs": [
    {
     "name": "stdout",
     "output_type": "stream",
     "text": [
      "X_poly shape is: (6, 5)\n"
     ]
    },
    {
     "data": {
      "image/png": "[encoded data removed]",
      "text/plain": [
       "<Figure size 432x288 with 1 Axes>"
      ]
     },
     "metadata": {
      "needs_background": "light"
     },
     "output_type": "display_data"
    }
   ],
   "source": [
    "# 4th degree\n",
    "fit_and_plot_poly_deg(4)"
   ]
  },
  {
   "cell_type": "code",
   "execution_count": null,
   "id": "64b0ddd3",
   "metadata": {},
   "outputs": [],
   "source": []
  },
  {
   "cell_type": "code",
   "execution_count": null,
   "id": "02555122",
   "metadata": {},
   "outputs": [],
   "source": []
  }
 ],
 "metadata": {
  "kernelspec": {
   "display_name": "mlenv",
   "language": "python",
   "name": "mlenv"
  },
  "language_info": {
   "codemirror_mode": {
    "name": "ipython",
    "version": 3
   },
   "file_extension": ".py",
   "mimetype": "text/x-python",
   "name": "python",
   "nbconvert_exporter": "python",
   "pygments_lexer": "ipython3",
   "version": "3.7.11"
  }
 },
 "nbformat": 4,
 "nbformat_minor": 5
}
