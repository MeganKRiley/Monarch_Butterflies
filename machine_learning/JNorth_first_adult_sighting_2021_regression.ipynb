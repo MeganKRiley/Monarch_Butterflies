{
 "cells": [
  {
   "cell_type": "code",
   "execution_count": 57,
   "id": "638e31f4",
   "metadata": {},
   "outputs": [],
   "source": [
    "import pandas as pd\n",
    "from pathlib import Path\n",
    "import matplotlib.pyplot as plt\n",
    "from sklearn.linear_model import LinearRegression\n",
    "from sklearn.preprocessing import PolynomialFeatures\n",
    "import datetime"
   ]
  },
  {
   "cell_type": "code",
   "execution_count": 88,
   "id": "658fad1f",
   "metadata": {},
   "outputs": [
    {
     "data": {
      "text/plain": [
       "Date              datetime64[ns]\n",
       "Town                      object\n",
       "State/Province            object\n",
       "Latitude                 float64\n",
       "Longitude                float64\n",
       "Number                   float64\n",
       "dtype: object"
      ]
     },
     "execution_count": 88,
     "metadata": {},
     "output_type": "execute_result"
    }
   ],
   "source": [
    "df = pd.read_csv(Path('JNorth_Adult_First_Site_2021_Spring.csv'))\n",
    "df.head()\n",
    "df['Date'] =  pd.to_datetime(df['Date'], format='%m/%d/%Y')\n",
    "\n",
    "\n",
    "df.dtypes"
   ]
  },
  {
   "cell_type": "code",
   "execution_count": 97,
   "id": "d73a9542",
   "metadata": {},
   "outputs": [
    {
     "data": {
      "text/plain": [
       "0       2021\n",
       "1       2021\n",
       "2       2021\n",
       "3       2021\n",
       "4       2021\n",
       "        ... \n",
       "3451    2021\n",
       "3452    2021\n",
       "3453    2021\n",
       "3454    2021\n",
       "3455    2021\n",
       "Name: Date, Length: 3450, dtype: int64"
      ]
     },
     "execution_count": 97,
     "metadata": {},
     "output_type": "execute_result"
    }
   ],
   "source": [
    "df.dropna(inplace=True)\n",
    "df['Date'].dt.year"
   ]
  },
  {
   "cell_type": "code",
   "execution_count": 98,
   "id": "bc429b60",
   "metadata": {},
   "outputs": [
    {
     "data": {
      "text/html": [
       "<div>\n",
       "<style scoped>\n",
       "    .dataframe tbody tr th:only-of-type {\n",
       "        vertical-align: middle;\n",
       "    }\n",
       "\n",
       "    .dataframe tbody tr th {\n",
       "        vertical-align: top;\n",
       "    }\n",
       "\n",
       "    .dataframe thead th {\n",
       "        text-align: right;\n",
       "    }\n",
       "</style>\n",
       "<table border=\"1\" class=\"dataframe\">\n",
       "  <thead>\n",
       "    <tr style=\"text-align: right;\">\n",
       "      <th></th>\n",
       "      <th>Date</th>\n",
       "      <th>Town</th>\n",
       "      <th>State/Province</th>\n",
       "      <th>Latitude</th>\n",
       "      <th>Longitude</th>\n",
       "      <th>Number</th>\n",
       "      <th>year</th>\n",
       "    </tr>\n",
       "  </thead>\n",
       "  <tbody>\n",
       "    <tr>\n",
       "      <th>0</th>\n",
       "      <td>2021-07-31</td>\n",
       "      <td>Basking Ridge</td>\n",
       "      <td>NJ</td>\n",
       "      <td>40.7</td>\n",
       "      <td>-74.5</td>\n",
       "      <td>1.0</td>\n",
       "      <td>2021</td>\n",
       "    </tr>\n",
       "    <tr>\n",
       "      <th>1</th>\n",
       "      <td>2021-07-31</td>\n",
       "      <td>Brown City</td>\n",
       "      <td>MI</td>\n",
       "      <td>43.2</td>\n",
       "      <td>-83.1</td>\n",
       "      <td>10.0</td>\n",
       "      <td>2021</td>\n",
       "    </tr>\n",
       "    <tr>\n",
       "      <th>2</th>\n",
       "      <td>2021-07-31</td>\n",
       "      <td>Hardwick</td>\n",
       "      <td>MA</td>\n",
       "      <td>42.3</td>\n",
       "      <td>-72.2</td>\n",
       "      <td>1.0</td>\n",
       "      <td>2021</td>\n",
       "    </tr>\n",
       "    <tr>\n",
       "      <th>3</th>\n",
       "      <td>2021-07-31</td>\n",
       "      <td>Hilton Head Island</td>\n",
       "      <td>SC</td>\n",
       "      <td>32.2</td>\n",
       "      <td>-80.8</td>\n",
       "      <td>2.0</td>\n",
       "      <td>2021</td>\n",
       "    </tr>\n",
       "    <tr>\n",
       "      <th>4</th>\n",
       "      <td>2021-07-31</td>\n",
       "      <td>Montgomery Village</td>\n",
       "      <td>MD</td>\n",
       "      <td>39.2</td>\n",
       "      <td>-77.2</td>\n",
       "      <td>2.0</td>\n",
       "      <td>2021</td>\n",
       "    </tr>\n",
       "  </tbody>\n",
       "</table>\n",
       "</div>"
      ],
      "text/plain": [
       "        Date                Town State/Province  Latitude  Longitude  Number  \\\n",
       "0 2021-07-31       Basking Ridge             NJ      40.7      -74.5     1.0   \n",
       "1 2021-07-31          Brown City             MI      43.2      -83.1    10.0   \n",
       "2 2021-07-31            Hardwick             MA      42.3      -72.2     1.0   \n",
       "3 2021-07-31  Hilton Head Island             SC      32.2      -80.8     2.0   \n",
       "4 2021-07-31  Montgomery Village             MD      39.2      -77.2     2.0   \n",
       "\n",
       "   year  \n",
       "0  2021  \n",
       "1  2021  \n",
       "2  2021  \n",
       "3  2021  \n",
       "4  2021  "
      ]
     },
     "execution_count": 98,
     "metadata": {},
     "output_type": "execute_result"
    }
   ],
   "source": [
    "# adding a column for year\n",
    "#df['year'] = pd.DatetimeIndex(df['Date']).dt.year\n",
    "#df['year'] = pd.to_datetime(df['year'], format='%Y', errors='coerce')\n",
    "df['year'] = pd.DatetimeIndex(df['Date']).year\n",
    "# df['year'] = pd.to_datetime(df['year'], format= '%Y', errors='coerce')\n",
    "\n",
    "df.head()\n",
    "# df.dtypes"
   ]
  },
  {
   "cell_type": "code",
   "execution_count": 99,
   "id": "93292446",
   "metadata": {},
   "outputs": [
    {
     "data": {
      "text/html": [
       "<div>\n",
       "<style scoped>\n",
       "    .dataframe tbody tr th:only-of-type {\n",
       "        vertical-align: middle;\n",
       "    }\n",
       "\n",
       "    .dataframe tbody tr th {\n",
       "        vertical-align: top;\n",
       "    }\n",
       "\n",
       "    .dataframe thead th {\n",
       "        text-align: right;\n",
       "    }\n",
       "</style>\n",
       "<table border=\"1\" class=\"dataframe\">\n",
       "  <thead>\n",
       "    <tr style=\"text-align: right;\">\n",
       "      <th></th>\n",
       "      <th>Date</th>\n",
       "      <th>Town</th>\n",
       "      <th>State/Province</th>\n",
       "      <th>Latitude</th>\n",
       "      <th>Longitude</th>\n",
       "      <th>Number</th>\n",
       "      <th>year</th>\n",
       "      <th>month</th>\n",
       "    </tr>\n",
       "  </thead>\n",
       "  <tbody>\n",
       "    <tr>\n",
       "      <th>0</th>\n",
       "      <td>2021-07-31</td>\n",
       "      <td>Basking Ridge</td>\n",
       "      <td>NJ</td>\n",
       "      <td>40.7</td>\n",
       "      <td>-74.5</td>\n",
       "      <td>1.0</td>\n",
       "      <td>2021</td>\n",
       "      <td>7</td>\n",
       "    </tr>\n",
       "    <tr>\n",
       "      <th>1</th>\n",
       "      <td>2021-07-31</td>\n",
       "      <td>Brown City</td>\n",
       "      <td>MI</td>\n",
       "      <td>43.2</td>\n",
       "      <td>-83.1</td>\n",
       "      <td>10.0</td>\n",
       "      <td>2021</td>\n",
       "      <td>7</td>\n",
       "    </tr>\n",
       "    <tr>\n",
       "      <th>2</th>\n",
       "      <td>2021-07-31</td>\n",
       "      <td>Hardwick</td>\n",
       "      <td>MA</td>\n",
       "      <td>42.3</td>\n",
       "      <td>-72.2</td>\n",
       "      <td>1.0</td>\n",
       "      <td>2021</td>\n",
       "      <td>7</td>\n",
       "    </tr>\n",
       "    <tr>\n",
       "      <th>3</th>\n",
       "      <td>2021-07-31</td>\n",
       "      <td>Hilton Head Island</td>\n",
       "      <td>SC</td>\n",
       "      <td>32.2</td>\n",
       "      <td>-80.8</td>\n",
       "      <td>2.0</td>\n",
       "      <td>2021</td>\n",
       "      <td>7</td>\n",
       "    </tr>\n",
       "    <tr>\n",
       "      <th>4</th>\n",
       "      <td>2021-07-31</td>\n",
       "      <td>Montgomery Village</td>\n",
       "      <td>MD</td>\n",
       "      <td>39.2</td>\n",
       "      <td>-77.2</td>\n",
       "      <td>2.0</td>\n",
       "      <td>2021</td>\n",
       "      <td>7</td>\n",
       "    </tr>\n",
       "  </tbody>\n",
       "</table>\n",
       "</div>"
      ],
      "text/plain": [
       "        Date                Town State/Province  Latitude  Longitude  Number  \\\n",
       "0 2021-07-31       Basking Ridge             NJ      40.7      -74.5     1.0   \n",
       "1 2021-07-31          Brown City             MI      43.2      -83.1    10.0   \n",
       "2 2021-07-31            Hardwick             MA      42.3      -72.2     1.0   \n",
       "3 2021-07-31  Hilton Head Island             SC      32.2      -80.8     2.0   \n",
       "4 2021-07-31  Montgomery Village             MD      39.2      -77.2     2.0   \n",
       "\n",
       "   year  month  \n",
       "0  2021      7  \n",
       "1  2021      7  \n",
       "2  2021      7  \n",
       "3  2021      7  \n",
       "4  2021      7  "
      ]
     },
     "execution_count": 99,
     "metadata": {},
     "output_type": "execute_result"
    }
   ],
   "source": [
    "# Adding a column for month\n",
    "\n",
    "df['month'] = pd.DatetimeIndex(df['Date']).month\n",
    "df.head()"
   ]
  },
  {
   "cell_type": "code",
   "execution_count": 100,
   "id": "34b6993f",
   "metadata": {},
   "outputs": [],
   "source": [
    "# dropping null vals\n",
    "df.year = df.year.dropna()\n",
    "df.month = df.month.dropna()"
   ]
  },
  {
   "cell_type": "code",
   "execution_count": 112,
   "id": "cadabe5b",
   "metadata": {},
   "outputs": [
    {
     "data": {
      "text/html": [
       "<div>\n",
       "<style scoped>\n",
       "    .dataframe tbody tr th:only-of-type {\n",
       "        vertical-align: middle;\n",
       "    }\n",
       "\n",
       "    .dataframe tbody tr th {\n",
       "        vertical-align: top;\n",
       "    }\n",
       "\n",
       "    .dataframe thead th {\n",
       "        text-align: right;\n",
       "    }\n",
       "</style>\n",
       "<table border=\"1\" class=\"dataframe\">\n",
       "  <thead>\n",
       "    <tr style=\"text-align: right;\">\n",
       "      <th></th>\n",
       "      <th>Date</th>\n",
       "      <th>Town</th>\n",
       "      <th>State/Province</th>\n",
       "      <th>Latitude</th>\n",
       "      <th>Longitude</th>\n",
       "      <th>Number</th>\n",
       "      <th>year</th>\n",
       "      <th>month</th>\n",
       "      <th>month_and_year</th>\n",
       "    </tr>\n",
       "  </thead>\n",
       "  <tbody>\n",
       "    <tr>\n",
       "      <th>0</th>\n",
       "      <td>2021-07-31</td>\n",
       "      <td>Basking Ridge</td>\n",
       "      <td>NJ</td>\n",
       "      <td>40.7</td>\n",
       "      <td>-74.5</td>\n",
       "      <td>1.0</td>\n",
       "      <td>2021</td>\n",
       "      <td>7</td>\n",
       "      <td>2021-07-01</td>\n",
       "    </tr>\n",
       "    <tr>\n",
       "      <th>1</th>\n",
       "      <td>2021-07-31</td>\n",
       "      <td>Brown City</td>\n",
       "      <td>MI</td>\n",
       "      <td>43.2</td>\n",
       "      <td>-83.1</td>\n",
       "      <td>10.0</td>\n",
       "      <td>2021</td>\n",
       "      <td>7</td>\n",
       "      <td>2021-07-01</td>\n",
       "    </tr>\n",
       "    <tr>\n",
       "      <th>2</th>\n",
       "      <td>2021-07-31</td>\n",
       "      <td>Hardwick</td>\n",
       "      <td>MA</td>\n",
       "      <td>42.3</td>\n",
       "      <td>-72.2</td>\n",
       "      <td>1.0</td>\n",
       "      <td>2021</td>\n",
       "      <td>7</td>\n",
       "      <td>2021-07-01</td>\n",
       "    </tr>\n",
       "    <tr>\n",
       "      <th>3</th>\n",
       "      <td>2021-07-31</td>\n",
       "      <td>Hilton Head Island</td>\n",
       "      <td>SC</td>\n",
       "      <td>32.2</td>\n",
       "      <td>-80.8</td>\n",
       "      <td>2.0</td>\n",
       "      <td>2021</td>\n",
       "      <td>7</td>\n",
       "      <td>2021-07-01</td>\n",
       "    </tr>\n",
       "    <tr>\n",
       "      <th>4</th>\n",
       "      <td>2021-07-31</td>\n",
       "      <td>Montgomery Village</td>\n",
       "      <td>MD</td>\n",
       "      <td>39.2</td>\n",
       "      <td>-77.2</td>\n",
       "      <td>2.0</td>\n",
       "      <td>2021</td>\n",
       "      <td>7</td>\n",
       "      <td>2021-07-01</td>\n",
       "    </tr>\n",
       "  </tbody>\n",
       "</table>\n",
       "</div>"
      ],
      "text/plain": [
       "        Date                Town State/Province  Latitude  Longitude  Number  \\\n",
       "0 2021-07-31       Basking Ridge             NJ      40.7      -74.5     1.0   \n",
       "1 2021-07-31          Brown City             MI      43.2      -83.1    10.0   \n",
       "2 2021-07-31            Hardwick             MA      42.3      -72.2     1.0   \n",
       "3 2021-07-31  Hilton Head Island             SC      32.2      -80.8     2.0   \n",
       "4 2021-07-31  Montgomery Village             MD      39.2      -77.2     2.0   \n",
       "\n",
       "   year  month month_and_year  \n",
       "0  2021      7     2021-07-01  \n",
       "1  2021      7     2021-07-01  \n",
       "2  2021      7     2021-07-01  \n",
       "3  2021      7     2021-07-01  \n",
       "4  2021      7     2021-07-01  "
      ]
     },
     "execution_count": 112,
     "metadata": {},
     "output_type": "execute_result"
    }
   ],
   "source": [
    "# combining the year and month\n",
    "df.year = df.year.apply(lambda row: int(row))\n",
    "df['month_and_year'] = pd.to_datetime(df.month.astype(str) + '-' + df.year.astype(str))\n",
    "df.head()"
   ]
  },
  {
   "cell_type": "code",
   "execution_count": 113,
   "id": "a1fae92c",
   "metadata": {},
   "outputs": [
    {
     "data": {
      "text/html": [
       "<div>\n",
       "<style scoped>\n",
       "    .dataframe tbody tr th:only-of-type {\n",
       "        vertical-align: middle;\n",
       "    }\n",
       "\n",
       "    .dataframe tbody tr th {\n",
       "        vertical-align: top;\n",
       "    }\n",
       "\n",
       "    .dataframe thead th {\n",
       "        text-align: right;\n",
       "    }\n",
       "</style>\n",
       "<table border=\"1\" class=\"dataframe\">\n",
       "  <thead>\n",
       "    <tr style=\"text-align: right;\">\n",
       "      <th></th>\n",
       "      <th>month_and_year</th>\n",
       "      <th>Date</th>\n",
       "      <th>Town</th>\n",
       "      <th>State/Province</th>\n",
       "      <th>Latitude</th>\n",
       "      <th>Longitude</th>\n",
       "      <th>Number</th>\n",
       "      <th>year</th>\n",
       "      <th>month</th>\n",
       "    </tr>\n",
       "  </thead>\n",
       "  <tbody>\n",
       "    <tr>\n",
       "      <th>0</th>\n",
       "      <td>2021-01-01</td>\n",
       "      <td>2</td>\n",
       "      <td>2</td>\n",
       "      <td>2</td>\n",
       "      <td>2</td>\n",
       "      <td>2</td>\n",
       "      <td>2</td>\n",
       "      <td>2</td>\n",
       "      <td>2</td>\n",
       "    </tr>\n",
       "    <tr>\n",
       "      <th>1</th>\n",
       "      <td>2021-02-01</td>\n",
       "      <td>26</td>\n",
       "      <td>26</td>\n",
       "      <td>26</td>\n",
       "      <td>26</td>\n",
       "      <td>26</td>\n",
       "      <td>26</td>\n",
       "      <td>26</td>\n",
       "      <td>26</td>\n",
       "    </tr>\n",
       "    <tr>\n",
       "      <th>2</th>\n",
       "      <td>2021-03-01</td>\n",
       "      <td>520</td>\n",
       "      <td>520</td>\n",
       "      <td>520</td>\n",
       "      <td>520</td>\n",
       "      <td>520</td>\n",
       "      <td>520</td>\n",
       "      <td>520</td>\n",
       "      <td>520</td>\n",
       "    </tr>\n",
       "    <tr>\n",
       "      <th>3</th>\n",
       "      <td>2021-04-01</td>\n",
       "      <td>468</td>\n",
       "      <td>468</td>\n",
       "      <td>468</td>\n",
       "      <td>468</td>\n",
       "      <td>468</td>\n",
       "      <td>468</td>\n",
       "      <td>468</td>\n",
       "      <td>468</td>\n",
       "    </tr>\n",
       "    <tr>\n",
       "      <th>4</th>\n",
       "      <td>2021-05-01</td>\n",
       "      <td>1087</td>\n",
       "      <td>1087</td>\n",
       "      <td>1087</td>\n",
       "      <td>1087</td>\n",
       "      <td>1087</td>\n",
       "      <td>1087</td>\n",
       "      <td>1087</td>\n",
       "      <td>1087</td>\n",
       "    </tr>\n",
       "    <tr>\n",
       "      <th>5</th>\n",
       "      <td>2021-06-01</td>\n",
       "      <td>739</td>\n",
       "      <td>739</td>\n",
       "      <td>739</td>\n",
       "      <td>739</td>\n",
       "      <td>739</td>\n",
       "      <td>739</td>\n",
       "      <td>739</td>\n",
       "      <td>739</td>\n",
       "    </tr>\n",
       "    <tr>\n",
       "      <th>6</th>\n",
       "      <td>2021-07-01</td>\n",
       "      <td>608</td>\n",
       "      <td>608</td>\n",
       "      <td>608</td>\n",
       "      <td>608</td>\n",
       "      <td>608</td>\n",
       "      <td>608</td>\n",
       "      <td>608</td>\n",
       "      <td>608</td>\n",
       "    </tr>\n",
       "  </tbody>\n",
       "</table>\n",
       "</div>"
      ],
      "text/plain": [
       "  month_and_year  Date  Town  State/Province  Latitude  Longitude  Number  \\\n",
       "0     2021-01-01     2     2               2         2          2       2   \n",
       "1     2021-02-01    26    26              26        26         26      26   \n",
       "2     2021-03-01   520   520             520       520        520     520   \n",
       "3     2021-04-01   468   468             468       468        468     468   \n",
       "4     2021-05-01  1087  1087            1087      1087       1087    1087   \n",
       "5     2021-06-01   739   739             739       739        739     739   \n",
       "6     2021-07-01   608   608             608       608        608     608   \n",
       "\n",
       "   year  month  \n",
       "0     2      2  \n",
       "1    26     26  \n",
       "2   520    520  \n",
       "3   468    468  \n",
       "4  1087   1087  \n",
       "5   739    739  \n",
       "6   608    608  "
      ]
     },
     "execution_count": 113,
     "metadata": {},
     "output_type": "execute_result"
    }
   ],
   "source": [
    "# grouping by month and assuring month isn't an index\n",
    "counts = df.groupby([\"month_and_year\"]).count()\n",
    "counts = counts.reset_index()\n",
    "counts.head(200)"
   ]
  },
  {
   "cell_type": "code",
   "execution_count": 114,
   "id": "8e4d68f1",
   "metadata": {},
   "outputs": [
    {
     "data": {
      "image/png": "[encoded data removed]",
      "text/plain": [
       "<Figure size 2880x1440 with 1 Axes>"
      ]
     },
     "metadata": {
      "needs_background": "light"
     },
     "output_type": "display_data"
    }
   ],
   "source": [
    "# initial graph. note y-axis with counts.Date is a COUNT of total dates grouped by month; it is not the actual date\n",
    "fig = plt.figure(figsize=(40, 20))\n",
    "plt.scatter(counts.month_and_year, counts.Date)\n",
    "plt.xlabel('Butterfly Counts')\n",
    "plt.ylabel('Month')\n",
    "\n",
    "plt.show()"
   ]
  },
  {
   "cell_type": "code",
   "execution_count": 115,
   "id": "a405ce49",
   "metadata": {},
   "outputs": [],
   "source": [
    "# using reshape\n",
    "counts[\"month_and_year\"] = counts[\"month_and_year\"].apply(lambda x: x.toordinal())\n",
    "#counts[\"month_and_year\"] = counts[\"month_and_year\"].astype(float)\n",
    "X = counts.month_and_year.values.reshape(-1, 1)\n"
   ]
  },
  {
   "cell_type": "code",
   "execution_count": 116,
   "id": "fb357f9f",
   "metadata": {},
   "outputs": [],
   "source": [
    "# setting the y axis as the count of dates\n",
    "y = counts.Date"
   ]
  },
  {
   "cell_type": "code",
   "execution_count": 117,
   "id": "49e39cc2",
   "metadata": {},
   "outputs": [],
   "source": [
    "# setting the model\n",
    "model = LinearRegression()"
   ]
  },
  {
   "cell_type": "code",
   "execution_count": 118,
   "id": "aeede0ab",
   "metadata": {},
   "outputs": [
    {
     "data": {
      "text/plain": [
       "LinearRegression()"
      ]
     },
     "execution_count": 118,
     "metadata": {},
     "output_type": "execute_result"
    }
   ],
   "source": [
    "# fitting the model\n",
    "model.fit(X, y)"
   ]
  },
  {
   "cell_type": "code",
   "execution_count": 119,
   "id": "bf4042a3",
   "metadata": {},
   "outputs": [
    {
     "name": "stdout",
     "output_type": "stream",
     "text": [
      "(7,)\n"
     ]
    }
   ],
   "source": [
    "# number of predictions\n",
    "y_pred = model.predict(X)\n",
    "print(y_pred.shape)"
   ]
  },
  {
   "cell_type": "code",
   "execution_count": 120,
   "id": "e223aca7",
   "metadata": {},
   "outputs": [
    {
     "data": {
      "image/png": "[encoded data removed]",
      "text/plain": [
       "<Figure size 432x288 with 1 Axes>"
      ]
     },
     "metadata": {
      "needs_background": "light"
     },
     "output_type": "display_data"
    }
   ],
   "source": [
    "# a straight line for linear regression\n",
    "plt.scatter(X, y)\n",
    "plt.plot(X, y_pred, color='red')\n",
    "plt.show()"
   ]
  },
  {
   "cell_type": "code",
   "execution_count": 121,
   "id": "4dbc197c",
   "metadata": {},
   "outputs": [],
   "source": [
    "# creating a polynomial function that allows us to input degrees for fitting\n",
    "def fit_and_plot_poly_deg(degree):\n",
    "    poly_feat = PolynomialFeatures(degree)\n",
    "    X_poly = poly_feat.fit_transform(X)\n",
    "    \n",
    "    print('X_poly shape is: {}'.format(str(X_poly.shape)))\n",
    "\n",
    "    poly_model = LinearRegression().fit(X_poly, y)\n",
    "    y_pred = poly_model.predict(X_poly)\n",
    "\n",
    "    plt.scatter(X, y, zorder=3)\n",
    "    plt.plot(X, y_pred, color='black');"
   ]
  },
  {
   "cell_type": "code",
   "execution_count": 122,
   "id": "70d3bb3a",
   "metadata": {},
   "outputs": [
    {
     "name": "stdout",
     "output_type": "stream",
     "text": [
      "X_poly shape is: (7, 3)\n"
     ]
    },
    {
     "data": {
      "image/png": "[encoded data removed]",
      "text/plain": [
       "<Figure size 432x288 with 1 Axes>"
      ]
     },
     "metadata": {
      "needs_background": "light"
     },
     "output_type": "display_data"
    }
   ],
   "source": [
    "# two degree fit\n",
    "fit_and_plot_poly_deg(2)"
   ]
  },
  {
   "cell_type": "code",
   "execution_count": 123,
   "id": "5a631043",
   "metadata": {},
   "outputs": [
    {
     "name": "stdout",
     "output_type": "stream",
     "text": [
      "X_poly shape is: (7, 4)\n"
     ]
    },
    {
     "data": {
      "image/png": "[encoded data removed]",
      "text/plain": [
       "<Figure size 432x288 with 1 Axes>"
      ]
     },
     "metadata": {
      "needs_background": "light"
     },
     "output_type": "display_data"
    }
   ],
   "source": [
    "# 3rd degree fit\n",
    "fit_and_plot_poly_deg(3)"
   ]
  },
  {
   "cell_type": "code",
   "execution_count": 124,
   "id": "70819714",
   "metadata": {
    "scrolled": true
   },
   "outputs": [
    {
     "name": "stdout",
     "output_type": "stream",
     "text": [
      "X_poly shape is: (7, 5)\n"
     ]
    },
    {
     "data": {
      "image/png": "[encoded data removed]",
      "text/plain": [
       "<Figure size 432x288 with 1 Axes>"
      ]
     },
     "metadata": {
      "needs_background": "light"
     },
     "output_type": "display_data"
    }
   ],
   "source": [
    "# 4th degree\n",
    "fit_and_plot_poly_deg(4)"
   ]
  },
  {
   "cell_type": "code",
   "execution_count": null,
   "id": "b6b7a59a",
   "metadata": {},
   "outputs": [],
   "source": []
  },
  {
   "cell_type": "code",
   "execution_count": null,
   "id": "f1229d66",
   "metadata": {},
   "outputs": [],
   "source": []
  }
 ],
 "metadata": {
  "kernelspec": {
   "display_name": "mlenv",
   "language": "python",
   "name": "mlenv"
  },
  "language_info": {
   "codemirror_mode": {
    "name": "ipython",
    "version": 3
   },
   "file_extension": ".py",
   "mimetype": "text/x-python",
   "name": "python",
   "nbconvert_exporter": "python",
   "pygments_lexer": "ipython3",
   "version": "3.7.11"
  }
 },
 "nbformat": 4,
 "nbformat_minor": 5
}
