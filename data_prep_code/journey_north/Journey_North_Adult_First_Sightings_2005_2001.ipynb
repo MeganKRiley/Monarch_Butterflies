{
 "cells": [
  {
   "cell_type": "markdown",
   "id": "198264ce",
   "metadata": {},
   "source": [
    "# Journey North Adult Sightings"
   ]
  },
  {
   "cell_type": "code",
   "execution_count": 1,
   "id": "77377556",
   "metadata": {},
   "outputs": [],
   "source": [
    "#  Import and read\n",
    "import pandas as pd \n",
    "import numpy as np\n",
    "import json\n",
    "# Sue Mottet 2-19-2022"
   ]
  },
  {
   "cell_type": "markdown",
   "id": "71cc5b7d",
   "metadata": {},
   "source": [
    "# geoJSONifier"
   ]
  },
  {
   "cell_type": "code",
   "execution_count": 2,
   "id": "249a00ac",
   "metadata": {},
   "outputs": [],
   "source": [
    "def df_to_geojson(df, properties, lat='latitude', lon='longitude'):\n",
    "    # create a new python dict to contain our geojson data, using geojson format\n",
    "    geojson = {'type':'FeatureCollection', 'features':[]}\n",
    "\n",
    "    # loop through each row in the dataframe and convert each row to geojson format\n",
    "    for _, row in df.iterrows():\n",
    "        # create a feature template to fill in\n",
    "        feature = {'type':'Feature',\n",
    "                   'properties':{},\n",
    "                   'geometry':{'type':'Point',\n",
    "                               'coordinates':[]}}\n",
    "\n",
    "        # fill in the coordinates\n",
    "        feature['geometry']['coordinates'] = [row[lon],row[lat]]\n",
    "\n",
    "        # for each column, get the value and add it as a new feature property\n",
    "        for prop in properties:\n",
    "            feature['properties'][prop] = row[prop]\n",
    "        \n",
    "        # add this feature (aka, converted dataframe row) to the list of features inside our dict\n",
    "        geojson['features'].append(feature)\n",
    "    \n",
    "    return geojson"
   ]
  },
  {
   "cell_type": "markdown",
   "id": "224bf61c",
   "metadata": {},
   "source": [
    "# Load file"
   ]
  },
  {
   "cell_type": "code",
   "execution_count": 3,
   "id": "29091bad",
   "metadata": {},
   "outputs": [
    {
     "name": "stderr",
     "output_type": "stream",
     "text": [
      "C:\\Users\\motte\\anaconda3\\envs\\mlenv\\lib\\site-packages\\IPython\\core\\interactiveshell.py:3444: DtypeWarning: Columns (8) have mixed types.Specify dtype option on import or set low_memory=False.\n",
      "  exec(code_obj, self.user_global_ns, self.user_ns)\n"
     ]
    },
    {
     "data": {
      "text/html": [
       "<div>\n",
       "<style scoped>\n",
       "    .dataframe tbody tr th:only-of-type {\n",
       "        vertical-align: middle;\n",
       "    }\n",
       "\n",
       "    .dataframe tbody tr th {\n",
       "        vertical-align: top;\n",
       "    }\n",
       "\n",
       "    .dataframe thead th {\n",
       "        text-align: right;\n",
       "    }\n",
       "</style>\n",
       "<table border=\"1\" class=\"dataframe\">\n",
       "  <thead>\n",
       "    <tr style=\"text-align: right;\">\n",
       "      <th></th>\n",
       "      <th>id</th>\n",
       "      <th>sighting_date</th>\n",
       "      <th>species</th>\n",
       "      <th>number</th>\n",
       "      <th>latitude</th>\n",
       "      <th>longitude</th>\n",
       "      <th>flag_location</th>\n",
       "      <th>comments</th>\n",
       "      <th>school</th>\n",
       "      <th>grade</th>\n",
       "      <th>image_url</th>\n",
       "      <th>customerid</th>\n",
       "      <th>number_old</th>\n",
       "      <th>flag_number</th>\n",
       "      <th>species_old</th>\n",
       "      <th>flag_species</th>\n",
       "    </tr>\n",
       "  </thead>\n",
       "  <tbody>\n",
       "    <tr>\n",
       "      <th>0</th>\n",
       "      <td>850841703</td>\n",
       "      <td>1996-12-16</td>\n",
       "      <td>Monarch Adult Sighted</td>\n",
       "      <td>1</td>\n",
       "      <td>27.594</td>\n",
       "      <td>-81.362</td>\n",
       "      <td>0</td>\n",
       "      <td>On the ballfield a solitary monarch butterfly ...</td>\n",
       "      <td>Walker memorial junior academy</td>\n",
       "      <td>10.0</td>\n",
       "      <td>-999999.999</td>\n",
       "      <td>135</td>\n",
       "      <td>-999999.999</td>\n",
       "      <td>1</td>\n",
       "      <td>Monarch Butterfly</td>\n",
       "      <td>1</td>\n",
       "    </tr>\n",
       "    <tr>\n",
       "      <th>1</th>\n",
       "      <td>851824801</td>\n",
       "      <td>1996-12-06</td>\n",
       "      <td>Monarch Adult Sighted</td>\n",
       "      <td>1</td>\n",
       "      <td>30.420</td>\n",
       "      <td>-87.224</td>\n",
       "      <td>0</td>\n",
       "      <td>Our 5th grade Discovery students who went alon...</td>\n",
       "      <td>Hambrick elementary school</td>\n",
       "      <td>5.0</td>\n",
       "      <td>-999999.999</td>\n",
       "      <td>150</td>\n",
       "      <td>-999999.999</td>\n",
       "      <td>1</td>\n",
       "      <td>Monarch Butterfly</td>\n",
       "      <td>1</td>\n",
       "    </tr>\n",
       "    <tr>\n",
       "      <th>2</th>\n",
       "      <td>854409931</td>\n",
       "      <td>1996-09-21</td>\n",
       "      <td>Monarch Adult Sighted</td>\n",
       "      <td>1</td>\n",
       "      <td>40.817</td>\n",
       "      <td>-96.710</td>\n",
       "      <td>0</td>\n",
       "      <td>We saw several hundred monarchs in our school ...</td>\n",
       "      <td>-999999.999</td>\n",
       "      <td>5.0</td>\n",
       "      <td>-999999.999</td>\n",
       "      <td>9701054</td>\n",
       "      <td>-999999.999</td>\n",
       "      <td>1</td>\n",
       "      <td>Monarch Butterfly</td>\n",
       "      <td>1</td>\n",
       "    </tr>\n",
       "    <tr>\n",
       "      <th>3</th>\n",
       "      <td>854557206</td>\n",
       "      <td>1996-09-21</td>\n",
       "      <td>Monarch Adult Sighted</td>\n",
       "      <td>1</td>\n",
       "      <td>40.817</td>\n",
       "      <td>-96.710</td>\n",
       "      <td>0</td>\n",
       "      <td>Over a hundered monarchs in our school butterf...</td>\n",
       "      <td>Fredstrom elementary school</td>\n",
       "      <td>6.0</td>\n",
       "      <td>-999999.999</td>\n",
       "      <td>175</td>\n",
       "      <td>-999999.999</td>\n",
       "      <td>1</td>\n",
       "      <td>Monarch Butterfly</td>\n",
       "      <td>1</td>\n",
       "    </tr>\n",
       "    <tr>\n",
       "      <th>4</th>\n",
       "      <td>855061862</td>\n",
       "      <td>1997-01-01</td>\n",
       "      <td>Monarch Adult Sighted</td>\n",
       "      <td>1</td>\n",
       "      <td>34.244</td>\n",
       "      <td>-77.946</td>\n",
       "      <td>0</td>\n",
       "      <td>I Thought I Saw It, But I Was Suprised To See ...</td>\n",
       "      <td>Gregory</td>\n",
       "      <td>3.0</td>\n",
       "      <td>-999999.999</td>\n",
       "      <td>181</td>\n",
       "      <td>-999999.999</td>\n",
       "      <td>1</td>\n",
       "      <td>Monarch Butterfly</td>\n",
       "      <td>1</td>\n",
       "    </tr>\n",
       "  </tbody>\n",
       "</table>\n",
       "</div>"
      ],
      "text/plain": [
       "          id sighting_date                species  number  latitude  \\\n",
       "0  850841703    1996-12-16  Monarch Adult Sighted       1    27.594   \n",
       "1  851824801    1996-12-06  Monarch Adult Sighted       1    30.420   \n",
       "2  854409931    1996-09-21  Monarch Adult Sighted       1    40.817   \n",
       "3  854557206    1996-09-21  Monarch Adult Sighted       1    40.817   \n",
       "4  855061862    1997-01-01  Monarch Adult Sighted       1    34.244   \n",
       "\n",
       "   longitude  flag_location  \\\n",
       "0    -81.362              0   \n",
       "1    -87.224              0   \n",
       "2    -96.710              0   \n",
       "3    -96.710              0   \n",
       "4    -77.946              0   \n",
       "\n",
       "                                            comments  \\\n",
       "0  On the ballfield a solitary monarch butterfly ...   \n",
       "1  Our 5th grade Discovery students who went alon...   \n",
       "2  We saw several hundred monarchs in our school ...   \n",
       "3  Over a hundered monarchs in our school butterf...   \n",
       "4  I Thought I Saw It, But I Was Suprised To See ...   \n",
       "\n",
       "                           school  grade    image_url  customerid  number_old  \\\n",
       "0  Walker memorial junior academy   10.0  -999999.999         135 -999999.999   \n",
       "1      Hambrick elementary school    5.0  -999999.999         150 -999999.999   \n",
       "2                     -999999.999    5.0  -999999.999     9701054 -999999.999   \n",
       "3     Fredstrom elementary school    6.0  -999999.999         175 -999999.999   \n",
       "4                         Gregory    3.0  -999999.999         181 -999999.999   \n",
       "\n",
       "   flag_number        species_old  flag_species  \n",
       "0            1  Monarch Butterfly             1  \n",
       "1            1  Monarch Butterfly             1  \n",
       "2            1  Monarch Butterfly             1  \n",
       "3            1  Monarch Butterfly             1  \n",
       "4            1  Monarch Butterfly             1  "
      ]
     },
     "execution_count": 3,
     "metadata": {},
     "output_type": "execute_result"
    }
   ],
   "source": [
    "JNorth1996_2020_df = pd.read_csv(\"UWMadisonArb_JNorth_Project_MonarchsAndMilkweed_1996-2020.csv\")\n",
    "JNorth1996_2020_df.head()"
   ]
  },
  {
   "cell_type": "markdown",
   "id": "c7319ba8",
   "metadata": {},
   "source": [
    "# Data Exploratory"
   ]
  },
  {
   "cell_type": "code",
   "execution_count": 4,
   "id": "f873e5f6",
   "metadata": {},
   "outputs": [
    {
     "name": "stdout",
     "output_type": "stream",
     "text": [
      "<class 'pandas.core.frame.DataFrame'>\n",
      "RangeIndex: 227433 entries, 0 to 227432\n",
      "Data columns (total 16 columns):\n",
      " #   Column         Non-Null Count   Dtype  \n",
      "---  ------         --------------   -----  \n",
      " 0   id             227433 non-null  int64  \n",
      " 1   sighting_date  227433 non-null  object \n",
      " 2   species        227433 non-null  object \n",
      " 3   number         227433 non-null  int64  \n",
      " 4   latitude       227433 non-null  float64\n",
      " 5   longitude      227433 non-null  float64\n",
      " 6   flag_location  227433 non-null  int64  \n",
      " 7   comments       227433 non-null  object \n",
      " 8   school         227433 non-null  object \n",
      " 9   grade          227433 non-null  float64\n",
      " 10  image_url      227433 non-null  object \n",
      " 11  customerid     227433 non-null  int64  \n",
      " 12  number_old     227433 non-null  float64\n",
      " 13  flag_number    227433 non-null  int64  \n",
      " 14  species_old    227433 non-null  object \n",
      " 15  flag_species   227433 non-null  int64  \n",
      "dtypes: float64(4), int64(6), object(6)\n",
      "memory usage: 27.8+ MB\n"
     ]
    }
   ],
   "source": [
    "JNorth1996_2020_df.info()"
   ]
  },
  {
   "cell_type": "code",
   "execution_count": 5,
   "id": "114eef22",
   "metadata": {},
   "outputs": [
    {
     "data": {
      "text/plain": [
       "\"['id', 'sighting_date', 'species', 'number', 'latitude', 'longitude', 'flag_location', 'comments', 'school', 'grade', 'image_url', 'customerid', 'number_old', 'flag_number', 'species_old', 'flag_species']\""
      ]
     },
     "execution_count": 5,
     "metadata": {},
     "output_type": "execute_result"
    }
   ],
   "source": [
    "str(JNorth1996_2020_df.columns.tolist())"
   ]
  },
  {
   "cell_type": "code",
   "execution_count": 6,
   "id": "a30813e2",
   "metadata": {},
   "outputs": [
    {
     "data": {
      "text/html": [
       "<div>\n",
       "<style scoped>\n",
       "    .dataframe tbody tr th:only-of-type {\n",
       "        vertical-align: middle;\n",
       "    }\n",
       "\n",
       "    .dataframe tbody tr th {\n",
       "        vertical-align: top;\n",
       "    }\n",
       "\n",
       "    .dataframe thead th {\n",
       "        text-align: right;\n",
       "    }\n",
       "</style>\n",
       "<table border=\"1\" class=\"dataframe\">\n",
       "  <thead>\n",
       "    <tr style=\"text-align: right;\">\n",
       "      <th></th>\n",
       "      <th>id</th>\n",
       "      <th>number</th>\n",
       "      <th>latitude</th>\n",
       "      <th>longitude</th>\n",
       "      <th>flag_location</th>\n",
       "      <th>grade</th>\n",
       "      <th>customerid</th>\n",
       "      <th>number_old</th>\n",
       "      <th>flag_number</th>\n",
       "      <th>flag_species</th>\n",
       "    </tr>\n",
       "  </thead>\n",
       "  <tbody>\n",
       "    <tr>\n",
       "      <th>count</th>\n",
       "      <td>2.274330e+05</td>\n",
       "      <td>2.274330e+05</td>\n",
       "      <td>227433.000000</td>\n",
       "      <td>227433.000000</td>\n",
       "      <td>227433.000000</td>\n",
       "      <td>227433.000000</td>\n",
       "      <td>2.274330e+05</td>\n",
       "      <td>2.274330e+05</td>\n",
       "      <td>227433.000000</td>\n",
       "      <td>227433.000000</td>\n",
       "    </tr>\n",
       "    <tr>\n",
       "      <th>mean</th>\n",
       "      <td>1.420650e+09</td>\n",
       "      <td>1.186529e+02</td>\n",
       "      <td>38.400690</td>\n",
       "      <td>-87.569965</td>\n",
       "      <td>0.598018</td>\n",
       "      <td>-907386.217597</td>\n",
       "      <td>9.451737e+06</td>\n",
       "      <td>-2.844270e+05</td>\n",
       "      <td>0.294816</td>\n",
       "      <td>0.130324</td>\n",
       "    </tr>\n",
       "    <tr>\n",
       "      <th>std</th>\n",
       "      <td>1.456887e+08</td>\n",
       "      <td>2.209080e+04</td>\n",
       "      <td>5.268651</td>\n",
       "      <td>10.880362</td>\n",
       "      <td>0.490299</td>\n",
       "      <td>289894.342744</td>\n",
       "      <td>2.193961e+06</td>\n",
       "      <td>4.518136e+05</td>\n",
       "      <td>0.467089</td>\n",
       "      <td>0.336660</td>\n",
       "    </tr>\n",
       "    <tr>\n",
       "      <th>min</th>\n",
       "      <td>8.508417e+08</td>\n",
       "      <td>-1.700000e+01</td>\n",
       "      <td>-12.100000</td>\n",
       "      <td>-165.107000</td>\n",
       "      <td>0.000000</td>\n",
       "      <td>-999999.999000</td>\n",
       "      <td>0.000000e+00</td>\n",
       "      <td>-1.000000e+06</td>\n",
       "      <td>0.000000</td>\n",
       "      <td>0.000000</td>\n",
       "    </tr>\n",
       "    <tr>\n",
       "      <th>25%</th>\n",
       "      <td>1.377751e+09</td>\n",
       "      <td>1.000000e+00</td>\n",
       "      <td>34.723000</td>\n",
       "      <td>-95.268000</td>\n",
       "      <td>0.000000</td>\n",
       "      <td>-999999.999000</td>\n",
       "      <td>9.941050e+06</td>\n",
       "      <td>-1.000000e+06</td>\n",
       "      <td>0.000000</td>\n",
       "      <td>0.000000</td>\n",
       "    </tr>\n",
       "    <tr>\n",
       "      <th>50%</th>\n",
       "      <td>1.477448e+09</td>\n",
       "      <td>1.000000e+00</td>\n",
       "      <td>39.503000</td>\n",
       "      <td>-86.787000</td>\n",
       "      <td>1.000000</td>\n",
       "      <td>-999999.999000</td>\n",
       "      <td>9.977663e+06</td>\n",
       "      <td>1.000000e+00</td>\n",
       "      <td>0.000000</td>\n",
       "      <td>0.000000</td>\n",
       "    </tr>\n",
       "    <tr>\n",
       "      <th>75%</th>\n",
       "      <td>1.526383e+09</td>\n",
       "      <td>3.000000e+00</td>\n",
       "      <td>42.409000</td>\n",
       "      <td>-79.255000</td>\n",
       "      <td>1.000000</td>\n",
       "      <td>-999999.999000</td>\n",
       "      <td>1.000029e+07</td>\n",
       "      <td>3.000000e+00</td>\n",
       "      <td>1.000000</td>\n",
       "      <td>0.000000</td>\n",
       "    </tr>\n",
       "    <tr>\n",
       "      <th>max</th>\n",
       "      <td>1.526525e+09</td>\n",
       "      <td>1.000000e+07</td>\n",
       "      <td>65.136000</td>\n",
       "      <td>-52.883000</td>\n",
       "      <td>1.000000</td>\n",
       "      <td>1112.000000</td>\n",
       "      <td>1.004256e+07</td>\n",
       "      <td>1.000000e+07</td>\n",
       "      <td>2.000000</td>\n",
       "      <td>1.000000</td>\n",
       "    </tr>\n",
       "  </tbody>\n",
       "</table>\n",
       "</div>"
      ],
      "text/plain": [
       "                 id        number       latitude      longitude  \\\n",
       "count  2.274330e+05  2.274330e+05  227433.000000  227433.000000   \n",
       "mean   1.420650e+09  1.186529e+02      38.400690     -87.569965   \n",
       "std    1.456887e+08  2.209080e+04       5.268651      10.880362   \n",
       "min    8.508417e+08 -1.700000e+01     -12.100000    -165.107000   \n",
       "25%    1.377751e+09  1.000000e+00      34.723000     -95.268000   \n",
       "50%    1.477448e+09  1.000000e+00      39.503000     -86.787000   \n",
       "75%    1.526383e+09  3.000000e+00      42.409000     -79.255000   \n",
       "max    1.526525e+09  1.000000e+07      65.136000     -52.883000   \n",
       "\n",
       "       flag_location          grade    customerid    number_old  \\\n",
       "count  227433.000000  227433.000000  2.274330e+05  2.274330e+05   \n",
       "mean        0.598018 -907386.217597  9.451737e+06 -2.844270e+05   \n",
       "std         0.490299  289894.342744  2.193961e+06  4.518136e+05   \n",
       "min         0.000000 -999999.999000  0.000000e+00 -1.000000e+06   \n",
       "25%         0.000000 -999999.999000  9.941050e+06 -1.000000e+06   \n",
       "50%         1.000000 -999999.999000  9.977663e+06  1.000000e+00   \n",
       "75%         1.000000 -999999.999000  1.000029e+07  3.000000e+00   \n",
       "max         1.000000    1112.000000  1.004256e+07  1.000000e+07   \n",
       "\n",
       "         flag_number   flag_species  \n",
       "count  227433.000000  227433.000000  \n",
       "mean        0.294816       0.130324  \n",
       "std         0.467089       0.336660  \n",
       "min         0.000000       0.000000  \n",
       "25%         0.000000       0.000000  \n",
       "50%         0.000000       0.000000  \n",
       "75%         1.000000       0.000000  \n",
       "max         2.000000       1.000000  "
      ]
     },
     "execution_count": 6,
     "metadata": {},
     "output_type": "execute_result"
    }
   ],
   "source": [
    "JNorth1996_2020_df.describe()"
   ]
  },
  {
   "cell_type": "code",
   "execution_count": 7,
   "id": "ae151166",
   "metadata": {},
   "outputs": [
    {
     "data": {
      "text/plain": [
       "['id',\n",
       " 'sighting_date',\n",
       " 'species',\n",
       " 'number',\n",
       " 'latitude',\n",
       " 'longitude',\n",
       " 'flag_location',\n",
       " 'comments',\n",
       " 'school',\n",
       " 'grade',\n",
       " 'image_url',\n",
       " 'customerid',\n",
       " 'number_old',\n",
       " 'flag_number',\n",
       " 'species_old',\n",
       " 'flag_species']"
      ]
     },
     "execution_count": 7,
     "metadata": {},
     "output_type": "execute_result"
    }
   ],
   "source": [
    "JNorth1996_2020_df.columns.tolist()"
   ]
  },
  {
   "cell_type": "code",
   "execution_count": 8,
   "id": "d3e4c845",
   "metadata": {},
   "outputs": [
    {
     "data": {
      "text/plain": [
       "(227433, 16)"
      ]
     },
     "execution_count": 8,
     "metadata": {},
     "output_type": "execute_result"
    }
   ],
   "source": [
    "JNorth1996_2020_df.shape"
   ]
  },
  {
   "cell_type": "code",
   "execution_count": 9,
   "id": "22e5d83e",
   "metadata": {},
   "outputs": [
    {
     "name": "stdout",
     "output_type": "stream",
     "text": [
      "[ 850841703  851824801  854409931 ... 1526524404 1526524405 1526525021]\n",
      "['1996-12-16' '1996-12-06' '1996-09-21' ... '2020-12-29' '2020-12-30'\n",
      " '2020-12-31']\n",
      "['Monarch Adult Sighted' 'Monarch Adult (FIRST sighted)'\n",
      " 'Monarch Egg (FIRST sighted)' 'Monarch (OTHER Observations)'\n",
      " 'Monarch Larva (FIRST sighted)' 'Monarch PEAK Migration'\n",
      " 'Milkweed (FIRST sighted)' 'Monarch Fall Roost' 'Monarch Egg Sighted'\n",
      " 'Monarch Larva Sighted' 'Monarch, Captive-Reared' 'Milkweed Sighted']\n",
      "[       1      150       20       89       30     2000       50     7500\n",
      "       23      200        5      300        4      100       71      120\n",
      "      325       21       28     5000    20000       36       25        6\n",
      "       54     1000      160       24       60       37        2     3000\n",
      "  1000000       10  2000000       40       85       65       15        8\n",
      "      500       14      112       75       80    15000       18    10000\n",
      "      912   100000      400      800       12       35      600       16\n",
      "    25000     1500     1117       70        3      463       45       72\n",
      "      250      182       56       26    30000     2500     8000      750\n",
      "      700       46      556       34      275       53       22      650\n",
      "      210      224     1100      240   200000      900     1200        7\n",
      "       13      115       11       19      810       66       43      510\n",
      "        9       62       27      290      104       44      440      202\n",
      "       55      180       17      140      269       61      142      175\n",
      "       41      123       32       76       31      195      125       29\n",
      "      164      109      119      105     4000       69      360       88\n",
      "       58      239       48      310      117       52      261       90\n",
      "      135      296      211       39       51      102     7001      127\n",
      "       49       47       33     1300       42      101     5075     1520\n",
      "      170       81      190       38      110      558      381      228\n",
      "      248       86       74      172      230      420     2806       94\n",
      "       92      118      425     5400     6300       68       79    50000\n",
      "     2300     7000       84      128       57      350       83      124\n",
      "      114      450      147      501       87       77      197      840\n",
      "    13460     3500       64       73      178      265      151      133\n",
      "      121      477       59       97      850      130      165       95\n",
      "      383       98      729      222      116      225       63     6000\n",
      "      475    34000    13420    21329    12073    16244    30293    11082\n",
      "       78      214      113      108      280      212      138      285\n",
      "      229      216      720      206      606      287      107      134\n",
      "      157      540 10000000      220      103      270       82      139\n",
      "      318       93       67      181      122      158      156      232\n",
      "      106      155     2400      667     1286      179      349      207\n",
      "      505      132      154     1400    32914    29804    18128    15890\n",
      "     7750     8531     7333     7783      173      213      126      378\n",
      "      417      481      780     4800      625      208      205      145\n",
      "      260      193      144      227      305      831      289      246\n",
      "      404      152       96      373      855     1800      519      215\n",
      "      441      337    23800      218      340      231     2100      550\n",
      "     4500      320     9000    12000      324      461      184      570\n",
      "      444      620    11000      870      478      252      447      247\n",
      "      281      980    28073    13492    12864    11472    10200      301\n",
      "      111      259      171      141      256      186      174      198\n",
      "      479      187      223      474      203      278      153      257\n",
      "      520      185     3200      375      258      136    70000    60200\n",
      "    48000    17800      264    19755    17100    12189    13375      233\n",
      "      204      192      131       -1      129      149      -17      460\n",
      "      382      137      143      445       91     1700      330      254\n",
      "      429      813     2200      316     2600      696      291      255\n",
      "      286      543      183      251      362      226      453     1080\n",
      "      860      315      332      244     1351    35000     1503     1125\n",
      "      725     1482      593     2079    12284    19741    12360    10099\n",
      "      587    19000   500000      189      671      713     1016      176\n",
      "      345      219      234      249      409      418    16000     3900\n",
      "      169     7200      272      284      653      428      348      777\n",
      "      253       99      201     1516      335      359      356      875\n",
      "      560      177      525      686     1380      276   999999    12620\n",
      "     6500     5850      188     2960      480      385      827      323\n",
      "      148     1012      465      196      162      238      446      313\n",
      "     2385      307      263      357      163      495     1001      541\n",
      "      733      167     3600      457     5700     1650     1120     3553\n",
      "      995     1600     1390      614     7600     8250      314     1580\n",
      "      221     1620      470      759      267      960     1301      566\n",
      "      342      880      782      241      514     2250     2470      925\n",
      "      403      166     6769      146     2469      209      279      868\n",
      "      585      311      683      354      308      760      387      563\n",
      "      801      536      161      397      322      613      191     1750\n",
      "      199      516      321     1850      277      297     4750      370\n",
      "      489     1149      268     2816      789      430      978      770\n",
      "      493      716      159]\n",
      "[27.594 30.42  40.817 ... 30.139 35.008 54.968]\n",
      "[ -81.362  -87.224  -96.71  ... -118.107 -119.132 -108.727]\n",
      "[0 1]\n",
      "['On the ballfield a solitary monarch butterfly flew across the field in a south-west direction at approximately 1:30 pm.'\n",
      " 'Our 5th grade Discovery students who went along on an overnight field trip to Ft. Pickens, Florida, noticed that there were monarch butterflies all over the grounds of the fort the day they were there (Dec. 6,1996).'\n",
      " 'We saw several hundred monarchs in our school butterfly garden,  sipping nectar from the New England asters and zinnias.'\n",
      " ...\n",
      " \"There have been at least three Monarchs in my yard this year. I know it's at least three, because I often see all of them at once. But there may be more. I have lived here for 35 years, and an additional 23 years just a mile-and-a-half down the road. This is the first time in decades that I've had Monarchs in my yard, and I've been very excited that they're coming back. I'm hoping to see more in the future. \"\n",
      " 'One larva seen.'\n",
      " 'Date of last adult sighted.Total sightings were 98 adults from June 3 to Sept. 4.Peak sightings were July 8 to Aug 7.Approx. acreage with milkweed is equal to 4.5Ac. ']\n",
      "['Walker memorial junior academy' 'Hambrick elementary school'\n",
      " '-999999.999' ... 'Homosassa springs wildlife state park'\n",
      " 'Director, virginia master naturalist program' -999999.999]\n",
      "[ 1.00000000e+01  5.00000000e+00  6.00000000e+00  3.00000000e+00\n",
      "  9.00000000e+00 -9.99999999e+05  7.00000000e+00  2.00000000e+00\n",
      "  8.00000000e+00  9.90000000e+01  4.00000000e+00  1.00000000e+00\n",
      "  1.20000000e+01  1.10000000e+01  0.00000000e+00  3.40000000e+01\n",
      "  2.50000000e+01  4.60000000e+01  6.80000000e+01  1.50000000e+01\n",
      "  9.50000000e+01  3.60000000e+01  1.80000000e+01  2.30000000e+01\n",
      "  1.40000000e+01  4.50000000e+01  9.12000000e+02  2.40000000e+01\n",
      "  6.90000000e+01  5.60000000e+01  7.12000000e+02  6.78000000e+02\n",
      "  1.12000000e+02  4.90000000e+01  7.80000000e+01  6.70000000e+01\n",
      "  1.30000000e+01  4.56000000e+02  1.90000000e+01  6.12000000e+02\n",
      "  1.11200000e+03  1.60000000e+01  1.01200000e+03  3.80000000e+01\n",
      "  6.30000000e+01  2.70000000e+01  1.00000000e+02  9.10000000e+02\n",
      "  6.20000000e+01  3.11000000e+02  5.80000000e+01  1.70000000e+01\n",
      "  2.10000000e+01  2.80000000e+01  7.10000000e+01  3.45000000e+02\n",
      "  1.19000000e+02  3.50000000e+01  4.20000000e+01  6.50000000e+01\n",
      "  5.00000000e+01  4.12000000e+02  7.90000000e+01  2.00000000e+01\n",
      "  7.11000000e+02  5.30000000e+01  1.35000000e+02]\n",
      "['-999999.999'\n",
      " 'https://journeynorth.org/jnorth/images/userfiles2013/1193346010.jpg'\n",
      " 'https://www.learner.org/jnorth/images/userfiles/1317067653.jpg' ...\n",
      " '//journeynorth.org/jnorth/images/userfiles2021/05/1526513089.jpg'\n",
      " '//journeynorth.org/jnorth/images/userfiles2021/05/1526513090.jpg'\n",
      " '//journeynorth.org/jnorth/images/userfiles2021/06/1526524404.jpg']\n",
      "[     135      150  9701054 ... 10042506 10042509 10042557]\n",
      "[-9.99999999e+05  0.00000000e+00  1.50000000e+02  2.00000000e+01\n",
      "  8.90000000e+01  3.00000000e+01  2.00000000e+03  5.00000000e+01\n",
      "  7.50000000e+03  2.30000000e+01  2.00000000e+02  5.00000000e+00\n",
      "  3.00000000e+02  4.00000000e+00  1.00000000e+02  7.10000000e+01\n",
      "  1.20000000e+02  3.25000000e+02  2.10000000e+01  2.80000000e+01\n",
      "  5.00000000e+03  2.00000000e+04  3.60000000e+01  2.50000000e+01\n",
      "  6.00000000e+00  5.40000000e+01  1.00000000e+03  1.60000000e+02\n",
      "  2.40000000e+01  6.00000000e+01  3.70000000e+01  2.00000000e+00\n",
      "  3.00000000e+03  1.00000000e+06  1.00000000e+01  1.00000000e+00\n",
      "  2.00000000e+06  4.00000000e+01  8.50000000e+01  6.50000000e+01\n",
      "  1.50000000e+01  8.00000000e+00  5.00000000e+02  1.40000000e+01\n",
      "  1.12000000e+02  7.50000000e+01  8.00000000e+01  1.50000000e+04\n",
      "  1.80000000e+01  1.00000000e+04  9.12000000e+02  1.00000000e+05\n",
      "  4.00000000e+02  8.00000000e+02  1.20000000e+01  3.50000000e+01\n",
      "  6.00000000e+02  1.60000000e+01  2.50000000e+04  1.50000000e+03\n",
      "  1.11700000e+03  7.00000000e+01  3.00000000e+00  4.63000000e+02\n",
      "  4.50000000e+01  7.20000000e+01  2.50000000e+02  1.82000000e+02\n",
      "  5.60000000e+01  2.60000000e+01  3.00000000e+04  2.50000000e+03\n",
      "  8.00000000e+03  7.50000000e+02  7.00000000e+02  4.60000000e+01\n",
      "  5.56000000e+02  3.40000000e+01  2.75000000e+02  5.30000000e+01\n",
      "  2.20000000e+01  6.50000000e+02  2.10000000e+02  2.24000000e+02\n",
      "  1.10000000e+03  2.40000000e+02  2.00000000e+05  9.00000000e+02\n",
      "  1.20000000e+03  7.00000000e+00  1.30000000e+01  1.15000000e+02\n",
      "  1.10000000e+01  1.90000000e+01  8.10000000e+02  6.60000000e+01\n",
      "  4.30000000e+01  5.10000000e+02  9.00000000e+00  6.20000000e+01\n",
      "  2.70000000e+01  2.90000000e+02  1.04000000e+02  4.40000000e+01\n",
      "  4.40000000e+02  2.02000000e+02  5.50000000e+01  1.80000000e+02\n",
      "  1.70000000e+01  1.40000000e+02  2.69000000e+02  6.10000000e+01\n",
      "  1.42000000e+02  1.75000000e+02  4.10000000e+01  1.23000000e+02\n",
      "  3.20000000e+01  7.60000000e+01  3.10000000e+01  1.95000000e+02\n",
      "  1.25000000e+02  2.90000000e+01  1.64000000e+02  1.09000000e+02\n",
      "  1.19000000e+02  1.05000000e+02  4.00000000e+03  6.90000000e+01\n",
      "  3.60000000e+02  8.80000000e+01  5.80000000e+01  2.39000000e+02\n",
      "  4.80000000e+01  3.10000000e+02  1.17000000e+02  5.20000000e+01\n",
      "  2.61000000e+02  9.00000000e+01  1.35000000e+02  2.96000000e+02\n",
      "  2.11000000e+02  3.90000000e+01  5.10000000e+01  1.02000000e+02\n",
      "  7.00100000e+03  1.27000000e+02  4.90000000e+01  4.70000000e+01\n",
      "  3.30000000e+01  1.30000000e+03  4.20000000e+01  1.01000000e+02\n",
      "  5.07500000e+03  1.52000000e+03  1.70000000e+02  8.10000000e+01\n",
      "  1.90000000e+02  3.80000000e+01  1.10000000e+02  5.58000000e+02\n",
      "  3.81000000e+02  2.28000000e+02  2.48000000e+02  8.60000000e+01\n",
      "  7.40000000e+01  1.72000000e+02  2.30000000e+02  4.20000000e+02\n",
      "  2.80600000e+03  9.40000000e+01  9.20000000e+01  1.18000000e+02\n",
      "  4.25000000e+02  5.40000000e+03  6.30000000e+03  6.80000000e+01\n",
      "  7.90000000e+01  5.00000000e+04  2.30000000e+03  7.00000000e+03\n",
      "  8.40000000e+01  1.28000000e+02  5.70000000e+01  3.50000000e+02\n",
      "  8.30000000e+01  1.24000000e+02  1.14000000e+02  4.50000000e+02\n",
      "  1.47000000e+02  5.01000000e+02  8.70000000e+01  7.70000000e+01\n",
      "  1.97000000e+02  8.40000000e+02  1.34600000e+04  3.50000000e+03\n",
      "  6.40000000e+01  7.30000000e+01  1.78000000e+02  2.65000000e+02\n",
      "  1.51000000e+02  1.33000000e+02  1.21000000e+02  4.77000000e+02\n",
      "  5.90000000e+01  9.70000000e+01  8.50000000e+02  1.30000000e+02\n",
      "  1.65000000e+02  9.50000000e+01  3.83000000e+02  9.80000000e+01\n",
      "  7.29000000e+02  2.22000000e+02  1.16000000e+02  2.25000000e+02\n",
      "  6.30000000e+01  6.00000000e+03  4.75000000e+02  3.40000000e+04\n",
      "  1.34200000e+04  2.13290000e+04  1.20730000e+04  1.62440000e+04\n",
      "  3.02930000e+04  1.10820000e+04  7.80000000e+01  2.14000000e+02\n",
      "  1.13000000e+02  1.08000000e+02  2.80000000e+02  2.12000000e+02\n",
      "  1.38000000e+02  2.85000000e+02  2.29000000e+02  2.16000000e+02\n",
      "  7.20000000e+02  2.06000000e+02  6.06000000e+02  2.87000000e+02\n",
      "  1.07000000e+02  1.34000000e+02  1.57000000e+02  5.40000000e+02\n",
      "  1.00000000e+07  2.20000000e+02  1.03000000e+02  2.70000000e+02\n",
      "  8.20000000e+01  1.39000000e+02  3.18000000e+02  9.30000000e+01\n",
      "  6.70000000e+01  1.81000000e+02  1.22000000e+02  1.58000000e+02\n",
      "  1.56000000e+02  2.32000000e+02  1.06000000e+02  1.55000000e+02\n",
      "  2.40000000e+03  6.67000000e+02  1.28600000e+03  1.79000000e+02\n",
      "  3.49000000e+02  2.07000000e+02  5.05000000e+02  1.32000000e+02\n",
      "  1.54000000e+02  1.40000000e+03  3.29140000e+04  2.98040000e+04\n",
      "  1.81280000e+04  1.58900000e+04  7.75000000e+03  8.53100000e+03\n",
      "  7.33300000e+03  7.78300000e+03  1.73000000e+02  2.13000000e+02\n",
      "  1.26000000e+02  3.78000000e+02  4.17000000e+02  4.81000000e+02\n",
      "  7.80000000e+02  4.80000000e+03  6.25000000e+02  2.08000000e+02\n",
      "  2.05000000e+02  1.45000000e+02  2.60000000e+02  1.93000000e+02\n",
      "  1.44000000e+02  2.27000000e+02  3.05000000e+02  8.31000000e+02\n",
      "  2.89000000e+02  2.46000000e+02  4.04000000e+02  1.52000000e+02\n",
      "  9.60000000e+01  3.73000000e+02  8.55000000e+02  1.80000000e+03\n",
      "  5.19000000e+02  2.15000000e+02  4.41000000e+02  3.37000000e+02\n",
      "  2.38000000e+04  2.18000000e+02  3.40000000e+02  2.31000000e+02\n",
      "  2.10000000e+03  5.50000000e+02  4.50000000e+03  3.20000000e+02\n",
      "  9.00000000e+03  1.20000000e+04  3.24000000e+02  4.61000000e+02\n",
      "  1.84000000e+02  5.70000000e+02  4.44000000e+02  6.20000000e+02\n",
      "  1.10000000e+04  8.70000000e+02  4.78000000e+02  2.52000000e+02\n",
      "  4.47000000e+02  2.47000000e+02  2.81000000e+02  9.80000000e+02\n",
      "  2.80730000e+04  1.34920000e+04  1.28640000e+04  1.14720000e+04\n",
      "  1.02000000e+04  3.01000000e+02  1.11000000e+02  2.59000000e+02\n",
      "  1.71000000e+02  1.41000000e+02  2.56000000e+02  1.86000000e+02\n",
      "  1.74000000e+02  1.98000000e+02  4.79000000e+02  1.87000000e+02\n",
      "  2.23000000e+02  4.74000000e+02  2.03000000e+02  2.78000000e+02\n",
      "  1.53000000e+02  2.57000000e+02  5.20000000e+02  1.85000000e+02\n",
      "  3.20000000e+03  3.75000000e+02  2.58000000e+02  1.36000000e+02\n",
      "  7.00000000e+04  6.02000000e+04  4.80000000e+04  1.78000000e+04\n",
      "  2.64000000e+02  1.97550000e+04  1.71000000e+04  1.21890000e+04\n",
      "  1.33750000e+04  2.33000000e+02  2.04000000e+02  1.92000000e+02\n",
      "  1.31000000e+02 -1.00000000e+00  1.29000000e+02  1.49000000e+02\n",
      " -1.70000000e+01  4.60000000e+02  3.82000000e+02  1.37000000e+02\n",
      "  1.43000000e+02  4.45000000e+02  9.10000000e+01  1.70000000e+03\n",
      "  3.30000000e+02  2.54000000e+02  4.29000000e+02  8.13000000e+02\n",
      "  2.20000000e+03  3.16000000e+02  2.60000000e+03  6.96000000e+02\n",
      "  2.91000000e+02  2.55000000e+02  2.86000000e+02  5.43000000e+02\n",
      "  1.83000000e+02  2.51000000e+02  3.62000000e+02  2.26000000e+02\n",
      "  4.53000000e+02  1.08000000e+03  8.60000000e+02  3.15000000e+02\n",
      "  3.32000000e+02  2.44000000e+02  1.35100000e+03  3.50000000e+04\n",
      "  1.50300000e+03  1.12500000e+03  7.25000000e+02  1.48200000e+03\n",
      "  5.93000000e+02  2.07900000e+03  1.22840000e+04  1.97410000e+04\n",
      "  1.23600000e+04  1.00990000e+04  5.87000000e+02  1.90000000e+04\n",
      "  5.00000000e+05  1.89000000e+02  6.71000000e+02  7.13000000e+02\n",
      "  1.01600000e+03  1.76000000e+02  3.45000000e+02  2.19000000e+02\n",
      "  2.34000000e+02  2.49000000e+02  4.09000000e+02  4.18000000e+02\n",
      "  1.60000000e+04  3.90000000e+03  1.69000000e+02  7.20000000e+03\n",
      "  2.72000000e+02  2.84000000e+02  6.53000000e+02  4.28000000e+02\n",
      "  3.48000000e+02  7.77000000e+02  2.53000000e+02  9.90000000e+01\n",
      "  2.01000000e+02  1.51600000e+03  3.35000000e+02  3.59000000e+02\n",
      "  3.56000000e+02  8.75000000e+02  5.60000000e+02  1.77000000e+02\n",
      "  5.25000000e+02  6.86000000e+02  1.38000000e+03  2.76000000e+02\n",
      "  9.99999000e+05  1.26200000e+04  6.50000000e+03  5.85000000e+03\n",
      "  1.88000000e+02  2.96000000e+03  4.80000000e+02  3.85000000e+02\n",
      "  8.27000000e+02  3.23000000e+02  1.48000000e+02  1.01200000e+03\n",
      "  4.65000000e+02  1.96000000e+02  1.62000000e+02  2.38000000e+02\n",
      "  4.46000000e+02  3.13000000e+02  2.38500000e+03  3.07000000e+02\n",
      "  2.63000000e+02  3.57000000e+02  1.63000000e+02  4.95000000e+02\n",
      "  1.00100000e+03  5.41000000e+02  7.33000000e+02  1.67000000e+02\n",
      "  3.60000000e+03  4.57000000e+02  5.70000000e+03  1.65000000e+03\n",
      "  1.12000000e+03  3.55300000e+03  9.95000000e+02  1.60000000e+03\n",
      "  1.39000000e+03  6.14000000e+02  7.60000000e+03  8.25000000e+03\n",
      "  3.14000000e+02  1.58000000e+03  2.21000000e+02  1.62000000e+03\n",
      "  4.70000000e+02  7.59000000e+02  2.67000000e+02  9.60000000e+02\n",
      "  1.30100000e+03  5.66000000e+02  3.42000000e+02  8.80000000e+02\n",
      "  7.82000000e+02  2.41000000e+02  5.14000000e+02  2.25000000e+03\n",
      "  2.47000000e+03  9.25000000e+02  4.03000000e+02  1.66000000e+02\n",
      "  6.76900000e+03  1.46000000e+02  2.46900000e+03  2.09000000e+02\n",
      "  2.79000000e+02  8.68000000e+02  5.85000000e+02  3.11000000e+02\n",
      "  6.83000000e+02  3.54000000e+02  3.08000000e+02  7.60000000e+02\n",
      "  3.87000000e+02  5.63000000e+02  8.01000000e+02  5.36000000e+02\n",
      "  1.61000000e+02  3.97000000e+02  3.22000000e+02  6.13000000e+02\n",
      "  1.91000000e+02  1.75000000e+03  1.99000000e+02  5.16000000e+02\n",
      "  3.21000000e+02  1.85000000e+03  2.77000000e+02  2.97000000e+02\n",
      "  4.75000000e+03  3.70000000e+02  4.89000000e+02  1.14900000e+03\n",
      "  2.68000000e+02  2.81600000e+03  7.89000000e+02  4.30000000e+02\n",
      "  9.78000000e+02  7.70000000e+02  4.93000000e+02  7.16000000e+02\n",
      "  1.59000000e+02]\n",
      "[1 2 0]\n",
      "['Monarch Butterfly' 'Monarch Migration' 'FIRST Monarch Butterfly'\n",
      " 'FIRST Monarch Egg' 'First Monarch' 'FIRST Monarch' 'LAST Fall Monarch'\n",
      " 'Monarch (OTHER observations)' 'Monarch (FIRST sighting)'\n",
      " 'Monarch (FIRST seen)' 'Monarch (Other Sightings)'\n",
      " 'Monarch (OTHER observation)' 'Monarch (OTHER Observation)'\n",
      " 'Monarch Migration Sighting' 'Monarch (OTHER Observations)'\n",
      " 'Monarch Migration Study' 'LAST Fall Monarch Sighted'\n",
      " ' LAST Fall Monarch Sighted' 'LAST Fall Monarch Migration'\n",
      " 'Monarch (OTHER oservations)' 'Monarch (LAST sighting)'\n",
      " 'Monarch Larva (FIRST sighted)' 'Monarch Egg (FIRST sighted)'\n",
      " 'Monarch Adult (FIRST sighted)' 'Monarch Adult (FIRST Sighted)'\n",
      " 'Monarch PEAK Migration' 'LAST Fall Monarch Sighting'\n",
      " 'Monarchs OTHER (Observation)' '(Monarch) Milkweed emerges'\n",
      " 'Monarch FIRST Migration Sighting' 'Monarch peak Migration'\n",
      " 'Monarch (OTHER) Observations' 'Milkweed (FIRST Leaves)'\n",
      " 'Monarch Over-wintering' 'Monarch Adult  (FIRST sighted)'\n",
      " 'Monarchs (OTHER observations)' 'Monarch (IOTHER observations)'\n",
      " 'Monarch Fall Roost' 'Monarch ADULT' 'Monarch Larva (FIRST Sighted)'\n",
      " 'Monarch (OTHER Observations' 'Monarch Peak Migration'\n",
      " 'Monarch over-wintering' 'Monarch  Adult (FIRST sighted)'\n",
      " 'Monarch (Other Observations)' 'Monarch FIRST Adult'\n",
      " 'Monarch Adult (First sighted)' 'Monarch (Other observations)'\n",
      " 'Monarch Migration Sighting OW' 'Monarch (FIRST sighted)'\n",
      " 'Monarch (NONE sighted)' 'Monarch Fall Roost (None yet)'\n",
      " 'Monarch Adult Sighted' 'Monarch Sighting' 'Monarch (Other Observations'\n",
      " 'Monarch Winter Sighting' 'Monarch Sighted' 'Monarch Egg Sighted'\n",
      " 'Monarch Larva Sighted' 'Monarch OTHER Observations'\n",
      " 'monarch (OTHER Observations)' 'Monarch Egg (FIRST Sighted)'\n",
      " 'Monarch OW Mexico' 'Monarch Adult  Sighted'\n",
      " 'Monarch (OTHER Observations) READY' 'Monarch Adult (FIRST sighted))'\n",
      " 'Monarch, Captive-Reared' 'Monarch Fall Roost (waiting for permission)'\n",
      " 'Milkweed Sighted' 'Milkweed (FIRST sighted)' 'Milkweed (FIRST Sighted)'\n",
      " 'Milkweed sighted' 'Monarch, Captive Reared'\n",
      " 'Monarch Egg (FIRST sighted)ghted)'\n",
      " 'Monarch Adult (FIRST sighted)T sighted)'\n",
      " 'Monarch Adult (FIRST sighted)sighted)' 'Monarch (Captive Reared)ed)'\n",
      " 'Monarch (Captive Reared)' 'Monarch (OTHER Observations)ations)'\n",
      " 'Monarch Larva Sighted ' 'Monarch Fall Roost ' 'Monarch Egg Sighted '\n",
      " 'Monarch, captive-Reared' 'MOnarch Larva Sighted'\n",
      " 'Monarch Adult Sighted ' 'Monarch adult Sighted' 'Monarch Adult SIghted'\n",
      " 'Monarch Adult (FIRST sighted) ' 'Monarchch Adult Sighted'\n",
      " 'Monarch egg Sighted' 'Monarch larva Sighted' 'Monarch , Captive-Raised'\n",
      " 'Monarch, Captive' 'Monarch,' 'Monarch Adult sighted'\n",
      " 'Monarch, Captive-reared']\n",
      "[1 0]\n"
     ]
    }
   ],
   "source": [
    "# Determine the number of unique values in each column.\n",
    "for col in JNorth1996_2020_df:\n",
    "  print(JNorth1996_2020_df[col].unique())"
   ]
  },
  {
   "cell_type": "code",
   "execution_count": 10,
   "id": "5c015895",
   "metadata": {},
   "outputs": [
    {
     "name": "stdout",
     "output_type": "stream",
     "text": [
      "850841703     1\n",
      "1526350827    1\n",
      "1526350816    1\n",
      "1526350817    1\n",
      "1526350818    1\n",
      "             ..\n",
      "1432512422    1\n",
      "1432519704    1\n",
      "1432562236    1\n",
      "1432562641    1\n",
      "1526525021    1\n",
      "Name: id, Length: 227433, dtype: int64\n",
      "2018-08-22    392\n",
      "2018-10-03    377\n",
      "2018-09-06    353\n",
      "2019-09-19    337\n",
      "2018-09-12    335\n",
      "             ... \n",
      "2015-12-31      1\n",
      "2015-11-24      1\n",
      "2015-11-22      1\n",
      "2006-07-30      1\n",
      "1996-12-16      1\n",
      "Name: sighting_date, Length: 7491, dtype: int64\n",
      "Monarch Adult Sighted            102306\n",
      "Monarch Adult (FIRST sighted)     36409\n",
      "Monarch Larva Sighted             17378\n",
      "Monarch, Captive-Reared           14339\n",
      "Monarch (OTHER Observations)      13581\n",
      "Monarch Egg Sighted                8736\n",
      "Milkweed (FIRST sighted)           8465\n",
      "Monarch PEAK Migration             7689\n",
      "Monarch Egg (FIRST sighted)        6876\n",
      "Monarch Fall Roost                 5035\n",
      "Monarch Larva (FIRST sighted)      4898\n",
      "Milkweed Sighted                   1721\n",
      "Name: species, dtype: int64\n",
      "1       139319\n",
      "2        24169\n",
      "3        13055\n",
      "4         7795\n",
      "5         6118\n",
      "         ...  \n",
      "860          1\n",
      "315          1\n",
      "244          1\n",
      "1351         1\n",
      "159          1\n",
      "Name: number, Length: 555, dtype: int64\n",
      "29.757    811\n",
      "30.230    765\n",
      "45.033    702\n",
      "37.944    700\n",
      "42.409    659\n",
      "         ... \n",
      "30.770      1\n",
      "38.355      1\n",
      "33.305      1\n",
      "29.930      1\n",
      "27.594      1\n",
      "Name: latitude, Length: 18851, dtype: int64\n",
      "-95.365     807\n",
      "-97.714     752\n",
      "-87.405     695\n",
      "-93.224     620\n",
      "-82.220     605\n",
      "           ... \n",
      "-77.529       1\n",
      "-69.400       1\n",
      "-101.051      1\n",
      "-69.254       1\n",
      "-122.557      1\n",
      "Name: longitude, Length: 30123, dtype: int64\n",
      "1    136009\n",
      "0     91424\n",
      "Name: flag_location, dtype: int64\n",
      "-999999.999                                                                                                                                                               1427\n",
      "Female                                                                                                                                                                     170\n",
      "Flying                                                                                                                                                                     144\n",
      "Male                                                                                                                                                                       118\n",
      "Recorded as an incidental sighting while conducting surveys on the Fort Hood military base.                                                                                104\n",
      "                                                                                                                                                                          ... \n",
      "first female sighting around 3 pm in richmond-laid egg on common milkweed.  Warm sw wind -monarch looked fresh                                                               1\n",
      "Spotted our first milkweed shoots in our butterfly garden at Lake Anne Elementary this afternoon after the first weekend with warmer temperatures.                           1\n",
      "Spotted 1 adult near Love Valley Wildlife Reserve near the Red River.                                                                                                        1\n",
      "Established Asclepias syriaca L. plants in open area have emerged approximately 1 inch in height one day after 0.7\" rainfall.                                                1\n",
      "Date of last adult sighted.Total sightings were 98 adults from June 3 to Sept. 4.Peak sightings were July 8 to Aug 7.Approx. acreage with milkweed is equal to 4.5Ac.        1\n",
      "Name: comments, Length: 212736, dtype: int64\n",
      "-999999.999                            139036\n",
      "-999999.999                             63593\n",
      "None                                      457\n",
      "Homeschool                                331\n",
      "Virginia living museum                    263\n",
      "                                        ...  \n",
      "William e. norris elementary school         1\n",
      "Coventry elementary school                  1\n",
      "Adams is close                              1\n",
      "Salem elementary school                     1\n",
      "Walker memorial junior academy              1\n",
      "Name: school, Length: 6914, dtype: int64\n",
      "-999999.999    206370\n",
      " 99.000          3136\n",
      " 4.000           2947\n",
      " 3.000           2543\n",
      " 2.000           2541\n",
      "                ...  \n",
      " 1012.000           1\n",
      " 678.000            1\n",
      " 69.000             1\n",
      " 95.000             1\n",
      " 135.000            1\n",
      "Name: grade, Length: 67, dtype: int64\n",
      "-999999.999                                                                   183911\n",
      "//sightings.journeynorth.org/jnorth/images/userfiles2018/09/1526362818.jpg         8\n",
      "https://journeynorth.org/jnorth/images/userfiles/1366245309.jpg                    3\n",
      "https://journeynorth.org/jnorth/images/userfiles/1331931236.jpg                    3\n",
      "//journeynorth.org/jnorth/images/userfiles2020/04/1526445894.jpg                   2\n",
      "                                                                               ...  \n",
      "https://journeynorth.org/jnorth/images/userfiles2017/06/1496327046.jpg             1\n",
      "https://journeynorth.org/jnorth/images/userfiles2017/06/1496327055.jpg             1\n",
      "https://journeynorth.org/jnorth/images/userfiles2017/06/1496327056.jpg             1\n",
      "https://journeynorth.org/jnorth/images/userfiles2017/06/1496327063.jpg             1\n",
      "//journeynorth.org/jnorth/images/userfiles2021/06/1526524404.jpg                   1\n",
      "Name: image_url, Length: 43474, dtype: int64\n",
      "9710973     7256\n",
      "9979617     2054\n",
      "9976074     1055\n",
      "9975275      900\n",
      "10010858     757\n",
      "            ... \n",
      "9979243        1\n",
      "9979242        1\n",
      "9979240        1\n",
      "9979216        1\n",
      "10042557       1\n",
      "Name: customerid, Length: 42518, dtype: int64\n",
      " 1.000         73436\n",
      "-999999.999    64715\n",
      " 2.000         24169\n",
      " 3.000         13055\n",
      " 4.000          7795\n",
      "               ...  \n",
      " 445.000           1\n",
      " 1700.000          1\n",
      " 254.000           1\n",
      " 429.000           1\n",
      " 159.000           1\n",
      "Name: number_old, Length: 557, dtype: int64\n",
      "0    161550\n",
      "1     64715\n",
      "2      1168\n",
      "Name: flag_number, dtype: int64\n",
      "Monarch Adult Sighted                          91662\n",
      "Monarch Adult (FIRST sighted)                  25311\n",
      "Monarch Larva Sighted                          17373\n",
      "Monarch, Captive-Reared                        14329\n",
      "Monarch (OTHER Observations)                   10626\n",
      "                                               ...  \n",
      "monarch (OTHER Observations)                       1\n",
      "Monarch (OTHER Observations) READY                 1\n",
      "Monarch Fall Roost (waiting for permission)        1\n",
      "Monarch, Captive Reared                            1\n",
      "Monarch, Captive-reared                            1\n",
      "Name: species_old, Length: 96, dtype: int64\n",
      "0    197793\n",
      "1     29640\n",
      "Name: flag_species, dtype: int64\n"
     ]
    }
   ],
   "source": [
    "# Determine the number of unique values in each column.\n",
    "for col in JNorth1996_2020_df:\n",
    "  print(JNorth1996_2020_df[col].value_counts())"
   ]
  },
  {
   "cell_type": "code",
   "execution_count": 11,
   "id": "df89a73c",
   "metadata": {},
   "outputs": [
    {
     "name": "stdout",
     "output_type": "stream",
     "text": [
      "Column id has 0 null values\n",
      "Column sighting_date has 0 null values\n",
      "Column species has 0 null values\n",
      "Column number has 0 null values\n",
      "Column latitude has 0 null values\n",
      "Column longitude has 0 null values\n",
      "Column flag_location has 0 null values\n",
      "Column comments has 0 null values\n",
      "Column school has 0 null values\n",
      "Column grade has 0 null values\n",
      "Column image_url has 0 null values\n",
      "Column customerid has 0 null values\n",
      "Column number_old has 0 null values\n",
      "Column flag_number has 0 null values\n",
      "Column species_old has 0 null values\n",
      "Column flag_species has 0 null values\n"
     ]
    }
   ],
   "source": [
    "# Find null values\n",
    "for column in JNorth1996_2020_df.columns:\n",
    "   print(f\"Column {column} has {JNorth1996_2020_df[column].isnull().sum()} null values\")"
   ]
  },
  {
   "cell_type": "code",
   "execution_count": 12,
   "id": "f625b64c",
   "metadata": {},
   "outputs": [
    {
     "name": "stdout",
     "output_type": "stream",
     "text": [
      "Duplicate entries: 0\n"
     ]
    }
   ],
   "source": [
    "# Find duplicate entries\n",
    "print(f\"Duplicate entries: {JNorth1996_2020_df.duplicated().sum()}\")"
   ]
  },
  {
   "cell_type": "code",
   "execution_count": 13,
   "id": "324f6253",
   "metadata": {
    "scrolled": true
   },
   "outputs": [
    {
     "data": {
      "text/html": [
       "<div>\n",
       "<style scoped>\n",
       "    .dataframe tbody tr th:only-of-type {\n",
       "        vertical-align: middle;\n",
       "    }\n",
       "\n",
       "    .dataframe tbody tr th {\n",
       "        vertical-align: top;\n",
       "    }\n",
       "\n",
       "    .dataframe thead th {\n",
       "        text-align: right;\n",
       "    }\n",
       "</style>\n",
       "<table border=\"1\" class=\"dataframe\">\n",
       "  <thead>\n",
       "    <tr style=\"text-align: right;\">\n",
       "      <th></th>\n",
       "      <th>id</th>\n",
       "      <th>sighting_date</th>\n",
       "      <th>species</th>\n",
       "      <th>number</th>\n",
       "      <th>latitude</th>\n",
       "      <th>longitude</th>\n",
       "      <th>flag_location</th>\n",
       "      <th>comments</th>\n",
       "      <th>school</th>\n",
       "      <th>grade</th>\n",
       "      <th>image_url</th>\n",
       "      <th>customerid</th>\n",
       "      <th>number_old</th>\n",
       "      <th>flag_number</th>\n",
       "      <th>species_old</th>\n",
       "      <th>flag_species</th>\n",
       "    </tr>\n",
       "  </thead>\n",
       "  <tbody>\n",
       "    <tr>\n",
       "      <th>688</th>\n",
       "      <td>886471649</td>\n",
       "      <td>1998-02-01</td>\n",
       "      <td>Monarch Adult (FIRST sighted)</td>\n",
       "      <td>1</td>\n",
       "      <td>29.957</td>\n",
       "      <td>-90.078</td>\n",
       "      <td>0</td>\n",
       "      <td>We saw 2 butterflies hatch this weekend.  We b...</td>\n",
       "      <td>-999999.999</td>\n",
       "      <td>-999999.999</td>\n",
       "      <td>-999999.999</td>\n",
       "      <td>9704694</td>\n",
       "      <td>-999999.999</td>\n",
       "      <td>1</td>\n",
       "      <td>FIRST Monarch Butterfly</td>\n",
       "      <td>1</td>\n",
       "    </tr>\n",
       "    <tr>\n",
       "      <th>689</th>\n",
       "      <td>887033189</td>\n",
       "      <td>1998-02-08</td>\n",
       "      <td>Monarch Adult (FIRST sighted)</td>\n",
       "      <td>1</td>\n",
       "      <td>30.894</td>\n",
       "      <td>-102.086</td>\n",
       "      <td>0</td>\n",
       "      <td>-999999.999</td>\n",
       "      <td>Iraan elementary</td>\n",
       "      <td>5.000</td>\n",
       "      <td>-999999.999</td>\n",
       "      <td>719</td>\n",
       "      <td>-999999.999</td>\n",
       "      <td>1</td>\n",
       "      <td>FIRST Monarch Butterfly</td>\n",
       "      <td>1</td>\n",
       "    </tr>\n",
       "    <tr>\n",
       "      <th>691</th>\n",
       "      <td>887158601</td>\n",
       "      <td>1998-01-17</td>\n",
       "      <td>Monarch Adult (FIRST sighted)</td>\n",
       "      <td>1</td>\n",
       "      <td>28.529</td>\n",
       "      <td>-96.679</td>\n",
       "      <td>0</td>\n",
       "      <td>Netted and tagged Monarch female laying eggs o...</td>\n",
       "      <td>Victoria christian school</td>\n",
       "      <td>7.000</td>\n",
       "      <td>-999999.999</td>\n",
       "      <td>9704928</td>\n",
       "      <td>-999999.999</td>\n",
       "      <td>1</td>\n",
       "      <td>FIRST Monarch Butterfly</td>\n",
       "      <td>1</td>\n",
       "    </tr>\n",
       "    <tr>\n",
       "      <th>692</th>\n",
       "      <td>887283990</td>\n",
       "      <td>1998-02-12</td>\n",
       "      <td>Monarch Adult (FIRST sighted)</td>\n",
       "      <td>1</td>\n",
       "      <td>28.529</td>\n",
       "      <td>-96.679</td>\n",
       "      <td>0</td>\n",
       "      <td>Have had a few Monarchs overwintering in this ...</td>\n",
       "      <td>Victoria christian school</td>\n",
       "      <td>7.000</td>\n",
       "      <td>-999999.999</td>\n",
       "      <td>9704928</td>\n",
       "      <td>-999999.999</td>\n",
       "      <td>1</td>\n",
       "      <td>FIRST Monarch Butterfly</td>\n",
       "      <td>1</td>\n",
       "    </tr>\n",
       "    <tr>\n",
       "      <th>694</th>\n",
       "      <td>887294257</td>\n",
       "      <td>1997-12-20</td>\n",
       "      <td>Monarch Adult (FIRST sighted)</td>\n",
       "      <td>1</td>\n",
       "      <td>29.757</td>\n",
       "      <td>-95.365</td>\n",
       "      <td>0</td>\n",
       "      <td>Monarch’s have been sighted in backyards with ...</td>\n",
       "      <td>Kinkaid school</td>\n",
       "      <td>8.000</td>\n",
       "      <td>-999999.999</td>\n",
       "      <td>728</td>\n",
       "      <td>-999999.999</td>\n",
       "      <td>1</td>\n",
       "      <td>FIRST Monarch Butterfly</td>\n",
       "      <td>1</td>\n",
       "    </tr>\n",
       "  </tbody>\n",
       "</table>\n",
       "</div>"
      ],
      "text/plain": [
       "            id sighting_date                        species  number  latitude  \\\n",
       "688  886471649    1998-02-01  Monarch Adult (FIRST sighted)       1    29.957   \n",
       "689  887033189    1998-02-08  Monarch Adult (FIRST sighted)       1    30.894   \n",
       "691  887158601    1998-01-17  Monarch Adult (FIRST sighted)       1    28.529   \n",
       "692  887283990    1998-02-12  Monarch Adult (FIRST sighted)       1    28.529   \n",
       "694  887294257    1997-12-20  Monarch Adult (FIRST sighted)       1    29.757   \n",
       "\n",
       "     longitude  flag_location  \\\n",
       "688    -90.078              0   \n",
       "689   -102.086              0   \n",
       "691    -96.679              0   \n",
       "692    -96.679              0   \n",
       "694    -95.365              0   \n",
       "\n",
       "                                              comments  \\\n",
       "688  We saw 2 butterflies hatch this weekend.  We b...   \n",
       "689                                        -999999.999   \n",
       "691  Netted and tagged Monarch female laying eggs o...   \n",
       "692  Have had a few Monarchs overwintering in this ...   \n",
       "694  Monarch’s have been sighted in backyards with ...   \n",
       "\n",
       "                        school       grade    image_url  customerid  \\\n",
       "688                -999999.999 -999999.999  -999999.999     9704694   \n",
       "689           Iraan elementary       5.000  -999999.999         719   \n",
       "691  Victoria christian school       7.000  -999999.999     9704928   \n",
       "692  Victoria christian school       7.000  -999999.999     9704928   \n",
       "694             Kinkaid school       8.000  -999999.999         728   \n",
       "\n",
       "     number_old  flag_number              species_old  flag_species  \n",
       "688 -999999.999            1  FIRST Monarch Butterfly             1  \n",
       "689 -999999.999            1  FIRST Monarch Butterfly             1  \n",
       "691 -999999.999            1  FIRST Monarch Butterfly             1  \n",
       "692 -999999.999            1  FIRST Monarch Butterfly             1  \n",
       "694 -999999.999            1  FIRST Monarch Butterfly             1  "
      ]
     },
     "execution_count": 13,
     "metadata": {},
     "output_type": "execute_result"
    }
   ],
   "source": [
    "# filtering by type of observation (Monarch Adult Sighted)\n",
    "JNorth_Adult_First_Site_df = JNorth1996_2020_df[JNorth1996_2020_df['species']=='Monarch Adult (FIRST sighted)']\n",
    "JNorth_Adult_First_Site_df.head()"
   ]
  },
  {
   "cell_type": "code",
   "execution_count": 14,
   "id": "e5f16410",
   "metadata": {},
   "outputs": [],
   "source": [
    "JNorth_Adult_First_Site_df.to_csv('JNorth_Adult_First_Site.csv', header=True, mode='w' )"
   ]
  },
  {
   "cell_type": "code",
   "execution_count": 15,
   "id": "e2fdaf3f",
   "metadata": {},
   "outputs": [
    {
     "data": {
      "text/plain": [
       "(36409, 16)"
      ]
     },
     "execution_count": 15,
     "metadata": {},
     "output_type": "execute_result"
    }
   ],
   "source": [
    "JNorth_Adult_First_Site_df.shape"
   ]
  },
  {
   "cell_type": "markdown",
   "id": "58d210d2",
   "metadata": {},
   "source": [
    "# Format file for geoJSON "
   ]
  },
  {
   "cell_type": "code",
   "execution_count": 16,
   "id": "6134356f",
   "metadata": {},
   "outputs": [
    {
     "data": {
      "text/html": [
       "<div>\n",
       "<style scoped>\n",
       "    .dataframe tbody tr th:only-of-type {\n",
       "        vertical-align: middle;\n",
       "    }\n",
       "\n",
       "    .dataframe tbody tr th {\n",
       "        vertical-align: top;\n",
       "    }\n",
       "\n",
       "    .dataframe thead th {\n",
       "        text-align: right;\n",
       "    }\n",
       "</style>\n",
       "<table border=\"1\" class=\"dataframe\">\n",
       "  <thead>\n",
       "    <tr style=\"text-align: right;\">\n",
       "      <th></th>\n",
       "      <th>sighting_date</th>\n",
       "      <th>species</th>\n",
       "      <th>number</th>\n",
       "      <th>latitude</th>\n",
       "      <th>longitude</th>\n",
       "    </tr>\n",
       "  </thead>\n",
       "  <tbody>\n",
       "    <tr>\n",
       "      <th>688</th>\n",
       "      <td>1998-02-01</td>\n",
       "      <td>Monarch Adult (FIRST sighted)</td>\n",
       "      <td>1</td>\n",
       "      <td>29.957</td>\n",
       "      <td>-90.078</td>\n",
       "    </tr>\n",
       "    <tr>\n",
       "      <th>689</th>\n",
       "      <td>1998-02-08</td>\n",
       "      <td>Monarch Adult (FIRST sighted)</td>\n",
       "      <td>1</td>\n",
       "      <td>30.894</td>\n",
       "      <td>-102.086</td>\n",
       "    </tr>\n",
       "    <tr>\n",
       "      <th>691</th>\n",
       "      <td>1998-01-17</td>\n",
       "      <td>Monarch Adult (FIRST sighted)</td>\n",
       "      <td>1</td>\n",
       "      <td>28.529</td>\n",
       "      <td>-96.679</td>\n",
       "    </tr>\n",
       "    <tr>\n",
       "      <th>692</th>\n",
       "      <td>1998-02-12</td>\n",
       "      <td>Monarch Adult (FIRST sighted)</td>\n",
       "      <td>1</td>\n",
       "      <td>28.529</td>\n",
       "      <td>-96.679</td>\n",
       "    </tr>\n",
       "    <tr>\n",
       "      <th>694</th>\n",
       "      <td>1997-12-20</td>\n",
       "      <td>Monarch Adult (FIRST sighted)</td>\n",
       "      <td>1</td>\n",
       "      <td>29.757</td>\n",
       "      <td>-95.365</td>\n",
       "    </tr>\n",
       "  </tbody>\n",
       "</table>\n",
       "</div>"
      ],
      "text/plain": [
       "    sighting_date                        species  number  latitude  longitude\n",
       "688    1998-02-01  Monarch Adult (FIRST sighted)       1    29.957    -90.078\n",
       "689    1998-02-08  Monarch Adult (FIRST sighted)       1    30.894   -102.086\n",
       "691    1998-01-17  Monarch Adult (FIRST sighted)       1    28.529    -96.679\n",
       "692    1998-02-12  Monarch Adult (FIRST sighted)       1    28.529    -96.679\n",
       "694    1997-12-20  Monarch Adult (FIRST sighted)       1    29.757    -95.365"
      ]
     },
     "execution_count": 16,
     "metadata": {},
     "output_type": "execute_result"
    }
   ],
   "source": [
    "JNorth_Adult_First_Site_df = pd.DataFrame(JNorth_Adult_First_Site_df)\n",
    "JNorth_Adult_First_Site_df.drop(['id','flag_location', 'comments','school','grade','image_url','customerid','number_old','flag_number','species_old','flag_species'], axis=1, inplace=True)\n",
    "JNorth_Adult_First_Site_df.head()"
   ]
  },
  {
   "cell_type": "code",
   "execution_count": 17,
   "id": "1a6fb766",
   "metadata": {},
   "outputs": [],
   "source": [
    "cols = ['sighting_date', 'species', 'number', 'latitude', 'longitude']"
   ]
  },
  {
   "cell_type": "code",
   "execution_count": 18,
   "id": "7e250a92",
   "metadata": {},
   "outputs": [
    {
     "data": {
      "text/html": [
       "<div>\n",
       "<style scoped>\n",
       "    .dataframe tbody tr th:only-of-type {\n",
       "        vertical-align: middle;\n",
       "    }\n",
       "\n",
       "    .dataframe tbody tr th {\n",
       "        vertical-align: top;\n",
       "    }\n",
       "\n",
       "    .dataframe thead th {\n",
       "        text-align: right;\n",
       "    }\n",
       "</style>\n",
       "<table border=\"1\" class=\"dataframe\">\n",
       "  <thead>\n",
       "    <tr style=\"text-align: right;\">\n",
       "      <th></th>\n",
       "      <th>sighting_date</th>\n",
       "      <th>species</th>\n",
       "      <th>latitude</th>\n",
       "      <th>longitude</th>\n",
       "      <th>number</th>\n",
       "    </tr>\n",
       "  </thead>\n",
       "  <tbody>\n",
       "    <tr>\n",
       "      <th>0</th>\n",
       "      <td>1997-03-01</td>\n",
       "      <td>Monarch Adult (FIRST sighted)</td>\n",
       "      <td>26.220</td>\n",
       "      <td>-98.490</td>\n",
       "      <td>1</td>\n",
       "    </tr>\n",
       "    <tr>\n",
       "      <th>1</th>\n",
       "      <td>1997-03-01</td>\n",
       "      <td>Monarch Adult (FIRST sighted)</td>\n",
       "      <td>29.650</td>\n",
       "      <td>-94.850</td>\n",
       "      <td>1</td>\n",
       "    </tr>\n",
       "    <tr>\n",
       "      <th>2</th>\n",
       "      <td>1997-03-11</td>\n",
       "      <td>Monarch Adult (FIRST sighted)</td>\n",
       "      <td>29.420</td>\n",
       "      <td>-95.350</td>\n",
       "      <td>1</td>\n",
       "    </tr>\n",
       "    <tr>\n",
       "      <th>3</th>\n",
       "      <td>1997-03-16</td>\n",
       "      <td>Monarch Adult (FIRST sighted)</td>\n",
       "      <td>29.635</td>\n",
       "      <td>-95.635</td>\n",
       "      <td>1</td>\n",
       "    </tr>\n",
       "    <tr>\n",
       "      <th>4</th>\n",
       "      <td>1997-03-19</td>\n",
       "      <td>Monarch Adult (FIRST sighted)</td>\n",
       "      <td>29.635</td>\n",
       "      <td>-95.635</td>\n",
       "      <td>1</td>\n",
       "    </tr>\n",
       "  </tbody>\n",
       "</table>\n",
       "</div>"
      ],
      "text/plain": [
       "  sighting_date                        species  latitude  longitude  number\n",
       "0    1997-03-01  Monarch Adult (FIRST sighted)    26.220    -98.490       1\n",
       "1    1997-03-01  Monarch Adult (FIRST sighted)    29.650    -94.850       1\n",
       "2    1997-03-11  Monarch Adult (FIRST sighted)    29.420    -95.350       1\n",
       "3    1997-03-16  Monarch Adult (FIRST sighted)    29.635    -95.635       1\n",
       "4    1997-03-19  Monarch Adult (FIRST sighted)    29.635    -95.635       1"
      ]
     },
     "execution_count": 18,
     "metadata": {},
     "output_type": "execute_result"
    }
   ],
   "source": [
    "JNorth_Adult_First_Site_df =JNorth_Adult_First_Site_df.groupby(['sighting_date', 'species', 'latitude', 'longitude']).sum().reset_index()\n",
    "JNorth_Adult_First_Site_df.head()"
   ]
  },
  {
   "cell_type": "code",
   "execution_count": 19,
   "id": "baed4881",
   "metadata": {},
   "outputs": [
    {
     "data": {
      "text/plain": [
       "['sighting_date', 'species', 'latitude', 'longitude', 'number']"
      ]
     },
     "execution_count": 19,
     "metadata": {},
     "output_type": "execute_result"
    }
   ],
   "source": [
    "JNorth_Adult_First_Site_df.columns.tolist()"
   ]
  },
  {
   "cell_type": "code",
   "execution_count": 20,
   "id": "0414e769",
   "metadata": {},
   "outputs": [
    {
     "data": {
      "text/html": [
       "<div>\n",
       "<style scoped>\n",
       "    .dataframe tbody tr th:only-of-type {\n",
       "        vertical-align: middle;\n",
       "    }\n",
       "\n",
       "    .dataframe tbody tr th {\n",
       "        vertical-align: top;\n",
       "    }\n",
       "\n",
       "    .dataframe thead th {\n",
       "        text-align: right;\n",
       "    }\n",
       "</style>\n",
       "<table border=\"1\" class=\"dataframe\">\n",
       "  <thead>\n",
       "    <tr style=\"text-align: right;\">\n",
       "      <th></th>\n",
       "      <th>sighting_date</th>\n",
       "      <th>species</th>\n",
       "      <th>latitude</th>\n",
       "      <th>longitude</th>\n",
       "      <th>number</th>\n",
       "    </tr>\n",
       "  </thead>\n",
       "  <tbody>\n",
       "    <tr>\n",
       "      <th>0</th>\n",
       "      <td>1997-03-01</td>\n",
       "      <td>Monarch Adult (FIRST sighted)</td>\n",
       "      <td>26.220</td>\n",
       "      <td>-98.490</td>\n",
       "      <td>1</td>\n",
       "    </tr>\n",
       "    <tr>\n",
       "      <th>1</th>\n",
       "      <td>1997-03-01</td>\n",
       "      <td>Monarch Adult (FIRST sighted)</td>\n",
       "      <td>29.650</td>\n",
       "      <td>-94.850</td>\n",
       "      <td>1</td>\n",
       "    </tr>\n",
       "    <tr>\n",
       "      <th>2</th>\n",
       "      <td>1997-03-11</td>\n",
       "      <td>Monarch Adult (FIRST sighted)</td>\n",
       "      <td>29.420</td>\n",
       "      <td>-95.350</td>\n",
       "      <td>1</td>\n",
       "    </tr>\n",
       "    <tr>\n",
       "      <th>3</th>\n",
       "      <td>1997-03-16</td>\n",
       "      <td>Monarch Adult (FIRST sighted)</td>\n",
       "      <td>29.635</td>\n",
       "      <td>-95.635</td>\n",
       "      <td>1</td>\n",
       "    </tr>\n",
       "    <tr>\n",
       "      <th>4</th>\n",
       "      <td>1997-03-19</td>\n",
       "      <td>Monarch Adult (FIRST sighted)</td>\n",
       "      <td>29.635</td>\n",
       "      <td>-95.635</td>\n",
       "      <td>1</td>\n",
       "    </tr>\n",
       "  </tbody>\n",
       "</table>\n",
       "</div>"
      ],
      "text/plain": [
       "  sighting_date                        species  latitude  longitude  number\n",
       "0    1997-03-01  Monarch Adult (FIRST sighted)    26.220    -98.490       1\n",
       "1    1997-03-01  Monarch Adult (FIRST sighted)    29.650    -94.850       1\n",
       "2    1997-03-11  Monarch Adult (FIRST sighted)    29.420    -95.350       1\n",
       "3    1997-03-16  Monarch Adult (FIRST sighted)    29.635    -95.635       1\n",
       "4    1997-03-19  Monarch Adult (FIRST sighted)    29.635    -95.635       1"
      ]
     },
     "execution_count": 20,
     "metadata": {},
     "output_type": "execute_result"
    }
   ],
   "source": [
    "JNorth_Adult_First_Site_df.head()"
   ]
  },
  {
   "cell_type": "code",
   "execution_count": 21,
   "id": "1be947ec",
   "metadata": {},
   "outputs": [
    {
     "data": {
      "text/plain": [
       "(35489, 5)"
      ]
     },
     "execution_count": 21,
     "metadata": {},
     "output_type": "execute_result"
    }
   ],
   "source": [
    "JNorth_Adult_First_Site_df.shape"
   ]
  },
  {
   "cell_type": "code",
   "execution_count": 22,
   "id": "bb6146d3",
   "metadata": {},
   "outputs": [],
   "source": [
    "JNorth_Adult_First_Site_year_df = JNorth_Adult_First_Site_df\n",
    "JNorth_Adult_First_Site_year_df['year'] = pd.DatetimeIndex(JNorth_Adult_First_Site_df['sighting_date']).year"
   ]
  },
  {
   "cell_type": "markdown",
   "id": "fb164498",
   "metadata": {},
   "source": [
    "# 2001"
   ]
  },
  {
   "cell_type": "code",
   "execution_count": 23,
   "id": "213c99b0",
   "metadata": {},
   "outputs": [
    {
     "data": {
      "text/html": [
       "<div>\n",
       "<style scoped>\n",
       "    .dataframe tbody tr th:only-of-type {\n",
       "        vertical-align: middle;\n",
       "    }\n",
       "\n",
       "    .dataframe tbody tr th {\n",
       "        vertical-align: top;\n",
       "    }\n",
       "\n",
       "    .dataframe thead th {\n",
       "        text-align: right;\n",
       "    }\n",
       "</style>\n",
       "<table border=\"1\" class=\"dataframe\">\n",
       "  <thead>\n",
       "    <tr style=\"text-align: right;\">\n",
       "      <th></th>\n",
       "      <th>sighting_date</th>\n",
       "      <th>species</th>\n",
       "      <th>latitude</th>\n",
       "      <th>longitude</th>\n",
       "      <th>number</th>\n",
       "      <th>year</th>\n",
       "    </tr>\n",
       "  </thead>\n",
       "  <tbody>\n",
       "    <tr>\n",
       "      <th>3427</th>\n",
       "      <td>2001-11-16</td>\n",
       "      <td>Monarch Adult (FIRST sighted)</td>\n",
       "      <td>30.449</td>\n",
       "      <td>-91.188</td>\n",
       "      <td>1</td>\n",
       "      <td>2001</td>\n",
       "    </tr>\n",
       "    <tr>\n",
       "      <th>3428</th>\n",
       "      <td>2001-11-25</td>\n",
       "      <td>Monarch Adult (FIRST sighted)</td>\n",
       "      <td>28.529</td>\n",
       "      <td>-96.679</td>\n",
       "      <td>1</td>\n",
       "      <td>2001</td>\n",
       "    </tr>\n",
       "    <tr>\n",
       "      <th>3429</th>\n",
       "      <td>2001-11-28</td>\n",
       "      <td>Monarch Adult (FIRST sighted)</td>\n",
       "      <td>35.742</td>\n",
       "      <td>-91.520</td>\n",
       "      <td>1</td>\n",
       "      <td>2001</td>\n",
       "    </tr>\n",
       "    <tr>\n",
       "      <th>3430</th>\n",
       "      <td>2001-12-03</td>\n",
       "      <td>Monarch Adult (FIRST sighted)</td>\n",
       "      <td>35.742</td>\n",
       "      <td>-91.520</td>\n",
       "      <td>1</td>\n",
       "      <td>2001</td>\n",
       "    </tr>\n",
       "    <tr>\n",
       "      <th>3431</th>\n",
       "      <td>2001-12-20</td>\n",
       "      <td>Monarch Adult (FIRST sighted)</td>\n",
       "      <td>28.529</td>\n",
       "      <td>-96.679</td>\n",
       "      <td>1</td>\n",
       "      <td>2001</td>\n",
       "    </tr>\n",
       "  </tbody>\n",
       "</table>\n",
       "</div>"
      ],
      "text/plain": [
       "     sighting_date                        species  latitude  longitude  \\\n",
       "3427    2001-11-16  Monarch Adult (FIRST sighted)    30.449    -91.188   \n",
       "3428    2001-11-25  Monarch Adult (FIRST sighted)    28.529    -96.679   \n",
       "3429    2001-11-28  Monarch Adult (FIRST sighted)    35.742    -91.520   \n",
       "3430    2001-12-03  Monarch Adult (FIRST sighted)    35.742    -91.520   \n",
       "3431    2001-12-20  Monarch Adult (FIRST sighted)    28.529    -96.679   \n",
       "\n",
       "      number  year  \n",
       "3427       1  2001  \n",
       "3428       1  2001  \n",
       "3429       1  2001  \n",
       "3430       1  2001  \n",
       "3431       1  2001  "
      ]
     },
     "execution_count": 23,
     "metadata": {},
     "output_type": "execute_result"
    }
   ],
   "source": [
    "JNorth_Adult_First_Site_2001_df = JNorth_Adult_First_Site_year_df[JNorth_Adult_First_Site_year_df['year']==2001]\n",
    "JNorth_Adult_First_Site_2001_df.tail()"
   ]
  },
  {
   "cell_type": "code",
   "execution_count": 24,
   "id": "c271bca8",
   "metadata": {},
   "outputs": [
    {
     "data": {
      "text/plain": [
       "(1319, 6)"
      ]
     },
     "execution_count": 24,
     "metadata": {},
     "output_type": "execute_result"
    }
   ],
   "source": [
    "JNorth_Adult_First_Site_2001_df.shape"
   ]
  },
  {
   "cell_type": "code",
   "execution_count": 25,
   "id": "d8efa4c7",
   "metadata": {},
   "outputs": [],
   "source": [
    "JNorth_Adult_First_Site_2001_df = pd.DataFrame(JNorth_Adult_First_Site_2001_df)\n",
    "JNorth_Adult_First_Site_2001_df.drop(['year'], axis=1, inplace=True)"
   ]
  },
  {
   "cell_type": "code",
   "execution_count": 26,
   "id": "ac4b06bf",
   "metadata": {},
   "outputs": [],
   "source": [
    "JNorth_Adult_First_Site_2001_df['month'] = pd.DatetimeIndex(JNorth_Adult_First_Site_2001_df['sighting_date']).month"
   ]
  },
  {
   "cell_type": "markdown",
   "id": "e1e014c5",
   "metadata": {},
   "source": [
    "## January"
   ]
  },
  {
   "cell_type": "code",
   "execution_count": 27,
   "id": "4b51587a",
   "metadata": {},
   "outputs": [
    {
     "data": {
      "text/html": [
       "<div>\n",
       "<style scoped>\n",
       "    .dataframe tbody tr th:only-of-type {\n",
       "        vertical-align: middle;\n",
       "    }\n",
       "\n",
       "    .dataframe tbody tr th {\n",
       "        vertical-align: top;\n",
       "    }\n",
       "\n",
       "    .dataframe thead th {\n",
       "        text-align: right;\n",
       "    }\n",
       "</style>\n",
       "<table border=\"1\" class=\"dataframe\">\n",
       "  <thead>\n",
       "    <tr style=\"text-align: right;\">\n",
       "      <th></th>\n",
       "      <th>sighting_date</th>\n",
       "      <th>species</th>\n",
       "      <th>latitude</th>\n",
       "      <th>longitude</th>\n",
       "      <th>number</th>\n",
       "      <th>month</th>\n",
       "    </tr>\n",
       "  </thead>\n",
       "  <tbody>\n",
       "    <tr>\n",
       "      <th>2114</th>\n",
       "      <td>2001-01-01</td>\n",
       "      <td>Monarch Adult (FIRST sighted)</td>\n",
       "      <td>29.042</td>\n",
       "      <td>-95.467</td>\n",
       "      <td>1</td>\n",
       "      <td>1</td>\n",
       "    </tr>\n",
       "    <tr>\n",
       "      <th>2115</th>\n",
       "      <td>2001-01-01</td>\n",
       "      <td>Monarch Adult (FIRST sighted)</td>\n",
       "      <td>29.385</td>\n",
       "      <td>-95.788</td>\n",
       "      <td>1</td>\n",
       "      <td>1</td>\n",
       "    </tr>\n",
       "    <tr>\n",
       "      <th>2116</th>\n",
       "      <td>2001-01-06</td>\n",
       "      <td>Monarch Adult (FIRST sighted)</td>\n",
       "      <td>26.208</td>\n",
       "      <td>-97.684</td>\n",
       "      <td>1</td>\n",
       "      <td>1</td>\n",
       "    </tr>\n",
       "    <tr>\n",
       "      <th>2117</th>\n",
       "      <td>2001-01-13</td>\n",
       "      <td>Monarch Adult (FIRST sighted)</td>\n",
       "      <td>29.047</td>\n",
       "      <td>-82.046</td>\n",
       "      <td>1</td>\n",
       "      <td>1</td>\n",
       "    </tr>\n",
       "    <tr>\n",
       "      <th>2118</th>\n",
       "      <td>2001-01-22</td>\n",
       "      <td>Monarch Adult (FIRST sighted)</td>\n",
       "      <td>29.957</td>\n",
       "      <td>-90.078</td>\n",
       "      <td>1</td>\n",
       "      <td>1</td>\n",
       "    </tr>\n",
       "  </tbody>\n",
       "</table>\n",
       "</div>"
      ],
      "text/plain": [
       "     sighting_date                        species  latitude  longitude  \\\n",
       "2114    2001-01-01  Monarch Adult (FIRST sighted)    29.042    -95.467   \n",
       "2115    2001-01-01  Monarch Adult (FIRST sighted)    29.385    -95.788   \n",
       "2116    2001-01-06  Monarch Adult (FIRST sighted)    26.208    -97.684   \n",
       "2117    2001-01-13  Monarch Adult (FIRST sighted)    29.047    -82.046   \n",
       "2118    2001-01-22  Monarch Adult (FIRST sighted)    29.957    -90.078   \n",
       "\n",
       "      number  month  \n",
       "2114       1      1  \n",
       "2115       1      1  \n",
       "2116       1      1  \n",
       "2117       1      1  \n",
       "2118       1      1  "
      ]
     },
     "execution_count": 27,
     "metadata": {},
     "output_type": "execute_result"
    }
   ],
   "source": [
    "JNorth_Adult_First_Site_2001_month_df =pd.DataFrame(JNorth_Adult_First_Site_2001_df)\n",
    "JNorth_Adult_First_Site_2001_1_df = JNorth_Adult_First_Site_2001_month_df[JNorth_Adult_First_Site_2001_month_df['month']==1]\n",
    "JNorth_Adult_First_Site_2001_1_df.tail()"
   ]
  },
  {
   "cell_type": "code",
   "execution_count": 28,
   "id": "78ffb46c",
   "metadata": {},
   "outputs": [
    {
     "data": {
      "text/plain": [
       "(6, 6)"
      ]
     },
     "execution_count": 28,
     "metadata": {},
     "output_type": "execute_result"
    }
   ],
   "source": [
    "JNorth_Adult_First_Site_2001_1_df.shape"
   ]
  },
  {
   "cell_type": "code",
   "execution_count": 29,
   "id": "0da596a9",
   "metadata": {},
   "outputs": [],
   "source": [
    "JNorth_Adult_First_Site_2001_1_df = pd.DataFrame(JNorth_Adult_First_Site_2001_1_df)\n",
    "JNorth_Adult_First_Site_2001_1_df.drop(['month'], axis=1, inplace=True)"
   ]
  },
  {
   "cell_type": "code",
   "execution_count": 30,
   "id": "b77fbff4",
   "metadata": {},
   "outputs": [],
   "source": [
    "# convert lat-long to floats and change address from ALL CAPS to regular capitalization\n",
    "JNorth_Adult_First_Site_2001_1_df['latitude'] = JNorth_Adult_First_Site_2001_1_df['latitude'].astype(float)\n",
    "JNorth_Adult_First_Site_2001_1_df['longitude'] = JNorth_Adult_First_Site_2001_1_df['longitude'].astype(float)\n",
    "# JNorth_Milkweed_Site_df['street_address'] = JNorth_Milkweed_Site_df['street_address'].str.title()"
   ]
  },
  {
   "cell_type": "code",
   "execution_count": 31,
   "id": "b2d65ff3",
   "metadata": {},
   "outputs": [],
   "source": [
    "geojson = df_to_geojson(JNorth_Adult_First_Site_2001_1_df, cols)"
   ]
  },
  {
   "cell_type": "code",
   "execution_count": 32,
   "id": "7be09d07",
   "metadata": {},
   "outputs": [],
   "source": [
    "file = open(\"JNorth_Adult_First_Site_2001_1.geojson\", \"w\")\n",
    "json.dump(geojson, file, indent =1)\n",
    "file.close()"
   ]
  },
  {
   "cell_type": "markdown",
   "id": "3fbad2ab",
   "metadata": {},
   "source": [
    "## February"
   ]
  },
  {
   "cell_type": "code",
   "execution_count": 33,
   "id": "5884490a",
   "metadata": {},
   "outputs": [
    {
     "data": {
      "text/html": [
       "<div>\n",
       "<style scoped>\n",
       "    .dataframe tbody tr th:only-of-type {\n",
       "        vertical-align: middle;\n",
       "    }\n",
       "\n",
       "    .dataframe tbody tr th {\n",
       "        vertical-align: top;\n",
       "    }\n",
       "\n",
       "    .dataframe thead th {\n",
       "        text-align: right;\n",
       "    }\n",
       "</style>\n",
       "<table border=\"1\" class=\"dataframe\">\n",
       "  <thead>\n",
       "    <tr style=\"text-align: right;\">\n",
       "      <th></th>\n",
       "      <th>sighting_date</th>\n",
       "      <th>species</th>\n",
       "      <th>latitude</th>\n",
       "      <th>longitude</th>\n",
       "      <th>number</th>\n",
       "      <th>month</th>\n",
       "    </tr>\n",
       "  </thead>\n",
       "  <tbody>\n",
       "    <tr>\n",
       "      <th>2137</th>\n",
       "      <td>2001-02-20</td>\n",
       "      <td>Monarch Adult (FIRST sighted)</td>\n",
       "      <td>27.954</td>\n",
       "      <td>-82.457</td>\n",
       "      <td>1</td>\n",
       "      <td>2</td>\n",
       "    </tr>\n",
       "    <tr>\n",
       "      <th>2138</th>\n",
       "      <td>2001-02-23</td>\n",
       "      <td>Monarch Adult (FIRST sighted)</td>\n",
       "      <td>28.529</td>\n",
       "      <td>-96.679</td>\n",
       "      <td>1</td>\n",
       "      <td>2</td>\n",
       "    </tr>\n",
       "    <tr>\n",
       "      <th>2139</th>\n",
       "      <td>2001-02-25</td>\n",
       "      <td>Monarch Adult (FIRST sighted)</td>\n",
       "      <td>29.757</td>\n",
       "      <td>-95.365</td>\n",
       "      <td>1</td>\n",
       "      <td>2</td>\n",
       "    </tr>\n",
       "    <tr>\n",
       "      <th>2140</th>\n",
       "      <td>2001-02-26</td>\n",
       "      <td>Monarch Adult (FIRST sighted)</td>\n",
       "      <td>27.980</td>\n",
       "      <td>-82.781</td>\n",
       "      <td>1</td>\n",
       "      <td>2</td>\n",
       "    </tr>\n",
       "    <tr>\n",
       "      <th>2141</th>\n",
       "      <td>2001-02-26</td>\n",
       "      <td>Monarch Adult (FIRST sighted)</td>\n",
       "      <td>30.582</td>\n",
       "      <td>-87.155</td>\n",
       "      <td>1</td>\n",
       "      <td>2</td>\n",
       "    </tr>\n",
       "  </tbody>\n",
       "</table>\n",
       "</div>"
      ],
      "text/plain": [
       "     sighting_date                        species  latitude  longitude  \\\n",
       "2137    2001-02-20  Monarch Adult (FIRST sighted)    27.954    -82.457   \n",
       "2138    2001-02-23  Monarch Adult (FIRST sighted)    28.529    -96.679   \n",
       "2139    2001-02-25  Monarch Adult (FIRST sighted)    29.757    -95.365   \n",
       "2140    2001-02-26  Monarch Adult (FIRST sighted)    27.980    -82.781   \n",
       "2141    2001-02-26  Monarch Adult (FIRST sighted)    30.582    -87.155   \n",
       "\n",
       "      number  month  \n",
       "2137       1      2  \n",
       "2138       1      2  \n",
       "2139       1      2  \n",
       "2140       1      2  \n",
       "2141       1      2  "
      ]
     },
     "execution_count": 33,
     "metadata": {},
     "output_type": "execute_result"
    }
   ],
   "source": [
    "JNorth_Adult_First_Site_2001_month_df =pd.DataFrame(JNorth_Adult_First_Site_2001_df)\n",
    "JNorth_Adult_First_Site_2001_2_df = JNorth_Adult_First_Site_2001_month_df[JNorth_Adult_First_Site_2001_month_df['month']==2]\n",
    "JNorth_Adult_First_Site_2001_2_df.tail()"
   ]
  },
  {
   "cell_type": "code",
   "execution_count": 34,
   "id": "b42cb926",
   "metadata": {},
   "outputs": [
    {
     "data": {
      "text/plain": [
       "(23, 6)"
      ]
     },
     "execution_count": 34,
     "metadata": {},
     "output_type": "execute_result"
    }
   ],
   "source": [
    "JNorth_Adult_First_Site_2001_2_df.shape"
   ]
  },
  {
   "cell_type": "code",
   "execution_count": 35,
   "id": "b021a9c4",
   "metadata": {},
   "outputs": [],
   "source": [
    "JNorth_Adult_First_Site_2001_2_df= pd.DataFrame(JNorth_Adult_First_Site_2001_2_df)\n",
    "JNorth_Adult_First_Site_2001_2_df.drop(['month'], axis=1, inplace=True)"
   ]
  },
  {
   "cell_type": "code",
   "execution_count": 36,
   "id": "9281836d",
   "metadata": {},
   "outputs": [],
   "source": [
    "# convert lat-long to floats and change address from ALL CAPS to regular capitalization\n",
    "JNorth_Adult_First_Site_2001_2_df['latitude'] = JNorth_Adult_First_Site_2001_2_df['latitude'].astype(float)\n",
    "JNorth_Adult_First_Site_2001_2_df['longitude'] = JNorth_Adult_First_Site_2001_2_df['longitude'].astype(float)\n",
    "# JNorth_Milkweed_Site_df['street_address'] = JNorth_Milkweed_Site_df['street_address'].str.title()"
   ]
  },
  {
   "cell_type": "code",
   "execution_count": 37,
   "id": "a8b965ac",
   "metadata": {},
   "outputs": [],
   "source": [
    "geojson = df_to_geojson(JNorth_Adult_First_Site_2001_2_df, cols)"
   ]
  },
  {
   "cell_type": "code",
   "execution_count": 38,
   "id": "ccc6a687",
   "metadata": {},
   "outputs": [],
   "source": [
    "file = open(\"JNorth_Adult_First_Site_2001_2.geojson\", \"w\")\n",
    "json.dump(geojson, file, indent =1)\n",
    "file.close()"
   ]
  },
  {
   "cell_type": "markdown",
   "id": "f58b04b3",
   "metadata": {},
   "source": [
    "## March"
   ]
  },
  {
   "cell_type": "code",
   "execution_count": 39,
   "id": "a8ef2f5b",
   "metadata": {},
   "outputs": [
    {
     "data": {
      "text/html": [
       "<div>\n",
       "<style scoped>\n",
       "    .dataframe tbody tr th:only-of-type {\n",
       "        vertical-align: middle;\n",
       "    }\n",
       "\n",
       "    .dataframe tbody tr th {\n",
       "        vertical-align: top;\n",
       "    }\n",
       "\n",
       "    .dataframe thead th {\n",
       "        text-align: right;\n",
       "    }\n",
       "</style>\n",
       "<table border=\"1\" class=\"dataframe\">\n",
       "  <thead>\n",
       "    <tr style=\"text-align: right;\">\n",
       "      <th></th>\n",
       "      <th>sighting_date</th>\n",
       "      <th>species</th>\n",
       "      <th>latitude</th>\n",
       "      <th>longitude</th>\n",
       "      <th>number</th>\n",
       "      <th>month</th>\n",
       "    </tr>\n",
       "  </thead>\n",
       "  <tbody>\n",
       "    <tr>\n",
       "      <th>2218</th>\n",
       "      <td>2001-03-30</td>\n",
       "      <td>Monarch Adult (FIRST sighted)</td>\n",
       "      <td>29.757</td>\n",
       "      <td>-95.365</td>\n",
       "      <td>1</td>\n",
       "      <td>3</td>\n",
       "    </tr>\n",
       "    <tr>\n",
       "      <th>2219</th>\n",
       "      <td>2001-03-31</td>\n",
       "      <td>Monarch Adult (FIRST sighted)</td>\n",
       "      <td>29.757</td>\n",
       "      <td>-95.365</td>\n",
       "      <td>1</td>\n",
       "      <td>3</td>\n",
       "    </tr>\n",
       "    <tr>\n",
       "      <th>2220</th>\n",
       "      <td>2001-03-31</td>\n",
       "      <td>Monarch Adult (FIRST sighted)</td>\n",
       "      <td>30.613</td>\n",
       "      <td>-96.320</td>\n",
       "      <td>1</td>\n",
       "      <td>3</td>\n",
       "    </tr>\n",
       "    <tr>\n",
       "      <th>2221</th>\n",
       "      <td>2001-03-31</td>\n",
       "      <td>Monarch Adult (FIRST sighted)</td>\n",
       "      <td>32.328</td>\n",
       "      <td>-96.799</td>\n",
       "      <td>1</td>\n",
       "      <td>3</td>\n",
       "    </tr>\n",
       "    <tr>\n",
       "      <th>2222</th>\n",
       "      <td>2001-03-31</td>\n",
       "      <td>Monarch Adult (FIRST sighted)</td>\n",
       "      <td>32.794</td>\n",
       "      <td>-98.110</td>\n",
       "      <td>1</td>\n",
       "      <td>3</td>\n",
       "    </tr>\n",
       "  </tbody>\n",
       "</table>\n",
       "</div>"
      ],
      "text/plain": [
       "     sighting_date                        species  latitude  longitude  \\\n",
       "2218    2001-03-30  Monarch Adult (FIRST sighted)    29.757    -95.365   \n",
       "2219    2001-03-31  Monarch Adult (FIRST sighted)    29.757    -95.365   \n",
       "2220    2001-03-31  Monarch Adult (FIRST sighted)    30.613    -96.320   \n",
       "2221    2001-03-31  Monarch Adult (FIRST sighted)    32.328    -96.799   \n",
       "2222    2001-03-31  Monarch Adult (FIRST sighted)    32.794    -98.110   \n",
       "\n",
       "      number  month  \n",
       "2218       1      3  \n",
       "2219       1      3  \n",
       "2220       1      3  \n",
       "2221       1      3  \n",
       "2222       1      3  "
      ]
     },
     "execution_count": 39,
     "metadata": {},
     "output_type": "execute_result"
    }
   ],
   "source": [
    "JNorth_Adult_First_Site_2001_month_df =pd.DataFrame(JNorth_Adult_First_Site_2001_df)\n",
    "JNorth_Adult_First_Site_2001_3_df = JNorth_Adult_First_Site_2001_month_df[JNorth_Adult_First_Site_2001_month_df['month']==3]\n",
    "JNorth_Adult_First_Site_2001_3_df.tail()"
   ]
  },
  {
   "cell_type": "code",
   "execution_count": 40,
   "id": "ce7f1737",
   "metadata": {},
   "outputs": [
    {
     "data": {
      "text/plain": [
       "(81, 6)"
      ]
     },
     "execution_count": 40,
     "metadata": {},
     "output_type": "execute_result"
    }
   ],
   "source": [
    "JNorth_Adult_First_Site_2001_3_df.shape"
   ]
  },
  {
   "cell_type": "code",
   "execution_count": 41,
   "id": "7a38c9f2",
   "metadata": {},
   "outputs": [],
   "source": [
    "JNorth_Adult_First_Site_2001_3_df =pd.DataFrame(JNorth_Adult_First_Site_2001_3_df)\n",
    "JNorth_Adult_First_Site_2001_3_df.drop(['month'], axis=1, inplace=True)"
   ]
  },
  {
   "cell_type": "code",
   "execution_count": 42,
   "id": "03245c40",
   "metadata": {},
   "outputs": [],
   "source": [
    "# convert lat-long to floats and change address from ALL CAPS to regular capitalization\n",
    "JNorth_Adult_First_Site_2001_3_df['latitude'] = JNorth_Adult_First_Site_2001_3_df['latitude'].astype(float)\n",
    "JNorth_Adult_First_Site_2001_3_df['longitude'] = JNorth_Adult_First_Site_2001_3_df['longitude'].astype(float)\n",
    "# JNorth_Milkweed_Site_df['street_address'] = JNorth_Milkweed_Site_df['street_address'].str.title()"
   ]
  },
  {
   "cell_type": "code",
   "execution_count": 43,
   "id": "bc9bad5b",
   "metadata": {},
   "outputs": [],
   "source": [
    "geojson = df_to_geojson(JNorth_Adult_First_Site_2001_3_df, cols)"
   ]
  },
  {
   "cell_type": "code",
   "execution_count": 44,
   "id": "336f0947",
   "metadata": {},
   "outputs": [],
   "source": [
    "file = open(\"JNorth_Adult_First_Site_2001_3.geojson\", \"w\")\n",
    "json.dump(geojson, file, indent =1)\n",
    "file.close()"
   ]
  },
  {
   "cell_type": "markdown",
   "id": "b5a4169d",
   "metadata": {},
   "source": [
    "## April"
   ]
  },
  {
   "cell_type": "code",
   "execution_count": 45,
   "id": "e1676dcb",
   "metadata": {},
   "outputs": [
    {
     "data": {
      "text/html": [
       "<div>\n",
       "<style scoped>\n",
       "    .dataframe tbody tr th:only-of-type {\n",
       "        vertical-align: middle;\n",
       "    }\n",
       "\n",
       "    .dataframe tbody tr th {\n",
       "        vertical-align: top;\n",
       "    }\n",
       "\n",
       "    .dataframe thead th {\n",
       "        text-align: right;\n",
       "    }\n",
       "</style>\n",
       "<table border=\"1\" class=\"dataframe\">\n",
       "  <thead>\n",
       "    <tr style=\"text-align: right;\">\n",
       "      <th></th>\n",
       "      <th>sighting_date</th>\n",
       "      <th>species</th>\n",
       "      <th>latitude</th>\n",
       "      <th>longitude</th>\n",
       "      <th>number</th>\n",
       "      <th>month</th>\n",
       "    </tr>\n",
       "  </thead>\n",
       "  <tbody>\n",
       "    <tr>\n",
       "      <th>2319</th>\n",
       "      <td>2001-04-29</td>\n",
       "      <td>Monarch Adult (FIRST sighted)</td>\n",
       "      <td>40.750</td>\n",
       "      <td>-73.998</td>\n",
       "      <td>1</td>\n",
       "      <td>4</td>\n",
       "    </tr>\n",
       "    <tr>\n",
       "      <th>2320</th>\n",
       "      <td>2001-04-29</td>\n",
       "      <td>Monarch Adult (FIRST sighted)</td>\n",
       "      <td>42.790</td>\n",
       "      <td>-71.221</td>\n",
       "      <td>1</td>\n",
       "      <td>4</td>\n",
       "    </tr>\n",
       "    <tr>\n",
       "      <th>2321</th>\n",
       "      <td>2001-04-30</td>\n",
       "      <td>Monarch Adult (FIRST sighted)</td>\n",
       "      <td>34.886</td>\n",
       "      <td>-101.903</td>\n",
       "      <td>1</td>\n",
       "      <td>4</td>\n",
       "    </tr>\n",
       "    <tr>\n",
       "      <th>2322</th>\n",
       "      <td>2001-04-30</td>\n",
       "      <td>Monarch Adult (FIRST sighted)</td>\n",
       "      <td>38.250</td>\n",
       "      <td>-82.250</td>\n",
       "      <td>1</td>\n",
       "      <td>4</td>\n",
       "    </tr>\n",
       "    <tr>\n",
       "      <th>2323</th>\n",
       "      <td>2001-04-30</td>\n",
       "      <td>Monarch Adult (FIRST sighted)</td>\n",
       "      <td>42.345</td>\n",
       "      <td>-96.267</td>\n",
       "      <td>1</td>\n",
       "      <td>4</td>\n",
       "    </tr>\n",
       "  </tbody>\n",
       "</table>\n",
       "</div>"
      ],
      "text/plain": [
       "     sighting_date                        species  latitude  longitude  \\\n",
       "2319    2001-04-29  Monarch Adult (FIRST sighted)    40.750    -73.998   \n",
       "2320    2001-04-29  Monarch Adult (FIRST sighted)    42.790    -71.221   \n",
       "2321    2001-04-30  Monarch Adult (FIRST sighted)    34.886   -101.903   \n",
       "2322    2001-04-30  Monarch Adult (FIRST sighted)    38.250    -82.250   \n",
       "2323    2001-04-30  Monarch Adult (FIRST sighted)    42.345    -96.267   \n",
       "\n",
       "      number  month  \n",
       "2319       1      4  \n",
       "2320       1      4  \n",
       "2321       1      4  \n",
       "2322       1      4  \n",
       "2323       1      4  "
      ]
     },
     "execution_count": 45,
     "metadata": {},
     "output_type": "execute_result"
    }
   ],
   "source": [
    "JNorth_Adult_First_Site_2001_month_df =pd.DataFrame(JNorth_Adult_First_Site_2001_df)\n",
    "JNorth_Adult_First_Site_2001_4_df = JNorth_Adult_First_Site_2001_month_df[JNorth_Adult_First_Site_2001_month_df['month']==4]\n",
    "JNorth_Adult_First_Site_2001_4_df.tail()"
   ]
  },
  {
   "cell_type": "code",
   "execution_count": 46,
   "id": "24530093",
   "metadata": {},
   "outputs": [
    {
     "data": {
      "text/plain": [
       "(101, 6)"
      ]
     },
     "execution_count": 46,
     "metadata": {},
     "output_type": "execute_result"
    }
   ],
   "source": [
    "JNorth_Adult_First_Site_2001_4_df.shape"
   ]
  },
  {
   "cell_type": "code",
   "execution_count": 47,
   "id": "a57f5b9b",
   "metadata": {},
   "outputs": [],
   "source": [
    "JNorth_Adult_First_Site_2001_4_df = pd.DataFrame(JNorth_Adult_First_Site_2001_4_df)\n",
    "JNorth_Adult_First_Site_2001_4_df.drop(['month'], axis=1, inplace=True)"
   ]
  },
  {
   "cell_type": "code",
   "execution_count": 48,
   "id": "fed7891d",
   "metadata": {},
   "outputs": [],
   "source": [
    "# convert lat-long to floats and change address from ALL CAPS to regular capitalization\n",
    "JNorth_Adult_First_Site_2001_4_df['latitude'] = JNorth_Adult_First_Site_2001_4_df['latitude'].astype(float)\n",
    "JNorth_Adult_First_Site_2001_4_df['longitude'] = JNorth_Adult_First_Site_2001_4_df['longitude'].astype(float)\n",
    "# JNorth_Milkweed_Site_df['street_address'] = JNorth_Milkweed_Site_df['street_address'].str.title()"
   ]
  },
  {
   "cell_type": "code",
   "execution_count": 49,
   "id": "8676718c",
   "metadata": {},
   "outputs": [],
   "source": [
    "geojson = df_to_geojson(JNorth_Adult_First_Site_2001_4_df, cols)"
   ]
  },
  {
   "cell_type": "code",
   "execution_count": 50,
   "id": "e4c13f3c",
   "metadata": {},
   "outputs": [],
   "source": [
    "file = open(\"JNorth_Adult_First_Site_2001_4.geojson\", \"w\")\n",
    "json.dump(geojson, file, indent =1)\n",
    "file.close()"
   ]
  },
  {
   "cell_type": "markdown",
   "id": "ecb6189f",
   "metadata": {},
   "source": [
    "## May"
   ]
  },
  {
   "cell_type": "code",
   "execution_count": 51,
   "id": "e8654b2f",
   "metadata": {},
   "outputs": [
    {
     "data": {
      "text/html": [
       "<div>\n",
       "<style scoped>\n",
       "    .dataframe tbody tr th:only-of-type {\n",
       "        vertical-align: middle;\n",
       "    }\n",
       "\n",
       "    .dataframe tbody tr th {\n",
       "        vertical-align: top;\n",
       "    }\n",
       "\n",
       "    .dataframe thead th {\n",
       "        text-align: right;\n",
       "    }\n",
       "</style>\n",
       "<table border=\"1\" class=\"dataframe\">\n",
       "  <thead>\n",
       "    <tr style=\"text-align: right;\">\n",
       "      <th></th>\n",
       "      <th>sighting_date</th>\n",
       "      <th>species</th>\n",
       "      <th>latitude</th>\n",
       "      <th>longitude</th>\n",
       "      <th>number</th>\n",
       "      <th>month</th>\n",
       "    </tr>\n",
       "  </thead>\n",
       "  <tbody>\n",
       "    <tr>\n",
       "      <th>2584</th>\n",
       "      <td>2001-05-31</td>\n",
       "      <td>Monarch Adult (FIRST sighted)</td>\n",
       "      <td>39.822</td>\n",
       "      <td>-81.931</td>\n",
       "      <td>1</td>\n",
       "      <td>5</td>\n",
       "    </tr>\n",
       "    <tr>\n",
       "      <th>2585</th>\n",
       "      <td>2001-05-31</td>\n",
       "      <td>Monarch Adult (FIRST sighted)</td>\n",
       "      <td>41.654</td>\n",
       "      <td>-72.669</td>\n",
       "      <td>1</td>\n",
       "      <td>5</td>\n",
       "    </tr>\n",
       "    <tr>\n",
       "      <th>2586</th>\n",
       "      <td>2001-05-31</td>\n",
       "      <td>Monarch Adult (FIRST sighted)</td>\n",
       "      <td>43.167</td>\n",
       "      <td>-79.367</td>\n",
       "      <td>1</td>\n",
       "      <td>5</td>\n",
       "    </tr>\n",
       "    <tr>\n",
       "      <th>2587</th>\n",
       "      <td>2001-05-31</td>\n",
       "      <td>Monarch Adult (FIRST sighted)</td>\n",
       "      <td>44.359</td>\n",
       "      <td>-98.224</td>\n",
       "      <td>1</td>\n",
       "      <td>5</td>\n",
       "    </tr>\n",
       "    <tr>\n",
       "      <th>2588</th>\n",
       "      <td>2001-05-31</td>\n",
       "      <td>Monarch Adult (FIRST sighted)</td>\n",
       "      <td>44.900</td>\n",
       "      <td>-79.717</td>\n",
       "      <td>1</td>\n",
       "      <td>5</td>\n",
       "    </tr>\n",
       "  </tbody>\n",
       "</table>\n",
       "</div>"
      ],
      "text/plain": [
       "     sighting_date                        species  latitude  longitude  \\\n",
       "2584    2001-05-31  Monarch Adult (FIRST sighted)    39.822    -81.931   \n",
       "2585    2001-05-31  Monarch Adult (FIRST sighted)    41.654    -72.669   \n",
       "2586    2001-05-31  Monarch Adult (FIRST sighted)    43.167    -79.367   \n",
       "2587    2001-05-31  Monarch Adult (FIRST sighted)    44.359    -98.224   \n",
       "2588    2001-05-31  Monarch Adult (FIRST sighted)    44.900    -79.717   \n",
       "\n",
       "      number  month  \n",
       "2584       1      5  \n",
       "2585       1      5  \n",
       "2586       1      5  \n",
       "2587       1      5  \n",
       "2588       1      5  "
      ]
     },
     "execution_count": 51,
     "metadata": {},
     "output_type": "execute_result"
    }
   ],
   "source": [
    "JNorth_Adult_First_Site_2001_month_df =pd.DataFrame(JNorth_Adult_First_Site_2001_df)\n",
    "JNorth_Adult_First_Site_2001_5_df = JNorth_Adult_First_Site_2001_month_df[JNorth_Adult_First_Site_2001_month_df['month']==5]\n",
    "JNorth_Adult_First_Site_2001_5_df.tail()"
   ]
  },
  {
   "cell_type": "code",
   "execution_count": 52,
   "id": "60d8eb59",
   "metadata": {},
   "outputs": [
    {
     "data": {
      "text/plain": [
       "(265, 6)"
      ]
     },
     "execution_count": 52,
     "metadata": {},
     "output_type": "execute_result"
    }
   ],
   "source": [
    "JNorth_Adult_First_Site_2001_5_df.shape"
   ]
  },
  {
   "cell_type": "code",
   "execution_count": 53,
   "id": "73bb7166",
   "metadata": {},
   "outputs": [],
   "source": [
    "JNorth_Adult_First_Site_2001_5_df =pd.DataFrame(JNorth_Adult_First_Site_2001_5_df)\n",
    "JNorth_Adult_First_Site_2001_5_df.drop(['month'], axis=1, inplace=True)"
   ]
  },
  {
   "cell_type": "code",
   "execution_count": 54,
   "id": "6ec1381b",
   "metadata": {},
   "outputs": [],
   "source": [
    "# convert lat-long to floats and change address from ALL CAPS to regular capitalization\n",
    "JNorth_Adult_First_Site_2001_5_df['latitude'] = JNorth_Adult_First_Site_2001_5_df['latitude'].astype(float)\n",
    "JNorth_Adult_First_Site_2001_5_df['longitude'] = JNorth_Adult_First_Site_2001_5_df['longitude'].astype(float)\n",
    "# JNorth_Milkweed_Site_df['street_address'] = JNorth_Milkweed_Site_df['street_address'].str.title()"
   ]
  },
  {
   "cell_type": "code",
   "execution_count": 55,
   "id": "eb6b3375",
   "metadata": {},
   "outputs": [],
   "source": [
    "geojson = df_to_geojson(JNorth_Adult_First_Site_2001_5_df, cols)"
   ]
  },
  {
   "cell_type": "code",
   "execution_count": 56,
   "id": "e38d605b",
   "metadata": {},
   "outputs": [],
   "source": [
    "file = open(\"JNorth_Adult_First_Site_2001_5.geojson\", \"w\")\n",
    "json.dump(geojson, file, indent =1)\n",
    "file.close()"
   ]
  },
  {
   "cell_type": "markdown",
   "id": "e993c20c",
   "metadata": {},
   "source": [
    "## June"
   ]
  },
  {
   "cell_type": "code",
   "execution_count": 57,
   "id": "03fc48b5",
   "metadata": {},
   "outputs": [
    {
     "data": {
      "text/html": [
       "<div>\n",
       "<style scoped>\n",
       "    .dataframe tbody tr th:only-of-type {\n",
       "        vertical-align: middle;\n",
       "    }\n",
       "\n",
       "    .dataframe tbody tr th {\n",
       "        vertical-align: top;\n",
       "    }\n",
       "\n",
       "    .dataframe thead th {\n",
       "        text-align: right;\n",
       "    }\n",
       "</style>\n",
       "<table border=\"1\" class=\"dataframe\">\n",
       "  <thead>\n",
       "    <tr style=\"text-align: right;\">\n",
       "      <th></th>\n",
       "      <th>sighting_date</th>\n",
       "      <th>species</th>\n",
       "      <th>latitude</th>\n",
       "      <th>longitude</th>\n",
       "      <th>number</th>\n",
       "      <th>month</th>\n",
       "    </tr>\n",
       "  </thead>\n",
       "  <tbody>\n",
       "    <tr>\n",
       "      <th>2646</th>\n",
       "      <td>2001-06-20</td>\n",
       "      <td>Monarch Adult (FIRST sighted)</td>\n",
       "      <td>42.510</td>\n",
       "      <td>-70.908</td>\n",
       "      <td>1</td>\n",
       "      <td>6</td>\n",
       "    </tr>\n",
       "    <tr>\n",
       "      <th>2647</th>\n",
       "      <td>2001-06-22</td>\n",
       "      <td>Monarch Adult (FIRST sighted)</td>\n",
       "      <td>49.490</td>\n",
       "      <td>-94.260</td>\n",
       "      <td>1</td>\n",
       "      <td>6</td>\n",
       "    </tr>\n",
       "    <tr>\n",
       "      <th>2648</th>\n",
       "      <td>2001-06-23</td>\n",
       "      <td>Monarch Adult (FIRST sighted)</td>\n",
       "      <td>45.580</td>\n",
       "      <td>-74.370</td>\n",
       "      <td>1</td>\n",
       "      <td>6</td>\n",
       "    </tr>\n",
       "    <tr>\n",
       "      <th>2649</th>\n",
       "      <td>2001-06-27</td>\n",
       "      <td>Monarch Adult (FIRST sighted)</td>\n",
       "      <td>40.475</td>\n",
       "      <td>-79.954</td>\n",
       "      <td>1</td>\n",
       "      <td>6</td>\n",
       "    </tr>\n",
       "    <tr>\n",
       "      <th>2650</th>\n",
       "      <td>2001-06-29</td>\n",
       "      <td>Monarch Adult (FIRST sighted)</td>\n",
       "      <td>42.540</td>\n",
       "      <td>-78.560</td>\n",
       "      <td>1</td>\n",
       "      <td>6</td>\n",
       "    </tr>\n",
       "  </tbody>\n",
       "</table>\n",
       "</div>"
      ],
      "text/plain": [
       "     sighting_date                        species  latitude  longitude  \\\n",
       "2646    2001-06-20  Monarch Adult (FIRST sighted)    42.510    -70.908   \n",
       "2647    2001-06-22  Monarch Adult (FIRST sighted)    49.490    -94.260   \n",
       "2648    2001-06-23  Monarch Adult (FIRST sighted)    45.580    -74.370   \n",
       "2649    2001-06-27  Monarch Adult (FIRST sighted)    40.475    -79.954   \n",
       "2650    2001-06-29  Monarch Adult (FIRST sighted)    42.540    -78.560   \n",
       "\n",
       "      number  month  \n",
       "2646       1      6  \n",
       "2647       1      6  \n",
       "2648       1      6  \n",
       "2649       1      6  \n",
       "2650       1      6  "
      ]
     },
     "execution_count": 57,
     "metadata": {},
     "output_type": "execute_result"
    }
   ],
   "source": [
    "JNorth_Adult_First_Site_2001_month_df =pd.DataFrame(JNorth_Adult_First_Site_2001_df)\n",
    "JNorth_Adult_First_Site_2001_6_df = JNorth_Adult_First_Site_2001_month_df[JNorth_Adult_First_Site_2001_month_df['month']==6]\n",
    "JNorth_Adult_First_Site_2001_6_df.tail()"
   ]
  },
  {
   "cell_type": "code",
   "execution_count": 58,
   "id": "a5b0b8ee",
   "metadata": {},
   "outputs": [
    {
     "data": {
      "text/plain": [
       "(62, 6)"
      ]
     },
     "execution_count": 58,
     "metadata": {},
     "output_type": "execute_result"
    }
   ],
   "source": [
    "JNorth_Adult_First_Site_2001_6_df.shape"
   ]
  },
  {
   "cell_type": "code",
   "execution_count": 59,
   "id": "c92eb8b8",
   "metadata": {},
   "outputs": [],
   "source": [
    "JNorth_Adult_First_Site_2001_6_df=pd.DataFrame(JNorth_Adult_First_Site_2001_6_df)\n",
    "JNorth_Adult_First_Site_2001_6_df.drop(['month'], axis=1, inplace=True)"
   ]
  },
  {
   "cell_type": "code",
   "execution_count": 60,
   "id": "0652626f",
   "metadata": {},
   "outputs": [],
   "source": [
    "# convert lat-long to floats and change address from ALL CAPS to regular capitalization\n",
    "JNorth_Adult_First_Site_2001_6_df['latitude'] = JNorth_Adult_First_Site_2001_6_df['latitude'].astype(float)\n",
    "JNorth_Adult_First_Site_2001_6_df['longitude'] = JNorth_Adult_First_Site_2001_6_df['longitude'].astype(float)\n",
    "# JNorth_Milkweed_Site_df['street_address'] = JNorth_Milkweed_Site_df['street_address'].str.title()"
   ]
  },
  {
   "cell_type": "code",
   "execution_count": 61,
   "id": "d99099a1",
   "metadata": {},
   "outputs": [],
   "source": [
    "geojson = df_to_geojson(JNorth_Adult_First_Site_2001_6_df, cols)"
   ]
  },
  {
   "cell_type": "code",
   "execution_count": 62,
   "id": "52c13f18",
   "metadata": {},
   "outputs": [],
   "source": [
    "file = open(\"JNorth_Adult_First_Site_2001_6.geojson\", \"w\")\n",
    "json.dump(geojson, file, indent =1)\n",
    "file.close()"
   ]
  },
  {
   "cell_type": "markdown",
   "id": "8893271b",
   "metadata": {},
   "source": [
    "## July"
   ]
  },
  {
   "cell_type": "code",
   "execution_count": 63,
   "id": "a78f1523",
   "metadata": {},
   "outputs": [
    {
     "data": {
      "text/html": [
       "<div>\n",
       "<style scoped>\n",
       "    .dataframe tbody tr th:only-of-type {\n",
       "        vertical-align: middle;\n",
       "    }\n",
       "\n",
       "    .dataframe tbody tr th {\n",
       "        vertical-align: top;\n",
       "    }\n",
       "\n",
       "    .dataframe thead th {\n",
       "        text-align: right;\n",
       "    }\n",
       "</style>\n",
       "<table border=\"1\" class=\"dataframe\">\n",
       "  <thead>\n",
       "    <tr style=\"text-align: right;\">\n",
       "      <th></th>\n",
       "      <th>sighting_date</th>\n",
       "      <th>species</th>\n",
       "      <th>latitude</th>\n",
       "      <th>longitude</th>\n",
       "      <th>number</th>\n",
       "      <th>month</th>\n",
       "    </tr>\n",
       "  </thead>\n",
       "  <tbody>\n",
       "    <tr>\n",
       "      <th>2658</th>\n",
       "      <td>2001-07-21</td>\n",
       "      <td>Monarch Adult (FIRST sighted)</td>\n",
       "      <td>41.391</td>\n",
       "      <td>-73.970</td>\n",
       "      <td>1</td>\n",
       "      <td>7</td>\n",
       "    </tr>\n",
       "    <tr>\n",
       "      <th>2659</th>\n",
       "      <td>2001-07-22</td>\n",
       "      <td>Monarch Adult (FIRST sighted)</td>\n",
       "      <td>35.364</td>\n",
       "      <td>-94.416</td>\n",
       "      <td>1</td>\n",
       "      <td>7</td>\n",
       "    </tr>\n",
       "    <tr>\n",
       "      <th>2660</th>\n",
       "      <td>2001-07-24</td>\n",
       "      <td>Monarch Adult (FIRST sighted)</td>\n",
       "      <td>38.939</td>\n",
       "      <td>-85.877</td>\n",
       "      <td>1</td>\n",
       "      <td>7</td>\n",
       "    </tr>\n",
       "    <tr>\n",
       "      <th>2661</th>\n",
       "      <td>2001-07-28</td>\n",
       "      <td>Monarch Adult (FIRST sighted)</td>\n",
       "      <td>46.996</td>\n",
       "      <td>-95.003</td>\n",
       "      <td>1</td>\n",
       "      <td>7</td>\n",
       "    </tr>\n",
       "    <tr>\n",
       "      <th>2662</th>\n",
       "      <td>2001-07-30</td>\n",
       "      <td>Monarch Adult (FIRST sighted)</td>\n",
       "      <td>34.137</td>\n",
       "      <td>-118.027</td>\n",
       "      <td>1</td>\n",
       "      <td>7</td>\n",
       "    </tr>\n",
       "  </tbody>\n",
       "</table>\n",
       "</div>"
      ],
      "text/plain": [
       "     sighting_date                        species  latitude  longitude  \\\n",
       "2658    2001-07-21  Monarch Adult (FIRST sighted)    41.391    -73.970   \n",
       "2659    2001-07-22  Monarch Adult (FIRST sighted)    35.364    -94.416   \n",
       "2660    2001-07-24  Monarch Adult (FIRST sighted)    38.939    -85.877   \n",
       "2661    2001-07-28  Monarch Adult (FIRST sighted)    46.996    -95.003   \n",
       "2662    2001-07-30  Monarch Adult (FIRST sighted)    34.137   -118.027   \n",
       "\n",
       "      number  month  \n",
       "2658       1      7  \n",
       "2659       1      7  \n",
       "2660       1      7  \n",
       "2661       1      7  \n",
       "2662       1      7  "
      ]
     },
     "execution_count": 63,
     "metadata": {},
     "output_type": "execute_result"
    }
   ],
   "source": [
    "JNorth_Adult_First_Site_2001_month_df =pd.DataFrame(JNorth_Adult_First_Site_2001_df)\n",
    "JNorth_Adult_First_Site_2001_7_df = JNorth_Adult_First_Site_2001_month_df[JNorth_Adult_First_Site_2001_month_df['month']==7]\n",
    "JNorth_Adult_First_Site_2001_7_df.tail()"
   ]
  },
  {
   "cell_type": "code",
   "execution_count": 64,
   "id": "cf793498",
   "metadata": {},
   "outputs": [
    {
     "data": {
      "text/plain": [
       "(12, 6)"
      ]
     },
     "execution_count": 64,
     "metadata": {},
     "output_type": "execute_result"
    }
   ],
   "source": [
    "JNorth_Adult_First_Site_2001_7_df.shape"
   ]
  },
  {
   "cell_type": "code",
   "execution_count": 65,
   "id": "0a11df25",
   "metadata": {},
   "outputs": [],
   "source": [
    "JNorth_Adult_First_Site_2001_7_df = pd.DataFrame(JNorth_Adult_First_Site_2001_7_df)\n",
    "JNorth_Adult_First_Site_2001_7_df.drop(['month'], axis=1, inplace=True)"
   ]
  },
  {
   "cell_type": "code",
   "execution_count": 66,
   "id": "547dffdc",
   "metadata": {},
   "outputs": [],
   "source": [
    "# convert lat-long to floats and change address from ALL CAPS to regular capitalization\n",
    "JNorth_Adult_First_Site_2001_7_df['latitude'] = JNorth_Adult_First_Site_2001_7_df['latitude'].astype(float)\n",
    "JNorth_Adult_First_Site_2001_7_df['longitude'] = JNorth_Adult_First_Site_2001_7_df['longitude'].astype(float)\n",
    "# JNorth_Milkweed_Site_df['street_address'] = JNorth_Milkweed_Site_df['street_address'].str.title()"
   ]
  },
  {
   "cell_type": "code",
   "execution_count": 67,
   "id": "9b8a01c4",
   "metadata": {},
   "outputs": [],
   "source": [
    "geojson = df_to_geojson(JNorth_Adult_First_Site_2001_7_df, cols)"
   ]
  },
  {
   "cell_type": "code",
   "execution_count": 68,
   "id": "7ede518a",
   "metadata": {},
   "outputs": [],
   "source": [
    "file = open(\"JNorth_Adult_First_Site_2001_7.geojson\", \"w\")\n",
    "json.dump(geojson, file, indent =1)\n",
    "file.close()"
   ]
  },
  {
   "cell_type": "markdown",
   "id": "510976eb",
   "metadata": {},
   "source": [
    "## August"
   ]
  },
  {
   "cell_type": "code",
   "execution_count": 69,
   "id": "3dd621e6",
   "metadata": {},
   "outputs": [
    {
     "data": {
      "text/html": [
       "<div>\n",
       "<style scoped>\n",
       "    .dataframe tbody tr th:only-of-type {\n",
       "        vertical-align: middle;\n",
       "    }\n",
       "\n",
       "    .dataframe tbody tr th {\n",
       "        vertical-align: top;\n",
       "    }\n",
       "\n",
       "    .dataframe thead th {\n",
       "        text-align: right;\n",
       "    }\n",
       "</style>\n",
       "<table border=\"1\" class=\"dataframe\">\n",
       "  <thead>\n",
       "    <tr style=\"text-align: right;\">\n",
       "      <th></th>\n",
       "      <th>sighting_date</th>\n",
       "      <th>species</th>\n",
       "      <th>latitude</th>\n",
       "      <th>longitude</th>\n",
       "      <th>number</th>\n",
       "      <th>month</th>\n",
       "    </tr>\n",
       "  </thead>\n",
       "  <tbody>\n",
       "    <tr>\n",
       "      <th>2916</th>\n",
       "      <td>2001-08-31</td>\n",
       "      <td>Monarch Adult (FIRST sighted)</td>\n",
       "      <td>31.850</td>\n",
       "      <td>-102.345</td>\n",
       "      <td>1</td>\n",
       "      <td>8</td>\n",
       "    </tr>\n",
       "    <tr>\n",
       "      <th>2917</th>\n",
       "      <td>2001-08-31</td>\n",
       "      <td>Monarch Adult (FIRST sighted)</td>\n",
       "      <td>37.776</td>\n",
       "      <td>-97.950</td>\n",
       "      <td>2</td>\n",
       "      <td>8</td>\n",
       "    </tr>\n",
       "    <tr>\n",
       "      <th>2918</th>\n",
       "      <td>2001-08-31</td>\n",
       "      <td>Monarch Adult (FIRST sighted)</td>\n",
       "      <td>41.555</td>\n",
       "      <td>-93.253</td>\n",
       "      <td>1</td>\n",
       "      <td>8</td>\n",
       "    </tr>\n",
       "    <tr>\n",
       "      <th>2919</th>\n",
       "      <td>2001-08-31</td>\n",
       "      <td>Monarch Adult (FIRST sighted)</td>\n",
       "      <td>42.804</td>\n",
       "      <td>-92.268</td>\n",
       "      <td>1</td>\n",
       "      <td>8</td>\n",
       "    </tr>\n",
       "    <tr>\n",
       "      <th>2920</th>\n",
       "      <td>2001-08-31</td>\n",
       "      <td>Monarch Adult (FIRST sighted)</td>\n",
       "      <td>45.181</td>\n",
       "      <td>-93.578</td>\n",
       "      <td>1</td>\n",
       "      <td>8</td>\n",
       "    </tr>\n",
       "  </tbody>\n",
       "</table>\n",
       "</div>"
      ],
      "text/plain": [
       "     sighting_date                        species  latitude  longitude  \\\n",
       "2916    2001-08-31  Monarch Adult (FIRST sighted)    31.850   -102.345   \n",
       "2917    2001-08-31  Monarch Adult (FIRST sighted)    37.776    -97.950   \n",
       "2918    2001-08-31  Monarch Adult (FIRST sighted)    41.555    -93.253   \n",
       "2919    2001-08-31  Monarch Adult (FIRST sighted)    42.804    -92.268   \n",
       "2920    2001-08-31  Monarch Adult (FIRST sighted)    45.181    -93.578   \n",
       "\n",
       "      number  month  \n",
       "2916       1      8  \n",
       "2917       2      8  \n",
       "2918       1      8  \n",
       "2919       1      8  \n",
       "2920       1      8  "
      ]
     },
     "execution_count": 69,
     "metadata": {},
     "output_type": "execute_result"
    }
   ],
   "source": [
    "JNorth_Adult_First_Site_2001_month_df =pd.DataFrame(JNorth_Adult_First_Site_2001_df)\n",
    "JNorth_Adult_First_Site_2001_8_df = JNorth_Adult_First_Site_2001_month_df[JNorth_Adult_First_Site_2001_month_df['month']==8]\n",
    "JNorth_Adult_First_Site_2001_8_df.tail()"
   ]
  },
  {
   "cell_type": "code",
   "execution_count": 70,
   "id": "d1145a4b",
   "metadata": {},
   "outputs": [
    {
     "data": {
      "text/plain": [
       "(258, 6)"
      ]
     },
     "execution_count": 70,
     "metadata": {},
     "output_type": "execute_result"
    }
   ],
   "source": [
    "JNorth_Adult_First_Site_2001_8_df.shape"
   ]
  },
  {
   "cell_type": "code",
   "execution_count": 71,
   "id": "e7da4bd8",
   "metadata": {},
   "outputs": [],
   "source": [
    "JNorth_Adult_First_Site_2001_8_df = pd.DataFrame(JNorth_Adult_First_Site_2001_8_df)\n",
    "JNorth_Adult_First_Site_2001_8_df.drop(['month'], axis=1, inplace=True)"
   ]
  },
  {
   "cell_type": "code",
   "execution_count": 72,
   "id": "ce6fb27f",
   "metadata": {},
   "outputs": [],
   "source": [
    "# convert lat-long to floats and change address from ALL CAPS to regular capitalization\n",
    "JNorth_Adult_First_Site_2001_8_df['latitude'] = JNorth_Adult_First_Site_2001_8_df['latitude'].astype(float)\n",
    "JNorth_Adult_First_Site_2001_8_df['longitude'] = JNorth_Adult_First_Site_2001_8_df['longitude'].astype(float)\n",
    "# JNorth_Milkweed_Site_df['street_address'] = JNorth_Milkweed_Site_df['street_address'].str.title()"
   ]
  },
  {
   "cell_type": "code",
   "execution_count": 73,
   "id": "3c4ab342",
   "metadata": {},
   "outputs": [],
   "source": [
    "geojson = df_to_geojson(JNorth_Adult_First_Site_2001_8_df, cols)"
   ]
  },
  {
   "cell_type": "code",
   "execution_count": 74,
   "id": "3ead16ab",
   "metadata": {},
   "outputs": [],
   "source": [
    "file = open(\"JNorth_Adult_First_Site_2001_8.geojson\", \"w\")\n",
    "json.dump(geojson, file, indent =1)\n",
    "file.close()"
   ]
  },
  {
   "cell_type": "markdown",
   "id": "ecbd125e",
   "metadata": {},
   "source": [
    "## September"
   ]
  },
  {
   "cell_type": "code",
   "execution_count": 75,
   "id": "8c0ed9a5",
   "metadata": {},
   "outputs": [
    {
     "data": {
      "text/html": [
       "<div>\n",
       "<style scoped>\n",
       "    .dataframe tbody tr th:only-of-type {\n",
       "        vertical-align: middle;\n",
       "    }\n",
       "\n",
       "    .dataframe tbody tr th {\n",
       "        vertical-align: top;\n",
       "    }\n",
       "\n",
       "    .dataframe thead th {\n",
       "        text-align: right;\n",
       "    }\n",
       "</style>\n",
       "<table border=\"1\" class=\"dataframe\">\n",
       "  <thead>\n",
       "    <tr style=\"text-align: right;\">\n",
       "      <th></th>\n",
       "      <th>sighting_date</th>\n",
       "      <th>species</th>\n",
       "      <th>latitude</th>\n",
       "      <th>longitude</th>\n",
       "      <th>number</th>\n",
       "      <th>month</th>\n",
       "    </tr>\n",
       "  </thead>\n",
       "  <tbody>\n",
       "    <tr>\n",
       "      <th>3279</th>\n",
       "      <td>2001-09-30</td>\n",
       "      <td>Monarch Adult (FIRST sighted)</td>\n",
       "      <td>35.980</td>\n",
       "      <td>-95.808</td>\n",
       "      <td>1</td>\n",
       "      <td>9</td>\n",
       "    </tr>\n",
       "    <tr>\n",
       "      <th>3280</th>\n",
       "      <td>2001-09-30</td>\n",
       "      <td>Monarch Adult (FIRST sighted)</td>\n",
       "      <td>36.001</td>\n",
       "      <td>-83.404</td>\n",
       "      <td>1</td>\n",
       "      <td>9</td>\n",
       "    </tr>\n",
       "    <tr>\n",
       "      <th>3281</th>\n",
       "      <td>2001-09-30</td>\n",
       "      <td>Monarch Adult (FIRST sighted)</td>\n",
       "      <td>42.278</td>\n",
       "      <td>-72.978</td>\n",
       "      <td>1</td>\n",
       "      <td>9</td>\n",
       "    </tr>\n",
       "    <tr>\n",
       "      <th>3282</th>\n",
       "      <td>2001-09-30</td>\n",
       "      <td>Monarch Adult (FIRST sighted)</td>\n",
       "      <td>43.043</td>\n",
       "      <td>-76.151</td>\n",
       "      <td>1</td>\n",
       "      <td>9</td>\n",
       "    </tr>\n",
       "    <tr>\n",
       "      <th>3283</th>\n",
       "      <td>2001-09-30</td>\n",
       "      <td>Monarch Adult (FIRST sighted)</td>\n",
       "      <td>43.220</td>\n",
       "      <td>-77.444</td>\n",
       "      <td>1</td>\n",
       "      <td>9</td>\n",
       "    </tr>\n",
       "  </tbody>\n",
       "</table>\n",
       "</div>"
      ],
      "text/plain": [
       "     sighting_date                        species  latitude  longitude  \\\n",
       "3279    2001-09-30  Monarch Adult (FIRST sighted)    35.980    -95.808   \n",
       "3280    2001-09-30  Monarch Adult (FIRST sighted)    36.001    -83.404   \n",
       "3281    2001-09-30  Monarch Adult (FIRST sighted)    42.278    -72.978   \n",
       "3282    2001-09-30  Monarch Adult (FIRST sighted)    43.043    -76.151   \n",
       "3283    2001-09-30  Monarch Adult (FIRST sighted)    43.220    -77.444   \n",
       "\n",
       "      number  month  \n",
       "3279       1      9  \n",
       "3280       1      9  \n",
       "3281       1      9  \n",
       "3282       1      9  \n",
       "3283       1      9  "
      ]
     },
     "execution_count": 75,
     "metadata": {},
     "output_type": "execute_result"
    }
   ],
   "source": [
    "JNorth_Adult_First_Site_2001_month_df =pd.DataFrame(JNorth_Adult_First_Site_2001_df)\n",
    "JNorth_Adult_First_Site_2001_9_df = JNorth_Adult_First_Site_2001_month_df[JNorth_Adult_First_Site_2001_month_df['month']==9]\n",
    "JNorth_Adult_First_Site_2001_9_df.tail()"
   ]
  },
  {
   "cell_type": "code",
   "execution_count": 76,
   "id": "4ca17692",
   "metadata": {},
   "outputs": [
    {
     "data": {
      "text/plain": [
       "(363, 6)"
      ]
     },
     "execution_count": 76,
     "metadata": {},
     "output_type": "execute_result"
    }
   ],
   "source": [
    "JNorth_Adult_First_Site_2001_9_df.shape"
   ]
  },
  {
   "cell_type": "code",
   "execution_count": 77,
   "id": "a486ee81",
   "metadata": {},
   "outputs": [],
   "source": [
    "JNorth_Adult_First_Site_2001_9_df = pd.DataFrame(JNorth_Adult_First_Site_2001_9_df)\n",
    "JNorth_Adult_First_Site_2001_9_df.drop(['month'], axis=1, inplace=True)"
   ]
  },
  {
   "cell_type": "code",
   "execution_count": 78,
   "id": "2ed76410",
   "metadata": {},
   "outputs": [],
   "source": [
    "# convert lat-long to floats and change address from ALL CAPS to regular capitalization\n",
    "JNorth_Adult_First_Site_2001_9_df['latitude'] = JNorth_Adult_First_Site_2001_9_df['latitude'].astype(float)\n",
    "JNorth_Adult_First_Site_2001_9_df['longitude'] = JNorth_Adult_First_Site_2001_9_df['longitude'].astype(float)\n",
    "# JNorth_Milkweed_Site_df['street_address'] = JNorth_Milkweed_Site_df['street_address'].str.title()"
   ]
  },
  {
   "cell_type": "code",
   "execution_count": 79,
   "id": "153962db",
   "metadata": {},
   "outputs": [],
   "source": [
    "geojson = df_to_geojson(JNorth_Adult_First_Site_2001_9_df, cols)"
   ]
  },
  {
   "cell_type": "code",
   "execution_count": 80,
   "id": "f7e3dccf",
   "metadata": {},
   "outputs": [],
   "source": [
    "file = open(\"JNorth_Adult_First_Site_2001_9.geojson\", \"w\")\n",
    "json.dump(geojson, file, indent =1)\n",
    "file.close()"
   ]
  },
  {
   "cell_type": "markdown",
   "id": "eea9348c",
   "metadata": {},
   "source": [
    "## October"
   ]
  },
  {
   "cell_type": "code",
   "execution_count": 81,
   "id": "df23ee0d",
   "metadata": {},
   "outputs": [
    {
     "data": {
      "text/html": [
       "<div>\n",
       "<style scoped>\n",
       "    .dataframe tbody tr th:only-of-type {\n",
       "        vertical-align: middle;\n",
       "    }\n",
       "\n",
       "    .dataframe tbody tr th {\n",
       "        vertical-align: top;\n",
       "    }\n",
       "\n",
       "    .dataframe thead th {\n",
       "        text-align: right;\n",
       "    }\n",
       "</style>\n",
       "<table border=\"1\" class=\"dataframe\">\n",
       "  <thead>\n",
       "    <tr style=\"text-align: right;\">\n",
       "      <th></th>\n",
       "      <th>sighting_date</th>\n",
       "      <th>species</th>\n",
       "      <th>latitude</th>\n",
       "      <th>longitude</th>\n",
       "      <th>number</th>\n",
       "      <th>month</th>\n",
       "    </tr>\n",
       "  </thead>\n",
       "  <tbody>\n",
       "    <tr>\n",
       "      <th>3415</th>\n",
       "      <td>2001-10-25</td>\n",
       "      <td>Monarch Adult (FIRST sighted)</td>\n",
       "      <td>41.756</td>\n",
       "      <td>-72.764</td>\n",
       "      <td>1</td>\n",
       "      <td>10</td>\n",
       "    </tr>\n",
       "    <tr>\n",
       "      <th>3416</th>\n",
       "      <td>2001-10-29</td>\n",
       "      <td>Monarch Adult (FIRST sighted)</td>\n",
       "      <td>29.200</td>\n",
       "      <td>-96.230</td>\n",
       "      <td>1</td>\n",
       "      <td>10</td>\n",
       "    </tr>\n",
       "    <tr>\n",
       "      <th>3417</th>\n",
       "      <td>2001-10-29</td>\n",
       "      <td>Monarch Adult (FIRST sighted)</td>\n",
       "      <td>35.194</td>\n",
       "      <td>-80.827</td>\n",
       "      <td>1</td>\n",
       "      <td>10</td>\n",
       "    </tr>\n",
       "    <tr>\n",
       "      <th>3418</th>\n",
       "      <td>2001-10-29</td>\n",
       "      <td>Monarch Adult (FIRST sighted)</td>\n",
       "      <td>46.947</td>\n",
       "      <td>-91.924</td>\n",
       "      <td>1</td>\n",
       "      <td>10</td>\n",
       "    </tr>\n",
       "    <tr>\n",
       "      <th>3419</th>\n",
       "      <td>2001-10-31</td>\n",
       "      <td>Monarch Adult (FIRST sighted)</td>\n",
       "      <td>43.150</td>\n",
       "      <td>-79.040</td>\n",
       "      <td>1</td>\n",
       "      <td>10</td>\n",
       "    </tr>\n",
       "  </tbody>\n",
       "</table>\n",
       "</div>"
      ],
      "text/plain": [
       "     sighting_date                        species  latitude  longitude  \\\n",
       "3415    2001-10-25  Monarch Adult (FIRST sighted)    41.756    -72.764   \n",
       "3416    2001-10-29  Monarch Adult (FIRST sighted)    29.200    -96.230   \n",
       "3417    2001-10-29  Monarch Adult (FIRST sighted)    35.194    -80.827   \n",
       "3418    2001-10-29  Monarch Adult (FIRST sighted)    46.947    -91.924   \n",
       "3419    2001-10-31  Monarch Adult (FIRST sighted)    43.150    -79.040   \n",
       "\n",
       "      number  month  \n",
       "3415       1     10  \n",
       "3416       1     10  \n",
       "3417       1     10  \n",
       "3418       1     10  \n",
       "3419       1     10  "
      ]
     },
     "execution_count": 81,
     "metadata": {},
     "output_type": "execute_result"
    }
   ],
   "source": [
    "JNorth_Adult_First_Site_2001_month_df =pd.DataFrame(JNorth_Adult_First_Site_2001_df)\n",
    "JNorth_Adult_First_Site_2001_10_df = JNorth_Adult_First_Site_2001_month_df[JNorth_Adult_First_Site_2001_month_df['month']==10]\n",
    "JNorth_Adult_First_Site_2001_10_df.tail()"
   ]
  },
  {
   "cell_type": "code",
   "execution_count": 82,
   "id": "67f5288a",
   "metadata": {},
   "outputs": [
    {
     "data": {
      "text/plain": [
       "(136, 6)"
      ]
     },
     "execution_count": 82,
     "metadata": {},
     "output_type": "execute_result"
    }
   ],
   "source": [
    "JNorth_Adult_First_Site_2001_10_df.shape"
   ]
  },
  {
   "cell_type": "code",
   "execution_count": 83,
   "id": "a1fb31eb",
   "metadata": {},
   "outputs": [],
   "source": [
    "JNorth_Adult_First_Site_2001_10_df = pd.DataFrame(JNorth_Adult_First_Site_2001_10_df)\n",
    "JNorth_Adult_First_Site_2001_10_df.drop(['month'], axis=1, inplace=True)"
   ]
  },
  {
   "cell_type": "code",
   "execution_count": 84,
   "id": "cc6ee857",
   "metadata": {},
   "outputs": [],
   "source": [
    "# convert lat-long to floats and change address from ALL CAPS to regular capitalization\n",
    "JNorth_Adult_First_Site_2001_10_df['latitude'] = JNorth_Adult_First_Site_2001_10_df['latitude'].astype(float)\n",
    "JNorth_Adult_First_Site_2001_10_df['longitude'] = JNorth_Adult_First_Site_2001_10_df['longitude'].astype(float)\n",
    "# JNorth_Milkweed_Site_df['street_address'] = JNorth_Milkweed_Site_df['street_address'].str.title()"
   ]
  },
  {
   "cell_type": "code",
   "execution_count": 85,
   "id": "712beae1",
   "metadata": {},
   "outputs": [],
   "source": [
    "geojson = df_to_geojson(JNorth_Adult_First_Site_2001_10_df, cols)"
   ]
  },
  {
   "cell_type": "code",
   "execution_count": 86,
   "id": "808cb382",
   "metadata": {},
   "outputs": [],
   "source": [
    "file = open(\"JNorth_Adult_First_Site_2001_10.geojson\", \"w\")\n",
    "json.dump(geojson, file, indent =1)\n",
    "file.close()"
   ]
  },
  {
   "cell_type": "markdown",
   "id": "196b7f94",
   "metadata": {},
   "source": [
    "## November"
   ]
  },
  {
   "cell_type": "code",
   "execution_count": 87,
   "id": "8ddf9ecb",
   "metadata": {},
   "outputs": [
    {
     "data": {
      "text/html": [
       "<div>\n",
       "<style scoped>\n",
       "    .dataframe tbody tr th:only-of-type {\n",
       "        vertical-align: middle;\n",
       "    }\n",
       "\n",
       "    .dataframe tbody tr th {\n",
       "        vertical-align: top;\n",
       "    }\n",
       "\n",
       "    .dataframe thead th {\n",
       "        text-align: right;\n",
       "    }\n",
       "</style>\n",
       "<table border=\"1\" class=\"dataframe\">\n",
       "  <thead>\n",
       "    <tr style=\"text-align: right;\">\n",
       "      <th></th>\n",
       "      <th>sighting_date</th>\n",
       "      <th>species</th>\n",
       "      <th>latitude</th>\n",
       "      <th>longitude</th>\n",
       "      <th>number</th>\n",
       "      <th>month</th>\n",
       "    </tr>\n",
       "  </thead>\n",
       "  <tbody>\n",
       "    <tr>\n",
       "      <th>3425</th>\n",
       "      <td>2001-11-10</td>\n",
       "      <td>Monarch Adult (FIRST sighted)</td>\n",
       "      <td>28.529</td>\n",
       "      <td>-96.679</td>\n",
       "      <td>1</td>\n",
       "      <td>11</td>\n",
       "    </tr>\n",
       "    <tr>\n",
       "      <th>3426</th>\n",
       "      <td>2001-11-15</td>\n",
       "      <td>Monarch Adult (FIRST sighted)</td>\n",
       "      <td>39.645</td>\n",
       "      <td>-105.381</td>\n",
       "      <td>2</td>\n",
       "      <td>11</td>\n",
       "    </tr>\n",
       "    <tr>\n",
       "      <th>3427</th>\n",
       "      <td>2001-11-16</td>\n",
       "      <td>Monarch Adult (FIRST sighted)</td>\n",
       "      <td>30.449</td>\n",
       "      <td>-91.188</td>\n",
       "      <td>1</td>\n",
       "      <td>11</td>\n",
       "    </tr>\n",
       "    <tr>\n",
       "      <th>3428</th>\n",
       "      <td>2001-11-25</td>\n",
       "      <td>Monarch Adult (FIRST sighted)</td>\n",
       "      <td>28.529</td>\n",
       "      <td>-96.679</td>\n",
       "      <td>1</td>\n",
       "      <td>11</td>\n",
       "    </tr>\n",
       "    <tr>\n",
       "      <th>3429</th>\n",
       "      <td>2001-11-28</td>\n",
       "      <td>Monarch Adult (FIRST sighted)</td>\n",
       "      <td>35.742</td>\n",
       "      <td>-91.520</td>\n",
       "      <td>1</td>\n",
       "      <td>11</td>\n",
       "    </tr>\n",
       "  </tbody>\n",
       "</table>\n",
       "</div>"
      ],
      "text/plain": [
       "     sighting_date                        species  latitude  longitude  \\\n",
       "3425    2001-11-10  Monarch Adult (FIRST sighted)    28.529    -96.679   \n",
       "3426    2001-11-15  Monarch Adult (FIRST sighted)    39.645   -105.381   \n",
       "3427    2001-11-16  Monarch Adult (FIRST sighted)    30.449    -91.188   \n",
       "3428    2001-11-25  Monarch Adult (FIRST sighted)    28.529    -96.679   \n",
       "3429    2001-11-28  Monarch Adult (FIRST sighted)    35.742    -91.520   \n",
       "\n",
       "      number  month  \n",
       "3425       1     11  \n",
       "3426       2     11  \n",
       "3427       1     11  \n",
       "3428       1     11  \n",
       "3429       1     11  "
      ]
     },
     "execution_count": 87,
     "metadata": {},
     "output_type": "execute_result"
    }
   ],
   "source": [
    "JNorth_Adult_First_Site_2001_month_df =pd.DataFrame(JNorth_Adult_First_Site_2001_df)\n",
    "JNorth_Adult_First_Site_2001_11_df = JNorth_Adult_First_Site_2001_month_df[JNorth_Adult_First_Site_2001_month_df['month']==11]\n",
    "JNorth_Adult_First_Site_2001_11_df.tail()"
   ]
  },
  {
   "cell_type": "code",
   "execution_count": 88,
   "id": "ad68049a",
   "metadata": {},
   "outputs": [
    {
     "data": {
      "text/plain": [
       "(10, 6)"
      ]
     },
     "execution_count": 88,
     "metadata": {},
     "output_type": "execute_result"
    }
   ],
   "source": [
    "JNorth_Adult_First_Site_2001_11_df.shape"
   ]
  },
  {
   "cell_type": "code",
   "execution_count": 89,
   "id": "b4c89154",
   "metadata": {},
   "outputs": [],
   "source": [
    "JNorth_Adult_First_Site_2001_11_df = pd.DataFrame(JNorth_Adult_First_Site_2001_11_df)\n",
    "JNorth_Adult_First_Site_2001_11_df.drop(['month'], axis=1, inplace=True)"
   ]
  },
  {
   "cell_type": "code",
   "execution_count": 90,
   "id": "d58b4c8b",
   "metadata": {},
   "outputs": [],
   "source": [
    "# convert lat-long to floats and change address from ALL CAPS to regular capitalization\n",
    "JNorth_Adult_First_Site_2001_11_df['latitude'] = JNorth_Adult_First_Site_2001_11_df['latitude'].astype(float)\n",
    "JNorth_Adult_First_Site_2001_11_df['longitude'] = JNorth_Adult_First_Site_2001_11_df['longitude'].astype(float)\n",
    "# JNorth_Milkweed_Site_df['street_address'] = JNorth_Milkweed_Site_df['street_address'].str.title()"
   ]
  },
  {
   "cell_type": "code",
   "execution_count": 91,
   "id": "f699d4b6",
   "metadata": {},
   "outputs": [],
   "source": [
    "geojson = df_to_geojson(JNorth_Adult_First_Site_2001_11_df, cols)"
   ]
  },
  {
   "cell_type": "code",
   "execution_count": 92,
   "id": "834ec4dc",
   "metadata": {},
   "outputs": [],
   "source": [
    "file = open(\"JNorth_Adult_First_Site_2001_11.geojson\", \"w\")\n",
    "json.dump(geojson, file, indent =1)\n",
    "file.close()"
   ]
  },
  {
   "cell_type": "markdown",
   "id": "40c71593",
   "metadata": {},
   "source": [
    "## December"
   ]
  },
  {
   "cell_type": "code",
   "execution_count": 93,
   "id": "6b4b81a1",
   "metadata": {},
   "outputs": [
    {
     "data": {
      "text/html": [
       "<div>\n",
       "<style scoped>\n",
       "    .dataframe tbody tr th:only-of-type {\n",
       "        vertical-align: middle;\n",
       "    }\n",
       "\n",
       "    .dataframe tbody tr th {\n",
       "        vertical-align: top;\n",
       "    }\n",
       "\n",
       "    .dataframe thead th {\n",
       "        text-align: right;\n",
       "    }\n",
       "</style>\n",
       "<table border=\"1\" class=\"dataframe\">\n",
       "  <thead>\n",
       "    <tr style=\"text-align: right;\">\n",
       "      <th></th>\n",
       "      <th>sighting_date</th>\n",
       "      <th>species</th>\n",
       "      <th>latitude</th>\n",
       "      <th>longitude</th>\n",
       "      <th>number</th>\n",
       "      <th>month</th>\n",
       "    </tr>\n",
       "  </thead>\n",
       "  <tbody>\n",
       "    <tr>\n",
       "      <th>3430</th>\n",
       "      <td>2001-12-03</td>\n",
       "      <td>Monarch Adult (FIRST sighted)</td>\n",
       "      <td>35.742</td>\n",
       "      <td>-91.520</td>\n",
       "      <td>1</td>\n",
       "      <td>12</td>\n",
       "    </tr>\n",
       "    <tr>\n",
       "      <th>3431</th>\n",
       "      <td>2001-12-20</td>\n",
       "      <td>Monarch Adult (FIRST sighted)</td>\n",
       "      <td>28.529</td>\n",
       "      <td>-96.679</td>\n",
       "      <td>1</td>\n",
       "      <td>12</td>\n",
       "    </tr>\n",
       "  </tbody>\n",
       "</table>\n",
       "</div>"
      ],
      "text/plain": [
       "     sighting_date                        species  latitude  longitude  \\\n",
       "3430    2001-12-03  Monarch Adult (FIRST sighted)    35.742    -91.520   \n",
       "3431    2001-12-20  Monarch Adult (FIRST sighted)    28.529    -96.679   \n",
       "\n",
       "      number  month  \n",
       "3430       1     12  \n",
       "3431       1     12  "
      ]
     },
     "execution_count": 93,
     "metadata": {},
     "output_type": "execute_result"
    }
   ],
   "source": [
    "JNorth_Adult_First_Site_2001_month_df =pd.DataFrame(JNorth_Adult_First_Site_2001_df)\n",
    "JNorth_Adult_First_Site_2001_12_df = JNorth_Adult_First_Site_2001_month_df[JNorth_Adult_First_Site_2001_month_df['month']==12]\n",
    "JNorth_Adult_First_Site_2001_12_df.tail()"
   ]
  },
  {
   "cell_type": "code",
   "execution_count": 94,
   "id": "c4df5f44",
   "metadata": {},
   "outputs": [
    {
     "data": {
      "text/plain": [
       "(2, 6)"
      ]
     },
     "execution_count": 94,
     "metadata": {},
     "output_type": "execute_result"
    }
   ],
   "source": [
    "JNorth_Adult_First_Site_2001_12_df.shape"
   ]
  },
  {
   "cell_type": "code",
   "execution_count": 95,
   "id": "d6ae0a6a",
   "metadata": {},
   "outputs": [],
   "source": [
    "JNorth_Adult_First_Site_2001_12_df = pd.DataFrame(JNorth_Adult_First_Site_2001_12_df)\n",
    "JNorth_Adult_First_Site_2001_12_df.drop(['month'], axis=1, inplace=True)"
   ]
  },
  {
   "cell_type": "code",
   "execution_count": 96,
   "id": "d4152a7f",
   "metadata": {},
   "outputs": [],
   "source": [
    "# convert lat-long to floats and change address from ALL CAPS to regular capitalization\n",
    "JNorth_Adult_First_Site_2001_12_df['latitude'] = JNorth_Adult_First_Site_2001_12_df['latitude'].astype(float)\n",
    "JNorth_Adult_First_Site_2001_12_df['longitude'] = JNorth_Adult_First_Site_2001_12_df['longitude'].astype(float)\n",
    "# JNorth_Milkweed_Site_df['street_address'] = JNorth_Milkweed_Site_df['street_address'].str.title()"
   ]
  },
  {
   "cell_type": "code",
   "execution_count": 97,
   "id": "dd3a5d1f",
   "metadata": {},
   "outputs": [],
   "source": [
    "geojson = df_to_geojson(JNorth_Adult_First_Site_2001_12_df, cols)"
   ]
  },
  {
   "cell_type": "code",
   "execution_count": 98,
   "id": "028f834c",
   "metadata": {},
   "outputs": [],
   "source": [
    "file = open(\"JNorth_Adult_First_Site_2001_12.geojson\", \"w\")\n",
    "json.dump(geojson, file, indent =1)\n",
    "file.close()"
   ]
  },
  {
   "cell_type": "markdown",
   "id": "64ab3e2c",
   "metadata": {},
   "source": [
    "# 2002"
   ]
  },
  {
   "cell_type": "code",
   "execution_count": 99,
   "id": "66b4ab28",
   "metadata": {},
   "outputs": [
    {
     "data": {
      "text/html": [
       "<div>\n",
       "<style scoped>\n",
       "    .dataframe tbody tr th:only-of-type {\n",
       "        vertical-align: middle;\n",
       "    }\n",
       "\n",
       "    .dataframe tbody tr th {\n",
       "        vertical-align: top;\n",
       "    }\n",
       "\n",
       "    .dataframe thead th {\n",
       "        text-align: right;\n",
       "    }\n",
       "</style>\n",
       "<table border=\"1\" class=\"dataframe\">\n",
       "  <thead>\n",
       "    <tr style=\"text-align: right;\">\n",
       "      <th></th>\n",
       "      <th>sighting_date</th>\n",
       "      <th>species</th>\n",
       "      <th>latitude</th>\n",
       "      <th>longitude</th>\n",
       "      <th>number</th>\n",
       "      <th>year</th>\n",
       "    </tr>\n",
       "  </thead>\n",
       "  <tbody>\n",
       "    <tr>\n",
       "      <th>4775</th>\n",
       "      <td>2002-11-10</td>\n",
       "      <td>Monarch Adult (FIRST sighted)</td>\n",
       "      <td>43.420</td>\n",
       "      <td>-79.250</td>\n",
       "      <td>2</td>\n",
       "      <td>2002</td>\n",
       "    </tr>\n",
       "    <tr>\n",
       "      <th>4776</th>\n",
       "      <td>2002-11-11</td>\n",
       "      <td>Monarch Adult (FIRST sighted)</td>\n",
       "      <td>25.884</td>\n",
       "      <td>-80.182</td>\n",
       "      <td>1</td>\n",
       "      <td>2002</td>\n",
       "    </tr>\n",
       "    <tr>\n",
       "      <th>4777</th>\n",
       "      <td>2002-11-11</td>\n",
       "      <td>Monarch Adult (FIRST sighted)</td>\n",
       "      <td>29.757</td>\n",
       "      <td>-95.365</td>\n",
       "      <td>1</td>\n",
       "      <td>2002</td>\n",
       "    </tr>\n",
       "    <tr>\n",
       "      <th>4778</th>\n",
       "      <td>2002-11-14</td>\n",
       "      <td>Monarch Adult (FIRST sighted)</td>\n",
       "      <td>34.580</td>\n",
       "      <td>-83.584</td>\n",
       "      <td>1</td>\n",
       "      <td>2002</td>\n",
       "    </tr>\n",
       "    <tr>\n",
       "      <th>4779</th>\n",
       "      <td>2002-11-28</td>\n",
       "      <td>Monarch Adult (FIRST sighted)</td>\n",
       "      <td>37.904</td>\n",
       "      <td>-122.536</td>\n",
       "      <td>1</td>\n",
       "      <td>2002</td>\n",
       "    </tr>\n",
       "  </tbody>\n",
       "</table>\n",
       "</div>"
      ],
      "text/plain": [
       "     sighting_date                        species  latitude  longitude  \\\n",
       "4775    2002-11-10  Monarch Adult (FIRST sighted)    43.420    -79.250   \n",
       "4776    2002-11-11  Monarch Adult (FIRST sighted)    25.884    -80.182   \n",
       "4777    2002-11-11  Monarch Adult (FIRST sighted)    29.757    -95.365   \n",
       "4778    2002-11-14  Monarch Adult (FIRST sighted)    34.580    -83.584   \n",
       "4779    2002-11-28  Monarch Adult (FIRST sighted)    37.904   -122.536   \n",
       "\n",
       "      number  year  \n",
       "4775       2  2002  \n",
       "4776       1  2002  \n",
       "4777       1  2002  \n",
       "4778       1  2002  \n",
       "4779       1  2002  "
      ]
     },
     "execution_count": 99,
     "metadata": {},
     "output_type": "execute_result"
    }
   ],
   "source": [
    "JNorth_Adult_First_Site_2002_df = JNorth_Adult_First_Site_year_df[JNorth_Adult_First_Site_year_df['year']==2002]\n",
    "JNorth_Adult_First_Site_2002_df.tail()"
   ]
  },
  {
   "cell_type": "code",
   "execution_count": 100,
   "id": "27387600",
   "metadata": {},
   "outputs": [
    {
     "data": {
      "text/plain": [
       "(1348, 6)"
      ]
     },
     "execution_count": 100,
     "metadata": {},
     "output_type": "execute_result"
    }
   ],
   "source": [
    "JNorth_Adult_First_Site_2002_df.shape"
   ]
  },
  {
   "cell_type": "code",
   "execution_count": 101,
   "id": "39c22eab",
   "metadata": {},
   "outputs": [],
   "source": [
    "JNorth_Adult_First_Site_2002_df = pd.DataFrame(JNorth_Adult_First_Site_2002_df)\n",
    "JNorth_Adult_First_Site_2002_df.drop(['year'], axis=1, inplace=True)"
   ]
  },
  {
   "cell_type": "code",
   "execution_count": 102,
   "id": "02af16d1",
   "metadata": {},
   "outputs": [
    {
     "data": {
      "text/plain": [
       "<bound method NDFrame.tail of      sighting_date                        species  latitude  longitude  number\n",
       "3432    2002-02-23  Monarch Adult (FIRST sighted)    29.827    -95.988       1\n",
       "3433    2002-02-26  Monarch Adult (FIRST sighted)    33.978   -118.447       1\n",
       "3434    2002-02-27  Monarch Adult (FIRST sighted)    29.757    -95.365       1\n",
       "3435    2002-02-28  Monarch Adult (FIRST sighted)    33.834   -118.313       1\n",
       "3436    2002-03-03  Monarch Adult (FIRST sighted)    28.236    -82.737       1\n",
       "...            ...                            ...       ...        ...     ...\n",
       "4775    2002-11-10  Monarch Adult (FIRST sighted)    43.420    -79.250       2\n",
       "4776    2002-11-11  Monarch Adult (FIRST sighted)    25.884    -80.182       1\n",
       "4777    2002-11-11  Monarch Adult (FIRST sighted)    29.757    -95.365       1\n",
       "4778    2002-11-14  Monarch Adult (FIRST sighted)    34.580    -83.584       1\n",
       "4779    2002-11-28  Monarch Adult (FIRST sighted)    37.904   -122.536       1\n",
       "\n",
       "[1348 rows x 5 columns]>"
      ]
     },
     "execution_count": 102,
     "metadata": {},
     "output_type": "execute_result"
    }
   ],
   "source": [
    "JNorth_Adult_First_Site_2002_df.tail"
   ]
  },
  {
   "cell_type": "code",
   "execution_count": 103,
   "id": "0638da02",
   "metadata": {},
   "outputs": [],
   "source": [
    "JNorth_Adult_First_Site_2002_df['month'] = pd.DatetimeIndex(JNorth_Adult_First_Site_2002_df['sighting_date']).month"
   ]
  },
  {
   "cell_type": "markdown",
   "id": "44e36e34",
   "metadata": {},
   "source": [
    "## January"
   ]
  },
  {
   "cell_type": "code",
   "execution_count": 104,
   "id": "9086a832",
   "metadata": {},
   "outputs": [
    {
     "data": {
      "text/html": [
       "<div>\n",
       "<style scoped>\n",
       "    .dataframe tbody tr th:only-of-type {\n",
       "        vertical-align: middle;\n",
       "    }\n",
       "\n",
       "    .dataframe tbody tr th {\n",
       "        vertical-align: top;\n",
       "    }\n",
       "\n",
       "    .dataframe thead th {\n",
       "        text-align: right;\n",
       "    }\n",
       "</style>\n",
       "<table border=\"1\" class=\"dataframe\">\n",
       "  <thead>\n",
       "    <tr style=\"text-align: right;\">\n",
       "      <th></th>\n",
       "      <th>sighting_date</th>\n",
       "      <th>species</th>\n",
       "      <th>latitude</th>\n",
       "      <th>longitude</th>\n",
       "      <th>number</th>\n",
       "      <th>month</th>\n",
       "    </tr>\n",
       "  </thead>\n",
       "  <tbody>\n",
       "  </tbody>\n",
       "</table>\n",
       "</div>"
      ],
      "text/plain": [
       "Empty DataFrame\n",
       "Columns: [sighting_date, species, latitude, longitude, number, month]\n",
       "Index: []"
      ]
     },
     "execution_count": 104,
     "metadata": {},
     "output_type": "execute_result"
    }
   ],
   "source": [
    "JNorth_Adult_First_Site_2002_month_df =pd.DataFrame(JNorth_Adult_First_Site_2002_df)\n",
    "JNorth_Adult_First_Site_2002_1_df = JNorth_Adult_First_Site_2002_month_df[JNorth_Adult_First_Site_2002_month_df['month']==1]\n",
    "JNorth_Adult_First_Site_2002_1_df.tail()"
   ]
  },
  {
   "cell_type": "code",
   "execution_count": 105,
   "id": "9e27c140",
   "metadata": {},
   "outputs": [
    {
     "data": {
      "text/plain": [
       "(0, 6)"
      ]
     },
     "execution_count": 105,
     "metadata": {},
     "output_type": "execute_result"
    }
   ],
   "source": [
    "JNorth_Adult_First_Site_2002_1_df.shape"
   ]
  },
  {
   "cell_type": "code",
   "execution_count": 106,
   "id": "b53fb638",
   "metadata": {},
   "outputs": [],
   "source": [
    "JNorth_Adult_First_Site_2002_1_df = pd.DataFrame(JNorth_Adult_First_Site_2002_1_df)\n",
    "JNorth_Adult_First_Site_2002_1_df.drop(['month'], axis=1, inplace=True)"
   ]
  },
  {
   "cell_type": "code",
   "execution_count": 107,
   "id": "314d9a0e",
   "metadata": {},
   "outputs": [],
   "source": [
    "# convert lat-long to floats and change address from ALL CAPS to regular capitalization\n",
    "JNorth_Adult_First_Site_2002_1_df['latitude'] = JNorth_Adult_First_Site_2002_1_df['latitude'].astype(float)\n",
    "JNorth_Adult_First_Site_2002_1_df['longitude'] = JNorth_Adult_First_Site_2002_1_df['longitude'].astype(float)\n",
    "# JNorth_Milkweed_Site_df['street_address'] = JNorth_Milkweed_Site_df['street_address'].str.title()"
   ]
  },
  {
   "cell_type": "code",
   "execution_count": 108,
   "id": "cf406e10",
   "metadata": {},
   "outputs": [],
   "source": [
    "geojson = df_to_geojson(JNorth_Adult_First_Site_2002_1_df, cols)"
   ]
  },
  {
   "cell_type": "code",
   "execution_count": 109,
   "id": "cf076629",
   "metadata": {},
   "outputs": [],
   "source": [
    "file = open(\"JNorth_Adult_First_Site_2002_1.geojson\", \"w\")\n",
    "json.dump(geojson, file, indent =1)\n",
    "file.close()"
   ]
  },
  {
   "cell_type": "markdown",
   "id": "f3c4b9a4",
   "metadata": {},
   "source": [
    "## February"
   ]
  },
  {
   "cell_type": "code",
   "execution_count": 110,
   "id": "89e4afd6",
   "metadata": {},
   "outputs": [
    {
     "data": {
      "text/html": [
       "<div>\n",
       "<style scoped>\n",
       "    .dataframe tbody tr th:only-of-type {\n",
       "        vertical-align: middle;\n",
       "    }\n",
       "\n",
       "    .dataframe tbody tr th {\n",
       "        vertical-align: top;\n",
       "    }\n",
       "\n",
       "    .dataframe thead th {\n",
       "        text-align: right;\n",
       "    }\n",
       "</style>\n",
       "<table border=\"1\" class=\"dataframe\">\n",
       "  <thead>\n",
       "    <tr style=\"text-align: right;\">\n",
       "      <th></th>\n",
       "      <th>sighting_date</th>\n",
       "      <th>species</th>\n",
       "      <th>latitude</th>\n",
       "      <th>longitude</th>\n",
       "      <th>number</th>\n",
       "      <th>month</th>\n",
       "    </tr>\n",
       "  </thead>\n",
       "  <tbody>\n",
       "    <tr>\n",
       "      <th>3432</th>\n",
       "      <td>2002-02-23</td>\n",
       "      <td>Monarch Adult (FIRST sighted)</td>\n",
       "      <td>29.827</td>\n",
       "      <td>-95.988</td>\n",
       "      <td>1</td>\n",
       "      <td>2</td>\n",
       "    </tr>\n",
       "    <tr>\n",
       "      <th>3433</th>\n",
       "      <td>2002-02-26</td>\n",
       "      <td>Monarch Adult (FIRST sighted)</td>\n",
       "      <td>33.978</td>\n",
       "      <td>-118.447</td>\n",
       "      <td>1</td>\n",
       "      <td>2</td>\n",
       "    </tr>\n",
       "    <tr>\n",
       "      <th>3434</th>\n",
       "      <td>2002-02-27</td>\n",
       "      <td>Monarch Adult (FIRST sighted)</td>\n",
       "      <td>29.757</td>\n",
       "      <td>-95.365</td>\n",
       "      <td>1</td>\n",
       "      <td>2</td>\n",
       "    </tr>\n",
       "    <tr>\n",
       "      <th>3435</th>\n",
       "      <td>2002-02-28</td>\n",
       "      <td>Monarch Adult (FIRST sighted)</td>\n",
       "      <td>33.834</td>\n",
       "      <td>-118.313</td>\n",
       "      <td>1</td>\n",
       "      <td>2</td>\n",
       "    </tr>\n",
       "  </tbody>\n",
       "</table>\n",
       "</div>"
      ],
      "text/plain": [
       "     sighting_date                        species  latitude  longitude  \\\n",
       "3432    2002-02-23  Monarch Adult (FIRST sighted)    29.827    -95.988   \n",
       "3433    2002-02-26  Monarch Adult (FIRST sighted)    33.978   -118.447   \n",
       "3434    2002-02-27  Monarch Adult (FIRST sighted)    29.757    -95.365   \n",
       "3435    2002-02-28  Monarch Adult (FIRST sighted)    33.834   -118.313   \n",
       "\n",
       "      number  month  \n",
       "3432       1      2  \n",
       "3433       1      2  \n",
       "3434       1      2  \n",
       "3435       1      2  "
      ]
     },
     "execution_count": 110,
     "metadata": {},
     "output_type": "execute_result"
    }
   ],
   "source": [
    "JNorth_Adult_First_Site_2002_month_df =pd.DataFrame(JNorth_Adult_First_Site_2002_df)\n",
    "JNorth_Adult_First_Site_2002_2_df = JNorth_Adult_First_Site_2002_month_df[JNorth_Adult_First_Site_2002_month_df['month']==2]\n",
    "JNorth_Adult_First_Site_2002_2_df.tail()"
   ]
  },
  {
   "cell_type": "code",
   "execution_count": 111,
   "id": "0e6eeb72",
   "metadata": {},
   "outputs": [
    {
     "data": {
      "text/plain": [
       "(4, 6)"
      ]
     },
     "execution_count": 111,
     "metadata": {},
     "output_type": "execute_result"
    }
   ],
   "source": [
    "JNorth_Adult_First_Site_2002_2_df.shape"
   ]
  },
  {
   "cell_type": "code",
   "execution_count": 112,
   "id": "de099469",
   "metadata": {},
   "outputs": [],
   "source": [
    "JNorth_Adult_First_Site_2002_2_df = pd.DataFrame(JNorth_Adult_First_Site_2002_2_df)\n",
    "JNorth_Adult_First_Site_2002_2_df.drop(['month'], axis=1, inplace=True)"
   ]
  },
  {
   "cell_type": "code",
   "execution_count": 113,
   "id": "a94edae4",
   "metadata": {},
   "outputs": [],
   "source": [
    "# convert lat-long to floats and change address from ALL CAPS to regular capitalization\n",
    "JNorth_Adult_First_Site_2002_2_df['latitude'] = JNorth_Adult_First_Site_2002_2_df['latitude'].astype(float)\n",
    "JNorth_Adult_First_Site_2002_2_df['longitude'] = JNorth_Adult_First_Site_2002_2_df['longitude'].astype(float)\n",
    "# JNorth_Milkweed_Site_df['street_address'] = JNorth_Milkweed_Site_df['street_address'].str.title()"
   ]
  },
  {
   "cell_type": "code",
   "execution_count": 114,
   "id": "3a7a03f0",
   "metadata": {},
   "outputs": [],
   "source": [
    "geojson = df_to_geojson(JNorth_Adult_First_Site_2002_2_df, cols)"
   ]
  },
  {
   "cell_type": "code",
   "execution_count": 115,
   "id": "f5e3b20b",
   "metadata": {},
   "outputs": [],
   "source": [
    "file = open(\"JNorth_Adult_First_Site_2002_2.geojson\", \"w\")\n",
    "json.dump(geojson, file, indent =1)\n",
    "file.close()"
   ]
  },
  {
   "cell_type": "markdown",
   "id": "7e14e69d",
   "metadata": {},
   "source": [
    "## March"
   ]
  },
  {
   "cell_type": "code",
   "execution_count": 116,
   "id": "81e1f20b",
   "metadata": {},
   "outputs": [
    {
     "data": {
      "text/html": [
       "<div>\n",
       "<style scoped>\n",
       "    .dataframe tbody tr th:only-of-type {\n",
       "        vertical-align: middle;\n",
       "    }\n",
       "\n",
       "    .dataframe tbody tr th {\n",
       "        vertical-align: top;\n",
       "    }\n",
       "\n",
       "    .dataframe thead th {\n",
       "        text-align: right;\n",
       "    }\n",
       "</style>\n",
       "<table border=\"1\" class=\"dataframe\">\n",
       "  <thead>\n",
       "    <tr style=\"text-align: right;\">\n",
       "      <th></th>\n",
       "      <th>sighting_date</th>\n",
       "      <th>species</th>\n",
       "      <th>latitude</th>\n",
       "      <th>longitude</th>\n",
       "      <th>number</th>\n",
       "      <th>month</th>\n",
       "    </tr>\n",
       "  </thead>\n",
       "  <tbody>\n",
       "    <tr>\n",
       "      <th>3634</th>\n",
       "      <td>2002-03-31</td>\n",
       "      <td>Monarch Adult (FIRST sighted)</td>\n",
       "      <td>33.612</td>\n",
       "      <td>-102.389</td>\n",
       "      <td>1</td>\n",
       "      <td>3</td>\n",
       "    </tr>\n",
       "    <tr>\n",
       "      <th>3635</th>\n",
       "      <td>2002-03-31</td>\n",
       "      <td>Monarch Adult (FIRST sighted)</td>\n",
       "      <td>33.782</td>\n",
       "      <td>-97.725</td>\n",
       "      <td>1</td>\n",
       "      <td>3</td>\n",
       "    </tr>\n",
       "    <tr>\n",
       "      <th>3636</th>\n",
       "      <td>2002-03-31</td>\n",
       "      <td>Monarch Adult (FIRST sighted)</td>\n",
       "      <td>35.098</td>\n",
       "      <td>-93.608</td>\n",
       "      <td>1</td>\n",
       "      <td>3</td>\n",
       "    </tr>\n",
       "    <tr>\n",
       "      <th>3637</th>\n",
       "      <td>2002-03-31</td>\n",
       "      <td>Monarch Adult (FIRST sighted)</td>\n",
       "      <td>35.250</td>\n",
       "      <td>-92.304</td>\n",
       "      <td>1</td>\n",
       "      <td>3</td>\n",
       "    </tr>\n",
       "    <tr>\n",
       "      <th>3638</th>\n",
       "      <td>2002-03-31</td>\n",
       "      <td>Monarch Adult (FIRST sighted)</td>\n",
       "      <td>35.537</td>\n",
       "      <td>-94.750</td>\n",
       "      <td>1</td>\n",
       "      <td>3</td>\n",
       "    </tr>\n",
       "  </tbody>\n",
       "</table>\n",
       "</div>"
      ],
      "text/plain": [
       "     sighting_date                        species  latitude  longitude  \\\n",
       "3634    2002-03-31  Monarch Adult (FIRST sighted)    33.612   -102.389   \n",
       "3635    2002-03-31  Monarch Adult (FIRST sighted)    33.782    -97.725   \n",
       "3636    2002-03-31  Monarch Adult (FIRST sighted)    35.098    -93.608   \n",
       "3637    2002-03-31  Monarch Adult (FIRST sighted)    35.250    -92.304   \n",
       "3638    2002-03-31  Monarch Adult (FIRST sighted)    35.537    -94.750   \n",
       "\n",
       "      number  month  \n",
       "3634       1      3  \n",
       "3635       1      3  \n",
       "3636       1      3  \n",
       "3637       1      3  \n",
       "3638       1      3  "
      ]
     },
     "execution_count": 116,
     "metadata": {},
     "output_type": "execute_result"
    }
   ],
   "source": [
    "JNorth_Adult_First_Site_2002_month_df =pd.DataFrame(JNorth_Adult_First_Site_2002_df)\n",
    "JNorth_Adult_First_Site_2002_3_df = JNorth_Adult_First_Site_2002_month_df[JNorth_Adult_First_Site_2002_month_df['month']==3]\n",
    "JNorth_Adult_First_Site_2002_3_df.tail()"
   ]
  },
  {
   "cell_type": "code",
   "execution_count": 117,
   "id": "77640de4",
   "metadata": {},
   "outputs": [
    {
     "data": {
      "text/plain": [
       "(203, 6)"
      ]
     },
     "execution_count": 117,
     "metadata": {},
     "output_type": "execute_result"
    }
   ],
   "source": [
    "JNorth_Adult_First_Site_2002_3_df.shape"
   ]
  },
  {
   "cell_type": "code",
   "execution_count": 118,
   "id": "457cb4d6",
   "metadata": {},
   "outputs": [],
   "source": [
    "JNorth_Adult_First_Site_2002_3_df = pd.DataFrame(JNorth_Adult_First_Site_2002_3_df)\n",
    "JNorth_Adult_First_Site_2002_3_df.drop(['month'], axis=1, inplace=True)"
   ]
  },
  {
   "cell_type": "code",
   "execution_count": 119,
   "id": "86206cff",
   "metadata": {},
   "outputs": [],
   "source": [
    "# convert lat-long to floats and change address from ALL CAPS to regular capitalization\n",
    "JNorth_Adult_First_Site_2002_3_df['latitude'] = JNorth_Adult_First_Site_2002_3_df['latitude'].astype(float)\n",
    "JNorth_Adult_First_Site_2002_3_df['longitude'] = JNorth_Adult_First_Site_2002_3_df['longitude'].astype(float)\n",
    "# JNorth_Milkweed_Site_df['street_address'] = JNorth_Milkweed_Site_df['street_address'].str.title()"
   ]
  },
  {
   "cell_type": "code",
   "execution_count": 120,
   "id": "b22c5380",
   "metadata": {},
   "outputs": [],
   "source": [
    "geojson = df_to_geojson(JNorth_Adult_First_Site_2002_3_df, cols)"
   ]
  },
  {
   "cell_type": "code",
   "execution_count": 121,
   "id": "17df86d3",
   "metadata": {},
   "outputs": [],
   "source": [
    "file = open(\"JNorth_Adult_First_Site_2002_3.geojson\", \"w\")\n",
    "json.dump(geojson, file, indent =1)\n",
    "file.close()"
   ]
  },
  {
   "cell_type": "markdown",
   "id": "4a4cedaa",
   "metadata": {},
   "source": [
    "## April"
   ]
  },
  {
   "cell_type": "code",
   "execution_count": 122,
   "id": "73accd48",
   "metadata": {},
   "outputs": [
    {
     "data": {
      "text/html": [
       "<div>\n",
       "<style scoped>\n",
       "    .dataframe tbody tr th:only-of-type {\n",
       "        vertical-align: middle;\n",
       "    }\n",
       "\n",
       "    .dataframe tbody tr th {\n",
       "        vertical-align: top;\n",
       "    }\n",
       "\n",
       "    .dataframe thead th {\n",
       "        text-align: right;\n",
       "    }\n",
       "</style>\n",
       "<table border=\"1\" class=\"dataframe\">\n",
       "  <thead>\n",
       "    <tr style=\"text-align: right;\">\n",
       "      <th></th>\n",
       "      <th>sighting_date</th>\n",
       "      <th>species</th>\n",
       "      <th>latitude</th>\n",
       "      <th>longitude</th>\n",
       "      <th>number</th>\n",
       "      <th>month</th>\n",
       "    </tr>\n",
       "  </thead>\n",
       "  <tbody>\n",
       "    <tr>\n",
       "      <th>3719</th>\n",
       "      <td>2002-04-28</td>\n",
       "      <td>Monarch Adult (FIRST sighted)</td>\n",
       "      <td>35.594</td>\n",
       "      <td>-82.558</td>\n",
       "      <td>1</td>\n",
       "      <td>4</td>\n",
       "    </tr>\n",
       "    <tr>\n",
       "      <th>3720</th>\n",
       "      <td>2002-04-28</td>\n",
       "      <td>Monarch Adult (FIRST sighted)</td>\n",
       "      <td>36.963</td>\n",
       "      <td>-79.865</td>\n",
       "      <td>1</td>\n",
       "      <td>4</td>\n",
       "    </tr>\n",
       "    <tr>\n",
       "      <th>3721</th>\n",
       "      <td>2002-04-29</td>\n",
       "      <td>Monarch Adult (FIRST sighted)</td>\n",
       "      <td>33.451</td>\n",
       "      <td>-112.069</td>\n",
       "      <td>1</td>\n",
       "      <td>4</td>\n",
       "    </tr>\n",
       "    <tr>\n",
       "      <th>3722</th>\n",
       "      <td>2002-04-29</td>\n",
       "      <td>Monarch Adult (FIRST sighted)</td>\n",
       "      <td>42.055</td>\n",
       "      <td>-93.569</td>\n",
       "      <td>1</td>\n",
       "      <td>4</td>\n",
       "    </tr>\n",
       "    <tr>\n",
       "      <th>3723</th>\n",
       "      <td>2002-04-30</td>\n",
       "      <td>Monarch Adult (FIRST sighted)</td>\n",
       "      <td>28.234</td>\n",
       "      <td>-82.327</td>\n",
       "      <td>1</td>\n",
       "      <td>4</td>\n",
       "    </tr>\n",
       "  </tbody>\n",
       "</table>\n",
       "</div>"
      ],
      "text/plain": [
       "     sighting_date                        species  latitude  longitude  \\\n",
       "3719    2002-04-28  Monarch Adult (FIRST sighted)    35.594    -82.558   \n",
       "3720    2002-04-28  Monarch Adult (FIRST sighted)    36.963    -79.865   \n",
       "3721    2002-04-29  Monarch Adult (FIRST sighted)    33.451   -112.069   \n",
       "3722    2002-04-29  Monarch Adult (FIRST sighted)    42.055    -93.569   \n",
       "3723    2002-04-30  Monarch Adult (FIRST sighted)    28.234    -82.327   \n",
       "\n",
       "      number  month  \n",
       "3719       1      4  \n",
       "3720       1      4  \n",
       "3721       1      4  \n",
       "3722       1      4  \n",
       "3723       1      4  "
      ]
     },
     "execution_count": 122,
     "metadata": {},
     "output_type": "execute_result"
    }
   ],
   "source": [
    "JNorth_Adult_First_Site_2002_month_df =pd.DataFrame(JNorth_Adult_First_Site_2002_df)\n",
    "JNorth_Adult_First_Site_2002_4_df = JNorth_Adult_First_Site_2002_month_df[JNorth_Adult_First_Site_2002_month_df['month']==4]\n",
    "JNorth_Adult_First_Site_2002_4_df.tail()"
   ]
  },
  {
   "cell_type": "code",
   "execution_count": 123,
   "id": "72615f10",
   "metadata": {},
   "outputs": [
    {
     "data": {
      "text/plain": [
       "(85, 6)"
      ]
     },
     "execution_count": 123,
     "metadata": {},
     "output_type": "execute_result"
    }
   ],
   "source": [
    "JNorth_Adult_First_Site_2002_4_df.shape"
   ]
  },
  {
   "cell_type": "code",
   "execution_count": 124,
   "id": "bffd7898",
   "metadata": {},
   "outputs": [],
   "source": [
    "JNorth_Adult_First_Site_2002_4_df = pd.DataFrame(JNorth_Adult_First_Site_2002_4_df)\n",
    "JNorth_Adult_First_Site_2002_4_df.drop(['month'], axis=1, inplace=True)"
   ]
  },
  {
   "cell_type": "code",
   "execution_count": 125,
   "id": "b3e14bfa",
   "metadata": {},
   "outputs": [],
   "source": [
    "# convert lat-long to floats and change address from ALL CAPS to regular capitalization\n",
    "JNorth_Adult_First_Site_2002_4_df['latitude'] = JNorth_Adult_First_Site_2002_4_df['latitude'].astype(float)\n",
    "JNorth_Adult_First_Site_2002_4_df['longitude'] = JNorth_Adult_First_Site_2002_4_df['longitude'].astype(float)\n",
    "# JNorth_Milkweed_Site_df['street_address'] = JNorth_Milkweed_Site_df['street_address'].str.title()"
   ]
  },
  {
   "cell_type": "code",
   "execution_count": 126,
   "id": "44604289",
   "metadata": {},
   "outputs": [],
   "source": [
    "geojson = df_to_geojson(JNorth_Adult_First_Site_2002_4_df, cols)"
   ]
  },
  {
   "cell_type": "code",
   "execution_count": 127,
   "id": "04f50b24",
   "metadata": {},
   "outputs": [],
   "source": [
    "file = open(\"JNorth_Adult_First_Site_2002_4.geojson\", \"w\")\n",
    "json.dump(geojson, file, indent =1)\n",
    "file.close()"
   ]
  },
  {
   "cell_type": "markdown",
   "id": "c4b4fad0",
   "metadata": {},
   "source": [
    "## May"
   ]
  },
  {
   "cell_type": "code",
   "execution_count": 128,
   "id": "6febcc70",
   "metadata": {},
   "outputs": [
    {
     "data": {
      "text/html": [
       "<div>\n",
       "<style scoped>\n",
       "    .dataframe tbody tr th:only-of-type {\n",
       "        vertical-align: middle;\n",
       "    }\n",
       "\n",
       "    .dataframe tbody tr th {\n",
       "        vertical-align: top;\n",
       "    }\n",
       "\n",
       "    .dataframe thead th {\n",
       "        text-align: right;\n",
       "    }\n",
       "</style>\n",
       "<table border=\"1\" class=\"dataframe\">\n",
       "  <thead>\n",
       "    <tr style=\"text-align: right;\">\n",
       "      <th></th>\n",
       "      <th>sighting_date</th>\n",
       "      <th>species</th>\n",
       "      <th>latitude</th>\n",
       "      <th>longitude</th>\n",
       "      <th>number</th>\n",
       "      <th>month</th>\n",
       "    </tr>\n",
       "  </thead>\n",
       "  <tbody>\n",
       "    <tr>\n",
       "      <th>3896</th>\n",
       "      <td>2002-05-31</td>\n",
       "      <td>Monarch Adult (FIRST sighted)</td>\n",
       "      <td>45.226</td>\n",
       "      <td>-94.861</td>\n",
       "      <td>1</td>\n",
       "      <td>5</td>\n",
       "    </tr>\n",
       "    <tr>\n",
       "      <th>3897</th>\n",
       "      <td>2002-05-31</td>\n",
       "      <td>Monarch Adult (FIRST sighted)</td>\n",
       "      <td>45.584</td>\n",
       "      <td>-85.039</td>\n",
       "      <td>1</td>\n",
       "      <td>5</td>\n",
       "    </tr>\n",
       "    <tr>\n",
       "      <th>3898</th>\n",
       "      <td>2002-05-31</td>\n",
       "      <td>Monarch Adult (FIRST sighted)</td>\n",
       "      <td>45.890</td>\n",
       "      <td>-88.039</td>\n",
       "      <td>1</td>\n",
       "      <td>5</td>\n",
       "    </tr>\n",
       "    <tr>\n",
       "      <th>3899</th>\n",
       "      <td>2002-05-31</td>\n",
       "      <td>Monarch Adult (FIRST sighted)</td>\n",
       "      <td>46.112</td>\n",
       "      <td>-86.008</td>\n",
       "      <td>1</td>\n",
       "      <td>5</td>\n",
       "    </tr>\n",
       "    <tr>\n",
       "      <th>3900</th>\n",
       "      <td>2002-05-31</td>\n",
       "      <td>Monarch Adult (FIRST sighted)</td>\n",
       "      <td>48.230</td>\n",
       "      <td>-88.350</td>\n",
       "      <td>1</td>\n",
       "      <td>5</td>\n",
       "    </tr>\n",
       "  </tbody>\n",
       "</table>\n",
       "</div>"
      ],
      "text/plain": [
       "     sighting_date                        species  latitude  longitude  \\\n",
       "3896    2002-05-31  Monarch Adult (FIRST sighted)    45.226    -94.861   \n",
       "3897    2002-05-31  Monarch Adult (FIRST sighted)    45.584    -85.039   \n",
       "3898    2002-05-31  Monarch Adult (FIRST sighted)    45.890    -88.039   \n",
       "3899    2002-05-31  Monarch Adult (FIRST sighted)    46.112    -86.008   \n",
       "3900    2002-05-31  Monarch Adult (FIRST sighted)    48.230    -88.350   \n",
       "\n",
       "      number  month  \n",
       "3896       1      5  \n",
       "3897       1      5  \n",
       "3898       1      5  \n",
       "3899       1      5  \n",
       "3900       1      5  "
      ]
     },
     "execution_count": 128,
     "metadata": {},
     "output_type": "execute_result"
    }
   ],
   "source": [
    "JNorth_Adult_First_Site_2002_month_df =pd.DataFrame(JNorth_Adult_First_Site_2002_df)\n",
    "JNorth_Adult_First_Site_2002_5_df = JNorth_Adult_First_Site_2002_month_df[JNorth_Adult_First_Site_2002_month_df['month']==5]\n",
    "JNorth_Adult_First_Site_2002_5_df.tail()"
   ]
  },
  {
   "cell_type": "code",
   "execution_count": 129,
   "id": "bc950b62",
   "metadata": {},
   "outputs": [
    {
     "data": {
      "text/plain": [
       "(177, 6)"
      ]
     },
     "execution_count": 129,
     "metadata": {},
     "output_type": "execute_result"
    }
   ],
   "source": [
    "JNorth_Adult_First_Site_2002_5_df.shape"
   ]
  },
  {
   "cell_type": "code",
   "execution_count": 130,
   "id": "a37e0b0f",
   "metadata": {},
   "outputs": [],
   "source": [
    "JNorth_Adult_First_Site_2002_5_df = pd.DataFrame(JNorth_Adult_First_Site_2002_5_df)\n",
    "JNorth_Adult_First_Site_2002_5_df.drop(['month'], axis=1, inplace=True)"
   ]
  },
  {
   "cell_type": "code",
   "execution_count": 131,
   "id": "8b0047b5",
   "metadata": {},
   "outputs": [],
   "source": [
    "# convert lat-long to floats and change address from ALL CAPS to regular capitalization\n",
    "JNorth_Adult_First_Site_2002_5_df['latitude'] = JNorth_Adult_First_Site_2002_5_df['latitude'].astype(float)\n",
    "JNorth_Adult_First_Site_2002_5_df['longitude'] = JNorth_Adult_First_Site_2002_5_df['longitude'].astype(float)\n",
    "# JNorth_Milkweed_Site_df['street_address'] = JNorth_Milkweed_Site_df['street_address'].str.title()"
   ]
  },
  {
   "cell_type": "code",
   "execution_count": 132,
   "id": "b3c214f4",
   "metadata": {},
   "outputs": [],
   "source": [
    "geojson = df_to_geojson(JNorth_Adult_First_Site_2002_5_df, cols)"
   ]
  },
  {
   "cell_type": "code",
   "execution_count": 133,
   "id": "d95a7a19",
   "metadata": {},
   "outputs": [],
   "source": [
    "file = open(\"JNorth_Adult_First_Site_2002_5.geojson\", \"w\")\n",
    "json.dump(geojson, file, indent =1)\n",
    "file.close()"
   ]
  },
  {
   "cell_type": "markdown",
   "id": "531966d4",
   "metadata": {},
   "source": [
    "## June"
   ]
  },
  {
   "cell_type": "code",
   "execution_count": 134,
   "id": "2305e35e",
   "metadata": {},
   "outputs": [
    {
     "data": {
      "text/html": [
       "<div>\n",
       "<style scoped>\n",
       "    .dataframe tbody tr th:only-of-type {\n",
       "        vertical-align: middle;\n",
       "    }\n",
       "\n",
       "    .dataframe tbody tr th {\n",
       "        vertical-align: top;\n",
       "    }\n",
       "\n",
       "    .dataframe thead th {\n",
       "        text-align: right;\n",
       "    }\n",
       "</style>\n",
       "<table border=\"1\" class=\"dataframe\">\n",
       "  <thead>\n",
       "    <tr style=\"text-align: right;\">\n",
       "      <th></th>\n",
       "      <th>sighting_date</th>\n",
       "      <th>species</th>\n",
       "      <th>latitude</th>\n",
       "      <th>longitude</th>\n",
       "      <th>number</th>\n",
       "      <th>month</th>\n",
       "    </tr>\n",
       "  </thead>\n",
       "  <tbody>\n",
       "    <tr>\n",
       "      <th>3976</th>\n",
       "      <td>2002-06-25</td>\n",
       "      <td>Monarch Adult (FIRST sighted)</td>\n",
       "      <td>44.233</td>\n",
       "      <td>-74.317</td>\n",
       "      <td>1</td>\n",
       "      <td>6</td>\n",
       "    </tr>\n",
       "    <tr>\n",
       "      <th>3977</th>\n",
       "      <td>2002-06-26</td>\n",
       "      <td>Monarch Adult (FIRST sighted)</td>\n",
       "      <td>38.939</td>\n",
       "      <td>-85.877</td>\n",
       "      <td>1</td>\n",
       "      <td>6</td>\n",
       "    </tr>\n",
       "    <tr>\n",
       "      <th>3978</th>\n",
       "      <td>2002-06-26</td>\n",
       "      <td>Monarch Adult (FIRST sighted)</td>\n",
       "      <td>39.956</td>\n",
       "      <td>-81.993</td>\n",
       "      <td>1</td>\n",
       "      <td>6</td>\n",
       "    </tr>\n",
       "    <tr>\n",
       "      <th>3979</th>\n",
       "      <td>2002-06-29</td>\n",
       "      <td>Monarch Adult (FIRST sighted)</td>\n",
       "      <td>39.923</td>\n",
       "      <td>-122.229</td>\n",
       "      <td>1</td>\n",
       "      <td>6</td>\n",
       "    </tr>\n",
       "    <tr>\n",
       "      <th>3980</th>\n",
       "      <td>2002-06-30</td>\n",
       "      <td>Monarch Adult (FIRST sighted)</td>\n",
       "      <td>48.976</td>\n",
       "      <td>-122.701</td>\n",
       "      <td>1</td>\n",
       "      <td>6</td>\n",
       "    </tr>\n",
       "  </tbody>\n",
       "</table>\n",
       "</div>"
      ],
      "text/plain": [
       "     sighting_date                        species  latitude  longitude  \\\n",
       "3976    2002-06-25  Monarch Adult (FIRST sighted)    44.233    -74.317   \n",
       "3977    2002-06-26  Monarch Adult (FIRST sighted)    38.939    -85.877   \n",
       "3978    2002-06-26  Monarch Adult (FIRST sighted)    39.956    -81.993   \n",
       "3979    2002-06-29  Monarch Adult (FIRST sighted)    39.923   -122.229   \n",
       "3980    2002-06-30  Monarch Adult (FIRST sighted)    48.976   -122.701   \n",
       "\n",
       "      number  month  \n",
       "3976       1      6  \n",
       "3977       1      6  \n",
       "3978       1      6  \n",
       "3979       1      6  \n",
       "3980       1      6  "
      ]
     },
     "execution_count": 134,
     "metadata": {},
     "output_type": "execute_result"
    }
   ],
   "source": [
    "JNorth_Adult_First_Site_2002_month_df =pd.DataFrame(JNorth_Adult_First_Site_2002_df)\n",
    "JNorth_Adult_First_Site_2002_6_df = JNorth_Adult_First_Site_2002_month_df[JNorth_Adult_First_Site_2002_month_df['month']==6]\n",
    "JNorth_Adult_First_Site_2002_6_df.tail()"
   ]
  },
  {
   "cell_type": "code",
   "execution_count": 135,
   "id": "bdf45121",
   "metadata": {},
   "outputs": [
    {
     "data": {
      "text/plain": [
       "(80, 6)"
      ]
     },
     "execution_count": 135,
     "metadata": {},
     "output_type": "execute_result"
    }
   ],
   "source": [
    "JNorth_Adult_First_Site_2002_6_df.shape"
   ]
  },
  {
   "cell_type": "code",
   "execution_count": 136,
   "id": "7ced5440",
   "metadata": {},
   "outputs": [],
   "source": [
    "JNorth_Adult_First_Site_2002_6_df = pd.DataFrame(JNorth_Adult_First_Site_2002_6_df)\n",
    "JNorth_Adult_First_Site_2002_6_df.drop(['month'], axis=1, inplace=True)"
   ]
  },
  {
   "cell_type": "code",
   "execution_count": 137,
   "id": "2d41d70d",
   "metadata": {},
   "outputs": [],
   "source": [
    "# convert lat-long to floats and change address from ALL CAPS to regular capitalization\n",
    "JNorth_Adult_First_Site_2002_6_df['latitude'] = JNorth_Adult_First_Site_2002_6_df['latitude'].astype(float)\n",
    "JNorth_Adult_First_Site_2002_6_df['longitude'] = JNorth_Adult_First_Site_2002_6_df['longitude'].astype(float)\n",
    "# JNorth_Milkweed_Site_df['street_address'] = JNorth_Milkweed_Site_df['street_address'].str.title()"
   ]
  },
  {
   "cell_type": "code",
   "execution_count": 138,
   "id": "a8475bb2",
   "metadata": {},
   "outputs": [],
   "source": [
    "geojson = df_to_geojson(JNorth_Adult_First_Site_2002_6_df, cols)"
   ]
  },
  {
   "cell_type": "code",
   "execution_count": 139,
   "id": "53caaeb5",
   "metadata": {},
   "outputs": [],
   "source": [
    "file = open(\"JNorth_Adult_First_Site_2002_6.geojson\", \"w\")\n",
    "json.dump(geojson, file, indent =1)\n",
    "file.close()"
   ]
  },
  {
   "cell_type": "markdown",
   "id": "73f9ebaa",
   "metadata": {},
   "source": [
    "## July"
   ]
  },
  {
   "cell_type": "code",
   "execution_count": 140,
   "id": "e7b8b673",
   "metadata": {},
   "outputs": [
    {
     "data": {
      "text/html": [
       "<div>\n",
       "<style scoped>\n",
       "    .dataframe tbody tr th:only-of-type {\n",
       "        vertical-align: middle;\n",
       "    }\n",
       "\n",
       "    .dataframe tbody tr th {\n",
       "        vertical-align: top;\n",
       "    }\n",
       "\n",
       "    .dataframe thead th {\n",
       "        text-align: right;\n",
       "    }\n",
       "</style>\n",
       "<table border=\"1\" class=\"dataframe\">\n",
       "  <thead>\n",
       "    <tr style=\"text-align: right;\">\n",
       "      <th></th>\n",
       "      <th>sighting_date</th>\n",
       "      <th>species</th>\n",
       "      <th>latitude</th>\n",
       "      <th>longitude</th>\n",
       "      <th>number</th>\n",
       "      <th>month</th>\n",
       "    </tr>\n",
       "  </thead>\n",
       "  <tbody>\n",
       "    <tr>\n",
       "      <th>4016</th>\n",
       "      <td>2002-07-28</td>\n",
       "      <td>Monarch Adult (FIRST sighted)</td>\n",
       "      <td>34.494</td>\n",
       "      <td>-85.271</td>\n",
       "      <td>2</td>\n",
       "      <td>7</td>\n",
       "    </tr>\n",
       "    <tr>\n",
       "      <th>4017</th>\n",
       "      <td>2002-07-28</td>\n",
       "      <td>Monarch Adult (FIRST sighted)</td>\n",
       "      <td>40.443</td>\n",
       "      <td>-74.966</td>\n",
       "      <td>1</td>\n",
       "      <td>7</td>\n",
       "    </tr>\n",
       "    <tr>\n",
       "      <th>4018</th>\n",
       "      <td>2002-07-30</td>\n",
       "      <td>Monarch Adult (FIRST sighted)</td>\n",
       "      <td>41.292</td>\n",
       "      <td>-74.740</td>\n",
       "      <td>1</td>\n",
       "      <td>7</td>\n",
       "    </tr>\n",
       "    <tr>\n",
       "      <th>4019</th>\n",
       "      <td>2002-07-31</td>\n",
       "      <td>Monarch Adult (FIRST sighted)</td>\n",
       "      <td>39.107</td>\n",
       "      <td>-84.500</td>\n",
       "      <td>1</td>\n",
       "      <td>7</td>\n",
       "    </tr>\n",
       "    <tr>\n",
       "      <th>4020</th>\n",
       "      <td>2002-07-31</td>\n",
       "      <td>Monarch Adult (FIRST sighted)</td>\n",
       "      <td>43.719</td>\n",
       "      <td>-108.441</td>\n",
       "      <td>1</td>\n",
       "      <td>7</td>\n",
       "    </tr>\n",
       "  </tbody>\n",
       "</table>\n",
       "</div>"
      ],
      "text/plain": [
       "     sighting_date                        species  latitude  longitude  \\\n",
       "4016    2002-07-28  Monarch Adult (FIRST sighted)    34.494    -85.271   \n",
       "4017    2002-07-28  Monarch Adult (FIRST sighted)    40.443    -74.966   \n",
       "4018    2002-07-30  Monarch Adult (FIRST sighted)    41.292    -74.740   \n",
       "4019    2002-07-31  Monarch Adult (FIRST sighted)    39.107    -84.500   \n",
       "4020    2002-07-31  Monarch Adult (FIRST sighted)    43.719   -108.441   \n",
       "\n",
       "      number  month  \n",
       "4016       2      7  \n",
       "4017       1      7  \n",
       "4018       1      7  \n",
       "4019       1      7  \n",
       "4020       1      7  "
      ]
     },
     "execution_count": 140,
     "metadata": {},
     "output_type": "execute_result"
    }
   ],
   "source": [
    "JNorth_Adult_First_Site_2002_month_df =pd.DataFrame(JNorth_Adult_First_Site_2002_df)\n",
    "JNorth_Adult_First_Site_2002_7_df = JNorth_Adult_First_Site_2002_month_df[JNorth_Adult_First_Site_2002_month_df['month']==7]\n",
    "JNorth_Adult_First_Site_2002_7_df.tail()"
   ]
  },
  {
   "cell_type": "code",
   "execution_count": 141,
   "id": "ee190c48",
   "metadata": {},
   "outputs": [
    {
     "data": {
      "text/plain": [
       "(40, 6)"
      ]
     },
     "execution_count": 141,
     "metadata": {},
     "output_type": "execute_result"
    }
   ],
   "source": [
    "JNorth_Adult_First_Site_2002_7_df.shape"
   ]
  },
  {
   "cell_type": "code",
   "execution_count": 142,
   "id": "adeaa0bf",
   "metadata": {},
   "outputs": [],
   "source": [
    "JNorth_Adult_First_Site_2002_7_df = pd.DataFrame(JNorth_Adult_First_Site_2002_7_df)\n",
    "JNorth_Adult_First_Site_2002_7_df.drop(['month'], axis=1, inplace=True)"
   ]
  },
  {
   "cell_type": "code",
   "execution_count": 143,
   "id": "f8d2ae21",
   "metadata": {},
   "outputs": [],
   "source": [
    "# convert lat-long to floats and change address from ALL CAPS to regular capitalization\n",
    "JNorth_Adult_First_Site_2002_7_df['latitude'] = JNorth_Adult_First_Site_2002_7_df['latitude'].astype(float)\n",
    "JNorth_Adult_First_Site_2002_7_df['longitude'] = JNorth_Adult_First_Site_2002_7_df['longitude'].astype(float)\n",
    "# JNorth_Milkweed_Site_df['street_address'] = JNorth_Milkweed_Site_df['street_address'].str.title()"
   ]
  },
  {
   "cell_type": "code",
   "execution_count": 144,
   "id": "bfd792b4",
   "metadata": {},
   "outputs": [],
   "source": [
    "geojson = df_to_geojson(JNorth_Adult_First_Site_2002_7_df, cols)"
   ]
  },
  {
   "cell_type": "code",
   "execution_count": 145,
   "id": "a0490618",
   "metadata": {},
   "outputs": [],
   "source": [
    "file = open(\"JNorth_Adult_First_Site_2002_7.geojson\", \"w\")\n",
    "json.dump(geojson, file, indent =1)\n",
    "file.close()"
   ]
  },
  {
   "cell_type": "markdown",
   "id": "3590d5cf",
   "metadata": {},
   "source": [
    "## August"
   ]
  },
  {
   "cell_type": "code",
   "execution_count": 146,
   "id": "e98788a8",
   "metadata": {},
   "outputs": [
    {
     "data": {
      "text/html": [
       "<div>\n",
       "<style scoped>\n",
       "    .dataframe tbody tr th:only-of-type {\n",
       "        vertical-align: middle;\n",
       "    }\n",
       "\n",
       "    .dataframe tbody tr th {\n",
       "        vertical-align: top;\n",
       "    }\n",
       "\n",
       "    .dataframe thead th {\n",
       "        text-align: right;\n",
       "    }\n",
       "</style>\n",
       "<table border=\"1\" class=\"dataframe\">\n",
       "  <thead>\n",
       "    <tr style=\"text-align: right;\">\n",
       "      <th></th>\n",
       "      <th>sighting_date</th>\n",
       "      <th>species</th>\n",
       "      <th>latitude</th>\n",
       "      <th>longitude</th>\n",
       "      <th>number</th>\n",
       "      <th>month</th>\n",
       "    </tr>\n",
       "  </thead>\n",
       "  <tbody>\n",
       "    <tr>\n",
       "      <th>4106</th>\n",
       "      <td>2002-08-31</td>\n",
       "      <td>Monarch Adult (FIRST sighted)</td>\n",
       "      <td>39.915</td>\n",
       "      <td>-81.423</td>\n",
       "      <td>1</td>\n",
       "      <td>8</td>\n",
       "    </tr>\n",
       "    <tr>\n",
       "      <th>4107</th>\n",
       "      <td>2002-08-31</td>\n",
       "      <td>Monarch Adult (FIRST sighted)</td>\n",
       "      <td>41.555</td>\n",
       "      <td>-93.253</td>\n",
       "      <td>1</td>\n",
       "      <td>8</td>\n",
       "    </tr>\n",
       "    <tr>\n",
       "      <th>4108</th>\n",
       "      <td>2002-08-31</td>\n",
       "      <td>Monarch Adult (FIRST sighted)</td>\n",
       "      <td>44.278</td>\n",
       "      <td>-87.642</td>\n",
       "      <td>1</td>\n",
       "      <td>8</td>\n",
       "    </tr>\n",
       "    <tr>\n",
       "      <th>4109</th>\n",
       "      <td>2002-08-31</td>\n",
       "      <td>Monarch Adult (FIRST sighted)</td>\n",
       "      <td>46.001</td>\n",
       "      <td>-94.341</td>\n",
       "      <td>1</td>\n",
       "      <td>8</td>\n",
       "    </tr>\n",
       "    <tr>\n",
       "      <th>4110</th>\n",
       "      <td>2002-08-31</td>\n",
       "      <td>Monarch Adult (FIRST sighted)</td>\n",
       "      <td>48.311</td>\n",
       "      <td>-95.625</td>\n",
       "      <td>1</td>\n",
       "      <td>8</td>\n",
       "    </tr>\n",
       "  </tbody>\n",
       "</table>\n",
       "</div>"
      ],
      "text/plain": [
       "     sighting_date                        species  latitude  longitude  \\\n",
       "4106    2002-08-31  Monarch Adult (FIRST sighted)    39.915    -81.423   \n",
       "4107    2002-08-31  Monarch Adult (FIRST sighted)    41.555    -93.253   \n",
       "4108    2002-08-31  Monarch Adult (FIRST sighted)    44.278    -87.642   \n",
       "4109    2002-08-31  Monarch Adult (FIRST sighted)    46.001    -94.341   \n",
       "4110    2002-08-31  Monarch Adult (FIRST sighted)    48.311    -95.625   \n",
       "\n",
       "      number  month  \n",
       "4106       1      8  \n",
       "4107       1      8  \n",
       "4108       1      8  \n",
       "4109       1      8  \n",
       "4110       1      8  "
      ]
     },
     "execution_count": 146,
     "metadata": {},
     "output_type": "execute_result"
    }
   ],
   "source": [
    "JNorth_Adult_First_Site_2002_month_df =pd.DataFrame(JNorth_Adult_First_Site_2002_df)\n",
    "JNorth_Adult_First_Site_2002_8_df = JNorth_Adult_First_Site_2002_month_df[JNorth_Adult_First_Site_2002_month_df['month']==8]\n",
    "JNorth_Adult_First_Site_2002_8_df.tail()"
   ]
  },
  {
   "cell_type": "code",
   "execution_count": 147,
   "id": "4dbf852f",
   "metadata": {},
   "outputs": [
    {
     "data": {
      "text/plain": [
       "(90, 6)"
      ]
     },
     "execution_count": 147,
     "metadata": {},
     "output_type": "execute_result"
    }
   ],
   "source": [
    "JNorth_Adult_First_Site_2002_8_df.shape"
   ]
  },
  {
   "cell_type": "code",
   "execution_count": 148,
   "id": "db805f73",
   "metadata": {},
   "outputs": [],
   "source": [
    "JNorth_Adult_First_Site_2002_8_df = pd.DataFrame(JNorth_Adult_First_Site_2002_8_df)\n",
    "JNorth_Adult_First_Site_2002_8_df.drop(['month'], axis=1, inplace=True)"
   ]
  },
  {
   "cell_type": "code",
   "execution_count": 149,
   "id": "65824356",
   "metadata": {},
   "outputs": [],
   "source": [
    "# convert lat-long to floats and change address from ALL CAPS to regular capitalization\n",
    "JNorth_Adult_First_Site_2002_8_df['latitude'] = JNorth_Adult_First_Site_2002_8_df['latitude'].astype(float)\n",
    "JNorth_Adult_First_Site_2002_8_df['longitude'] = JNorth_Adult_First_Site_2002_8_df['longitude'].astype(float)\n",
    "# JNorth_Milkweed_Site_df['street_address'] = JNorth_Milkweed_Site_df['street_address'].str.title()"
   ]
  },
  {
   "cell_type": "code",
   "execution_count": 150,
   "id": "ddc40b63",
   "metadata": {},
   "outputs": [],
   "source": [
    "geojson = df_to_geojson(JNorth_Adult_First_Site_2002_8_df, cols)"
   ]
  },
  {
   "cell_type": "code",
   "execution_count": 151,
   "id": "edee7b1c",
   "metadata": {},
   "outputs": [],
   "source": [
    "file = open(\"JNorth_Adult_First_Site_2002_8.geojson\", \"w\")\n",
    "json.dump(geojson, file, indent =1)\n",
    "file.close()"
   ]
  },
  {
   "cell_type": "markdown",
   "id": "726dda22",
   "metadata": {},
   "source": [
    "## September"
   ]
  },
  {
   "cell_type": "code",
   "execution_count": 152,
   "id": "b54dd953",
   "metadata": {},
   "outputs": [
    {
     "data": {
      "text/html": [
       "<div>\n",
       "<style scoped>\n",
       "    .dataframe tbody tr th:only-of-type {\n",
       "        vertical-align: middle;\n",
       "    }\n",
       "\n",
       "    .dataframe tbody tr th {\n",
       "        vertical-align: top;\n",
       "    }\n",
       "\n",
       "    .dataframe thead th {\n",
       "        text-align: right;\n",
       "    }\n",
       "</style>\n",
       "<table border=\"1\" class=\"dataframe\">\n",
       "  <thead>\n",
       "    <tr style=\"text-align: right;\">\n",
       "      <th></th>\n",
       "      <th>sighting_date</th>\n",
       "      <th>species</th>\n",
       "      <th>latitude</th>\n",
       "      <th>longitude</th>\n",
       "      <th>number</th>\n",
       "      <th>month</th>\n",
       "    </tr>\n",
       "  </thead>\n",
       "  <tbody>\n",
       "    <tr>\n",
       "      <th>4544</th>\n",
       "      <td>2002-09-30</td>\n",
       "      <td>Monarch Adult (FIRST sighted)</td>\n",
       "      <td>41.614</td>\n",
       "      <td>-111.846</td>\n",
       "      <td>1</td>\n",
       "      <td>9</td>\n",
       "    </tr>\n",
       "    <tr>\n",
       "      <th>4545</th>\n",
       "      <td>2002-09-30</td>\n",
       "      <td>Monarch Adult (FIRST sighted)</td>\n",
       "      <td>41.624</td>\n",
       "      <td>-75.250</td>\n",
       "      <td>1</td>\n",
       "      <td>9</td>\n",
       "    </tr>\n",
       "    <tr>\n",
       "      <th>4546</th>\n",
       "      <td>2002-09-30</td>\n",
       "      <td>Monarch Adult (FIRST sighted)</td>\n",
       "      <td>42.172</td>\n",
       "      <td>-74.988</td>\n",
       "      <td>1</td>\n",
       "      <td>9</td>\n",
       "    </tr>\n",
       "    <tr>\n",
       "      <th>4547</th>\n",
       "      <td>2002-09-30</td>\n",
       "      <td>Monarch Adult (FIRST sighted)</td>\n",
       "      <td>42.361</td>\n",
       "      <td>-74.804</td>\n",
       "      <td>1</td>\n",
       "      <td>9</td>\n",
       "    </tr>\n",
       "    <tr>\n",
       "      <th>4548</th>\n",
       "      <td>2002-09-30</td>\n",
       "      <td>Monarch Adult (FIRST sighted)</td>\n",
       "      <td>43.510</td>\n",
       "      <td>-79.020</td>\n",
       "      <td>1</td>\n",
       "      <td>9</td>\n",
       "    </tr>\n",
       "  </tbody>\n",
       "</table>\n",
       "</div>"
      ],
      "text/plain": [
       "     sighting_date                        species  latitude  longitude  \\\n",
       "4544    2002-09-30  Monarch Adult (FIRST sighted)    41.614   -111.846   \n",
       "4545    2002-09-30  Monarch Adult (FIRST sighted)    41.624    -75.250   \n",
       "4546    2002-09-30  Monarch Adult (FIRST sighted)    42.172    -74.988   \n",
       "4547    2002-09-30  Monarch Adult (FIRST sighted)    42.361    -74.804   \n",
       "4548    2002-09-30  Monarch Adult (FIRST sighted)    43.510    -79.020   \n",
       "\n",
       "      number  month  \n",
       "4544       1      9  \n",
       "4545       1      9  \n",
       "4546       1      9  \n",
       "4547       1      9  \n",
       "4548       1      9  "
      ]
     },
     "execution_count": 152,
     "metadata": {},
     "output_type": "execute_result"
    }
   ],
   "source": [
    "JNorth_Adult_First_Site_2002_month_df =pd.DataFrame(JNorth_Adult_First_Site_2002_df)\n",
    "JNorth_Adult_First_Site_2002_9_df = JNorth_Adult_First_Site_2002_month_df[JNorth_Adult_First_Site_2002_month_df['month']==9]\n",
    "JNorth_Adult_First_Site_2002_9_df.tail()"
   ]
  },
  {
   "cell_type": "code",
   "execution_count": 153,
   "id": "c027d5c8",
   "metadata": {},
   "outputs": [
    {
     "data": {
      "text/plain": [
       "(438, 6)"
      ]
     },
     "execution_count": 153,
     "metadata": {},
     "output_type": "execute_result"
    }
   ],
   "source": [
    "JNorth_Adult_First_Site_2002_9_df.shape"
   ]
  },
  {
   "cell_type": "code",
   "execution_count": 154,
   "id": "699bf4e7",
   "metadata": {},
   "outputs": [],
   "source": [
    "JNorth_Adult_First_Site_2002_9_df = pd.DataFrame(JNorth_Adult_First_Site_2002_9_df)\n",
    "JNorth_Adult_First_Site_2002_9_df.drop(['month'], axis=1, inplace=True)"
   ]
  },
  {
   "cell_type": "code",
   "execution_count": 155,
   "id": "30872f1f",
   "metadata": {},
   "outputs": [],
   "source": [
    "# convert lat-long to floats and change address from ALL CAPS to regular capitalization\n",
    "JNorth_Adult_First_Site_2002_9_df['latitude'] = JNorth_Adult_First_Site_2002_9_df['latitude'].astype(float)\n",
    "JNorth_Adult_First_Site_2002_9_df['longitude'] = JNorth_Adult_First_Site_2002_9_df['longitude'].astype(float)\n",
    "# JNorth_Milkweed_Site_df['street_address'] = JNorth_Milkweed_Site_df['street_address'].str.title()"
   ]
  },
  {
   "cell_type": "code",
   "execution_count": 156,
   "id": "eda7a817",
   "metadata": {},
   "outputs": [],
   "source": [
    "geojson = df_to_geojson(JNorth_Adult_First_Site_2002_9_df, cols)"
   ]
  },
  {
   "cell_type": "code",
   "execution_count": 157,
   "id": "ad33e04b",
   "metadata": {},
   "outputs": [],
   "source": [
    "file = open(\"JNorth_Adult_First_Site_2002_9.geojson\", \"w\")\n",
    "json.dump(geojson, file, indent =1)\n",
    "file.close()"
   ]
  },
  {
   "cell_type": "markdown",
   "id": "84b1fe82",
   "metadata": {},
   "source": [
    "## October"
   ]
  },
  {
   "cell_type": "code",
   "execution_count": 158,
   "id": "a9395579",
   "metadata": {},
   "outputs": [
    {
     "data": {
      "text/html": [
       "<div>\n",
       "<style scoped>\n",
       "    .dataframe tbody tr th:only-of-type {\n",
       "        vertical-align: middle;\n",
       "    }\n",
       "\n",
       "    .dataframe tbody tr th {\n",
       "        vertical-align: top;\n",
       "    }\n",
       "\n",
       "    .dataframe thead th {\n",
       "        text-align: right;\n",
       "    }\n",
       "</style>\n",
       "<table border=\"1\" class=\"dataframe\">\n",
       "  <thead>\n",
       "    <tr style=\"text-align: right;\">\n",
       "      <th></th>\n",
       "      <th>sighting_date</th>\n",
       "      <th>species</th>\n",
       "      <th>latitude</th>\n",
       "      <th>longitude</th>\n",
       "      <th>number</th>\n",
       "      <th>month</th>\n",
       "    </tr>\n",
       "  </thead>\n",
       "  <tbody>\n",
       "    <tr>\n",
       "      <th>4763</th>\n",
       "      <td>2002-10-29</td>\n",
       "      <td>Monarch Adult (FIRST sighted)</td>\n",
       "      <td>30.230</td>\n",
       "      <td>-97.714</td>\n",
       "      <td>1</td>\n",
       "      <td>10</td>\n",
       "    </tr>\n",
       "    <tr>\n",
       "      <th>4764</th>\n",
       "      <td>2002-10-30</td>\n",
       "      <td>Monarch Adult (FIRST sighted)</td>\n",
       "      <td>25.884</td>\n",
       "      <td>-80.182</td>\n",
       "      <td>1</td>\n",
       "      <td>10</td>\n",
       "    </tr>\n",
       "    <tr>\n",
       "      <th>4765</th>\n",
       "      <td>2002-10-30</td>\n",
       "      <td>Monarch Adult (FIRST sighted)</td>\n",
       "      <td>29.309</td>\n",
       "      <td>-94.782</td>\n",
       "      <td>1</td>\n",
       "      <td>10</td>\n",
       "    </tr>\n",
       "    <tr>\n",
       "      <th>4766</th>\n",
       "      <td>2002-10-30</td>\n",
       "      <td>Monarch Adult (FIRST sighted)</td>\n",
       "      <td>31.552</td>\n",
       "      <td>-97.138</td>\n",
       "      <td>1</td>\n",
       "      <td>10</td>\n",
       "    </tr>\n",
       "    <tr>\n",
       "      <th>4767</th>\n",
       "      <td>2002-10-31</td>\n",
       "      <td>Monarch Adult (FIRST sighted)</td>\n",
       "      <td>28.351</td>\n",
       "      <td>-99.270</td>\n",
       "      <td>1</td>\n",
       "      <td>10</td>\n",
       "    </tr>\n",
       "  </tbody>\n",
       "</table>\n",
       "</div>"
      ],
      "text/plain": [
       "     sighting_date                        species  latitude  longitude  \\\n",
       "4763    2002-10-29  Monarch Adult (FIRST sighted)    30.230    -97.714   \n",
       "4764    2002-10-30  Monarch Adult (FIRST sighted)    25.884    -80.182   \n",
       "4765    2002-10-30  Monarch Adult (FIRST sighted)    29.309    -94.782   \n",
       "4766    2002-10-30  Monarch Adult (FIRST sighted)    31.552    -97.138   \n",
       "4767    2002-10-31  Monarch Adult (FIRST sighted)    28.351    -99.270   \n",
       "\n",
       "      number  month  \n",
       "4763       1     10  \n",
       "4764       1     10  \n",
       "4765       1     10  \n",
       "4766       1     10  \n",
       "4767       1     10  "
      ]
     },
     "execution_count": 158,
     "metadata": {},
     "output_type": "execute_result"
    }
   ],
   "source": [
    "JNorth_Adult_First_Site_2002_month_df =pd.DataFrame(JNorth_Adult_First_Site_2002_df)\n",
    "JNorth_Adult_First_Site_2002_10_df = JNorth_Adult_First_Site_2002_month_df[JNorth_Adult_First_Site_2002_month_df['month']==10]\n",
    "JNorth_Adult_First_Site_2002_10_df.tail()"
   ]
  },
  {
   "cell_type": "code",
   "execution_count": 159,
   "id": "470beeb5",
   "metadata": {},
   "outputs": [
    {
     "data": {
      "text/plain": [
       "(219, 6)"
      ]
     },
     "execution_count": 159,
     "metadata": {},
     "output_type": "execute_result"
    }
   ],
   "source": [
    "JNorth_Adult_First_Site_2002_10_df.shape"
   ]
  },
  {
   "cell_type": "code",
   "execution_count": 160,
   "id": "1e733e58",
   "metadata": {},
   "outputs": [],
   "source": [
    "JNorth_Adult_First_Site_2002_10_df = pd.DataFrame(JNorth_Adult_First_Site_2002_10_df)\n",
    "JNorth_Adult_First_Site_2002_10_df.drop(['month'], axis=1, inplace=True)"
   ]
  },
  {
   "cell_type": "code",
   "execution_count": 161,
   "id": "06aff208",
   "metadata": {},
   "outputs": [],
   "source": [
    "# convert lat-long to floats and change address from ALL CAPS to regular capitalization\n",
    "JNorth_Adult_First_Site_2002_10_df['latitude'] = JNorth_Adult_First_Site_2002_10_df['latitude'].astype(float)\n",
    "JNorth_Adult_First_Site_2002_10_df['longitude'] = JNorth_Adult_First_Site_2002_10_df['longitude'].astype(float)\n",
    "# JNorth_Milkweed_Site_df['street_address'] = JNorth_Milkweed_Site_df['street_address'].str.title()"
   ]
  },
  {
   "cell_type": "code",
   "execution_count": 162,
   "id": "421e78f4",
   "metadata": {},
   "outputs": [],
   "source": [
    "geojson = df_to_geojson(JNorth_Adult_First_Site_2002_10_df, cols)"
   ]
  },
  {
   "cell_type": "code",
   "execution_count": 163,
   "id": "9017caac",
   "metadata": {},
   "outputs": [],
   "source": [
    "file = open(\"JNorth_Adult_First_Site_2002_10.geojson\", \"w\")\n",
    "json.dump(geojson, file, indent =1)\n",
    "file.close()"
   ]
  },
  {
   "cell_type": "markdown",
   "id": "3be99959",
   "metadata": {},
   "source": [
    "## November"
   ]
  },
  {
   "cell_type": "code",
   "execution_count": 164,
   "id": "f012960d",
   "metadata": {},
   "outputs": [
    {
     "data": {
      "text/html": [
       "<div>\n",
       "<style scoped>\n",
       "    .dataframe tbody tr th:only-of-type {\n",
       "        vertical-align: middle;\n",
       "    }\n",
       "\n",
       "    .dataframe tbody tr th {\n",
       "        vertical-align: top;\n",
       "    }\n",
       "\n",
       "    .dataframe thead th {\n",
       "        text-align: right;\n",
       "    }\n",
       "</style>\n",
       "<table border=\"1\" class=\"dataframe\">\n",
       "  <thead>\n",
       "    <tr style=\"text-align: right;\">\n",
       "      <th></th>\n",
       "      <th>sighting_date</th>\n",
       "      <th>species</th>\n",
       "      <th>latitude</th>\n",
       "      <th>longitude</th>\n",
       "      <th>number</th>\n",
       "      <th>month</th>\n",
       "    </tr>\n",
       "  </thead>\n",
       "  <tbody>\n",
       "    <tr>\n",
       "      <th>4775</th>\n",
       "      <td>2002-11-10</td>\n",
       "      <td>Monarch Adult (FIRST sighted)</td>\n",
       "      <td>43.420</td>\n",
       "      <td>-79.250</td>\n",
       "      <td>2</td>\n",
       "      <td>11</td>\n",
       "    </tr>\n",
       "    <tr>\n",
       "      <th>4776</th>\n",
       "      <td>2002-11-11</td>\n",
       "      <td>Monarch Adult (FIRST sighted)</td>\n",
       "      <td>25.884</td>\n",
       "      <td>-80.182</td>\n",
       "      <td>1</td>\n",
       "      <td>11</td>\n",
       "    </tr>\n",
       "    <tr>\n",
       "      <th>4777</th>\n",
       "      <td>2002-11-11</td>\n",
       "      <td>Monarch Adult (FIRST sighted)</td>\n",
       "      <td>29.757</td>\n",
       "      <td>-95.365</td>\n",
       "      <td>1</td>\n",
       "      <td>11</td>\n",
       "    </tr>\n",
       "    <tr>\n",
       "      <th>4778</th>\n",
       "      <td>2002-11-14</td>\n",
       "      <td>Monarch Adult (FIRST sighted)</td>\n",
       "      <td>34.580</td>\n",
       "      <td>-83.584</td>\n",
       "      <td>1</td>\n",
       "      <td>11</td>\n",
       "    </tr>\n",
       "    <tr>\n",
       "      <th>4779</th>\n",
       "      <td>2002-11-28</td>\n",
       "      <td>Monarch Adult (FIRST sighted)</td>\n",
       "      <td>37.904</td>\n",
       "      <td>-122.536</td>\n",
       "      <td>1</td>\n",
       "      <td>11</td>\n",
       "    </tr>\n",
       "  </tbody>\n",
       "</table>\n",
       "</div>"
      ],
      "text/plain": [
       "     sighting_date                        species  latitude  longitude  \\\n",
       "4775    2002-11-10  Monarch Adult (FIRST sighted)    43.420    -79.250   \n",
       "4776    2002-11-11  Monarch Adult (FIRST sighted)    25.884    -80.182   \n",
       "4777    2002-11-11  Monarch Adult (FIRST sighted)    29.757    -95.365   \n",
       "4778    2002-11-14  Monarch Adult (FIRST sighted)    34.580    -83.584   \n",
       "4779    2002-11-28  Monarch Adult (FIRST sighted)    37.904   -122.536   \n",
       "\n",
       "      number  month  \n",
       "4775       2     11  \n",
       "4776       1     11  \n",
       "4777       1     11  \n",
       "4778       1     11  \n",
       "4779       1     11  "
      ]
     },
     "execution_count": 164,
     "metadata": {},
     "output_type": "execute_result"
    }
   ],
   "source": [
    "JNorth_Adult_First_Site_2002_month_df =pd.DataFrame(JNorth_Adult_First_Site_2002_df)\n",
    "JNorth_Adult_First_Site_2002_11_df = JNorth_Adult_First_Site_2002_month_df[JNorth_Adult_First_Site_2002_month_df['month']==11]\n",
    "JNorth_Adult_First_Site_2002_11_df.tail()"
   ]
  },
  {
   "cell_type": "code",
   "execution_count": 165,
   "id": "c828e53a",
   "metadata": {},
   "outputs": [
    {
     "data": {
      "text/plain": [
       "(12, 6)"
      ]
     },
     "execution_count": 165,
     "metadata": {},
     "output_type": "execute_result"
    }
   ],
   "source": [
    "JNorth_Adult_First_Site_2002_11_df.shape"
   ]
  },
  {
   "cell_type": "code",
   "execution_count": 166,
   "id": "ebbf1625",
   "metadata": {},
   "outputs": [],
   "source": [
    "JNorth_Adult_First_Site_2002_11_df = pd.DataFrame(JNorth_Adult_First_Site_2002_11_df)\n",
    "JNorth_Adult_First_Site_2002_11_df.drop(['month'], axis=1, inplace=True)"
   ]
  },
  {
   "cell_type": "code",
   "execution_count": 167,
   "id": "06217fbf",
   "metadata": {},
   "outputs": [],
   "source": [
    "# convert lat-long to floats and change address from ALL CAPS to regular capitalization\n",
    "JNorth_Adult_First_Site_2002_11_df['latitude'] = JNorth_Adult_First_Site_2002_11_df['latitude'].astype(float)\n",
    "JNorth_Adult_First_Site_2002_11_df['longitude'] = JNorth_Adult_First_Site_2002_11_df['longitude'].astype(float)\n",
    "# JNorth_Milkweed_Site_df['street_address'] = JNorth_Milkweed_Site_df['street_address'].str.title()"
   ]
  },
  {
   "cell_type": "code",
   "execution_count": 168,
   "id": "ea9ffa88",
   "metadata": {},
   "outputs": [],
   "source": [
    "geojson = df_to_geojson(JNorth_Adult_First_Site_2002_11_df, cols)"
   ]
  },
  {
   "cell_type": "code",
   "execution_count": 169,
   "id": "408ccc08",
   "metadata": {},
   "outputs": [],
   "source": [
    "file = open(\"JNorth_Adult_First_Site_2002_11.geojson\", \"w\")\n",
    "json.dump(geojson, file, indent =1)\n",
    "file.close()"
   ]
  },
  {
   "cell_type": "markdown",
   "id": "e8664d64",
   "metadata": {},
   "source": [
    "## December"
   ]
  },
  {
   "cell_type": "code",
   "execution_count": 170,
   "id": "17680c20",
   "metadata": {},
   "outputs": [
    {
     "data": {
      "text/html": [
       "<div>\n",
       "<style scoped>\n",
       "    .dataframe tbody tr th:only-of-type {\n",
       "        vertical-align: middle;\n",
       "    }\n",
       "\n",
       "    .dataframe tbody tr th {\n",
       "        vertical-align: top;\n",
       "    }\n",
       "\n",
       "    .dataframe thead th {\n",
       "        text-align: right;\n",
       "    }\n",
       "</style>\n",
       "<table border=\"1\" class=\"dataframe\">\n",
       "  <thead>\n",
       "    <tr style=\"text-align: right;\">\n",
       "      <th></th>\n",
       "      <th>sighting_date</th>\n",
       "      <th>species</th>\n",
       "      <th>latitude</th>\n",
       "      <th>longitude</th>\n",
       "      <th>number</th>\n",
       "      <th>month</th>\n",
       "    </tr>\n",
       "  </thead>\n",
       "  <tbody>\n",
       "  </tbody>\n",
       "</table>\n",
       "</div>"
      ],
      "text/plain": [
       "Empty DataFrame\n",
       "Columns: [sighting_date, species, latitude, longitude, number, month]\n",
       "Index: []"
      ]
     },
     "execution_count": 170,
     "metadata": {},
     "output_type": "execute_result"
    }
   ],
   "source": [
    "JNorth_Adult_First_Site_2002_month_df =pd.DataFrame(JNorth_Adult_First_Site_2002_df)\n",
    "JNorth_Adult_First_Site_2002_12_df = JNorth_Adult_First_Site_2002_month_df[JNorth_Adult_First_Site_2002_month_df['month']==12]\n",
    "JNorth_Adult_First_Site_2002_12_df.tail()"
   ]
  },
  {
   "cell_type": "code",
   "execution_count": 171,
   "id": "b3f57221",
   "metadata": {},
   "outputs": [
    {
     "data": {
      "text/plain": [
       "(0, 6)"
      ]
     },
     "execution_count": 171,
     "metadata": {},
     "output_type": "execute_result"
    }
   ],
   "source": [
    "JNorth_Adult_First_Site_2002_12_df.shape"
   ]
  },
  {
   "cell_type": "code",
   "execution_count": 172,
   "id": "13478dd2",
   "metadata": {},
   "outputs": [],
   "source": [
    "JNorth_Adult_First_Site_2002_12_df = pd.DataFrame(JNorth_Adult_First_Site_2002_12_df)\n",
    "JNorth_Adult_First_Site_2002_12_df.drop(['month'], axis=1, inplace=True)"
   ]
  },
  {
   "cell_type": "code",
   "execution_count": 173,
   "id": "53a7627c",
   "metadata": {},
   "outputs": [],
   "source": [
    "# convert lat-long to floats and change address from ALL CAPS to regular capitalization\n",
    "JNorth_Adult_First_Site_2002_12_df['latitude'] = JNorth_Adult_First_Site_2002_12_df['latitude'].astype(float)\n",
    "JNorth_Adult_First_Site_2002_12_df['longitude'] = JNorth_Adult_First_Site_2002_12_df['longitude'].astype(float)\n",
    "# JNorth_Milkweed_Site_df['street_address'] = JNorth_Milkweed_Site_df['street_address'].str.title()"
   ]
  },
  {
   "cell_type": "code",
   "execution_count": 174,
   "id": "cc835fba",
   "metadata": {},
   "outputs": [],
   "source": [
    "geojson = df_to_geojson(JNorth_Adult_First_Site_2002_12_df, cols)"
   ]
  },
  {
   "cell_type": "code",
   "execution_count": 175,
   "id": "c122edf2",
   "metadata": {},
   "outputs": [],
   "source": [
    "file = open(\"JNorth_Adult_First_Site_2002_12.geojson\", \"w\")\n",
    "json.dump(geojson, file, indent =1)\n",
    "file.close()"
   ]
  },
  {
   "cell_type": "markdown",
   "id": "b5c76616",
   "metadata": {},
   "source": [
    "# 2003"
   ]
  },
  {
   "cell_type": "code",
   "execution_count": 176,
   "id": "e96b6a71",
   "metadata": {},
   "outputs": [
    {
     "data": {
      "text/html": [
       "<div>\n",
       "<style scoped>\n",
       "    .dataframe tbody tr th:only-of-type {\n",
       "        vertical-align: middle;\n",
       "    }\n",
       "\n",
       "    .dataframe tbody tr th {\n",
       "        vertical-align: top;\n",
       "    }\n",
       "\n",
       "    .dataframe thead th {\n",
       "        text-align: right;\n",
       "    }\n",
       "</style>\n",
       "<table border=\"1\" class=\"dataframe\">\n",
       "  <thead>\n",
       "    <tr style=\"text-align: right;\">\n",
       "      <th></th>\n",
       "      <th>sighting_date</th>\n",
       "      <th>species</th>\n",
       "      <th>latitude</th>\n",
       "      <th>longitude</th>\n",
       "      <th>number</th>\n",
       "      <th>year</th>\n",
       "    </tr>\n",
       "  </thead>\n",
       "  <tbody>\n",
       "    <tr>\n",
       "      <th>6151</th>\n",
       "      <td>2003-11-20</td>\n",
       "      <td>Monarch Adult (FIRST sighted)</td>\n",
       "      <td>28.529</td>\n",
       "      <td>-96.679</td>\n",
       "      <td>1</td>\n",
       "      <td>2003</td>\n",
       "    </tr>\n",
       "    <tr>\n",
       "      <th>6152</th>\n",
       "      <td>2003-11-21</td>\n",
       "      <td>Monarch Adult (FIRST sighted)</td>\n",
       "      <td>29.648</td>\n",
       "      <td>-99.224</td>\n",
       "      <td>1</td>\n",
       "      <td>2003</td>\n",
       "    </tr>\n",
       "    <tr>\n",
       "      <th>6153</th>\n",
       "      <td>2003-11-22</td>\n",
       "      <td>Monarch Adult (FIRST sighted)</td>\n",
       "      <td>29.648</td>\n",
       "      <td>-99.224</td>\n",
       "      <td>1</td>\n",
       "      <td>2003</td>\n",
       "    </tr>\n",
       "    <tr>\n",
       "      <th>6154</th>\n",
       "      <td>2003-11-22</td>\n",
       "      <td>Monarch Adult (FIRST sighted)</td>\n",
       "      <td>29.757</td>\n",
       "      <td>-95.365</td>\n",
       "      <td>1</td>\n",
       "      <td>2003</td>\n",
       "    </tr>\n",
       "    <tr>\n",
       "      <th>6155</th>\n",
       "      <td>2003-11-23</td>\n",
       "      <td>Monarch Adult (FIRST sighted)</td>\n",
       "      <td>29.648</td>\n",
       "      <td>-99.224</td>\n",
       "      <td>1</td>\n",
       "      <td>2003</td>\n",
       "    </tr>\n",
       "  </tbody>\n",
       "</table>\n",
       "</div>"
      ],
      "text/plain": [
       "     sighting_date                        species  latitude  longitude  \\\n",
       "6151    2003-11-20  Monarch Adult (FIRST sighted)    28.529    -96.679   \n",
       "6152    2003-11-21  Monarch Adult (FIRST sighted)    29.648    -99.224   \n",
       "6153    2003-11-22  Monarch Adult (FIRST sighted)    29.648    -99.224   \n",
       "6154    2003-11-22  Monarch Adult (FIRST sighted)    29.757    -95.365   \n",
       "6155    2003-11-23  Monarch Adult (FIRST sighted)    29.648    -99.224   \n",
       "\n",
       "      number  year  \n",
       "6151       1  2003  \n",
       "6152       1  2003  \n",
       "6153       1  2003  \n",
       "6154       1  2003  \n",
       "6155       1  2003  "
      ]
     },
     "execution_count": 176,
     "metadata": {},
     "output_type": "execute_result"
    }
   ],
   "source": [
    "JNorth_Adult_First_Site_2003_df = JNorth_Adult_First_Site_year_df[JNorth_Adult_First_Site_year_df['year']==2003]\n",
    "JNorth_Adult_First_Site_2003_df.tail()"
   ]
  },
  {
   "cell_type": "code",
   "execution_count": 177,
   "id": "3f637079",
   "metadata": {},
   "outputs": [
    {
     "data": {
      "text/plain": [
       "(1376, 6)"
      ]
     },
     "execution_count": 177,
     "metadata": {},
     "output_type": "execute_result"
    }
   ],
   "source": [
    "JNorth_Adult_First_Site_2003_df.shape"
   ]
  },
  {
   "cell_type": "code",
   "execution_count": 178,
   "id": "e5c256a8",
   "metadata": {},
   "outputs": [],
   "source": [
    "JNorth_Adult_First_Site_2003_df = pd.DataFrame(JNorth_Adult_First_Site_2003_df)\n",
    "JNorth_Adult_First_Site_2003_df.drop(['year'], axis=1, inplace=True)"
   ]
  },
  {
   "cell_type": "code",
   "execution_count": 179,
   "id": "a28bf072",
   "metadata": {},
   "outputs": [
    {
     "data": {
      "text/plain": [
       "<bound method NDFrame.tail of      sighting_date                        species  latitude  longitude  number\n",
       "4780    2003-01-25  Monarch Adult (FIRST sighted)    33.542   -112.071       1\n",
       "4781    2003-01-29  Monarch Adult (FIRST sighted)    25.778    -80.198       1\n",
       "4782    2003-02-01  Monarch Adult (FIRST sighted)    26.456    -82.107       1\n",
       "4783    2003-02-02  Monarch Adult (FIRST sighted)    25.778    -80.198       1\n",
       "4784    2003-02-15  Monarch Adult (FIRST sighted)    31.071    -81.418       1\n",
       "...            ...                            ...       ...        ...     ...\n",
       "6151    2003-11-20  Monarch Adult (FIRST sighted)    28.529    -96.679       1\n",
       "6152    2003-11-21  Monarch Adult (FIRST sighted)    29.648    -99.224       1\n",
       "6153    2003-11-22  Monarch Adult (FIRST sighted)    29.648    -99.224       1\n",
       "6154    2003-11-22  Monarch Adult (FIRST sighted)    29.757    -95.365       1\n",
       "6155    2003-11-23  Monarch Adult (FIRST sighted)    29.648    -99.224       1\n",
       "\n",
       "[1376 rows x 5 columns]>"
      ]
     },
     "execution_count": 179,
     "metadata": {},
     "output_type": "execute_result"
    }
   ],
   "source": [
    "JNorth_Adult_First_Site_2003_df.tail"
   ]
  },
  {
   "cell_type": "code",
   "execution_count": 180,
   "id": "0dba463b",
   "metadata": {},
   "outputs": [],
   "source": [
    "JNorth_Adult_First_Site_2003_df['month'] = pd.DatetimeIndex(JNorth_Adult_First_Site_2003_df['sighting_date']).month"
   ]
  },
  {
   "cell_type": "markdown",
   "id": "5433aeed",
   "metadata": {},
   "source": [
    "## January"
   ]
  },
  {
   "cell_type": "code",
   "execution_count": 181,
   "id": "29864205",
   "metadata": {},
   "outputs": [
    {
     "data": {
      "text/html": [
       "<div>\n",
       "<style scoped>\n",
       "    .dataframe tbody tr th:only-of-type {\n",
       "        vertical-align: middle;\n",
       "    }\n",
       "\n",
       "    .dataframe tbody tr th {\n",
       "        vertical-align: top;\n",
       "    }\n",
       "\n",
       "    .dataframe thead th {\n",
       "        text-align: right;\n",
       "    }\n",
       "</style>\n",
       "<table border=\"1\" class=\"dataframe\">\n",
       "  <thead>\n",
       "    <tr style=\"text-align: right;\">\n",
       "      <th></th>\n",
       "      <th>sighting_date</th>\n",
       "      <th>species</th>\n",
       "      <th>latitude</th>\n",
       "      <th>longitude</th>\n",
       "      <th>number</th>\n",
       "      <th>month</th>\n",
       "    </tr>\n",
       "  </thead>\n",
       "  <tbody>\n",
       "    <tr>\n",
       "      <th>4780</th>\n",
       "      <td>2003-01-25</td>\n",
       "      <td>Monarch Adult (FIRST sighted)</td>\n",
       "      <td>33.542</td>\n",
       "      <td>-112.071</td>\n",
       "      <td>1</td>\n",
       "      <td>1</td>\n",
       "    </tr>\n",
       "    <tr>\n",
       "      <th>4781</th>\n",
       "      <td>2003-01-29</td>\n",
       "      <td>Monarch Adult (FIRST sighted)</td>\n",
       "      <td>25.778</td>\n",
       "      <td>-80.198</td>\n",
       "      <td>1</td>\n",
       "      <td>1</td>\n",
       "    </tr>\n",
       "  </tbody>\n",
       "</table>\n",
       "</div>"
      ],
      "text/plain": [
       "     sighting_date                        species  latitude  longitude  \\\n",
       "4780    2003-01-25  Monarch Adult (FIRST sighted)    33.542   -112.071   \n",
       "4781    2003-01-29  Monarch Adult (FIRST sighted)    25.778    -80.198   \n",
       "\n",
       "      number  month  \n",
       "4780       1      1  \n",
       "4781       1      1  "
      ]
     },
     "execution_count": 181,
     "metadata": {},
     "output_type": "execute_result"
    }
   ],
   "source": [
    "JNorth_Adult_First_Site_2003_month_df =pd.DataFrame(JNorth_Adult_First_Site_2003_df)\n",
    "JNorth_Adult_First_Site_2003_1_df = JNorth_Adult_First_Site_2003_month_df[JNorth_Adult_First_Site_2003_month_df['month']==1]\n",
    "JNorth_Adult_First_Site_2003_1_df.tail()"
   ]
  },
  {
   "cell_type": "code",
   "execution_count": 182,
   "id": "e394de26",
   "metadata": {},
   "outputs": [
    {
     "data": {
      "text/plain": [
       "(2, 6)"
      ]
     },
     "execution_count": 182,
     "metadata": {},
     "output_type": "execute_result"
    }
   ],
   "source": [
    "JNorth_Adult_First_Site_2003_1_df.shape"
   ]
  },
  {
   "cell_type": "code",
   "execution_count": 183,
   "id": "95031fb5",
   "metadata": {},
   "outputs": [],
   "source": [
    "JNorth_Adult_First_Site_2003_1_df = pd.DataFrame(JNorth_Adult_First_Site_2003_1_df)\n",
    "JNorth_Adult_First_Site_2003_1_df.drop(['month'], axis=1, inplace=True)"
   ]
  },
  {
   "cell_type": "code",
   "execution_count": 184,
   "id": "c4d3ff7b",
   "metadata": {},
   "outputs": [],
   "source": [
    "# convert lat-long to floats and change address from ALL CAPS to regular capitalization\n",
    "JNorth_Adult_First_Site_2003_1_df['latitude'] = JNorth_Adult_First_Site_2003_1_df['latitude'].astype(float)\n",
    "JNorth_Adult_First_Site_2003_1_df['longitude'] = JNorth_Adult_First_Site_2003_1_df['longitude'].astype(float)\n",
    "# JNorth_Milkweed_Site_df['street_address'] = JNorth_Milkweed_Site_df['street_address'].str.title()"
   ]
  },
  {
   "cell_type": "code",
   "execution_count": 185,
   "id": "47533ebf",
   "metadata": {},
   "outputs": [],
   "source": [
    "geojson = df_to_geojson(JNorth_Adult_First_Site_2003_1_df, cols)"
   ]
  },
  {
   "cell_type": "code",
   "execution_count": 186,
   "id": "aecfecdc",
   "metadata": {},
   "outputs": [],
   "source": [
    "file = open(\"JNorth_Adult_First_Site_2003_1.geojson\", \"w\")\n",
    "json.dump(geojson, file, indent =1)\n",
    "file.close()"
   ]
  },
  {
   "cell_type": "markdown",
   "id": "f0c205a9",
   "metadata": {},
   "source": [
    "## February"
   ]
  },
  {
   "cell_type": "code",
   "execution_count": 187,
   "id": "5dc66d0d",
   "metadata": {},
   "outputs": [
    {
     "data": {
      "text/html": [
       "<div>\n",
       "<style scoped>\n",
       "    .dataframe tbody tr th:only-of-type {\n",
       "        vertical-align: middle;\n",
       "    }\n",
       "\n",
       "    .dataframe tbody tr th {\n",
       "        vertical-align: top;\n",
       "    }\n",
       "\n",
       "    .dataframe thead th {\n",
       "        text-align: right;\n",
       "    }\n",
       "</style>\n",
       "<table border=\"1\" class=\"dataframe\">\n",
       "  <thead>\n",
       "    <tr style=\"text-align: right;\">\n",
       "      <th></th>\n",
       "      <th>sighting_date</th>\n",
       "      <th>species</th>\n",
       "      <th>latitude</th>\n",
       "      <th>longitude</th>\n",
       "      <th>number</th>\n",
       "      <th>month</th>\n",
       "    </tr>\n",
       "  </thead>\n",
       "  <tbody>\n",
       "    <tr>\n",
       "      <th>4782</th>\n",
       "      <td>2003-02-01</td>\n",
       "      <td>Monarch Adult (FIRST sighted)</td>\n",
       "      <td>26.456</td>\n",
       "      <td>-82.107</td>\n",
       "      <td>1</td>\n",
       "      <td>2</td>\n",
       "    </tr>\n",
       "    <tr>\n",
       "      <th>4783</th>\n",
       "      <td>2003-02-02</td>\n",
       "      <td>Monarch Adult (FIRST sighted)</td>\n",
       "      <td>25.778</td>\n",
       "      <td>-80.198</td>\n",
       "      <td>1</td>\n",
       "      <td>2</td>\n",
       "    </tr>\n",
       "    <tr>\n",
       "      <th>4784</th>\n",
       "      <td>2003-02-15</td>\n",
       "      <td>Monarch Adult (FIRST sighted)</td>\n",
       "      <td>31.071</td>\n",
       "      <td>-81.418</td>\n",
       "      <td>1</td>\n",
       "      <td>2</td>\n",
       "    </tr>\n",
       "    <tr>\n",
       "      <th>4785</th>\n",
       "      <td>2003-02-21</td>\n",
       "      <td>Monarch Adult (FIRST sighted)</td>\n",
       "      <td>37.773</td>\n",
       "      <td>-122.410</td>\n",
       "      <td>1</td>\n",
       "      <td>2</td>\n",
       "    </tr>\n",
       "    <tr>\n",
       "      <th>4786</th>\n",
       "      <td>2003-02-26</td>\n",
       "      <td>Monarch Adult (FIRST sighted)</td>\n",
       "      <td>26.880</td>\n",
       "      <td>-80.050</td>\n",
       "      <td>1</td>\n",
       "      <td>2</td>\n",
       "    </tr>\n",
       "  </tbody>\n",
       "</table>\n",
       "</div>"
      ],
      "text/plain": [
       "     sighting_date                        species  latitude  longitude  \\\n",
       "4782    2003-02-01  Monarch Adult (FIRST sighted)    26.456    -82.107   \n",
       "4783    2003-02-02  Monarch Adult (FIRST sighted)    25.778    -80.198   \n",
       "4784    2003-02-15  Monarch Adult (FIRST sighted)    31.071    -81.418   \n",
       "4785    2003-02-21  Monarch Adult (FIRST sighted)    37.773   -122.410   \n",
       "4786    2003-02-26  Monarch Adult (FIRST sighted)    26.880    -80.050   \n",
       "\n",
       "      number  month  \n",
       "4782       1      2  \n",
       "4783       1      2  \n",
       "4784       1      2  \n",
       "4785       1      2  \n",
       "4786       1      2  "
      ]
     },
     "execution_count": 187,
     "metadata": {},
     "output_type": "execute_result"
    }
   ],
   "source": [
    "JNorth_Adult_First_Site_2003_month_df =pd.DataFrame(JNorth_Adult_First_Site_2003_df)\n",
    "JNorth_Adult_First_Site_2003_2_df = JNorth_Adult_First_Site_2003_month_df[JNorth_Adult_First_Site_2003_month_df['month']==2]\n",
    "JNorth_Adult_First_Site_2003_2_df.tail()"
   ]
  },
  {
   "cell_type": "code",
   "execution_count": 188,
   "id": "2939fa09",
   "metadata": {},
   "outputs": [
    {
     "data": {
      "text/plain": [
       "(5, 6)"
      ]
     },
     "execution_count": 188,
     "metadata": {},
     "output_type": "execute_result"
    }
   ],
   "source": [
    "JNorth_Adult_First_Site_2003_2_df.shape"
   ]
  },
  {
   "cell_type": "code",
   "execution_count": 189,
   "id": "055df0e1",
   "metadata": {},
   "outputs": [],
   "source": [
    "JNorth_Adult_First_Site_2003_2_df = pd.DataFrame(JNorth_Adult_First_Site_2003_2_df)\n",
    "JNorth_Adult_First_Site_2003_2_df.drop(['month'], axis=1, inplace=True)"
   ]
  },
  {
   "cell_type": "code",
   "execution_count": 190,
   "id": "8b945994",
   "metadata": {},
   "outputs": [],
   "source": [
    "# convert lat-long to floats and change address from ALL CAPS to regular capitalization\n",
    "JNorth_Adult_First_Site_2003_2_df['latitude'] = JNorth_Adult_First_Site_2003_2_df['latitude'].astype(float)\n",
    "JNorth_Adult_First_Site_2003_2_df['longitude'] = JNorth_Adult_First_Site_2003_2_df['longitude'].astype(float)\n",
    "# JNorth_Milkweed_Site_df['street_address'] = JNorth_Milkweed_Site_df['street_address'].str.title()"
   ]
  },
  {
   "cell_type": "code",
   "execution_count": 191,
   "id": "bd2a727a",
   "metadata": {},
   "outputs": [],
   "source": [
    "geojson = df_to_geojson(JNorth_Adult_First_Site_2003_2_df, cols)"
   ]
  },
  {
   "cell_type": "code",
   "execution_count": 192,
   "id": "336c1e4d",
   "metadata": {},
   "outputs": [],
   "source": [
    "file = open(\"JNorth_Adult_First_Site_2003_2.geojson\", \"w\")\n",
    "json.dump(geojson, file, indent =1)\n",
    "file.close()"
   ]
  },
  {
   "cell_type": "markdown",
   "id": "308bd862",
   "metadata": {},
   "source": [
    "## March"
   ]
  },
  {
   "cell_type": "code",
   "execution_count": 193,
   "id": "6b02a9ba",
   "metadata": {},
   "outputs": [
    {
     "data": {
      "text/html": [
       "<div>\n",
       "<style scoped>\n",
       "    .dataframe tbody tr th:only-of-type {\n",
       "        vertical-align: middle;\n",
       "    }\n",
       "\n",
       "    .dataframe tbody tr th {\n",
       "        vertical-align: top;\n",
       "    }\n",
       "\n",
       "    .dataframe thead th {\n",
       "        text-align: right;\n",
       "    }\n",
       "</style>\n",
       "<table border=\"1\" class=\"dataframe\">\n",
       "  <thead>\n",
       "    <tr style=\"text-align: right;\">\n",
       "      <th></th>\n",
       "      <th>sighting_date</th>\n",
       "      <th>species</th>\n",
       "      <th>latitude</th>\n",
       "      <th>longitude</th>\n",
       "      <th>number</th>\n",
       "      <th>month</th>\n",
       "    </tr>\n",
       "  </thead>\n",
       "  <tbody>\n",
       "    <tr>\n",
       "      <th>4900</th>\n",
       "      <td>2003-03-31</td>\n",
       "      <td>Monarch Adult (FIRST sighted)</td>\n",
       "      <td>31.552</td>\n",
       "      <td>-97.138</td>\n",
       "      <td>1</td>\n",
       "      <td>3</td>\n",
       "    </tr>\n",
       "    <tr>\n",
       "      <th>4901</th>\n",
       "      <td>2003-03-31</td>\n",
       "      <td>Monarch Adult (FIRST sighted)</td>\n",
       "      <td>33.477</td>\n",
       "      <td>-93.918</td>\n",
       "      <td>1</td>\n",
       "      <td>3</td>\n",
       "    </tr>\n",
       "    <tr>\n",
       "      <th>4902</th>\n",
       "      <td>2003-03-31</td>\n",
       "      <td>Monarch Adult (FIRST sighted)</td>\n",
       "      <td>33.821</td>\n",
       "      <td>-97.780</td>\n",
       "      <td>1</td>\n",
       "      <td>3</td>\n",
       "    </tr>\n",
       "    <tr>\n",
       "      <th>4903</th>\n",
       "      <td>2003-03-31</td>\n",
       "      <td>Monarch Adult (FIRST sighted)</td>\n",
       "      <td>36.149</td>\n",
       "      <td>-95.976</td>\n",
       "      <td>1</td>\n",
       "      <td>3</td>\n",
       "    </tr>\n",
       "    <tr>\n",
       "      <th>4904</th>\n",
       "      <td>2003-03-31</td>\n",
       "      <td>Monarch Adult (FIRST sighted)</td>\n",
       "      <td>36.502</td>\n",
       "      <td>-98.503</td>\n",
       "      <td>1</td>\n",
       "      <td>3</td>\n",
       "    </tr>\n",
       "  </tbody>\n",
       "</table>\n",
       "</div>"
      ],
      "text/plain": [
       "     sighting_date                        species  latitude  longitude  \\\n",
       "4900    2003-03-31  Monarch Adult (FIRST sighted)    31.552    -97.138   \n",
       "4901    2003-03-31  Monarch Adult (FIRST sighted)    33.477    -93.918   \n",
       "4902    2003-03-31  Monarch Adult (FIRST sighted)    33.821    -97.780   \n",
       "4903    2003-03-31  Monarch Adult (FIRST sighted)    36.149    -95.976   \n",
       "4904    2003-03-31  Monarch Adult (FIRST sighted)    36.502    -98.503   \n",
       "\n",
       "      number  month  \n",
       "4900       1      3  \n",
       "4901       1      3  \n",
       "4902       1      3  \n",
       "4903       1      3  \n",
       "4904       1      3  "
      ]
     },
     "execution_count": 193,
     "metadata": {},
     "output_type": "execute_result"
    }
   ],
   "source": [
    "JNorth_Adult_First_Site_2003_month_df =pd.DataFrame(JNorth_Adult_First_Site_2003_df)\n",
    "JNorth_Adult_First_Site_2003_3_df = JNorth_Adult_First_Site_2003_month_df[JNorth_Adult_First_Site_2003_month_df['month']==3]\n",
    "JNorth_Adult_First_Site_2003_3_df.tail()"
   ]
  },
  {
   "cell_type": "code",
   "execution_count": 194,
   "id": "95014e39",
   "metadata": {},
   "outputs": [
    {
     "data": {
      "text/plain": [
       "(118, 6)"
      ]
     },
     "execution_count": 194,
     "metadata": {},
     "output_type": "execute_result"
    }
   ],
   "source": [
    "JNorth_Adult_First_Site_2003_3_df.shape"
   ]
  },
  {
   "cell_type": "code",
   "execution_count": 195,
   "id": "db866638",
   "metadata": {},
   "outputs": [],
   "source": [
    "JNorth_Adult_First_Site_2003_3_df = pd.DataFrame(JNorth_Adult_First_Site_2003_3_df)\n",
    "JNorth_Adult_First_Site_2003_3_df.drop(['month'], axis=1, inplace=True)"
   ]
  },
  {
   "cell_type": "code",
   "execution_count": 196,
   "id": "2e4fb224",
   "metadata": {},
   "outputs": [],
   "source": [
    "# convert lat-long to floats and change address from ALL CAPS to regular capitalization\n",
    "JNorth_Adult_First_Site_2003_3_df['latitude'] = JNorth_Adult_First_Site_2003_3_df['latitude'].astype(float)\n",
    "JNorth_Adult_First_Site_2003_3_df['longitude'] = JNorth_Adult_First_Site_2003_3_df['longitude'].astype(float)\n",
    "# JNorth_Milkweed_Site_df['street_address'] = JNorth_Milkweed_Site_df['street_address'].str.title()"
   ]
  },
  {
   "cell_type": "code",
   "execution_count": 197,
   "id": "a3df213a",
   "metadata": {},
   "outputs": [],
   "source": [
    "geojson = df_to_geojson(JNorth_Adult_First_Site_2003_3_df, cols)"
   ]
  },
  {
   "cell_type": "code",
   "execution_count": 198,
   "id": "aaaf0ed1",
   "metadata": {},
   "outputs": [],
   "source": [
    "file = open(\"JNorth_Adult_First_Site_2003_3.geojson\", \"w\")\n",
    "json.dump(geojson, file, indent =1)\n",
    "file.close()"
   ]
  },
  {
   "cell_type": "markdown",
   "id": "5b8eefd5",
   "metadata": {},
   "source": [
    "## April"
   ]
  },
  {
   "cell_type": "code",
   "execution_count": 199,
   "id": "9de021e0",
   "metadata": {},
   "outputs": [
    {
     "data": {
      "text/html": [
       "<div>\n",
       "<style scoped>\n",
       "    .dataframe tbody tr th:only-of-type {\n",
       "        vertical-align: middle;\n",
       "    }\n",
       "\n",
       "    .dataframe tbody tr th {\n",
       "        vertical-align: top;\n",
       "    }\n",
       "\n",
       "    .dataframe thead th {\n",
       "        text-align: right;\n",
       "    }\n",
       "</style>\n",
       "<table border=\"1\" class=\"dataframe\">\n",
       "  <thead>\n",
       "    <tr style=\"text-align: right;\">\n",
       "      <th></th>\n",
       "      <th>sighting_date</th>\n",
       "      <th>species</th>\n",
       "      <th>latitude</th>\n",
       "      <th>longitude</th>\n",
       "      <th>number</th>\n",
       "      <th>month</th>\n",
       "    </tr>\n",
       "  </thead>\n",
       "  <tbody>\n",
       "    <tr>\n",
       "      <th>4991</th>\n",
       "      <td>2003-04-28</td>\n",
       "      <td>Monarch Adult (FIRST sighted)</td>\n",
       "      <td>42.196</td>\n",
       "      <td>-83.624</td>\n",
       "      <td>1</td>\n",
       "      <td>4</td>\n",
       "    </tr>\n",
       "    <tr>\n",
       "      <th>4992</th>\n",
       "      <td>2003-04-29</td>\n",
       "      <td>Monarch Adult (FIRST sighted)</td>\n",
       "      <td>39.107</td>\n",
       "      <td>-84.500</td>\n",
       "      <td>1</td>\n",
       "      <td>4</td>\n",
       "    </tr>\n",
       "    <tr>\n",
       "      <th>4993</th>\n",
       "      <td>2003-04-29</td>\n",
       "      <td>Monarch Adult (FIRST sighted)</td>\n",
       "      <td>39.646</td>\n",
       "      <td>-84.167</td>\n",
       "      <td>1</td>\n",
       "      <td>4</td>\n",
       "    </tr>\n",
       "    <tr>\n",
       "      <th>4994</th>\n",
       "      <td>2003-04-29</td>\n",
       "      <td>Monarch Adult (FIRST sighted)</td>\n",
       "      <td>41.332</td>\n",
       "      <td>-85.021</td>\n",
       "      <td>1</td>\n",
       "      <td>4</td>\n",
       "    </tr>\n",
       "    <tr>\n",
       "      <th>4995</th>\n",
       "      <td>2003-04-30</td>\n",
       "      <td>Monarch Adult (FIRST sighted)</td>\n",
       "      <td>37.063</td>\n",
       "      <td>-122.162</td>\n",
       "      <td>1</td>\n",
       "      <td>4</td>\n",
       "    </tr>\n",
       "  </tbody>\n",
       "</table>\n",
       "</div>"
      ],
      "text/plain": [
       "     sighting_date                        species  latitude  longitude  \\\n",
       "4991    2003-04-28  Monarch Adult (FIRST sighted)    42.196    -83.624   \n",
       "4992    2003-04-29  Monarch Adult (FIRST sighted)    39.107    -84.500   \n",
       "4993    2003-04-29  Monarch Adult (FIRST sighted)    39.646    -84.167   \n",
       "4994    2003-04-29  Monarch Adult (FIRST sighted)    41.332    -85.021   \n",
       "4995    2003-04-30  Monarch Adult (FIRST sighted)    37.063   -122.162   \n",
       "\n",
       "      number  month  \n",
       "4991       1      4  \n",
       "4992       1      4  \n",
       "4993       1      4  \n",
       "4994       1      4  \n",
       "4995       1      4  "
      ]
     },
     "execution_count": 199,
     "metadata": {},
     "output_type": "execute_result"
    }
   ],
   "source": [
    "JNorth_Adult_First_Site_2003_month_df =pd.DataFrame(JNorth_Adult_First_Site_2003_df)\n",
    "JNorth_Adult_First_Site_2003_4_df = JNorth_Adult_First_Site_2003_month_df[JNorth_Adult_First_Site_2003_month_df['month']==4]\n",
    "JNorth_Adult_First_Site_2003_4_df.tail()"
   ]
  },
  {
   "cell_type": "code",
   "execution_count": 200,
   "id": "4a92a749",
   "metadata": {},
   "outputs": [
    {
     "data": {
      "text/plain": [
       "(91, 6)"
      ]
     },
     "execution_count": 200,
     "metadata": {},
     "output_type": "execute_result"
    }
   ],
   "source": [
    "JNorth_Adult_First_Site_2003_4_df.shape"
   ]
  },
  {
   "cell_type": "code",
   "execution_count": 201,
   "id": "c1bcccfd",
   "metadata": {},
   "outputs": [],
   "source": [
    "JNorth_Adult_First_Site_2003_4_df =pd.DataFrame(JNorth_Adult_First_Site_2003_4_df)\n",
    "JNorth_Adult_First_Site_2003_4_df.drop(['month'], axis=1, inplace=True)"
   ]
  },
  {
   "cell_type": "code",
   "execution_count": 202,
   "id": "083929cc",
   "metadata": {},
   "outputs": [],
   "source": [
    "# convert lat-long to floats and change address from ALL CAPS to regular capitalization\n",
    "JNorth_Adult_First_Site_2003_4_df['latitude'] = JNorth_Adult_First_Site_2003_4_df['latitude'].astype(float)\n",
    "JNorth_Adult_First_Site_2003_4_df['longitude'] = JNorth_Adult_First_Site_2003_4_df['longitude'].astype(float)\n",
    "# JNorth_Milkweed_Site_df['street_address'] = JNorth_Milkweed_Site_df['street_address'].str.title()"
   ]
  },
  {
   "cell_type": "code",
   "execution_count": 203,
   "id": "63ecb386",
   "metadata": {},
   "outputs": [],
   "source": [
    "geojson = df_to_geojson(JNorth_Adult_First_Site_2003_4_df, cols)"
   ]
  },
  {
   "cell_type": "code",
   "execution_count": 204,
   "id": "8da2fa34",
   "metadata": {},
   "outputs": [],
   "source": [
    "file = open(\"JNorth_Adult_First_Site_2003_4.geojson\", \"w\")\n",
    "json.dump(geojson, file, indent =1)\n",
    "file.close()"
   ]
  },
  {
   "cell_type": "markdown",
   "id": "e4b0927a",
   "metadata": {},
   "source": [
    "## May"
   ]
  },
  {
   "cell_type": "code",
   "execution_count": 205,
   "id": "08818b34",
   "metadata": {},
   "outputs": [
    {
     "data": {
      "text/html": [
       "<div>\n",
       "<style scoped>\n",
       "    .dataframe tbody tr th:only-of-type {\n",
       "        vertical-align: middle;\n",
       "    }\n",
       "\n",
       "    .dataframe tbody tr th {\n",
       "        vertical-align: top;\n",
       "    }\n",
       "\n",
       "    .dataframe thead th {\n",
       "        text-align: right;\n",
       "    }\n",
       "</style>\n",
       "<table border=\"1\" class=\"dataframe\">\n",
       "  <thead>\n",
       "    <tr style=\"text-align: right;\">\n",
       "      <th></th>\n",
       "      <th>sighting_date</th>\n",
       "      <th>species</th>\n",
       "      <th>latitude</th>\n",
       "      <th>longitude</th>\n",
       "      <th>number</th>\n",
       "      <th>month</th>\n",
       "    </tr>\n",
       "  </thead>\n",
       "  <tbody>\n",
       "    <tr>\n",
       "      <th>5106</th>\n",
       "      <td>2003-05-29</td>\n",
       "      <td>Monarch Adult (FIRST sighted)</td>\n",
       "      <td>44.902</td>\n",
       "      <td>-93.288</td>\n",
       "      <td>1</td>\n",
       "      <td>5</td>\n",
       "    </tr>\n",
       "    <tr>\n",
       "      <th>5107</th>\n",
       "      <td>2003-05-29</td>\n",
       "      <td>Monarch Adult (FIRST sighted)</td>\n",
       "      <td>44.986</td>\n",
       "      <td>-93.270</td>\n",
       "      <td>2</td>\n",
       "      <td>5</td>\n",
       "    </tr>\n",
       "    <tr>\n",
       "      <th>5108</th>\n",
       "      <td>2003-05-29</td>\n",
       "      <td>Monarch Adult (FIRST sighted)</td>\n",
       "      <td>45.094</td>\n",
       "      <td>-93.004</td>\n",
       "      <td>1</td>\n",
       "      <td>5</td>\n",
       "    </tr>\n",
       "    <tr>\n",
       "      <th>5109</th>\n",
       "      <td>2003-05-29</td>\n",
       "      <td>Monarch Adult (FIRST sighted)</td>\n",
       "      <td>49.650</td>\n",
       "      <td>-98.330</td>\n",
       "      <td>1</td>\n",
       "      <td>5</td>\n",
       "    </tr>\n",
       "    <tr>\n",
       "      <th>5110</th>\n",
       "      <td>2003-05-30</td>\n",
       "      <td>Monarch Adult (FIRST sighted)</td>\n",
       "      <td>36.222</td>\n",
       "      <td>-78.438</td>\n",
       "      <td>1</td>\n",
       "      <td>5</td>\n",
       "    </tr>\n",
       "  </tbody>\n",
       "</table>\n",
       "</div>"
      ],
      "text/plain": [
       "     sighting_date                        species  latitude  longitude  \\\n",
       "5106    2003-05-29  Monarch Adult (FIRST sighted)    44.902    -93.288   \n",
       "5107    2003-05-29  Monarch Adult (FIRST sighted)    44.986    -93.270   \n",
       "5108    2003-05-29  Monarch Adult (FIRST sighted)    45.094    -93.004   \n",
       "5109    2003-05-29  Monarch Adult (FIRST sighted)    49.650    -98.330   \n",
       "5110    2003-05-30  Monarch Adult (FIRST sighted)    36.222    -78.438   \n",
       "\n",
       "      number  month  \n",
       "5106       1      5  \n",
       "5107       2      5  \n",
       "5108       1      5  \n",
       "5109       1      5  \n",
       "5110       1      5  "
      ]
     },
     "execution_count": 205,
     "metadata": {},
     "output_type": "execute_result"
    }
   ],
   "source": [
    "JNorth_Adult_First_Site_2003_month_df =pd.DataFrame(JNorth_Adult_First_Site_2003_df)\n",
    "JNorth_Adult_First_Site_2003_5_df = JNorth_Adult_First_Site_2003_month_df[JNorth_Adult_First_Site_2003_month_df['month']==5]\n",
    "JNorth_Adult_First_Site_2003_5_df.tail()"
   ]
  },
  {
   "cell_type": "code",
   "execution_count": 206,
   "id": "8e3b442c",
   "metadata": {},
   "outputs": [
    {
     "data": {
      "text/plain": [
       "(115, 6)"
      ]
     },
     "execution_count": 206,
     "metadata": {},
     "output_type": "execute_result"
    }
   ],
   "source": [
    "JNorth_Adult_First_Site_2003_5_df.shape"
   ]
  },
  {
   "cell_type": "code",
   "execution_count": 207,
   "id": "dbcbd9d1",
   "metadata": {},
   "outputs": [],
   "source": [
    "JNorth_Adult_First_Site_2003_5_df =pd.DataFrame(JNorth_Adult_First_Site_2003_5_df)\n",
    "JNorth_Adult_First_Site_2003_5_df.drop(['month'], axis=1, inplace=True)"
   ]
  },
  {
   "cell_type": "code",
   "execution_count": 208,
   "id": "ef16ae7f",
   "metadata": {},
   "outputs": [],
   "source": [
    "# convert lat-long to floats and change address from ALL CAPS to regular capitalization\n",
    "JNorth_Adult_First_Site_2003_5_df['latitude'] = JNorth_Adult_First_Site_2003_5_df['latitude'].astype(float)\n",
    "JNorth_Adult_First_Site_2003_5_df['longitude'] = JNorth_Adult_First_Site_2003_5_df['longitude'].astype(float)\n",
    "# JNorth_Milkweed_Site_df['street_address'] = JNorth_Milkweed_Site_df['street_address'].str.title()"
   ]
  },
  {
   "cell_type": "code",
   "execution_count": 209,
   "id": "f57c29c9",
   "metadata": {},
   "outputs": [],
   "source": [
    "geojson = df_to_geojson(JNorth_Adult_First_Site_2003_5_df, cols)"
   ]
  },
  {
   "cell_type": "code",
   "execution_count": 210,
   "id": "bf28ef88",
   "metadata": {},
   "outputs": [],
   "source": [
    "file = open(\"JNorth_Adult_First_Site_2003_5.geojson\", \"w\")\n",
    "json.dump(geojson, file, indent =1)\n",
    "file.close()"
   ]
  },
  {
   "cell_type": "markdown",
   "id": "f17bf01f",
   "metadata": {},
   "source": [
    "## June"
   ]
  },
  {
   "cell_type": "code",
   "execution_count": 211,
   "id": "381829c2",
   "metadata": {},
   "outputs": [
    {
     "data": {
      "text/html": [
       "<div>\n",
       "<style scoped>\n",
       "    .dataframe tbody tr th:only-of-type {\n",
       "        vertical-align: middle;\n",
       "    }\n",
       "\n",
       "    .dataframe tbody tr th {\n",
       "        vertical-align: top;\n",
       "    }\n",
       "\n",
       "    .dataframe thead th {\n",
       "        text-align: right;\n",
       "    }\n",
       "</style>\n",
       "<table border=\"1\" class=\"dataframe\">\n",
       "  <thead>\n",
       "    <tr style=\"text-align: right;\">\n",
       "      <th></th>\n",
       "      <th>sighting_date</th>\n",
       "      <th>species</th>\n",
       "      <th>latitude</th>\n",
       "      <th>longitude</th>\n",
       "      <th>number</th>\n",
       "      <th>month</th>\n",
       "    </tr>\n",
       "  </thead>\n",
       "  <tbody>\n",
       "    <tr>\n",
       "      <th>5202</th>\n",
       "      <td>2003-06-24</td>\n",
       "      <td>Monarch Adult (FIRST sighted)</td>\n",
       "      <td>44.540</td>\n",
       "      <td>-79.220</td>\n",
       "      <td>1</td>\n",
       "      <td>6</td>\n",
       "    </tr>\n",
       "    <tr>\n",
       "      <th>5203</th>\n",
       "      <td>2003-06-26</td>\n",
       "      <td>Monarch Adult (FIRST sighted)</td>\n",
       "      <td>40.553</td>\n",
       "      <td>-74.288</td>\n",
       "      <td>1</td>\n",
       "      <td>6</td>\n",
       "    </tr>\n",
       "    <tr>\n",
       "      <th>5204</th>\n",
       "      <td>2003-06-29</td>\n",
       "      <td>Monarch Adult (FIRST sighted)</td>\n",
       "      <td>44.415</td>\n",
       "      <td>-66.492</td>\n",
       "      <td>1</td>\n",
       "      <td>6</td>\n",
       "    </tr>\n",
       "    <tr>\n",
       "      <th>5205</th>\n",
       "      <td>2003-06-30</td>\n",
       "      <td>Monarch Adult (FIRST sighted)</td>\n",
       "      <td>44.474</td>\n",
       "      <td>-74.278</td>\n",
       "      <td>1</td>\n",
       "      <td>6</td>\n",
       "    </tr>\n",
       "    <tr>\n",
       "      <th>5206</th>\n",
       "      <td>2003-06-30</td>\n",
       "      <td>Monarch Adult (FIRST sighted)</td>\n",
       "      <td>52.070</td>\n",
       "      <td>-106.380</td>\n",
       "      <td>1</td>\n",
       "      <td>6</td>\n",
       "    </tr>\n",
       "  </tbody>\n",
       "</table>\n",
       "</div>"
      ],
      "text/plain": [
       "     sighting_date                        species  latitude  longitude  \\\n",
       "5202    2003-06-24  Monarch Adult (FIRST sighted)    44.540    -79.220   \n",
       "5203    2003-06-26  Monarch Adult (FIRST sighted)    40.553    -74.288   \n",
       "5204    2003-06-29  Monarch Adult (FIRST sighted)    44.415    -66.492   \n",
       "5205    2003-06-30  Monarch Adult (FIRST sighted)    44.474    -74.278   \n",
       "5206    2003-06-30  Monarch Adult (FIRST sighted)    52.070   -106.380   \n",
       "\n",
       "      number  month  \n",
       "5202       1      6  \n",
       "5203       1      6  \n",
       "5204       1      6  \n",
       "5205       1      6  \n",
       "5206       1      6  "
      ]
     },
     "execution_count": 211,
     "metadata": {},
     "output_type": "execute_result"
    }
   ],
   "source": [
    "JNorth_Adult_First_Site_2003_month_df =pd.DataFrame(JNorth_Adult_First_Site_2003_df)\n",
    "JNorth_Adult_First_Site_2003_6_df = JNorth_Adult_First_Site_2003_month_df[JNorth_Adult_First_Site_2003_month_df['month']==6]\n",
    "JNorth_Adult_First_Site_2003_6_df.tail()"
   ]
  },
  {
   "cell_type": "code",
   "execution_count": 212,
   "id": "ec35325f",
   "metadata": {},
   "outputs": [
    {
     "data": {
      "text/plain": [
       "(96, 6)"
      ]
     },
     "execution_count": 212,
     "metadata": {},
     "output_type": "execute_result"
    }
   ],
   "source": [
    "JNorth_Adult_First_Site_2003_6_df.shape"
   ]
  },
  {
   "cell_type": "code",
   "execution_count": 213,
   "id": "8aadd64b",
   "metadata": {},
   "outputs": [],
   "source": [
    "JNorth_Adult_First_Site_2003_6_df = pd.DataFrame(JNorth_Adult_First_Site_2003_6_df)\n",
    "JNorth_Adult_First_Site_2003_6_df.drop(['month'], axis=1, inplace=True)"
   ]
  },
  {
   "cell_type": "code",
   "execution_count": 214,
   "id": "ae769a01",
   "metadata": {},
   "outputs": [],
   "source": [
    "# convert lat-long to floats and change address from ALL CAPS to regular capitalization\n",
    "JNorth_Adult_First_Site_2003_6_df['latitude'] = JNorth_Adult_First_Site_2003_6_df['latitude'].astype(float)\n",
    "JNorth_Adult_First_Site_2003_6_df['longitude'] = JNorth_Adult_First_Site_2003_6_df['longitude'].astype(float)\n",
    "# JNorth_Milkweed_Site_df['street_address'] = JNorth_Milkweed_Site_df['street_address'].str.title()"
   ]
  },
  {
   "cell_type": "code",
   "execution_count": 215,
   "id": "4e1cbc00",
   "metadata": {},
   "outputs": [],
   "source": [
    "geojson = df_to_geojson(JNorth_Adult_First_Site_2003_6_df, cols)"
   ]
  },
  {
   "cell_type": "code",
   "execution_count": 216,
   "id": "72fe008a",
   "metadata": {},
   "outputs": [],
   "source": [
    "file = open(\"JNorth_Adult_First_Site_2003_6.geojson\", \"w\")\n",
    "json.dump(geojson, file, indent =1)\n",
    "file.close()"
   ]
  },
  {
   "cell_type": "markdown",
   "id": "e88e1c71",
   "metadata": {},
   "source": [
    "## July"
   ]
  },
  {
   "cell_type": "code",
   "execution_count": 217,
   "id": "77e25b46",
   "metadata": {},
   "outputs": [
    {
     "data": {
      "text/html": [
       "<div>\n",
       "<style scoped>\n",
       "    .dataframe tbody tr th:only-of-type {\n",
       "        vertical-align: middle;\n",
       "    }\n",
       "\n",
       "    .dataframe tbody tr th {\n",
       "        vertical-align: top;\n",
       "    }\n",
       "\n",
       "    .dataframe thead th {\n",
       "        text-align: right;\n",
       "    }\n",
       "</style>\n",
       "<table border=\"1\" class=\"dataframe\">\n",
       "  <thead>\n",
       "    <tr style=\"text-align: right;\">\n",
       "      <th></th>\n",
       "      <th>sighting_date</th>\n",
       "      <th>species</th>\n",
       "      <th>latitude</th>\n",
       "      <th>longitude</th>\n",
       "      <th>number</th>\n",
       "      <th>month</th>\n",
       "    </tr>\n",
       "  </thead>\n",
       "  <tbody>\n",
       "    <tr>\n",
       "      <th>5207</th>\n",
       "      <td>2003-07-06</td>\n",
       "      <td>Monarch Adult (FIRST sighted)</td>\n",
       "      <td>44.522</td>\n",
       "      <td>-72.363</td>\n",
       "      <td>1</td>\n",
       "      <td>7</td>\n",
       "    </tr>\n",
       "    <tr>\n",
       "      <th>5208</th>\n",
       "      <td>2003-07-09</td>\n",
       "      <td>Monarch Adult (FIRST sighted)</td>\n",
       "      <td>44.550</td>\n",
       "      <td>-78.430</td>\n",
       "      <td>1</td>\n",
       "      <td>7</td>\n",
       "    </tr>\n",
       "    <tr>\n",
       "      <th>5209</th>\n",
       "      <td>2003-07-12</td>\n",
       "      <td>Monarch Adult (FIRST sighted)</td>\n",
       "      <td>44.698</td>\n",
       "      <td>-71.931</td>\n",
       "      <td>1</td>\n",
       "      <td>7</td>\n",
       "    </tr>\n",
       "    <tr>\n",
       "      <th>5210</th>\n",
       "      <td>2003-07-25</td>\n",
       "      <td>Monarch Adult (FIRST sighted)</td>\n",
       "      <td>43.849</td>\n",
       "      <td>-73.768</td>\n",
       "      <td>1</td>\n",
       "      <td>7</td>\n",
       "    </tr>\n",
       "  </tbody>\n",
       "</table>\n",
       "</div>"
      ],
      "text/plain": [
       "     sighting_date                        species  latitude  longitude  \\\n",
       "5207    2003-07-06  Monarch Adult (FIRST sighted)    44.522    -72.363   \n",
       "5208    2003-07-09  Monarch Adult (FIRST sighted)    44.550    -78.430   \n",
       "5209    2003-07-12  Monarch Adult (FIRST sighted)    44.698    -71.931   \n",
       "5210    2003-07-25  Monarch Adult (FIRST sighted)    43.849    -73.768   \n",
       "\n",
       "      number  month  \n",
       "5207       1      7  \n",
       "5208       1      7  \n",
       "5209       1      7  \n",
       "5210       1      7  "
      ]
     },
     "execution_count": 217,
     "metadata": {},
     "output_type": "execute_result"
    }
   ],
   "source": [
    "JNorth_Adult_First_Site_2003_month_df =pd.DataFrame(JNorth_Adult_First_Site_2003_df)\n",
    "JNorth_Adult_First_Site_2003_7_df = JNorth_Adult_First_Site_2003_month_df[JNorth_Adult_First_Site_2003_month_df['month']==7]\n",
    "JNorth_Adult_First_Site_2003_7_df.tail()"
   ]
  },
  {
   "cell_type": "code",
   "execution_count": 218,
   "id": "a2dd7a68",
   "metadata": {},
   "outputs": [
    {
     "data": {
      "text/plain": [
       "(4, 6)"
      ]
     },
     "execution_count": 218,
     "metadata": {},
     "output_type": "execute_result"
    }
   ],
   "source": [
    "JNorth_Adult_First_Site_2003_7_df.shape"
   ]
  },
  {
   "cell_type": "code",
   "execution_count": 219,
   "id": "9aa6caeb",
   "metadata": {},
   "outputs": [],
   "source": [
    "JNorth_Adult_First_Site_2003_7_df = pd.DataFrame(JNorth_Adult_First_Site_2003_7_df)\n",
    "JNorth_Adult_First_Site_2003_7_df.drop(['month'], axis=1, inplace=True)"
   ]
  },
  {
   "cell_type": "code",
   "execution_count": 220,
   "id": "42748eef",
   "metadata": {},
   "outputs": [],
   "source": [
    "# convert lat-long to floats and change address from ALL CAPS to regular capitalization\n",
    "JNorth_Adult_First_Site_2003_7_df['latitude'] = JNorth_Adult_First_Site_2003_7_df['latitude'].astype(float)\n",
    "JNorth_Adult_First_Site_2003_7_df['longitude'] = JNorth_Adult_First_Site_2003_7_df['longitude'].astype(float)\n",
    "# JNorth_Milkweed_Site_df['street_address'] = JNorth_Milkweed_Site_df['street_address'].str.title()"
   ]
  },
  {
   "cell_type": "code",
   "execution_count": 221,
   "id": "c0ff994e",
   "metadata": {},
   "outputs": [],
   "source": [
    "geojson = df_to_geojson(JNorth_Adult_First_Site_2003_7_df, cols)"
   ]
  },
  {
   "cell_type": "code",
   "execution_count": 222,
   "id": "a72a37d3",
   "metadata": {},
   "outputs": [],
   "source": [
    "file = open(\"JNorth_Adult_First_Site_2003_7.geojson\", \"w\")\n",
    "json.dump(geojson, file, indent =1)\n",
    "file.close()"
   ]
  },
  {
   "cell_type": "markdown",
   "id": "4ebd9239",
   "metadata": {},
   "source": [
    "## August"
   ]
  },
  {
   "cell_type": "code",
   "execution_count": 223,
   "id": "5c9ebe9f",
   "metadata": {},
   "outputs": [
    {
     "data": {
      "text/html": [
       "<div>\n",
       "<style scoped>\n",
       "    .dataframe tbody tr th:only-of-type {\n",
       "        vertical-align: middle;\n",
       "    }\n",
       "\n",
       "    .dataframe tbody tr th {\n",
       "        vertical-align: top;\n",
       "    }\n",
       "\n",
       "    .dataframe thead th {\n",
       "        text-align: right;\n",
       "    }\n",
       "</style>\n",
       "<table border=\"1\" class=\"dataframe\">\n",
       "  <thead>\n",
       "    <tr style=\"text-align: right;\">\n",
       "      <th></th>\n",
       "      <th>sighting_date</th>\n",
       "      <th>species</th>\n",
       "      <th>latitude</th>\n",
       "      <th>longitude</th>\n",
       "      <th>number</th>\n",
       "      <th>month</th>\n",
       "    </tr>\n",
       "  </thead>\n",
       "  <tbody>\n",
       "    <tr>\n",
       "      <th>5251</th>\n",
       "      <td>2003-08-31</td>\n",
       "      <td>Monarch Adult (FIRST sighted)</td>\n",
       "      <td>44.053</td>\n",
       "      <td>-97.516</td>\n",
       "      <td>1</td>\n",
       "      <td>8</td>\n",
       "    </tr>\n",
       "    <tr>\n",
       "      <th>5252</th>\n",
       "      <td>2003-08-31</td>\n",
       "      <td>Monarch Adult (FIRST sighted)</td>\n",
       "      <td>44.194</td>\n",
       "      <td>-76.104</td>\n",
       "      <td>1</td>\n",
       "      <td>8</td>\n",
       "    </tr>\n",
       "    <tr>\n",
       "      <th>5253</th>\n",
       "      <td>2003-08-31</td>\n",
       "      <td>Monarch Adult (FIRST sighted)</td>\n",
       "      <td>44.284</td>\n",
       "      <td>-94.190</td>\n",
       "      <td>1</td>\n",
       "      <td>8</td>\n",
       "    </tr>\n",
       "    <tr>\n",
       "      <th>5254</th>\n",
       "      <td>2003-08-31</td>\n",
       "      <td>Monarch Adult (FIRST sighted)</td>\n",
       "      <td>44.285</td>\n",
       "      <td>-72.491</td>\n",
       "      <td>1</td>\n",
       "      <td>8</td>\n",
       "    </tr>\n",
       "    <tr>\n",
       "      <th>5255</th>\n",
       "      <td>2003-08-31</td>\n",
       "      <td>Monarch Adult (FIRST sighted)</td>\n",
       "      <td>45.181</td>\n",
       "      <td>-93.578</td>\n",
       "      <td>1</td>\n",
       "      <td>8</td>\n",
       "    </tr>\n",
       "  </tbody>\n",
       "</table>\n",
       "</div>"
      ],
      "text/plain": [
       "     sighting_date                        species  latitude  longitude  \\\n",
       "5251    2003-08-31  Monarch Adult (FIRST sighted)    44.053    -97.516   \n",
       "5252    2003-08-31  Monarch Adult (FIRST sighted)    44.194    -76.104   \n",
       "5253    2003-08-31  Monarch Adult (FIRST sighted)    44.284    -94.190   \n",
       "5254    2003-08-31  Monarch Adult (FIRST sighted)    44.285    -72.491   \n",
       "5255    2003-08-31  Monarch Adult (FIRST sighted)    45.181    -93.578   \n",
       "\n",
       "      number  month  \n",
       "5251       1      8  \n",
       "5252       1      8  \n",
       "5253       1      8  \n",
       "5254       1      8  \n",
       "5255       1      8  "
      ]
     },
     "execution_count": 223,
     "metadata": {},
     "output_type": "execute_result"
    }
   ],
   "source": [
    "JNorth_Adult_First_Site_2003_month_df =pd.DataFrame(JNorth_Adult_First_Site_2003_df)\n",
    "JNorth_Adult_First_Site_2003_8_df = JNorth_Adult_First_Site_2003_month_df[JNorth_Adult_First_Site_2003_month_df['month']==8]\n",
    "JNorth_Adult_First_Site_2003_8_df.tail()"
   ]
  },
  {
   "cell_type": "code",
   "execution_count": 224,
   "id": "ac0f88df",
   "metadata": {},
   "outputs": [
    {
     "data": {
      "text/plain": [
       "(45, 6)"
      ]
     },
     "execution_count": 224,
     "metadata": {},
     "output_type": "execute_result"
    }
   ],
   "source": [
    "JNorth_Adult_First_Site_2003_8_df.shape"
   ]
  },
  {
   "cell_type": "code",
   "execution_count": 225,
   "id": "a227591e",
   "metadata": {},
   "outputs": [],
   "source": [
    "JNorth_Adult_First_Site_2003_8_df = pd.DataFrame(JNorth_Adult_First_Site_2003_8_df)\n",
    "JNorth_Adult_First_Site_2003_8_df.drop(['month'], axis=1, inplace=True)"
   ]
  },
  {
   "cell_type": "code",
   "execution_count": 226,
   "id": "4e211578",
   "metadata": {},
   "outputs": [],
   "source": [
    "# convert lat-long to floats and change address from ALL CAPS to regular capitalization\n",
    "JNorth_Adult_First_Site_2003_8_df['latitude'] = JNorth_Adult_First_Site_2003_8_df['latitude'].astype(float)\n",
    "JNorth_Adult_First_Site_2003_8_df['longitude'] = JNorth_Adult_First_Site_2003_8_df['longitude'].astype(float)\n",
    "# JNorth_Milkweed_Site_df['street_address'] = JNorth_Milkweed_Site_df['street_address'].str.title()"
   ]
  },
  {
   "cell_type": "code",
   "execution_count": 227,
   "id": "01db8160",
   "metadata": {},
   "outputs": [],
   "source": [
    "geojson = df_to_geojson(JNorth_Adult_First_Site_2003_8_df, cols)"
   ]
  },
  {
   "cell_type": "code",
   "execution_count": 228,
   "id": "3fdff8db",
   "metadata": {},
   "outputs": [],
   "source": [
    "file = open(\"JNorth_Adult_First_Site_2003_8.geojson\", \"w\")\n",
    "json.dump(geojson, file, indent =1)\n",
    "file.close()"
   ]
  },
  {
   "cell_type": "markdown",
   "id": "15eef5a5",
   "metadata": {},
   "source": [
    "## September"
   ]
  },
  {
   "cell_type": "code",
   "execution_count": 229,
   "id": "4201b041",
   "metadata": {},
   "outputs": [
    {
     "data": {
      "text/html": [
       "<div>\n",
       "<style scoped>\n",
       "    .dataframe tbody tr th:only-of-type {\n",
       "        vertical-align: middle;\n",
       "    }\n",
       "\n",
       "    .dataframe tbody tr th {\n",
       "        vertical-align: top;\n",
       "    }\n",
       "\n",
       "    .dataframe thead th {\n",
       "        text-align: right;\n",
       "    }\n",
       "</style>\n",
       "<table border=\"1\" class=\"dataframe\">\n",
       "  <thead>\n",
       "    <tr style=\"text-align: right;\">\n",
       "      <th></th>\n",
       "      <th>sighting_date</th>\n",
       "      <th>species</th>\n",
       "      <th>latitude</th>\n",
       "      <th>longitude</th>\n",
       "      <th>number</th>\n",
       "      <th>month</th>\n",
       "    </tr>\n",
       "  </thead>\n",
       "  <tbody>\n",
       "    <tr>\n",
       "      <th>5703</th>\n",
       "      <td>2003-09-30</td>\n",
       "      <td>Monarch Adult (FIRST sighted)</td>\n",
       "      <td>42.436</td>\n",
       "      <td>-76.502</td>\n",
       "      <td>1</td>\n",
       "      <td>9</td>\n",
       "    </tr>\n",
       "    <tr>\n",
       "      <th>5704</th>\n",
       "      <td>2003-09-30</td>\n",
       "      <td>Monarch Adult (FIRST sighted)</td>\n",
       "      <td>43.580</td>\n",
       "      <td>-78.100</td>\n",
       "      <td>1</td>\n",
       "      <td>9</td>\n",
       "    </tr>\n",
       "    <tr>\n",
       "      <th>5705</th>\n",
       "      <td>2003-09-30</td>\n",
       "      <td>Monarch Adult (FIRST sighted)</td>\n",
       "      <td>44.591</td>\n",
       "      <td>-69.343</td>\n",
       "      <td>1</td>\n",
       "      <td>9</td>\n",
       "    </tr>\n",
       "    <tr>\n",
       "      <th>5706</th>\n",
       "      <td>2003-09-30</td>\n",
       "      <td>Monarch Adult (FIRST sighted)</td>\n",
       "      <td>45.020</td>\n",
       "      <td>-75.240</td>\n",
       "      <td>1</td>\n",
       "      <td>9</td>\n",
       "    </tr>\n",
       "    <tr>\n",
       "      <th>5707</th>\n",
       "      <td>2003-09-30</td>\n",
       "      <td>Monarch Adult (FIRST sighted)</td>\n",
       "      <td>45.300</td>\n",
       "      <td>-73.360</td>\n",
       "      <td>1</td>\n",
       "      <td>9</td>\n",
       "    </tr>\n",
       "  </tbody>\n",
       "</table>\n",
       "</div>"
      ],
      "text/plain": [
       "     sighting_date                        species  latitude  longitude  \\\n",
       "5703    2003-09-30  Monarch Adult (FIRST sighted)    42.436    -76.502   \n",
       "5704    2003-09-30  Monarch Adult (FIRST sighted)    43.580    -78.100   \n",
       "5705    2003-09-30  Monarch Adult (FIRST sighted)    44.591    -69.343   \n",
       "5706    2003-09-30  Monarch Adult (FIRST sighted)    45.020    -75.240   \n",
       "5707    2003-09-30  Monarch Adult (FIRST sighted)    45.300    -73.360   \n",
       "\n",
       "      number  month  \n",
       "5703       1      9  \n",
       "5704       1      9  \n",
       "5705       1      9  \n",
       "5706       1      9  \n",
       "5707       1      9  "
      ]
     },
     "execution_count": 229,
     "metadata": {},
     "output_type": "execute_result"
    }
   ],
   "source": [
    "JNorth_Adult_First_Site_2003_month_df =pd.DataFrame(JNorth_Adult_First_Site_2003_df)\n",
    "JNorth_Adult_First_Site_2003_9_df = JNorth_Adult_First_Site_2003_month_df[JNorth_Adult_First_Site_2003_month_df['month']==9]\n",
    "JNorth_Adult_First_Site_2003_9_df.tail()"
   ]
  },
  {
   "cell_type": "code",
   "execution_count": 230,
   "id": "516fca91",
   "metadata": {},
   "outputs": [
    {
     "data": {
      "text/plain": [
       "(452, 6)"
      ]
     },
     "execution_count": 230,
     "metadata": {},
     "output_type": "execute_result"
    }
   ],
   "source": [
    "JNorth_Adult_First_Site_2003_9_df.shape"
   ]
  },
  {
   "cell_type": "code",
   "execution_count": 231,
   "id": "a6b91576",
   "metadata": {},
   "outputs": [],
   "source": [
    "JNorth_Adult_First_Site_2003_9_df = pd.DataFrame(JNorth_Adult_First_Site_2003_9_df)\n",
    "JNorth_Adult_First_Site_2003_9_df.drop(['month'], axis=1, inplace=True)"
   ]
  },
  {
   "cell_type": "code",
   "execution_count": 232,
   "id": "8033ae13",
   "metadata": {},
   "outputs": [],
   "source": [
    "# convert lat-long to floats and change address from ALL CAPS to regular capitalization\n",
    "JNorth_Adult_First_Site_2003_9_df['latitude'] = JNorth_Adult_First_Site_2003_9_df['latitude'].astype(float)\n",
    "JNorth_Adult_First_Site_2003_9_df['longitude'] = JNorth_Adult_First_Site_2003_9_df['longitude'].astype(float)\n",
    "# JNorth_Milkweed_Site_df['street_address'] = JNorth_Milkweed_Site_df['street_address'].str.title()"
   ]
  },
  {
   "cell_type": "code",
   "execution_count": 233,
   "id": "da8fe8ce",
   "metadata": {},
   "outputs": [],
   "source": [
    "geojson = df_to_geojson(JNorth_Adult_First_Site_2003_9_df, cols)"
   ]
  },
  {
   "cell_type": "code",
   "execution_count": 234,
   "id": "13e5f165",
   "metadata": {},
   "outputs": [],
   "source": [
    "file = open(\"JNorth_Adult_First_Site_2003_9.geojson\", \"w\")\n",
    "json.dump(geojson, file, indent =1)\n",
    "file.close()"
   ]
  },
  {
   "cell_type": "markdown",
   "id": "ae2cb912",
   "metadata": {},
   "source": [
    "## October"
   ]
  },
  {
   "cell_type": "code",
   "execution_count": 235,
   "id": "4f1607ef",
   "metadata": {},
   "outputs": [
    {
     "data": {
      "text/html": [
       "<div>\n",
       "<style scoped>\n",
       "    .dataframe tbody tr th:only-of-type {\n",
       "        vertical-align: middle;\n",
       "    }\n",
       "\n",
       "    .dataframe tbody tr th {\n",
       "        vertical-align: top;\n",
       "    }\n",
       "\n",
       "    .dataframe thead th {\n",
       "        text-align: right;\n",
       "    }\n",
       "</style>\n",
       "<table border=\"1\" class=\"dataframe\">\n",
       "  <thead>\n",
       "    <tr style=\"text-align: right;\">\n",
       "      <th></th>\n",
       "      <th>sighting_date</th>\n",
       "      <th>species</th>\n",
       "      <th>latitude</th>\n",
       "      <th>longitude</th>\n",
       "      <th>number</th>\n",
       "      <th>month</th>\n",
       "    </tr>\n",
       "  </thead>\n",
       "  <tbody>\n",
       "    <tr>\n",
       "      <th>6100</th>\n",
       "      <td>2003-10-31</td>\n",
       "      <td>Monarch Adult (FIRST sighted)</td>\n",
       "      <td>35.999</td>\n",
       "      <td>-78.898</td>\n",
       "      <td>1</td>\n",
       "      <td>10</td>\n",
       "    </tr>\n",
       "    <tr>\n",
       "      <th>6101</th>\n",
       "      <td>2003-10-31</td>\n",
       "      <td>Monarch Adult (FIRST sighted)</td>\n",
       "      <td>39.201</td>\n",
       "      <td>-77.621</td>\n",
       "      <td>1</td>\n",
       "      <td>10</td>\n",
       "    </tr>\n",
       "    <tr>\n",
       "      <th>6102</th>\n",
       "      <td>2003-10-31</td>\n",
       "      <td>Monarch Adult (FIRST sighted)</td>\n",
       "      <td>39.797</td>\n",
       "      <td>-75.148</td>\n",
       "      <td>1</td>\n",
       "      <td>10</td>\n",
       "    </tr>\n",
       "    <tr>\n",
       "      <th>6103</th>\n",
       "      <td>2003-10-31</td>\n",
       "      <td>Monarch Adult (FIRST sighted)</td>\n",
       "      <td>40.942</td>\n",
       "      <td>-74.661</td>\n",
       "      <td>1</td>\n",
       "      <td>10</td>\n",
       "    </tr>\n",
       "    <tr>\n",
       "      <th>6104</th>\n",
       "      <td>2003-10-31</td>\n",
       "      <td>Monarch Adult (FIRST sighted)</td>\n",
       "      <td>44.020</td>\n",
       "      <td>-77.440</td>\n",
       "      <td>1</td>\n",
       "      <td>10</td>\n",
       "    </tr>\n",
       "  </tbody>\n",
       "</table>\n",
       "</div>"
      ],
      "text/plain": [
       "     sighting_date                        species  latitude  longitude  \\\n",
       "6100    2003-10-31  Monarch Adult (FIRST sighted)    35.999    -78.898   \n",
       "6101    2003-10-31  Monarch Adult (FIRST sighted)    39.201    -77.621   \n",
       "6102    2003-10-31  Monarch Adult (FIRST sighted)    39.797    -75.148   \n",
       "6103    2003-10-31  Monarch Adult (FIRST sighted)    40.942    -74.661   \n",
       "6104    2003-10-31  Monarch Adult (FIRST sighted)    44.020    -77.440   \n",
       "\n",
       "      number  month  \n",
       "6100       1     10  \n",
       "6101       1     10  \n",
       "6102       1     10  \n",
       "6103       1     10  \n",
       "6104       1     10  "
      ]
     },
     "execution_count": 235,
     "metadata": {},
     "output_type": "execute_result"
    }
   ],
   "source": [
    "JNorth_Adult_First_Site_2003_month_df =pd.DataFrame(JNorth_Adult_First_Site_2003_df)\n",
    "JNorth_Adult_First_Site_2003_10_df = JNorth_Adult_First_Site_2003_month_df[JNorth_Adult_First_Site_2003_month_df['month']==10]\n",
    "JNorth_Adult_First_Site_2003_10_df.tail()"
   ]
  },
  {
   "cell_type": "code",
   "execution_count": 236,
   "id": "a53315bd",
   "metadata": {},
   "outputs": [
    {
     "data": {
      "text/plain": [
       "(397, 6)"
      ]
     },
     "execution_count": 236,
     "metadata": {},
     "output_type": "execute_result"
    }
   ],
   "source": [
    "JNorth_Adult_First_Site_2003_10_df.shape"
   ]
  },
  {
   "cell_type": "code",
   "execution_count": 237,
   "id": "3d9e0ab1",
   "metadata": {},
   "outputs": [],
   "source": [
    "JNorth_Adult_First_Site_2003_10_df = pd.DataFrame(JNorth_Adult_First_Site_2003_10_df)\n",
    "JNorth_Adult_First_Site_2003_10_df.drop(['month'], axis=1, inplace=True)"
   ]
  },
  {
   "cell_type": "code",
   "execution_count": 238,
   "id": "0727e4cf",
   "metadata": {},
   "outputs": [],
   "source": [
    "# convert lat-long to floats and change address from ALL CAPS to regular capitalization\n",
    "JNorth_Adult_First_Site_2003_10_df['latitude'] = JNorth_Adult_First_Site_2003_10_df['latitude'].astype(float)\n",
    "JNorth_Adult_First_Site_2003_10_df['longitude'] = JNorth_Adult_First_Site_2003_10_df['longitude'].astype(float)\n",
    "# JNorth_Milkweed_Site_df['street_address'] = JNorth_Milkweed_Site_df['street_address'].str.title()"
   ]
  },
  {
   "cell_type": "code",
   "execution_count": 239,
   "id": "a86f9fa3",
   "metadata": {},
   "outputs": [],
   "source": [
    "geojson = df_to_geojson(JNorth_Adult_First_Site_2003_10_df, cols)"
   ]
  },
  {
   "cell_type": "code",
   "execution_count": 240,
   "id": "99899523",
   "metadata": {},
   "outputs": [],
   "source": [
    "file = open(\"JNorth_Adult_First_Site_2003_10.geojson\", \"w\")\n",
    "json.dump(geojson, file, indent =1)\n",
    "file.close()"
   ]
  },
  {
   "cell_type": "markdown",
   "id": "4b968d63",
   "metadata": {},
   "source": [
    "## November"
   ]
  },
  {
   "cell_type": "code",
   "execution_count": 241,
   "id": "2c7b2095",
   "metadata": {},
   "outputs": [
    {
     "data": {
      "text/html": [
       "<div>\n",
       "<style scoped>\n",
       "    .dataframe tbody tr th:only-of-type {\n",
       "        vertical-align: middle;\n",
       "    }\n",
       "\n",
       "    .dataframe tbody tr th {\n",
       "        vertical-align: top;\n",
       "    }\n",
       "\n",
       "    .dataframe thead th {\n",
       "        text-align: right;\n",
       "    }\n",
       "</style>\n",
       "<table border=\"1\" class=\"dataframe\">\n",
       "  <thead>\n",
       "    <tr style=\"text-align: right;\">\n",
       "      <th></th>\n",
       "      <th>sighting_date</th>\n",
       "      <th>species</th>\n",
       "      <th>latitude</th>\n",
       "      <th>longitude</th>\n",
       "      <th>number</th>\n",
       "      <th>month</th>\n",
       "    </tr>\n",
       "  </thead>\n",
       "  <tbody>\n",
       "    <tr>\n",
       "      <th>6151</th>\n",
       "      <td>2003-11-20</td>\n",
       "      <td>Monarch Adult (FIRST sighted)</td>\n",
       "      <td>28.529</td>\n",
       "      <td>-96.679</td>\n",
       "      <td>1</td>\n",
       "      <td>11</td>\n",
       "    </tr>\n",
       "    <tr>\n",
       "      <th>6152</th>\n",
       "      <td>2003-11-21</td>\n",
       "      <td>Monarch Adult (FIRST sighted)</td>\n",
       "      <td>29.648</td>\n",
       "      <td>-99.224</td>\n",
       "      <td>1</td>\n",
       "      <td>11</td>\n",
       "    </tr>\n",
       "    <tr>\n",
       "      <th>6153</th>\n",
       "      <td>2003-11-22</td>\n",
       "      <td>Monarch Adult (FIRST sighted)</td>\n",
       "      <td>29.648</td>\n",
       "      <td>-99.224</td>\n",
       "      <td>1</td>\n",
       "      <td>11</td>\n",
       "    </tr>\n",
       "    <tr>\n",
       "      <th>6154</th>\n",
       "      <td>2003-11-22</td>\n",
       "      <td>Monarch Adult (FIRST sighted)</td>\n",
       "      <td>29.757</td>\n",
       "      <td>-95.365</td>\n",
       "      <td>1</td>\n",
       "      <td>11</td>\n",
       "    </tr>\n",
       "    <tr>\n",
       "      <th>6155</th>\n",
       "      <td>2003-11-23</td>\n",
       "      <td>Monarch Adult (FIRST sighted)</td>\n",
       "      <td>29.648</td>\n",
       "      <td>-99.224</td>\n",
       "      <td>1</td>\n",
       "      <td>11</td>\n",
       "    </tr>\n",
       "  </tbody>\n",
       "</table>\n",
       "</div>"
      ],
      "text/plain": [
       "     sighting_date                        species  latitude  longitude  \\\n",
       "6151    2003-11-20  Monarch Adult (FIRST sighted)    28.529    -96.679   \n",
       "6152    2003-11-21  Monarch Adult (FIRST sighted)    29.648    -99.224   \n",
       "6153    2003-11-22  Monarch Adult (FIRST sighted)    29.648    -99.224   \n",
       "6154    2003-11-22  Monarch Adult (FIRST sighted)    29.757    -95.365   \n",
       "6155    2003-11-23  Monarch Adult (FIRST sighted)    29.648    -99.224   \n",
       "\n",
       "      number  month  \n",
       "6151       1     11  \n",
       "6152       1     11  \n",
       "6153       1     11  \n",
       "6154       1     11  \n",
       "6155       1     11  "
      ]
     },
     "execution_count": 241,
     "metadata": {},
     "output_type": "execute_result"
    }
   ],
   "source": [
    "JNorth_Adult_First_Site_2003_month_df =pd.DataFrame(JNorth_Adult_First_Site_2003_df)\n",
    "JNorth_Adult_First_Site_2003_11_df = JNorth_Adult_First_Site_2003_month_df[JNorth_Adult_First_Site_2003_month_df['month']==11]\n",
    "JNorth_Adult_First_Site_2003_11_df.tail()"
   ]
  },
  {
   "cell_type": "code",
   "execution_count": 242,
   "id": "fc92dbf5",
   "metadata": {},
   "outputs": [
    {
     "data": {
      "text/plain": [
       "(51, 6)"
      ]
     },
     "execution_count": 242,
     "metadata": {},
     "output_type": "execute_result"
    }
   ],
   "source": [
    "JNorth_Adult_First_Site_2003_11_df.shape"
   ]
  },
  {
   "cell_type": "code",
   "execution_count": 243,
   "id": "f87961bf",
   "metadata": {},
   "outputs": [],
   "source": [
    "JNorth_Adult_First_Site_2003_11_df = pd.DataFrame(JNorth_Adult_First_Site_2003_11_df)\n",
    "JNorth_Adult_First_Site_2003_11_df.drop(['month'], axis=1, inplace=True)"
   ]
  },
  {
   "cell_type": "code",
   "execution_count": 244,
   "id": "bfa4940c",
   "metadata": {},
   "outputs": [],
   "source": [
    "# convert lat-long to floats and change address from ALL CAPS to regular capitalization\n",
    "JNorth_Adult_First_Site_2003_11_df['latitude'] = JNorth_Adult_First_Site_2003_11_df['latitude'].astype(float)\n",
    "JNorth_Adult_First_Site_2003_11_df['longitude'] = JNorth_Adult_First_Site_2003_11_df['longitude'].astype(float)\n",
    "# JNorth_Milkweed_Site_df['street_address'] = JNorth_Milkweed_Site_df['street_address'].str.title()"
   ]
  },
  {
   "cell_type": "code",
   "execution_count": 245,
   "id": "2d6164a8",
   "metadata": {},
   "outputs": [],
   "source": [
    "geojson = df_to_geojson(JNorth_Adult_First_Site_2003_11_df, cols)"
   ]
  },
  {
   "cell_type": "code",
   "execution_count": 246,
   "id": "56e38bba",
   "metadata": {},
   "outputs": [],
   "source": [
    "file = open(\"JNorth_Adult_First_Site_2003_11.geojson\", \"w\")\n",
    "json.dump(geojson, file, indent =1)\n",
    "file.close()"
   ]
  },
  {
   "cell_type": "markdown",
   "id": "2b8ef922",
   "metadata": {},
   "source": [
    "## December"
   ]
  },
  {
   "cell_type": "code",
   "execution_count": 247,
   "id": "af6c5f79",
   "metadata": {},
   "outputs": [
    {
     "data": {
      "text/html": [
       "<div>\n",
       "<style scoped>\n",
       "    .dataframe tbody tr th:only-of-type {\n",
       "        vertical-align: middle;\n",
       "    }\n",
       "\n",
       "    .dataframe tbody tr th {\n",
       "        vertical-align: top;\n",
       "    }\n",
       "\n",
       "    .dataframe thead th {\n",
       "        text-align: right;\n",
       "    }\n",
       "</style>\n",
       "<table border=\"1\" class=\"dataframe\">\n",
       "  <thead>\n",
       "    <tr style=\"text-align: right;\">\n",
       "      <th></th>\n",
       "      <th>sighting_date</th>\n",
       "      <th>species</th>\n",
       "      <th>latitude</th>\n",
       "      <th>longitude</th>\n",
       "      <th>number</th>\n",
       "      <th>month</th>\n",
       "    </tr>\n",
       "  </thead>\n",
       "  <tbody>\n",
       "  </tbody>\n",
       "</table>\n",
       "</div>"
      ],
      "text/plain": [
       "Empty DataFrame\n",
       "Columns: [sighting_date, species, latitude, longitude, number, month]\n",
       "Index: []"
      ]
     },
     "execution_count": 247,
     "metadata": {},
     "output_type": "execute_result"
    }
   ],
   "source": [
    "JNorth_Adult_First_Site_2003_month_df =pd.DataFrame(JNorth_Adult_First_Site_2003_df)\n",
    "JNorth_Adult_First_Site_2003_12_df = JNorth_Adult_First_Site_2003_month_df[JNorth_Adult_First_Site_2003_month_df['month']==12]\n",
    "JNorth_Adult_First_Site_2003_12_df.tail()"
   ]
  },
  {
   "cell_type": "code",
   "execution_count": 248,
   "id": "18b6eb6b",
   "metadata": {},
   "outputs": [
    {
     "data": {
      "text/plain": [
       "(0, 6)"
      ]
     },
     "execution_count": 248,
     "metadata": {},
     "output_type": "execute_result"
    }
   ],
   "source": [
    "JNorth_Adult_First_Site_2003_12_df.shape"
   ]
  },
  {
   "cell_type": "code",
   "execution_count": 249,
   "id": "c0ea8b6c",
   "metadata": {},
   "outputs": [],
   "source": [
    "JNorth_Adult_First_Site_2003_12_df = pd.DataFrame(JNorth_Adult_First_Site_2003_12_df)\n",
    "JNorth_Adult_First_Site_2003_12_df.drop(['month'], axis=1, inplace=True)"
   ]
  },
  {
   "cell_type": "code",
   "execution_count": 250,
   "id": "778d493b",
   "metadata": {},
   "outputs": [],
   "source": [
    "# convert lat-long to floats and change address from ALL CAPS to regular capitalization\n",
    "JNorth_Adult_First_Site_2003_12_df['latitude'] = JNorth_Adult_First_Site_2003_12_df['latitude'].astype(float)\n",
    "JNorth_Adult_First_Site_2003_12_df['longitude'] = JNorth_Adult_First_Site_2003_12_df['longitude'].astype(float)\n",
    "# JNorth_Milkweed_Site_df['street_address'] = JNorth_Milkweed_Site_df['street_address'].str.title()"
   ]
  },
  {
   "cell_type": "code",
   "execution_count": 251,
   "id": "417d2972",
   "metadata": {},
   "outputs": [],
   "source": [
    "geojson = df_to_geojson(JNorth_Adult_First_Site_2003_12_df, cols)"
   ]
  },
  {
   "cell_type": "code",
   "execution_count": 252,
   "id": "2a518380",
   "metadata": {},
   "outputs": [],
   "source": [
    "file = open(\"JNorth_Adult_First_Site_2003_12.geojson\", \"w\")\n",
    "json.dump(geojson, file, indent =1)\n",
    "file.close()"
   ]
  },
  {
   "cell_type": "markdown",
   "id": "37696255",
   "metadata": {},
   "source": [
    "# 2004"
   ]
  },
  {
   "cell_type": "code",
   "execution_count": 253,
   "id": "c5711fe9",
   "metadata": {},
   "outputs": [
    {
     "data": {
      "text/html": [
       "<div>\n",
       "<style scoped>\n",
       "    .dataframe tbody tr th:only-of-type {\n",
       "        vertical-align: middle;\n",
       "    }\n",
       "\n",
       "    .dataframe tbody tr th {\n",
       "        vertical-align: top;\n",
       "    }\n",
       "\n",
       "    .dataframe thead th {\n",
       "        text-align: right;\n",
       "    }\n",
       "</style>\n",
       "<table border=\"1\" class=\"dataframe\">\n",
       "  <thead>\n",
       "    <tr style=\"text-align: right;\">\n",
       "      <th></th>\n",
       "      <th>sighting_date</th>\n",
       "      <th>species</th>\n",
       "      <th>latitude</th>\n",
       "      <th>longitude</th>\n",
       "      <th>number</th>\n",
       "      <th>year</th>\n",
       "    </tr>\n",
       "  </thead>\n",
       "  <tbody>\n",
       "    <tr>\n",
       "      <th>7260</th>\n",
       "      <td>2004-11-23</td>\n",
       "      <td>Monarch Adult (FIRST sighted)</td>\n",
       "      <td>29.648</td>\n",
       "      <td>-99.224</td>\n",
       "      <td>1</td>\n",
       "      <td>2004</td>\n",
       "    </tr>\n",
       "    <tr>\n",
       "      <th>7261</th>\n",
       "      <td>2004-11-25</td>\n",
       "      <td>Monarch Adult (FIRST sighted)</td>\n",
       "      <td>33.028</td>\n",
       "      <td>-97.093</td>\n",
       "      <td>1</td>\n",
       "      <td>2004</td>\n",
       "    </tr>\n",
       "    <tr>\n",
       "      <th>7262</th>\n",
       "      <td>2004-11-29</td>\n",
       "      <td>Monarch Adult (FIRST sighted)</td>\n",
       "      <td>29.648</td>\n",
       "      <td>-99.224</td>\n",
       "      <td>1</td>\n",
       "      <td>2004</td>\n",
       "    </tr>\n",
       "    <tr>\n",
       "      <th>7263</th>\n",
       "      <td>2004-12-06</td>\n",
       "      <td>Monarch Adult (FIRST sighted)</td>\n",
       "      <td>29.231</td>\n",
       "      <td>-95.464</td>\n",
       "      <td>1</td>\n",
       "      <td>2004</td>\n",
       "    </tr>\n",
       "    <tr>\n",
       "      <th>7264</th>\n",
       "      <td>2004-12-28</td>\n",
       "      <td>Monarch Adult (FIRST sighted)</td>\n",
       "      <td>29.554</td>\n",
       "      <td>-98.309</td>\n",
       "      <td>1</td>\n",
       "      <td>2004</td>\n",
       "    </tr>\n",
       "  </tbody>\n",
       "</table>\n",
       "</div>"
      ],
      "text/plain": [
       "     sighting_date                        species  latitude  longitude  \\\n",
       "7260    2004-11-23  Monarch Adult (FIRST sighted)    29.648    -99.224   \n",
       "7261    2004-11-25  Monarch Adult (FIRST sighted)    33.028    -97.093   \n",
       "7262    2004-11-29  Monarch Adult (FIRST sighted)    29.648    -99.224   \n",
       "7263    2004-12-06  Monarch Adult (FIRST sighted)    29.231    -95.464   \n",
       "7264    2004-12-28  Monarch Adult (FIRST sighted)    29.554    -98.309   \n",
       "\n",
       "      number  year  \n",
       "7260       1  2004  \n",
       "7261       1  2004  \n",
       "7262       1  2004  \n",
       "7263       1  2004  \n",
       "7264       1  2004  "
      ]
     },
     "execution_count": 253,
     "metadata": {},
     "output_type": "execute_result"
    }
   ],
   "source": [
    "JNorth_Adult_First_Site_2004_df = JNorth_Adult_First_Site_year_df[JNorth_Adult_First_Site_year_df['year']==2004]\n",
    "JNorth_Adult_First_Site_2004_df.tail()"
   ]
  },
  {
   "cell_type": "code",
   "execution_count": 254,
   "id": "aa5b49d4",
   "metadata": {},
   "outputs": [
    {
     "data": {
      "text/plain": [
       "(1109, 6)"
      ]
     },
     "execution_count": 254,
     "metadata": {},
     "output_type": "execute_result"
    }
   ],
   "source": [
    "JNorth_Adult_First_Site_2004_df.shape"
   ]
  },
  {
   "cell_type": "code",
   "execution_count": 255,
   "id": "a1f18555",
   "metadata": {},
   "outputs": [],
   "source": [
    "JNorth_Adult_First_Site_2004_df = pd.DataFrame(JNorth_Adult_First_Site_2004_df)\n",
    "JNorth_Adult_First_Site_2004_df.drop(['year'], axis=1, inplace=True)"
   ]
  },
  {
   "cell_type": "code",
   "execution_count": 256,
   "id": "67e0613b",
   "metadata": {},
   "outputs": [
    {
     "data": {
      "text/plain": [
       "<bound method NDFrame.tail of      sighting_date                        species  latitude  longitude  number\n",
       "6156    2004-01-15  Monarch Adult (FIRST sighted)    29.757    -95.365       1\n",
       "6157    2004-01-18  Monarch Adult (FIRST sighted)    30.226    -93.213       1\n",
       "6158    2004-01-22  Monarch Adult (FIRST sighted)    26.518    -80.104       1\n",
       "6159    2004-01-24  Monarch Adult (FIRST sighted)    37.063   -122.162       1\n",
       "6160    2004-02-01  Monarch Adult (FIRST sighted)    25.778    -80.198       1\n",
       "...            ...                            ...       ...        ...     ...\n",
       "7260    2004-11-23  Monarch Adult (FIRST sighted)    29.648    -99.224       1\n",
       "7261    2004-11-25  Monarch Adult (FIRST sighted)    33.028    -97.093       1\n",
       "7262    2004-11-29  Monarch Adult (FIRST sighted)    29.648    -99.224       1\n",
       "7263    2004-12-06  Monarch Adult (FIRST sighted)    29.231    -95.464       1\n",
       "7264    2004-12-28  Monarch Adult (FIRST sighted)    29.554    -98.309       1\n",
       "\n",
       "[1109 rows x 5 columns]>"
      ]
     },
     "execution_count": 256,
     "metadata": {},
     "output_type": "execute_result"
    }
   ],
   "source": [
    "JNorth_Adult_First_Site_2004_df.tail"
   ]
  },
  {
   "cell_type": "code",
   "execution_count": 257,
   "id": "101e0e9c",
   "metadata": {},
   "outputs": [],
   "source": [
    "JNorth_Adult_First_Site_2004_df['month'] = pd.DatetimeIndex(JNorth_Adult_First_Site_2004_df['sighting_date']).month"
   ]
  },
  {
   "cell_type": "markdown",
   "id": "a21ec5a6",
   "metadata": {},
   "source": [
    "## January"
   ]
  },
  {
   "cell_type": "code",
   "execution_count": 258,
   "id": "cba59950",
   "metadata": {},
   "outputs": [
    {
     "data": {
      "text/html": [
       "<div>\n",
       "<style scoped>\n",
       "    .dataframe tbody tr th:only-of-type {\n",
       "        vertical-align: middle;\n",
       "    }\n",
       "\n",
       "    .dataframe tbody tr th {\n",
       "        vertical-align: top;\n",
       "    }\n",
       "\n",
       "    .dataframe thead th {\n",
       "        text-align: right;\n",
       "    }\n",
       "</style>\n",
       "<table border=\"1\" class=\"dataframe\">\n",
       "  <thead>\n",
       "    <tr style=\"text-align: right;\">\n",
       "      <th></th>\n",
       "      <th>sighting_date</th>\n",
       "      <th>species</th>\n",
       "      <th>latitude</th>\n",
       "      <th>longitude</th>\n",
       "      <th>number</th>\n",
       "      <th>month</th>\n",
       "    </tr>\n",
       "  </thead>\n",
       "  <tbody>\n",
       "    <tr>\n",
       "      <th>6156</th>\n",
       "      <td>2004-01-15</td>\n",
       "      <td>Monarch Adult (FIRST sighted)</td>\n",
       "      <td>29.757</td>\n",
       "      <td>-95.365</td>\n",
       "      <td>1</td>\n",
       "      <td>1</td>\n",
       "    </tr>\n",
       "    <tr>\n",
       "      <th>6157</th>\n",
       "      <td>2004-01-18</td>\n",
       "      <td>Monarch Adult (FIRST sighted)</td>\n",
       "      <td>30.226</td>\n",
       "      <td>-93.213</td>\n",
       "      <td>1</td>\n",
       "      <td>1</td>\n",
       "    </tr>\n",
       "    <tr>\n",
       "      <th>6158</th>\n",
       "      <td>2004-01-22</td>\n",
       "      <td>Monarch Adult (FIRST sighted)</td>\n",
       "      <td>26.518</td>\n",
       "      <td>-80.104</td>\n",
       "      <td>1</td>\n",
       "      <td>1</td>\n",
       "    </tr>\n",
       "    <tr>\n",
       "      <th>6159</th>\n",
       "      <td>2004-01-24</td>\n",
       "      <td>Monarch Adult (FIRST sighted)</td>\n",
       "      <td>37.063</td>\n",
       "      <td>-122.162</td>\n",
       "      <td>1</td>\n",
       "      <td>1</td>\n",
       "    </tr>\n",
       "  </tbody>\n",
       "</table>\n",
       "</div>"
      ],
      "text/plain": [
       "     sighting_date                        species  latitude  longitude  \\\n",
       "6156    2004-01-15  Monarch Adult (FIRST sighted)    29.757    -95.365   \n",
       "6157    2004-01-18  Monarch Adult (FIRST sighted)    30.226    -93.213   \n",
       "6158    2004-01-22  Monarch Adult (FIRST sighted)    26.518    -80.104   \n",
       "6159    2004-01-24  Monarch Adult (FIRST sighted)    37.063   -122.162   \n",
       "\n",
       "      number  month  \n",
       "6156       1      1  \n",
       "6157       1      1  \n",
       "6158       1      1  \n",
       "6159       1      1  "
      ]
     },
     "execution_count": 258,
     "metadata": {},
     "output_type": "execute_result"
    }
   ],
   "source": [
    "JNorth_Adult_First_Site_2004_month_df =pd.DataFrame(JNorth_Adult_First_Site_2004_df)\n",
    "JNorth_Adult_First_Site_2004_1_df = JNorth_Adult_First_Site_2004_month_df[JNorth_Adult_First_Site_2004_month_df['month']==1]\n",
    "JNorth_Adult_First_Site_2004_1_df.tail()"
   ]
  },
  {
   "cell_type": "code",
   "execution_count": 259,
   "id": "e4f50cc1",
   "metadata": {},
   "outputs": [
    {
     "data": {
      "text/plain": [
       "(4, 6)"
      ]
     },
     "execution_count": 259,
     "metadata": {},
     "output_type": "execute_result"
    }
   ],
   "source": [
    "JNorth_Adult_First_Site_2004_1_df.shape"
   ]
  },
  {
   "cell_type": "code",
   "execution_count": 260,
   "id": "6648dc94",
   "metadata": {},
   "outputs": [],
   "source": [
    "JNorth_Adult_First_Site_2004_1_df = pd.DataFrame(JNorth_Adult_First_Site_2004_1_df)\n",
    "JNorth_Adult_First_Site_2004_1_df.drop(['month'], axis=1, inplace=True)"
   ]
  },
  {
   "cell_type": "code",
   "execution_count": 261,
   "id": "4b0457dd",
   "metadata": {},
   "outputs": [],
   "source": [
    "# convert lat-long to floats and change address from ALL CAPS to regular capitalization\n",
    "JNorth_Adult_First_Site_2004_1_df['latitude'] = JNorth_Adult_First_Site_2004_1_df['latitude'].astype(float)\n",
    "JNorth_Adult_First_Site_2004_1_df['longitude'] = JNorth_Adult_First_Site_2004_1_df['longitude'].astype(float)\n",
    "# JNorth_Milkweed_Site_df['street_address'] = JNorth_Milkweed_Site_df['street_address'].str.title()"
   ]
  },
  {
   "cell_type": "code",
   "execution_count": 262,
   "id": "68a03ebb",
   "metadata": {},
   "outputs": [],
   "source": [
    "geojson = df_to_geojson(JNorth_Adult_First_Site_2004_1_df, cols)"
   ]
  },
  {
   "cell_type": "code",
   "execution_count": 263,
   "id": "d5ffc5d6",
   "metadata": {},
   "outputs": [],
   "source": [
    "file = open(\"JNorth_Adult_First_Site_2004_1.geojson\", \"w\")\n",
    "json.dump(geojson, file, indent =1)\n",
    "file.close()"
   ]
  },
  {
   "cell_type": "markdown",
   "id": "d5873010",
   "metadata": {},
   "source": [
    "## February"
   ]
  },
  {
   "cell_type": "code",
   "execution_count": 264,
   "id": "44a69ab5",
   "metadata": {},
   "outputs": [
    {
     "data": {
      "text/html": [
       "<div>\n",
       "<style scoped>\n",
       "    .dataframe tbody tr th:only-of-type {\n",
       "        vertical-align: middle;\n",
       "    }\n",
       "\n",
       "    .dataframe tbody tr th {\n",
       "        vertical-align: top;\n",
       "    }\n",
       "\n",
       "    .dataframe thead th {\n",
       "        text-align: right;\n",
       "    }\n",
       "</style>\n",
       "<table border=\"1\" class=\"dataframe\">\n",
       "  <thead>\n",
       "    <tr style=\"text-align: right;\">\n",
       "      <th></th>\n",
       "      <th>sighting_date</th>\n",
       "      <th>species</th>\n",
       "      <th>latitude</th>\n",
       "      <th>longitude</th>\n",
       "      <th>number</th>\n",
       "      <th>month</th>\n",
       "    </tr>\n",
       "  </thead>\n",
       "  <tbody>\n",
       "    <tr>\n",
       "      <th>6163</th>\n",
       "      <td>2004-02-08</td>\n",
       "      <td>Monarch Adult (FIRST sighted)</td>\n",
       "      <td>26.441</td>\n",
       "      <td>-81.810</td>\n",
       "      <td>1</td>\n",
       "      <td>2</td>\n",
       "    </tr>\n",
       "    <tr>\n",
       "      <th>6164</th>\n",
       "      <td>2004-02-11</td>\n",
       "      <td>Monarch Adult (FIRST sighted)</td>\n",
       "      <td>28.029</td>\n",
       "      <td>-80.608</td>\n",
       "      <td>1</td>\n",
       "      <td>2</td>\n",
       "    </tr>\n",
       "    <tr>\n",
       "      <th>6165</th>\n",
       "      <td>2004-02-13</td>\n",
       "      <td>Monarch Adult (FIRST sighted)</td>\n",
       "      <td>26.838</td>\n",
       "      <td>-82.209</td>\n",
       "      <td>1</td>\n",
       "      <td>2</td>\n",
       "    </tr>\n",
       "    <tr>\n",
       "      <th>6166</th>\n",
       "      <td>2004-02-22</td>\n",
       "      <td>Monarch Adult (FIRST sighted)</td>\n",
       "      <td>30.388</td>\n",
       "      <td>-87.059</td>\n",
       "      <td>1</td>\n",
       "      <td>2</td>\n",
       "    </tr>\n",
       "    <tr>\n",
       "      <th>6167</th>\n",
       "      <td>2004-02-23</td>\n",
       "      <td>Monarch Adult (FIRST sighted)</td>\n",
       "      <td>28.210</td>\n",
       "      <td>-82.289</td>\n",
       "      <td>1</td>\n",
       "      <td>2</td>\n",
       "    </tr>\n",
       "  </tbody>\n",
       "</table>\n",
       "</div>"
      ],
      "text/plain": [
       "     sighting_date                        species  latitude  longitude  \\\n",
       "6163    2004-02-08  Monarch Adult (FIRST sighted)    26.441    -81.810   \n",
       "6164    2004-02-11  Monarch Adult (FIRST sighted)    28.029    -80.608   \n",
       "6165    2004-02-13  Monarch Adult (FIRST sighted)    26.838    -82.209   \n",
       "6166    2004-02-22  Monarch Adult (FIRST sighted)    30.388    -87.059   \n",
       "6167    2004-02-23  Monarch Adult (FIRST sighted)    28.210    -82.289   \n",
       "\n",
       "      number  month  \n",
       "6163       1      2  \n",
       "6164       1      2  \n",
       "6165       1      2  \n",
       "6166       1      2  \n",
       "6167       1      2  "
      ]
     },
     "execution_count": 264,
     "metadata": {},
     "output_type": "execute_result"
    }
   ],
   "source": [
    "JNorth_Adult_First_Site_2004_month_df =pd.DataFrame(JNorth_Adult_First_Site_2004_df)\n",
    "JNorth_Adult_First_Site_2004_2_df = JNorth_Adult_First_Site_2004_month_df[JNorth_Adult_First_Site_2004_month_df['month']==2]\n",
    "JNorth_Adult_First_Site_2004_2_df.tail()"
   ]
  },
  {
   "cell_type": "code",
   "execution_count": 265,
   "id": "d53e5084",
   "metadata": {},
   "outputs": [
    {
     "data": {
      "text/plain": [
       "(8, 6)"
      ]
     },
     "execution_count": 265,
     "metadata": {},
     "output_type": "execute_result"
    }
   ],
   "source": [
    "JNorth_Adult_First_Site_2004_2_df.shape"
   ]
  },
  {
   "cell_type": "code",
   "execution_count": 266,
   "id": "0e83f703",
   "metadata": {},
   "outputs": [],
   "source": [
    "JNorth_Adult_First_Site_2004_2_df = pd.DataFrame(JNorth_Adult_First_Site_2004_2_df)\n",
    "JNorth_Adult_First_Site_2004_2_df.drop(['month'], axis=1, inplace=True)"
   ]
  },
  {
   "cell_type": "code",
   "execution_count": 267,
   "id": "4a4a84a2",
   "metadata": {},
   "outputs": [],
   "source": [
    "# convert lat-long to floats and change address from ALL CAPS to regular capitalization\n",
    "JNorth_Adult_First_Site_2004_2_df['latitude'] = JNorth_Adult_First_Site_2004_2_df['latitude'].astype(float)\n",
    "JNorth_Adult_First_Site_2004_2_df['longitude'] = JNorth_Adult_First_Site_2004_2_df['longitude'].astype(float)\n",
    "# JNorth_Milkweed_Site_df['street_address'] = JNorth_Milkweed_Site_df['street_address'].str.title()"
   ]
  },
  {
   "cell_type": "code",
   "execution_count": 268,
   "id": "3cbf2fba",
   "metadata": {},
   "outputs": [],
   "source": [
    "geojson = df_to_geojson(JNorth_Adult_First_Site_2004_2_df, cols)"
   ]
  },
  {
   "cell_type": "code",
   "execution_count": 269,
   "id": "82350196",
   "metadata": {},
   "outputs": [],
   "source": [
    "file = open(\"JNorth_Adult_First_Site_2004_2.geojson\", \"w\")\n",
    "json.dump(geojson, file, indent =1)\n",
    "file.close()"
   ]
  },
  {
   "cell_type": "markdown",
   "id": "77061a71",
   "metadata": {},
   "source": [
    "## March"
   ]
  },
  {
   "cell_type": "code",
   "execution_count": 270,
   "id": "b85708c1",
   "metadata": {},
   "outputs": [
    {
     "data": {
      "text/html": [
       "<div>\n",
       "<style scoped>\n",
       "    .dataframe tbody tr th:only-of-type {\n",
       "        vertical-align: middle;\n",
       "    }\n",
       "\n",
       "    .dataframe tbody tr th {\n",
       "        vertical-align: top;\n",
       "    }\n",
       "\n",
       "    .dataframe thead th {\n",
       "        text-align: right;\n",
       "    }\n",
       "</style>\n",
       "<table border=\"1\" class=\"dataframe\">\n",
       "  <thead>\n",
       "    <tr style=\"text-align: right;\">\n",
       "      <th></th>\n",
       "      <th>sighting_date</th>\n",
       "      <th>species</th>\n",
       "      <th>latitude</th>\n",
       "      <th>longitude</th>\n",
       "      <th>number</th>\n",
       "      <th>month</th>\n",
       "    </tr>\n",
       "  </thead>\n",
       "  <tbody>\n",
       "    <tr>\n",
       "      <th>6243</th>\n",
       "      <td>2004-03-31</td>\n",
       "      <td>Monarch Adult (FIRST sighted)</td>\n",
       "      <td>29.732</td>\n",
       "      <td>-99.974</td>\n",
       "      <td>1</td>\n",
       "      <td>3</td>\n",
       "    </tr>\n",
       "    <tr>\n",
       "      <th>6244</th>\n",
       "      <td>2004-03-31</td>\n",
       "      <td>Monarch Adult (FIRST sighted)</td>\n",
       "      <td>29.757</td>\n",
       "      <td>-95.365</td>\n",
       "      <td>1</td>\n",
       "      <td>3</td>\n",
       "    </tr>\n",
       "    <tr>\n",
       "      <th>6245</th>\n",
       "      <td>2004-03-31</td>\n",
       "      <td>Monarch Adult (FIRST sighted)</td>\n",
       "      <td>29.855</td>\n",
       "      <td>-97.959</td>\n",
       "      <td>1</td>\n",
       "      <td>3</td>\n",
       "    </tr>\n",
       "    <tr>\n",
       "      <th>6246</th>\n",
       "      <td>2004-03-31</td>\n",
       "      <td>Monarch Adult (FIRST sighted)</td>\n",
       "      <td>30.059</td>\n",
       "      <td>-98.146</td>\n",
       "      <td>1</td>\n",
       "      <td>3</td>\n",
       "    </tr>\n",
       "    <tr>\n",
       "      <th>6247</th>\n",
       "      <td>2004-03-31</td>\n",
       "      <td>Monarch Adult (FIRST sighted)</td>\n",
       "      <td>32.386</td>\n",
       "      <td>-100.004</td>\n",
       "      <td>1</td>\n",
       "      <td>3</td>\n",
       "    </tr>\n",
       "  </tbody>\n",
       "</table>\n",
       "</div>"
      ],
      "text/plain": [
       "     sighting_date                        species  latitude  longitude  \\\n",
       "6243    2004-03-31  Monarch Adult (FIRST sighted)    29.732    -99.974   \n",
       "6244    2004-03-31  Monarch Adult (FIRST sighted)    29.757    -95.365   \n",
       "6245    2004-03-31  Monarch Adult (FIRST sighted)    29.855    -97.959   \n",
       "6246    2004-03-31  Monarch Adult (FIRST sighted)    30.059    -98.146   \n",
       "6247    2004-03-31  Monarch Adult (FIRST sighted)    32.386   -100.004   \n",
       "\n",
       "      number  month  \n",
       "6243       1      3  \n",
       "6244       1      3  \n",
       "6245       1      3  \n",
       "6246       1      3  \n",
       "6247       1      3  "
      ]
     },
     "execution_count": 270,
     "metadata": {},
     "output_type": "execute_result"
    }
   ],
   "source": [
    "JNorth_Adult_First_Site_2004_month_df =pd.DataFrame(JNorth_Adult_First_Site_2004_df)\n",
    "JNorth_Adult_First_Site_2004_3_df = JNorth_Adult_First_Site_2004_month_df[JNorth_Adult_First_Site_2004_month_df['month']==3]\n",
    "JNorth_Adult_First_Site_2004_3_df.tail()"
   ]
  },
  {
   "cell_type": "code",
   "execution_count": 271,
   "id": "52d84ebf",
   "metadata": {},
   "outputs": [
    {
     "data": {
      "text/plain": [
       "(80, 6)"
      ]
     },
     "execution_count": 271,
     "metadata": {},
     "output_type": "execute_result"
    }
   ],
   "source": [
    "JNorth_Adult_First_Site_2004_3_df.shape"
   ]
  },
  {
   "cell_type": "code",
   "execution_count": 272,
   "id": "7e18485a",
   "metadata": {},
   "outputs": [],
   "source": [
    "JNorth_Adult_First_Site_2004_3_df = pd.DataFrame(JNorth_Adult_First_Site_2004_3_df)\n",
    "JNorth_Adult_First_Site_2004_3_df.drop(['month'], axis=1, inplace=True)"
   ]
  },
  {
   "cell_type": "code",
   "execution_count": 273,
   "id": "d4c0a1cd",
   "metadata": {},
   "outputs": [],
   "source": [
    "# convert lat-long to floats and change address from ALL CAPS to regular capitalization\n",
    "JNorth_Adult_First_Site_2004_3_df['latitude'] = JNorth_Adult_First_Site_2004_3_df['latitude'].astype(float)\n",
    "JNorth_Adult_First_Site_2004_3_df['longitude'] = JNorth_Adult_First_Site_2004_3_df['longitude'].astype(float)\n",
    "# JNorth_Milkweed_Site_df['street_address'] = JNorth_Milkweed_Site_df['street_address'].str.title()"
   ]
  },
  {
   "cell_type": "code",
   "execution_count": 274,
   "id": "765e97ac",
   "metadata": {},
   "outputs": [],
   "source": [
    "geojson = df_to_geojson(JNorth_Adult_First_Site_2004_3_df, cols)"
   ]
  },
  {
   "cell_type": "code",
   "execution_count": 275,
   "id": "82ef8d30",
   "metadata": {},
   "outputs": [],
   "source": [
    "file = open(\"JNorth_Adult_First_Site_2004_3.geojson\", \"w\")\n",
    "json.dump(geojson, file, indent =1)\n",
    "file.close()"
   ]
  },
  {
   "cell_type": "markdown",
   "id": "eb9ba3a4",
   "metadata": {},
   "source": [
    "## April"
   ]
  },
  {
   "cell_type": "code",
   "execution_count": 276,
   "id": "048f6cf2",
   "metadata": {},
   "outputs": [
    {
     "data": {
      "text/html": [
       "<div>\n",
       "<style scoped>\n",
       "    .dataframe tbody tr th:only-of-type {\n",
       "        vertical-align: middle;\n",
       "    }\n",
       "\n",
       "    .dataframe tbody tr th {\n",
       "        vertical-align: top;\n",
       "    }\n",
       "\n",
       "    .dataframe thead th {\n",
       "        text-align: right;\n",
       "    }\n",
       "</style>\n",
       "<table border=\"1\" class=\"dataframe\">\n",
       "  <thead>\n",
       "    <tr style=\"text-align: right;\">\n",
       "      <th></th>\n",
       "      <th>sighting_date</th>\n",
       "      <th>species</th>\n",
       "      <th>latitude</th>\n",
       "      <th>longitude</th>\n",
       "      <th>number</th>\n",
       "      <th>month</th>\n",
       "    </tr>\n",
       "  </thead>\n",
       "  <tbody>\n",
       "    <tr>\n",
       "      <th>6311</th>\n",
       "      <td>2004-04-28</td>\n",
       "      <td>Monarch Adult (FIRST sighted)</td>\n",
       "      <td>33.580</td>\n",
       "      <td>-91.792</td>\n",
       "      <td>1</td>\n",
       "      <td>4</td>\n",
       "    </tr>\n",
       "    <tr>\n",
       "      <th>6312</th>\n",
       "      <td>2004-04-28</td>\n",
       "      <td>Monarch Adult (FIRST sighted)</td>\n",
       "      <td>37.686</td>\n",
       "      <td>-97.335</td>\n",
       "      <td>1</td>\n",
       "      <td>4</td>\n",
       "    </tr>\n",
       "    <tr>\n",
       "      <th>6313</th>\n",
       "      <td>2004-04-30</td>\n",
       "      <td>Monarch Adult (FIRST sighted)</td>\n",
       "      <td>31.186</td>\n",
       "      <td>-83.746</td>\n",
       "      <td>1</td>\n",
       "      <td>4</td>\n",
       "    </tr>\n",
       "    <tr>\n",
       "      <th>6314</th>\n",
       "      <td>2004-04-30</td>\n",
       "      <td>Monarch Adult (FIRST sighted)</td>\n",
       "      <td>34.592</td>\n",
       "      <td>-94.190</td>\n",
       "      <td>1</td>\n",
       "      <td>4</td>\n",
       "    </tr>\n",
       "    <tr>\n",
       "      <th>6315</th>\n",
       "      <td>2004-04-30</td>\n",
       "      <td>Monarch Adult (FIRST sighted)</td>\n",
       "      <td>39.977</td>\n",
       "      <td>-75.312</td>\n",
       "      <td>1</td>\n",
       "      <td>4</td>\n",
       "    </tr>\n",
       "  </tbody>\n",
       "</table>\n",
       "</div>"
      ],
      "text/plain": [
       "     sighting_date                        species  latitude  longitude  \\\n",
       "6311    2004-04-28  Monarch Adult (FIRST sighted)    33.580    -91.792   \n",
       "6312    2004-04-28  Monarch Adult (FIRST sighted)    37.686    -97.335   \n",
       "6313    2004-04-30  Monarch Adult (FIRST sighted)    31.186    -83.746   \n",
       "6314    2004-04-30  Monarch Adult (FIRST sighted)    34.592    -94.190   \n",
       "6315    2004-04-30  Monarch Adult (FIRST sighted)    39.977    -75.312   \n",
       "\n",
       "      number  month  \n",
       "6311       1      4  \n",
       "6312       1      4  \n",
       "6313       1      4  \n",
       "6314       1      4  \n",
       "6315       1      4  "
      ]
     },
     "execution_count": 276,
     "metadata": {},
     "output_type": "execute_result"
    }
   ],
   "source": [
    "JNorth_Adult_First_Site_2004_month_df =pd.DataFrame(JNorth_Adult_First_Site_2004_df)\n",
    "JNorth_Adult_First_Site_2004_4_df = JNorth_Adult_First_Site_2004_month_df[JNorth_Adult_First_Site_2004_month_df['month']==4]\n",
    "JNorth_Adult_First_Site_2004_4_df.tail()"
   ]
  },
  {
   "cell_type": "code",
   "execution_count": 277,
   "id": "aee6f7fd",
   "metadata": {},
   "outputs": [
    {
     "data": {
      "text/plain": [
       "(68, 6)"
      ]
     },
     "execution_count": 277,
     "metadata": {},
     "output_type": "execute_result"
    }
   ],
   "source": [
    "JNorth_Adult_First_Site_2004_4_df.shape"
   ]
  },
  {
   "cell_type": "code",
   "execution_count": 278,
   "id": "9c7faf6f",
   "metadata": {},
   "outputs": [],
   "source": [
    "JNorth_Adult_First_Site_2004_4_df = pd.DataFrame(JNorth_Adult_First_Site_2004_4_df)\n",
    "JNorth_Adult_First_Site_2004_4_df.drop(['month'], axis=1, inplace=True)"
   ]
  },
  {
   "cell_type": "code",
   "execution_count": 279,
   "id": "b2abce47",
   "metadata": {},
   "outputs": [],
   "source": [
    "# convert lat-long to floats and change address from ALL CAPS to regular capitalization\n",
    "JNorth_Adult_First_Site_2004_4_df['latitude'] = JNorth_Adult_First_Site_2004_4_df['latitude'].astype(float)\n",
    "JNorth_Adult_First_Site_2004_4_df['longitude'] = JNorth_Adult_First_Site_2004_4_df['longitude'].astype(float)\n",
    "# JNorth_Milkweed_Site_df['street_address'] = JNorth_Milkweed_Site_df['street_address'].str.title()"
   ]
  },
  {
   "cell_type": "code",
   "execution_count": 280,
   "id": "b4dd7e9b",
   "metadata": {},
   "outputs": [],
   "source": [
    "geojson = df_to_geojson(JNorth_Adult_First_Site_2004_4_df, cols)"
   ]
  },
  {
   "cell_type": "code",
   "execution_count": 281,
   "id": "c22bd60e",
   "metadata": {},
   "outputs": [],
   "source": [
    "file = open(\"JNorth_Adult_First_Site_2004_4.geojson\", \"w\")\n",
    "json.dump(geojson, file, indent =1)\n",
    "file.close()"
   ]
  },
  {
   "cell_type": "markdown",
   "id": "f6e85297",
   "metadata": {},
   "source": [
    "## May"
   ]
  },
  {
   "cell_type": "code",
   "execution_count": 282,
   "id": "4740a950",
   "metadata": {},
   "outputs": [
    {
     "data": {
      "text/html": [
       "<div>\n",
       "<style scoped>\n",
       "    .dataframe tbody tr th:only-of-type {\n",
       "        vertical-align: middle;\n",
       "    }\n",
       "\n",
       "    .dataframe tbody tr th {\n",
       "        vertical-align: top;\n",
       "    }\n",
       "\n",
       "    .dataframe thead th {\n",
       "        text-align: right;\n",
       "    }\n",
       "</style>\n",
       "<table border=\"1\" class=\"dataframe\">\n",
       "  <thead>\n",
       "    <tr style=\"text-align: right;\">\n",
       "      <th></th>\n",
       "      <th>sighting_date</th>\n",
       "      <th>species</th>\n",
       "      <th>latitude</th>\n",
       "      <th>longitude</th>\n",
       "      <th>number</th>\n",
       "      <th>month</th>\n",
       "    </tr>\n",
       "  </thead>\n",
       "  <tbody>\n",
       "    <tr>\n",
       "      <th>6420</th>\n",
       "      <td>2004-05-30</td>\n",
       "      <td>Monarch Adult (FIRST sighted)</td>\n",
       "      <td>44.300</td>\n",
       "      <td>-80.100</td>\n",
       "      <td>1</td>\n",
       "      <td>5</td>\n",
       "    </tr>\n",
       "    <tr>\n",
       "      <th>6421</th>\n",
       "      <td>2004-05-30</td>\n",
       "      <td>Monarch Adult (FIRST sighted)</td>\n",
       "      <td>45.107</td>\n",
       "      <td>-93.490</td>\n",
       "      <td>1</td>\n",
       "      <td>5</td>\n",
       "    </tr>\n",
       "    <tr>\n",
       "      <th>6422</th>\n",
       "      <td>2004-05-30</td>\n",
       "      <td>Monarch Adult (FIRST sighted)</td>\n",
       "      <td>46.154</td>\n",
       "      <td>-85.338</td>\n",
       "      <td>1</td>\n",
       "      <td>5</td>\n",
       "    </tr>\n",
       "    <tr>\n",
       "      <th>6423</th>\n",
       "      <td>2004-05-31</td>\n",
       "      <td>Monarch Adult (FIRST sighted)</td>\n",
       "      <td>42.940</td>\n",
       "      <td>-71.531</td>\n",
       "      <td>1</td>\n",
       "      <td>5</td>\n",
       "    </tr>\n",
       "    <tr>\n",
       "      <th>6424</th>\n",
       "      <td>2004-05-31</td>\n",
       "      <td>Monarch Adult (FIRST sighted)</td>\n",
       "      <td>43.061</td>\n",
       "      <td>-85.850</td>\n",
       "      <td>1</td>\n",
       "      <td>5</td>\n",
       "    </tr>\n",
       "  </tbody>\n",
       "</table>\n",
       "</div>"
      ],
      "text/plain": [
       "     sighting_date                        species  latitude  longitude  \\\n",
       "6420    2004-05-30  Monarch Adult (FIRST sighted)    44.300    -80.100   \n",
       "6421    2004-05-30  Monarch Adult (FIRST sighted)    45.107    -93.490   \n",
       "6422    2004-05-30  Monarch Adult (FIRST sighted)    46.154    -85.338   \n",
       "6423    2004-05-31  Monarch Adult (FIRST sighted)    42.940    -71.531   \n",
       "6424    2004-05-31  Monarch Adult (FIRST sighted)    43.061    -85.850   \n",
       "\n",
       "      number  month  \n",
       "6420       1      5  \n",
       "6421       1      5  \n",
       "6422       1      5  \n",
       "6423       1      5  \n",
       "6424       1      5  "
      ]
     },
     "execution_count": 282,
     "metadata": {},
     "output_type": "execute_result"
    }
   ],
   "source": [
    "JNorth_Adult_First_Site_2004_month_df =pd.DataFrame(JNorth_Adult_First_Site_2004_df)\n",
    "JNorth_Adult_First_Site_2004_5_df = JNorth_Adult_First_Site_2004_month_df[JNorth_Adult_First_Site_2004_month_df['month']==5]\n",
    "JNorth_Adult_First_Site_2004_5_df.tail()"
   ]
  },
  {
   "cell_type": "code",
   "execution_count": 283,
   "id": "ddefd2a3",
   "metadata": {},
   "outputs": [
    {
     "data": {
      "text/plain": [
       "(109, 6)"
      ]
     },
     "execution_count": 283,
     "metadata": {},
     "output_type": "execute_result"
    }
   ],
   "source": [
    "JNorth_Adult_First_Site_2004_5_df.shape"
   ]
  },
  {
   "cell_type": "code",
   "execution_count": 284,
   "id": "614cd3a8",
   "metadata": {},
   "outputs": [],
   "source": [
    "JNorth_Adult_First_Site_2004_5_df = pd.DataFrame(JNorth_Adult_First_Site_2004_5_df)\n",
    "JNorth_Adult_First_Site_2004_5_df.drop(['month'], axis=1, inplace=True)"
   ]
  },
  {
   "cell_type": "code",
   "execution_count": 285,
   "id": "01509961",
   "metadata": {},
   "outputs": [],
   "source": [
    "# convert lat-long to floats and change address from ALL CAPS to regular capitalization\n",
    "JNorth_Adult_First_Site_2004_5_df['latitude'] = JNorth_Adult_First_Site_2004_5_df['latitude'].astype(float)\n",
    "JNorth_Adult_First_Site_2004_5_df['longitude'] = JNorth_Adult_First_Site_2004_5_df['longitude'].astype(float)\n",
    "# JNorth_Milkweed_Site_df['street_address'] = JNorth_Milkweed_Site_df['street_address'].str.title()"
   ]
  },
  {
   "cell_type": "code",
   "execution_count": 286,
   "id": "bb763379",
   "metadata": {},
   "outputs": [],
   "source": [
    "geojson = df_to_geojson(JNorth_Adult_First_Site_2004_5_df, cols)"
   ]
  },
  {
   "cell_type": "code",
   "execution_count": 287,
   "id": "f2e88fe7",
   "metadata": {},
   "outputs": [],
   "source": [
    "file = open(\"JNorth_Adult_First_Site_2004_5.geojson\", \"w\")\n",
    "json.dump(geojson, file, indent =1)\n",
    "file.close()"
   ]
  },
  {
   "cell_type": "markdown",
   "id": "264863cf",
   "metadata": {},
   "source": [
    "## June"
   ]
  },
  {
   "cell_type": "code",
   "execution_count": 288,
   "id": "18fd4a7c",
   "metadata": {},
   "outputs": [
    {
     "data": {
      "text/html": [
       "<div>\n",
       "<style scoped>\n",
       "    .dataframe tbody tr th:only-of-type {\n",
       "        vertical-align: middle;\n",
       "    }\n",
       "\n",
       "    .dataframe tbody tr th {\n",
       "        vertical-align: top;\n",
       "    }\n",
       "\n",
       "    .dataframe thead th {\n",
       "        text-align: right;\n",
       "    }\n",
       "</style>\n",
       "<table border=\"1\" class=\"dataframe\">\n",
       "  <thead>\n",
       "    <tr style=\"text-align: right;\">\n",
       "      <th></th>\n",
       "      <th>sighting_date</th>\n",
       "      <th>species</th>\n",
       "      <th>latitude</th>\n",
       "      <th>longitude</th>\n",
       "      <th>number</th>\n",
       "      <th>month</th>\n",
       "    </tr>\n",
       "  </thead>\n",
       "  <tbody>\n",
       "    <tr>\n",
       "      <th>6515</th>\n",
       "      <td>2004-06-26</td>\n",
       "      <td>Monarch Adult (FIRST sighted)</td>\n",
       "      <td>43.420</td>\n",
       "      <td>-79.250</td>\n",
       "      <td>1</td>\n",
       "      <td>6</td>\n",
       "    </tr>\n",
       "    <tr>\n",
       "      <th>6516</th>\n",
       "      <td>2004-06-26</td>\n",
       "      <td>Monarch Adult (FIRST sighted)</td>\n",
       "      <td>43.903</td>\n",
       "      <td>-69.980</td>\n",
       "      <td>1</td>\n",
       "      <td>6</td>\n",
       "    </tr>\n",
       "    <tr>\n",
       "      <th>6517</th>\n",
       "      <td>2004-06-28</td>\n",
       "      <td>Monarch Adult (FIRST sighted)</td>\n",
       "      <td>47.210</td>\n",
       "      <td>-84.380</td>\n",
       "      <td>1</td>\n",
       "      <td>6</td>\n",
       "    </tr>\n",
       "    <tr>\n",
       "      <th>6518</th>\n",
       "      <td>2004-06-29</td>\n",
       "      <td>Monarch Adult (FIRST sighted)</td>\n",
       "      <td>41.870</td>\n",
       "      <td>-87.814</td>\n",
       "      <td>1</td>\n",
       "      <td>6</td>\n",
       "    </tr>\n",
       "    <tr>\n",
       "      <th>6519</th>\n",
       "      <td>2004-06-30</td>\n",
       "      <td>Monarch Adult (FIRST sighted)</td>\n",
       "      <td>40.727</td>\n",
       "      <td>-74.590</td>\n",
       "      <td>1</td>\n",
       "      <td>6</td>\n",
       "    </tr>\n",
       "  </tbody>\n",
       "</table>\n",
       "</div>"
      ],
      "text/plain": [
       "     sighting_date                        species  latitude  longitude  \\\n",
       "6515    2004-06-26  Monarch Adult (FIRST sighted)    43.420    -79.250   \n",
       "6516    2004-06-26  Monarch Adult (FIRST sighted)    43.903    -69.980   \n",
       "6517    2004-06-28  Monarch Adult (FIRST sighted)    47.210    -84.380   \n",
       "6518    2004-06-29  Monarch Adult (FIRST sighted)    41.870    -87.814   \n",
       "6519    2004-06-30  Monarch Adult (FIRST sighted)    40.727    -74.590   \n",
       "\n",
       "      number  month  \n",
       "6515       1      6  \n",
       "6516       1      6  \n",
       "6517       1      6  \n",
       "6518       1      6  \n",
       "6519       1      6  "
      ]
     },
     "execution_count": 288,
     "metadata": {},
     "output_type": "execute_result"
    }
   ],
   "source": [
    "JNorth_Adult_First_Site_2004_month_df =pd.DataFrame(JNorth_Adult_First_Site_2004_df)\n",
    "JNorth_Adult_First_Site_2004_6_df = JNorth_Adult_First_Site_2004_month_df[JNorth_Adult_First_Site_2004_month_df['month']==6]\n",
    "JNorth_Adult_First_Site_2004_6_df.tail()"
   ]
  },
  {
   "cell_type": "code",
   "execution_count": 289,
   "id": "446147fa",
   "metadata": {},
   "outputs": [
    {
     "data": {
      "text/plain": [
       "(95, 6)"
      ]
     },
     "execution_count": 289,
     "metadata": {},
     "output_type": "execute_result"
    }
   ],
   "source": [
    "JNorth_Adult_First_Site_2004_6_df.shape"
   ]
  },
  {
   "cell_type": "code",
   "execution_count": 290,
   "id": "073ab0c6",
   "metadata": {},
   "outputs": [],
   "source": [
    "JNorth_Adult_First_Site_2004_6_df = pd.DataFrame(JNorth_Adult_First_Site_2004_6_df)\n",
    "JNorth_Adult_First_Site_2004_6_df.drop(['month'], axis=1, inplace=True)"
   ]
  },
  {
   "cell_type": "code",
   "execution_count": 291,
   "id": "616d6b41",
   "metadata": {},
   "outputs": [],
   "source": [
    "# convert lat-long to floats and change address from ALL CAPS to regular capitalization\n",
    "JNorth_Adult_First_Site_2004_6_df['latitude'] = JNorth_Adult_First_Site_2004_6_df['latitude'].astype(float)\n",
    "JNorth_Adult_First_Site_2004_6_df['longitude'] = JNorth_Adult_First_Site_2004_6_df['longitude'].astype(float)\n",
    "# JNorth_Milkweed_Site_df['street_address'] = JNorth_Milkweed_Site_df['street_address'].str.title()"
   ]
  },
  {
   "cell_type": "code",
   "execution_count": 292,
   "id": "afab2795",
   "metadata": {},
   "outputs": [],
   "source": [
    "geojson = df_to_geojson(JNorth_Adult_First_Site_2004_6_df, cols)"
   ]
  },
  {
   "cell_type": "code",
   "execution_count": 293,
   "id": "ac1131c1",
   "metadata": {},
   "outputs": [],
   "source": [
    "file = open(\"JNorth_Adult_First_Site_2004_6.geojson\", \"w\")\n",
    "json.dump(geojson, file, indent =1)\n",
    "file.close()"
   ]
  },
  {
   "cell_type": "markdown",
   "id": "f99d61b2",
   "metadata": {},
   "source": [
    "## July"
   ]
  },
  {
   "cell_type": "code",
   "execution_count": 294,
   "id": "b0f8b698",
   "metadata": {},
   "outputs": [
    {
     "data": {
      "text/html": [
       "<div>\n",
       "<style scoped>\n",
       "    .dataframe tbody tr th:only-of-type {\n",
       "        vertical-align: middle;\n",
       "    }\n",
       "\n",
       "    .dataframe tbody tr th {\n",
       "        vertical-align: top;\n",
       "    }\n",
       "\n",
       "    .dataframe thead th {\n",
       "        text-align: right;\n",
       "    }\n",
       "</style>\n",
       "<table border=\"1\" class=\"dataframe\">\n",
       "  <thead>\n",
       "    <tr style=\"text-align: right;\">\n",
       "      <th></th>\n",
       "      <th>sighting_date</th>\n",
       "      <th>species</th>\n",
       "      <th>latitude</th>\n",
       "      <th>longitude</th>\n",
       "      <th>number</th>\n",
       "      <th>month</th>\n",
       "    </tr>\n",
       "  </thead>\n",
       "  <tbody>\n",
       "    <tr>\n",
       "      <th>6530</th>\n",
       "      <td>2004-07-19</td>\n",
       "      <td>Monarch Adult (FIRST sighted)</td>\n",
       "      <td>40.055</td>\n",
       "      <td>-86.170</td>\n",
       "      <td>1</td>\n",
       "      <td>7</td>\n",
       "    </tr>\n",
       "    <tr>\n",
       "      <th>6531</th>\n",
       "      <td>2004-07-25</td>\n",
       "      <td>Monarch Adult (FIRST sighted)</td>\n",
       "      <td>40.328</td>\n",
       "      <td>-75.993</td>\n",
       "      <td>1</td>\n",
       "      <td>7</td>\n",
       "    </tr>\n",
       "    <tr>\n",
       "      <th>6532</th>\n",
       "      <td>2004-07-25</td>\n",
       "      <td>Monarch Adult (FIRST sighted)</td>\n",
       "      <td>44.906</td>\n",
       "      <td>-93.339</td>\n",
       "      <td>2</td>\n",
       "      <td>7</td>\n",
       "    </tr>\n",
       "    <tr>\n",
       "      <th>6533</th>\n",
       "      <td>2004-07-26</td>\n",
       "      <td>Monarch Adult (FIRST sighted)</td>\n",
       "      <td>27.797</td>\n",
       "      <td>-97.399</td>\n",
       "      <td>1</td>\n",
       "      <td>7</td>\n",
       "    </tr>\n",
       "    <tr>\n",
       "      <th>6534</th>\n",
       "      <td>2004-07-27</td>\n",
       "      <td>Monarch Adult (FIRST sighted)</td>\n",
       "      <td>39.353</td>\n",
       "      <td>-120.190</td>\n",
       "      <td>1</td>\n",
       "      <td>7</td>\n",
       "    </tr>\n",
       "  </tbody>\n",
       "</table>\n",
       "</div>"
      ],
      "text/plain": [
       "     sighting_date                        species  latitude  longitude  \\\n",
       "6530    2004-07-19  Monarch Adult (FIRST sighted)    40.055    -86.170   \n",
       "6531    2004-07-25  Monarch Adult (FIRST sighted)    40.328    -75.993   \n",
       "6532    2004-07-25  Monarch Adult (FIRST sighted)    44.906    -93.339   \n",
       "6533    2004-07-26  Monarch Adult (FIRST sighted)    27.797    -97.399   \n",
       "6534    2004-07-27  Monarch Adult (FIRST sighted)    39.353   -120.190   \n",
       "\n",
       "      number  month  \n",
       "6530       1      7  \n",
       "6531       1      7  \n",
       "6532       2      7  \n",
       "6533       1      7  \n",
       "6534       1      7  "
      ]
     },
     "execution_count": 294,
     "metadata": {},
     "output_type": "execute_result"
    }
   ],
   "source": [
    "JNorth_Adult_First_Site_2004_month_df =pd.DataFrame(JNorth_Adult_First_Site_2004_df)\n",
    "JNorth_Adult_First_Site_2004_7_df = JNorth_Adult_First_Site_2004_month_df[JNorth_Adult_First_Site_2004_month_df['month']==7]\n",
    "JNorth_Adult_First_Site_2004_7_df.tail()"
   ]
  },
  {
   "cell_type": "code",
   "execution_count": 295,
   "id": "288aa2ec",
   "metadata": {},
   "outputs": [
    {
     "data": {
      "text/plain": [
       "(15, 6)"
      ]
     },
     "execution_count": 295,
     "metadata": {},
     "output_type": "execute_result"
    }
   ],
   "source": [
    "JNorth_Adult_First_Site_2004_7_df.shape"
   ]
  },
  {
   "cell_type": "code",
   "execution_count": 296,
   "id": "903c70c3",
   "metadata": {},
   "outputs": [],
   "source": [
    "JNorth_Adult_First_Site_2004_7_df = pd.DataFrame(JNorth_Adult_First_Site_2004_7_df)\n",
    "JNorth_Adult_First_Site_2004_7_df.drop(['month'], axis=1, inplace=True)"
   ]
  },
  {
   "cell_type": "code",
   "execution_count": 297,
   "id": "1f4a36a7",
   "metadata": {},
   "outputs": [],
   "source": [
    "# convert lat-long to floats and change address from ALL CAPS to regular capitalization\n",
    "JNorth_Adult_First_Site_2004_7_df['latitude'] = JNorth_Adult_First_Site_2004_7_df['latitude'].astype(float)\n",
    "JNorth_Adult_First_Site_2004_7_df['longitude'] = JNorth_Adult_First_Site_2004_7_df['longitude'].astype(float)\n",
    "# JNorth_Milkweed_Site_df['street_address'] = JNorth_Milkweed_Site_df['street_address'].str.title()"
   ]
  },
  {
   "cell_type": "code",
   "execution_count": 298,
   "id": "3537d71f",
   "metadata": {},
   "outputs": [],
   "source": [
    "geojson = df_to_geojson(JNorth_Adult_First_Site_2004_7_df, cols)"
   ]
  },
  {
   "cell_type": "code",
   "execution_count": 299,
   "id": "df48c8b8",
   "metadata": {},
   "outputs": [],
   "source": [
    "file = open(\"JNorth_Adult_First_Site_2004_7.geojson\", \"w\")\n",
    "json.dump(geojson, file, indent =1)\n",
    "file.close()"
   ]
  },
  {
   "cell_type": "markdown",
   "id": "3d498e81",
   "metadata": {},
   "source": [
    "## August"
   ]
  },
  {
   "cell_type": "code",
   "execution_count": 300,
   "id": "55d756cb",
   "metadata": {},
   "outputs": [
    {
     "data": {
      "text/html": [
       "<div>\n",
       "<style scoped>\n",
       "    .dataframe tbody tr th:only-of-type {\n",
       "        vertical-align: middle;\n",
       "    }\n",
       "\n",
       "    .dataframe tbody tr th {\n",
       "        vertical-align: top;\n",
       "    }\n",
       "\n",
       "    .dataframe thead th {\n",
       "        text-align: right;\n",
       "    }\n",
       "</style>\n",
       "<table border=\"1\" class=\"dataframe\">\n",
       "  <thead>\n",
       "    <tr style=\"text-align: right;\">\n",
       "      <th></th>\n",
       "      <th>sighting_date</th>\n",
       "      <th>species</th>\n",
       "      <th>latitude</th>\n",
       "      <th>longitude</th>\n",
       "      <th>number</th>\n",
       "      <th>month</th>\n",
       "    </tr>\n",
       "  </thead>\n",
       "  <tbody>\n",
       "    <tr>\n",
       "      <th>6583</th>\n",
       "      <td>2004-08-31</td>\n",
       "      <td>Monarch Adult (FIRST sighted)</td>\n",
       "      <td>35.723</td>\n",
       "      <td>-83.494</td>\n",
       "      <td>1</td>\n",
       "      <td>8</td>\n",
       "    </tr>\n",
       "    <tr>\n",
       "      <th>6584</th>\n",
       "      <td>2004-08-31</td>\n",
       "      <td>Monarch Adult (FIRST sighted)</td>\n",
       "      <td>38.996</td>\n",
       "      <td>-76.748</td>\n",
       "      <td>1</td>\n",
       "      <td>8</td>\n",
       "    </tr>\n",
       "    <tr>\n",
       "      <th>6585</th>\n",
       "      <td>2004-08-31</td>\n",
       "      <td>Monarch Adult (FIRST sighted)</td>\n",
       "      <td>43.061</td>\n",
       "      <td>-85.850</td>\n",
       "      <td>1</td>\n",
       "      <td>8</td>\n",
       "    </tr>\n",
       "    <tr>\n",
       "      <th>6586</th>\n",
       "      <td>2004-08-31</td>\n",
       "      <td>Monarch Adult (FIRST sighted)</td>\n",
       "      <td>43.417</td>\n",
       "      <td>-71.990</td>\n",
       "      <td>1</td>\n",
       "      <td>8</td>\n",
       "    </tr>\n",
       "    <tr>\n",
       "      <th>6587</th>\n",
       "      <td>2004-08-31</td>\n",
       "      <td>Monarch Adult (FIRST sighted)</td>\n",
       "      <td>45.186</td>\n",
       "      <td>-93.581</td>\n",
       "      <td>1</td>\n",
       "      <td>8</td>\n",
       "    </tr>\n",
       "  </tbody>\n",
       "</table>\n",
       "</div>"
      ],
      "text/plain": [
       "     sighting_date                        species  latitude  longitude  \\\n",
       "6583    2004-08-31  Monarch Adult (FIRST sighted)    35.723    -83.494   \n",
       "6584    2004-08-31  Monarch Adult (FIRST sighted)    38.996    -76.748   \n",
       "6585    2004-08-31  Monarch Adult (FIRST sighted)    43.061    -85.850   \n",
       "6586    2004-08-31  Monarch Adult (FIRST sighted)    43.417    -71.990   \n",
       "6587    2004-08-31  Monarch Adult (FIRST sighted)    45.186    -93.581   \n",
       "\n",
       "      number  month  \n",
       "6583       1      8  \n",
       "6584       1      8  \n",
       "6585       1      8  \n",
       "6586       1      8  \n",
       "6587       1      8  "
      ]
     },
     "execution_count": 300,
     "metadata": {},
     "output_type": "execute_result"
    }
   ],
   "source": [
    "JNorth_Adult_First_Site_2004_month_df =pd.DataFrame(JNorth_Adult_First_Site_2004_df)\n",
    "JNorth_Adult_First_Site_2004_8_df = JNorth_Adult_First_Site_2004_month_df[JNorth_Adult_First_Site_2004_month_df['month']==8]\n",
    "JNorth_Adult_First_Site_2004_8_df.tail()"
   ]
  },
  {
   "cell_type": "code",
   "execution_count": 301,
   "id": "e5f73698",
   "metadata": {},
   "outputs": [
    {
     "data": {
      "text/plain": [
       "(53, 6)"
      ]
     },
     "execution_count": 301,
     "metadata": {},
     "output_type": "execute_result"
    }
   ],
   "source": [
    "JNorth_Adult_First_Site_2004_8_df.shape"
   ]
  },
  {
   "cell_type": "code",
   "execution_count": 302,
   "id": "ef7668b7",
   "metadata": {},
   "outputs": [],
   "source": [
    "JNorth_Adult_First_Site_2004_8_df= pd.DataFrame(JNorth_Adult_First_Site_2004_8_df)\n",
    "JNorth_Adult_First_Site_2004_8_df.drop(['month'], axis=1, inplace=True)"
   ]
  },
  {
   "cell_type": "code",
   "execution_count": 303,
   "id": "48dacef8",
   "metadata": {},
   "outputs": [],
   "source": [
    "# convert lat-long to floats and change address from ALL CAPS to regular capitalization\n",
    "JNorth_Adult_First_Site_2004_8_df['latitude'] = JNorth_Adult_First_Site_2004_8_df['latitude'].astype(float)\n",
    "JNorth_Adult_First_Site_2004_8_df['longitude'] = JNorth_Adult_First_Site_2004_8_df['longitude'].astype(float)\n",
    "# JNorth_Milkweed_Site_df['street_address'] = JNorth_Milkweed_Site_df['street_address'].str.title()"
   ]
  },
  {
   "cell_type": "code",
   "execution_count": 304,
   "id": "1d563ba1",
   "metadata": {},
   "outputs": [],
   "source": [
    "geojson = df_to_geojson(JNorth_Adult_First_Site_2004_8_df, cols)"
   ]
  },
  {
   "cell_type": "code",
   "execution_count": 305,
   "id": "06443449",
   "metadata": {},
   "outputs": [],
   "source": [
    "file = open(\"JNorth_Adult_First_Site_2004_8.geojson\", \"w\")\n",
    "json.dump(geojson, file, indent =1)\n",
    "file.close()"
   ]
  },
  {
   "cell_type": "markdown",
   "id": "96a57c30",
   "metadata": {},
   "source": [
    "## September"
   ]
  },
  {
   "cell_type": "code",
   "execution_count": 306,
   "id": "d016649a",
   "metadata": {},
   "outputs": [
    {
     "data": {
      "text/html": [
       "<div>\n",
       "<style scoped>\n",
       "    .dataframe tbody tr th:only-of-type {\n",
       "        vertical-align: middle;\n",
       "    }\n",
       "\n",
       "    .dataframe tbody tr th {\n",
       "        vertical-align: top;\n",
       "    }\n",
       "\n",
       "    .dataframe thead th {\n",
       "        text-align: right;\n",
       "    }\n",
       "</style>\n",
       "<table border=\"1\" class=\"dataframe\">\n",
       "  <thead>\n",
       "    <tr style=\"text-align: right;\">\n",
       "      <th></th>\n",
       "      <th>sighting_date</th>\n",
       "      <th>species</th>\n",
       "      <th>latitude</th>\n",
       "      <th>longitude</th>\n",
       "      <th>number</th>\n",
       "      <th>month</th>\n",
       "    </tr>\n",
       "  </thead>\n",
       "  <tbody>\n",
       "    <tr>\n",
       "      <th>6860</th>\n",
       "      <td>2004-09-30</td>\n",
       "      <td>Monarch Adult (FIRST sighted)</td>\n",
       "      <td>38.360</td>\n",
       "      <td>-81.686</td>\n",
       "      <td>1</td>\n",
       "      <td>9</td>\n",
       "    </tr>\n",
       "    <tr>\n",
       "      <th>6861</th>\n",
       "      <td>2004-09-30</td>\n",
       "      <td>Monarch Adult (FIRST sighted)</td>\n",
       "      <td>38.788</td>\n",
       "      <td>-82.916</td>\n",
       "      <td>1</td>\n",
       "      <td>9</td>\n",
       "    </tr>\n",
       "    <tr>\n",
       "      <th>6862</th>\n",
       "      <td>2004-09-30</td>\n",
       "      <td>Monarch Adult (FIRST sighted)</td>\n",
       "      <td>42.539</td>\n",
       "      <td>-82.949</td>\n",
       "      <td>1</td>\n",
       "      <td>9</td>\n",
       "    </tr>\n",
       "    <tr>\n",
       "      <th>6863</th>\n",
       "      <td>2004-09-30</td>\n",
       "      <td>Monarch Adult (FIRST sighted)</td>\n",
       "      <td>42.590</td>\n",
       "      <td>-81.140</td>\n",
       "      <td>1</td>\n",
       "      <td>9</td>\n",
       "    </tr>\n",
       "    <tr>\n",
       "      <th>6864</th>\n",
       "      <td>2004-09-30</td>\n",
       "      <td>Monarch Adult (FIRST sighted)</td>\n",
       "      <td>43.871</td>\n",
       "      <td>-72.828</td>\n",
       "      <td>1</td>\n",
       "      <td>9</td>\n",
       "    </tr>\n",
       "  </tbody>\n",
       "</table>\n",
       "</div>"
      ],
      "text/plain": [
       "     sighting_date                        species  latitude  longitude  \\\n",
       "6860    2004-09-30  Monarch Adult (FIRST sighted)    38.360    -81.686   \n",
       "6861    2004-09-30  Monarch Adult (FIRST sighted)    38.788    -82.916   \n",
       "6862    2004-09-30  Monarch Adult (FIRST sighted)    42.539    -82.949   \n",
       "6863    2004-09-30  Monarch Adult (FIRST sighted)    42.590    -81.140   \n",
       "6864    2004-09-30  Monarch Adult (FIRST sighted)    43.871    -72.828   \n",
       "\n",
       "      number  month  \n",
       "6860       1      9  \n",
       "6861       1      9  \n",
       "6862       1      9  \n",
       "6863       1      9  \n",
       "6864       1      9  "
      ]
     },
     "execution_count": 306,
     "metadata": {},
     "output_type": "execute_result"
    }
   ],
   "source": [
    "JNorth_Adult_First_Site_2004_month_df =pd.DataFrame(JNorth_Adult_First_Site_2004_df)\n",
    "JNorth_Adult_First_Site_2004_9_df = JNorth_Adult_First_Site_2004_month_df[JNorth_Adult_First_Site_2004_month_df['month']==9]\n",
    "JNorth_Adult_First_Site_2004_9_df.tail()"
   ]
  },
  {
   "cell_type": "code",
   "execution_count": 307,
   "id": "0ecef701",
   "metadata": {},
   "outputs": [
    {
     "data": {
      "text/plain": [
       "(277, 6)"
      ]
     },
     "execution_count": 307,
     "metadata": {},
     "output_type": "execute_result"
    }
   ],
   "source": [
    "JNorth_Adult_First_Site_2004_9_df.shape"
   ]
  },
  {
   "cell_type": "code",
   "execution_count": 308,
   "id": "a073c137",
   "metadata": {},
   "outputs": [],
   "source": [
    "JNorth_Adult_First_Site_2004_9_df = pd.DataFrame(JNorth_Adult_First_Site_2004_9_df)\n",
    "JNorth_Adult_First_Site_2004_9_df.drop(['month'], axis=1, inplace=True)"
   ]
  },
  {
   "cell_type": "code",
   "execution_count": 309,
   "id": "815c4094",
   "metadata": {},
   "outputs": [],
   "source": [
    "# convert lat-long to floats and change address from ALL CAPS to regular capitalization\n",
    "JNorth_Adult_First_Site_2004_9_df['latitude'] = JNorth_Adult_First_Site_2004_9_df['latitude'].astype(float)\n",
    "JNorth_Adult_First_Site_2004_9_df['longitude'] = JNorth_Adult_First_Site_2004_9_df['longitude'].astype(float)\n",
    "# JNorth_Milkweed_Site_df['street_address'] = JNorth_Milkweed_Site_df['street_address'].str.title()"
   ]
  },
  {
   "cell_type": "code",
   "execution_count": 310,
   "id": "264210fa",
   "metadata": {},
   "outputs": [],
   "source": [
    "geojson = df_to_geojson(JNorth_Adult_First_Site_2004_9_df, cols)"
   ]
  },
  {
   "cell_type": "code",
   "execution_count": 311,
   "id": "8324bca8",
   "metadata": {},
   "outputs": [],
   "source": [
    "file = open(\"JNorth_Adult_First_Site_2004_9.geojson\", \"w\")\n",
    "json.dump(geojson, file, indent =1)\n",
    "file.close()"
   ]
  },
  {
   "cell_type": "markdown",
   "id": "25891dac",
   "metadata": {},
   "source": [
    "## October"
   ]
  },
  {
   "cell_type": "code",
   "execution_count": 312,
   "id": "2e972169",
   "metadata": {},
   "outputs": [
    {
     "data": {
      "text/html": [
       "<div>\n",
       "<style scoped>\n",
       "    .dataframe tbody tr th:only-of-type {\n",
       "        vertical-align: middle;\n",
       "    }\n",
       "\n",
       "    .dataframe tbody tr th {\n",
       "        vertical-align: top;\n",
       "    }\n",
       "\n",
       "    .dataframe thead th {\n",
       "        text-align: right;\n",
       "    }\n",
       "</style>\n",
       "<table border=\"1\" class=\"dataframe\">\n",
       "  <thead>\n",
       "    <tr style=\"text-align: right;\">\n",
       "      <th></th>\n",
       "      <th>sighting_date</th>\n",
       "      <th>species</th>\n",
       "      <th>latitude</th>\n",
       "      <th>longitude</th>\n",
       "      <th>number</th>\n",
       "      <th>month</th>\n",
       "    </tr>\n",
       "  </thead>\n",
       "  <tbody>\n",
       "    <tr>\n",
       "      <th>7209</th>\n",
       "      <td>2004-10-31</td>\n",
       "      <td>Monarch Adult (FIRST sighted)</td>\n",
       "      <td>38.882</td>\n",
       "      <td>-94.818</td>\n",
       "      <td>1</td>\n",
       "      <td>10</td>\n",
       "    </tr>\n",
       "    <tr>\n",
       "      <th>7210</th>\n",
       "      <td>2004-10-31</td>\n",
       "      <td>Monarch Adult (FIRST sighted)</td>\n",
       "      <td>38.980</td>\n",
       "      <td>-77.380</td>\n",
       "      <td>1</td>\n",
       "      <td>10</td>\n",
       "    </tr>\n",
       "    <tr>\n",
       "      <th>7211</th>\n",
       "      <td>2004-10-31</td>\n",
       "      <td>Monarch Adult (FIRST sighted)</td>\n",
       "      <td>38.996</td>\n",
       "      <td>-76.748</td>\n",
       "      <td>1</td>\n",
       "      <td>10</td>\n",
       "    </tr>\n",
       "    <tr>\n",
       "      <th>7212</th>\n",
       "      <td>2004-10-31</td>\n",
       "      <td>Monarch Adult (FIRST sighted)</td>\n",
       "      <td>39.201</td>\n",
       "      <td>-77.621</td>\n",
       "      <td>1</td>\n",
       "      <td>10</td>\n",
       "    </tr>\n",
       "    <tr>\n",
       "      <th>7213</th>\n",
       "      <td>2004-10-31</td>\n",
       "      <td>Monarch Adult (FIRST sighted)</td>\n",
       "      <td>41.176</td>\n",
       "      <td>-73.281</td>\n",
       "      <td>1</td>\n",
       "      <td>10</td>\n",
       "    </tr>\n",
       "  </tbody>\n",
       "</table>\n",
       "</div>"
      ],
      "text/plain": [
       "     sighting_date                        species  latitude  longitude  \\\n",
       "7209    2004-10-31  Monarch Adult (FIRST sighted)    38.882    -94.818   \n",
       "7210    2004-10-31  Monarch Adult (FIRST sighted)    38.980    -77.380   \n",
       "7211    2004-10-31  Monarch Adult (FIRST sighted)    38.996    -76.748   \n",
       "7212    2004-10-31  Monarch Adult (FIRST sighted)    39.201    -77.621   \n",
       "7213    2004-10-31  Monarch Adult (FIRST sighted)    41.176    -73.281   \n",
       "\n",
       "      number  month  \n",
       "7209       1     10  \n",
       "7210       1     10  \n",
       "7211       1     10  \n",
       "7212       1     10  \n",
       "7213       1     10  "
      ]
     },
     "execution_count": 312,
     "metadata": {},
     "output_type": "execute_result"
    }
   ],
   "source": [
    "JNorth_Adult_First_Site_2004_month_df =pd.DataFrame(JNorth_Adult_First_Site_2004_df)\n",
    "JNorth_Adult_First_Site_2004_10_df = JNorth_Adult_First_Site_2004_month_df[JNorth_Adult_First_Site_2004_month_df['month']==10]\n",
    "JNorth_Adult_First_Site_2004_10_df.tail()"
   ]
  },
  {
   "cell_type": "code",
   "execution_count": 313,
   "id": "b02cb6c5",
   "metadata": {},
   "outputs": [
    {
     "data": {
      "text/plain": [
       "(349, 6)"
      ]
     },
     "execution_count": 313,
     "metadata": {},
     "output_type": "execute_result"
    }
   ],
   "source": [
    "JNorth_Adult_First_Site_2004_10_df.shape"
   ]
  },
  {
   "cell_type": "code",
   "execution_count": 314,
   "id": "4c128c57",
   "metadata": {},
   "outputs": [],
   "source": [
    "JNorth_Adult_First_Site_2004_10_df = pd.DataFrame(JNorth_Adult_First_Site_2004_10_df)\n",
    "JNorth_Adult_First_Site_2004_10_df.drop(['month'], axis=1, inplace=True)"
   ]
  },
  {
   "cell_type": "code",
   "execution_count": 315,
   "id": "e11b561b",
   "metadata": {},
   "outputs": [],
   "source": [
    "# convert lat-long to floats and change address from ALL CAPS to regular capitalization\n",
    "JNorth_Adult_First_Site_2004_10_df['latitude'] = JNorth_Adult_First_Site_2004_10_df['latitude'].astype(float)\n",
    "JNorth_Adult_First_Site_2004_10_df['longitude'] = JNorth_Adult_First_Site_2004_10_df['longitude'].astype(float)\n",
    "# JNorth_Milkweed_Site_df['street_address'] = JNorth_Milkweed_Site_df['street_address'].str.title()"
   ]
  },
  {
   "cell_type": "code",
   "execution_count": 316,
   "id": "7510a3c3",
   "metadata": {},
   "outputs": [],
   "source": [
    "geojson = df_to_geojson(JNorth_Adult_First_Site_2004_10_df, cols)"
   ]
  },
  {
   "cell_type": "code",
   "execution_count": 317,
   "id": "c4baae80",
   "metadata": {},
   "outputs": [],
   "source": [
    "file = open(\"JNorth_Adult_First_Site_2004_10.geojson\", \"w\")\n",
    "json.dump(geojson, file, indent =1)\n",
    "file.close()"
   ]
  },
  {
   "cell_type": "markdown",
   "id": "bd664e59",
   "metadata": {},
   "source": [
    "## November"
   ]
  },
  {
   "cell_type": "code",
   "execution_count": 318,
   "id": "1204d4e5",
   "metadata": {},
   "outputs": [
    {
     "data": {
      "text/html": [
       "<div>\n",
       "<style scoped>\n",
       "    .dataframe tbody tr th:only-of-type {\n",
       "        vertical-align: middle;\n",
       "    }\n",
       "\n",
       "    .dataframe tbody tr th {\n",
       "        vertical-align: top;\n",
       "    }\n",
       "\n",
       "    .dataframe thead th {\n",
       "        text-align: right;\n",
       "    }\n",
       "</style>\n",
       "<table border=\"1\" class=\"dataframe\">\n",
       "  <thead>\n",
       "    <tr style=\"text-align: right;\">\n",
       "      <th></th>\n",
       "      <th>sighting_date</th>\n",
       "      <th>species</th>\n",
       "      <th>latitude</th>\n",
       "      <th>longitude</th>\n",
       "      <th>number</th>\n",
       "      <th>month</th>\n",
       "    </tr>\n",
       "  </thead>\n",
       "  <tbody>\n",
       "    <tr>\n",
       "      <th>7258</th>\n",
       "      <td>2004-11-21</td>\n",
       "      <td>Monarch Adult (FIRST sighted)</td>\n",
       "      <td>29.648</td>\n",
       "      <td>-99.224</td>\n",
       "      <td>1</td>\n",
       "      <td>11</td>\n",
       "    </tr>\n",
       "    <tr>\n",
       "      <th>7259</th>\n",
       "      <td>2004-11-22</td>\n",
       "      <td>Monarch Adult (FIRST sighted)</td>\n",
       "      <td>29.648</td>\n",
       "      <td>-99.224</td>\n",
       "      <td>1</td>\n",
       "      <td>11</td>\n",
       "    </tr>\n",
       "    <tr>\n",
       "      <th>7260</th>\n",
       "      <td>2004-11-23</td>\n",
       "      <td>Monarch Adult (FIRST sighted)</td>\n",
       "      <td>29.648</td>\n",
       "      <td>-99.224</td>\n",
       "      <td>1</td>\n",
       "      <td>11</td>\n",
       "    </tr>\n",
       "    <tr>\n",
       "      <th>7261</th>\n",
       "      <td>2004-11-25</td>\n",
       "      <td>Monarch Adult (FIRST sighted)</td>\n",
       "      <td>33.028</td>\n",
       "      <td>-97.093</td>\n",
       "      <td>1</td>\n",
       "      <td>11</td>\n",
       "    </tr>\n",
       "    <tr>\n",
       "      <th>7262</th>\n",
       "      <td>2004-11-29</td>\n",
       "      <td>Monarch Adult (FIRST sighted)</td>\n",
       "      <td>29.648</td>\n",
       "      <td>-99.224</td>\n",
       "      <td>1</td>\n",
       "      <td>11</td>\n",
       "    </tr>\n",
       "  </tbody>\n",
       "</table>\n",
       "</div>"
      ],
      "text/plain": [
       "     sighting_date                        species  latitude  longitude  \\\n",
       "7258    2004-11-21  Monarch Adult (FIRST sighted)    29.648    -99.224   \n",
       "7259    2004-11-22  Monarch Adult (FIRST sighted)    29.648    -99.224   \n",
       "7260    2004-11-23  Monarch Adult (FIRST sighted)    29.648    -99.224   \n",
       "7261    2004-11-25  Monarch Adult (FIRST sighted)    33.028    -97.093   \n",
       "7262    2004-11-29  Monarch Adult (FIRST sighted)    29.648    -99.224   \n",
       "\n",
       "      number  month  \n",
       "7258       1     11  \n",
       "7259       1     11  \n",
       "7260       1     11  \n",
       "7261       1     11  \n",
       "7262       1     11  "
      ]
     },
     "execution_count": 318,
     "metadata": {},
     "output_type": "execute_result"
    }
   ],
   "source": [
    "JNorth_Adult_First_Site_2004_month_df =pd.DataFrame(JNorth_Adult_First_Site_2004_df)\n",
    "JNorth_Adult_First_Site_2004_11_df = JNorth_Adult_First_Site_2004_month_df[JNorth_Adult_First_Site_2004_month_df['month']==11]\n",
    "JNorth_Adult_First_Site_2004_11_df.tail()"
   ]
  },
  {
   "cell_type": "code",
   "execution_count": 319,
   "id": "b5447ef0",
   "metadata": {},
   "outputs": [
    {
     "data": {
      "text/plain": [
       "(49, 6)"
      ]
     },
     "execution_count": 319,
     "metadata": {},
     "output_type": "execute_result"
    }
   ],
   "source": [
    "JNorth_Adult_First_Site_2004_11_df.shape"
   ]
  },
  {
   "cell_type": "code",
   "execution_count": 320,
   "id": "f3d3ebcd",
   "metadata": {},
   "outputs": [],
   "source": [
    "JNorth_Adult_First_Site_2004_11_df = pd.DataFrame(JNorth_Adult_First_Site_2004_11_df)\n",
    "JNorth_Adult_First_Site_2004_11_df.drop(['month'], axis=1, inplace=True)"
   ]
  },
  {
   "cell_type": "code",
   "execution_count": 321,
   "id": "efcce95f",
   "metadata": {},
   "outputs": [],
   "source": [
    "# convert lat-long to floats and change address from ALL CAPS to regular capitalization\n",
    "JNorth_Adult_First_Site_2004_11_df['latitude'] = JNorth_Adult_First_Site_2004_11_df['latitude'].astype(float)\n",
    "JNorth_Adult_First_Site_2004_11_df['longitude'] = JNorth_Adult_First_Site_2004_11_df['longitude'].astype(float)\n",
    "# JNorth_Milkweed_Site_df['street_address'] = JNorth_Milkweed_Site_df['street_address'].str.title()"
   ]
  },
  {
   "cell_type": "code",
   "execution_count": 322,
   "id": "f3d6c1d9",
   "metadata": {},
   "outputs": [],
   "source": [
    "geojson = df_to_geojson(JNorth_Adult_First_Site_2004_11_df, cols)"
   ]
  },
  {
   "cell_type": "code",
   "execution_count": 323,
   "id": "fd0e9741",
   "metadata": {},
   "outputs": [],
   "source": [
    "file = open(\"JNorth_Adult_First_Site_2004_11.geojson\", \"w\")\n",
    "json.dump(geojson, file, indent =1)\n",
    "file.close()"
   ]
  },
  {
   "cell_type": "markdown",
   "id": "cdcf918e",
   "metadata": {},
   "source": [
    "## December"
   ]
  },
  {
   "cell_type": "code",
   "execution_count": 324,
   "id": "3e347baa",
   "metadata": {},
   "outputs": [
    {
     "data": {
      "text/html": [
       "<div>\n",
       "<style scoped>\n",
       "    .dataframe tbody tr th:only-of-type {\n",
       "        vertical-align: middle;\n",
       "    }\n",
       "\n",
       "    .dataframe tbody tr th {\n",
       "        vertical-align: top;\n",
       "    }\n",
       "\n",
       "    .dataframe thead th {\n",
       "        text-align: right;\n",
       "    }\n",
       "</style>\n",
       "<table border=\"1\" class=\"dataframe\">\n",
       "  <thead>\n",
       "    <tr style=\"text-align: right;\">\n",
       "      <th></th>\n",
       "      <th>sighting_date</th>\n",
       "      <th>species</th>\n",
       "      <th>latitude</th>\n",
       "      <th>longitude</th>\n",
       "      <th>number</th>\n",
       "      <th>month</th>\n",
       "    </tr>\n",
       "  </thead>\n",
       "  <tbody>\n",
       "    <tr>\n",
       "      <th>7263</th>\n",
       "      <td>2004-12-06</td>\n",
       "      <td>Monarch Adult (FIRST sighted)</td>\n",
       "      <td>29.231</td>\n",
       "      <td>-95.464</td>\n",
       "      <td>1</td>\n",
       "      <td>12</td>\n",
       "    </tr>\n",
       "    <tr>\n",
       "      <th>7264</th>\n",
       "      <td>2004-12-28</td>\n",
       "      <td>Monarch Adult (FIRST sighted)</td>\n",
       "      <td>29.554</td>\n",
       "      <td>-98.309</td>\n",
       "      <td>1</td>\n",
       "      <td>12</td>\n",
       "    </tr>\n",
       "  </tbody>\n",
       "</table>\n",
       "</div>"
      ],
      "text/plain": [
       "     sighting_date                        species  latitude  longitude  \\\n",
       "7263    2004-12-06  Monarch Adult (FIRST sighted)    29.231    -95.464   \n",
       "7264    2004-12-28  Monarch Adult (FIRST sighted)    29.554    -98.309   \n",
       "\n",
       "      number  month  \n",
       "7263       1     12  \n",
       "7264       1     12  "
      ]
     },
     "execution_count": 324,
     "metadata": {},
     "output_type": "execute_result"
    }
   ],
   "source": [
    "JNorth_Adult_First_Site_2004_month_df =pd.DataFrame(JNorth_Adult_First_Site_2004_df)\n",
    "JNorth_Adult_First_Site_2004_12_df = JNorth_Adult_First_Site_2004_month_df[JNorth_Adult_First_Site_2004_month_df['month']==12]\n",
    "JNorth_Adult_First_Site_2004_12_df.tail()"
   ]
  },
  {
   "cell_type": "code",
   "execution_count": 325,
   "id": "20a8e5a5",
   "metadata": {},
   "outputs": [
    {
     "data": {
      "text/plain": [
       "(2, 6)"
      ]
     },
     "execution_count": 325,
     "metadata": {},
     "output_type": "execute_result"
    }
   ],
   "source": [
    "JNorth_Adult_First_Site_2004_12_df.shape"
   ]
  },
  {
   "cell_type": "code",
   "execution_count": 326,
   "id": "529a75b3",
   "metadata": {},
   "outputs": [],
   "source": [
    "JNorth_Adult_First_Site_2004_12_df = pd.DataFrame(JNorth_Adult_First_Site_2004_12_df)\n",
    "JNorth_Adult_First_Site_2004_12_df.drop(['month'], axis=1, inplace=True)"
   ]
  },
  {
   "cell_type": "code",
   "execution_count": 327,
   "id": "9d50cf68",
   "metadata": {},
   "outputs": [],
   "source": [
    "# convert lat-long to floats and change address from ALL CAPS to regular capitalization\n",
    "JNorth_Adult_First_Site_2004_12_df['latitude'] = JNorth_Adult_First_Site_2004_12_df['latitude'].astype(float)\n",
    "JNorth_Adult_First_Site_2004_12_df['longitude'] = JNorth_Adult_First_Site_2004_12_df['longitude'].astype(float)\n",
    "# JNorth_Milkweed_Site_df['street_address'] = JNorth_Milkweed_Site_df['street_address'].str.title()"
   ]
  },
  {
   "cell_type": "code",
   "execution_count": 328,
   "id": "90e20da8",
   "metadata": {},
   "outputs": [],
   "source": [
    "geojson = df_to_geojson(JNorth_Adult_First_Site_2004_12_df, cols)"
   ]
  },
  {
   "cell_type": "code",
   "execution_count": 329,
   "id": "1dc06ea2",
   "metadata": {},
   "outputs": [],
   "source": [
    "file = open(\"JNorth_Adult_First_Site_2004_12.geojson\", \"w\")\n",
    "json.dump(geojson, file, indent =1)\n",
    "file.close()"
   ]
  },
  {
   "cell_type": "markdown",
   "id": "8bf917be",
   "metadata": {},
   "source": [
    "# 2005"
   ]
  },
  {
   "cell_type": "code",
   "execution_count": 330,
   "id": "4968168c",
   "metadata": {},
   "outputs": [
    {
     "data": {
      "text/html": [
       "<div>\n",
       "<style scoped>\n",
       "    .dataframe tbody tr th:only-of-type {\n",
       "        vertical-align: middle;\n",
       "    }\n",
       "\n",
       "    .dataframe tbody tr th {\n",
       "        vertical-align: top;\n",
       "    }\n",
       "\n",
       "    .dataframe thead th {\n",
       "        text-align: right;\n",
       "    }\n",
       "</style>\n",
       "<table border=\"1\" class=\"dataframe\">\n",
       "  <thead>\n",
       "    <tr style=\"text-align: right;\">\n",
       "      <th></th>\n",
       "      <th>sighting_date</th>\n",
       "      <th>species</th>\n",
       "      <th>latitude</th>\n",
       "      <th>longitude</th>\n",
       "      <th>number</th>\n",
       "      <th>year</th>\n",
       "    </tr>\n",
       "  </thead>\n",
       "  <tbody>\n",
       "    <tr>\n",
       "      <th>8728</th>\n",
       "      <td>2005-11-18</td>\n",
       "      <td>Monarch Adult (FIRST sighted)</td>\n",
       "      <td>29.309</td>\n",
       "      <td>-94.782</td>\n",
       "      <td>1</td>\n",
       "      <td>2005</td>\n",
       "    </tr>\n",
       "    <tr>\n",
       "      <th>8729</th>\n",
       "      <td>2005-11-26</td>\n",
       "      <td>Monarch Adult (FIRST sighted)</td>\n",
       "      <td>30.061</td>\n",
       "      <td>-95.384</td>\n",
       "      <td>1</td>\n",
       "      <td>2005</td>\n",
       "    </tr>\n",
       "    <tr>\n",
       "      <th>8730</th>\n",
       "      <td>2005-11-26</td>\n",
       "      <td>Monarch Adult (FIRST sighted)</td>\n",
       "      <td>30.076</td>\n",
       "      <td>-95.638</td>\n",
       "      <td>1</td>\n",
       "      <td>2005</td>\n",
       "    </tr>\n",
       "    <tr>\n",
       "      <th>8731</th>\n",
       "      <td>2005-12-02</td>\n",
       "      <td>Monarch Adult (FIRST sighted)</td>\n",
       "      <td>28.807</td>\n",
       "      <td>-96.979</td>\n",
       "      <td>1</td>\n",
       "      <td>2005</td>\n",
       "    </tr>\n",
       "    <tr>\n",
       "      <th>8732</th>\n",
       "      <td>2005-12-05</td>\n",
       "      <td>Monarch Adult (FIRST sighted)</td>\n",
       "      <td>28.210</td>\n",
       "      <td>-82.289</td>\n",
       "      <td>1</td>\n",
       "      <td>2005</td>\n",
       "    </tr>\n",
       "  </tbody>\n",
       "</table>\n",
       "</div>"
      ],
      "text/plain": [
       "     sighting_date                        species  latitude  longitude  \\\n",
       "8728    2005-11-18  Monarch Adult (FIRST sighted)    29.309    -94.782   \n",
       "8729    2005-11-26  Monarch Adult (FIRST sighted)    30.061    -95.384   \n",
       "8730    2005-11-26  Monarch Adult (FIRST sighted)    30.076    -95.638   \n",
       "8731    2005-12-02  Monarch Adult (FIRST sighted)    28.807    -96.979   \n",
       "8732    2005-12-05  Monarch Adult (FIRST sighted)    28.210    -82.289   \n",
       "\n",
       "      number  year  \n",
       "8728       1  2005  \n",
       "8729       1  2005  \n",
       "8730       1  2005  \n",
       "8731       1  2005  \n",
       "8732       1  2005  "
      ]
     },
     "execution_count": 330,
     "metadata": {},
     "output_type": "execute_result"
    }
   ],
   "source": [
    "JNorth_Adult_First_Site_2005_df = JNorth_Adult_First_Site_df[JNorth_Adult_First_Site_df['year']==2005]\n",
    "JNorth_Adult_First_Site_2005_df.tail()"
   ]
  },
  {
   "cell_type": "code",
   "execution_count": 331,
   "id": "0c944693",
   "metadata": {},
   "outputs": [
    {
     "data": {
      "text/plain": [
       "(1468, 6)"
      ]
     },
     "execution_count": 331,
     "metadata": {},
     "output_type": "execute_result"
    }
   ],
   "source": [
    "JNorth_Adult_First_Site_2005_df.shape"
   ]
  },
  {
   "cell_type": "code",
   "execution_count": 332,
   "id": "92bc2990",
   "metadata": {},
   "outputs": [],
   "source": [
    "JNorth_Adult_First_Site_2005_df = pd.DataFrame(JNorth_Adult_First_Site_2005_df)\n",
    "JNorth_Adult_First_Site_2005_df.drop(['year'], axis=1, inplace=True)"
   ]
  },
  {
   "cell_type": "code",
   "execution_count": 333,
   "id": "9cdb97b2",
   "metadata": {},
   "outputs": [
    {
     "data": {
      "text/plain": [
       "<bound method NDFrame.tail of      sighting_date                        species  latitude  longitude  number\n",
       "7265    2005-01-11  Monarch Adult (FIRST sighted)    26.575    -81.947       1\n",
       "7266    2005-01-17  Monarch Adult (FIRST sighted)    28.542    -81.374       1\n",
       "7267    2005-01-22  Monarch Adult (FIRST sighted)    26.125    -81.792       1\n",
       "7268    2005-02-13  Monarch Adult (FIRST sighted)    29.821    -98.751       1\n",
       "7269    2005-02-15  Monarch Adult (FIRST sighted)    29.732    -99.974       1\n",
       "...            ...                            ...       ...        ...     ...\n",
       "8728    2005-11-18  Monarch Adult (FIRST sighted)    29.309    -94.782       1\n",
       "8729    2005-11-26  Monarch Adult (FIRST sighted)    30.061    -95.384       1\n",
       "8730    2005-11-26  Monarch Adult (FIRST sighted)    30.076    -95.638       1\n",
       "8731    2005-12-02  Monarch Adult (FIRST sighted)    28.807    -96.979       1\n",
       "8732    2005-12-05  Monarch Adult (FIRST sighted)    28.210    -82.289       1\n",
       "\n",
       "[1468 rows x 5 columns]>"
      ]
     },
     "execution_count": 333,
     "metadata": {},
     "output_type": "execute_result"
    }
   ],
   "source": [
    "JNorth_Adult_First_Site_2005_df.tail"
   ]
  },
  {
   "cell_type": "code",
   "execution_count": 334,
   "id": "7783762f",
   "metadata": {},
   "outputs": [],
   "source": [
    "JNorth_Adult_First_Site_2005_df['month'] = pd.DatetimeIndex(JNorth_Adult_First_Site_2005_df['sighting_date']).month"
   ]
  },
  {
   "cell_type": "markdown",
   "id": "f71cd27e",
   "metadata": {},
   "source": [
    "## January"
   ]
  },
  {
   "cell_type": "code",
   "execution_count": 335,
   "id": "5aa17557",
   "metadata": {},
   "outputs": [
    {
     "data": {
      "text/html": [
       "<div>\n",
       "<style scoped>\n",
       "    .dataframe tbody tr th:only-of-type {\n",
       "        vertical-align: middle;\n",
       "    }\n",
       "\n",
       "    .dataframe tbody tr th {\n",
       "        vertical-align: top;\n",
       "    }\n",
       "\n",
       "    .dataframe thead th {\n",
       "        text-align: right;\n",
       "    }\n",
       "</style>\n",
       "<table border=\"1\" class=\"dataframe\">\n",
       "  <thead>\n",
       "    <tr style=\"text-align: right;\">\n",
       "      <th></th>\n",
       "      <th>sighting_date</th>\n",
       "      <th>species</th>\n",
       "      <th>latitude</th>\n",
       "      <th>longitude</th>\n",
       "      <th>number</th>\n",
       "      <th>month</th>\n",
       "    </tr>\n",
       "  </thead>\n",
       "  <tbody>\n",
       "    <tr>\n",
       "      <th>7265</th>\n",
       "      <td>2005-01-11</td>\n",
       "      <td>Monarch Adult (FIRST sighted)</td>\n",
       "      <td>26.575</td>\n",
       "      <td>-81.947</td>\n",
       "      <td>1</td>\n",
       "      <td>1</td>\n",
       "    </tr>\n",
       "    <tr>\n",
       "      <th>7266</th>\n",
       "      <td>2005-01-17</td>\n",
       "      <td>Monarch Adult (FIRST sighted)</td>\n",
       "      <td>28.542</td>\n",
       "      <td>-81.374</td>\n",
       "      <td>1</td>\n",
       "      <td>1</td>\n",
       "    </tr>\n",
       "    <tr>\n",
       "      <th>7267</th>\n",
       "      <td>2005-01-22</td>\n",
       "      <td>Monarch Adult (FIRST sighted)</td>\n",
       "      <td>26.125</td>\n",
       "      <td>-81.792</td>\n",
       "      <td>1</td>\n",
       "      <td>1</td>\n",
       "    </tr>\n",
       "  </tbody>\n",
       "</table>\n",
       "</div>"
      ],
      "text/plain": [
       "     sighting_date                        species  latitude  longitude  \\\n",
       "7265    2005-01-11  Monarch Adult (FIRST sighted)    26.575    -81.947   \n",
       "7266    2005-01-17  Monarch Adult (FIRST sighted)    28.542    -81.374   \n",
       "7267    2005-01-22  Monarch Adult (FIRST sighted)    26.125    -81.792   \n",
       "\n",
       "      number  month  \n",
       "7265       1      1  \n",
       "7266       1      1  \n",
       "7267       1      1  "
      ]
     },
     "execution_count": 335,
     "metadata": {},
     "output_type": "execute_result"
    }
   ],
   "source": [
    "JNorth_Adult_First_Site_2005_month_df =pd.DataFrame(JNorth_Adult_First_Site_2005_df)\n",
    "JNorth_Adult_First_Site_2005_1_df = JNorth_Adult_First_Site_2005_month_df[JNorth_Adult_First_Site_2005_month_df['month']==1]\n",
    "JNorth_Adult_First_Site_2005_1_df.tail()"
   ]
  },
  {
   "cell_type": "code",
   "execution_count": 336,
   "id": "ca135c2e",
   "metadata": {},
   "outputs": [
    {
     "data": {
      "text/plain": [
       "(3, 6)"
      ]
     },
     "execution_count": 336,
     "metadata": {},
     "output_type": "execute_result"
    }
   ],
   "source": [
    "JNorth_Adult_First_Site_2005_1_df.shape"
   ]
  },
  {
   "cell_type": "code",
   "execution_count": 337,
   "id": "6d0be994",
   "metadata": {},
   "outputs": [],
   "source": [
    "JNorth_Adult_First_Site_2005_1_df = pd.DataFrame(JNorth_Adult_First_Site_2005_1_df)\n",
    "JNorth_Adult_First_Site_2005_1_df.drop(['month'], axis=1, inplace=True)"
   ]
  },
  {
   "cell_type": "code",
   "execution_count": 338,
   "id": "be4f1dc4",
   "metadata": {},
   "outputs": [],
   "source": [
    "# convert lat-long to floats and change address from ALL CAPS to regular capitalization\n",
    "JNorth_Adult_First_Site_2005_1_df['latitude'] = JNorth_Adult_First_Site_2005_1_df['latitude'].astype(float)\n",
    "JNorth_Adult_First_Site_2005_1_df['longitude'] = JNorth_Adult_First_Site_2005_1_df['longitude'].astype(float)\n",
    "# JNorth_Milkweed_Site_df['street_address'] = JNorth_Milkweed_Site_df['street_address'].str.title()"
   ]
  },
  {
   "cell_type": "code",
   "execution_count": 339,
   "id": "918699f7",
   "metadata": {},
   "outputs": [],
   "source": [
    "geojson = df_to_geojson(JNorth_Adult_First_Site_2005_1_df, cols)"
   ]
  },
  {
   "cell_type": "code",
   "execution_count": 340,
   "id": "d4b56319",
   "metadata": {},
   "outputs": [],
   "source": [
    "file = open(\"JNorth_Adult_First_Site_2005_1.geojson\", \"w\")\n",
    "json.dump(geojson, file, indent =1)\n",
    "file.close()"
   ]
  },
  {
   "cell_type": "markdown",
   "id": "2330de88",
   "metadata": {},
   "source": [
    "# February"
   ]
  },
  {
   "cell_type": "code",
   "execution_count": 341,
   "id": "a96637fc",
   "metadata": {},
   "outputs": [
    {
     "data": {
      "text/html": [
       "<div>\n",
       "<style scoped>\n",
       "    .dataframe tbody tr th:only-of-type {\n",
       "        vertical-align: middle;\n",
       "    }\n",
       "\n",
       "    .dataframe tbody tr th {\n",
       "        vertical-align: top;\n",
       "    }\n",
       "\n",
       "    .dataframe thead th {\n",
       "        text-align: right;\n",
       "    }\n",
       "</style>\n",
       "<table border=\"1\" class=\"dataframe\">\n",
       "  <thead>\n",
       "    <tr style=\"text-align: right;\">\n",
       "      <th></th>\n",
       "      <th>sighting_date</th>\n",
       "      <th>species</th>\n",
       "      <th>latitude</th>\n",
       "      <th>longitude</th>\n",
       "      <th>number</th>\n",
       "      <th>month</th>\n",
       "    </tr>\n",
       "  </thead>\n",
       "  <tbody>\n",
       "    <tr>\n",
       "      <th>7269</th>\n",
       "      <td>2005-02-15</td>\n",
       "      <td>Monarch Adult (FIRST sighted)</td>\n",
       "      <td>29.732</td>\n",
       "      <td>-99.974</td>\n",
       "      <td>1</td>\n",
       "      <td>2</td>\n",
       "    </tr>\n",
       "    <tr>\n",
       "      <th>7270</th>\n",
       "      <td>2005-02-16</td>\n",
       "      <td>Monarch Adult (FIRST sighted)</td>\n",
       "      <td>30.340</td>\n",
       "      <td>-81.831</td>\n",
       "      <td>1</td>\n",
       "      <td>2</td>\n",
       "    </tr>\n",
       "    <tr>\n",
       "      <th>7271</th>\n",
       "      <td>2005-02-20</td>\n",
       "      <td>Monarch Adult (FIRST sighted)</td>\n",
       "      <td>29.757</td>\n",
       "      <td>-95.365</td>\n",
       "      <td>1</td>\n",
       "      <td>2</td>\n",
       "    </tr>\n",
       "    <tr>\n",
       "      <th>7272</th>\n",
       "      <td>2005-02-21</td>\n",
       "      <td>Monarch Adult (FIRST sighted)</td>\n",
       "      <td>26.938</td>\n",
       "      <td>-80.812</td>\n",
       "      <td>1</td>\n",
       "      <td>2</td>\n",
       "    </tr>\n",
       "    <tr>\n",
       "      <th>7273</th>\n",
       "      <td>2005-02-22</td>\n",
       "      <td>Monarch Adult (FIRST sighted)</td>\n",
       "      <td>29.757</td>\n",
       "      <td>-95.365</td>\n",
       "      <td>1</td>\n",
       "      <td>2</td>\n",
       "    </tr>\n",
       "  </tbody>\n",
       "</table>\n",
       "</div>"
      ],
      "text/plain": [
       "     sighting_date                        species  latitude  longitude  \\\n",
       "7269    2005-02-15  Monarch Adult (FIRST sighted)    29.732    -99.974   \n",
       "7270    2005-02-16  Monarch Adult (FIRST sighted)    30.340    -81.831   \n",
       "7271    2005-02-20  Monarch Adult (FIRST sighted)    29.757    -95.365   \n",
       "7272    2005-02-21  Monarch Adult (FIRST sighted)    26.938    -80.812   \n",
       "7273    2005-02-22  Monarch Adult (FIRST sighted)    29.757    -95.365   \n",
       "\n",
       "      number  month  \n",
       "7269       1      2  \n",
       "7270       1      2  \n",
       "7271       1      2  \n",
       "7272       1      2  \n",
       "7273       1      2  "
      ]
     },
     "execution_count": 341,
     "metadata": {},
     "output_type": "execute_result"
    }
   ],
   "source": [
    "JNorth_Adult_First_Site_2005_month_df =pd.DataFrame(JNorth_Adult_First_Site_2005_df)\n",
    "JNorth_Adult_First_Site_2005_2_df = JNorth_Adult_First_Site_2005_month_df[JNorth_Adult_First_Site_2005_month_df['month']==2]\n",
    "JNorth_Adult_First_Site_2005_2_df.tail()"
   ]
  },
  {
   "cell_type": "code",
   "execution_count": 342,
   "id": "27970c15",
   "metadata": {},
   "outputs": [
    {
     "data": {
      "text/plain": [
       "(6, 6)"
      ]
     },
     "execution_count": 342,
     "metadata": {},
     "output_type": "execute_result"
    }
   ],
   "source": [
    "JNorth_Adult_First_Site_2005_2_df.shape"
   ]
  },
  {
   "cell_type": "code",
   "execution_count": 343,
   "id": "c2b5b887",
   "metadata": {},
   "outputs": [],
   "source": [
    "JNorth_Adult_First_Site_2005_2_df = pd.DataFrame(JNorth_Adult_First_Site_2005_2_df)\n",
    "JNorth_Adult_First_Site_2005_2_df.drop(['month'], axis=1, inplace=True)"
   ]
  },
  {
   "cell_type": "code",
   "execution_count": 344,
   "id": "c7b9db54",
   "metadata": {},
   "outputs": [],
   "source": [
    "# convert lat-long to floats and change address from ALL CAPS to regular capitalization\n",
    "JNorth_Adult_First_Site_2005_2_df['latitude'] = JNorth_Adult_First_Site_2005_2_df['latitude'].astype(float)\n",
    "JNorth_Adult_First_Site_2005_2_df['longitude'] = JNorth_Adult_First_Site_2005_2_df['longitude'].astype(float)\n",
    "# JNorth_Milkweed_Site_df['street_address'] = JNorth_Milkweed_Site_df['street_address'].str.title()"
   ]
  },
  {
   "cell_type": "code",
   "execution_count": 345,
   "id": "8cd49e48",
   "metadata": {},
   "outputs": [],
   "source": [
    "geojson = df_to_geojson(JNorth_Adult_First_Site_2005_2_df, cols)"
   ]
  },
  {
   "cell_type": "code",
   "execution_count": 346,
   "id": "fc85e820",
   "metadata": {},
   "outputs": [],
   "source": [
    "file = open(\"JNorth_Adult_First_Site_2005_2.geojson\", \"w\")\n",
    "json.dump(geojson, file, indent =1)\n",
    "file.close()"
   ]
  },
  {
   "cell_type": "markdown",
   "id": "fae9abab",
   "metadata": {},
   "source": [
    "# March"
   ]
  },
  {
   "cell_type": "code",
   "execution_count": 347,
   "id": "80cd9c13",
   "metadata": {},
   "outputs": [
    {
     "data": {
      "text/html": [
       "<div>\n",
       "<style scoped>\n",
       "    .dataframe tbody tr th:only-of-type {\n",
       "        vertical-align: middle;\n",
       "    }\n",
       "\n",
       "    .dataframe tbody tr th {\n",
       "        vertical-align: top;\n",
       "    }\n",
       "\n",
       "    .dataframe thead th {\n",
       "        text-align: right;\n",
       "    }\n",
       "</style>\n",
       "<table border=\"1\" class=\"dataframe\">\n",
       "  <thead>\n",
       "    <tr style=\"text-align: right;\">\n",
       "      <th></th>\n",
       "      <th>sighting_date</th>\n",
       "      <th>species</th>\n",
       "      <th>latitude</th>\n",
       "      <th>longitude</th>\n",
       "      <th>number</th>\n",
       "      <th>month</th>\n",
       "    </tr>\n",
       "  </thead>\n",
       "  <tbody>\n",
       "    <tr>\n",
       "      <th>7346</th>\n",
       "      <td>2005-03-31</td>\n",
       "      <td>Monarch Adult (FIRST sighted)</td>\n",
       "      <td>32.733</td>\n",
       "      <td>-96.451</td>\n",
       "      <td>1</td>\n",
       "      <td>3</td>\n",
       "    </tr>\n",
       "    <tr>\n",
       "      <th>7347</th>\n",
       "      <td>2005-03-31</td>\n",
       "      <td>Monarch Adult (FIRST sighted)</td>\n",
       "      <td>32.788</td>\n",
       "      <td>-96.800</td>\n",
       "      <td>1</td>\n",
       "      <td>3</td>\n",
       "    </tr>\n",
       "    <tr>\n",
       "      <th>7348</th>\n",
       "      <td>2005-03-31</td>\n",
       "      <td>Monarch Adult (FIRST sighted)</td>\n",
       "      <td>32.934</td>\n",
       "      <td>-94.957</td>\n",
       "      <td>1</td>\n",
       "      <td>3</td>\n",
       "    </tr>\n",
       "    <tr>\n",
       "      <th>7349</th>\n",
       "      <td>2005-03-31</td>\n",
       "      <td>Monarch Adult (FIRST sighted)</td>\n",
       "      <td>33.285</td>\n",
       "      <td>-91.020</td>\n",
       "      <td>1</td>\n",
       "      <td>3</td>\n",
       "    </tr>\n",
       "    <tr>\n",
       "      <th>7350</th>\n",
       "      <td>2005-03-31</td>\n",
       "      <td>Monarch Adult (FIRST sighted)</td>\n",
       "      <td>33.580</td>\n",
       "      <td>-91.792</td>\n",
       "      <td>1</td>\n",
       "      <td>3</td>\n",
       "    </tr>\n",
       "  </tbody>\n",
       "</table>\n",
       "</div>"
      ],
      "text/plain": [
       "     sighting_date                        species  latitude  longitude  \\\n",
       "7346    2005-03-31  Monarch Adult (FIRST sighted)    32.733    -96.451   \n",
       "7347    2005-03-31  Monarch Adult (FIRST sighted)    32.788    -96.800   \n",
       "7348    2005-03-31  Monarch Adult (FIRST sighted)    32.934    -94.957   \n",
       "7349    2005-03-31  Monarch Adult (FIRST sighted)    33.285    -91.020   \n",
       "7350    2005-03-31  Monarch Adult (FIRST sighted)    33.580    -91.792   \n",
       "\n",
       "      number  month  \n",
       "7346       1      3  \n",
       "7347       1      3  \n",
       "7348       1      3  \n",
       "7349       1      3  \n",
       "7350       1      3  "
      ]
     },
     "execution_count": 347,
     "metadata": {},
     "output_type": "execute_result"
    }
   ],
   "source": [
    "JNorth_Adult_First_Site_2005_month_df =pd.DataFrame(JNorth_Adult_First_Site_2005_df)\n",
    "JNorth_Adult_First_Site_2005_3_df = JNorth_Adult_First_Site_2005_month_df[JNorth_Adult_First_Site_2005_month_df['month']==3]\n",
    "JNorth_Adult_First_Site_2005_3_df.tail()"
   ]
  },
  {
   "cell_type": "code",
   "execution_count": 348,
   "id": "f59a1362",
   "metadata": {},
   "outputs": [
    {
     "data": {
      "text/plain": [
       "(77, 6)"
      ]
     },
     "execution_count": 348,
     "metadata": {},
     "output_type": "execute_result"
    }
   ],
   "source": [
    "JNorth_Adult_First_Site_2005_3_df.shape"
   ]
  },
  {
   "cell_type": "code",
   "execution_count": 349,
   "id": "bbda5b6a",
   "metadata": {},
   "outputs": [],
   "source": [
    "JNorth_Adult_First_Site_2005_3_df = pd.DataFrame(JNorth_Adult_First_Site_2005_3_df)\n",
    "JNorth_Adult_First_Site_2005_3_df.drop(['month'], axis=1, inplace=True)"
   ]
  },
  {
   "cell_type": "code",
   "execution_count": 350,
   "id": "512d795b",
   "metadata": {},
   "outputs": [],
   "source": [
    "# convert lat-long to floats and change address from ALL CAPS to regular capitalization\n",
    "JNorth_Adult_First_Site_2005_3_df['latitude'] = JNorth_Adult_First_Site_2005_3_df['latitude'].astype(float)\n",
    "JNorth_Adult_First_Site_2005_3_df['longitude'] = JNorth_Adult_First_Site_2005_3_df['longitude'].astype(float)\n",
    "# JNorth_Milkweed_Site_df['street_address'] = JNorth_Milkweed_Site_df['street_address'].str.title()"
   ]
  },
  {
   "cell_type": "code",
   "execution_count": 351,
   "id": "0aaa7c36",
   "metadata": {},
   "outputs": [],
   "source": [
    "geojson = df_to_geojson(JNorth_Adult_First_Site_2005_3_df, cols)"
   ]
  },
  {
   "cell_type": "code",
   "execution_count": 352,
   "id": "aac20231",
   "metadata": {},
   "outputs": [],
   "source": [
    "file = open(\"JNorth_Adult_First_Site_2005_3.geojson\", \"w\")\n",
    "json.dump(geojson, file, indent =1)\n",
    "file.close()"
   ]
  },
  {
   "cell_type": "markdown",
   "id": "787bcc6e",
   "metadata": {},
   "source": [
    "# April"
   ]
  },
  {
   "cell_type": "code",
   "execution_count": 353,
   "id": "daf0e414",
   "metadata": {},
   "outputs": [
    {
     "data": {
      "text/html": [
       "<div>\n",
       "<style scoped>\n",
       "    .dataframe tbody tr th:only-of-type {\n",
       "        vertical-align: middle;\n",
       "    }\n",
       "\n",
       "    .dataframe tbody tr th {\n",
       "        vertical-align: top;\n",
       "    }\n",
       "\n",
       "    .dataframe thead th {\n",
       "        text-align: right;\n",
       "    }\n",
       "</style>\n",
       "<table border=\"1\" class=\"dataframe\">\n",
       "  <thead>\n",
       "    <tr style=\"text-align: right;\">\n",
       "      <th></th>\n",
       "      <th>sighting_date</th>\n",
       "      <th>species</th>\n",
       "      <th>latitude</th>\n",
       "      <th>longitude</th>\n",
       "      <th>number</th>\n",
       "      <th>month</th>\n",
       "    </tr>\n",
       "  </thead>\n",
       "  <tbody>\n",
       "    <tr>\n",
       "      <th>7443</th>\n",
       "      <td>2005-04-28</td>\n",
       "      <td>Monarch Adult (FIRST sighted)</td>\n",
       "      <td>34.198</td>\n",
       "      <td>-79.827</td>\n",
       "      <td>1</td>\n",
       "      <td>4</td>\n",
       "    </tr>\n",
       "    <tr>\n",
       "      <th>7444</th>\n",
       "      <td>2005-04-28</td>\n",
       "      <td>Monarch Adult (FIRST sighted)</td>\n",
       "      <td>36.164</td>\n",
       "      <td>-86.774</td>\n",
       "      <td>1</td>\n",
       "      <td>4</td>\n",
       "    </tr>\n",
       "    <tr>\n",
       "      <th>7445</th>\n",
       "      <td>2005-04-28</td>\n",
       "      <td>Monarch Adult (FIRST sighted)</td>\n",
       "      <td>39.276</td>\n",
       "      <td>-75.531</td>\n",
       "      <td>1</td>\n",
       "      <td>4</td>\n",
       "    </tr>\n",
       "    <tr>\n",
       "      <th>7446</th>\n",
       "      <td>2005-04-28</td>\n",
       "      <td>Monarch Adult (FIRST sighted)</td>\n",
       "      <td>39.416</td>\n",
       "      <td>-95.778</td>\n",
       "      <td>1</td>\n",
       "      <td>4</td>\n",
       "    </tr>\n",
       "    <tr>\n",
       "      <th>7447</th>\n",
       "      <td>2005-04-28</td>\n",
       "      <td>Monarch Adult (FIRST sighted)</td>\n",
       "      <td>39.864</td>\n",
       "      <td>-86.380</td>\n",
       "      <td>1</td>\n",
       "      <td>4</td>\n",
       "    </tr>\n",
       "  </tbody>\n",
       "</table>\n",
       "</div>"
      ],
      "text/plain": [
       "     sighting_date                        species  latitude  longitude  \\\n",
       "7443    2005-04-28  Monarch Adult (FIRST sighted)    34.198    -79.827   \n",
       "7444    2005-04-28  Monarch Adult (FIRST sighted)    36.164    -86.774   \n",
       "7445    2005-04-28  Monarch Adult (FIRST sighted)    39.276    -75.531   \n",
       "7446    2005-04-28  Monarch Adult (FIRST sighted)    39.416    -95.778   \n",
       "7447    2005-04-28  Monarch Adult (FIRST sighted)    39.864    -86.380   \n",
       "\n",
       "      number  month  \n",
       "7443       1      4  \n",
       "7444       1      4  \n",
       "7445       1      4  \n",
       "7446       1      4  \n",
       "7447       1      4  "
      ]
     },
     "execution_count": 353,
     "metadata": {},
     "output_type": "execute_result"
    }
   ],
   "source": [
    "JNorth_Adult_First_Site_2005_month_df =pd.DataFrame(JNorth_Adult_First_Site_2005_df)\n",
    "JNorth_Adult_First_Site_2005_4_df = JNorth_Adult_First_Site_2005_month_df[JNorth_Adult_First_Site_2005_month_df['month']==4]\n",
    "JNorth_Adult_First_Site_2005_4_df.tail()"
   ]
  },
  {
   "cell_type": "code",
   "execution_count": 354,
   "id": "f1600f0b",
   "metadata": {},
   "outputs": [
    {
     "data": {
      "text/plain": [
       "(97, 6)"
      ]
     },
     "execution_count": 354,
     "metadata": {},
     "output_type": "execute_result"
    }
   ],
   "source": [
    "JNorth_Adult_First_Site_2005_4_df.shape"
   ]
  },
  {
   "cell_type": "code",
   "execution_count": 355,
   "id": "2f4f800f",
   "metadata": {},
   "outputs": [],
   "source": [
    "JNorth_Adult_First_Site_2005_4_df= pd.DataFrame(JNorth_Adult_First_Site_2005_4_df)\n",
    "JNorth_Adult_First_Site_2005_4_df.drop(['month'], axis=1, inplace=True)"
   ]
  },
  {
   "cell_type": "code",
   "execution_count": 356,
   "id": "60a78c48",
   "metadata": {},
   "outputs": [],
   "source": [
    "# convert lat-long to floats and change address from ALL CAPS to regular capitalization\n",
    "JNorth_Adult_First_Site_2005_4_df['latitude'] = JNorth_Adult_First_Site_2005_4_df['latitude'].astype(float)\n",
    "JNorth_Adult_First_Site_2005_4_df['longitude'] = JNorth_Adult_First_Site_2005_4_df['longitude'].astype(float)\n",
    "# JNorth_Milkweed_Site_df['street_address'] = JNorth_Milkweed_Site_df['street_address'].str.title()"
   ]
  },
  {
   "cell_type": "code",
   "execution_count": 357,
   "id": "a9e22556",
   "metadata": {},
   "outputs": [],
   "source": [
    "geojson = df_to_geojson(JNorth_Adult_First_Site_2005_4_df, cols)"
   ]
  },
  {
   "cell_type": "code",
   "execution_count": 358,
   "id": "e0a805fc",
   "metadata": {},
   "outputs": [],
   "source": [
    "file = open(\"JNorth_Adult_First_Site_2005_4.geojson\", \"w\")\n",
    "json.dump(geojson, file, indent =1)\n",
    "file.close()"
   ]
  },
  {
   "cell_type": "markdown",
   "id": "1b33d9b6",
   "metadata": {},
   "source": [
    "# May"
   ]
  },
  {
   "cell_type": "code",
   "execution_count": 359,
   "id": "e5fe21a9",
   "metadata": {},
   "outputs": [
    {
     "data": {
      "text/html": [
       "<div>\n",
       "<style scoped>\n",
       "    .dataframe tbody tr th:only-of-type {\n",
       "        vertical-align: middle;\n",
       "    }\n",
       "\n",
       "    .dataframe tbody tr th {\n",
       "        vertical-align: top;\n",
       "    }\n",
       "\n",
       "    .dataframe thead th {\n",
       "        text-align: right;\n",
       "    }\n",
       "</style>\n",
       "<table border=\"1\" class=\"dataframe\">\n",
       "  <thead>\n",
       "    <tr style=\"text-align: right;\">\n",
       "      <th></th>\n",
       "      <th>sighting_date</th>\n",
       "      <th>species</th>\n",
       "      <th>latitude</th>\n",
       "      <th>longitude</th>\n",
       "      <th>number</th>\n",
       "      <th>month</th>\n",
       "    </tr>\n",
       "  </thead>\n",
       "  <tbody>\n",
       "    <tr>\n",
       "      <th>7546</th>\n",
       "      <td>2005-05-31</td>\n",
       "      <td>Monarch Adult (FIRST sighted)</td>\n",
       "      <td>41.332</td>\n",
       "      <td>-85.021</td>\n",
       "      <td>1</td>\n",
       "      <td>5</td>\n",
       "    </tr>\n",
       "    <tr>\n",
       "      <th>7547</th>\n",
       "      <td>2005-05-31</td>\n",
       "      <td>Monarch Adult (FIRST sighted)</td>\n",
       "      <td>42.992</td>\n",
       "      <td>-85.058</td>\n",
       "      <td>1</td>\n",
       "      <td>5</td>\n",
       "    </tr>\n",
       "    <tr>\n",
       "      <th>7548</th>\n",
       "      <td>2005-05-31</td>\n",
       "      <td>Monarch Adult (FIRST sighted)</td>\n",
       "      <td>44.966</td>\n",
       "      <td>-93.084</td>\n",
       "      <td>1</td>\n",
       "      <td>5</td>\n",
       "    </tr>\n",
       "    <tr>\n",
       "      <th>7549</th>\n",
       "      <td>2005-05-31</td>\n",
       "      <td>Monarch Adult (FIRST sighted)</td>\n",
       "      <td>46.160</td>\n",
       "      <td>-79.180</td>\n",
       "      <td>1</td>\n",
       "      <td>5</td>\n",
       "    </tr>\n",
       "    <tr>\n",
       "      <th>7550</th>\n",
       "      <td>2005-05-31</td>\n",
       "      <td>Monarch Adult (FIRST sighted)</td>\n",
       "      <td>46.283</td>\n",
       "      <td>-96.098</td>\n",
       "      <td>1</td>\n",
       "      <td>5</td>\n",
       "    </tr>\n",
       "  </tbody>\n",
       "</table>\n",
       "</div>"
      ],
      "text/plain": [
       "     sighting_date                        species  latitude  longitude  \\\n",
       "7546    2005-05-31  Monarch Adult (FIRST sighted)    41.332    -85.021   \n",
       "7547    2005-05-31  Monarch Adult (FIRST sighted)    42.992    -85.058   \n",
       "7548    2005-05-31  Monarch Adult (FIRST sighted)    44.966    -93.084   \n",
       "7549    2005-05-31  Monarch Adult (FIRST sighted)    46.160    -79.180   \n",
       "7550    2005-05-31  Monarch Adult (FIRST sighted)    46.283    -96.098   \n",
       "\n",
       "      number  month  \n",
       "7546       1      5  \n",
       "7547       1      5  \n",
       "7548       1      5  \n",
       "7549       1      5  \n",
       "7550       1      5  "
      ]
     },
     "execution_count": 359,
     "metadata": {},
     "output_type": "execute_result"
    }
   ],
   "source": [
    "JNorth_Adult_First_Site_2005_month_df =pd.DataFrame(JNorth_Adult_First_Site_2005_df)\n",
    "JNorth_Adult_First_Site_2005_5_df = JNorth_Adult_First_Site_2005_month_df[JNorth_Adult_First_Site_2005_month_df['month']==5]\n",
    "JNorth_Adult_First_Site_2005_5_df.tail()"
   ]
  },
  {
   "cell_type": "code",
   "execution_count": 360,
   "id": "5fa880cc",
   "metadata": {},
   "outputs": [
    {
     "data": {
      "text/plain": [
       "(103, 6)"
      ]
     },
     "execution_count": 360,
     "metadata": {},
     "output_type": "execute_result"
    }
   ],
   "source": [
    "JNorth_Adult_First_Site_2005_5_df.shape"
   ]
  },
  {
   "cell_type": "code",
   "execution_count": 361,
   "id": "cd71d0df",
   "metadata": {},
   "outputs": [],
   "source": [
    "JNorth_Adult_First_Site_2005_5_df = pd.DataFrame(JNorth_Adult_First_Site_2005_5_df)\n",
    "JNorth_Adult_First_Site_2005_5_df.drop(['month'], axis=1, inplace=True)"
   ]
  },
  {
   "cell_type": "code",
   "execution_count": 362,
   "id": "ceb51d7e",
   "metadata": {},
   "outputs": [],
   "source": [
    "# convert lat-long to floats and change address from ALL CAPS to regular capitalization\n",
    "JNorth_Adult_First_Site_2005_5_df['latitude'] = JNorth_Adult_First_Site_2005_5_df['latitude'].astype(float)\n",
    "JNorth_Adult_First_Site_2005_5_df['longitude'] = JNorth_Adult_First_Site_2005_5_df['longitude'].astype(float)\n",
    "# JNorth_Milkweed_Site_df['street_address'] = JNorth_Milkweed_Site_df['street_address'].str.title()"
   ]
  },
  {
   "cell_type": "code",
   "execution_count": 363,
   "id": "a9c45134",
   "metadata": {},
   "outputs": [],
   "source": [
    "geojson = df_to_geojson(JNorth_Adult_First_Site_2005_5_df, cols)"
   ]
  },
  {
   "cell_type": "code",
   "execution_count": 364,
   "id": "a126786f",
   "metadata": {},
   "outputs": [],
   "source": [
    "file = open(\"JNorth_Adult_First_Site_2005_5.geojson\", \"w\")\n",
    "json.dump(geojson, file, indent =1)\n",
    "file.close()"
   ]
  },
  {
   "cell_type": "markdown",
   "id": "21608e7a",
   "metadata": {},
   "source": [
    "# June"
   ]
  },
  {
   "cell_type": "code",
   "execution_count": 365,
   "id": "c9432557",
   "metadata": {},
   "outputs": [
    {
     "data": {
      "text/html": [
       "<div>\n",
       "<style scoped>\n",
       "    .dataframe tbody tr th:only-of-type {\n",
       "        vertical-align: middle;\n",
       "    }\n",
       "\n",
       "    .dataframe tbody tr th {\n",
       "        vertical-align: top;\n",
       "    }\n",
       "\n",
       "    .dataframe thead th {\n",
       "        text-align: right;\n",
       "    }\n",
       "</style>\n",
       "<table border=\"1\" class=\"dataframe\">\n",
       "  <thead>\n",
       "    <tr style=\"text-align: right;\">\n",
       "      <th></th>\n",
       "      <th>sighting_date</th>\n",
       "      <th>species</th>\n",
       "      <th>latitude</th>\n",
       "      <th>longitude</th>\n",
       "      <th>number</th>\n",
       "      <th>month</th>\n",
       "    </tr>\n",
       "  </thead>\n",
       "  <tbody>\n",
       "    <tr>\n",
       "      <th>7724</th>\n",
       "      <td>2005-06-27</td>\n",
       "      <td>Monarch Adult (FIRST sighted)</td>\n",
       "      <td>53.380</td>\n",
       "      <td>-113.380</td>\n",
       "      <td>1</td>\n",
       "      <td>6</td>\n",
       "    </tr>\n",
       "    <tr>\n",
       "      <th>7725</th>\n",
       "      <td>2005-06-28</td>\n",
       "      <td>Monarch Adult (FIRST sighted)</td>\n",
       "      <td>41.233</td>\n",
       "      <td>-77.501</td>\n",
       "      <td>1</td>\n",
       "      <td>6</td>\n",
       "    </tr>\n",
       "    <tr>\n",
       "      <th>7726</th>\n",
       "      <td>2005-06-28</td>\n",
       "      <td>Monarch Adult (FIRST sighted)</td>\n",
       "      <td>45.030</td>\n",
       "      <td>-78.310</td>\n",
       "      <td>2</td>\n",
       "      <td>6</td>\n",
       "    </tr>\n",
       "    <tr>\n",
       "      <th>7727</th>\n",
       "      <td>2005-06-29</td>\n",
       "      <td>Monarch Adult (FIRST sighted)</td>\n",
       "      <td>42.909</td>\n",
       "      <td>-78.750</td>\n",
       "      <td>1</td>\n",
       "      <td>6</td>\n",
       "    </tr>\n",
       "    <tr>\n",
       "      <th>7728</th>\n",
       "      <td>2005-06-30</td>\n",
       "      <td>Monarch Adult (FIRST sighted)</td>\n",
       "      <td>43.079</td>\n",
       "      <td>-89.377</td>\n",
       "      <td>1</td>\n",
       "      <td>6</td>\n",
       "    </tr>\n",
       "  </tbody>\n",
       "</table>\n",
       "</div>"
      ],
      "text/plain": [
       "     sighting_date                        species  latitude  longitude  \\\n",
       "7724    2005-06-27  Monarch Adult (FIRST sighted)    53.380   -113.380   \n",
       "7725    2005-06-28  Monarch Adult (FIRST sighted)    41.233    -77.501   \n",
       "7726    2005-06-28  Monarch Adult (FIRST sighted)    45.030    -78.310   \n",
       "7727    2005-06-29  Monarch Adult (FIRST sighted)    42.909    -78.750   \n",
       "7728    2005-06-30  Monarch Adult (FIRST sighted)    43.079    -89.377   \n",
       "\n",
       "      number  month  \n",
       "7724       1      6  \n",
       "7725       1      6  \n",
       "7726       2      6  \n",
       "7727       1      6  \n",
       "7728       1      6  "
      ]
     },
     "execution_count": 365,
     "metadata": {},
     "output_type": "execute_result"
    }
   ],
   "source": [
    "JNorth_Adult_First_Site_2005_month_df =pd.DataFrame(JNorth_Adult_First_Site_2005_df)\n",
    "JNorth_Adult_First_Site_2005_6_df = JNorth_Adult_First_Site_2005_month_df[JNorth_Adult_First_Site_2005_month_df['month']==6]\n",
    "JNorth_Adult_First_Site_2005_6_df.tail()"
   ]
  },
  {
   "cell_type": "code",
   "execution_count": 366,
   "id": "b1bd8bf7",
   "metadata": {},
   "outputs": [
    {
     "data": {
      "text/plain": [
       "(178, 6)"
      ]
     },
     "execution_count": 366,
     "metadata": {},
     "output_type": "execute_result"
    }
   ],
   "source": [
    "JNorth_Adult_First_Site_2005_6_df.shape"
   ]
  },
  {
   "cell_type": "code",
   "execution_count": 367,
   "id": "2f2ac9bc",
   "metadata": {},
   "outputs": [],
   "source": [
    "JNorth_Adult_First_Site_2005_6_df = pd.DataFrame(JNorth_Adult_First_Site_2005_6_df)\n",
    "JNorth_Adult_First_Site_2005_6_df.drop(['month'], axis=1, inplace=True)"
   ]
  },
  {
   "cell_type": "code",
   "execution_count": 368,
   "id": "a91809a2",
   "metadata": {},
   "outputs": [],
   "source": [
    "# convert lat-long to floats and change address from ALL CAPS to regular capitalization\n",
    "JNorth_Adult_First_Site_2005_6_df['latitude'] = JNorth_Adult_First_Site_2005_6_df['latitude'].astype(float)\n",
    "JNorth_Adult_First_Site_2005_6_df['longitude'] = JNorth_Adult_First_Site_2005_6_df['longitude'].astype(float)\n",
    "# JNorth_Milkweed_Site_df['street_address'] = JNorth_Milkweed_Site_df['street_address'].str.title()"
   ]
  },
  {
   "cell_type": "code",
   "execution_count": 369,
   "id": "03d8de83",
   "metadata": {},
   "outputs": [],
   "source": [
    "geojson = df_to_geojson(JNorth_Adult_First_Site_2005_6_df, cols)"
   ]
  },
  {
   "cell_type": "code",
   "execution_count": 370,
   "id": "a24a9426",
   "metadata": {},
   "outputs": [],
   "source": [
    "file = open(\"JNorth_Adult_First_Site_2005_6.geojson\", \"w\")\n",
    "json.dump(geojson, file, indent =1)\n",
    "file.close()"
   ]
  },
  {
   "cell_type": "markdown",
   "id": "6f0a7a5a",
   "metadata": {},
   "source": [
    "# July"
   ]
  },
  {
   "cell_type": "code",
   "execution_count": 371,
   "id": "d7920b96",
   "metadata": {},
   "outputs": [
    {
     "data": {
      "text/html": [
       "<div>\n",
       "<style scoped>\n",
       "    .dataframe tbody tr th:only-of-type {\n",
       "        vertical-align: middle;\n",
       "    }\n",
       "\n",
       "    .dataframe tbody tr th {\n",
       "        vertical-align: top;\n",
       "    }\n",
       "\n",
       "    .dataframe thead th {\n",
       "        text-align: right;\n",
       "    }\n",
       "</style>\n",
       "<table border=\"1\" class=\"dataframe\">\n",
       "  <thead>\n",
       "    <tr style=\"text-align: right;\">\n",
       "      <th></th>\n",
       "      <th>sighting_date</th>\n",
       "      <th>species</th>\n",
       "      <th>latitude</th>\n",
       "      <th>longitude</th>\n",
       "      <th>number</th>\n",
       "      <th>month</th>\n",
       "    </tr>\n",
       "  </thead>\n",
       "  <tbody>\n",
       "    <tr>\n",
       "      <th>7760</th>\n",
       "      <td>2005-07-27</td>\n",
       "      <td>Monarch Adult (FIRST sighted)</td>\n",
       "      <td>44.338</td>\n",
       "      <td>-75.920</td>\n",
       "      <td>1</td>\n",
       "      <td>7</td>\n",
       "    </tr>\n",
       "    <tr>\n",
       "      <th>7761</th>\n",
       "      <td>2005-07-28</td>\n",
       "      <td>Monarch Adult (FIRST sighted)</td>\n",
       "      <td>35.137</td>\n",
       "      <td>-77.006</td>\n",
       "      <td>1</td>\n",
       "      <td>7</td>\n",
       "    </tr>\n",
       "    <tr>\n",
       "      <th>7762</th>\n",
       "      <td>2005-07-30</td>\n",
       "      <td>Monarch Adult (FIRST sighted)</td>\n",
       "      <td>37.954</td>\n",
       "      <td>-121.439</td>\n",
       "      <td>1</td>\n",
       "      <td>7</td>\n",
       "    </tr>\n",
       "    <tr>\n",
       "      <th>7763</th>\n",
       "      <td>2005-07-31</td>\n",
       "      <td>Monarch Adult (FIRST sighted)</td>\n",
       "      <td>34.860</td>\n",
       "      <td>-92.400</td>\n",
       "      <td>1</td>\n",
       "      <td>7</td>\n",
       "    </tr>\n",
       "    <tr>\n",
       "      <th>7764</th>\n",
       "      <td>2005-07-31</td>\n",
       "      <td>Monarch Adult (FIRST sighted)</td>\n",
       "      <td>37.538</td>\n",
       "      <td>-77.436</td>\n",
       "      <td>1</td>\n",
       "      <td>7</td>\n",
       "    </tr>\n",
       "  </tbody>\n",
       "</table>\n",
       "</div>"
      ],
      "text/plain": [
       "     sighting_date                        species  latitude  longitude  \\\n",
       "7760    2005-07-27  Monarch Adult (FIRST sighted)    44.338    -75.920   \n",
       "7761    2005-07-28  Monarch Adult (FIRST sighted)    35.137    -77.006   \n",
       "7762    2005-07-30  Monarch Adult (FIRST sighted)    37.954   -121.439   \n",
       "7763    2005-07-31  Monarch Adult (FIRST sighted)    34.860    -92.400   \n",
       "7764    2005-07-31  Monarch Adult (FIRST sighted)    37.538    -77.436   \n",
       "\n",
       "      number  month  \n",
       "7760       1      7  \n",
       "7761       1      7  \n",
       "7762       1      7  \n",
       "7763       1      7  \n",
       "7764       1      7  "
      ]
     },
     "execution_count": 371,
     "metadata": {},
     "output_type": "execute_result"
    }
   ],
   "source": [
    "JNorth_Adult_First_Site_2005_month_df =pd.DataFrame(JNorth_Adult_First_Site_2005_df)\n",
    "JNorth_Adult_First_Site_2005_7_df = JNorth_Adult_First_Site_2005_month_df[JNorth_Adult_First_Site_2005_month_df['month']==7]\n",
    "JNorth_Adult_First_Site_2005_7_df.tail()"
   ]
  },
  {
   "cell_type": "code",
   "execution_count": 372,
   "id": "5924e525",
   "metadata": {},
   "outputs": [
    {
     "data": {
      "text/plain": [
       "(36, 6)"
      ]
     },
     "execution_count": 372,
     "metadata": {},
     "output_type": "execute_result"
    }
   ],
   "source": [
    "JNorth_Adult_First_Site_2005_7_df.shape"
   ]
  },
  {
   "cell_type": "code",
   "execution_count": 373,
   "id": "0a39c6f9",
   "metadata": {},
   "outputs": [],
   "source": [
    "JNorth_Adult_First_Site_2005_7_df = pd.DataFrame(JNorth_Adult_First_Site_2005_7_df)\n",
    "JNorth_Adult_First_Site_2005_7_df.drop(['month'], axis=1, inplace=True)"
   ]
  },
  {
   "cell_type": "code",
   "execution_count": 374,
   "id": "4366b19a",
   "metadata": {},
   "outputs": [],
   "source": [
    "# convert lat-long to floats and change address from ALL CAPS to regular capitalization\n",
    "JNorth_Adult_First_Site_2005_7_df['latitude'] = JNorth_Adult_First_Site_2005_7_df['latitude'].astype(float)\n",
    "JNorth_Adult_First_Site_2005_7_df['longitude'] = JNorth_Adult_First_Site_2005_7_df['longitude'].astype(float)\n",
    "# JNorth_Milkweed_Site_df['street_address'] = JNorth_Milkweed_Site_df['street_address'].str.title()"
   ]
  },
  {
   "cell_type": "code",
   "execution_count": 375,
   "id": "bfd9a473",
   "metadata": {},
   "outputs": [],
   "source": [
    "geojson = df_to_geojson(JNorth_Adult_First_Site_2005_7_df, cols)"
   ]
  },
  {
   "cell_type": "code",
   "execution_count": 376,
   "id": "d6fd2df8",
   "metadata": {},
   "outputs": [],
   "source": [
    "file = open(\"JNorth_Adult_First_Site_2005_7.geojson\", \"w\")\n",
    "json.dump(geojson, file, indent =1)\n",
    "file.close()"
   ]
  },
  {
   "cell_type": "markdown",
   "id": "334b2c32",
   "metadata": {},
   "source": [
    "# August"
   ]
  },
  {
   "cell_type": "code",
   "execution_count": 377,
   "id": "4e9bd738",
   "metadata": {},
   "outputs": [
    {
     "data": {
      "text/html": [
       "<div>\n",
       "<style scoped>\n",
       "    .dataframe tbody tr th:only-of-type {\n",
       "        vertical-align: middle;\n",
       "    }\n",
       "\n",
       "    .dataframe tbody tr th {\n",
       "        vertical-align: top;\n",
       "    }\n",
       "\n",
       "    .dataframe thead th {\n",
       "        text-align: right;\n",
       "    }\n",
       "</style>\n",
       "<table border=\"1\" class=\"dataframe\">\n",
       "  <thead>\n",
       "    <tr style=\"text-align: right;\">\n",
       "      <th></th>\n",
       "      <th>sighting_date</th>\n",
       "      <th>species</th>\n",
       "      <th>latitude</th>\n",
       "      <th>longitude</th>\n",
       "      <th>number</th>\n",
       "      <th>month</th>\n",
       "    </tr>\n",
       "  </thead>\n",
       "  <tbody>\n",
       "    <tr>\n",
       "      <th>7887</th>\n",
       "      <td>2005-08-31</td>\n",
       "      <td>Monarch Adult (FIRST sighted)</td>\n",
       "      <td>41.555</td>\n",
       "      <td>-93.253</td>\n",
       "      <td>1</td>\n",
       "      <td>8</td>\n",
       "    </tr>\n",
       "    <tr>\n",
       "      <th>7888</th>\n",
       "      <td>2005-08-31</td>\n",
       "      <td>Monarch Adult (FIRST sighted)</td>\n",
       "      <td>41.606</td>\n",
       "      <td>-87.496</td>\n",
       "      <td>1</td>\n",
       "      <td>8</td>\n",
       "    </tr>\n",
       "    <tr>\n",
       "      <th>7889</th>\n",
       "      <td>2005-08-31</td>\n",
       "      <td>Monarch Adult (FIRST sighted)</td>\n",
       "      <td>43.060</td>\n",
       "      <td>-94.236</td>\n",
       "      <td>1</td>\n",
       "      <td>8</td>\n",
       "    </tr>\n",
       "    <tr>\n",
       "      <th>7890</th>\n",
       "      <td>2005-08-31</td>\n",
       "      <td>Monarch Adult (FIRST sighted)</td>\n",
       "      <td>43.363</td>\n",
       "      <td>-92.168</td>\n",
       "      <td>1</td>\n",
       "      <td>8</td>\n",
       "    </tr>\n",
       "    <tr>\n",
       "      <th>7891</th>\n",
       "      <td>2005-08-31</td>\n",
       "      <td>Monarch Adult (FIRST sighted)</td>\n",
       "      <td>43.463</td>\n",
       "      <td>-83.710</td>\n",
       "      <td>1</td>\n",
       "      <td>8</td>\n",
       "    </tr>\n",
       "  </tbody>\n",
       "</table>\n",
       "</div>"
      ],
      "text/plain": [
       "     sighting_date                        species  latitude  longitude  \\\n",
       "7887    2005-08-31  Monarch Adult (FIRST sighted)    41.555    -93.253   \n",
       "7888    2005-08-31  Monarch Adult (FIRST sighted)    41.606    -87.496   \n",
       "7889    2005-08-31  Monarch Adult (FIRST sighted)    43.060    -94.236   \n",
       "7890    2005-08-31  Monarch Adult (FIRST sighted)    43.363    -92.168   \n",
       "7891    2005-08-31  Monarch Adult (FIRST sighted)    43.463    -83.710   \n",
       "\n",
       "      number  month  \n",
       "7887       1      8  \n",
       "7888       1      8  \n",
       "7889       1      8  \n",
       "7890       1      8  \n",
       "7891       1      8  "
      ]
     },
     "execution_count": 377,
     "metadata": {},
     "output_type": "execute_result"
    }
   ],
   "source": [
    "JNorth_Adult_First_Site_2005_month_df =pd.DataFrame(JNorth_Adult_First_Site_2005_df)\n",
    "JNorth_Adult_First_Site_2005_8_df = JNorth_Adult_First_Site_2005_month_df[JNorth_Adult_First_Site_2005_month_df['month']==8]\n",
    "JNorth_Adult_First_Site_2005_8_df.tail()"
   ]
  },
  {
   "cell_type": "code",
   "execution_count": 378,
   "id": "538be366",
   "metadata": {},
   "outputs": [
    {
     "data": {
      "text/plain": [
       "(127, 6)"
      ]
     },
     "execution_count": 378,
     "metadata": {},
     "output_type": "execute_result"
    }
   ],
   "source": [
    "JNorth_Adult_First_Site_2005_8_df.shape"
   ]
  },
  {
   "cell_type": "code",
   "execution_count": 379,
   "id": "4ed62f67",
   "metadata": {},
   "outputs": [],
   "source": [
    "JNorth_Adult_First_Site_2005_8_df = pd.DataFrame(JNorth_Adult_First_Site_2005_8_df)\n",
    "JNorth_Adult_First_Site_2005_8_df.drop(['month'], axis=1, inplace=True)"
   ]
  },
  {
   "cell_type": "code",
   "execution_count": 380,
   "id": "9efc6a19",
   "metadata": {},
   "outputs": [],
   "source": [
    "# convert lat-long to floats and change address from ALL CAPS to regular capitalization\n",
    "JNorth_Adult_First_Site_2005_8_df['latitude'] = JNorth_Adult_First_Site_2005_8_df['latitude'].astype(float)\n",
    "JNorth_Adult_First_Site_2005_8_df['longitude'] = JNorth_Adult_First_Site_2005_8_df['longitude'].astype(float)\n",
    "# JNorth_Milkweed_Site_df['street_address'] = JNorth_Milkweed_Site_df['street_address'].str.title()"
   ]
  },
  {
   "cell_type": "code",
   "execution_count": 381,
   "id": "49ec38e2",
   "metadata": {},
   "outputs": [],
   "source": [
    "geojson = df_to_geojson(JNorth_Adult_First_Site_2005_8_df, cols)"
   ]
  },
  {
   "cell_type": "code",
   "execution_count": 382,
   "id": "debcba01",
   "metadata": {},
   "outputs": [],
   "source": [
    "file = open(\"JNorth_Adult_First_Site_2005_8.geojson\", \"w\")\n",
    "json.dump(geojson, file, indent =1)\n",
    "file.close()"
   ]
  },
  {
   "cell_type": "markdown",
   "id": "1e000700",
   "metadata": {},
   "source": [
    "# September"
   ]
  },
  {
   "cell_type": "code",
   "execution_count": 383,
   "id": "5c4d5091",
   "metadata": {},
   "outputs": [
    {
     "data": {
      "text/html": [
       "<div>\n",
       "<style scoped>\n",
       "    .dataframe tbody tr th:only-of-type {\n",
       "        vertical-align: middle;\n",
       "    }\n",
       "\n",
       "    .dataframe tbody tr th {\n",
       "        vertical-align: top;\n",
       "    }\n",
       "\n",
       "    .dataframe thead th {\n",
       "        text-align: right;\n",
       "    }\n",
       "</style>\n",
       "<table border=\"1\" class=\"dataframe\">\n",
       "  <thead>\n",
       "    <tr style=\"text-align: right;\">\n",
       "      <th></th>\n",
       "      <th>sighting_date</th>\n",
       "      <th>species</th>\n",
       "      <th>latitude</th>\n",
       "      <th>longitude</th>\n",
       "      <th>number</th>\n",
       "      <th>month</th>\n",
       "    </tr>\n",
       "  </thead>\n",
       "  <tbody>\n",
       "    <tr>\n",
       "      <th>8341</th>\n",
       "      <td>2005-09-30</td>\n",
       "      <td>Monarch Adult (FIRST sighted)</td>\n",
       "      <td>40.125</td>\n",
       "      <td>-75.545</td>\n",
       "      <td>1</td>\n",
       "      <td>9</td>\n",
       "    </tr>\n",
       "    <tr>\n",
       "      <th>8342</th>\n",
       "      <td>2005-09-30</td>\n",
       "      <td>Monarch Adult (FIRST sighted)</td>\n",
       "      <td>41.756</td>\n",
       "      <td>-72.764</td>\n",
       "      <td>1</td>\n",
       "      <td>9</td>\n",
       "    </tr>\n",
       "    <tr>\n",
       "      <th>8343</th>\n",
       "      <td>2005-09-30</td>\n",
       "      <td>Monarch Adult (FIRST sighted)</td>\n",
       "      <td>41.762</td>\n",
       "      <td>-88.659</td>\n",
       "      <td>2</td>\n",
       "      <td>9</td>\n",
       "    </tr>\n",
       "    <tr>\n",
       "      <th>8344</th>\n",
       "      <td>2005-09-30</td>\n",
       "      <td>Monarch Adult (FIRST sighted)</td>\n",
       "      <td>44.591</td>\n",
       "      <td>-69.343</td>\n",
       "      <td>1</td>\n",
       "      <td>9</td>\n",
       "    </tr>\n",
       "    <tr>\n",
       "      <th>8345</th>\n",
       "      <td>2005-09-30</td>\n",
       "      <td>Monarch Adult (FIRST sighted)</td>\n",
       "      <td>45.186</td>\n",
       "      <td>-93.581</td>\n",
       "      <td>1</td>\n",
       "      <td>9</td>\n",
       "    </tr>\n",
       "  </tbody>\n",
       "</table>\n",
       "</div>"
      ],
      "text/plain": [
       "     sighting_date                        species  latitude  longitude  \\\n",
       "8341    2005-09-30  Monarch Adult (FIRST sighted)    40.125    -75.545   \n",
       "8342    2005-09-30  Monarch Adult (FIRST sighted)    41.756    -72.764   \n",
       "8343    2005-09-30  Monarch Adult (FIRST sighted)    41.762    -88.659   \n",
       "8344    2005-09-30  Monarch Adult (FIRST sighted)    44.591    -69.343   \n",
       "8345    2005-09-30  Monarch Adult (FIRST sighted)    45.186    -93.581   \n",
       "\n",
       "      number  month  \n",
       "8341       1      9  \n",
       "8342       1      9  \n",
       "8343       2      9  \n",
       "8344       1      9  \n",
       "8345       1      9  "
      ]
     },
     "execution_count": 383,
     "metadata": {},
     "output_type": "execute_result"
    }
   ],
   "source": [
    "JNorth_Adult_First_Site_2005_month_df =pd.DataFrame(JNorth_Adult_First_Site_2005_df)\n",
    "JNorth_Adult_First_Site_2005_9_df = JNorth_Adult_First_Site_2005_month_df[JNorth_Adult_First_Site_2005_month_df['month']==9]\n",
    "JNorth_Adult_First_Site_2005_9_df.tail()"
   ]
  },
  {
   "cell_type": "code",
   "execution_count": 384,
   "id": "969c475a",
   "metadata": {},
   "outputs": [
    {
     "data": {
      "text/plain": [
       "(454, 6)"
      ]
     },
     "execution_count": 384,
     "metadata": {},
     "output_type": "execute_result"
    }
   ],
   "source": [
    "JNorth_Adult_First_Site_2005_9_df.shape"
   ]
  },
  {
   "cell_type": "code",
   "execution_count": 385,
   "id": "37c1983d",
   "metadata": {},
   "outputs": [],
   "source": [
    "JNorth_Adult_First_Site_2005_9_df = pd.DataFrame(JNorth_Adult_First_Site_2005_9_df)\n",
    "JNorth_Adult_First_Site_2005_9_df.drop(['month'], axis=1, inplace=True)"
   ]
  },
  {
   "cell_type": "code",
   "execution_count": 386,
   "id": "bb7ca10e",
   "metadata": {},
   "outputs": [],
   "source": [
    "# convert lat-long to floats and change address from ALL CAPS to regular capitalization\n",
    "JNorth_Adult_First_Site_2005_9_df['latitude'] = JNorth_Adult_First_Site_2005_9_df['latitude'].astype(float)\n",
    "JNorth_Adult_First_Site_2005_9_df['longitude'] = JNorth_Adult_First_Site_2005_9_df['longitude'].astype(float)\n",
    "# JNorth_Milkweed_Site_df['street_address'] = JNorth_Milkweed_Site_df['street_address'].str.title()"
   ]
  },
  {
   "cell_type": "code",
   "execution_count": 387,
   "id": "08f724f1",
   "metadata": {},
   "outputs": [],
   "source": [
    "geojson = df_to_geojson(JNorth_Adult_First_Site_2005_9_df, cols)"
   ]
  },
  {
   "cell_type": "code",
   "execution_count": 388,
   "id": "ef197820",
   "metadata": {},
   "outputs": [],
   "source": [
    "file = open(\"JNorth_Adult_First_Site_2005_9.geojson\", \"w\")\n",
    "json.dump(geojson, file, indent =1)\n",
    "file.close()"
   ]
  },
  {
   "cell_type": "markdown",
   "id": "4f5b7c4f",
   "metadata": {},
   "source": [
    "# October"
   ]
  },
  {
   "cell_type": "code",
   "execution_count": 389,
   "id": "1c2fa71b",
   "metadata": {},
   "outputs": [
    {
     "data": {
      "text/html": [
       "<div>\n",
       "<style scoped>\n",
       "    .dataframe tbody tr th:only-of-type {\n",
       "        vertical-align: middle;\n",
       "    }\n",
       "\n",
       "    .dataframe tbody tr th {\n",
       "        vertical-align: top;\n",
       "    }\n",
       "\n",
       "    .dataframe thead th {\n",
       "        text-align: right;\n",
       "    }\n",
       "</style>\n",
       "<table border=\"1\" class=\"dataframe\">\n",
       "  <thead>\n",
       "    <tr style=\"text-align: right;\">\n",
       "      <th></th>\n",
       "      <th>sighting_date</th>\n",
       "      <th>species</th>\n",
       "      <th>latitude</th>\n",
       "      <th>longitude</th>\n",
       "      <th>number</th>\n",
       "      <th>month</th>\n",
       "    </tr>\n",
       "  </thead>\n",
       "  <tbody>\n",
       "    <tr>\n",
       "      <th>8690</th>\n",
       "      <td>2005-10-30</td>\n",
       "      <td>Monarch Adult (FIRST sighted)</td>\n",
       "      <td>45.035</td>\n",
       "      <td>-73.146</td>\n",
       "      <td>1</td>\n",
       "      <td>10</td>\n",
       "    </tr>\n",
       "    <tr>\n",
       "      <th>8691</th>\n",
       "      <td>2005-10-31</td>\n",
       "      <td>Monarch Adult (FIRST sighted)</td>\n",
       "      <td>25.170</td>\n",
       "      <td>-76.230</td>\n",
       "      <td>1</td>\n",
       "      <td>10</td>\n",
       "    </tr>\n",
       "    <tr>\n",
       "      <th>8692</th>\n",
       "      <td>2005-10-31</td>\n",
       "      <td>Monarch Adult (FIRST sighted)</td>\n",
       "      <td>27.090</td>\n",
       "      <td>-80.532</td>\n",
       "      <td>1</td>\n",
       "      <td>10</td>\n",
       "    </tr>\n",
       "    <tr>\n",
       "      <th>8693</th>\n",
       "      <td>2005-10-31</td>\n",
       "      <td>Monarch Adult (FIRST sighted)</td>\n",
       "      <td>33.794</td>\n",
       "      <td>-83.362</td>\n",
       "      <td>1</td>\n",
       "      <td>10</td>\n",
       "    </tr>\n",
       "    <tr>\n",
       "      <th>8694</th>\n",
       "      <td>2005-10-31</td>\n",
       "      <td>Monarch Adult (FIRST sighted)</td>\n",
       "      <td>39.068</td>\n",
       "      <td>-78.195</td>\n",
       "      <td>1</td>\n",
       "      <td>10</td>\n",
       "    </tr>\n",
       "  </tbody>\n",
       "</table>\n",
       "</div>"
      ],
      "text/plain": [
       "     sighting_date                        species  latitude  longitude  \\\n",
       "8690    2005-10-30  Monarch Adult (FIRST sighted)    45.035    -73.146   \n",
       "8691    2005-10-31  Monarch Adult (FIRST sighted)    25.170    -76.230   \n",
       "8692    2005-10-31  Monarch Adult (FIRST sighted)    27.090    -80.532   \n",
       "8693    2005-10-31  Monarch Adult (FIRST sighted)    33.794    -83.362   \n",
       "8694    2005-10-31  Monarch Adult (FIRST sighted)    39.068    -78.195   \n",
       "\n",
       "      number  month  \n",
       "8690       1     10  \n",
       "8691       1     10  \n",
       "8692       1     10  \n",
       "8693       1     10  \n",
       "8694       1     10  "
      ]
     },
     "execution_count": 389,
     "metadata": {},
     "output_type": "execute_result"
    }
   ],
   "source": [
    "JNorth_Adult_First_Site_2005_month_df =pd.DataFrame(JNorth_Adult_First_Site_2005_df)\n",
    "JNorth_Adult_First_Site_2005_10_df = JNorth_Adult_First_Site_2005_month_df[JNorth_Adult_First_Site_2005_month_df['month']==10]\n",
    "JNorth_Adult_First_Site_2005_10_df.tail()"
   ]
  },
  {
   "cell_type": "code",
   "execution_count": 390,
   "id": "2d002b31",
   "metadata": {},
   "outputs": [
    {
     "data": {
      "text/plain": [
       "(349, 6)"
      ]
     },
     "execution_count": 390,
     "metadata": {},
     "output_type": "execute_result"
    }
   ],
   "source": [
    "JNorth_Adult_First_Site_2005_10_df.shape"
   ]
  },
  {
   "cell_type": "code",
   "execution_count": 391,
   "id": "7568cee5",
   "metadata": {},
   "outputs": [],
   "source": [
    "JNorth_Adult_First_Site_2005_10_df = pd.DataFrame(JNorth_Adult_First_Site_2005_10_df)\n",
    "JNorth_Adult_First_Site_2005_10_df.drop(['month'], axis=1, inplace=True)"
   ]
  },
  {
   "cell_type": "code",
   "execution_count": 392,
   "id": "a5fbe353",
   "metadata": {},
   "outputs": [],
   "source": [
    "# convert lat-long to floats and change address from ALL CAPS to regular capitalization\n",
    "JNorth_Adult_First_Site_2005_10_df['latitude'] = JNorth_Adult_First_Site_2005_10_df['latitude'].astype(float)\n",
    "JNorth_Adult_First_Site_2005_10_df['longitude'] = JNorth_Adult_First_Site_2005_10_df['longitude'].astype(float)\n",
    "# JNorth_Milkweed_Site_df['street_address'] = JNorth_Milkweed_Site_df['street_address'].str.title()"
   ]
  },
  {
   "cell_type": "code",
   "execution_count": 393,
   "id": "100933f3",
   "metadata": {},
   "outputs": [],
   "source": [
    "geojson = df_to_geojson(JNorth_Adult_First_Site_2005_10_df, cols)"
   ]
  },
  {
   "cell_type": "code",
   "execution_count": 394,
   "id": "9d0df34e",
   "metadata": {},
   "outputs": [],
   "source": [
    "file = open(\"JNorth_Adult_First_Site_2005_10.geojson\", \"w\")\n",
    "json.dump(geojson, file, indent =1)\n",
    "file.close()"
   ]
  },
  {
   "cell_type": "markdown",
   "id": "0eb32a56",
   "metadata": {},
   "source": [
    "# November"
   ]
  },
  {
   "cell_type": "code",
   "execution_count": 395,
   "id": "fb16df8a",
   "metadata": {},
   "outputs": [
    {
     "data": {
      "text/html": [
       "<div>\n",
       "<style scoped>\n",
       "    .dataframe tbody tr th:only-of-type {\n",
       "        vertical-align: middle;\n",
       "    }\n",
       "\n",
       "    .dataframe tbody tr th {\n",
       "        vertical-align: top;\n",
       "    }\n",
       "\n",
       "    .dataframe thead th {\n",
       "        text-align: right;\n",
       "    }\n",
       "</style>\n",
       "<table border=\"1\" class=\"dataframe\">\n",
       "  <thead>\n",
       "    <tr style=\"text-align: right;\">\n",
       "      <th></th>\n",
       "      <th>sighting_date</th>\n",
       "      <th>species</th>\n",
       "      <th>latitude</th>\n",
       "      <th>longitude</th>\n",
       "      <th>number</th>\n",
       "      <th>month</th>\n",
       "    </tr>\n",
       "  </thead>\n",
       "  <tbody>\n",
       "    <tr>\n",
       "      <th>8726</th>\n",
       "      <td>2005-11-14</td>\n",
       "      <td>Monarch Adult (FIRST sighted)</td>\n",
       "      <td>29.648</td>\n",
       "      <td>-99.224</td>\n",
       "      <td>1</td>\n",
       "      <td>11</td>\n",
       "    </tr>\n",
       "    <tr>\n",
       "      <th>8727</th>\n",
       "      <td>2005-11-15</td>\n",
       "      <td>Monarch Adult (FIRST sighted)</td>\n",
       "      <td>17.250</td>\n",
       "      <td>-88.000</td>\n",
       "      <td>1</td>\n",
       "      <td>11</td>\n",
       "    </tr>\n",
       "    <tr>\n",
       "      <th>8728</th>\n",
       "      <td>2005-11-18</td>\n",
       "      <td>Monarch Adult (FIRST sighted)</td>\n",
       "      <td>29.309</td>\n",
       "      <td>-94.782</td>\n",
       "      <td>1</td>\n",
       "      <td>11</td>\n",
       "    </tr>\n",
       "    <tr>\n",
       "      <th>8729</th>\n",
       "      <td>2005-11-26</td>\n",
       "      <td>Monarch Adult (FIRST sighted)</td>\n",
       "      <td>30.061</td>\n",
       "      <td>-95.384</td>\n",
       "      <td>1</td>\n",
       "      <td>11</td>\n",
       "    </tr>\n",
       "    <tr>\n",
       "      <th>8730</th>\n",
       "      <td>2005-11-26</td>\n",
       "      <td>Monarch Adult (FIRST sighted)</td>\n",
       "      <td>30.076</td>\n",
       "      <td>-95.638</td>\n",
       "      <td>1</td>\n",
       "      <td>11</td>\n",
       "    </tr>\n",
       "  </tbody>\n",
       "</table>\n",
       "</div>"
      ],
      "text/plain": [
       "     sighting_date                        species  latitude  longitude  \\\n",
       "8726    2005-11-14  Monarch Adult (FIRST sighted)    29.648    -99.224   \n",
       "8727    2005-11-15  Monarch Adult (FIRST sighted)    17.250    -88.000   \n",
       "8728    2005-11-18  Monarch Adult (FIRST sighted)    29.309    -94.782   \n",
       "8729    2005-11-26  Monarch Adult (FIRST sighted)    30.061    -95.384   \n",
       "8730    2005-11-26  Monarch Adult (FIRST sighted)    30.076    -95.638   \n",
       "\n",
       "      number  month  \n",
       "8726       1     11  \n",
       "8727       1     11  \n",
       "8728       1     11  \n",
       "8729       1     11  \n",
       "8730       1     11  "
      ]
     },
     "execution_count": 395,
     "metadata": {},
     "output_type": "execute_result"
    }
   ],
   "source": [
    "JNorth_Adult_First_Site_2005_month_df =pd.DataFrame(JNorth_Adult_First_Site_2005_df)\n",
    "JNorth_Adult_First_Site_2005_11_df = JNorth_Adult_First_Site_2005_month_df[JNorth_Adult_First_Site_2005_month_df['month']==11]\n",
    "JNorth_Adult_First_Site_2005_11_df.tail()"
   ]
  },
  {
   "cell_type": "code",
   "execution_count": 396,
   "id": "8efd904d",
   "metadata": {},
   "outputs": [
    {
     "data": {
      "text/plain": [
       "(36, 6)"
      ]
     },
     "execution_count": 396,
     "metadata": {},
     "output_type": "execute_result"
    }
   ],
   "source": [
    "JNorth_Adult_First_Site_2005_11_df.shape"
   ]
  },
  {
   "cell_type": "code",
   "execution_count": 397,
   "id": "2b8c63f7",
   "metadata": {},
   "outputs": [],
   "source": [
    "JNorth_Adult_First_Site_2005_11_df = pd.DataFrame(JNorth_Adult_First_Site_2005_11_df)\n",
    "JNorth_Adult_First_Site_2005_11_df.drop(['month'], axis=1, inplace=True)"
   ]
  },
  {
   "cell_type": "code",
   "execution_count": 398,
   "id": "2abbf8e3",
   "metadata": {},
   "outputs": [],
   "source": [
    "# convert lat-long to floats and change address from ALL CAPS to regular capitalization\n",
    "JNorth_Adult_First_Site_2005_11_df['latitude'] = JNorth_Adult_First_Site_2005_11_df['latitude'].astype(float)\n",
    "JNorth_Adult_First_Site_2005_11_df['longitude'] = JNorth_Adult_First_Site_2005_11_df['longitude'].astype(float)\n",
    "# JNorth_Milkweed_Site_df['street_address'] = JNorth_Milkweed_Site_df['street_address'].str.title()"
   ]
  },
  {
   "cell_type": "code",
   "execution_count": 399,
   "id": "5de70789",
   "metadata": {},
   "outputs": [],
   "source": [
    "geojson = df_to_geojson(JNorth_Adult_First_Site_2005_11_df, cols)"
   ]
  },
  {
   "cell_type": "code",
   "execution_count": 400,
   "id": "ce936002",
   "metadata": {},
   "outputs": [],
   "source": [
    "file = open(\"JNorth_Adult_First_Site_2005_11.geojson\", \"w\")\n",
    "json.dump(geojson, file, indent =1)\n",
    "file.close()"
   ]
  },
  {
   "cell_type": "markdown",
   "id": "df18b8f4",
   "metadata": {},
   "source": [
    "# December"
   ]
  },
  {
   "cell_type": "code",
   "execution_count": 401,
   "id": "94259ac3",
   "metadata": {},
   "outputs": [
    {
     "data": {
      "text/html": [
       "<div>\n",
       "<style scoped>\n",
       "    .dataframe tbody tr th:only-of-type {\n",
       "        vertical-align: middle;\n",
       "    }\n",
       "\n",
       "    .dataframe tbody tr th {\n",
       "        vertical-align: top;\n",
       "    }\n",
       "\n",
       "    .dataframe thead th {\n",
       "        text-align: right;\n",
       "    }\n",
       "</style>\n",
       "<table border=\"1\" class=\"dataframe\">\n",
       "  <thead>\n",
       "    <tr style=\"text-align: right;\">\n",
       "      <th></th>\n",
       "      <th>sighting_date</th>\n",
       "      <th>species</th>\n",
       "      <th>latitude</th>\n",
       "      <th>longitude</th>\n",
       "      <th>number</th>\n",
       "      <th>month</th>\n",
       "    </tr>\n",
       "  </thead>\n",
       "  <tbody>\n",
       "    <tr>\n",
       "      <th>8731</th>\n",
       "      <td>2005-12-02</td>\n",
       "      <td>Monarch Adult (FIRST sighted)</td>\n",
       "      <td>28.807</td>\n",
       "      <td>-96.979</td>\n",
       "      <td>1</td>\n",
       "      <td>12</td>\n",
       "    </tr>\n",
       "    <tr>\n",
       "      <th>8732</th>\n",
       "      <td>2005-12-05</td>\n",
       "      <td>Monarch Adult (FIRST sighted)</td>\n",
       "      <td>28.210</td>\n",
       "      <td>-82.289</td>\n",
       "      <td>1</td>\n",
       "      <td>12</td>\n",
       "    </tr>\n",
       "  </tbody>\n",
       "</table>\n",
       "</div>"
      ],
      "text/plain": [
       "     sighting_date                        species  latitude  longitude  \\\n",
       "8731    2005-12-02  Monarch Adult (FIRST sighted)    28.807    -96.979   \n",
       "8732    2005-12-05  Monarch Adult (FIRST sighted)    28.210    -82.289   \n",
       "\n",
       "      number  month  \n",
       "8731       1     12  \n",
       "8732       1     12  "
      ]
     },
     "execution_count": 401,
     "metadata": {},
     "output_type": "execute_result"
    }
   ],
   "source": [
    "JNorth_Adult_First_Site_2005_month_df =pd.DataFrame(JNorth_Adult_First_Site_2005_df)\n",
    "JNorth_Adult_First_Site_2005_12_df = JNorth_Adult_First_Site_2005_month_df[JNorth_Adult_First_Site_2005_month_df['month']==12]\n",
    "JNorth_Adult_First_Site_2005_12_df.tail()"
   ]
  },
  {
   "cell_type": "code",
   "execution_count": 402,
   "id": "b8fe3b61",
   "metadata": {},
   "outputs": [
    {
     "data": {
      "text/plain": [
       "(2, 6)"
      ]
     },
     "execution_count": 402,
     "metadata": {},
     "output_type": "execute_result"
    }
   ],
   "source": [
    "JNorth_Adult_First_Site_2005_12_df.shape"
   ]
  },
  {
   "cell_type": "code",
   "execution_count": 403,
   "id": "efa8e27d",
   "metadata": {},
   "outputs": [],
   "source": [
    "JNorth_Adult_First_Site_2005_12_df = pd.DataFrame(JNorth_Adult_First_Site_2005_12_df)\n",
    "JNorth_Adult_First_Site_2005_12_df.drop(['month'], axis=1, inplace=True)"
   ]
  },
  {
   "cell_type": "code",
   "execution_count": 404,
   "id": "e7903a53",
   "metadata": {},
   "outputs": [],
   "source": [
    "# convert lat-long to floats and change address from ALL CAPS to regular capitalization\n",
    "JNorth_Adult_First_Site_2005_12_df['latitude'] = JNorth_Adult_First_Site_2005_12_df['latitude'].astype(float)\n",
    "JNorth_Adult_First_Site_2005_12_df['longitude'] = JNorth_Adult_First_Site_2005_12_df['longitude'].astype(float)\n",
    "# JNorth_Milkweed_Site_df['street_address'] = JNorth_Milkweed_Site_df['street_address'].str.title()"
   ]
  },
  {
   "cell_type": "code",
   "execution_count": 405,
   "id": "575291f2",
   "metadata": {},
   "outputs": [],
   "source": [
    "geojson = df_to_geojson(JNorth_Adult_First_Site_2005_12_df, cols)"
   ]
  },
  {
   "cell_type": "code",
   "execution_count": 406,
   "id": "b6be6057",
   "metadata": {},
   "outputs": [],
   "source": [
    "file = open(\"JNorth_Adult_First_Site_2005_12.geojson\", \"w\")\n",
    "json.dump(geojson, file, indent =1)\n",
    "file.close()"
   ]
  }
 ],
 "metadata": {
  "kernelspec": {
   "display_name": "mlenv",
   "language": "python",
   "name": "mlenv"
  },
  "language_info": {
   "codemirror_mode": {
    "name": "ipython",
    "version": 3
   },
   "file_extension": ".py",
   "mimetype": "text/x-python",
   "name": "python",
   "nbconvert_exporter": "python",
   "pygments_lexer": "ipython3",
   "version": "3.7.11"
  }
 },
 "nbformat": 4,
 "nbformat_minor": 5
}
