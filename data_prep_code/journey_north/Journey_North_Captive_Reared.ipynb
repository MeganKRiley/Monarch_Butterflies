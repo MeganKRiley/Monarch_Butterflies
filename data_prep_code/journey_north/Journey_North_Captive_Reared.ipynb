{
 "cells": [
  {
   "cell_type": "code",
   "execution_count": 1,
   "id": "cc7a3daa",
   "metadata": {},
   "outputs": [],
   "source": [
    "# Journey North Captive Reared"
   ]
  },
  {
   "cell_type": "code",
   "execution_count": 2,
   "id": "77377556",
   "metadata": {},
   "outputs": [],
   "source": [
    "#  Import and read\n",
    "import pandas as pd \n",
    "import numpy as np\n",
    "import json\n",
    "# Sue Mottet 2-19-2022"
   ]
  },
  {
   "cell_type": "markdown",
   "id": "71cc5b7d",
   "metadata": {},
   "source": [
    "# geoJSONifier"
   ]
  },
  {
   "cell_type": "code",
   "execution_count": 3,
   "id": "249a00ac",
   "metadata": {},
   "outputs": [],
   "source": [
    "def df_to_geojson(df, properties, lat='latitude', lon='longitude'):\n",
    "    # create a new python dict to contain our geojson data, using geojson format\n",
    "    geojson = {'type':'FeatureCollection', 'features':[]}\n",
    "\n",
    "    # loop through each row in the dataframe and convert each row to geojson format\n",
    "    for _, row in df.iterrows():\n",
    "        # create a feature template to fill in\n",
    "        feature = {'type':'Feature',\n",
    "                   'properties':{},\n",
    "                   'geometry':{'type':'Point',\n",
    "                               'coordinates':[]}}\n",
    "\n",
    "        # fill in the coordinates\n",
    "        feature['geometry']['coordinates'] = [row[lon],row[lat]]\n",
    "\n",
    "        # for each column, get the value and add it as a new feature property\n",
    "        for prop in properties:\n",
    "            feature['properties'][prop] = row[prop]\n",
    "        \n",
    "        # add this feature (aka, converted dataframe row) to the list of features inside our dict\n",
    "        geojson['features'].append(feature)\n",
    "    \n",
    "    return geojson"
   ]
  },
  {
   "cell_type": "markdown",
   "id": "224bf61c",
   "metadata": {},
   "source": [
    "# Load file"
   ]
  },
  {
   "cell_type": "code",
   "execution_count": 4,
   "id": "29091bad",
   "metadata": {},
   "outputs": [
    {
     "name": "stderr",
     "output_type": "stream",
     "text": [
      "C:\\Users\\motte\\anaconda3\\envs\\mlenv\\lib\\site-packages\\IPython\\core\\interactiveshell.py:3444: DtypeWarning: Columns (8) have mixed types.Specify dtype option on import or set low_memory=False.\n",
      "  exec(code_obj, self.user_global_ns, self.user_ns)\n"
     ]
    },
    {
     "data": {
      "text/html": [
       "<div>\n",
       "<style scoped>\n",
       "    .dataframe tbody tr th:only-of-type {\n",
       "        vertical-align: middle;\n",
       "    }\n",
       "\n",
       "    .dataframe tbody tr th {\n",
       "        vertical-align: top;\n",
       "    }\n",
       "\n",
       "    .dataframe thead th {\n",
       "        text-align: right;\n",
       "    }\n",
       "</style>\n",
       "<table border=\"1\" class=\"dataframe\">\n",
       "  <thead>\n",
       "    <tr style=\"text-align: right;\">\n",
       "      <th></th>\n",
       "      <th>id</th>\n",
       "      <th>sighting_date</th>\n",
       "      <th>species</th>\n",
       "      <th>number</th>\n",
       "      <th>latitude</th>\n",
       "      <th>longitude</th>\n",
       "      <th>flag_location</th>\n",
       "      <th>comments</th>\n",
       "      <th>school</th>\n",
       "      <th>grade</th>\n",
       "      <th>image_url</th>\n",
       "      <th>customerid</th>\n",
       "      <th>number_old</th>\n",
       "      <th>flag_number</th>\n",
       "      <th>species_old</th>\n",
       "      <th>flag_species</th>\n",
       "    </tr>\n",
       "  </thead>\n",
       "  <tbody>\n",
       "    <tr>\n",
       "      <th>0</th>\n",
       "      <td>850841703</td>\n",
       "      <td>1996-12-16</td>\n",
       "      <td>Monarch Adult Sighted</td>\n",
       "      <td>1</td>\n",
       "      <td>27.594</td>\n",
       "      <td>-81.362</td>\n",
       "      <td>0</td>\n",
       "      <td>On the ballfield a solitary monarch butterfly ...</td>\n",
       "      <td>Walker memorial junior academy</td>\n",
       "      <td>10.0</td>\n",
       "      <td>-999999.999</td>\n",
       "      <td>135</td>\n",
       "      <td>-999999.999</td>\n",
       "      <td>1</td>\n",
       "      <td>Monarch Butterfly</td>\n",
       "      <td>1</td>\n",
       "    </tr>\n",
       "    <tr>\n",
       "      <th>1</th>\n",
       "      <td>851824801</td>\n",
       "      <td>1996-12-06</td>\n",
       "      <td>Monarch Adult Sighted</td>\n",
       "      <td>1</td>\n",
       "      <td>30.420</td>\n",
       "      <td>-87.224</td>\n",
       "      <td>0</td>\n",
       "      <td>Our 5th grade Discovery students who went alon...</td>\n",
       "      <td>Hambrick elementary school</td>\n",
       "      <td>5.0</td>\n",
       "      <td>-999999.999</td>\n",
       "      <td>150</td>\n",
       "      <td>-999999.999</td>\n",
       "      <td>1</td>\n",
       "      <td>Monarch Butterfly</td>\n",
       "      <td>1</td>\n",
       "    </tr>\n",
       "    <tr>\n",
       "      <th>2</th>\n",
       "      <td>854409931</td>\n",
       "      <td>1996-09-21</td>\n",
       "      <td>Monarch Adult Sighted</td>\n",
       "      <td>1</td>\n",
       "      <td>40.817</td>\n",
       "      <td>-96.710</td>\n",
       "      <td>0</td>\n",
       "      <td>We saw several hundred monarchs in our school ...</td>\n",
       "      <td>-999999.999</td>\n",
       "      <td>5.0</td>\n",
       "      <td>-999999.999</td>\n",
       "      <td>9701054</td>\n",
       "      <td>-999999.999</td>\n",
       "      <td>1</td>\n",
       "      <td>Monarch Butterfly</td>\n",
       "      <td>1</td>\n",
       "    </tr>\n",
       "    <tr>\n",
       "      <th>3</th>\n",
       "      <td>854557206</td>\n",
       "      <td>1996-09-21</td>\n",
       "      <td>Monarch Adult Sighted</td>\n",
       "      <td>1</td>\n",
       "      <td>40.817</td>\n",
       "      <td>-96.710</td>\n",
       "      <td>0</td>\n",
       "      <td>Over a hundered monarchs in our school butterf...</td>\n",
       "      <td>Fredstrom elementary school</td>\n",
       "      <td>6.0</td>\n",
       "      <td>-999999.999</td>\n",
       "      <td>175</td>\n",
       "      <td>-999999.999</td>\n",
       "      <td>1</td>\n",
       "      <td>Monarch Butterfly</td>\n",
       "      <td>1</td>\n",
       "    </tr>\n",
       "    <tr>\n",
       "      <th>4</th>\n",
       "      <td>855061862</td>\n",
       "      <td>1997-01-01</td>\n",
       "      <td>Monarch Adult Sighted</td>\n",
       "      <td>1</td>\n",
       "      <td>34.244</td>\n",
       "      <td>-77.946</td>\n",
       "      <td>0</td>\n",
       "      <td>I Thought I Saw It, But I Was Suprised To See ...</td>\n",
       "      <td>Gregory</td>\n",
       "      <td>3.0</td>\n",
       "      <td>-999999.999</td>\n",
       "      <td>181</td>\n",
       "      <td>-999999.999</td>\n",
       "      <td>1</td>\n",
       "      <td>Monarch Butterfly</td>\n",
       "      <td>1</td>\n",
       "    </tr>\n",
       "  </tbody>\n",
       "</table>\n",
       "</div>"
      ],
      "text/plain": [
       "          id sighting_date                species  number  latitude  \\\n",
       "0  850841703    1996-12-16  Monarch Adult Sighted       1    27.594   \n",
       "1  851824801    1996-12-06  Monarch Adult Sighted       1    30.420   \n",
       "2  854409931    1996-09-21  Monarch Adult Sighted       1    40.817   \n",
       "3  854557206    1996-09-21  Monarch Adult Sighted       1    40.817   \n",
       "4  855061862    1997-01-01  Monarch Adult Sighted       1    34.244   \n",
       "\n",
       "   longitude  flag_location  \\\n",
       "0    -81.362              0   \n",
       "1    -87.224              0   \n",
       "2    -96.710              0   \n",
       "3    -96.710              0   \n",
       "4    -77.946              0   \n",
       "\n",
       "                                            comments  \\\n",
       "0  On the ballfield a solitary monarch butterfly ...   \n",
       "1  Our 5th grade Discovery students who went alon...   \n",
       "2  We saw several hundred monarchs in our school ...   \n",
       "3  Over a hundered monarchs in our school butterf...   \n",
       "4  I Thought I Saw It, But I Was Suprised To See ...   \n",
       "\n",
       "                           school  grade    image_url  customerid  number_old  \\\n",
       "0  Walker memorial junior academy   10.0  -999999.999         135 -999999.999   \n",
       "1      Hambrick elementary school    5.0  -999999.999         150 -999999.999   \n",
       "2                     -999999.999    5.0  -999999.999     9701054 -999999.999   \n",
       "3     Fredstrom elementary school    6.0  -999999.999         175 -999999.999   \n",
       "4                         Gregory    3.0  -999999.999         181 -999999.999   \n",
       "\n",
       "   flag_number        species_old  flag_species  \n",
       "0            1  Monarch Butterfly             1  \n",
       "1            1  Monarch Butterfly             1  \n",
       "2            1  Monarch Butterfly             1  \n",
       "3            1  Monarch Butterfly             1  \n",
       "4            1  Monarch Butterfly             1  "
      ]
     },
     "execution_count": 4,
     "metadata": {},
     "output_type": "execute_result"
    }
   ],
   "source": [
    "JNorth1996_2020_df = pd.read_csv(\"UWMadisonArb_JNorth_Project_MonarchsAndMilkweed_1996-2020.csv\")\n",
    "JNorth1996_2020_df.head()"
   ]
  },
  {
   "cell_type": "markdown",
   "id": "c7319ba8",
   "metadata": {},
   "source": [
    "# Data Exploratory"
   ]
  },
  {
   "cell_type": "code",
   "execution_count": 5,
   "id": "f873e5f6",
   "metadata": {},
   "outputs": [
    {
     "name": "stdout",
     "output_type": "stream",
     "text": [
      "<class 'pandas.core.frame.DataFrame'>\n",
      "RangeIndex: 227433 entries, 0 to 227432\n",
      "Data columns (total 16 columns):\n",
      " #   Column         Non-Null Count   Dtype  \n",
      "---  ------         --------------   -----  \n",
      " 0   id             227433 non-null  int64  \n",
      " 1   sighting_date  227433 non-null  object \n",
      " 2   species        227433 non-null  object \n",
      " 3   number         227433 non-null  int64  \n",
      " 4   latitude       227433 non-null  float64\n",
      " 5   longitude      227433 non-null  float64\n",
      " 6   flag_location  227433 non-null  int64  \n",
      " 7   comments       227433 non-null  object \n",
      " 8   school         227433 non-null  object \n",
      " 9   grade          227433 non-null  float64\n",
      " 10  image_url      227433 non-null  object \n",
      " 11  customerid     227433 non-null  int64  \n",
      " 12  number_old     227433 non-null  float64\n",
      " 13  flag_number    227433 non-null  int64  \n",
      " 14  species_old    227433 non-null  object \n",
      " 15  flag_species   227433 non-null  int64  \n",
      "dtypes: float64(4), int64(6), object(6)\n",
      "memory usage: 27.8+ MB\n"
     ]
    }
   ],
   "source": [
    "JNorth1996_2020_df.info()"
   ]
  },
  {
   "cell_type": "code",
   "execution_count": 6,
   "id": "114eef22",
   "metadata": {},
   "outputs": [
    {
     "data": {
      "text/plain": [
       "\"['id', 'sighting_date', 'species', 'number', 'latitude', 'longitude', 'flag_location', 'comments', 'school', 'grade', 'image_url', 'customerid', 'number_old', 'flag_number', 'species_old', 'flag_species']\""
      ]
     },
     "execution_count": 6,
     "metadata": {},
     "output_type": "execute_result"
    }
   ],
   "source": [
    "str(JNorth1996_2020_df.columns.tolist())"
   ]
  },
  {
   "cell_type": "code",
   "execution_count": 7,
   "id": "a30813e2",
   "metadata": {},
   "outputs": [
    {
     "data": {
      "text/html": [
       "<div>\n",
       "<style scoped>\n",
       "    .dataframe tbody tr th:only-of-type {\n",
       "        vertical-align: middle;\n",
       "    }\n",
       "\n",
       "    .dataframe tbody tr th {\n",
       "        vertical-align: top;\n",
       "    }\n",
       "\n",
       "    .dataframe thead th {\n",
       "        text-align: right;\n",
       "    }\n",
       "</style>\n",
       "<table border=\"1\" class=\"dataframe\">\n",
       "  <thead>\n",
       "    <tr style=\"text-align: right;\">\n",
       "      <th></th>\n",
       "      <th>id</th>\n",
       "      <th>number</th>\n",
       "      <th>latitude</th>\n",
       "      <th>longitude</th>\n",
       "      <th>flag_location</th>\n",
       "      <th>grade</th>\n",
       "      <th>customerid</th>\n",
       "      <th>number_old</th>\n",
       "      <th>flag_number</th>\n",
       "      <th>flag_species</th>\n",
       "    </tr>\n",
       "  </thead>\n",
       "  <tbody>\n",
       "    <tr>\n",
       "      <th>count</th>\n",
       "      <td>2.274330e+05</td>\n",
       "      <td>2.274330e+05</td>\n",
       "      <td>227433.000000</td>\n",
       "      <td>227433.000000</td>\n",
       "      <td>227433.000000</td>\n",
       "      <td>227433.000000</td>\n",
       "      <td>2.274330e+05</td>\n",
       "      <td>2.274330e+05</td>\n",
       "      <td>227433.000000</td>\n",
       "      <td>227433.000000</td>\n",
       "    </tr>\n",
       "    <tr>\n",
       "      <th>mean</th>\n",
       "      <td>1.420650e+09</td>\n",
       "      <td>1.186529e+02</td>\n",
       "      <td>38.400690</td>\n",
       "      <td>-87.569965</td>\n",
       "      <td>0.598018</td>\n",
       "      <td>-907386.217597</td>\n",
       "      <td>9.451737e+06</td>\n",
       "      <td>-2.844270e+05</td>\n",
       "      <td>0.294816</td>\n",
       "      <td>0.130324</td>\n",
       "    </tr>\n",
       "    <tr>\n",
       "      <th>std</th>\n",
       "      <td>1.456887e+08</td>\n",
       "      <td>2.209080e+04</td>\n",
       "      <td>5.268651</td>\n",
       "      <td>10.880362</td>\n",
       "      <td>0.490299</td>\n",
       "      <td>289894.342744</td>\n",
       "      <td>2.193961e+06</td>\n",
       "      <td>4.518136e+05</td>\n",
       "      <td>0.467089</td>\n",
       "      <td>0.336660</td>\n",
       "    </tr>\n",
       "    <tr>\n",
       "      <th>min</th>\n",
       "      <td>8.508417e+08</td>\n",
       "      <td>-1.700000e+01</td>\n",
       "      <td>-12.100000</td>\n",
       "      <td>-165.107000</td>\n",
       "      <td>0.000000</td>\n",
       "      <td>-999999.999000</td>\n",
       "      <td>0.000000e+00</td>\n",
       "      <td>-1.000000e+06</td>\n",
       "      <td>0.000000</td>\n",
       "      <td>0.000000</td>\n",
       "    </tr>\n",
       "    <tr>\n",
       "      <th>25%</th>\n",
       "      <td>1.377751e+09</td>\n",
       "      <td>1.000000e+00</td>\n",
       "      <td>34.723000</td>\n",
       "      <td>-95.268000</td>\n",
       "      <td>0.000000</td>\n",
       "      <td>-999999.999000</td>\n",
       "      <td>9.941050e+06</td>\n",
       "      <td>-1.000000e+06</td>\n",
       "      <td>0.000000</td>\n",
       "      <td>0.000000</td>\n",
       "    </tr>\n",
       "    <tr>\n",
       "      <th>50%</th>\n",
       "      <td>1.477448e+09</td>\n",
       "      <td>1.000000e+00</td>\n",
       "      <td>39.503000</td>\n",
       "      <td>-86.787000</td>\n",
       "      <td>1.000000</td>\n",
       "      <td>-999999.999000</td>\n",
       "      <td>9.977663e+06</td>\n",
       "      <td>1.000000e+00</td>\n",
       "      <td>0.000000</td>\n",
       "      <td>0.000000</td>\n",
       "    </tr>\n",
       "    <tr>\n",
       "      <th>75%</th>\n",
       "      <td>1.526383e+09</td>\n",
       "      <td>3.000000e+00</td>\n",
       "      <td>42.409000</td>\n",
       "      <td>-79.255000</td>\n",
       "      <td>1.000000</td>\n",
       "      <td>-999999.999000</td>\n",
       "      <td>1.000029e+07</td>\n",
       "      <td>3.000000e+00</td>\n",
       "      <td>1.000000</td>\n",
       "      <td>0.000000</td>\n",
       "    </tr>\n",
       "    <tr>\n",
       "      <th>max</th>\n",
       "      <td>1.526525e+09</td>\n",
       "      <td>1.000000e+07</td>\n",
       "      <td>65.136000</td>\n",
       "      <td>-52.883000</td>\n",
       "      <td>1.000000</td>\n",
       "      <td>1112.000000</td>\n",
       "      <td>1.004256e+07</td>\n",
       "      <td>1.000000e+07</td>\n",
       "      <td>2.000000</td>\n",
       "      <td>1.000000</td>\n",
       "    </tr>\n",
       "  </tbody>\n",
       "</table>\n",
       "</div>"
      ],
      "text/plain": [
       "                 id        number       latitude      longitude  \\\n",
       "count  2.274330e+05  2.274330e+05  227433.000000  227433.000000   \n",
       "mean   1.420650e+09  1.186529e+02      38.400690     -87.569965   \n",
       "std    1.456887e+08  2.209080e+04       5.268651      10.880362   \n",
       "min    8.508417e+08 -1.700000e+01     -12.100000    -165.107000   \n",
       "25%    1.377751e+09  1.000000e+00      34.723000     -95.268000   \n",
       "50%    1.477448e+09  1.000000e+00      39.503000     -86.787000   \n",
       "75%    1.526383e+09  3.000000e+00      42.409000     -79.255000   \n",
       "max    1.526525e+09  1.000000e+07      65.136000     -52.883000   \n",
       "\n",
       "       flag_location          grade    customerid    number_old  \\\n",
       "count  227433.000000  227433.000000  2.274330e+05  2.274330e+05   \n",
       "mean        0.598018 -907386.217597  9.451737e+06 -2.844270e+05   \n",
       "std         0.490299  289894.342744  2.193961e+06  4.518136e+05   \n",
       "min         0.000000 -999999.999000  0.000000e+00 -1.000000e+06   \n",
       "25%         0.000000 -999999.999000  9.941050e+06 -1.000000e+06   \n",
       "50%         1.000000 -999999.999000  9.977663e+06  1.000000e+00   \n",
       "75%         1.000000 -999999.999000  1.000029e+07  3.000000e+00   \n",
       "max         1.000000    1112.000000  1.004256e+07  1.000000e+07   \n",
       "\n",
       "         flag_number   flag_species  \n",
       "count  227433.000000  227433.000000  \n",
       "mean        0.294816       0.130324  \n",
       "std         0.467089       0.336660  \n",
       "min         0.000000       0.000000  \n",
       "25%         0.000000       0.000000  \n",
       "50%         0.000000       0.000000  \n",
       "75%         1.000000       0.000000  \n",
       "max         2.000000       1.000000  "
      ]
     },
     "execution_count": 7,
     "metadata": {},
     "output_type": "execute_result"
    }
   ],
   "source": [
    "JNorth1996_2020_df.describe()"
   ]
  },
  {
   "cell_type": "code",
   "execution_count": 8,
   "id": "ae151166",
   "metadata": {},
   "outputs": [
    {
     "data": {
      "text/plain": [
       "['id',\n",
       " 'sighting_date',\n",
       " 'species',\n",
       " 'number',\n",
       " 'latitude',\n",
       " 'longitude',\n",
       " 'flag_location',\n",
       " 'comments',\n",
       " 'school',\n",
       " 'grade',\n",
       " 'image_url',\n",
       " 'customerid',\n",
       " 'number_old',\n",
       " 'flag_number',\n",
       " 'species_old',\n",
       " 'flag_species']"
      ]
     },
     "execution_count": 8,
     "metadata": {},
     "output_type": "execute_result"
    }
   ],
   "source": [
    "JNorth1996_2020_df.columns.tolist()"
   ]
  },
  {
   "cell_type": "code",
   "execution_count": 9,
   "id": "d3e4c845",
   "metadata": {},
   "outputs": [
    {
     "data": {
      "text/plain": [
       "(227433, 16)"
      ]
     },
     "execution_count": 9,
     "metadata": {},
     "output_type": "execute_result"
    }
   ],
   "source": [
    "JNorth1996_2020_df.shape"
   ]
  },
  {
   "cell_type": "code",
   "execution_count": 10,
   "id": "22e5d83e",
   "metadata": {},
   "outputs": [
    {
     "name": "stdout",
     "output_type": "stream",
     "text": [
      "[ 850841703  851824801  854409931 ... 1526524404 1526524405 1526525021]\n",
      "['1996-12-16' '1996-12-06' '1996-09-21' ... '2020-12-29' '2020-12-30'\n",
      " '2020-12-31']\n",
      "['Monarch Adult Sighted' 'Monarch Adult (FIRST sighted)'\n",
      " 'Monarch Egg (FIRST sighted)' 'Monarch (OTHER Observations)'\n",
      " 'Monarch Larva (FIRST sighted)' 'Monarch PEAK Migration'\n",
      " 'Milkweed (FIRST sighted)' 'Monarch Fall Roost' 'Monarch Egg Sighted'\n",
      " 'Monarch Larva Sighted' 'Monarch, Captive-Reared' 'Milkweed Sighted']\n",
      "[       1      150       20       89       30     2000       50     7500\n",
      "       23      200        5      300        4      100       71      120\n",
      "      325       21       28     5000    20000       36       25        6\n",
      "       54     1000      160       24       60       37        2     3000\n",
      "  1000000       10  2000000       40       85       65       15        8\n",
      "      500       14      112       75       80    15000       18    10000\n",
      "      912   100000      400      800       12       35      600       16\n",
      "    25000     1500     1117       70        3      463       45       72\n",
      "      250      182       56       26    30000     2500     8000      750\n",
      "      700       46      556       34      275       53       22      650\n",
      "      210      224     1100      240   200000      900     1200        7\n",
      "       13      115       11       19      810       66       43      510\n",
      "        9       62       27      290      104       44      440      202\n",
      "       55      180       17      140      269       61      142      175\n",
      "       41      123       32       76       31      195      125       29\n",
      "      164      109      119      105     4000       69      360       88\n",
      "       58      239       48      310      117       52      261       90\n",
      "      135      296      211       39       51      102     7001      127\n",
      "       49       47       33     1300       42      101     5075     1520\n",
      "      170       81      190       38      110      558      381      228\n",
      "      248       86       74      172      230      420     2806       94\n",
      "       92      118      425     5400     6300       68       79    50000\n",
      "     2300     7000       84      128       57      350       83      124\n",
      "      114      450      147      501       87       77      197      840\n",
      "    13460     3500       64       73      178      265      151      133\n",
      "      121      477       59       97      850      130      165       95\n",
      "      383       98      729      222      116      225       63     6000\n",
      "      475    34000    13420    21329    12073    16244    30293    11082\n",
      "       78      214      113      108      280      212      138      285\n",
      "      229      216      720      206      606      287      107      134\n",
      "      157      540 10000000      220      103      270       82      139\n",
      "      318       93       67      181      122      158      156      232\n",
      "      106      155     2400      667     1286      179      349      207\n",
      "      505      132      154     1400    32914    29804    18128    15890\n",
      "     7750     8531     7333     7783      173      213      126      378\n",
      "      417      481      780     4800      625      208      205      145\n",
      "      260      193      144      227      305      831      289      246\n",
      "      404      152       96      373      855     1800      519      215\n",
      "      441      337    23800      218      340      231     2100      550\n",
      "     4500      320     9000    12000      324      461      184      570\n",
      "      444      620    11000      870      478      252      447      247\n",
      "      281      980    28073    13492    12864    11472    10200      301\n",
      "      111      259      171      141      256      186      174      198\n",
      "      479      187      223      474      203      278      153      257\n",
      "      520      185     3200      375      258      136    70000    60200\n",
      "    48000    17800      264    19755    17100    12189    13375      233\n",
      "      204      192      131       -1      129      149      -17      460\n",
      "      382      137      143      445       91     1700      330      254\n",
      "      429      813     2200      316     2600      696      291      255\n",
      "      286      543      183      251      362      226      453     1080\n",
      "      860      315      332      244     1351    35000     1503     1125\n",
      "      725     1482      593     2079    12284    19741    12360    10099\n",
      "      587    19000   500000      189      671      713     1016      176\n",
      "      345      219      234      249      409      418    16000     3900\n",
      "      169     7200      272      284      653      428      348      777\n",
      "      253       99      201     1516      335      359      356      875\n",
      "      560      177      525      686     1380      276   999999    12620\n",
      "     6500     5850      188     2960      480      385      827      323\n",
      "      148     1012      465      196      162      238      446      313\n",
      "     2385      307      263      357      163      495     1001      541\n",
      "      733      167     3600      457     5700     1650     1120     3553\n",
      "      995     1600     1390      614     7600     8250      314     1580\n",
      "      221     1620      470      759      267      960     1301      566\n",
      "      342      880      782      241      514     2250     2470      925\n",
      "      403      166     6769      146     2469      209      279      868\n",
      "      585      311      683      354      308      760      387      563\n",
      "      801      536      161      397      322      613      191     1750\n",
      "      199      516      321     1850      277      297     4750      370\n",
      "      489     1149      268     2816      789      430      978      770\n",
      "      493      716      159]\n",
      "[27.594 30.42  40.817 ... 30.139 35.008 54.968]\n",
      "[ -81.362  -87.224  -96.71  ... -118.107 -119.132 -108.727]\n",
      "[0 1]\n",
      "['On the ballfield a solitary monarch butterfly flew across the field in a south-west direction at approximately 1:30 pm.'\n",
      " 'Our 5th grade Discovery students who went along on an overnight field trip to Ft. Pickens, Florida, noticed that there were monarch butterflies all over the grounds of the fort the day they were there (Dec. 6,1996).'\n",
      " 'We saw several hundred monarchs in our school butterfly garden,  sipping nectar from the New England asters and zinnias.'\n",
      " ...\n",
      " \"There have been at least three Monarchs in my yard this year. I know it's at least three, because I often see all of them at once. But there may be more. I have lived here for 35 years, and an additional 23 years just a mile-and-a-half down the road. This is the first time in decades that I've had Monarchs in my yard, and I've been very excited that they're coming back. I'm hoping to see more in the future. \"\n",
      " 'One larva seen.'\n",
      " 'Date of last adult sighted.Total sightings were 98 adults from June 3 to Sept. 4.Peak sightings were July 8 to Aug 7.Approx. acreage with milkweed is equal to 4.5Ac. ']\n",
      "['Walker memorial junior academy' 'Hambrick elementary school'\n",
      " '-999999.999' ... 'Homosassa springs wildlife state park'\n",
      " 'Director, virginia master naturalist program' -999999.999]\n",
      "[ 1.00000000e+01  5.00000000e+00  6.00000000e+00  3.00000000e+00\n",
      "  9.00000000e+00 -9.99999999e+05  7.00000000e+00  2.00000000e+00\n",
      "  8.00000000e+00  9.90000000e+01  4.00000000e+00  1.00000000e+00\n",
      "  1.20000000e+01  1.10000000e+01  0.00000000e+00  3.40000000e+01\n",
      "  2.50000000e+01  4.60000000e+01  6.80000000e+01  1.50000000e+01\n",
      "  9.50000000e+01  3.60000000e+01  1.80000000e+01  2.30000000e+01\n",
      "  1.40000000e+01  4.50000000e+01  9.12000000e+02  2.40000000e+01\n",
      "  6.90000000e+01  5.60000000e+01  7.12000000e+02  6.78000000e+02\n",
      "  1.12000000e+02  4.90000000e+01  7.80000000e+01  6.70000000e+01\n",
      "  1.30000000e+01  4.56000000e+02  1.90000000e+01  6.12000000e+02\n",
      "  1.11200000e+03  1.60000000e+01  1.01200000e+03  3.80000000e+01\n",
      "  6.30000000e+01  2.70000000e+01  1.00000000e+02  9.10000000e+02\n",
      "  6.20000000e+01  3.11000000e+02  5.80000000e+01  1.70000000e+01\n",
      "  2.10000000e+01  2.80000000e+01  7.10000000e+01  3.45000000e+02\n",
      "  1.19000000e+02  3.50000000e+01  4.20000000e+01  6.50000000e+01\n",
      "  5.00000000e+01  4.12000000e+02  7.90000000e+01  2.00000000e+01\n",
      "  7.11000000e+02  5.30000000e+01  1.35000000e+02]\n",
      "['-999999.999'\n",
      " 'https://journeynorth.org/jnorth/images/userfiles2013/1193346010.jpg'\n",
      " 'https://www.learner.org/jnorth/images/userfiles/1317067653.jpg' ...\n",
      " '//journeynorth.org/jnorth/images/userfiles2021/05/1526513089.jpg'\n",
      " '//journeynorth.org/jnorth/images/userfiles2021/05/1526513090.jpg'\n",
      " '//journeynorth.org/jnorth/images/userfiles2021/06/1526524404.jpg']\n",
      "[     135      150  9701054 ... 10042506 10042509 10042557]\n",
      "[-9.99999999e+05  0.00000000e+00  1.50000000e+02  2.00000000e+01\n",
      "  8.90000000e+01  3.00000000e+01  2.00000000e+03  5.00000000e+01\n",
      "  7.50000000e+03  2.30000000e+01  2.00000000e+02  5.00000000e+00\n",
      "  3.00000000e+02  4.00000000e+00  1.00000000e+02  7.10000000e+01\n",
      "  1.20000000e+02  3.25000000e+02  2.10000000e+01  2.80000000e+01\n",
      "  5.00000000e+03  2.00000000e+04  3.60000000e+01  2.50000000e+01\n",
      "  6.00000000e+00  5.40000000e+01  1.00000000e+03  1.60000000e+02\n",
      "  2.40000000e+01  6.00000000e+01  3.70000000e+01  2.00000000e+00\n",
      "  3.00000000e+03  1.00000000e+06  1.00000000e+01  1.00000000e+00\n",
      "  2.00000000e+06  4.00000000e+01  8.50000000e+01  6.50000000e+01\n",
      "  1.50000000e+01  8.00000000e+00  5.00000000e+02  1.40000000e+01\n",
      "  1.12000000e+02  7.50000000e+01  8.00000000e+01  1.50000000e+04\n",
      "  1.80000000e+01  1.00000000e+04  9.12000000e+02  1.00000000e+05\n",
      "  4.00000000e+02  8.00000000e+02  1.20000000e+01  3.50000000e+01\n",
      "  6.00000000e+02  1.60000000e+01  2.50000000e+04  1.50000000e+03\n",
      "  1.11700000e+03  7.00000000e+01  3.00000000e+00  4.63000000e+02\n",
      "  4.50000000e+01  7.20000000e+01  2.50000000e+02  1.82000000e+02\n",
      "  5.60000000e+01  2.60000000e+01  3.00000000e+04  2.50000000e+03\n",
      "  8.00000000e+03  7.50000000e+02  7.00000000e+02  4.60000000e+01\n",
      "  5.56000000e+02  3.40000000e+01  2.75000000e+02  5.30000000e+01\n",
      "  2.20000000e+01  6.50000000e+02  2.10000000e+02  2.24000000e+02\n",
      "  1.10000000e+03  2.40000000e+02  2.00000000e+05  9.00000000e+02\n",
      "  1.20000000e+03  7.00000000e+00  1.30000000e+01  1.15000000e+02\n",
      "  1.10000000e+01  1.90000000e+01  8.10000000e+02  6.60000000e+01\n",
      "  4.30000000e+01  5.10000000e+02  9.00000000e+00  6.20000000e+01\n",
      "  2.70000000e+01  2.90000000e+02  1.04000000e+02  4.40000000e+01\n",
      "  4.40000000e+02  2.02000000e+02  5.50000000e+01  1.80000000e+02\n",
      "  1.70000000e+01  1.40000000e+02  2.69000000e+02  6.10000000e+01\n",
      "  1.42000000e+02  1.75000000e+02  4.10000000e+01  1.23000000e+02\n",
      "  3.20000000e+01  7.60000000e+01  3.10000000e+01  1.95000000e+02\n",
      "  1.25000000e+02  2.90000000e+01  1.64000000e+02  1.09000000e+02\n",
      "  1.19000000e+02  1.05000000e+02  4.00000000e+03  6.90000000e+01\n",
      "  3.60000000e+02  8.80000000e+01  5.80000000e+01  2.39000000e+02\n",
      "  4.80000000e+01  3.10000000e+02  1.17000000e+02  5.20000000e+01\n",
      "  2.61000000e+02  9.00000000e+01  1.35000000e+02  2.96000000e+02\n",
      "  2.11000000e+02  3.90000000e+01  5.10000000e+01  1.02000000e+02\n",
      "  7.00100000e+03  1.27000000e+02  4.90000000e+01  4.70000000e+01\n",
      "  3.30000000e+01  1.30000000e+03  4.20000000e+01  1.01000000e+02\n",
      "  5.07500000e+03  1.52000000e+03  1.70000000e+02  8.10000000e+01\n",
      "  1.90000000e+02  3.80000000e+01  1.10000000e+02  5.58000000e+02\n",
      "  3.81000000e+02  2.28000000e+02  2.48000000e+02  8.60000000e+01\n",
      "  7.40000000e+01  1.72000000e+02  2.30000000e+02  4.20000000e+02\n",
      "  2.80600000e+03  9.40000000e+01  9.20000000e+01  1.18000000e+02\n",
      "  4.25000000e+02  5.40000000e+03  6.30000000e+03  6.80000000e+01\n",
      "  7.90000000e+01  5.00000000e+04  2.30000000e+03  7.00000000e+03\n",
      "  8.40000000e+01  1.28000000e+02  5.70000000e+01  3.50000000e+02\n",
      "  8.30000000e+01  1.24000000e+02  1.14000000e+02  4.50000000e+02\n",
      "  1.47000000e+02  5.01000000e+02  8.70000000e+01  7.70000000e+01\n",
      "  1.97000000e+02  8.40000000e+02  1.34600000e+04  3.50000000e+03\n",
      "  6.40000000e+01  7.30000000e+01  1.78000000e+02  2.65000000e+02\n",
      "  1.51000000e+02  1.33000000e+02  1.21000000e+02  4.77000000e+02\n",
      "  5.90000000e+01  9.70000000e+01  8.50000000e+02  1.30000000e+02\n",
      "  1.65000000e+02  9.50000000e+01  3.83000000e+02  9.80000000e+01\n",
      "  7.29000000e+02  2.22000000e+02  1.16000000e+02  2.25000000e+02\n",
      "  6.30000000e+01  6.00000000e+03  4.75000000e+02  3.40000000e+04\n",
      "  1.34200000e+04  2.13290000e+04  1.20730000e+04  1.62440000e+04\n",
      "  3.02930000e+04  1.10820000e+04  7.80000000e+01  2.14000000e+02\n",
      "  1.13000000e+02  1.08000000e+02  2.80000000e+02  2.12000000e+02\n",
      "  1.38000000e+02  2.85000000e+02  2.29000000e+02  2.16000000e+02\n",
      "  7.20000000e+02  2.06000000e+02  6.06000000e+02  2.87000000e+02\n",
      "  1.07000000e+02  1.34000000e+02  1.57000000e+02  5.40000000e+02\n",
      "  1.00000000e+07  2.20000000e+02  1.03000000e+02  2.70000000e+02\n",
      "  8.20000000e+01  1.39000000e+02  3.18000000e+02  9.30000000e+01\n",
      "  6.70000000e+01  1.81000000e+02  1.22000000e+02  1.58000000e+02\n",
      "  1.56000000e+02  2.32000000e+02  1.06000000e+02  1.55000000e+02\n",
      "  2.40000000e+03  6.67000000e+02  1.28600000e+03  1.79000000e+02\n",
      "  3.49000000e+02  2.07000000e+02  5.05000000e+02  1.32000000e+02\n",
      "  1.54000000e+02  1.40000000e+03  3.29140000e+04  2.98040000e+04\n",
      "  1.81280000e+04  1.58900000e+04  7.75000000e+03  8.53100000e+03\n",
      "  7.33300000e+03  7.78300000e+03  1.73000000e+02  2.13000000e+02\n",
      "  1.26000000e+02  3.78000000e+02  4.17000000e+02  4.81000000e+02\n",
      "  7.80000000e+02  4.80000000e+03  6.25000000e+02  2.08000000e+02\n",
      "  2.05000000e+02  1.45000000e+02  2.60000000e+02  1.93000000e+02\n",
      "  1.44000000e+02  2.27000000e+02  3.05000000e+02  8.31000000e+02\n",
      "  2.89000000e+02  2.46000000e+02  4.04000000e+02  1.52000000e+02\n",
      "  9.60000000e+01  3.73000000e+02  8.55000000e+02  1.80000000e+03\n",
      "  5.19000000e+02  2.15000000e+02  4.41000000e+02  3.37000000e+02\n",
      "  2.38000000e+04  2.18000000e+02  3.40000000e+02  2.31000000e+02\n",
      "  2.10000000e+03  5.50000000e+02  4.50000000e+03  3.20000000e+02\n",
      "  9.00000000e+03  1.20000000e+04  3.24000000e+02  4.61000000e+02\n",
      "  1.84000000e+02  5.70000000e+02  4.44000000e+02  6.20000000e+02\n",
      "  1.10000000e+04  8.70000000e+02  4.78000000e+02  2.52000000e+02\n",
      "  4.47000000e+02  2.47000000e+02  2.81000000e+02  9.80000000e+02\n",
      "  2.80730000e+04  1.34920000e+04  1.28640000e+04  1.14720000e+04\n",
      "  1.02000000e+04  3.01000000e+02  1.11000000e+02  2.59000000e+02\n",
      "  1.71000000e+02  1.41000000e+02  2.56000000e+02  1.86000000e+02\n",
      "  1.74000000e+02  1.98000000e+02  4.79000000e+02  1.87000000e+02\n",
      "  2.23000000e+02  4.74000000e+02  2.03000000e+02  2.78000000e+02\n",
      "  1.53000000e+02  2.57000000e+02  5.20000000e+02  1.85000000e+02\n",
      "  3.20000000e+03  3.75000000e+02  2.58000000e+02  1.36000000e+02\n",
      "  7.00000000e+04  6.02000000e+04  4.80000000e+04  1.78000000e+04\n",
      "  2.64000000e+02  1.97550000e+04  1.71000000e+04  1.21890000e+04\n",
      "  1.33750000e+04  2.33000000e+02  2.04000000e+02  1.92000000e+02\n",
      "  1.31000000e+02 -1.00000000e+00  1.29000000e+02  1.49000000e+02\n",
      " -1.70000000e+01  4.60000000e+02  3.82000000e+02  1.37000000e+02\n",
      "  1.43000000e+02  4.45000000e+02  9.10000000e+01  1.70000000e+03\n",
      "  3.30000000e+02  2.54000000e+02  4.29000000e+02  8.13000000e+02\n",
      "  2.20000000e+03  3.16000000e+02  2.60000000e+03  6.96000000e+02\n",
      "  2.91000000e+02  2.55000000e+02  2.86000000e+02  5.43000000e+02\n",
      "  1.83000000e+02  2.51000000e+02  3.62000000e+02  2.26000000e+02\n",
      "  4.53000000e+02  1.08000000e+03  8.60000000e+02  3.15000000e+02\n",
      "  3.32000000e+02  2.44000000e+02  1.35100000e+03  3.50000000e+04\n",
      "  1.50300000e+03  1.12500000e+03  7.25000000e+02  1.48200000e+03\n",
      "  5.93000000e+02  2.07900000e+03  1.22840000e+04  1.97410000e+04\n",
      "  1.23600000e+04  1.00990000e+04  5.87000000e+02  1.90000000e+04\n",
      "  5.00000000e+05  1.89000000e+02  6.71000000e+02  7.13000000e+02\n",
      "  1.01600000e+03  1.76000000e+02  3.45000000e+02  2.19000000e+02\n",
      "  2.34000000e+02  2.49000000e+02  4.09000000e+02  4.18000000e+02\n",
      "  1.60000000e+04  3.90000000e+03  1.69000000e+02  7.20000000e+03\n",
      "  2.72000000e+02  2.84000000e+02  6.53000000e+02  4.28000000e+02\n",
      "  3.48000000e+02  7.77000000e+02  2.53000000e+02  9.90000000e+01\n",
      "  2.01000000e+02  1.51600000e+03  3.35000000e+02  3.59000000e+02\n",
      "  3.56000000e+02  8.75000000e+02  5.60000000e+02  1.77000000e+02\n",
      "  5.25000000e+02  6.86000000e+02  1.38000000e+03  2.76000000e+02\n",
      "  9.99999000e+05  1.26200000e+04  6.50000000e+03  5.85000000e+03\n",
      "  1.88000000e+02  2.96000000e+03  4.80000000e+02  3.85000000e+02\n",
      "  8.27000000e+02  3.23000000e+02  1.48000000e+02  1.01200000e+03\n",
      "  4.65000000e+02  1.96000000e+02  1.62000000e+02  2.38000000e+02\n",
      "  4.46000000e+02  3.13000000e+02  2.38500000e+03  3.07000000e+02\n",
      "  2.63000000e+02  3.57000000e+02  1.63000000e+02  4.95000000e+02\n",
      "  1.00100000e+03  5.41000000e+02  7.33000000e+02  1.67000000e+02\n",
      "  3.60000000e+03  4.57000000e+02  5.70000000e+03  1.65000000e+03\n",
      "  1.12000000e+03  3.55300000e+03  9.95000000e+02  1.60000000e+03\n",
      "  1.39000000e+03  6.14000000e+02  7.60000000e+03  8.25000000e+03\n",
      "  3.14000000e+02  1.58000000e+03  2.21000000e+02  1.62000000e+03\n",
      "  4.70000000e+02  7.59000000e+02  2.67000000e+02  9.60000000e+02\n",
      "  1.30100000e+03  5.66000000e+02  3.42000000e+02  8.80000000e+02\n",
      "  7.82000000e+02  2.41000000e+02  5.14000000e+02  2.25000000e+03\n",
      "  2.47000000e+03  9.25000000e+02  4.03000000e+02  1.66000000e+02\n",
      "  6.76900000e+03  1.46000000e+02  2.46900000e+03  2.09000000e+02\n",
      "  2.79000000e+02  8.68000000e+02  5.85000000e+02  3.11000000e+02\n",
      "  6.83000000e+02  3.54000000e+02  3.08000000e+02  7.60000000e+02\n",
      "  3.87000000e+02  5.63000000e+02  8.01000000e+02  5.36000000e+02\n",
      "  1.61000000e+02  3.97000000e+02  3.22000000e+02  6.13000000e+02\n",
      "  1.91000000e+02  1.75000000e+03  1.99000000e+02  5.16000000e+02\n",
      "  3.21000000e+02  1.85000000e+03  2.77000000e+02  2.97000000e+02\n",
      "  4.75000000e+03  3.70000000e+02  4.89000000e+02  1.14900000e+03\n",
      "  2.68000000e+02  2.81600000e+03  7.89000000e+02  4.30000000e+02\n",
      "  9.78000000e+02  7.70000000e+02  4.93000000e+02  7.16000000e+02\n",
      "  1.59000000e+02]\n",
      "[1 2 0]\n",
      "['Monarch Butterfly' 'Monarch Migration' 'FIRST Monarch Butterfly'\n",
      " 'FIRST Monarch Egg' 'First Monarch' 'FIRST Monarch' 'LAST Fall Monarch'\n",
      " 'Monarch (OTHER observations)' 'Monarch (FIRST sighting)'\n",
      " 'Monarch (FIRST seen)' 'Monarch (Other Sightings)'\n",
      " 'Monarch (OTHER observation)' 'Monarch (OTHER Observation)'\n",
      " 'Monarch Migration Sighting' 'Monarch (OTHER Observations)'\n",
      " 'Monarch Migration Study' 'LAST Fall Monarch Sighted'\n",
      " ' LAST Fall Monarch Sighted' 'LAST Fall Monarch Migration'\n",
      " 'Monarch (OTHER oservations)' 'Monarch (LAST sighting)'\n",
      " 'Monarch Larva (FIRST sighted)' 'Monarch Egg (FIRST sighted)'\n",
      " 'Monarch Adult (FIRST sighted)' 'Monarch Adult (FIRST Sighted)'\n",
      " 'Monarch PEAK Migration' 'LAST Fall Monarch Sighting'\n",
      " 'Monarchs OTHER (Observation)' '(Monarch) Milkweed emerges'\n",
      " 'Monarch FIRST Migration Sighting' 'Monarch peak Migration'\n",
      " 'Monarch (OTHER) Observations' 'Milkweed (FIRST Leaves)'\n",
      " 'Monarch Over-wintering' 'Monarch Adult  (FIRST sighted)'\n",
      " 'Monarchs (OTHER observations)' 'Monarch (IOTHER observations)'\n",
      " 'Monarch Fall Roost' 'Monarch ADULT' 'Monarch Larva (FIRST Sighted)'\n",
      " 'Monarch (OTHER Observations' 'Monarch Peak Migration'\n",
      " 'Monarch over-wintering' 'Monarch  Adult (FIRST sighted)'\n",
      " 'Monarch (Other Observations)' 'Monarch FIRST Adult'\n",
      " 'Monarch Adult (First sighted)' 'Monarch (Other observations)'\n",
      " 'Monarch Migration Sighting OW' 'Monarch (FIRST sighted)'\n",
      " 'Monarch (NONE sighted)' 'Monarch Fall Roost (None yet)'\n",
      " 'Monarch Adult Sighted' 'Monarch Sighting' 'Monarch (Other Observations'\n",
      " 'Monarch Winter Sighting' 'Monarch Sighted' 'Monarch Egg Sighted'\n",
      " 'Monarch Larva Sighted' 'Monarch OTHER Observations'\n",
      " 'monarch (OTHER Observations)' 'Monarch Egg (FIRST Sighted)'\n",
      " 'Monarch OW Mexico' 'Monarch Adult  Sighted'\n",
      " 'Monarch (OTHER Observations) READY' 'Monarch Adult (FIRST sighted))'\n",
      " 'Monarch, Captive-Reared' 'Monarch Fall Roost (waiting for permission)'\n",
      " 'Milkweed Sighted' 'Milkweed (FIRST sighted)' 'Milkweed (FIRST Sighted)'\n",
      " 'Milkweed sighted' 'Monarch, Captive Reared'\n",
      " 'Monarch Egg (FIRST sighted)ghted)'\n",
      " 'Monarch Adult (FIRST sighted)T sighted)'\n",
      " 'Monarch Adult (FIRST sighted)sighted)' 'Monarch (Captive Reared)ed)'\n",
      " 'Monarch (Captive Reared)' 'Monarch (OTHER Observations)ations)'\n",
      " 'Monarch Larva Sighted ' 'Monarch Fall Roost ' 'Monarch Egg Sighted '\n",
      " 'Monarch, captive-Reared' 'MOnarch Larva Sighted'\n",
      " 'Monarch Adult Sighted ' 'Monarch adult Sighted' 'Monarch Adult SIghted'\n",
      " 'Monarch Adult (FIRST sighted) ' 'Monarchch Adult Sighted'\n",
      " 'Monarch egg Sighted' 'Monarch larva Sighted' 'Monarch , Captive-Raised'\n",
      " 'Monarch, Captive' 'Monarch,' 'Monarch Adult sighted'\n",
      " 'Monarch, Captive-reared']\n",
      "[1 0]\n"
     ]
    }
   ],
   "source": [
    "# Determine the number of unique values in each column.\n",
    "for col in JNorth1996_2020_df:\n",
    "  print(JNorth1996_2020_df[col].unique())"
   ]
  },
  {
   "cell_type": "code",
   "execution_count": 11,
   "id": "5c015895",
   "metadata": {},
   "outputs": [
    {
     "name": "stdout",
     "output_type": "stream",
     "text": [
      "850841703     1\n",
      "1526350827    1\n",
      "1526350816    1\n",
      "1526350817    1\n",
      "1526350818    1\n",
      "             ..\n",
      "1432512422    1\n",
      "1432519704    1\n",
      "1432562236    1\n",
      "1432562641    1\n",
      "1526525021    1\n",
      "Name: id, Length: 227433, dtype: int64\n",
      "2018-08-22    392\n",
      "2018-10-03    377\n",
      "2018-09-06    353\n",
      "2019-09-19    337\n",
      "2018-09-12    335\n",
      "             ... \n",
      "2015-12-31      1\n",
      "2015-11-24      1\n",
      "2015-11-22      1\n",
      "2006-07-30      1\n",
      "1996-12-16      1\n",
      "Name: sighting_date, Length: 7491, dtype: int64\n",
      "Monarch Adult Sighted            102306\n",
      "Monarch Adult (FIRST sighted)     36409\n",
      "Monarch Larva Sighted             17378\n",
      "Monarch, Captive-Reared           14339\n",
      "Monarch (OTHER Observations)      13581\n",
      "Monarch Egg Sighted                8736\n",
      "Milkweed (FIRST sighted)           8465\n",
      "Monarch PEAK Migration             7689\n",
      "Monarch Egg (FIRST sighted)        6876\n",
      "Monarch Fall Roost                 5035\n",
      "Monarch Larva (FIRST sighted)      4898\n",
      "Milkweed Sighted                   1721\n",
      "Name: species, dtype: int64\n",
      "1       139319\n",
      "2        24169\n",
      "3        13055\n",
      "4         7795\n",
      "5         6118\n",
      "         ...  \n",
      "860          1\n",
      "315          1\n",
      "244          1\n",
      "1351         1\n",
      "159          1\n",
      "Name: number, Length: 555, dtype: int64\n",
      "29.757    811\n",
      "30.230    765\n",
      "45.033    702\n",
      "37.944    700\n",
      "42.409    659\n",
      "         ... \n",
      "30.770      1\n",
      "38.355      1\n",
      "33.305      1\n",
      "29.930      1\n",
      "27.594      1\n",
      "Name: latitude, Length: 18851, dtype: int64\n",
      "-95.365     807\n",
      "-97.714     752\n",
      "-87.405     695\n",
      "-93.224     620\n",
      "-82.220     605\n",
      "           ... \n",
      "-77.529       1\n",
      "-69.400       1\n",
      "-101.051      1\n",
      "-69.254       1\n",
      "-122.557      1\n",
      "Name: longitude, Length: 30123, dtype: int64\n",
      "1    136009\n",
      "0     91424\n",
      "Name: flag_location, dtype: int64\n",
      "-999999.999                                                                                                                                                               1427\n",
      "Female                                                                                                                                                                     170\n",
      "Flying                                                                                                                                                                     144\n",
      "Male                                                                                                                                                                       118\n",
      "Recorded as an incidental sighting while conducting surveys on the Fort Hood military base.                                                                                104\n",
      "                                                                                                                                                                          ... \n",
      "first female sighting around 3 pm in richmond-laid egg on common milkweed.  Warm sw wind -monarch looked fresh                                                               1\n",
      "Spotted our first milkweed shoots in our butterfly garden at Lake Anne Elementary this afternoon after the first weekend with warmer temperatures.                           1\n",
      "Spotted 1 adult near Love Valley Wildlife Reserve near the Red River.                                                                                                        1\n",
      "Established Asclepias syriaca L. plants in open area have emerged approximately 1 inch in height one day after 0.7\" rainfall.                                                1\n",
      "Date of last adult sighted.Total sightings were 98 adults from June 3 to Sept. 4.Peak sightings were July 8 to Aug 7.Approx. acreage with milkweed is equal to 4.5Ac.        1\n",
      "Name: comments, Length: 212736, dtype: int64\n",
      "-999999.999                            139036\n",
      "-999999.999                             63593\n",
      "None                                      457\n",
      "Homeschool                                331\n",
      "Virginia living museum                    263\n",
      "                                        ...  \n",
      "William e. norris elementary school         1\n",
      "Coventry elementary school                  1\n",
      "Adams is close                              1\n",
      "Salem elementary school                     1\n",
      "Walker memorial junior academy              1\n",
      "Name: school, Length: 6914, dtype: int64\n",
      "-999999.999    206370\n",
      " 99.000          3136\n",
      " 4.000           2947\n",
      " 3.000           2543\n",
      " 2.000           2541\n",
      "                ...  \n",
      " 1012.000           1\n",
      " 678.000            1\n",
      " 69.000             1\n",
      " 95.000             1\n",
      " 135.000            1\n",
      "Name: grade, Length: 67, dtype: int64\n",
      "-999999.999                                                                   183911\n",
      "//sightings.journeynorth.org/jnorth/images/userfiles2018/09/1526362818.jpg         8\n",
      "https://journeynorth.org/jnorth/images/userfiles/1366245309.jpg                    3\n",
      "https://journeynorth.org/jnorth/images/userfiles/1331931236.jpg                    3\n",
      "//journeynorth.org/jnorth/images/userfiles2020/04/1526445894.jpg                   2\n",
      "                                                                               ...  \n",
      "https://journeynorth.org/jnorth/images/userfiles2017/06/1496327046.jpg             1\n",
      "https://journeynorth.org/jnorth/images/userfiles2017/06/1496327055.jpg             1\n",
      "https://journeynorth.org/jnorth/images/userfiles2017/06/1496327056.jpg             1\n",
      "https://journeynorth.org/jnorth/images/userfiles2017/06/1496327063.jpg             1\n",
      "//journeynorth.org/jnorth/images/userfiles2021/06/1526524404.jpg                   1\n",
      "Name: image_url, Length: 43474, dtype: int64\n",
      "9710973     7256\n",
      "9979617     2054\n",
      "9976074     1055\n",
      "9975275      900\n",
      "10010858     757\n",
      "            ... \n",
      "9979243        1\n",
      "9979242        1\n",
      "9979240        1\n",
      "9979216        1\n",
      "10042557       1\n",
      "Name: customerid, Length: 42518, dtype: int64\n",
      " 1.000         73436\n",
      "-999999.999    64715\n",
      " 2.000         24169\n",
      " 3.000         13055\n",
      " 4.000          7795\n",
      "               ...  \n",
      " 445.000           1\n",
      " 1700.000          1\n",
      " 254.000           1\n",
      " 429.000           1\n",
      " 159.000           1\n",
      "Name: number_old, Length: 557, dtype: int64\n",
      "0    161550\n",
      "1     64715\n",
      "2      1168\n",
      "Name: flag_number, dtype: int64\n",
      "Monarch Adult Sighted                          91662\n",
      "Monarch Adult (FIRST sighted)                  25311\n",
      "Monarch Larva Sighted                          17373\n",
      "Monarch, Captive-Reared                        14329\n",
      "Monarch (OTHER Observations)                   10626\n",
      "                                               ...  \n",
      "monarch (OTHER Observations)                       1\n",
      "Monarch (OTHER Observations) READY                 1\n",
      "Monarch Fall Roost (waiting for permission)        1\n",
      "Monarch, Captive Reared                            1\n",
      "Monarch, Captive-reared                            1\n",
      "Name: species_old, Length: 96, dtype: int64\n",
      "0    197793\n",
      "1     29640\n",
      "Name: flag_species, dtype: int64\n"
     ]
    }
   ],
   "source": [
    "# Determine the number of unique values in each column.\n",
    "for col in JNorth1996_2020_df:\n",
    "  print(JNorth1996_2020_df[col].value_counts())"
   ]
  },
  {
   "cell_type": "code",
   "execution_count": 12,
   "id": "df89a73c",
   "metadata": {},
   "outputs": [
    {
     "name": "stdout",
     "output_type": "stream",
     "text": [
      "Column id has 0 null values\n",
      "Column sighting_date has 0 null values\n",
      "Column species has 0 null values\n",
      "Column number has 0 null values\n",
      "Column latitude has 0 null values\n",
      "Column longitude has 0 null values\n",
      "Column flag_location has 0 null values\n",
      "Column comments has 0 null values\n",
      "Column school has 0 null values\n",
      "Column grade has 0 null values\n",
      "Column image_url has 0 null values\n",
      "Column customerid has 0 null values\n",
      "Column number_old has 0 null values\n",
      "Column flag_number has 0 null values\n",
      "Column species_old has 0 null values\n",
      "Column flag_species has 0 null values\n"
     ]
    }
   ],
   "source": [
    "# Find null values\n",
    "for column in JNorth1996_2020_df.columns:\n",
    "   print(f\"Column {column} has {JNorth1996_2020_df[column].isnull().sum()} null values\")"
   ]
  },
  {
   "cell_type": "code",
   "execution_count": 13,
   "id": "f625b64c",
   "metadata": {},
   "outputs": [
    {
     "name": "stdout",
     "output_type": "stream",
     "text": [
      "Duplicate entries: 0\n"
     ]
    }
   ],
   "source": [
    "# Find duplicate entries\n",
    "print(f\"Duplicate entries: {JNorth1996_2020_df.duplicated().sum()}\")"
   ]
  },
  {
   "cell_type": "code",
   "execution_count": 14,
   "id": "324f6253",
   "metadata": {
    "scrolled": true
   },
   "outputs": [
    {
     "data": {
      "text/html": [
       "<div>\n",
       "<style scoped>\n",
       "    .dataframe tbody tr th:only-of-type {\n",
       "        vertical-align: middle;\n",
       "    }\n",
       "\n",
       "    .dataframe tbody tr th {\n",
       "        vertical-align: top;\n",
       "    }\n",
       "\n",
       "    .dataframe thead th {\n",
       "        text-align: right;\n",
       "    }\n",
       "</style>\n",
       "<table border=\"1\" class=\"dataframe\">\n",
       "  <thead>\n",
       "    <tr style=\"text-align: right;\">\n",
       "      <th></th>\n",
       "      <th>id</th>\n",
       "      <th>sighting_date</th>\n",
       "      <th>species</th>\n",
       "      <th>number</th>\n",
       "      <th>latitude</th>\n",
       "      <th>longitude</th>\n",
       "      <th>flag_location</th>\n",
       "      <th>comments</th>\n",
       "      <th>school</th>\n",
       "      <th>grade</th>\n",
       "      <th>image_url</th>\n",
       "      <th>customerid</th>\n",
       "      <th>number_old</th>\n",
       "      <th>flag_number</th>\n",
       "      <th>species_old</th>\n",
       "      <th>flag_species</th>\n",
       "    </tr>\n",
       "  </thead>\n",
       "  <tbody>\n",
       "    <tr>\n",
       "      <th>77626</th>\n",
       "      <td>1437487881</td>\n",
       "      <td>2015-07-20</td>\n",
       "      <td>Monarch, Captive-Reared</td>\n",
       "      <td>1</td>\n",
       "      <td>43.700</td>\n",
       "      <td>-79.417</td>\n",
       "      <td>0</td>\n",
       "      <td>Released first monarch of the season in Etobic...</td>\n",
       "      <td>-999999.999</td>\n",
       "      <td>-999999.999</td>\n",
       "      <td>https://journeynorth.org/jnorth/images/userfil...</td>\n",
       "      <td>9983723</td>\n",
       "      <td>1.000</td>\n",
       "      <td>0</td>\n",
       "      <td>Monarch, Captive-Reared</td>\n",
       "      <td>0</td>\n",
       "    </tr>\n",
       "    <tr>\n",
       "      <th>77761</th>\n",
       "      <td>1437684876</td>\n",
       "      <td>2015-07-23</td>\n",
       "      <td>Monarch, Captive-Reared</td>\n",
       "      <td>2</td>\n",
       "      <td>37.954</td>\n",
       "      <td>-87.391</td>\n",
       "      <td>0</td>\n",
       "      <td>I just released this female and male monarch. ...</td>\n",
       "      <td>-999999.999</td>\n",
       "      <td>-999999.999</td>\n",
       "      <td>https://journeynorth.org/jnorth/images/userfil...</td>\n",
       "      <td>9976074</td>\n",
       "      <td>2.000</td>\n",
       "      <td>0</td>\n",
       "      <td>Monarch, Captive-Reared</td>\n",
       "      <td>0</td>\n",
       "    </tr>\n",
       "    <tr>\n",
       "      <th>77800</th>\n",
       "      <td>1437757073</td>\n",
       "      <td>2015-07-24</td>\n",
       "      <td>Monarch, Captive-Reared</td>\n",
       "      <td>1</td>\n",
       "      <td>40.106</td>\n",
       "      <td>-74.354</td>\n",
       "      <td>0</td>\n",
       "      <td>This is my first raised female that I named Fl...</td>\n",
       "      <td>-999999.999</td>\n",
       "      <td>-999999.999</td>\n",
       "      <td>https://journeynorth.org/jnorth/images/userfil...</td>\n",
       "      <td>9992117</td>\n",
       "      <td>1.000</td>\n",
       "      <td>0</td>\n",
       "      <td>Monarch, Captive-Reared</td>\n",
       "      <td>0</td>\n",
       "    </tr>\n",
       "    <tr>\n",
       "      <th>77873</th>\n",
       "      <td>1437920818</td>\n",
       "      <td>2015-07-26</td>\n",
       "      <td>Monarch, Captive-Reared</td>\n",
       "      <td>1</td>\n",
       "      <td>40.106</td>\n",
       "      <td>-74.354</td>\n",
       "      <td>0</td>\n",
       "      <td>My first released Monarch that was such fun to...</td>\n",
       "      <td>-999999.999</td>\n",
       "      <td>-999999.999</td>\n",
       "      <td>https://journeynorth.org/jnorth/images/userfil...</td>\n",
       "      <td>9992117</td>\n",
       "      <td>-999999.999</td>\n",
       "      <td>1</td>\n",
       "      <td>Monarch, Captive-Reared</td>\n",
       "      <td>0</td>\n",
       "    </tr>\n",
       "    <tr>\n",
       "      <th>77930</th>\n",
       "      <td>1437960064</td>\n",
       "      <td>2015-07-26</td>\n",
       "      <td>Monarch, Captive-Reared</td>\n",
       "      <td>3</td>\n",
       "      <td>38.510</td>\n",
       "      <td>-90.748</td>\n",
       "      <td>0</td>\n",
       "      <td>This beautiful male came out of his chrysalis ...</td>\n",
       "      <td>-999999.999</td>\n",
       "      <td>-999999.999</td>\n",
       "      <td>https://journeynorth.org/jnorth/images/userfil...</td>\n",
       "      <td>9954412</td>\n",
       "      <td>3.000</td>\n",
       "      <td>0</td>\n",
       "      <td>Monarch, Captive-Reared</td>\n",
       "      <td>0</td>\n",
       "    </tr>\n",
       "  </tbody>\n",
       "</table>\n",
       "</div>"
      ],
      "text/plain": [
       "               id sighting_date                  species  number  latitude  \\\n",
       "77626  1437487881    2015-07-20  Monarch, Captive-Reared       1    43.700   \n",
       "77761  1437684876    2015-07-23  Monarch, Captive-Reared       2    37.954   \n",
       "77800  1437757073    2015-07-24  Monarch, Captive-Reared       1    40.106   \n",
       "77873  1437920818    2015-07-26  Monarch, Captive-Reared       1    40.106   \n",
       "77930  1437960064    2015-07-26  Monarch, Captive-Reared       3    38.510   \n",
       "\n",
       "       longitude  flag_location  \\\n",
       "77626    -79.417              0   \n",
       "77761    -87.391              0   \n",
       "77800    -74.354              0   \n",
       "77873    -74.354              0   \n",
       "77930    -90.748              0   \n",
       "\n",
       "                                                comments       school  \\\n",
       "77626  Released first monarch of the season in Etobic...  -999999.999   \n",
       "77761  I just released this female and male monarch. ...  -999999.999   \n",
       "77800  This is my first raised female that I named Fl...  -999999.999   \n",
       "77873  My first released Monarch that was such fun to...  -999999.999   \n",
       "77930  This beautiful male came out of his chrysalis ...  -999999.999   \n",
       "\n",
       "            grade                                          image_url  \\\n",
       "77626 -999999.999  https://journeynorth.org/jnorth/images/userfil...   \n",
       "77761 -999999.999  https://journeynorth.org/jnorth/images/userfil...   \n",
       "77800 -999999.999  https://journeynorth.org/jnorth/images/userfil...   \n",
       "77873 -999999.999  https://journeynorth.org/jnorth/images/userfil...   \n",
       "77930 -999999.999  https://journeynorth.org/jnorth/images/userfil...   \n",
       "\n",
       "       customerid  number_old  flag_number              species_old  \\\n",
       "77626     9983723       1.000            0  Monarch, Captive-Reared   \n",
       "77761     9976074       2.000            0  Monarch, Captive-Reared   \n",
       "77800     9992117       1.000            0  Monarch, Captive-Reared   \n",
       "77873     9992117 -999999.999            1  Monarch, Captive-Reared   \n",
       "77930     9954412       3.000            0  Monarch, Captive-Reared   \n",
       "\n",
       "       flag_species  \n",
       "77626             0  \n",
       "77761             0  \n",
       "77800             0  \n",
       "77873             0  \n",
       "77930             0  "
      ]
     },
     "execution_count": 14,
     "metadata": {},
     "output_type": "execute_result"
    }
   ],
   "source": [
    "# filtering by type of observation (Monarch First Egg Sighted)\n",
    "JNorth_Captive_Reared_df = JNorth1996_2020_df[JNorth1996_2020_df['species']=='Monarch, Captive-Reared']\n",
    "JNorth_Captive_Reared_df.head()"
   ]
  },
  {
   "cell_type": "code",
   "execution_count": 15,
   "id": "e5f16410",
   "metadata": {},
   "outputs": [],
   "source": [
    "JNorth_Captive_Reared_df.to_csv('JNorth_Captive_Reared.csv', header=True, mode='w' )"
   ]
  },
  {
   "cell_type": "code",
   "execution_count": 16,
   "id": "e2fdaf3f",
   "metadata": {},
   "outputs": [
    {
     "data": {
      "text/plain": [
       "(14339, 16)"
      ]
     },
     "execution_count": 16,
     "metadata": {},
     "output_type": "execute_result"
    }
   ],
   "source": [
    "JNorth_Captive_Reared_df.shape"
   ]
  },
  {
   "cell_type": "markdown",
   "id": "58d210d2",
   "metadata": {},
   "source": [
    "# Format file for geoJSON "
   ]
  },
  {
   "cell_type": "code",
   "execution_count": 17,
   "id": "6134356f",
   "metadata": {},
   "outputs": [
    {
     "name": "stderr",
     "output_type": "stream",
     "text": [
      "C:\\Users\\motte\\anaconda3\\envs\\mlenv\\lib\\site-packages\\pandas\\core\\frame.py:4913: SettingWithCopyWarning: \n",
      "A value is trying to be set on a copy of a slice from a DataFrame\n",
      "\n",
      "See the caveats in the documentation: https://pandas.pydata.org/pandas-docs/stable/user_guide/indexing.html#returning-a-view-versus-a-copy\n",
      "  errors=errors,\n"
     ]
    },
    {
     "data": {
      "text/html": [
       "<div>\n",
       "<style scoped>\n",
       "    .dataframe tbody tr th:only-of-type {\n",
       "        vertical-align: middle;\n",
       "    }\n",
       "\n",
       "    .dataframe tbody tr th {\n",
       "        vertical-align: top;\n",
       "    }\n",
       "\n",
       "    .dataframe thead th {\n",
       "        text-align: right;\n",
       "    }\n",
       "</style>\n",
       "<table border=\"1\" class=\"dataframe\">\n",
       "  <thead>\n",
       "    <tr style=\"text-align: right;\">\n",
       "      <th></th>\n",
       "      <th>sighting_date</th>\n",
       "      <th>species</th>\n",
       "      <th>number</th>\n",
       "      <th>latitude</th>\n",
       "      <th>longitude</th>\n",
       "    </tr>\n",
       "  </thead>\n",
       "  <tbody>\n",
       "    <tr>\n",
       "      <th>77626</th>\n",
       "      <td>2015-07-20</td>\n",
       "      <td>Monarch, Captive-Reared</td>\n",
       "      <td>1</td>\n",
       "      <td>43.700</td>\n",
       "      <td>-79.417</td>\n",
       "    </tr>\n",
       "    <tr>\n",
       "      <th>77761</th>\n",
       "      <td>2015-07-23</td>\n",
       "      <td>Monarch, Captive-Reared</td>\n",
       "      <td>2</td>\n",
       "      <td>37.954</td>\n",
       "      <td>-87.391</td>\n",
       "    </tr>\n",
       "    <tr>\n",
       "      <th>77800</th>\n",
       "      <td>2015-07-24</td>\n",
       "      <td>Monarch, Captive-Reared</td>\n",
       "      <td>1</td>\n",
       "      <td>40.106</td>\n",
       "      <td>-74.354</td>\n",
       "    </tr>\n",
       "    <tr>\n",
       "      <th>77873</th>\n",
       "      <td>2015-07-26</td>\n",
       "      <td>Monarch, Captive-Reared</td>\n",
       "      <td>1</td>\n",
       "      <td>40.106</td>\n",
       "      <td>-74.354</td>\n",
       "    </tr>\n",
       "    <tr>\n",
       "      <th>77930</th>\n",
       "      <td>2015-07-26</td>\n",
       "      <td>Monarch, Captive-Reared</td>\n",
       "      <td>3</td>\n",
       "      <td>38.510</td>\n",
       "      <td>-90.748</td>\n",
       "    </tr>\n",
       "  </tbody>\n",
       "</table>\n",
       "</div>"
      ],
      "text/plain": [
       "      sighting_date                  species  number  latitude  longitude\n",
       "77626    2015-07-20  Monarch, Captive-Reared       1    43.700    -79.417\n",
       "77761    2015-07-23  Monarch, Captive-Reared       2    37.954    -87.391\n",
       "77800    2015-07-24  Monarch, Captive-Reared       1    40.106    -74.354\n",
       "77873    2015-07-26  Monarch, Captive-Reared       1    40.106    -74.354\n",
       "77930    2015-07-26  Monarch, Captive-Reared       3    38.510    -90.748"
      ]
     },
     "execution_count": 17,
     "metadata": {},
     "output_type": "execute_result"
    }
   ],
   "source": [
    "JNorth_Captive_Reared_df.drop(['id','flag_location', 'comments','school','grade','image_url','customerid','number_old','flag_number','species_old','flag_species'], axis=1, inplace=True)\n",
    "JNorth_Captive_Reared_df.head()"
   ]
  },
  {
   "cell_type": "code",
   "execution_count": 18,
   "id": "1a6fb766",
   "metadata": {},
   "outputs": [],
   "source": [
    "cols = ['sighting_date', 'species', 'number', 'latitude', 'longitude']"
   ]
  },
  {
   "cell_type": "code",
   "execution_count": 19,
   "id": "7e250a92",
   "metadata": {},
   "outputs": [
    {
     "data": {
      "text/html": [
       "<div>\n",
       "<style scoped>\n",
       "    .dataframe tbody tr th:only-of-type {\n",
       "        vertical-align: middle;\n",
       "    }\n",
       "\n",
       "    .dataframe tbody tr th {\n",
       "        vertical-align: top;\n",
       "    }\n",
       "\n",
       "    .dataframe thead th {\n",
       "        text-align: right;\n",
       "    }\n",
       "</style>\n",
       "<table border=\"1\" class=\"dataframe\">\n",
       "  <thead>\n",
       "    <tr style=\"text-align: right;\">\n",
       "      <th></th>\n",
       "      <th>sighting_date</th>\n",
       "      <th>species</th>\n",
       "      <th>latitude</th>\n",
       "      <th>longitude</th>\n",
       "      <th>number</th>\n",
       "    </tr>\n",
       "  </thead>\n",
       "  <tbody>\n",
       "    <tr>\n",
       "      <th>0</th>\n",
       "      <td>2005-10-21</td>\n",
       "      <td>Monarch, Captive-Reared</td>\n",
       "      <td>35.741</td>\n",
       "      <td>-86.538</td>\n",
       "      <td>1</td>\n",
       "    </tr>\n",
       "    <tr>\n",
       "      <th>1</th>\n",
       "      <td>2006-02-18</td>\n",
       "      <td>Monarch, Captive-Reared</td>\n",
       "      <td>29.026</td>\n",
       "      <td>-80.927</td>\n",
       "      <td>45</td>\n",
       "    </tr>\n",
       "    <tr>\n",
       "      <th>2</th>\n",
       "      <td>2009-08-18</td>\n",
       "      <td>Monarch, Captive-Reared</td>\n",
       "      <td>43.235</td>\n",
       "      <td>-85.327</td>\n",
       "      <td>1</td>\n",
       "    </tr>\n",
       "    <tr>\n",
       "      <th>3</th>\n",
       "      <td>2010-09-26</td>\n",
       "      <td>Monarch, Captive-Reared</td>\n",
       "      <td>40.555</td>\n",
       "      <td>-89.972</td>\n",
       "      <td>1</td>\n",
       "    </tr>\n",
       "    <tr>\n",
       "      <th>4</th>\n",
       "      <td>2010-10-11</td>\n",
       "      <td>Monarch, Captive-Reared</td>\n",
       "      <td>33.749</td>\n",
       "      <td>-84.388</td>\n",
       "      <td>15</td>\n",
       "    </tr>\n",
       "  </tbody>\n",
       "</table>\n",
       "</div>"
      ],
      "text/plain": [
       "  sighting_date                  species  latitude  longitude  number\n",
       "0    2005-10-21  Monarch, Captive-Reared    35.741    -86.538       1\n",
       "1    2006-02-18  Monarch, Captive-Reared    29.026    -80.927      45\n",
       "2    2009-08-18  Monarch, Captive-Reared    43.235    -85.327       1\n",
       "3    2010-09-26  Monarch, Captive-Reared    40.555    -89.972       1\n",
       "4    2010-10-11  Monarch, Captive-Reared    33.749    -84.388      15"
      ]
     },
     "execution_count": 19,
     "metadata": {},
     "output_type": "execute_result"
    }
   ],
   "source": [
    "JNorth_Captive_Reared_df =JNorth_Captive_Reared_df.groupby(['sighting_date', 'species', 'latitude', 'longitude']).sum().reset_index()\n",
    "JNorth_Captive_Reared_df.head()"
   ]
  },
  {
   "cell_type": "code",
   "execution_count": 20,
   "id": "baed4881",
   "metadata": {},
   "outputs": [
    {
     "data": {
      "text/plain": [
       "['sighting_date', 'species', 'latitude', 'longitude', 'number']"
      ]
     },
     "execution_count": 20,
     "metadata": {},
     "output_type": "execute_result"
    }
   ],
   "source": [
    "JNorth_Captive_Reared_df.columns.tolist()"
   ]
  },
  {
   "cell_type": "code",
   "execution_count": 21,
   "id": "0414e769",
   "metadata": {},
   "outputs": [
    {
     "data": {
      "text/html": [
       "<div>\n",
       "<style scoped>\n",
       "    .dataframe tbody tr th:only-of-type {\n",
       "        vertical-align: middle;\n",
       "    }\n",
       "\n",
       "    .dataframe tbody tr th {\n",
       "        vertical-align: top;\n",
       "    }\n",
       "\n",
       "    .dataframe thead th {\n",
       "        text-align: right;\n",
       "    }\n",
       "</style>\n",
       "<table border=\"1\" class=\"dataframe\">\n",
       "  <thead>\n",
       "    <tr style=\"text-align: right;\">\n",
       "      <th></th>\n",
       "      <th>sighting_date</th>\n",
       "      <th>species</th>\n",
       "      <th>latitude</th>\n",
       "      <th>longitude</th>\n",
       "      <th>number</th>\n",
       "    </tr>\n",
       "  </thead>\n",
       "  <tbody>\n",
       "    <tr>\n",
       "      <th>0</th>\n",
       "      <td>2005-10-21</td>\n",
       "      <td>Monarch, Captive-Reared</td>\n",
       "      <td>35.741</td>\n",
       "      <td>-86.538</td>\n",
       "      <td>1</td>\n",
       "    </tr>\n",
       "    <tr>\n",
       "      <th>1</th>\n",
       "      <td>2006-02-18</td>\n",
       "      <td>Monarch, Captive-Reared</td>\n",
       "      <td>29.026</td>\n",
       "      <td>-80.927</td>\n",
       "      <td>45</td>\n",
       "    </tr>\n",
       "    <tr>\n",
       "      <th>2</th>\n",
       "      <td>2009-08-18</td>\n",
       "      <td>Monarch, Captive-Reared</td>\n",
       "      <td>43.235</td>\n",
       "      <td>-85.327</td>\n",
       "      <td>1</td>\n",
       "    </tr>\n",
       "    <tr>\n",
       "      <th>3</th>\n",
       "      <td>2010-09-26</td>\n",
       "      <td>Monarch, Captive-Reared</td>\n",
       "      <td>40.555</td>\n",
       "      <td>-89.972</td>\n",
       "      <td>1</td>\n",
       "    </tr>\n",
       "    <tr>\n",
       "      <th>4</th>\n",
       "      <td>2010-10-11</td>\n",
       "      <td>Monarch, Captive-Reared</td>\n",
       "      <td>33.749</td>\n",
       "      <td>-84.388</td>\n",
       "      <td>15</td>\n",
       "    </tr>\n",
       "  </tbody>\n",
       "</table>\n",
       "</div>"
      ],
      "text/plain": [
       "  sighting_date                  species  latitude  longitude  number\n",
       "0    2005-10-21  Monarch, Captive-Reared    35.741    -86.538       1\n",
       "1    2006-02-18  Monarch, Captive-Reared    29.026    -80.927      45\n",
       "2    2009-08-18  Monarch, Captive-Reared    43.235    -85.327       1\n",
       "3    2010-09-26  Monarch, Captive-Reared    40.555    -89.972       1\n",
       "4    2010-10-11  Monarch, Captive-Reared    33.749    -84.388      15"
      ]
     },
     "execution_count": 21,
     "metadata": {},
     "output_type": "execute_result"
    }
   ],
   "source": [
    "JNorth_Captive_Reared_df.head()"
   ]
  },
  {
   "cell_type": "code",
   "execution_count": 22,
   "id": "1be947ec",
   "metadata": {},
   "outputs": [
    {
     "data": {
      "text/plain": [
       "(13733, 5)"
      ]
     },
     "execution_count": 22,
     "metadata": {},
     "output_type": "execute_result"
    }
   ],
   "source": [
    "JNorth_Captive_Reared_df.shape"
   ]
  },
  {
   "cell_type": "code",
   "execution_count": 23,
   "id": "bb6146d3",
   "metadata": {},
   "outputs": [],
   "source": [
    "JNorth_Captive_Reared_year_df = JNorth_Captive_Reared_df\n",
    "JNorth_Captive_Reared_year_df['year'] = pd.DatetimeIndex(JNorth_Captive_Reared_df['sighting_date']).year"
   ]
  },
  {
   "cell_type": "markdown",
   "id": "fb164498",
   "metadata": {},
   "source": [
    "# 2016"
   ]
  },
  {
   "cell_type": "code",
   "execution_count": 24,
   "id": "213c99b0",
   "metadata": {},
   "outputs": [
    {
     "data": {
      "text/html": [
       "<div>\n",
       "<style scoped>\n",
       "    .dataframe tbody tr th:only-of-type {\n",
       "        vertical-align: middle;\n",
       "    }\n",
       "\n",
       "    .dataframe tbody tr th {\n",
       "        vertical-align: top;\n",
       "    }\n",
       "\n",
       "    .dataframe thead th {\n",
       "        text-align: right;\n",
       "    }\n",
       "</style>\n",
       "<table border=\"1\" class=\"dataframe\">\n",
       "  <thead>\n",
       "    <tr style=\"text-align: right;\">\n",
       "      <th></th>\n",
       "      <th>sighting_date</th>\n",
       "      <th>species</th>\n",
       "      <th>latitude</th>\n",
       "      <th>longitude</th>\n",
       "      <th>number</th>\n",
       "      <th>year</th>\n",
       "    </tr>\n",
       "  </thead>\n",
       "  <tbody>\n",
       "    <tr>\n",
       "      <th>3267</th>\n",
       "      <td>2016-12-16</td>\n",
       "      <td>Monarch, Captive-Reared</td>\n",
       "      <td>28.891</td>\n",
       "      <td>-81.851</td>\n",
       "      <td>10</td>\n",
       "      <td>2016</td>\n",
       "    </tr>\n",
       "    <tr>\n",
       "      <th>3268</th>\n",
       "      <td>2016-12-16</td>\n",
       "      <td>Monarch, Captive-Reared</td>\n",
       "      <td>31.252</td>\n",
       "      <td>-89.835</td>\n",
       "      <td>18</td>\n",
       "      <td>2016</td>\n",
       "    </tr>\n",
       "    <tr>\n",
       "      <th>3269</th>\n",
       "      <td>2016-12-27</td>\n",
       "      <td>Monarch, Captive-Reared</td>\n",
       "      <td>33.433</td>\n",
       "      <td>-79.121</td>\n",
       "      <td>1</td>\n",
       "      <td>2016</td>\n",
       "    </tr>\n",
       "    <tr>\n",
       "      <th>3270</th>\n",
       "      <td>2016-12-28</td>\n",
       "      <td>Monarch, Captive-Reared</td>\n",
       "      <td>33.611</td>\n",
       "      <td>-116.244</td>\n",
       "      <td>1</td>\n",
       "      <td>2016</td>\n",
       "    </tr>\n",
       "    <tr>\n",
       "      <th>3271</th>\n",
       "      <td>2016-12-28</td>\n",
       "      <td>Monarch, Captive-Reared</td>\n",
       "      <td>33.612</td>\n",
       "      <td>-116.249</td>\n",
       "      <td>8</td>\n",
       "      <td>2016</td>\n",
       "    </tr>\n",
       "  </tbody>\n",
       "</table>\n",
       "</div>"
      ],
      "text/plain": [
       "     sighting_date                  species  latitude  longitude  number  year\n",
       "3267    2016-12-16  Monarch, Captive-Reared    28.891    -81.851      10  2016\n",
       "3268    2016-12-16  Monarch, Captive-Reared    31.252    -89.835      18  2016\n",
       "3269    2016-12-27  Monarch, Captive-Reared    33.433    -79.121       1  2016\n",
       "3270    2016-12-28  Monarch, Captive-Reared    33.611   -116.244       1  2016\n",
       "3271    2016-12-28  Monarch, Captive-Reared    33.612   -116.249       8  2016"
      ]
     },
     "execution_count": 24,
     "metadata": {},
     "output_type": "execute_result"
    }
   ],
   "source": [
    "JNorth_Captive_Reared_2016_df = JNorth_Captive_Reared_year_df[JNorth_Captive_Reared_year_df['year']==2016]\n",
    "JNorth_Captive_Reared_2016_df.tail()"
   ]
  },
  {
   "cell_type": "code",
   "execution_count": 25,
   "id": "c271bca8",
   "metadata": {},
   "outputs": [
    {
     "data": {
      "text/plain": [
       "(2040, 6)"
      ]
     },
     "execution_count": 25,
     "metadata": {},
     "output_type": "execute_result"
    }
   ],
   "source": [
    "JNorth_Captive_Reared_2016_df.shape"
   ]
  },
  {
   "cell_type": "code",
   "execution_count": 26,
   "id": "ac4b06bf",
   "metadata": {},
   "outputs": [
    {
     "name": "stderr",
     "output_type": "stream",
     "text": [
      "C:\\Users\\motte\\anaconda3\\envs\\mlenv\\lib\\site-packages\\ipykernel_launcher.py:1: SettingWithCopyWarning: \n",
      "A value is trying to be set on a copy of a slice from a DataFrame.\n",
      "Try using .loc[row_indexer,col_indexer] = value instead\n",
      "\n",
      "See the caveats in the documentation: https://pandas.pydata.org/pandas-docs/stable/user_guide/indexing.html#returning-a-view-versus-a-copy\n",
      "  \"\"\"Entry point for launching an IPython kernel.\n"
     ]
    }
   ],
   "source": [
    "JNorth_Captive_Reared_2016_df['month'] = pd.DatetimeIndex(JNorth_Captive_Reared_2016_df['sighting_date']).month"
   ]
  },
  {
   "cell_type": "markdown",
   "id": "e1e014c5",
   "metadata": {},
   "source": [
    "## January"
   ]
  },
  {
   "cell_type": "code",
   "execution_count": 27,
   "id": "4b51587a",
   "metadata": {},
   "outputs": [
    {
     "data": {
      "text/html": [
       "<div>\n",
       "<style scoped>\n",
       "    .dataframe tbody tr th:only-of-type {\n",
       "        vertical-align: middle;\n",
       "    }\n",
       "\n",
       "    .dataframe tbody tr th {\n",
       "        vertical-align: top;\n",
       "    }\n",
       "\n",
       "    .dataframe thead th {\n",
       "        text-align: right;\n",
       "    }\n",
       "</style>\n",
       "<table border=\"1\" class=\"dataframe\">\n",
       "  <thead>\n",
       "    <tr style=\"text-align: right;\">\n",
       "      <th></th>\n",
       "      <th>sighting_date</th>\n",
       "      <th>species</th>\n",
       "      <th>latitude</th>\n",
       "      <th>longitude</th>\n",
       "      <th>number</th>\n",
       "      <th>year</th>\n",
       "      <th>month</th>\n",
       "    </tr>\n",
       "  </thead>\n",
       "  <tbody>\n",
       "    <tr>\n",
       "      <th>1237</th>\n",
       "      <td>2016-01-14</td>\n",
       "      <td>Monarch, Captive-Reared</td>\n",
       "      <td>29.984</td>\n",
       "      <td>-90.166</td>\n",
       "      <td>1</td>\n",
       "      <td>2016</td>\n",
       "      <td>1</td>\n",
       "    </tr>\n",
       "    <tr>\n",
       "      <th>1238</th>\n",
       "      <td>2016-01-14</td>\n",
       "      <td>Monarch, Captive-Reared</td>\n",
       "      <td>33.683</td>\n",
       "      <td>-118.012</td>\n",
       "      <td>2</td>\n",
       "      <td>2016</td>\n",
       "      <td>1</td>\n",
       "    </tr>\n",
       "    <tr>\n",
       "      <th>1239</th>\n",
       "      <td>2016-01-15</td>\n",
       "      <td>Monarch, Captive-Reared</td>\n",
       "      <td>29.040</td>\n",
       "      <td>-81.383</td>\n",
       "      <td>12</td>\n",
       "      <td>2016</td>\n",
       "      <td>1</td>\n",
       "    </tr>\n",
       "    <tr>\n",
       "      <th>1240</th>\n",
       "      <td>2016-01-18</td>\n",
       "      <td>Monarch, Captive-Reared</td>\n",
       "      <td>30.695</td>\n",
       "      <td>-88.043</td>\n",
       "      <td>1</td>\n",
       "      <td>2016</td>\n",
       "      <td>1</td>\n",
       "    </tr>\n",
       "    <tr>\n",
       "      <th>1241</th>\n",
       "      <td>2016-01-27</td>\n",
       "      <td>Monarch, Captive-Reared</td>\n",
       "      <td>32.416</td>\n",
       "      <td>-80.738</td>\n",
       "      <td>1</td>\n",
       "      <td>2016</td>\n",
       "      <td>1</td>\n",
       "    </tr>\n",
       "  </tbody>\n",
       "</table>\n",
       "</div>"
      ],
      "text/plain": [
       "     sighting_date                  species  latitude  longitude  number  \\\n",
       "1237    2016-01-14  Monarch, Captive-Reared    29.984    -90.166       1   \n",
       "1238    2016-01-14  Monarch, Captive-Reared    33.683   -118.012       2   \n",
       "1239    2016-01-15  Monarch, Captive-Reared    29.040    -81.383      12   \n",
       "1240    2016-01-18  Monarch, Captive-Reared    30.695    -88.043       1   \n",
       "1241    2016-01-27  Monarch, Captive-Reared    32.416    -80.738       1   \n",
       "\n",
       "      year  month  \n",
       "1237  2016      1  \n",
       "1238  2016      1  \n",
       "1239  2016      1  \n",
       "1240  2016      1  \n",
       "1241  2016      1  "
      ]
     },
     "execution_count": 27,
     "metadata": {},
     "output_type": "execute_result"
    }
   ],
   "source": [
    "JNorth_Captive_Reared_2016_month_df =pd.DataFrame(JNorth_Captive_Reared_2016_df)\n",
    "JNorth_Captive_Reared_2016_1_df = JNorth_Captive_Reared_2016_month_df[JNorth_Captive_Reared_2016_month_df['month']==1]\n",
    "JNorth_Captive_Reared_2016_1_df.tail()"
   ]
  },
  {
   "cell_type": "code",
   "execution_count": 28,
   "id": "78ffb46c",
   "metadata": {},
   "outputs": [
    {
     "data": {
      "text/plain": [
       "(10, 7)"
      ]
     },
     "execution_count": 28,
     "metadata": {},
     "output_type": "execute_result"
    }
   ],
   "source": [
    "JNorth_Captive_Reared_2016_1_df.shape"
   ]
  },
  {
   "cell_type": "code",
   "execution_count": 29,
   "id": "0da596a9",
   "metadata": {},
   "outputs": [
    {
     "name": "stderr",
     "output_type": "stream",
     "text": [
      "C:\\Users\\motte\\anaconda3\\envs\\mlenv\\lib\\site-packages\\pandas\\core\\frame.py:4913: SettingWithCopyWarning: \n",
      "A value is trying to be set on a copy of a slice from a DataFrame\n",
      "\n",
      "See the caveats in the documentation: https://pandas.pydata.org/pandas-docs/stable/user_guide/indexing.html#returning-a-view-versus-a-copy\n",
      "  errors=errors,\n"
     ]
    }
   ],
   "source": [
    "JNorth_Captive_Reared_2016_1_df.drop(['month'], axis=1, inplace=True)"
   ]
  },
  {
   "cell_type": "code",
   "execution_count": 30,
   "id": "b77fbff4",
   "metadata": {},
   "outputs": [
    {
     "name": "stderr",
     "output_type": "stream",
     "text": [
      "C:\\Users\\motte\\anaconda3\\envs\\mlenv\\lib\\site-packages\\ipykernel_launcher.py:2: SettingWithCopyWarning: \n",
      "A value is trying to be set on a copy of a slice from a DataFrame.\n",
      "Try using .loc[row_indexer,col_indexer] = value instead\n",
      "\n",
      "See the caveats in the documentation: https://pandas.pydata.org/pandas-docs/stable/user_guide/indexing.html#returning-a-view-versus-a-copy\n",
      "  \n",
      "C:\\Users\\motte\\anaconda3\\envs\\mlenv\\lib\\site-packages\\ipykernel_launcher.py:3: SettingWithCopyWarning: \n",
      "A value is trying to be set on a copy of a slice from a DataFrame.\n",
      "Try using .loc[row_indexer,col_indexer] = value instead\n",
      "\n",
      "See the caveats in the documentation: https://pandas.pydata.org/pandas-docs/stable/user_guide/indexing.html#returning-a-view-versus-a-copy\n",
      "  This is separate from the ipykernel package so we can avoid doing imports until\n"
     ]
    }
   ],
   "source": [
    "# convert lat-long to floats and change address from ALL CAPS to regular capitalization\n",
    "JNorth_Captive_Reared_2016_1_df['latitude'] = JNorth_Captive_Reared_2016_1_df['latitude'].astype(float)\n",
    "JNorth_Captive_Reared_2016_1_df['longitude'] = JNorth_Captive_Reared_2016_1_df['longitude'].astype(float)\n",
    "# JNorth_Milkweed_Site_df['street_address'] = JNorth_Milkweed_Site_df['street_address'].str.title()"
   ]
  },
  {
   "cell_type": "code",
   "execution_count": 31,
   "id": "b2d65ff3",
   "metadata": {},
   "outputs": [],
   "source": [
    "geojson = df_to_geojson(JNorth_Captive_Reared_2016_1_df, cols)"
   ]
  },
  {
   "cell_type": "code",
   "execution_count": 32,
   "id": "7be09d07",
   "metadata": {},
   "outputs": [],
   "source": [
    "file = open(\"JNorth_Captive_Reared_2016_1.geojson\", \"w\")\n",
    "json.dump(geojson, file, indent =1)\n",
    "file.close()"
   ]
  },
  {
   "cell_type": "markdown",
   "id": "3fbad2ab",
   "metadata": {},
   "source": [
    "## February"
   ]
  },
  {
   "cell_type": "code",
   "execution_count": 33,
   "id": "5884490a",
   "metadata": {},
   "outputs": [
    {
     "data": {
      "text/html": [
       "<div>\n",
       "<style scoped>\n",
       "    .dataframe tbody tr th:only-of-type {\n",
       "        vertical-align: middle;\n",
       "    }\n",
       "\n",
       "    .dataframe tbody tr th {\n",
       "        vertical-align: top;\n",
       "    }\n",
       "\n",
       "    .dataframe thead th {\n",
       "        text-align: right;\n",
       "    }\n",
       "</style>\n",
       "<table border=\"1\" class=\"dataframe\">\n",
       "  <thead>\n",
       "    <tr style=\"text-align: right;\">\n",
       "      <th></th>\n",
       "      <th>sighting_date</th>\n",
       "      <th>species</th>\n",
       "      <th>latitude</th>\n",
       "      <th>longitude</th>\n",
       "      <th>number</th>\n",
       "      <th>year</th>\n",
       "      <th>month</th>\n",
       "    </tr>\n",
       "  </thead>\n",
       "  <tbody>\n",
       "    <tr>\n",
       "      <th>1249</th>\n",
       "      <td>2016-02-17</td>\n",
       "      <td>Monarch, Captive-Reared</td>\n",
       "      <td>30.429</td>\n",
       "      <td>-84.258</td>\n",
       "      <td>1</td>\n",
       "      <td>2016</td>\n",
       "      <td>2</td>\n",
       "    </tr>\n",
       "    <tr>\n",
       "      <th>1250</th>\n",
       "      <td>2016-02-18</td>\n",
       "      <td>Monarch, Captive-Reared</td>\n",
       "      <td>29.736</td>\n",
       "      <td>-98.659</td>\n",
       "      <td>1</td>\n",
       "      <td>2016</td>\n",
       "      <td>2</td>\n",
       "    </tr>\n",
       "    <tr>\n",
       "      <th>1251</th>\n",
       "      <td>2016-02-19</td>\n",
       "      <td>Monarch, Captive-Reared</td>\n",
       "      <td>33.384</td>\n",
       "      <td>-79.178</td>\n",
       "      <td>1</td>\n",
       "      <td>2016</td>\n",
       "      <td>2</td>\n",
       "    </tr>\n",
       "    <tr>\n",
       "      <th>1252</th>\n",
       "      <td>2016-02-22</td>\n",
       "      <td>Monarch, Captive-Reared</td>\n",
       "      <td>30.410</td>\n",
       "      <td>-86.760</td>\n",
       "      <td>2</td>\n",
       "      <td>2016</td>\n",
       "      <td>2</td>\n",
       "    </tr>\n",
       "    <tr>\n",
       "      <th>1253</th>\n",
       "      <td>2016-02-25</td>\n",
       "      <td>Monarch, Captive-Reared</td>\n",
       "      <td>28.802</td>\n",
       "      <td>-81.644</td>\n",
       "      <td>1</td>\n",
       "      <td>2016</td>\n",
       "      <td>2</td>\n",
       "    </tr>\n",
       "  </tbody>\n",
       "</table>\n",
       "</div>"
      ],
      "text/plain": [
       "     sighting_date                  species  latitude  longitude  number  \\\n",
       "1249    2016-02-17  Monarch, Captive-Reared    30.429    -84.258       1   \n",
       "1250    2016-02-18  Monarch, Captive-Reared    29.736    -98.659       1   \n",
       "1251    2016-02-19  Monarch, Captive-Reared    33.384    -79.178       1   \n",
       "1252    2016-02-22  Monarch, Captive-Reared    30.410    -86.760       2   \n",
       "1253    2016-02-25  Monarch, Captive-Reared    28.802    -81.644       1   \n",
       "\n",
       "      year  month  \n",
       "1249  2016      2  \n",
       "1250  2016      2  \n",
       "1251  2016      2  \n",
       "1252  2016      2  \n",
       "1253  2016      2  "
      ]
     },
     "execution_count": 33,
     "metadata": {},
     "output_type": "execute_result"
    }
   ],
   "source": [
    "JNorth_Captive_Reared_2016_month_df =pd.DataFrame(JNorth_Captive_Reared_2016_df)\n",
    "JNorth_Captive_Reared_2016_2_df = JNorth_Captive_Reared_2016_month_df[JNorth_Captive_Reared_2016_month_df['month']==2]\n",
    "JNorth_Captive_Reared_2016_2_df.tail()"
   ]
  },
  {
   "cell_type": "code",
   "execution_count": 34,
   "id": "b42cb926",
   "metadata": {},
   "outputs": [
    {
     "data": {
      "text/plain": [
       "(12, 7)"
      ]
     },
     "execution_count": 34,
     "metadata": {},
     "output_type": "execute_result"
    }
   ],
   "source": [
    "JNorth_Captive_Reared_2016_2_df.shape"
   ]
  },
  {
   "cell_type": "code",
   "execution_count": 35,
   "id": "b021a9c4",
   "metadata": {},
   "outputs": [
    {
     "name": "stderr",
     "output_type": "stream",
     "text": [
      "C:\\Users\\motte\\anaconda3\\envs\\mlenv\\lib\\site-packages\\pandas\\core\\frame.py:4913: SettingWithCopyWarning: \n",
      "A value is trying to be set on a copy of a slice from a DataFrame\n",
      "\n",
      "See the caveats in the documentation: https://pandas.pydata.org/pandas-docs/stable/user_guide/indexing.html#returning-a-view-versus-a-copy\n",
      "  errors=errors,\n"
     ]
    }
   ],
   "source": [
    "JNorth_Captive_Reared_2016_2_df.drop(['month'], axis=1, inplace=True)"
   ]
  },
  {
   "cell_type": "code",
   "execution_count": 36,
   "id": "9281836d",
   "metadata": {},
   "outputs": [
    {
     "name": "stderr",
     "output_type": "stream",
     "text": [
      "C:\\Users\\motte\\anaconda3\\envs\\mlenv\\lib\\site-packages\\ipykernel_launcher.py:2: SettingWithCopyWarning: \n",
      "A value is trying to be set on a copy of a slice from a DataFrame.\n",
      "Try using .loc[row_indexer,col_indexer] = value instead\n",
      "\n",
      "See the caveats in the documentation: https://pandas.pydata.org/pandas-docs/stable/user_guide/indexing.html#returning-a-view-versus-a-copy\n",
      "  \n",
      "C:\\Users\\motte\\anaconda3\\envs\\mlenv\\lib\\site-packages\\ipykernel_launcher.py:3: SettingWithCopyWarning: \n",
      "A value is trying to be set on a copy of a slice from a DataFrame.\n",
      "Try using .loc[row_indexer,col_indexer] = value instead\n",
      "\n",
      "See the caveats in the documentation: https://pandas.pydata.org/pandas-docs/stable/user_guide/indexing.html#returning-a-view-versus-a-copy\n",
      "  This is separate from the ipykernel package so we can avoid doing imports until\n"
     ]
    }
   ],
   "source": [
    "# convert lat-long to floats and change address from ALL CAPS to regular capitalization\n",
    "JNorth_Captive_Reared_2016_2_df['latitude'] = JNorth_Captive_Reared_2016_2_df['latitude'].astype(float)\n",
    "JNorth_Captive_Reared_2016_2_df['longitude'] = JNorth_Captive_Reared_2016_2_df['longitude'].astype(float)\n",
    "# JNorth_Milkweed_Site_df['street_address'] = JNorth_Milkweed_Site_df['street_address'].str.title()"
   ]
  },
  {
   "cell_type": "code",
   "execution_count": 37,
   "id": "a8b965ac",
   "metadata": {},
   "outputs": [],
   "source": [
    "geojson = df_to_geojson(JNorth_Captive_Reared_2016_2_df, cols)"
   ]
  },
  {
   "cell_type": "code",
   "execution_count": 38,
   "id": "ccc6a687",
   "metadata": {},
   "outputs": [],
   "source": [
    "file = open(\"JNorth_Captive_Reared_2016_2.geojson\", \"w\")\n",
    "json.dump(geojson, file, indent =1)\n",
    "file.close()"
   ]
  },
  {
   "cell_type": "markdown",
   "id": "f58b04b3",
   "metadata": {},
   "source": [
    "## March"
   ]
  },
  {
   "cell_type": "code",
   "execution_count": 39,
   "id": "a8ef2f5b",
   "metadata": {},
   "outputs": [
    {
     "data": {
      "text/html": [
       "<div>\n",
       "<style scoped>\n",
       "    .dataframe tbody tr th:only-of-type {\n",
       "        vertical-align: middle;\n",
       "    }\n",
       "\n",
       "    .dataframe tbody tr th {\n",
       "        vertical-align: top;\n",
       "    }\n",
       "\n",
       "    .dataframe thead th {\n",
       "        text-align: right;\n",
       "    }\n",
       "</style>\n",
       "<table border=\"1\" class=\"dataframe\">\n",
       "  <thead>\n",
       "    <tr style=\"text-align: right;\">\n",
       "      <th></th>\n",
       "      <th>sighting_date</th>\n",
       "      <th>species</th>\n",
       "      <th>latitude</th>\n",
       "      <th>longitude</th>\n",
       "      <th>number</th>\n",
       "      <th>year</th>\n",
       "      <th>month</th>\n",
       "    </tr>\n",
       "  </thead>\n",
       "  <tbody>\n",
       "    <tr>\n",
       "      <th>1259</th>\n",
       "      <td>2016-03-19</td>\n",
       "      <td>Monarch, Captive-Reared</td>\n",
       "      <td>29.773</td>\n",
       "      <td>-95.514</td>\n",
       "      <td>9</td>\n",
       "      <td>2016</td>\n",
       "      <td>3</td>\n",
       "    </tr>\n",
       "    <tr>\n",
       "      <th>1260</th>\n",
       "      <td>2016-03-22</td>\n",
       "      <td>Monarch, Captive-Reared</td>\n",
       "      <td>33.774</td>\n",
       "      <td>-117.941</td>\n",
       "      <td>1</td>\n",
       "      <td>2016</td>\n",
       "      <td>3</td>\n",
       "    </tr>\n",
       "    <tr>\n",
       "      <th>1261</th>\n",
       "      <td>2016-03-23</td>\n",
       "      <td>Monarch, Captive-Reared</td>\n",
       "      <td>29.771</td>\n",
       "      <td>-95.549</td>\n",
       "      <td>1</td>\n",
       "      <td>2016</td>\n",
       "      <td>3</td>\n",
       "    </tr>\n",
       "    <tr>\n",
       "      <th>1262</th>\n",
       "      <td>2016-03-26</td>\n",
       "      <td>Monarch, Captive-Reared</td>\n",
       "      <td>31.252</td>\n",
       "      <td>-89.835</td>\n",
       "      <td>25</td>\n",
       "      <td>2016</td>\n",
       "      <td>3</td>\n",
       "    </tr>\n",
       "    <tr>\n",
       "      <th>1263</th>\n",
       "      <td>2016-03-31</td>\n",
       "      <td>Monarch, Captive-Reared</td>\n",
       "      <td>29.951</td>\n",
       "      <td>-90.072</td>\n",
       "      <td>8</td>\n",
       "      <td>2016</td>\n",
       "      <td>3</td>\n",
       "    </tr>\n",
       "  </tbody>\n",
       "</table>\n",
       "</div>"
      ],
      "text/plain": [
       "     sighting_date                  species  latitude  longitude  number  \\\n",
       "1259    2016-03-19  Monarch, Captive-Reared    29.773    -95.514       9   \n",
       "1260    2016-03-22  Monarch, Captive-Reared    33.774   -117.941       1   \n",
       "1261    2016-03-23  Monarch, Captive-Reared    29.771    -95.549       1   \n",
       "1262    2016-03-26  Monarch, Captive-Reared    31.252    -89.835      25   \n",
       "1263    2016-03-31  Monarch, Captive-Reared    29.951    -90.072       8   \n",
       "\n",
       "      year  month  \n",
       "1259  2016      3  \n",
       "1260  2016      3  \n",
       "1261  2016      3  \n",
       "1262  2016      3  \n",
       "1263  2016      3  "
      ]
     },
     "execution_count": 39,
     "metadata": {},
     "output_type": "execute_result"
    }
   ],
   "source": [
    "JNorth_Captive_Reared_2016_month_df =pd.DataFrame(JNorth_Captive_Reared_2016_df)\n",
    "JNorth_Captive_Reared_2016_3_df = JNorth_Captive_Reared_2016_month_df[JNorth_Captive_Reared_2016_month_df['month']==3]\n",
    "JNorth_Captive_Reared_2016_3_df.tail()"
   ]
  },
  {
   "cell_type": "code",
   "execution_count": 40,
   "id": "ce7f1737",
   "metadata": {},
   "outputs": [
    {
     "data": {
      "text/plain": [
       "(10, 7)"
      ]
     },
     "execution_count": 40,
     "metadata": {},
     "output_type": "execute_result"
    }
   ],
   "source": [
    "JNorth_Captive_Reared_2016_3_df.shape"
   ]
  },
  {
   "cell_type": "code",
   "execution_count": 41,
   "id": "7a38c9f2",
   "metadata": {},
   "outputs": [
    {
     "name": "stderr",
     "output_type": "stream",
     "text": [
      "C:\\Users\\motte\\anaconda3\\envs\\mlenv\\lib\\site-packages\\pandas\\core\\frame.py:4913: SettingWithCopyWarning: \n",
      "A value is trying to be set on a copy of a slice from a DataFrame\n",
      "\n",
      "See the caveats in the documentation: https://pandas.pydata.org/pandas-docs/stable/user_guide/indexing.html#returning-a-view-versus-a-copy\n",
      "  errors=errors,\n"
     ]
    }
   ],
   "source": [
    "JNorth_Captive_Reared_2016_3_df.drop(['month'], axis=1, inplace=True)"
   ]
  },
  {
   "cell_type": "code",
   "execution_count": 42,
   "id": "03245c40",
   "metadata": {},
   "outputs": [
    {
     "name": "stderr",
     "output_type": "stream",
     "text": [
      "C:\\Users\\motte\\anaconda3\\envs\\mlenv\\lib\\site-packages\\ipykernel_launcher.py:2: SettingWithCopyWarning: \n",
      "A value is trying to be set on a copy of a slice from a DataFrame.\n",
      "Try using .loc[row_indexer,col_indexer] = value instead\n",
      "\n",
      "See the caveats in the documentation: https://pandas.pydata.org/pandas-docs/stable/user_guide/indexing.html#returning-a-view-versus-a-copy\n",
      "  \n",
      "C:\\Users\\motte\\anaconda3\\envs\\mlenv\\lib\\site-packages\\ipykernel_launcher.py:3: SettingWithCopyWarning: \n",
      "A value is trying to be set on a copy of a slice from a DataFrame.\n",
      "Try using .loc[row_indexer,col_indexer] = value instead\n",
      "\n",
      "See the caveats in the documentation: https://pandas.pydata.org/pandas-docs/stable/user_guide/indexing.html#returning-a-view-versus-a-copy\n",
      "  This is separate from the ipykernel package so we can avoid doing imports until\n"
     ]
    }
   ],
   "source": [
    "# convert lat-long to floats and change address from ALL CAPS to regular capitalization\n",
    "JNorth_Captive_Reared_2016_3_df['latitude'] = JNorth_Captive_Reared_2016_3_df['latitude'].astype(float)\n",
    "JNorth_Captive_Reared_2016_3_df['longitude'] = JNorth_Captive_Reared_2016_3_df['longitude'].astype(float)\n",
    "# JNorth_Milkweed_Site_df['street_address'] = JNorth_Milkweed_Site_df['street_address'].str.title()"
   ]
  },
  {
   "cell_type": "code",
   "execution_count": 43,
   "id": "bc9bad5b",
   "metadata": {},
   "outputs": [],
   "source": [
    "geojson = df_to_geojson(JNorth_Captive_Reared_2016_3_df, cols)"
   ]
  },
  {
   "cell_type": "code",
   "execution_count": 44,
   "id": "336f0947",
   "metadata": {},
   "outputs": [],
   "source": [
    "file = open(\"JNorth_Captive_Reared_2016_3.geojson\", \"w\")\n",
    "json.dump(geojson, file, indent =1)\n",
    "file.close()"
   ]
  },
  {
   "cell_type": "markdown",
   "id": "b5a4169d",
   "metadata": {},
   "source": [
    "## April"
   ]
  },
  {
   "cell_type": "code",
   "execution_count": 45,
   "id": "e1676dcb",
   "metadata": {},
   "outputs": [
    {
     "data": {
      "text/html": [
       "<div>\n",
       "<style scoped>\n",
       "    .dataframe tbody tr th:only-of-type {\n",
       "        vertical-align: middle;\n",
       "    }\n",
       "\n",
       "    .dataframe tbody tr th {\n",
       "        vertical-align: top;\n",
       "    }\n",
       "\n",
       "    .dataframe thead th {\n",
       "        text-align: right;\n",
       "    }\n",
       "</style>\n",
       "<table border=\"1\" class=\"dataframe\">\n",
       "  <thead>\n",
       "    <tr style=\"text-align: right;\">\n",
       "      <th></th>\n",
       "      <th>sighting_date</th>\n",
       "      <th>species</th>\n",
       "      <th>latitude</th>\n",
       "      <th>longitude</th>\n",
       "      <th>number</th>\n",
       "      <th>year</th>\n",
       "      <th>month</th>\n",
       "    </tr>\n",
       "  </thead>\n",
       "  <tbody>\n",
       "    <tr>\n",
       "      <th>1303</th>\n",
       "      <td>2016-04-29</td>\n",
       "      <td>Monarch, Captive-Reared</td>\n",
       "      <td>30.510</td>\n",
       "      <td>-97.610</td>\n",
       "      <td>1</td>\n",
       "      <td>2016</td>\n",
       "      <td>4</td>\n",
       "    </tr>\n",
       "    <tr>\n",
       "      <th>1304</th>\n",
       "      <td>2016-04-29</td>\n",
       "      <td>Monarch, Captive-Reared</td>\n",
       "      <td>30.688</td>\n",
       "      <td>-88.076</td>\n",
       "      <td>25</td>\n",
       "      <td>2016</td>\n",
       "      <td>4</td>\n",
       "    </tr>\n",
       "    <tr>\n",
       "      <th>1305</th>\n",
       "      <td>2016-04-30</td>\n",
       "      <td>Monarch, Captive-Reared</td>\n",
       "      <td>30.520</td>\n",
       "      <td>-97.610</td>\n",
       "      <td>1</td>\n",
       "      <td>2016</td>\n",
       "      <td>4</td>\n",
       "    </tr>\n",
       "    <tr>\n",
       "      <th>1306</th>\n",
       "      <td>2016-04-30</td>\n",
       "      <td>Monarch, Captive-Reared</td>\n",
       "      <td>30.523</td>\n",
       "      <td>-87.903</td>\n",
       "      <td>1</td>\n",
       "      <td>2016</td>\n",
       "      <td>4</td>\n",
       "    </tr>\n",
       "    <tr>\n",
       "      <th>1307</th>\n",
       "      <td>2016-04-30</td>\n",
       "      <td>Monarch, Captive-Reared</td>\n",
       "      <td>34.840</td>\n",
       "      <td>-92.545</td>\n",
       "      <td>1</td>\n",
       "      <td>2016</td>\n",
       "      <td>4</td>\n",
       "    </tr>\n",
       "  </tbody>\n",
       "</table>\n",
       "</div>"
      ],
      "text/plain": [
       "     sighting_date                  species  latitude  longitude  number  \\\n",
       "1303    2016-04-29  Monarch, Captive-Reared    30.510    -97.610       1   \n",
       "1304    2016-04-29  Monarch, Captive-Reared    30.688    -88.076      25   \n",
       "1305    2016-04-30  Monarch, Captive-Reared    30.520    -97.610       1   \n",
       "1306    2016-04-30  Monarch, Captive-Reared    30.523    -87.903       1   \n",
       "1307    2016-04-30  Monarch, Captive-Reared    34.840    -92.545       1   \n",
       "\n",
       "      year  month  \n",
       "1303  2016      4  \n",
       "1304  2016      4  \n",
       "1305  2016      4  \n",
       "1306  2016      4  \n",
       "1307  2016      4  "
      ]
     },
     "execution_count": 45,
     "metadata": {},
     "output_type": "execute_result"
    }
   ],
   "source": [
    "JNorth_Captive_Reared_2016_month_df =pd.DataFrame(JNorth_Captive_Reared_2016_df)\n",
    "JNorth_Captive_Reared_2016_4_df = JNorth_Captive_Reared_2016_month_df[JNorth_Captive_Reared_2016_month_df['month']==4]\n",
    "JNorth_Captive_Reared_2016_4_df.tail()"
   ]
  },
  {
   "cell_type": "code",
   "execution_count": 46,
   "id": "24530093",
   "metadata": {},
   "outputs": [
    {
     "data": {
      "text/plain": [
       "(44, 7)"
      ]
     },
     "execution_count": 46,
     "metadata": {},
     "output_type": "execute_result"
    }
   ],
   "source": [
    "JNorth_Captive_Reared_2016_4_df.shape"
   ]
  },
  {
   "cell_type": "code",
   "execution_count": 47,
   "id": "a57f5b9b",
   "metadata": {},
   "outputs": [
    {
     "name": "stderr",
     "output_type": "stream",
     "text": [
      "C:\\Users\\motte\\anaconda3\\envs\\mlenv\\lib\\site-packages\\pandas\\core\\frame.py:4913: SettingWithCopyWarning: \n",
      "A value is trying to be set on a copy of a slice from a DataFrame\n",
      "\n",
      "See the caveats in the documentation: https://pandas.pydata.org/pandas-docs/stable/user_guide/indexing.html#returning-a-view-versus-a-copy\n",
      "  errors=errors,\n"
     ]
    }
   ],
   "source": [
    "JNorth_Captive_Reared_2016_4_df.drop(['month'], axis=1, inplace=True)"
   ]
  },
  {
   "cell_type": "code",
   "execution_count": 48,
   "id": "fed7891d",
   "metadata": {},
   "outputs": [
    {
     "name": "stderr",
     "output_type": "stream",
     "text": [
      "C:\\Users\\motte\\anaconda3\\envs\\mlenv\\lib\\site-packages\\ipykernel_launcher.py:2: SettingWithCopyWarning: \n",
      "A value is trying to be set on a copy of a slice from a DataFrame.\n",
      "Try using .loc[row_indexer,col_indexer] = value instead\n",
      "\n",
      "See the caveats in the documentation: https://pandas.pydata.org/pandas-docs/stable/user_guide/indexing.html#returning-a-view-versus-a-copy\n",
      "  \n",
      "C:\\Users\\motte\\anaconda3\\envs\\mlenv\\lib\\site-packages\\ipykernel_launcher.py:3: SettingWithCopyWarning: \n",
      "A value is trying to be set on a copy of a slice from a DataFrame.\n",
      "Try using .loc[row_indexer,col_indexer] = value instead\n",
      "\n",
      "See the caveats in the documentation: https://pandas.pydata.org/pandas-docs/stable/user_guide/indexing.html#returning-a-view-versus-a-copy\n",
      "  This is separate from the ipykernel package so we can avoid doing imports until\n"
     ]
    }
   ],
   "source": [
    "# convert lat-long to floats and change address from ALL CAPS to regular capitalization\n",
    "JNorth_Captive_Reared_2016_4_df['latitude'] = JNorth_Captive_Reared_2016_4_df['latitude'].astype(float)\n",
    "JNorth_Captive_Reared_2016_4_df['longitude'] = JNorth_Captive_Reared_2016_4_df['longitude'].astype(float)\n",
    "# JNorth_Milkweed_Site_df['street_address'] = JNorth_Milkweed_Site_df['street_address'].str.title()"
   ]
  },
  {
   "cell_type": "code",
   "execution_count": 49,
   "id": "8676718c",
   "metadata": {},
   "outputs": [],
   "source": [
    "geojson = df_to_geojson(JNorth_Captive_Reared_2016_4_df, cols)"
   ]
  },
  {
   "cell_type": "code",
   "execution_count": 50,
   "id": "e4c13f3c",
   "metadata": {},
   "outputs": [],
   "source": [
    "file = open(\"JNorth_Captive_Reared_2016_4.geojson\", \"w\")\n",
    "json.dump(geojson, file, indent =1)\n",
    "file.close()"
   ]
  },
  {
   "cell_type": "markdown",
   "id": "ecb6189f",
   "metadata": {},
   "source": [
    "## May"
   ]
  },
  {
   "cell_type": "code",
   "execution_count": 51,
   "id": "e8654b2f",
   "metadata": {},
   "outputs": [
    {
     "data": {
      "text/html": [
       "<div>\n",
       "<style scoped>\n",
       "    .dataframe tbody tr th:only-of-type {\n",
       "        vertical-align: middle;\n",
       "    }\n",
       "\n",
       "    .dataframe tbody tr th {\n",
       "        vertical-align: top;\n",
       "    }\n",
       "\n",
       "    .dataframe thead th {\n",
       "        text-align: right;\n",
       "    }\n",
       "</style>\n",
       "<table border=\"1\" class=\"dataframe\">\n",
       "  <thead>\n",
       "    <tr style=\"text-align: right;\">\n",
       "      <th></th>\n",
       "      <th>sighting_date</th>\n",
       "      <th>species</th>\n",
       "      <th>latitude</th>\n",
       "      <th>longitude</th>\n",
       "      <th>number</th>\n",
       "      <th>year</th>\n",
       "      <th>month</th>\n",
       "    </tr>\n",
       "  </thead>\n",
       "  <tbody>\n",
       "    <tr>\n",
       "      <th>1374</th>\n",
       "      <td>2016-05-29</td>\n",
       "      <td>Monarch, Captive-Reared</td>\n",
       "      <td>39.124</td>\n",
       "      <td>-95.110</td>\n",
       "      <td>2</td>\n",
       "      <td>2016</td>\n",
       "      <td>5</td>\n",
       "    </tr>\n",
       "    <tr>\n",
       "      <th>1375</th>\n",
       "      <td>2016-05-29</td>\n",
       "      <td>Monarch, Captive-Reared</td>\n",
       "      <td>44.996</td>\n",
       "      <td>-92.879</td>\n",
       "      <td>1</td>\n",
       "      <td>2016</td>\n",
       "      <td>5</td>\n",
       "    </tr>\n",
       "    <tr>\n",
       "      <th>1376</th>\n",
       "      <td>2016-05-30</td>\n",
       "      <td>Monarch, Captive-Reared</td>\n",
       "      <td>42.422</td>\n",
       "      <td>-87.857</td>\n",
       "      <td>6</td>\n",
       "      <td>2016</td>\n",
       "      <td>5</td>\n",
       "    </tr>\n",
       "    <tr>\n",
       "      <th>1377</th>\n",
       "      <td>2016-05-30</td>\n",
       "      <td>Monarch, Captive-Reared</td>\n",
       "      <td>44.923</td>\n",
       "      <td>-93.262</td>\n",
       "      <td>1</td>\n",
       "      <td>2016</td>\n",
       "      <td>5</td>\n",
       "    </tr>\n",
       "    <tr>\n",
       "      <th>1378</th>\n",
       "      <td>2016-05-31</td>\n",
       "      <td>Monarch, Captive-Reared</td>\n",
       "      <td>30.512</td>\n",
       "      <td>-97.610</td>\n",
       "      <td>1</td>\n",
       "      <td>2016</td>\n",
       "      <td>5</td>\n",
       "    </tr>\n",
       "  </tbody>\n",
       "</table>\n",
       "</div>"
      ],
      "text/plain": [
       "     sighting_date                  species  latitude  longitude  number  \\\n",
       "1374    2016-05-29  Monarch, Captive-Reared    39.124    -95.110       2   \n",
       "1375    2016-05-29  Monarch, Captive-Reared    44.996    -92.879       1   \n",
       "1376    2016-05-30  Monarch, Captive-Reared    42.422    -87.857       6   \n",
       "1377    2016-05-30  Monarch, Captive-Reared    44.923    -93.262       1   \n",
       "1378    2016-05-31  Monarch, Captive-Reared    30.512    -97.610       1   \n",
       "\n",
       "      year  month  \n",
       "1374  2016      5  \n",
       "1375  2016      5  \n",
       "1376  2016      5  \n",
       "1377  2016      5  \n",
       "1378  2016      5  "
      ]
     },
     "execution_count": 51,
     "metadata": {},
     "output_type": "execute_result"
    }
   ],
   "source": [
    "JNorth_Captive_Reared_2016_month_df =pd.DataFrame(JNorth_Captive_Reared_2016_df)\n",
    "JNorth_Captive_Reared_2016_5_df = JNorth_Captive_Reared_2016_month_df[JNorth_Captive_Reared_2016_month_df['month']==5]\n",
    "JNorth_Captive_Reared_2016_5_df.tail()"
   ]
  },
  {
   "cell_type": "code",
   "execution_count": 52,
   "id": "60d8eb59",
   "metadata": {},
   "outputs": [
    {
     "data": {
      "text/plain": [
       "(71, 7)"
      ]
     },
     "execution_count": 52,
     "metadata": {},
     "output_type": "execute_result"
    }
   ],
   "source": [
    "JNorth_Captive_Reared_2016_5_df.shape"
   ]
  },
  {
   "cell_type": "code",
   "execution_count": 53,
   "id": "73bb7166",
   "metadata": {},
   "outputs": [
    {
     "name": "stderr",
     "output_type": "stream",
     "text": [
      "C:\\Users\\motte\\anaconda3\\envs\\mlenv\\lib\\site-packages\\pandas\\core\\frame.py:4913: SettingWithCopyWarning: \n",
      "A value is trying to be set on a copy of a slice from a DataFrame\n",
      "\n",
      "See the caveats in the documentation: https://pandas.pydata.org/pandas-docs/stable/user_guide/indexing.html#returning-a-view-versus-a-copy\n",
      "  errors=errors,\n"
     ]
    }
   ],
   "source": [
    "JNorth_Captive_Reared_2016_5_df.drop(['month'], axis=1, inplace=True)"
   ]
  },
  {
   "cell_type": "code",
   "execution_count": 54,
   "id": "6ec1381b",
   "metadata": {},
   "outputs": [
    {
     "name": "stderr",
     "output_type": "stream",
     "text": [
      "C:\\Users\\motte\\anaconda3\\envs\\mlenv\\lib\\site-packages\\ipykernel_launcher.py:2: SettingWithCopyWarning: \n",
      "A value is trying to be set on a copy of a slice from a DataFrame.\n",
      "Try using .loc[row_indexer,col_indexer] = value instead\n",
      "\n",
      "See the caveats in the documentation: https://pandas.pydata.org/pandas-docs/stable/user_guide/indexing.html#returning-a-view-versus-a-copy\n",
      "  \n",
      "C:\\Users\\motte\\anaconda3\\envs\\mlenv\\lib\\site-packages\\ipykernel_launcher.py:3: SettingWithCopyWarning: \n",
      "A value is trying to be set on a copy of a slice from a DataFrame.\n",
      "Try using .loc[row_indexer,col_indexer] = value instead\n",
      "\n",
      "See the caveats in the documentation: https://pandas.pydata.org/pandas-docs/stable/user_guide/indexing.html#returning-a-view-versus-a-copy\n",
      "  This is separate from the ipykernel package so we can avoid doing imports until\n"
     ]
    }
   ],
   "source": [
    "# convert lat-long to floats and change address from ALL CAPS to regular capitalization\n",
    "JNorth_Captive_Reared_2016_5_df['latitude'] = JNorth_Captive_Reared_2016_5_df['latitude'].astype(float)\n",
    "JNorth_Captive_Reared_2016_5_df['longitude'] = JNorth_Captive_Reared_2016_5_df['longitude'].astype(float)\n",
    "# JNorth_Milkweed_Site_df['street_address'] = JNorth_Milkweed_Site_df['street_address'].str.title()"
   ]
  },
  {
   "cell_type": "code",
   "execution_count": 55,
   "id": "eb6b3375",
   "metadata": {},
   "outputs": [],
   "source": [
    "geojson = df_to_geojson(JNorth_Captive_Reared_2016_5_df, cols)"
   ]
  },
  {
   "cell_type": "code",
   "execution_count": 56,
   "id": "e38d605b",
   "metadata": {},
   "outputs": [],
   "source": [
    "file = open(\"JNorth_Captive_Reared_2016_5.geojson\", \"w\")\n",
    "json.dump(geojson, file, indent =1)\n",
    "file.close()"
   ]
  },
  {
   "cell_type": "markdown",
   "id": "e993c20c",
   "metadata": {},
   "source": [
    "## June"
   ]
  },
  {
   "cell_type": "code",
   "execution_count": 57,
   "id": "03fc48b5",
   "metadata": {},
   "outputs": [
    {
     "data": {
      "text/html": [
       "<div>\n",
       "<style scoped>\n",
       "    .dataframe tbody tr th:only-of-type {\n",
       "        vertical-align: middle;\n",
       "    }\n",
       "\n",
       "    .dataframe tbody tr th {\n",
       "        vertical-align: top;\n",
       "    }\n",
       "\n",
       "    .dataframe thead th {\n",
       "        text-align: right;\n",
       "    }\n",
       "</style>\n",
       "<table border=\"1\" class=\"dataframe\">\n",
       "  <thead>\n",
       "    <tr style=\"text-align: right;\">\n",
       "      <th></th>\n",
       "      <th>sighting_date</th>\n",
       "      <th>species</th>\n",
       "      <th>latitude</th>\n",
       "      <th>longitude</th>\n",
       "      <th>number</th>\n",
       "      <th>year</th>\n",
       "      <th>month</th>\n",
       "    </tr>\n",
       "  </thead>\n",
       "  <tbody>\n",
       "    <tr>\n",
       "      <th>1447</th>\n",
       "      <td>2016-06-30</td>\n",
       "      <td>Monarch, Captive-Reared</td>\n",
       "      <td>30.515</td>\n",
       "      <td>-97.607</td>\n",
       "      <td>1</td>\n",
       "      <td>2016</td>\n",
       "      <td>6</td>\n",
       "    </tr>\n",
       "    <tr>\n",
       "      <th>1448</th>\n",
       "      <td>2016-06-30</td>\n",
       "      <td>Monarch, Captive-Reared</td>\n",
       "      <td>40.570</td>\n",
       "      <td>-84.194</td>\n",
       "      <td>1</td>\n",
       "      <td>2016</td>\n",
       "      <td>6</td>\n",
       "    </tr>\n",
       "    <tr>\n",
       "      <th>1449</th>\n",
       "      <td>2016-06-30</td>\n",
       "      <td>Monarch, Captive-Reared</td>\n",
       "      <td>42.420</td>\n",
       "      <td>-87.850</td>\n",
       "      <td>1</td>\n",
       "      <td>2016</td>\n",
       "      <td>6</td>\n",
       "    </tr>\n",
       "    <tr>\n",
       "      <th>1450</th>\n",
       "      <td>2016-06-30</td>\n",
       "      <td>Monarch, Captive-Reared</td>\n",
       "      <td>44.786</td>\n",
       "      <td>-93.532</td>\n",
       "      <td>1</td>\n",
       "      <td>2016</td>\n",
       "      <td>6</td>\n",
       "    </tr>\n",
       "    <tr>\n",
       "      <th>1451</th>\n",
       "      <td>2016-06-30</td>\n",
       "      <td>Monarch, Captive-Reared</td>\n",
       "      <td>45.048</td>\n",
       "      <td>-93.222</td>\n",
       "      <td>2</td>\n",
       "      <td>2016</td>\n",
       "      <td>6</td>\n",
       "    </tr>\n",
       "  </tbody>\n",
       "</table>\n",
       "</div>"
      ],
      "text/plain": [
       "     sighting_date                  species  latitude  longitude  number  \\\n",
       "1447    2016-06-30  Monarch, Captive-Reared    30.515    -97.607       1   \n",
       "1448    2016-06-30  Monarch, Captive-Reared    40.570    -84.194       1   \n",
       "1449    2016-06-30  Monarch, Captive-Reared    42.420    -87.850       1   \n",
       "1450    2016-06-30  Monarch, Captive-Reared    44.786    -93.532       1   \n",
       "1451    2016-06-30  Monarch, Captive-Reared    45.048    -93.222       2   \n",
       "\n",
       "      year  month  \n",
       "1447  2016      6  \n",
       "1448  2016      6  \n",
       "1449  2016      6  \n",
       "1450  2016      6  \n",
       "1451  2016      6  "
      ]
     },
     "execution_count": 57,
     "metadata": {},
     "output_type": "execute_result"
    }
   ],
   "source": [
    "JNorth_Captive_Reared_2016_month_df =pd.DataFrame(JNorth_Captive_Reared_2016_df)\n",
    "JNorth_Captive_Reared_2016_6_df = JNorth_Captive_Reared_2016_month_df[JNorth_Captive_Reared_2016_month_df['month']==6]\n",
    "JNorth_Captive_Reared_2016_6_df.tail()"
   ]
  },
  {
   "cell_type": "code",
   "execution_count": 58,
   "id": "a5b0b8ee",
   "metadata": {},
   "outputs": [
    {
     "data": {
      "text/plain": [
       "(73, 7)"
      ]
     },
     "execution_count": 58,
     "metadata": {},
     "output_type": "execute_result"
    }
   ],
   "source": [
    "JNorth_Captive_Reared_2016_6_df.shape"
   ]
  },
  {
   "cell_type": "code",
   "execution_count": 59,
   "id": "c92eb8b8",
   "metadata": {},
   "outputs": [
    {
     "name": "stderr",
     "output_type": "stream",
     "text": [
      "C:\\Users\\motte\\anaconda3\\envs\\mlenv\\lib\\site-packages\\pandas\\core\\frame.py:4913: SettingWithCopyWarning: \n",
      "A value is trying to be set on a copy of a slice from a DataFrame\n",
      "\n",
      "See the caveats in the documentation: https://pandas.pydata.org/pandas-docs/stable/user_guide/indexing.html#returning-a-view-versus-a-copy\n",
      "  errors=errors,\n"
     ]
    }
   ],
   "source": [
    "JNorth_Captive_Reared_2016_6_df.drop(['month'], axis=1, inplace=True)"
   ]
  },
  {
   "cell_type": "code",
   "execution_count": 60,
   "id": "0652626f",
   "metadata": {},
   "outputs": [
    {
     "name": "stderr",
     "output_type": "stream",
     "text": [
      "C:\\Users\\motte\\anaconda3\\envs\\mlenv\\lib\\site-packages\\ipykernel_launcher.py:2: SettingWithCopyWarning: \n",
      "A value is trying to be set on a copy of a slice from a DataFrame.\n",
      "Try using .loc[row_indexer,col_indexer] = value instead\n",
      "\n",
      "See the caveats in the documentation: https://pandas.pydata.org/pandas-docs/stable/user_guide/indexing.html#returning-a-view-versus-a-copy\n",
      "  \n",
      "C:\\Users\\motte\\anaconda3\\envs\\mlenv\\lib\\site-packages\\ipykernel_launcher.py:3: SettingWithCopyWarning: \n",
      "A value is trying to be set on a copy of a slice from a DataFrame.\n",
      "Try using .loc[row_indexer,col_indexer] = value instead\n",
      "\n",
      "See the caveats in the documentation: https://pandas.pydata.org/pandas-docs/stable/user_guide/indexing.html#returning-a-view-versus-a-copy\n",
      "  This is separate from the ipykernel package so we can avoid doing imports until\n"
     ]
    }
   ],
   "source": [
    "# convert lat-long to floats and change address from ALL CAPS to regular capitalization\n",
    "JNorth_Captive_Reared_2016_6_df['latitude'] = JNorth_Captive_Reared_2016_6_df['latitude'].astype(float)\n",
    "JNorth_Captive_Reared_2016_6_df['longitude'] = JNorth_Captive_Reared_2016_6_df['longitude'].astype(float)\n",
    "# JNorth_Milkweed_Site_df['street_address'] = JNorth_Milkweed_Site_df['street_address'].str.title()"
   ]
  },
  {
   "cell_type": "code",
   "execution_count": 61,
   "id": "d99099a1",
   "metadata": {},
   "outputs": [],
   "source": [
    "geojson = df_to_geojson(JNorth_Captive_Reared_2016_6_df, cols)"
   ]
  },
  {
   "cell_type": "code",
   "execution_count": 62,
   "id": "52c13f18",
   "metadata": {},
   "outputs": [],
   "source": [
    "file = open(\"JNorth_Captive_Reared_2016_6.geojson\", \"w\")\n",
    "json.dump(geojson, file, indent =1)\n",
    "file.close()"
   ]
  },
  {
   "cell_type": "markdown",
   "id": "8893271b",
   "metadata": {},
   "source": [
    "## July"
   ]
  },
  {
   "cell_type": "code",
   "execution_count": 63,
   "id": "a78f1523",
   "metadata": {},
   "outputs": [
    {
     "data": {
      "text/html": [
       "<div>\n",
       "<style scoped>\n",
       "    .dataframe tbody tr th:only-of-type {\n",
       "        vertical-align: middle;\n",
       "    }\n",
       "\n",
       "    .dataframe tbody tr th {\n",
       "        vertical-align: top;\n",
       "    }\n",
       "\n",
       "    .dataframe thead th {\n",
       "        text-align: right;\n",
       "    }\n",
       "</style>\n",
       "<table border=\"1\" class=\"dataframe\">\n",
       "  <thead>\n",
       "    <tr style=\"text-align: right;\">\n",
       "      <th></th>\n",
       "      <th>sighting_date</th>\n",
       "      <th>species</th>\n",
       "      <th>latitude</th>\n",
       "      <th>longitude</th>\n",
       "      <th>number</th>\n",
       "      <th>year</th>\n",
       "      <th>month</th>\n",
       "    </tr>\n",
       "  </thead>\n",
       "  <tbody>\n",
       "    <tr>\n",
       "      <th>1589</th>\n",
       "      <td>2016-07-31</td>\n",
       "      <td>Monarch, Captive-Reared</td>\n",
       "      <td>42.230</td>\n",
       "      <td>-82.817</td>\n",
       "      <td>1</td>\n",
       "      <td>2016</td>\n",
       "      <td>7</td>\n",
       "    </tr>\n",
       "    <tr>\n",
       "      <th>1590</th>\n",
       "      <td>2016-07-31</td>\n",
       "      <td>Monarch, Captive-Reared</td>\n",
       "      <td>43.075</td>\n",
       "      <td>-85.612</td>\n",
       "      <td>1</td>\n",
       "      <td>2016</td>\n",
       "      <td>7</td>\n",
       "    </tr>\n",
       "    <tr>\n",
       "      <th>1591</th>\n",
       "      <td>2016-07-31</td>\n",
       "      <td>Monarch, Captive-Reared</td>\n",
       "      <td>43.397</td>\n",
       "      <td>-81.026</td>\n",
       "      <td>4</td>\n",
       "      <td>2016</td>\n",
       "      <td>7</td>\n",
       "    </tr>\n",
       "    <tr>\n",
       "      <th>1592</th>\n",
       "      <td>2016-07-31</td>\n",
       "      <td>Monarch, Captive-Reared</td>\n",
       "      <td>44.278</td>\n",
       "      <td>-88.272</td>\n",
       "      <td>3</td>\n",
       "      <td>2016</td>\n",
       "      <td>7</td>\n",
       "    </tr>\n",
       "    <tr>\n",
       "      <th>1593</th>\n",
       "      <td>2016-07-31</td>\n",
       "      <td>Monarch, Captive-Reared</td>\n",
       "      <td>45.059</td>\n",
       "      <td>-93.217</td>\n",
       "      <td>3</td>\n",
       "      <td>2016</td>\n",
       "      <td>7</td>\n",
       "    </tr>\n",
       "  </tbody>\n",
       "</table>\n",
       "</div>"
      ],
      "text/plain": [
       "     sighting_date                  species  latitude  longitude  number  \\\n",
       "1589    2016-07-31  Monarch, Captive-Reared    42.230    -82.817       1   \n",
       "1590    2016-07-31  Monarch, Captive-Reared    43.075    -85.612       1   \n",
       "1591    2016-07-31  Monarch, Captive-Reared    43.397    -81.026       4   \n",
       "1592    2016-07-31  Monarch, Captive-Reared    44.278    -88.272       3   \n",
       "1593    2016-07-31  Monarch, Captive-Reared    45.059    -93.217       3   \n",
       "\n",
       "      year  month  \n",
       "1589  2016      7  \n",
       "1590  2016      7  \n",
       "1591  2016      7  \n",
       "1592  2016      7  \n",
       "1593  2016      7  "
      ]
     },
     "execution_count": 63,
     "metadata": {},
     "output_type": "execute_result"
    }
   ],
   "source": [
    "JNorth_Captive_Reared_2016_month_df =pd.DataFrame(JNorth_Captive_Reared_2016_df)\n",
    "JNorth_Captive_Reared_2016_7_df = JNorth_Captive_Reared_2016_month_df[JNorth_Captive_Reared_2016_month_df['month']==7]\n",
    "JNorth_Captive_Reared_2016_7_df.tail()"
   ]
  },
  {
   "cell_type": "code",
   "execution_count": 64,
   "id": "cf793498",
   "metadata": {},
   "outputs": [
    {
     "data": {
      "text/plain": [
       "(142, 7)"
      ]
     },
     "execution_count": 64,
     "metadata": {},
     "output_type": "execute_result"
    }
   ],
   "source": [
    "JNorth_Captive_Reared_2016_7_df.shape"
   ]
  },
  {
   "cell_type": "code",
   "execution_count": 65,
   "id": "0a11df25",
   "metadata": {},
   "outputs": [
    {
     "name": "stderr",
     "output_type": "stream",
     "text": [
      "C:\\Users\\motte\\anaconda3\\envs\\mlenv\\lib\\site-packages\\pandas\\core\\frame.py:4913: SettingWithCopyWarning: \n",
      "A value is trying to be set on a copy of a slice from a DataFrame\n",
      "\n",
      "See the caveats in the documentation: https://pandas.pydata.org/pandas-docs/stable/user_guide/indexing.html#returning-a-view-versus-a-copy\n",
      "  errors=errors,\n"
     ]
    }
   ],
   "source": [
    "JNorth_Captive_Reared_2016_7_df.drop(['month'], axis=1, inplace=True)"
   ]
  },
  {
   "cell_type": "code",
   "execution_count": 66,
   "id": "547dffdc",
   "metadata": {},
   "outputs": [
    {
     "name": "stderr",
     "output_type": "stream",
     "text": [
      "C:\\Users\\motte\\anaconda3\\envs\\mlenv\\lib\\site-packages\\ipykernel_launcher.py:2: SettingWithCopyWarning: \n",
      "A value is trying to be set on a copy of a slice from a DataFrame.\n",
      "Try using .loc[row_indexer,col_indexer] = value instead\n",
      "\n",
      "See the caveats in the documentation: https://pandas.pydata.org/pandas-docs/stable/user_guide/indexing.html#returning-a-view-versus-a-copy\n",
      "  \n",
      "C:\\Users\\motte\\anaconda3\\envs\\mlenv\\lib\\site-packages\\ipykernel_launcher.py:3: SettingWithCopyWarning: \n",
      "A value is trying to be set on a copy of a slice from a DataFrame.\n",
      "Try using .loc[row_indexer,col_indexer] = value instead\n",
      "\n",
      "See the caveats in the documentation: https://pandas.pydata.org/pandas-docs/stable/user_guide/indexing.html#returning-a-view-versus-a-copy\n",
      "  This is separate from the ipykernel package so we can avoid doing imports until\n"
     ]
    }
   ],
   "source": [
    "# convert lat-long to floats and change address from ALL CAPS to regular capitalization\n",
    "JNorth_Captive_Reared_2016_7_df['latitude'] = JNorth_Captive_Reared_2016_7_df['latitude'].astype(float)\n",
    "JNorth_Captive_Reared_2016_7_df['longitude'] = JNorth_Captive_Reared_2016_7_df['longitude'].astype(float)\n",
    "# JNorth_Milkweed_Site_df['street_address'] = JNorth_Milkweed_Site_df['street_address'].str.title()"
   ]
  },
  {
   "cell_type": "code",
   "execution_count": 67,
   "id": "9b8a01c4",
   "metadata": {},
   "outputs": [],
   "source": [
    "geojson = df_to_geojson(JNorth_Captive_Reared_2016_7_df, cols)"
   ]
  },
  {
   "cell_type": "code",
   "execution_count": 68,
   "id": "7ede518a",
   "metadata": {},
   "outputs": [],
   "source": [
    "file = open(\"JNorth_Captive_Reared_2016_7.geojson\", \"w\")\n",
    "json.dump(geojson, file, indent =1)\n",
    "file.close()"
   ]
  },
  {
   "cell_type": "markdown",
   "id": "510976eb",
   "metadata": {},
   "source": [
    "## August"
   ]
  },
  {
   "cell_type": "code",
   "execution_count": 69,
   "id": "3dd621e6",
   "metadata": {},
   "outputs": [
    {
     "data": {
      "text/html": [
       "<div>\n",
       "<style scoped>\n",
       "    .dataframe tbody tr th:only-of-type {\n",
       "        vertical-align: middle;\n",
       "    }\n",
       "\n",
       "    .dataframe tbody tr th {\n",
       "        vertical-align: top;\n",
       "    }\n",
       "\n",
       "    .dataframe thead th {\n",
       "        text-align: right;\n",
       "    }\n",
       "</style>\n",
       "<table border=\"1\" class=\"dataframe\">\n",
       "  <thead>\n",
       "    <tr style=\"text-align: right;\">\n",
       "      <th></th>\n",
       "      <th>sighting_date</th>\n",
       "      <th>species</th>\n",
       "      <th>latitude</th>\n",
       "      <th>longitude</th>\n",
       "      <th>number</th>\n",
       "      <th>year</th>\n",
       "      <th>month</th>\n",
       "    </tr>\n",
       "  </thead>\n",
       "  <tbody>\n",
       "    <tr>\n",
       "      <th>2042</th>\n",
       "      <td>2016-08-31</td>\n",
       "      <td>Monarch, Captive-Reared</td>\n",
       "      <td>44.869</td>\n",
       "      <td>-68.871</td>\n",
       "      <td>7</td>\n",
       "      <td>2016</td>\n",
       "      <td>8</td>\n",
       "    </tr>\n",
       "    <tr>\n",
       "      <th>2043</th>\n",
       "      <td>2016-08-31</td>\n",
       "      <td>Monarch, Captive-Reared</td>\n",
       "      <td>45.049</td>\n",
       "      <td>-93.222</td>\n",
       "      <td>3</td>\n",
       "      <td>2016</td>\n",
       "      <td>8</td>\n",
       "    </tr>\n",
       "    <tr>\n",
       "      <th>2044</th>\n",
       "      <td>2016-08-31</td>\n",
       "      <td>Monarch, Captive-Reared</td>\n",
       "      <td>45.050</td>\n",
       "      <td>-93.157</td>\n",
       "      <td>3</td>\n",
       "      <td>2016</td>\n",
       "      <td>8</td>\n",
       "    </tr>\n",
       "    <tr>\n",
       "      <th>2045</th>\n",
       "      <td>2016-08-31</td>\n",
       "      <td>Monarch, Captive-Reared</td>\n",
       "      <td>45.122</td>\n",
       "      <td>-95.049</td>\n",
       "      <td>3</td>\n",
       "      <td>2016</td>\n",
       "      <td>8</td>\n",
       "    </tr>\n",
       "    <tr>\n",
       "      <th>2046</th>\n",
       "      <td>2016-08-31</td>\n",
       "      <td>Monarch, Captive-Reared</td>\n",
       "      <td>46.190</td>\n",
       "      <td>-79.504</td>\n",
       "      <td>474</td>\n",
       "      <td>2016</td>\n",
       "      <td>8</td>\n",
       "    </tr>\n",
       "  </tbody>\n",
       "</table>\n",
       "</div>"
      ],
      "text/plain": [
       "     sighting_date                  species  latitude  longitude  number  \\\n",
       "2042    2016-08-31  Monarch, Captive-Reared    44.869    -68.871       7   \n",
       "2043    2016-08-31  Monarch, Captive-Reared    45.049    -93.222       3   \n",
       "2044    2016-08-31  Monarch, Captive-Reared    45.050    -93.157       3   \n",
       "2045    2016-08-31  Monarch, Captive-Reared    45.122    -95.049       3   \n",
       "2046    2016-08-31  Monarch, Captive-Reared    46.190    -79.504     474   \n",
       "\n",
       "      year  month  \n",
       "2042  2016      8  \n",
       "2043  2016      8  \n",
       "2044  2016      8  \n",
       "2045  2016      8  \n",
       "2046  2016      8  "
      ]
     },
     "execution_count": 69,
     "metadata": {},
     "output_type": "execute_result"
    }
   ],
   "source": [
    "JNorth_Captive_Reared_2016_month_df =pd.DataFrame(JNorth_Captive_Reared_2016_df)\n",
    "JNorth_Captive_Reared_2016_8_df = JNorth_Captive_Reared_2016_month_df[JNorth_Captive_Reared_2016_month_df['month']==8]\n",
    "JNorth_Captive_Reared_2016_8_df.tail()"
   ]
  },
  {
   "cell_type": "code",
   "execution_count": 70,
   "id": "d1145a4b",
   "metadata": {},
   "outputs": [
    {
     "data": {
      "text/plain": [
       "(453, 7)"
      ]
     },
     "execution_count": 70,
     "metadata": {},
     "output_type": "execute_result"
    }
   ],
   "source": [
    "JNorth_Captive_Reared_2016_8_df.shape"
   ]
  },
  {
   "cell_type": "code",
   "execution_count": 71,
   "id": "e7da4bd8",
   "metadata": {},
   "outputs": [
    {
     "name": "stderr",
     "output_type": "stream",
     "text": [
      "C:\\Users\\motte\\anaconda3\\envs\\mlenv\\lib\\site-packages\\pandas\\core\\frame.py:4913: SettingWithCopyWarning: \n",
      "A value is trying to be set on a copy of a slice from a DataFrame\n",
      "\n",
      "See the caveats in the documentation: https://pandas.pydata.org/pandas-docs/stable/user_guide/indexing.html#returning-a-view-versus-a-copy\n",
      "  errors=errors,\n"
     ]
    }
   ],
   "source": [
    "JNorth_Captive_Reared_2016_8_df.drop(['month'], axis=1, inplace=True)"
   ]
  },
  {
   "cell_type": "code",
   "execution_count": 72,
   "id": "ce6fb27f",
   "metadata": {},
   "outputs": [
    {
     "name": "stderr",
     "output_type": "stream",
     "text": [
      "C:\\Users\\motte\\anaconda3\\envs\\mlenv\\lib\\site-packages\\ipykernel_launcher.py:2: SettingWithCopyWarning: \n",
      "A value is trying to be set on a copy of a slice from a DataFrame.\n",
      "Try using .loc[row_indexer,col_indexer] = value instead\n",
      "\n",
      "See the caveats in the documentation: https://pandas.pydata.org/pandas-docs/stable/user_guide/indexing.html#returning-a-view-versus-a-copy\n",
      "  \n",
      "C:\\Users\\motte\\anaconda3\\envs\\mlenv\\lib\\site-packages\\ipykernel_launcher.py:3: SettingWithCopyWarning: \n",
      "A value is trying to be set on a copy of a slice from a DataFrame.\n",
      "Try using .loc[row_indexer,col_indexer] = value instead\n",
      "\n",
      "See the caveats in the documentation: https://pandas.pydata.org/pandas-docs/stable/user_guide/indexing.html#returning-a-view-versus-a-copy\n",
      "  This is separate from the ipykernel package so we can avoid doing imports until\n"
     ]
    }
   ],
   "source": [
    "# convert lat-long to floats and change address from ALL CAPS to regular capitalization\n",
    "JNorth_Captive_Reared_2016_8_df['latitude'] = JNorth_Captive_Reared_2016_8_df['latitude'].astype(float)\n",
    "JNorth_Captive_Reared_2016_8_df['longitude'] = JNorth_Captive_Reared_2016_8_df['longitude'].astype(float)\n",
    "# JNorth_Milkweed_Site_df['street_address'] = JNorth_Milkweed_Site_df['street_address'].str.title()"
   ]
  },
  {
   "cell_type": "code",
   "execution_count": 73,
   "id": "3c4ab342",
   "metadata": {},
   "outputs": [],
   "source": [
    "geojson = df_to_geojson(JNorth_Captive_Reared_2016_8_df, cols)"
   ]
  },
  {
   "cell_type": "code",
   "execution_count": 74,
   "id": "3ead16ab",
   "metadata": {},
   "outputs": [],
   "source": [
    "file = open(\"JNorth_Captive_Reared_2016_8.geojson\", \"w\")\n",
    "json.dump(geojson, file, indent =1)\n",
    "file.close()"
   ]
  },
  {
   "cell_type": "markdown",
   "id": "ecbd125e",
   "metadata": {},
   "source": [
    "## September"
   ]
  },
  {
   "cell_type": "code",
   "execution_count": 75,
   "id": "8c0ed9a5",
   "metadata": {},
   "outputs": [
    {
     "data": {
      "text/html": [
       "<div>\n",
       "<style scoped>\n",
       "    .dataframe tbody tr th:only-of-type {\n",
       "        vertical-align: middle;\n",
       "    }\n",
       "\n",
       "    .dataframe tbody tr th {\n",
       "        vertical-align: top;\n",
       "    }\n",
       "\n",
       "    .dataframe thead th {\n",
       "        text-align: right;\n",
       "    }\n",
       "</style>\n",
       "<table border=\"1\" class=\"dataframe\">\n",
       "  <thead>\n",
       "    <tr style=\"text-align: right;\">\n",
       "      <th></th>\n",
       "      <th>sighting_date</th>\n",
       "      <th>species</th>\n",
       "      <th>latitude</th>\n",
       "      <th>longitude</th>\n",
       "      <th>number</th>\n",
       "      <th>year</th>\n",
       "      <th>month</th>\n",
       "    </tr>\n",
       "  </thead>\n",
       "  <tbody>\n",
       "    <tr>\n",
       "      <th>2874</th>\n",
       "      <td>2016-09-30</td>\n",
       "      <td>Monarch, Captive-Reared</td>\n",
       "      <td>42.174</td>\n",
       "      <td>-82.814</td>\n",
       "      <td>1</td>\n",
       "      <td>2016</td>\n",
       "      <td>9</td>\n",
       "    </tr>\n",
       "    <tr>\n",
       "      <th>2875</th>\n",
       "      <td>2016-09-30</td>\n",
       "      <td>Monarch, Captive-Reared</td>\n",
       "      <td>42.881</td>\n",
       "      <td>-70.847</td>\n",
       "      <td>1</td>\n",
       "      <td>2016</td>\n",
       "      <td>9</td>\n",
       "    </tr>\n",
       "    <tr>\n",
       "      <th>2876</th>\n",
       "      <td>2016-09-30</td>\n",
       "      <td>Monarch, Captive-Reared</td>\n",
       "      <td>43.397</td>\n",
       "      <td>-81.026</td>\n",
       "      <td>98</td>\n",
       "      <td>2016</td>\n",
       "      <td>9</td>\n",
       "    </tr>\n",
       "    <tr>\n",
       "      <th>2877</th>\n",
       "      <td>2016-09-30</td>\n",
       "      <td>Monarch, Captive-Reared</td>\n",
       "      <td>43.640</td>\n",
       "      <td>-79.520</td>\n",
       "      <td>4</td>\n",
       "      <td>2016</td>\n",
       "      <td>9</td>\n",
       "    </tr>\n",
       "    <tr>\n",
       "      <th>2878</th>\n",
       "      <td>2016-09-30</td>\n",
       "      <td>Monarch, Captive-Reared</td>\n",
       "      <td>45.140</td>\n",
       "      <td>-92.883</td>\n",
       "      <td>10</td>\n",
       "      <td>2016</td>\n",
       "      <td>9</td>\n",
       "    </tr>\n",
       "  </tbody>\n",
       "</table>\n",
       "</div>"
      ],
      "text/plain": [
       "     sighting_date                  species  latitude  longitude  number  \\\n",
       "2874    2016-09-30  Monarch, Captive-Reared    42.174    -82.814       1   \n",
       "2875    2016-09-30  Monarch, Captive-Reared    42.881    -70.847       1   \n",
       "2876    2016-09-30  Monarch, Captive-Reared    43.397    -81.026      98   \n",
       "2877    2016-09-30  Monarch, Captive-Reared    43.640    -79.520       4   \n",
       "2878    2016-09-30  Monarch, Captive-Reared    45.140    -92.883      10   \n",
       "\n",
       "      year  month  \n",
       "2874  2016      9  \n",
       "2875  2016      9  \n",
       "2876  2016      9  \n",
       "2877  2016      9  \n",
       "2878  2016      9  "
      ]
     },
     "execution_count": 75,
     "metadata": {},
     "output_type": "execute_result"
    }
   ],
   "source": [
    "JNorth_Captive_Reared_2016_month_df =pd.DataFrame(JNorth_Captive_Reared_2016_df)\n",
    "JNorth_Captive_Reared_2016_9_df = JNorth_Captive_Reared_2016_month_df[JNorth_Captive_Reared_2016_month_df['month']==9]\n",
    "JNorth_Captive_Reared_2016_9_df.tail()"
   ]
  },
  {
   "cell_type": "code",
   "execution_count": 76,
   "id": "4ca17692",
   "metadata": {},
   "outputs": [
    {
     "data": {
      "text/plain": [
       "(832, 7)"
      ]
     },
     "execution_count": 76,
     "metadata": {},
     "output_type": "execute_result"
    }
   ],
   "source": [
    "JNorth_Captive_Reared_2016_9_df.shape"
   ]
  },
  {
   "cell_type": "code",
   "execution_count": 77,
   "id": "a486ee81",
   "metadata": {},
   "outputs": [
    {
     "name": "stderr",
     "output_type": "stream",
     "text": [
      "C:\\Users\\motte\\anaconda3\\envs\\mlenv\\lib\\site-packages\\pandas\\core\\frame.py:4913: SettingWithCopyWarning: \n",
      "A value is trying to be set on a copy of a slice from a DataFrame\n",
      "\n",
      "See the caveats in the documentation: https://pandas.pydata.org/pandas-docs/stable/user_guide/indexing.html#returning-a-view-versus-a-copy\n",
      "  errors=errors,\n"
     ]
    }
   ],
   "source": [
    "JNorth_Captive_Reared_2016_9_df.drop(['month'], axis=1, inplace=True)"
   ]
  },
  {
   "cell_type": "code",
   "execution_count": 78,
   "id": "2ed76410",
   "metadata": {},
   "outputs": [
    {
     "name": "stderr",
     "output_type": "stream",
     "text": [
      "C:\\Users\\motte\\anaconda3\\envs\\mlenv\\lib\\site-packages\\ipykernel_launcher.py:2: SettingWithCopyWarning: \n",
      "A value is trying to be set on a copy of a slice from a DataFrame.\n",
      "Try using .loc[row_indexer,col_indexer] = value instead\n",
      "\n",
      "See the caveats in the documentation: https://pandas.pydata.org/pandas-docs/stable/user_guide/indexing.html#returning-a-view-versus-a-copy\n",
      "  \n",
      "C:\\Users\\motte\\anaconda3\\envs\\mlenv\\lib\\site-packages\\ipykernel_launcher.py:3: SettingWithCopyWarning: \n",
      "A value is trying to be set on a copy of a slice from a DataFrame.\n",
      "Try using .loc[row_indexer,col_indexer] = value instead\n",
      "\n",
      "See the caveats in the documentation: https://pandas.pydata.org/pandas-docs/stable/user_guide/indexing.html#returning-a-view-versus-a-copy\n",
      "  This is separate from the ipykernel package so we can avoid doing imports until\n"
     ]
    }
   ],
   "source": [
    "# convert lat-long to floats and change address from ALL CAPS to regular capitalization\n",
    "JNorth_Captive_Reared_2016_9_df['latitude'] = JNorth_Captive_Reared_2016_9_df['latitude'].astype(float)\n",
    "JNorth_Captive_Reared_2016_9_df['longitude'] = JNorth_Captive_Reared_2016_9_df['longitude'].astype(float)\n",
    "# JNorth_Milkweed_Site_df['street_address'] = JNorth_Milkweed_Site_df['street_address'].str.title()"
   ]
  },
  {
   "cell_type": "code",
   "execution_count": 79,
   "id": "153962db",
   "metadata": {},
   "outputs": [],
   "source": [
    "geojson = df_to_geojson(JNorth_Captive_Reared_2016_9_df, cols)"
   ]
  },
  {
   "cell_type": "code",
   "execution_count": 80,
   "id": "f7e3dccf",
   "metadata": {},
   "outputs": [],
   "source": [
    "file = open(\"JNorth_Captive_Reared_2016_9.geojson\", \"w\")\n",
    "json.dump(geojson, file, indent =1)\n",
    "file.close()"
   ]
  },
  {
   "cell_type": "markdown",
   "id": "eea9348c",
   "metadata": {},
   "source": [
    "## October"
   ]
  },
  {
   "cell_type": "code",
   "execution_count": 81,
   "id": "df23ee0d",
   "metadata": {},
   "outputs": [
    {
     "data": {
      "text/html": [
       "<div>\n",
       "<style scoped>\n",
       "    .dataframe tbody tr th:only-of-type {\n",
       "        vertical-align: middle;\n",
       "    }\n",
       "\n",
       "    .dataframe tbody tr th {\n",
       "        vertical-align: top;\n",
       "    }\n",
       "\n",
       "    .dataframe thead th {\n",
       "        text-align: right;\n",
       "    }\n",
       "</style>\n",
       "<table border=\"1\" class=\"dataframe\">\n",
       "  <thead>\n",
       "    <tr style=\"text-align: right;\">\n",
       "      <th></th>\n",
       "      <th>sighting_date</th>\n",
       "      <th>species</th>\n",
       "      <th>latitude</th>\n",
       "      <th>longitude</th>\n",
       "      <th>number</th>\n",
       "      <th>year</th>\n",
       "      <th>month</th>\n",
       "    </tr>\n",
       "  </thead>\n",
       "  <tbody>\n",
       "    <tr>\n",
       "      <th>3190</th>\n",
       "      <td>2016-10-31</td>\n",
       "      <td>Monarch, Captive-Reared</td>\n",
       "      <td>30.371</td>\n",
       "      <td>-97.749</td>\n",
       "      <td>3</td>\n",
       "      <td>2016</td>\n",
       "      <td>10</td>\n",
       "    </tr>\n",
       "    <tr>\n",
       "      <th>3191</th>\n",
       "      <td>2016-10-31</td>\n",
       "      <td>Monarch, Captive-Reared</td>\n",
       "      <td>34.186</td>\n",
       "      <td>-101.718</td>\n",
       "      <td>2</td>\n",
       "      <td>2016</td>\n",
       "      <td>10</td>\n",
       "    </tr>\n",
       "    <tr>\n",
       "      <th>3192</th>\n",
       "      <td>2016-10-31</td>\n",
       "      <td>Monarch, Captive-Reared</td>\n",
       "      <td>35.433</td>\n",
       "      <td>-82.521</td>\n",
       "      <td>3</td>\n",
       "      <td>2016</td>\n",
       "      <td>10</td>\n",
       "    </tr>\n",
       "    <tr>\n",
       "      <th>3193</th>\n",
       "      <td>2016-10-31</td>\n",
       "      <td>Monarch, Captive-Reared</td>\n",
       "      <td>37.134</td>\n",
       "      <td>-93.348</td>\n",
       "      <td>1</td>\n",
       "      <td>2016</td>\n",
       "      <td>10</td>\n",
       "    </tr>\n",
       "    <tr>\n",
       "      <th>3194</th>\n",
       "      <td>2016-10-31</td>\n",
       "      <td>Monarch, Captive-Reared</td>\n",
       "      <td>40.812</td>\n",
       "      <td>-74.124</td>\n",
       "      <td>3</td>\n",
       "      <td>2016</td>\n",
       "      <td>10</td>\n",
       "    </tr>\n",
       "  </tbody>\n",
       "</table>\n",
       "</div>"
      ],
      "text/plain": [
       "     sighting_date                  species  latitude  longitude  number  \\\n",
       "3190    2016-10-31  Monarch, Captive-Reared    30.371    -97.749       3   \n",
       "3191    2016-10-31  Monarch, Captive-Reared    34.186   -101.718       2   \n",
       "3192    2016-10-31  Monarch, Captive-Reared    35.433    -82.521       3   \n",
       "3193    2016-10-31  Monarch, Captive-Reared    37.134    -93.348       1   \n",
       "3194    2016-10-31  Monarch, Captive-Reared    40.812    -74.124       3   \n",
       "\n",
       "      year  month  \n",
       "3190  2016     10  \n",
       "3191  2016     10  \n",
       "3192  2016     10  \n",
       "3193  2016     10  \n",
       "3194  2016     10  "
      ]
     },
     "execution_count": 81,
     "metadata": {},
     "output_type": "execute_result"
    }
   ],
   "source": [
    "JNorth_Captive_Reared_2016_month_df =pd.DataFrame(JNorth_Captive_Reared_2016_df)\n",
    "JNorth_Captive_Reared_2016_10_df = JNorth_Captive_Reared_2016_month_df[JNorth_Captive_Reared_2016_month_df['month']==10]\n",
    "JNorth_Captive_Reared_2016_10_df.tail()"
   ]
  },
  {
   "cell_type": "code",
   "execution_count": 82,
   "id": "67f5288a",
   "metadata": {},
   "outputs": [
    {
     "data": {
      "text/plain": [
       "(316, 7)"
      ]
     },
     "execution_count": 82,
     "metadata": {},
     "output_type": "execute_result"
    }
   ],
   "source": [
    "JNorth_Captive_Reared_2016_10_df.shape"
   ]
  },
  {
   "cell_type": "code",
   "execution_count": 83,
   "id": "a1fb31eb",
   "metadata": {},
   "outputs": [
    {
     "name": "stderr",
     "output_type": "stream",
     "text": [
      "C:\\Users\\motte\\anaconda3\\envs\\mlenv\\lib\\site-packages\\pandas\\core\\frame.py:4913: SettingWithCopyWarning: \n",
      "A value is trying to be set on a copy of a slice from a DataFrame\n",
      "\n",
      "See the caveats in the documentation: https://pandas.pydata.org/pandas-docs/stable/user_guide/indexing.html#returning-a-view-versus-a-copy\n",
      "  errors=errors,\n"
     ]
    }
   ],
   "source": [
    "JNorth_Captive_Reared_2016_10_df.drop(['month'], axis=1, inplace=True)"
   ]
  },
  {
   "cell_type": "code",
   "execution_count": 84,
   "id": "cc6ee857",
   "metadata": {},
   "outputs": [
    {
     "name": "stderr",
     "output_type": "stream",
     "text": [
      "C:\\Users\\motte\\anaconda3\\envs\\mlenv\\lib\\site-packages\\ipykernel_launcher.py:2: SettingWithCopyWarning: \n",
      "A value is trying to be set on a copy of a slice from a DataFrame.\n",
      "Try using .loc[row_indexer,col_indexer] = value instead\n",
      "\n",
      "See the caveats in the documentation: https://pandas.pydata.org/pandas-docs/stable/user_guide/indexing.html#returning-a-view-versus-a-copy\n",
      "  \n",
      "C:\\Users\\motte\\anaconda3\\envs\\mlenv\\lib\\site-packages\\ipykernel_launcher.py:3: SettingWithCopyWarning: \n",
      "A value is trying to be set on a copy of a slice from a DataFrame.\n",
      "Try using .loc[row_indexer,col_indexer] = value instead\n",
      "\n",
      "See the caveats in the documentation: https://pandas.pydata.org/pandas-docs/stable/user_guide/indexing.html#returning-a-view-versus-a-copy\n",
      "  This is separate from the ipykernel package so we can avoid doing imports until\n"
     ]
    }
   ],
   "source": [
    "# convert lat-long to floats and change address from ALL CAPS to regular capitalization\n",
    "JNorth_Captive_Reared_2016_10_df['latitude'] = JNorth_Captive_Reared_2016_10_df['latitude'].astype(float)\n",
    "JNorth_Captive_Reared_2016_10_df['longitude'] = JNorth_Captive_Reared_2016_10_df['longitude'].astype(float)\n",
    "# JNorth_Milkweed_Site_df['street_address'] = JNorth_Milkweed_Site_df['street_address'].str.title()"
   ]
  },
  {
   "cell_type": "code",
   "execution_count": 85,
   "id": "712beae1",
   "metadata": {},
   "outputs": [],
   "source": [
    "geojson = df_to_geojson(JNorth_Captive_Reared_2016_10_df, cols)"
   ]
  },
  {
   "cell_type": "code",
   "execution_count": 86,
   "id": "808cb382",
   "metadata": {},
   "outputs": [],
   "source": [
    "file = open(\"JNorth_Captive_Reared_2016_10.geojson\", \"w\")\n",
    "json.dump(geojson, file, indent =1)\n",
    "file.close()"
   ]
  },
  {
   "cell_type": "markdown",
   "id": "196b7f94",
   "metadata": {},
   "source": [
    "## November"
   ]
  },
  {
   "cell_type": "code",
   "execution_count": 87,
   "id": "8ddf9ecb",
   "metadata": {},
   "outputs": [
    {
     "data": {
      "text/html": [
       "<div>\n",
       "<style scoped>\n",
       "    .dataframe tbody tr th:only-of-type {\n",
       "        vertical-align: middle;\n",
       "    }\n",
       "\n",
       "    .dataframe tbody tr th {\n",
       "        vertical-align: top;\n",
       "    }\n",
       "\n",
       "    .dataframe thead th {\n",
       "        text-align: right;\n",
       "    }\n",
       "</style>\n",
       "<table border=\"1\" class=\"dataframe\">\n",
       "  <thead>\n",
       "    <tr style=\"text-align: right;\">\n",
       "      <th></th>\n",
       "      <th>sighting_date</th>\n",
       "      <th>species</th>\n",
       "      <th>latitude</th>\n",
       "      <th>longitude</th>\n",
       "      <th>number</th>\n",
       "      <th>year</th>\n",
       "      <th>month</th>\n",
       "    </tr>\n",
       "  </thead>\n",
       "  <tbody>\n",
       "    <tr>\n",
       "      <th>3247</th>\n",
       "      <td>2016-11-28</td>\n",
       "      <td>Monarch, Captive-Reared</td>\n",
       "      <td>32.830</td>\n",
       "      <td>-79.868</td>\n",
       "      <td>1</td>\n",
       "      <td>2016</td>\n",
       "      <td>11</td>\n",
       "    </tr>\n",
       "    <tr>\n",
       "      <th>3248</th>\n",
       "      <td>2016-11-28</td>\n",
       "      <td>Monarch, Captive-Reared</td>\n",
       "      <td>38.676</td>\n",
       "      <td>-121.873</td>\n",
       "      <td>3</td>\n",
       "      <td>2016</td>\n",
       "      <td>11</td>\n",
       "    </tr>\n",
       "    <tr>\n",
       "      <th>3249</th>\n",
       "      <td>2016-11-29</td>\n",
       "      <td>Monarch, Captive-Reared</td>\n",
       "      <td>32.830</td>\n",
       "      <td>-79.868</td>\n",
       "      <td>1</td>\n",
       "      <td>2016</td>\n",
       "      <td>11</td>\n",
       "    </tr>\n",
       "    <tr>\n",
       "      <th>3250</th>\n",
       "      <td>2016-11-29</td>\n",
       "      <td>Monarch, Captive-Reared</td>\n",
       "      <td>38.676</td>\n",
       "      <td>-121.873</td>\n",
       "      <td>7</td>\n",
       "      <td>2016</td>\n",
       "      <td>11</td>\n",
       "    </tr>\n",
       "    <tr>\n",
       "      <th>3251</th>\n",
       "      <td>2016-11-30</td>\n",
       "      <td>Monarch, Captive-Reared</td>\n",
       "      <td>32.830</td>\n",
       "      <td>-79.868</td>\n",
       "      <td>1</td>\n",
       "      <td>2016</td>\n",
       "      <td>11</td>\n",
       "    </tr>\n",
       "  </tbody>\n",
       "</table>\n",
       "</div>"
      ],
      "text/plain": [
       "     sighting_date                  species  latitude  longitude  number  \\\n",
       "3247    2016-11-28  Monarch, Captive-Reared    32.830    -79.868       1   \n",
       "3248    2016-11-28  Monarch, Captive-Reared    38.676   -121.873       3   \n",
       "3249    2016-11-29  Monarch, Captive-Reared    32.830    -79.868       1   \n",
       "3250    2016-11-29  Monarch, Captive-Reared    38.676   -121.873       7   \n",
       "3251    2016-11-30  Monarch, Captive-Reared    32.830    -79.868       1   \n",
       "\n",
       "      year  month  \n",
       "3247  2016     11  \n",
       "3248  2016     11  \n",
       "3249  2016     11  \n",
       "3250  2016     11  \n",
       "3251  2016     11  "
      ]
     },
     "execution_count": 87,
     "metadata": {},
     "output_type": "execute_result"
    }
   ],
   "source": [
    "JNorth_Captive_Reared_2016_month_df =pd.DataFrame(JNorth_Captive_Reared_2016_df)\n",
    "JNorth_Captive_Reared_2016_11_df = JNorth_Captive_Reared_2016_month_df[JNorth_Captive_Reared_2016_month_df['month']==11]\n",
    "JNorth_Captive_Reared_2016_11_df.tail()"
   ]
  },
  {
   "cell_type": "code",
   "execution_count": 88,
   "id": "ad68049a",
   "metadata": {},
   "outputs": [
    {
     "data": {
      "text/plain": [
       "(57, 7)"
      ]
     },
     "execution_count": 88,
     "metadata": {},
     "output_type": "execute_result"
    }
   ],
   "source": [
    "JNorth_Captive_Reared_2016_11_df.shape"
   ]
  },
  {
   "cell_type": "code",
   "execution_count": 89,
   "id": "b4c89154",
   "metadata": {},
   "outputs": [
    {
     "name": "stderr",
     "output_type": "stream",
     "text": [
      "C:\\Users\\motte\\anaconda3\\envs\\mlenv\\lib\\site-packages\\pandas\\core\\frame.py:4913: SettingWithCopyWarning: \n",
      "A value is trying to be set on a copy of a slice from a DataFrame\n",
      "\n",
      "See the caveats in the documentation: https://pandas.pydata.org/pandas-docs/stable/user_guide/indexing.html#returning-a-view-versus-a-copy\n",
      "  errors=errors,\n"
     ]
    }
   ],
   "source": [
    "JNorth_Captive_Reared_2016_11_df.drop(['month'], axis=1, inplace=True)"
   ]
  },
  {
   "cell_type": "code",
   "execution_count": 90,
   "id": "d58b4c8b",
   "metadata": {},
   "outputs": [
    {
     "name": "stderr",
     "output_type": "stream",
     "text": [
      "C:\\Users\\motte\\anaconda3\\envs\\mlenv\\lib\\site-packages\\ipykernel_launcher.py:2: SettingWithCopyWarning: \n",
      "A value is trying to be set on a copy of a slice from a DataFrame.\n",
      "Try using .loc[row_indexer,col_indexer] = value instead\n",
      "\n",
      "See the caveats in the documentation: https://pandas.pydata.org/pandas-docs/stable/user_guide/indexing.html#returning-a-view-versus-a-copy\n",
      "  \n",
      "C:\\Users\\motte\\anaconda3\\envs\\mlenv\\lib\\site-packages\\ipykernel_launcher.py:3: SettingWithCopyWarning: \n",
      "A value is trying to be set on a copy of a slice from a DataFrame.\n",
      "Try using .loc[row_indexer,col_indexer] = value instead\n",
      "\n",
      "See the caveats in the documentation: https://pandas.pydata.org/pandas-docs/stable/user_guide/indexing.html#returning-a-view-versus-a-copy\n",
      "  This is separate from the ipykernel package so we can avoid doing imports until\n"
     ]
    }
   ],
   "source": [
    "# convert lat-long to floats and change address from ALL CAPS to regular capitalization\n",
    "JNorth_Captive_Reared_2016_11_df['latitude'] = JNorth_Captive_Reared_2016_11_df['latitude'].astype(float)\n",
    "JNorth_Captive_Reared_2016_11_df['longitude'] = JNorth_Captive_Reared_2016_11_df['longitude'].astype(float)\n",
    "# JNorth_Milkweed_Site_df['street_address'] = JNorth_Milkweed_Site_df['street_address'].str.title()"
   ]
  },
  {
   "cell_type": "code",
   "execution_count": 91,
   "id": "f699d4b6",
   "metadata": {},
   "outputs": [],
   "source": [
    "geojson = df_to_geojson(JNorth_Captive_Reared_2016_11_df, cols)"
   ]
  },
  {
   "cell_type": "code",
   "execution_count": 92,
   "id": "834ec4dc",
   "metadata": {},
   "outputs": [],
   "source": [
    "file = open(\"JNorth_Captive_Reared_2016_11.geojson\", \"w\")\n",
    "json.dump(geojson, file, indent =1)\n",
    "file.close()"
   ]
  },
  {
   "cell_type": "markdown",
   "id": "40c71593",
   "metadata": {},
   "source": [
    "## December"
   ]
  },
  {
   "cell_type": "code",
   "execution_count": 93,
   "id": "6b4b81a1",
   "metadata": {},
   "outputs": [
    {
     "data": {
      "text/html": [
       "<div>\n",
       "<style scoped>\n",
       "    .dataframe tbody tr th:only-of-type {\n",
       "        vertical-align: middle;\n",
       "    }\n",
       "\n",
       "    .dataframe tbody tr th {\n",
       "        vertical-align: top;\n",
       "    }\n",
       "\n",
       "    .dataframe thead th {\n",
       "        text-align: right;\n",
       "    }\n",
       "</style>\n",
       "<table border=\"1\" class=\"dataframe\">\n",
       "  <thead>\n",
       "    <tr style=\"text-align: right;\">\n",
       "      <th></th>\n",
       "      <th>sighting_date</th>\n",
       "      <th>species</th>\n",
       "      <th>latitude</th>\n",
       "      <th>longitude</th>\n",
       "      <th>number</th>\n",
       "      <th>year</th>\n",
       "      <th>month</th>\n",
       "    </tr>\n",
       "  </thead>\n",
       "  <tbody>\n",
       "    <tr>\n",
       "      <th>3267</th>\n",
       "      <td>2016-12-16</td>\n",
       "      <td>Monarch, Captive-Reared</td>\n",
       "      <td>28.891</td>\n",
       "      <td>-81.851</td>\n",
       "      <td>10</td>\n",
       "      <td>2016</td>\n",
       "      <td>12</td>\n",
       "    </tr>\n",
       "    <tr>\n",
       "      <th>3268</th>\n",
       "      <td>2016-12-16</td>\n",
       "      <td>Monarch, Captive-Reared</td>\n",
       "      <td>31.252</td>\n",
       "      <td>-89.835</td>\n",
       "      <td>18</td>\n",
       "      <td>2016</td>\n",
       "      <td>12</td>\n",
       "    </tr>\n",
       "    <tr>\n",
       "      <th>3269</th>\n",
       "      <td>2016-12-27</td>\n",
       "      <td>Monarch, Captive-Reared</td>\n",
       "      <td>33.433</td>\n",
       "      <td>-79.121</td>\n",
       "      <td>1</td>\n",
       "      <td>2016</td>\n",
       "      <td>12</td>\n",
       "    </tr>\n",
       "    <tr>\n",
       "      <th>3270</th>\n",
       "      <td>2016-12-28</td>\n",
       "      <td>Monarch, Captive-Reared</td>\n",
       "      <td>33.611</td>\n",
       "      <td>-116.244</td>\n",
       "      <td>1</td>\n",
       "      <td>2016</td>\n",
       "      <td>12</td>\n",
       "    </tr>\n",
       "    <tr>\n",
       "      <th>3271</th>\n",
       "      <td>2016-12-28</td>\n",
       "      <td>Monarch, Captive-Reared</td>\n",
       "      <td>33.612</td>\n",
       "      <td>-116.249</td>\n",
       "      <td>8</td>\n",
       "      <td>2016</td>\n",
       "      <td>12</td>\n",
       "    </tr>\n",
       "  </tbody>\n",
       "</table>\n",
       "</div>"
      ],
      "text/plain": [
       "     sighting_date                  species  latitude  longitude  number  \\\n",
       "3267    2016-12-16  Monarch, Captive-Reared    28.891    -81.851      10   \n",
       "3268    2016-12-16  Monarch, Captive-Reared    31.252    -89.835      18   \n",
       "3269    2016-12-27  Monarch, Captive-Reared    33.433    -79.121       1   \n",
       "3270    2016-12-28  Monarch, Captive-Reared    33.611   -116.244       1   \n",
       "3271    2016-12-28  Monarch, Captive-Reared    33.612   -116.249       8   \n",
       "\n",
       "      year  month  \n",
       "3267  2016     12  \n",
       "3268  2016     12  \n",
       "3269  2016     12  \n",
       "3270  2016     12  \n",
       "3271  2016     12  "
      ]
     },
     "execution_count": 93,
     "metadata": {},
     "output_type": "execute_result"
    }
   ],
   "source": [
    "JNorth_Captive_Reared_2016_month_df =pd.DataFrame(JNorth_Captive_Reared_2016_df)\n",
    "JNorth_Captive_Reared_2016_12_df = JNorth_Captive_Reared_2016_month_df[JNorth_Captive_Reared_2016_month_df['month']==12]\n",
    "JNorth_Captive_Reared_2016_12_df.tail()"
   ]
  },
  {
   "cell_type": "code",
   "execution_count": 94,
   "id": "c4df5f44",
   "metadata": {},
   "outputs": [
    {
     "data": {
      "text/plain": [
       "(20, 7)"
      ]
     },
     "execution_count": 94,
     "metadata": {},
     "output_type": "execute_result"
    }
   ],
   "source": [
    "JNorth_Captive_Reared_2016_12_df.shape"
   ]
  },
  {
   "cell_type": "code",
   "execution_count": 95,
   "id": "d6ae0a6a",
   "metadata": {},
   "outputs": [
    {
     "name": "stderr",
     "output_type": "stream",
     "text": [
      "C:\\Users\\motte\\anaconda3\\envs\\mlenv\\lib\\site-packages\\pandas\\core\\frame.py:4913: SettingWithCopyWarning: \n",
      "A value is trying to be set on a copy of a slice from a DataFrame\n",
      "\n",
      "See the caveats in the documentation: https://pandas.pydata.org/pandas-docs/stable/user_guide/indexing.html#returning-a-view-versus-a-copy\n",
      "  errors=errors,\n"
     ]
    }
   ],
   "source": [
    "JNorth_Captive_Reared_2016_12_df.drop(['month'], axis=1, inplace=True)"
   ]
  },
  {
   "cell_type": "code",
   "execution_count": 96,
   "id": "d4152a7f",
   "metadata": {},
   "outputs": [
    {
     "name": "stderr",
     "output_type": "stream",
     "text": [
      "C:\\Users\\motte\\anaconda3\\envs\\mlenv\\lib\\site-packages\\ipykernel_launcher.py:2: SettingWithCopyWarning: \n",
      "A value is trying to be set on a copy of a slice from a DataFrame.\n",
      "Try using .loc[row_indexer,col_indexer] = value instead\n",
      "\n",
      "See the caveats in the documentation: https://pandas.pydata.org/pandas-docs/stable/user_guide/indexing.html#returning-a-view-versus-a-copy\n",
      "  \n",
      "C:\\Users\\motte\\anaconda3\\envs\\mlenv\\lib\\site-packages\\ipykernel_launcher.py:3: SettingWithCopyWarning: \n",
      "A value is trying to be set on a copy of a slice from a DataFrame.\n",
      "Try using .loc[row_indexer,col_indexer] = value instead\n",
      "\n",
      "See the caveats in the documentation: https://pandas.pydata.org/pandas-docs/stable/user_guide/indexing.html#returning-a-view-versus-a-copy\n",
      "  This is separate from the ipykernel package so we can avoid doing imports until\n"
     ]
    }
   ],
   "source": [
    "# convert lat-long to floats and change address from ALL CAPS to regular capitalization\n",
    "JNorth_Captive_Reared_2016_12_df['latitude'] = JNorth_Captive_Reared_2016_12_df['latitude'].astype(float)\n",
    "JNorth_Captive_Reared_2016_12_df['longitude'] = JNorth_Captive_Reared_2016_12_df['longitude'].astype(float)\n",
    "# JNorth_Milkweed_Site_df['street_address'] = JNorth_Milkweed_Site_df['street_address'].str.title()"
   ]
  },
  {
   "cell_type": "code",
   "execution_count": 97,
   "id": "dd3a5d1f",
   "metadata": {},
   "outputs": [],
   "source": [
    "geojson = df_to_geojson(JNorth_Captive_Reared_2016_12_df, cols)"
   ]
  },
  {
   "cell_type": "code",
   "execution_count": 98,
   "id": "028f834c",
   "metadata": {},
   "outputs": [],
   "source": [
    "file = open(\"JNorth_Captive_Reared_2016_12.geojson\", \"w\")\n",
    "json.dump(geojson, file, indent =1)\n",
    "file.close()"
   ]
  },
  {
   "cell_type": "markdown",
   "id": "64ab3e2c",
   "metadata": {},
   "source": [
    "# 2017"
   ]
  },
  {
   "cell_type": "code",
   "execution_count": 99,
   "id": "66b4ab28",
   "metadata": {},
   "outputs": [
    {
     "data": {
      "text/html": [
       "<div>\n",
       "<style scoped>\n",
       "    .dataframe tbody tr th:only-of-type {\n",
       "        vertical-align: middle;\n",
       "    }\n",
       "\n",
       "    .dataframe tbody tr th {\n",
       "        vertical-align: top;\n",
       "    }\n",
       "\n",
       "    .dataframe thead th {\n",
       "        text-align: right;\n",
       "    }\n",
       "</style>\n",
       "<table border=\"1\" class=\"dataframe\">\n",
       "  <thead>\n",
       "    <tr style=\"text-align: right;\">\n",
       "      <th></th>\n",
       "      <th>sighting_date</th>\n",
       "      <th>species</th>\n",
       "      <th>latitude</th>\n",
       "      <th>longitude</th>\n",
       "      <th>number</th>\n",
       "      <th>year</th>\n",
       "    </tr>\n",
       "  </thead>\n",
       "  <tbody>\n",
       "    <tr>\n",
       "      <th>5741</th>\n",
       "      <td>2017-12-27</td>\n",
       "      <td>Monarch, Captive-Reared</td>\n",
       "      <td>28.566</td>\n",
       "      <td>-81.132</td>\n",
       "      <td>13</td>\n",
       "      <td>2017</td>\n",
       "    </tr>\n",
       "    <tr>\n",
       "      <th>5742</th>\n",
       "      <td>2017-12-28</td>\n",
       "      <td>Monarch, Captive-Reared</td>\n",
       "      <td>38.676</td>\n",
       "      <td>-121.873</td>\n",
       "      <td>1</td>\n",
       "      <td>2017</td>\n",
       "    </tr>\n",
       "    <tr>\n",
       "      <th>5743</th>\n",
       "      <td>2017-12-29</td>\n",
       "      <td>Monarch, Captive-Reared</td>\n",
       "      <td>38.676</td>\n",
       "      <td>-121.872</td>\n",
       "      <td>4</td>\n",
       "      <td>2017</td>\n",
       "    </tr>\n",
       "    <tr>\n",
       "      <th>5744</th>\n",
       "      <td>2017-12-30</td>\n",
       "      <td>Monarch, Captive-Reared</td>\n",
       "      <td>38.676</td>\n",
       "      <td>-121.873</td>\n",
       "      <td>3</td>\n",
       "      <td>2017</td>\n",
       "    </tr>\n",
       "    <tr>\n",
       "      <th>5745</th>\n",
       "      <td>2017-12-31</td>\n",
       "      <td>Monarch, Captive-Reared</td>\n",
       "      <td>38.676</td>\n",
       "      <td>-121.873</td>\n",
       "      <td>8</td>\n",
       "      <td>2017</td>\n",
       "    </tr>\n",
       "  </tbody>\n",
       "</table>\n",
       "</div>"
      ],
      "text/plain": [
       "     sighting_date                  species  latitude  longitude  number  year\n",
       "5741    2017-12-27  Monarch, Captive-Reared    28.566    -81.132      13  2017\n",
       "5742    2017-12-28  Monarch, Captive-Reared    38.676   -121.873       1  2017\n",
       "5743    2017-12-29  Monarch, Captive-Reared    38.676   -121.872       4  2017\n",
       "5744    2017-12-30  Monarch, Captive-Reared    38.676   -121.873       3  2017\n",
       "5745    2017-12-31  Monarch, Captive-Reared    38.676   -121.873       8  2017"
      ]
     },
     "execution_count": 99,
     "metadata": {},
     "output_type": "execute_result"
    }
   ],
   "source": [
    "JNorth_Captive_Reared_2017_df = JNorth_Captive_Reared_year_df[JNorth_Captive_Reared_year_df['year']==2017]\n",
    "JNorth_Captive_Reared_2017_df.tail()"
   ]
  },
  {
   "cell_type": "code",
   "execution_count": 100,
   "id": "27387600",
   "metadata": {},
   "outputs": [
    {
     "data": {
      "text/plain": [
       "(2474, 6)"
      ]
     },
     "execution_count": 100,
     "metadata": {},
     "output_type": "execute_result"
    }
   ],
   "source": [
    "JNorth_Captive_Reared_2017_df.shape"
   ]
  },
  {
   "cell_type": "code",
   "execution_count": 101,
   "id": "39c22eab",
   "metadata": {},
   "outputs": [
    {
     "name": "stderr",
     "output_type": "stream",
     "text": [
      "C:\\Users\\motte\\anaconda3\\envs\\mlenv\\lib\\site-packages\\pandas\\core\\frame.py:4913: SettingWithCopyWarning: \n",
      "A value is trying to be set on a copy of a slice from a DataFrame\n",
      "\n",
      "See the caveats in the documentation: https://pandas.pydata.org/pandas-docs/stable/user_guide/indexing.html#returning-a-view-versus-a-copy\n",
      "  errors=errors,\n"
     ]
    }
   ],
   "source": [
    "JNorth_Captive_Reared_2017_df.drop(['year'], axis=1, inplace=True)"
   ]
  },
  {
   "cell_type": "code",
   "execution_count": 102,
   "id": "02af16d1",
   "metadata": {},
   "outputs": [
    {
     "data": {
      "text/plain": [
       "<bound method NDFrame.tail of      sighting_date                  species  latitude  longitude  number\n",
       "3272    2017-01-01  Monarch, Captive-Reared    30.012    -90.180       1\n",
       "3273    2017-01-01  Monarch, Captive-Reared    32.597    -96.895       6\n",
       "3274    2017-01-01  Monarch, Captive-Reared    32.764   -111.600       2\n",
       "3275    2017-01-02  Monarch, Captive-Reared    30.012    -90.180       1\n",
       "3276    2017-01-07  Monarch, Captive-Reared    34.108   -117.864       1\n",
       "...            ...                      ...       ...        ...     ...\n",
       "5741    2017-12-27  Monarch, Captive-Reared    28.566    -81.132      13\n",
       "5742    2017-12-28  Monarch, Captive-Reared    38.676   -121.873       1\n",
       "5743    2017-12-29  Monarch, Captive-Reared    38.676   -121.872       4\n",
       "5744    2017-12-30  Monarch, Captive-Reared    38.676   -121.873       3\n",
       "5745    2017-12-31  Monarch, Captive-Reared    38.676   -121.873       8\n",
       "\n",
       "[2474 rows x 5 columns]>"
      ]
     },
     "execution_count": 102,
     "metadata": {},
     "output_type": "execute_result"
    }
   ],
   "source": [
    "JNorth_Captive_Reared_2017_df.tail"
   ]
  },
  {
   "cell_type": "code",
   "execution_count": 103,
   "id": "0638da02",
   "metadata": {},
   "outputs": [
    {
     "name": "stderr",
     "output_type": "stream",
     "text": [
      "C:\\Users\\motte\\anaconda3\\envs\\mlenv\\lib\\site-packages\\ipykernel_launcher.py:1: SettingWithCopyWarning: \n",
      "A value is trying to be set on a copy of a slice from a DataFrame.\n",
      "Try using .loc[row_indexer,col_indexer] = value instead\n",
      "\n",
      "See the caveats in the documentation: https://pandas.pydata.org/pandas-docs/stable/user_guide/indexing.html#returning-a-view-versus-a-copy\n",
      "  \"\"\"Entry point for launching an IPython kernel.\n"
     ]
    }
   ],
   "source": [
    "JNorth_Captive_Reared_2017_df['month'] = pd.DatetimeIndex(JNorth_Captive_Reared_2017_df['sighting_date']).month"
   ]
  },
  {
   "cell_type": "markdown",
   "id": "44e36e34",
   "metadata": {},
   "source": [
    "## January"
   ]
  },
  {
   "cell_type": "code",
   "execution_count": 104,
   "id": "9086a832",
   "metadata": {},
   "outputs": [
    {
     "data": {
      "text/html": [
       "<div>\n",
       "<style scoped>\n",
       "    .dataframe tbody tr th:only-of-type {\n",
       "        vertical-align: middle;\n",
       "    }\n",
       "\n",
       "    .dataframe tbody tr th {\n",
       "        vertical-align: top;\n",
       "    }\n",
       "\n",
       "    .dataframe thead th {\n",
       "        text-align: right;\n",
       "    }\n",
       "</style>\n",
       "<table border=\"1\" class=\"dataframe\">\n",
       "  <thead>\n",
       "    <tr style=\"text-align: right;\">\n",
       "      <th></th>\n",
       "      <th>sighting_date</th>\n",
       "      <th>species</th>\n",
       "      <th>latitude</th>\n",
       "      <th>longitude</th>\n",
       "      <th>number</th>\n",
       "      <th>month</th>\n",
       "    </tr>\n",
       "  </thead>\n",
       "  <tbody>\n",
       "    <tr>\n",
       "      <th>3285</th>\n",
       "      <td>2017-01-23</td>\n",
       "      <td>Monarch, Captive-Reared</td>\n",
       "      <td>32.221</td>\n",
       "      <td>-80.675</td>\n",
       "      <td>2</td>\n",
       "      <td>1</td>\n",
       "    </tr>\n",
       "    <tr>\n",
       "      <th>3286</th>\n",
       "      <td>2017-01-23</td>\n",
       "      <td>Monarch, Captive-Reared</td>\n",
       "      <td>32.597</td>\n",
       "      <td>-96.896</td>\n",
       "      <td>1</td>\n",
       "      <td>1</td>\n",
       "    </tr>\n",
       "    <tr>\n",
       "      <th>3287</th>\n",
       "      <td>2017-01-23</td>\n",
       "      <td>Monarch, Captive-Reared</td>\n",
       "      <td>37.338</td>\n",
       "      <td>-121.886</td>\n",
       "      <td>2</td>\n",
       "      <td>1</td>\n",
       "    </tr>\n",
       "    <tr>\n",
       "      <th>3288</th>\n",
       "      <td>2017-01-26</td>\n",
       "      <td>Monarch, Captive-Reared</td>\n",
       "      <td>27.974</td>\n",
       "      <td>-82.764</td>\n",
       "      <td>1</td>\n",
       "      <td>1</td>\n",
       "    </tr>\n",
       "    <tr>\n",
       "      <th>3289</th>\n",
       "      <td>2017-01-26</td>\n",
       "      <td>Monarch, Captive-Reared</td>\n",
       "      <td>28.000</td>\n",
       "      <td>-82.751</td>\n",
       "      <td>1</td>\n",
       "      <td>1</td>\n",
       "    </tr>\n",
       "  </tbody>\n",
       "</table>\n",
       "</div>"
      ],
      "text/plain": [
       "     sighting_date                  species  latitude  longitude  number  \\\n",
       "3285    2017-01-23  Monarch, Captive-Reared    32.221    -80.675       2   \n",
       "3286    2017-01-23  Monarch, Captive-Reared    32.597    -96.896       1   \n",
       "3287    2017-01-23  Monarch, Captive-Reared    37.338   -121.886       2   \n",
       "3288    2017-01-26  Monarch, Captive-Reared    27.974    -82.764       1   \n",
       "3289    2017-01-26  Monarch, Captive-Reared    28.000    -82.751       1   \n",
       "\n",
       "      month  \n",
       "3285      1  \n",
       "3286      1  \n",
       "3287      1  \n",
       "3288      1  \n",
       "3289      1  "
      ]
     },
     "execution_count": 104,
     "metadata": {},
     "output_type": "execute_result"
    }
   ],
   "source": [
    "JNorth_Captive_Reared_2017_month_df =pd.DataFrame(JNorth_Captive_Reared_2017_df)\n",
    "JNorth_Captive_Reared_2017_1_df = JNorth_Captive_Reared_2017_month_df[JNorth_Captive_Reared_2017_month_df['month']==1]\n",
    "JNorth_Captive_Reared_2017_1_df.tail()"
   ]
  },
  {
   "cell_type": "code",
   "execution_count": 105,
   "id": "9e27c140",
   "metadata": {},
   "outputs": [
    {
     "data": {
      "text/plain": [
       "(18, 6)"
      ]
     },
     "execution_count": 105,
     "metadata": {},
     "output_type": "execute_result"
    }
   ],
   "source": [
    "JNorth_Captive_Reared_2017_1_df.shape"
   ]
  },
  {
   "cell_type": "code",
   "execution_count": 106,
   "id": "b53fb638",
   "metadata": {},
   "outputs": [
    {
     "name": "stderr",
     "output_type": "stream",
     "text": [
      "C:\\Users\\motte\\anaconda3\\envs\\mlenv\\lib\\site-packages\\pandas\\core\\frame.py:4913: SettingWithCopyWarning: \n",
      "A value is trying to be set on a copy of a slice from a DataFrame\n",
      "\n",
      "See the caveats in the documentation: https://pandas.pydata.org/pandas-docs/stable/user_guide/indexing.html#returning-a-view-versus-a-copy\n",
      "  errors=errors,\n"
     ]
    }
   ],
   "source": [
    "JNorth_Captive_Reared_2017_1_df.drop(['month'], axis=1, inplace=True)"
   ]
  },
  {
   "cell_type": "code",
   "execution_count": 107,
   "id": "314d9a0e",
   "metadata": {},
   "outputs": [
    {
     "name": "stderr",
     "output_type": "stream",
     "text": [
      "C:\\Users\\motte\\anaconda3\\envs\\mlenv\\lib\\site-packages\\ipykernel_launcher.py:2: SettingWithCopyWarning: \n",
      "A value is trying to be set on a copy of a slice from a DataFrame.\n",
      "Try using .loc[row_indexer,col_indexer] = value instead\n",
      "\n",
      "See the caveats in the documentation: https://pandas.pydata.org/pandas-docs/stable/user_guide/indexing.html#returning-a-view-versus-a-copy\n",
      "  \n",
      "C:\\Users\\motte\\anaconda3\\envs\\mlenv\\lib\\site-packages\\ipykernel_launcher.py:3: SettingWithCopyWarning: \n",
      "A value is trying to be set on a copy of a slice from a DataFrame.\n",
      "Try using .loc[row_indexer,col_indexer] = value instead\n",
      "\n",
      "See the caveats in the documentation: https://pandas.pydata.org/pandas-docs/stable/user_guide/indexing.html#returning-a-view-versus-a-copy\n",
      "  This is separate from the ipykernel package so we can avoid doing imports until\n"
     ]
    }
   ],
   "source": [
    "# convert lat-long to floats and change address from ALL CAPS to regular capitalization\n",
    "JNorth_Captive_Reared_2017_1_df['latitude'] = JNorth_Captive_Reared_2017_1_df['latitude'].astype(float)\n",
    "JNorth_Captive_Reared_2017_1_df['longitude'] = JNorth_Captive_Reared_2017_1_df['longitude'].astype(float)\n",
    "# JNorth_Milkweed_Site_df['street_address'] = JNorth_Milkweed_Site_df['street_address'].str.title()"
   ]
  },
  {
   "cell_type": "code",
   "execution_count": 108,
   "id": "cf406e10",
   "metadata": {},
   "outputs": [],
   "source": [
    "geojson = df_to_geojson(JNorth_Captive_Reared_2017_1_df, cols)"
   ]
  },
  {
   "cell_type": "code",
   "execution_count": 109,
   "id": "cf076629",
   "metadata": {},
   "outputs": [],
   "source": [
    "file = open(\"JNorth_Captive_Reared_2017_1.geojson\", \"w\")\n",
    "json.dump(geojson, file, indent =1)\n",
    "file.close()"
   ]
  },
  {
   "cell_type": "markdown",
   "id": "f3c4b9a4",
   "metadata": {},
   "source": [
    "## February"
   ]
  },
  {
   "cell_type": "code",
   "execution_count": 110,
   "id": "89e4afd6",
   "metadata": {},
   "outputs": [
    {
     "data": {
      "text/html": [
       "<div>\n",
       "<style scoped>\n",
       "    .dataframe tbody tr th:only-of-type {\n",
       "        vertical-align: middle;\n",
       "    }\n",
       "\n",
       "    .dataframe tbody tr th {\n",
       "        vertical-align: top;\n",
       "    }\n",
       "\n",
       "    .dataframe thead th {\n",
       "        text-align: right;\n",
       "    }\n",
       "</style>\n",
       "<table border=\"1\" class=\"dataframe\">\n",
       "  <thead>\n",
       "    <tr style=\"text-align: right;\">\n",
       "      <th></th>\n",
       "      <th>sighting_date</th>\n",
       "      <th>species</th>\n",
       "      <th>latitude</th>\n",
       "      <th>longitude</th>\n",
       "      <th>number</th>\n",
       "      <th>month</th>\n",
       "    </tr>\n",
       "  </thead>\n",
       "  <tbody>\n",
       "    <tr>\n",
       "      <th>3302</th>\n",
       "      <td>2017-02-14</td>\n",
       "      <td>Monarch, Captive-Reared</td>\n",
       "      <td>25.578</td>\n",
       "      <td>-80.338</td>\n",
       "      <td>1</td>\n",
       "      <td>2</td>\n",
       "    </tr>\n",
       "    <tr>\n",
       "      <th>3303</th>\n",
       "      <td>2017-02-15</td>\n",
       "      <td>Monarch, Captive-Reared</td>\n",
       "      <td>32.221</td>\n",
       "      <td>-80.675</td>\n",
       "      <td>1</td>\n",
       "      <td>2</td>\n",
       "    </tr>\n",
       "    <tr>\n",
       "      <th>3304</th>\n",
       "      <td>2017-02-18</td>\n",
       "      <td>Monarch, Captive-Reared</td>\n",
       "      <td>30.336</td>\n",
       "      <td>-97.743</td>\n",
       "      <td>1</td>\n",
       "      <td>2</td>\n",
       "    </tr>\n",
       "    <tr>\n",
       "      <th>3305</th>\n",
       "      <td>2017-02-28</td>\n",
       "      <td>Monarch, Captive-Reared</td>\n",
       "      <td>30.080</td>\n",
       "      <td>-95.417</td>\n",
       "      <td>10</td>\n",
       "      <td>2</td>\n",
       "    </tr>\n",
       "    <tr>\n",
       "      <th>3306</th>\n",
       "      <td>2017-02-28</td>\n",
       "      <td>Monarch, Captive-Reared</td>\n",
       "      <td>30.241</td>\n",
       "      <td>-81.738</td>\n",
       "      <td>5</td>\n",
       "      <td>2</td>\n",
       "    </tr>\n",
       "  </tbody>\n",
       "</table>\n",
       "</div>"
      ],
      "text/plain": [
       "     sighting_date                  species  latitude  longitude  number  \\\n",
       "3302    2017-02-14  Monarch, Captive-Reared    25.578    -80.338       1   \n",
       "3303    2017-02-15  Monarch, Captive-Reared    32.221    -80.675       1   \n",
       "3304    2017-02-18  Monarch, Captive-Reared    30.336    -97.743       1   \n",
       "3305    2017-02-28  Monarch, Captive-Reared    30.080    -95.417      10   \n",
       "3306    2017-02-28  Monarch, Captive-Reared    30.241    -81.738       5   \n",
       "\n",
       "      month  \n",
       "3302      2  \n",
       "3303      2  \n",
       "3304      2  \n",
       "3305      2  \n",
       "3306      2  "
      ]
     },
     "execution_count": 110,
     "metadata": {},
     "output_type": "execute_result"
    }
   ],
   "source": [
    "JNorth_Captive_Reared_2017_month_df =pd.DataFrame(JNorth_Captive_Reared_2017_df)\n",
    "JNorth_Captive_Reared_2017_2_df = JNorth_Captive_Reared_2017_month_df[JNorth_Captive_Reared_2017_month_df['month']==2]\n",
    "JNorth_Captive_Reared_2017_2_df.tail()"
   ]
  },
  {
   "cell_type": "code",
   "execution_count": 111,
   "id": "0e6eeb72",
   "metadata": {},
   "outputs": [
    {
     "data": {
      "text/plain": [
       "(17, 6)"
      ]
     },
     "execution_count": 111,
     "metadata": {},
     "output_type": "execute_result"
    }
   ],
   "source": [
    "JNorth_Captive_Reared_2017_2_df.shape"
   ]
  },
  {
   "cell_type": "code",
   "execution_count": 112,
   "id": "de099469",
   "metadata": {},
   "outputs": [
    {
     "name": "stderr",
     "output_type": "stream",
     "text": [
      "C:\\Users\\motte\\anaconda3\\envs\\mlenv\\lib\\site-packages\\pandas\\core\\frame.py:4913: SettingWithCopyWarning: \n",
      "A value is trying to be set on a copy of a slice from a DataFrame\n",
      "\n",
      "See the caveats in the documentation: https://pandas.pydata.org/pandas-docs/stable/user_guide/indexing.html#returning-a-view-versus-a-copy\n",
      "  errors=errors,\n"
     ]
    }
   ],
   "source": [
    "JNorth_Captive_Reared_2017_2_df.drop(['month'], axis=1, inplace=True)"
   ]
  },
  {
   "cell_type": "code",
   "execution_count": 113,
   "id": "a94edae4",
   "metadata": {},
   "outputs": [
    {
     "name": "stderr",
     "output_type": "stream",
     "text": [
      "C:\\Users\\motte\\anaconda3\\envs\\mlenv\\lib\\site-packages\\ipykernel_launcher.py:2: SettingWithCopyWarning: \n",
      "A value is trying to be set on a copy of a slice from a DataFrame.\n",
      "Try using .loc[row_indexer,col_indexer] = value instead\n",
      "\n",
      "See the caveats in the documentation: https://pandas.pydata.org/pandas-docs/stable/user_guide/indexing.html#returning-a-view-versus-a-copy\n",
      "  \n",
      "C:\\Users\\motte\\anaconda3\\envs\\mlenv\\lib\\site-packages\\ipykernel_launcher.py:3: SettingWithCopyWarning: \n",
      "A value is trying to be set on a copy of a slice from a DataFrame.\n",
      "Try using .loc[row_indexer,col_indexer] = value instead\n",
      "\n",
      "See the caveats in the documentation: https://pandas.pydata.org/pandas-docs/stable/user_guide/indexing.html#returning-a-view-versus-a-copy\n",
      "  This is separate from the ipykernel package so we can avoid doing imports until\n"
     ]
    }
   ],
   "source": [
    "# convert lat-long to floats and change address from ALL CAPS to regular capitalization\n",
    "JNorth_Captive_Reared_2017_2_df['latitude'] = JNorth_Captive_Reared_2017_2_df['latitude'].astype(float)\n",
    "JNorth_Captive_Reared_2017_2_df['longitude'] = JNorth_Captive_Reared_2017_2_df['longitude'].astype(float)\n",
    "# JNorth_Milkweed_Site_df['street_address'] = JNorth_Milkweed_Site_df['street_address'].str.title()"
   ]
  },
  {
   "cell_type": "code",
   "execution_count": 114,
   "id": "3a7a03f0",
   "metadata": {},
   "outputs": [],
   "source": [
    "geojson = df_to_geojson(JNorth_Captive_Reared_2017_2_df, cols)"
   ]
  },
  {
   "cell_type": "code",
   "execution_count": 115,
   "id": "f5e3b20b",
   "metadata": {},
   "outputs": [],
   "source": [
    "file = open(\"JNorth_Captive_Reared_2017_2.geojson\", \"w\")\n",
    "json.dump(geojson, file, indent =1)\n",
    "file.close()"
   ]
  },
  {
   "cell_type": "markdown",
   "id": "7e14e69d",
   "metadata": {},
   "source": [
    "## March"
   ]
  },
  {
   "cell_type": "code",
   "execution_count": 116,
   "id": "81e1f20b",
   "metadata": {},
   "outputs": [
    {
     "data": {
      "text/html": [
       "<div>\n",
       "<style scoped>\n",
       "    .dataframe tbody tr th:only-of-type {\n",
       "        vertical-align: middle;\n",
       "    }\n",
       "\n",
       "    .dataframe tbody tr th {\n",
       "        vertical-align: top;\n",
       "    }\n",
       "\n",
       "    .dataframe thead th {\n",
       "        text-align: right;\n",
       "    }\n",
       "</style>\n",
       "<table border=\"1\" class=\"dataframe\">\n",
       "  <thead>\n",
       "    <tr style=\"text-align: right;\">\n",
       "      <th></th>\n",
       "      <th>sighting_date</th>\n",
       "      <th>species</th>\n",
       "      <th>latitude</th>\n",
       "      <th>longitude</th>\n",
       "      <th>number</th>\n",
       "      <th>month</th>\n",
       "    </tr>\n",
       "  </thead>\n",
       "  <tbody>\n",
       "    <tr>\n",
       "      <th>3317</th>\n",
       "      <td>2017-03-22</td>\n",
       "      <td>Monarch, Captive-Reared</td>\n",
       "      <td>32.221</td>\n",
       "      <td>-80.676</td>\n",
       "      <td>2</td>\n",
       "      <td>3</td>\n",
       "    </tr>\n",
       "    <tr>\n",
       "      <th>3318</th>\n",
       "      <td>2017-03-23</td>\n",
       "      <td>Monarch, Captive-Reared</td>\n",
       "      <td>25.983</td>\n",
       "      <td>-80.382</td>\n",
       "      <td>4</td>\n",
       "      <td>3</td>\n",
       "    </tr>\n",
       "    <tr>\n",
       "      <th>3319</th>\n",
       "      <td>2017-03-25</td>\n",
       "      <td>Monarch, Captive-Reared</td>\n",
       "      <td>30.161</td>\n",
       "      <td>-81.633</td>\n",
       "      <td>1</td>\n",
       "      <td>3</td>\n",
       "    </tr>\n",
       "    <tr>\n",
       "      <th>3320</th>\n",
       "      <td>2017-03-27</td>\n",
       "      <td>Monarch, Captive-Reared</td>\n",
       "      <td>32.221</td>\n",
       "      <td>-80.675</td>\n",
       "      <td>1</td>\n",
       "      <td>3</td>\n",
       "    </tr>\n",
       "    <tr>\n",
       "      <th>3321</th>\n",
       "      <td>2017-03-29</td>\n",
       "      <td>Monarch, Captive-Reared</td>\n",
       "      <td>32.805</td>\n",
       "      <td>-116.955</td>\n",
       "      <td>1</td>\n",
       "      <td>3</td>\n",
       "    </tr>\n",
       "  </tbody>\n",
       "</table>\n",
       "</div>"
      ],
      "text/plain": [
       "     sighting_date                  species  latitude  longitude  number  \\\n",
       "3317    2017-03-22  Monarch, Captive-Reared    32.221    -80.676       2   \n",
       "3318    2017-03-23  Monarch, Captive-Reared    25.983    -80.382       4   \n",
       "3319    2017-03-25  Monarch, Captive-Reared    30.161    -81.633       1   \n",
       "3320    2017-03-27  Monarch, Captive-Reared    32.221    -80.675       1   \n",
       "3321    2017-03-29  Monarch, Captive-Reared    32.805   -116.955       1   \n",
       "\n",
       "      month  \n",
       "3317      3  \n",
       "3318      3  \n",
       "3319      3  \n",
       "3320      3  \n",
       "3321      3  "
      ]
     },
     "execution_count": 116,
     "metadata": {},
     "output_type": "execute_result"
    }
   ],
   "source": [
    "JNorth_Captive_Reared_2017_month_df =pd.DataFrame(JNorth_Captive_Reared_2017_df)\n",
    "JNorth_Captive_Reared_2017_3_df = JNorth_Captive_Reared_2017_month_df[JNorth_Captive_Reared_2017_month_df['month']==3]\n",
    "JNorth_Captive_Reared_2017_3_df.tail()"
   ]
  },
  {
   "cell_type": "code",
   "execution_count": 117,
   "id": "77640de4",
   "metadata": {},
   "outputs": [
    {
     "data": {
      "text/plain": [
       "(15, 6)"
      ]
     },
     "execution_count": 117,
     "metadata": {},
     "output_type": "execute_result"
    }
   ],
   "source": [
    "JNorth_Captive_Reared_2017_3_df.shape"
   ]
  },
  {
   "cell_type": "code",
   "execution_count": 118,
   "id": "457cb4d6",
   "metadata": {},
   "outputs": [
    {
     "name": "stderr",
     "output_type": "stream",
     "text": [
      "C:\\Users\\motte\\anaconda3\\envs\\mlenv\\lib\\site-packages\\pandas\\core\\frame.py:4913: SettingWithCopyWarning: \n",
      "A value is trying to be set on a copy of a slice from a DataFrame\n",
      "\n",
      "See the caveats in the documentation: https://pandas.pydata.org/pandas-docs/stable/user_guide/indexing.html#returning-a-view-versus-a-copy\n",
      "  errors=errors,\n"
     ]
    }
   ],
   "source": [
    "JNorth_Captive_Reared_2017_3_df.drop(['month'], axis=1, inplace=True)"
   ]
  },
  {
   "cell_type": "code",
   "execution_count": 119,
   "id": "86206cff",
   "metadata": {},
   "outputs": [
    {
     "name": "stderr",
     "output_type": "stream",
     "text": [
      "C:\\Users\\motte\\anaconda3\\envs\\mlenv\\lib\\site-packages\\ipykernel_launcher.py:2: SettingWithCopyWarning: \n",
      "A value is trying to be set on a copy of a slice from a DataFrame.\n",
      "Try using .loc[row_indexer,col_indexer] = value instead\n",
      "\n",
      "See the caveats in the documentation: https://pandas.pydata.org/pandas-docs/stable/user_guide/indexing.html#returning-a-view-versus-a-copy\n",
      "  \n",
      "C:\\Users\\motte\\anaconda3\\envs\\mlenv\\lib\\site-packages\\ipykernel_launcher.py:3: SettingWithCopyWarning: \n",
      "A value is trying to be set on a copy of a slice from a DataFrame.\n",
      "Try using .loc[row_indexer,col_indexer] = value instead\n",
      "\n",
      "See the caveats in the documentation: https://pandas.pydata.org/pandas-docs/stable/user_guide/indexing.html#returning-a-view-versus-a-copy\n",
      "  This is separate from the ipykernel package so we can avoid doing imports until\n"
     ]
    }
   ],
   "source": [
    "# convert lat-long to floats and change address from ALL CAPS to regular capitalization\n",
    "JNorth_Captive_Reared_2017_3_df['latitude'] = JNorth_Captive_Reared_2017_3_df['latitude'].astype(float)\n",
    "JNorth_Captive_Reared_2017_3_df['longitude'] = JNorth_Captive_Reared_2017_3_df['longitude'].astype(float)\n",
    "# JNorth_Milkweed_Site_df['street_address'] = JNorth_Milkweed_Site_df['street_address'].str.title()"
   ]
  },
  {
   "cell_type": "code",
   "execution_count": 120,
   "id": "b22c5380",
   "metadata": {},
   "outputs": [],
   "source": [
    "geojson = df_to_geojson(JNorth_Captive_Reared_2017_3_df, cols)"
   ]
  },
  {
   "cell_type": "code",
   "execution_count": 121,
   "id": "17df86d3",
   "metadata": {},
   "outputs": [],
   "source": [
    "file = open(\"JNorth_Captive_Reared_2017_3.geojson\", \"w\")\n",
    "json.dump(geojson, file, indent =1)\n",
    "file.close()"
   ]
  },
  {
   "cell_type": "markdown",
   "id": "4a4cedaa",
   "metadata": {},
   "source": [
    "## April"
   ]
  },
  {
   "cell_type": "code",
   "execution_count": 122,
   "id": "73accd48",
   "metadata": {},
   "outputs": [
    {
     "data": {
      "text/html": [
       "<div>\n",
       "<style scoped>\n",
       "    .dataframe tbody tr th:only-of-type {\n",
       "        vertical-align: middle;\n",
       "    }\n",
       "\n",
       "    .dataframe tbody tr th {\n",
       "        vertical-align: top;\n",
       "    }\n",
       "\n",
       "    .dataframe thead th {\n",
       "        text-align: right;\n",
       "    }\n",
       "</style>\n",
       "<table border=\"1\" class=\"dataframe\">\n",
       "  <thead>\n",
       "    <tr style=\"text-align: right;\">\n",
       "      <th></th>\n",
       "      <th>sighting_date</th>\n",
       "      <th>species</th>\n",
       "      <th>latitude</th>\n",
       "      <th>longitude</th>\n",
       "      <th>number</th>\n",
       "      <th>month</th>\n",
       "    </tr>\n",
       "  </thead>\n",
       "  <tbody>\n",
       "    <tr>\n",
       "      <th>3354</th>\n",
       "      <td>2017-04-29</td>\n",
       "      <td>Monarch, Captive-Reared</td>\n",
       "      <td>28.917</td>\n",
       "      <td>-82.612</td>\n",
       "      <td>2</td>\n",
       "      <td>4</td>\n",
       "    </tr>\n",
       "    <tr>\n",
       "      <th>3355</th>\n",
       "      <td>2017-04-29</td>\n",
       "      <td>Monarch, Captive-Reared</td>\n",
       "      <td>34.141</td>\n",
       "      <td>-118.213</td>\n",
       "      <td>1</td>\n",
       "      <td>4</td>\n",
       "    </tr>\n",
       "    <tr>\n",
       "      <th>3356</th>\n",
       "      <td>2017-04-29</td>\n",
       "      <td>Monarch, Captive-Reared</td>\n",
       "      <td>35.533</td>\n",
       "      <td>-97.599</td>\n",
       "      <td>8</td>\n",
       "      <td>4</td>\n",
       "    </tr>\n",
       "    <tr>\n",
       "      <th>3357</th>\n",
       "      <td>2017-04-30</td>\n",
       "      <td>Monarch, Captive-Reared</td>\n",
       "      <td>28.917</td>\n",
       "      <td>-82.612</td>\n",
       "      <td>1</td>\n",
       "      <td>4</td>\n",
       "    </tr>\n",
       "    <tr>\n",
       "      <th>3358</th>\n",
       "      <td>2017-04-30</td>\n",
       "      <td>Monarch, Captive-Reared</td>\n",
       "      <td>33.205</td>\n",
       "      <td>-94.845</td>\n",
       "      <td>1</td>\n",
       "      <td>4</td>\n",
       "    </tr>\n",
       "  </tbody>\n",
       "</table>\n",
       "</div>"
      ],
      "text/plain": [
       "     sighting_date                  species  latitude  longitude  number  \\\n",
       "3354    2017-04-29  Monarch, Captive-Reared    28.917    -82.612       2   \n",
       "3355    2017-04-29  Monarch, Captive-Reared    34.141   -118.213       1   \n",
       "3356    2017-04-29  Monarch, Captive-Reared    35.533    -97.599       8   \n",
       "3357    2017-04-30  Monarch, Captive-Reared    28.917    -82.612       1   \n",
       "3358    2017-04-30  Monarch, Captive-Reared    33.205    -94.845       1   \n",
       "\n",
       "      month  \n",
       "3354      4  \n",
       "3355      4  \n",
       "3356      4  \n",
       "3357      4  \n",
       "3358      4  "
      ]
     },
     "execution_count": 122,
     "metadata": {},
     "output_type": "execute_result"
    }
   ],
   "source": [
    "JNorth_Captive_Reared_2017_month_df =pd.DataFrame(JNorth_Captive_Reared_2017_df)\n",
    "JNorth_Captive_Reared_2017_4_df = JNorth_Captive_Reared_2017_month_df[JNorth_Captive_Reared_2017_month_df['month']==4]\n",
    "JNorth_Captive_Reared_2017_4_df.tail()"
   ]
  },
  {
   "cell_type": "code",
   "execution_count": 123,
   "id": "72615f10",
   "metadata": {},
   "outputs": [
    {
     "data": {
      "text/plain": [
       "(37, 6)"
      ]
     },
     "execution_count": 123,
     "metadata": {},
     "output_type": "execute_result"
    }
   ],
   "source": [
    "JNorth_Captive_Reared_2017_4_df.shape"
   ]
  },
  {
   "cell_type": "code",
   "execution_count": 124,
   "id": "bffd7898",
   "metadata": {},
   "outputs": [
    {
     "name": "stderr",
     "output_type": "stream",
     "text": [
      "C:\\Users\\motte\\anaconda3\\envs\\mlenv\\lib\\site-packages\\pandas\\core\\frame.py:4913: SettingWithCopyWarning: \n",
      "A value is trying to be set on a copy of a slice from a DataFrame\n",
      "\n",
      "See the caveats in the documentation: https://pandas.pydata.org/pandas-docs/stable/user_guide/indexing.html#returning-a-view-versus-a-copy\n",
      "  errors=errors,\n"
     ]
    }
   ],
   "source": [
    "JNorth_Captive_Reared_2017_4_df.drop(['month'], axis=1, inplace=True)"
   ]
  },
  {
   "cell_type": "code",
   "execution_count": 125,
   "id": "b3e14bfa",
   "metadata": {},
   "outputs": [
    {
     "name": "stderr",
     "output_type": "stream",
     "text": [
      "C:\\Users\\motte\\anaconda3\\envs\\mlenv\\lib\\site-packages\\ipykernel_launcher.py:2: SettingWithCopyWarning: \n",
      "A value is trying to be set on a copy of a slice from a DataFrame.\n",
      "Try using .loc[row_indexer,col_indexer] = value instead\n",
      "\n",
      "See the caveats in the documentation: https://pandas.pydata.org/pandas-docs/stable/user_guide/indexing.html#returning-a-view-versus-a-copy\n",
      "  \n",
      "C:\\Users\\motte\\anaconda3\\envs\\mlenv\\lib\\site-packages\\ipykernel_launcher.py:3: SettingWithCopyWarning: \n",
      "A value is trying to be set on a copy of a slice from a DataFrame.\n",
      "Try using .loc[row_indexer,col_indexer] = value instead\n",
      "\n",
      "See the caveats in the documentation: https://pandas.pydata.org/pandas-docs/stable/user_guide/indexing.html#returning-a-view-versus-a-copy\n",
      "  This is separate from the ipykernel package so we can avoid doing imports until\n"
     ]
    }
   ],
   "source": [
    "# convert lat-long to floats and change address from ALL CAPS to regular capitalization\n",
    "JNorth_Captive_Reared_2017_4_df['latitude'] = JNorth_Captive_Reared_2017_4_df['latitude'].astype(float)\n",
    "JNorth_Captive_Reared_2017_4_df['longitude'] = JNorth_Captive_Reared_2017_4_df['longitude'].astype(float)\n",
    "# JNorth_Milkweed_Site_df['street_address'] = JNorth_Milkweed_Site_df['street_address'].str.title()"
   ]
  },
  {
   "cell_type": "code",
   "execution_count": 126,
   "id": "44604289",
   "metadata": {},
   "outputs": [],
   "source": [
    "geojson = df_to_geojson(JNorth_Captive_Reared_2017_4_df, cols)"
   ]
  },
  {
   "cell_type": "code",
   "execution_count": 127,
   "id": "04f50b24",
   "metadata": {},
   "outputs": [],
   "source": [
    "file = open(\"JNorth_Captive_Reared_2017_4.geojson\", \"w\")\n",
    "json.dump(geojson, file, indent =1)\n",
    "file.close()"
   ]
  },
  {
   "cell_type": "markdown",
   "id": "c4b4fad0",
   "metadata": {},
   "source": [
    "## May"
   ]
  },
  {
   "cell_type": "code",
   "execution_count": 128,
   "id": "6febcc70",
   "metadata": {},
   "outputs": [
    {
     "data": {
      "text/html": [
       "<div>\n",
       "<style scoped>\n",
       "    .dataframe tbody tr th:only-of-type {\n",
       "        vertical-align: middle;\n",
       "    }\n",
       "\n",
       "    .dataframe tbody tr th {\n",
       "        vertical-align: top;\n",
       "    }\n",
       "\n",
       "    .dataframe thead th {\n",
       "        text-align: right;\n",
       "    }\n",
       "</style>\n",
       "<table border=\"1\" class=\"dataframe\">\n",
       "  <thead>\n",
       "    <tr style=\"text-align: right;\">\n",
       "      <th></th>\n",
       "      <th>sighting_date</th>\n",
       "      <th>species</th>\n",
       "      <th>latitude</th>\n",
       "      <th>longitude</th>\n",
       "      <th>number</th>\n",
       "      <th>month</th>\n",
       "    </tr>\n",
       "  </thead>\n",
       "  <tbody>\n",
       "    <tr>\n",
       "      <th>3529</th>\n",
       "      <td>2017-05-31</td>\n",
       "      <td>Monarch, Captive-Reared</td>\n",
       "      <td>37.392</td>\n",
       "      <td>-77.650</td>\n",
       "      <td>1</td>\n",
       "      <td>5</td>\n",
       "    </tr>\n",
       "    <tr>\n",
       "      <th>3530</th>\n",
       "      <td>2017-05-31</td>\n",
       "      <td>Monarch, Captive-Reared</td>\n",
       "      <td>37.581</td>\n",
       "      <td>-77.518</td>\n",
       "      <td>7</td>\n",
       "      <td>5</td>\n",
       "    </tr>\n",
       "    <tr>\n",
       "      <th>3531</th>\n",
       "      <td>2017-05-31</td>\n",
       "      <td>Monarch, Captive-Reared</td>\n",
       "      <td>37.880</td>\n",
       "      <td>-97.215</td>\n",
       "      <td>1</td>\n",
       "      <td>5</td>\n",
       "    </tr>\n",
       "    <tr>\n",
       "      <th>3532</th>\n",
       "      <td>2017-05-31</td>\n",
       "      <td>Monarch, Captive-Reared</td>\n",
       "      <td>39.049</td>\n",
       "      <td>-77.368</td>\n",
       "      <td>1</td>\n",
       "      <td>5</td>\n",
       "    </tr>\n",
       "    <tr>\n",
       "      <th>3533</th>\n",
       "      <td>2017-05-31</td>\n",
       "      <td>Monarch, Captive-Reared</td>\n",
       "      <td>42.402</td>\n",
       "      <td>-88.016</td>\n",
       "      <td>24</td>\n",
       "      <td>5</td>\n",
       "    </tr>\n",
       "  </tbody>\n",
       "</table>\n",
       "</div>"
      ],
      "text/plain": [
       "     sighting_date                  species  latitude  longitude  number  \\\n",
       "3529    2017-05-31  Monarch, Captive-Reared    37.392    -77.650       1   \n",
       "3530    2017-05-31  Monarch, Captive-Reared    37.581    -77.518       7   \n",
       "3531    2017-05-31  Monarch, Captive-Reared    37.880    -97.215       1   \n",
       "3532    2017-05-31  Monarch, Captive-Reared    39.049    -77.368       1   \n",
       "3533    2017-05-31  Monarch, Captive-Reared    42.402    -88.016      24   \n",
       "\n",
       "      month  \n",
       "3529      5  \n",
       "3530      5  \n",
       "3531      5  \n",
       "3532      5  \n",
       "3533      5  "
      ]
     },
     "execution_count": 128,
     "metadata": {},
     "output_type": "execute_result"
    }
   ],
   "source": [
    "JNorth_Captive_Reared_2017_month_df =pd.DataFrame(JNorth_Captive_Reared_2017_df)\n",
    "JNorth_Captive_Reared_2017_5_df = JNorth_Captive_Reared_2017_month_df[JNorth_Captive_Reared_2017_month_df['month']==5]\n",
    "JNorth_Captive_Reared_2017_5_df.tail()"
   ]
  },
  {
   "cell_type": "code",
   "execution_count": 129,
   "id": "bc950b62",
   "metadata": {},
   "outputs": [
    {
     "data": {
      "text/plain": [
       "(175, 6)"
      ]
     },
     "execution_count": 129,
     "metadata": {},
     "output_type": "execute_result"
    }
   ],
   "source": [
    "JNorth_Captive_Reared_2017_5_df.shape"
   ]
  },
  {
   "cell_type": "code",
   "execution_count": 130,
   "id": "a37e0b0f",
   "metadata": {},
   "outputs": [
    {
     "name": "stderr",
     "output_type": "stream",
     "text": [
      "C:\\Users\\motte\\anaconda3\\envs\\mlenv\\lib\\site-packages\\pandas\\core\\frame.py:4913: SettingWithCopyWarning: \n",
      "A value is trying to be set on a copy of a slice from a DataFrame\n",
      "\n",
      "See the caveats in the documentation: https://pandas.pydata.org/pandas-docs/stable/user_guide/indexing.html#returning-a-view-versus-a-copy\n",
      "  errors=errors,\n"
     ]
    }
   ],
   "source": [
    "JNorth_Captive_Reared_2017_5_df.drop(['month'], axis=1, inplace=True)"
   ]
  },
  {
   "cell_type": "code",
   "execution_count": 131,
   "id": "8b0047b5",
   "metadata": {},
   "outputs": [
    {
     "name": "stderr",
     "output_type": "stream",
     "text": [
      "C:\\Users\\motte\\anaconda3\\envs\\mlenv\\lib\\site-packages\\ipykernel_launcher.py:2: SettingWithCopyWarning: \n",
      "A value is trying to be set on a copy of a slice from a DataFrame.\n",
      "Try using .loc[row_indexer,col_indexer] = value instead\n",
      "\n",
      "See the caveats in the documentation: https://pandas.pydata.org/pandas-docs/stable/user_guide/indexing.html#returning-a-view-versus-a-copy\n",
      "  \n",
      "C:\\Users\\motte\\anaconda3\\envs\\mlenv\\lib\\site-packages\\ipykernel_launcher.py:3: SettingWithCopyWarning: \n",
      "A value is trying to be set on a copy of a slice from a DataFrame.\n",
      "Try using .loc[row_indexer,col_indexer] = value instead\n",
      "\n",
      "See the caveats in the documentation: https://pandas.pydata.org/pandas-docs/stable/user_guide/indexing.html#returning-a-view-versus-a-copy\n",
      "  This is separate from the ipykernel package so we can avoid doing imports until\n"
     ]
    }
   ],
   "source": [
    "# convert lat-long to floats and change address from ALL CAPS to regular capitalization\n",
    "JNorth_Captive_Reared_2017_5_df['latitude'] = JNorth_Captive_Reared_2017_5_df['latitude'].astype(float)\n",
    "JNorth_Captive_Reared_2017_5_df['longitude'] = JNorth_Captive_Reared_2017_5_df['longitude'].astype(float)\n",
    "# JNorth_Milkweed_Site_df['street_address'] = JNorth_Milkweed_Site_df['street_address'].str.title()"
   ]
  },
  {
   "cell_type": "code",
   "execution_count": 132,
   "id": "b3c214f4",
   "metadata": {},
   "outputs": [],
   "source": [
    "geojson = df_to_geojson(JNorth_Captive_Reared_2017_5_df, cols)"
   ]
  },
  {
   "cell_type": "code",
   "execution_count": 133,
   "id": "d95a7a19",
   "metadata": {},
   "outputs": [],
   "source": [
    "file = open(\"JNorth_Captive_Reared_2017_5.geojson\", \"w\")\n",
    "json.dump(geojson, file, indent =1)\n",
    "file.close()"
   ]
  },
  {
   "cell_type": "markdown",
   "id": "531966d4",
   "metadata": {},
   "source": [
    "## June"
   ]
  },
  {
   "cell_type": "code",
   "execution_count": 134,
   "id": "2305e35e",
   "metadata": {},
   "outputs": [
    {
     "data": {
      "text/html": [
       "<div>\n",
       "<style scoped>\n",
       "    .dataframe tbody tr th:only-of-type {\n",
       "        vertical-align: middle;\n",
       "    }\n",
       "\n",
       "    .dataframe tbody tr th {\n",
       "        vertical-align: top;\n",
       "    }\n",
       "\n",
       "    .dataframe thead th {\n",
       "        text-align: right;\n",
       "    }\n",
       "</style>\n",
       "<table border=\"1\" class=\"dataframe\">\n",
       "  <thead>\n",
       "    <tr style=\"text-align: right;\">\n",
       "      <th></th>\n",
       "      <th>sighting_date</th>\n",
       "      <th>species</th>\n",
       "      <th>latitude</th>\n",
       "      <th>longitude</th>\n",
       "      <th>number</th>\n",
       "      <th>month</th>\n",
       "    </tr>\n",
       "  </thead>\n",
       "  <tbody>\n",
       "    <tr>\n",
       "      <th>3706</th>\n",
       "      <td>2017-06-30</td>\n",
       "      <td>Monarch, Captive-Reared</td>\n",
       "      <td>44.915</td>\n",
       "      <td>-93.276</td>\n",
       "      <td>2</td>\n",
       "      <td>6</td>\n",
       "    </tr>\n",
       "    <tr>\n",
       "      <th>3707</th>\n",
       "      <td>2017-06-30</td>\n",
       "      <td>Monarch, Captive-Reared</td>\n",
       "      <td>44.950</td>\n",
       "      <td>-93.231</td>\n",
       "      <td>1</td>\n",
       "      <td>6</td>\n",
       "    </tr>\n",
       "    <tr>\n",
       "      <th>3708</th>\n",
       "      <td>2017-06-30</td>\n",
       "      <td>Monarch, Captive-Reared</td>\n",
       "      <td>45.039</td>\n",
       "      <td>-93.185</td>\n",
       "      <td>5</td>\n",
       "      <td>6</td>\n",
       "    </tr>\n",
       "    <tr>\n",
       "      <th>3709</th>\n",
       "      <td>2017-06-30</td>\n",
       "      <td>Monarch, Captive-Reared</td>\n",
       "      <td>45.049</td>\n",
       "      <td>-93.222</td>\n",
       "      <td>4</td>\n",
       "      <td>6</td>\n",
       "    </tr>\n",
       "    <tr>\n",
       "      <th>3710</th>\n",
       "      <td>2017-06-30</td>\n",
       "      <td>Monarch, Captive-Reared</td>\n",
       "      <td>45.092</td>\n",
       "      <td>-87.165</td>\n",
       "      <td>1</td>\n",
       "      <td>6</td>\n",
       "    </tr>\n",
       "  </tbody>\n",
       "</table>\n",
       "</div>"
      ],
      "text/plain": [
       "     sighting_date                  species  latitude  longitude  number  \\\n",
       "3706    2017-06-30  Monarch, Captive-Reared    44.915    -93.276       2   \n",
       "3707    2017-06-30  Monarch, Captive-Reared    44.950    -93.231       1   \n",
       "3708    2017-06-30  Monarch, Captive-Reared    45.039    -93.185       5   \n",
       "3709    2017-06-30  Monarch, Captive-Reared    45.049    -93.222       4   \n",
       "3710    2017-06-30  Monarch, Captive-Reared    45.092    -87.165       1   \n",
       "\n",
       "      month  \n",
       "3706      6  \n",
       "3707      6  \n",
       "3708      6  \n",
       "3709      6  \n",
       "3710      6  "
      ]
     },
     "execution_count": 134,
     "metadata": {},
     "output_type": "execute_result"
    }
   ],
   "source": [
    "JNorth_Captive_Reared_2017_month_df =pd.DataFrame(JNorth_Captive_Reared_2017_df)\n",
    "JNorth_Captive_Reared_2017_6_df = JNorth_Captive_Reared_2017_month_df[JNorth_Captive_Reared_2017_month_df['month']==6]\n",
    "JNorth_Captive_Reared_2017_6_df.tail()"
   ]
  },
  {
   "cell_type": "code",
   "execution_count": 135,
   "id": "bdf45121",
   "metadata": {},
   "outputs": [
    {
     "data": {
      "text/plain": [
       "(177, 6)"
      ]
     },
     "execution_count": 135,
     "metadata": {},
     "output_type": "execute_result"
    }
   ],
   "source": [
    "JNorth_Captive_Reared_2017_6_df.shape"
   ]
  },
  {
   "cell_type": "code",
   "execution_count": 136,
   "id": "7ced5440",
   "metadata": {},
   "outputs": [
    {
     "name": "stderr",
     "output_type": "stream",
     "text": [
      "C:\\Users\\motte\\anaconda3\\envs\\mlenv\\lib\\site-packages\\pandas\\core\\frame.py:4913: SettingWithCopyWarning: \n",
      "A value is trying to be set on a copy of a slice from a DataFrame\n",
      "\n",
      "See the caveats in the documentation: https://pandas.pydata.org/pandas-docs/stable/user_guide/indexing.html#returning-a-view-versus-a-copy\n",
      "  errors=errors,\n"
     ]
    }
   ],
   "source": [
    "JNorth_Captive_Reared_2017_6_df.drop(['month'], axis=1, inplace=True)"
   ]
  },
  {
   "cell_type": "code",
   "execution_count": 137,
   "id": "2d41d70d",
   "metadata": {},
   "outputs": [
    {
     "name": "stderr",
     "output_type": "stream",
     "text": [
      "C:\\Users\\motte\\anaconda3\\envs\\mlenv\\lib\\site-packages\\ipykernel_launcher.py:2: SettingWithCopyWarning: \n",
      "A value is trying to be set on a copy of a slice from a DataFrame.\n",
      "Try using .loc[row_indexer,col_indexer] = value instead\n",
      "\n",
      "See the caveats in the documentation: https://pandas.pydata.org/pandas-docs/stable/user_guide/indexing.html#returning-a-view-versus-a-copy\n",
      "  \n",
      "C:\\Users\\motte\\anaconda3\\envs\\mlenv\\lib\\site-packages\\ipykernel_launcher.py:3: SettingWithCopyWarning: \n",
      "A value is trying to be set on a copy of a slice from a DataFrame.\n",
      "Try using .loc[row_indexer,col_indexer] = value instead\n",
      "\n",
      "See the caveats in the documentation: https://pandas.pydata.org/pandas-docs/stable/user_guide/indexing.html#returning-a-view-versus-a-copy\n",
      "  This is separate from the ipykernel package so we can avoid doing imports until\n"
     ]
    }
   ],
   "source": [
    "# convert lat-long to floats and change address from ALL CAPS to regular capitalization\n",
    "JNorth_Captive_Reared_2017_6_df['latitude'] = JNorth_Captive_Reared_2017_6_df['latitude'].astype(float)\n",
    "JNorth_Captive_Reared_2017_6_df['longitude'] = JNorth_Captive_Reared_2017_6_df['longitude'].astype(float)\n",
    "# JNorth_Milkweed_Site_df['street_address'] = JNorth_Milkweed_Site_df['street_address'].str.title()"
   ]
  },
  {
   "cell_type": "code",
   "execution_count": 138,
   "id": "a8475bb2",
   "metadata": {},
   "outputs": [],
   "source": [
    "geojson = df_to_geojson(JNorth_Captive_Reared_2017_6_df, cols)"
   ]
  },
  {
   "cell_type": "code",
   "execution_count": 139,
   "id": "53caaeb5",
   "metadata": {},
   "outputs": [],
   "source": [
    "file = open(\"JNorth_Captive_Reared_2017_6.geojson\", \"w\")\n",
    "json.dump(geojson, file, indent =1)\n",
    "file.close()"
   ]
  },
  {
   "cell_type": "markdown",
   "id": "73f9ebaa",
   "metadata": {},
   "source": [
    "## July"
   ]
  },
  {
   "cell_type": "code",
   "execution_count": 140,
   "id": "e7b8b673",
   "metadata": {},
   "outputs": [
    {
     "data": {
      "text/html": [
       "<div>\n",
       "<style scoped>\n",
       "    .dataframe tbody tr th:only-of-type {\n",
       "        vertical-align: middle;\n",
       "    }\n",
       "\n",
       "    .dataframe tbody tr th {\n",
       "        vertical-align: top;\n",
       "    }\n",
       "\n",
       "    .dataframe thead th {\n",
       "        text-align: right;\n",
       "    }\n",
       "</style>\n",
       "<table border=\"1\" class=\"dataframe\">\n",
       "  <thead>\n",
       "    <tr style=\"text-align: right;\">\n",
       "      <th></th>\n",
       "      <th>sighting_date</th>\n",
       "      <th>species</th>\n",
       "      <th>latitude</th>\n",
       "      <th>longitude</th>\n",
       "      <th>number</th>\n",
       "      <th>month</th>\n",
       "    </tr>\n",
       "  </thead>\n",
       "  <tbody>\n",
       "    <tr>\n",
       "      <th>3986</th>\n",
       "      <td>2017-07-31</td>\n",
       "      <td>Monarch, Captive-Reared</td>\n",
       "      <td>43.782</td>\n",
       "      <td>-74.265</td>\n",
       "      <td>1</td>\n",
       "      <td>7</td>\n",
       "    </tr>\n",
       "    <tr>\n",
       "      <th>3987</th>\n",
       "      <td>2017-07-31</td>\n",
       "      <td>Monarch, Captive-Reared</td>\n",
       "      <td>44.059</td>\n",
       "      <td>-79.461</td>\n",
       "      <td>12</td>\n",
       "      <td>7</td>\n",
       "    </tr>\n",
       "    <tr>\n",
       "      <th>3988</th>\n",
       "      <td>2017-07-31</td>\n",
       "      <td>Monarch, Captive-Reared</td>\n",
       "      <td>45.049</td>\n",
       "      <td>-93.222</td>\n",
       "      <td>85</td>\n",
       "      <td>7</td>\n",
       "    </tr>\n",
       "    <tr>\n",
       "      <th>3989</th>\n",
       "      <td>2017-07-31</td>\n",
       "      <td>Monarch, Captive-Reared</td>\n",
       "      <td>45.092</td>\n",
       "      <td>-87.165</td>\n",
       "      <td>1</td>\n",
       "      <td>7</td>\n",
       "    </tr>\n",
       "    <tr>\n",
       "      <th>3990</th>\n",
       "      <td>2017-07-31</td>\n",
       "      <td>Monarch, Captive-Reared</td>\n",
       "      <td>46.207</td>\n",
       "      <td>-119.769</td>\n",
       "      <td>1</td>\n",
       "      <td>7</td>\n",
       "    </tr>\n",
       "  </tbody>\n",
       "</table>\n",
       "</div>"
      ],
      "text/plain": [
       "     sighting_date                  species  latitude  longitude  number  \\\n",
       "3986    2017-07-31  Monarch, Captive-Reared    43.782    -74.265       1   \n",
       "3987    2017-07-31  Monarch, Captive-Reared    44.059    -79.461      12   \n",
       "3988    2017-07-31  Monarch, Captive-Reared    45.049    -93.222      85   \n",
       "3989    2017-07-31  Monarch, Captive-Reared    45.092    -87.165       1   \n",
       "3990    2017-07-31  Monarch, Captive-Reared    46.207   -119.769       1   \n",
       "\n",
       "      month  \n",
       "3986      7  \n",
       "3987      7  \n",
       "3988      7  \n",
       "3989      7  \n",
       "3990      7  "
      ]
     },
     "execution_count": 140,
     "metadata": {},
     "output_type": "execute_result"
    }
   ],
   "source": [
    "JNorth_Captive_Reared_2017_month_df =pd.DataFrame(JNorth_Captive_Reared_2017_df)\n",
    "JNorth_Captive_Reared_2017_7_df = JNorth_Captive_Reared_2017_month_df[JNorth_Captive_Reared_2017_month_df['month']==7]\n",
    "JNorth_Captive_Reared_2017_7_df.tail()"
   ]
  },
  {
   "cell_type": "code",
   "execution_count": 141,
   "id": "ee190c48",
   "metadata": {},
   "outputs": [
    {
     "data": {
      "text/plain": [
       "(280, 6)"
      ]
     },
     "execution_count": 141,
     "metadata": {},
     "output_type": "execute_result"
    }
   ],
   "source": [
    "JNorth_Captive_Reared_2017_7_df.shape"
   ]
  },
  {
   "cell_type": "code",
   "execution_count": 142,
   "id": "adeaa0bf",
   "metadata": {},
   "outputs": [
    {
     "name": "stderr",
     "output_type": "stream",
     "text": [
      "C:\\Users\\motte\\anaconda3\\envs\\mlenv\\lib\\site-packages\\pandas\\core\\frame.py:4913: SettingWithCopyWarning: \n",
      "A value is trying to be set on a copy of a slice from a DataFrame\n",
      "\n",
      "See the caveats in the documentation: https://pandas.pydata.org/pandas-docs/stable/user_guide/indexing.html#returning-a-view-versus-a-copy\n",
      "  errors=errors,\n"
     ]
    }
   ],
   "source": [
    "JNorth_Captive_Reared_2017_7_df.drop(['month'], axis=1, inplace=True)"
   ]
  },
  {
   "cell_type": "code",
   "execution_count": 143,
   "id": "f8d2ae21",
   "metadata": {},
   "outputs": [
    {
     "name": "stderr",
     "output_type": "stream",
     "text": [
      "C:\\Users\\motte\\anaconda3\\envs\\mlenv\\lib\\site-packages\\ipykernel_launcher.py:2: SettingWithCopyWarning: \n",
      "A value is trying to be set on a copy of a slice from a DataFrame.\n",
      "Try using .loc[row_indexer,col_indexer] = value instead\n",
      "\n",
      "See the caveats in the documentation: https://pandas.pydata.org/pandas-docs/stable/user_guide/indexing.html#returning-a-view-versus-a-copy\n",
      "  \n",
      "C:\\Users\\motte\\anaconda3\\envs\\mlenv\\lib\\site-packages\\ipykernel_launcher.py:3: SettingWithCopyWarning: \n",
      "A value is trying to be set on a copy of a slice from a DataFrame.\n",
      "Try using .loc[row_indexer,col_indexer] = value instead\n",
      "\n",
      "See the caveats in the documentation: https://pandas.pydata.org/pandas-docs/stable/user_guide/indexing.html#returning-a-view-versus-a-copy\n",
      "  This is separate from the ipykernel package so we can avoid doing imports until\n"
     ]
    }
   ],
   "source": [
    "# convert lat-long to floats and change address from ALL CAPS to regular capitalization\n",
    "JNorth_Captive_Reared_2017_7_df['latitude'] = JNorth_Captive_Reared_2017_7_df['latitude'].astype(float)\n",
    "JNorth_Captive_Reared_2017_7_df['longitude'] = JNorth_Captive_Reared_2017_7_df['longitude'].astype(float)\n",
    "# JNorth_Milkweed_Site_df['street_address'] = JNorth_Milkweed_Site_df['street_address'].str.title()"
   ]
  },
  {
   "cell_type": "code",
   "execution_count": 144,
   "id": "bfd792b4",
   "metadata": {},
   "outputs": [],
   "source": [
    "geojson = df_to_geojson(JNorth_Captive_Reared_2017_7_df, cols)"
   ]
  },
  {
   "cell_type": "code",
   "execution_count": 145,
   "id": "a0490618",
   "metadata": {},
   "outputs": [],
   "source": [
    "file = open(\"JNorth_Captive_Reared_2017_7.geojson\", \"w\")\n",
    "json.dump(geojson, file, indent =1)\n",
    "file.close()"
   ]
  },
  {
   "cell_type": "markdown",
   "id": "3590d5cf",
   "metadata": {},
   "source": [
    "## August"
   ]
  },
  {
   "cell_type": "code",
   "execution_count": 146,
   "id": "e98788a8",
   "metadata": {},
   "outputs": [
    {
     "data": {
      "text/html": [
       "<div>\n",
       "<style scoped>\n",
       "    .dataframe tbody tr th:only-of-type {\n",
       "        vertical-align: middle;\n",
       "    }\n",
       "\n",
       "    .dataframe tbody tr th {\n",
       "        vertical-align: top;\n",
       "    }\n",
       "\n",
       "    .dataframe thead th {\n",
       "        text-align: right;\n",
       "    }\n",
       "</style>\n",
       "<table border=\"1\" class=\"dataframe\">\n",
       "  <thead>\n",
       "    <tr style=\"text-align: right;\">\n",
       "      <th></th>\n",
       "      <th>sighting_date</th>\n",
       "      <th>species</th>\n",
       "      <th>latitude</th>\n",
       "      <th>longitude</th>\n",
       "      <th>number</th>\n",
       "      <th>month</th>\n",
       "    </tr>\n",
       "  </thead>\n",
       "  <tbody>\n",
       "    <tr>\n",
       "      <th>4566</th>\n",
       "      <td>2017-08-31</td>\n",
       "      <td>Monarch, Captive-Reared</td>\n",
       "      <td>44.916</td>\n",
       "      <td>-93.315</td>\n",
       "      <td>4</td>\n",
       "      <td>8</td>\n",
       "    </tr>\n",
       "    <tr>\n",
       "      <th>4567</th>\n",
       "      <td>2017-08-31</td>\n",
       "      <td>Monarch, Captive-Reared</td>\n",
       "      <td>44.944</td>\n",
       "      <td>-93.160</td>\n",
       "      <td>1</td>\n",
       "      <td>8</td>\n",
       "    </tr>\n",
       "    <tr>\n",
       "      <th>4568</th>\n",
       "      <td>2017-08-31</td>\n",
       "      <td>Monarch, Captive-Reared</td>\n",
       "      <td>45.049</td>\n",
       "      <td>-93.223</td>\n",
       "      <td>2</td>\n",
       "      <td>8</td>\n",
       "    </tr>\n",
       "    <tr>\n",
       "      <th>4569</th>\n",
       "      <td>2017-08-31</td>\n",
       "      <td>Monarch, Captive-Reared</td>\n",
       "      <td>45.729</td>\n",
       "      <td>-92.269</td>\n",
       "      <td>1</td>\n",
       "      <td>8</td>\n",
       "    </tr>\n",
       "    <tr>\n",
       "      <th>4570</th>\n",
       "      <td>2017-08-31</td>\n",
       "      <td>Monarch, Captive-Reared</td>\n",
       "      <td>46.344</td>\n",
       "      <td>-83.922</td>\n",
       "      <td>1</td>\n",
       "      <td>8</td>\n",
       "    </tr>\n",
       "  </tbody>\n",
       "</table>\n",
       "</div>"
      ],
      "text/plain": [
       "     sighting_date                  species  latitude  longitude  number  \\\n",
       "4566    2017-08-31  Monarch, Captive-Reared    44.916    -93.315       4   \n",
       "4567    2017-08-31  Monarch, Captive-Reared    44.944    -93.160       1   \n",
       "4568    2017-08-31  Monarch, Captive-Reared    45.049    -93.223       2   \n",
       "4569    2017-08-31  Monarch, Captive-Reared    45.729    -92.269       1   \n",
       "4570    2017-08-31  Monarch, Captive-Reared    46.344    -83.922       1   \n",
       "\n",
       "      month  \n",
       "4566      8  \n",
       "4567      8  \n",
       "4568      8  \n",
       "4569      8  \n",
       "4570      8  "
      ]
     },
     "execution_count": 146,
     "metadata": {},
     "output_type": "execute_result"
    }
   ],
   "source": [
    "JNorth_Captive_Reared_2017_month_df =pd.DataFrame(JNorth_Captive_Reared_2017_df)\n",
    "JNorth_Captive_Reared_2017_8_df = JNorth_Captive_Reared_2017_month_df[JNorth_Captive_Reared_2017_month_df['month']==8]\n",
    "JNorth_Captive_Reared_2017_8_df.tail()"
   ]
  },
  {
   "cell_type": "code",
   "execution_count": 147,
   "id": "4dbf852f",
   "metadata": {},
   "outputs": [
    {
     "data": {
      "text/plain": [
       "(580, 6)"
      ]
     },
     "execution_count": 147,
     "metadata": {},
     "output_type": "execute_result"
    }
   ],
   "source": [
    "JNorth_Captive_Reared_2017_8_df.shape"
   ]
  },
  {
   "cell_type": "code",
   "execution_count": 148,
   "id": "db805f73",
   "metadata": {},
   "outputs": [
    {
     "name": "stderr",
     "output_type": "stream",
     "text": [
      "C:\\Users\\motte\\anaconda3\\envs\\mlenv\\lib\\site-packages\\pandas\\core\\frame.py:4913: SettingWithCopyWarning: \n",
      "A value is trying to be set on a copy of a slice from a DataFrame\n",
      "\n",
      "See the caveats in the documentation: https://pandas.pydata.org/pandas-docs/stable/user_guide/indexing.html#returning-a-view-versus-a-copy\n",
      "  errors=errors,\n"
     ]
    }
   ],
   "source": [
    "JNorth_Captive_Reared_2017_8_df.drop(['month'], axis=1, inplace=True)"
   ]
  },
  {
   "cell_type": "code",
   "execution_count": 149,
   "id": "65824356",
   "metadata": {},
   "outputs": [
    {
     "name": "stderr",
     "output_type": "stream",
     "text": [
      "C:\\Users\\motte\\anaconda3\\envs\\mlenv\\lib\\site-packages\\ipykernel_launcher.py:2: SettingWithCopyWarning: \n",
      "A value is trying to be set on a copy of a slice from a DataFrame.\n",
      "Try using .loc[row_indexer,col_indexer] = value instead\n",
      "\n",
      "See the caveats in the documentation: https://pandas.pydata.org/pandas-docs/stable/user_guide/indexing.html#returning-a-view-versus-a-copy\n",
      "  \n",
      "C:\\Users\\motte\\anaconda3\\envs\\mlenv\\lib\\site-packages\\ipykernel_launcher.py:3: SettingWithCopyWarning: \n",
      "A value is trying to be set on a copy of a slice from a DataFrame.\n",
      "Try using .loc[row_indexer,col_indexer] = value instead\n",
      "\n",
      "See the caveats in the documentation: https://pandas.pydata.org/pandas-docs/stable/user_guide/indexing.html#returning-a-view-versus-a-copy\n",
      "  This is separate from the ipykernel package so we can avoid doing imports until\n"
     ]
    }
   ],
   "source": [
    "# convert lat-long to floats and change address from ALL CAPS to regular capitalization\n",
    "JNorth_Captive_Reared_2017_8_df['latitude'] = JNorth_Captive_Reared_2017_8_df['latitude'].astype(float)\n",
    "JNorth_Captive_Reared_2017_8_df['longitude'] = JNorth_Captive_Reared_2017_8_df['longitude'].astype(float)\n",
    "# JNorth_Milkweed_Site_df['street_address'] = JNorth_Milkweed_Site_df['street_address'].str.title()"
   ]
  },
  {
   "cell_type": "code",
   "execution_count": 150,
   "id": "ddc40b63",
   "metadata": {},
   "outputs": [],
   "source": [
    "geojson = df_to_geojson(JNorth_Captive_Reared_2017_8_df, cols)"
   ]
  },
  {
   "cell_type": "code",
   "execution_count": 151,
   "id": "edee7b1c",
   "metadata": {},
   "outputs": [],
   "source": [
    "file = open(\"JNorth_Captive_Reared_2017_8.geojson\", \"w\")\n",
    "json.dump(geojson, file, indent =1)\n",
    "file.close()"
   ]
  },
  {
   "cell_type": "markdown",
   "id": "726dda22",
   "metadata": {},
   "source": [
    "## September"
   ]
  },
  {
   "cell_type": "code",
   "execution_count": 152,
   "id": "b54dd953",
   "metadata": {},
   "outputs": [
    {
     "data": {
      "text/html": [
       "<div>\n",
       "<style scoped>\n",
       "    .dataframe tbody tr th:only-of-type {\n",
       "        vertical-align: middle;\n",
       "    }\n",
       "\n",
       "    .dataframe tbody tr th {\n",
       "        vertical-align: top;\n",
       "    }\n",
       "\n",
       "    .dataframe thead th {\n",
       "        text-align: right;\n",
       "    }\n",
       "</style>\n",
       "<table border=\"1\" class=\"dataframe\">\n",
       "  <thead>\n",
       "    <tr style=\"text-align: right;\">\n",
       "      <th></th>\n",
       "      <th>sighting_date</th>\n",
       "      <th>species</th>\n",
       "      <th>latitude</th>\n",
       "      <th>longitude</th>\n",
       "      <th>number</th>\n",
       "      <th>month</th>\n",
       "    </tr>\n",
       "  </thead>\n",
       "  <tbody>\n",
       "    <tr>\n",
       "      <th>5376</th>\n",
       "      <td>2017-09-30</td>\n",
       "      <td>Monarch, Captive-Reared</td>\n",
       "      <td>42.031</td>\n",
       "      <td>-93.632</td>\n",
       "      <td>1</td>\n",
       "      <td>9</td>\n",
       "    </tr>\n",
       "    <tr>\n",
       "      <th>5377</th>\n",
       "      <td>2017-09-30</td>\n",
       "      <td>Monarch, Captive-Reared</td>\n",
       "      <td>42.220</td>\n",
       "      <td>-82.874</td>\n",
       "      <td>2</td>\n",
       "      <td>9</td>\n",
       "    </tr>\n",
       "    <tr>\n",
       "      <th>5378</th>\n",
       "      <td>2017-09-30</td>\n",
       "      <td>Monarch, Captive-Reared</td>\n",
       "      <td>42.972</td>\n",
       "      <td>-81.285</td>\n",
       "      <td>7</td>\n",
       "      <td>9</td>\n",
       "    </tr>\n",
       "    <tr>\n",
       "      <th>5379</th>\n",
       "      <td>2017-09-30</td>\n",
       "      <td>Monarch, Captive-Reared</td>\n",
       "      <td>43.384</td>\n",
       "      <td>-70.544</td>\n",
       "      <td>1</td>\n",
       "      <td>9</td>\n",
       "    </tr>\n",
       "    <tr>\n",
       "      <th>5380</th>\n",
       "      <td>2017-09-30</td>\n",
       "      <td>Monarch, Captive-Reared</td>\n",
       "      <td>45.120</td>\n",
       "      <td>-79.707</td>\n",
       "      <td>3</td>\n",
       "      <td>9</td>\n",
       "    </tr>\n",
       "  </tbody>\n",
       "</table>\n",
       "</div>"
      ],
      "text/plain": [
       "     sighting_date                  species  latitude  longitude  number  \\\n",
       "5376    2017-09-30  Monarch, Captive-Reared    42.031    -93.632       1   \n",
       "5377    2017-09-30  Monarch, Captive-Reared    42.220    -82.874       2   \n",
       "5378    2017-09-30  Monarch, Captive-Reared    42.972    -81.285       7   \n",
       "5379    2017-09-30  Monarch, Captive-Reared    43.384    -70.544       1   \n",
       "5380    2017-09-30  Monarch, Captive-Reared    45.120    -79.707       3   \n",
       "\n",
       "      month  \n",
       "5376      9  \n",
       "5377      9  \n",
       "5378      9  \n",
       "5379      9  \n",
       "5380      9  "
      ]
     },
     "execution_count": 152,
     "metadata": {},
     "output_type": "execute_result"
    }
   ],
   "source": [
    "JNorth_Captive_Reared_2017_month_df =pd.DataFrame(JNorth_Captive_Reared_2017_df)\n",
    "JNorth_Captive_Reared_2017_9_df = JNorth_Captive_Reared_2017_month_df[JNorth_Captive_Reared_2017_month_df['month']==9]\n",
    "JNorth_Captive_Reared_2017_9_df.tail()"
   ]
  },
  {
   "cell_type": "code",
   "execution_count": 153,
   "id": "c027d5c8",
   "metadata": {},
   "outputs": [
    {
     "data": {
      "text/plain": [
       "(810, 6)"
      ]
     },
     "execution_count": 153,
     "metadata": {},
     "output_type": "execute_result"
    }
   ],
   "source": [
    "JNorth_Captive_Reared_2017_9_df.shape"
   ]
  },
  {
   "cell_type": "code",
   "execution_count": 154,
   "id": "699bf4e7",
   "metadata": {},
   "outputs": [
    {
     "name": "stderr",
     "output_type": "stream",
     "text": [
      "C:\\Users\\motte\\anaconda3\\envs\\mlenv\\lib\\site-packages\\pandas\\core\\frame.py:4913: SettingWithCopyWarning: \n",
      "A value is trying to be set on a copy of a slice from a DataFrame\n",
      "\n",
      "See the caveats in the documentation: https://pandas.pydata.org/pandas-docs/stable/user_guide/indexing.html#returning-a-view-versus-a-copy\n",
      "  errors=errors,\n"
     ]
    }
   ],
   "source": [
    "JNorth_Captive_Reared_2017_9_df.drop(['month'], axis=1, inplace=True)"
   ]
  },
  {
   "cell_type": "code",
   "execution_count": 155,
   "id": "30872f1f",
   "metadata": {},
   "outputs": [
    {
     "name": "stderr",
     "output_type": "stream",
     "text": [
      "C:\\Users\\motte\\anaconda3\\envs\\mlenv\\lib\\site-packages\\ipykernel_launcher.py:2: SettingWithCopyWarning: \n",
      "A value is trying to be set on a copy of a slice from a DataFrame.\n",
      "Try using .loc[row_indexer,col_indexer] = value instead\n",
      "\n",
      "See the caveats in the documentation: https://pandas.pydata.org/pandas-docs/stable/user_guide/indexing.html#returning-a-view-versus-a-copy\n",
      "  \n",
      "C:\\Users\\motte\\anaconda3\\envs\\mlenv\\lib\\site-packages\\ipykernel_launcher.py:3: SettingWithCopyWarning: \n",
      "A value is trying to be set on a copy of a slice from a DataFrame.\n",
      "Try using .loc[row_indexer,col_indexer] = value instead\n",
      "\n",
      "See the caveats in the documentation: https://pandas.pydata.org/pandas-docs/stable/user_guide/indexing.html#returning-a-view-versus-a-copy\n",
      "  This is separate from the ipykernel package so we can avoid doing imports until\n"
     ]
    }
   ],
   "source": [
    "# convert lat-long to floats and change address from ALL CAPS to regular capitalization\n",
    "JNorth_Captive_Reared_2017_9_df['latitude'] = JNorth_Captive_Reared_2017_9_df['latitude'].astype(float)\n",
    "JNorth_Captive_Reared_2017_9_df['longitude'] = JNorth_Captive_Reared_2017_9_df['longitude'].astype(float)\n",
    "# JNorth_Milkweed_Site_df['street_address'] = JNorth_Milkweed_Site_df['street_address'].str.title()"
   ]
  },
  {
   "cell_type": "code",
   "execution_count": 156,
   "id": "eda7a817",
   "metadata": {},
   "outputs": [],
   "source": [
    "geojson = df_to_geojson(JNorth_Captive_Reared_2017_9_df, cols)"
   ]
  },
  {
   "cell_type": "code",
   "execution_count": 157,
   "id": "ad33e04b",
   "metadata": {},
   "outputs": [],
   "source": [
    "file = open(\"JNorth_Captive_Reared_2017_9.geojson\", \"w\")\n",
    "json.dump(geojson, file, indent =1)\n",
    "file.close()"
   ]
  },
  {
   "cell_type": "markdown",
   "id": "84b1fe82",
   "metadata": {},
   "source": [
    "## October"
   ]
  },
  {
   "cell_type": "code",
   "execution_count": 158,
   "id": "a9395579",
   "metadata": {},
   "outputs": [
    {
     "data": {
      "text/html": [
       "<div>\n",
       "<style scoped>\n",
       "    .dataframe tbody tr th:only-of-type {\n",
       "        vertical-align: middle;\n",
       "    }\n",
       "\n",
       "    .dataframe tbody tr th {\n",
       "        vertical-align: top;\n",
       "    }\n",
       "\n",
       "    .dataframe thead th {\n",
       "        text-align: right;\n",
       "    }\n",
       "</style>\n",
       "<table border=\"1\" class=\"dataframe\">\n",
       "  <thead>\n",
       "    <tr style=\"text-align: right;\">\n",
       "      <th></th>\n",
       "      <th>sighting_date</th>\n",
       "      <th>species</th>\n",
       "      <th>latitude</th>\n",
       "      <th>longitude</th>\n",
       "      <th>number</th>\n",
       "      <th>month</th>\n",
       "    </tr>\n",
       "  </thead>\n",
       "  <tbody>\n",
       "    <tr>\n",
       "      <th>5654</th>\n",
       "      <td>2017-10-31</td>\n",
       "      <td>Monarch, Captive-Reared</td>\n",
       "      <td>31.214</td>\n",
       "      <td>-82.354</td>\n",
       "      <td>5</td>\n",
       "      <td>10</td>\n",
       "    </tr>\n",
       "    <tr>\n",
       "      <th>5655</th>\n",
       "      <td>2017-10-31</td>\n",
       "      <td>Monarch, Captive-Reared</td>\n",
       "      <td>33.214</td>\n",
       "      <td>-96.937</td>\n",
       "      <td>1</td>\n",
       "      <td>10</td>\n",
       "    </tr>\n",
       "    <tr>\n",
       "      <th>5656</th>\n",
       "      <td>2017-10-31</td>\n",
       "      <td>Monarch, Captive-Reared</td>\n",
       "      <td>33.528</td>\n",
       "      <td>-85.961</td>\n",
       "      <td>4</td>\n",
       "      <td>10</td>\n",
       "    </tr>\n",
       "    <tr>\n",
       "      <th>5657</th>\n",
       "      <td>2017-10-31</td>\n",
       "      <td>Monarch, Captive-Reared</td>\n",
       "      <td>34.548</td>\n",
       "      <td>-92.232</td>\n",
       "      <td>30</td>\n",
       "      <td>10</td>\n",
       "    </tr>\n",
       "    <tr>\n",
       "      <th>5658</th>\n",
       "      <td>2017-10-31</td>\n",
       "      <td>Monarch, Captive-Reared</td>\n",
       "      <td>38.676</td>\n",
       "      <td>-121.873</td>\n",
       "      <td>3</td>\n",
       "      <td>10</td>\n",
       "    </tr>\n",
       "  </tbody>\n",
       "</table>\n",
       "</div>"
      ],
      "text/plain": [
       "     sighting_date                  species  latitude  longitude  number  \\\n",
       "5654    2017-10-31  Monarch, Captive-Reared    31.214    -82.354       5   \n",
       "5655    2017-10-31  Monarch, Captive-Reared    33.214    -96.937       1   \n",
       "5656    2017-10-31  Monarch, Captive-Reared    33.528    -85.961       4   \n",
       "5657    2017-10-31  Monarch, Captive-Reared    34.548    -92.232      30   \n",
       "5658    2017-10-31  Monarch, Captive-Reared    38.676   -121.873       3   \n",
       "\n",
       "      month  \n",
       "5654     10  \n",
       "5655     10  \n",
       "5656     10  \n",
       "5657     10  \n",
       "5658     10  "
      ]
     },
     "execution_count": 158,
     "metadata": {},
     "output_type": "execute_result"
    }
   ],
   "source": [
    "JNorth_Captive_Reared_2017_month_df =pd.DataFrame(JNorth_Captive_Reared_2017_df)\n",
    "JNorth_Captive_Reared_2017_10_df = JNorth_Captive_Reared_2017_month_df[JNorth_Captive_Reared_2017_month_df['month']==10]\n",
    "JNorth_Captive_Reared_2017_10_df.tail()"
   ]
  },
  {
   "cell_type": "code",
   "execution_count": 159,
   "id": "470beeb5",
   "metadata": {},
   "outputs": [
    {
     "data": {
      "text/plain": [
       "(278, 6)"
      ]
     },
     "execution_count": 159,
     "metadata": {},
     "output_type": "execute_result"
    }
   ],
   "source": [
    "JNorth_Captive_Reared_2017_10_df.shape"
   ]
  },
  {
   "cell_type": "code",
   "execution_count": 160,
   "id": "1e733e58",
   "metadata": {},
   "outputs": [
    {
     "name": "stderr",
     "output_type": "stream",
     "text": [
      "C:\\Users\\motte\\anaconda3\\envs\\mlenv\\lib\\site-packages\\pandas\\core\\frame.py:4913: SettingWithCopyWarning: \n",
      "A value is trying to be set on a copy of a slice from a DataFrame\n",
      "\n",
      "See the caveats in the documentation: https://pandas.pydata.org/pandas-docs/stable/user_guide/indexing.html#returning-a-view-versus-a-copy\n",
      "  errors=errors,\n"
     ]
    }
   ],
   "source": [
    "JNorth_Captive_Reared_2017_10_df.drop(['month'], axis=1, inplace=True)"
   ]
  },
  {
   "cell_type": "code",
   "execution_count": 161,
   "id": "06aff208",
   "metadata": {},
   "outputs": [
    {
     "name": "stderr",
     "output_type": "stream",
     "text": [
      "C:\\Users\\motte\\anaconda3\\envs\\mlenv\\lib\\site-packages\\ipykernel_launcher.py:2: SettingWithCopyWarning: \n",
      "A value is trying to be set on a copy of a slice from a DataFrame.\n",
      "Try using .loc[row_indexer,col_indexer] = value instead\n",
      "\n",
      "See the caveats in the documentation: https://pandas.pydata.org/pandas-docs/stable/user_guide/indexing.html#returning-a-view-versus-a-copy\n",
      "  \n",
      "C:\\Users\\motte\\anaconda3\\envs\\mlenv\\lib\\site-packages\\ipykernel_launcher.py:3: SettingWithCopyWarning: \n",
      "A value is trying to be set on a copy of a slice from a DataFrame.\n",
      "Try using .loc[row_indexer,col_indexer] = value instead\n",
      "\n",
      "See the caveats in the documentation: https://pandas.pydata.org/pandas-docs/stable/user_guide/indexing.html#returning-a-view-versus-a-copy\n",
      "  This is separate from the ipykernel package so we can avoid doing imports until\n"
     ]
    }
   ],
   "source": [
    "# convert lat-long to floats and change address from ALL CAPS to regular capitalization\n",
    "JNorth_Captive_Reared_2017_10_df['latitude'] = JNorth_Captive_Reared_2017_10_df['latitude'].astype(float)\n",
    "JNorth_Captive_Reared_2017_10_df['longitude'] = JNorth_Captive_Reared_2017_10_df['longitude'].astype(float)\n",
    "# JNorth_Milkweed_Site_df['street_address'] = JNorth_Milkweed_Site_df['street_address'].str.title()"
   ]
  },
  {
   "cell_type": "code",
   "execution_count": 162,
   "id": "421e78f4",
   "metadata": {},
   "outputs": [],
   "source": [
    "geojson = df_to_geojson(JNorth_Captive_Reared_2017_10_df, cols)"
   ]
  },
  {
   "cell_type": "code",
   "execution_count": 163,
   "id": "9017caac",
   "metadata": {},
   "outputs": [],
   "source": [
    "file = open(\"JNorth_Captive_Reared_2017_10.geojson\", \"w\")\n",
    "json.dump(geojson, file, indent =1)\n",
    "file.close()"
   ]
  },
  {
   "cell_type": "markdown",
   "id": "3be99959",
   "metadata": {},
   "source": [
    "## November"
   ]
  },
  {
   "cell_type": "code",
   "execution_count": 164,
   "id": "f012960d",
   "metadata": {},
   "outputs": [
    {
     "data": {
      "text/html": [
       "<div>\n",
       "<style scoped>\n",
       "    .dataframe tbody tr th:only-of-type {\n",
       "        vertical-align: middle;\n",
       "    }\n",
       "\n",
       "    .dataframe tbody tr th {\n",
       "        vertical-align: top;\n",
       "    }\n",
       "\n",
       "    .dataframe thead th {\n",
       "        text-align: right;\n",
       "    }\n",
       "</style>\n",
       "<table border=\"1\" class=\"dataframe\">\n",
       "  <thead>\n",
       "    <tr style=\"text-align: right;\">\n",
       "      <th></th>\n",
       "      <th>sighting_date</th>\n",
       "      <th>species</th>\n",
       "      <th>latitude</th>\n",
       "      <th>longitude</th>\n",
       "      <th>number</th>\n",
       "      <th>month</th>\n",
       "    </tr>\n",
       "  </thead>\n",
       "  <tbody>\n",
       "    <tr>\n",
       "      <th>5720</th>\n",
       "      <td>2017-11-25</td>\n",
       "      <td>Monarch, Captive-Reared</td>\n",
       "      <td>38.676</td>\n",
       "      <td>-121.873</td>\n",
       "      <td>1</td>\n",
       "      <td>11</td>\n",
       "    </tr>\n",
       "    <tr>\n",
       "      <th>5721</th>\n",
       "      <td>2017-11-26</td>\n",
       "      <td>Monarch, Captive-Reared</td>\n",
       "      <td>31.214</td>\n",
       "      <td>-82.354</td>\n",
       "      <td>1</td>\n",
       "      <td>11</td>\n",
       "    </tr>\n",
       "    <tr>\n",
       "      <th>5722</th>\n",
       "      <td>2017-11-26</td>\n",
       "      <td>Monarch, Captive-Reared</td>\n",
       "      <td>38.676</td>\n",
       "      <td>-121.873</td>\n",
       "      <td>2</td>\n",
       "      <td>11</td>\n",
       "    </tr>\n",
       "    <tr>\n",
       "      <th>5723</th>\n",
       "      <td>2017-11-28</td>\n",
       "      <td>Monarch, Captive-Reared</td>\n",
       "      <td>38.676</td>\n",
       "      <td>-121.873</td>\n",
       "      <td>1</td>\n",
       "      <td>11</td>\n",
       "    </tr>\n",
       "    <tr>\n",
       "      <th>5724</th>\n",
       "      <td>2017-11-29</td>\n",
       "      <td>Monarch, Captive-Reared</td>\n",
       "      <td>31.214</td>\n",
       "      <td>-82.354</td>\n",
       "      <td>1</td>\n",
       "      <td>11</td>\n",
       "    </tr>\n",
       "  </tbody>\n",
       "</table>\n",
       "</div>"
      ],
      "text/plain": [
       "     sighting_date                  species  latitude  longitude  number  \\\n",
       "5720    2017-11-25  Monarch, Captive-Reared    38.676   -121.873       1   \n",
       "5721    2017-11-26  Monarch, Captive-Reared    31.214    -82.354       1   \n",
       "5722    2017-11-26  Monarch, Captive-Reared    38.676   -121.873       2   \n",
       "5723    2017-11-28  Monarch, Captive-Reared    38.676   -121.873       1   \n",
       "5724    2017-11-29  Monarch, Captive-Reared    31.214    -82.354       1   \n",
       "\n",
       "      month  \n",
       "5720     11  \n",
       "5721     11  \n",
       "5722     11  \n",
       "5723     11  \n",
       "5724     11  "
      ]
     },
     "execution_count": 164,
     "metadata": {},
     "output_type": "execute_result"
    }
   ],
   "source": [
    "JNorth_Captive_Reared_2017_month_df =pd.DataFrame(JNorth_Captive_Reared_2017_df)\n",
    "JNorth_Captive_Reared_2017_11_df = JNorth_Captive_Reared_2017_month_df[JNorth_Captive_Reared_2017_month_df['month']==11]\n",
    "JNorth_Captive_Reared_2017_11_df.tail()"
   ]
  },
  {
   "cell_type": "code",
   "execution_count": 165,
   "id": "c828e53a",
   "metadata": {},
   "outputs": [
    {
     "data": {
      "text/plain": [
       "(66, 6)"
      ]
     },
     "execution_count": 165,
     "metadata": {},
     "output_type": "execute_result"
    }
   ],
   "source": [
    "JNorth_Captive_Reared_2017_11_df.shape"
   ]
  },
  {
   "cell_type": "code",
   "execution_count": 166,
   "id": "ebbf1625",
   "metadata": {},
   "outputs": [
    {
     "name": "stderr",
     "output_type": "stream",
     "text": [
      "C:\\Users\\motte\\anaconda3\\envs\\mlenv\\lib\\site-packages\\pandas\\core\\frame.py:4913: SettingWithCopyWarning: \n",
      "A value is trying to be set on a copy of a slice from a DataFrame\n",
      "\n",
      "See the caveats in the documentation: https://pandas.pydata.org/pandas-docs/stable/user_guide/indexing.html#returning-a-view-versus-a-copy\n",
      "  errors=errors,\n"
     ]
    }
   ],
   "source": [
    "JNorth_Captive_Reared_2017_11_df.drop(['month'], axis=1, inplace=True)"
   ]
  },
  {
   "cell_type": "code",
   "execution_count": 167,
   "id": "06217fbf",
   "metadata": {},
   "outputs": [
    {
     "name": "stderr",
     "output_type": "stream",
     "text": [
      "C:\\Users\\motte\\anaconda3\\envs\\mlenv\\lib\\site-packages\\ipykernel_launcher.py:2: SettingWithCopyWarning: \n",
      "A value is trying to be set on a copy of a slice from a DataFrame.\n",
      "Try using .loc[row_indexer,col_indexer] = value instead\n",
      "\n",
      "See the caveats in the documentation: https://pandas.pydata.org/pandas-docs/stable/user_guide/indexing.html#returning-a-view-versus-a-copy\n",
      "  \n",
      "C:\\Users\\motte\\anaconda3\\envs\\mlenv\\lib\\site-packages\\ipykernel_launcher.py:3: SettingWithCopyWarning: \n",
      "A value is trying to be set on a copy of a slice from a DataFrame.\n",
      "Try using .loc[row_indexer,col_indexer] = value instead\n",
      "\n",
      "See the caveats in the documentation: https://pandas.pydata.org/pandas-docs/stable/user_guide/indexing.html#returning-a-view-versus-a-copy\n",
      "  This is separate from the ipykernel package so we can avoid doing imports until\n"
     ]
    }
   ],
   "source": [
    "# convert lat-long to floats and change address from ALL CAPS to regular capitalization\n",
    "JNorth_Captive_Reared_2017_11_df['latitude'] = JNorth_Captive_Reared_2017_11_df['latitude'].astype(float)\n",
    "JNorth_Captive_Reared_2017_11_df['longitude'] = JNorth_Captive_Reared_2017_11_df['longitude'].astype(float)\n",
    "# JNorth_Milkweed_Site_df['street_address'] = JNorth_Milkweed_Site_df['street_address'].str.title()"
   ]
  },
  {
   "cell_type": "code",
   "execution_count": 168,
   "id": "ea9ffa88",
   "metadata": {},
   "outputs": [],
   "source": [
    "geojson = df_to_geojson(JNorth_Captive_Reared_2017_11_df, cols)"
   ]
  },
  {
   "cell_type": "code",
   "execution_count": 169,
   "id": "408ccc08",
   "metadata": {},
   "outputs": [],
   "source": [
    "file = open(\"JNorth_Captive_Reared_2017_11.geojson\", \"w\")\n",
    "json.dump(geojson, file, indent =1)\n",
    "file.close()"
   ]
  },
  {
   "cell_type": "markdown",
   "id": "e8664d64",
   "metadata": {},
   "source": [
    "## December"
   ]
  },
  {
   "cell_type": "code",
   "execution_count": 170,
   "id": "17680c20",
   "metadata": {},
   "outputs": [
    {
     "data": {
      "text/html": [
       "<div>\n",
       "<style scoped>\n",
       "    .dataframe tbody tr th:only-of-type {\n",
       "        vertical-align: middle;\n",
       "    }\n",
       "\n",
       "    .dataframe tbody tr th {\n",
       "        vertical-align: top;\n",
       "    }\n",
       "\n",
       "    .dataframe thead th {\n",
       "        text-align: right;\n",
       "    }\n",
       "</style>\n",
       "<table border=\"1\" class=\"dataframe\">\n",
       "  <thead>\n",
       "    <tr style=\"text-align: right;\">\n",
       "      <th></th>\n",
       "      <th>sighting_date</th>\n",
       "      <th>species</th>\n",
       "      <th>latitude</th>\n",
       "      <th>longitude</th>\n",
       "      <th>number</th>\n",
       "      <th>month</th>\n",
       "    </tr>\n",
       "  </thead>\n",
       "  <tbody>\n",
       "    <tr>\n",
       "      <th>5741</th>\n",
       "      <td>2017-12-27</td>\n",
       "      <td>Monarch, Captive-Reared</td>\n",
       "      <td>28.566</td>\n",
       "      <td>-81.132</td>\n",
       "      <td>13</td>\n",
       "      <td>12</td>\n",
       "    </tr>\n",
       "    <tr>\n",
       "      <th>5742</th>\n",
       "      <td>2017-12-28</td>\n",
       "      <td>Monarch, Captive-Reared</td>\n",
       "      <td>38.676</td>\n",
       "      <td>-121.873</td>\n",
       "      <td>1</td>\n",
       "      <td>12</td>\n",
       "    </tr>\n",
       "    <tr>\n",
       "      <th>5743</th>\n",
       "      <td>2017-12-29</td>\n",
       "      <td>Monarch, Captive-Reared</td>\n",
       "      <td>38.676</td>\n",
       "      <td>-121.872</td>\n",
       "      <td>4</td>\n",
       "      <td>12</td>\n",
       "    </tr>\n",
       "    <tr>\n",
       "      <th>5744</th>\n",
       "      <td>2017-12-30</td>\n",
       "      <td>Monarch, Captive-Reared</td>\n",
       "      <td>38.676</td>\n",
       "      <td>-121.873</td>\n",
       "      <td>3</td>\n",
       "      <td>12</td>\n",
       "    </tr>\n",
       "    <tr>\n",
       "      <th>5745</th>\n",
       "      <td>2017-12-31</td>\n",
       "      <td>Monarch, Captive-Reared</td>\n",
       "      <td>38.676</td>\n",
       "      <td>-121.873</td>\n",
       "      <td>8</td>\n",
       "      <td>12</td>\n",
       "    </tr>\n",
       "  </tbody>\n",
       "</table>\n",
       "</div>"
      ],
      "text/plain": [
       "     sighting_date                  species  latitude  longitude  number  \\\n",
       "5741    2017-12-27  Monarch, Captive-Reared    28.566    -81.132      13   \n",
       "5742    2017-12-28  Monarch, Captive-Reared    38.676   -121.873       1   \n",
       "5743    2017-12-29  Monarch, Captive-Reared    38.676   -121.872       4   \n",
       "5744    2017-12-30  Monarch, Captive-Reared    38.676   -121.873       3   \n",
       "5745    2017-12-31  Monarch, Captive-Reared    38.676   -121.873       8   \n",
       "\n",
       "      month  \n",
       "5741     12  \n",
       "5742     12  \n",
       "5743     12  \n",
       "5744     12  \n",
       "5745     12  "
      ]
     },
     "execution_count": 170,
     "metadata": {},
     "output_type": "execute_result"
    }
   ],
   "source": [
    "JNorth_Captive_Reared_2017_month_df =pd.DataFrame(JNorth_Captive_Reared_2017_df)\n",
    "JNorth_Captive_Reared_2017_12_df = JNorth_Captive_Reared_2017_month_df[JNorth_Captive_Reared_2017_month_df['month']==12]\n",
    "JNorth_Captive_Reared_2017_12_df.tail()"
   ]
  },
  {
   "cell_type": "code",
   "execution_count": 171,
   "id": "b3f57221",
   "metadata": {},
   "outputs": [
    {
     "data": {
      "text/plain": [
       "(21, 6)"
      ]
     },
     "execution_count": 171,
     "metadata": {},
     "output_type": "execute_result"
    }
   ],
   "source": [
    "JNorth_Captive_Reared_2017_12_df.shape"
   ]
  },
  {
   "cell_type": "code",
   "execution_count": 172,
   "id": "13478dd2",
   "metadata": {},
   "outputs": [
    {
     "name": "stderr",
     "output_type": "stream",
     "text": [
      "C:\\Users\\motte\\anaconda3\\envs\\mlenv\\lib\\site-packages\\pandas\\core\\frame.py:4913: SettingWithCopyWarning: \n",
      "A value is trying to be set on a copy of a slice from a DataFrame\n",
      "\n",
      "See the caveats in the documentation: https://pandas.pydata.org/pandas-docs/stable/user_guide/indexing.html#returning-a-view-versus-a-copy\n",
      "  errors=errors,\n"
     ]
    }
   ],
   "source": [
    "JNorth_Captive_Reared_2017_12_df.drop(['month'], axis=1, inplace=True)"
   ]
  },
  {
   "cell_type": "code",
   "execution_count": 173,
   "id": "53a7627c",
   "metadata": {},
   "outputs": [
    {
     "name": "stderr",
     "output_type": "stream",
     "text": [
      "C:\\Users\\motte\\anaconda3\\envs\\mlenv\\lib\\site-packages\\ipykernel_launcher.py:2: SettingWithCopyWarning: \n",
      "A value is trying to be set on a copy of a slice from a DataFrame.\n",
      "Try using .loc[row_indexer,col_indexer] = value instead\n",
      "\n",
      "See the caveats in the documentation: https://pandas.pydata.org/pandas-docs/stable/user_guide/indexing.html#returning-a-view-versus-a-copy\n",
      "  \n",
      "C:\\Users\\motte\\anaconda3\\envs\\mlenv\\lib\\site-packages\\ipykernel_launcher.py:3: SettingWithCopyWarning: \n",
      "A value is trying to be set on a copy of a slice from a DataFrame.\n",
      "Try using .loc[row_indexer,col_indexer] = value instead\n",
      "\n",
      "See the caveats in the documentation: https://pandas.pydata.org/pandas-docs/stable/user_guide/indexing.html#returning-a-view-versus-a-copy\n",
      "  This is separate from the ipykernel package so we can avoid doing imports until\n"
     ]
    }
   ],
   "source": [
    "# convert lat-long to floats and change address from ALL CAPS to regular capitalization\n",
    "JNorth_Captive_Reared_2017_12_df['latitude'] = JNorth_Captive_Reared_2017_12_df['latitude'].astype(float)\n",
    "JNorth_Captive_Reared_2017_12_df['longitude'] = JNorth_Captive_Reared_2017_12_df['longitude'].astype(float)\n",
    "# JNorth_Milkweed_Site_df['street_address'] = JNorth_Milkweed_Site_df['street_address'].str.title()"
   ]
  },
  {
   "cell_type": "code",
   "execution_count": 174,
   "id": "cc835fba",
   "metadata": {},
   "outputs": [],
   "source": [
    "geojson = df_to_geojson(JNorth_Captive_Reared_2017_12_df, cols)"
   ]
  },
  {
   "cell_type": "code",
   "execution_count": 175,
   "id": "c122edf2",
   "metadata": {},
   "outputs": [],
   "source": [
    "file = open(\"JNorth_Captive_Reared_2017_12.geojson\", \"w\")\n",
    "json.dump(geojson, file, indent =1)\n",
    "file.close()"
   ]
  },
  {
   "cell_type": "code",
   "execution_count": null,
   "id": "6401a8e6",
   "metadata": {},
   "outputs": [],
   "source": []
  },
  {
   "cell_type": "code",
   "execution_count": null,
   "id": "74b25da5",
   "metadata": {},
   "outputs": [],
   "source": []
  },
  {
   "cell_type": "markdown",
   "id": "b5c76616",
   "metadata": {},
   "source": [
    "# 2018"
   ]
  },
  {
   "cell_type": "code",
   "execution_count": 176,
   "id": "e96b6a71",
   "metadata": {},
   "outputs": [
    {
     "data": {
      "text/html": [
       "<div>\n",
       "<style scoped>\n",
       "    .dataframe tbody tr th:only-of-type {\n",
       "        vertical-align: middle;\n",
       "    }\n",
       "\n",
       "    .dataframe tbody tr th {\n",
       "        vertical-align: top;\n",
       "    }\n",
       "\n",
       "    .dataframe thead th {\n",
       "        text-align: right;\n",
       "    }\n",
       "</style>\n",
       "<table border=\"1\" class=\"dataframe\">\n",
       "  <thead>\n",
       "    <tr style=\"text-align: right;\">\n",
       "      <th></th>\n",
       "      <th>sighting_date</th>\n",
       "      <th>species</th>\n",
       "      <th>latitude</th>\n",
       "      <th>longitude</th>\n",
       "      <th>number</th>\n",
       "      <th>year</th>\n",
       "    </tr>\n",
       "  </thead>\n",
       "  <tbody>\n",
       "    <tr>\n",
       "      <th>9021</th>\n",
       "      <td>2018-11-30</td>\n",
       "      <td>Monarch, Captive-Reared</td>\n",
       "      <td>33.884</td>\n",
       "      <td>-118.307</td>\n",
       "      <td>8</td>\n",
       "      <td>2018</td>\n",
       "    </tr>\n",
       "    <tr>\n",
       "      <th>9022</th>\n",
       "      <td>2018-12-15</td>\n",
       "      <td>Monarch, Captive-Reared</td>\n",
       "      <td>33.867</td>\n",
       "      <td>-118.384</td>\n",
       "      <td>1</td>\n",
       "      <td>2018</td>\n",
       "    </tr>\n",
       "    <tr>\n",
       "      <th>9023</th>\n",
       "      <td>2018-12-23</td>\n",
       "      <td>Monarch, Captive-Reared</td>\n",
       "      <td>32.743</td>\n",
       "      <td>-117.031</td>\n",
       "      <td>2</td>\n",
       "      <td>2018</td>\n",
       "    </tr>\n",
       "    <tr>\n",
       "      <th>9024</th>\n",
       "      <td>2018-12-27</td>\n",
       "      <td>Monarch, Captive-Reared</td>\n",
       "      <td>27.651</td>\n",
       "      <td>-97.298</td>\n",
       "      <td>3</td>\n",
       "      <td>2018</td>\n",
       "    </tr>\n",
       "    <tr>\n",
       "      <th>9025</th>\n",
       "      <td>2018-12-30</td>\n",
       "      <td>Monarch, Captive-Reared</td>\n",
       "      <td>31.214</td>\n",
       "      <td>-82.354</td>\n",
       "      <td>4</td>\n",
       "      <td>2018</td>\n",
       "    </tr>\n",
       "  </tbody>\n",
       "</table>\n",
       "</div>"
      ],
      "text/plain": [
       "     sighting_date                  species  latitude  longitude  number  year\n",
       "9021    2018-11-30  Monarch, Captive-Reared    33.884   -118.307       8  2018\n",
       "9022    2018-12-15  Monarch, Captive-Reared    33.867   -118.384       1  2018\n",
       "9023    2018-12-23  Monarch, Captive-Reared    32.743   -117.031       2  2018\n",
       "9024    2018-12-27  Monarch, Captive-Reared    27.651    -97.298       3  2018\n",
       "9025    2018-12-30  Monarch, Captive-Reared    31.214    -82.354       4  2018"
      ]
     },
     "execution_count": 176,
     "metadata": {},
     "output_type": "execute_result"
    }
   ],
   "source": [
    "JNorth_Captive_Reared_2018_df = JNorth_Captive_Reared_year_df[JNorth_Captive_Reared_year_df['year']==2018]\n",
    "JNorth_Captive_Reared_2018_df.tail()"
   ]
  },
  {
   "cell_type": "code",
   "execution_count": 177,
   "id": "3f637079",
   "metadata": {},
   "outputs": [
    {
     "data": {
      "text/plain": [
       "(3280, 6)"
      ]
     },
     "execution_count": 177,
     "metadata": {},
     "output_type": "execute_result"
    }
   ],
   "source": [
    "JNorth_Captive_Reared_2018_df.shape"
   ]
  },
  {
   "cell_type": "code",
   "execution_count": 178,
   "id": "e5c256a8",
   "metadata": {},
   "outputs": [
    {
     "name": "stderr",
     "output_type": "stream",
     "text": [
      "C:\\Users\\motte\\anaconda3\\envs\\mlenv\\lib\\site-packages\\pandas\\core\\frame.py:4913: SettingWithCopyWarning: \n",
      "A value is trying to be set on a copy of a slice from a DataFrame\n",
      "\n",
      "See the caveats in the documentation: https://pandas.pydata.org/pandas-docs/stable/user_guide/indexing.html#returning-a-view-versus-a-copy\n",
      "  errors=errors,\n"
     ]
    }
   ],
   "source": [
    "JNorth_Captive_Reared_2018_df.drop(['year'], axis=1, inplace=True)"
   ]
  },
  {
   "cell_type": "code",
   "execution_count": 179,
   "id": "a28bf072",
   "metadata": {},
   "outputs": [
    {
     "data": {
      "text/plain": [
       "<bound method NDFrame.tail of      sighting_date                  species  latitude  longitude  number\n",
       "5746    2018-01-01  Monarch, Captive-Reared    27.336    -82.531      30\n",
       "5747    2018-01-01  Monarch, Captive-Reared    29.707    -95.564      20\n",
       "5748    2018-01-01  Monarch, Captive-Reared    30.476    -90.101       1\n",
       "5749    2018-01-01  Monarch, Captive-Reared    38.676   -121.873       5\n",
       "5750    2018-01-09  Monarch, Captive-Reared    38.676   -121.873       4\n",
       "...            ...                      ...       ...        ...     ...\n",
       "9021    2018-11-30  Monarch, Captive-Reared    33.884   -118.307       8\n",
       "9022    2018-12-15  Monarch, Captive-Reared    33.867   -118.384       1\n",
       "9023    2018-12-23  Monarch, Captive-Reared    32.743   -117.031       2\n",
       "9024    2018-12-27  Monarch, Captive-Reared    27.651    -97.298       3\n",
       "9025    2018-12-30  Monarch, Captive-Reared    31.214    -82.354       4\n",
       "\n",
       "[3280 rows x 5 columns]>"
      ]
     },
     "execution_count": 179,
     "metadata": {},
     "output_type": "execute_result"
    }
   ],
   "source": [
    "JNorth_Captive_Reared_2018_df.tail"
   ]
  },
  {
   "cell_type": "code",
   "execution_count": 180,
   "id": "0dba463b",
   "metadata": {},
   "outputs": [
    {
     "name": "stderr",
     "output_type": "stream",
     "text": [
      "C:\\Users\\motte\\anaconda3\\envs\\mlenv\\lib\\site-packages\\ipykernel_launcher.py:1: SettingWithCopyWarning: \n",
      "A value is trying to be set on a copy of a slice from a DataFrame.\n",
      "Try using .loc[row_indexer,col_indexer] = value instead\n",
      "\n",
      "See the caveats in the documentation: https://pandas.pydata.org/pandas-docs/stable/user_guide/indexing.html#returning-a-view-versus-a-copy\n",
      "  \"\"\"Entry point for launching an IPython kernel.\n"
     ]
    }
   ],
   "source": [
    "JNorth_Captive_Reared_2018_df['month'] = pd.DatetimeIndex(JNorth_Captive_Reared_2018_df['sighting_date']).month"
   ]
  },
  {
   "cell_type": "markdown",
   "id": "5433aeed",
   "metadata": {},
   "source": [
    "## January"
   ]
  },
  {
   "cell_type": "code",
   "execution_count": 181,
   "id": "29864205",
   "metadata": {},
   "outputs": [
    {
     "data": {
      "text/html": [
       "<div>\n",
       "<style scoped>\n",
       "    .dataframe tbody tr th:only-of-type {\n",
       "        vertical-align: middle;\n",
       "    }\n",
       "\n",
       "    .dataframe tbody tr th {\n",
       "        vertical-align: top;\n",
       "    }\n",
       "\n",
       "    .dataframe thead th {\n",
       "        text-align: right;\n",
       "    }\n",
       "</style>\n",
       "<table border=\"1\" class=\"dataframe\">\n",
       "  <thead>\n",
       "    <tr style=\"text-align: right;\">\n",
       "      <th></th>\n",
       "      <th>sighting_date</th>\n",
       "      <th>species</th>\n",
       "      <th>latitude</th>\n",
       "      <th>longitude</th>\n",
       "      <th>number</th>\n",
       "      <th>month</th>\n",
       "    </tr>\n",
       "  </thead>\n",
       "  <tbody>\n",
       "    <tr>\n",
       "      <th>5757</th>\n",
       "      <td>2018-01-17</td>\n",
       "      <td>Monarch, Captive-Reared</td>\n",
       "      <td>38.675</td>\n",
       "      <td>-121.873</td>\n",
       "      <td>1</td>\n",
       "      <td>1</td>\n",
       "    </tr>\n",
       "    <tr>\n",
       "      <th>5758</th>\n",
       "      <td>2018-01-22</td>\n",
       "      <td>Monarch, Captive-Reared</td>\n",
       "      <td>30.691</td>\n",
       "      <td>-81.917</td>\n",
       "      <td>1</td>\n",
       "      <td>1</td>\n",
       "    </tr>\n",
       "    <tr>\n",
       "      <th>5759</th>\n",
       "      <td>2018-01-22</td>\n",
       "      <td>Monarch, Captive-Reared</td>\n",
       "      <td>38.676</td>\n",
       "      <td>-121.873</td>\n",
       "      <td>5</td>\n",
       "      <td>1</td>\n",
       "    </tr>\n",
       "    <tr>\n",
       "      <th>5760</th>\n",
       "      <td>2018-01-25</td>\n",
       "      <td>Monarch, Captive-Reared</td>\n",
       "      <td>29.584</td>\n",
       "      <td>-81.208</td>\n",
       "      <td>3</td>\n",
       "      <td>1</td>\n",
       "    </tr>\n",
       "    <tr>\n",
       "      <th>5761</th>\n",
       "      <td>2018-01-25</td>\n",
       "      <td>Monarch, Captive-Reared</td>\n",
       "      <td>38.675</td>\n",
       "      <td>-121.873</td>\n",
       "      <td>1</td>\n",
       "      <td>1</td>\n",
       "    </tr>\n",
       "  </tbody>\n",
       "</table>\n",
       "</div>"
      ],
      "text/plain": [
       "     sighting_date                  species  latitude  longitude  number  \\\n",
       "5757    2018-01-17  Monarch, Captive-Reared    38.675   -121.873       1   \n",
       "5758    2018-01-22  Monarch, Captive-Reared    30.691    -81.917       1   \n",
       "5759    2018-01-22  Monarch, Captive-Reared    38.676   -121.873       5   \n",
       "5760    2018-01-25  Monarch, Captive-Reared    29.584    -81.208       3   \n",
       "5761    2018-01-25  Monarch, Captive-Reared    38.675   -121.873       1   \n",
       "\n",
       "      month  \n",
       "5757      1  \n",
       "5758      1  \n",
       "5759      1  \n",
       "5760      1  \n",
       "5761      1  "
      ]
     },
     "execution_count": 181,
     "metadata": {},
     "output_type": "execute_result"
    }
   ],
   "source": [
    "JNorth_Captive_Reared_2018_month_df =pd.DataFrame(JNorth_Captive_Reared_2018_df)\n",
    "JNorth_Captive_Reared_2018_1_df = JNorth_Captive_Reared_2018_month_df[JNorth_Captive_Reared_2018_month_df['month']==1]\n",
    "JNorth_Captive_Reared_2018_1_df.tail()"
   ]
  },
  {
   "cell_type": "code",
   "execution_count": 182,
   "id": "e394de26",
   "metadata": {},
   "outputs": [
    {
     "data": {
      "text/plain": [
       "(16, 6)"
      ]
     },
     "execution_count": 182,
     "metadata": {},
     "output_type": "execute_result"
    }
   ],
   "source": [
    "JNorth_Captive_Reared_2018_1_df.shape"
   ]
  },
  {
   "cell_type": "code",
   "execution_count": 183,
   "id": "95031fb5",
   "metadata": {},
   "outputs": [
    {
     "name": "stderr",
     "output_type": "stream",
     "text": [
      "C:\\Users\\motte\\anaconda3\\envs\\mlenv\\lib\\site-packages\\pandas\\core\\frame.py:4913: SettingWithCopyWarning: \n",
      "A value is trying to be set on a copy of a slice from a DataFrame\n",
      "\n",
      "See the caveats in the documentation: https://pandas.pydata.org/pandas-docs/stable/user_guide/indexing.html#returning-a-view-versus-a-copy\n",
      "  errors=errors,\n"
     ]
    }
   ],
   "source": [
    "JNorth_Captive_Reared_2018_1_df.drop(['month'], axis=1, inplace=True)"
   ]
  },
  {
   "cell_type": "code",
   "execution_count": 184,
   "id": "c4d3ff7b",
   "metadata": {},
   "outputs": [
    {
     "name": "stderr",
     "output_type": "stream",
     "text": [
      "C:\\Users\\motte\\anaconda3\\envs\\mlenv\\lib\\site-packages\\ipykernel_launcher.py:2: SettingWithCopyWarning: \n",
      "A value is trying to be set on a copy of a slice from a DataFrame.\n",
      "Try using .loc[row_indexer,col_indexer] = value instead\n",
      "\n",
      "See the caveats in the documentation: https://pandas.pydata.org/pandas-docs/stable/user_guide/indexing.html#returning-a-view-versus-a-copy\n",
      "  \n",
      "C:\\Users\\motte\\anaconda3\\envs\\mlenv\\lib\\site-packages\\ipykernel_launcher.py:3: SettingWithCopyWarning: \n",
      "A value is trying to be set on a copy of a slice from a DataFrame.\n",
      "Try using .loc[row_indexer,col_indexer] = value instead\n",
      "\n",
      "See the caveats in the documentation: https://pandas.pydata.org/pandas-docs/stable/user_guide/indexing.html#returning-a-view-versus-a-copy\n",
      "  This is separate from the ipykernel package so we can avoid doing imports until\n"
     ]
    }
   ],
   "source": [
    "# convert lat-long to floats and change address from ALL CAPS to regular capitalization\n",
    "JNorth_Captive_Reared_2018_1_df['latitude'] = JNorth_Captive_Reared_2018_1_df['latitude'].astype(float)\n",
    "JNorth_Captive_Reared_2018_1_df['longitude'] = JNorth_Captive_Reared_2018_1_df['longitude'].astype(float)\n",
    "# JNorth_Milkweed_Site_df['street_address'] = JNorth_Milkweed_Site_df['street_address'].str.title()"
   ]
  },
  {
   "cell_type": "code",
   "execution_count": 185,
   "id": "47533ebf",
   "metadata": {},
   "outputs": [],
   "source": [
    "geojson = df_to_geojson(JNorth_Captive_Reared_2018_1_df, cols)"
   ]
  },
  {
   "cell_type": "code",
   "execution_count": 186,
   "id": "aecfecdc",
   "metadata": {},
   "outputs": [],
   "source": [
    "file = open(\"JNorth_Captive_Reared_2018_1.geojson\", \"w\")\n",
    "json.dump(geojson, file, indent =1)\n",
    "file.close()"
   ]
  },
  {
   "cell_type": "markdown",
   "id": "f0c205a9",
   "metadata": {},
   "source": [
    "## February"
   ]
  },
  {
   "cell_type": "code",
   "execution_count": 187,
   "id": "5dc66d0d",
   "metadata": {},
   "outputs": [
    {
     "data": {
      "text/html": [
       "<div>\n",
       "<style scoped>\n",
       "    .dataframe tbody tr th:only-of-type {\n",
       "        vertical-align: middle;\n",
       "    }\n",
       "\n",
       "    .dataframe tbody tr th {\n",
       "        vertical-align: top;\n",
       "    }\n",
       "\n",
       "    .dataframe thead th {\n",
       "        text-align: right;\n",
       "    }\n",
       "</style>\n",
       "<table border=\"1\" class=\"dataframe\">\n",
       "  <thead>\n",
       "    <tr style=\"text-align: right;\">\n",
       "      <th></th>\n",
       "      <th>sighting_date</th>\n",
       "      <th>species</th>\n",
       "      <th>latitude</th>\n",
       "      <th>longitude</th>\n",
       "      <th>number</th>\n",
       "      <th>month</th>\n",
       "    </tr>\n",
       "  </thead>\n",
       "  <tbody>\n",
       "    <tr>\n",
       "      <th>5776</th>\n",
       "      <td>2018-02-22</td>\n",
       "      <td>Monarch, Captive-Reared</td>\n",
       "      <td>38.675</td>\n",
       "      <td>-121.873</td>\n",
       "      <td>3</td>\n",
       "      <td>2</td>\n",
       "    </tr>\n",
       "    <tr>\n",
       "      <th>5777</th>\n",
       "      <td>2018-02-23</td>\n",
       "      <td>Monarch, Captive-Reared</td>\n",
       "      <td>29.001</td>\n",
       "      <td>-82.151</td>\n",
       "      <td>2</td>\n",
       "      <td>2</td>\n",
       "    </tr>\n",
       "    <tr>\n",
       "      <th>5778</th>\n",
       "      <td>2018-02-24</td>\n",
       "      <td>Monarch, Captive-Reared</td>\n",
       "      <td>28.051</td>\n",
       "      <td>-81.674</td>\n",
       "      <td>3</td>\n",
       "      <td>2</td>\n",
       "    </tr>\n",
       "    <tr>\n",
       "      <th>5779</th>\n",
       "      <td>2018-02-28</td>\n",
       "      <td>Monarch, Captive-Reared</td>\n",
       "      <td>29.641</td>\n",
       "      <td>-95.668</td>\n",
       "      <td>1</td>\n",
       "      <td>2</td>\n",
       "    </tr>\n",
       "    <tr>\n",
       "      <th>5780</th>\n",
       "      <td>2018-02-28</td>\n",
       "      <td>Monarch, Captive-Reared</td>\n",
       "      <td>29.641</td>\n",
       "      <td>-95.667</td>\n",
       "      <td>1</td>\n",
       "      <td>2</td>\n",
       "    </tr>\n",
       "  </tbody>\n",
       "</table>\n",
       "</div>"
      ],
      "text/plain": [
       "     sighting_date                  species  latitude  longitude  number  \\\n",
       "5776    2018-02-22  Monarch, Captive-Reared    38.675   -121.873       3   \n",
       "5777    2018-02-23  Monarch, Captive-Reared    29.001    -82.151       2   \n",
       "5778    2018-02-24  Monarch, Captive-Reared    28.051    -81.674       3   \n",
       "5779    2018-02-28  Monarch, Captive-Reared    29.641    -95.668       1   \n",
       "5780    2018-02-28  Monarch, Captive-Reared    29.641    -95.667       1   \n",
       "\n",
       "      month  \n",
       "5776      2  \n",
       "5777      2  \n",
       "5778      2  \n",
       "5779      2  \n",
       "5780      2  "
      ]
     },
     "execution_count": 187,
     "metadata": {},
     "output_type": "execute_result"
    }
   ],
   "source": [
    "JNorth_Captive_Reared_2018_month_df =pd.DataFrame(JNorth_Captive_Reared_2018_df)\n",
    "JNorth_Captive_Reared_2018_2_df = JNorth_Captive_Reared_2018_month_df[JNorth_Captive_Reared_2018_month_df['month']==2]\n",
    "JNorth_Captive_Reared_2018_2_df.tail()"
   ]
  },
  {
   "cell_type": "code",
   "execution_count": 188,
   "id": "2939fa09",
   "metadata": {},
   "outputs": [
    {
     "data": {
      "text/plain": [
       "(19, 6)"
      ]
     },
     "execution_count": 188,
     "metadata": {},
     "output_type": "execute_result"
    }
   ],
   "source": [
    "JNorth_Captive_Reared_2018_2_df.shape"
   ]
  },
  {
   "cell_type": "code",
   "execution_count": 189,
   "id": "055df0e1",
   "metadata": {},
   "outputs": [
    {
     "name": "stderr",
     "output_type": "stream",
     "text": [
      "C:\\Users\\motte\\anaconda3\\envs\\mlenv\\lib\\site-packages\\pandas\\core\\frame.py:4913: SettingWithCopyWarning: \n",
      "A value is trying to be set on a copy of a slice from a DataFrame\n",
      "\n",
      "See the caveats in the documentation: https://pandas.pydata.org/pandas-docs/stable/user_guide/indexing.html#returning-a-view-versus-a-copy\n",
      "  errors=errors,\n"
     ]
    }
   ],
   "source": [
    "JNorth_Captive_Reared_2018_2_df.drop(['month'], axis=1, inplace=True)"
   ]
  },
  {
   "cell_type": "code",
   "execution_count": 190,
   "id": "8b945994",
   "metadata": {},
   "outputs": [
    {
     "name": "stderr",
     "output_type": "stream",
     "text": [
      "C:\\Users\\motte\\anaconda3\\envs\\mlenv\\lib\\site-packages\\ipykernel_launcher.py:2: SettingWithCopyWarning: \n",
      "A value is trying to be set on a copy of a slice from a DataFrame.\n",
      "Try using .loc[row_indexer,col_indexer] = value instead\n",
      "\n",
      "See the caveats in the documentation: https://pandas.pydata.org/pandas-docs/stable/user_guide/indexing.html#returning-a-view-versus-a-copy\n",
      "  \n",
      "C:\\Users\\motte\\anaconda3\\envs\\mlenv\\lib\\site-packages\\ipykernel_launcher.py:3: SettingWithCopyWarning: \n",
      "A value is trying to be set on a copy of a slice from a DataFrame.\n",
      "Try using .loc[row_indexer,col_indexer] = value instead\n",
      "\n",
      "See the caveats in the documentation: https://pandas.pydata.org/pandas-docs/stable/user_guide/indexing.html#returning-a-view-versus-a-copy\n",
      "  This is separate from the ipykernel package so we can avoid doing imports until\n"
     ]
    }
   ],
   "source": [
    "# convert lat-long to floats and change address from ALL CAPS to regular capitalization\n",
    "JNorth_Captive_Reared_2018_2_df['latitude'] = JNorth_Captive_Reared_2018_2_df['latitude'].astype(float)\n",
    "JNorth_Captive_Reared_2018_2_df['longitude'] = JNorth_Captive_Reared_2018_2_df['longitude'].astype(float)\n",
    "# JNorth_Milkweed_Site_df['street_address'] = JNorth_Milkweed_Site_df['street_address'].str.title()"
   ]
  },
  {
   "cell_type": "code",
   "execution_count": 191,
   "id": "bd2a727a",
   "metadata": {},
   "outputs": [],
   "source": [
    "geojson = df_to_geojson(JNorth_Captive_Reared_2018_2_df, cols)"
   ]
  },
  {
   "cell_type": "code",
   "execution_count": 192,
   "id": "336c1e4d",
   "metadata": {},
   "outputs": [],
   "source": [
    "file = open(\"JNorth_Captive_Reared_2018_2.geojson\", \"w\")\n",
    "json.dump(geojson, file, indent =1)\n",
    "file.close()"
   ]
  },
  {
   "cell_type": "markdown",
   "id": "308bd862",
   "metadata": {},
   "source": [
    "## March"
   ]
  },
  {
   "cell_type": "code",
   "execution_count": 193,
   "id": "6b02a9ba",
   "metadata": {},
   "outputs": [
    {
     "data": {
      "text/html": [
       "<div>\n",
       "<style scoped>\n",
       "    .dataframe tbody tr th:only-of-type {\n",
       "        vertical-align: middle;\n",
       "    }\n",
       "\n",
       "    .dataframe tbody tr th {\n",
       "        vertical-align: top;\n",
       "    }\n",
       "\n",
       "    .dataframe thead th {\n",
       "        text-align: right;\n",
       "    }\n",
       "</style>\n",
       "<table border=\"1\" class=\"dataframe\">\n",
       "  <thead>\n",
       "    <tr style=\"text-align: right;\">\n",
       "      <th></th>\n",
       "      <th>sighting_date</th>\n",
       "      <th>species</th>\n",
       "      <th>latitude</th>\n",
       "      <th>longitude</th>\n",
       "      <th>number</th>\n",
       "      <th>month</th>\n",
       "    </tr>\n",
       "  </thead>\n",
       "  <tbody>\n",
       "    <tr>\n",
       "      <th>5786</th>\n",
       "      <td>2018-03-15</td>\n",
       "      <td>Monarch, Captive-Reared</td>\n",
       "      <td>27.447</td>\n",
       "      <td>-80.326</td>\n",
       "      <td>3</td>\n",
       "      <td>3</td>\n",
       "    </tr>\n",
       "    <tr>\n",
       "      <th>5787</th>\n",
       "      <td>2018-03-23</td>\n",
       "      <td>Monarch, Captive-Reared</td>\n",
       "      <td>33.610</td>\n",
       "      <td>-116.250</td>\n",
       "      <td>19</td>\n",
       "      <td>3</td>\n",
       "    </tr>\n",
       "    <tr>\n",
       "      <th>5788</th>\n",
       "      <td>2018-03-29</td>\n",
       "      <td>Monarch, Captive-Reared</td>\n",
       "      <td>26.264</td>\n",
       "      <td>-81.714</td>\n",
       "      <td>6</td>\n",
       "      <td>3</td>\n",
       "    </tr>\n",
       "    <tr>\n",
       "      <th>5789</th>\n",
       "      <td>2018-03-30</td>\n",
       "      <td>Monarch, Captive-Reared</td>\n",
       "      <td>30.408</td>\n",
       "      <td>-86.990</td>\n",
       "      <td>31</td>\n",
       "      <td>3</td>\n",
       "    </tr>\n",
       "    <tr>\n",
       "      <th>5790</th>\n",
       "      <td>2018-03-31</td>\n",
       "      <td>Monarch, Captive-Reared</td>\n",
       "      <td>29.187</td>\n",
       "      <td>-82.140</td>\n",
       "      <td>3</td>\n",
       "      <td>3</td>\n",
       "    </tr>\n",
       "  </tbody>\n",
       "</table>\n",
       "</div>"
      ],
      "text/plain": [
       "     sighting_date                  species  latitude  longitude  number  \\\n",
       "5786    2018-03-15  Monarch, Captive-Reared    27.447    -80.326       3   \n",
       "5787    2018-03-23  Monarch, Captive-Reared    33.610   -116.250      19   \n",
       "5788    2018-03-29  Monarch, Captive-Reared    26.264    -81.714       6   \n",
       "5789    2018-03-30  Monarch, Captive-Reared    30.408    -86.990      31   \n",
       "5790    2018-03-31  Monarch, Captive-Reared    29.187    -82.140       3   \n",
       "\n",
       "      month  \n",
       "5786      3  \n",
       "5787      3  \n",
       "5788      3  \n",
       "5789      3  \n",
       "5790      3  "
      ]
     },
     "execution_count": 193,
     "metadata": {},
     "output_type": "execute_result"
    }
   ],
   "source": [
    "JNorth_Captive_Reared_2018_month_df =pd.DataFrame(JNorth_Captive_Reared_2018_df)\n",
    "JNorth_Captive_Reared_2018_3_df = JNorth_Captive_Reared_2018_month_df[JNorth_Captive_Reared_2018_month_df['month']==3]\n",
    "JNorth_Captive_Reared_2018_3_df.tail()"
   ]
  },
  {
   "cell_type": "code",
   "execution_count": 194,
   "id": "95014e39",
   "metadata": {},
   "outputs": [
    {
     "data": {
      "text/plain": [
       "(10, 6)"
      ]
     },
     "execution_count": 194,
     "metadata": {},
     "output_type": "execute_result"
    }
   ],
   "source": [
    "JNorth_Captive_Reared_2018_3_df.shape"
   ]
  },
  {
   "cell_type": "code",
   "execution_count": 195,
   "id": "db866638",
   "metadata": {},
   "outputs": [
    {
     "name": "stderr",
     "output_type": "stream",
     "text": [
      "C:\\Users\\motte\\anaconda3\\envs\\mlenv\\lib\\site-packages\\pandas\\core\\frame.py:4913: SettingWithCopyWarning: \n",
      "A value is trying to be set on a copy of a slice from a DataFrame\n",
      "\n",
      "See the caveats in the documentation: https://pandas.pydata.org/pandas-docs/stable/user_guide/indexing.html#returning-a-view-versus-a-copy\n",
      "  errors=errors,\n"
     ]
    }
   ],
   "source": [
    "JNorth_Captive_Reared_2018_3_df.drop(['month'], axis=1, inplace=True)"
   ]
  },
  {
   "cell_type": "code",
   "execution_count": 196,
   "id": "2e4fb224",
   "metadata": {},
   "outputs": [
    {
     "name": "stderr",
     "output_type": "stream",
     "text": [
      "C:\\Users\\motte\\anaconda3\\envs\\mlenv\\lib\\site-packages\\ipykernel_launcher.py:2: SettingWithCopyWarning: \n",
      "A value is trying to be set on a copy of a slice from a DataFrame.\n",
      "Try using .loc[row_indexer,col_indexer] = value instead\n",
      "\n",
      "See the caveats in the documentation: https://pandas.pydata.org/pandas-docs/stable/user_guide/indexing.html#returning-a-view-versus-a-copy\n",
      "  \n",
      "C:\\Users\\motte\\anaconda3\\envs\\mlenv\\lib\\site-packages\\ipykernel_launcher.py:3: SettingWithCopyWarning: \n",
      "A value is trying to be set on a copy of a slice from a DataFrame.\n",
      "Try using .loc[row_indexer,col_indexer] = value instead\n",
      "\n",
      "See the caveats in the documentation: https://pandas.pydata.org/pandas-docs/stable/user_guide/indexing.html#returning-a-view-versus-a-copy\n",
      "  This is separate from the ipykernel package so we can avoid doing imports until\n"
     ]
    }
   ],
   "source": [
    "# convert lat-long to floats and change address from ALL CAPS to regular capitalization\n",
    "JNorth_Captive_Reared_2018_3_df['latitude'] = JNorth_Captive_Reared_2018_3_df['latitude'].astype(float)\n",
    "JNorth_Captive_Reared_2018_3_df['longitude'] = JNorth_Captive_Reared_2018_3_df['longitude'].astype(float)\n",
    "# JNorth_Milkweed_Site_df['street_address'] = JNorth_Milkweed_Site_df['street_address'].str.title()"
   ]
  },
  {
   "cell_type": "code",
   "execution_count": 197,
   "id": "a3df213a",
   "metadata": {},
   "outputs": [],
   "source": [
    "geojson = df_to_geojson(JNorth_Captive_Reared_2018_3_df, cols)"
   ]
  },
  {
   "cell_type": "code",
   "execution_count": 198,
   "id": "aaaf0ed1",
   "metadata": {},
   "outputs": [],
   "source": [
    "file = open(\"JNorth_Captive_Reared_2018_3.geojson\", \"w\")\n",
    "json.dump(geojson, file, indent =1)\n",
    "file.close()"
   ]
  },
  {
   "cell_type": "markdown",
   "id": "5b8eefd5",
   "metadata": {},
   "source": [
    "## April"
   ]
  },
  {
   "cell_type": "code",
   "execution_count": 199,
   "id": "9de021e0",
   "metadata": {},
   "outputs": [
    {
     "data": {
      "text/html": [
       "<div>\n",
       "<style scoped>\n",
       "    .dataframe tbody tr th:only-of-type {\n",
       "        vertical-align: middle;\n",
       "    }\n",
       "\n",
       "    .dataframe tbody tr th {\n",
       "        vertical-align: top;\n",
       "    }\n",
       "\n",
       "    .dataframe thead th {\n",
       "        text-align: right;\n",
       "    }\n",
       "</style>\n",
       "<table border=\"1\" class=\"dataframe\">\n",
       "  <thead>\n",
       "    <tr style=\"text-align: right;\">\n",
       "      <th></th>\n",
       "      <th>sighting_date</th>\n",
       "      <th>species</th>\n",
       "      <th>latitude</th>\n",
       "      <th>longitude</th>\n",
       "      <th>number</th>\n",
       "      <th>month</th>\n",
       "    </tr>\n",
       "  </thead>\n",
       "  <tbody>\n",
       "    <tr>\n",
       "      <th>5829</th>\n",
       "      <td>2018-04-29</td>\n",
       "      <td>Monarch, Captive-Reared</td>\n",
       "      <td>30.323</td>\n",
       "      <td>-81.683</td>\n",
       "      <td>5</td>\n",
       "      <td>4</td>\n",
       "    </tr>\n",
       "    <tr>\n",
       "      <th>5830</th>\n",
       "      <td>2018-04-30</td>\n",
       "      <td>Monarch, Captive-Reared</td>\n",
       "      <td>29.009</td>\n",
       "      <td>-82.162</td>\n",
       "      <td>58</td>\n",
       "      <td>4</td>\n",
       "    </tr>\n",
       "    <tr>\n",
       "      <th>5831</th>\n",
       "      <td>2018-04-30</td>\n",
       "      <td>Monarch, Captive-Reared</td>\n",
       "      <td>30.323</td>\n",
       "      <td>-81.683</td>\n",
       "      <td>4</td>\n",
       "      <td>4</td>\n",
       "    </tr>\n",
       "    <tr>\n",
       "      <th>5832</th>\n",
       "      <td>2018-04-30</td>\n",
       "      <td>Monarch, Captive-Reared</td>\n",
       "      <td>30.411</td>\n",
       "      <td>-86.912</td>\n",
       "      <td>4</td>\n",
       "      <td>4</td>\n",
       "    </tr>\n",
       "    <tr>\n",
       "      <th>5833</th>\n",
       "      <td>2018-04-30</td>\n",
       "      <td>Monarch, Captive-Reared</td>\n",
       "      <td>34.096</td>\n",
       "      <td>-118.106</td>\n",
       "      <td>4</td>\n",
       "      <td>4</td>\n",
       "    </tr>\n",
       "  </tbody>\n",
       "</table>\n",
       "</div>"
      ],
      "text/plain": [
       "     sighting_date                  species  latitude  longitude  number  \\\n",
       "5829    2018-04-29  Monarch, Captive-Reared    30.323    -81.683       5   \n",
       "5830    2018-04-30  Monarch, Captive-Reared    29.009    -82.162      58   \n",
       "5831    2018-04-30  Monarch, Captive-Reared    30.323    -81.683       4   \n",
       "5832    2018-04-30  Monarch, Captive-Reared    30.411    -86.912       4   \n",
       "5833    2018-04-30  Monarch, Captive-Reared    34.096   -118.106       4   \n",
       "\n",
       "      month  \n",
       "5829      4  \n",
       "5830      4  \n",
       "5831      4  \n",
       "5832      4  \n",
       "5833      4  "
      ]
     },
     "execution_count": 199,
     "metadata": {},
     "output_type": "execute_result"
    }
   ],
   "source": [
    "JNorth_Captive_Reared_2018_month_df =pd.DataFrame(JNorth_Captive_Reared_2018_df)\n",
    "JNorth_Captive_Reared_2018_4_df = JNorth_Captive_Reared_2018_month_df[JNorth_Captive_Reared_2018_month_df['month']==4]\n",
    "JNorth_Captive_Reared_2018_4_df.tail()"
   ]
  },
  {
   "cell_type": "code",
   "execution_count": 200,
   "id": "4a92a749",
   "metadata": {},
   "outputs": [
    {
     "data": {
      "text/plain": [
       "(43, 6)"
      ]
     },
     "execution_count": 200,
     "metadata": {},
     "output_type": "execute_result"
    }
   ],
   "source": [
    "JNorth_Captive_Reared_2018_4_df.shape"
   ]
  },
  {
   "cell_type": "code",
   "execution_count": 201,
   "id": "c1bcccfd",
   "metadata": {},
   "outputs": [
    {
     "name": "stderr",
     "output_type": "stream",
     "text": [
      "C:\\Users\\motte\\anaconda3\\envs\\mlenv\\lib\\site-packages\\pandas\\core\\frame.py:4913: SettingWithCopyWarning: \n",
      "A value is trying to be set on a copy of a slice from a DataFrame\n",
      "\n",
      "See the caveats in the documentation: https://pandas.pydata.org/pandas-docs/stable/user_guide/indexing.html#returning-a-view-versus-a-copy\n",
      "  errors=errors,\n"
     ]
    }
   ],
   "source": [
    "JNorth_Captive_Reared_2018_4_df.drop(['month'], axis=1, inplace=True)"
   ]
  },
  {
   "cell_type": "code",
   "execution_count": 202,
   "id": "083929cc",
   "metadata": {},
   "outputs": [
    {
     "name": "stderr",
     "output_type": "stream",
     "text": [
      "C:\\Users\\motte\\anaconda3\\envs\\mlenv\\lib\\site-packages\\ipykernel_launcher.py:2: SettingWithCopyWarning: \n",
      "A value is trying to be set on a copy of a slice from a DataFrame.\n",
      "Try using .loc[row_indexer,col_indexer] = value instead\n",
      "\n",
      "See the caveats in the documentation: https://pandas.pydata.org/pandas-docs/stable/user_guide/indexing.html#returning-a-view-versus-a-copy\n",
      "  \n",
      "C:\\Users\\motte\\anaconda3\\envs\\mlenv\\lib\\site-packages\\ipykernel_launcher.py:3: SettingWithCopyWarning: \n",
      "A value is trying to be set on a copy of a slice from a DataFrame.\n",
      "Try using .loc[row_indexer,col_indexer] = value instead\n",
      "\n",
      "See the caveats in the documentation: https://pandas.pydata.org/pandas-docs/stable/user_guide/indexing.html#returning-a-view-versus-a-copy\n",
      "  This is separate from the ipykernel package so we can avoid doing imports until\n"
     ]
    }
   ],
   "source": [
    "# convert lat-long to floats and change address from ALL CAPS to regular capitalization\n",
    "JNorth_Captive_Reared_2018_4_df['latitude'] = JNorth_Captive_Reared_2018_4_df['latitude'].astype(float)\n",
    "JNorth_Captive_Reared_2018_4_df['longitude'] = JNorth_Captive_Reared_2018_4_df['longitude'].astype(float)\n",
    "# JNorth_Milkweed_Site_df['street_address'] = JNorth_Milkweed_Site_df['street_address'].str.title()"
   ]
  },
  {
   "cell_type": "code",
   "execution_count": 203,
   "id": "63ecb386",
   "metadata": {},
   "outputs": [],
   "source": [
    "geojson = df_to_geojson(JNorth_Captive_Reared_2018_4_df, cols)"
   ]
  },
  {
   "cell_type": "code",
   "execution_count": 204,
   "id": "8da2fa34",
   "metadata": {},
   "outputs": [],
   "source": [
    "file = open(\"JNorth_Captive_Reared_2018_4.geojson\", \"w\")\n",
    "json.dump(geojson, file, indent =1)\n",
    "file.close()"
   ]
  },
  {
   "cell_type": "markdown",
   "id": "e4b0927a",
   "metadata": {},
   "source": [
    "## May"
   ]
  },
  {
   "cell_type": "code",
   "execution_count": 205,
   "id": "08818b34",
   "metadata": {},
   "outputs": [
    {
     "data": {
      "text/html": [
       "<div>\n",
       "<style scoped>\n",
       "    .dataframe tbody tr th:only-of-type {\n",
       "        vertical-align: middle;\n",
       "    }\n",
       "\n",
       "    .dataframe tbody tr th {\n",
       "        vertical-align: top;\n",
       "    }\n",
       "\n",
       "    .dataframe thead th {\n",
       "        text-align: right;\n",
       "    }\n",
       "</style>\n",
       "<table border=\"1\" class=\"dataframe\">\n",
       "  <thead>\n",
       "    <tr style=\"text-align: right;\">\n",
       "      <th></th>\n",
       "      <th>sighting_date</th>\n",
       "      <th>species</th>\n",
       "      <th>latitude</th>\n",
       "      <th>longitude</th>\n",
       "      <th>number</th>\n",
       "      <th>month</th>\n",
       "    </tr>\n",
       "  </thead>\n",
       "  <tbody>\n",
       "    <tr>\n",
       "      <th>5946</th>\n",
       "      <td>2018-05-30</td>\n",
       "      <td>Monarch, Captive-Reared</td>\n",
       "      <td>34.134</td>\n",
       "      <td>-117.853</td>\n",
       "      <td>2</td>\n",
       "      <td>5</td>\n",
       "    </tr>\n",
       "    <tr>\n",
       "      <th>5947</th>\n",
       "      <td>2018-05-30</td>\n",
       "      <td>Monarch, Captive-Reared</td>\n",
       "      <td>36.126</td>\n",
       "      <td>-86.795</td>\n",
       "      <td>1</td>\n",
       "      <td>5</td>\n",
       "    </tr>\n",
       "    <tr>\n",
       "      <th>5948</th>\n",
       "      <td>2018-05-31</td>\n",
       "      <td>Monarch, Captive-Reared</td>\n",
       "      <td>35.982</td>\n",
       "      <td>-95.804</td>\n",
       "      <td>2</td>\n",
       "      <td>5</td>\n",
       "    </tr>\n",
       "    <tr>\n",
       "      <th>5949</th>\n",
       "      <td>2018-05-31</td>\n",
       "      <td>Monarch, Captive-Reared</td>\n",
       "      <td>41.809</td>\n",
       "      <td>-88.011</td>\n",
       "      <td>2</td>\n",
       "      <td>5</td>\n",
       "    </tr>\n",
       "    <tr>\n",
       "      <th>5950</th>\n",
       "      <td>2018-05-31</td>\n",
       "      <td>Monarch, Captive-Reared</td>\n",
       "      <td>45.033</td>\n",
       "      <td>-93.223</td>\n",
       "      <td>6</td>\n",
       "      <td>5</td>\n",
       "    </tr>\n",
       "  </tbody>\n",
       "</table>\n",
       "</div>"
      ],
      "text/plain": [
       "     sighting_date                  species  latitude  longitude  number  \\\n",
       "5946    2018-05-30  Monarch, Captive-Reared    34.134   -117.853       2   \n",
       "5947    2018-05-30  Monarch, Captive-Reared    36.126    -86.795       1   \n",
       "5948    2018-05-31  Monarch, Captive-Reared    35.982    -95.804       2   \n",
       "5949    2018-05-31  Monarch, Captive-Reared    41.809    -88.011       2   \n",
       "5950    2018-05-31  Monarch, Captive-Reared    45.033    -93.223       6   \n",
       "\n",
       "      month  \n",
       "5946      5  \n",
       "5947      5  \n",
       "5948      5  \n",
       "5949      5  \n",
       "5950      5  "
      ]
     },
     "execution_count": 205,
     "metadata": {},
     "output_type": "execute_result"
    }
   ],
   "source": [
    "JNorth_Captive_Reared_2018_month_df =pd.DataFrame(JNorth_Captive_Reared_2018_df)\n",
    "JNorth_Captive_Reared_2018_5_df = JNorth_Captive_Reared_2018_month_df[JNorth_Captive_Reared_2018_month_df['month']==5]\n",
    "JNorth_Captive_Reared_2018_5_df.tail()"
   ]
  },
  {
   "cell_type": "code",
   "execution_count": 206,
   "id": "8e3b442c",
   "metadata": {},
   "outputs": [
    {
     "data": {
      "text/plain": [
       "(117, 6)"
      ]
     },
     "execution_count": 206,
     "metadata": {},
     "output_type": "execute_result"
    }
   ],
   "source": [
    "JNorth_Captive_Reared_2018_5_df.shape"
   ]
  },
  {
   "cell_type": "code",
   "execution_count": 207,
   "id": "dbcbd9d1",
   "metadata": {},
   "outputs": [
    {
     "name": "stderr",
     "output_type": "stream",
     "text": [
      "C:\\Users\\motte\\anaconda3\\envs\\mlenv\\lib\\site-packages\\pandas\\core\\frame.py:4913: SettingWithCopyWarning: \n",
      "A value is trying to be set on a copy of a slice from a DataFrame\n",
      "\n",
      "See the caveats in the documentation: https://pandas.pydata.org/pandas-docs/stable/user_guide/indexing.html#returning-a-view-versus-a-copy\n",
      "  errors=errors,\n"
     ]
    }
   ],
   "source": [
    "JNorth_Captive_Reared_2018_5_df.drop(['month'], axis=1, inplace=True)"
   ]
  },
  {
   "cell_type": "code",
   "execution_count": 208,
   "id": "ef16ae7f",
   "metadata": {},
   "outputs": [
    {
     "name": "stderr",
     "output_type": "stream",
     "text": [
      "C:\\Users\\motte\\anaconda3\\envs\\mlenv\\lib\\site-packages\\ipykernel_launcher.py:2: SettingWithCopyWarning: \n",
      "A value is trying to be set on a copy of a slice from a DataFrame.\n",
      "Try using .loc[row_indexer,col_indexer] = value instead\n",
      "\n",
      "See the caveats in the documentation: https://pandas.pydata.org/pandas-docs/stable/user_guide/indexing.html#returning-a-view-versus-a-copy\n",
      "  \n",
      "C:\\Users\\motte\\anaconda3\\envs\\mlenv\\lib\\site-packages\\ipykernel_launcher.py:3: SettingWithCopyWarning: \n",
      "A value is trying to be set on a copy of a slice from a DataFrame.\n",
      "Try using .loc[row_indexer,col_indexer] = value instead\n",
      "\n",
      "See the caveats in the documentation: https://pandas.pydata.org/pandas-docs/stable/user_guide/indexing.html#returning-a-view-versus-a-copy\n",
      "  This is separate from the ipykernel package so we can avoid doing imports until\n"
     ]
    }
   ],
   "source": [
    "# convert lat-long to floats and change address from ALL CAPS to regular capitalization\n",
    "JNorth_Captive_Reared_2018_5_df['latitude'] = JNorth_Captive_Reared_2018_5_df['latitude'].astype(float)\n",
    "JNorth_Captive_Reared_2018_5_df['longitude'] = JNorth_Captive_Reared_2018_5_df['longitude'].astype(float)\n",
    "# JNorth_Milkweed_Site_df['street_address'] = JNorth_Milkweed_Site_df['street_address'].str.title()"
   ]
  },
  {
   "cell_type": "code",
   "execution_count": 209,
   "id": "f57c29c9",
   "metadata": {},
   "outputs": [],
   "source": [
    "geojson = df_to_geojson(JNorth_Captive_Reared_2018_5_df, cols)"
   ]
  },
  {
   "cell_type": "code",
   "execution_count": 210,
   "id": "bf28ef88",
   "metadata": {},
   "outputs": [],
   "source": [
    "file = open(\"JNorth_Captive_Reared_2018_5.geojson\", \"w\")\n",
    "json.dump(geojson, file, indent =1)\n",
    "file.close()"
   ]
  },
  {
   "cell_type": "markdown",
   "id": "f17bf01f",
   "metadata": {},
   "source": [
    "## June"
   ]
  },
  {
   "cell_type": "code",
   "execution_count": 211,
   "id": "381829c2",
   "metadata": {},
   "outputs": [
    {
     "data": {
      "text/html": [
       "<div>\n",
       "<style scoped>\n",
       "    .dataframe tbody tr th:only-of-type {\n",
       "        vertical-align: middle;\n",
       "    }\n",
       "\n",
       "    .dataframe tbody tr th {\n",
       "        vertical-align: top;\n",
       "    }\n",
       "\n",
       "    .dataframe thead th {\n",
       "        text-align: right;\n",
       "    }\n",
       "</style>\n",
       "<table border=\"1\" class=\"dataframe\">\n",
       "  <thead>\n",
       "    <tr style=\"text-align: right;\">\n",
       "      <th></th>\n",
       "      <th>sighting_date</th>\n",
       "      <th>species</th>\n",
       "      <th>latitude</th>\n",
       "      <th>longitude</th>\n",
       "      <th>number</th>\n",
       "      <th>month</th>\n",
       "    </tr>\n",
       "  </thead>\n",
       "  <tbody>\n",
       "    <tr>\n",
       "      <th>6158</th>\n",
       "      <td>2018-06-30</td>\n",
       "      <td>Monarch, Captive-Reared</td>\n",
       "      <td>41.564</td>\n",
       "      <td>-87.512</td>\n",
       "      <td>2</td>\n",
       "      <td>6</td>\n",
       "    </tr>\n",
       "    <tr>\n",
       "      <th>6159</th>\n",
       "      <td>2018-06-30</td>\n",
       "      <td>Monarch, Captive-Reared</td>\n",
       "      <td>43.397</td>\n",
       "      <td>-81.026</td>\n",
       "      <td>4</td>\n",
       "      <td>6</td>\n",
       "    </tr>\n",
       "    <tr>\n",
       "      <th>6160</th>\n",
       "      <td>2018-06-30</td>\n",
       "      <td>Monarch, Captive-Reared</td>\n",
       "      <td>44.944</td>\n",
       "      <td>-93.160</td>\n",
       "      <td>2</td>\n",
       "      <td>6</td>\n",
       "    </tr>\n",
       "    <tr>\n",
       "      <th>6161</th>\n",
       "      <td>2018-06-30</td>\n",
       "      <td>Monarch, Captive-Reared</td>\n",
       "      <td>45.173</td>\n",
       "      <td>-93.229</td>\n",
       "      <td>10</td>\n",
       "      <td>6</td>\n",
       "    </tr>\n",
       "    <tr>\n",
       "      <th>6162</th>\n",
       "      <td>2018-06-30</td>\n",
       "      <td>Monarch, Captive-Reared</td>\n",
       "      <td>45.823</td>\n",
       "      <td>-92.970</td>\n",
       "      <td>61</td>\n",
       "      <td>6</td>\n",
       "    </tr>\n",
       "  </tbody>\n",
       "</table>\n",
       "</div>"
      ],
      "text/plain": [
       "     sighting_date                  species  latitude  longitude  number  \\\n",
       "6158    2018-06-30  Monarch, Captive-Reared    41.564    -87.512       2   \n",
       "6159    2018-06-30  Monarch, Captive-Reared    43.397    -81.026       4   \n",
       "6160    2018-06-30  Monarch, Captive-Reared    44.944    -93.160       2   \n",
       "6161    2018-06-30  Monarch, Captive-Reared    45.173    -93.229      10   \n",
       "6162    2018-06-30  Monarch, Captive-Reared    45.823    -92.970      61   \n",
       "\n",
       "      month  \n",
       "6158      6  \n",
       "6159      6  \n",
       "6160      6  \n",
       "6161      6  \n",
       "6162      6  "
      ]
     },
     "execution_count": 211,
     "metadata": {},
     "output_type": "execute_result"
    }
   ],
   "source": [
    "JNorth_Captive_Reared_2018_month_df =pd.DataFrame(JNorth_Captive_Reared_2018_df)\n",
    "JNorth_Captive_Reared_2018_6_df = JNorth_Captive_Reared_2018_month_df[JNorth_Captive_Reared_2018_month_df['month']==6]\n",
    "JNorth_Captive_Reared_2018_6_df.tail()"
   ]
  },
  {
   "cell_type": "code",
   "execution_count": 212,
   "id": "ec35325f",
   "metadata": {},
   "outputs": [
    {
     "data": {
      "text/plain": [
       "(212, 6)"
      ]
     },
     "execution_count": 212,
     "metadata": {},
     "output_type": "execute_result"
    }
   ],
   "source": [
    "JNorth_Captive_Reared_2018_6_df.shape"
   ]
  },
  {
   "cell_type": "code",
   "execution_count": 213,
   "id": "8aadd64b",
   "metadata": {},
   "outputs": [
    {
     "name": "stderr",
     "output_type": "stream",
     "text": [
      "C:\\Users\\motte\\anaconda3\\envs\\mlenv\\lib\\site-packages\\pandas\\core\\frame.py:4913: SettingWithCopyWarning: \n",
      "A value is trying to be set on a copy of a slice from a DataFrame\n",
      "\n",
      "See the caveats in the documentation: https://pandas.pydata.org/pandas-docs/stable/user_guide/indexing.html#returning-a-view-versus-a-copy\n",
      "  errors=errors,\n"
     ]
    }
   ],
   "source": [
    "JNorth_Captive_Reared_2018_6_df.drop(['month'], axis=1, inplace=True)"
   ]
  },
  {
   "cell_type": "code",
   "execution_count": 214,
   "id": "ae769a01",
   "metadata": {},
   "outputs": [
    {
     "name": "stderr",
     "output_type": "stream",
     "text": [
      "C:\\Users\\motte\\anaconda3\\envs\\mlenv\\lib\\site-packages\\ipykernel_launcher.py:2: SettingWithCopyWarning: \n",
      "A value is trying to be set on a copy of a slice from a DataFrame.\n",
      "Try using .loc[row_indexer,col_indexer] = value instead\n",
      "\n",
      "See the caveats in the documentation: https://pandas.pydata.org/pandas-docs/stable/user_guide/indexing.html#returning-a-view-versus-a-copy\n",
      "  \n",
      "C:\\Users\\motte\\anaconda3\\envs\\mlenv\\lib\\site-packages\\ipykernel_launcher.py:3: SettingWithCopyWarning: \n",
      "A value is trying to be set on a copy of a slice from a DataFrame.\n",
      "Try using .loc[row_indexer,col_indexer] = value instead\n",
      "\n",
      "See the caveats in the documentation: https://pandas.pydata.org/pandas-docs/stable/user_guide/indexing.html#returning-a-view-versus-a-copy\n",
      "  This is separate from the ipykernel package so we can avoid doing imports until\n"
     ]
    }
   ],
   "source": [
    "# convert lat-long to floats and change address from ALL CAPS to regular capitalization\n",
    "JNorth_Captive_Reared_2018_6_df['latitude'] = JNorth_Captive_Reared_2018_6_df['latitude'].astype(float)\n",
    "JNorth_Captive_Reared_2018_6_df['longitude'] = JNorth_Captive_Reared_2018_6_df['longitude'].astype(float)\n",
    "# JNorth_Milkweed_Site_df['street_address'] = JNorth_Milkweed_Site_df['street_address'].str.title()"
   ]
  },
  {
   "cell_type": "code",
   "execution_count": 215,
   "id": "4e1cbc00",
   "metadata": {},
   "outputs": [],
   "source": [
    "geojson = df_to_geojson(JNorth_Captive_Reared_2018_6_df, cols)"
   ]
  },
  {
   "cell_type": "code",
   "execution_count": 216,
   "id": "72fe008a",
   "metadata": {},
   "outputs": [],
   "source": [
    "file = open(\"JNorth_Captive_Reared_2018_6.geojson\", \"w\")\n",
    "json.dump(geojson, file, indent =1)\n",
    "file.close()"
   ]
  },
  {
   "cell_type": "markdown",
   "id": "e88e1c71",
   "metadata": {},
   "source": [
    "## July"
   ]
  },
  {
   "cell_type": "code",
   "execution_count": 217,
   "id": "77e25b46",
   "metadata": {},
   "outputs": [
    {
     "data": {
      "text/html": [
       "<div>\n",
       "<style scoped>\n",
       "    .dataframe tbody tr th:only-of-type {\n",
       "        vertical-align: middle;\n",
       "    }\n",
       "\n",
       "    .dataframe tbody tr th {\n",
       "        vertical-align: top;\n",
       "    }\n",
       "\n",
       "    .dataframe thead th {\n",
       "        text-align: right;\n",
       "    }\n",
       "</style>\n",
       "<table border=\"1\" class=\"dataframe\">\n",
       "  <thead>\n",
       "    <tr style=\"text-align: right;\">\n",
       "      <th></th>\n",
       "      <th>sighting_date</th>\n",
       "      <th>species</th>\n",
       "      <th>latitude</th>\n",
       "      <th>longitude</th>\n",
       "      <th>number</th>\n",
       "      <th>month</th>\n",
       "    </tr>\n",
       "  </thead>\n",
       "  <tbody>\n",
       "    <tr>\n",
       "      <th>6509</th>\n",
       "      <td>2018-07-31</td>\n",
       "      <td>Monarch, Captive-Reared</td>\n",
       "      <td>44.968</td>\n",
       "      <td>-93.200</td>\n",
       "      <td>18</td>\n",
       "      <td>7</td>\n",
       "    </tr>\n",
       "    <tr>\n",
       "      <th>6510</th>\n",
       "      <td>2018-07-31</td>\n",
       "      <td>Monarch, Captive-Reared</td>\n",
       "      <td>45.033</td>\n",
       "      <td>-93.224</td>\n",
       "      <td>111</td>\n",
       "      <td>7</td>\n",
       "    </tr>\n",
       "    <tr>\n",
       "      <th>6511</th>\n",
       "      <td>2018-07-31</td>\n",
       "      <td>Monarch, Captive-Reared</td>\n",
       "      <td>45.048</td>\n",
       "      <td>-93.223</td>\n",
       "      <td>1</td>\n",
       "      <td>7</td>\n",
       "    </tr>\n",
       "    <tr>\n",
       "      <th>6512</th>\n",
       "      <td>2018-07-31</td>\n",
       "      <td>Monarch, Captive-Reared</td>\n",
       "      <td>45.054</td>\n",
       "      <td>-93.186</td>\n",
       "      <td>1</td>\n",
       "      <td>7</td>\n",
       "    </tr>\n",
       "    <tr>\n",
       "      <th>6513</th>\n",
       "      <td>2018-07-31</td>\n",
       "      <td>Monarch, Captive-Reared</td>\n",
       "      <td>45.840</td>\n",
       "      <td>-92.874</td>\n",
       "      <td>92</td>\n",
       "      <td>7</td>\n",
       "    </tr>\n",
       "  </tbody>\n",
       "</table>\n",
       "</div>"
      ],
      "text/plain": [
       "     sighting_date                  species  latitude  longitude  number  \\\n",
       "6509    2018-07-31  Monarch, Captive-Reared    44.968    -93.200      18   \n",
       "6510    2018-07-31  Monarch, Captive-Reared    45.033    -93.224     111   \n",
       "6511    2018-07-31  Monarch, Captive-Reared    45.048    -93.223       1   \n",
       "6512    2018-07-31  Monarch, Captive-Reared    45.054    -93.186       1   \n",
       "6513    2018-07-31  Monarch, Captive-Reared    45.840    -92.874      92   \n",
       "\n",
       "      month  \n",
       "6509      7  \n",
       "6510      7  \n",
       "6511      7  \n",
       "6512      7  \n",
       "6513      7  "
      ]
     },
     "execution_count": 217,
     "metadata": {},
     "output_type": "execute_result"
    }
   ],
   "source": [
    "JNorth_Captive_Reared_2018_month_df =pd.DataFrame(JNorth_Captive_Reared_2018_df)\n",
    "JNorth_Captive_Reared_2018_7_df = JNorth_Captive_Reared_2018_month_df[JNorth_Captive_Reared_2018_month_df['month']==7]\n",
    "JNorth_Captive_Reared_2018_7_df.tail()"
   ]
  },
  {
   "cell_type": "code",
   "execution_count": 218,
   "id": "a2dd7a68",
   "metadata": {},
   "outputs": [
    {
     "data": {
      "text/plain": [
       "(351, 6)"
      ]
     },
     "execution_count": 218,
     "metadata": {},
     "output_type": "execute_result"
    }
   ],
   "source": [
    "JNorth_Captive_Reared_2018_7_df.shape"
   ]
  },
  {
   "cell_type": "code",
   "execution_count": 219,
   "id": "9aa6caeb",
   "metadata": {},
   "outputs": [
    {
     "name": "stderr",
     "output_type": "stream",
     "text": [
      "C:\\Users\\motte\\anaconda3\\envs\\mlenv\\lib\\site-packages\\pandas\\core\\frame.py:4913: SettingWithCopyWarning: \n",
      "A value is trying to be set on a copy of a slice from a DataFrame\n",
      "\n",
      "See the caveats in the documentation: https://pandas.pydata.org/pandas-docs/stable/user_guide/indexing.html#returning-a-view-versus-a-copy\n",
      "  errors=errors,\n"
     ]
    }
   ],
   "source": [
    "JNorth_Captive_Reared_2018_7_df.drop(['month'], axis=1, inplace=True)"
   ]
  },
  {
   "cell_type": "code",
   "execution_count": 220,
   "id": "42748eef",
   "metadata": {},
   "outputs": [
    {
     "name": "stderr",
     "output_type": "stream",
     "text": [
      "C:\\Users\\motte\\anaconda3\\envs\\mlenv\\lib\\site-packages\\ipykernel_launcher.py:2: SettingWithCopyWarning: \n",
      "A value is trying to be set on a copy of a slice from a DataFrame.\n",
      "Try using .loc[row_indexer,col_indexer] = value instead\n",
      "\n",
      "See the caveats in the documentation: https://pandas.pydata.org/pandas-docs/stable/user_guide/indexing.html#returning-a-view-versus-a-copy\n",
      "  \n",
      "C:\\Users\\motte\\anaconda3\\envs\\mlenv\\lib\\site-packages\\ipykernel_launcher.py:3: SettingWithCopyWarning: \n",
      "A value is trying to be set on a copy of a slice from a DataFrame.\n",
      "Try using .loc[row_indexer,col_indexer] = value instead\n",
      "\n",
      "See the caveats in the documentation: https://pandas.pydata.org/pandas-docs/stable/user_guide/indexing.html#returning-a-view-versus-a-copy\n",
      "  This is separate from the ipykernel package so we can avoid doing imports until\n"
     ]
    }
   ],
   "source": [
    "# convert lat-long to floats and change address from ALL CAPS to regular capitalization\n",
    "JNorth_Captive_Reared_2018_7_df['latitude'] = JNorth_Captive_Reared_2018_7_df['latitude'].astype(float)\n",
    "JNorth_Captive_Reared_2018_7_df['longitude'] = JNorth_Captive_Reared_2018_7_df['longitude'].astype(float)\n",
    "# JNorth_Milkweed_Site_df['street_address'] = JNorth_Milkweed_Site_df['street_address'].str.title()"
   ]
  },
  {
   "cell_type": "code",
   "execution_count": 221,
   "id": "c0ff994e",
   "metadata": {},
   "outputs": [],
   "source": [
    "geojson = df_to_geojson(JNorth_Captive_Reared_2018_7_df, cols)"
   ]
  },
  {
   "cell_type": "code",
   "execution_count": 222,
   "id": "a72a37d3",
   "metadata": {},
   "outputs": [],
   "source": [
    "file = open(\"JNorth_Captive_Reared_2018_7.geojson\", \"w\")\n",
    "json.dump(geojson, file, indent =1)\n",
    "file.close()"
   ]
  },
  {
   "cell_type": "markdown",
   "id": "4ebd9239",
   "metadata": {},
   "source": [
    "## August"
   ]
  },
  {
   "cell_type": "code",
   "execution_count": 223,
   "id": "5c9ebe9f",
   "metadata": {},
   "outputs": [
    {
     "data": {
      "text/html": [
       "<div>\n",
       "<style scoped>\n",
       "    .dataframe tbody tr th:only-of-type {\n",
       "        vertical-align: middle;\n",
       "    }\n",
       "\n",
       "    .dataframe tbody tr th {\n",
       "        vertical-align: top;\n",
       "    }\n",
       "\n",
       "    .dataframe thead th {\n",
       "        text-align: right;\n",
       "    }\n",
       "</style>\n",
       "<table border=\"1\" class=\"dataframe\">\n",
       "  <thead>\n",
       "    <tr style=\"text-align: right;\">\n",
       "      <th></th>\n",
       "      <th>sighting_date</th>\n",
       "      <th>species</th>\n",
       "      <th>latitude</th>\n",
       "      <th>longitude</th>\n",
       "      <th>number</th>\n",
       "      <th>month</th>\n",
       "    </tr>\n",
       "  </thead>\n",
       "  <tbody>\n",
       "    <tr>\n",
       "      <th>7465</th>\n",
       "      <td>2018-08-31</td>\n",
       "      <td>Monarch, Captive-Reared</td>\n",
       "      <td>43.751</td>\n",
       "      <td>-79.229</td>\n",
       "      <td>7</td>\n",
       "      <td>8</td>\n",
       "    </tr>\n",
       "    <tr>\n",
       "      <th>7466</th>\n",
       "      <td>2018-08-31</td>\n",
       "      <td>Monarch, Captive-Reared</td>\n",
       "      <td>43.782</td>\n",
       "      <td>-74.265</td>\n",
       "      <td>14</td>\n",
       "      <td>8</td>\n",
       "    </tr>\n",
       "    <tr>\n",
       "      <th>7467</th>\n",
       "      <td>2018-08-31</td>\n",
       "      <td>Monarch, Captive-Reared</td>\n",
       "      <td>44.648</td>\n",
       "      <td>-83.304</td>\n",
       "      <td>2</td>\n",
       "      <td>8</td>\n",
       "    </tr>\n",
       "    <tr>\n",
       "      <th>7468</th>\n",
       "      <td>2018-08-31</td>\n",
       "      <td>Monarch, Captive-Reared</td>\n",
       "      <td>45.048</td>\n",
       "      <td>-93.223</td>\n",
       "      <td>1</td>\n",
       "      <td>8</td>\n",
       "    </tr>\n",
       "    <tr>\n",
       "      <th>7469</th>\n",
       "      <td>2018-08-31</td>\n",
       "      <td>Monarch, Captive-Reared</td>\n",
       "      <td>46.099</td>\n",
       "      <td>-79.514</td>\n",
       "      <td>2385</td>\n",
       "      <td>8</td>\n",
       "    </tr>\n",
       "  </tbody>\n",
       "</table>\n",
       "</div>"
      ],
      "text/plain": [
       "     sighting_date                  species  latitude  longitude  number  \\\n",
       "7465    2018-08-31  Monarch, Captive-Reared    43.751    -79.229       7   \n",
       "7466    2018-08-31  Monarch, Captive-Reared    43.782    -74.265      14   \n",
       "7467    2018-08-31  Monarch, Captive-Reared    44.648    -83.304       2   \n",
       "7468    2018-08-31  Monarch, Captive-Reared    45.048    -93.223       1   \n",
       "7469    2018-08-31  Monarch, Captive-Reared    46.099    -79.514    2385   \n",
       "\n",
       "      month  \n",
       "7465      8  \n",
       "7466      8  \n",
       "7467      8  \n",
       "7468      8  \n",
       "7469      8  "
      ]
     },
     "execution_count": 223,
     "metadata": {},
     "output_type": "execute_result"
    }
   ],
   "source": [
    "JNorth_Captive_Reared_2018_month_df =pd.DataFrame(JNorth_Captive_Reared_2018_df)\n",
    "JNorth_Captive_Reared_2018_8_df = JNorth_Captive_Reared_2018_month_df[JNorth_Captive_Reared_2018_month_df['month']==8]\n",
    "JNorth_Captive_Reared_2018_8_df.tail()"
   ]
  },
  {
   "cell_type": "code",
   "execution_count": 224,
   "id": "ac0f88df",
   "metadata": {},
   "outputs": [
    {
     "data": {
      "text/plain": [
       "(956, 6)"
      ]
     },
     "execution_count": 224,
     "metadata": {},
     "output_type": "execute_result"
    }
   ],
   "source": [
    "JNorth_Captive_Reared_2018_8_df.shape"
   ]
  },
  {
   "cell_type": "code",
   "execution_count": 225,
   "id": "a227591e",
   "metadata": {},
   "outputs": [
    {
     "name": "stderr",
     "output_type": "stream",
     "text": [
      "C:\\Users\\motte\\anaconda3\\envs\\mlenv\\lib\\site-packages\\pandas\\core\\frame.py:4913: SettingWithCopyWarning: \n",
      "A value is trying to be set on a copy of a slice from a DataFrame\n",
      "\n",
      "See the caveats in the documentation: https://pandas.pydata.org/pandas-docs/stable/user_guide/indexing.html#returning-a-view-versus-a-copy\n",
      "  errors=errors,\n"
     ]
    }
   ],
   "source": [
    "JNorth_Captive_Reared_2018_8_df.drop(['month'], axis=1, inplace=True)"
   ]
  },
  {
   "cell_type": "code",
   "execution_count": 226,
   "id": "4e211578",
   "metadata": {},
   "outputs": [
    {
     "name": "stderr",
     "output_type": "stream",
     "text": [
      "C:\\Users\\motte\\anaconda3\\envs\\mlenv\\lib\\site-packages\\ipykernel_launcher.py:2: SettingWithCopyWarning: \n",
      "A value is trying to be set on a copy of a slice from a DataFrame.\n",
      "Try using .loc[row_indexer,col_indexer] = value instead\n",
      "\n",
      "See the caveats in the documentation: https://pandas.pydata.org/pandas-docs/stable/user_guide/indexing.html#returning-a-view-versus-a-copy\n",
      "  \n",
      "C:\\Users\\motte\\anaconda3\\envs\\mlenv\\lib\\site-packages\\ipykernel_launcher.py:3: SettingWithCopyWarning: \n",
      "A value is trying to be set on a copy of a slice from a DataFrame.\n",
      "Try using .loc[row_indexer,col_indexer] = value instead\n",
      "\n",
      "See the caveats in the documentation: https://pandas.pydata.org/pandas-docs/stable/user_guide/indexing.html#returning-a-view-versus-a-copy\n",
      "  This is separate from the ipykernel package so we can avoid doing imports until\n"
     ]
    }
   ],
   "source": [
    "# convert lat-long to floats and change address from ALL CAPS to regular capitalization\n",
    "JNorth_Captive_Reared_2018_8_df['latitude'] = JNorth_Captive_Reared_2018_8_df['latitude'].astype(float)\n",
    "JNorth_Captive_Reared_2018_8_df['longitude'] = JNorth_Captive_Reared_2018_8_df['longitude'].astype(float)\n",
    "# JNorth_Milkweed_Site_df['street_address'] = JNorth_Milkweed_Site_df['street_address'].str.title()"
   ]
  },
  {
   "cell_type": "code",
   "execution_count": 227,
   "id": "01db8160",
   "metadata": {},
   "outputs": [],
   "source": [
    "geojson = df_to_geojson(JNorth_Captive_Reared_2018_8_df, cols)"
   ]
  },
  {
   "cell_type": "code",
   "execution_count": 228,
   "id": "3fdff8db",
   "metadata": {},
   "outputs": [],
   "source": [
    "file = open(\"JNorth_Captive_Reared_2018_8.geojson\", \"w\")\n",
    "json.dump(geojson, file, indent =1)\n",
    "file.close()"
   ]
  },
  {
   "cell_type": "markdown",
   "id": "15eef5a5",
   "metadata": {},
   "source": [
    "## September"
   ]
  },
  {
   "cell_type": "code",
   "execution_count": 229,
   "id": "4201b041",
   "metadata": {},
   "outputs": [
    {
     "data": {
      "text/html": [
       "<div>\n",
       "<style scoped>\n",
       "    .dataframe tbody tr th:only-of-type {\n",
       "        vertical-align: middle;\n",
       "    }\n",
       "\n",
       "    .dataframe tbody tr th {\n",
       "        vertical-align: top;\n",
       "    }\n",
       "\n",
       "    .dataframe thead th {\n",
       "        text-align: right;\n",
       "    }\n",
       "</style>\n",
       "<table border=\"1\" class=\"dataframe\">\n",
       "  <thead>\n",
       "    <tr style=\"text-align: right;\">\n",
       "      <th></th>\n",
       "      <th>sighting_date</th>\n",
       "      <th>species</th>\n",
       "      <th>latitude</th>\n",
       "      <th>longitude</th>\n",
       "      <th>number</th>\n",
       "      <th>month</th>\n",
       "    </tr>\n",
       "  </thead>\n",
       "  <tbody>\n",
       "    <tr>\n",
       "      <th>8687</th>\n",
       "      <td>2018-09-30</td>\n",
       "      <td>Monarch, Captive-Reared</td>\n",
       "      <td>41.870</td>\n",
       "      <td>-70.002</td>\n",
       "      <td>6</td>\n",
       "      <td>9</td>\n",
       "    </tr>\n",
       "    <tr>\n",
       "      <th>8688</th>\n",
       "      <td>2018-09-30</td>\n",
       "      <td>Monarch, Captive-Reared</td>\n",
       "      <td>41.953</td>\n",
       "      <td>-73.792</td>\n",
       "      <td>29</td>\n",
       "      <td>9</td>\n",
       "    </tr>\n",
       "    <tr>\n",
       "      <th>8689</th>\n",
       "      <td>2018-09-30</td>\n",
       "      <td>Monarch, Captive-Reared</td>\n",
       "      <td>42.255</td>\n",
       "      <td>-83.781</td>\n",
       "      <td>5</td>\n",
       "      <td>9</td>\n",
       "    </tr>\n",
       "    <tr>\n",
       "      <th>8690</th>\n",
       "      <td>2018-09-30</td>\n",
       "      <td>Monarch, Captive-Reared</td>\n",
       "      <td>43.025</td>\n",
       "      <td>-89.291</td>\n",
       "      <td>1</td>\n",
       "      <td>9</td>\n",
       "    </tr>\n",
       "    <tr>\n",
       "      <th>8691</th>\n",
       "      <td>2018-09-30</td>\n",
       "      <td>Monarch, Captive-Reared</td>\n",
       "      <td>43.557</td>\n",
       "      <td>-96.722</td>\n",
       "      <td>10</td>\n",
       "      <td>9</td>\n",
       "    </tr>\n",
       "  </tbody>\n",
       "</table>\n",
       "</div>"
      ],
      "text/plain": [
       "     sighting_date                  species  latitude  longitude  number  \\\n",
       "8687    2018-09-30  Monarch, Captive-Reared    41.870    -70.002       6   \n",
       "8688    2018-09-30  Monarch, Captive-Reared    41.953    -73.792      29   \n",
       "8689    2018-09-30  Monarch, Captive-Reared    42.255    -83.781       5   \n",
       "8690    2018-09-30  Monarch, Captive-Reared    43.025    -89.291       1   \n",
       "8691    2018-09-30  Monarch, Captive-Reared    43.557    -96.722      10   \n",
       "\n",
       "      month  \n",
       "8687      9  \n",
       "8688      9  \n",
       "8689      9  \n",
       "8690      9  \n",
       "8691      9  "
      ]
     },
     "execution_count": 229,
     "metadata": {},
     "output_type": "execute_result"
    }
   ],
   "source": [
    "JNorth_Captive_Reared_2018_month_df =pd.DataFrame(JNorth_Captive_Reared_2018_df)\n",
    "JNorth_Captive_Reared_2018_9_df = JNorth_Captive_Reared_2018_month_df[JNorth_Captive_Reared_2018_month_df['month']==9]\n",
    "JNorth_Captive_Reared_2018_9_df.tail()"
   ]
  },
  {
   "cell_type": "code",
   "execution_count": 230,
   "id": "516fca91",
   "metadata": {},
   "outputs": [
    {
     "data": {
      "text/plain": [
       "(1222, 6)"
      ]
     },
     "execution_count": 230,
     "metadata": {},
     "output_type": "execute_result"
    }
   ],
   "source": [
    "JNorth_Captive_Reared_2018_9_df.shape"
   ]
  },
  {
   "cell_type": "code",
   "execution_count": 231,
   "id": "a6b91576",
   "metadata": {},
   "outputs": [
    {
     "name": "stderr",
     "output_type": "stream",
     "text": [
      "C:\\Users\\motte\\anaconda3\\envs\\mlenv\\lib\\site-packages\\pandas\\core\\frame.py:4913: SettingWithCopyWarning: \n",
      "A value is trying to be set on a copy of a slice from a DataFrame\n",
      "\n",
      "See the caveats in the documentation: https://pandas.pydata.org/pandas-docs/stable/user_guide/indexing.html#returning-a-view-versus-a-copy\n",
      "  errors=errors,\n"
     ]
    }
   ],
   "source": [
    "JNorth_Captive_Reared_2018_9_df.drop(['month'], axis=1, inplace=True)"
   ]
  },
  {
   "cell_type": "code",
   "execution_count": 232,
   "id": "8033ae13",
   "metadata": {},
   "outputs": [
    {
     "name": "stderr",
     "output_type": "stream",
     "text": [
      "C:\\Users\\motte\\anaconda3\\envs\\mlenv\\lib\\site-packages\\ipykernel_launcher.py:2: SettingWithCopyWarning: \n",
      "A value is trying to be set on a copy of a slice from a DataFrame.\n",
      "Try using .loc[row_indexer,col_indexer] = value instead\n",
      "\n",
      "See the caveats in the documentation: https://pandas.pydata.org/pandas-docs/stable/user_guide/indexing.html#returning-a-view-versus-a-copy\n",
      "  \n",
      "C:\\Users\\motte\\anaconda3\\envs\\mlenv\\lib\\site-packages\\ipykernel_launcher.py:3: SettingWithCopyWarning: \n",
      "A value is trying to be set on a copy of a slice from a DataFrame.\n",
      "Try using .loc[row_indexer,col_indexer] = value instead\n",
      "\n",
      "See the caveats in the documentation: https://pandas.pydata.org/pandas-docs/stable/user_guide/indexing.html#returning-a-view-versus-a-copy\n",
      "  This is separate from the ipykernel package so we can avoid doing imports until\n"
     ]
    }
   ],
   "source": [
    "# convert lat-long to floats and change address from ALL CAPS to regular capitalization\n",
    "JNorth_Captive_Reared_2018_9_df['latitude'] = JNorth_Captive_Reared_2018_9_df['latitude'].astype(float)\n",
    "JNorth_Captive_Reared_2018_9_df['longitude'] = JNorth_Captive_Reared_2018_9_df['longitude'].astype(float)\n",
    "# JNorth_Milkweed_Site_df['street_address'] = JNorth_Milkweed_Site_df['street_address'].str.title()"
   ]
  },
  {
   "cell_type": "code",
   "execution_count": 233,
   "id": "da8fe8ce",
   "metadata": {},
   "outputs": [],
   "source": [
    "geojson = df_to_geojson(JNorth_Captive_Reared_2018_9_df, cols)"
   ]
  },
  {
   "cell_type": "code",
   "execution_count": 234,
   "id": "13e5f165",
   "metadata": {},
   "outputs": [],
   "source": [
    "file = open(\"JNorth_Captive_Reared_2018_9.geojson\", \"w\")\n",
    "json.dump(geojson, file, indent =1)\n",
    "file.close()"
   ]
  },
  {
   "cell_type": "markdown",
   "id": "ae2cb912",
   "metadata": {},
   "source": [
    "## October"
   ]
  },
  {
   "cell_type": "code",
   "execution_count": 235,
   "id": "4f1607ef",
   "metadata": {},
   "outputs": [
    {
     "data": {
      "text/html": [
       "<div>\n",
       "<style scoped>\n",
       "    .dataframe tbody tr th:only-of-type {\n",
       "        vertical-align: middle;\n",
       "    }\n",
       "\n",
       "    .dataframe tbody tr th {\n",
       "        vertical-align: top;\n",
       "    }\n",
       "\n",
       "    .dataframe thead th {\n",
       "        text-align: right;\n",
       "    }\n",
       "</style>\n",
       "<table border=\"1\" class=\"dataframe\">\n",
       "  <thead>\n",
       "    <tr style=\"text-align: right;\">\n",
       "      <th></th>\n",
       "      <th>sighting_date</th>\n",
       "      <th>species</th>\n",
       "      <th>latitude</th>\n",
       "      <th>longitude</th>\n",
       "      <th>number</th>\n",
       "      <th>month</th>\n",
       "    </tr>\n",
       "  </thead>\n",
       "  <tbody>\n",
       "    <tr>\n",
       "      <th>8974</th>\n",
       "      <td>2018-10-30</td>\n",
       "      <td>Monarch, Captive-Reared</td>\n",
       "      <td>26.368</td>\n",
       "      <td>-80.129</td>\n",
       "      <td>10</td>\n",
       "      <td>10</td>\n",
       "    </tr>\n",
       "    <tr>\n",
       "      <th>8975</th>\n",
       "      <td>2018-10-30</td>\n",
       "      <td>Monarch, Captive-Reared</td>\n",
       "      <td>33.214</td>\n",
       "      <td>-96.937</td>\n",
       "      <td>6</td>\n",
       "      <td>10</td>\n",
       "    </tr>\n",
       "    <tr>\n",
       "      <th>8976</th>\n",
       "      <td>2018-10-30</td>\n",
       "      <td>Monarch, Captive-Reared</td>\n",
       "      <td>41.945</td>\n",
       "      <td>-76.515</td>\n",
       "      <td>2</td>\n",
       "      <td>10</td>\n",
       "    </tr>\n",
       "    <tr>\n",
       "      <th>8977</th>\n",
       "      <td>2018-10-31</td>\n",
       "      <td>Monarch, Captive-Reared</td>\n",
       "      <td>33.214</td>\n",
       "      <td>-96.937</td>\n",
       "      <td>5</td>\n",
       "      <td>10</td>\n",
       "    </tr>\n",
       "    <tr>\n",
       "      <th>8978</th>\n",
       "      <td>2018-10-31</td>\n",
       "      <td>Monarch, Captive-Reared</td>\n",
       "      <td>34.181</td>\n",
       "      <td>-118.842</td>\n",
       "      <td>9</td>\n",
       "      <td>10</td>\n",
       "    </tr>\n",
       "  </tbody>\n",
       "</table>\n",
       "</div>"
      ],
      "text/plain": [
       "     sighting_date                  species  latitude  longitude  number  \\\n",
       "8974    2018-10-30  Monarch, Captive-Reared    26.368    -80.129      10   \n",
       "8975    2018-10-30  Monarch, Captive-Reared    33.214    -96.937       6   \n",
       "8976    2018-10-30  Monarch, Captive-Reared    41.945    -76.515       2   \n",
       "8977    2018-10-31  Monarch, Captive-Reared    33.214    -96.937       5   \n",
       "8978    2018-10-31  Monarch, Captive-Reared    34.181   -118.842       9   \n",
       "\n",
       "      month  \n",
       "8974     10  \n",
       "8975     10  \n",
       "8976     10  \n",
       "8977     10  \n",
       "8978     10  "
      ]
     },
     "execution_count": 235,
     "metadata": {},
     "output_type": "execute_result"
    }
   ],
   "source": [
    "JNorth_Captive_Reared_2018_month_df =pd.DataFrame(JNorth_Captive_Reared_2018_df)\n",
    "JNorth_Captive_Reared_2018_10_df = JNorth_Captive_Reared_2018_month_df[JNorth_Captive_Reared_2018_month_df['month']==10]\n",
    "JNorth_Captive_Reared_2018_10_df.tail()"
   ]
  },
  {
   "cell_type": "code",
   "execution_count": 236,
   "id": "a53315bd",
   "metadata": {},
   "outputs": [
    {
     "data": {
      "text/plain": [
       "(287, 6)"
      ]
     },
     "execution_count": 236,
     "metadata": {},
     "output_type": "execute_result"
    }
   ],
   "source": [
    "JNorth_Captive_Reared_2018_10_df.shape"
   ]
  },
  {
   "cell_type": "code",
   "execution_count": 237,
   "id": "3d9e0ab1",
   "metadata": {},
   "outputs": [
    {
     "name": "stderr",
     "output_type": "stream",
     "text": [
      "C:\\Users\\motte\\anaconda3\\envs\\mlenv\\lib\\site-packages\\pandas\\core\\frame.py:4913: SettingWithCopyWarning: \n",
      "A value is trying to be set on a copy of a slice from a DataFrame\n",
      "\n",
      "See the caveats in the documentation: https://pandas.pydata.org/pandas-docs/stable/user_guide/indexing.html#returning-a-view-versus-a-copy\n",
      "  errors=errors,\n"
     ]
    }
   ],
   "source": [
    "JNorth_Captive_Reared_2018_10_df.drop(['month'], axis=1, inplace=True)"
   ]
  },
  {
   "cell_type": "code",
   "execution_count": 238,
   "id": "0727e4cf",
   "metadata": {},
   "outputs": [
    {
     "name": "stderr",
     "output_type": "stream",
     "text": [
      "C:\\Users\\motte\\anaconda3\\envs\\mlenv\\lib\\site-packages\\ipykernel_launcher.py:2: SettingWithCopyWarning: \n",
      "A value is trying to be set on a copy of a slice from a DataFrame.\n",
      "Try using .loc[row_indexer,col_indexer] = value instead\n",
      "\n",
      "See the caveats in the documentation: https://pandas.pydata.org/pandas-docs/stable/user_guide/indexing.html#returning-a-view-versus-a-copy\n",
      "  \n",
      "C:\\Users\\motte\\anaconda3\\envs\\mlenv\\lib\\site-packages\\ipykernel_launcher.py:3: SettingWithCopyWarning: \n",
      "A value is trying to be set on a copy of a slice from a DataFrame.\n",
      "Try using .loc[row_indexer,col_indexer] = value instead\n",
      "\n",
      "See the caveats in the documentation: https://pandas.pydata.org/pandas-docs/stable/user_guide/indexing.html#returning-a-view-versus-a-copy\n",
      "  This is separate from the ipykernel package so we can avoid doing imports until\n"
     ]
    }
   ],
   "source": [
    "# convert lat-long to floats and change address from ALL CAPS to regular capitalization\n",
    "JNorth_Captive_Reared_2018_10_df['latitude'] = JNorth_Captive_Reared_2018_10_df['latitude'].astype(float)\n",
    "JNorth_Captive_Reared_2018_10_df['longitude'] = JNorth_Captive_Reared_2018_10_df['longitude'].astype(float)\n",
    "# JNorth_Milkweed_Site_df['street_address'] = JNorth_Milkweed_Site_df['street_address'].str.title()"
   ]
  },
  {
   "cell_type": "code",
   "execution_count": 239,
   "id": "a86f9fa3",
   "metadata": {},
   "outputs": [],
   "source": [
    "geojson = df_to_geojson(JNorth_Captive_Reared_2018_10_df, cols)"
   ]
  },
  {
   "cell_type": "code",
   "execution_count": 240,
   "id": "99899523",
   "metadata": {},
   "outputs": [],
   "source": [
    "file = open(\"JNorth_Captive_Reared_2018_10.geojson\", \"w\")\n",
    "json.dump(geojson, file, indent =1)\n",
    "file.close()"
   ]
  },
  {
   "cell_type": "markdown",
   "id": "4b968d63",
   "metadata": {},
   "source": [
    "## November"
   ]
  },
  {
   "cell_type": "code",
   "execution_count": 241,
   "id": "2c7b2095",
   "metadata": {},
   "outputs": [
    {
     "data": {
      "text/html": [
       "<div>\n",
       "<style scoped>\n",
       "    .dataframe tbody tr th:only-of-type {\n",
       "        vertical-align: middle;\n",
       "    }\n",
       "\n",
       "    .dataframe tbody tr th {\n",
       "        vertical-align: top;\n",
       "    }\n",
       "\n",
       "    .dataframe thead th {\n",
       "        text-align: right;\n",
       "    }\n",
       "</style>\n",
       "<table border=\"1\" class=\"dataframe\">\n",
       "  <thead>\n",
       "    <tr style=\"text-align: right;\">\n",
       "      <th></th>\n",
       "      <th>sighting_date</th>\n",
       "      <th>species</th>\n",
       "      <th>latitude</th>\n",
       "      <th>longitude</th>\n",
       "      <th>number</th>\n",
       "      <th>month</th>\n",
       "    </tr>\n",
       "  </thead>\n",
       "  <tbody>\n",
       "    <tr>\n",
       "      <th>9017</th>\n",
       "      <td>2018-11-17</td>\n",
       "      <td>Monarch, Captive-Reared</td>\n",
       "      <td>28.320</td>\n",
       "      <td>-80.608</td>\n",
       "      <td>1</td>\n",
       "      <td>11</td>\n",
       "    </tr>\n",
       "    <tr>\n",
       "      <th>9018</th>\n",
       "      <td>2018-11-18</td>\n",
       "      <td>Monarch, Captive-Reared</td>\n",
       "      <td>30.460</td>\n",
       "      <td>-89.071</td>\n",
       "      <td>14</td>\n",
       "      <td>11</td>\n",
       "    </tr>\n",
       "    <tr>\n",
       "      <th>9019</th>\n",
       "      <td>2018-11-24</td>\n",
       "      <td>Monarch, Captive-Reared</td>\n",
       "      <td>39.010</td>\n",
       "      <td>-94.674</td>\n",
       "      <td>1</td>\n",
       "      <td>11</td>\n",
       "    </tr>\n",
       "    <tr>\n",
       "      <th>9020</th>\n",
       "      <td>2018-11-25</td>\n",
       "      <td>Monarch, Captive-Reared</td>\n",
       "      <td>35.507</td>\n",
       "      <td>-80.855</td>\n",
       "      <td>1</td>\n",
       "      <td>11</td>\n",
       "    </tr>\n",
       "    <tr>\n",
       "      <th>9021</th>\n",
       "      <td>2018-11-30</td>\n",
       "      <td>Monarch, Captive-Reared</td>\n",
       "      <td>33.884</td>\n",
       "      <td>-118.307</td>\n",
       "      <td>8</td>\n",
       "      <td>11</td>\n",
       "    </tr>\n",
       "  </tbody>\n",
       "</table>\n",
       "</div>"
      ],
      "text/plain": [
       "     sighting_date                  species  latitude  longitude  number  \\\n",
       "9017    2018-11-17  Monarch, Captive-Reared    28.320    -80.608       1   \n",
       "9018    2018-11-18  Monarch, Captive-Reared    30.460    -89.071      14   \n",
       "9019    2018-11-24  Monarch, Captive-Reared    39.010    -94.674       1   \n",
       "9020    2018-11-25  Monarch, Captive-Reared    35.507    -80.855       1   \n",
       "9021    2018-11-30  Monarch, Captive-Reared    33.884   -118.307       8   \n",
       "\n",
       "      month  \n",
       "9017     11  \n",
       "9018     11  \n",
       "9019     11  \n",
       "9020     11  \n",
       "9021     11  "
      ]
     },
     "execution_count": 241,
     "metadata": {},
     "output_type": "execute_result"
    }
   ],
   "source": [
    "JNorth_Captive_Reared_2018_month_df =pd.DataFrame(JNorth_Captive_Reared_2018_df)\n",
    "JNorth_Captive_Reared_2018_11_df = JNorth_Captive_Reared_2018_month_df[JNorth_Captive_Reared_2018_month_df['month']==11]\n",
    "JNorth_Captive_Reared_2018_11_df.tail()"
   ]
  },
  {
   "cell_type": "code",
   "execution_count": 242,
   "id": "fc92dbf5",
   "metadata": {},
   "outputs": [
    {
     "data": {
      "text/plain": [
       "(43, 6)"
      ]
     },
     "execution_count": 242,
     "metadata": {},
     "output_type": "execute_result"
    }
   ],
   "source": [
    "JNorth_Captive_Reared_2018_11_df.shape"
   ]
  },
  {
   "cell_type": "code",
   "execution_count": 243,
   "id": "f87961bf",
   "metadata": {},
   "outputs": [
    {
     "name": "stderr",
     "output_type": "stream",
     "text": [
      "C:\\Users\\motte\\anaconda3\\envs\\mlenv\\lib\\site-packages\\pandas\\core\\frame.py:4913: SettingWithCopyWarning: \n",
      "A value is trying to be set on a copy of a slice from a DataFrame\n",
      "\n",
      "See the caveats in the documentation: https://pandas.pydata.org/pandas-docs/stable/user_guide/indexing.html#returning-a-view-versus-a-copy\n",
      "  errors=errors,\n"
     ]
    }
   ],
   "source": [
    "JNorth_Captive_Reared_2018_11_df.drop(['month'], axis=1, inplace=True)"
   ]
  },
  {
   "cell_type": "code",
   "execution_count": 244,
   "id": "bfa4940c",
   "metadata": {},
   "outputs": [
    {
     "name": "stderr",
     "output_type": "stream",
     "text": [
      "C:\\Users\\motte\\anaconda3\\envs\\mlenv\\lib\\site-packages\\ipykernel_launcher.py:2: SettingWithCopyWarning: \n",
      "A value is trying to be set on a copy of a slice from a DataFrame.\n",
      "Try using .loc[row_indexer,col_indexer] = value instead\n",
      "\n",
      "See the caveats in the documentation: https://pandas.pydata.org/pandas-docs/stable/user_guide/indexing.html#returning-a-view-versus-a-copy\n",
      "  \n",
      "C:\\Users\\motte\\anaconda3\\envs\\mlenv\\lib\\site-packages\\ipykernel_launcher.py:3: SettingWithCopyWarning: \n",
      "A value is trying to be set on a copy of a slice from a DataFrame.\n",
      "Try using .loc[row_indexer,col_indexer] = value instead\n",
      "\n",
      "See the caveats in the documentation: https://pandas.pydata.org/pandas-docs/stable/user_guide/indexing.html#returning-a-view-versus-a-copy\n",
      "  This is separate from the ipykernel package so we can avoid doing imports until\n"
     ]
    }
   ],
   "source": [
    "# convert lat-long to floats and change address from ALL CAPS to regular capitalization\n",
    "JNorth_Captive_Reared_2018_11_df['latitude'] = JNorth_Captive_Reared_2018_11_df['latitude'].astype(float)\n",
    "JNorth_Captive_Reared_2018_11_df['longitude'] = JNorth_Captive_Reared_2018_11_df['longitude'].astype(float)\n",
    "# JNorth_Milkweed_Site_df['street_address'] = JNorth_Milkweed_Site_df['street_address'].str.title()"
   ]
  },
  {
   "cell_type": "code",
   "execution_count": 245,
   "id": "2d6164a8",
   "metadata": {},
   "outputs": [],
   "source": [
    "geojson = df_to_geojson(JNorth_Captive_Reared_2018_11_df, cols)"
   ]
  },
  {
   "cell_type": "code",
   "execution_count": 246,
   "id": "56e38bba",
   "metadata": {},
   "outputs": [],
   "source": [
    "file = open(\"JNorth_Captive_Reared_2018_11.geojson\", \"w\")\n",
    "json.dump(geojson, file, indent =1)\n",
    "file.close()"
   ]
  },
  {
   "cell_type": "markdown",
   "id": "2b8ef922",
   "metadata": {},
   "source": [
    "## December"
   ]
  },
  {
   "cell_type": "code",
   "execution_count": 247,
   "id": "af6c5f79",
   "metadata": {},
   "outputs": [
    {
     "data": {
      "text/html": [
       "<div>\n",
       "<style scoped>\n",
       "    .dataframe tbody tr th:only-of-type {\n",
       "        vertical-align: middle;\n",
       "    }\n",
       "\n",
       "    .dataframe tbody tr th {\n",
       "        vertical-align: top;\n",
       "    }\n",
       "\n",
       "    .dataframe thead th {\n",
       "        text-align: right;\n",
       "    }\n",
       "</style>\n",
       "<table border=\"1\" class=\"dataframe\">\n",
       "  <thead>\n",
       "    <tr style=\"text-align: right;\">\n",
       "      <th></th>\n",
       "      <th>sighting_date</th>\n",
       "      <th>species</th>\n",
       "      <th>latitude</th>\n",
       "      <th>longitude</th>\n",
       "      <th>number</th>\n",
       "      <th>month</th>\n",
       "    </tr>\n",
       "  </thead>\n",
       "  <tbody>\n",
       "    <tr>\n",
       "      <th>9022</th>\n",
       "      <td>2018-12-15</td>\n",
       "      <td>Monarch, Captive-Reared</td>\n",
       "      <td>33.867</td>\n",
       "      <td>-118.384</td>\n",
       "      <td>1</td>\n",
       "      <td>12</td>\n",
       "    </tr>\n",
       "    <tr>\n",
       "      <th>9023</th>\n",
       "      <td>2018-12-23</td>\n",
       "      <td>Monarch, Captive-Reared</td>\n",
       "      <td>32.743</td>\n",
       "      <td>-117.031</td>\n",
       "      <td>2</td>\n",
       "      <td>12</td>\n",
       "    </tr>\n",
       "    <tr>\n",
       "      <th>9024</th>\n",
       "      <td>2018-12-27</td>\n",
       "      <td>Monarch, Captive-Reared</td>\n",
       "      <td>27.651</td>\n",
       "      <td>-97.298</td>\n",
       "      <td>3</td>\n",
       "      <td>12</td>\n",
       "    </tr>\n",
       "    <tr>\n",
       "      <th>9025</th>\n",
       "      <td>2018-12-30</td>\n",
       "      <td>Monarch, Captive-Reared</td>\n",
       "      <td>31.214</td>\n",
       "      <td>-82.354</td>\n",
       "      <td>4</td>\n",
       "      <td>12</td>\n",
       "    </tr>\n",
       "  </tbody>\n",
       "</table>\n",
       "</div>"
      ],
      "text/plain": [
       "     sighting_date                  species  latitude  longitude  number  \\\n",
       "9022    2018-12-15  Monarch, Captive-Reared    33.867   -118.384       1   \n",
       "9023    2018-12-23  Monarch, Captive-Reared    32.743   -117.031       2   \n",
       "9024    2018-12-27  Monarch, Captive-Reared    27.651    -97.298       3   \n",
       "9025    2018-12-30  Monarch, Captive-Reared    31.214    -82.354       4   \n",
       "\n",
       "      month  \n",
       "9022     12  \n",
       "9023     12  \n",
       "9024     12  \n",
       "9025     12  "
      ]
     },
     "execution_count": 247,
     "metadata": {},
     "output_type": "execute_result"
    }
   ],
   "source": [
    "JNorth_Captive_Reared_2018_month_df =pd.DataFrame(JNorth_Captive_Reared_2018_df)\n",
    "JNorth_Captive_Reared_2018_12_df = JNorth_Captive_Reared_2018_month_df[JNorth_Captive_Reared_2018_month_df['month']==12]\n",
    "JNorth_Captive_Reared_2018_12_df.tail()"
   ]
  },
  {
   "cell_type": "code",
   "execution_count": 248,
   "id": "18b6eb6b",
   "metadata": {},
   "outputs": [
    {
     "data": {
      "text/plain": [
       "(4, 6)"
      ]
     },
     "execution_count": 248,
     "metadata": {},
     "output_type": "execute_result"
    }
   ],
   "source": [
    "JNorth_Captive_Reared_2018_12_df.shape"
   ]
  },
  {
   "cell_type": "code",
   "execution_count": 249,
   "id": "c0ea8b6c",
   "metadata": {},
   "outputs": [
    {
     "name": "stderr",
     "output_type": "stream",
     "text": [
      "C:\\Users\\motte\\anaconda3\\envs\\mlenv\\lib\\site-packages\\pandas\\core\\frame.py:4913: SettingWithCopyWarning: \n",
      "A value is trying to be set on a copy of a slice from a DataFrame\n",
      "\n",
      "See the caveats in the documentation: https://pandas.pydata.org/pandas-docs/stable/user_guide/indexing.html#returning-a-view-versus-a-copy\n",
      "  errors=errors,\n"
     ]
    }
   ],
   "source": [
    "JNorth_Captive_Reared_2018_12_df.drop(['month'], axis=1, inplace=True)"
   ]
  },
  {
   "cell_type": "code",
   "execution_count": 250,
   "id": "778d493b",
   "metadata": {},
   "outputs": [
    {
     "name": "stderr",
     "output_type": "stream",
     "text": [
      "C:\\Users\\motte\\anaconda3\\envs\\mlenv\\lib\\site-packages\\ipykernel_launcher.py:2: SettingWithCopyWarning: \n",
      "A value is trying to be set on a copy of a slice from a DataFrame.\n",
      "Try using .loc[row_indexer,col_indexer] = value instead\n",
      "\n",
      "See the caveats in the documentation: https://pandas.pydata.org/pandas-docs/stable/user_guide/indexing.html#returning-a-view-versus-a-copy\n",
      "  \n",
      "C:\\Users\\motte\\anaconda3\\envs\\mlenv\\lib\\site-packages\\ipykernel_launcher.py:3: SettingWithCopyWarning: \n",
      "A value is trying to be set on a copy of a slice from a DataFrame.\n",
      "Try using .loc[row_indexer,col_indexer] = value instead\n",
      "\n",
      "See the caveats in the documentation: https://pandas.pydata.org/pandas-docs/stable/user_guide/indexing.html#returning-a-view-versus-a-copy\n",
      "  This is separate from the ipykernel package so we can avoid doing imports until\n"
     ]
    }
   ],
   "source": [
    "# convert lat-long to floats and change address from ALL CAPS to regular capitalization\n",
    "JNorth_Captive_Reared_2018_12_df['latitude'] = JNorth_Captive_Reared_2018_12_df['latitude'].astype(float)\n",
    "JNorth_Captive_Reared_2018_12_df['longitude'] = JNorth_Captive_Reared_2018_12_df['longitude'].astype(float)\n",
    "# JNorth_Milkweed_Site_df['street_address'] = JNorth_Milkweed_Site_df['street_address'].str.title()"
   ]
  },
  {
   "cell_type": "code",
   "execution_count": 251,
   "id": "417d2972",
   "metadata": {},
   "outputs": [],
   "source": [
    "geojson = df_to_geojson(JNorth_Captive_Reared_2018_12_df, cols)"
   ]
  },
  {
   "cell_type": "code",
   "execution_count": 252,
   "id": "2a518380",
   "metadata": {},
   "outputs": [],
   "source": [
    "file = open(\"JNorth_Captive_Reared_2018_12.geojson\", \"w\")\n",
    "json.dump(geojson, file, indent =1)\n",
    "file.close()"
   ]
  },
  {
   "cell_type": "code",
   "execution_count": null,
   "id": "8fde0d62",
   "metadata": {},
   "outputs": [],
   "source": []
  },
  {
   "cell_type": "code",
   "execution_count": null,
   "id": "f5c54fe1",
   "metadata": {},
   "outputs": [],
   "source": []
  },
  {
   "cell_type": "markdown",
   "id": "37696255",
   "metadata": {},
   "source": [
    "# 2019"
   ]
  },
  {
   "cell_type": "code",
   "execution_count": 253,
   "id": "c5711fe9",
   "metadata": {},
   "outputs": [
    {
     "data": {
      "text/html": [
       "<div>\n",
       "<style scoped>\n",
       "    .dataframe tbody tr th:only-of-type {\n",
       "        vertical-align: middle;\n",
       "    }\n",
       "\n",
       "    .dataframe tbody tr th {\n",
       "        vertical-align: top;\n",
       "    }\n",
       "\n",
       "    .dataframe thead th {\n",
       "        text-align: right;\n",
       "    }\n",
       "</style>\n",
       "<table border=\"1\" class=\"dataframe\">\n",
       "  <thead>\n",
       "    <tr style=\"text-align: right;\">\n",
       "      <th></th>\n",
       "      <th>sighting_date</th>\n",
       "      <th>species</th>\n",
       "      <th>latitude</th>\n",
       "      <th>longitude</th>\n",
       "      <th>number</th>\n",
       "      <th>year</th>\n",
       "    </tr>\n",
       "  </thead>\n",
       "  <tbody>\n",
       "    <tr>\n",
       "      <th>11350</th>\n",
       "      <td>2019-12-20</td>\n",
       "      <td>Monarch, Captive-Reared</td>\n",
       "      <td>32.740</td>\n",
       "      <td>-116.995</td>\n",
       "      <td>1</td>\n",
       "      <td>2019</td>\n",
       "    </tr>\n",
       "    <tr>\n",
       "      <th>11351</th>\n",
       "      <td>2019-12-21</td>\n",
       "      <td>Monarch, Captive-Reared</td>\n",
       "      <td>33.560</td>\n",
       "      <td>-81.720</td>\n",
       "      <td>1</td>\n",
       "      <td>2019</td>\n",
       "    </tr>\n",
       "    <tr>\n",
       "      <th>11352</th>\n",
       "      <td>2019-12-24</td>\n",
       "      <td>Monarch, Captive-Reared</td>\n",
       "      <td>34.181</td>\n",
       "      <td>-118.945</td>\n",
       "      <td>1</td>\n",
       "      <td>2019</td>\n",
       "    </tr>\n",
       "    <tr>\n",
       "      <th>11353</th>\n",
       "      <td>2019-12-26</td>\n",
       "      <td>Monarch, Captive-Reared</td>\n",
       "      <td>32.210</td>\n",
       "      <td>-110.782</td>\n",
       "      <td>1</td>\n",
       "      <td>2019</td>\n",
       "    </tr>\n",
       "    <tr>\n",
       "      <th>11354</th>\n",
       "      <td>2019-12-26</td>\n",
       "      <td>Monarch, Captive-Reared</td>\n",
       "      <td>37.551</td>\n",
       "      <td>-121.982</td>\n",
       "      <td>23</td>\n",
       "      <td>2019</td>\n",
       "    </tr>\n",
       "  </tbody>\n",
       "</table>\n",
       "</div>"
      ],
      "text/plain": [
       "      sighting_date                  species  latitude  longitude  number  \\\n",
       "11350    2019-12-20  Monarch, Captive-Reared    32.740   -116.995       1   \n",
       "11351    2019-12-21  Monarch, Captive-Reared    33.560    -81.720       1   \n",
       "11352    2019-12-24  Monarch, Captive-Reared    34.181   -118.945       1   \n",
       "11353    2019-12-26  Monarch, Captive-Reared    32.210   -110.782       1   \n",
       "11354    2019-12-26  Monarch, Captive-Reared    37.551   -121.982      23   \n",
       "\n",
       "       year  \n",
       "11350  2019  \n",
       "11351  2019  \n",
       "11352  2019  \n",
       "11353  2019  \n",
       "11354  2019  "
      ]
     },
     "execution_count": 253,
     "metadata": {},
     "output_type": "execute_result"
    }
   ],
   "source": [
    "JNorth_Captive_Reared_2019_df = JNorth_Captive_Reared_year_df[JNorth_Captive_Reared_year_df['year']==2019]\n",
    "JNorth_Captive_Reared_2019_df.tail()"
   ]
  },
  {
   "cell_type": "code",
   "execution_count": 254,
   "id": "aa5b49d4",
   "metadata": {},
   "outputs": [
    {
     "data": {
      "text/plain": [
       "(2329, 6)"
      ]
     },
     "execution_count": 254,
     "metadata": {},
     "output_type": "execute_result"
    }
   ],
   "source": [
    "JNorth_Captive_Reared_2019_df.shape"
   ]
  },
  {
   "cell_type": "code",
   "execution_count": 255,
   "id": "a1f18555",
   "metadata": {},
   "outputs": [
    {
     "name": "stderr",
     "output_type": "stream",
     "text": [
      "C:\\Users\\motte\\anaconda3\\envs\\mlenv\\lib\\site-packages\\pandas\\core\\frame.py:4913: SettingWithCopyWarning: \n",
      "A value is trying to be set on a copy of a slice from a DataFrame\n",
      "\n",
      "See the caveats in the documentation: https://pandas.pydata.org/pandas-docs/stable/user_guide/indexing.html#returning-a-view-versus-a-copy\n",
      "  errors=errors,\n"
     ]
    }
   ],
   "source": [
    "JNorth_Captive_Reared_2019_df.drop(['year'], axis=1, inplace=True)"
   ]
  },
  {
   "cell_type": "code",
   "execution_count": 256,
   "id": "67e0613b",
   "metadata": {},
   "outputs": [
    {
     "data": {
      "text/plain": [
       "<bound method NDFrame.tail of       sighting_date                  species  latitude  longitude  number\n",
       "9026     2019-01-01  Monarch, Captive-Reared    30.154    -85.659      30\n",
       "9027     2019-01-01  Monarch, Captive-Reared    38.275   -122.463       1\n",
       "9028     2019-01-04  Monarch, Captive-Reared    27.651    -97.298       4\n",
       "9029     2019-01-04  Monarch, Captive-Reared    38.275   -122.463       2\n",
       "9030     2019-01-05  Monarch, Captive-Reared    27.771    -82.679       1\n",
       "...             ...                      ...       ...        ...     ...\n",
       "11350    2019-12-20  Monarch, Captive-Reared    32.740   -116.995       1\n",
       "11351    2019-12-21  Monarch, Captive-Reared    33.560    -81.720       1\n",
       "11352    2019-12-24  Monarch, Captive-Reared    34.181   -118.945       1\n",
       "11353    2019-12-26  Monarch, Captive-Reared    32.210   -110.782       1\n",
       "11354    2019-12-26  Monarch, Captive-Reared    37.551   -121.982      23\n",
       "\n",
       "[2329 rows x 5 columns]>"
      ]
     },
     "execution_count": 256,
     "metadata": {},
     "output_type": "execute_result"
    }
   ],
   "source": [
    "JNorth_Captive_Reared_2019_df.tail"
   ]
  },
  {
   "cell_type": "code",
   "execution_count": 257,
   "id": "101e0e9c",
   "metadata": {},
   "outputs": [
    {
     "name": "stderr",
     "output_type": "stream",
     "text": [
      "C:\\Users\\motte\\anaconda3\\envs\\mlenv\\lib\\site-packages\\ipykernel_launcher.py:1: SettingWithCopyWarning: \n",
      "A value is trying to be set on a copy of a slice from a DataFrame.\n",
      "Try using .loc[row_indexer,col_indexer] = value instead\n",
      "\n",
      "See the caveats in the documentation: https://pandas.pydata.org/pandas-docs/stable/user_guide/indexing.html#returning-a-view-versus-a-copy\n",
      "  \"\"\"Entry point for launching an IPython kernel.\n"
     ]
    }
   ],
   "source": [
    "JNorth_Captive_Reared_2019_df['month'] = pd.DatetimeIndex(JNorth_Captive_Reared_2019_df['sighting_date']).month"
   ]
  },
  {
   "cell_type": "markdown",
   "id": "a21ec5a6",
   "metadata": {},
   "source": [
    "## January"
   ]
  },
  {
   "cell_type": "code",
   "execution_count": 258,
   "id": "cba59950",
   "metadata": {},
   "outputs": [
    {
     "data": {
      "text/html": [
       "<div>\n",
       "<style scoped>\n",
       "    .dataframe tbody tr th:only-of-type {\n",
       "        vertical-align: middle;\n",
       "    }\n",
       "\n",
       "    .dataframe tbody tr th {\n",
       "        vertical-align: top;\n",
       "    }\n",
       "\n",
       "    .dataframe thead th {\n",
       "        text-align: right;\n",
       "    }\n",
       "</style>\n",
       "<table border=\"1\" class=\"dataframe\">\n",
       "  <thead>\n",
       "    <tr style=\"text-align: right;\">\n",
       "      <th></th>\n",
       "      <th>sighting_date</th>\n",
       "      <th>species</th>\n",
       "      <th>latitude</th>\n",
       "      <th>longitude</th>\n",
       "      <th>number</th>\n",
       "      <th>month</th>\n",
       "    </tr>\n",
       "  </thead>\n",
       "  <tbody>\n",
       "    <tr>\n",
       "      <th>9041</th>\n",
       "      <td>2019-01-21</td>\n",
       "      <td>Monarch, Captive-Reared</td>\n",
       "      <td>27.651</td>\n",
       "      <td>-97.298</td>\n",
       "      <td>2</td>\n",
       "      <td>1</td>\n",
       "    </tr>\n",
       "    <tr>\n",
       "      <th>9042</th>\n",
       "      <td>2019-01-27</td>\n",
       "      <td>Monarch, Captive-Reared</td>\n",
       "      <td>27.651</td>\n",
       "      <td>-97.298</td>\n",
       "      <td>4</td>\n",
       "      <td>1</td>\n",
       "    </tr>\n",
       "    <tr>\n",
       "      <th>9043</th>\n",
       "      <td>2019-01-27</td>\n",
       "      <td>Monarch, Captive-Reared</td>\n",
       "      <td>38.232</td>\n",
       "      <td>-122.637</td>\n",
       "      <td>3</td>\n",
       "      <td>1</td>\n",
       "    </tr>\n",
       "    <tr>\n",
       "      <th>9044</th>\n",
       "      <td>2019-01-31</td>\n",
       "      <td>Monarch, Captive-Reared</td>\n",
       "      <td>27.651</td>\n",
       "      <td>-97.298</td>\n",
       "      <td>2</td>\n",
       "      <td>1</td>\n",
       "    </tr>\n",
       "    <tr>\n",
       "      <th>9045</th>\n",
       "      <td>2019-01-31</td>\n",
       "      <td>Monarch, Captive-Reared</td>\n",
       "      <td>33.884</td>\n",
       "      <td>-118.307</td>\n",
       "      <td>6</td>\n",
       "      <td>1</td>\n",
       "    </tr>\n",
       "  </tbody>\n",
       "</table>\n",
       "</div>"
      ],
      "text/plain": [
       "     sighting_date                  species  latitude  longitude  number  \\\n",
       "9041    2019-01-21  Monarch, Captive-Reared    27.651    -97.298       2   \n",
       "9042    2019-01-27  Monarch, Captive-Reared    27.651    -97.298       4   \n",
       "9043    2019-01-27  Monarch, Captive-Reared    38.232   -122.637       3   \n",
       "9044    2019-01-31  Monarch, Captive-Reared    27.651    -97.298       2   \n",
       "9045    2019-01-31  Monarch, Captive-Reared    33.884   -118.307       6   \n",
       "\n",
       "      month  \n",
       "9041      1  \n",
       "9042      1  \n",
       "9043      1  \n",
       "9044      1  \n",
       "9045      1  "
      ]
     },
     "execution_count": 258,
     "metadata": {},
     "output_type": "execute_result"
    }
   ],
   "source": [
    "JNorth_Captive_Reared_2019_month_df =pd.DataFrame(JNorth_Captive_Reared_2019_df)\n",
    "JNorth_Captive_Reared_2019_1_df = JNorth_Captive_Reared_2019_month_df[JNorth_Captive_Reared_2019_month_df['month']==1]\n",
    "JNorth_Captive_Reared_2019_1_df.tail()"
   ]
  },
  {
   "cell_type": "code",
   "execution_count": 259,
   "id": "e4f50cc1",
   "metadata": {},
   "outputs": [
    {
     "data": {
      "text/plain": [
       "(20, 6)"
      ]
     },
     "execution_count": 259,
     "metadata": {},
     "output_type": "execute_result"
    }
   ],
   "source": [
    "JNorth_Captive_Reared_2019_1_df.shape"
   ]
  },
  {
   "cell_type": "code",
   "execution_count": 260,
   "id": "6648dc94",
   "metadata": {},
   "outputs": [
    {
     "name": "stderr",
     "output_type": "stream",
     "text": [
      "C:\\Users\\motte\\anaconda3\\envs\\mlenv\\lib\\site-packages\\pandas\\core\\frame.py:4913: SettingWithCopyWarning: \n",
      "A value is trying to be set on a copy of a slice from a DataFrame\n",
      "\n",
      "See the caveats in the documentation: https://pandas.pydata.org/pandas-docs/stable/user_guide/indexing.html#returning-a-view-versus-a-copy\n",
      "  errors=errors,\n"
     ]
    }
   ],
   "source": [
    "JNorth_Captive_Reared_2019_1_df.drop(['month'], axis=1, inplace=True)"
   ]
  },
  {
   "cell_type": "code",
   "execution_count": 261,
   "id": "4b0457dd",
   "metadata": {},
   "outputs": [
    {
     "name": "stderr",
     "output_type": "stream",
     "text": [
      "C:\\Users\\motte\\anaconda3\\envs\\mlenv\\lib\\site-packages\\ipykernel_launcher.py:2: SettingWithCopyWarning: \n",
      "A value is trying to be set on a copy of a slice from a DataFrame.\n",
      "Try using .loc[row_indexer,col_indexer] = value instead\n",
      "\n",
      "See the caveats in the documentation: https://pandas.pydata.org/pandas-docs/stable/user_guide/indexing.html#returning-a-view-versus-a-copy\n",
      "  \n",
      "C:\\Users\\motte\\anaconda3\\envs\\mlenv\\lib\\site-packages\\ipykernel_launcher.py:3: SettingWithCopyWarning: \n",
      "A value is trying to be set on a copy of a slice from a DataFrame.\n",
      "Try using .loc[row_indexer,col_indexer] = value instead\n",
      "\n",
      "See the caveats in the documentation: https://pandas.pydata.org/pandas-docs/stable/user_guide/indexing.html#returning-a-view-versus-a-copy\n",
      "  This is separate from the ipykernel package so we can avoid doing imports until\n"
     ]
    }
   ],
   "source": [
    "# convert lat-long to floats and change address from ALL CAPS to regular capitalization\n",
    "JNorth_Captive_Reared_2019_1_df['latitude'] = JNorth_Captive_Reared_2019_1_df['latitude'].astype(float)\n",
    "JNorth_Captive_Reared_2019_1_df['longitude'] = JNorth_Captive_Reared_2019_1_df['longitude'].astype(float)\n",
    "# JNorth_Milkweed_Site_df['street_address'] = JNorth_Milkweed_Site_df['street_address'].str.title()"
   ]
  },
  {
   "cell_type": "code",
   "execution_count": 262,
   "id": "68a03ebb",
   "metadata": {},
   "outputs": [],
   "source": [
    "geojson = df_to_geojson(JNorth_Captive_Reared_2019_1_df, cols)"
   ]
  },
  {
   "cell_type": "code",
   "execution_count": 263,
   "id": "d5ffc5d6",
   "metadata": {},
   "outputs": [],
   "source": [
    "file = open(\"JNorth_Captive_Reared_2019_1.geojson\", \"w\")\n",
    "json.dump(geojson, file, indent =1)\n",
    "file.close()"
   ]
  },
  {
   "cell_type": "markdown",
   "id": "d5873010",
   "metadata": {},
   "source": [
    "## February"
   ]
  },
  {
   "cell_type": "code",
   "execution_count": 264,
   "id": "44a69ab5",
   "metadata": {},
   "outputs": [
    {
     "data": {
      "text/html": [
       "<div>\n",
       "<style scoped>\n",
       "    .dataframe tbody tr th:only-of-type {\n",
       "        vertical-align: middle;\n",
       "    }\n",
       "\n",
       "    .dataframe tbody tr th {\n",
       "        vertical-align: top;\n",
       "    }\n",
       "\n",
       "    .dataframe thead th {\n",
       "        text-align: right;\n",
       "    }\n",
       "</style>\n",
       "<table border=\"1\" class=\"dataframe\">\n",
       "  <thead>\n",
       "    <tr style=\"text-align: right;\">\n",
       "      <th></th>\n",
       "      <th>sighting_date</th>\n",
       "      <th>species</th>\n",
       "      <th>latitude</th>\n",
       "      <th>longitude</th>\n",
       "      <th>number</th>\n",
       "      <th>month</th>\n",
       "    </tr>\n",
       "  </thead>\n",
       "  <tbody>\n",
       "    <tr>\n",
       "      <th>9064</th>\n",
       "      <td>2019-02-24</td>\n",
       "      <td>Monarch, Captive-Reared</td>\n",
       "      <td>28.752</td>\n",
       "      <td>-81.636</td>\n",
       "      <td>16</td>\n",
       "      <td>2</td>\n",
       "    </tr>\n",
       "    <tr>\n",
       "      <th>9065</th>\n",
       "      <td>2019-02-24</td>\n",
       "      <td>Monarch, Captive-Reared</td>\n",
       "      <td>30.425</td>\n",
       "      <td>-95.480</td>\n",
       "      <td>8</td>\n",
       "      <td>2</td>\n",
       "    </tr>\n",
       "    <tr>\n",
       "      <th>9066</th>\n",
       "      <td>2019-02-25</td>\n",
       "      <td>Monarch, Captive-Reared</td>\n",
       "      <td>26.667</td>\n",
       "      <td>-81.880</td>\n",
       "      <td>2</td>\n",
       "      <td>2</td>\n",
       "    </tr>\n",
       "    <tr>\n",
       "      <th>9067</th>\n",
       "      <td>2019-02-27</td>\n",
       "      <td>Monarch, Captive-Reared</td>\n",
       "      <td>30.281</td>\n",
       "      <td>-81.782</td>\n",
       "      <td>18</td>\n",
       "      <td>2</td>\n",
       "    </tr>\n",
       "    <tr>\n",
       "      <th>9068</th>\n",
       "      <td>2019-02-28</td>\n",
       "      <td>Monarch, Captive-Reared</td>\n",
       "      <td>27.449</td>\n",
       "      <td>-80.327</td>\n",
       "      <td>2</td>\n",
       "      <td>2</td>\n",
       "    </tr>\n",
       "  </tbody>\n",
       "</table>\n",
       "</div>"
      ],
      "text/plain": [
       "     sighting_date                  species  latitude  longitude  number  \\\n",
       "9064    2019-02-24  Monarch, Captive-Reared    28.752    -81.636      16   \n",
       "9065    2019-02-24  Monarch, Captive-Reared    30.425    -95.480       8   \n",
       "9066    2019-02-25  Monarch, Captive-Reared    26.667    -81.880       2   \n",
       "9067    2019-02-27  Monarch, Captive-Reared    30.281    -81.782      18   \n",
       "9068    2019-02-28  Monarch, Captive-Reared    27.449    -80.327       2   \n",
       "\n",
       "      month  \n",
       "9064      2  \n",
       "9065      2  \n",
       "9066      2  \n",
       "9067      2  \n",
       "9068      2  "
      ]
     },
     "execution_count": 264,
     "metadata": {},
     "output_type": "execute_result"
    }
   ],
   "source": [
    "JNorth_Captive_Reared_2019_month_df =pd.DataFrame(JNorth_Captive_Reared_2019_df)\n",
    "JNorth_Captive_Reared_2019_2_df = JNorth_Captive_Reared_2019_month_df[JNorth_Captive_Reared_2019_month_df['month']==2]\n",
    "JNorth_Captive_Reared_2019_2_df.tail()"
   ]
  },
  {
   "cell_type": "code",
   "execution_count": 265,
   "id": "d53e5084",
   "metadata": {},
   "outputs": [
    {
     "data": {
      "text/plain": [
       "(23, 6)"
      ]
     },
     "execution_count": 265,
     "metadata": {},
     "output_type": "execute_result"
    }
   ],
   "source": [
    "JNorth_Captive_Reared_2019_2_df.shape"
   ]
  },
  {
   "cell_type": "code",
   "execution_count": 266,
   "id": "0e83f703",
   "metadata": {},
   "outputs": [
    {
     "name": "stderr",
     "output_type": "stream",
     "text": [
      "C:\\Users\\motte\\anaconda3\\envs\\mlenv\\lib\\site-packages\\pandas\\core\\frame.py:4913: SettingWithCopyWarning: \n",
      "A value is trying to be set on a copy of a slice from a DataFrame\n",
      "\n",
      "See the caveats in the documentation: https://pandas.pydata.org/pandas-docs/stable/user_guide/indexing.html#returning-a-view-versus-a-copy\n",
      "  errors=errors,\n"
     ]
    }
   ],
   "source": [
    "JNorth_Captive_Reared_2019_2_df.drop(['month'], axis=1, inplace=True)"
   ]
  },
  {
   "cell_type": "code",
   "execution_count": 267,
   "id": "4a4a84a2",
   "metadata": {},
   "outputs": [
    {
     "name": "stderr",
     "output_type": "stream",
     "text": [
      "C:\\Users\\motte\\anaconda3\\envs\\mlenv\\lib\\site-packages\\ipykernel_launcher.py:2: SettingWithCopyWarning: \n",
      "A value is trying to be set on a copy of a slice from a DataFrame.\n",
      "Try using .loc[row_indexer,col_indexer] = value instead\n",
      "\n",
      "See the caveats in the documentation: https://pandas.pydata.org/pandas-docs/stable/user_guide/indexing.html#returning-a-view-versus-a-copy\n",
      "  \n",
      "C:\\Users\\motte\\anaconda3\\envs\\mlenv\\lib\\site-packages\\ipykernel_launcher.py:3: SettingWithCopyWarning: \n",
      "A value is trying to be set on a copy of a slice from a DataFrame.\n",
      "Try using .loc[row_indexer,col_indexer] = value instead\n",
      "\n",
      "See the caveats in the documentation: https://pandas.pydata.org/pandas-docs/stable/user_guide/indexing.html#returning-a-view-versus-a-copy\n",
      "  This is separate from the ipykernel package so we can avoid doing imports until\n"
     ]
    }
   ],
   "source": [
    "# convert lat-long to floats and change address from ALL CAPS to regular capitalization\n",
    "JNorth_Captive_Reared_2019_2_df['latitude'] = JNorth_Captive_Reared_2019_2_df['latitude'].astype(float)\n",
    "JNorth_Captive_Reared_2019_2_df['longitude'] = JNorth_Captive_Reared_2019_2_df['longitude'].astype(float)\n",
    "# JNorth_Milkweed_Site_df['street_address'] = JNorth_Milkweed_Site_df['street_address'].str.title()"
   ]
  },
  {
   "cell_type": "code",
   "execution_count": 268,
   "id": "3cbf2fba",
   "metadata": {},
   "outputs": [],
   "source": [
    "geojson = df_to_geojson(JNorth_Captive_Reared_2019_2_df, cols)"
   ]
  },
  {
   "cell_type": "code",
   "execution_count": 269,
   "id": "82350196",
   "metadata": {},
   "outputs": [],
   "source": [
    "file = open(\"JNorth_Captive_Reared_2019_2.geojson\", \"w\")\n",
    "json.dump(geojson, file, indent =1)\n",
    "file.close()"
   ]
  },
  {
   "cell_type": "markdown",
   "id": "77061a71",
   "metadata": {},
   "source": [
    "## March"
   ]
  },
  {
   "cell_type": "code",
   "execution_count": 270,
   "id": "b85708c1",
   "metadata": {},
   "outputs": [
    {
     "data": {
      "text/html": [
       "<div>\n",
       "<style scoped>\n",
       "    .dataframe tbody tr th:only-of-type {\n",
       "        vertical-align: middle;\n",
       "    }\n",
       "\n",
       "    .dataframe tbody tr th {\n",
       "        vertical-align: top;\n",
       "    }\n",
       "\n",
       "    .dataframe thead th {\n",
       "        text-align: right;\n",
       "    }\n",
       "</style>\n",
       "<table border=\"1\" class=\"dataframe\">\n",
       "  <thead>\n",
       "    <tr style=\"text-align: right;\">\n",
       "      <th></th>\n",
       "      <th>sighting_date</th>\n",
       "      <th>species</th>\n",
       "      <th>latitude</th>\n",
       "      <th>longitude</th>\n",
       "      <th>number</th>\n",
       "      <th>month</th>\n",
       "    </tr>\n",
       "  </thead>\n",
       "  <tbody>\n",
       "    <tr>\n",
       "      <th>9092</th>\n",
       "      <td>2019-03-22</td>\n",
       "      <td>Monarch, Captive-Reared</td>\n",
       "      <td>30.281</td>\n",
       "      <td>-81.782</td>\n",
       "      <td>2</td>\n",
       "      <td>3</td>\n",
       "    </tr>\n",
       "    <tr>\n",
       "      <th>9093</th>\n",
       "      <td>2019-03-23</td>\n",
       "      <td>Monarch, Captive-Reared</td>\n",
       "      <td>30.281</td>\n",
       "      <td>-81.782</td>\n",
       "      <td>3</td>\n",
       "      <td>3</td>\n",
       "    </tr>\n",
       "    <tr>\n",
       "      <th>9094</th>\n",
       "      <td>2019-03-28</td>\n",
       "      <td>Monarch, Captive-Reared</td>\n",
       "      <td>30.298</td>\n",
       "      <td>-97.802</td>\n",
       "      <td>26</td>\n",
       "      <td>3</td>\n",
       "    </tr>\n",
       "    <tr>\n",
       "      <th>9095</th>\n",
       "      <td>2019-03-29</td>\n",
       "      <td>Monarch, Captive-Reared</td>\n",
       "      <td>30.298</td>\n",
       "      <td>-97.802</td>\n",
       "      <td>78</td>\n",
       "      <td>3</td>\n",
       "    </tr>\n",
       "    <tr>\n",
       "      <th>9096</th>\n",
       "      <td>2019-03-31</td>\n",
       "      <td>Monarch, Captive-Reared</td>\n",
       "      <td>30.176</td>\n",
       "      <td>-84.375</td>\n",
       "      <td>1</td>\n",
       "      <td>3</td>\n",
       "    </tr>\n",
       "  </tbody>\n",
       "</table>\n",
       "</div>"
      ],
      "text/plain": [
       "     sighting_date                  species  latitude  longitude  number  \\\n",
       "9092    2019-03-22  Monarch, Captive-Reared    30.281    -81.782       2   \n",
       "9093    2019-03-23  Monarch, Captive-Reared    30.281    -81.782       3   \n",
       "9094    2019-03-28  Monarch, Captive-Reared    30.298    -97.802      26   \n",
       "9095    2019-03-29  Monarch, Captive-Reared    30.298    -97.802      78   \n",
       "9096    2019-03-31  Monarch, Captive-Reared    30.176    -84.375       1   \n",
       "\n",
       "      month  \n",
       "9092      3  \n",
       "9093      3  \n",
       "9094      3  \n",
       "9095      3  \n",
       "9096      3  "
      ]
     },
     "execution_count": 270,
     "metadata": {},
     "output_type": "execute_result"
    }
   ],
   "source": [
    "JNorth_Captive_Reared_2019_month_df =pd.DataFrame(JNorth_Captive_Reared_2019_df)\n",
    "JNorth_Captive_Reared_2019_3_df = JNorth_Captive_Reared_2019_month_df[JNorth_Captive_Reared_2019_month_df['month']==3]\n",
    "JNorth_Captive_Reared_2019_3_df.tail()"
   ]
  },
  {
   "cell_type": "code",
   "execution_count": 271,
   "id": "52d84ebf",
   "metadata": {},
   "outputs": [
    {
     "data": {
      "text/plain": [
       "(28, 6)"
      ]
     },
     "execution_count": 271,
     "metadata": {},
     "output_type": "execute_result"
    }
   ],
   "source": [
    "JNorth_Captive_Reared_2019_3_df.shape"
   ]
  },
  {
   "cell_type": "code",
   "execution_count": 272,
   "id": "7e18485a",
   "metadata": {},
   "outputs": [
    {
     "name": "stderr",
     "output_type": "stream",
     "text": [
      "C:\\Users\\motte\\anaconda3\\envs\\mlenv\\lib\\site-packages\\pandas\\core\\frame.py:4913: SettingWithCopyWarning: \n",
      "A value is trying to be set on a copy of a slice from a DataFrame\n",
      "\n",
      "See the caveats in the documentation: https://pandas.pydata.org/pandas-docs/stable/user_guide/indexing.html#returning-a-view-versus-a-copy\n",
      "  errors=errors,\n"
     ]
    }
   ],
   "source": [
    "JNorth_Captive_Reared_2019_3_df.drop(['month'], axis=1, inplace=True)"
   ]
  },
  {
   "cell_type": "code",
   "execution_count": 273,
   "id": "d4c0a1cd",
   "metadata": {},
   "outputs": [
    {
     "name": "stderr",
     "output_type": "stream",
     "text": [
      "C:\\Users\\motte\\anaconda3\\envs\\mlenv\\lib\\site-packages\\ipykernel_launcher.py:2: SettingWithCopyWarning: \n",
      "A value is trying to be set on a copy of a slice from a DataFrame.\n",
      "Try using .loc[row_indexer,col_indexer] = value instead\n",
      "\n",
      "See the caveats in the documentation: https://pandas.pydata.org/pandas-docs/stable/user_guide/indexing.html#returning-a-view-versus-a-copy\n",
      "  \n",
      "C:\\Users\\motte\\anaconda3\\envs\\mlenv\\lib\\site-packages\\ipykernel_launcher.py:3: SettingWithCopyWarning: \n",
      "A value is trying to be set on a copy of a slice from a DataFrame.\n",
      "Try using .loc[row_indexer,col_indexer] = value instead\n",
      "\n",
      "See the caveats in the documentation: https://pandas.pydata.org/pandas-docs/stable/user_guide/indexing.html#returning-a-view-versus-a-copy\n",
      "  This is separate from the ipykernel package so we can avoid doing imports until\n"
     ]
    }
   ],
   "source": [
    "# convert lat-long to floats and change address from ALL CAPS to regular capitalization\n",
    "JNorth_Captive_Reared_2019_3_df['latitude'] = JNorth_Captive_Reared_2019_3_df['latitude'].astype(float)\n",
    "JNorth_Captive_Reared_2019_3_df['longitude'] = JNorth_Captive_Reared_2019_3_df['longitude'].astype(float)\n",
    "# JNorth_Milkweed_Site_df['street_address'] = JNorth_Milkweed_Site_df['street_address'].str.title()"
   ]
  },
  {
   "cell_type": "code",
   "execution_count": 274,
   "id": "765e97ac",
   "metadata": {},
   "outputs": [],
   "source": [
    "geojson = df_to_geojson(JNorth_Captive_Reared_2019_3_df, cols)"
   ]
  },
  {
   "cell_type": "code",
   "execution_count": 275,
   "id": "82ef8d30",
   "metadata": {},
   "outputs": [],
   "source": [
    "file = open(\"JNorth_Captive_Reared_2019_3.geojson\", \"w\")\n",
    "json.dump(geojson, file, indent =1)\n",
    "file.close()"
   ]
  },
  {
   "cell_type": "markdown",
   "id": "eb9ba3a4",
   "metadata": {},
   "source": [
    "## April"
   ]
  },
  {
   "cell_type": "code",
   "execution_count": 276,
   "id": "048f6cf2",
   "metadata": {},
   "outputs": [
    {
     "data": {
      "text/html": [
       "<div>\n",
       "<style scoped>\n",
       "    .dataframe tbody tr th:only-of-type {\n",
       "        vertical-align: middle;\n",
       "    }\n",
       "\n",
       "    .dataframe tbody tr th {\n",
       "        vertical-align: top;\n",
       "    }\n",
       "\n",
       "    .dataframe thead th {\n",
       "        text-align: right;\n",
       "    }\n",
       "</style>\n",
       "<table border=\"1\" class=\"dataframe\">\n",
       "  <thead>\n",
       "    <tr style=\"text-align: right;\">\n",
       "      <th></th>\n",
       "      <th>sighting_date</th>\n",
       "      <th>species</th>\n",
       "      <th>latitude</th>\n",
       "      <th>longitude</th>\n",
       "      <th>number</th>\n",
       "      <th>month</th>\n",
       "    </tr>\n",
       "  </thead>\n",
       "  <tbody>\n",
       "    <tr>\n",
       "      <th>9143</th>\n",
       "      <td>2019-04-29</td>\n",
       "      <td>Monarch, Captive-Reared</td>\n",
       "      <td>32.556</td>\n",
       "      <td>-92.645</td>\n",
       "      <td>3</td>\n",
       "      <td>4</td>\n",
       "    </tr>\n",
       "    <tr>\n",
       "      <th>9144</th>\n",
       "      <td>2019-04-29</td>\n",
       "      <td>Monarch, Captive-Reared</td>\n",
       "      <td>34.201</td>\n",
       "      <td>-81.009</td>\n",
       "      <td>3</td>\n",
       "      <td>4</td>\n",
       "    </tr>\n",
       "    <tr>\n",
       "      <th>9145</th>\n",
       "      <td>2019-04-29</td>\n",
       "      <td>Monarch, Captive-Reared</td>\n",
       "      <td>34.435</td>\n",
       "      <td>-119.633</td>\n",
       "      <td>3</td>\n",
       "      <td>4</td>\n",
       "    </tr>\n",
       "    <tr>\n",
       "      <th>9146</th>\n",
       "      <td>2019-04-30</td>\n",
       "      <td>Monarch, Captive-Reared</td>\n",
       "      <td>30.298</td>\n",
       "      <td>-97.802</td>\n",
       "      <td>48</td>\n",
       "      <td>4</td>\n",
       "    </tr>\n",
       "    <tr>\n",
       "      <th>9147</th>\n",
       "      <td>2019-04-30</td>\n",
       "      <td>Monarch, Captive-Reared</td>\n",
       "      <td>31.122</td>\n",
       "      <td>-97.935</td>\n",
       "      <td>2</td>\n",
       "      <td>4</td>\n",
       "    </tr>\n",
       "  </tbody>\n",
       "</table>\n",
       "</div>"
      ],
      "text/plain": [
       "     sighting_date                  species  latitude  longitude  number  \\\n",
       "9143    2019-04-29  Monarch, Captive-Reared    32.556    -92.645       3   \n",
       "9144    2019-04-29  Monarch, Captive-Reared    34.201    -81.009       3   \n",
       "9145    2019-04-29  Monarch, Captive-Reared    34.435   -119.633       3   \n",
       "9146    2019-04-30  Monarch, Captive-Reared    30.298    -97.802      48   \n",
       "9147    2019-04-30  Monarch, Captive-Reared    31.122    -97.935       2   \n",
       "\n",
       "      month  \n",
       "9143      4  \n",
       "9144      4  \n",
       "9145      4  \n",
       "9146      4  \n",
       "9147      4  "
      ]
     },
     "execution_count": 276,
     "metadata": {},
     "output_type": "execute_result"
    }
   ],
   "source": [
    "JNorth_Captive_Reared_2019_month_df =pd.DataFrame(JNorth_Captive_Reared_2019_df)\n",
    "JNorth_Captive_Reared_2019_4_df = JNorth_Captive_Reared_2019_month_df[JNorth_Captive_Reared_2019_month_df['month']==4]\n",
    "JNorth_Captive_Reared_2019_4_df.tail()"
   ]
  },
  {
   "cell_type": "code",
   "execution_count": 277,
   "id": "aee6f7fd",
   "metadata": {},
   "outputs": [
    {
     "data": {
      "text/plain": [
       "(51, 6)"
      ]
     },
     "execution_count": 277,
     "metadata": {},
     "output_type": "execute_result"
    }
   ],
   "source": [
    "JNorth_Captive_Reared_2019_4_df.shape"
   ]
  },
  {
   "cell_type": "code",
   "execution_count": 278,
   "id": "9c7faf6f",
   "metadata": {},
   "outputs": [
    {
     "name": "stderr",
     "output_type": "stream",
     "text": [
      "C:\\Users\\motte\\anaconda3\\envs\\mlenv\\lib\\site-packages\\pandas\\core\\frame.py:4913: SettingWithCopyWarning: \n",
      "A value is trying to be set on a copy of a slice from a DataFrame\n",
      "\n",
      "See the caveats in the documentation: https://pandas.pydata.org/pandas-docs/stable/user_guide/indexing.html#returning-a-view-versus-a-copy\n",
      "  errors=errors,\n"
     ]
    }
   ],
   "source": [
    "JNorth_Captive_Reared_2019_4_df.drop(['month'], axis=1, inplace=True)"
   ]
  },
  {
   "cell_type": "code",
   "execution_count": 279,
   "id": "b2abce47",
   "metadata": {},
   "outputs": [
    {
     "name": "stderr",
     "output_type": "stream",
     "text": [
      "C:\\Users\\motte\\anaconda3\\envs\\mlenv\\lib\\site-packages\\ipykernel_launcher.py:2: SettingWithCopyWarning: \n",
      "A value is trying to be set on a copy of a slice from a DataFrame.\n",
      "Try using .loc[row_indexer,col_indexer] = value instead\n",
      "\n",
      "See the caveats in the documentation: https://pandas.pydata.org/pandas-docs/stable/user_guide/indexing.html#returning-a-view-versus-a-copy\n",
      "  \n",
      "C:\\Users\\motte\\anaconda3\\envs\\mlenv\\lib\\site-packages\\ipykernel_launcher.py:3: SettingWithCopyWarning: \n",
      "A value is trying to be set on a copy of a slice from a DataFrame.\n",
      "Try using .loc[row_indexer,col_indexer] = value instead\n",
      "\n",
      "See the caveats in the documentation: https://pandas.pydata.org/pandas-docs/stable/user_guide/indexing.html#returning-a-view-versus-a-copy\n",
      "  This is separate from the ipykernel package so we can avoid doing imports until\n"
     ]
    }
   ],
   "source": [
    "# convert lat-long to floats and change address from ALL CAPS to regular capitalization\n",
    "JNorth_Captive_Reared_2019_4_df['latitude'] = JNorth_Captive_Reared_2019_4_df['latitude'].astype(float)\n",
    "JNorth_Captive_Reared_2019_4_df['longitude'] = JNorth_Captive_Reared_2019_4_df['longitude'].astype(float)\n",
    "# JNorth_Milkweed_Site_df['street_address'] = JNorth_Milkweed_Site_df['street_address'].str.title()"
   ]
  },
  {
   "cell_type": "code",
   "execution_count": 280,
   "id": "b4dd7e9b",
   "metadata": {},
   "outputs": [],
   "source": [
    "geojson = df_to_geojson(JNorth_Captive_Reared_2019_4_df, cols)"
   ]
  },
  {
   "cell_type": "code",
   "execution_count": 281,
   "id": "c22bd60e",
   "metadata": {},
   "outputs": [],
   "source": [
    "file = open(\"JNorth_Captive_Reared_2019_4.geojson\", \"w\")\n",
    "json.dump(geojson, file, indent =1)\n",
    "file.close()"
   ]
  },
  {
   "cell_type": "markdown",
   "id": "f6e85297",
   "metadata": {},
   "source": [
    "## May"
   ]
  },
  {
   "cell_type": "code",
   "execution_count": 282,
   "id": "4740a950",
   "metadata": {},
   "outputs": [
    {
     "data": {
      "text/html": [
       "<div>\n",
       "<style scoped>\n",
       "    .dataframe tbody tr th:only-of-type {\n",
       "        vertical-align: middle;\n",
       "    }\n",
       "\n",
       "    .dataframe tbody tr th {\n",
       "        vertical-align: top;\n",
       "    }\n",
       "\n",
       "    .dataframe thead th {\n",
       "        text-align: right;\n",
       "    }\n",
       "</style>\n",
       "<table border=\"1\" class=\"dataframe\">\n",
       "  <thead>\n",
       "    <tr style=\"text-align: right;\">\n",
       "      <th></th>\n",
       "      <th>sighting_date</th>\n",
       "      <th>species</th>\n",
       "      <th>latitude</th>\n",
       "      <th>longitude</th>\n",
       "      <th>number</th>\n",
       "      <th>month</th>\n",
       "    </tr>\n",
       "  </thead>\n",
       "  <tbody>\n",
       "    <tr>\n",
       "      <th>9293</th>\n",
       "      <td>2019-05-29</td>\n",
       "      <td>Monarch, Captive-Reared</td>\n",
       "      <td>33.116</td>\n",
       "      <td>-94.168</td>\n",
       "      <td>2</td>\n",
       "      <td>5</td>\n",
       "    </tr>\n",
       "    <tr>\n",
       "      <th>9294</th>\n",
       "      <td>2019-05-30</td>\n",
       "      <td>Monarch, Captive-Reared</td>\n",
       "      <td>33.830</td>\n",
       "      <td>-117.966</td>\n",
       "      <td>3</td>\n",
       "      <td>5</td>\n",
       "    </tr>\n",
       "    <tr>\n",
       "      <th>9295</th>\n",
       "      <td>2019-05-30</td>\n",
       "      <td>Monarch, Captive-Reared</td>\n",
       "      <td>36.150</td>\n",
       "      <td>-79.134</td>\n",
       "      <td>4</td>\n",
       "      <td>5</td>\n",
       "    </tr>\n",
       "    <tr>\n",
       "      <th>9296</th>\n",
       "      <td>2019-05-31</td>\n",
       "      <td>Monarch, Captive-Reared</td>\n",
       "      <td>33.108</td>\n",
       "      <td>-117.312</td>\n",
       "      <td>17</td>\n",
       "      <td>5</td>\n",
       "    </tr>\n",
       "    <tr>\n",
       "      <th>9297</th>\n",
       "      <td>2019-05-31</td>\n",
       "      <td>Monarch, Captive-Reared</td>\n",
       "      <td>41.511</td>\n",
       "      <td>-87.229</td>\n",
       "      <td>3</td>\n",
       "      <td>5</td>\n",
       "    </tr>\n",
       "  </tbody>\n",
       "</table>\n",
       "</div>"
      ],
      "text/plain": [
       "     sighting_date                  species  latitude  longitude  number  \\\n",
       "9293    2019-05-29  Monarch, Captive-Reared    33.116    -94.168       2   \n",
       "9294    2019-05-30  Monarch, Captive-Reared    33.830   -117.966       3   \n",
       "9295    2019-05-30  Monarch, Captive-Reared    36.150    -79.134       4   \n",
       "9296    2019-05-31  Monarch, Captive-Reared    33.108   -117.312      17   \n",
       "9297    2019-05-31  Monarch, Captive-Reared    41.511    -87.229       3   \n",
       "\n",
       "      month  \n",
       "9293      5  \n",
       "9294      5  \n",
       "9295      5  \n",
       "9296      5  \n",
       "9297      5  "
      ]
     },
     "execution_count": 282,
     "metadata": {},
     "output_type": "execute_result"
    }
   ],
   "source": [
    "JNorth_Captive_Reared_2019_month_df =pd.DataFrame(JNorth_Captive_Reared_2019_df)\n",
    "JNorth_Captive_Reared_2019_5_df = JNorth_Captive_Reared_2019_month_df[JNorth_Captive_Reared_2019_month_df['month']==5]\n",
    "JNorth_Captive_Reared_2019_5_df.tail()"
   ]
  },
  {
   "cell_type": "code",
   "execution_count": 283,
   "id": "ddefd2a3",
   "metadata": {},
   "outputs": [
    {
     "data": {
      "text/plain": [
       "(150, 6)"
      ]
     },
     "execution_count": 283,
     "metadata": {},
     "output_type": "execute_result"
    }
   ],
   "source": [
    "JNorth_Captive_Reared_2019_5_df.shape"
   ]
  },
  {
   "cell_type": "code",
   "execution_count": 284,
   "id": "614cd3a8",
   "metadata": {},
   "outputs": [
    {
     "name": "stderr",
     "output_type": "stream",
     "text": [
      "C:\\Users\\motte\\anaconda3\\envs\\mlenv\\lib\\site-packages\\pandas\\core\\frame.py:4913: SettingWithCopyWarning: \n",
      "A value is trying to be set on a copy of a slice from a DataFrame\n",
      "\n",
      "See the caveats in the documentation: https://pandas.pydata.org/pandas-docs/stable/user_guide/indexing.html#returning-a-view-versus-a-copy\n",
      "  errors=errors,\n"
     ]
    }
   ],
   "source": [
    "JNorth_Captive_Reared_2019_5_df.drop(['month'], axis=1, inplace=True)"
   ]
  },
  {
   "cell_type": "code",
   "execution_count": 285,
   "id": "01509961",
   "metadata": {},
   "outputs": [
    {
     "name": "stderr",
     "output_type": "stream",
     "text": [
      "C:\\Users\\motte\\anaconda3\\envs\\mlenv\\lib\\site-packages\\ipykernel_launcher.py:2: SettingWithCopyWarning: \n",
      "A value is trying to be set on a copy of a slice from a DataFrame.\n",
      "Try using .loc[row_indexer,col_indexer] = value instead\n",
      "\n",
      "See the caveats in the documentation: https://pandas.pydata.org/pandas-docs/stable/user_guide/indexing.html#returning-a-view-versus-a-copy\n",
      "  \n",
      "C:\\Users\\motte\\anaconda3\\envs\\mlenv\\lib\\site-packages\\ipykernel_launcher.py:3: SettingWithCopyWarning: \n",
      "A value is trying to be set on a copy of a slice from a DataFrame.\n",
      "Try using .loc[row_indexer,col_indexer] = value instead\n",
      "\n",
      "See the caveats in the documentation: https://pandas.pydata.org/pandas-docs/stable/user_guide/indexing.html#returning-a-view-versus-a-copy\n",
      "  This is separate from the ipykernel package so we can avoid doing imports until\n"
     ]
    }
   ],
   "source": [
    "# convert lat-long to floats and change address from ALL CAPS to regular capitalization\n",
    "JNorth_Captive_Reared_2019_5_df['latitude'] = JNorth_Captive_Reared_2019_5_df['latitude'].astype(float)\n",
    "JNorth_Captive_Reared_2019_5_df['longitude'] = JNorth_Captive_Reared_2019_5_df['longitude'].astype(float)\n",
    "# JNorth_Milkweed_Site_df['street_address'] = JNorth_Milkweed_Site_df['street_address'].str.title()"
   ]
  },
  {
   "cell_type": "code",
   "execution_count": 286,
   "id": "bb763379",
   "metadata": {},
   "outputs": [],
   "source": [
    "geojson = df_to_geojson(JNorth_Captive_Reared_2019_5_df, cols)"
   ]
  },
  {
   "cell_type": "code",
   "execution_count": 287,
   "id": "f2e88fe7",
   "metadata": {},
   "outputs": [],
   "source": [
    "file = open(\"JNorth_Captive_Reared_2019_5.geojson\", \"w\")\n",
    "json.dump(geojson, file, indent =1)\n",
    "file.close()"
   ]
  },
  {
   "cell_type": "markdown",
   "id": "264863cf",
   "metadata": {},
   "source": [
    "## June"
   ]
  },
  {
   "cell_type": "code",
   "execution_count": 288,
   "id": "18fd4a7c",
   "metadata": {},
   "outputs": [
    {
     "data": {
      "text/html": [
       "<div>\n",
       "<style scoped>\n",
       "    .dataframe tbody tr th:only-of-type {\n",
       "        vertical-align: middle;\n",
       "    }\n",
       "\n",
       "    .dataframe tbody tr th {\n",
       "        vertical-align: top;\n",
       "    }\n",
       "\n",
       "    .dataframe thead th {\n",
       "        text-align: right;\n",
       "    }\n",
       "</style>\n",
       "<table border=\"1\" class=\"dataframe\">\n",
       "  <thead>\n",
       "    <tr style=\"text-align: right;\">\n",
       "      <th></th>\n",
       "      <th>sighting_date</th>\n",
       "      <th>species</th>\n",
       "      <th>latitude</th>\n",
       "      <th>longitude</th>\n",
       "      <th>number</th>\n",
       "      <th>month</th>\n",
       "    </tr>\n",
       "  </thead>\n",
       "  <tbody>\n",
       "    <tr>\n",
       "      <th>9471</th>\n",
       "      <td>2019-06-30</td>\n",
       "      <td>Monarch, Captive-Reared</td>\n",
       "      <td>41.486</td>\n",
       "      <td>-86.341</td>\n",
       "      <td>31</td>\n",
       "      <td>6</td>\n",
       "    </tr>\n",
       "    <tr>\n",
       "      <th>9472</th>\n",
       "      <td>2019-06-30</td>\n",
       "      <td>Monarch, Captive-Reared</td>\n",
       "      <td>41.647</td>\n",
       "      <td>-91.578</td>\n",
       "      <td>4</td>\n",
       "      <td>6</td>\n",
       "    </tr>\n",
       "    <tr>\n",
       "      <th>9473</th>\n",
       "      <td>2019-06-30</td>\n",
       "      <td>Monarch, Captive-Reared</td>\n",
       "      <td>42.031</td>\n",
       "      <td>-93.632</td>\n",
       "      <td>8</td>\n",
       "      <td>6</td>\n",
       "    </tr>\n",
       "    <tr>\n",
       "      <th>9474</th>\n",
       "      <td>2019-06-30</td>\n",
       "      <td>Monarch, Captive-Reared</td>\n",
       "      <td>44.888</td>\n",
       "      <td>-87.897</td>\n",
       "      <td>12</td>\n",
       "      <td>6</td>\n",
       "    </tr>\n",
       "    <tr>\n",
       "      <th>9475</th>\n",
       "      <td>2019-06-30</td>\n",
       "      <td>Monarch, Captive-Reared</td>\n",
       "      <td>45.033</td>\n",
       "      <td>-93.224</td>\n",
       "      <td>1</td>\n",
       "      <td>6</td>\n",
       "    </tr>\n",
       "  </tbody>\n",
       "</table>\n",
       "</div>"
      ],
      "text/plain": [
       "     sighting_date                  species  latitude  longitude  number  \\\n",
       "9471    2019-06-30  Monarch, Captive-Reared    41.486    -86.341      31   \n",
       "9472    2019-06-30  Monarch, Captive-Reared    41.647    -91.578       4   \n",
       "9473    2019-06-30  Monarch, Captive-Reared    42.031    -93.632       8   \n",
       "9474    2019-06-30  Monarch, Captive-Reared    44.888    -87.897      12   \n",
       "9475    2019-06-30  Monarch, Captive-Reared    45.033    -93.224       1   \n",
       "\n",
       "      month  \n",
       "9471      6  \n",
       "9472      6  \n",
       "9473      6  \n",
       "9474      6  \n",
       "9475      6  "
      ]
     },
     "execution_count": 288,
     "metadata": {},
     "output_type": "execute_result"
    }
   ],
   "source": [
    "JNorth_Captive_Reared_2019_month_df =pd.DataFrame(JNorth_Captive_Reared_2019_df)\n",
    "JNorth_Captive_Reared_2019_6_df = JNorth_Captive_Reared_2019_month_df[JNorth_Captive_Reared_2019_month_df['month']==6]\n",
    "JNorth_Captive_Reared_2019_6_df.tail()"
   ]
  },
  {
   "cell_type": "code",
   "execution_count": 289,
   "id": "446147fa",
   "metadata": {},
   "outputs": [
    {
     "data": {
      "text/plain": [
       "(178, 6)"
      ]
     },
     "execution_count": 289,
     "metadata": {},
     "output_type": "execute_result"
    }
   ],
   "source": [
    "JNorth_Captive_Reared_2019_6_df.shape"
   ]
  },
  {
   "cell_type": "code",
   "execution_count": 290,
   "id": "073ab0c6",
   "metadata": {},
   "outputs": [
    {
     "name": "stderr",
     "output_type": "stream",
     "text": [
      "C:\\Users\\motte\\anaconda3\\envs\\mlenv\\lib\\site-packages\\pandas\\core\\frame.py:4913: SettingWithCopyWarning: \n",
      "A value is trying to be set on a copy of a slice from a DataFrame\n",
      "\n",
      "See the caveats in the documentation: https://pandas.pydata.org/pandas-docs/stable/user_guide/indexing.html#returning-a-view-versus-a-copy\n",
      "  errors=errors,\n"
     ]
    }
   ],
   "source": [
    "JNorth_Captive_Reared_2019_6_df.drop(['month'], axis=1, inplace=True)"
   ]
  },
  {
   "cell_type": "code",
   "execution_count": 291,
   "id": "616d6b41",
   "metadata": {},
   "outputs": [
    {
     "name": "stderr",
     "output_type": "stream",
     "text": [
      "C:\\Users\\motte\\anaconda3\\envs\\mlenv\\lib\\site-packages\\ipykernel_launcher.py:2: SettingWithCopyWarning: \n",
      "A value is trying to be set on a copy of a slice from a DataFrame.\n",
      "Try using .loc[row_indexer,col_indexer] = value instead\n",
      "\n",
      "See the caveats in the documentation: https://pandas.pydata.org/pandas-docs/stable/user_guide/indexing.html#returning-a-view-versus-a-copy\n",
      "  \n",
      "C:\\Users\\motte\\anaconda3\\envs\\mlenv\\lib\\site-packages\\ipykernel_launcher.py:3: SettingWithCopyWarning: \n",
      "A value is trying to be set on a copy of a slice from a DataFrame.\n",
      "Try using .loc[row_indexer,col_indexer] = value instead\n",
      "\n",
      "See the caveats in the documentation: https://pandas.pydata.org/pandas-docs/stable/user_guide/indexing.html#returning-a-view-versus-a-copy\n",
      "  This is separate from the ipykernel package so we can avoid doing imports until\n"
     ]
    }
   ],
   "source": [
    "# convert lat-long to floats and change address from ALL CAPS to regular capitalization\n",
    "JNorth_Captive_Reared_2019_6_df['latitude'] = JNorth_Captive_Reared_2019_6_df['latitude'].astype(float)\n",
    "JNorth_Captive_Reared_2019_6_df['longitude'] = JNorth_Captive_Reared_2019_6_df['longitude'].astype(float)\n",
    "# JNorth_Milkweed_Site_df['street_address'] = JNorth_Milkweed_Site_df['street_address'].str.title()"
   ]
  },
  {
   "cell_type": "code",
   "execution_count": 292,
   "id": "afab2795",
   "metadata": {},
   "outputs": [],
   "source": [
    "geojson = df_to_geojson(JNorth_Captive_Reared_2019_6_df, cols)"
   ]
  },
  {
   "cell_type": "code",
   "execution_count": 293,
   "id": "ac1131c1",
   "metadata": {},
   "outputs": [],
   "source": [
    "file = open(\"JNorth_Captive_Reared_2019_6.geojson\", \"w\")\n",
    "json.dump(geojson, file, indent =1)\n",
    "file.close()"
   ]
  },
  {
   "cell_type": "markdown",
   "id": "f99d61b2",
   "metadata": {},
   "source": [
    "## July"
   ]
  },
  {
   "cell_type": "code",
   "execution_count": 294,
   "id": "b0f8b698",
   "metadata": {},
   "outputs": [
    {
     "data": {
      "text/html": [
       "<div>\n",
       "<style scoped>\n",
       "    .dataframe tbody tr th:only-of-type {\n",
       "        vertical-align: middle;\n",
       "    }\n",
       "\n",
       "    .dataframe tbody tr th {\n",
       "        vertical-align: top;\n",
       "    }\n",
       "\n",
       "    .dataframe thead th {\n",
       "        text-align: right;\n",
       "    }\n",
       "</style>\n",
       "<table border=\"1\" class=\"dataframe\">\n",
       "  <thead>\n",
       "    <tr style=\"text-align: right;\">\n",
       "      <th></th>\n",
       "      <th>sighting_date</th>\n",
       "      <th>species</th>\n",
       "      <th>latitude</th>\n",
       "      <th>longitude</th>\n",
       "      <th>number</th>\n",
       "      <th>month</th>\n",
       "    </tr>\n",
       "  </thead>\n",
       "  <tbody>\n",
       "    <tr>\n",
       "      <th>9774</th>\n",
       "      <td>2019-07-31</td>\n",
       "      <td>Monarch, Captive-Reared</td>\n",
       "      <td>39.816</td>\n",
       "      <td>-75.504</td>\n",
       "      <td>1</td>\n",
       "      <td>7</td>\n",
       "    </tr>\n",
       "    <tr>\n",
       "      <th>9775</th>\n",
       "      <td>2019-07-31</td>\n",
       "      <td>Monarch, Captive-Reared</td>\n",
       "      <td>41.564</td>\n",
       "      <td>-87.512</td>\n",
       "      <td>1</td>\n",
       "      <td>7</td>\n",
       "    </tr>\n",
       "    <tr>\n",
       "      <th>9776</th>\n",
       "      <td>2019-07-31</td>\n",
       "      <td>Monarch, Captive-Reared</td>\n",
       "      <td>41.809</td>\n",
       "      <td>-88.011</td>\n",
       "      <td>2</td>\n",
       "      <td>7</td>\n",
       "    </tr>\n",
       "    <tr>\n",
       "      <th>9777</th>\n",
       "      <td>2019-07-31</td>\n",
       "      <td>Monarch, Captive-Reared</td>\n",
       "      <td>43.605</td>\n",
       "      <td>-79.551</td>\n",
       "      <td>7</td>\n",
       "      <td>7</td>\n",
       "    </tr>\n",
       "    <tr>\n",
       "      <th>9778</th>\n",
       "      <td>2019-07-31</td>\n",
       "      <td>Monarch, Captive-Reared</td>\n",
       "      <td>45.033</td>\n",
       "      <td>-93.224</td>\n",
       "      <td>92</td>\n",
       "      <td>7</td>\n",
       "    </tr>\n",
       "  </tbody>\n",
       "</table>\n",
       "</div>"
      ],
      "text/plain": [
       "     sighting_date                  species  latitude  longitude  number  \\\n",
       "9774    2019-07-31  Monarch, Captive-Reared    39.816    -75.504       1   \n",
       "9775    2019-07-31  Monarch, Captive-Reared    41.564    -87.512       1   \n",
       "9776    2019-07-31  Monarch, Captive-Reared    41.809    -88.011       2   \n",
       "9777    2019-07-31  Monarch, Captive-Reared    43.605    -79.551       7   \n",
       "9778    2019-07-31  Monarch, Captive-Reared    45.033    -93.224      92   \n",
       "\n",
       "      month  \n",
       "9774      7  \n",
       "9775      7  \n",
       "9776      7  \n",
       "9777      7  \n",
       "9778      7  "
      ]
     },
     "execution_count": 294,
     "metadata": {},
     "output_type": "execute_result"
    }
   ],
   "source": [
    "JNorth_Captive_Reared_2019_month_df =pd.DataFrame(JNorth_Captive_Reared_2019_df)\n",
    "JNorth_Captive_Reared_2019_7_df = JNorth_Captive_Reared_2019_month_df[JNorth_Captive_Reared_2019_month_df['month']==7]\n",
    "JNorth_Captive_Reared_2019_7_df.tail()"
   ]
  },
  {
   "cell_type": "code",
   "execution_count": 295,
   "id": "288aa2ec",
   "metadata": {},
   "outputs": [
    {
     "data": {
      "text/plain": [
       "(303, 6)"
      ]
     },
     "execution_count": 295,
     "metadata": {},
     "output_type": "execute_result"
    }
   ],
   "source": [
    "JNorth_Captive_Reared_2019_7_df.shape"
   ]
  },
  {
   "cell_type": "code",
   "execution_count": 296,
   "id": "903c70c3",
   "metadata": {},
   "outputs": [
    {
     "name": "stderr",
     "output_type": "stream",
     "text": [
      "C:\\Users\\motte\\anaconda3\\envs\\mlenv\\lib\\site-packages\\pandas\\core\\frame.py:4913: SettingWithCopyWarning: \n",
      "A value is trying to be set on a copy of a slice from a DataFrame\n",
      "\n",
      "See the caveats in the documentation: https://pandas.pydata.org/pandas-docs/stable/user_guide/indexing.html#returning-a-view-versus-a-copy\n",
      "  errors=errors,\n"
     ]
    }
   ],
   "source": [
    "JNorth_Captive_Reared_2019_7_df.drop(['month'], axis=1, inplace=True)"
   ]
  },
  {
   "cell_type": "code",
   "execution_count": 297,
   "id": "1f4a36a7",
   "metadata": {},
   "outputs": [
    {
     "name": "stderr",
     "output_type": "stream",
     "text": [
      "C:\\Users\\motte\\anaconda3\\envs\\mlenv\\lib\\site-packages\\ipykernel_launcher.py:2: SettingWithCopyWarning: \n",
      "A value is trying to be set on a copy of a slice from a DataFrame.\n",
      "Try using .loc[row_indexer,col_indexer] = value instead\n",
      "\n",
      "See the caveats in the documentation: https://pandas.pydata.org/pandas-docs/stable/user_guide/indexing.html#returning-a-view-versus-a-copy\n",
      "  \n",
      "C:\\Users\\motte\\anaconda3\\envs\\mlenv\\lib\\site-packages\\ipykernel_launcher.py:3: SettingWithCopyWarning: \n",
      "A value is trying to be set on a copy of a slice from a DataFrame.\n",
      "Try using .loc[row_indexer,col_indexer] = value instead\n",
      "\n",
      "See the caveats in the documentation: https://pandas.pydata.org/pandas-docs/stable/user_guide/indexing.html#returning-a-view-versus-a-copy\n",
      "  This is separate from the ipykernel package so we can avoid doing imports until\n"
     ]
    }
   ],
   "source": [
    "# convert lat-long to floats and change address from ALL CAPS to regular capitalization\n",
    "JNorth_Captive_Reared_2019_7_df['latitude'] = JNorth_Captive_Reared_2019_7_df['latitude'].astype(float)\n",
    "JNorth_Captive_Reared_2019_7_df['longitude'] = JNorth_Captive_Reared_2019_7_df['longitude'].astype(float)\n",
    "# JNorth_Milkweed_Site_df['street_address'] = JNorth_Milkweed_Site_df['street_address'].str.title()"
   ]
  },
  {
   "cell_type": "code",
   "execution_count": 298,
   "id": "3537d71f",
   "metadata": {},
   "outputs": [],
   "source": [
    "geojson = df_to_geojson(JNorth_Captive_Reared_2019_7_df, cols)"
   ]
  },
  {
   "cell_type": "code",
   "execution_count": 299,
   "id": "df48c8b8",
   "metadata": {},
   "outputs": [],
   "source": [
    "file = open(\"JNorth_Captive_Reared_2019_7.geojson\", \"w\")\n",
    "json.dump(geojson, file, indent =1)\n",
    "file.close()"
   ]
  },
  {
   "cell_type": "markdown",
   "id": "3d498e81",
   "metadata": {},
   "source": [
    "## August"
   ]
  },
  {
   "cell_type": "code",
   "execution_count": 300,
   "id": "55d756cb",
   "metadata": {},
   "outputs": [
    {
     "data": {
      "text/html": [
       "<div>\n",
       "<style scoped>\n",
       "    .dataframe tbody tr th:only-of-type {\n",
       "        vertical-align: middle;\n",
       "    }\n",
       "\n",
       "    .dataframe tbody tr th {\n",
       "        vertical-align: top;\n",
       "    }\n",
       "\n",
       "    .dataframe thead th {\n",
       "        text-align: right;\n",
       "    }\n",
       "</style>\n",
       "<table border=\"1\" class=\"dataframe\">\n",
       "  <thead>\n",
       "    <tr style=\"text-align: right;\">\n",
       "      <th></th>\n",
       "      <th>sighting_date</th>\n",
       "      <th>species</th>\n",
       "      <th>latitude</th>\n",
       "      <th>longitude</th>\n",
       "      <th>number</th>\n",
       "      <th>month</th>\n",
       "    </tr>\n",
       "  </thead>\n",
       "  <tbody>\n",
       "    <tr>\n",
       "      <th>10418</th>\n",
       "      <td>2019-08-31</td>\n",
       "      <td>Monarch, Captive-Reared</td>\n",
       "      <td>43.782</td>\n",
       "      <td>-74.265</td>\n",
       "      <td>530</td>\n",
       "      <td>8</td>\n",
       "    </tr>\n",
       "    <tr>\n",
       "      <th>10419</th>\n",
       "      <td>2019-08-31</td>\n",
       "      <td>Monarch, Captive-Reared</td>\n",
       "      <td>44.449</td>\n",
       "      <td>-88.060</td>\n",
       "      <td>1</td>\n",
       "      <td>8</td>\n",
       "    </tr>\n",
       "    <tr>\n",
       "      <th>10420</th>\n",
       "      <td>2019-08-31</td>\n",
       "      <td>Monarch, Captive-Reared</td>\n",
       "      <td>44.644</td>\n",
       "      <td>-83.298</td>\n",
       "      <td>11</td>\n",
       "      <td>8</td>\n",
       "    </tr>\n",
       "    <tr>\n",
       "      <th>10421</th>\n",
       "      <td>2019-08-31</td>\n",
       "      <td>Monarch, Captive-Reared</td>\n",
       "      <td>44.706</td>\n",
       "      <td>-63.534</td>\n",
       "      <td>3</td>\n",
       "      <td>8</td>\n",
       "    </tr>\n",
       "    <tr>\n",
       "      <th>10422</th>\n",
       "      <td>2019-08-31</td>\n",
       "      <td>Monarch, Captive-Reared</td>\n",
       "      <td>45.048</td>\n",
       "      <td>-93.222</td>\n",
       "      <td>4</td>\n",
       "      <td>8</td>\n",
       "    </tr>\n",
       "  </tbody>\n",
       "</table>\n",
       "</div>"
      ],
      "text/plain": [
       "      sighting_date                  species  latitude  longitude  number  \\\n",
       "10418    2019-08-31  Monarch, Captive-Reared    43.782    -74.265     530   \n",
       "10419    2019-08-31  Monarch, Captive-Reared    44.449    -88.060       1   \n",
       "10420    2019-08-31  Monarch, Captive-Reared    44.644    -83.298      11   \n",
       "10421    2019-08-31  Monarch, Captive-Reared    44.706    -63.534       3   \n",
       "10422    2019-08-31  Monarch, Captive-Reared    45.048    -93.222       4   \n",
       "\n",
       "       month  \n",
       "10418      8  \n",
       "10419      8  \n",
       "10420      8  \n",
       "10421      8  \n",
       "10422      8  "
      ]
     },
     "execution_count": 300,
     "metadata": {},
     "output_type": "execute_result"
    }
   ],
   "source": [
    "JNorth_Captive_Reared_2019_month_df =pd.DataFrame(JNorth_Captive_Reared_2019_df)\n",
    "JNorth_Captive_Reared_2019_8_df = JNorth_Captive_Reared_2019_month_df[JNorth_Captive_Reared_2019_month_df['month']==8]\n",
    "JNorth_Captive_Reared_2019_8_df.tail()"
   ]
  },
  {
   "cell_type": "code",
   "execution_count": 301,
   "id": "e5f73698",
   "metadata": {},
   "outputs": [
    {
     "data": {
      "text/plain": [
       "(644, 6)"
      ]
     },
     "execution_count": 301,
     "metadata": {},
     "output_type": "execute_result"
    }
   ],
   "source": [
    "JNorth_Captive_Reared_2019_8_df.shape"
   ]
  },
  {
   "cell_type": "code",
   "execution_count": 302,
   "id": "ef7668b7",
   "metadata": {},
   "outputs": [
    {
     "name": "stderr",
     "output_type": "stream",
     "text": [
      "C:\\Users\\motte\\anaconda3\\envs\\mlenv\\lib\\site-packages\\pandas\\core\\frame.py:4913: SettingWithCopyWarning: \n",
      "A value is trying to be set on a copy of a slice from a DataFrame\n",
      "\n",
      "See the caveats in the documentation: https://pandas.pydata.org/pandas-docs/stable/user_guide/indexing.html#returning-a-view-versus-a-copy\n",
      "  errors=errors,\n"
     ]
    }
   ],
   "source": [
    "JNorth_Captive_Reared_2019_8_df.drop(['month'], axis=1, inplace=True)"
   ]
  },
  {
   "cell_type": "code",
   "execution_count": 303,
   "id": "48dacef8",
   "metadata": {},
   "outputs": [
    {
     "name": "stderr",
     "output_type": "stream",
     "text": [
      "C:\\Users\\motte\\anaconda3\\envs\\mlenv\\lib\\site-packages\\ipykernel_launcher.py:2: SettingWithCopyWarning: \n",
      "A value is trying to be set on a copy of a slice from a DataFrame.\n",
      "Try using .loc[row_indexer,col_indexer] = value instead\n",
      "\n",
      "See the caveats in the documentation: https://pandas.pydata.org/pandas-docs/stable/user_guide/indexing.html#returning-a-view-versus-a-copy\n",
      "  \n",
      "C:\\Users\\motte\\anaconda3\\envs\\mlenv\\lib\\site-packages\\ipykernel_launcher.py:3: SettingWithCopyWarning: \n",
      "A value is trying to be set on a copy of a slice from a DataFrame.\n",
      "Try using .loc[row_indexer,col_indexer] = value instead\n",
      "\n",
      "See the caveats in the documentation: https://pandas.pydata.org/pandas-docs/stable/user_guide/indexing.html#returning-a-view-versus-a-copy\n",
      "  This is separate from the ipykernel package so we can avoid doing imports until\n"
     ]
    }
   ],
   "source": [
    "# convert lat-long to floats and change address from ALL CAPS to regular capitalization\n",
    "JNorth_Captive_Reared_2019_8_df['latitude'] = JNorth_Captive_Reared_2019_8_df['latitude'].astype(float)\n",
    "JNorth_Captive_Reared_2019_8_df['longitude'] = JNorth_Captive_Reared_2019_8_df['longitude'].astype(float)\n",
    "# JNorth_Milkweed_Site_df['street_address'] = JNorth_Milkweed_Site_df['street_address'].str.title()"
   ]
  },
  {
   "cell_type": "code",
   "execution_count": 304,
   "id": "1d563ba1",
   "metadata": {},
   "outputs": [],
   "source": [
    "geojson = df_to_geojson(JNorth_Captive_Reared_2019_8_df, cols)"
   ]
  },
  {
   "cell_type": "code",
   "execution_count": 305,
   "id": "06443449",
   "metadata": {},
   "outputs": [],
   "source": [
    "file = open(\"JNorth_Captive_Reared_2019_8.geojson\", \"w\")\n",
    "json.dump(geojson, file, indent =1)\n",
    "file.close()"
   ]
  },
  {
   "cell_type": "markdown",
   "id": "96a57c30",
   "metadata": {},
   "source": [
    "## September"
   ]
  },
  {
   "cell_type": "code",
   "execution_count": 306,
   "id": "d016649a",
   "metadata": {},
   "outputs": [
    {
     "data": {
      "text/html": [
       "<div>\n",
       "<style scoped>\n",
       "    .dataframe tbody tr th:only-of-type {\n",
       "        vertical-align: middle;\n",
       "    }\n",
       "\n",
       "    .dataframe tbody tr th {\n",
       "        vertical-align: top;\n",
       "    }\n",
       "\n",
       "    .dataframe thead th {\n",
       "        text-align: right;\n",
       "    }\n",
       "</style>\n",
       "<table border=\"1\" class=\"dataframe\">\n",
       "  <thead>\n",
       "    <tr style=\"text-align: right;\">\n",
       "      <th></th>\n",
       "      <th>sighting_date</th>\n",
       "      <th>species</th>\n",
       "      <th>latitude</th>\n",
       "      <th>longitude</th>\n",
       "      <th>number</th>\n",
       "      <th>month</th>\n",
       "    </tr>\n",
       "  </thead>\n",
       "  <tbody>\n",
       "    <tr>\n",
       "      <th>11152</th>\n",
       "      <td>2019-09-30</td>\n",
       "      <td>Monarch, Captive-Reared</td>\n",
       "      <td>41.869</td>\n",
       "      <td>-87.796</td>\n",
       "      <td>1</td>\n",
       "      <td>9</td>\n",
       "    </tr>\n",
       "    <tr>\n",
       "      <th>11153</th>\n",
       "      <td>2019-09-30</td>\n",
       "      <td>Monarch, Captive-Reared</td>\n",
       "      <td>42.362</td>\n",
       "      <td>-88.069</td>\n",
       "      <td>163</td>\n",
       "      <td>9</td>\n",
       "    </tr>\n",
       "    <tr>\n",
       "      <th>11154</th>\n",
       "      <td>2019-09-30</td>\n",
       "      <td>Monarch, Captive-Reared</td>\n",
       "      <td>43.594</td>\n",
       "      <td>-70.335</td>\n",
       "      <td>1</td>\n",
       "      <td>9</td>\n",
       "    </tr>\n",
       "    <tr>\n",
       "      <th>11155</th>\n",
       "      <td>2019-09-30</td>\n",
       "      <td>Monarch, Captive-Reared</td>\n",
       "      <td>44.648</td>\n",
       "      <td>-83.304</td>\n",
       "      <td>2</td>\n",
       "      <td>9</td>\n",
       "    </tr>\n",
       "    <tr>\n",
       "      <th>11156</th>\n",
       "      <td>2019-09-30</td>\n",
       "      <td>Monarch, Captive-Reared</td>\n",
       "      <td>44.908</td>\n",
       "      <td>-93.480</td>\n",
       "      <td>3</td>\n",
       "      <td>9</td>\n",
       "    </tr>\n",
       "  </tbody>\n",
       "</table>\n",
       "</div>"
      ],
      "text/plain": [
       "      sighting_date                  species  latitude  longitude  number  \\\n",
       "11152    2019-09-30  Monarch, Captive-Reared    41.869    -87.796       1   \n",
       "11153    2019-09-30  Monarch, Captive-Reared    42.362    -88.069     163   \n",
       "11154    2019-09-30  Monarch, Captive-Reared    43.594    -70.335       1   \n",
       "11155    2019-09-30  Monarch, Captive-Reared    44.648    -83.304       2   \n",
       "11156    2019-09-30  Monarch, Captive-Reared    44.908    -93.480       3   \n",
       "\n",
       "       month  \n",
       "11152      9  \n",
       "11153      9  \n",
       "11154      9  \n",
       "11155      9  \n",
       "11156      9  "
      ]
     },
     "execution_count": 306,
     "metadata": {},
     "output_type": "execute_result"
    }
   ],
   "source": [
    "JNorth_Captive_Reared_2019_month_df =pd.DataFrame(JNorth_Captive_Reared_2019_df)\n",
    "JNorth_Captive_Reared_2019_9_df = JNorth_Captive_Reared_2019_month_df[JNorth_Captive_Reared_2019_month_df['month']==9]\n",
    "JNorth_Captive_Reared_2019_9_df.tail()"
   ]
  },
  {
   "cell_type": "code",
   "execution_count": 307,
   "id": "0ecef701",
   "metadata": {},
   "outputs": [
    {
     "data": {
      "text/plain": [
       "(734, 6)"
      ]
     },
     "execution_count": 307,
     "metadata": {},
     "output_type": "execute_result"
    }
   ],
   "source": [
    "JNorth_Captive_Reared_2019_9_df.shape"
   ]
  },
  {
   "cell_type": "code",
   "execution_count": 308,
   "id": "a073c137",
   "metadata": {},
   "outputs": [
    {
     "name": "stderr",
     "output_type": "stream",
     "text": [
      "C:\\Users\\motte\\anaconda3\\envs\\mlenv\\lib\\site-packages\\pandas\\core\\frame.py:4913: SettingWithCopyWarning: \n",
      "A value is trying to be set on a copy of a slice from a DataFrame\n",
      "\n",
      "See the caveats in the documentation: https://pandas.pydata.org/pandas-docs/stable/user_guide/indexing.html#returning-a-view-versus-a-copy\n",
      "  errors=errors,\n"
     ]
    }
   ],
   "source": [
    "JNorth_Captive_Reared_2019_9_df.drop(['month'], axis=1, inplace=True)"
   ]
  },
  {
   "cell_type": "code",
   "execution_count": 309,
   "id": "815c4094",
   "metadata": {},
   "outputs": [
    {
     "name": "stderr",
     "output_type": "stream",
     "text": [
      "C:\\Users\\motte\\anaconda3\\envs\\mlenv\\lib\\site-packages\\ipykernel_launcher.py:2: SettingWithCopyWarning: \n",
      "A value is trying to be set on a copy of a slice from a DataFrame.\n",
      "Try using .loc[row_indexer,col_indexer] = value instead\n",
      "\n",
      "See the caveats in the documentation: https://pandas.pydata.org/pandas-docs/stable/user_guide/indexing.html#returning-a-view-versus-a-copy\n",
      "  \n",
      "C:\\Users\\motte\\anaconda3\\envs\\mlenv\\lib\\site-packages\\ipykernel_launcher.py:3: SettingWithCopyWarning: \n",
      "A value is trying to be set on a copy of a slice from a DataFrame.\n",
      "Try using .loc[row_indexer,col_indexer] = value instead\n",
      "\n",
      "See the caveats in the documentation: https://pandas.pydata.org/pandas-docs/stable/user_guide/indexing.html#returning-a-view-versus-a-copy\n",
      "  This is separate from the ipykernel package so we can avoid doing imports until\n"
     ]
    }
   ],
   "source": [
    "# convert lat-long to floats and change address from ALL CAPS to regular capitalization\n",
    "JNorth_Captive_Reared_2019_9_df['latitude'] = JNorth_Captive_Reared_2019_9_df['latitude'].astype(float)\n",
    "JNorth_Captive_Reared_2019_9_df['longitude'] = JNorth_Captive_Reared_2019_9_df['longitude'].astype(float)\n",
    "# JNorth_Milkweed_Site_df['street_address'] = JNorth_Milkweed_Site_df['street_address'].str.title()"
   ]
  },
  {
   "cell_type": "code",
   "execution_count": 310,
   "id": "264210fa",
   "metadata": {},
   "outputs": [],
   "source": [
    "geojson = df_to_geojson(JNorth_Captive_Reared_2019_9_df, cols)"
   ]
  },
  {
   "cell_type": "code",
   "execution_count": 311,
   "id": "8324bca8",
   "metadata": {},
   "outputs": [],
   "source": [
    "file = open(\"JNorth_Captive_Reared_2019_9.geojson\", \"w\")\n",
    "json.dump(geojson, file, indent =1)\n",
    "file.close()"
   ]
  },
  {
   "cell_type": "markdown",
   "id": "25891dac",
   "metadata": {},
   "source": [
    "## October"
   ]
  },
  {
   "cell_type": "code",
   "execution_count": 312,
   "id": "2e972169",
   "metadata": {},
   "outputs": [
    {
     "data": {
      "text/html": [
       "<div>\n",
       "<style scoped>\n",
       "    .dataframe tbody tr th:only-of-type {\n",
       "        vertical-align: middle;\n",
       "    }\n",
       "\n",
       "    .dataframe tbody tr th {\n",
       "        vertical-align: top;\n",
       "    }\n",
       "\n",
       "    .dataframe thead th {\n",
       "        text-align: right;\n",
       "    }\n",
       "</style>\n",
       "<table border=\"1\" class=\"dataframe\">\n",
       "  <thead>\n",
       "    <tr style=\"text-align: right;\">\n",
       "      <th></th>\n",
       "      <th>sighting_date</th>\n",
       "      <th>species</th>\n",
       "      <th>latitude</th>\n",
       "      <th>longitude</th>\n",
       "      <th>number</th>\n",
       "      <th>month</th>\n",
       "    </tr>\n",
       "  </thead>\n",
       "  <tbody>\n",
       "    <tr>\n",
       "      <th>11303</th>\n",
       "      <td>2019-10-29</td>\n",
       "      <td>Monarch, Captive-Reared</td>\n",
       "      <td>42.833</td>\n",
       "      <td>-73.603</td>\n",
       "      <td>1</td>\n",
       "      <td>10</td>\n",
       "    </tr>\n",
       "    <tr>\n",
       "      <th>11304</th>\n",
       "      <td>2019-10-30</td>\n",
       "      <td>Monarch, Captive-Reared</td>\n",
       "      <td>32.308</td>\n",
       "      <td>-95.480</td>\n",
       "      <td>29</td>\n",
       "      <td>10</td>\n",
       "    </tr>\n",
       "    <tr>\n",
       "      <th>11305</th>\n",
       "      <td>2019-10-30</td>\n",
       "      <td>Monarch, Captive-Reared</td>\n",
       "      <td>32.740</td>\n",
       "      <td>-116.995</td>\n",
       "      <td>1</td>\n",
       "      <td>10</td>\n",
       "    </tr>\n",
       "    <tr>\n",
       "      <th>11306</th>\n",
       "      <td>2019-10-31</td>\n",
       "      <td>Monarch, Captive-Reared</td>\n",
       "      <td>37.358</td>\n",
       "      <td>-77.442</td>\n",
       "      <td>2</td>\n",
       "      <td>10</td>\n",
       "    </tr>\n",
       "    <tr>\n",
       "      <th>11307</th>\n",
       "      <td>2019-10-31</td>\n",
       "      <td>Monarch, Captive-Reared</td>\n",
       "      <td>43.016</td>\n",
       "      <td>-88.282</td>\n",
       "      <td>536</td>\n",
       "      <td>10</td>\n",
       "    </tr>\n",
       "  </tbody>\n",
       "</table>\n",
       "</div>"
      ],
      "text/plain": [
       "      sighting_date                  species  latitude  longitude  number  \\\n",
       "11303    2019-10-29  Monarch, Captive-Reared    42.833    -73.603       1   \n",
       "11304    2019-10-30  Monarch, Captive-Reared    32.308    -95.480      29   \n",
       "11305    2019-10-30  Monarch, Captive-Reared    32.740   -116.995       1   \n",
       "11306    2019-10-31  Monarch, Captive-Reared    37.358    -77.442       2   \n",
       "11307    2019-10-31  Monarch, Captive-Reared    43.016    -88.282     536   \n",
       "\n",
       "       month  \n",
       "11303     10  \n",
       "11304     10  \n",
       "11305     10  \n",
       "11306     10  \n",
       "11307     10  "
      ]
     },
     "execution_count": 312,
     "metadata": {},
     "output_type": "execute_result"
    }
   ],
   "source": [
    "JNorth_Captive_Reared_2019_month_df =pd.DataFrame(JNorth_Captive_Reared_2019_df)\n",
    "JNorth_Captive_Reared_2019_10_df = JNorth_Captive_Reared_2019_month_df[JNorth_Captive_Reared_2019_month_df['month']==10]\n",
    "JNorth_Captive_Reared_2019_10_df.tail()"
   ]
  },
  {
   "cell_type": "code",
   "execution_count": 313,
   "id": "b02cb6c5",
   "metadata": {},
   "outputs": [
    {
     "data": {
      "text/plain": [
       "(151, 6)"
      ]
     },
     "execution_count": 313,
     "metadata": {},
     "output_type": "execute_result"
    }
   ],
   "source": [
    "JNorth_Captive_Reared_2019_10_df.shape"
   ]
  },
  {
   "cell_type": "code",
   "execution_count": 314,
   "id": "4c128c57",
   "metadata": {},
   "outputs": [
    {
     "name": "stderr",
     "output_type": "stream",
     "text": [
      "C:\\Users\\motte\\anaconda3\\envs\\mlenv\\lib\\site-packages\\pandas\\core\\frame.py:4913: SettingWithCopyWarning: \n",
      "A value is trying to be set on a copy of a slice from a DataFrame\n",
      "\n",
      "See the caveats in the documentation: https://pandas.pydata.org/pandas-docs/stable/user_guide/indexing.html#returning-a-view-versus-a-copy\n",
      "  errors=errors,\n"
     ]
    }
   ],
   "source": [
    "JNorth_Captive_Reared_2019_10_df.drop(['month'], axis=1, inplace=True)"
   ]
  },
  {
   "cell_type": "code",
   "execution_count": 315,
   "id": "e11b561b",
   "metadata": {},
   "outputs": [
    {
     "name": "stderr",
     "output_type": "stream",
     "text": [
      "C:\\Users\\motte\\anaconda3\\envs\\mlenv\\lib\\site-packages\\ipykernel_launcher.py:2: SettingWithCopyWarning: \n",
      "A value is trying to be set on a copy of a slice from a DataFrame.\n",
      "Try using .loc[row_indexer,col_indexer] = value instead\n",
      "\n",
      "See the caveats in the documentation: https://pandas.pydata.org/pandas-docs/stable/user_guide/indexing.html#returning-a-view-versus-a-copy\n",
      "  \n",
      "C:\\Users\\motte\\anaconda3\\envs\\mlenv\\lib\\site-packages\\ipykernel_launcher.py:3: SettingWithCopyWarning: \n",
      "A value is trying to be set on a copy of a slice from a DataFrame.\n",
      "Try using .loc[row_indexer,col_indexer] = value instead\n",
      "\n",
      "See the caveats in the documentation: https://pandas.pydata.org/pandas-docs/stable/user_guide/indexing.html#returning-a-view-versus-a-copy\n",
      "  This is separate from the ipykernel package so we can avoid doing imports until\n"
     ]
    }
   ],
   "source": [
    "# convert lat-long to floats and change address from ALL CAPS to regular capitalization\n",
    "JNorth_Captive_Reared_2019_10_df['latitude'] = JNorth_Captive_Reared_2019_10_df['latitude'].astype(float)\n",
    "JNorth_Captive_Reared_2019_10_df['longitude'] = JNorth_Captive_Reared_2019_10_df['longitude'].astype(float)\n",
    "# JNorth_Milkweed_Site_df['street_address'] = JNorth_Milkweed_Site_df['street_address'].str.title()"
   ]
  },
  {
   "cell_type": "code",
   "execution_count": 316,
   "id": "7510a3c3",
   "metadata": {},
   "outputs": [],
   "source": [
    "geojson = df_to_geojson(JNorth_Captive_Reared_2019_10_df, cols)"
   ]
  },
  {
   "cell_type": "code",
   "execution_count": 317,
   "id": "c4baae80",
   "metadata": {},
   "outputs": [],
   "source": [
    "file = open(\"JNorth_Captive_Reared_2019_10.geojson\", \"w\")\n",
    "json.dump(geojson, file, indent =1)\n",
    "file.close()"
   ]
  },
  {
   "cell_type": "markdown",
   "id": "bd664e59",
   "metadata": {},
   "source": [
    "## November"
   ]
  },
  {
   "cell_type": "code",
   "execution_count": 318,
   "id": "1204d4e5",
   "metadata": {},
   "outputs": [
    {
     "data": {
      "text/html": [
       "<div>\n",
       "<style scoped>\n",
       "    .dataframe tbody tr th:only-of-type {\n",
       "        vertical-align: middle;\n",
       "    }\n",
       "\n",
       "    .dataframe tbody tr th {\n",
       "        vertical-align: top;\n",
       "    }\n",
       "\n",
       "    .dataframe thead th {\n",
       "        text-align: right;\n",
       "    }\n",
       "</style>\n",
       "<table border=\"1\" class=\"dataframe\">\n",
       "  <thead>\n",
       "    <tr style=\"text-align: right;\">\n",
       "      <th></th>\n",
       "      <th>sighting_date</th>\n",
       "      <th>species</th>\n",
       "      <th>latitude</th>\n",
       "      <th>longitude</th>\n",
       "      <th>number</th>\n",
       "      <th>month</th>\n",
       "    </tr>\n",
       "  </thead>\n",
       "  <tbody>\n",
       "    <tr>\n",
       "      <th>11322</th>\n",
       "      <td>2019-11-24</td>\n",
       "      <td>Monarch, Captive-Reared</td>\n",
       "      <td>30.752</td>\n",
       "      <td>-86.446</td>\n",
       "      <td>37</td>\n",
       "      <td>11</td>\n",
       "    </tr>\n",
       "    <tr>\n",
       "      <th>11323</th>\n",
       "      <td>2019-11-25</td>\n",
       "      <td>Monarch, Captive-Reared</td>\n",
       "      <td>30.298</td>\n",
       "      <td>-97.802</td>\n",
       "      <td>1</td>\n",
       "      <td>11</td>\n",
       "    </tr>\n",
       "    <tr>\n",
       "      <th>11324</th>\n",
       "      <td>2019-11-26</td>\n",
       "      <td>Monarch, Captive-Reared</td>\n",
       "      <td>30.298</td>\n",
       "      <td>-97.802</td>\n",
       "      <td>1</td>\n",
       "      <td>11</td>\n",
       "    </tr>\n",
       "    <tr>\n",
       "      <th>11325</th>\n",
       "      <td>2019-11-28</td>\n",
       "      <td>Monarch, Captive-Reared</td>\n",
       "      <td>30.298</td>\n",
       "      <td>-97.802</td>\n",
       "      <td>4</td>\n",
       "      <td>11</td>\n",
       "    </tr>\n",
       "    <tr>\n",
       "      <th>11326</th>\n",
       "      <td>2019-11-30</td>\n",
       "      <td>Monarch, Captive-Reared</td>\n",
       "      <td>30.298</td>\n",
       "      <td>-97.802</td>\n",
       "      <td>13</td>\n",
       "      <td>11</td>\n",
       "    </tr>\n",
       "  </tbody>\n",
       "</table>\n",
       "</div>"
      ],
      "text/plain": [
       "      sighting_date                  species  latitude  longitude  number  \\\n",
       "11322    2019-11-24  Monarch, Captive-Reared    30.752    -86.446      37   \n",
       "11323    2019-11-25  Monarch, Captive-Reared    30.298    -97.802       1   \n",
       "11324    2019-11-26  Monarch, Captive-Reared    30.298    -97.802       1   \n",
       "11325    2019-11-28  Monarch, Captive-Reared    30.298    -97.802       4   \n",
       "11326    2019-11-30  Monarch, Captive-Reared    30.298    -97.802      13   \n",
       "\n",
       "       month  \n",
       "11322     11  \n",
       "11323     11  \n",
       "11324     11  \n",
       "11325     11  \n",
       "11326     11  "
      ]
     },
     "execution_count": 318,
     "metadata": {},
     "output_type": "execute_result"
    }
   ],
   "source": [
    "JNorth_Captive_Reared_2019_month_df =pd.DataFrame(JNorth_Captive_Reared_2019_df)\n",
    "JNorth_Captive_Reared_2019_11_df = JNorth_Captive_Reared_2019_month_df[JNorth_Captive_Reared_2019_month_df['month']==11]\n",
    "JNorth_Captive_Reared_2019_11_df.tail()"
   ]
  },
  {
   "cell_type": "code",
   "execution_count": 319,
   "id": "b5447ef0",
   "metadata": {},
   "outputs": [
    {
     "data": {
      "text/plain": [
       "(19, 6)"
      ]
     },
     "execution_count": 319,
     "metadata": {},
     "output_type": "execute_result"
    }
   ],
   "source": [
    "JNorth_Captive_Reared_2019_11_df.shape"
   ]
  },
  {
   "cell_type": "code",
   "execution_count": 320,
   "id": "f3d3ebcd",
   "metadata": {},
   "outputs": [
    {
     "name": "stderr",
     "output_type": "stream",
     "text": [
      "C:\\Users\\motte\\anaconda3\\envs\\mlenv\\lib\\site-packages\\pandas\\core\\frame.py:4913: SettingWithCopyWarning: \n",
      "A value is trying to be set on a copy of a slice from a DataFrame\n",
      "\n",
      "See the caveats in the documentation: https://pandas.pydata.org/pandas-docs/stable/user_guide/indexing.html#returning-a-view-versus-a-copy\n",
      "  errors=errors,\n"
     ]
    }
   ],
   "source": [
    "JNorth_Captive_Reared_2019_11_df.drop(['month'], axis=1, inplace=True)"
   ]
  },
  {
   "cell_type": "code",
   "execution_count": 321,
   "id": "efcce95f",
   "metadata": {},
   "outputs": [
    {
     "name": "stderr",
     "output_type": "stream",
     "text": [
      "C:\\Users\\motte\\anaconda3\\envs\\mlenv\\lib\\site-packages\\ipykernel_launcher.py:2: SettingWithCopyWarning: \n",
      "A value is trying to be set on a copy of a slice from a DataFrame.\n",
      "Try using .loc[row_indexer,col_indexer] = value instead\n",
      "\n",
      "See the caveats in the documentation: https://pandas.pydata.org/pandas-docs/stable/user_guide/indexing.html#returning-a-view-versus-a-copy\n",
      "  \n",
      "C:\\Users\\motte\\anaconda3\\envs\\mlenv\\lib\\site-packages\\ipykernel_launcher.py:3: SettingWithCopyWarning: \n",
      "A value is trying to be set on a copy of a slice from a DataFrame.\n",
      "Try using .loc[row_indexer,col_indexer] = value instead\n",
      "\n",
      "See the caveats in the documentation: https://pandas.pydata.org/pandas-docs/stable/user_guide/indexing.html#returning-a-view-versus-a-copy\n",
      "  This is separate from the ipykernel package so we can avoid doing imports until\n"
     ]
    }
   ],
   "source": [
    "# convert lat-long to floats and change address from ALL CAPS to regular capitalization\n",
    "JNorth_Captive_Reared_2019_11_df['latitude'] = JNorth_Captive_Reared_2019_11_df['latitude'].astype(float)\n",
    "JNorth_Captive_Reared_2019_11_df['longitude'] = JNorth_Captive_Reared_2019_11_df['longitude'].astype(float)\n",
    "# JNorth_Milkweed_Site_df['street_address'] = JNorth_Milkweed_Site_df['street_address'].str.title()"
   ]
  },
  {
   "cell_type": "code",
   "execution_count": 322,
   "id": "f3d6c1d9",
   "metadata": {},
   "outputs": [],
   "source": [
    "geojson = df_to_geojson(JNorth_Captive_Reared_2019_11_df, cols)"
   ]
  },
  {
   "cell_type": "code",
   "execution_count": 323,
   "id": "fd0e9741",
   "metadata": {},
   "outputs": [],
   "source": [
    "file = open(\"JNorth_Captive_Reared_2019_11.geojson\", \"w\")\n",
    "json.dump(geojson, file, indent =1)\n",
    "file.close()"
   ]
  },
  {
   "cell_type": "markdown",
   "id": "cdcf918e",
   "metadata": {},
   "source": [
    "## December"
   ]
  },
  {
   "cell_type": "code",
   "execution_count": 324,
   "id": "3e347baa",
   "metadata": {},
   "outputs": [
    {
     "data": {
      "text/html": [
       "<div>\n",
       "<style scoped>\n",
       "    .dataframe tbody tr th:only-of-type {\n",
       "        vertical-align: middle;\n",
       "    }\n",
       "\n",
       "    .dataframe tbody tr th {\n",
       "        vertical-align: top;\n",
       "    }\n",
       "\n",
       "    .dataframe thead th {\n",
       "        text-align: right;\n",
       "    }\n",
       "</style>\n",
       "<table border=\"1\" class=\"dataframe\">\n",
       "  <thead>\n",
       "    <tr style=\"text-align: right;\">\n",
       "      <th></th>\n",
       "      <th>sighting_date</th>\n",
       "      <th>species</th>\n",
       "      <th>latitude</th>\n",
       "      <th>longitude</th>\n",
       "      <th>number</th>\n",
       "      <th>month</th>\n",
       "    </tr>\n",
       "  </thead>\n",
       "  <tbody>\n",
       "    <tr>\n",
       "      <th>11350</th>\n",
       "      <td>2019-12-20</td>\n",
       "      <td>Monarch, Captive-Reared</td>\n",
       "      <td>32.740</td>\n",
       "      <td>-116.995</td>\n",
       "      <td>1</td>\n",
       "      <td>12</td>\n",
       "    </tr>\n",
       "    <tr>\n",
       "      <th>11351</th>\n",
       "      <td>2019-12-21</td>\n",
       "      <td>Monarch, Captive-Reared</td>\n",
       "      <td>33.560</td>\n",
       "      <td>-81.720</td>\n",
       "      <td>1</td>\n",
       "      <td>12</td>\n",
       "    </tr>\n",
       "    <tr>\n",
       "      <th>11352</th>\n",
       "      <td>2019-12-24</td>\n",
       "      <td>Monarch, Captive-Reared</td>\n",
       "      <td>34.181</td>\n",
       "      <td>-118.945</td>\n",
       "      <td>1</td>\n",
       "      <td>12</td>\n",
       "    </tr>\n",
       "    <tr>\n",
       "      <th>11353</th>\n",
       "      <td>2019-12-26</td>\n",
       "      <td>Monarch, Captive-Reared</td>\n",
       "      <td>32.210</td>\n",
       "      <td>-110.782</td>\n",
       "      <td>1</td>\n",
       "      <td>12</td>\n",
       "    </tr>\n",
       "    <tr>\n",
       "      <th>11354</th>\n",
       "      <td>2019-12-26</td>\n",
       "      <td>Monarch, Captive-Reared</td>\n",
       "      <td>37.551</td>\n",
       "      <td>-121.982</td>\n",
       "      <td>23</td>\n",
       "      <td>12</td>\n",
       "    </tr>\n",
       "  </tbody>\n",
       "</table>\n",
       "</div>"
      ],
      "text/plain": [
       "      sighting_date                  species  latitude  longitude  number  \\\n",
       "11350    2019-12-20  Monarch, Captive-Reared    32.740   -116.995       1   \n",
       "11351    2019-12-21  Monarch, Captive-Reared    33.560    -81.720       1   \n",
       "11352    2019-12-24  Monarch, Captive-Reared    34.181   -118.945       1   \n",
       "11353    2019-12-26  Monarch, Captive-Reared    32.210   -110.782       1   \n",
       "11354    2019-12-26  Monarch, Captive-Reared    37.551   -121.982      23   \n",
       "\n",
       "       month  \n",
       "11350     12  \n",
       "11351     12  \n",
       "11352     12  \n",
       "11353     12  \n",
       "11354     12  "
      ]
     },
     "execution_count": 324,
     "metadata": {},
     "output_type": "execute_result"
    }
   ],
   "source": [
    "JNorth_Captive_Reared_2019_month_df =pd.DataFrame(JNorth_Captive_Reared_2019_df)\n",
    "JNorth_Captive_Reared_2019_12_df = JNorth_Captive_Reared_2019_month_df[JNorth_Captive_Reared_2019_month_df['month']==12]\n",
    "JNorth_Captive_Reared_2019_12_df.tail()"
   ]
  },
  {
   "cell_type": "code",
   "execution_count": 325,
   "id": "20a8e5a5",
   "metadata": {},
   "outputs": [
    {
     "data": {
      "text/plain": [
       "(28, 6)"
      ]
     },
     "execution_count": 325,
     "metadata": {},
     "output_type": "execute_result"
    }
   ],
   "source": [
    "JNorth_Captive_Reared_2019_12_df.shape"
   ]
  },
  {
   "cell_type": "code",
   "execution_count": 326,
   "id": "529a75b3",
   "metadata": {},
   "outputs": [
    {
     "name": "stderr",
     "output_type": "stream",
     "text": [
      "C:\\Users\\motte\\anaconda3\\envs\\mlenv\\lib\\site-packages\\pandas\\core\\frame.py:4913: SettingWithCopyWarning: \n",
      "A value is trying to be set on a copy of a slice from a DataFrame\n",
      "\n",
      "See the caveats in the documentation: https://pandas.pydata.org/pandas-docs/stable/user_guide/indexing.html#returning-a-view-versus-a-copy\n",
      "  errors=errors,\n"
     ]
    }
   ],
   "source": [
    "JNorth_Captive_Reared_2019_12_df.drop(['month'], axis=1, inplace=True)"
   ]
  },
  {
   "cell_type": "code",
   "execution_count": 327,
   "id": "9d50cf68",
   "metadata": {},
   "outputs": [
    {
     "name": "stderr",
     "output_type": "stream",
     "text": [
      "C:\\Users\\motte\\anaconda3\\envs\\mlenv\\lib\\site-packages\\ipykernel_launcher.py:2: SettingWithCopyWarning: \n",
      "A value is trying to be set on a copy of a slice from a DataFrame.\n",
      "Try using .loc[row_indexer,col_indexer] = value instead\n",
      "\n",
      "See the caveats in the documentation: https://pandas.pydata.org/pandas-docs/stable/user_guide/indexing.html#returning-a-view-versus-a-copy\n",
      "  \n",
      "C:\\Users\\motte\\anaconda3\\envs\\mlenv\\lib\\site-packages\\ipykernel_launcher.py:3: SettingWithCopyWarning: \n",
      "A value is trying to be set on a copy of a slice from a DataFrame.\n",
      "Try using .loc[row_indexer,col_indexer] = value instead\n",
      "\n",
      "See the caveats in the documentation: https://pandas.pydata.org/pandas-docs/stable/user_guide/indexing.html#returning-a-view-versus-a-copy\n",
      "  This is separate from the ipykernel package so we can avoid doing imports until\n"
     ]
    }
   ],
   "source": [
    "# convert lat-long to floats and change address from ALL CAPS to regular capitalization\n",
    "JNorth_Captive_Reared_2019_12_df['latitude'] = JNorth_Captive_Reared_2019_12_df['latitude'].astype(float)\n",
    "JNorth_Captive_Reared_2019_12_df['longitude'] = JNorth_Captive_Reared_2019_12_df['longitude'].astype(float)\n",
    "# JNorth_Milkweed_Site_df['street_address'] = JNorth_Milkweed_Site_df['street_address'].str.title()"
   ]
  },
  {
   "cell_type": "code",
   "execution_count": 328,
   "id": "90e20da8",
   "metadata": {},
   "outputs": [],
   "source": [
    "geojson = df_to_geojson(JNorth_Captive_Reared_2019_12_df, cols)"
   ]
  },
  {
   "cell_type": "code",
   "execution_count": 329,
   "id": "1dc06ea2",
   "metadata": {},
   "outputs": [],
   "source": [
    "file = open(\"JNorth_Captive_Reared_2019_12.geojson\", \"w\")\n",
    "json.dump(geojson, file, indent =1)\n",
    "file.close()"
   ]
  },
  {
   "cell_type": "code",
   "execution_count": null,
   "id": "9057b433",
   "metadata": {},
   "outputs": [],
   "source": []
  },
  {
   "cell_type": "code",
   "execution_count": null,
   "id": "9a7b6afc",
   "metadata": {},
   "outputs": [],
   "source": []
  },
  {
   "cell_type": "markdown",
   "id": "8bf917be",
   "metadata": {},
   "source": [
    "# 2020"
   ]
  },
  {
   "cell_type": "code",
   "execution_count": 330,
   "id": "4968168c",
   "metadata": {},
   "outputs": [
    {
     "data": {
      "text/html": [
       "<div>\n",
       "<style scoped>\n",
       "    .dataframe tbody tr th:only-of-type {\n",
       "        vertical-align: middle;\n",
       "    }\n",
       "\n",
       "    .dataframe tbody tr th {\n",
       "        vertical-align: top;\n",
       "    }\n",
       "\n",
       "    .dataframe thead th {\n",
       "        text-align: right;\n",
       "    }\n",
       "</style>\n",
       "<table border=\"1\" class=\"dataframe\">\n",
       "  <thead>\n",
       "    <tr style=\"text-align: right;\">\n",
       "      <th></th>\n",
       "      <th>sighting_date</th>\n",
       "      <th>species</th>\n",
       "      <th>latitude</th>\n",
       "      <th>longitude</th>\n",
       "      <th>number</th>\n",
       "      <th>year</th>\n",
       "    </tr>\n",
       "  </thead>\n",
       "  <tbody>\n",
       "    <tr>\n",
       "      <th>13728</th>\n",
       "      <td>2020-12-22</td>\n",
       "      <td>Monarch, Captive-Reared</td>\n",
       "      <td>26.299</td>\n",
       "      <td>-80.104</td>\n",
       "      <td>10</td>\n",
       "      <td>2020</td>\n",
       "    </tr>\n",
       "    <tr>\n",
       "      <th>13729</th>\n",
       "      <td>2020-12-23</td>\n",
       "      <td>Monarch, Captive-Reared</td>\n",
       "      <td>26.526</td>\n",
       "      <td>-80.055</td>\n",
       "      <td>2</td>\n",
       "      <td>2020</td>\n",
       "    </tr>\n",
       "    <tr>\n",
       "      <th>13730</th>\n",
       "      <td>2020-12-23</td>\n",
       "      <td>Monarch, Captive-Reared</td>\n",
       "      <td>28.849</td>\n",
       "      <td>-97.069</td>\n",
       "      <td>2</td>\n",
       "      <td>2020</td>\n",
       "    </tr>\n",
       "    <tr>\n",
       "      <th>13731</th>\n",
       "      <td>2020-12-23</td>\n",
       "      <td>Monarch, Captive-Reared</td>\n",
       "      <td>29.742</td>\n",
       "      <td>-95.373</td>\n",
       "      <td>23</td>\n",
       "      <td>2020</td>\n",
       "    </tr>\n",
       "    <tr>\n",
       "      <th>13732</th>\n",
       "      <td>2020-12-28</td>\n",
       "      <td>Monarch, Captive-Reared</td>\n",
       "      <td>30.179</td>\n",
       "      <td>-85.772</td>\n",
       "      <td>99</td>\n",
       "      <td>2020</td>\n",
       "    </tr>\n",
       "  </tbody>\n",
       "</table>\n",
       "</div>"
      ],
      "text/plain": [
       "      sighting_date                  species  latitude  longitude  number  \\\n",
       "13728    2020-12-22  Monarch, Captive-Reared    26.299    -80.104      10   \n",
       "13729    2020-12-23  Monarch, Captive-Reared    26.526    -80.055       2   \n",
       "13730    2020-12-23  Monarch, Captive-Reared    28.849    -97.069       2   \n",
       "13731    2020-12-23  Monarch, Captive-Reared    29.742    -95.373      23   \n",
       "13732    2020-12-28  Monarch, Captive-Reared    30.179    -85.772      99   \n",
       "\n",
       "       year  \n",
       "13728  2020  \n",
       "13729  2020  \n",
       "13730  2020  \n",
       "13731  2020  \n",
       "13732  2020  "
      ]
     },
     "execution_count": 330,
     "metadata": {},
     "output_type": "execute_result"
    }
   ],
   "source": [
    "JNorth_Captive_Reared_2020_df = JNorth_Captive_Reared_df[JNorth_Captive_Reared_df['year']==2020]\n",
    "JNorth_Captive_Reared_2020_df.tail()"
   ]
  },
  {
   "cell_type": "code",
   "execution_count": 331,
   "id": "0c944693",
   "metadata": {},
   "outputs": [
    {
     "data": {
      "text/plain": [
       "(2378, 6)"
      ]
     },
     "execution_count": 331,
     "metadata": {},
     "output_type": "execute_result"
    }
   ],
   "source": [
    "JNorth_Captive_Reared_2020_df.shape"
   ]
  },
  {
   "cell_type": "code",
   "execution_count": 332,
   "id": "92bc2990",
   "metadata": {},
   "outputs": [
    {
     "name": "stderr",
     "output_type": "stream",
     "text": [
      "C:\\Users\\motte\\anaconda3\\envs\\mlenv\\lib\\site-packages\\pandas\\core\\frame.py:4913: SettingWithCopyWarning: \n",
      "A value is trying to be set on a copy of a slice from a DataFrame\n",
      "\n",
      "See the caveats in the documentation: https://pandas.pydata.org/pandas-docs/stable/user_guide/indexing.html#returning-a-view-versus-a-copy\n",
      "  errors=errors,\n"
     ]
    }
   ],
   "source": [
    "JNorth_Captive_Reared_2020_df.drop(['year'], axis=1, inplace=True)"
   ]
  },
  {
   "cell_type": "code",
   "execution_count": 333,
   "id": "9cdb97b2",
   "metadata": {},
   "outputs": [
    {
     "data": {
      "text/plain": [
       "<bound method NDFrame.tail of       sighting_date                  species  latitude  longitude  number\n",
       "11355    2020-01-02  Monarch, Captive-Reared    27.945    -82.766       1\n",
       "11356    2020-01-04  Monarch, Captive-Reared    27.651    -97.298       2\n",
       "11357    2020-01-04  Monarch, Captive-Reared    27.966    -82.800       1\n",
       "11358    2020-01-09  Monarch, Captive-Reared    21.482   -157.996       2\n",
       "11359    2020-01-12  Monarch, Captive-Reared    27.947    -82.766       1\n",
       "...             ...                      ...       ...        ...     ...\n",
       "13728    2020-12-22  Monarch, Captive-Reared    26.299    -80.104      10\n",
       "13729    2020-12-23  Monarch, Captive-Reared    26.526    -80.055       2\n",
       "13730    2020-12-23  Monarch, Captive-Reared    28.849    -97.069       2\n",
       "13731    2020-12-23  Monarch, Captive-Reared    29.742    -95.373      23\n",
       "13732    2020-12-28  Monarch, Captive-Reared    30.179    -85.772      99\n",
       "\n",
       "[2378 rows x 5 columns]>"
      ]
     },
     "execution_count": 333,
     "metadata": {},
     "output_type": "execute_result"
    }
   ],
   "source": [
    "JNorth_Captive_Reared_2020_df.tail"
   ]
  },
  {
   "cell_type": "code",
   "execution_count": 334,
   "id": "7783762f",
   "metadata": {},
   "outputs": [
    {
     "name": "stderr",
     "output_type": "stream",
     "text": [
      "C:\\Users\\motte\\anaconda3\\envs\\mlenv\\lib\\site-packages\\ipykernel_launcher.py:1: SettingWithCopyWarning: \n",
      "A value is trying to be set on a copy of a slice from a DataFrame.\n",
      "Try using .loc[row_indexer,col_indexer] = value instead\n",
      "\n",
      "See the caveats in the documentation: https://pandas.pydata.org/pandas-docs/stable/user_guide/indexing.html#returning-a-view-versus-a-copy\n",
      "  \"\"\"Entry point for launching an IPython kernel.\n"
     ]
    }
   ],
   "source": [
    "JNorth_Captive_Reared_2020_df['month'] = pd.DatetimeIndex(JNorth_Captive_Reared_2020_df['sighting_date']).month"
   ]
  },
  {
   "cell_type": "markdown",
   "id": "f71cd27e",
   "metadata": {},
   "source": [
    "## January"
   ]
  },
  {
   "cell_type": "code",
   "execution_count": 335,
   "id": "5aa17557",
   "metadata": {},
   "outputs": [
    {
     "data": {
      "text/html": [
       "<div>\n",
       "<style scoped>\n",
       "    .dataframe tbody tr th:only-of-type {\n",
       "        vertical-align: middle;\n",
       "    }\n",
       "\n",
       "    .dataframe tbody tr th {\n",
       "        vertical-align: top;\n",
       "    }\n",
       "\n",
       "    .dataframe thead th {\n",
       "        text-align: right;\n",
       "    }\n",
       "</style>\n",
       "<table border=\"1\" class=\"dataframe\">\n",
       "  <thead>\n",
       "    <tr style=\"text-align: right;\">\n",
       "      <th></th>\n",
       "      <th>sighting_date</th>\n",
       "      <th>species</th>\n",
       "      <th>latitude</th>\n",
       "      <th>longitude</th>\n",
       "      <th>number</th>\n",
       "      <th>month</th>\n",
       "    </tr>\n",
       "  </thead>\n",
       "  <tbody>\n",
       "    <tr>\n",
       "      <th>11367</th>\n",
       "      <td>2020-01-22</td>\n",
       "      <td>Monarch, Captive-Reared</td>\n",
       "      <td>27.954</td>\n",
       "      <td>-82.750</td>\n",
       "      <td>2</td>\n",
       "      <td>1</td>\n",
       "    </tr>\n",
       "    <tr>\n",
       "      <th>11368</th>\n",
       "      <td>2020-01-24</td>\n",
       "      <td>Monarch, Captive-Reared</td>\n",
       "      <td>27.955</td>\n",
       "      <td>-82.751</td>\n",
       "      <td>1</td>\n",
       "      <td>1</td>\n",
       "    </tr>\n",
       "    <tr>\n",
       "      <th>11369</th>\n",
       "      <td>2020-01-25</td>\n",
       "      <td>Monarch, Captive-Reared</td>\n",
       "      <td>27.954</td>\n",
       "      <td>-82.749</td>\n",
       "      <td>4</td>\n",
       "      <td>1</td>\n",
       "    </tr>\n",
       "    <tr>\n",
       "      <th>11370</th>\n",
       "      <td>2020-01-28</td>\n",
       "      <td>Monarch, Captive-Reared</td>\n",
       "      <td>27.955</td>\n",
       "      <td>-82.750</td>\n",
       "      <td>1</td>\n",
       "      <td>1</td>\n",
       "    </tr>\n",
       "    <tr>\n",
       "      <th>11371</th>\n",
       "      <td>2020-01-29</td>\n",
       "      <td>Monarch, Captive-Reared</td>\n",
       "      <td>27.956</td>\n",
       "      <td>-82.750</td>\n",
       "      <td>1</td>\n",
       "      <td>1</td>\n",
       "    </tr>\n",
       "  </tbody>\n",
       "</table>\n",
       "</div>"
      ],
      "text/plain": [
       "      sighting_date                  species  latitude  longitude  number  \\\n",
       "11367    2020-01-22  Monarch, Captive-Reared    27.954    -82.750       2   \n",
       "11368    2020-01-24  Monarch, Captive-Reared    27.955    -82.751       1   \n",
       "11369    2020-01-25  Monarch, Captive-Reared    27.954    -82.749       4   \n",
       "11370    2020-01-28  Monarch, Captive-Reared    27.955    -82.750       1   \n",
       "11371    2020-01-29  Monarch, Captive-Reared    27.956    -82.750       1   \n",
       "\n",
       "       month  \n",
       "11367      1  \n",
       "11368      1  \n",
       "11369      1  \n",
       "11370      1  \n",
       "11371      1  "
      ]
     },
     "execution_count": 335,
     "metadata": {},
     "output_type": "execute_result"
    }
   ],
   "source": [
    "JNorth_Captive_Reared_2020_month_df =pd.DataFrame(JNorth_Captive_Reared_2020_df)\n",
    "JNorth_Captive_Reared_2020_1_df = JNorth_Captive_Reared_2020_month_df[JNorth_Captive_Reared_2020_month_df['month']==1]\n",
    "JNorth_Captive_Reared_2020_1_df.tail()"
   ]
  },
  {
   "cell_type": "code",
   "execution_count": 336,
   "id": "ca135c2e",
   "metadata": {},
   "outputs": [
    {
     "data": {
      "text/plain": [
       "(17, 6)"
      ]
     },
     "execution_count": 336,
     "metadata": {},
     "output_type": "execute_result"
    }
   ],
   "source": [
    "JNorth_Captive_Reared_2020_1_df.shape"
   ]
  },
  {
   "cell_type": "code",
   "execution_count": 337,
   "id": "6d0be994",
   "metadata": {},
   "outputs": [
    {
     "name": "stderr",
     "output_type": "stream",
     "text": [
      "C:\\Users\\motte\\anaconda3\\envs\\mlenv\\lib\\site-packages\\pandas\\core\\frame.py:4913: SettingWithCopyWarning: \n",
      "A value is trying to be set on a copy of a slice from a DataFrame\n",
      "\n",
      "See the caveats in the documentation: https://pandas.pydata.org/pandas-docs/stable/user_guide/indexing.html#returning-a-view-versus-a-copy\n",
      "  errors=errors,\n"
     ]
    }
   ],
   "source": [
    "JNorth_Captive_Reared_2020_1_df.drop(['month'], axis=1, inplace=True)"
   ]
  },
  {
   "cell_type": "code",
   "execution_count": 338,
   "id": "be4f1dc4",
   "metadata": {},
   "outputs": [
    {
     "name": "stderr",
     "output_type": "stream",
     "text": [
      "C:\\Users\\motte\\anaconda3\\envs\\mlenv\\lib\\site-packages\\ipykernel_launcher.py:2: SettingWithCopyWarning: \n",
      "A value is trying to be set on a copy of a slice from a DataFrame.\n",
      "Try using .loc[row_indexer,col_indexer] = value instead\n",
      "\n",
      "See the caveats in the documentation: https://pandas.pydata.org/pandas-docs/stable/user_guide/indexing.html#returning-a-view-versus-a-copy\n",
      "  \n",
      "C:\\Users\\motte\\anaconda3\\envs\\mlenv\\lib\\site-packages\\ipykernel_launcher.py:3: SettingWithCopyWarning: \n",
      "A value is trying to be set on a copy of a slice from a DataFrame.\n",
      "Try using .loc[row_indexer,col_indexer] = value instead\n",
      "\n",
      "See the caveats in the documentation: https://pandas.pydata.org/pandas-docs/stable/user_guide/indexing.html#returning-a-view-versus-a-copy\n",
      "  This is separate from the ipykernel package so we can avoid doing imports until\n"
     ]
    }
   ],
   "source": [
    "# convert lat-long to floats and change address from ALL CAPS to regular capitalization\n",
    "JNorth_Captive_Reared_2020_1_df['latitude'] = JNorth_Captive_Reared_2020_1_df['latitude'].astype(float)\n",
    "JNorth_Captive_Reared_2020_1_df['longitude'] = JNorth_Captive_Reared_2020_1_df['longitude'].astype(float)\n",
    "# JNorth_Milkweed_Site_df['street_address'] = JNorth_Milkweed_Site_df['street_address'].str.title()"
   ]
  },
  {
   "cell_type": "code",
   "execution_count": 339,
   "id": "918699f7",
   "metadata": {},
   "outputs": [],
   "source": [
    "geojson = df_to_geojson(JNorth_Captive_Reared_2020_1_df, cols)"
   ]
  },
  {
   "cell_type": "code",
   "execution_count": 340,
   "id": "d4b56319",
   "metadata": {},
   "outputs": [],
   "source": [
    "file = open(\"JNorth_Captive_Reared_2020_1.geojson\", \"w\")\n",
    "json.dump(geojson, file, indent =1)\n",
    "file.close()"
   ]
  },
  {
   "cell_type": "markdown",
   "id": "2330de88",
   "metadata": {},
   "source": [
    "# February"
   ]
  },
  {
   "cell_type": "code",
   "execution_count": 341,
   "id": "a96637fc",
   "metadata": {},
   "outputs": [
    {
     "data": {
      "text/html": [
       "<div>\n",
       "<style scoped>\n",
       "    .dataframe tbody tr th:only-of-type {\n",
       "        vertical-align: middle;\n",
       "    }\n",
       "\n",
       "    .dataframe tbody tr th {\n",
       "        vertical-align: top;\n",
       "    }\n",
       "\n",
       "    .dataframe thead th {\n",
       "        text-align: right;\n",
       "    }\n",
       "</style>\n",
       "<table border=\"1\" class=\"dataframe\">\n",
       "  <thead>\n",
       "    <tr style=\"text-align: right;\">\n",
       "      <th></th>\n",
       "      <th>sighting_date</th>\n",
       "      <th>species</th>\n",
       "      <th>latitude</th>\n",
       "      <th>longitude</th>\n",
       "      <th>number</th>\n",
       "      <th>month</th>\n",
       "    </tr>\n",
       "  </thead>\n",
       "  <tbody>\n",
       "    <tr>\n",
       "      <th>11378</th>\n",
       "      <td>2020-02-08</td>\n",
       "      <td>Monarch, Captive-Reared</td>\n",
       "      <td>30.099</td>\n",
       "      <td>-95.497</td>\n",
       "      <td>1</td>\n",
       "      <td>2</td>\n",
       "    </tr>\n",
       "    <tr>\n",
       "      <th>11379</th>\n",
       "      <td>2020-02-10</td>\n",
       "      <td>Monarch, Captive-Reared</td>\n",
       "      <td>27.956</td>\n",
       "      <td>-82.751</td>\n",
       "      <td>2</td>\n",
       "      <td>2</td>\n",
       "    </tr>\n",
       "    <tr>\n",
       "      <th>11380</th>\n",
       "      <td>2020-02-10</td>\n",
       "      <td>Monarch, Captive-Reared</td>\n",
       "      <td>30.400</td>\n",
       "      <td>-86.443</td>\n",
       "      <td>2</td>\n",
       "      <td>2</td>\n",
       "    </tr>\n",
       "    <tr>\n",
       "      <th>11381</th>\n",
       "      <td>2020-02-22</td>\n",
       "      <td>Monarch, Captive-Reared</td>\n",
       "      <td>27.956</td>\n",
       "      <td>-82.751</td>\n",
       "      <td>1</td>\n",
       "      <td>2</td>\n",
       "    </tr>\n",
       "    <tr>\n",
       "      <th>11382</th>\n",
       "      <td>2020-02-23</td>\n",
       "      <td>Monarch, Captive-Reared</td>\n",
       "      <td>27.956</td>\n",
       "      <td>-82.751</td>\n",
       "      <td>1</td>\n",
       "      <td>2</td>\n",
       "    </tr>\n",
       "  </tbody>\n",
       "</table>\n",
       "</div>"
      ],
      "text/plain": [
       "      sighting_date                  species  latitude  longitude  number  \\\n",
       "11378    2020-02-08  Monarch, Captive-Reared    30.099    -95.497       1   \n",
       "11379    2020-02-10  Monarch, Captive-Reared    27.956    -82.751       2   \n",
       "11380    2020-02-10  Monarch, Captive-Reared    30.400    -86.443       2   \n",
       "11381    2020-02-22  Monarch, Captive-Reared    27.956    -82.751       1   \n",
       "11382    2020-02-23  Monarch, Captive-Reared    27.956    -82.751       1   \n",
       "\n",
       "       month  \n",
       "11378      2  \n",
       "11379      2  \n",
       "11380      2  \n",
       "11381      2  \n",
       "11382      2  "
      ]
     },
     "execution_count": 341,
     "metadata": {},
     "output_type": "execute_result"
    }
   ],
   "source": [
    "JNorth_Captive_Reared_2020_month_df =pd.DataFrame(JNorth_Captive_Reared_2020_df)\n",
    "JNorth_Captive_Reared_2020_2_df = JNorth_Captive_Reared_2020_month_df[JNorth_Captive_Reared_2020_month_df['month']==2]\n",
    "JNorth_Captive_Reared_2020_2_df.tail()"
   ]
  },
  {
   "cell_type": "code",
   "execution_count": 342,
   "id": "27970c15",
   "metadata": {},
   "outputs": [
    {
     "data": {
      "text/plain": [
       "(11, 6)"
      ]
     },
     "execution_count": 342,
     "metadata": {},
     "output_type": "execute_result"
    }
   ],
   "source": [
    "JNorth_Captive_Reared_2020_2_df.shape"
   ]
  },
  {
   "cell_type": "code",
   "execution_count": 343,
   "id": "c2b5b887",
   "metadata": {},
   "outputs": [
    {
     "name": "stderr",
     "output_type": "stream",
     "text": [
      "C:\\Users\\motte\\anaconda3\\envs\\mlenv\\lib\\site-packages\\pandas\\core\\frame.py:4913: SettingWithCopyWarning: \n",
      "A value is trying to be set on a copy of a slice from a DataFrame\n",
      "\n",
      "See the caveats in the documentation: https://pandas.pydata.org/pandas-docs/stable/user_guide/indexing.html#returning-a-view-versus-a-copy\n",
      "  errors=errors,\n"
     ]
    }
   ],
   "source": [
    "JNorth_Captive_Reared_2020_2_df.drop(['month'], axis=1, inplace=True)"
   ]
  },
  {
   "cell_type": "code",
   "execution_count": 344,
   "id": "c7b9db54",
   "metadata": {},
   "outputs": [
    {
     "name": "stderr",
     "output_type": "stream",
     "text": [
      "C:\\Users\\motte\\anaconda3\\envs\\mlenv\\lib\\site-packages\\ipykernel_launcher.py:2: SettingWithCopyWarning: \n",
      "A value is trying to be set on a copy of a slice from a DataFrame.\n",
      "Try using .loc[row_indexer,col_indexer] = value instead\n",
      "\n",
      "See the caveats in the documentation: https://pandas.pydata.org/pandas-docs/stable/user_guide/indexing.html#returning-a-view-versus-a-copy\n",
      "  \n",
      "C:\\Users\\motte\\anaconda3\\envs\\mlenv\\lib\\site-packages\\ipykernel_launcher.py:3: SettingWithCopyWarning: \n",
      "A value is trying to be set on a copy of a slice from a DataFrame.\n",
      "Try using .loc[row_indexer,col_indexer] = value instead\n",
      "\n",
      "See the caveats in the documentation: https://pandas.pydata.org/pandas-docs/stable/user_guide/indexing.html#returning-a-view-versus-a-copy\n",
      "  This is separate from the ipykernel package so we can avoid doing imports until\n"
     ]
    }
   ],
   "source": [
    "# convert lat-long to floats and change address from ALL CAPS to regular capitalization\n",
    "JNorth_Captive_Reared_2020_2_df['latitude'] = JNorth_Captive_Reared_2020_2_df['latitude'].astype(float)\n",
    "JNorth_Captive_Reared_2020_2_df['longitude'] = JNorth_Captive_Reared_2020_2_df['longitude'].astype(float)\n",
    "# JNorth_Milkweed_Site_df['street_address'] = JNorth_Milkweed_Site_df['street_address'].str.title()"
   ]
  },
  {
   "cell_type": "code",
   "execution_count": 345,
   "id": "8cd49e48",
   "metadata": {},
   "outputs": [],
   "source": [
    "geojson = df_to_geojson(JNorth_Captive_Reared_2020_2_df, cols)"
   ]
  },
  {
   "cell_type": "code",
   "execution_count": 346,
   "id": "fc85e820",
   "metadata": {},
   "outputs": [],
   "source": [
    "file = open(\"JNorth_Captive_Reared_2020_2.geojson\", \"w\")\n",
    "json.dump(geojson, file, indent =1)\n",
    "file.close()"
   ]
  },
  {
   "cell_type": "code",
   "execution_count": 347,
   "id": "80cd9c13",
   "metadata": {},
   "outputs": [
    {
     "data": {
      "text/html": [
       "<div>\n",
       "<style scoped>\n",
       "    .dataframe tbody tr th:only-of-type {\n",
       "        vertical-align: middle;\n",
       "    }\n",
       "\n",
       "    .dataframe tbody tr th {\n",
       "        vertical-align: top;\n",
       "    }\n",
       "\n",
       "    .dataframe thead th {\n",
       "        text-align: right;\n",
       "    }\n",
       "</style>\n",
       "<table border=\"1\" class=\"dataframe\">\n",
       "  <thead>\n",
       "    <tr style=\"text-align: right;\">\n",
       "      <th></th>\n",
       "      <th>sighting_date</th>\n",
       "      <th>species</th>\n",
       "      <th>latitude</th>\n",
       "      <th>longitude</th>\n",
       "      <th>number</th>\n",
       "      <th>month</th>\n",
       "    </tr>\n",
       "  </thead>\n",
       "  <tbody>\n",
       "    <tr>\n",
       "      <th>11407</th>\n",
       "      <td>2020-03-30</td>\n",
       "      <td>Monarch, Captive-Reared</td>\n",
       "      <td>33.829</td>\n",
       "      <td>-117.966</td>\n",
       "      <td>2</td>\n",
       "      <td>3</td>\n",
       "    </tr>\n",
       "    <tr>\n",
       "      <th>11408</th>\n",
       "      <td>2020-03-30</td>\n",
       "      <td>Monarch, Captive-Reared</td>\n",
       "      <td>33.990</td>\n",
       "      <td>-118.427</td>\n",
       "      <td>2</td>\n",
       "      <td>3</td>\n",
       "    </tr>\n",
       "    <tr>\n",
       "      <th>11409</th>\n",
       "      <td>2020-03-31</td>\n",
       "      <td>Monarch, Captive-Reared</td>\n",
       "      <td>29.709</td>\n",
       "      <td>-95.607</td>\n",
       "      <td>43</td>\n",
       "      <td>3</td>\n",
       "    </tr>\n",
       "    <tr>\n",
       "      <th>11410</th>\n",
       "      <td>2020-03-31</td>\n",
       "      <td>Monarch, Captive-Reared</td>\n",
       "      <td>30.461</td>\n",
       "      <td>-97.758</td>\n",
       "      <td>16</td>\n",
       "      <td>3</td>\n",
       "    </tr>\n",
       "    <tr>\n",
       "      <th>11411</th>\n",
       "      <td>2020-03-31</td>\n",
       "      <td>Monarch, Captive-Reared</td>\n",
       "      <td>33.824</td>\n",
       "      <td>-117.966</td>\n",
       "      <td>8</td>\n",
       "      <td>3</td>\n",
       "    </tr>\n",
       "  </tbody>\n",
       "</table>\n",
       "</div>"
      ],
      "text/plain": [
       "      sighting_date                  species  latitude  longitude  number  \\\n",
       "11407    2020-03-30  Monarch, Captive-Reared    33.829   -117.966       2   \n",
       "11408    2020-03-30  Monarch, Captive-Reared    33.990   -118.427       2   \n",
       "11409    2020-03-31  Monarch, Captive-Reared    29.709    -95.607      43   \n",
       "11410    2020-03-31  Monarch, Captive-Reared    30.461    -97.758      16   \n",
       "11411    2020-03-31  Monarch, Captive-Reared    33.824   -117.966       8   \n",
       "\n",
       "       month  \n",
       "11407      3  \n",
       "11408      3  \n",
       "11409      3  \n",
       "11410      3  \n",
       "11411      3  "
      ]
     },
     "execution_count": 347,
     "metadata": {},
     "output_type": "execute_result"
    }
   ],
   "source": [
    "JNorth_Captive_Reared_2020_month_df =pd.DataFrame(JNorth_Captive_Reared_2020_df)\n",
    "JNorth_Captive_Reared_2020_3_df = JNorth_Captive_Reared_2020_month_df[JNorth_Captive_Reared_2020_month_df['month']==3]\n",
    "JNorth_Captive_Reared_2020_3_df.tail()"
   ]
  },
  {
   "cell_type": "code",
   "execution_count": 348,
   "id": "f59a1362",
   "metadata": {},
   "outputs": [
    {
     "data": {
      "text/plain": [
       "(29, 6)"
      ]
     },
     "execution_count": 348,
     "metadata": {},
     "output_type": "execute_result"
    }
   ],
   "source": [
    "JNorth_Captive_Reared_2020_3_df.shape"
   ]
  },
  {
   "cell_type": "code",
   "execution_count": 349,
   "id": "bbda5b6a",
   "metadata": {},
   "outputs": [
    {
     "name": "stderr",
     "output_type": "stream",
     "text": [
      "C:\\Users\\motte\\anaconda3\\envs\\mlenv\\lib\\site-packages\\pandas\\core\\frame.py:4913: SettingWithCopyWarning: \n",
      "A value is trying to be set on a copy of a slice from a DataFrame\n",
      "\n",
      "See the caveats in the documentation: https://pandas.pydata.org/pandas-docs/stable/user_guide/indexing.html#returning-a-view-versus-a-copy\n",
      "  errors=errors,\n"
     ]
    }
   ],
   "source": [
    "JNorth_Captive_Reared_2020_3_df.drop(['month'], axis=1, inplace=True)"
   ]
  },
  {
   "cell_type": "code",
   "execution_count": 350,
   "id": "512d795b",
   "metadata": {},
   "outputs": [
    {
     "name": "stderr",
     "output_type": "stream",
     "text": [
      "C:\\Users\\motte\\anaconda3\\envs\\mlenv\\lib\\site-packages\\ipykernel_launcher.py:2: SettingWithCopyWarning: \n",
      "A value is trying to be set on a copy of a slice from a DataFrame.\n",
      "Try using .loc[row_indexer,col_indexer] = value instead\n",
      "\n",
      "See the caveats in the documentation: https://pandas.pydata.org/pandas-docs/stable/user_guide/indexing.html#returning-a-view-versus-a-copy\n",
      "  \n",
      "C:\\Users\\motte\\anaconda3\\envs\\mlenv\\lib\\site-packages\\ipykernel_launcher.py:3: SettingWithCopyWarning: \n",
      "A value is trying to be set on a copy of a slice from a DataFrame.\n",
      "Try using .loc[row_indexer,col_indexer] = value instead\n",
      "\n",
      "See the caveats in the documentation: https://pandas.pydata.org/pandas-docs/stable/user_guide/indexing.html#returning-a-view-versus-a-copy\n",
      "  This is separate from the ipykernel package so we can avoid doing imports until\n"
     ]
    }
   ],
   "source": [
    "# convert lat-long to floats and change address from ALL CAPS to regular capitalization\n",
    "JNorth_Captive_Reared_2020_3_df['latitude'] = JNorth_Captive_Reared_2020_3_df['latitude'].astype(float)\n",
    "JNorth_Captive_Reared_2020_3_df['longitude'] = JNorth_Captive_Reared_2020_3_df['longitude'].astype(float)\n",
    "# JNorth_Milkweed_Site_df['street_address'] = JNorth_Milkweed_Site_df['street_address'].str.title()"
   ]
  },
  {
   "cell_type": "code",
   "execution_count": 351,
   "id": "0aaa7c36",
   "metadata": {},
   "outputs": [],
   "source": [
    "geojson = df_to_geojson(JNorth_Captive_Reared_2020_3_df, cols)"
   ]
  },
  {
   "cell_type": "code",
   "execution_count": 352,
   "id": "aac20231",
   "metadata": {},
   "outputs": [],
   "source": [
    "file = open(\"JNorth_Captive_Reared_2020_3.geojson\", \"w\")\n",
    "json.dump(geojson, file, indent =1)\n",
    "file.close()"
   ]
  },
  {
   "cell_type": "code",
   "execution_count": 353,
   "id": "daf0e414",
   "metadata": {},
   "outputs": [
    {
     "data": {
      "text/html": [
       "<div>\n",
       "<style scoped>\n",
       "    .dataframe tbody tr th:only-of-type {\n",
       "        vertical-align: middle;\n",
       "    }\n",
       "\n",
       "    .dataframe tbody tr th {\n",
       "        vertical-align: top;\n",
       "    }\n",
       "\n",
       "    .dataframe thead th {\n",
       "        text-align: right;\n",
       "    }\n",
       "</style>\n",
       "<table border=\"1\" class=\"dataframe\">\n",
       "  <thead>\n",
       "    <tr style=\"text-align: right;\">\n",
       "      <th></th>\n",
       "      <th>sighting_date</th>\n",
       "      <th>species</th>\n",
       "      <th>latitude</th>\n",
       "      <th>longitude</th>\n",
       "      <th>number</th>\n",
       "      <th>month</th>\n",
       "    </tr>\n",
       "  </thead>\n",
       "  <tbody>\n",
       "    <tr>\n",
       "      <th>11481</th>\n",
       "      <td>2020-04-28</td>\n",
       "      <td>Monarch, Captive-Reared</td>\n",
       "      <td>31.122</td>\n",
       "      <td>-97.935</td>\n",
       "      <td>2</td>\n",
       "      <td>4</td>\n",
       "    </tr>\n",
       "    <tr>\n",
       "      <th>11482</th>\n",
       "      <td>2020-04-28</td>\n",
       "      <td>Monarch, Captive-Reared</td>\n",
       "      <td>35.972</td>\n",
       "      <td>-95.846</td>\n",
       "      <td>13</td>\n",
       "      <td>4</td>\n",
       "    </tr>\n",
       "    <tr>\n",
       "      <th>11483</th>\n",
       "      <td>2020-04-29</td>\n",
       "      <td>Monarch, Captive-Reared</td>\n",
       "      <td>31.122</td>\n",
       "      <td>-97.935</td>\n",
       "      <td>2</td>\n",
       "      <td>4</td>\n",
       "    </tr>\n",
       "    <tr>\n",
       "      <th>11484</th>\n",
       "      <td>2020-04-29</td>\n",
       "      <td>Monarch, Captive-Reared</td>\n",
       "      <td>37.390</td>\n",
       "      <td>-122.088</td>\n",
       "      <td>4</td>\n",
       "      <td>4</td>\n",
       "    </tr>\n",
       "    <tr>\n",
       "      <th>11485</th>\n",
       "      <td>2020-04-30</td>\n",
       "      <td>Monarch, Captive-Reared</td>\n",
       "      <td>33.611</td>\n",
       "      <td>-116.250</td>\n",
       "      <td>11</td>\n",
       "      <td>4</td>\n",
       "    </tr>\n",
       "  </tbody>\n",
       "</table>\n",
       "</div>"
      ],
      "text/plain": [
       "      sighting_date                  species  latitude  longitude  number  \\\n",
       "11481    2020-04-28  Monarch, Captive-Reared    31.122    -97.935       2   \n",
       "11482    2020-04-28  Monarch, Captive-Reared    35.972    -95.846      13   \n",
       "11483    2020-04-29  Monarch, Captive-Reared    31.122    -97.935       2   \n",
       "11484    2020-04-29  Monarch, Captive-Reared    37.390   -122.088       4   \n",
       "11485    2020-04-30  Monarch, Captive-Reared    33.611   -116.250      11   \n",
       "\n",
       "       month  \n",
       "11481      4  \n",
       "11482      4  \n",
       "11483      4  \n",
       "11484      4  \n",
       "11485      4  "
      ]
     },
     "execution_count": 353,
     "metadata": {},
     "output_type": "execute_result"
    }
   ],
   "source": [
    "JNorth_Captive_Reared_2020_month_df =pd.DataFrame(JNorth_Captive_Reared_2020_df)\n",
    "JNorth_Captive_Reared_2020_4_df = JNorth_Captive_Reared_2020_month_df[JNorth_Captive_Reared_2020_month_df['month']==4]\n",
    "JNorth_Captive_Reared_2020_4_df.tail()"
   ]
  },
  {
   "cell_type": "code",
   "execution_count": 354,
   "id": "f1600f0b",
   "metadata": {},
   "outputs": [
    {
     "data": {
      "text/plain": [
       "(74, 6)"
      ]
     },
     "execution_count": 354,
     "metadata": {},
     "output_type": "execute_result"
    }
   ],
   "source": [
    "JNorth_Captive_Reared_2020_4_df.shape"
   ]
  },
  {
   "cell_type": "code",
   "execution_count": 355,
   "id": "2f4f800f",
   "metadata": {},
   "outputs": [
    {
     "name": "stderr",
     "output_type": "stream",
     "text": [
      "C:\\Users\\motte\\anaconda3\\envs\\mlenv\\lib\\site-packages\\pandas\\core\\frame.py:4913: SettingWithCopyWarning: \n",
      "A value is trying to be set on a copy of a slice from a DataFrame\n",
      "\n",
      "See the caveats in the documentation: https://pandas.pydata.org/pandas-docs/stable/user_guide/indexing.html#returning-a-view-versus-a-copy\n",
      "  errors=errors,\n"
     ]
    }
   ],
   "source": [
    "JNorth_Captive_Reared_2020_4_df.drop(['month'], axis=1, inplace=True)"
   ]
  },
  {
   "cell_type": "code",
   "execution_count": 356,
   "id": "60a78c48",
   "metadata": {},
   "outputs": [
    {
     "name": "stderr",
     "output_type": "stream",
     "text": [
      "C:\\Users\\motte\\anaconda3\\envs\\mlenv\\lib\\site-packages\\ipykernel_launcher.py:2: SettingWithCopyWarning: \n",
      "A value is trying to be set on a copy of a slice from a DataFrame.\n",
      "Try using .loc[row_indexer,col_indexer] = value instead\n",
      "\n",
      "See the caveats in the documentation: https://pandas.pydata.org/pandas-docs/stable/user_guide/indexing.html#returning-a-view-versus-a-copy\n",
      "  \n",
      "C:\\Users\\motte\\anaconda3\\envs\\mlenv\\lib\\site-packages\\ipykernel_launcher.py:3: SettingWithCopyWarning: \n",
      "A value is trying to be set on a copy of a slice from a DataFrame.\n",
      "Try using .loc[row_indexer,col_indexer] = value instead\n",
      "\n",
      "See the caveats in the documentation: https://pandas.pydata.org/pandas-docs/stable/user_guide/indexing.html#returning-a-view-versus-a-copy\n",
      "  This is separate from the ipykernel package so we can avoid doing imports until\n"
     ]
    }
   ],
   "source": [
    "# convert lat-long to floats and change address from ALL CAPS to regular capitalization\n",
    "JNorth_Captive_Reared_2020_4_df['latitude'] = JNorth_Captive_Reared_2020_4_df['latitude'].astype(float)\n",
    "JNorth_Captive_Reared_2020_4_df['longitude'] = JNorth_Captive_Reared_2020_4_df['longitude'].astype(float)\n",
    "# JNorth_Milkweed_Site_df['street_address'] = JNorth_Milkweed_Site_df['street_address'].str.title()"
   ]
  },
  {
   "cell_type": "code",
   "execution_count": 357,
   "id": "a9e22556",
   "metadata": {},
   "outputs": [],
   "source": [
    "geojson = df_to_geojson(JNorth_Captive_Reared_2020_4_df, cols)"
   ]
  },
  {
   "cell_type": "code",
   "execution_count": 358,
   "id": "e0a805fc",
   "metadata": {},
   "outputs": [],
   "source": [
    "file = open(\"JNorth_Captive_Reared_2020_4.geojson\", \"w\")\n",
    "json.dump(geojson, file, indent =1)\n",
    "file.close()"
   ]
  },
  {
   "cell_type": "code",
   "execution_count": 359,
   "id": "e5fe21a9",
   "metadata": {},
   "outputs": [
    {
     "data": {
      "text/html": [
       "<div>\n",
       "<style scoped>\n",
       "    .dataframe tbody tr th:only-of-type {\n",
       "        vertical-align: middle;\n",
       "    }\n",
       "\n",
       "    .dataframe tbody tr th {\n",
       "        vertical-align: top;\n",
       "    }\n",
       "\n",
       "    .dataframe thead th {\n",
       "        text-align: right;\n",
       "    }\n",
       "</style>\n",
       "<table border=\"1\" class=\"dataframe\">\n",
       "  <thead>\n",
       "    <tr style=\"text-align: right;\">\n",
       "      <th></th>\n",
       "      <th>sighting_date</th>\n",
       "      <th>species</th>\n",
       "      <th>latitude</th>\n",
       "      <th>longitude</th>\n",
       "      <th>number</th>\n",
       "      <th>month</th>\n",
       "    </tr>\n",
       "  </thead>\n",
       "  <tbody>\n",
       "    <tr>\n",
       "      <th>11568</th>\n",
       "      <td>2020-05-30</td>\n",
       "      <td>Monarch, Captive-Reared</td>\n",
       "      <td>43.012</td>\n",
       "      <td>-89.515</td>\n",
       "      <td>5</td>\n",
       "      <td>5</td>\n",
       "    </tr>\n",
       "    <tr>\n",
       "      <th>11569</th>\n",
       "      <td>2020-05-30</td>\n",
       "      <td>Monarch, Captive-Reared</td>\n",
       "      <td>43.055</td>\n",
       "      <td>-88.098</td>\n",
       "      <td>13</td>\n",
       "      <td>5</td>\n",
       "    </tr>\n",
       "    <tr>\n",
       "      <th>11570</th>\n",
       "      <td>2020-05-30</td>\n",
       "      <td>Monarch, Captive-Reared</td>\n",
       "      <td>44.987</td>\n",
       "      <td>-81.255</td>\n",
       "      <td>1</td>\n",
       "      <td>5</td>\n",
       "    </tr>\n",
       "    <tr>\n",
       "      <th>11571</th>\n",
       "      <td>2020-05-31</td>\n",
       "      <td>Monarch, Captive-Reared</td>\n",
       "      <td>33.755</td>\n",
       "      <td>-118.025</td>\n",
       "      <td>1</td>\n",
       "      <td>5</td>\n",
       "    </tr>\n",
       "    <tr>\n",
       "      <th>11572</th>\n",
       "      <td>2020-05-31</td>\n",
       "      <td>Monarch, Captive-Reared</td>\n",
       "      <td>44.047</td>\n",
       "      <td>-92.435</td>\n",
       "      <td>1</td>\n",
       "      <td>5</td>\n",
       "    </tr>\n",
       "  </tbody>\n",
       "</table>\n",
       "</div>"
      ],
      "text/plain": [
       "      sighting_date                  species  latitude  longitude  number  \\\n",
       "11568    2020-05-30  Monarch, Captive-Reared    43.012    -89.515       5   \n",
       "11569    2020-05-30  Monarch, Captive-Reared    43.055    -88.098      13   \n",
       "11570    2020-05-30  Monarch, Captive-Reared    44.987    -81.255       1   \n",
       "11571    2020-05-31  Monarch, Captive-Reared    33.755   -118.025       1   \n",
       "11572    2020-05-31  Monarch, Captive-Reared    44.047    -92.435       1   \n",
       "\n",
       "       month  \n",
       "11568      5  \n",
       "11569      5  \n",
       "11570      5  \n",
       "11571      5  \n",
       "11572      5  "
      ]
     },
     "execution_count": 359,
     "metadata": {},
     "output_type": "execute_result"
    }
   ],
   "source": [
    "JNorth_Captive_Reared_2020_month_df =pd.DataFrame(JNorth_Captive_Reared_2020_df)\n",
    "JNorth_Captive_Reared_2020_5_df = JNorth_Captive_Reared_2020_month_df[JNorth_Captive_Reared_2020_month_df['month']==5]\n",
    "JNorth_Captive_Reared_2020_5_df.tail()"
   ]
  },
  {
   "cell_type": "code",
   "execution_count": 360,
   "id": "5fa880cc",
   "metadata": {},
   "outputs": [
    {
     "data": {
      "text/plain": [
       "(87, 6)"
      ]
     },
     "execution_count": 360,
     "metadata": {},
     "output_type": "execute_result"
    }
   ],
   "source": [
    "JNorth_Captive_Reared_2020_5_df.shape"
   ]
  },
  {
   "cell_type": "code",
   "execution_count": 361,
   "id": "cd71d0df",
   "metadata": {},
   "outputs": [
    {
     "name": "stderr",
     "output_type": "stream",
     "text": [
      "C:\\Users\\motte\\anaconda3\\envs\\mlenv\\lib\\site-packages\\pandas\\core\\frame.py:4913: SettingWithCopyWarning: \n",
      "A value is trying to be set on a copy of a slice from a DataFrame\n",
      "\n",
      "See the caveats in the documentation: https://pandas.pydata.org/pandas-docs/stable/user_guide/indexing.html#returning-a-view-versus-a-copy\n",
      "  errors=errors,\n"
     ]
    }
   ],
   "source": [
    "JNorth_Captive_Reared_2020_5_df.drop(['month'], axis=1, inplace=True)"
   ]
  },
  {
   "cell_type": "code",
   "execution_count": 362,
   "id": "ceb51d7e",
   "metadata": {},
   "outputs": [
    {
     "name": "stderr",
     "output_type": "stream",
     "text": [
      "C:\\Users\\motte\\anaconda3\\envs\\mlenv\\lib\\site-packages\\ipykernel_launcher.py:2: SettingWithCopyWarning: \n",
      "A value is trying to be set on a copy of a slice from a DataFrame.\n",
      "Try using .loc[row_indexer,col_indexer] = value instead\n",
      "\n",
      "See the caveats in the documentation: https://pandas.pydata.org/pandas-docs/stable/user_guide/indexing.html#returning-a-view-versus-a-copy\n",
      "  \n",
      "C:\\Users\\motte\\anaconda3\\envs\\mlenv\\lib\\site-packages\\ipykernel_launcher.py:3: SettingWithCopyWarning: \n",
      "A value is trying to be set on a copy of a slice from a DataFrame.\n",
      "Try using .loc[row_indexer,col_indexer] = value instead\n",
      "\n",
      "See the caveats in the documentation: https://pandas.pydata.org/pandas-docs/stable/user_guide/indexing.html#returning-a-view-versus-a-copy\n",
      "  This is separate from the ipykernel package so we can avoid doing imports until\n"
     ]
    }
   ],
   "source": [
    "# convert lat-long to floats and change address from ALL CAPS to regular capitalization\n",
    "JNorth_Captive_Reared_2020_5_df['latitude'] = JNorth_Captive_Reared_2020_5_df['latitude'].astype(float)\n",
    "JNorth_Captive_Reared_2020_5_df['longitude'] = JNorth_Captive_Reared_2020_5_df['longitude'].astype(float)\n",
    "# JNorth_Milkweed_Site_df['street_address'] = JNorth_Milkweed_Site_df['street_address'].str.title()"
   ]
  },
  {
   "cell_type": "code",
   "execution_count": 363,
   "id": "a9c45134",
   "metadata": {},
   "outputs": [],
   "source": [
    "geojson = df_to_geojson(JNorth_Captive_Reared_2020_5_df, cols)"
   ]
  },
  {
   "cell_type": "code",
   "execution_count": 364,
   "id": "a126786f",
   "metadata": {},
   "outputs": [],
   "source": [
    "file = open(\"JNorth_Captive_Reared_2020_5.geojson\", \"w\")\n",
    "json.dump(geojson, file, indent =1)\n",
    "file.close()"
   ]
  },
  {
   "cell_type": "code",
   "execution_count": 365,
   "id": "c9432557",
   "metadata": {},
   "outputs": [
    {
     "data": {
      "text/html": [
       "<div>\n",
       "<style scoped>\n",
       "    .dataframe tbody tr th:only-of-type {\n",
       "        vertical-align: middle;\n",
       "    }\n",
       "\n",
       "    .dataframe tbody tr th {\n",
       "        vertical-align: top;\n",
       "    }\n",
       "\n",
       "    .dataframe thead th {\n",
       "        text-align: right;\n",
       "    }\n",
       "</style>\n",
       "<table border=\"1\" class=\"dataframe\">\n",
       "  <thead>\n",
       "    <tr style=\"text-align: right;\">\n",
       "      <th></th>\n",
       "      <th>sighting_date</th>\n",
       "      <th>species</th>\n",
       "      <th>latitude</th>\n",
       "      <th>longitude</th>\n",
       "      <th>number</th>\n",
       "      <th>month</th>\n",
       "    </tr>\n",
       "  </thead>\n",
       "  <tbody>\n",
       "    <tr>\n",
       "      <th>11726</th>\n",
       "      <td>2020-06-30</td>\n",
       "      <td>Monarch, Captive-Reared</td>\n",
       "      <td>40.973</td>\n",
       "      <td>-85.012</td>\n",
       "      <td>1</td>\n",
       "      <td>6</td>\n",
       "    </tr>\n",
       "    <tr>\n",
       "      <th>11727</th>\n",
       "      <td>2020-06-30</td>\n",
       "      <td>Monarch, Captive-Reared</td>\n",
       "      <td>41.508</td>\n",
       "      <td>-88.050</td>\n",
       "      <td>2</td>\n",
       "      <td>6</td>\n",
       "    </tr>\n",
       "    <tr>\n",
       "      <th>11728</th>\n",
       "      <td>2020-06-30</td>\n",
       "      <td>Monarch, Captive-Reared</td>\n",
       "      <td>42.409</td>\n",
       "      <td>-82.219</td>\n",
       "      <td>1</td>\n",
       "      <td>6</td>\n",
       "    </tr>\n",
       "    <tr>\n",
       "      <th>11729</th>\n",
       "      <td>2020-06-30</td>\n",
       "      <td>Monarch, Captive-Reared</td>\n",
       "      <td>43.459</td>\n",
       "      <td>-80.542</td>\n",
       "      <td>34</td>\n",
       "      <td>6</td>\n",
       "    </tr>\n",
       "    <tr>\n",
       "      <th>11730</th>\n",
       "      <td>2020-06-30</td>\n",
       "      <td>Monarch, Captive-Reared</td>\n",
       "      <td>45.048</td>\n",
       "      <td>-93.223</td>\n",
       "      <td>5</td>\n",
       "      <td>6</td>\n",
       "    </tr>\n",
       "  </tbody>\n",
       "</table>\n",
       "</div>"
      ],
      "text/plain": [
       "      sighting_date                  species  latitude  longitude  number  \\\n",
       "11726    2020-06-30  Monarch, Captive-Reared    40.973    -85.012       1   \n",
       "11727    2020-06-30  Monarch, Captive-Reared    41.508    -88.050       2   \n",
       "11728    2020-06-30  Monarch, Captive-Reared    42.409    -82.219       1   \n",
       "11729    2020-06-30  Monarch, Captive-Reared    43.459    -80.542      34   \n",
       "11730    2020-06-30  Monarch, Captive-Reared    45.048    -93.223       5   \n",
       "\n",
       "       month  \n",
       "11726      6  \n",
       "11727      6  \n",
       "11728      6  \n",
       "11729      6  \n",
       "11730      6  "
      ]
     },
     "execution_count": 365,
     "metadata": {},
     "output_type": "execute_result"
    }
   ],
   "source": [
    "JNorth_Captive_Reared_2020_month_df =pd.DataFrame(JNorth_Captive_Reared_2020_df)\n",
    "JNorth_Captive_Reared_2020_6_df = JNorth_Captive_Reared_2020_month_df[JNorth_Captive_Reared_2020_month_df['month']==6]\n",
    "JNorth_Captive_Reared_2020_6_df.tail()"
   ]
  },
  {
   "cell_type": "code",
   "execution_count": 366,
   "id": "b1bd8bf7",
   "metadata": {},
   "outputs": [
    {
     "data": {
      "text/plain": [
       "(158, 6)"
      ]
     },
     "execution_count": 366,
     "metadata": {},
     "output_type": "execute_result"
    }
   ],
   "source": [
    "JNorth_Captive_Reared_2020_6_df.shape"
   ]
  },
  {
   "cell_type": "code",
   "execution_count": 367,
   "id": "2f2ac9bc",
   "metadata": {},
   "outputs": [
    {
     "name": "stderr",
     "output_type": "stream",
     "text": [
      "C:\\Users\\motte\\anaconda3\\envs\\mlenv\\lib\\site-packages\\pandas\\core\\frame.py:4913: SettingWithCopyWarning: \n",
      "A value is trying to be set on a copy of a slice from a DataFrame\n",
      "\n",
      "See the caveats in the documentation: https://pandas.pydata.org/pandas-docs/stable/user_guide/indexing.html#returning-a-view-versus-a-copy\n",
      "  errors=errors,\n"
     ]
    }
   ],
   "source": [
    "JNorth_Captive_Reared_2020_6_df.drop(['month'], axis=1, inplace=True)"
   ]
  },
  {
   "cell_type": "code",
   "execution_count": 368,
   "id": "a91809a2",
   "metadata": {},
   "outputs": [
    {
     "name": "stderr",
     "output_type": "stream",
     "text": [
      "C:\\Users\\motte\\anaconda3\\envs\\mlenv\\lib\\site-packages\\ipykernel_launcher.py:2: SettingWithCopyWarning: \n",
      "A value is trying to be set on a copy of a slice from a DataFrame.\n",
      "Try using .loc[row_indexer,col_indexer] = value instead\n",
      "\n",
      "See the caveats in the documentation: https://pandas.pydata.org/pandas-docs/stable/user_guide/indexing.html#returning-a-view-versus-a-copy\n",
      "  \n",
      "C:\\Users\\motte\\anaconda3\\envs\\mlenv\\lib\\site-packages\\ipykernel_launcher.py:3: SettingWithCopyWarning: \n",
      "A value is trying to be set on a copy of a slice from a DataFrame.\n",
      "Try using .loc[row_indexer,col_indexer] = value instead\n",
      "\n",
      "See the caveats in the documentation: https://pandas.pydata.org/pandas-docs/stable/user_guide/indexing.html#returning-a-view-versus-a-copy\n",
      "  This is separate from the ipykernel package so we can avoid doing imports until\n"
     ]
    }
   ],
   "source": [
    "# convert lat-long to floats and change address from ALL CAPS to regular capitalization\n",
    "JNorth_Captive_Reared_2020_6_df['latitude'] = JNorth_Captive_Reared_2020_6_df['latitude'].astype(float)\n",
    "JNorth_Captive_Reared_2020_6_df['longitude'] = JNorth_Captive_Reared_2020_6_df['longitude'].astype(float)\n",
    "# JNorth_Milkweed_Site_df['street_address'] = JNorth_Milkweed_Site_df['street_address'].str.title()"
   ]
  },
  {
   "cell_type": "code",
   "execution_count": 369,
   "id": "03d8de83",
   "metadata": {},
   "outputs": [],
   "source": [
    "geojson = df_to_geojson(JNorth_Captive_Reared_2020_6_df, cols)"
   ]
  },
  {
   "cell_type": "code",
   "execution_count": 370,
   "id": "a24a9426",
   "metadata": {},
   "outputs": [],
   "source": [
    "file = open(\"JNorth_Captive_Reared_2020_6.geojson\", \"w\")\n",
    "json.dump(geojson, file, indent =1)\n",
    "file.close()"
   ]
  },
  {
   "cell_type": "code",
   "execution_count": 371,
   "id": "d7920b96",
   "metadata": {},
   "outputs": [
    {
     "data": {
      "text/html": [
       "<div>\n",
       "<style scoped>\n",
       "    .dataframe tbody tr th:only-of-type {\n",
       "        vertical-align: middle;\n",
       "    }\n",
       "\n",
       "    .dataframe tbody tr th {\n",
       "        vertical-align: top;\n",
       "    }\n",
       "\n",
       "    .dataframe thead th {\n",
       "        text-align: right;\n",
       "    }\n",
       "</style>\n",
       "<table border=\"1\" class=\"dataframe\">\n",
       "  <thead>\n",
       "    <tr style=\"text-align: right;\">\n",
       "      <th></th>\n",
       "      <th>sighting_date</th>\n",
       "      <th>species</th>\n",
       "      <th>latitude</th>\n",
       "      <th>longitude</th>\n",
       "      <th>number</th>\n",
       "      <th>month</th>\n",
       "    </tr>\n",
       "  </thead>\n",
       "  <tbody>\n",
       "    <tr>\n",
       "      <th>11968</th>\n",
       "      <td>2020-07-31</td>\n",
       "      <td>Monarch, Captive-Reared</td>\n",
       "      <td>43.459</td>\n",
       "      <td>-80.542</td>\n",
       "      <td>84</td>\n",
       "      <td>7</td>\n",
       "    </tr>\n",
       "    <tr>\n",
       "      <th>11969</th>\n",
       "      <td>2020-07-31</td>\n",
       "      <td>Monarch, Captive-Reared</td>\n",
       "      <td>44.810</td>\n",
       "      <td>-86.058</td>\n",
       "      <td>3</td>\n",
       "      <td>7</td>\n",
       "    </tr>\n",
       "    <tr>\n",
       "      <th>11970</th>\n",
       "      <td>2020-07-31</td>\n",
       "      <td>Monarch, Captive-Reared</td>\n",
       "      <td>44.944</td>\n",
       "      <td>-93.160</td>\n",
       "      <td>1</td>\n",
       "      <td>7</td>\n",
       "    </tr>\n",
       "    <tr>\n",
       "      <th>11971</th>\n",
       "      <td>2020-07-31</td>\n",
       "      <td>Monarch, Captive-Reared</td>\n",
       "      <td>44.982</td>\n",
       "      <td>-93.034</td>\n",
       "      <td>1</td>\n",
       "      <td>7</td>\n",
       "    </tr>\n",
       "    <tr>\n",
       "      <th>11972</th>\n",
       "      <td>2020-07-31</td>\n",
       "      <td>Monarch, Captive-Reared</td>\n",
       "      <td>45.575</td>\n",
       "      <td>-88.671</td>\n",
       "      <td>2</td>\n",
       "      <td>7</td>\n",
       "    </tr>\n",
       "  </tbody>\n",
       "</table>\n",
       "</div>"
      ],
      "text/plain": [
       "      sighting_date                  species  latitude  longitude  number  \\\n",
       "11968    2020-07-31  Monarch, Captive-Reared    43.459    -80.542      84   \n",
       "11969    2020-07-31  Monarch, Captive-Reared    44.810    -86.058       3   \n",
       "11970    2020-07-31  Monarch, Captive-Reared    44.944    -93.160       1   \n",
       "11971    2020-07-31  Monarch, Captive-Reared    44.982    -93.034       1   \n",
       "11972    2020-07-31  Monarch, Captive-Reared    45.575    -88.671       2   \n",
       "\n",
       "       month  \n",
       "11968      7  \n",
       "11969      7  \n",
       "11970      7  \n",
       "11971      7  \n",
       "11972      7  "
      ]
     },
     "execution_count": 371,
     "metadata": {},
     "output_type": "execute_result"
    }
   ],
   "source": [
    "JNorth_Captive_Reared_2020_month_df =pd.DataFrame(JNorth_Captive_Reared_2020_df)\n",
    "JNorth_Captive_Reared_2020_7_df = JNorth_Captive_Reared_2020_month_df[JNorth_Captive_Reared_2020_month_df['month']==7]\n",
    "JNorth_Captive_Reared_2020_7_df.tail()"
   ]
  },
  {
   "cell_type": "code",
   "execution_count": 372,
   "id": "5924e525",
   "metadata": {},
   "outputs": [
    {
     "data": {
      "text/plain": [
       "(242, 6)"
      ]
     },
     "execution_count": 372,
     "metadata": {},
     "output_type": "execute_result"
    }
   ],
   "source": [
    "JNorth_Captive_Reared_2020_7_df.shape"
   ]
  },
  {
   "cell_type": "code",
   "execution_count": 373,
   "id": "0a39c6f9",
   "metadata": {},
   "outputs": [
    {
     "name": "stderr",
     "output_type": "stream",
     "text": [
      "C:\\Users\\motte\\anaconda3\\envs\\mlenv\\lib\\site-packages\\pandas\\core\\frame.py:4913: SettingWithCopyWarning: \n",
      "A value is trying to be set on a copy of a slice from a DataFrame\n",
      "\n",
      "See the caveats in the documentation: https://pandas.pydata.org/pandas-docs/stable/user_guide/indexing.html#returning-a-view-versus-a-copy\n",
      "  errors=errors,\n"
     ]
    }
   ],
   "source": [
    "JNorth_Captive_Reared_2020_7_df.drop(['month'], axis=1, inplace=True)"
   ]
  },
  {
   "cell_type": "code",
   "execution_count": 374,
   "id": "4366b19a",
   "metadata": {},
   "outputs": [
    {
     "name": "stderr",
     "output_type": "stream",
     "text": [
      "C:\\Users\\motte\\anaconda3\\envs\\mlenv\\lib\\site-packages\\ipykernel_launcher.py:2: SettingWithCopyWarning: \n",
      "A value is trying to be set on a copy of a slice from a DataFrame.\n",
      "Try using .loc[row_indexer,col_indexer] = value instead\n",
      "\n",
      "See the caveats in the documentation: https://pandas.pydata.org/pandas-docs/stable/user_guide/indexing.html#returning-a-view-versus-a-copy\n",
      "  \n",
      "C:\\Users\\motte\\anaconda3\\envs\\mlenv\\lib\\site-packages\\ipykernel_launcher.py:3: SettingWithCopyWarning: \n",
      "A value is trying to be set on a copy of a slice from a DataFrame.\n",
      "Try using .loc[row_indexer,col_indexer] = value instead\n",
      "\n",
      "See the caveats in the documentation: https://pandas.pydata.org/pandas-docs/stable/user_guide/indexing.html#returning-a-view-versus-a-copy\n",
      "  This is separate from the ipykernel package so we can avoid doing imports until\n"
     ]
    }
   ],
   "source": [
    "# convert lat-long to floats and change address from ALL CAPS to regular capitalization\n",
    "JNorth_Captive_Reared_2020_7_df['latitude'] = JNorth_Captive_Reared_2020_7_df['latitude'].astype(float)\n",
    "JNorth_Captive_Reared_2020_7_df['longitude'] = JNorth_Captive_Reared_2020_7_df['longitude'].astype(float)\n",
    "# JNorth_Milkweed_Site_df['street_address'] = JNorth_Milkweed_Site_df['street_address'].str.title()"
   ]
  },
  {
   "cell_type": "code",
   "execution_count": 375,
   "id": "bfd9a473",
   "metadata": {},
   "outputs": [],
   "source": [
    "geojson = df_to_geojson(JNorth_Captive_Reared_2020_7_df, cols)"
   ]
  },
  {
   "cell_type": "code",
   "execution_count": 376,
   "id": "d6fd2df8",
   "metadata": {},
   "outputs": [],
   "source": [
    "file = open(\"JNorth_Captive_Reared_2020_7.geojson\", \"w\")\n",
    "json.dump(geojson, file, indent =1)\n",
    "file.close()"
   ]
  },
  {
   "cell_type": "code",
   "execution_count": 377,
   "id": "4e9bd738",
   "metadata": {},
   "outputs": [
    {
     "data": {
      "text/html": [
       "<div>\n",
       "<style scoped>\n",
       "    .dataframe tbody tr th:only-of-type {\n",
       "        vertical-align: middle;\n",
       "    }\n",
       "\n",
       "    .dataframe tbody tr th {\n",
       "        vertical-align: top;\n",
       "    }\n",
       "\n",
       "    .dataframe thead th {\n",
       "        text-align: right;\n",
       "    }\n",
       "</style>\n",
       "<table border=\"1\" class=\"dataframe\">\n",
       "  <thead>\n",
       "    <tr style=\"text-align: right;\">\n",
       "      <th></th>\n",
       "      <th>sighting_date</th>\n",
       "      <th>species</th>\n",
       "      <th>latitude</th>\n",
       "      <th>longitude</th>\n",
       "      <th>number</th>\n",
       "      <th>month</th>\n",
       "    </tr>\n",
       "  </thead>\n",
       "  <tbody>\n",
       "    <tr>\n",
       "      <th>12613</th>\n",
       "      <td>2020-08-31</td>\n",
       "      <td>Monarch, Captive-Reared</td>\n",
       "      <td>41.414</td>\n",
       "      <td>-87.187</td>\n",
       "      <td>1</td>\n",
       "      <td>8</td>\n",
       "    </tr>\n",
       "    <tr>\n",
       "      <th>12614</th>\n",
       "      <td>2020-08-31</td>\n",
       "      <td>Monarch, Captive-Reared</td>\n",
       "      <td>43.326</td>\n",
       "      <td>-79.799</td>\n",
       "      <td>1</td>\n",
       "      <td>8</td>\n",
       "    </tr>\n",
       "    <tr>\n",
       "      <th>12615</th>\n",
       "      <td>2020-08-31</td>\n",
       "      <td>Monarch, Captive-Reared</td>\n",
       "      <td>43.459</td>\n",
       "      <td>-80.542</td>\n",
       "      <td>40</td>\n",
       "      <td>8</td>\n",
       "    </tr>\n",
       "    <tr>\n",
       "      <th>12616</th>\n",
       "      <td>2020-08-31</td>\n",
       "      <td>Monarch, Captive-Reared</td>\n",
       "      <td>43.605</td>\n",
       "      <td>-79.552</td>\n",
       "      <td>1</td>\n",
       "      <td>8</td>\n",
       "    </tr>\n",
       "    <tr>\n",
       "      <th>12617</th>\n",
       "      <td>2020-08-31</td>\n",
       "      <td>Monarch, Captive-Reared</td>\n",
       "      <td>45.079</td>\n",
       "      <td>-93.158</td>\n",
       "      <td>1</td>\n",
       "      <td>8</td>\n",
       "    </tr>\n",
       "  </tbody>\n",
       "</table>\n",
       "</div>"
      ],
      "text/plain": [
       "      sighting_date                  species  latitude  longitude  number  \\\n",
       "12613    2020-08-31  Monarch, Captive-Reared    41.414    -87.187       1   \n",
       "12614    2020-08-31  Monarch, Captive-Reared    43.326    -79.799       1   \n",
       "12615    2020-08-31  Monarch, Captive-Reared    43.459    -80.542      40   \n",
       "12616    2020-08-31  Monarch, Captive-Reared    43.605    -79.552       1   \n",
       "12617    2020-08-31  Monarch, Captive-Reared    45.079    -93.158       1   \n",
       "\n",
       "       month  \n",
       "12613      8  \n",
       "12614      8  \n",
       "12615      8  \n",
       "12616      8  \n",
       "12617      8  "
      ]
     },
     "execution_count": 377,
     "metadata": {},
     "output_type": "execute_result"
    }
   ],
   "source": [
    "JNorth_Captive_Reared_2020_month_df =pd.DataFrame(JNorth_Captive_Reared_2020_df)\n",
    "JNorth_Captive_Reared_2020_8_df = JNorth_Captive_Reared_2020_month_df[JNorth_Captive_Reared_2020_month_df['month']==8]\n",
    "JNorth_Captive_Reared_2020_8_df.tail()"
   ]
  },
  {
   "cell_type": "code",
   "execution_count": 378,
   "id": "538be366",
   "metadata": {},
   "outputs": [
    {
     "data": {
      "text/plain": [
       "(645, 6)"
      ]
     },
     "execution_count": 378,
     "metadata": {},
     "output_type": "execute_result"
    }
   ],
   "source": [
    "JNorth_Captive_Reared_2020_8_df.shape"
   ]
  },
  {
   "cell_type": "code",
   "execution_count": 379,
   "id": "4ed62f67",
   "metadata": {},
   "outputs": [
    {
     "name": "stderr",
     "output_type": "stream",
     "text": [
      "C:\\Users\\motte\\anaconda3\\envs\\mlenv\\lib\\site-packages\\pandas\\core\\frame.py:4913: SettingWithCopyWarning: \n",
      "A value is trying to be set on a copy of a slice from a DataFrame\n",
      "\n",
      "See the caveats in the documentation: https://pandas.pydata.org/pandas-docs/stable/user_guide/indexing.html#returning-a-view-versus-a-copy\n",
      "  errors=errors,\n"
     ]
    }
   ],
   "source": [
    "JNorth_Captive_Reared_2020_8_df.drop(['month'], axis=1, inplace=True)"
   ]
  },
  {
   "cell_type": "code",
   "execution_count": 380,
   "id": "9efc6a19",
   "metadata": {},
   "outputs": [
    {
     "name": "stderr",
     "output_type": "stream",
     "text": [
      "C:\\Users\\motte\\anaconda3\\envs\\mlenv\\lib\\site-packages\\ipykernel_launcher.py:2: SettingWithCopyWarning: \n",
      "A value is trying to be set on a copy of a slice from a DataFrame.\n",
      "Try using .loc[row_indexer,col_indexer] = value instead\n",
      "\n",
      "See the caveats in the documentation: https://pandas.pydata.org/pandas-docs/stable/user_guide/indexing.html#returning-a-view-versus-a-copy\n",
      "  \n",
      "C:\\Users\\motte\\anaconda3\\envs\\mlenv\\lib\\site-packages\\ipykernel_launcher.py:3: SettingWithCopyWarning: \n",
      "A value is trying to be set on a copy of a slice from a DataFrame.\n",
      "Try using .loc[row_indexer,col_indexer] = value instead\n",
      "\n",
      "See the caveats in the documentation: https://pandas.pydata.org/pandas-docs/stable/user_guide/indexing.html#returning-a-view-versus-a-copy\n",
      "  This is separate from the ipykernel package so we can avoid doing imports until\n"
     ]
    }
   ],
   "source": [
    "# convert lat-long to floats and change address from ALL CAPS to regular capitalization\n",
    "JNorth_Captive_Reared_2020_8_df['latitude'] = JNorth_Captive_Reared_2020_8_df['latitude'].astype(float)\n",
    "JNorth_Captive_Reared_2020_8_df['longitude'] = JNorth_Captive_Reared_2020_8_df['longitude'].astype(float)\n",
    "# JNorth_Milkweed_Site_df['street_address'] = JNorth_Milkweed_Site_df['street_address'].str.title()"
   ]
  },
  {
   "cell_type": "code",
   "execution_count": 381,
   "id": "49ec38e2",
   "metadata": {},
   "outputs": [],
   "source": [
    "geojson = df_to_geojson(JNorth_Captive_Reared_2020_8_df, cols)"
   ]
  },
  {
   "cell_type": "code",
   "execution_count": 382,
   "id": "debcba01",
   "metadata": {},
   "outputs": [],
   "source": [
    "file = open(\"JNorth_Captive_Reared_2020_8.geojson\", \"w\")\n",
    "json.dump(geojson, file, indent =1)\n",
    "file.close()"
   ]
  },
  {
   "cell_type": "code",
   "execution_count": 383,
   "id": "5c4d5091",
   "metadata": {},
   "outputs": [
    {
     "data": {
      "text/html": [
       "<div>\n",
       "<style scoped>\n",
       "    .dataframe tbody tr th:only-of-type {\n",
       "        vertical-align: middle;\n",
       "    }\n",
       "\n",
       "    .dataframe tbody tr th {\n",
       "        vertical-align: top;\n",
       "    }\n",
       "\n",
       "    .dataframe thead th {\n",
       "        text-align: right;\n",
       "    }\n",
       "</style>\n",
       "<table border=\"1\" class=\"dataframe\">\n",
       "  <thead>\n",
       "    <tr style=\"text-align: right;\">\n",
       "      <th></th>\n",
       "      <th>sighting_date</th>\n",
       "      <th>species</th>\n",
       "      <th>latitude</th>\n",
       "      <th>longitude</th>\n",
       "      <th>number</th>\n",
       "      <th>month</th>\n",
       "    </tr>\n",
       "  </thead>\n",
       "  <tbody>\n",
       "    <tr>\n",
       "      <th>13389</th>\n",
       "      <td>2020-09-30</td>\n",
       "      <td>Monarch, Captive-Reared</td>\n",
       "      <td>41.809</td>\n",
       "      <td>-88.011</td>\n",
       "      <td>1</td>\n",
       "      <td>9</td>\n",
       "    </tr>\n",
       "    <tr>\n",
       "      <th>13390</th>\n",
       "      <td>2020-09-30</td>\n",
       "      <td>Monarch, Captive-Reared</td>\n",
       "      <td>41.874</td>\n",
       "      <td>-88.140</td>\n",
       "      <td>2</td>\n",
       "      <td>9</td>\n",
       "    </tr>\n",
       "    <tr>\n",
       "      <th>13391</th>\n",
       "      <td>2020-09-30</td>\n",
       "      <td>Monarch, Captive-Reared</td>\n",
       "      <td>42.748</td>\n",
       "      <td>-71.414</td>\n",
       "      <td>1</td>\n",
       "      <td>9</td>\n",
       "    </tr>\n",
       "    <tr>\n",
       "      <th>13392</th>\n",
       "      <td>2020-09-30</td>\n",
       "      <td>Monarch, Captive-Reared</td>\n",
       "      <td>43.459</td>\n",
       "      <td>-80.542</td>\n",
       "      <td>6</td>\n",
       "      <td>9</td>\n",
       "    </tr>\n",
       "    <tr>\n",
       "      <th>13393</th>\n",
       "      <td>2020-09-30</td>\n",
       "      <td>Monarch, Captive-Reared</td>\n",
       "      <td>45.088</td>\n",
       "      <td>-64.621</td>\n",
       "      <td>1</td>\n",
       "      <td>9</td>\n",
       "    </tr>\n",
       "  </tbody>\n",
       "</table>\n",
       "</div>"
      ],
      "text/plain": [
       "      sighting_date                  species  latitude  longitude  number  \\\n",
       "13389    2020-09-30  Monarch, Captive-Reared    41.809    -88.011       1   \n",
       "13390    2020-09-30  Monarch, Captive-Reared    41.874    -88.140       2   \n",
       "13391    2020-09-30  Monarch, Captive-Reared    42.748    -71.414       1   \n",
       "13392    2020-09-30  Monarch, Captive-Reared    43.459    -80.542       6   \n",
       "13393    2020-09-30  Monarch, Captive-Reared    45.088    -64.621       1   \n",
       "\n",
       "       month  \n",
       "13389      9  \n",
       "13390      9  \n",
       "13391      9  \n",
       "13392      9  \n",
       "13393      9  "
      ]
     },
     "execution_count": 383,
     "metadata": {},
     "output_type": "execute_result"
    }
   ],
   "source": [
    "JNorth_Captive_Reared_2020_month_df =pd.DataFrame(JNorth_Captive_Reared_2020_df)\n",
    "JNorth_Captive_Reared_2020_9_df = JNorth_Captive_Reared_2020_month_df[JNorth_Captive_Reared_2020_month_df['month']==9]\n",
    "JNorth_Captive_Reared_2020_9_df.tail()"
   ]
  },
  {
   "cell_type": "code",
   "execution_count": 384,
   "id": "969c475a",
   "metadata": {},
   "outputs": [
    {
     "data": {
      "text/plain": [
       "(776, 6)"
      ]
     },
     "execution_count": 384,
     "metadata": {},
     "output_type": "execute_result"
    }
   ],
   "source": [
    "JNorth_Captive_Reared_2020_9_df.shape"
   ]
  },
  {
   "cell_type": "code",
   "execution_count": 385,
   "id": "37c1983d",
   "metadata": {},
   "outputs": [
    {
     "name": "stderr",
     "output_type": "stream",
     "text": [
      "C:\\Users\\motte\\anaconda3\\envs\\mlenv\\lib\\site-packages\\pandas\\core\\frame.py:4913: SettingWithCopyWarning: \n",
      "A value is trying to be set on a copy of a slice from a DataFrame\n",
      "\n",
      "See the caveats in the documentation: https://pandas.pydata.org/pandas-docs/stable/user_guide/indexing.html#returning-a-view-versus-a-copy\n",
      "  errors=errors,\n"
     ]
    }
   ],
   "source": [
    "JNorth_Captive_Reared_2020_9_df.drop(['month'], axis=1, inplace=True)"
   ]
  },
  {
   "cell_type": "code",
   "execution_count": 386,
   "id": "bb7ca10e",
   "metadata": {},
   "outputs": [
    {
     "name": "stderr",
     "output_type": "stream",
     "text": [
      "C:\\Users\\motte\\anaconda3\\envs\\mlenv\\lib\\site-packages\\ipykernel_launcher.py:2: SettingWithCopyWarning: \n",
      "A value is trying to be set on a copy of a slice from a DataFrame.\n",
      "Try using .loc[row_indexer,col_indexer] = value instead\n",
      "\n",
      "See the caveats in the documentation: https://pandas.pydata.org/pandas-docs/stable/user_guide/indexing.html#returning-a-view-versus-a-copy\n",
      "  \n",
      "C:\\Users\\motte\\anaconda3\\envs\\mlenv\\lib\\site-packages\\ipykernel_launcher.py:3: SettingWithCopyWarning: \n",
      "A value is trying to be set on a copy of a slice from a DataFrame.\n",
      "Try using .loc[row_indexer,col_indexer] = value instead\n",
      "\n",
      "See the caveats in the documentation: https://pandas.pydata.org/pandas-docs/stable/user_guide/indexing.html#returning-a-view-versus-a-copy\n",
      "  This is separate from the ipykernel package so we can avoid doing imports until\n"
     ]
    }
   ],
   "source": [
    "# convert lat-long to floats and change address from ALL CAPS to regular capitalization\n",
    "JNorth_Captive_Reared_2020_9_df['latitude'] = JNorth_Captive_Reared_2020_9_df['latitude'].astype(float)\n",
    "JNorth_Captive_Reared_2020_9_df['longitude'] = JNorth_Captive_Reared_2020_9_df['longitude'].astype(float)\n",
    "# JNorth_Milkweed_Site_df['street_address'] = JNorth_Milkweed_Site_df['street_address'].str.title()"
   ]
  },
  {
   "cell_type": "code",
   "execution_count": 387,
   "id": "08f724f1",
   "metadata": {},
   "outputs": [],
   "source": [
    "geojson = df_to_geojson(JNorth_Captive_Reared_2020_9_df, cols)"
   ]
  },
  {
   "cell_type": "code",
   "execution_count": 388,
   "id": "ef197820",
   "metadata": {},
   "outputs": [],
   "source": [
    "file = open(\"JNorth_Captive_Reared_2020_9.geojson\", \"w\")\n",
    "json.dump(geojson, file, indent =1)\n",
    "file.close()"
   ]
  },
  {
   "cell_type": "code",
   "execution_count": 389,
   "id": "1c2fa71b",
   "metadata": {},
   "outputs": [
    {
     "data": {
      "text/html": [
       "<div>\n",
       "<style scoped>\n",
       "    .dataframe tbody tr th:only-of-type {\n",
       "        vertical-align: middle;\n",
       "    }\n",
       "\n",
       "    .dataframe tbody tr th {\n",
       "        vertical-align: top;\n",
       "    }\n",
       "\n",
       "    .dataframe thead th {\n",
       "        text-align: right;\n",
       "    }\n",
       "</style>\n",
       "<table border=\"1\" class=\"dataframe\">\n",
       "  <thead>\n",
       "    <tr style=\"text-align: right;\">\n",
       "      <th></th>\n",
       "      <th>sighting_date</th>\n",
       "      <th>species</th>\n",
       "      <th>latitude</th>\n",
       "      <th>longitude</th>\n",
       "      <th>number</th>\n",
       "      <th>month</th>\n",
       "    </tr>\n",
       "  </thead>\n",
       "  <tbody>\n",
       "    <tr>\n",
       "      <th>13677</th>\n",
       "      <td>2020-10-30</td>\n",
       "      <td>Monarch, Captive-Reared</td>\n",
       "      <td>35.910</td>\n",
       "      <td>-80.491</td>\n",
       "      <td>1</td>\n",
       "      <td>10</td>\n",
       "    </tr>\n",
       "    <tr>\n",
       "      <th>13678</th>\n",
       "      <td>2020-10-30</td>\n",
       "      <td>Monarch, Captive-Reared</td>\n",
       "      <td>40.043</td>\n",
       "      <td>-86.128</td>\n",
       "      <td>1</td>\n",
       "      <td>10</td>\n",
       "    </tr>\n",
       "    <tr>\n",
       "      <th>13679</th>\n",
       "      <td>2020-10-31</td>\n",
       "      <td>Monarch, Captive-Reared</td>\n",
       "      <td>34.118</td>\n",
       "      <td>-117.912</td>\n",
       "      <td>1</td>\n",
       "      <td>10</td>\n",
       "    </tr>\n",
       "    <tr>\n",
       "      <th>13680</th>\n",
       "      <td>2020-10-31</td>\n",
       "      <td>Monarch, Captive-Reared</td>\n",
       "      <td>40.126</td>\n",
       "      <td>-75.334</td>\n",
       "      <td>5</td>\n",
       "      <td>10</td>\n",
       "    </tr>\n",
       "    <tr>\n",
       "      <th>13681</th>\n",
       "      <td>2020-10-31</td>\n",
       "      <td>Monarch, Captive-Reared</td>\n",
       "      <td>43.064</td>\n",
       "      <td>-89.445</td>\n",
       "      <td>1</td>\n",
       "      <td>10</td>\n",
       "    </tr>\n",
       "  </tbody>\n",
       "</table>\n",
       "</div>"
      ],
      "text/plain": [
       "      sighting_date                  species  latitude  longitude  number  \\\n",
       "13677    2020-10-30  Monarch, Captive-Reared    35.910    -80.491       1   \n",
       "13678    2020-10-30  Monarch, Captive-Reared    40.043    -86.128       1   \n",
       "13679    2020-10-31  Monarch, Captive-Reared    34.118   -117.912       1   \n",
       "13680    2020-10-31  Monarch, Captive-Reared    40.126    -75.334       5   \n",
       "13681    2020-10-31  Monarch, Captive-Reared    43.064    -89.445       1   \n",
       "\n",
       "       month  \n",
       "13677     10  \n",
       "13678     10  \n",
       "13679     10  \n",
       "13680     10  \n",
       "13681     10  "
      ]
     },
     "execution_count": 389,
     "metadata": {},
     "output_type": "execute_result"
    }
   ],
   "source": [
    "JNorth_Captive_Reared_2020_month_df =pd.DataFrame(JNorth_Captive_Reared_2020_df)\n",
    "JNorth_Captive_Reared_2020_10_df = JNorth_Captive_Reared_2020_month_df[JNorth_Captive_Reared_2020_month_df['month']==10]\n",
    "JNorth_Captive_Reared_2020_10_df.tail()"
   ]
  },
  {
   "cell_type": "code",
   "execution_count": 390,
   "id": "2d002b31",
   "metadata": {},
   "outputs": [
    {
     "data": {
      "text/plain": [
       "(288, 6)"
      ]
     },
     "execution_count": 390,
     "metadata": {},
     "output_type": "execute_result"
    }
   ],
   "source": [
    "JNorth_Captive_Reared_2020_10_df.shape"
   ]
  },
  {
   "cell_type": "code",
   "execution_count": 391,
   "id": "7568cee5",
   "metadata": {},
   "outputs": [
    {
     "name": "stderr",
     "output_type": "stream",
     "text": [
      "C:\\Users\\motte\\anaconda3\\envs\\mlenv\\lib\\site-packages\\pandas\\core\\frame.py:4913: SettingWithCopyWarning: \n",
      "A value is trying to be set on a copy of a slice from a DataFrame\n",
      "\n",
      "See the caveats in the documentation: https://pandas.pydata.org/pandas-docs/stable/user_guide/indexing.html#returning-a-view-versus-a-copy\n",
      "  errors=errors,\n"
     ]
    }
   ],
   "source": [
    "JNorth_Captive_Reared_2020_10_df.drop(['month'], axis=1, inplace=True)"
   ]
  },
  {
   "cell_type": "code",
   "execution_count": 392,
   "id": "a5fbe353",
   "metadata": {},
   "outputs": [
    {
     "name": "stderr",
     "output_type": "stream",
     "text": [
      "C:\\Users\\motte\\anaconda3\\envs\\mlenv\\lib\\site-packages\\ipykernel_launcher.py:2: SettingWithCopyWarning: \n",
      "A value is trying to be set on a copy of a slice from a DataFrame.\n",
      "Try using .loc[row_indexer,col_indexer] = value instead\n",
      "\n",
      "See the caveats in the documentation: https://pandas.pydata.org/pandas-docs/stable/user_guide/indexing.html#returning-a-view-versus-a-copy\n",
      "  \n",
      "C:\\Users\\motte\\anaconda3\\envs\\mlenv\\lib\\site-packages\\ipykernel_launcher.py:3: SettingWithCopyWarning: \n",
      "A value is trying to be set on a copy of a slice from a DataFrame.\n",
      "Try using .loc[row_indexer,col_indexer] = value instead\n",
      "\n",
      "See the caveats in the documentation: https://pandas.pydata.org/pandas-docs/stable/user_guide/indexing.html#returning-a-view-versus-a-copy\n",
      "  This is separate from the ipykernel package so we can avoid doing imports until\n"
     ]
    }
   ],
   "source": [
    "# convert lat-long to floats and change address from ALL CAPS to regular capitalization\n",
    "JNorth_Captive_Reared_2020_10_df['latitude'] = JNorth_Captive_Reared_2020_10_df['latitude'].astype(float)\n",
    "JNorth_Captive_Reared_2020_10_df['longitude'] = JNorth_Captive_Reared_2020_10_df['longitude'].astype(float)\n",
    "# JNorth_Milkweed_Site_df['street_address'] = JNorth_Milkweed_Site_df['street_address'].str.title()"
   ]
  },
  {
   "cell_type": "code",
   "execution_count": 393,
   "id": "100933f3",
   "metadata": {},
   "outputs": [],
   "source": [
    "geojson = df_to_geojson(JNorth_Captive_Reared_2020_10_df, cols)"
   ]
  },
  {
   "cell_type": "code",
   "execution_count": 394,
   "id": "9d0df34e",
   "metadata": {},
   "outputs": [],
   "source": [
    "file = open(\"JNorth_Captive_Reared_2020_10.geojson\", \"w\")\n",
    "json.dump(geojson, file, indent =1)\n",
    "file.close()"
   ]
  },
  {
   "cell_type": "code",
   "execution_count": 395,
   "id": "fb16df8a",
   "metadata": {},
   "outputs": [
    {
     "data": {
      "text/html": [
       "<div>\n",
       "<style scoped>\n",
       "    .dataframe tbody tr th:only-of-type {\n",
       "        vertical-align: middle;\n",
       "    }\n",
       "\n",
       "    .dataframe tbody tr th {\n",
       "        vertical-align: top;\n",
       "    }\n",
       "\n",
       "    .dataframe thead th {\n",
       "        text-align: right;\n",
       "    }\n",
       "</style>\n",
       "<table border=\"1\" class=\"dataframe\">\n",
       "  <thead>\n",
       "    <tr style=\"text-align: right;\">\n",
       "      <th></th>\n",
       "      <th>sighting_date</th>\n",
       "      <th>species</th>\n",
       "      <th>latitude</th>\n",
       "      <th>longitude</th>\n",
       "      <th>number</th>\n",
       "      <th>month</th>\n",
       "    </tr>\n",
       "  </thead>\n",
       "  <tbody>\n",
       "    <tr>\n",
       "      <th>13708</th>\n",
       "      <td>2020-11-25</td>\n",
       "      <td>Monarch, Captive-Reared</td>\n",
       "      <td>27.824</td>\n",
       "      <td>-82.625</td>\n",
       "      <td>3</td>\n",
       "      <td>11</td>\n",
       "    </tr>\n",
       "    <tr>\n",
       "      <th>13709</th>\n",
       "      <td>2020-11-25</td>\n",
       "      <td>Monarch, Captive-Reared</td>\n",
       "      <td>30.529</td>\n",
       "      <td>-87.287</td>\n",
       "      <td>3</td>\n",
       "      <td>11</td>\n",
       "    </tr>\n",
       "    <tr>\n",
       "      <th>13710</th>\n",
       "      <td>2020-11-26</td>\n",
       "      <td>Monarch, Captive-Reared</td>\n",
       "      <td>39.024</td>\n",
       "      <td>-84.609</td>\n",
       "      <td>1</td>\n",
       "      <td>11</td>\n",
       "    </tr>\n",
       "    <tr>\n",
       "      <th>13711</th>\n",
       "      <td>2020-11-29</td>\n",
       "      <td>Monarch, Captive-Reared</td>\n",
       "      <td>30.403</td>\n",
       "      <td>-91.167</td>\n",
       "      <td>1</td>\n",
       "      <td>11</td>\n",
       "    </tr>\n",
       "    <tr>\n",
       "      <th>13712</th>\n",
       "      <td>2020-11-29</td>\n",
       "      <td>Monarch, Captive-Reared</td>\n",
       "      <td>34.290</td>\n",
       "      <td>-119.162</td>\n",
       "      <td>1</td>\n",
       "      <td>11</td>\n",
       "    </tr>\n",
       "  </tbody>\n",
       "</table>\n",
       "</div>"
      ],
      "text/plain": [
       "      sighting_date                  species  latitude  longitude  number  \\\n",
       "13708    2020-11-25  Monarch, Captive-Reared    27.824    -82.625       3   \n",
       "13709    2020-11-25  Monarch, Captive-Reared    30.529    -87.287       3   \n",
       "13710    2020-11-26  Monarch, Captive-Reared    39.024    -84.609       1   \n",
       "13711    2020-11-29  Monarch, Captive-Reared    30.403    -91.167       1   \n",
       "13712    2020-11-29  Monarch, Captive-Reared    34.290   -119.162       1   \n",
       "\n",
       "       month  \n",
       "13708     11  \n",
       "13709     11  \n",
       "13710     11  \n",
       "13711     11  \n",
       "13712     11  "
      ]
     },
     "execution_count": 395,
     "metadata": {},
     "output_type": "execute_result"
    }
   ],
   "source": [
    "JNorth_Captive_Reared_2020_month_df =pd.DataFrame(JNorth_Captive_Reared_2020_df)\n",
    "JNorth_Captive_Reared_2020_11_df = JNorth_Captive_Reared_2020_month_df[JNorth_Captive_Reared_2020_month_df['month']==11]\n",
    "JNorth_Captive_Reared_2020_11_df.tail()"
   ]
  },
  {
   "cell_type": "code",
   "execution_count": 396,
   "id": "8efd904d",
   "metadata": {},
   "outputs": [
    {
     "data": {
      "text/plain": [
       "(31, 6)"
      ]
     },
     "execution_count": 396,
     "metadata": {},
     "output_type": "execute_result"
    }
   ],
   "source": [
    "JNorth_Captive_Reared_2020_11_df.shape"
   ]
  },
  {
   "cell_type": "code",
   "execution_count": 397,
   "id": "2b8c63f7",
   "metadata": {},
   "outputs": [
    {
     "name": "stderr",
     "output_type": "stream",
     "text": [
      "C:\\Users\\motte\\anaconda3\\envs\\mlenv\\lib\\site-packages\\pandas\\core\\frame.py:4913: SettingWithCopyWarning: \n",
      "A value is trying to be set on a copy of a slice from a DataFrame\n",
      "\n",
      "See the caveats in the documentation: https://pandas.pydata.org/pandas-docs/stable/user_guide/indexing.html#returning-a-view-versus-a-copy\n",
      "  errors=errors,\n"
     ]
    }
   ],
   "source": [
    "JNorth_Captive_Reared_2020_11_df.drop(['month'], axis=1, inplace=True)"
   ]
  },
  {
   "cell_type": "code",
   "execution_count": 398,
   "id": "2abbf8e3",
   "metadata": {},
   "outputs": [
    {
     "name": "stderr",
     "output_type": "stream",
     "text": [
      "C:\\Users\\motte\\anaconda3\\envs\\mlenv\\lib\\site-packages\\ipykernel_launcher.py:2: SettingWithCopyWarning: \n",
      "A value is trying to be set on a copy of a slice from a DataFrame.\n",
      "Try using .loc[row_indexer,col_indexer] = value instead\n",
      "\n",
      "See the caveats in the documentation: https://pandas.pydata.org/pandas-docs/stable/user_guide/indexing.html#returning-a-view-versus-a-copy\n",
      "  \n",
      "C:\\Users\\motte\\anaconda3\\envs\\mlenv\\lib\\site-packages\\ipykernel_launcher.py:3: SettingWithCopyWarning: \n",
      "A value is trying to be set on a copy of a slice from a DataFrame.\n",
      "Try using .loc[row_indexer,col_indexer] = value instead\n",
      "\n",
      "See the caveats in the documentation: https://pandas.pydata.org/pandas-docs/stable/user_guide/indexing.html#returning-a-view-versus-a-copy\n",
      "  This is separate from the ipykernel package so we can avoid doing imports until\n"
     ]
    }
   ],
   "source": [
    "# convert lat-long to floats and change address from ALL CAPS to regular capitalization\n",
    "JNorth_Captive_Reared_2020_11_df['latitude'] = JNorth_Captive_Reared_2020_11_df['latitude'].astype(float)\n",
    "JNorth_Captive_Reared_2020_11_df['longitude'] = JNorth_Captive_Reared_2020_11_df['longitude'].astype(float)\n",
    "# JNorth_Milkweed_Site_df['street_address'] = JNorth_Milkweed_Site_df['street_address'].str.title()"
   ]
  },
  {
   "cell_type": "code",
   "execution_count": 399,
   "id": "5de70789",
   "metadata": {},
   "outputs": [],
   "source": [
    "geojson = df_to_geojson(JNorth_Captive_Reared_2020_11_df, cols)"
   ]
  },
  {
   "cell_type": "code",
   "execution_count": 400,
   "id": "ce936002",
   "metadata": {},
   "outputs": [],
   "source": [
    "file = open(\"JNorth_Captive_Reared_2020_11.geojson\", \"w\")\n",
    "json.dump(geojson, file, indent =1)\n",
    "file.close()"
   ]
  },
  {
   "cell_type": "code",
   "execution_count": 401,
   "id": "94259ac3",
   "metadata": {},
   "outputs": [
    {
     "data": {
      "text/html": [
       "<div>\n",
       "<style scoped>\n",
       "    .dataframe tbody tr th:only-of-type {\n",
       "        vertical-align: middle;\n",
       "    }\n",
       "\n",
       "    .dataframe tbody tr th {\n",
       "        vertical-align: top;\n",
       "    }\n",
       "\n",
       "    .dataframe thead th {\n",
       "        text-align: right;\n",
       "    }\n",
       "</style>\n",
       "<table border=\"1\" class=\"dataframe\">\n",
       "  <thead>\n",
       "    <tr style=\"text-align: right;\">\n",
       "      <th></th>\n",
       "      <th>sighting_date</th>\n",
       "      <th>species</th>\n",
       "      <th>latitude</th>\n",
       "      <th>longitude</th>\n",
       "      <th>number</th>\n",
       "      <th>month</th>\n",
       "    </tr>\n",
       "  </thead>\n",
       "  <tbody>\n",
       "    <tr>\n",
       "      <th>13728</th>\n",
       "      <td>2020-12-22</td>\n",
       "      <td>Monarch, Captive-Reared</td>\n",
       "      <td>26.299</td>\n",
       "      <td>-80.104</td>\n",
       "      <td>10</td>\n",
       "      <td>12</td>\n",
       "    </tr>\n",
       "    <tr>\n",
       "      <th>13729</th>\n",
       "      <td>2020-12-23</td>\n",
       "      <td>Monarch, Captive-Reared</td>\n",
       "      <td>26.526</td>\n",
       "      <td>-80.055</td>\n",
       "      <td>2</td>\n",
       "      <td>12</td>\n",
       "    </tr>\n",
       "    <tr>\n",
       "      <th>13730</th>\n",
       "      <td>2020-12-23</td>\n",
       "      <td>Monarch, Captive-Reared</td>\n",
       "      <td>28.849</td>\n",
       "      <td>-97.069</td>\n",
       "      <td>2</td>\n",
       "      <td>12</td>\n",
       "    </tr>\n",
       "    <tr>\n",
       "      <th>13731</th>\n",
       "      <td>2020-12-23</td>\n",
       "      <td>Monarch, Captive-Reared</td>\n",
       "      <td>29.742</td>\n",
       "      <td>-95.373</td>\n",
       "      <td>23</td>\n",
       "      <td>12</td>\n",
       "    </tr>\n",
       "    <tr>\n",
       "      <th>13732</th>\n",
       "      <td>2020-12-28</td>\n",
       "      <td>Monarch, Captive-Reared</td>\n",
       "      <td>30.179</td>\n",
       "      <td>-85.772</td>\n",
       "      <td>99</td>\n",
       "      <td>12</td>\n",
       "    </tr>\n",
       "  </tbody>\n",
       "</table>\n",
       "</div>"
      ],
      "text/plain": [
       "      sighting_date                  species  latitude  longitude  number  \\\n",
       "13728    2020-12-22  Monarch, Captive-Reared    26.299    -80.104      10   \n",
       "13729    2020-12-23  Monarch, Captive-Reared    26.526    -80.055       2   \n",
       "13730    2020-12-23  Monarch, Captive-Reared    28.849    -97.069       2   \n",
       "13731    2020-12-23  Monarch, Captive-Reared    29.742    -95.373      23   \n",
       "13732    2020-12-28  Monarch, Captive-Reared    30.179    -85.772      99   \n",
       "\n",
       "       month  \n",
       "13728     12  \n",
       "13729     12  \n",
       "13730     12  \n",
       "13731     12  \n",
       "13732     12  "
      ]
     },
     "execution_count": 401,
     "metadata": {},
     "output_type": "execute_result"
    }
   ],
   "source": [
    "JNorth_Captive_Reared_2020_month_df =pd.DataFrame(JNorth_Captive_Reared_2020_df)\n",
    "JNorth_Captive_Reared_2020_12_df = JNorth_Captive_Reared_2020_month_df[JNorth_Captive_Reared_2020_month_df['month']==12]\n",
    "JNorth_Captive_Reared_2020_12_df.tail()"
   ]
  },
  {
   "cell_type": "code",
   "execution_count": 402,
   "id": "b8fe3b61",
   "metadata": {},
   "outputs": [
    {
     "data": {
      "text/plain": [
       "(20, 6)"
      ]
     },
     "execution_count": 402,
     "metadata": {},
     "output_type": "execute_result"
    }
   ],
   "source": [
    "JNorth_Captive_Reared_2020_12_df.shape"
   ]
  },
  {
   "cell_type": "code",
   "execution_count": 403,
   "id": "efa8e27d",
   "metadata": {},
   "outputs": [
    {
     "name": "stderr",
     "output_type": "stream",
     "text": [
      "C:\\Users\\motte\\anaconda3\\envs\\mlenv\\lib\\site-packages\\pandas\\core\\frame.py:4913: SettingWithCopyWarning: \n",
      "A value is trying to be set on a copy of a slice from a DataFrame\n",
      "\n",
      "See the caveats in the documentation: https://pandas.pydata.org/pandas-docs/stable/user_guide/indexing.html#returning-a-view-versus-a-copy\n",
      "  errors=errors,\n"
     ]
    }
   ],
   "source": [
    "JNorth_Captive_Reared_2020_12_df.drop(['month'], axis=1, inplace=True)"
   ]
  },
  {
   "cell_type": "code",
   "execution_count": 404,
   "id": "e7903a53",
   "metadata": {},
   "outputs": [
    {
     "name": "stderr",
     "output_type": "stream",
     "text": [
      "C:\\Users\\motte\\anaconda3\\envs\\mlenv\\lib\\site-packages\\ipykernel_launcher.py:2: SettingWithCopyWarning: \n",
      "A value is trying to be set on a copy of a slice from a DataFrame.\n",
      "Try using .loc[row_indexer,col_indexer] = value instead\n",
      "\n",
      "See the caveats in the documentation: https://pandas.pydata.org/pandas-docs/stable/user_guide/indexing.html#returning-a-view-versus-a-copy\n",
      "  \n",
      "C:\\Users\\motte\\anaconda3\\envs\\mlenv\\lib\\site-packages\\ipykernel_launcher.py:3: SettingWithCopyWarning: \n",
      "A value is trying to be set on a copy of a slice from a DataFrame.\n",
      "Try using .loc[row_indexer,col_indexer] = value instead\n",
      "\n",
      "See the caveats in the documentation: https://pandas.pydata.org/pandas-docs/stable/user_guide/indexing.html#returning-a-view-versus-a-copy\n",
      "  This is separate from the ipykernel package so we can avoid doing imports until\n"
     ]
    }
   ],
   "source": [
    "# convert lat-long to floats and change address from ALL CAPS to regular capitalization\n",
    "JNorth_Captive_Reared_2020_12_df['latitude'] = JNorth_Captive_Reared_2020_12_df['latitude'].astype(float)\n",
    "JNorth_Captive_Reared_2020_12_df['longitude'] = JNorth_Captive_Reared_2020_12_df['longitude'].astype(float)\n",
    "# JNorth_Milkweed_Site_df['street_address'] = JNorth_Milkweed_Site_df['street_address'].str.title()"
   ]
  },
  {
   "cell_type": "code",
   "execution_count": 405,
   "id": "575291f2",
   "metadata": {},
   "outputs": [],
   "source": [
    "geojson = df_to_geojson(JNorth_Captive_Reared_2020_12_df, cols)"
   ]
  },
  {
   "cell_type": "code",
   "execution_count": 406,
   "id": "b6be6057",
   "metadata": {},
   "outputs": [],
   "source": [
    "file = open(\"JNorth_Captive_Reared_2020_12.geojson\", \"w\")\n",
    "json.dump(geojson, file, indent =1)\n",
    "file.close()"
   ]
  },
  {
   "cell_type": "code",
   "execution_count": null,
   "id": "e0fd5d05",
   "metadata": {},
   "outputs": [],
   "source": []
  }
 ],
 "metadata": {
  "kernelspec": {
   "display_name": "mlenv",
   "language": "python",
   "name": "mlenv"
  },
  "language_info": {
   "codemirror_mode": {
    "name": "ipython",
    "version": 3
   },
   "file_extension": ".py",
   "mimetype": "text/x-python",
   "name": "python",
   "nbconvert_exporter": "python",
   "pygments_lexer": "ipython3",
   "version": "3.7.11"
  }
 },
 "nbformat": 4,
 "nbformat_minor": 5
}
