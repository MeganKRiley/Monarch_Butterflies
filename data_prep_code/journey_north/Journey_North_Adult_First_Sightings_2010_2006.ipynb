{
 "cells": [
  {
   "cell_type": "markdown",
   "id": "26e900c1",
   "metadata": {},
   "source": [
    "# Journey North Adult First Sightings"
   ]
  },
  {
   "cell_type": "code",
   "execution_count": 1,
   "id": "77377556",
   "metadata": {},
   "outputs": [],
   "source": [
    "#  Import and read\n",
    "import pandas as pd \n",
    "import numpy as np\n",
    "import json\n",
    "# Sue Mottet 2-19-2022"
   ]
  },
  {
   "cell_type": "markdown",
   "id": "71cc5b7d",
   "metadata": {},
   "source": [
    "# geoJSONifier"
   ]
  },
  {
   "cell_type": "code",
   "execution_count": 2,
   "id": "249a00ac",
   "metadata": {},
   "outputs": [],
   "source": [
    "def df_to_geojson(df, properties, lat='latitude', lon='longitude'):\n",
    "    # create a new python dict to contain our geojson data, using geojson format\n",
    "    geojson = {'type':'FeatureCollection', 'features':[]}\n",
    "\n",
    "    # loop through each row in the dataframe and convert each row to geojson format\n",
    "    for _, row in df.iterrows():\n",
    "        # create a feature template to fill in\n",
    "        feature = {'type':'Feature',\n",
    "                   'properties':{},\n",
    "                   'geometry':{'type':'Point',\n",
    "                               'coordinates':[]}}\n",
    "\n",
    "        # fill in the coordinates\n",
    "        feature['geometry']['coordinates'] = [row[lon],row[lat]]\n",
    "\n",
    "        # for each column, get the value and add it as a new feature property\n",
    "        for prop in properties:\n",
    "            feature['properties'][prop] = row[prop]\n",
    "        \n",
    "        # add this feature (aka, converted dataframe row) to the list of features inside our dict\n",
    "        geojson['features'].append(feature)\n",
    "    \n",
    "    return geojson"
   ]
  },
  {
   "cell_type": "markdown",
   "id": "224bf61c",
   "metadata": {},
   "source": [
    "# Load file"
   ]
  },
  {
   "cell_type": "code",
   "execution_count": 3,
   "id": "29091bad",
   "metadata": {},
   "outputs": [
    {
     "name": "stderr",
     "output_type": "stream",
     "text": [
      "C:\\Users\\motte\\anaconda3\\envs\\mlenv\\lib\\site-packages\\IPython\\core\\interactiveshell.py:3444: DtypeWarning: Columns (8) have mixed types.Specify dtype option on import or set low_memory=False.\n",
      "  exec(code_obj, self.user_global_ns, self.user_ns)\n"
     ]
    },
    {
     "data": {
      "text/html": [
       "<div>\n",
       "<style scoped>\n",
       "    .dataframe tbody tr th:only-of-type {\n",
       "        vertical-align: middle;\n",
       "    }\n",
       "\n",
       "    .dataframe tbody tr th {\n",
       "        vertical-align: top;\n",
       "    }\n",
       "\n",
       "    .dataframe thead th {\n",
       "        text-align: right;\n",
       "    }\n",
       "</style>\n",
       "<table border=\"1\" class=\"dataframe\">\n",
       "  <thead>\n",
       "    <tr style=\"text-align: right;\">\n",
       "      <th></th>\n",
       "      <th>id</th>\n",
       "      <th>sighting_date</th>\n",
       "      <th>species</th>\n",
       "      <th>number</th>\n",
       "      <th>latitude</th>\n",
       "      <th>longitude</th>\n",
       "      <th>flag_location</th>\n",
       "      <th>comments</th>\n",
       "      <th>school</th>\n",
       "      <th>grade</th>\n",
       "      <th>image_url</th>\n",
       "      <th>customerid</th>\n",
       "      <th>number_old</th>\n",
       "      <th>flag_number</th>\n",
       "      <th>species_old</th>\n",
       "      <th>flag_species</th>\n",
       "    </tr>\n",
       "  </thead>\n",
       "  <tbody>\n",
       "    <tr>\n",
       "      <th>0</th>\n",
       "      <td>850841703</td>\n",
       "      <td>1996-12-16</td>\n",
       "      <td>Monarch Adult Sighted</td>\n",
       "      <td>1</td>\n",
       "      <td>27.594</td>\n",
       "      <td>-81.362</td>\n",
       "      <td>0</td>\n",
       "      <td>On the ballfield a solitary monarch butterfly ...</td>\n",
       "      <td>Walker memorial junior academy</td>\n",
       "      <td>10.0</td>\n",
       "      <td>-999999.999</td>\n",
       "      <td>135</td>\n",
       "      <td>-999999.999</td>\n",
       "      <td>1</td>\n",
       "      <td>Monarch Butterfly</td>\n",
       "      <td>1</td>\n",
       "    </tr>\n",
       "    <tr>\n",
       "      <th>1</th>\n",
       "      <td>851824801</td>\n",
       "      <td>1996-12-06</td>\n",
       "      <td>Monarch Adult Sighted</td>\n",
       "      <td>1</td>\n",
       "      <td>30.420</td>\n",
       "      <td>-87.224</td>\n",
       "      <td>0</td>\n",
       "      <td>Our 5th grade Discovery students who went alon...</td>\n",
       "      <td>Hambrick elementary school</td>\n",
       "      <td>5.0</td>\n",
       "      <td>-999999.999</td>\n",
       "      <td>150</td>\n",
       "      <td>-999999.999</td>\n",
       "      <td>1</td>\n",
       "      <td>Monarch Butterfly</td>\n",
       "      <td>1</td>\n",
       "    </tr>\n",
       "    <tr>\n",
       "      <th>2</th>\n",
       "      <td>854409931</td>\n",
       "      <td>1996-09-21</td>\n",
       "      <td>Monarch Adult Sighted</td>\n",
       "      <td>1</td>\n",
       "      <td>40.817</td>\n",
       "      <td>-96.710</td>\n",
       "      <td>0</td>\n",
       "      <td>We saw several hundred monarchs in our school ...</td>\n",
       "      <td>-999999.999</td>\n",
       "      <td>5.0</td>\n",
       "      <td>-999999.999</td>\n",
       "      <td>9701054</td>\n",
       "      <td>-999999.999</td>\n",
       "      <td>1</td>\n",
       "      <td>Monarch Butterfly</td>\n",
       "      <td>1</td>\n",
       "    </tr>\n",
       "    <tr>\n",
       "      <th>3</th>\n",
       "      <td>854557206</td>\n",
       "      <td>1996-09-21</td>\n",
       "      <td>Monarch Adult Sighted</td>\n",
       "      <td>1</td>\n",
       "      <td>40.817</td>\n",
       "      <td>-96.710</td>\n",
       "      <td>0</td>\n",
       "      <td>Over a hundered monarchs in our school butterf...</td>\n",
       "      <td>Fredstrom elementary school</td>\n",
       "      <td>6.0</td>\n",
       "      <td>-999999.999</td>\n",
       "      <td>175</td>\n",
       "      <td>-999999.999</td>\n",
       "      <td>1</td>\n",
       "      <td>Monarch Butterfly</td>\n",
       "      <td>1</td>\n",
       "    </tr>\n",
       "    <tr>\n",
       "      <th>4</th>\n",
       "      <td>855061862</td>\n",
       "      <td>1997-01-01</td>\n",
       "      <td>Monarch Adult Sighted</td>\n",
       "      <td>1</td>\n",
       "      <td>34.244</td>\n",
       "      <td>-77.946</td>\n",
       "      <td>0</td>\n",
       "      <td>I Thought I Saw It, But I Was Suprised To See ...</td>\n",
       "      <td>Gregory</td>\n",
       "      <td>3.0</td>\n",
       "      <td>-999999.999</td>\n",
       "      <td>181</td>\n",
       "      <td>-999999.999</td>\n",
       "      <td>1</td>\n",
       "      <td>Monarch Butterfly</td>\n",
       "      <td>1</td>\n",
       "    </tr>\n",
       "  </tbody>\n",
       "</table>\n",
       "</div>"
      ],
      "text/plain": [
       "          id sighting_date                species  number  latitude  \\\n",
       "0  850841703    1996-12-16  Monarch Adult Sighted       1    27.594   \n",
       "1  851824801    1996-12-06  Monarch Adult Sighted       1    30.420   \n",
       "2  854409931    1996-09-21  Monarch Adult Sighted       1    40.817   \n",
       "3  854557206    1996-09-21  Monarch Adult Sighted       1    40.817   \n",
       "4  855061862    1997-01-01  Monarch Adult Sighted       1    34.244   \n",
       "\n",
       "   longitude  flag_location  \\\n",
       "0    -81.362              0   \n",
       "1    -87.224              0   \n",
       "2    -96.710              0   \n",
       "3    -96.710              0   \n",
       "4    -77.946              0   \n",
       "\n",
       "                                            comments  \\\n",
       "0  On the ballfield a solitary monarch butterfly ...   \n",
       "1  Our 5th grade Discovery students who went alon...   \n",
       "2  We saw several hundred monarchs in our school ...   \n",
       "3  Over a hundered monarchs in our school butterf...   \n",
       "4  I Thought I Saw It, But I Was Suprised To See ...   \n",
       "\n",
       "                           school  grade    image_url  customerid  number_old  \\\n",
       "0  Walker memorial junior academy   10.0  -999999.999         135 -999999.999   \n",
       "1      Hambrick elementary school    5.0  -999999.999         150 -999999.999   \n",
       "2                     -999999.999    5.0  -999999.999     9701054 -999999.999   \n",
       "3     Fredstrom elementary school    6.0  -999999.999         175 -999999.999   \n",
       "4                         Gregory    3.0  -999999.999         181 -999999.999   \n",
       "\n",
       "   flag_number        species_old  flag_species  \n",
       "0            1  Monarch Butterfly             1  \n",
       "1            1  Monarch Butterfly             1  \n",
       "2            1  Monarch Butterfly             1  \n",
       "3            1  Monarch Butterfly             1  \n",
       "4            1  Monarch Butterfly             1  "
      ]
     },
     "execution_count": 3,
     "metadata": {},
     "output_type": "execute_result"
    }
   ],
   "source": [
    "JNorth1996_2020_df = pd.read_csv(\"UWMadisonArb_JNorth_Project_MonarchsAndMilkweed_1996-2020.csv\")\n",
    "JNorth1996_2020_df.head()"
   ]
  },
  {
   "cell_type": "markdown",
   "id": "c7319ba8",
   "metadata": {},
   "source": [
    "# Data Exploratory"
   ]
  },
  {
   "cell_type": "code",
   "execution_count": 4,
   "id": "f873e5f6",
   "metadata": {},
   "outputs": [
    {
     "name": "stdout",
     "output_type": "stream",
     "text": [
      "<class 'pandas.core.frame.DataFrame'>\n",
      "RangeIndex: 227433 entries, 0 to 227432\n",
      "Data columns (total 16 columns):\n",
      " #   Column         Non-Null Count   Dtype  \n",
      "---  ------         --------------   -----  \n",
      " 0   id             227433 non-null  int64  \n",
      " 1   sighting_date  227433 non-null  object \n",
      " 2   species        227433 non-null  object \n",
      " 3   number         227433 non-null  int64  \n",
      " 4   latitude       227433 non-null  float64\n",
      " 5   longitude      227433 non-null  float64\n",
      " 6   flag_location  227433 non-null  int64  \n",
      " 7   comments       227433 non-null  object \n",
      " 8   school         227433 non-null  object \n",
      " 9   grade          227433 non-null  float64\n",
      " 10  image_url      227433 non-null  object \n",
      " 11  customerid     227433 non-null  int64  \n",
      " 12  number_old     227433 non-null  float64\n",
      " 13  flag_number    227433 non-null  int64  \n",
      " 14  species_old    227433 non-null  object \n",
      " 15  flag_species   227433 non-null  int64  \n",
      "dtypes: float64(4), int64(6), object(6)\n",
      "memory usage: 27.8+ MB\n"
     ]
    }
   ],
   "source": [
    "JNorth1996_2020_df.info()"
   ]
  },
  {
   "cell_type": "code",
   "execution_count": 5,
   "id": "114eef22",
   "metadata": {},
   "outputs": [
    {
     "data": {
      "text/plain": [
       "\"['id', 'sighting_date', 'species', 'number', 'latitude', 'longitude', 'flag_location', 'comments', 'school', 'grade', 'image_url', 'customerid', 'number_old', 'flag_number', 'species_old', 'flag_species']\""
      ]
     },
     "execution_count": 5,
     "metadata": {},
     "output_type": "execute_result"
    }
   ],
   "source": [
    "str(JNorth1996_2020_df.columns.tolist())"
   ]
  },
  {
   "cell_type": "code",
   "execution_count": 6,
   "id": "a30813e2",
   "metadata": {},
   "outputs": [
    {
     "data": {
      "text/html": [
       "<div>\n",
       "<style scoped>\n",
       "    .dataframe tbody tr th:only-of-type {\n",
       "        vertical-align: middle;\n",
       "    }\n",
       "\n",
       "    .dataframe tbody tr th {\n",
       "        vertical-align: top;\n",
       "    }\n",
       "\n",
       "    .dataframe thead th {\n",
       "        text-align: right;\n",
       "    }\n",
       "</style>\n",
       "<table border=\"1\" class=\"dataframe\">\n",
       "  <thead>\n",
       "    <tr style=\"text-align: right;\">\n",
       "      <th></th>\n",
       "      <th>id</th>\n",
       "      <th>number</th>\n",
       "      <th>latitude</th>\n",
       "      <th>longitude</th>\n",
       "      <th>flag_location</th>\n",
       "      <th>grade</th>\n",
       "      <th>customerid</th>\n",
       "      <th>number_old</th>\n",
       "      <th>flag_number</th>\n",
       "      <th>flag_species</th>\n",
       "    </tr>\n",
       "  </thead>\n",
       "  <tbody>\n",
       "    <tr>\n",
       "      <th>count</th>\n",
       "      <td>2.274330e+05</td>\n",
       "      <td>2.274330e+05</td>\n",
       "      <td>227433.000000</td>\n",
       "      <td>227433.000000</td>\n",
       "      <td>227433.000000</td>\n",
       "      <td>227433.000000</td>\n",
       "      <td>2.274330e+05</td>\n",
       "      <td>2.274330e+05</td>\n",
       "      <td>227433.000000</td>\n",
       "      <td>227433.000000</td>\n",
       "    </tr>\n",
       "    <tr>\n",
       "      <th>mean</th>\n",
       "      <td>1.420650e+09</td>\n",
       "      <td>1.186529e+02</td>\n",
       "      <td>38.400690</td>\n",
       "      <td>-87.569965</td>\n",
       "      <td>0.598018</td>\n",
       "      <td>-907386.217597</td>\n",
       "      <td>9.451737e+06</td>\n",
       "      <td>-2.844270e+05</td>\n",
       "      <td>0.294816</td>\n",
       "      <td>0.130324</td>\n",
       "    </tr>\n",
       "    <tr>\n",
       "      <th>std</th>\n",
       "      <td>1.456887e+08</td>\n",
       "      <td>2.209080e+04</td>\n",
       "      <td>5.268651</td>\n",
       "      <td>10.880362</td>\n",
       "      <td>0.490299</td>\n",
       "      <td>289894.342744</td>\n",
       "      <td>2.193961e+06</td>\n",
       "      <td>4.518136e+05</td>\n",
       "      <td>0.467089</td>\n",
       "      <td>0.336660</td>\n",
       "    </tr>\n",
       "    <tr>\n",
       "      <th>min</th>\n",
       "      <td>8.508417e+08</td>\n",
       "      <td>-1.700000e+01</td>\n",
       "      <td>-12.100000</td>\n",
       "      <td>-165.107000</td>\n",
       "      <td>0.000000</td>\n",
       "      <td>-999999.999000</td>\n",
       "      <td>0.000000e+00</td>\n",
       "      <td>-1.000000e+06</td>\n",
       "      <td>0.000000</td>\n",
       "      <td>0.000000</td>\n",
       "    </tr>\n",
       "    <tr>\n",
       "      <th>25%</th>\n",
       "      <td>1.377751e+09</td>\n",
       "      <td>1.000000e+00</td>\n",
       "      <td>34.723000</td>\n",
       "      <td>-95.268000</td>\n",
       "      <td>0.000000</td>\n",
       "      <td>-999999.999000</td>\n",
       "      <td>9.941050e+06</td>\n",
       "      <td>-1.000000e+06</td>\n",
       "      <td>0.000000</td>\n",
       "      <td>0.000000</td>\n",
       "    </tr>\n",
       "    <tr>\n",
       "      <th>50%</th>\n",
       "      <td>1.477448e+09</td>\n",
       "      <td>1.000000e+00</td>\n",
       "      <td>39.503000</td>\n",
       "      <td>-86.787000</td>\n",
       "      <td>1.000000</td>\n",
       "      <td>-999999.999000</td>\n",
       "      <td>9.977663e+06</td>\n",
       "      <td>1.000000e+00</td>\n",
       "      <td>0.000000</td>\n",
       "      <td>0.000000</td>\n",
       "    </tr>\n",
       "    <tr>\n",
       "      <th>75%</th>\n",
       "      <td>1.526383e+09</td>\n",
       "      <td>3.000000e+00</td>\n",
       "      <td>42.409000</td>\n",
       "      <td>-79.255000</td>\n",
       "      <td>1.000000</td>\n",
       "      <td>-999999.999000</td>\n",
       "      <td>1.000029e+07</td>\n",
       "      <td>3.000000e+00</td>\n",
       "      <td>1.000000</td>\n",
       "      <td>0.000000</td>\n",
       "    </tr>\n",
       "    <tr>\n",
       "      <th>max</th>\n",
       "      <td>1.526525e+09</td>\n",
       "      <td>1.000000e+07</td>\n",
       "      <td>65.136000</td>\n",
       "      <td>-52.883000</td>\n",
       "      <td>1.000000</td>\n",
       "      <td>1112.000000</td>\n",
       "      <td>1.004256e+07</td>\n",
       "      <td>1.000000e+07</td>\n",
       "      <td>2.000000</td>\n",
       "      <td>1.000000</td>\n",
       "    </tr>\n",
       "  </tbody>\n",
       "</table>\n",
       "</div>"
      ],
      "text/plain": [
       "                 id        number       latitude      longitude  \\\n",
       "count  2.274330e+05  2.274330e+05  227433.000000  227433.000000   \n",
       "mean   1.420650e+09  1.186529e+02      38.400690     -87.569965   \n",
       "std    1.456887e+08  2.209080e+04       5.268651      10.880362   \n",
       "min    8.508417e+08 -1.700000e+01     -12.100000    -165.107000   \n",
       "25%    1.377751e+09  1.000000e+00      34.723000     -95.268000   \n",
       "50%    1.477448e+09  1.000000e+00      39.503000     -86.787000   \n",
       "75%    1.526383e+09  3.000000e+00      42.409000     -79.255000   \n",
       "max    1.526525e+09  1.000000e+07      65.136000     -52.883000   \n",
       "\n",
       "       flag_location          grade    customerid    number_old  \\\n",
       "count  227433.000000  227433.000000  2.274330e+05  2.274330e+05   \n",
       "mean        0.598018 -907386.217597  9.451737e+06 -2.844270e+05   \n",
       "std         0.490299  289894.342744  2.193961e+06  4.518136e+05   \n",
       "min         0.000000 -999999.999000  0.000000e+00 -1.000000e+06   \n",
       "25%         0.000000 -999999.999000  9.941050e+06 -1.000000e+06   \n",
       "50%         1.000000 -999999.999000  9.977663e+06  1.000000e+00   \n",
       "75%         1.000000 -999999.999000  1.000029e+07  3.000000e+00   \n",
       "max         1.000000    1112.000000  1.004256e+07  1.000000e+07   \n",
       "\n",
       "         flag_number   flag_species  \n",
       "count  227433.000000  227433.000000  \n",
       "mean        0.294816       0.130324  \n",
       "std         0.467089       0.336660  \n",
       "min         0.000000       0.000000  \n",
       "25%         0.000000       0.000000  \n",
       "50%         0.000000       0.000000  \n",
       "75%         1.000000       0.000000  \n",
       "max         2.000000       1.000000  "
      ]
     },
     "execution_count": 6,
     "metadata": {},
     "output_type": "execute_result"
    }
   ],
   "source": [
    "JNorth1996_2020_df.describe()"
   ]
  },
  {
   "cell_type": "code",
   "execution_count": 7,
   "id": "ae151166",
   "metadata": {},
   "outputs": [
    {
     "data": {
      "text/plain": [
       "['id',\n",
       " 'sighting_date',\n",
       " 'species',\n",
       " 'number',\n",
       " 'latitude',\n",
       " 'longitude',\n",
       " 'flag_location',\n",
       " 'comments',\n",
       " 'school',\n",
       " 'grade',\n",
       " 'image_url',\n",
       " 'customerid',\n",
       " 'number_old',\n",
       " 'flag_number',\n",
       " 'species_old',\n",
       " 'flag_species']"
      ]
     },
     "execution_count": 7,
     "metadata": {},
     "output_type": "execute_result"
    }
   ],
   "source": [
    "JNorth1996_2020_df.columns.tolist()"
   ]
  },
  {
   "cell_type": "code",
   "execution_count": 8,
   "id": "d3e4c845",
   "metadata": {},
   "outputs": [
    {
     "data": {
      "text/plain": [
       "(227433, 16)"
      ]
     },
     "execution_count": 8,
     "metadata": {},
     "output_type": "execute_result"
    }
   ],
   "source": [
    "JNorth1996_2020_df.shape"
   ]
  },
  {
   "cell_type": "code",
   "execution_count": 9,
   "id": "22e5d83e",
   "metadata": {},
   "outputs": [
    {
     "name": "stdout",
     "output_type": "stream",
     "text": [
      "[ 850841703  851824801  854409931 ... 1526524404 1526524405 1526525021]\n",
      "['1996-12-16' '1996-12-06' '1996-09-21' ... '2020-12-29' '2020-12-30'\n",
      " '2020-12-31']\n",
      "['Monarch Adult Sighted' 'Monarch Adult (FIRST sighted)'\n",
      " 'Monarch Egg (FIRST sighted)' 'Monarch (OTHER Observations)'\n",
      " 'Monarch Larva (FIRST sighted)' 'Monarch PEAK Migration'\n",
      " 'Milkweed (FIRST sighted)' 'Monarch Fall Roost' 'Monarch Egg Sighted'\n",
      " 'Monarch Larva Sighted' 'Monarch, Captive-Reared' 'Milkweed Sighted']\n",
      "[       1      150       20       89       30     2000       50     7500\n",
      "       23      200        5      300        4      100       71      120\n",
      "      325       21       28     5000    20000       36       25        6\n",
      "       54     1000      160       24       60       37        2     3000\n",
      "  1000000       10  2000000       40       85       65       15        8\n",
      "      500       14      112       75       80    15000       18    10000\n",
      "      912   100000      400      800       12       35      600       16\n",
      "    25000     1500     1117       70        3      463       45       72\n",
      "      250      182       56       26    30000     2500     8000      750\n",
      "      700       46      556       34      275       53       22      650\n",
      "      210      224     1100      240   200000      900     1200        7\n",
      "       13      115       11       19      810       66       43      510\n",
      "        9       62       27      290      104       44      440      202\n",
      "       55      180       17      140      269       61      142      175\n",
      "       41      123       32       76       31      195      125       29\n",
      "      164      109      119      105     4000       69      360       88\n",
      "       58      239       48      310      117       52      261       90\n",
      "      135      296      211       39       51      102     7001      127\n",
      "       49       47       33     1300       42      101     5075     1520\n",
      "      170       81      190       38      110      558      381      228\n",
      "      248       86       74      172      230      420     2806       94\n",
      "       92      118      425     5400     6300       68       79    50000\n",
      "     2300     7000       84      128       57      350       83      124\n",
      "      114      450      147      501       87       77      197      840\n",
      "    13460     3500       64       73      178      265      151      133\n",
      "      121      477       59       97      850      130      165       95\n",
      "      383       98      729      222      116      225       63     6000\n",
      "      475    34000    13420    21329    12073    16244    30293    11082\n",
      "       78      214      113      108      280      212      138      285\n",
      "      229      216      720      206      606      287      107      134\n",
      "      157      540 10000000      220      103      270       82      139\n",
      "      318       93       67      181      122      158      156      232\n",
      "      106      155     2400      667     1286      179      349      207\n",
      "      505      132      154     1400    32914    29804    18128    15890\n",
      "     7750     8531     7333     7783      173      213      126      378\n",
      "      417      481      780     4800      625      208      205      145\n",
      "      260      193      144      227      305      831      289      246\n",
      "      404      152       96      373      855     1800      519      215\n",
      "      441      337    23800      218      340      231     2100      550\n",
      "     4500      320     9000    12000      324      461      184      570\n",
      "      444      620    11000      870      478      252      447      247\n",
      "      281      980    28073    13492    12864    11472    10200      301\n",
      "      111      259      171      141      256      186      174      198\n",
      "      479      187      223      474      203      278      153      257\n",
      "      520      185     3200      375      258      136    70000    60200\n",
      "    48000    17800      264    19755    17100    12189    13375      233\n",
      "      204      192      131       -1      129      149      -17      460\n",
      "      382      137      143      445       91     1700      330      254\n",
      "      429      813     2200      316     2600      696      291      255\n",
      "      286      543      183      251      362      226      453     1080\n",
      "      860      315      332      244     1351    35000     1503     1125\n",
      "      725     1482      593     2079    12284    19741    12360    10099\n",
      "      587    19000   500000      189      671      713     1016      176\n",
      "      345      219      234      249      409      418    16000     3900\n",
      "      169     7200      272      284      653      428      348      777\n",
      "      253       99      201     1516      335      359      356      875\n",
      "      560      177      525      686     1380      276   999999    12620\n",
      "     6500     5850      188     2960      480      385      827      323\n",
      "      148     1012      465      196      162      238      446      313\n",
      "     2385      307      263      357      163      495     1001      541\n",
      "      733      167     3600      457     5700     1650     1120     3553\n",
      "      995     1600     1390      614     7600     8250      314     1580\n",
      "      221     1620      470      759      267      960     1301      566\n",
      "      342      880      782      241      514     2250     2470      925\n",
      "      403      166     6769      146     2469      209      279      868\n",
      "      585      311      683      354      308      760      387      563\n",
      "      801      536      161      397      322      613      191     1750\n",
      "      199      516      321     1850      277      297     4750      370\n",
      "      489     1149      268     2816      789      430      978      770\n",
      "      493      716      159]\n",
      "[27.594 30.42  40.817 ... 30.139 35.008 54.968]\n",
      "[ -81.362  -87.224  -96.71  ... -118.107 -119.132 -108.727]\n",
      "[0 1]\n",
      "['On the ballfield a solitary monarch butterfly flew across the field in a south-west direction at approximately 1:30 pm.'\n",
      " 'Our 5th grade Discovery students who went along on an overnight field trip to Ft. Pickens, Florida, noticed that there were monarch butterflies all over the grounds of the fort the day they were there (Dec. 6,1996).'\n",
      " 'We saw several hundred monarchs in our school butterfly garden,  sipping nectar from the New England asters and zinnias.'\n",
      " ...\n",
      " \"There have been at least three Monarchs in my yard this year. I know it's at least three, because I often see all of them at once. But there may be more. I have lived here for 35 years, and an additional 23 years just a mile-and-a-half down the road. This is the first time in decades that I've had Monarchs in my yard, and I've been very excited that they're coming back. I'm hoping to see more in the future. \"\n",
      " 'One larva seen.'\n",
      " 'Date of last adult sighted.Total sightings were 98 adults from June 3 to Sept. 4.Peak sightings were July 8 to Aug 7.Approx. acreage with milkweed is equal to 4.5Ac. ']\n",
      "['Walker memorial junior academy' 'Hambrick elementary school'\n",
      " '-999999.999' ... 'Homosassa springs wildlife state park'\n",
      " 'Director, virginia master naturalist program' -999999.999]\n",
      "[ 1.00000000e+01  5.00000000e+00  6.00000000e+00  3.00000000e+00\n",
      "  9.00000000e+00 -9.99999999e+05  7.00000000e+00  2.00000000e+00\n",
      "  8.00000000e+00  9.90000000e+01  4.00000000e+00  1.00000000e+00\n",
      "  1.20000000e+01  1.10000000e+01  0.00000000e+00  3.40000000e+01\n",
      "  2.50000000e+01  4.60000000e+01  6.80000000e+01  1.50000000e+01\n",
      "  9.50000000e+01  3.60000000e+01  1.80000000e+01  2.30000000e+01\n",
      "  1.40000000e+01  4.50000000e+01  9.12000000e+02  2.40000000e+01\n",
      "  6.90000000e+01  5.60000000e+01  7.12000000e+02  6.78000000e+02\n",
      "  1.12000000e+02  4.90000000e+01  7.80000000e+01  6.70000000e+01\n",
      "  1.30000000e+01  4.56000000e+02  1.90000000e+01  6.12000000e+02\n",
      "  1.11200000e+03  1.60000000e+01  1.01200000e+03  3.80000000e+01\n",
      "  6.30000000e+01  2.70000000e+01  1.00000000e+02  9.10000000e+02\n",
      "  6.20000000e+01  3.11000000e+02  5.80000000e+01  1.70000000e+01\n",
      "  2.10000000e+01  2.80000000e+01  7.10000000e+01  3.45000000e+02\n",
      "  1.19000000e+02  3.50000000e+01  4.20000000e+01  6.50000000e+01\n",
      "  5.00000000e+01  4.12000000e+02  7.90000000e+01  2.00000000e+01\n",
      "  7.11000000e+02  5.30000000e+01  1.35000000e+02]\n",
      "['-999999.999'\n",
      " 'https://journeynorth.org/jnorth/images/userfiles2013/1193346010.jpg'\n",
      " 'https://www.learner.org/jnorth/images/userfiles/1317067653.jpg' ...\n",
      " '//journeynorth.org/jnorth/images/userfiles2021/05/1526513089.jpg'\n",
      " '//journeynorth.org/jnorth/images/userfiles2021/05/1526513090.jpg'\n",
      " '//journeynorth.org/jnorth/images/userfiles2021/06/1526524404.jpg']\n"
     ]
    },
    {
     "name": "stdout",
     "output_type": "stream",
     "text": [
      "[     135      150  9701054 ... 10042506 10042509 10042557]\n",
      "[-9.99999999e+05  0.00000000e+00  1.50000000e+02  2.00000000e+01\n",
      "  8.90000000e+01  3.00000000e+01  2.00000000e+03  5.00000000e+01\n",
      "  7.50000000e+03  2.30000000e+01  2.00000000e+02  5.00000000e+00\n",
      "  3.00000000e+02  4.00000000e+00  1.00000000e+02  7.10000000e+01\n",
      "  1.20000000e+02  3.25000000e+02  2.10000000e+01  2.80000000e+01\n",
      "  5.00000000e+03  2.00000000e+04  3.60000000e+01  2.50000000e+01\n",
      "  6.00000000e+00  5.40000000e+01  1.00000000e+03  1.60000000e+02\n",
      "  2.40000000e+01  6.00000000e+01  3.70000000e+01  2.00000000e+00\n",
      "  3.00000000e+03  1.00000000e+06  1.00000000e+01  1.00000000e+00\n",
      "  2.00000000e+06  4.00000000e+01  8.50000000e+01  6.50000000e+01\n",
      "  1.50000000e+01  8.00000000e+00  5.00000000e+02  1.40000000e+01\n",
      "  1.12000000e+02  7.50000000e+01  8.00000000e+01  1.50000000e+04\n",
      "  1.80000000e+01  1.00000000e+04  9.12000000e+02  1.00000000e+05\n",
      "  4.00000000e+02  8.00000000e+02  1.20000000e+01  3.50000000e+01\n",
      "  6.00000000e+02  1.60000000e+01  2.50000000e+04  1.50000000e+03\n",
      "  1.11700000e+03  7.00000000e+01  3.00000000e+00  4.63000000e+02\n",
      "  4.50000000e+01  7.20000000e+01  2.50000000e+02  1.82000000e+02\n",
      "  5.60000000e+01  2.60000000e+01  3.00000000e+04  2.50000000e+03\n",
      "  8.00000000e+03  7.50000000e+02  7.00000000e+02  4.60000000e+01\n",
      "  5.56000000e+02  3.40000000e+01  2.75000000e+02  5.30000000e+01\n",
      "  2.20000000e+01  6.50000000e+02  2.10000000e+02  2.24000000e+02\n",
      "  1.10000000e+03  2.40000000e+02  2.00000000e+05  9.00000000e+02\n",
      "  1.20000000e+03  7.00000000e+00  1.30000000e+01  1.15000000e+02\n",
      "  1.10000000e+01  1.90000000e+01  8.10000000e+02  6.60000000e+01\n",
      "  4.30000000e+01  5.10000000e+02  9.00000000e+00  6.20000000e+01\n",
      "  2.70000000e+01  2.90000000e+02  1.04000000e+02  4.40000000e+01\n",
      "  4.40000000e+02  2.02000000e+02  5.50000000e+01  1.80000000e+02\n",
      "  1.70000000e+01  1.40000000e+02  2.69000000e+02  6.10000000e+01\n",
      "  1.42000000e+02  1.75000000e+02  4.10000000e+01  1.23000000e+02\n",
      "  3.20000000e+01  7.60000000e+01  3.10000000e+01  1.95000000e+02\n",
      "  1.25000000e+02  2.90000000e+01  1.64000000e+02  1.09000000e+02\n",
      "  1.19000000e+02  1.05000000e+02  4.00000000e+03  6.90000000e+01\n",
      "  3.60000000e+02  8.80000000e+01  5.80000000e+01  2.39000000e+02\n",
      "  4.80000000e+01  3.10000000e+02  1.17000000e+02  5.20000000e+01\n",
      "  2.61000000e+02  9.00000000e+01  1.35000000e+02  2.96000000e+02\n",
      "  2.11000000e+02  3.90000000e+01  5.10000000e+01  1.02000000e+02\n",
      "  7.00100000e+03  1.27000000e+02  4.90000000e+01  4.70000000e+01\n",
      "  3.30000000e+01  1.30000000e+03  4.20000000e+01  1.01000000e+02\n",
      "  5.07500000e+03  1.52000000e+03  1.70000000e+02  8.10000000e+01\n",
      "  1.90000000e+02  3.80000000e+01  1.10000000e+02  5.58000000e+02\n",
      "  3.81000000e+02  2.28000000e+02  2.48000000e+02  8.60000000e+01\n",
      "  7.40000000e+01  1.72000000e+02  2.30000000e+02  4.20000000e+02\n",
      "  2.80600000e+03  9.40000000e+01  9.20000000e+01  1.18000000e+02\n",
      "  4.25000000e+02  5.40000000e+03  6.30000000e+03  6.80000000e+01\n",
      "  7.90000000e+01  5.00000000e+04  2.30000000e+03  7.00000000e+03\n",
      "  8.40000000e+01  1.28000000e+02  5.70000000e+01  3.50000000e+02\n",
      "  8.30000000e+01  1.24000000e+02  1.14000000e+02  4.50000000e+02\n",
      "  1.47000000e+02  5.01000000e+02  8.70000000e+01  7.70000000e+01\n",
      "  1.97000000e+02  8.40000000e+02  1.34600000e+04  3.50000000e+03\n",
      "  6.40000000e+01  7.30000000e+01  1.78000000e+02  2.65000000e+02\n",
      "  1.51000000e+02  1.33000000e+02  1.21000000e+02  4.77000000e+02\n",
      "  5.90000000e+01  9.70000000e+01  8.50000000e+02  1.30000000e+02\n",
      "  1.65000000e+02  9.50000000e+01  3.83000000e+02  9.80000000e+01\n",
      "  7.29000000e+02  2.22000000e+02  1.16000000e+02  2.25000000e+02\n",
      "  6.30000000e+01  6.00000000e+03  4.75000000e+02  3.40000000e+04\n",
      "  1.34200000e+04  2.13290000e+04  1.20730000e+04  1.62440000e+04\n",
      "  3.02930000e+04  1.10820000e+04  7.80000000e+01  2.14000000e+02\n",
      "  1.13000000e+02  1.08000000e+02  2.80000000e+02  2.12000000e+02\n",
      "  1.38000000e+02  2.85000000e+02  2.29000000e+02  2.16000000e+02\n",
      "  7.20000000e+02  2.06000000e+02  6.06000000e+02  2.87000000e+02\n",
      "  1.07000000e+02  1.34000000e+02  1.57000000e+02  5.40000000e+02\n",
      "  1.00000000e+07  2.20000000e+02  1.03000000e+02  2.70000000e+02\n",
      "  8.20000000e+01  1.39000000e+02  3.18000000e+02  9.30000000e+01\n",
      "  6.70000000e+01  1.81000000e+02  1.22000000e+02  1.58000000e+02\n",
      "  1.56000000e+02  2.32000000e+02  1.06000000e+02  1.55000000e+02\n",
      "  2.40000000e+03  6.67000000e+02  1.28600000e+03  1.79000000e+02\n",
      "  3.49000000e+02  2.07000000e+02  5.05000000e+02  1.32000000e+02\n",
      "  1.54000000e+02  1.40000000e+03  3.29140000e+04  2.98040000e+04\n",
      "  1.81280000e+04  1.58900000e+04  7.75000000e+03  8.53100000e+03\n",
      "  7.33300000e+03  7.78300000e+03  1.73000000e+02  2.13000000e+02\n",
      "  1.26000000e+02  3.78000000e+02  4.17000000e+02  4.81000000e+02\n",
      "  7.80000000e+02  4.80000000e+03  6.25000000e+02  2.08000000e+02\n",
      "  2.05000000e+02  1.45000000e+02  2.60000000e+02  1.93000000e+02\n",
      "  1.44000000e+02  2.27000000e+02  3.05000000e+02  8.31000000e+02\n",
      "  2.89000000e+02  2.46000000e+02  4.04000000e+02  1.52000000e+02\n",
      "  9.60000000e+01  3.73000000e+02  8.55000000e+02  1.80000000e+03\n",
      "  5.19000000e+02  2.15000000e+02  4.41000000e+02  3.37000000e+02\n",
      "  2.38000000e+04  2.18000000e+02  3.40000000e+02  2.31000000e+02\n",
      "  2.10000000e+03  5.50000000e+02  4.50000000e+03  3.20000000e+02\n",
      "  9.00000000e+03  1.20000000e+04  3.24000000e+02  4.61000000e+02\n",
      "  1.84000000e+02  5.70000000e+02  4.44000000e+02  6.20000000e+02\n",
      "  1.10000000e+04  8.70000000e+02  4.78000000e+02  2.52000000e+02\n",
      "  4.47000000e+02  2.47000000e+02  2.81000000e+02  9.80000000e+02\n",
      "  2.80730000e+04  1.34920000e+04  1.28640000e+04  1.14720000e+04\n",
      "  1.02000000e+04  3.01000000e+02  1.11000000e+02  2.59000000e+02\n",
      "  1.71000000e+02  1.41000000e+02  2.56000000e+02  1.86000000e+02\n",
      "  1.74000000e+02  1.98000000e+02  4.79000000e+02  1.87000000e+02\n",
      "  2.23000000e+02  4.74000000e+02  2.03000000e+02  2.78000000e+02\n",
      "  1.53000000e+02  2.57000000e+02  5.20000000e+02  1.85000000e+02\n",
      "  3.20000000e+03  3.75000000e+02  2.58000000e+02  1.36000000e+02\n",
      "  7.00000000e+04  6.02000000e+04  4.80000000e+04  1.78000000e+04\n",
      "  2.64000000e+02  1.97550000e+04  1.71000000e+04  1.21890000e+04\n",
      "  1.33750000e+04  2.33000000e+02  2.04000000e+02  1.92000000e+02\n",
      "  1.31000000e+02 -1.00000000e+00  1.29000000e+02  1.49000000e+02\n",
      " -1.70000000e+01  4.60000000e+02  3.82000000e+02  1.37000000e+02\n",
      "  1.43000000e+02  4.45000000e+02  9.10000000e+01  1.70000000e+03\n",
      "  3.30000000e+02  2.54000000e+02  4.29000000e+02  8.13000000e+02\n",
      "  2.20000000e+03  3.16000000e+02  2.60000000e+03  6.96000000e+02\n",
      "  2.91000000e+02  2.55000000e+02  2.86000000e+02  5.43000000e+02\n",
      "  1.83000000e+02  2.51000000e+02  3.62000000e+02  2.26000000e+02\n",
      "  4.53000000e+02  1.08000000e+03  8.60000000e+02  3.15000000e+02\n",
      "  3.32000000e+02  2.44000000e+02  1.35100000e+03  3.50000000e+04\n",
      "  1.50300000e+03  1.12500000e+03  7.25000000e+02  1.48200000e+03\n",
      "  5.93000000e+02  2.07900000e+03  1.22840000e+04  1.97410000e+04\n",
      "  1.23600000e+04  1.00990000e+04  5.87000000e+02  1.90000000e+04\n",
      "  5.00000000e+05  1.89000000e+02  6.71000000e+02  7.13000000e+02\n",
      "  1.01600000e+03  1.76000000e+02  3.45000000e+02  2.19000000e+02\n",
      "  2.34000000e+02  2.49000000e+02  4.09000000e+02  4.18000000e+02\n",
      "  1.60000000e+04  3.90000000e+03  1.69000000e+02  7.20000000e+03\n",
      "  2.72000000e+02  2.84000000e+02  6.53000000e+02  4.28000000e+02\n",
      "  3.48000000e+02  7.77000000e+02  2.53000000e+02  9.90000000e+01\n",
      "  2.01000000e+02  1.51600000e+03  3.35000000e+02  3.59000000e+02\n",
      "  3.56000000e+02  8.75000000e+02  5.60000000e+02  1.77000000e+02\n",
      "  5.25000000e+02  6.86000000e+02  1.38000000e+03  2.76000000e+02\n",
      "  9.99999000e+05  1.26200000e+04  6.50000000e+03  5.85000000e+03\n",
      "  1.88000000e+02  2.96000000e+03  4.80000000e+02  3.85000000e+02\n",
      "  8.27000000e+02  3.23000000e+02  1.48000000e+02  1.01200000e+03\n",
      "  4.65000000e+02  1.96000000e+02  1.62000000e+02  2.38000000e+02\n",
      "  4.46000000e+02  3.13000000e+02  2.38500000e+03  3.07000000e+02\n",
      "  2.63000000e+02  3.57000000e+02  1.63000000e+02  4.95000000e+02\n",
      "  1.00100000e+03  5.41000000e+02  7.33000000e+02  1.67000000e+02\n",
      "  3.60000000e+03  4.57000000e+02  5.70000000e+03  1.65000000e+03\n",
      "  1.12000000e+03  3.55300000e+03  9.95000000e+02  1.60000000e+03\n",
      "  1.39000000e+03  6.14000000e+02  7.60000000e+03  8.25000000e+03\n",
      "  3.14000000e+02  1.58000000e+03  2.21000000e+02  1.62000000e+03\n",
      "  4.70000000e+02  7.59000000e+02  2.67000000e+02  9.60000000e+02\n",
      "  1.30100000e+03  5.66000000e+02  3.42000000e+02  8.80000000e+02\n",
      "  7.82000000e+02  2.41000000e+02  5.14000000e+02  2.25000000e+03\n",
      "  2.47000000e+03  9.25000000e+02  4.03000000e+02  1.66000000e+02\n",
      "  6.76900000e+03  1.46000000e+02  2.46900000e+03  2.09000000e+02\n",
      "  2.79000000e+02  8.68000000e+02  5.85000000e+02  3.11000000e+02\n",
      "  6.83000000e+02  3.54000000e+02  3.08000000e+02  7.60000000e+02\n",
      "  3.87000000e+02  5.63000000e+02  8.01000000e+02  5.36000000e+02\n",
      "  1.61000000e+02  3.97000000e+02  3.22000000e+02  6.13000000e+02\n",
      "  1.91000000e+02  1.75000000e+03  1.99000000e+02  5.16000000e+02\n",
      "  3.21000000e+02  1.85000000e+03  2.77000000e+02  2.97000000e+02\n",
      "  4.75000000e+03  3.70000000e+02  4.89000000e+02  1.14900000e+03\n",
      "  2.68000000e+02  2.81600000e+03  7.89000000e+02  4.30000000e+02\n",
      "  9.78000000e+02  7.70000000e+02  4.93000000e+02  7.16000000e+02\n",
      "  1.59000000e+02]\n",
      "[1 2 0]\n",
      "['Monarch Butterfly' 'Monarch Migration' 'FIRST Monarch Butterfly'\n",
      " 'FIRST Monarch Egg' 'First Monarch' 'FIRST Monarch' 'LAST Fall Monarch'\n",
      " 'Monarch (OTHER observations)' 'Monarch (FIRST sighting)'\n",
      " 'Monarch (FIRST seen)' 'Monarch (Other Sightings)'\n",
      " 'Monarch (OTHER observation)' 'Monarch (OTHER Observation)'\n",
      " 'Monarch Migration Sighting' 'Monarch (OTHER Observations)'\n",
      " 'Monarch Migration Study' 'LAST Fall Monarch Sighted'\n",
      " ' LAST Fall Monarch Sighted' 'LAST Fall Monarch Migration'\n",
      " 'Monarch (OTHER oservations)' 'Monarch (LAST sighting)'\n",
      " 'Monarch Larva (FIRST sighted)' 'Monarch Egg (FIRST sighted)'\n",
      " 'Monarch Adult (FIRST sighted)' 'Monarch Adult (FIRST Sighted)'\n",
      " 'Monarch PEAK Migration' 'LAST Fall Monarch Sighting'\n",
      " 'Monarchs OTHER (Observation)' '(Monarch) Milkweed emerges'\n",
      " 'Monarch FIRST Migration Sighting' 'Monarch peak Migration'\n",
      " 'Monarch (OTHER) Observations' 'Milkweed (FIRST Leaves)'\n",
      " 'Monarch Over-wintering' 'Monarch Adult  (FIRST sighted)'\n",
      " 'Monarchs (OTHER observations)' 'Monarch (IOTHER observations)'\n",
      " 'Monarch Fall Roost' 'Monarch ADULT' 'Monarch Larva (FIRST Sighted)'\n",
      " 'Monarch (OTHER Observations' 'Monarch Peak Migration'\n",
      " 'Monarch over-wintering' 'Monarch  Adult (FIRST sighted)'\n",
      " 'Monarch (Other Observations)' 'Monarch FIRST Adult'\n",
      " 'Monarch Adult (First sighted)' 'Monarch (Other observations)'\n",
      " 'Monarch Migration Sighting OW' 'Monarch (FIRST sighted)'\n",
      " 'Monarch (NONE sighted)' 'Monarch Fall Roost (None yet)'\n",
      " 'Monarch Adult Sighted' 'Monarch Sighting' 'Monarch (Other Observations'\n",
      " 'Monarch Winter Sighting' 'Monarch Sighted' 'Monarch Egg Sighted'\n",
      " 'Monarch Larva Sighted' 'Monarch OTHER Observations'\n",
      " 'monarch (OTHER Observations)' 'Monarch Egg (FIRST Sighted)'\n",
      " 'Monarch OW Mexico' 'Monarch Adult  Sighted'\n",
      " 'Monarch (OTHER Observations) READY' 'Monarch Adult (FIRST sighted))'\n",
      " 'Monarch, Captive-Reared' 'Monarch Fall Roost (waiting for permission)'\n",
      " 'Milkweed Sighted' 'Milkweed (FIRST sighted)' 'Milkweed (FIRST Sighted)'\n",
      " 'Milkweed sighted' 'Monarch, Captive Reared'\n",
      " 'Monarch Egg (FIRST sighted)ghted)'\n",
      " 'Monarch Adult (FIRST sighted)T sighted)'\n",
      " 'Monarch Adult (FIRST sighted)sighted)' 'Monarch (Captive Reared)ed)'\n",
      " 'Monarch (Captive Reared)' 'Monarch (OTHER Observations)ations)'\n",
      " 'Monarch Larva Sighted ' 'Monarch Fall Roost ' 'Monarch Egg Sighted '\n",
      " 'Monarch, captive-Reared' 'MOnarch Larva Sighted'\n",
      " 'Monarch Adult Sighted ' 'Monarch adult Sighted' 'Monarch Adult SIghted'\n",
      " 'Monarch Adult (FIRST sighted) ' 'Monarchch Adult Sighted'\n",
      " 'Monarch egg Sighted' 'Monarch larva Sighted' 'Monarch , Captive-Raised'\n",
      " 'Monarch, Captive' 'Monarch,' 'Monarch Adult sighted'\n",
      " 'Monarch, Captive-reared']\n",
      "[1 0]\n"
     ]
    }
   ],
   "source": [
    "# Determine the number of unique values in each column.\n",
    "for col in JNorth1996_2020_df:\n",
    "  print(JNorth1996_2020_df[col].unique())"
   ]
  },
  {
   "cell_type": "code",
   "execution_count": 10,
   "id": "5c015895",
   "metadata": {},
   "outputs": [
    {
     "name": "stdout",
     "output_type": "stream",
     "text": [
      "850841703     1\n",
      "1526350827    1\n",
      "1526350816    1\n",
      "1526350817    1\n",
      "1526350818    1\n",
      "             ..\n",
      "1432512422    1\n",
      "1432519704    1\n",
      "1432562236    1\n",
      "1432562641    1\n",
      "1526525021    1\n",
      "Name: id, Length: 227433, dtype: int64\n",
      "2018-08-22    392\n",
      "2018-10-03    377\n",
      "2018-09-06    353\n",
      "2019-09-19    337\n",
      "2018-09-12    335\n",
      "             ... \n",
      "2015-12-31      1\n",
      "2015-11-24      1\n",
      "2015-11-22      1\n",
      "2006-07-30      1\n",
      "1996-12-16      1\n",
      "Name: sighting_date, Length: 7491, dtype: int64\n",
      "Monarch Adult Sighted            102306\n",
      "Monarch Adult (FIRST sighted)     36409\n",
      "Monarch Larva Sighted             17378\n",
      "Monarch, Captive-Reared           14339\n",
      "Monarch (OTHER Observations)      13581\n",
      "Monarch Egg Sighted                8736\n",
      "Milkweed (FIRST sighted)           8465\n",
      "Monarch PEAK Migration             7689\n",
      "Monarch Egg (FIRST sighted)        6876\n",
      "Monarch Fall Roost                 5035\n",
      "Monarch Larva (FIRST sighted)      4898\n",
      "Milkweed Sighted                   1721\n",
      "Name: species, dtype: int64\n",
      "1       139319\n",
      "2        24169\n",
      "3        13055\n",
      "4         7795\n",
      "5         6118\n",
      "         ...  \n",
      "860          1\n",
      "315          1\n",
      "244          1\n",
      "1351         1\n",
      "159          1\n",
      "Name: number, Length: 555, dtype: int64\n",
      "29.757    811\n",
      "30.230    765\n",
      "45.033    702\n",
      "37.944    700\n",
      "42.409    659\n",
      "         ... \n",
      "30.770      1\n",
      "38.355      1\n",
      "33.305      1\n",
      "29.930      1\n",
      "27.594      1\n",
      "Name: latitude, Length: 18851, dtype: int64\n",
      "-95.365     807\n",
      "-97.714     752\n",
      "-87.405     695\n",
      "-93.224     620\n",
      "-82.220     605\n",
      "           ... \n",
      "-77.529       1\n",
      "-69.400       1\n",
      "-101.051      1\n",
      "-69.254       1\n",
      "-122.557      1\n",
      "Name: longitude, Length: 30123, dtype: int64\n",
      "1    136009\n",
      "0     91424\n",
      "Name: flag_location, dtype: int64\n",
      "-999999.999                                                                                                                                                               1427\n",
      "Female                                                                                                                                                                     170\n",
      "Flying                                                                                                                                                                     144\n",
      "Male                                                                                                                                                                       118\n",
      "Recorded as an incidental sighting while conducting surveys on the Fort Hood military base.                                                                                104\n",
      "                                                                                                                                                                          ... \n",
      "first female sighting around 3 pm in richmond-laid egg on common milkweed.  Warm sw wind -monarch looked fresh                                                               1\n",
      "Spotted our first milkweed shoots in our butterfly garden at Lake Anne Elementary this afternoon after the first weekend with warmer temperatures.                           1\n",
      "Spotted 1 adult near Love Valley Wildlife Reserve near the Red River.                                                                                                        1\n",
      "Established Asclepias syriaca L. plants in open area have emerged approximately 1 inch in height one day after 0.7\" rainfall.                                                1\n",
      "Date of last adult sighted.Total sightings were 98 adults from June 3 to Sept. 4.Peak sightings were July 8 to Aug 7.Approx. acreage with milkweed is equal to 4.5Ac.        1\n",
      "Name: comments, Length: 212736, dtype: int64\n",
      "-999999.999                            139036\n",
      "-999999.999                             63593\n",
      "None                                      457\n",
      "Homeschool                                331\n",
      "Virginia living museum                    263\n",
      "                                        ...  \n",
      "William e. norris elementary school         1\n",
      "Coventry elementary school                  1\n",
      "Adams is close                              1\n",
      "Salem elementary school                     1\n",
      "Walker memorial junior academy              1\n",
      "Name: school, Length: 6914, dtype: int64\n",
      "-999999.999    206370\n",
      " 99.000          3136\n",
      " 4.000           2947\n",
      " 3.000           2543\n",
      " 2.000           2541\n",
      "                ...  \n",
      " 1012.000           1\n",
      " 678.000            1\n",
      " 69.000             1\n",
      " 95.000             1\n",
      " 135.000            1\n",
      "Name: grade, Length: 67, dtype: int64\n",
      "-999999.999                                                                   183911\n",
      "//sightings.journeynorth.org/jnorth/images/userfiles2018/09/1526362818.jpg         8\n",
      "https://journeynorth.org/jnorth/images/userfiles/1366245309.jpg                    3\n",
      "https://journeynorth.org/jnorth/images/userfiles/1331931236.jpg                    3\n",
      "//journeynorth.org/jnorth/images/userfiles2020/04/1526445894.jpg                   2\n",
      "                                                                               ...  \n",
      "https://journeynorth.org/jnorth/images/userfiles2017/06/1496327046.jpg             1\n",
      "https://journeynorth.org/jnorth/images/userfiles2017/06/1496327055.jpg             1\n",
      "https://journeynorth.org/jnorth/images/userfiles2017/06/1496327056.jpg             1\n",
      "https://journeynorth.org/jnorth/images/userfiles2017/06/1496327063.jpg             1\n",
      "//journeynorth.org/jnorth/images/userfiles2021/06/1526524404.jpg                   1\n",
      "Name: image_url, Length: 43474, dtype: int64\n",
      "9710973     7256\n",
      "9979617     2054\n",
      "9976074     1055\n",
      "9975275      900\n",
      "10010858     757\n",
      "            ... \n",
      "9979243        1\n",
      "9979242        1\n",
      "9979240        1\n",
      "9979216        1\n",
      "10042557       1\n",
      "Name: customerid, Length: 42518, dtype: int64\n",
      " 1.000         73436\n",
      "-999999.999    64715\n",
      " 2.000         24169\n",
      " 3.000         13055\n",
      " 4.000          7795\n",
      "               ...  \n",
      " 445.000           1\n",
      " 1700.000          1\n",
      " 254.000           1\n",
      " 429.000           1\n",
      " 159.000           1\n",
      "Name: number_old, Length: 557, dtype: int64\n",
      "0    161550\n",
      "1     64715\n",
      "2      1168\n",
      "Name: flag_number, dtype: int64\n",
      "Monarch Adult Sighted                          91662\n",
      "Monarch Adult (FIRST sighted)                  25311\n",
      "Monarch Larva Sighted                          17373\n",
      "Monarch, Captive-Reared                        14329\n",
      "Monarch (OTHER Observations)                   10626\n",
      "                                               ...  \n",
      "monarch (OTHER Observations)                       1\n",
      "Monarch (OTHER Observations) READY                 1\n",
      "Monarch Fall Roost (waiting for permission)        1\n",
      "Monarch, Captive Reared                            1\n",
      "Monarch, Captive-reared                            1\n",
      "Name: species_old, Length: 96, dtype: int64\n",
      "0    197793\n",
      "1     29640\n",
      "Name: flag_species, dtype: int64\n"
     ]
    }
   ],
   "source": [
    "# Determine the number of unique values in each column.\n",
    "for col in JNorth1996_2020_df:\n",
    "  print(JNorth1996_2020_df[col].value_counts())"
   ]
  },
  {
   "cell_type": "code",
   "execution_count": 11,
   "id": "df89a73c",
   "metadata": {},
   "outputs": [
    {
     "name": "stdout",
     "output_type": "stream",
     "text": [
      "Column id has 0 null values\n",
      "Column sighting_date has 0 null values\n",
      "Column species has 0 null values\n",
      "Column number has 0 null values\n",
      "Column latitude has 0 null values\n",
      "Column longitude has 0 null values\n",
      "Column flag_location has 0 null values\n",
      "Column comments has 0 null values\n",
      "Column school has 0 null values\n",
      "Column grade has 0 null values\n",
      "Column image_url has 0 null values\n",
      "Column customerid has 0 null values\n",
      "Column number_old has 0 null values\n",
      "Column flag_number has 0 null values\n",
      "Column species_old has 0 null values\n",
      "Column flag_species has 0 null values\n"
     ]
    }
   ],
   "source": [
    "# Find null values\n",
    "for column in JNorth1996_2020_df.columns:\n",
    "   print(f\"Column {column} has {JNorth1996_2020_df[column].isnull().sum()} null values\")"
   ]
  },
  {
   "cell_type": "code",
   "execution_count": 12,
   "id": "f625b64c",
   "metadata": {},
   "outputs": [
    {
     "name": "stdout",
     "output_type": "stream",
     "text": [
      "Duplicate entries: 0\n"
     ]
    }
   ],
   "source": [
    "# Find duplicate entries\n",
    "print(f\"Duplicate entries: {JNorth1996_2020_df.duplicated().sum()}\")"
   ]
  },
  {
   "cell_type": "code",
   "execution_count": 13,
   "id": "324f6253",
   "metadata": {
    "scrolled": true
   },
   "outputs": [
    {
     "data": {
      "text/html": [
       "<div>\n",
       "<style scoped>\n",
       "    .dataframe tbody tr th:only-of-type {\n",
       "        vertical-align: middle;\n",
       "    }\n",
       "\n",
       "    .dataframe tbody tr th {\n",
       "        vertical-align: top;\n",
       "    }\n",
       "\n",
       "    .dataframe thead th {\n",
       "        text-align: right;\n",
       "    }\n",
       "</style>\n",
       "<table border=\"1\" class=\"dataframe\">\n",
       "  <thead>\n",
       "    <tr style=\"text-align: right;\">\n",
       "      <th></th>\n",
       "      <th>id</th>\n",
       "      <th>sighting_date</th>\n",
       "      <th>species</th>\n",
       "      <th>number</th>\n",
       "      <th>latitude</th>\n",
       "      <th>longitude</th>\n",
       "      <th>flag_location</th>\n",
       "      <th>comments</th>\n",
       "      <th>school</th>\n",
       "      <th>grade</th>\n",
       "      <th>image_url</th>\n",
       "      <th>customerid</th>\n",
       "      <th>number_old</th>\n",
       "      <th>flag_number</th>\n",
       "      <th>species_old</th>\n",
       "      <th>flag_species</th>\n",
       "    </tr>\n",
       "  </thead>\n",
       "  <tbody>\n",
       "    <tr>\n",
       "      <th>688</th>\n",
       "      <td>886471649</td>\n",
       "      <td>1998-02-01</td>\n",
       "      <td>Monarch Adult (FIRST sighted)</td>\n",
       "      <td>1</td>\n",
       "      <td>29.957</td>\n",
       "      <td>-90.078</td>\n",
       "      <td>0</td>\n",
       "      <td>We saw 2 butterflies hatch this weekend.  We b...</td>\n",
       "      <td>-999999.999</td>\n",
       "      <td>-999999.999</td>\n",
       "      <td>-999999.999</td>\n",
       "      <td>9704694</td>\n",
       "      <td>-999999.999</td>\n",
       "      <td>1</td>\n",
       "      <td>FIRST Monarch Butterfly</td>\n",
       "      <td>1</td>\n",
       "    </tr>\n",
       "    <tr>\n",
       "      <th>689</th>\n",
       "      <td>887033189</td>\n",
       "      <td>1998-02-08</td>\n",
       "      <td>Monarch Adult (FIRST sighted)</td>\n",
       "      <td>1</td>\n",
       "      <td>30.894</td>\n",
       "      <td>-102.086</td>\n",
       "      <td>0</td>\n",
       "      <td>-999999.999</td>\n",
       "      <td>Iraan elementary</td>\n",
       "      <td>5.000</td>\n",
       "      <td>-999999.999</td>\n",
       "      <td>719</td>\n",
       "      <td>-999999.999</td>\n",
       "      <td>1</td>\n",
       "      <td>FIRST Monarch Butterfly</td>\n",
       "      <td>1</td>\n",
       "    </tr>\n",
       "    <tr>\n",
       "      <th>691</th>\n",
       "      <td>887158601</td>\n",
       "      <td>1998-01-17</td>\n",
       "      <td>Monarch Adult (FIRST sighted)</td>\n",
       "      <td>1</td>\n",
       "      <td>28.529</td>\n",
       "      <td>-96.679</td>\n",
       "      <td>0</td>\n",
       "      <td>Netted and tagged Monarch female laying eggs o...</td>\n",
       "      <td>Victoria christian school</td>\n",
       "      <td>7.000</td>\n",
       "      <td>-999999.999</td>\n",
       "      <td>9704928</td>\n",
       "      <td>-999999.999</td>\n",
       "      <td>1</td>\n",
       "      <td>FIRST Monarch Butterfly</td>\n",
       "      <td>1</td>\n",
       "    </tr>\n",
       "    <tr>\n",
       "      <th>692</th>\n",
       "      <td>887283990</td>\n",
       "      <td>1998-02-12</td>\n",
       "      <td>Monarch Adult (FIRST sighted)</td>\n",
       "      <td>1</td>\n",
       "      <td>28.529</td>\n",
       "      <td>-96.679</td>\n",
       "      <td>0</td>\n",
       "      <td>Have had a few Monarchs overwintering in this ...</td>\n",
       "      <td>Victoria christian school</td>\n",
       "      <td>7.000</td>\n",
       "      <td>-999999.999</td>\n",
       "      <td>9704928</td>\n",
       "      <td>-999999.999</td>\n",
       "      <td>1</td>\n",
       "      <td>FIRST Monarch Butterfly</td>\n",
       "      <td>1</td>\n",
       "    </tr>\n",
       "    <tr>\n",
       "      <th>694</th>\n",
       "      <td>887294257</td>\n",
       "      <td>1997-12-20</td>\n",
       "      <td>Monarch Adult (FIRST sighted)</td>\n",
       "      <td>1</td>\n",
       "      <td>29.757</td>\n",
       "      <td>-95.365</td>\n",
       "      <td>0</td>\n",
       "      <td>Monarch’s have been sighted in backyards with ...</td>\n",
       "      <td>Kinkaid school</td>\n",
       "      <td>8.000</td>\n",
       "      <td>-999999.999</td>\n",
       "      <td>728</td>\n",
       "      <td>-999999.999</td>\n",
       "      <td>1</td>\n",
       "      <td>FIRST Monarch Butterfly</td>\n",
       "      <td>1</td>\n",
       "    </tr>\n",
       "  </tbody>\n",
       "</table>\n",
       "</div>"
      ],
      "text/plain": [
       "            id sighting_date                        species  number  latitude  \\\n",
       "688  886471649    1998-02-01  Monarch Adult (FIRST sighted)       1    29.957   \n",
       "689  887033189    1998-02-08  Monarch Adult (FIRST sighted)       1    30.894   \n",
       "691  887158601    1998-01-17  Monarch Adult (FIRST sighted)       1    28.529   \n",
       "692  887283990    1998-02-12  Monarch Adult (FIRST sighted)       1    28.529   \n",
       "694  887294257    1997-12-20  Monarch Adult (FIRST sighted)       1    29.757   \n",
       "\n",
       "     longitude  flag_location  \\\n",
       "688    -90.078              0   \n",
       "689   -102.086              0   \n",
       "691    -96.679              0   \n",
       "692    -96.679              0   \n",
       "694    -95.365              0   \n",
       "\n",
       "                                              comments  \\\n",
       "688  We saw 2 butterflies hatch this weekend.  We b...   \n",
       "689                                        -999999.999   \n",
       "691  Netted and tagged Monarch female laying eggs o...   \n",
       "692  Have had a few Monarchs overwintering in this ...   \n",
       "694  Monarch’s have been sighted in backyards with ...   \n",
       "\n",
       "                        school       grade    image_url  customerid  \\\n",
       "688                -999999.999 -999999.999  -999999.999     9704694   \n",
       "689           Iraan elementary       5.000  -999999.999         719   \n",
       "691  Victoria christian school       7.000  -999999.999     9704928   \n",
       "692  Victoria christian school       7.000  -999999.999     9704928   \n",
       "694             Kinkaid school       8.000  -999999.999         728   \n",
       "\n",
       "     number_old  flag_number              species_old  flag_species  \n",
       "688 -999999.999            1  FIRST Monarch Butterfly             1  \n",
       "689 -999999.999            1  FIRST Monarch Butterfly             1  \n",
       "691 -999999.999            1  FIRST Monarch Butterfly             1  \n",
       "692 -999999.999            1  FIRST Monarch Butterfly             1  \n",
       "694 -999999.999            1  FIRST Monarch Butterfly             1  "
      ]
     },
     "execution_count": 13,
     "metadata": {},
     "output_type": "execute_result"
    }
   ],
   "source": [
    "# filtering by type of observation (Monarch Adult Sighted)\n",
    "JNorth_Adult_First_Site_df = JNorth1996_2020_df[JNorth1996_2020_df['species']=='Monarch Adult (FIRST sighted)']\n",
    "JNorth_Adult_First_Site_df.head()"
   ]
  },
  {
   "cell_type": "code",
   "execution_count": 14,
   "id": "e5f16410",
   "metadata": {},
   "outputs": [],
   "source": [
    "JNorth_Adult_First_Site_df.to_csv('JNorth_Adult_First_Site.csv', header=True, mode='w' )"
   ]
  },
  {
   "cell_type": "code",
   "execution_count": 15,
   "id": "e2fdaf3f",
   "metadata": {},
   "outputs": [
    {
     "data": {
      "text/plain": [
       "(36409, 16)"
      ]
     },
     "execution_count": 15,
     "metadata": {},
     "output_type": "execute_result"
    }
   ],
   "source": [
    "JNorth_Adult_First_Site_df.shape"
   ]
  },
  {
   "cell_type": "markdown",
   "id": "58d210d2",
   "metadata": {},
   "source": [
    "# Format file for geoJSON "
   ]
  },
  {
   "cell_type": "code",
   "execution_count": 16,
   "id": "6134356f",
   "metadata": {},
   "outputs": [
    {
     "data": {
      "text/html": [
       "<div>\n",
       "<style scoped>\n",
       "    .dataframe tbody tr th:only-of-type {\n",
       "        vertical-align: middle;\n",
       "    }\n",
       "\n",
       "    .dataframe tbody tr th {\n",
       "        vertical-align: top;\n",
       "    }\n",
       "\n",
       "    .dataframe thead th {\n",
       "        text-align: right;\n",
       "    }\n",
       "</style>\n",
       "<table border=\"1\" class=\"dataframe\">\n",
       "  <thead>\n",
       "    <tr style=\"text-align: right;\">\n",
       "      <th></th>\n",
       "      <th>sighting_date</th>\n",
       "      <th>species</th>\n",
       "      <th>number</th>\n",
       "      <th>latitude</th>\n",
       "      <th>longitude</th>\n",
       "    </tr>\n",
       "  </thead>\n",
       "  <tbody>\n",
       "    <tr>\n",
       "      <th>688</th>\n",
       "      <td>1998-02-01</td>\n",
       "      <td>Monarch Adult (FIRST sighted)</td>\n",
       "      <td>1</td>\n",
       "      <td>29.957</td>\n",
       "      <td>-90.078</td>\n",
       "    </tr>\n",
       "    <tr>\n",
       "      <th>689</th>\n",
       "      <td>1998-02-08</td>\n",
       "      <td>Monarch Adult (FIRST sighted)</td>\n",
       "      <td>1</td>\n",
       "      <td>30.894</td>\n",
       "      <td>-102.086</td>\n",
       "    </tr>\n",
       "    <tr>\n",
       "      <th>691</th>\n",
       "      <td>1998-01-17</td>\n",
       "      <td>Monarch Adult (FIRST sighted)</td>\n",
       "      <td>1</td>\n",
       "      <td>28.529</td>\n",
       "      <td>-96.679</td>\n",
       "    </tr>\n",
       "    <tr>\n",
       "      <th>692</th>\n",
       "      <td>1998-02-12</td>\n",
       "      <td>Monarch Adult (FIRST sighted)</td>\n",
       "      <td>1</td>\n",
       "      <td>28.529</td>\n",
       "      <td>-96.679</td>\n",
       "    </tr>\n",
       "    <tr>\n",
       "      <th>694</th>\n",
       "      <td>1997-12-20</td>\n",
       "      <td>Monarch Adult (FIRST sighted)</td>\n",
       "      <td>1</td>\n",
       "      <td>29.757</td>\n",
       "      <td>-95.365</td>\n",
       "    </tr>\n",
       "  </tbody>\n",
       "</table>\n",
       "</div>"
      ],
      "text/plain": [
       "    sighting_date                        species  number  latitude  longitude\n",
       "688    1998-02-01  Monarch Adult (FIRST sighted)       1    29.957    -90.078\n",
       "689    1998-02-08  Monarch Adult (FIRST sighted)       1    30.894   -102.086\n",
       "691    1998-01-17  Monarch Adult (FIRST sighted)       1    28.529    -96.679\n",
       "692    1998-02-12  Monarch Adult (FIRST sighted)       1    28.529    -96.679\n",
       "694    1997-12-20  Monarch Adult (FIRST sighted)       1    29.757    -95.365"
      ]
     },
     "execution_count": 16,
     "metadata": {},
     "output_type": "execute_result"
    }
   ],
   "source": [
    "JNorth_Adult_First_Site_df = pd.DataFrame(JNorth_Adult_First_Site_df)\n",
    "JNorth_Adult_First_Site_df.drop(['id','flag_location', 'comments','school','grade','image_url','customerid','number_old','flag_number','species_old','flag_species'], axis=1, inplace=True)\n",
    "JNorth_Adult_First_Site_df.head()"
   ]
  },
  {
   "cell_type": "code",
   "execution_count": 17,
   "id": "1a6fb766",
   "metadata": {},
   "outputs": [],
   "source": [
    "cols = ['sighting_date', 'species', 'number', 'latitude', 'longitude']"
   ]
  },
  {
   "cell_type": "code",
   "execution_count": 18,
   "id": "7e250a92",
   "metadata": {},
   "outputs": [
    {
     "data": {
      "text/html": [
       "<div>\n",
       "<style scoped>\n",
       "    .dataframe tbody tr th:only-of-type {\n",
       "        vertical-align: middle;\n",
       "    }\n",
       "\n",
       "    .dataframe tbody tr th {\n",
       "        vertical-align: top;\n",
       "    }\n",
       "\n",
       "    .dataframe thead th {\n",
       "        text-align: right;\n",
       "    }\n",
       "</style>\n",
       "<table border=\"1\" class=\"dataframe\">\n",
       "  <thead>\n",
       "    <tr style=\"text-align: right;\">\n",
       "      <th></th>\n",
       "      <th>sighting_date</th>\n",
       "      <th>species</th>\n",
       "      <th>latitude</th>\n",
       "      <th>longitude</th>\n",
       "      <th>number</th>\n",
       "    </tr>\n",
       "  </thead>\n",
       "  <tbody>\n",
       "    <tr>\n",
       "      <th>0</th>\n",
       "      <td>1997-03-01</td>\n",
       "      <td>Monarch Adult (FIRST sighted)</td>\n",
       "      <td>26.220</td>\n",
       "      <td>-98.490</td>\n",
       "      <td>1</td>\n",
       "    </tr>\n",
       "    <tr>\n",
       "      <th>1</th>\n",
       "      <td>1997-03-01</td>\n",
       "      <td>Monarch Adult (FIRST sighted)</td>\n",
       "      <td>29.650</td>\n",
       "      <td>-94.850</td>\n",
       "      <td>1</td>\n",
       "    </tr>\n",
       "    <tr>\n",
       "      <th>2</th>\n",
       "      <td>1997-03-11</td>\n",
       "      <td>Monarch Adult (FIRST sighted)</td>\n",
       "      <td>29.420</td>\n",
       "      <td>-95.350</td>\n",
       "      <td>1</td>\n",
       "    </tr>\n",
       "    <tr>\n",
       "      <th>3</th>\n",
       "      <td>1997-03-16</td>\n",
       "      <td>Monarch Adult (FIRST sighted)</td>\n",
       "      <td>29.635</td>\n",
       "      <td>-95.635</td>\n",
       "      <td>1</td>\n",
       "    </tr>\n",
       "    <tr>\n",
       "      <th>4</th>\n",
       "      <td>1997-03-19</td>\n",
       "      <td>Monarch Adult (FIRST sighted)</td>\n",
       "      <td>29.635</td>\n",
       "      <td>-95.635</td>\n",
       "      <td>1</td>\n",
       "    </tr>\n",
       "  </tbody>\n",
       "</table>\n",
       "</div>"
      ],
      "text/plain": [
       "  sighting_date                        species  latitude  longitude  number\n",
       "0    1997-03-01  Monarch Adult (FIRST sighted)    26.220    -98.490       1\n",
       "1    1997-03-01  Monarch Adult (FIRST sighted)    29.650    -94.850       1\n",
       "2    1997-03-11  Monarch Adult (FIRST sighted)    29.420    -95.350       1\n",
       "3    1997-03-16  Monarch Adult (FIRST sighted)    29.635    -95.635       1\n",
       "4    1997-03-19  Monarch Adult (FIRST sighted)    29.635    -95.635       1"
      ]
     },
     "execution_count": 18,
     "metadata": {},
     "output_type": "execute_result"
    }
   ],
   "source": [
    "JNorth_Adult_First_Site_df =JNorth_Adult_First_Site_df.groupby(['sighting_date', 'species', 'latitude', 'longitude']).sum().reset_index()\n",
    "JNorth_Adult_First_Site_df.head()"
   ]
  },
  {
   "cell_type": "code",
   "execution_count": 19,
   "id": "baed4881",
   "metadata": {},
   "outputs": [
    {
     "data": {
      "text/plain": [
       "['sighting_date', 'species', 'latitude', 'longitude', 'number']"
      ]
     },
     "execution_count": 19,
     "metadata": {},
     "output_type": "execute_result"
    }
   ],
   "source": [
    "JNorth_Adult_First_Site_df.columns.tolist()"
   ]
  },
  {
   "cell_type": "code",
   "execution_count": 20,
   "id": "0414e769",
   "metadata": {},
   "outputs": [
    {
     "data": {
      "text/html": [
       "<div>\n",
       "<style scoped>\n",
       "    .dataframe tbody tr th:only-of-type {\n",
       "        vertical-align: middle;\n",
       "    }\n",
       "\n",
       "    .dataframe tbody tr th {\n",
       "        vertical-align: top;\n",
       "    }\n",
       "\n",
       "    .dataframe thead th {\n",
       "        text-align: right;\n",
       "    }\n",
       "</style>\n",
       "<table border=\"1\" class=\"dataframe\">\n",
       "  <thead>\n",
       "    <tr style=\"text-align: right;\">\n",
       "      <th></th>\n",
       "      <th>sighting_date</th>\n",
       "      <th>species</th>\n",
       "      <th>latitude</th>\n",
       "      <th>longitude</th>\n",
       "      <th>number</th>\n",
       "    </tr>\n",
       "  </thead>\n",
       "  <tbody>\n",
       "    <tr>\n",
       "      <th>0</th>\n",
       "      <td>1997-03-01</td>\n",
       "      <td>Monarch Adult (FIRST sighted)</td>\n",
       "      <td>26.220</td>\n",
       "      <td>-98.490</td>\n",
       "      <td>1</td>\n",
       "    </tr>\n",
       "    <tr>\n",
       "      <th>1</th>\n",
       "      <td>1997-03-01</td>\n",
       "      <td>Monarch Adult (FIRST sighted)</td>\n",
       "      <td>29.650</td>\n",
       "      <td>-94.850</td>\n",
       "      <td>1</td>\n",
       "    </tr>\n",
       "    <tr>\n",
       "      <th>2</th>\n",
       "      <td>1997-03-11</td>\n",
       "      <td>Monarch Adult (FIRST sighted)</td>\n",
       "      <td>29.420</td>\n",
       "      <td>-95.350</td>\n",
       "      <td>1</td>\n",
       "    </tr>\n",
       "    <tr>\n",
       "      <th>3</th>\n",
       "      <td>1997-03-16</td>\n",
       "      <td>Monarch Adult (FIRST sighted)</td>\n",
       "      <td>29.635</td>\n",
       "      <td>-95.635</td>\n",
       "      <td>1</td>\n",
       "    </tr>\n",
       "    <tr>\n",
       "      <th>4</th>\n",
       "      <td>1997-03-19</td>\n",
       "      <td>Monarch Adult (FIRST sighted)</td>\n",
       "      <td>29.635</td>\n",
       "      <td>-95.635</td>\n",
       "      <td>1</td>\n",
       "    </tr>\n",
       "  </tbody>\n",
       "</table>\n",
       "</div>"
      ],
      "text/plain": [
       "  sighting_date                        species  latitude  longitude  number\n",
       "0    1997-03-01  Monarch Adult (FIRST sighted)    26.220    -98.490       1\n",
       "1    1997-03-01  Monarch Adult (FIRST sighted)    29.650    -94.850       1\n",
       "2    1997-03-11  Monarch Adult (FIRST sighted)    29.420    -95.350       1\n",
       "3    1997-03-16  Monarch Adult (FIRST sighted)    29.635    -95.635       1\n",
       "4    1997-03-19  Monarch Adult (FIRST sighted)    29.635    -95.635       1"
      ]
     },
     "execution_count": 20,
     "metadata": {},
     "output_type": "execute_result"
    }
   ],
   "source": [
    "JNorth_Adult_First_Site_df.head()"
   ]
  },
  {
   "cell_type": "code",
   "execution_count": 21,
   "id": "1be947ec",
   "metadata": {},
   "outputs": [
    {
     "data": {
      "text/plain": [
       "(35489, 5)"
      ]
     },
     "execution_count": 21,
     "metadata": {},
     "output_type": "execute_result"
    }
   ],
   "source": [
    "JNorth_Adult_First_Site_df.shape"
   ]
  },
  {
   "cell_type": "code",
   "execution_count": 22,
   "id": "bb6146d3",
   "metadata": {},
   "outputs": [],
   "source": [
    "JNorth_Adult_First_Site_year_df = JNorth_Adult_First_Site_df\n",
    "JNorth_Adult_First_Site_year_df['year'] = pd.DatetimeIndex(JNorth_Adult_First_Site_df['sighting_date']).year"
   ]
  },
  {
   "cell_type": "markdown",
   "id": "fb164498",
   "metadata": {},
   "source": [
    "# 2006"
   ]
  },
  {
   "cell_type": "code",
   "execution_count": 23,
   "id": "213c99b0",
   "metadata": {},
   "outputs": [
    {
     "data": {
      "text/html": [
       "<div>\n",
       "<style scoped>\n",
       "    .dataframe tbody tr th:only-of-type {\n",
       "        vertical-align: middle;\n",
       "    }\n",
       "\n",
       "    .dataframe tbody tr th {\n",
       "        vertical-align: top;\n",
       "    }\n",
       "\n",
       "    .dataframe thead th {\n",
       "        text-align: right;\n",
       "    }\n",
       "</style>\n",
       "<table border=\"1\" class=\"dataframe\">\n",
       "  <thead>\n",
       "    <tr style=\"text-align: right;\">\n",
       "      <th></th>\n",
       "      <th>sighting_date</th>\n",
       "      <th>species</th>\n",
       "      <th>latitude</th>\n",
       "      <th>longitude</th>\n",
       "      <th>number</th>\n",
       "      <th>year</th>\n",
       "    </tr>\n",
       "  </thead>\n",
       "  <tbody>\n",
       "    <tr>\n",
       "      <th>10623</th>\n",
       "      <td>2006-11-20</td>\n",
       "      <td>Monarch Adult (FIRST sighted)</td>\n",
       "      <td>40.846</td>\n",
       "      <td>-75.174</td>\n",
       "      <td>1</td>\n",
       "      <td>2006</td>\n",
       "    </tr>\n",
       "    <tr>\n",
       "      <th>10624</th>\n",
       "      <td>2006-11-22</td>\n",
       "      <td>Monarch Adult (FIRST sighted)</td>\n",
       "      <td>28.025</td>\n",
       "      <td>-82.768</td>\n",
       "      <td>1</td>\n",
       "      <td>2006</td>\n",
       "    </tr>\n",
       "    <tr>\n",
       "      <th>10625</th>\n",
       "      <td>2006-11-26</td>\n",
       "      <td>Monarch Adult (FIRST sighted)</td>\n",
       "      <td>36.761</td>\n",
       "      <td>-98.369</td>\n",
       "      <td>1</td>\n",
       "      <td>2006</td>\n",
       "    </tr>\n",
       "    <tr>\n",
       "      <th>10626</th>\n",
       "      <td>2006-12-03</td>\n",
       "      <td>Monarch Adult (FIRST sighted)</td>\n",
       "      <td>41.045</td>\n",
       "      <td>-71.950</td>\n",
       "      <td>1</td>\n",
       "      <td>2006</td>\n",
       "    </tr>\n",
       "    <tr>\n",
       "      <th>10627</th>\n",
       "      <td>2006-12-26</td>\n",
       "      <td>Monarch Adult (FIRST sighted)</td>\n",
       "      <td>19.620</td>\n",
       "      <td>-100.285</td>\n",
       "      <td>1</td>\n",
       "      <td>2006</td>\n",
       "    </tr>\n",
       "  </tbody>\n",
       "</table>\n",
       "</div>"
      ],
      "text/plain": [
       "      sighting_date                        species  latitude  longitude  \\\n",
       "10623    2006-11-20  Monarch Adult (FIRST sighted)    40.846    -75.174   \n",
       "10624    2006-11-22  Monarch Adult (FIRST sighted)    28.025    -82.768   \n",
       "10625    2006-11-26  Monarch Adult (FIRST sighted)    36.761    -98.369   \n",
       "10626    2006-12-03  Monarch Adult (FIRST sighted)    41.045    -71.950   \n",
       "10627    2006-12-26  Monarch Adult (FIRST sighted)    19.620   -100.285   \n",
       "\n",
       "       number  year  \n",
       "10623       1  2006  \n",
       "10624       1  2006  \n",
       "10625       1  2006  \n",
       "10626       1  2006  \n",
       "10627       1  2006  "
      ]
     },
     "execution_count": 23,
     "metadata": {},
     "output_type": "execute_result"
    }
   ],
   "source": [
    "JNorth_Adult_First_Site_2006_df = JNorth_Adult_First_Site_year_df[JNorth_Adult_First_Site_year_df['year']==2006]\n",
    "JNorth_Adult_First_Site_2006_df.tail()"
   ]
  },
  {
   "cell_type": "code",
   "execution_count": 24,
   "id": "c271bca8",
   "metadata": {},
   "outputs": [
    {
     "data": {
      "text/plain": [
       "(1895, 6)"
      ]
     },
     "execution_count": 24,
     "metadata": {},
     "output_type": "execute_result"
    }
   ],
   "source": [
    "JNorth_Adult_First_Site_2006_df.shape"
   ]
  },
  {
   "cell_type": "code",
   "execution_count": 25,
   "id": "d8efa4c7",
   "metadata": {},
   "outputs": [],
   "source": [
    "JNorth_Adult_First_Site_2006_df = pd.DataFrame(JNorth_Adult_First_Site_2006_df)\n",
    "JNorth_Adult_First_Site_2006_df.drop(['year'], axis=1, inplace=True)"
   ]
  },
  {
   "cell_type": "code",
   "execution_count": 26,
   "id": "ac4b06bf",
   "metadata": {},
   "outputs": [],
   "source": [
    "JNorth_Adult_First_Site_2006_df['month'] = pd.DatetimeIndex(JNorth_Adult_First_Site_2006_df['sighting_date']).month"
   ]
  },
  {
   "cell_type": "markdown",
   "id": "e1e014c5",
   "metadata": {},
   "source": [
    "## January"
   ]
  },
  {
   "cell_type": "code",
   "execution_count": 27,
   "id": "4b51587a",
   "metadata": {},
   "outputs": [
    {
     "data": {
      "text/html": [
       "<div>\n",
       "<style scoped>\n",
       "    .dataframe tbody tr th:only-of-type {\n",
       "        vertical-align: middle;\n",
       "    }\n",
       "\n",
       "    .dataframe tbody tr th {\n",
       "        vertical-align: top;\n",
       "    }\n",
       "\n",
       "    .dataframe thead th {\n",
       "        text-align: right;\n",
       "    }\n",
       "</style>\n",
       "<table border=\"1\" class=\"dataframe\">\n",
       "  <thead>\n",
       "    <tr style=\"text-align: right;\">\n",
       "      <th></th>\n",
       "      <th>sighting_date</th>\n",
       "      <th>species</th>\n",
       "      <th>latitude</th>\n",
       "      <th>longitude</th>\n",
       "      <th>number</th>\n",
       "      <th>month</th>\n",
       "    </tr>\n",
       "  </thead>\n",
       "  <tbody>\n",
       "    <tr>\n",
       "      <th>8733</th>\n",
       "      <td>2006-01-25</td>\n",
       "      <td>Monarch Adult (FIRST sighted)</td>\n",
       "      <td>25.855</td>\n",
       "      <td>-80.185</td>\n",
       "      <td>1</td>\n",
       "      <td>1</td>\n",
       "    </tr>\n",
       "  </tbody>\n",
       "</table>\n",
       "</div>"
      ],
      "text/plain": [
       "     sighting_date                        species  latitude  longitude  \\\n",
       "8733    2006-01-25  Monarch Adult (FIRST sighted)    25.855    -80.185   \n",
       "\n",
       "      number  month  \n",
       "8733       1      1  "
      ]
     },
     "execution_count": 27,
     "metadata": {},
     "output_type": "execute_result"
    }
   ],
   "source": [
    "JNorth_Adult_First_Site_2006_month_df =pd.DataFrame(JNorth_Adult_First_Site_2006_df)\n",
    "JNorth_Adult_First_Site_2006_1_df = JNorth_Adult_First_Site_2006_month_df[JNorth_Adult_First_Site_2006_month_df['month']==1]\n",
    "JNorth_Adult_First_Site_2006_1_df.tail()"
   ]
  },
  {
   "cell_type": "code",
   "execution_count": 28,
   "id": "78ffb46c",
   "metadata": {},
   "outputs": [
    {
     "data": {
      "text/plain": [
       "(1, 6)"
      ]
     },
     "execution_count": 28,
     "metadata": {},
     "output_type": "execute_result"
    }
   ],
   "source": [
    "JNorth_Adult_First_Site_2006_1_df.shape"
   ]
  },
  {
   "cell_type": "code",
   "execution_count": 29,
   "id": "0da596a9",
   "metadata": {},
   "outputs": [],
   "source": [
    "JNorth_Adult_First_Site_2006_1_df = pd.DataFrame(JNorth_Adult_First_Site_2006_1_df)\n",
    "JNorth_Adult_First_Site_2006_1_df.drop(['month'], axis=1, inplace=True)"
   ]
  },
  {
   "cell_type": "code",
   "execution_count": 30,
   "id": "b77fbff4",
   "metadata": {},
   "outputs": [],
   "source": [
    "# convert lat-long to floats and change address from ALL CAPS to regular capitalization\n",
    "JNorth_Adult_First_Site_2006_1_df['latitude'] = JNorth_Adult_First_Site_2006_1_df['latitude'].astype(float)\n",
    "JNorth_Adult_First_Site_2006_1_df['longitude'] = JNorth_Adult_First_Site_2006_1_df['longitude'].astype(float)\n",
    "# JNorth_Milkweed_Site_df['street_address'] = JNorth_Milkweed_Site_df['street_address'].str.title()"
   ]
  },
  {
   "cell_type": "code",
   "execution_count": 31,
   "id": "b2d65ff3",
   "metadata": {},
   "outputs": [],
   "source": [
    "geojson = df_to_geojson(JNorth_Adult_First_Site_2006_1_df, cols)"
   ]
  },
  {
   "cell_type": "code",
   "execution_count": 32,
   "id": "7be09d07",
   "metadata": {},
   "outputs": [],
   "source": [
    "file = open(\"JNorth_Adult_First_Site_2006_1.geojson\", \"w\")\n",
    "json.dump(geojson, file, indent =1)\n",
    "file.close()"
   ]
  },
  {
   "cell_type": "markdown",
   "id": "3fbad2ab",
   "metadata": {},
   "source": [
    "## February"
   ]
  },
  {
   "cell_type": "code",
   "execution_count": 33,
   "id": "5884490a",
   "metadata": {},
   "outputs": [
    {
     "data": {
      "text/html": [
       "<div>\n",
       "<style scoped>\n",
       "    .dataframe tbody tr th:only-of-type {\n",
       "        vertical-align: middle;\n",
       "    }\n",
       "\n",
       "    .dataframe tbody tr th {\n",
       "        vertical-align: top;\n",
       "    }\n",
       "\n",
       "    .dataframe thead th {\n",
       "        text-align: right;\n",
       "    }\n",
       "</style>\n",
       "<table border=\"1\" class=\"dataframe\">\n",
       "  <thead>\n",
       "    <tr style=\"text-align: right;\">\n",
       "      <th></th>\n",
       "      <th>sighting_date</th>\n",
       "      <th>species</th>\n",
       "      <th>latitude</th>\n",
       "      <th>longitude</th>\n",
       "      <th>number</th>\n",
       "      <th>month</th>\n",
       "    </tr>\n",
       "  </thead>\n",
       "  <tbody>\n",
       "    <tr>\n",
       "      <th>8734</th>\n",
       "      <td>2006-02-02</td>\n",
       "      <td>Monarch Adult (FIRST sighted)</td>\n",
       "      <td>29.957</td>\n",
       "      <td>-90.078</td>\n",
       "      <td>1</td>\n",
       "      <td>2</td>\n",
       "    </tr>\n",
       "    <tr>\n",
       "      <th>8735</th>\n",
       "      <td>2006-02-14</td>\n",
       "      <td>Monarch Adult (FIRST sighted)</td>\n",
       "      <td>30.061</td>\n",
       "      <td>-95.384</td>\n",
       "      <td>1</td>\n",
       "      <td>2</td>\n",
       "    </tr>\n",
       "    <tr>\n",
       "      <th>8736</th>\n",
       "      <td>2006-02-24</td>\n",
       "      <td>Monarch Adult (FIRST sighted)</td>\n",
       "      <td>33.543</td>\n",
       "      <td>-79.066</td>\n",
       "      <td>1</td>\n",
       "      <td>2</td>\n",
       "    </tr>\n",
       "    <tr>\n",
       "      <th>8737</th>\n",
       "      <td>2006-02-27</td>\n",
       "      <td>Monarch Adult (FIRST sighted)</td>\n",
       "      <td>30.495</td>\n",
       "      <td>-95.003</td>\n",
       "      <td>1</td>\n",
       "      <td>2</td>\n",
       "    </tr>\n",
       "    <tr>\n",
       "      <th>8738</th>\n",
       "      <td>2006-02-28</td>\n",
       "      <td>Monarch Adult (FIRST sighted)</td>\n",
       "      <td>30.230</td>\n",
       "      <td>-97.714</td>\n",
       "      <td>2</td>\n",
       "      <td>2</td>\n",
       "    </tr>\n",
       "  </tbody>\n",
       "</table>\n",
       "</div>"
      ],
      "text/plain": [
       "     sighting_date                        species  latitude  longitude  \\\n",
       "8734    2006-02-02  Monarch Adult (FIRST sighted)    29.957    -90.078   \n",
       "8735    2006-02-14  Monarch Adult (FIRST sighted)    30.061    -95.384   \n",
       "8736    2006-02-24  Monarch Adult (FIRST sighted)    33.543    -79.066   \n",
       "8737    2006-02-27  Monarch Adult (FIRST sighted)    30.495    -95.003   \n",
       "8738    2006-02-28  Monarch Adult (FIRST sighted)    30.230    -97.714   \n",
       "\n",
       "      number  month  \n",
       "8734       1      2  \n",
       "8735       1      2  \n",
       "8736       1      2  \n",
       "8737       1      2  \n",
       "8738       2      2  "
      ]
     },
     "execution_count": 33,
     "metadata": {},
     "output_type": "execute_result"
    }
   ],
   "source": [
    "JNorth_Adult_First_Site_2006_month_df =pd.DataFrame(JNorth_Adult_First_Site_2006_df)\n",
    "JNorth_Adult_First_Site_2006_2_df = JNorth_Adult_First_Site_2006_month_df[JNorth_Adult_First_Site_2006_month_df['month']==2]\n",
    "JNorth_Adult_First_Site_2006_2_df.tail()"
   ]
  },
  {
   "cell_type": "code",
   "execution_count": 34,
   "id": "b42cb926",
   "metadata": {},
   "outputs": [
    {
     "data": {
      "text/plain": [
       "(5, 6)"
      ]
     },
     "execution_count": 34,
     "metadata": {},
     "output_type": "execute_result"
    }
   ],
   "source": [
    "JNorth_Adult_First_Site_2006_2_df.shape"
   ]
  },
  {
   "cell_type": "code",
   "execution_count": 35,
   "id": "b021a9c4",
   "metadata": {},
   "outputs": [],
   "source": [
    "JNorth_Adult_First_Site_2006_2_df= pd.DataFrame(JNorth_Adult_First_Site_2006_2_df)\n",
    "JNorth_Adult_First_Site_2006_2_df.drop(['month'], axis=1, inplace=True)"
   ]
  },
  {
   "cell_type": "code",
   "execution_count": 36,
   "id": "9281836d",
   "metadata": {},
   "outputs": [],
   "source": [
    "# convert lat-long to floats and change address from ALL CAPS to regular capitalization\n",
    "JNorth_Adult_First_Site_2006_2_df['latitude'] = JNorth_Adult_First_Site_2006_2_df['latitude'].astype(float)\n",
    "JNorth_Adult_First_Site_2006_2_df['longitude'] = JNorth_Adult_First_Site_2006_2_df['longitude'].astype(float)\n",
    "# JNorth_Milkweed_Site_df['street_address'] = JNorth_Milkweed_Site_df['street_address'].str.title()"
   ]
  },
  {
   "cell_type": "code",
   "execution_count": 37,
   "id": "a8b965ac",
   "metadata": {},
   "outputs": [],
   "source": [
    "geojson = df_to_geojson(JNorth_Adult_First_Site_2006_2_df, cols)"
   ]
  },
  {
   "cell_type": "code",
   "execution_count": 38,
   "id": "ccc6a687",
   "metadata": {},
   "outputs": [],
   "source": [
    "file = open(\"JNorth_Adult_First_Site_2006_2.geojson\", \"w\")\n",
    "json.dump(geojson, file, indent =1)\n",
    "file.close()"
   ]
  },
  {
   "cell_type": "markdown",
   "id": "f58b04b3",
   "metadata": {},
   "source": [
    "## March"
   ]
  },
  {
   "cell_type": "code",
   "execution_count": 39,
   "id": "a8ef2f5b",
   "metadata": {},
   "outputs": [
    {
     "data": {
      "text/html": [
       "<div>\n",
       "<style scoped>\n",
       "    .dataframe tbody tr th:only-of-type {\n",
       "        vertical-align: middle;\n",
       "    }\n",
       "\n",
       "    .dataframe tbody tr th {\n",
       "        vertical-align: top;\n",
       "    }\n",
       "\n",
       "    .dataframe thead th {\n",
       "        text-align: right;\n",
       "    }\n",
       "</style>\n",
       "<table border=\"1\" class=\"dataframe\">\n",
       "  <thead>\n",
       "    <tr style=\"text-align: right;\">\n",
       "      <th></th>\n",
       "      <th>sighting_date</th>\n",
       "      <th>species</th>\n",
       "      <th>latitude</th>\n",
       "      <th>longitude</th>\n",
       "      <th>number</th>\n",
       "      <th>month</th>\n",
       "    </tr>\n",
       "  </thead>\n",
       "  <tbody>\n",
       "    <tr>\n",
       "      <th>8888</th>\n",
       "      <td>2006-03-31</td>\n",
       "      <td>Monarch Adult (FIRST sighted)</td>\n",
       "      <td>34.797</td>\n",
       "      <td>-96.790</td>\n",
       "      <td>1</td>\n",
       "      <td>3</td>\n",
       "    </tr>\n",
       "    <tr>\n",
       "      <th>8889</th>\n",
       "      <td>2006-03-31</td>\n",
       "      <td>Monarch Adult (FIRST sighted)</td>\n",
       "      <td>34.907</td>\n",
       "      <td>-93.008</td>\n",
       "      <td>1</td>\n",
       "      <td>3</td>\n",
       "    </tr>\n",
       "    <tr>\n",
       "      <th>8890</th>\n",
       "      <td>2006-03-31</td>\n",
       "      <td>Monarch Adult (FIRST sighted)</td>\n",
       "      <td>35.034</td>\n",
       "      <td>-89.934</td>\n",
       "      <td>1</td>\n",
       "      <td>3</td>\n",
       "    </tr>\n",
       "    <tr>\n",
       "      <th>8891</th>\n",
       "      <td>2006-03-31</td>\n",
       "      <td>Monarch Adult (FIRST sighted)</td>\n",
       "      <td>35.433</td>\n",
       "      <td>-97.524</td>\n",
       "      <td>2</td>\n",
       "      <td>3</td>\n",
       "    </tr>\n",
       "    <tr>\n",
       "      <th>8892</th>\n",
       "      <td>2006-03-31</td>\n",
       "      <td>Monarch Adult (FIRST sighted)</td>\n",
       "      <td>35.840</td>\n",
       "      <td>-97.478</td>\n",
       "      <td>1</td>\n",
       "      <td>3</td>\n",
       "    </tr>\n",
       "  </tbody>\n",
       "</table>\n",
       "</div>"
      ],
      "text/plain": [
       "     sighting_date                        species  latitude  longitude  \\\n",
       "8888    2006-03-31  Monarch Adult (FIRST sighted)    34.797    -96.790   \n",
       "8889    2006-03-31  Monarch Adult (FIRST sighted)    34.907    -93.008   \n",
       "8890    2006-03-31  Monarch Adult (FIRST sighted)    35.034    -89.934   \n",
       "8891    2006-03-31  Monarch Adult (FIRST sighted)    35.433    -97.524   \n",
       "8892    2006-03-31  Monarch Adult (FIRST sighted)    35.840    -97.478   \n",
       "\n",
       "      number  month  \n",
       "8888       1      3  \n",
       "8889       1      3  \n",
       "8890       1      3  \n",
       "8891       2      3  \n",
       "8892       1      3  "
      ]
     },
     "execution_count": 39,
     "metadata": {},
     "output_type": "execute_result"
    }
   ],
   "source": [
    "JNorth_Adult_First_Site_2006_month_df =pd.DataFrame(JNorth_Adult_First_Site_2006_df)\n",
    "JNorth_Adult_First_Site_2006_3_df = JNorth_Adult_First_Site_2006_month_df[JNorth_Adult_First_Site_2006_month_df['month']==3]\n",
    "JNorth_Adult_First_Site_2006_3_df.tail()"
   ]
  },
  {
   "cell_type": "code",
   "execution_count": 40,
   "id": "ce7f1737",
   "metadata": {},
   "outputs": [
    {
     "data": {
      "text/plain": [
       "(154, 6)"
      ]
     },
     "execution_count": 40,
     "metadata": {},
     "output_type": "execute_result"
    }
   ],
   "source": [
    "JNorth_Adult_First_Site_2006_3_df.shape"
   ]
  },
  {
   "cell_type": "code",
   "execution_count": 41,
   "id": "7a38c9f2",
   "metadata": {},
   "outputs": [],
   "source": [
    "JNorth_Adult_First_Site_2006_3_df =pd.DataFrame(JNorth_Adult_First_Site_2006_3_df)\n",
    "JNorth_Adult_First_Site_2006_3_df.drop(['month'], axis=1, inplace=True)"
   ]
  },
  {
   "cell_type": "code",
   "execution_count": 42,
   "id": "03245c40",
   "metadata": {},
   "outputs": [],
   "source": [
    "# convert lat-long to floats and change address from ALL CAPS to regular capitalization\n",
    "JNorth_Adult_First_Site_2006_3_df['latitude'] = JNorth_Adult_First_Site_2006_3_df['latitude'].astype(float)\n",
    "JNorth_Adult_First_Site_2006_3_df['longitude'] = JNorth_Adult_First_Site_2006_3_df['longitude'].astype(float)\n",
    "# JNorth_Milkweed_Site_df['street_address'] = JNorth_Milkweed_Site_df['street_address'].str.title()"
   ]
  },
  {
   "cell_type": "code",
   "execution_count": 43,
   "id": "bc9bad5b",
   "metadata": {},
   "outputs": [],
   "source": [
    "geojson = df_to_geojson(JNorth_Adult_First_Site_2006_3_df, cols)"
   ]
  },
  {
   "cell_type": "code",
   "execution_count": 44,
   "id": "336f0947",
   "metadata": {},
   "outputs": [],
   "source": [
    "file = open(\"JNorth_Adult_First_Site_2006_3.geojson\", \"w\")\n",
    "json.dump(geojson, file, indent =1)\n",
    "file.close()"
   ]
  },
  {
   "cell_type": "markdown",
   "id": "b5a4169d",
   "metadata": {},
   "source": [
    "## April"
   ]
  },
  {
   "cell_type": "code",
   "execution_count": 45,
   "id": "e1676dcb",
   "metadata": {},
   "outputs": [
    {
     "data": {
      "text/html": [
       "<div>\n",
       "<style scoped>\n",
       "    .dataframe tbody tr th:only-of-type {\n",
       "        vertical-align: middle;\n",
       "    }\n",
       "\n",
       "    .dataframe tbody tr th {\n",
       "        vertical-align: top;\n",
       "    }\n",
       "\n",
       "    .dataframe thead th {\n",
       "        text-align: right;\n",
       "    }\n",
       "</style>\n",
       "<table border=\"1\" class=\"dataframe\">\n",
       "  <thead>\n",
       "    <tr style=\"text-align: right;\">\n",
       "      <th></th>\n",
       "      <th>sighting_date</th>\n",
       "      <th>species</th>\n",
       "      <th>latitude</th>\n",
       "      <th>longitude</th>\n",
       "      <th>number</th>\n",
       "      <th>month</th>\n",
       "    </tr>\n",
       "  </thead>\n",
       "  <tbody>\n",
       "    <tr>\n",
       "      <th>9081</th>\n",
       "      <td>2006-04-29</td>\n",
       "      <td>Monarch Adult (FIRST sighted)</td>\n",
       "      <td>34.346</td>\n",
       "      <td>-119.329</td>\n",
       "      <td>1</td>\n",
       "      <td>4</td>\n",
       "    </tr>\n",
       "    <tr>\n",
       "      <th>9082</th>\n",
       "      <td>2006-04-29</td>\n",
       "      <td>Monarch Adult (FIRST sighted)</td>\n",
       "      <td>40.594</td>\n",
       "      <td>-74.624</td>\n",
       "      <td>1</td>\n",
       "      <td>4</td>\n",
       "    </tr>\n",
       "    <tr>\n",
       "      <th>9083</th>\n",
       "      <td>2006-04-30</td>\n",
       "      <td>Monarch Adult (FIRST sighted)</td>\n",
       "      <td>33.581</td>\n",
       "      <td>-112.435</td>\n",
       "      <td>2</td>\n",
       "      <td>4</td>\n",
       "    </tr>\n",
       "    <tr>\n",
       "      <th>9084</th>\n",
       "      <td>2006-04-30</td>\n",
       "      <td>Monarch Adult (FIRST sighted)</td>\n",
       "      <td>38.204</td>\n",
       "      <td>-75.433</td>\n",
       "      <td>1</td>\n",
       "      <td>4</td>\n",
       "    </tr>\n",
       "    <tr>\n",
       "      <th>9085</th>\n",
       "      <td>2006-04-30</td>\n",
       "      <td>Monarch Adult (FIRST sighted)</td>\n",
       "      <td>39.787</td>\n",
       "      <td>-75.684</td>\n",
       "      <td>1</td>\n",
       "      <td>4</td>\n",
       "    </tr>\n",
       "  </tbody>\n",
       "</table>\n",
       "</div>"
      ],
      "text/plain": [
       "     sighting_date                        species  latitude  longitude  \\\n",
       "9081    2006-04-29  Monarch Adult (FIRST sighted)    34.346   -119.329   \n",
       "9082    2006-04-29  Monarch Adult (FIRST sighted)    40.594    -74.624   \n",
       "9083    2006-04-30  Monarch Adult (FIRST sighted)    33.581   -112.435   \n",
       "9084    2006-04-30  Monarch Adult (FIRST sighted)    38.204    -75.433   \n",
       "9085    2006-04-30  Monarch Adult (FIRST sighted)    39.787    -75.684   \n",
       "\n",
       "      number  month  \n",
       "9081       1      4  \n",
       "9082       1      4  \n",
       "9083       2      4  \n",
       "9084       1      4  \n",
       "9085       1      4  "
      ]
     },
     "execution_count": 45,
     "metadata": {},
     "output_type": "execute_result"
    }
   ],
   "source": [
    "JNorth_Adult_First_Site_2006_month_df =pd.DataFrame(JNorth_Adult_First_Site_2006_df)\n",
    "JNorth_Adult_First_Site_2006_4_df = JNorth_Adult_First_Site_2006_month_df[JNorth_Adult_First_Site_2006_month_df['month']==4]\n",
    "JNorth_Adult_First_Site_2006_4_df.tail()"
   ]
  },
  {
   "cell_type": "code",
   "execution_count": 46,
   "id": "24530093",
   "metadata": {},
   "outputs": [
    {
     "data": {
      "text/plain": [
       "(193, 6)"
      ]
     },
     "execution_count": 46,
     "metadata": {},
     "output_type": "execute_result"
    }
   ],
   "source": [
    "JNorth_Adult_First_Site_2006_4_df.shape"
   ]
  },
  {
   "cell_type": "code",
   "execution_count": 47,
   "id": "a57f5b9b",
   "metadata": {},
   "outputs": [],
   "source": [
    "JNorth_Adult_First_Site_2006_4_df = pd.DataFrame(JNorth_Adult_First_Site_2006_4_df)\n",
    "JNorth_Adult_First_Site_2006_4_df.drop(['month'], axis=1, inplace=True)"
   ]
  },
  {
   "cell_type": "code",
   "execution_count": 48,
   "id": "fed7891d",
   "metadata": {},
   "outputs": [],
   "source": [
    "# convert lat-long to floats and change address from ALL CAPS to regular capitalization\n",
    "JNorth_Adult_First_Site_2006_4_df['latitude'] = JNorth_Adult_First_Site_2006_4_df['latitude'].astype(float)\n",
    "JNorth_Adult_First_Site_2006_4_df['longitude'] = JNorth_Adult_First_Site_2006_4_df['longitude'].astype(float)\n",
    "# JNorth_Milkweed_Site_df['street_address'] = JNorth_Milkweed_Site_df['street_address'].str.title()"
   ]
  },
  {
   "cell_type": "code",
   "execution_count": 49,
   "id": "8676718c",
   "metadata": {},
   "outputs": [],
   "source": [
    "geojson = df_to_geojson(JNorth_Adult_First_Site_2006_4_df, cols)"
   ]
  },
  {
   "cell_type": "code",
   "execution_count": 50,
   "id": "e4c13f3c",
   "metadata": {},
   "outputs": [],
   "source": [
    "file = open(\"JNorth_Adult_First_Site_2006_4.geojson\", \"w\")\n",
    "json.dump(geojson, file, indent =1)\n",
    "file.close()"
   ]
  },
  {
   "cell_type": "markdown",
   "id": "ecb6189f",
   "metadata": {},
   "source": [
    "## May"
   ]
  },
  {
   "cell_type": "code",
   "execution_count": 51,
   "id": "e8654b2f",
   "metadata": {},
   "outputs": [
    {
     "data": {
      "text/html": [
       "<div>\n",
       "<style scoped>\n",
       "    .dataframe tbody tr th:only-of-type {\n",
       "        vertical-align: middle;\n",
       "    }\n",
       "\n",
       "    .dataframe tbody tr th {\n",
       "        vertical-align: top;\n",
       "    }\n",
       "\n",
       "    .dataframe thead th {\n",
       "        text-align: right;\n",
       "    }\n",
       "</style>\n",
       "<table border=\"1\" class=\"dataframe\">\n",
       "  <thead>\n",
       "    <tr style=\"text-align: right;\">\n",
       "      <th></th>\n",
       "      <th>sighting_date</th>\n",
       "      <th>species</th>\n",
       "      <th>latitude</th>\n",
       "      <th>longitude</th>\n",
       "      <th>number</th>\n",
       "      <th>month</th>\n",
       "    </tr>\n",
       "  </thead>\n",
       "  <tbody>\n",
       "    <tr>\n",
       "      <th>9357</th>\n",
       "      <td>2006-05-31</td>\n",
       "      <td>Monarch Adult (FIRST sighted)</td>\n",
       "      <td>43.935</td>\n",
       "      <td>-96.829</td>\n",
       "      <td>1</td>\n",
       "      <td>5</td>\n",
       "    </tr>\n",
       "    <tr>\n",
       "      <th>9358</th>\n",
       "      <td>2006-05-31</td>\n",
       "      <td>Monarch Adult (FIRST sighted)</td>\n",
       "      <td>43.980</td>\n",
       "      <td>-81.283</td>\n",
       "      <td>1</td>\n",
       "      <td>5</td>\n",
       "    </tr>\n",
       "    <tr>\n",
       "      <th>9359</th>\n",
       "      <td>2006-05-31</td>\n",
       "      <td>Monarch Adult (FIRST sighted)</td>\n",
       "      <td>44.480</td>\n",
       "      <td>-93.155</td>\n",
       "      <td>1</td>\n",
       "      <td>5</td>\n",
       "    </tr>\n",
       "    <tr>\n",
       "      <th>9360</th>\n",
       "      <td>2006-05-31</td>\n",
       "      <td>Monarch Adult (FIRST sighted)</td>\n",
       "      <td>45.333</td>\n",
       "      <td>-75.883</td>\n",
       "      <td>1</td>\n",
       "      <td>5</td>\n",
       "    </tr>\n",
       "    <tr>\n",
       "      <th>9361</th>\n",
       "      <td>2006-05-31</td>\n",
       "      <td>Monarch Adult (FIRST sighted)</td>\n",
       "      <td>46.220</td>\n",
       "      <td>-72.000</td>\n",
       "      <td>1</td>\n",
       "      <td>5</td>\n",
       "    </tr>\n",
       "  </tbody>\n",
       "</table>\n",
       "</div>"
      ],
      "text/plain": [
       "     sighting_date                        species  latitude  longitude  \\\n",
       "9357    2006-05-31  Monarch Adult (FIRST sighted)    43.935    -96.829   \n",
       "9358    2006-05-31  Monarch Adult (FIRST sighted)    43.980    -81.283   \n",
       "9359    2006-05-31  Monarch Adult (FIRST sighted)    44.480    -93.155   \n",
       "9360    2006-05-31  Monarch Adult (FIRST sighted)    45.333    -75.883   \n",
       "9361    2006-05-31  Monarch Adult (FIRST sighted)    46.220    -72.000   \n",
       "\n",
       "      number  month  \n",
       "9357       1      5  \n",
       "9358       1      5  \n",
       "9359       1      5  \n",
       "9360       1      5  \n",
       "9361       1      5  "
      ]
     },
     "execution_count": 51,
     "metadata": {},
     "output_type": "execute_result"
    }
   ],
   "source": [
    "JNorth_Adult_First_Site_2006_month_df =pd.DataFrame(JNorth_Adult_First_Site_2006_df)\n",
    "JNorth_Adult_First_Site_2006_5_df = JNorth_Adult_First_Site_2006_month_df[JNorth_Adult_First_Site_2006_month_df['month']==5]\n",
    "JNorth_Adult_First_Site_2006_5_df.tail()"
   ]
  },
  {
   "cell_type": "code",
   "execution_count": 52,
   "id": "60d8eb59",
   "metadata": {},
   "outputs": [
    {
     "data": {
      "text/plain": [
       "(276, 6)"
      ]
     },
     "execution_count": 52,
     "metadata": {},
     "output_type": "execute_result"
    }
   ],
   "source": [
    "JNorth_Adult_First_Site_2006_5_df.shape"
   ]
  },
  {
   "cell_type": "code",
   "execution_count": 53,
   "id": "73bb7166",
   "metadata": {},
   "outputs": [],
   "source": [
    "JNorth_Adult_First_Site_2006_5_df =pd.DataFrame(JNorth_Adult_First_Site_2006_5_df)\n",
    "JNorth_Adult_First_Site_2006_5_df.drop(['month'], axis=1, inplace=True)"
   ]
  },
  {
   "cell_type": "code",
   "execution_count": 54,
   "id": "6ec1381b",
   "metadata": {},
   "outputs": [],
   "source": [
    "# convert lat-long to floats and change address from ALL CAPS to regular capitalization\n",
    "JNorth_Adult_First_Site_2006_5_df['latitude'] = JNorth_Adult_First_Site_2006_5_df['latitude'].astype(float)\n",
    "JNorth_Adult_First_Site_2006_5_df['longitude'] = JNorth_Adult_First_Site_2006_5_df['longitude'].astype(float)\n",
    "# JNorth_Milkweed_Site_df['street_address'] = JNorth_Milkweed_Site_df['street_address'].str.title()"
   ]
  },
  {
   "cell_type": "code",
   "execution_count": 55,
   "id": "eb6b3375",
   "metadata": {},
   "outputs": [],
   "source": [
    "geojson = df_to_geojson(JNorth_Adult_First_Site_2006_5_df, cols)"
   ]
  },
  {
   "cell_type": "code",
   "execution_count": 56,
   "id": "e38d605b",
   "metadata": {},
   "outputs": [],
   "source": [
    "file = open(\"JNorth_Adult_First_Site_2006_5.geojson\", \"w\")\n",
    "json.dump(geojson, file, indent =1)\n",
    "file.close()"
   ]
  },
  {
   "cell_type": "markdown",
   "id": "e993c20c",
   "metadata": {},
   "source": [
    "## June"
   ]
  },
  {
   "cell_type": "code",
   "execution_count": 57,
   "id": "03fc48b5",
   "metadata": {},
   "outputs": [
    {
     "data": {
      "text/html": [
       "<div>\n",
       "<style scoped>\n",
       "    .dataframe tbody tr th:only-of-type {\n",
       "        vertical-align: middle;\n",
       "    }\n",
       "\n",
       "    .dataframe tbody tr th {\n",
       "        vertical-align: top;\n",
       "    }\n",
       "\n",
       "    .dataframe thead th {\n",
       "        text-align: right;\n",
       "    }\n",
       "</style>\n",
       "<table border=\"1\" class=\"dataframe\">\n",
       "  <thead>\n",
       "    <tr style=\"text-align: right;\">\n",
       "      <th></th>\n",
       "      <th>sighting_date</th>\n",
       "      <th>species</th>\n",
       "      <th>latitude</th>\n",
       "      <th>longitude</th>\n",
       "      <th>number</th>\n",
       "      <th>month</th>\n",
       "    </tr>\n",
       "  </thead>\n",
       "  <tbody>\n",
       "    <tr>\n",
       "      <th>9454</th>\n",
       "      <td>2006-06-28</td>\n",
       "      <td>Monarch Adult (FIRST sighted)</td>\n",
       "      <td>39.068</td>\n",
       "      <td>-78.195</td>\n",
       "      <td>1</td>\n",
       "      <td>6</td>\n",
       "    </tr>\n",
       "    <tr>\n",
       "      <th>9455</th>\n",
       "      <td>2006-06-28</td>\n",
       "      <td>Monarch Adult (FIRST sighted)</td>\n",
       "      <td>44.866</td>\n",
       "      <td>-63.716</td>\n",
       "      <td>1</td>\n",
       "      <td>6</td>\n",
       "    </tr>\n",
       "    <tr>\n",
       "      <th>9456</th>\n",
       "      <td>2006-06-28</td>\n",
       "      <td>Monarch Adult (FIRST sighted)</td>\n",
       "      <td>46.850</td>\n",
       "      <td>-64.970</td>\n",
       "      <td>1</td>\n",
       "      <td>6</td>\n",
       "    </tr>\n",
       "    <tr>\n",
       "      <th>9457</th>\n",
       "      <td>2006-06-30</td>\n",
       "      <td>Monarch Adult (FIRST sighted)</td>\n",
       "      <td>45.040</td>\n",
       "      <td>-64.730</td>\n",
       "      <td>1</td>\n",
       "      <td>6</td>\n",
       "    </tr>\n",
       "    <tr>\n",
       "      <th>9458</th>\n",
       "      <td>2006-06-30</td>\n",
       "      <td>Monarch Adult (FIRST sighted)</td>\n",
       "      <td>45.050</td>\n",
       "      <td>-64.583</td>\n",
       "      <td>1</td>\n",
       "      <td>6</td>\n",
       "    </tr>\n",
       "  </tbody>\n",
       "</table>\n",
       "</div>"
      ],
      "text/plain": [
       "     sighting_date                        species  latitude  longitude  \\\n",
       "9454    2006-06-28  Monarch Adult (FIRST sighted)    39.068    -78.195   \n",
       "9455    2006-06-28  Monarch Adult (FIRST sighted)    44.866    -63.716   \n",
       "9456    2006-06-28  Monarch Adult (FIRST sighted)    46.850    -64.970   \n",
       "9457    2006-06-30  Monarch Adult (FIRST sighted)    45.040    -64.730   \n",
       "9458    2006-06-30  Monarch Adult (FIRST sighted)    45.050    -64.583   \n",
       "\n",
       "      number  month  \n",
       "9454       1      6  \n",
       "9455       1      6  \n",
       "9456       1      6  \n",
       "9457       1      6  \n",
       "9458       1      6  "
      ]
     },
     "execution_count": 57,
     "metadata": {},
     "output_type": "execute_result"
    }
   ],
   "source": [
    "JNorth_Adult_First_Site_2006_month_df =pd.DataFrame(JNorth_Adult_First_Site_2006_df)\n",
    "JNorth_Adult_First_Site_2006_6_df = JNorth_Adult_First_Site_2006_month_df[JNorth_Adult_First_Site_2006_month_df['month']==6]\n",
    "JNorth_Adult_First_Site_2006_6_df.tail()"
   ]
  },
  {
   "cell_type": "code",
   "execution_count": 58,
   "id": "a5b0b8ee",
   "metadata": {},
   "outputs": [
    {
     "data": {
      "text/plain": [
       "(97, 6)"
      ]
     },
     "execution_count": 58,
     "metadata": {},
     "output_type": "execute_result"
    }
   ],
   "source": [
    "JNorth_Adult_First_Site_2006_6_df.shape"
   ]
  },
  {
   "cell_type": "code",
   "execution_count": 59,
   "id": "c92eb8b8",
   "metadata": {},
   "outputs": [],
   "source": [
    "JNorth_Adult_First_Site_2006_6_df=pd.DataFrame(JNorth_Adult_First_Site_2006_6_df)\n",
    "JNorth_Adult_First_Site_2006_6_df.drop(['month'], axis=1, inplace=True)"
   ]
  },
  {
   "cell_type": "code",
   "execution_count": 60,
   "id": "0652626f",
   "metadata": {},
   "outputs": [],
   "source": [
    "# convert lat-long to floats and change address from ALL CAPS to regular capitalization\n",
    "JNorth_Adult_First_Site_2006_6_df['latitude'] = JNorth_Adult_First_Site_2006_6_df['latitude'].astype(float)\n",
    "JNorth_Adult_First_Site_2006_6_df['longitude'] = JNorth_Adult_First_Site_2006_6_df['longitude'].astype(float)\n",
    "# JNorth_Milkweed_Site_df['street_address'] = JNorth_Milkweed_Site_df['street_address'].str.title()"
   ]
  },
  {
   "cell_type": "code",
   "execution_count": 61,
   "id": "d99099a1",
   "metadata": {},
   "outputs": [],
   "source": [
    "geojson = df_to_geojson(JNorth_Adult_First_Site_2006_6_df, cols)"
   ]
  },
  {
   "cell_type": "code",
   "execution_count": 62,
   "id": "52c13f18",
   "metadata": {},
   "outputs": [],
   "source": [
    "file = open(\"JNorth_Adult_First_Site_2006_6.geojson\", \"w\")\n",
    "json.dump(geojson, file, indent =1)\n",
    "file.close()"
   ]
  },
  {
   "cell_type": "markdown",
   "id": "8893271b",
   "metadata": {},
   "source": [
    "## July"
   ]
  },
  {
   "cell_type": "code",
   "execution_count": 63,
   "id": "a78f1523",
   "metadata": {},
   "outputs": [
    {
     "data": {
      "text/html": [
       "<div>\n",
       "<style scoped>\n",
       "    .dataframe tbody tr th:only-of-type {\n",
       "        vertical-align: middle;\n",
       "    }\n",
       "\n",
       "    .dataframe tbody tr th {\n",
       "        vertical-align: top;\n",
       "    }\n",
       "\n",
       "    .dataframe thead th {\n",
       "        text-align: right;\n",
       "    }\n",
       "</style>\n",
       "<table border=\"1\" class=\"dataframe\">\n",
       "  <thead>\n",
       "    <tr style=\"text-align: right;\">\n",
       "      <th></th>\n",
       "      <th>sighting_date</th>\n",
       "      <th>species</th>\n",
       "      <th>latitude</th>\n",
       "      <th>longitude</th>\n",
       "      <th>number</th>\n",
       "      <th>month</th>\n",
       "    </tr>\n",
       "  </thead>\n",
       "  <tbody>\n",
       "    <tr>\n",
       "      <th>9481</th>\n",
       "      <td>2006-07-26</td>\n",
       "      <td>Monarch Adult (FIRST sighted)</td>\n",
       "      <td>40.370</td>\n",
       "      <td>-105.092</td>\n",
       "      <td>1</td>\n",
       "      <td>7</td>\n",
       "    </tr>\n",
       "    <tr>\n",
       "      <th>9482</th>\n",
       "      <td>2006-07-29</td>\n",
       "      <td>Monarch Adult (FIRST sighted)</td>\n",
       "      <td>36.119</td>\n",
       "      <td>-106.044</td>\n",
       "      <td>1</td>\n",
       "      <td>7</td>\n",
       "    </tr>\n",
       "    <tr>\n",
       "      <th>9483</th>\n",
       "      <td>2006-07-29</td>\n",
       "      <td>Monarch Adult (FIRST sighted)</td>\n",
       "      <td>40.086</td>\n",
       "      <td>-75.152</td>\n",
       "      <td>1</td>\n",
       "      <td>7</td>\n",
       "    </tr>\n",
       "    <tr>\n",
       "      <th>9484</th>\n",
       "      <td>2006-07-31</td>\n",
       "      <td>Monarch Adult (FIRST sighted)</td>\n",
       "      <td>40.060</td>\n",
       "      <td>-75.106</td>\n",
       "      <td>1</td>\n",
       "      <td>7</td>\n",
       "    </tr>\n",
       "    <tr>\n",
       "      <th>9485</th>\n",
       "      <td>2006-07-31</td>\n",
       "      <td>Monarch Adult (FIRST sighted)</td>\n",
       "      <td>55.930</td>\n",
       "      <td>-82.430</td>\n",
       "      <td>1</td>\n",
       "      <td>7</td>\n",
       "    </tr>\n",
       "  </tbody>\n",
       "</table>\n",
       "</div>"
      ],
      "text/plain": [
       "     sighting_date                        species  latitude  longitude  \\\n",
       "9481    2006-07-26  Monarch Adult (FIRST sighted)    40.370   -105.092   \n",
       "9482    2006-07-29  Monarch Adult (FIRST sighted)    36.119   -106.044   \n",
       "9483    2006-07-29  Monarch Adult (FIRST sighted)    40.086    -75.152   \n",
       "9484    2006-07-31  Monarch Adult (FIRST sighted)    40.060    -75.106   \n",
       "9485    2006-07-31  Monarch Adult (FIRST sighted)    55.930    -82.430   \n",
       "\n",
       "      number  month  \n",
       "9481       1      7  \n",
       "9482       1      7  \n",
       "9483       1      7  \n",
       "9484       1      7  \n",
       "9485       1      7  "
      ]
     },
     "execution_count": 63,
     "metadata": {},
     "output_type": "execute_result"
    }
   ],
   "source": [
    "JNorth_Adult_First_Site_2006_month_df =pd.DataFrame(JNorth_Adult_First_Site_2006_df)\n",
    "JNorth_Adult_First_Site_2006_7_df = JNorth_Adult_First_Site_2006_month_df[JNorth_Adult_First_Site_2006_month_df['month']==7]\n",
    "JNorth_Adult_First_Site_2006_7_df.tail()"
   ]
  },
  {
   "cell_type": "code",
   "execution_count": 64,
   "id": "cf793498",
   "metadata": {},
   "outputs": [
    {
     "data": {
      "text/plain": [
       "(27, 6)"
      ]
     },
     "execution_count": 64,
     "metadata": {},
     "output_type": "execute_result"
    }
   ],
   "source": [
    "JNorth_Adult_First_Site_2006_7_df.shape"
   ]
  },
  {
   "cell_type": "code",
   "execution_count": 65,
   "id": "0a11df25",
   "metadata": {},
   "outputs": [],
   "source": [
    "JNorth_Adult_First_Site_2006_7_df = pd.DataFrame(JNorth_Adult_First_Site_2006_7_df)\n",
    "JNorth_Adult_First_Site_2006_7_df.drop(['month'], axis=1, inplace=True)"
   ]
  },
  {
   "cell_type": "code",
   "execution_count": 66,
   "id": "547dffdc",
   "metadata": {},
   "outputs": [],
   "source": [
    "# convert lat-long to floats and change address from ALL CAPS to regular capitalization\n",
    "JNorth_Adult_First_Site_2006_7_df['latitude'] = JNorth_Adult_First_Site_2006_7_df['latitude'].astype(float)\n",
    "JNorth_Adult_First_Site_2006_7_df['longitude'] = JNorth_Adult_First_Site_2006_7_df['longitude'].astype(float)\n",
    "# JNorth_Milkweed_Site_df['street_address'] = JNorth_Milkweed_Site_df['street_address'].str.title()"
   ]
  },
  {
   "cell_type": "code",
   "execution_count": 67,
   "id": "9b8a01c4",
   "metadata": {},
   "outputs": [],
   "source": [
    "geojson = df_to_geojson(JNorth_Adult_First_Site_2006_7_df, cols)"
   ]
  },
  {
   "cell_type": "code",
   "execution_count": 68,
   "id": "7ede518a",
   "metadata": {},
   "outputs": [],
   "source": [
    "file = open(\"JNorth_Adult_First_Site_2006_7.geojson\", \"w\")\n",
    "json.dump(geojson, file, indent =1)\n",
    "file.close()"
   ]
  },
  {
   "cell_type": "markdown",
   "id": "510976eb",
   "metadata": {},
   "source": [
    "## August"
   ]
  },
  {
   "cell_type": "code",
   "execution_count": 69,
   "id": "3dd621e6",
   "metadata": {},
   "outputs": [
    {
     "data": {
      "text/html": [
       "<div>\n",
       "<style scoped>\n",
       "    .dataframe tbody tr th:only-of-type {\n",
       "        vertical-align: middle;\n",
       "    }\n",
       "\n",
       "    .dataframe tbody tr th {\n",
       "        vertical-align: top;\n",
       "    }\n",
       "\n",
       "    .dataframe thead th {\n",
       "        text-align: right;\n",
       "    }\n",
       "</style>\n",
       "<table border=\"1\" class=\"dataframe\">\n",
       "  <thead>\n",
       "    <tr style=\"text-align: right;\">\n",
       "      <th></th>\n",
       "      <th>sighting_date</th>\n",
       "      <th>species</th>\n",
       "      <th>latitude</th>\n",
       "      <th>longitude</th>\n",
       "      <th>number</th>\n",
       "      <th>month</th>\n",
       "    </tr>\n",
       "  </thead>\n",
       "  <tbody>\n",
       "    <tr>\n",
       "      <th>9605</th>\n",
       "      <td>2006-08-31</td>\n",
       "      <td>Monarch Adult (FIRST sighted)</td>\n",
       "      <td>38.604</td>\n",
       "      <td>-90.553</td>\n",
       "      <td>1</td>\n",
       "      <td>8</td>\n",
       "    </tr>\n",
       "    <tr>\n",
       "      <th>9606</th>\n",
       "      <td>2006-08-31</td>\n",
       "      <td>Monarch Adult (FIRST sighted)</td>\n",
       "      <td>42.178</td>\n",
       "      <td>-73.333</td>\n",
       "      <td>1</td>\n",
       "      <td>8</td>\n",
       "    </tr>\n",
       "    <tr>\n",
       "      <th>9607</th>\n",
       "      <td>2006-08-31</td>\n",
       "      <td>Monarch Adult (FIRST sighted)</td>\n",
       "      <td>43.060</td>\n",
       "      <td>-85.850</td>\n",
       "      <td>1</td>\n",
       "      <td>8</td>\n",
       "    </tr>\n",
       "    <tr>\n",
       "      <th>9608</th>\n",
       "      <td>2006-08-31</td>\n",
       "      <td>Monarch Adult (FIRST sighted)</td>\n",
       "      <td>43.077</td>\n",
       "      <td>-85.569</td>\n",
       "      <td>1</td>\n",
       "      <td>8</td>\n",
       "    </tr>\n",
       "    <tr>\n",
       "      <th>9609</th>\n",
       "      <td>2006-08-31</td>\n",
       "      <td>Monarch Adult (FIRST sighted)</td>\n",
       "      <td>44.664</td>\n",
       "      <td>-72.782</td>\n",
       "      <td>1</td>\n",
       "      <td>8</td>\n",
       "    </tr>\n",
       "  </tbody>\n",
       "</table>\n",
       "</div>"
      ],
      "text/plain": [
       "     sighting_date                        species  latitude  longitude  \\\n",
       "9605    2006-08-31  Monarch Adult (FIRST sighted)    38.604    -90.553   \n",
       "9606    2006-08-31  Monarch Adult (FIRST sighted)    42.178    -73.333   \n",
       "9607    2006-08-31  Monarch Adult (FIRST sighted)    43.060    -85.850   \n",
       "9608    2006-08-31  Monarch Adult (FIRST sighted)    43.077    -85.569   \n",
       "9609    2006-08-31  Monarch Adult (FIRST sighted)    44.664    -72.782   \n",
       "\n",
       "      number  month  \n",
       "9605       1      8  \n",
       "9606       1      8  \n",
       "9607       1      8  \n",
       "9608       1      8  \n",
       "9609       1      8  "
      ]
     },
     "execution_count": 69,
     "metadata": {},
     "output_type": "execute_result"
    }
   ],
   "source": [
    "JNorth_Adult_First_Site_2006_month_df =pd.DataFrame(JNorth_Adult_First_Site_2006_df)\n",
    "JNorth_Adult_First_Site_2006_8_df = JNorth_Adult_First_Site_2006_month_df[JNorth_Adult_First_Site_2006_month_df['month']==8]\n",
    "JNorth_Adult_First_Site_2006_8_df.tail()"
   ]
  },
  {
   "cell_type": "code",
   "execution_count": 70,
   "id": "d1145a4b",
   "metadata": {},
   "outputs": [
    {
     "data": {
      "text/plain": [
       "(124, 6)"
      ]
     },
     "execution_count": 70,
     "metadata": {},
     "output_type": "execute_result"
    }
   ],
   "source": [
    "JNorth_Adult_First_Site_2006_8_df.shape"
   ]
  },
  {
   "cell_type": "code",
   "execution_count": 71,
   "id": "e7da4bd8",
   "metadata": {},
   "outputs": [],
   "source": [
    "JNorth_Adult_First_Site_2006_8_df = pd.DataFrame(JNorth_Adult_First_Site_2006_8_df)\n",
    "JNorth_Adult_First_Site_2006_8_df.drop(['month'], axis=1, inplace=True)"
   ]
  },
  {
   "cell_type": "code",
   "execution_count": 72,
   "id": "ce6fb27f",
   "metadata": {},
   "outputs": [],
   "source": [
    "# convert lat-long to floats and change address from ALL CAPS to regular capitalization\n",
    "JNorth_Adult_First_Site_2006_8_df['latitude'] = JNorth_Adult_First_Site_2006_8_df['latitude'].astype(float)\n",
    "JNorth_Adult_First_Site_2006_8_df['longitude'] = JNorth_Adult_First_Site_2006_8_df['longitude'].astype(float)\n",
    "# JNorth_Milkweed_Site_df['street_address'] = JNorth_Milkweed_Site_df['street_address'].str.title()"
   ]
  },
  {
   "cell_type": "code",
   "execution_count": 73,
   "id": "3c4ab342",
   "metadata": {},
   "outputs": [],
   "source": [
    "geojson = df_to_geojson(JNorth_Adult_First_Site_2006_8_df, cols)"
   ]
  },
  {
   "cell_type": "code",
   "execution_count": 74,
   "id": "3ead16ab",
   "metadata": {},
   "outputs": [],
   "source": [
    "file = open(\"JNorth_Adult_First_Site_2006_8.geojson\", \"w\")\n",
    "json.dump(geojson, file, indent =1)\n",
    "file.close()"
   ]
  },
  {
   "cell_type": "markdown",
   "id": "ecbd125e",
   "metadata": {},
   "source": [
    "## September"
   ]
  },
  {
   "cell_type": "code",
   "execution_count": 75,
   "id": "8c0ed9a5",
   "metadata": {},
   "outputs": [
    {
     "data": {
      "text/html": [
       "<div>\n",
       "<style scoped>\n",
       "    .dataframe tbody tr th:only-of-type {\n",
       "        vertical-align: middle;\n",
       "    }\n",
       "\n",
       "    .dataframe tbody tr th {\n",
       "        vertical-align: top;\n",
       "    }\n",
       "\n",
       "    .dataframe thead th {\n",
       "        text-align: right;\n",
       "    }\n",
       "</style>\n",
       "<table border=\"1\" class=\"dataframe\">\n",
       "  <thead>\n",
       "    <tr style=\"text-align: right;\">\n",
       "      <th></th>\n",
       "      <th>sighting_date</th>\n",
       "      <th>species</th>\n",
       "      <th>latitude</th>\n",
       "      <th>longitude</th>\n",
       "      <th>number</th>\n",
       "      <th>month</th>\n",
       "    </tr>\n",
       "  </thead>\n",
       "  <tbody>\n",
       "    <tr>\n",
       "      <th>10165</th>\n",
       "      <td>2006-09-30</td>\n",
       "      <td>Monarch Adult (FIRST sighted)</td>\n",
       "      <td>42.794</td>\n",
       "      <td>-70.969</td>\n",
       "      <td>1</td>\n",
       "      <td>9</td>\n",
       "    </tr>\n",
       "    <tr>\n",
       "      <th>10166</th>\n",
       "      <td>2006-09-30</td>\n",
       "      <td>Monarch Adult (FIRST sighted)</td>\n",
       "      <td>43.114</td>\n",
       "      <td>-70.737</td>\n",
       "      <td>1</td>\n",
       "      <td>9</td>\n",
       "    </tr>\n",
       "    <tr>\n",
       "      <th>10167</th>\n",
       "      <td>2006-09-30</td>\n",
       "      <td>Monarch Adult (FIRST sighted)</td>\n",
       "      <td>43.223</td>\n",
       "      <td>-70.596</td>\n",
       "      <td>1</td>\n",
       "      <td>9</td>\n",
       "    </tr>\n",
       "    <tr>\n",
       "      <th>10168</th>\n",
       "      <td>2006-09-30</td>\n",
       "      <td>Monarch Adult (FIRST sighted)</td>\n",
       "      <td>43.444</td>\n",
       "      <td>-70.349</td>\n",
       "      <td>1</td>\n",
       "      <td>9</td>\n",
       "    </tr>\n",
       "    <tr>\n",
       "      <th>10169</th>\n",
       "      <td>2006-09-30</td>\n",
       "      <td>Monarch Adult (FIRST sighted)</td>\n",
       "      <td>44.481</td>\n",
       "      <td>-72.722</td>\n",
       "      <td>1</td>\n",
       "      <td>9</td>\n",
       "    </tr>\n",
       "  </tbody>\n",
       "</table>\n",
       "</div>"
      ],
      "text/plain": [
       "      sighting_date                        species  latitude  longitude  \\\n",
       "10165    2006-09-30  Monarch Adult (FIRST sighted)    42.794    -70.969   \n",
       "10166    2006-09-30  Monarch Adult (FIRST sighted)    43.114    -70.737   \n",
       "10167    2006-09-30  Monarch Adult (FIRST sighted)    43.223    -70.596   \n",
       "10168    2006-09-30  Monarch Adult (FIRST sighted)    43.444    -70.349   \n",
       "10169    2006-09-30  Monarch Adult (FIRST sighted)    44.481    -72.722   \n",
       "\n",
       "       number  month  \n",
       "10165       1      9  \n",
       "10166       1      9  \n",
       "10167       1      9  \n",
       "10168       1      9  \n",
       "10169       1      9  "
      ]
     },
     "execution_count": 75,
     "metadata": {},
     "output_type": "execute_result"
    }
   ],
   "source": [
    "JNorth_Adult_First_Site_2006_month_df =pd.DataFrame(JNorth_Adult_First_Site_2006_df)\n",
    "JNorth_Adult_First_Site_2006_9_df = JNorth_Adult_First_Site_2006_month_df[JNorth_Adult_First_Site_2006_month_df['month']==9]\n",
    "JNorth_Adult_First_Site_2006_9_df.tail()"
   ]
  },
  {
   "cell_type": "code",
   "execution_count": 76,
   "id": "4ca17692",
   "metadata": {},
   "outputs": [
    {
     "data": {
      "text/plain": [
       "(560, 6)"
      ]
     },
     "execution_count": 76,
     "metadata": {},
     "output_type": "execute_result"
    }
   ],
   "source": [
    "JNorth_Adult_First_Site_2006_9_df.shape"
   ]
  },
  {
   "cell_type": "code",
   "execution_count": 77,
   "id": "a486ee81",
   "metadata": {},
   "outputs": [],
   "source": [
    "JNorth_Adult_First_Site_2006_9_df = pd.DataFrame(JNorth_Adult_First_Site_2006_9_df)\n",
    "JNorth_Adult_First_Site_2006_9_df.drop(['month'], axis=1, inplace=True)"
   ]
  },
  {
   "cell_type": "code",
   "execution_count": 78,
   "id": "2ed76410",
   "metadata": {},
   "outputs": [],
   "source": [
    "# convert lat-long to floats and change address from ALL CAPS to regular capitalization\n",
    "JNorth_Adult_First_Site_2006_9_df['latitude'] = JNorth_Adult_First_Site_2006_9_df['latitude'].astype(float)\n",
    "JNorth_Adult_First_Site_2006_9_df['longitude'] = JNorth_Adult_First_Site_2006_9_df['longitude'].astype(float)\n",
    "# JNorth_Milkweed_Site_df['street_address'] = JNorth_Milkweed_Site_df['street_address'].str.title()"
   ]
  },
  {
   "cell_type": "code",
   "execution_count": 79,
   "id": "153962db",
   "metadata": {},
   "outputs": [],
   "source": [
    "geojson = df_to_geojson(JNorth_Adult_First_Site_2006_9_df, cols)"
   ]
  },
  {
   "cell_type": "code",
   "execution_count": 80,
   "id": "f7e3dccf",
   "metadata": {},
   "outputs": [],
   "source": [
    "file = open(\"JNorth_Adult_First_Site_2006_9.geojson\", \"w\")\n",
    "json.dump(geojson, file, indent =1)\n",
    "file.close()"
   ]
  },
  {
   "cell_type": "markdown",
   "id": "eea9348c",
   "metadata": {},
   "source": [
    "## October"
   ]
  },
  {
   "cell_type": "code",
   "execution_count": 81,
   "id": "df23ee0d",
   "metadata": {},
   "outputs": [
    {
     "data": {
      "text/html": [
       "<div>\n",
       "<style scoped>\n",
       "    .dataframe tbody tr th:only-of-type {\n",
       "        vertical-align: middle;\n",
       "    }\n",
       "\n",
       "    .dataframe tbody tr th {\n",
       "        vertical-align: top;\n",
       "    }\n",
       "\n",
       "    .dataframe thead th {\n",
       "        text-align: right;\n",
       "    }\n",
       "</style>\n",
       "<table border=\"1\" class=\"dataframe\">\n",
       "  <thead>\n",
       "    <tr style=\"text-align: right;\">\n",
       "      <th></th>\n",
       "      <th>sighting_date</th>\n",
       "      <th>species</th>\n",
       "      <th>latitude</th>\n",
       "      <th>longitude</th>\n",
       "      <th>number</th>\n",
       "      <th>month</th>\n",
       "    </tr>\n",
       "  </thead>\n",
       "  <tbody>\n",
       "    <tr>\n",
       "      <th>10600</th>\n",
       "      <td>2006-10-30</td>\n",
       "      <td>Monarch Adult (FIRST sighted)</td>\n",
       "      <td>26.026</td>\n",
       "      <td>-80.297</td>\n",
       "      <td>1</td>\n",
       "      <td>10</td>\n",
       "    </tr>\n",
       "    <tr>\n",
       "      <th>10601</th>\n",
       "      <td>2006-10-30</td>\n",
       "      <td>Monarch Adult (FIRST sighted)</td>\n",
       "      <td>29.648</td>\n",
       "      <td>-99.224</td>\n",
       "      <td>1</td>\n",
       "      <td>10</td>\n",
       "    </tr>\n",
       "    <tr>\n",
       "      <th>10602</th>\n",
       "      <td>2006-10-30</td>\n",
       "      <td>Monarch Adult (FIRST sighted)</td>\n",
       "      <td>30.226</td>\n",
       "      <td>-93.213</td>\n",
       "      <td>1</td>\n",
       "      <td>10</td>\n",
       "    </tr>\n",
       "    <tr>\n",
       "      <th>10603</th>\n",
       "      <td>2006-10-30</td>\n",
       "      <td>Monarch Adult (FIRST sighted)</td>\n",
       "      <td>34.800</td>\n",
       "      <td>-83.448</td>\n",
       "      <td>1</td>\n",
       "      <td>10</td>\n",
       "    </tr>\n",
       "    <tr>\n",
       "      <th>10604</th>\n",
       "      <td>2006-10-31</td>\n",
       "      <td>Monarch Adult (FIRST sighted)</td>\n",
       "      <td>39.643</td>\n",
       "      <td>-74.185</td>\n",
       "      <td>1</td>\n",
       "      <td>10</td>\n",
       "    </tr>\n",
       "  </tbody>\n",
       "</table>\n",
       "</div>"
      ],
      "text/plain": [
       "      sighting_date                        species  latitude  longitude  \\\n",
       "10600    2006-10-30  Monarch Adult (FIRST sighted)    26.026    -80.297   \n",
       "10601    2006-10-30  Monarch Adult (FIRST sighted)    29.648    -99.224   \n",
       "10602    2006-10-30  Monarch Adult (FIRST sighted)    30.226    -93.213   \n",
       "10603    2006-10-30  Monarch Adult (FIRST sighted)    34.800    -83.448   \n",
       "10604    2006-10-31  Monarch Adult (FIRST sighted)    39.643    -74.185   \n",
       "\n",
       "       number  month  \n",
       "10600       1     10  \n",
       "10601       1     10  \n",
       "10602       1     10  \n",
       "10603       1     10  \n",
       "10604       1     10  "
      ]
     },
     "execution_count": 81,
     "metadata": {},
     "output_type": "execute_result"
    }
   ],
   "source": [
    "JNorth_Adult_First_Site_2006_month_df =pd.DataFrame(JNorth_Adult_First_Site_2006_df)\n",
    "JNorth_Adult_First_Site_2006_10_df = JNorth_Adult_First_Site_2006_month_df[JNorth_Adult_First_Site_2006_month_df['month']==10]\n",
    "JNorth_Adult_First_Site_2006_10_df.tail()"
   ]
  },
  {
   "cell_type": "code",
   "execution_count": 82,
   "id": "67f5288a",
   "metadata": {},
   "outputs": [
    {
     "data": {
      "text/plain": [
       "(435, 6)"
      ]
     },
     "execution_count": 82,
     "metadata": {},
     "output_type": "execute_result"
    }
   ],
   "source": [
    "JNorth_Adult_First_Site_2006_10_df.shape"
   ]
  },
  {
   "cell_type": "code",
   "execution_count": 83,
   "id": "a1fb31eb",
   "metadata": {},
   "outputs": [],
   "source": [
    "JNorth_Adult_First_Site_2006_10_df = pd.DataFrame(JNorth_Adult_First_Site_2006_10_df)\n",
    "JNorth_Adult_First_Site_2006_10_df.drop(['month'], axis=1, inplace=True)"
   ]
  },
  {
   "cell_type": "code",
   "execution_count": 84,
   "id": "cc6ee857",
   "metadata": {},
   "outputs": [],
   "source": [
    "# convert lat-long to floats and change address from ALL CAPS to regular capitalization\n",
    "JNorth_Adult_First_Site_2006_10_df['latitude'] = JNorth_Adult_First_Site_2006_10_df['latitude'].astype(float)\n",
    "JNorth_Adult_First_Site_2006_10_df['longitude'] = JNorth_Adult_First_Site_2006_10_df['longitude'].astype(float)\n",
    "# JNorth_Milkweed_Site_df['street_address'] = JNorth_Milkweed_Site_df['street_address'].str.title()"
   ]
  },
  {
   "cell_type": "code",
   "execution_count": 85,
   "id": "712beae1",
   "metadata": {},
   "outputs": [],
   "source": [
    "geojson = df_to_geojson(JNorth_Adult_First_Site_2006_10_df, cols)"
   ]
  },
  {
   "cell_type": "code",
   "execution_count": 86,
   "id": "808cb382",
   "metadata": {},
   "outputs": [],
   "source": [
    "file = open(\"JNorth_Adult_First_Site_2006_10.geojson\", \"w\")\n",
    "json.dump(geojson, file, indent =1)\n",
    "file.close()"
   ]
  },
  {
   "cell_type": "markdown",
   "id": "196b7f94",
   "metadata": {},
   "source": [
    "## November"
   ]
  },
  {
   "cell_type": "code",
   "execution_count": 87,
   "id": "8ddf9ecb",
   "metadata": {},
   "outputs": [
    {
     "data": {
      "text/html": [
       "<div>\n",
       "<style scoped>\n",
       "    .dataframe tbody tr th:only-of-type {\n",
       "        vertical-align: middle;\n",
       "    }\n",
       "\n",
       "    .dataframe tbody tr th {\n",
       "        vertical-align: top;\n",
       "    }\n",
       "\n",
       "    .dataframe thead th {\n",
       "        text-align: right;\n",
       "    }\n",
       "</style>\n",
       "<table border=\"1\" class=\"dataframe\">\n",
       "  <thead>\n",
       "    <tr style=\"text-align: right;\">\n",
       "      <th></th>\n",
       "      <th>sighting_date</th>\n",
       "      <th>species</th>\n",
       "      <th>latitude</th>\n",
       "      <th>longitude</th>\n",
       "      <th>number</th>\n",
       "      <th>month</th>\n",
       "    </tr>\n",
       "  </thead>\n",
       "  <tbody>\n",
       "    <tr>\n",
       "      <th>10621</th>\n",
       "      <td>2006-11-14</td>\n",
       "      <td>Monarch Adult (FIRST sighted)</td>\n",
       "      <td>29.648</td>\n",
       "      <td>-99.224</td>\n",
       "      <td>1</td>\n",
       "      <td>11</td>\n",
       "    </tr>\n",
       "    <tr>\n",
       "      <th>10622</th>\n",
       "      <td>2006-11-17</td>\n",
       "      <td>Monarch Adult (FIRST sighted)</td>\n",
       "      <td>20.590</td>\n",
       "      <td>-100.400</td>\n",
       "      <td>1</td>\n",
       "      <td>11</td>\n",
       "    </tr>\n",
       "    <tr>\n",
       "      <th>10623</th>\n",
       "      <td>2006-11-20</td>\n",
       "      <td>Monarch Adult (FIRST sighted)</td>\n",
       "      <td>40.846</td>\n",
       "      <td>-75.174</td>\n",
       "      <td>1</td>\n",
       "      <td>11</td>\n",
       "    </tr>\n",
       "    <tr>\n",
       "      <th>10624</th>\n",
       "      <td>2006-11-22</td>\n",
       "      <td>Monarch Adult (FIRST sighted)</td>\n",
       "      <td>28.025</td>\n",
       "      <td>-82.768</td>\n",
       "      <td>1</td>\n",
       "      <td>11</td>\n",
       "    </tr>\n",
       "    <tr>\n",
       "      <th>10625</th>\n",
       "      <td>2006-11-26</td>\n",
       "      <td>Monarch Adult (FIRST sighted)</td>\n",
       "      <td>36.761</td>\n",
       "      <td>-98.369</td>\n",
       "      <td>1</td>\n",
       "      <td>11</td>\n",
       "    </tr>\n",
       "  </tbody>\n",
       "</table>\n",
       "</div>"
      ],
      "text/plain": [
       "      sighting_date                        species  latitude  longitude  \\\n",
       "10621    2006-11-14  Monarch Adult (FIRST sighted)    29.648    -99.224   \n",
       "10622    2006-11-17  Monarch Adult (FIRST sighted)    20.590   -100.400   \n",
       "10623    2006-11-20  Monarch Adult (FIRST sighted)    40.846    -75.174   \n",
       "10624    2006-11-22  Monarch Adult (FIRST sighted)    28.025    -82.768   \n",
       "10625    2006-11-26  Monarch Adult (FIRST sighted)    36.761    -98.369   \n",
       "\n",
       "       number  month  \n",
       "10621       1     11  \n",
       "10622       1     11  \n",
       "10623       1     11  \n",
       "10624       1     11  \n",
       "10625       1     11  "
      ]
     },
     "execution_count": 87,
     "metadata": {},
     "output_type": "execute_result"
    }
   ],
   "source": [
    "JNorth_Adult_First_Site_2006_month_df =pd.DataFrame(JNorth_Adult_First_Site_2006_df)\n",
    "JNorth_Adult_First_Site_2006_11_df = JNorth_Adult_First_Site_2006_month_df[JNorth_Adult_First_Site_2006_month_df['month']==11]\n",
    "JNorth_Adult_First_Site_2006_11_df.tail()"
   ]
  },
  {
   "cell_type": "code",
   "execution_count": 88,
   "id": "ad68049a",
   "metadata": {},
   "outputs": [
    {
     "data": {
      "text/plain": [
       "(21, 6)"
      ]
     },
     "execution_count": 88,
     "metadata": {},
     "output_type": "execute_result"
    }
   ],
   "source": [
    "JNorth_Adult_First_Site_2006_11_df.shape"
   ]
  },
  {
   "cell_type": "code",
   "execution_count": 89,
   "id": "b4c89154",
   "metadata": {},
   "outputs": [],
   "source": [
    "JNorth_Adult_First_Site_2006_11_df = pd.DataFrame(JNorth_Adult_First_Site_2006_11_df)\n",
    "JNorth_Adult_First_Site_2006_11_df.drop(['month'], axis=1, inplace=True)"
   ]
  },
  {
   "cell_type": "code",
   "execution_count": 90,
   "id": "d58b4c8b",
   "metadata": {},
   "outputs": [],
   "source": [
    "# convert lat-long to floats and change address from ALL CAPS to regular capitalization\n",
    "JNorth_Adult_First_Site_2006_11_df['latitude'] = JNorth_Adult_First_Site_2006_11_df['latitude'].astype(float)\n",
    "JNorth_Adult_First_Site_2006_11_df['longitude'] = JNorth_Adult_First_Site_2006_11_df['longitude'].astype(float)\n",
    "# JNorth_Milkweed_Site_df['street_address'] = JNorth_Milkweed_Site_df['street_address'].str.title()"
   ]
  },
  {
   "cell_type": "code",
   "execution_count": 91,
   "id": "f699d4b6",
   "metadata": {},
   "outputs": [],
   "source": [
    "geojson = df_to_geojson(JNorth_Adult_First_Site_2006_11_df, cols)"
   ]
  },
  {
   "cell_type": "code",
   "execution_count": 92,
   "id": "834ec4dc",
   "metadata": {},
   "outputs": [],
   "source": [
    "file = open(\"JNorth_Adult_First_Site_2006_11.geojson\", \"w\")\n",
    "json.dump(geojson, file, indent =1)\n",
    "file.close()"
   ]
  },
  {
   "cell_type": "markdown",
   "id": "40c71593",
   "metadata": {},
   "source": [
    "## December"
   ]
  },
  {
   "cell_type": "code",
   "execution_count": 93,
   "id": "6b4b81a1",
   "metadata": {},
   "outputs": [
    {
     "data": {
      "text/html": [
       "<div>\n",
       "<style scoped>\n",
       "    .dataframe tbody tr th:only-of-type {\n",
       "        vertical-align: middle;\n",
       "    }\n",
       "\n",
       "    .dataframe tbody tr th {\n",
       "        vertical-align: top;\n",
       "    }\n",
       "\n",
       "    .dataframe thead th {\n",
       "        text-align: right;\n",
       "    }\n",
       "</style>\n",
       "<table border=\"1\" class=\"dataframe\">\n",
       "  <thead>\n",
       "    <tr style=\"text-align: right;\">\n",
       "      <th></th>\n",
       "      <th>sighting_date</th>\n",
       "      <th>species</th>\n",
       "      <th>latitude</th>\n",
       "      <th>longitude</th>\n",
       "      <th>number</th>\n",
       "      <th>month</th>\n",
       "    </tr>\n",
       "  </thead>\n",
       "  <tbody>\n",
       "    <tr>\n",
       "      <th>10626</th>\n",
       "      <td>2006-12-03</td>\n",
       "      <td>Monarch Adult (FIRST sighted)</td>\n",
       "      <td>41.045</td>\n",
       "      <td>-71.950</td>\n",
       "      <td>1</td>\n",
       "      <td>12</td>\n",
       "    </tr>\n",
       "    <tr>\n",
       "      <th>10627</th>\n",
       "      <td>2006-12-26</td>\n",
       "      <td>Monarch Adult (FIRST sighted)</td>\n",
       "      <td>19.620</td>\n",
       "      <td>-100.285</td>\n",
       "      <td>1</td>\n",
       "      <td>12</td>\n",
       "    </tr>\n",
       "  </tbody>\n",
       "</table>\n",
       "</div>"
      ],
      "text/plain": [
       "      sighting_date                        species  latitude  longitude  \\\n",
       "10626    2006-12-03  Monarch Adult (FIRST sighted)    41.045    -71.950   \n",
       "10627    2006-12-26  Monarch Adult (FIRST sighted)    19.620   -100.285   \n",
       "\n",
       "       number  month  \n",
       "10626       1     12  \n",
       "10627       1     12  "
      ]
     },
     "execution_count": 93,
     "metadata": {},
     "output_type": "execute_result"
    }
   ],
   "source": [
    "JNorth_Adult_First_Site_2006_month_df =pd.DataFrame(JNorth_Adult_First_Site_2006_df)\n",
    "JNorth_Adult_First_Site_2006_12_df = JNorth_Adult_First_Site_2006_month_df[JNorth_Adult_First_Site_2006_month_df['month']==12]\n",
    "JNorth_Adult_First_Site_2006_12_df.tail()"
   ]
  },
  {
   "cell_type": "code",
   "execution_count": 94,
   "id": "c4df5f44",
   "metadata": {},
   "outputs": [
    {
     "data": {
      "text/plain": [
       "(2, 6)"
      ]
     },
     "execution_count": 94,
     "metadata": {},
     "output_type": "execute_result"
    }
   ],
   "source": [
    "JNorth_Adult_First_Site_2006_12_df.shape"
   ]
  },
  {
   "cell_type": "code",
   "execution_count": 95,
   "id": "d6ae0a6a",
   "metadata": {},
   "outputs": [],
   "source": [
    "JNorth_Adult_First_Site_2006_12_df = pd.DataFrame(JNorth_Adult_First_Site_2006_12_df)\n",
    "JNorth_Adult_First_Site_2006_12_df.drop(['month'], axis=1, inplace=True)"
   ]
  },
  {
   "cell_type": "code",
   "execution_count": 96,
   "id": "d4152a7f",
   "metadata": {},
   "outputs": [],
   "source": [
    "# convert lat-long to floats and change address from ALL CAPS to regular capitalization\n",
    "JNorth_Adult_First_Site_2006_12_df['latitude'] = JNorth_Adult_First_Site_2006_12_df['latitude'].astype(float)\n",
    "JNorth_Adult_First_Site_2006_12_df['longitude'] = JNorth_Adult_First_Site_2006_12_df['longitude'].astype(float)\n",
    "# JNorth_Milkweed_Site_df['street_address'] = JNorth_Milkweed_Site_df['street_address'].str.title()"
   ]
  },
  {
   "cell_type": "code",
   "execution_count": 97,
   "id": "dd3a5d1f",
   "metadata": {},
   "outputs": [],
   "source": [
    "geojson = df_to_geojson(JNorth_Adult_First_Site_2006_12_df, cols)"
   ]
  },
  {
   "cell_type": "code",
   "execution_count": 98,
   "id": "028f834c",
   "metadata": {},
   "outputs": [],
   "source": [
    "file = open(\"JNorth_Adult_First_Site_2006_12.geojson\", \"w\")\n",
    "json.dump(geojson, file, indent =1)\n",
    "file.close()"
   ]
  },
  {
   "cell_type": "markdown",
   "id": "64ab3e2c",
   "metadata": {},
   "source": [
    "# 2007"
   ]
  },
  {
   "cell_type": "code",
   "execution_count": 99,
   "id": "66b4ab28",
   "metadata": {},
   "outputs": [
    {
     "data": {
      "text/html": [
       "<div>\n",
       "<style scoped>\n",
       "    .dataframe tbody tr th:only-of-type {\n",
       "        vertical-align: middle;\n",
       "    }\n",
       "\n",
       "    .dataframe tbody tr th {\n",
       "        vertical-align: top;\n",
       "    }\n",
       "\n",
       "    .dataframe thead th {\n",
       "        text-align: right;\n",
       "    }\n",
       "</style>\n",
       "<table border=\"1\" class=\"dataframe\">\n",
       "  <thead>\n",
       "    <tr style=\"text-align: right;\">\n",
       "      <th></th>\n",
       "      <th>sighting_date</th>\n",
       "      <th>species</th>\n",
       "      <th>latitude</th>\n",
       "      <th>longitude</th>\n",
       "      <th>number</th>\n",
       "      <th>year</th>\n",
       "    </tr>\n",
       "  </thead>\n",
       "  <tbody>\n",
       "    <tr>\n",
       "      <th>12385</th>\n",
       "      <td>2007-12-02</td>\n",
       "      <td>Monarch Adult (FIRST sighted)</td>\n",
       "      <td>39.358</td>\n",
       "      <td>-87.407</td>\n",
       "      <td>1</td>\n",
       "      <td>2007</td>\n",
       "    </tr>\n",
       "    <tr>\n",
       "      <th>12386</th>\n",
       "      <td>2007-12-08</td>\n",
       "      <td>Monarch Adult (FIRST sighted)</td>\n",
       "      <td>33.816</td>\n",
       "      <td>-117.823</td>\n",
       "      <td>1</td>\n",
       "      <td>2007</td>\n",
       "    </tr>\n",
       "    <tr>\n",
       "      <th>12387</th>\n",
       "      <td>2007-12-14</td>\n",
       "      <td>Monarch Adult (FIRST sighted)</td>\n",
       "      <td>33.572</td>\n",
       "      <td>-112.246</td>\n",
       "      <td>1</td>\n",
       "      <td>2007</td>\n",
       "    </tr>\n",
       "    <tr>\n",
       "      <th>12388</th>\n",
       "      <td>2007-12-26</td>\n",
       "      <td>Monarch Adult (FIRST sighted)</td>\n",
       "      <td>19.620</td>\n",
       "      <td>-100.285</td>\n",
       "      <td>1</td>\n",
       "      <td>2007</td>\n",
       "    </tr>\n",
       "    <tr>\n",
       "      <th>12389</th>\n",
       "      <td>2007-12-30</td>\n",
       "      <td>Monarch Adult (FIRST sighted)</td>\n",
       "      <td>36.217</td>\n",
       "      <td>-115.148</td>\n",
       "      <td>1</td>\n",
       "      <td>2007</td>\n",
       "    </tr>\n",
       "  </tbody>\n",
       "</table>\n",
       "</div>"
      ],
      "text/plain": [
       "      sighting_date                        species  latitude  longitude  \\\n",
       "12385    2007-12-02  Monarch Adult (FIRST sighted)    39.358    -87.407   \n",
       "12386    2007-12-08  Monarch Adult (FIRST sighted)    33.816   -117.823   \n",
       "12387    2007-12-14  Monarch Adult (FIRST sighted)    33.572   -112.246   \n",
       "12388    2007-12-26  Monarch Adult (FIRST sighted)    19.620   -100.285   \n",
       "12389    2007-12-30  Monarch Adult (FIRST sighted)    36.217   -115.148   \n",
       "\n",
       "       number  year  \n",
       "12385       1  2007  \n",
       "12386       1  2007  \n",
       "12387       1  2007  \n",
       "12388       1  2007  \n",
       "12389       1  2007  "
      ]
     },
     "execution_count": 99,
     "metadata": {},
     "output_type": "execute_result"
    }
   ],
   "source": [
    "JNorth_Adult_First_Site_2007_df = JNorth_Adult_First_Site_year_df[JNorth_Adult_First_Site_year_df['year']==2007]\n",
    "JNorth_Adult_First_Site_2007_df.tail()"
   ]
  },
  {
   "cell_type": "code",
   "execution_count": 100,
   "id": "27387600",
   "metadata": {},
   "outputs": [
    {
     "data": {
      "text/plain": [
       "(1762, 6)"
      ]
     },
     "execution_count": 100,
     "metadata": {},
     "output_type": "execute_result"
    }
   ],
   "source": [
    "JNorth_Adult_First_Site_2007_df.shape"
   ]
  },
  {
   "cell_type": "code",
   "execution_count": 101,
   "id": "39c22eab",
   "metadata": {},
   "outputs": [],
   "source": [
    "JNorth_Adult_First_Site_2007_df = pd.DataFrame(JNorth_Adult_First_Site_2007_df)\n",
    "JNorth_Adult_First_Site_2007_df.drop(['year'], axis=1, inplace=True)"
   ]
  },
  {
   "cell_type": "code",
   "execution_count": 102,
   "id": "02af16d1",
   "metadata": {},
   "outputs": [
    {
     "data": {
      "text/plain": [
       "<bound method NDFrame.tail of       sighting_date                        species  latitude  longitude  \\\n",
       "10628    2007-01-01  Monarch Adult (FIRST sighted)    19.620   -100.285   \n",
       "10629    2007-01-03  Monarch Adult (FIRST sighted)    32.760   -116.998   \n",
       "10630    2007-02-19  Monarch Adult (FIRST sighted)    27.797    -97.399   \n",
       "10631    2007-02-22  Monarch Adult (FIRST sighted)    26.141    -81.795   \n",
       "10632    2007-02-22  Monarch Adult (FIRST sighted)    32.216   -110.971   \n",
       "...             ...                            ...       ...        ...   \n",
       "12385    2007-12-02  Monarch Adult (FIRST sighted)    39.358    -87.407   \n",
       "12386    2007-12-08  Monarch Adult (FIRST sighted)    33.816   -117.823   \n",
       "12387    2007-12-14  Monarch Adult (FIRST sighted)    33.572   -112.246   \n",
       "12388    2007-12-26  Monarch Adult (FIRST sighted)    19.620   -100.285   \n",
       "12389    2007-12-30  Monarch Adult (FIRST sighted)    36.217   -115.148   \n",
       "\n",
       "       number  \n",
       "10628       1  \n",
       "10629       1  \n",
       "10630       1  \n",
       "10631       1  \n",
       "10632       1  \n",
       "...       ...  \n",
       "12385       1  \n",
       "12386       1  \n",
       "12387       1  \n",
       "12388       1  \n",
       "12389       1  \n",
       "\n",
       "[1762 rows x 5 columns]>"
      ]
     },
     "execution_count": 102,
     "metadata": {},
     "output_type": "execute_result"
    }
   ],
   "source": [
    "JNorth_Adult_First_Site_2007_df.tail"
   ]
  },
  {
   "cell_type": "code",
   "execution_count": 103,
   "id": "0638da02",
   "metadata": {},
   "outputs": [],
   "source": [
    "JNorth_Adult_First_Site_2007_df['month'] = pd.DatetimeIndex(JNorth_Adult_First_Site_2007_df['sighting_date']).month"
   ]
  },
  {
   "cell_type": "markdown",
   "id": "44e36e34",
   "metadata": {},
   "source": [
    "## January"
   ]
  },
  {
   "cell_type": "code",
   "execution_count": 104,
   "id": "9086a832",
   "metadata": {},
   "outputs": [
    {
     "data": {
      "text/html": [
       "<div>\n",
       "<style scoped>\n",
       "    .dataframe tbody tr th:only-of-type {\n",
       "        vertical-align: middle;\n",
       "    }\n",
       "\n",
       "    .dataframe tbody tr th {\n",
       "        vertical-align: top;\n",
       "    }\n",
       "\n",
       "    .dataframe thead th {\n",
       "        text-align: right;\n",
       "    }\n",
       "</style>\n",
       "<table border=\"1\" class=\"dataframe\">\n",
       "  <thead>\n",
       "    <tr style=\"text-align: right;\">\n",
       "      <th></th>\n",
       "      <th>sighting_date</th>\n",
       "      <th>species</th>\n",
       "      <th>latitude</th>\n",
       "      <th>longitude</th>\n",
       "      <th>number</th>\n",
       "      <th>month</th>\n",
       "    </tr>\n",
       "  </thead>\n",
       "  <tbody>\n",
       "    <tr>\n",
       "      <th>10628</th>\n",
       "      <td>2007-01-01</td>\n",
       "      <td>Monarch Adult (FIRST sighted)</td>\n",
       "      <td>19.62</td>\n",
       "      <td>-100.285</td>\n",
       "      <td>1</td>\n",
       "      <td>1</td>\n",
       "    </tr>\n",
       "    <tr>\n",
       "      <th>10629</th>\n",
       "      <td>2007-01-03</td>\n",
       "      <td>Monarch Adult (FIRST sighted)</td>\n",
       "      <td>32.76</td>\n",
       "      <td>-116.998</td>\n",
       "      <td>1</td>\n",
       "      <td>1</td>\n",
       "    </tr>\n",
       "  </tbody>\n",
       "</table>\n",
       "</div>"
      ],
      "text/plain": [
       "      sighting_date                        species  latitude  longitude  \\\n",
       "10628    2007-01-01  Monarch Adult (FIRST sighted)     19.62   -100.285   \n",
       "10629    2007-01-03  Monarch Adult (FIRST sighted)     32.76   -116.998   \n",
       "\n",
       "       number  month  \n",
       "10628       1      1  \n",
       "10629       1      1  "
      ]
     },
     "execution_count": 104,
     "metadata": {},
     "output_type": "execute_result"
    }
   ],
   "source": [
    "JNorth_Adult_First_Site_2007_month_df =pd.DataFrame(JNorth_Adult_First_Site_2007_df)\n",
    "JNorth_Adult_First_Site_2007_1_df = JNorth_Adult_First_Site_2007_month_df[JNorth_Adult_First_Site_2007_month_df['month']==1]\n",
    "JNorth_Adult_First_Site_2007_1_df.tail()"
   ]
  },
  {
   "cell_type": "code",
   "execution_count": 105,
   "id": "9e27c140",
   "metadata": {},
   "outputs": [
    {
     "data": {
      "text/plain": [
       "(2, 6)"
      ]
     },
     "execution_count": 105,
     "metadata": {},
     "output_type": "execute_result"
    }
   ],
   "source": [
    "JNorth_Adult_First_Site_2007_1_df.shape"
   ]
  },
  {
   "cell_type": "code",
   "execution_count": 106,
   "id": "b53fb638",
   "metadata": {},
   "outputs": [],
   "source": [
    "JNorth_Adult_First_Site_2007_1_df = pd.DataFrame(JNorth_Adult_First_Site_2007_1_df)\n",
    "JNorth_Adult_First_Site_2007_1_df.drop(['month'], axis=1, inplace=True)"
   ]
  },
  {
   "cell_type": "code",
   "execution_count": 107,
   "id": "314d9a0e",
   "metadata": {},
   "outputs": [],
   "source": [
    "# convert lat-long to floats and change address from ALL CAPS to regular capitalization\n",
    "JNorth_Adult_First_Site_2007_1_df['latitude'] = JNorth_Adult_First_Site_2007_1_df['latitude'].astype(float)\n",
    "JNorth_Adult_First_Site_2007_1_df['longitude'] = JNorth_Adult_First_Site_2007_1_df['longitude'].astype(float)\n",
    "# JNorth_Milkweed_Site_df['street_address'] = JNorth_Milkweed_Site_df['street_address'].str.title()"
   ]
  },
  {
   "cell_type": "code",
   "execution_count": 108,
   "id": "cf406e10",
   "metadata": {},
   "outputs": [],
   "source": [
    "geojson = df_to_geojson(JNorth_Adult_First_Site_2007_1_df, cols)"
   ]
  },
  {
   "cell_type": "code",
   "execution_count": 109,
   "id": "cf076629",
   "metadata": {},
   "outputs": [],
   "source": [
    "file = open(\"JNorth_Adult_First_Site_2007_1.geojson\", \"w\")\n",
    "json.dump(geojson, file, indent =1)\n",
    "file.close()"
   ]
  },
  {
   "cell_type": "markdown",
   "id": "f3c4b9a4",
   "metadata": {},
   "source": [
    "## February"
   ]
  },
  {
   "cell_type": "code",
   "execution_count": 110,
   "id": "89e4afd6",
   "metadata": {},
   "outputs": [
    {
     "data": {
      "text/html": [
       "<div>\n",
       "<style scoped>\n",
       "    .dataframe tbody tr th:only-of-type {\n",
       "        vertical-align: middle;\n",
       "    }\n",
       "\n",
       "    .dataframe tbody tr th {\n",
       "        vertical-align: top;\n",
       "    }\n",
       "\n",
       "    .dataframe thead th {\n",
       "        text-align: right;\n",
       "    }\n",
       "</style>\n",
       "<table border=\"1\" class=\"dataframe\">\n",
       "  <thead>\n",
       "    <tr style=\"text-align: right;\">\n",
       "      <th></th>\n",
       "      <th>sighting_date</th>\n",
       "      <th>species</th>\n",
       "      <th>latitude</th>\n",
       "      <th>longitude</th>\n",
       "      <th>number</th>\n",
       "      <th>month</th>\n",
       "    </tr>\n",
       "  </thead>\n",
       "  <tbody>\n",
       "    <tr>\n",
       "      <th>10630</th>\n",
       "      <td>2007-02-19</td>\n",
       "      <td>Monarch Adult (FIRST sighted)</td>\n",
       "      <td>27.797</td>\n",
       "      <td>-97.399</td>\n",
       "      <td>1</td>\n",
       "      <td>2</td>\n",
       "    </tr>\n",
       "    <tr>\n",
       "      <th>10631</th>\n",
       "      <td>2007-02-22</td>\n",
       "      <td>Monarch Adult (FIRST sighted)</td>\n",
       "      <td>26.141</td>\n",
       "      <td>-81.795</td>\n",
       "      <td>1</td>\n",
       "      <td>2</td>\n",
       "    </tr>\n",
       "    <tr>\n",
       "      <th>10632</th>\n",
       "      <td>2007-02-22</td>\n",
       "      <td>Monarch Adult (FIRST sighted)</td>\n",
       "      <td>32.216</td>\n",
       "      <td>-110.971</td>\n",
       "      <td>1</td>\n",
       "      <td>2</td>\n",
       "    </tr>\n",
       "    <tr>\n",
       "      <th>10633</th>\n",
       "      <td>2007-02-24</td>\n",
       "      <td>Monarch Adult (FIRST sighted)</td>\n",
       "      <td>26.094</td>\n",
       "      <td>-97.671</td>\n",
       "      <td>1</td>\n",
       "      <td>2</td>\n",
       "    </tr>\n",
       "    <tr>\n",
       "      <th>10634</th>\n",
       "      <td>2007-02-27</td>\n",
       "      <td>Monarch Adult (FIRST sighted)</td>\n",
       "      <td>19.377</td>\n",
       "      <td>-100.243</td>\n",
       "      <td>1</td>\n",
       "      <td>2</td>\n",
       "    </tr>\n",
       "  </tbody>\n",
       "</table>\n",
       "</div>"
      ],
      "text/plain": [
       "      sighting_date                        species  latitude  longitude  \\\n",
       "10630    2007-02-19  Monarch Adult (FIRST sighted)    27.797    -97.399   \n",
       "10631    2007-02-22  Monarch Adult (FIRST sighted)    26.141    -81.795   \n",
       "10632    2007-02-22  Monarch Adult (FIRST sighted)    32.216   -110.971   \n",
       "10633    2007-02-24  Monarch Adult (FIRST sighted)    26.094    -97.671   \n",
       "10634    2007-02-27  Monarch Adult (FIRST sighted)    19.377   -100.243   \n",
       "\n",
       "       number  month  \n",
       "10630       1      2  \n",
       "10631       1      2  \n",
       "10632       1      2  \n",
       "10633       1      2  \n",
       "10634       1      2  "
      ]
     },
     "execution_count": 110,
     "metadata": {},
     "output_type": "execute_result"
    }
   ],
   "source": [
    "JNorth_Adult_First_Site_2007_month_df =pd.DataFrame(JNorth_Adult_First_Site_2007_df)\n",
    "JNorth_Adult_First_Site_2007_2_df = JNorth_Adult_First_Site_2007_month_df[JNorth_Adult_First_Site_2007_month_df['month']==2]\n",
    "JNorth_Adult_First_Site_2007_2_df.tail()"
   ]
  },
  {
   "cell_type": "code",
   "execution_count": 111,
   "id": "0e6eeb72",
   "metadata": {},
   "outputs": [
    {
     "data": {
      "text/plain": [
       "(5, 6)"
      ]
     },
     "execution_count": 111,
     "metadata": {},
     "output_type": "execute_result"
    }
   ],
   "source": [
    "JNorth_Adult_First_Site_2007_2_df.shape"
   ]
  },
  {
   "cell_type": "code",
   "execution_count": 112,
   "id": "de099469",
   "metadata": {},
   "outputs": [],
   "source": [
    "JNorth_Adult_First_Site_2007_2_df = pd.DataFrame(JNorth_Adult_First_Site_2007_2_df)\n",
    "JNorth_Adult_First_Site_2007_2_df.drop(['month'], axis=1, inplace=True)"
   ]
  },
  {
   "cell_type": "code",
   "execution_count": 113,
   "id": "a94edae4",
   "metadata": {},
   "outputs": [],
   "source": [
    "# convert lat-long to floats and change address from ALL CAPS to regular capitalization\n",
    "JNorth_Adult_First_Site_2007_2_df['latitude'] = JNorth_Adult_First_Site_2007_2_df['latitude'].astype(float)\n",
    "JNorth_Adult_First_Site_2007_2_df['longitude'] = JNorth_Adult_First_Site_2007_2_df['longitude'].astype(float)\n",
    "# JNorth_Milkweed_Site_df['street_address'] = JNorth_Milkweed_Site_df['street_address'].str.title()"
   ]
  },
  {
   "cell_type": "code",
   "execution_count": 114,
   "id": "3a7a03f0",
   "metadata": {},
   "outputs": [],
   "source": [
    "geojson = df_to_geojson(JNorth_Adult_First_Site_2007_2_df, cols)"
   ]
  },
  {
   "cell_type": "code",
   "execution_count": 115,
   "id": "f5e3b20b",
   "metadata": {},
   "outputs": [],
   "source": [
    "file = open(\"JNorth_Adult_First_Site_2007_2.geojson\", \"w\")\n",
    "json.dump(geojson, file, indent =1)\n",
    "file.close()"
   ]
  },
  {
   "cell_type": "markdown",
   "id": "7e14e69d",
   "metadata": {},
   "source": [
    "## March"
   ]
  },
  {
   "cell_type": "code",
   "execution_count": 116,
   "id": "81e1f20b",
   "metadata": {},
   "outputs": [
    {
     "data": {
      "text/html": [
       "<div>\n",
       "<style scoped>\n",
       "    .dataframe tbody tr th:only-of-type {\n",
       "        vertical-align: middle;\n",
       "    }\n",
       "\n",
       "    .dataframe tbody tr th {\n",
       "        vertical-align: top;\n",
       "    }\n",
       "\n",
       "    .dataframe thead th {\n",
       "        text-align: right;\n",
       "    }\n",
       "</style>\n",
       "<table border=\"1\" class=\"dataframe\">\n",
       "  <thead>\n",
       "    <tr style=\"text-align: right;\">\n",
       "      <th></th>\n",
       "      <th>sighting_date</th>\n",
       "      <th>species</th>\n",
       "      <th>latitude</th>\n",
       "      <th>longitude</th>\n",
       "      <th>number</th>\n",
       "      <th>month</th>\n",
       "    </tr>\n",
       "  </thead>\n",
       "  <tbody>\n",
       "    <tr>\n",
       "      <th>10767</th>\n",
       "      <td>2007-03-31</td>\n",
       "      <td>Monarch Adult (FIRST sighted)</td>\n",
       "      <td>30.230</td>\n",
       "      <td>-97.714</td>\n",
       "      <td>1</td>\n",
       "      <td>3</td>\n",
       "    </tr>\n",
       "    <tr>\n",
       "      <th>10768</th>\n",
       "      <td>2007-03-31</td>\n",
       "      <td>Monarch Adult (FIRST sighted)</td>\n",
       "      <td>32.874</td>\n",
       "      <td>-96.406</td>\n",
       "      <td>1</td>\n",
       "      <td>3</td>\n",
       "    </tr>\n",
       "    <tr>\n",
       "      <th>10769</th>\n",
       "      <td>2007-03-31</td>\n",
       "      <td>Monarch Adult (FIRST sighted)</td>\n",
       "      <td>35.160</td>\n",
       "      <td>-89.756</td>\n",
       "      <td>1</td>\n",
       "      <td>3</td>\n",
       "    </tr>\n",
       "    <tr>\n",
       "      <th>10770</th>\n",
       "      <td>2007-03-31</td>\n",
       "      <td>Monarch Adult (FIRST sighted)</td>\n",
       "      <td>35.294</td>\n",
       "      <td>-89.370</td>\n",
       "      <td>1</td>\n",
       "      <td>3</td>\n",
       "    </tr>\n",
       "    <tr>\n",
       "      <th>10771</th>\n",
       "      <td>2007-03-31</td>\n",
       "      <td>Monarch Adult (FIRST sighted)</td>\n",
       "      <td>36.475</td>\n",
       "      <td>-81.380</td>\n",
       "      <td>1</td>\n",
       "      <td>3</td>\n",
       "    </tr>\n",
       "  </tbody>\n",
       "</table>\n",
       "</div>"
      ],
      "text/plain": [
       "      sighting_date                        species  latitude  longitude  \\\n",
       "10767    2007-03-31  Monarch Adult (FIRST sighted)    30.230    -97.714   \n",
       "10768    2007-03-31  Monarch Adult (FIRST sighted)    32.874    -96.406   \n",
       "10769    2007-03-31  Monarch Adult (FIRST sighted)    35.160    -89.756   \n",
       "10770    2007-03-31  Monarch Adult (FIRST sighted)    35.294    -89.370   \n",
       "10771    2007-03-31  Monarch Adult (FIRST sighted)    36.475    -81.380   \n",
       "\n",
       "       number  month  \n",
       "10767       1      3  \n",
       "10768       1      3  \n",
       "10769       1      3  \n",
       "10770       1      3  \n",
       "10771       1      3  "
      ]
     },
     "execution_count": 116,
     "metadata": {},
     "output_type": "execute_result"
    }
   ],
   "source": [
    "JNorth_Adult_First_Site_2007_month_df =pd.DataFrame(JNorth_Adult_First_Site_2007_df)\n",
    "JNorth_Adult_First_Site_2007_3_df = JNorth_Adult_First_Site_2007_month_df[JNorth_Adult_First_Site_2007_month_df['month']==3]\n",
    "JNorth_Adult_First_Site_2007_3_df.tail()"
   ]
  },
  {
   "cell_type": "code",
   "execution_count": 117,
   "id": "77640de4",
   "metadata": {},
   "outputs": [
    {
     "data": {
      "text/plain": [
       "(137, 6)"
      ]
     },
     "execution_count": 117,
     "metadata": {},
     "output_type": "execute_result"
    }
   ],
   "source": [
    "JNorth_Adult_First_Site_2007_3_df.shape"
   ]
  },
  {
   "cell_type": "code",
   "execution_count": 118,
   "id": "457cb4d6",
   "metadata": {},
   "outputs": [],
   "source": [
    "JNorth_Adult_First_Site_2007_3_df = pd.DataFrame(JNorth_Adult_First_Site_2007_3_df)\n",
    "JNorth_Adult_First_Site_2007_3_df.drop(['month'], axis=1, inplace=True)"
   ]
  },
  {
   "cell_type": "code",
   "execution_count": 119,
   "id": "86206cff",
   "metadata": {},
   "outputs": [],
   "source": [
    "# convert lat-long to floats and change address from ALL CAPS to regular capitalization\n",
    "JNorth_Adult_First_Site_2007_3_df['latitude'] = JNorth_Adult_First_Site_2007_3_df['latitude'].astype(float)\n",
    "JNorth_Adult_First_Site_2007_3_df['longitude'] = JNorth_Adult_First_Site_2007_3_df['longitude'].astype(float)\n",
    "# JNorth_Milkweed_Site_df['street_address'] = JNorth_Milkweed_Site_df['street_address'].str.title()"
   ]
  },
  {
   "cell_type": "code",
   "execution_count": 120,
   "id": "b22c5380",
   "metadata": {},
   "outputs": [],
   "source": [
    "geojson = df_to_geojson(JNorth_Adult_First_Site_2007_3_df, cols)"
   ]
  },
  {
   "cell_type": "code",
   "execution_count": 121,
   "id": "17df86d3",
   "metadata": {},
   "outputs": [],
   "source": [
    "file = open(\"JNorth_Adult_First_Site_2007_3.geojson\", \"w\")\n",
    "json.dump(geojson, file, indent =1)\n",
    "file.close()"
   ]
  },
  {
   "cell_type": "markdown",
   "id": "4a4cedaa",
   "metadata": {},
   "source": [
    "## April"
   ]
  },
  {
   "cell_type": "code",
   "execution_count": 122,
   "id": "73accd48",
   "metadata": {},
   "outputs": [
    {
     "data": {
      "text/html": [
       "<div>\n",
       "<style scoped>\n",
       "    .dataframe tbody tr th:only-of-type {\n",
       "        vertical-align: middle;\n",
       "    }\n",
       "\n",
       "    .dataframe tbody tr th {\n",
       "        vertical-align: top;\n",
       "    }\n",
       "\n",
       "    .dataframe thead th {\n",
       "        text-align: right;\n",
       "    }\n",
       "</style>\n",
       "<table border=\"1\" class=\"dataframe\">\n",
       "  <thead>\n",
       "    <tr style=\"text-align: right;\">\n",
       "      <th></th>\n",
       "      <th>sighting_date</th>\n",
       "      <th>species</th>\n",
       "      <th>latitude</th>\n",
       "      <th>longitude</th>\n",
       "      <th>number</th>\n",
       "      <th>month</th>\n",
       "    </tr>\n",
       "  </thead>\n",
       "  <tbody>\n",
       "    <tr>\n",
       "      <th>10875</th>\n",
       "      <td>2007-04-30</td>\n",
       "      <td>Monarch Adult (FIRST sighted)</td>\n",
       "      <td>39.056</td>\n",
       "      <td>-95.675</td>\n",
       "      <td>1</td>\n",
       "      <td>4</td>\n",
       "    </tr>\n",
       "    <tr>\n",
       "      <th>10876</th>\n",
       "      <td>2007-04-30</td>\n",
       "      <td>Monarch Adult (FIRST sighted)</td>\n",
       "      <td>39.404</td>\n",
       "      <td>-94.521</td>\n",
       "      <td>1</td>\n",
       "      <td>4</td>\n",
       "    </tr>\n",
       "    <tr>\n",
       "      <th>10877</th>\n",
       "      <td>2007-04-30</td>\n",
       "      <td>Monarch Adult (FIRST sighted)</td>\n",
       "      <td>39.763</td>\n",
       "      <td>-86.400</td>\n",
       "      <td>1</td>\n",
       "      <td>4</td>\n",
       "    </tr>\n",
       "    <tr>\n",
       "      <th>10878</th>\n",
       "      <td>2007-04-30</td>\n",
       "      <td>Monarch Adult (FIRST sighted)</td>\n",
       "      <td>43.629</td>\n",
       "      <td>-96.591</td>\n",
       "      <td>1</td>\n",
       "      <td>4</td>\n",
       "    </tr>\n",
       "    <tr>\n",
       "      <th>10879</th>\n",
       "      <td>2007-04-30</td>\n",
       "      <td>Monarch Adult (FIRST sighted)</td>\n",
       "      <td>45.000</td>\n",
       "      <td>-84.660</td>\n",
       "      <td>1</td>\n",
       "      <td>4</td>\n",
       "    </tr>\n",
       "  </tbody>\n",
       "</table>\n",
       "</div>"
      ],
      "text/plain": [
       "      sighting_date                        species  latitude  longitude  \\\n",
       "10875    2007-04-30  Monarch Adult (FIRST sighted)    39.056    -95.675   \n",
       "10876    2007-04-30  Monarch Adult (FIRST sighted)    39.404    -94.521   \n",
       "10877    2007-04-30  Monarch Adult (FIRST sighted)    39.763    -86.400   \n",
       "10878    2007-04-30  Monarch Adult (FIRST sighted)    43.629    -96.591   \n",
       "10879    2007-04-30  Monarch Adult (FIRST sighted)    45.000    -84.660   \n",
       "\n",
       "       number  month  \n",
       "10875       1      4  \n",
       "10876       1      4  \n",
       "10877       1      4  \n",
       "10878       1      4  \n",
       "10879       1      4  "
      ]
     },
     "execution_count": 122,
     "metadata": {},
     "output_type": "execute_result"
    }
   ],
   "source": [
    "JNorth_Adult_First_Site_2007_month_df =pd.DataFrame(JNorth_Adult_First_Site_2007_df)\n",
    "JNorth_Adult_First_Site_2007_4_df = JNorth_Adult_First_Site_2007_month_df[JNorth_Adult_First_Site_2007_month_df['month']==4]\n",
    "JNorth_Adult_First_Site_2007_4_df.tail()"
   ]
  },
  {
   "cell_type": "code",
   "execution_count": 123,
   "id": "72615f10",
   "metadata": {},
   "outputs": [
    {
     "data": {
      "text/plain": [
       "(108, 6)"
      ]
     },
     "execution_count": 123,
     "metadata": {},
     "output_type": "execute_result"
    }
   ],
   "source": [
    "JNorth_Adult_First_Site_2007_4_df.shape"
   ]
  },
  {
   "cell_type": "code",
   "execution_count": 124,
   "id": "bffd7898",
   "metadata": {},
   "outputs": [],
   "source": [
    "JNorth_Adult_First_Site_2007_4_df = pd.DataFrame(JNorth_Adult_First_Site_2007_4_df)\n",
    "JNorth_Adult_First_Site_2007_4_df.drop(['month'], axis=1, inplace=True)"
   ]
  },
  {
   "cell_type": "code",
   "execution_count": 125,
   "id": "b3e14bfa",
   "metadata": {},
   "outputs": [],
   "source": [
    "# convert lat-long to floats and change address from ALL CAPS to regular capitalization\n",
    "JNorth_Adult_First_Site_2007_4_df['latitude'] = JNorth_Adult_First_Site_2007_4_df['latitude'].astype(float)\n",
    "JNorth_Adult_First_Site_2007_4_df['longitude'] = JNorth_Adult_First_Site_2007_4_df['longitude'].astype(float)\n",
    "# JNorth_Milkweed_Site_df['street_address'] = JNorth_Milkweed_Site_df['street_address'].str.title()"
   ]
  },
  {
   "cell_type": "code",
   "execution_count": 126,
   "id": "44604289",
   "metadata": {},
   "outputs": [],
   "source": [
    "geojson = df_to_geojson(JNorth_Adult_First_Site_2007_4_df, cols)"
   ]
  },
  {
   "cell_type": "code",
   "execution_count": 127,
   "id": "04f50b24",
   "metadata": {},
   "outputs": [],
   "source": [
    "file = open(\"JNorth_Adult_First_Site_2007_4.geojson\", \"w\")\n",
    "json.dump(geojson, file, indent =1)\n",
    "file.close()"
   ]
  },
  {
   "cell_type": "markdown",
   "id": "c4b4fad0",
   "metadata": {},
   "source": [
    "## May"
   ]
  },
  {
   "cell_type": "code",
   "execution_count": 128,
   "id": "6febcc70",
   "metadata": {},
   "outputs": [
    {
     "data": {
      "text/html": [
       "<div>\n",
       "<style scoped>\n",
       "    .dataframe tbody tr th:only-of-type {\n",
       "        vertical-align: middle;\n",
       "    }\n",
       "\n",
       "    .dataframe tbody tr th {\n",
       "        vertical-align: top;\n",
       "    }\n",
       "\n",
       "    .dataframe thead th {\n",
       "        text-align: right;\n",
       "    }\n",
       "</style>\n",
       "<table border=\"1\" class=\"dataframe\">\n",
       "  <thead>\n",
       "    <tr style=\"text-align: right;\">\n",
       "      <th></th>\n",
       "      <th>sighting_date</th>\n",
       "      <th>species</th>\n",
       "      <th>latitude</th>\n",
       "      <th>longitude</th>\n",
       "      <th>number</th>\n",
       "      <th>month</th>\n",
       "    </tr>\n",
       "  </thead>\n",
       "  <tbody>\n",
       "    <tr>\n",
       "      <th>11153</th>\n",
       "      <td>2007-05-31</td>\n",
       "      <td>Monarch Adult (FIRST sighted)</td>\n",
       "      <td>45.489</td>\n",
       "      <td>-77.680</td>\n",
       "      <td>1</td>\n",
       "      <td>5</td>\n",
       "    </tr>\n",
       "    <tr>\n",
       "      <th>11154</th>\n",
       "      <td>2007-05-31</td>\n",
       "      <td>Monarch Adult (FIRST sighted)</td>\n",
       "      <td>46.744</td>\n",
       "      <td>-71.456</td>\n",
       "      <td>1</td>\n",
       "      <td>5</td>\n",
       "    </tr>\n",
       "    <tr>\n",
       "      <th>11155</th>\n",
       "      <td>2007-05-31</td>\n",
       "      <td>Monarch Adult (FIRST sighted)</td>\n",
       "      <td>48.591</td>\n",
       "      <td>-85.281</td>\n",
       "      <td>1</td>\n",
       "      <td>5</td>\n",
       "    </tr>\n",
       "    <tr>\n",
       "      <th>11156</th>\n",
       "      <td>2007-05-31</td>\n",
       "      <td>Monarch Adult (FIRST sighted)</td>\n",
       "      <td>49.530</td>\n",
       "      <td>-97.085</td>\n",
       "      <td>1</td>\n",
       "      <td>5</td>\n",
       "    </tr>\n",
       "    <tr>\n",
       "      <th>11157</th>\n",
       "      <td>2007-05-31</td>\n",
       "      <td>Monarch Adult (FIRST sighted)</td>\n",
       "      <td>49.543</td>\n",
       "      <td>-97.054</td>\n",
       "      <td>1</td>\n",
       "      <td>5</td>\n",
       "    </tr>\n",
       "  </tbody>\n",
       "</table>\n",
       "</div>"
      ],
      "text/plain": [
       "      sighting_date                        species  latitude  longitude  \\\n",
       "11153    2007-05-31  Monarch Adult (FIRST sighted)    45.489    -77.680   \n",
       "11154    2007-05-31  Monarch Adult (FIRST sighted)    46.744    -71.456   \n",
       "11155    2007-05-31  Monarch Adult (FIRST sighted)    48.591    -85.281   \n",
       "11156    2007-05-31  Monarch Adult (FIRST sighted)    49.530    -97.085   \n",
       "11157    2007-05-31  Monarch Adult (FIRST sighted)    49.543    -97.054   \n",
       "\n",
       "       number  month  \n",
       "11153       1      5  \n",
       "11154       1      5  \n",
       "11155       1      5  \n",
       "11156       1      5  \n",
       "11157       1      5  "
      ]
     },
     "execution_count": 128,
     "metadata": {},
     "output_type": "execute_result"
    }
   ],
   "source": [
    "JNorth_Adult_First_Site_2007_month_df =pd.DataFrame(JNorth_Adult_First_Site_2007_df)\n",
    "JNorth_Adult_First_Site_2007_5_df = JNorth_Adult_First_Site_2007_month_df[JNorth_Adult_First_Site_2007_month_df['month']==5]\n",
    "JNorth_Adult_First_Site_2007_5_df.tail()"
   ]
  },
  {
   "cell_type": "code",
   "execution_count": 129,
   "id": "bc950b62",
   "metadata": {},
   "outputs": [
    {
     "data": {
      "text/plain": [
       "(278, 6)"
      ]
     },
     "execution_count": 129,
     "metadata": {},
     "output_type": "execute_result"
    }
   ],
   "source": [
    "JNorth_Adult_First_Site_2007_5_df.shape"
   ]
  },
  {
   "cell_type": "code",
   "execution_count": 130,
   "id": "a37e0b0f",
   "metadata": {},
   "outputs": [],
   "source": [
    "JNorth_Adult_First_Site_2007_5_df = pd.DataFrame(JNorth_Adult_First_Site_2007_5_df)\n",
    "JNorth_Adult_First_Site_2007_5_df.drop(['month'], axis=1, inplace=True)"
   ]
  },
  {
   "cell_type": "code",
   "execution_count": 131,
   "id": "8b0047b5",
   "metadata": {},
   "outputs": [],
   "source": [
    "# convert lat-long to floats and change address from ALL CAPS to regular capitalization\n",
    "JNorth_Adult_First_Site_2007_5_df['latitude'] = JNorth_Adult_First_Site_2007_5_df['latitude'].astype(float)\n",
    "JNorth_Adult_First_Site_2007_5_df['longitude'] = JNorth_Adult_First_Site_2007_5_df['longitude'].astype(float)\n",
    "# JNorth_Milkweed_Site_df['street_address'] = JNorth_Milkweed_Site_df['street_address'].str.title()"
   ]
  },
  {
   "cell_type": "code",
   "execution_count": 132,
   "id": "b3c214f4",
   "metadata": {},
   "outputs": [],
   "source": [
    "geojson = df_to_geojson(JNorth_Adult_First_Site_2007_5_df, cols)"
   ]
  },
  {
   "cell_type": "code",
   "execution_count": 133,
   "id": "d95a7a19",
   "metadata": {},
   "outputs": [],
   "source": [
    "file = open(\"JNorth_Adult_First_Site_2007_5.geojson\", \"w\")\n",
    "json.dump(geojson, file, indent =1)\n",
    "file.close()"
   ]
  },
  {
   "cell_type": "markdown",
   "id": "531966d4",
   "metadata": {},
   "source": [
    "## June"
   ]
  },
  {
   "cell_type": "code",
   "execution_count": 134,
   "id": "2305e35e",
   "metadata": {},
   "outputs": [
    {
     "data": {
      "text/html": [
       "<div>\n",
       "<style scoped>\n",
       "    .dataframe tbody tr th:only-of-type {\n",
       "        vertical-align: middle;\n",
       "    }\n",
       "\n",
       "    .dataframe tbody tr th {\n",
       "        vertical-align: top;\n",
       "    }\n",
       "\n",
       "    .dataframe thead th {\n",
       "        text-align: right;\n",
       "    }\n",
       "</style>\n",
       "<table border=\"1\" class=\"dataframe\">\n",
       "  <thead>\n",
       "    <tr style=\"text-align: right;\">\n",
       "      <th></th>\n",
       "      <th>sighting_date</th>\n",
       "      <th>species</th>\n",
       "      <th>latitude</th>\n",
       "      <th>longitude</th>\n",
       "      <th>number</th>\n",
       "      <th>month</th>\n",
       "    </tr>\n",
       "  </thead>\n",
       "  <tbody>\n",
       "    <tr>\n",
       "      <th>11303</th>\n",
       "      <td>2007-06-29</td>\n",
       "      <td>Monarch Adult (FIRST sighted)</td>\n",
       "      <td>42.201</td>\n",
       "      <td>-70.763</td>\n",
       "      <td>1</td>\n",
       "      <td>6</td>\n",
       "    </tr>\n",
       "    <tr>\n",
       "      <th>11304</th>\n",
       "      <td>2007-06-29</td>\n",
       "      <td>Monarch Adult (FIRST sighted)</td>\n",
       "      <td>45.971</td>\n",
       "      <td>-64.593</td>\n",
       "      <td>1</td>\n",
       "      <td>6</td>\n",
       "    </tr>\n",
       "    <tr>\n",
       "      <th>11305</th>\n",
       "      <td>2007-06-29</td>\n",
       "      <td>Monarch Adult (FIRST sighted)</td>\n",
       "      <td>50.922</td>\n",
       "      <td>-114.058</td>\n",
       "      <td>1</td>\n",
       "      <td>6</td>\n",
       "    </tr>\n",
       "    <tr>\n",
       "      <th>11306</th>\n",
       "      <td>2007-06-30</td>\n",
       "      <td>Monarch Adult (FIRST sighted)</td>\n",
       "      <td>44.500</td>\n",
       "      <td>-63.516</td>\n",
       "      <td>1</td>\n",
       "      <td>6</td>\n",
       "    </tr>\n",
       "    <tr>\n",
       "      <th>11307</th>\n",
       "      <td>2007-06-30</td>\n",
       "      <td>Monarch Adult (FIRST sighted)</td>\n",
       "      <td>45.351</td>\n",
       "      <td>-65.547</td>\n",
       "      <td>1</td>\n",
       "      <td>6</td>\n",
       "    </tr>\n",
       "  </tbody>\n",
       "</table>\n",
       "</div>"
      ],
      "text/plain": [
       "      sighting_date                        species  latitude  longitude  \\\n",
       "11303    2007-06-29  Monarch Adult (FIRST sighted)    42.201    -70.763   \n",
       "11304    2007-06-29  Monarch Adult (FIRST sighted)    45.971    -64.593   \n",
       "11305    2007-06-29  Monarch Adult (FIRST sighted)    50.922   -114.058   \n",
       "11306    2007-06-30  Monarch Adult (FIRST sighted)    44.500    -63.516   \n",
       "11307    2007-06-30  Monarch Adult (FIRST sighted)    45.351    -65.547   \n",
       "\n",
       "       number  month  \n",
       "11303       1      6  \n",
       "11304       1      6  \n",
       "11305       1      6  \n",
       "11306       1      6  \n",
       "11307       1      6  "
      ]
     },
     "execution_count": 134,
     "metadata": {},
     "output_type": "execute_result"
    }
   ],
   "source": [
    "JNorth_Adult_First_Site_2007_month_df =pd.DataFrame(JNorth_Adult_First_Site_2007_df)\n",
    "JNorth_Adult_First_Site_2007_6_df = JNorth_Adult_First_Site_2007_month_df[JNorth_Adult_First_Site_2007_month_df['month']==6]\n",
    "JNorth_Adult_First_Site_2007_6_df.tail()"
   ]
  },
  {
   "cell_type": "code",
   "execution_count": 135,
   "id": "bdf45121",
   "metadata": {},
   "outputs": [
    {
     "data": {
      "text/plain": [
       "(150, 6)"
      ]
     },
     "execution_count": 135,
     "metadata": {},
     "output_type": "execute_result"
    }
   ],
   "source": [
    "JNorth_Adult_First_Site_2007_6_df.shape"
   ]
  },
  {
   "cell_type": "code",
   "execution_count": 136,
   "id": "7ced5440",
   "metadata": {},
   "outputs": [],
   "source": [
    "JNorth_Adult_First_Site_2007_6_df = pd.DataFrame(JNorth_Adult_First_Site_2007_6_df)\n",
    "JNorth_Adult_First_Site_2007_6_df.drop(['month'], axis=1, inplace=True)"
   ]
  },
  {
   "cell_type": "code",
   "execution_count": 137,
   "id": "2d41d70d",
   "metadata": {},
   "outputs": [],
   "source": [
    "# convert lat-long to floats and change address from ALL CAPS to regular capitalization\n",
    "JNorth_Adult_First_Site_2007_6_df['latitude'] = JNorth_Adult_First_Site_2007_6_df['latitude'].astype(float)\n",
    "JNorth_Adult_First_Site_2007_6_df['longitude'] = JNorth_Adult_First_Site_2007_6_df['longitude'].astype(float)\n",
    "# JNorth_Milkweed_Site_df['street_address'] = JNorth_Milkweed_Site_df['street_address'].str.title()"
   ]
  },
  {
   "cell_type": "code",
   "execution_count": 138,
   "id": "a8475bb2",
   "metadata": {},
   "outputs": [],
   "source": [
    "geojson = df_to_geojson(JNorth_Adult_First_Site_2007_6_df, cols)"
   ]
  },
  {
   "cell_type": "code",
   "execution_count": 139,
   "id": "53caaeb5",
   "metadata": {},
   "outputs": [],
   "source": [
    "file = open(\"JNorth_Adult_First_Site_2007_6.geojson\", \"w\")\n",
    "json.dump(geojson, file, indent =1)\n",
    "file.close()"
   ]
  },
  {
   "cell_type": "markdown",
   "id": "73f9ebaa",
   "metadata": {},
   "source": [
    "## July"
   ]
  },
  {
   "cell_type": "code",
   "execution_count": 140,
   "id": "e7b8b673",
   "metadata": {},
   "outputs": [
    {
     "data": {
      "text/html": [
       "<div>\n",
       "<style scoped>\n",
       "    .dataframe tbody tr th:only-of-type {\n",
       "        vertical-align: middle;\n",
       "    }\n",
       "\n",
       "    .dataframe tbody tr th {\n",
       "        vertical-align: top;\n",
       "    }\n",
       "\n",
       "    .dataframe thead th {\n",
       "        text-align: right;\n",
       "    }\n",
       "</style>\n",
       "<table border=\"1\" class=\"dataframe\">\n",
       "  <thead>\n",
       "    <tr style=\"text-align: right;\">\n",
       "      <th></th>\n",
       "      <th>sighting_date</th>\n",
       "      <th>species</th>\n",
       "      <th>latitude</th>\n",
       "      <th>longitude</th>\n",
       "      <th>number</th>\n",
       "      <th>month</th>\n",
       "    </tr>\n",
       "  </thead>\n",
       "  <tbody>\n",
       "    <tr>\n",
       "      <th>11331</th>\n",
       "      <td>2007-07-28</td>\n",
       "      <td>Monarch Adult (FIRST sighted)</td>\n",
       "      <td>44.115</td>\n",
       "      <td>-79.566</td>\n",
       "      <td>1</td>\n",
       "      <td>7</td>\n",
       "    </tr>\n",
       "    <tr>\n",
       "      <th>11332</th>\n",
       "      <td>2007-07-28</td>\n",
       "      <td>Monarch Adult (FIRST sighted)</td>\n",
       "      <td>45.050</td>\n",
       "      <td>-64.220</td>\n",
       "      <td>1</td>\n",
       "      <td>7</td>\n",
       "    </tr>\n",
       "    <tr>\n",
       "      <th>11333</th>\n",
       "      <td>2007-07-29</td>\n",
       "      <td>Monarch Adult (FIRST sighted)</td>\n",
       "      <td>35.989</td>\n",
       "      <td>-75.654</td>\n",
       "      <td>1</td>\n",
       "      <td>7</td>\n",
       "    </tr>\n",
       "    <tr>\n",
       "      <th>11334</th>\n",
       "      <td>2007-07-29</td>\n",
       "      <td>Monarch Adult (FIRST sighted)</td>\n",
       "      <td>45.254</td>\n",
       "      <td>-81.665</td>\n",
       "      <td>1</td>\n",
       "      <td>7</td>\n",
       "    </tr>\n",
       "    <tr>\n",
       "      <th>11335</th>\n",
       "      <td>2007-07-30</td>\n",
       "      <td>Monarch Adult (FIRST sighted)</td>\n",
       "      <td>37.515</td>\n",
       "      <td>-92.749</td>\n",
       "      <td>1</td>\n",
       "      <td>7</td>\n",
       "    </tr>\n",
       "  </tbody>\n",
       "</table>\n",
       "</div>"
      ],
      "text/plain": [
       "      sighting_date                        species  latitude  longitude  \\\n",
       "11331    2007-07-28  Monarch Adult (FIRST sighted)    44.115    -79.566   \n",
       "11332    2007-07-28  Monarch Adult (FIRST sighted)    45.050    -64.220   \n",
       "11333    2007-07-29  Monarch Adult (FIRST sighted)    35.989    -75.654   \n",
       "11334    2007-07-29  Monarch Adult (FIRST sighted)    45.254    -81.665   \n",
       "11335    2007-07-30  Monarch Adult (FIRST sighted)    37.515    -92.749   \n",
       "\n",
       "       number  month  \n",
       "11331       1      7  \n",
       "11332       1      7  \n",
       "11333       1      7  \n",
       "11334       1      7  \n",
       "11335       1      7  "
      ]
     },
     "execution_count": 140,
     "metadata": {},
     "output_type": "execute_result"
    }
   ],
   "source": [
    "JNorth_Adult_First_Site_2007_month_df =pd.DataFrame(JNorth_Adult_First_Site_2007_df)\n",
    "JNorth_Adult_First_Site_2007_7_df = JNorth_Adult_First_Site_2007_month_df[JNorth_Adult_First_Site_2007_month_df['month']==7]\n",
    "JNorth_Adult_First_Site_2007_7_df.tail()"
   ]
  },
  {
   "cell_type": "code",
   "execution_count": 141,
   "id": "ee190c48",
   "metadata": {},
   "outputs": [
    {
     "data": {
      "text/plain": [
       "(28, 6)"
      ]
     },
     "execution_count": 141,
     "metadata": {},
     "output_type": "execute_result"
    }
   ],
   "source": [
    "JNorth_Adult_First_Site_2007_7_df.shape"
   ]
  },
  {
   "cell_type": "code",
   "execution_count": 142,
   "id": "adeaa0bf",
   "metadata": {},
   "outputs": [],
   "source": [
    "JNorth_Adult_First_Site_2007_7_df = pd.DataFrame(JNorth_Adult_First_Site_2007_7_df)\n",
    "JNorth_Adult_First_Site_2007_7_df.drop(['month'], axis=1, inplace=True)"
   ]
  },
  {
   "cell_type": "code",
   "execution_count": 143,
   "id": "f8d2ae21",
   "metadata": {},
   "outputs": [],
   "source": [
    "# convert lat-long to floats and change address from ALL CAPS to regular capitalization\n",
    "JNorth_Adult_First_Site_2007_7_df['latitude'] = JNorth_Adult_First_Site_2007_7_df['latitude'].astype(float)\n",
    "JNorth_Adult_First_Site_2007_7_df['longitude'] = JNorth_Adult_First_Site_2007_7_df['longitude'].astype(float)\n",
    "# JNorth_Milkweed_Site_df['street_address'] = JNorth_Milkweed_Site_df['street_address'].str.title()"
   ]
  },
  {
   "cell_type": "code",
   "execution_count": 144,
   "id": "bfd792b4",
   "metadata": {},
   "outputs": [],
   "source": [
    "geojson = df_to_geojson(JNorth_Adult_First_Site_2007_7_df, cols)"
   ]
  },
  {
   "cell_type": "code",
   "execution_count": 145,
   "id": "a0490618",
   "metadata": {},
   "outputs": [],
   "source": [
    "file = open(\"JNorth_Adult_First_Site_2007_7.geojson\", \"w\")\n",
    "json.dump(geojson, file, indent =1)\n",
    "file.close()"
   ]
  },
  {
   "cell_type": "markdown",
   "id": "3590d5cf",
   "metadata": {},
   "source": [
    "## August"
   ]
  },
  {
   "cell_type": "code",
   "execution_count": 146,
   "id": "e98788a8",
   "metadata": {},
   "outputs": [
    {
     "data": {
      "text/html": [
       "<div>\n",
       "<style scoped>\n",
       "    .dataframe tbody tr th:only-of-type {\n",
       "        vertical-align: middle;\n",
       "    }\n",
       "\n",
       "    .dataframe tbody tr th {\n",
       "        vertical-align: top;\n",
       "    }\n",
       "\n",
       "    .dataframe thead th {\n",
       "        text-align: right;\n",
       "    }\n",
       "</style>\n",
       "<table border=\"1\" class=\"dataframe\">\n",
       "  <thead>\n",
       "    <tr style=\"text-align: right;\">\n",
       "      <th></th>\n",
       "      <th>sighting_date</th>\n",
       "      <th>species</th>\n",
       "      <th>latitude</th>\n",
       "      <th>longitude</th>\n",
       "      <th>number</th>\n",
       "      <th>month</th>\n",
       "    </tr>\n",
       "  </thead>\n",
       "  <tbody>\n",
       "    <tr>\n",
       "      <th>11486</th>\n",
       "      <td>2007-08-31</td>\n",
       "      <td>Monarch Adult (FIRST sighted)</td>\n",
       "      <td>41.328</td>\n",
       "      <td>-74.911</td>\n",
       "      <td>1</td>\n",
       "      <td>8</td>\n",
       "    </tr>\n",
       "    <tr>\n",
       "      <th>11487</th>\n",
       "      <td>2007-08-31</td>\n",
       "      <td>Monarch Adult (FIRST sighted)</td>\n",
       "      <td>41.402</td>\n",
       "      <td>-81.827</td>\n",
       "      <td>1</td>\n",
       "      <td>8</td>\n",
       "    </tr>\n",
       "    <tr>\n",
       "      <th>11488</th>\n",
       "      <td>2007-08-31</td>\n",
       "      <td>Monarch Adult (FIRST sighted)</td>\n",
       "      <td>42.336</td>\n",
       "      <td>-72.672</td>\n",
       "      <td>1</td>\n",
       "      <td>8</td>\n",
       "    </tr>\n",
       "    <tr>\n",
       "      <th>11489</th>\n",
       "      <td>2007-08-31</td>\n",
       "      <td>Monarch Adult (FIRST sighted)</td>\n",
       "      <td>42.896</td>\n",
       "      <td>-78.885</td>\n",
       "      <td>1</td>\n",
       "      <td>8</td>\n",
       "    </tr>\n",
       "    <tr>\n",
       "      <th>11490</th>\n",
       "      <td>2007-08-31</td>\n",
       "      <td>Monarch Adult (FIRST sighted)</td>\n",
       "      <td>43.801</td>\n",
       "      <td>-91.239</td>\n",
       "      <td>1</td>\n",
       "      <td>8</td>\n",
       "    </tr>\n",
       "  </tbody>\n",
       "</table>\n",
       "</div>"
      ],
      "text/plain": [
       "      sighting_date                        species  latitude  longitude  \\\n",
       "11486    2007-08-31  Monarch Adult (FIRST sighted)    41.328    -74.911   \n",
       "11487    2007-08-31  Monarch Adult (FIRST sighted)    41.402    -81.827   \n",
       "11488    2007-08-31  Monarch Adult (FIRST sighted)    42.336    -72.672   \n",
       "11489    2007-08-31  Monarch Adult (FIRST sighted)    42.896    -78.885   \n",
       "11490    2007-08-31  Monarch Adult (FIRST sighted)    43.801    -91.239   \n",
       "\n",
       "       number  month  \n",
       "11486       1      8  \n",
       "11487       1      8  \n",
       "11488       1      8  \n",
       "11489       1      8  \n",
       "11490       1      8  "
      ]
     },
     "execution_count": 146,
     "metadata": {},
     "output_type": "execute_result"
    }
   ],
   "source": [
    "JNorth_Adult_First_Site_2007_month_df =pd.DataFrame(JNorth_Adult_First_Site_2007_df)\n",
    "JNorth_Adult_First_Site_2007_8_df = JNorth_Adult_First_Site_2007_month_df[JNorth_Adult_First_Site_2007_month_df['month']==8]\n",
    "JNorth_Adult_First_Site_2007_8_df.tail()"
   ]
  },
  {
   "cell_type": "code",
   "execution_count": 147,
   "id": "4dbf852f",
   "metadata": {},
   "outputs": [
    {
     "data": {
      "text/plain": [
       "(155, 6)"
      ]
     },
     "execution_count": 147,
     "metadata": {},
     "output_type": "execute_result"
    }
   ],
   "source": [
    "JNorth_Adult_First_Site_2007_8_df.shape"
   ]
  },
  {
   "cell_type": "code",
   "execution_count": 148,
   "id": "db805f73",
   "metadata": {},
   "outputs": [],
   "source": [
    "JNorth_Adult_First_Site_2007_8_df = pd.DataFrame(JNorth_Adult_First_Site_2007_8_df)\n",
    "JNorth_Adult_First_Site_2007_8_df.drop(['month'], axis=1, inplace=True)"
   ]
  },
  {
   "cell_type": "code",
   "execution_count": 149,
   "id": "65824356",
   "metadata": {},
   "outputs": [],
   "source": [
    "# convert lat-long to floats and change address from ALL CAPS to regular capitalization\n",
    "JNorth_Adult_First_Site_2007_8_df['latitude'] = JNorth_Adult_First_Site_2007_8_df['latitude'].astype(float)\n",
    "JNorth_Adult_First_Site_2007_8_df['longitude'] = JNorth_Adult_First_Site_2007_8_df['longitude'].astype(float)\n",
    "# JNorth_Milkweed_Site_df['street_address'] = JNorth_Milkweed_Site_df['street_address'].str.title()"
   ]
  },
  {
   "cell_type": "code",
   "execution_count": 150,
   "id": "ddc40b63",
   "metadata": {},
   "outputs": [],
   "source": [
    "geojson = df_to_geojson(JNorth_Adult_First_Site_2007_8_df, cols)"
   ]
  },
  {
   "cell_type": "code",
   "execution_count": 151,
   "id": "edee7b1c",
   "metadata": {},
   "outputs": [],
   "source": [
    "file = open(\"JNorth_Adult_First_Site_2007_8.geojson\", \"w\")\n",
    "json.dump(geojson, file, indent =1)\n",
    "file.close()"
   ]
  },
  {
   "cell_type": "markdown",
   "id": "726dda22",
   "metadata": {},
   "source": [
    "## September"
   ]
  },
  {
   "cell_type": "code",
   "execution_count": 152,
   "id": "b54dd953",
   "metadata": {},
   "outputs": [
    {
     "data": {
      "text/html": [
       "<div>\n",
       "<style scoped>\n",
       "    .dataframe tbody tr th:only-of-type {\n",
       "        vertical-align: middle;\n",
       "    }\n",
       "\n",
       "    .dataframe tbody tr th {\n",
       "        vertical-align: top;\n",
       "    }\n",
       "\n",
       "    .dataframe thead th {\n",
       "        text-align: right;\n",
       "    }\n",
       "</style>\n",
       "<table border=\"1\" class=\"dataframe\">\n",
       "  <thead>\n",
       "    <tr style=\"text-align: right;\">\n",
       "      <th></th>\n",
       "      <th>sighting_date</th>\n",
       "      <th>species</th>\n",
       "      <th>latitude</th>\n",
       "      <th>longitude</th>\n",
       "      <th>number</th>\n",
       "      <th>month</th>\n",
       "    </tr>\n",
       "  </thead>\n",
       "  <tbody>\n",
       "    <tr>\n",
       "      <th>11904</th>\n",
       "      <td>2007-09-30</td>\n",
       "      <td>Monarch Adult (FIRST sighted)</td>\n",
       "      <td>38.573</td>\n",
       "      <td>-90.652</td>\n",
       "      <td>1</td>\n",
       "      <td>9</td>\n",
       "    </tr>\n",
       "    <tr>\n",
       "      <th>11905</th>\n",
       "      <td>2007-09-30</td>\n",
       "      <td>Monarch Adult (FIRST sighted)</td>\n",
       "      <td>39.600</td>\n",
       "      <td>-74.212</td>\n",
       "      <td>1</td>\n",
       "      <td>9</td>\n",
       "    </tr>\n",
       "    <tr>\n",
       "      <th>11906</th>\n",
       "      <td>2007-09-30</td>\n",
       "      <td>Monarch Adult (FIRST sighted)</td>\n",
       "      <td>42.335</td>\n",
       "      <td>-71.042</td>\n",
       "      <td>1</td>\n",
       "      <td>9</td>\n",
       "    </tr>\n",
       "    <tr>\n",
       "      <th>11907</th>\n",
       "      <td>2007-09-30</td>\n",
       "      <td>Monarch Adult (FIRST sighted)</td>\n",
       "      <td>43.900</td>\n",
       "      <td>-78.850</td>\n",
       "      <td>1</td>\n",
       "      <td>9</td>\n",
       "    </tr>\n",
       "    <tr>\n",
       "      <th>11908</th>\n",
       "      <td>2007-09-30</td>\n",
       "      <td>Monarch Adult (FIRST sighted)</td>\n",
       "      <td>52.117</td>\n",
       "      <td>-106.633</td>\n",
       "      <td>1</td>\n",
       "      <td>9</td>\n",
       "    </tr>\n",
       "  </tbody>\n",
       "</table>\n",
       "</div>"
      ],
      "text/plain": [
       "      sighting_date                        species  latitude  longitude  \\\n",
       "11904    2007-09-30  Monarch Adult (FIRST sighted)    38.573    -90.652   \n",
       "11905    2007-09-30  Monarch Adult (FIRST sighted)    39.600    -74.212   \n",
       "11906    2007-09-30  Monarch Adult (FIRST sighted)    42.335    -71.042   \n",
       "11907    2007-09-30  Monarch Adult (FIRST sighted)    43.900    -78.850   \n",
       "11908    2007-09-30  Monarch Adult (FIRST sighted)    52.117   -106.633   \n",
       "\n",
       "       number  month  \n",
       "11904       1      9  \n",
       "11905       1      9  \n",
       "11906       1      9  \n",
       "11907       1      9  \n",
       "11908       1      9  "
      ]
     },
     "execution_count": 152,
     "metadata": {},
     "output_type": "execute_result"
    }
   ],
   "source": [
    "JNorth_Adult_First_Site_2007_month_df =pd.DataFrame(JNorth_Adult_First_Site_2007_df)\n",
    "JNorth_Adult_First_Site_2007_9_df = JNorth_Adult_First_Site_2007_month_df[JNorth_Adult_First_Site_2007_month_df['month']==9]\n",
    "JNorth_Adult_First_Site_2007_9_df.tail()"
   ]
  },
  {
   "cell_type": "code",
   "execution_count": 153,
   "id": "c027d5c8",
   "metadata": {},
   "outputs": [
    {
     "data": {
      "text/plain": [
       "(418, 6)"
      ]
     },
     "execution_count": 153,
     "metadata": {},
     "output_type": "execute_result"
    }
   ],
   "source": [
    "JNorth_Adult_First_Site_2007_9_df.shape"
   ]
  },
  {
   "cell_type": "code",
   "execution_count": 154,
   "id": "699bf4e7",
   "metadata": {},
   "outputs": [],
   "source": [
    "JNorth_Adult_First_Site_2007_9_df = pd.DataFrame(JNorth_Adult_First_Site_2007_9_df)\n",
    "JNorth_Adult_First_Site_2007_9_df.drop(['month'], axis=1, inplace=True)"
   ]
  },
  {
   "cell_type": "code",
   "execution_count": 155,
   "id": "30872f1f",
   "metadata": {},
   "outputs": [],
   "source": [
    "# convert lat-long to floats and change address from ALL CAPS to regular capitalization\n",
    "JNorth_Adult_First_Site_2007_9_df['latitude'] = JNorth_Adult_First_Site_2007_9_df['latitude'].astype(float)\n",
    "JNorth_Adult_First_Site_2007_9_df['longitude'] = JNorth_Adult_First_Site_2007_9_df['longitude'].astype(float)\n",
    "# JNorth_Milkweed_Site_df['street_address'] = JNorth_Milkweed_Site_df['street_address'].str.title()"
   ]
  },
  {
   "cell_type": "code",
   "execution_count": 156,
   "id": "eda7a817",
   "metadata": {},
   "outputs": [],
   "source": [
    "geojson = df_to_geojson(JNorth_Adult_First_Site_2007_9_df, cols)"
   ]
  },
  {
   "cell_type": "code",
   "execution_count": 157,
   "id": "ad33e04b",
   "metadata": {},
   "outputs": [],
   "source": [
    "file = open(\"JNorth_Adult_First_Site_2007_9.geojson\", \"w\")\n",
    "json.dump(geojson, file, indent =1)\n",
    "file.close()"
   ]
  },
  {
   "cell_type": "markdown",
   "id": "84b1fe82",
   "metadata": {},
   "source": [
    "## October"
   ]
  },
  {
   "cell_type": "code",
   "execution_count": 158,
   "id": "a9395579",
   "metadata": {},
   "outputs": [
    {
     "data": {
      "text/html": [
       "<div>\n",
       "<style scoped>\n",
       "    .dataframe tbody tr th:only-of-type {\n",
       "        vertical-align: middle;\n",
       "    }\n",
       "\n",
       "    .dataframe tbody tr th {\n",
       "        vertical-align: top;\n",
       "    }\n",
       "\n",
       "    .dataframe thead th {\n",
       "        text-align: right;\n",
       "    }\n",
       "</style>\n",
       "<table border=\"1\" class=\"dataframe\">\n",
       "  <thead>\n",
       "    <tr style=\"text-align: right;\">\n",
       "      <th></th>\n",
       "      <th>sighting_date</th>\n",
       "      <th>species</th>\n",
       "      <th>latitude</th>\n",
       "      <th>longitude</th>\n",
       "      <th>number</th>\n",
       "      <th>month</th>\n",
       "    </tr>\n",
       "  </thead>\n",
       "  <tbody>\n",
       "    <tr>\n",
       "      <th>12362</th>\n",
       "      <td>2007-10-31</td>\n",
       "      <td>Monarch Adult (FIRST sighted)</td>\n",
       "      <td>25.420</td>\n",
       "      <td>-101.000</td>\n",
       "      <td>1</td>\n",
       "      <td>10</td>\n",
       "    </tr>\n",
       "    <tr>\n",
       "      <th>12363</th>\n",
       "      <td>2007-10-31</td>\n",
       "      <td>Monarch Adult (FIRST sighted)</td>\n",
       "      <td>28.529</td>\n",
       "      <td>-96.679</td>\n",
       "      <td>1</td>\n",
       "      <td>10</td>\n",
       "    </tr>\n",
       "    <tr>\n",
       "      <th>12364</th>\n",
       "      <td>2007-10-31</td>\n",
       "      <td>Monarch Adult (FIRST sighted)</td>\n",
       "      <td>29.742</td>\n",
       "      <td>-95.744</td>\n",
       "      <td>1</td>\n",
       "      <td>10</td>\n",
       "    </tr>\n",
       "    <tr>\n",
       "      <th>12365</th>\n",
       "      <td>2007-10-31</td>\n",
       "      <td>Monarch Adult (FIRST sighted)</td>\n",
       "      <td>37.667</td>\n",
       "      <td>-75.697</td>\n",
       "      <td>1</td>\n",
       "      <td>10</td>\n",
       "    </tr>\n",
       "    <tr>\n",
       "      <th>12366</th>\n",
       "      <td>2007-10-31</td>\n",
       "      <td>Monarch Adult (FIRST sighted)</td>\n",
       "      <td>42.172</td>\n",
       "      <td>-74.988</td>\n",
       "      <td>1</td>\n",
       "      <td>10</td>\n",
       "    </tr>\n",
       "  </tbody>\n",
       "</table>\n",
       "</div>"
      ],
      "text/plain": [
       "      sighting_date                        species  latitude  longitude  \\\n",
       "12362    2007-10-31  Monarch Adult (FIRST sighted)    25.420   -101.000   \n",
       "12363    2007-10-31  Monarch Adult (FIRST sighted)    28.529    -96.679   \n",
       "12364    2007-10-31  Monarch Adult (FIRST sighted)    29.742    -95.744   \n",
       "12365    2007-10-31  Monarch Adult (FIRST sighted)    37.667    -75.697   \n",
       "12366    2007-10-31  Monarch Adult (FIRST sighted)    42.172    -74.988   \n",
       "\n",
       "       number  month  \n",
       "12362       1     10  \n",
       "12363       1     10  \n",
       "12364       1     10  \n",
       "12365       1     10  \n",
       "12366       1     10  "
      ]
     },
     "execution_count": 158,
     "metadata": {},
     "output_type": "execute_result"
    }
   ],
   "source": [
    "JNorth_Adult_First_Site_2007_month_df =pd.DataFrame(JNorth_Adult_First_Site_2007_df)\n",
    "JNorth_Adult_First_Site_2007_10_df = JNorth_Adult_First_Site_2007_month_df[JNorth_Adult_First_Site_2007_month_df['month']==10]\n",
    "JNorth_Adult_First_Site_2007_10_df.tail()"
   ]
  },
  {
   "cell_type": "code",
   "execution_count": 159,
   "id": "470beeb5",
   "metadata": {},
   "outputs": [
    {
     "data": {
      "text/plain": [
       "(458, 6)"
      ]
     },
     "execution_count": 159,
     "metadata": {},
     "output_type": "execute_result"
    }
   ],
   "source": [
    "JNorth_Adult_First_Site_2007_10_df.shape"
   ]
  },
  {
   "cell_type": "code",
   "execution_count": 160,
   "id": "1e733e58",
   "metadata": {},
   "outputs": [],
   "source": [
    "JNorth_Adult_First_Site_2007_10_df = pd.DataFrame(JNorth_Adult_First_Site_2007_10_df)\n",
    "JNorth_Adult_First_Site_2007_10_df.drop(['month'], axis=1, inplace=True)"
   ]
  },
  {
   "cell_type": "code",
   "execution_count": 161,
   "id": "06aff208",
   "metadata": {},
   "outputs": [],
   "source": [
    "# convert lat-long to floats and change address from ALL CAPS to regular capitalization\n",
    "JNorth_Adult_First_Site_2007_10_df['latitude'] = JNorth_Adult_First_Site_2007_10_df['latitude'].astype(float)\n",
    "JNorth_Adult_First_Site_2007_10_df['longitude'] = JNorth_Adult_First_Site_2007_10_df['longitude'].astype(float)\n",
    "# JNorth_Milkweed_Site_df['street_address'] = JNorth_Milkweed_Site_df['street_address'].str.title()"
   ]
  },
  {
   "cell_type": "code",
   "execution_count": 162,
   "id": "421e78f4",
   "metadata": {},
   "outputs": [],
   "source": [
    "geojson = df_to_geojson(JNorth_Adult_First_Site_2007_10_df, cols)"
   ]
  },
  {
   "cell_type": "code",
   "execution_count": 163,
   "id": "9017caac",
   "metadata": {},
   "outputs": [],
   "source": [
    "file = open(\"JNorth_Adult_First_Site_2007_10.geojson\", \"w\")\n",
    "json.dump(geojson, file, indent =1)\n",
    "file.close()"
   ]
  },
  {
   "cell_type": "markdown",
   "id": "3be99959",
   "metadata": {},
   "source": [
    "## November"
   ]
  },
  {
   "cell_type": "code",
   "execution_count": 164,
   "id": "f012960d",
   "metadata": {},
   "outputs": [
    {
     "data": {
      "text/html": [
       "<div>\n",
       "<style scoped>\n",
       "    .dataframe tbody tr th:only-of-type {\n",
       "        vertical-align: middle;\n",
       "    }\n",
       "\n",
       "    .dataframe tbody tr th {\n",
       "        vertical-align: top;\n",
       "    }\n",
       "\n",
       "    .dataframe thead th {\n",
       "        text-align: right;\n",
       "    }\n",
       "</style>\n",
       "<table border=\"1\" class=\"dataframe\">\n",
       "  <thead>\n",
       "    <tr style=\"text-align: right;\">\n",
       "      <th></th>\n",
       "      <th>sighting_date</th>\n",
       "      <th>species</th>\n",
       "      <th>latitude</th>\n",
       "      <th>longitude</th>\n",
       "      <th>number</th>\n",
       "      <th>month</th>\n",
       "    </tr>\n",
       "  </thead>\n",
       "  <tbody>\n",
       "    <tr>\n",
       "      <th>12380</th>\n",
       "      <td>2007-11-11</td>\n",
       "      <td>Monarch Adult (FIRST sighted)</td>\n",
       "      <td>37.459</td>\n",
       "      <td>-118.407</td>\n",
       "      <td>1</td>\n",
       "      <td>11</td>\n",
       "    </tr>\n",
       "    <tr>\n",
       "      <th>12381</th>\n",
       "      <td>2007-11-12</td>\n",
       "      <td>Monarch Adult (FIRST sighted)</td>\n",
       "      <td>29.469</td>\n",
       "      <td>-98.528</td>\n",
       "      <td>1</td>\n",
       "      <td>11</td>\n",
       "    </tr>\n",
       "    <tr>\n",
       "      <th>12382</th>\n",
       "      <td>2007-11-14</td>\n",
       "      <td>Monarch Adult (FIRST sighted)</td>\n",
       "      <td>36.918</td>\n",
       "      <td>-117.857</td>\n",
       "      <td>1</td>\n",
       "      <td>11</td>\n",
       "    </tr>\n",
       "    <tr>\n",
       "      <th>12383</th>\n",
       "      <td>2007-11-15</td>\n",
       "      <td>Monarch Adult (FIRST sighted)</td>\n",
       "      <td>37.459</td>\n",
       "      <td>-118.407</td>\n",
       "      <td>1</td>\n",
       "      <td>11</td>\n",
       "    </tr>\n",
       "    <tr>\n",
       "      <th>12384</th>\n",
       "      <td>2007-11-20</td>\n",
       "      <td>Monarch Adult (FIRST sighted)</td>\n",
       "      <td>36.918</td>\n",
       "      <td>-117.857</td>\n",
       "      <td>1</td>\n",
       "      <td>11</td>\n",
       "    </tr>\n",
       "  </tbody>\n",
       "</table>\n",
       "</div>"
      ],
      "text/plain": [
       "      sighting_date                        species  latitude  longitude  \\\n",
       "12380    2007-11-11  Monarch Adult (FIRST sighted)    37.459   -118.407   \n",
       "12381    2007-11-12  Monarch Adult (FIRST sighted)    29.469    -98.528   \n",
       "12382    2007-11-14  Monarch Adult (FIRST sighted)    36.918   -117.857   \n",
       "12383    2007-11-15  Monarch Adult (FIRST sighted)    37.459   -118.407   \n",
       "12384    2007-11-20  Monarch Adult (FIRST sighted)    36.918   -117.857   \n",
       "\n",
       "       number  month  \n",
       "12380       1     11  \n",
       "12381       1     11  \n",
       "12382       1     11  \n",
       "12383       1     11  \n",
       "12384       1     11  "
      ]
     },
     "execution_count": 164,
     "metadata": {},
     "output_type": "execute_result"
    }
   ],
   "source": [
    "JNorth_Adult_First_Site_2007_month_df =pd.DataFrame(JNorth_Adult_First_Site_2007_df)\n",
    "JNorth_Adult_First_Site_2007_11_df = JNorth_Adult_First_Site_2007_month_df[JNorth_Adult_First_Site_2007_month_df['month']==11]\n",
    "JNorth_Adult_First_Site_2007_11_df.tail()"
   ]
  },
  {
   "cell_type": "code",
   "execution_count": 165,
   "id": "c828e53a",
   "metadata": {},
   "outputs": [
    {
     "data": {
      "text/plain": [
       "(18, 6)"
      ]
     },
     "execution_count": 165,
     "metadata": {},
     "output_type": "execute_result"
    }
   ],
   "source": [
    "JNorth_Adult_First_Site_2007_11_df.shape"
   ]
  },
  {
   "cell_type": "code",
   "execution_count": 166,
   "id": "ebbf1625",
   "metadata": {},
   "outputs": [],
   "source": [
    "JNorth_Adult_First_Site_2007_11_df = pd.DataFrame(JNorth_Adult_First_Site_2007_11_df)\n",
    "JNorth_Adult_First_Site_2007_11_df.drop(['month'], axis=1, inplace=True)"
   ]
  },
  {
   "cell_type": "code",
   "execution_count": 167,
   "id": "06217fbf",
   "metadata": {},
   "outputs": [],
   "source": [
    "# convert lat-long to floats and change address from ALL CAPS to regular capitalization\n",
    "JNorth_Adult_First_Site_2007_11_df['latitude'] = JNorth_Adult_First_Site_2007_11_df['latitude'].astype(float)\n",
    "JNorth_Adult_First_Site_2007_11_df['longitude'] = JNorth_Adult_First_Site_2007_11_df['longitude'].astype(float)\n",
    "# JNorth_Milkweed_Site_df['street_address'] = JNorth_Milkweed_Site_df['street_address'].str.title()"
   ]
  },
  {
   "cell_type": "code",
   "execution_count": 168,
   "id": "ea9ffa88",
   "metadata": {},
   "outputs": [],
   "source": [
    "geojson = df_to_geojson(JNorth_Adult_First_Site_2007_11_df, cols)"
   ]
  },
  {
   "cell_type": "code",
   "execution_count": 169,
   "id": "408ccc08",
   "metadata": {},
   "outputs": [],
   "source": [
    "file = open(\"JNorth_Adult_First_Site_2007_11.geojson\", \"w\")\n",
    "json.dump(geojson, file, indent =1)\n",
    "file.close()"
   ]
  },
  {
   "cell_type": "markdown",
   "id": "e8664d64",
   "metadata": {},
   "source": [
    "## December"
   ]
  },
  {
   "cell_type": "code",
   "execution_count": 170,
   "id": "17680c20",
   "metadata": {},
   "outputs": [
    {
     "data": {
      "text/html": [
       "<div>\n",
       "<style scoped>\n",
       "    .dataframe tbody tr th:only-of-type {\n",
       "        vertical-align: middle;\n",
       "    }\n",
       "\n",
       "    .dataframe tbody tr th {\n",
       "        vertical-align: top;\n",
       "    }\n",
       "\n",
       "    .dataframe thead th {\n",
       "        text-align: right;\n",
       "    }\n",
       "</style>\n",
       "<table border=\"1\" class=\"dataframe\">\n",
       "  <thead>\n",
       "    <tr style=\"text-align: right;\">\n",
       "      <th></th>\n",
       "      <th>sighting_date</th>\n",
       "      <th>species</th>\n",
       "      <th>latitude</th>\n",
       "      <th>longitude</th>\n",
       "      <th>number</th>\n",
       "      <th>month</th>\n",
       "    </tr>\n",
       "  </thead>\n",
       "  <tbody>\n",
       "    <tr>\n",
       "      <th>12385</th>\n",
       "      <td>2007-12-02</td>\n",
       "      <td>Monarch Adult (FIRST sighted)</td>\n",
       "      <td>39.358</td>\n",
       "      <td>-87.407</td>\n",
       "      <td>1</td>\n",
       "      <td>12</td>\n",
       "    </tr>\n",
       "    <tr>\n",
       "      <th>12386</th>\n",
       "      <td>2007-12-08</td>\n",
       "      <td>Monarch Adult (FIRST sighted)</td>\n",
       "      <td>33.816</td>\n",
       "      <td>-117.823</td>\n",
       "      <td>1</td>\n",
       "      <td>12</td>\n",
       "    </tr>\n",
       "    <tr>\n",
       "      <th>12387</th>\n",
       "      <td>2007-12-14</td>\n",
       "      <td>Monarch Adult (FIRST sighted)</td>\n",
       "      <td>33.572</td>\n",
       "      <td>-112.246</td>\n",
       "      <td>1</td>\n",
       "      <td>12</td>\n",
       "    </tr>\n",
       "    <tr>\n",
       "      <th>12388</th>\n",
       "      <td>2007-12-26</td>\n",
       "      <td>Monarch Adult (FIRST sighted)</td>\n",
       "      <td>19.620</td>\n",
       "      <td>-100.285</td>\n",
       "      <td>1</td>\n",
       "      <td>12</td>\n",
       "    </tr>\n",
       "    <tr>\n",
       "      <th>12389</th>\n",
       "      <td>2007-12-30</td>\n",
       "      <td>Monarch Adult (FIRST sighted)</td>\n",
       "      <td>36.217</td>\n",
       "      <td>-115.148</td>\n",
       "      <td>1</td>\n",
       "      <td>12</td>\n",
       "    </tr>\n",
       "  </tbody>\n",
       "</table>\n",
       "</div>"
      ],
      "text/plain": [
       "      sighting_date                        species  latitude  longitude  \\\n",
       "12385    2007-12-02  Monarch Adult (FIRST sighted)    39.358    -87.407   \n",
       "12386    2007-12-08  Monarch Adult (FIRST sighted)    33.816   -117.823   \n",
       "12387    2007-12-14  Monarch Adult (FIRST sighted)    33.572   -112.246   \n",
       "12388    2007-12-26  Monarch Adult (FIRST sighted)    19.620   -100.285   \n",
       "12389    2007-12-30  Monarch Adult (FIRST sighted)    36.217   -115.148   \n",
       "\n",
       "       number  month  \n",
       "12385       1     12  \n",
       "12386       1     12  \n",
       "12387       1     12  \n",
       "12388       1     12  \n",
       "12389       1     12  "
      ]
     },
     "execution_count": 170,
     "metadata": {},
     "output_type": "execute_result"
    }
   ],
   "source": [
    "JNorth_Adult_First_Site_2007_month_df =pd.DataFrame(JNorth_Adult_First_Site_2007_df)\n",
    "JNorth_Adult_First_Site_2007_12_df = JNorth_Adult_First_Site_2007_month_df[JNorth_Adult_First_Site_2007_month_df['month']==12]\n",
    "JNorth_Adult_First_Site_2007_12_df.tail()"
   ]
  },
  {
   "cell_type": "code",
   "execution_count": 171,
   "id": "b3f57221",
   "metadata": {},
   "outputs": [
    {
     "data": {
      "text/plain": [
       "(5, 6)"
      ]
     },
     "execution_count": 171,
     "metadata": {},
     "output_type": "execute_result"
    }
   ],
   "source": [
    "JNorth_Adult_First_Site_2007_12_df.shape"
   ]
  },
  {
   "cell_type": "code",
   "execution_count": 172,
   "id": "13478dd2",
   "metadata": {},
   "outputs": [],
   "source": [
    "JNorth_Adult_First_Site_2007_12_df = pd.DataFrame(JNorth_Adult_First_Site_2007_12_df)\n",
    "JNorth_Adult_First_Site_2007_12_df.drop(['month'], axis=1, inplace=True)"
   ]
  },
  {
   "cell_type": "code",
   "execution_count": 173,
   "id": "53a7627c",
   "metadata": {},
   "outputs": [],
   "source": [
    "# convert lat-long to floats and change address from ALL CAPS to regular capitalization\n",
    "JNorth_Adult_First_Site_2007_12_df['latitude'] = JNorth_Adult_First_Site_2007_12_df['latitude'].astype(float)\n",
    "JNorth_Adult_First_Site_2007_12_df['longitude'] = JNorth_Adult_First_Site_2007_12_df['longitude'].astype(float)\n",
    "# JNorth_Milkweed_Site_df['street_address'] = JNorth_Milkweed_Site_df['street_address'].str.title()"
   ]
  },
  {
   "cell_type": "code",
   "execution_count": 174,
   "id": "cc835fba",
   "metadata": {},
   "outputs": [],
   "source": [
    "geojson = df_to_geojson(JNorth_Adult_First_Site_2007_12_df, cols)"
   ]
  },
  {
   "cell_type": "code",
   "execution_count": 175,
   "id": "c122edf2",
   "metadata": {},
   "outputs": [],
   "source": [
    "file = open(\"JNorth_Adult_First_Site_2007_12.geojson\", \"w\")\n",
    "json.dump(geojson, file, indent =1)\n",
    "file.close()"
   ]
  },
  {
   "cell_type": "markdown",
   "id": "b5c76616",
   "metadata": {},
   "source": [
    "# 2008"
   ]
  },
  {
   "cell_type": "code",
   "execution_count": 176,
   "id": "e96b6a71",
   "metadata": {},
   "outputs": [
    {
     "data": {
      "text/html": [
       "<div>\n",
       "<style scoped>\n",
       "    .dataframe tbody tr th:only-of-type {\n",
       "        vertical-align: middle;\n",
       "    }\n",
       "\n",
       "    .dataframe tbody tr th {\n",
       "        vertical-align: top;\n",
       "    }\n",
       "\n",
       "    .dataframe thead th {\n",
       "        text-align: right;\n",
       "    }\n",
       "</style>\n",
       "<table border=\"1\" class=\"dataframe\">\n",
       "  <thead>\n",
       "    <tr style=\"text-align: right;\">\n",
       "      <th></th>\n",
       "      <th>sighting_date</th>\n",
       "      <th>species</th>\n",
       "      <th>latitude</th>\n",
       "      <th>longitude</th>\n",
       "      <th>number</th>\n",
       "      <th>year</th>\n",
       "    </tr>\n",
       "  </thead>\n",
       "  <tbody>\n",
       "    <tr>\n",
       "      <th>14060</th>\n",
       "      <td>2008-11-16</td>\n",
       "      <td>Monarch Adult (FIRST sighted)</td>\n",
       "      <td>34.238</td>\n",
       "      <td>-118.549</td>\n",
       "      <td>1</td>\n",
       "      <td>2008</td>\n",
       "    </tr>\n",
       "    <tr>\n",
       "      <th>14061</th>\n",
       "      <td>2008-11-18</td>\n",
       "      <td>Monarch Adult (FIRST sighted)</td>\n",
       "      <td>30.061</td>\n",
       "      <td>-95.384</td>\n",
       "      <td>1</td>\n",
       "      <td>2008</td>\n",
       "    </tr>\n",
       "    <tr>\n",
       "      <th>14062</th>\n",
       "      <td>2008-11-19</td>\n",
       "      <td>Monarch Adult (FIRST sighted)</td>\n",
       "      <td>34.501</td>\n",
       "      <td>-118.059</td>\n",
       "      <td>1</td>\n",
       "      <td>2008</td>\n",
       "    </tr>\n",
       "    <tr>\n",
       "      <th>14063</th>\n",
       "      <td>2008-12-07</td>\n",
       "      <td>Monarch Adult (FIRST sighted)</td>\n",
       "      <td>29.757</td>\n",
       "      <td>-95.365</td>\n",
       "      <td>1</td>\n",
       "      <td>2008</td>\n",
       "    </tr>\n",
       "    <tr>\n",
       "      <th>14064</th>\n",
       "      <td>2008-12-14</td>\n",
       "      <td>Monarch Adult (FIRST sighted)</td>\n",
       "      <td>30.230</td>\n",
       "      <td>-97.714</td>\n",
       "      <td>1</td>\n",
       "      <td>2008</td>\n",
       "    </tr>\n",
       "  </tbody>\n",
       "</table>\n",
       "</div>"
      ],
      "text/plain": [
       "      sighting_date                        species  latitude  longitude  \\\n",
       "14060    2008-11-16  Monarch Adult (FIRST sighted)    34.238   -118.549   \n",
       "14061    2008-11-18  Monarch Adult (FIRST sighted)    30.061    -95.384   \n",
       "14062    2008-11-19  Monarch Adult (FIRST sighted)    34.501   -118.059   \n",
       "14063    2008-12-07  Monarch Adult (FIRST sighted)    29.757    -95.365   \n",
       "14064    2008-12-14  Monarch Adult (FIRST sighted)    30.230    -97.714   \n",
       "\n",
       "       number  year  \n",
       "14060       1  2008  \n",
       "14061       1  2008  \n",
       "14062       1  2008  \n",
       "14063       1  2008  \n",
       "14064       1  2008  "
      ]
     },
     "execution_count": 176,
     "metadata": {},
     "output_type": "execute_result"
    }
   ],
   "source": [
    "JNorth_Adult_First_Site_2008_df = JNorth_Adult_First_Site_year_df[JNorth_Adult_First_Site_year_df['year']==2008]\n",
    "JNorth_Adult_First_Site_2008_df.tail()"
   ]
  },
  {
   "cell_type": "code",
   "execution_count": 177,
   "id": "3f637079",
   "metadata": {},
   "outputs": [
    {
     "data": {
      "text/plain": [
       "(1675, 6)"
      ]
     },
     "execution_count": 177,
     "metadata": {},
     "output_type": "execute_result"
    }
   ],
   "source": [
    "JNorth_Adult_First_Site_2008_df.shape"
   ]
  },
  {
   "cell_type": "code",
   "execution_count": 178,
   "id": "e5c256a8",
   "metadata": {},
   "outputs": [],
   "source": [
    "JNorth_Adult_First_Site_2008_df = pd.DataFrame(JNorth_Adult_First_Site_2008_df)\n",
    "JNorth_Adult_First_Site_2008_df.drop(['year'], axis=1, inplace=True)"
   ]
  },
  {
   "cell_type": "code",
   "execution_count": 179,
   "id": "a28bf072",
   "metadata": {},
   "outputs": [
    {
     "data": {
      "text/plain": [
       "<bound method NDFrame.tail of       sighting_date                        species  latitude  longitude  \\\n",
       "12390    2008-01-14  Monarch Adult (FIRST sighted)    32.671   -117.004   \n",
       "12391    2008-01-18  Monarch Adult (FIRST sighted)    28.140    -82.712   \n",
       "12392    2008-02-01  Monarch Adult (FIRST sighted)    29.138    -80.996   \n",
       "12393    2008-02-06  Monarch Adult (FIRST sighted)    27.461    -80.542   \n",
       "12394    2008-02-08  Monarch Adult (FIRST sighted)    29.683    -95.047   \n",
       "...             ...                            ...       ...        ...   \n",
       "14060    2008-11-16  Monarch Adult (FIRST sighted)    34.238   -118.549   \n",
       "14061    2008-11-18  Monarch Adult (FIRST sighted)    30.061    -95.384   \n",
       "14062    2008-11-19  Monarch Adult (FIRST sighted)    34.501   -118.059   \n",
       "14063    2008-12-07  Monarch Adult (FIRST sighted)    29.757    -95.365   \n",
       "14064    2008-12-14  Monarch Adult (FIRST sighted)    30.230    -97.714   \n",
       "\n",
       "       number  \n",
       "12390       1  \n",
       "12391       1  \n",
       "12392       1  \n",
       "12393       1  \n",
       "12394       1  \n",
       "...       ...  \n",
       "14060       1  \n",
       "14061       1  \n",
       "14062       1  \n",
       "14063       1  \n",
       "14064       1  \n",
       "\n",
       "[1675 rows x 5 columns]>"
      ]
     },
     "execution_count": 179,
     "metadata": {},
     "output_type": "execute_result"
    }
   ],
   "source": [
    "JNorth_Adult_First_Site_2008_df.tail"
   ]
  },
  {
   "cell_type": "code",
   "execution_count": 180,
   "id": "0dba463b",
   "metadata": {},
   "outputs": [],
   "source": [
    "JNorth_Adult_First_Site_2008_df['month'] = pd.DatetimeIndex(JNorth_Adult_First_Site_2008_df['sighting_date']).month"
   ]
  },
  {
   "cell_type": "markdown",
   "id": "5433aeed",
   "metadata": {},
   "source": [
    "## January"
   ]
  },
  {
   "cell_type": "code",
   "execution_count": 181,
   "id": "29864205",
   "metadata": {},
   "outputs": [
    {
     "data": {
      "text/html": [
       "<div>\n",
       "<style scoped>\n",
       "    .dataframe tbody tr th:only-of-type {\n",
       "        vertical-align: middle;\n",
       "    }\n",
       "\n",
       "    .dataframe tbody tr th {\n",
       "        vertical-align: top;\n",
       "    }\n",
       "\n",
       "    .dataframe thead th {\n",
       "        text-align: right;\n",
       "    }\n",
       "</style>\n",
       "<table border=\"1\" class=\"dataframe\">\n",
       "  <thead>\n",
       "    <tr style=\"text-align: right;\">\n",
       "      <th></th>\n",
       "      <th>sighting_date</th>\n",
       "      <th>species</th>\n",
       "      <th>latitude</th>\n",
       "      <th>longitude</th>\n",
       "      <th>number</th>\n",
       "      <th>month</th>\n",
       "    </tr>\n",
       "  </thead>\n",
       "  <tbody>\n",
       "    <tr>\n",
       "      <th>12390</th>\n",
       "      <td>2008-01-14</td>\n",
       "      <td>Monarch Adult (FIRST sighted)</td>\n",
       "      <td>32.671</td>\n",
       "      <td>-117.004</td>\n",
       "      <td>1</td>\n",
       "      <td>1</td>\n",
       "    </tr>\n",
       "    <tr>\n",
       "      <th>12391</th>\n",
       "      <td>2008-01-18</td>\n",
       "      <td>Monarch Adult (FIRST sighted)</td>\n",
       "      <td>28.140</td>\n",
       "      <td>-82.712</td>\n",
       "      <td>1</td>\n",
       "      <td>1</td>\n",
       "    </tr>\n",
       "  </tbody>\n",
       "</table>\n",
       "</div>"
      ],
      "text/plain": [
       "      sighting_date                        species  latitude  longitude  \\\n",
       "12390    2008-01-14  Monarch Adult (FIRST sighted)    32.671   -117.004   \n",
       "12391    2008-01-18  Monarch Adult (FIRST sighted)    28.140    -82.712   \n",
       "\n",
       "       number  month  \n",
       "12390       1      1  \n",
       "12391       1      1  "
      ]
     },
     "execution_count": 181,
     "metadata": {},
     "output_type": "execute_result"
    }
   ],
   "source": [
    "JNorth_Adult_First_Site_2008_month_df =pd.DataFrame(JNorth_Adult_First_Site_2008_df)\n",
    "JNorth_Adult_First_Site_2008_1_df = JNorth_Adult_First_Site_2008_month_df[JNorth_Adult_First_Site_2008_month_df['month']==1]\n",
    "JNorth_Adult_First_Site_2008_1_df.tail()"
   ]
  },
  {
   "cell_type": "code",
   "execution_count": 182,
   "id": "e394de26",
   "metadata": {},
   "outputs": [
    {
     "data": {
      "text/plain": [
       "(2, 6)"
      ]
     },
     "execution_count": 182,
     "metadata": {},
     "output_type": "execute_result"
    }
   ],
   "source": [
    "JNorth_Adult_First_Site_2008_1_df.shape"
   ]
  },
  {
   "cell_type": "code",
   "execution_count": 183,
   "id": "95031fb5",
   "metadata": {},
   "outputs": [],
   "source": [
    "JNorth_Adult_First_Site_2008_1_df = pd.DataFrame(JNorth_Adult_First_Site_2008_1_df)\n",
    "JNorth_Adult_First_Site_2008_1_df.drop(['month'], axis=1, inplace=True)"
   ]
  },
  {
   "cell_type": "code",
   "execution_count": 184,
   "id": "c4d3ff7b",
   "metadata": {},
   "outputs": [],
   "source": [
    "# convert lat-long to floats and change address from ALL CAPS to regular capitalization\n",
    "JNorth_Adult_First_Site_2008_1_df['latitude'] = JNorth_Adult_First_Site_2008_1_df['latitude'].astype(float)\n",
    "JNorth_Adult_First_Site_2008_1_df['longitude'] = JNorth_Adult_First_Site_2008_1_df['longitude'].astype(float)\n",
    "# JNorth_Milkweed_Site_df['street_address'] = JNorth_Milkweed_Site_df['street_address'].str.title()"
   ]
  },
  {
   "cell_type": "code",
   "execution_count": 185,
   "id": "47533ebf",
   "metadata": {},
   "outputs": [],
   "source": [
    "geojson = df_to_geojson(JNorth_Adult_First_Site_2008_1_df, cols)"
   ]
  },
  {
   "cell_type": "code",
   "execution_count": 186,
   "id": "aecfecdc",
   "metadata": {},
   "outputs": [],
   "source": [
    "file = open(\"JNorth_Adult_First_Site_2008_1.geojson\", \"w\")\n",
    "json.dump(geojson, file, indent =1)\n",
    "file.close()"
   ]
  },
  {
   "cell_type": "markdown",
   "id": "f0c205a9",
   "metadata": {},
   "source": [
    "## February"
   ]
  },
  {
   "cell_type": "code",
   "execution_count": 187,
   "id": "5dc66d0d",
   "metadata": {},
   "outputs": [
    {
     "data": {
      "text/html": [
       "<div>\n",
       "<style scoped>\n",
       "    .dataframe tbody tr th:only-of-type {\n",
       "        vertical-align: middle;\n",
       "    }\n",
       "\n",
       "    .dataframe tbody tr th {\n",
       "        vertical-align: top;\n",
       "    }\n",
       "\n",
       "    .dataframe thead th {\n",
       "        text-align: right;\n",
       "    }\n",
       "</style>\n",
       "<table border=\"1\" class=\"dataframe\">\n",
       "  <thead>\n",
       "    <tr style=\"text-align: right;\">\n",
       "      <th></th>\n",
       "      <th>sighting_date</th>\n",
       "      <th>species</th>\n",
       "      <th>latitude</th>\n",
       "      <th>longitude</th>\n",
       "      <th>number</th>\n",
       "      <th>month</th>\n",
       "    </tr>\n",
       "  </thead>\n",
       "  <tbody>\n",
       "    <tr>\n",
       "      <th>12395</th>\n",
       "      <td>2008-02-11</td>\n",
       "      <td>Monarch Adult (FIRST sighted)</td>\n",
       "      <td>27.817</td>\n",
       "      <td>-82.626</td>\n",
       "      <td>1</td>\n",
       "      <td>2</td>\n",
       "    </tr>\n",
       "    <tr>\n",
       "      <th>12396</th>\n",
       "      <td>2008-02-12</td>\n",
       "      <td>Monarch Adult (FIRST sighted)</td>\n",
       "      <td>29.545</td>\n",
       "      <td>-81.224</td>\n",
       "      <td>1</td>\n",
       "      <td>2</td>\n",
       "    </tr>\n",
       "    <tr>\n",
       "      <th>12397</th>\n",
       "      <td>2008-02-17</td>\n",
       "      <td>Monarch Adult (FIRST sighted)</td>\n",
       "      <td>27.336</td>\n",
       "      <td>-82.531</td>\n",
       "      <td>1</td>\n",
       "      <td>2</td>\n",
       "    </tr>\n",
       "    <tr>\n",
       "      <th>12398</th>\n",
       "      <td>2008-02-22</td>\n",
       "      <td>Monarch Adult (FIRST sighted)</td>\n",
       "      <td>33.768</td>\n",
       "      <td>-78.792</td>\n",
       "      <td>1</td>\n",
       "      <td>2</td>\n",
       "    </tr>\n",
       "    <tr>\n",
       "      <th>12399</th>\n",
       "      <td>2008-02-28</td>\n",
       "      <td>Monarch Adult (FIRST sighted)</td>\n",
       "      <td>27.817</td>\n",
       "      <td>-82.729</td>\n",
       "      <td>1</td>\n",
       "      <td>2</td>\n",
       "    </tr>\n",
       "  </tbody>\n",
       "</table>\n",
       "</div>"
      ],
      "text/plain": [
       "      sighting_date                        species  latitude  longitude  \\\n",
       "12395    2008-02-11  Monarch Adult (FIRST sighted)    27.817    -82.626   \n",
       "12396    2008-02-12  Monarch Adult (FIRST sighted)    29.545    -81.224   \n",
       "12397    2008-02-17  Monarch Adult (FIRST sighted)    27.336    -82.531   \n",
       "12398    2008-02-22  Monarch Adult (FIRST sighted)    33.768    -78.792   \n",
       "12399    2008-02-28  Monarch Adult (FIRST sighted)    27.817    -82.729   \n",
       "\n",
       "       number  month  \n",
       "12395       1      2  \n",
       "12396       1      2  \n",
       "12397       1      2  \n",
       "12398       1      2  \n",
       "12399       1      2  "
      ]
     },
     "execution_count": 187,
     "metadata": {},
     "output_type": "execute_result"
    }
   ],
   "source": [
    "JNorth_Adult_First_Site_2008_month_df =pd.DataFrame(JNorth_Adult_First_Site_2008_df)\n",
    "JNorth_Adult_First_Site_2008_2_df = JNorth_Adult_First_Site_2008_month_df[JNorth_Adult_First_Site_2008_month_df['month']==2]\n",
    "JNorth_Adult_First_Site_2008_2_df.tail()"
   ]
  },
  {
   "cell_type": "code",
   "execution_count": 188,
   "id": "2939fa09",
   "metadata": {},
   "outputs": [
    {
     "data": {
      "text/plain": [
       "(8, 6)"
      ]
     },
     "execution_count": 188,
     "metadata": {},
     "output_type": "execute_result"
    }
   ],
   "source": [
    "JNorth_Adult_First_Site_2008_2_df.shape"
   ]
  },
  {
   "cell_type": "code",
   "execution_count": 189,
   "id": "055df0e1",
   "metadata": {},
   "outputs": [],
   "source": [
    "JNorth_Adult_First_Site_2008_2_df = pd.DataFrame(JNorth_Adult_First_Site_2008_2_df)\n",
    "JNorth_Adult_First_Site_2008_2_df.drop(['month'], axis=1, inplace=True)"
   ]
  },
  {
   "cell_type": "code",
   "execution_count": 190,
   "id": "8b945994",
   "metadata": {},
   "outputs": [],
   "source": [
    "# convert lat-long to floats and change address from ALL CAPS to regular capitalization\n",
    "JNorth_Adult_First_Site_2008_2_df['latitude'] = JNorth_Adult_First_Site_2008_2_df['latitude'].astype(float)\n",
    "JNorth_Adult_First_Site_2008_2_df['longitude'] = JNorth_Adult_First_Site_2008_2_df['longitude'].astype(float)\n",
    "# JNorth_Milkweed_Site_df['street_address'] = JNorth_Milkweed_Site_df['street_address'].str.title()"
   ]
  },
  {
   "cell_type": "code",
   "execution_count": 191,
   "id": "bd2a727a",
   "metadata": {},
   "outputs": [],
   "source": [
    "geojson = df_to_geojson(JNorth_Adult_First_Site_2008_2_df, cols)"
   ]
  },
  {
   "cell_type": "code",
   "execution_count": 192,
   "id": "336c1e4d",
   "metadata": {},
   "outputs": [],
   "source": [
    "file = open(\"JNorth_Adult_First_Site_2008_2.geojson\", \"w\")\n",
    "json.dump(geojson, file, indent =1)\n",
    "file.close()"
   ]
  },
  {
   "cell_type": "markdown",
   "id": "308bd862",
   "metadata": {},
   "source": [
    "## March"
   ]
  },
  {
   "cell_type": "code",
   "execution_count": 193,
   "id": "6b02a9ba",
   "metadata": {},
   "outputs": [
    {
     "data": {
      "text/html": [
       "<div>\n",
       "<style scoped>\n",
       "    .dataframe tbody tr th:only-of-type {\n",
       "        vertical-align: middle;\n",
       "    }\n",
       "\n",
       "    .dataframe tbody tr th {\n",
       "        vertical-align: top;\n",
       "    }\n",
       "\n",
       "    .dataframe thead th {\n",
       "        text-align: right;\n",
       "    }\n",
       "</style>\n",
       "<table border=\"1\" class=\"dataframe\">\n",
       "  <thead>\n",
       "    <tr style=\"text-align: right;\">\n",
       "      <th></th>\n",
       "      <th>sighting_date</th>\n",
       "      <th>species</th>\n",
       "      <th>latitude</th>\n",
       "      <th>longitude</th>\n",
       "      <th>number</th>\n",
       "      <th>month</th>\n",
       "    </tr>\n",
       "  </thead>\n",
       "  <tbody>\n",
       "    <tr>\n",
       "      <th>12531</th>\n",
       "      <td>2008-03-31</td>\n",
       "      <td>Monarch Adult (FIRST sighted)</td>\n",
       "      <td>30.230</td>\n",
       "      <td>-97.714</td>\n",
       "      <td>1</td>\n",
       "      <td>3</td>\n",
       "    </tr>\n",
       "    <tr>\n",
       "      <th>12532</th>\n",
       "      <td>2008-03-31</td>\n",
       "      <td>Monarch Adult (FIRST sighted)</td>\n",
       "      <td>31.669</td>\n",
       "      <td>-89.543</td>\n",
       "      <td>1</td>\n",
       "      <td>3</td>\n",
       "    </tr>\n",
       "    <tr>\n",
       "      <th>12533</th>\n",
       "      <td>2008-03-31</td>\n",
       "      <td>Monarch Adult (FIRST sighted)</td>\n",
       "      <td>33.639</td>\n",
       "      <td>-91.205</td>\n",
       "      <td>1</td>\n",
       "      <td>3</td>\n",
       "    </tr>\n",
       "    <tr>\n",
       "      <th>12534</th>\n",
       "      <td>2008-03-31</td>\n",
       "      <td>Monarch Adult (FIRST sighted)</td>\n",
       "      <td>35.346</td>\n",
       "      <td>-89.922</td>\n",
       "      <td>1</td>\n",
       "      <td>3</td>\n",
       "    </tr>\n",
       "    <tr>\n",
       "      <th>12535</th>\n",
       "      <td>2008-03-31</td>\n",
       "      <td>Monarch Adult (FIRST sighted)</td>\n",
       "      <td>36.672</td>\n",
       "      <td>-97.059</td>\n",
       "      <td>1</td>\n",
       "      <td>3</td>\n",
       "    </tr>\n",
       "  </tbody>\n",
       "</table>\n",
       "</div>"
      ],
      "text/plain": [
       "      sighting_date                        species  latitude  longitude  \\\n",
       "12531    2008-03-31  Monarch Adult (FIRST sighted)    30.230    -97.714   \n",
       "12532    2008-03-31  Monarch Adult (FIRST sighted)    31.669    -89.543   \n",
       "12533    2008-03-31  Monarch Adult (FIRST sighted)    33.639    -91.205   \n",
       "12534    2008-03-31  Monarch Adult (FIRST sighted)    35.346    -89.922   \n",
       "12535    2008-03-31  Monarch Adult (FIRST sighted)    36.672    -97.059   \n",
       "\n",
       "       number  month  \n",
       "12531       1      3  \n",
       "12532       1      3  \n",
       "12533       1      3  \n",
       "12534       1      3  \n",
       "12535       1      3  "
      ]
     },
     "execution_count": 193,
     "metadata": {},
     "output_type": "execute_result"
    }
   ],
   "source": [
    "JNorth_Adult_First_Site_2008_month_df =pd.DataFrame(JNorth_Adult_First_Site_2008_df)\n",
    "JNorth_Adult_First_Site_2008_3_df = JNorth_Adult_First_Site_2008_month_df[JNorth_Adult_First_Site_2008_month_df['month']==3]\n",
    "JNorth_Adult_First_Site_2008_3_df.tail()"
   ]
  },
  {
   "cell_type": "code",
   "execution_count": 194,
   "id": "95014e39",
   "metadata": {},
   "outputs": [
    {
     "data": {
      "text/plain": [
       "(136, 6)"
      ]
     },
     "execution_count": 194,
     "metadata": {},
     "output_type": "execute_result"
    }
   ],
   "source": [
    "JNorth_Adult_First_Site_2008_3_df.shape"
   ]
  },
  {
   "cell_type": "code",
   "execution_count": 195,
   "id": "db866638",
   "metadata": {},
   "outputs": [],
   "source": [
    "JNorth_Adult_First_Site_2008_3_df = pd.DataFrame(JNorth_Adult_First_Site_2008_3_df)\n",
    "JNorth_Adult_First_Site_2008_3_df.drop(['month'], axis=1, inplace=True)"
   ]
  },
  {
   "cell_type": "code",
   "execution_count": 196,
   "id": "2e4fb224",
   "metadata": {},
   "outputs": [],
   "source": [
    "# convert lat-long to floats and change address from ALL CAPS to regular capitalization\n",
    "JNorth_Adult_First_Site_2008_3_df['latitude'] = JNorth_Adult_First_Site_2008_3_df['latitude'].astype(float)\n",
    "JNorth_Adult_First_Site_2008_3_df['longitude'] = JNorth_Adult_First_Site_2008_3_df['longitude'].astype(float)\n",
    "# JNorth_Milkweed_Site_df['street_address'] = JNorth_Milkweed_Site_df['street_address'].str.title()"
   ]
  },
  {
   "cell_type": "code",
   "execution_count": 197,
   "id": "a3df213a",
   "metadata": {},
   "outputs": [],
   "source": [
    "geojson = df_to_geojson(JNorth_Adult_First_Site_2008_3_df, cols)"
   ]
  },
  {
   "cell_type": "code",
   "execution_count": 198,
   "id": "aaaf0ed1",
   "metadata": {},
   "outputs": [],
   "source": [
    "file = open(\"JNorth_Adult_First_Site_2008_3.geojson\", \"w\")\n",
    "json.dump(geojson, file, indent =1)\n",
    "file.close()"
   ]
  },
  {
   "cell_type": "markdown",
   "id": "5b8eefd5",
   "metadata": {},
   "source": [
    "## April"
   ]
  },
  {
   "cell_type": "code",
   "execution_count": 199,
   "id": "9de021e0",
   "metadata": {},
   "outputs": [
    {
     "data": {
      "text/html": [
       "<div>\n",
       "<style scoped>\n",
       "    .dataframe tbody tr th:only-of-type {\n",
       "        vertical-align: middle;\n",
       "    }\n",
       "\n",
       "    .dataframe tbody tr th {\n",
       "        vertical-align: top;\n",
       "    }\n",
       "\n",
       "    .dataframe thead th {\n",
       "        text-align: right;\n",
       "    }\n",
       "</style>\n",
       "<table border=\"1\" class=\"dataframe\">\n",
       "  <thead>\n",
       "    <tr style=\"text-align: right;\">\n",
       "      <th></th>\n",
       "      <th>sighting_date</th>\n",
       "      <th>species</th>\n",
       "      <th>latitude</th>\n",
       "      <th>longitude</th>\n",
       "      <th>number</th>\n",
       "      <th>month</th>\n",
       "    </tr>\n",
       "  </thead>\n",
       "  <tbody>\n",
       "    <tr>\n",
       "      <th>12705</th>\n",
       "      <td>2008-04-28</td>\n",
       "      <td>Monarch Adult (FIRST sighted)</td>\n",
       "      <td>39.104</td>\n",
       "      <td>-94.601</td>\n",
       "      <td>1</td>\n",
       "      <td>4</td>\n",
       "    </tr>\n",
       "    <tr>\n",
       "      <th>12706</th>\n",
       "      <td>2008-04-28</td>\n",
       "      <td>Monarch Adult (FIRST sighted)</td>\n",
       "      <td>39.844</td>\n",
       "      <td>-74.955</td>\n",
       "      <td>1</td>\n",
       "      <td>4</td>\n",
       "    </tr>\n",
       "    <tr>\n",
       "      <th>12707</th>\n",
       "      <td>2008-04-28</td>\n",
       "      <td>Monarch Adult (FIRST sighted)</td>\n",
       "      <td>42.430</td>\n",
       "      <td>-86.216</td>\n",
       "      <td>1</td>\n",
       "      <td>4</td>\n",
       "    </tr>\n",
       "    <tr>\n",
       "      <th>12708</th>\n",
       "      <td>2008-04-29</td>\n",
       "      <td>Monarch Adult (FIRST sighted)</td>\n",
       "      <td>44.378</td>\n",
       "      <td>-94.078</td>\n",
       "      <td>1</td>\n",
       "      <td>4</td>\n",
       "    </tr>\n",
       "    <tr>\n",
       "      <th>12709</th>\n",
       "      <td>2008-04-30</td>\n",
       "      <td>Monarch Adult (FIRST sighted)</td>\n",
       "      <td>40.131</td>\n",
       "      <td>-85.376</td>\n",
       "      <td>1</td>\n",
       "      <td>4</td>\n",
       "    </tr>\n",
       "  </tbody>\n",
       "</table>\n",
       "</div>"
      ],
      "text/plain": [
       "      sighting_date                        species  latitude  longitude  \\\n",
       "12705    2008-04-28  Monarch Adult (FIRST sighted)    39.104    -94.601   \n",
       "12706    2008-04-28  Monarch Adult (FIRST sighted)    39.844    -74.955   \n",
       "12707    2008-04-28  Monarch Adult (FIRST sighted)    42.430    -86.216   \n",
       "12708    2008-04-29  Monarch Adult (FIRST sighted)    44.378    -94.078   \n",
       "12709    2008-04-30  Monarch Adult (FIRST sighted)    40.131    -85.376   \n",
       "\n",
       "       number  month  \n",
       "12705       1      4  \n",
       "12706       1      4  \n",
       "12707       1      4  \n",
       "12708       1      4  \n",
       "12709       1      4  "
      ]
     },
     "execution_count": 199,
     "metadata": {},
     "output_type": "execute_result"
    }
   ],
   "source": [
    "JNorth_Adult_First_Site_2008_month_df =pd.DataFrame(JNorth_Adult_First_Site_2008_df)\n",
    "JNorth_Adult_First_Site_2008_4_df = JNorth_Adult_First_Site_2008_month_df[JNorth_Adult_First_Site_2008_month_df['month']==4]\n",
    "JNorth_Adult_First_Site_2008_4_df.tail()"
   ]
  },
  {
   "cell_type": "code",
   "execution_count": 200,
   "id": "4a92a749",
   "metadata": {},
   "outputs": [
    {
     "data": {
      "text/plain": [
       "(174, 6)"
      ]
     },
     "execution_count": 200,
     "metadata": {},
     "output_type": "execute_result"
    }
   ],
   "source": [
    "JNorth_Adult_First_Site_2008_4_df.shape"
   ]
  },
  {
   "cell_type": "code",
   "execution_count": 201,
   "id": "c1bcccfd",
   "metadata": {},
   "outputs": [],
   "source": [
    "JNorth_Adult_First_Site_2008_4_df =pd.DataFrame(JNorth_Adult_First_Site_2008_4_df)\n",
    "JNorth_Adult_First_Site_2008_4_df.drop(['month'], axis=1, inplace=True)"
   ]
  },
  {
   "cell_type": "code",
   "execution_count": 202,
   "id": "083929cc",
   "metadata": {},
   "outputs": [],
   "source": [
    "# convert lat-long to floats and change address from ALL CAPS to regular capitalization\n",
    "JNorth_Adult_First_Site_2008_4_df['latitude'] = JNorth_Adult_First_Site_2008_4_df['latitude'].astype(float)\n",
    "JNorth_Adult_First_Site_2008_4_df['longitude'] = JNorth_Adult_First_Site_2008_4_df['longitude'].astype(float)\n",
    "# JNorth_Milkweed_Site_df['street_address'] = JNorth_Milkweed_Site_df['street_address'].str.title()"
   ]
  },
  {
   "cell_type": "code",
   "execution_count": 203,
   "id": "63ecb386",
   "metadata": {},
   "outputs": [],
   "source": [
    "geojson = df_to_geojson(JNorth_Adult_First_Site_2008_4_df, cols)"
   ]
  },
  {
   "cell_type": "code",
   "execution_count": 204,
   "id": "8da2fa34",
   "metadata": {},
   "outputs": [],
   "source": [
    "file = open(\"JNorth_Adult_First_Site_2008_4.geojson\", \"w\")\n",
    "json.dump(geojson, file, indent =1)\n",
    "file.close()"
   ]
  },
  {
   "cell_type": "markdown",
   "id": "e4b0927a",
   "metadata": {},
   "source": [
    "## May"
   ]
  },
  {
   "cell_type": "code",
   "execution_count": 205,
   "id": "08818b34",
   "metadata": {},
   "outputs": [
    {
     "data": {
      "text/html": [
       "<div>\n",
       "<style scoped>\n",
       "    .dataframe tbody tr th:only-of-type {\n",
       "        vertical-align: middle;\n",
       "    }\n",
       "\n",
       "    .dataframe tbody tr th {\n",
       "        vertical-align: top;\n",
       "    }\n",
       "\n",
       "    .dataframe thead th {\n",
       "        text-align: right;\n",
       "    }\n",
       "</style>\n",
       "<table border=\"1\" class=\"dataframe\">\n",
       "  <thead>\n",
       "    <tr style=\"text-align: right;\">\n",
       "      <th></th>\n",
       "      <th>sighting_date</th>\n",
       "      <th>species</th>\n",
       "      <th>latitude</th>\n",
       "      <th>longitude</th>\n",
       "      <th>number</th>\n",
       "      <th>month</th>\n",
       "    </tr>\n",
       "  </thead>\n",
       "  <tbody>\n",
       "    <tr>\n",
       "      <th>12879</th>\n",
       "      <td>2008-05-31</td>\n",
       "      <td>Monarch Adult (FIRST sighted)</td>\n",
       "      <td>44.501</td>\n",
       "      <td>-93.342</td>\n",
       "      <td>1</td>\n",
       "      <td>5</td>\n",
       "    </tr>\n",
       "    <tr>\n",
       "      <th>12880</th>\n",
       "      <td>2008-05-31</td>\n",
       "      <td>Monarch Adult (FIRST sighted)</td>\n",
       "      <td>44.505</td>\n",
       "      <td>-77.472</td>\n",
       "      <td>1</td>\n",
       "      <td>5</td>\n",
       "    </tr>\n",
       "    <tr>\n",
       "      <th>12881</th>\n",
       "      <td>2008-05-31</td>\n",
       "      <td>Monarch Adult (FIRST sighted)</td>\n",
       "      <td>44.986</td>\n",
       "      <td>-93.270</td>\n",
       "      <td>3</td>\n",
       "      <td>5</td>\n",
       "    </tr>\n",
       "    <tr>\n",
       "      <th>12882</th>\n",
       "      <td>2008-05-31</td>\n",
       "      <td>Monarch Adult (FIRST sighted)</td>\n",
       "      <td>45.051</td>\n",
       "      <td>-93.253</td>\n",
       "      <td>1</td>\n",
       "      <td>5</td>\n",
       "    </tr>\n",
       "    <tr>\n",
       "      <th>12883</th>\n",
       "      <td>2008-05-31</td>\n",
       "      <td>Monarch Adult (FIRST sighted)</td>\n",
       "      <td>45.267</td>\n",
       "      <td>-75.750</td>\n",
       "      <td>1</td>\n",
       "      <td>5</td>\n",
       "    </tr>\n",
       "  </tbody>\n",
       "</table>\n",
       "</div>"
      ],
      "text/plain": [
       "      sighting_date                        species  latitude  longitude  \\\n",
       "12879    2008-05-31  Monarch Adult (FIRST sighted)    44.501    -93.342   \n",
       "12880    2008-05-31  Monarch Adult (FIRST sighted)    44.505    -77.472   \n",
       "12881    2008-05-31  Monarch Adult (FIRST sighted)    44.986    -93.270   \n",
       "12882    2008-05-31  Monarch Adult (FIRST sighted)    45.051    -93.253   \n",
       "12883    2008-05-31  Monarch Adult (FIRST sighted)    45.267    -75.750   \n",
       "\n",
       "       number  month  \n",
       "12879       1      5  \n",
       "12880       1      5  \n",
       "12881       3      5  \n",
       "12882       1      5  \n",
       "12883       1      5  "
      ]
     },
     "execution_count": 205,
     "metadata": {},
     "output_type": "execute_result"
    }
   ],
   "source": [
    "JNorth_Adult_First_Site_2008_month_df =pd.DataFrame(JNorth_Adult_First_Site_2008_df)\n",
    "JNorth_Adult_First_Site_2008_5_df = JNorth_Adult_First_Site_2008_month_df[JNorth_Adult_First_Site_2008_month_df['month']==5]\n",
    "JNorth_Adult_First_Site_2008_5_df.tail()"
   ]
  },
  {
   "cell_type": "code",
   "execution_count": 206,
   "id": "8e3b442c",
   "metadata": {},
   "outputs": [
    {
     "data": {
      "text/plain": [
       "(174, 6)"
      ]
     },
     "execution_count": 206,
     "metadata": {},
     "output_type": "execute_result"
    }
   ],
   "source": [
    "JNorth_Adult_First_Site_2008_5_df.shape"
   ]
  },
  {
   "cell_type": "code",
   "execution_count": 207,
   "id": "dbcbd9d1",
   "metadata": {},
   "outputs": [],
   "source": [
    "JNorth_Adult_First_Site_2008_5_df =pd.DataFrame(JNorth_Adult_First_Site_2008_5_df)\n",
    "JNorth_Adult_First_Site_2008_5_df.drop(['month'], axis=1, inplace=True)"
   ]
  },
  {
   "cell_type": "code",
   "execution_count": 208,
   "id": "ef16ae7f",
   "metadata": {},
   "outputs": [],
   "source": [
    "# convert lat-long to floats and change address from ALL CAPS to regular capitalization\n",
    "JNorth_Adult_First_Site_2008_5_df['latitude'] = JNorth_Adult_First_Site_2008_5_df['latitude'].astype(float)\n",
    "JNorth_Adult_First_Site_2008_5_df['longitude'] = JNorth_Adult_First_Site_2008_5_df['longitude'].astype(float)\n",
    "# JNorth_Milkweed_Site_df['street_address'] = JNorth_Milkweed_Site_df['street_address'].str.title()"
   ]
  },
  {
   "cell_type": "code",
   "execution_count": 209,
   "id": "f57c29c9",
   "metadata": {},
   "outputs": [],
   "source": [
    "geojson = df_to_geojson(JNorth_Adult_First_Site_2008_5_df, cols)"
   ]
  },
  {
   "cell_type": "code",
   "execution_count": 210,
   "id": "bf28ef88",
   "metadata": {},
   "outputs": [],
   "source": [
    "file = open(\"JNorth_Adult_First_Site_2008_5.geojson\", \"w\")\n",
    "json.dump(geojson, file, indent =1)\n",
    "file.close()"
   ]
  },
  {
   "cell_type": "markdown",
   "id": "f17bf01f",
   "metadata": {},
   "source": [
    "## June"
   ]
  },
  {
   "cell_type": "code",
   "execution_count": 211,
   "id": "381829c2",
   "metadata": {},
   "outputs": [
    {
     "data": {
      "text/html": [
       "<div>\n",
       "<style scoped>\n",
       "    .dataframe tbody tr th:only-of-type {\n",
       "        vertical-align: middle;\n",
       "    }\n",
       "\n",
       "    .dataframe tbody tr th {\n",
       "        vertical-align: top;\n",
       "    }\n",
       "\n",
       "    .dataframe thead th {\n",
       "        text-align: right;\n",
       "    }\n",
       "</style>\n",
       "<table border=\"1\" class=\"dataframe\">\n",
       "  <thead>\n",
       "    <tr style=\"text-align: right;\">\n",
       "      <th></th>\n",
       "      <th>sighting_date</th>\n",
       "      <th>species</th>\n",
       "      <th>latitude</th>\n",
       "      <th>longitude</th>\n",
       "      <th>number</th>\n",
       "      <th>month</th>\n",
       "    </tr>\n",
       "  </thead>\n",
       "  <tbody>\n",
       "    <tr>\n",
       "      <th>13099</th>\n",
       "      <td>2008-06-30</td>\n",
       "      <td>Monarch Adult (FIRST sighted)</td>\n",
       "      <td>43.381</td>\n",
       "      <td>-71.065</td>\n",
       "      <td>1</td>\n",
       "      <td>6</td>\n",
       "    </tr>\n",
       "    <tr>\n",
       "      <th>13100</th>\n",
       "      <td>2008-06-30</td>\n",
       "      <td>Monarch Adult (FIRST sighted)</td>\n",
       "      <td>44.853</td>\n",
       "      <td>-73.278</td>\n",
       "      <td>1</td>\n",
       "      <td>6</td>\n",
       "    </tr>\n",
       "    <tr>\n",
       "      <th>13101</th>\n",
       "      <td>2008-06-30</td>\n",
       "      <td>Monarch Adult (FIRST sighted)</td>\n",
       "      <td>45.700</td>\n",
       "      <td>-73.633</td>\n",
       "      <td>1</td>\n",
       "      <td>6</td>\n",
       "    </tr>\n",
       "    <tr>\n",
       "      <th>13102</th>\n",
       "      <td>2008-06-30</td>\n",
       "      <td>Monarch Adult (FIRST sighted)</td>\n",
       "      <td>45.970</td>\n",
       "      <td>-73.720</td>\n",
       "      <td>1</td>\n",
       "      <td>6</td>\n",
       "    </tr>\n",
       "    <tr>\n",
       "      <th>13103</th>\n",
       "      <td>2008-06-30</td>\n",
       "      <td>Monarch Adult (FIRST sighted)</td>\n",
       "      <td>46.350</td>\n",
       "      <td>-72.550</td>\n",
       "      <td>1</td>\n",
       "      <td>6</td>\n",
       "    </tr>\n",
       "  </tbody>\n",
       "</table>\n",
       "</div>"
      ],
      "text/plain": [
       "      sighting_date                        species  latitude  longitude  \\\n",
       "13099    2008-06-30  Monarch Adult (FIRST sighted)    43.381    -71.065   \n",
       "13100    2008-06-30  Monarch Adult (FIRST sighted)    44.853    -73.278   \n",
       "13101    2008-06-30  Monarch Adult (FIRST sighted)    45.700    -73.633   \n",
       "13102    2008-06-30  Monarch Adult (FIRST sighted)    45.970    -73.720   \n",
       "13103    2008-06-30  Monarch Adult (FIRST sighted)    46.350    -72.550   \n",
       "\n",
       "       number  month  \n",
       "13099       1      6  \n",
       "13100       1      6  \n",
       "13101       1      6  \n",
       "13102       1      6  \n",
       "13103       1      6  "
      ]
     },
     "execution_count": 211,
     "metadata": {},
     "output_type": "execute_result"
    }
   ],
   "source": [
    "JNorth_Adult_First_Site_2008_month_df =pd.DataFrame(JNorth_Adult_First_Site_2008_df)\n",
    "JNorth_Adult_First_Site_2008_6_df = JNorth_Adult_First_Site_2008_month_df[JNorth_Adult_First_Site_2008_month_df['month']==6]\n",
    "JNorth_Adult_First_Site_2008_6_df.tail()"
   ]
  },
  {
   "cell_type": "code",
   "execution_count": 212,
   "id": "ec35325f",
   "metadata": {},
   "outputs": [
    {
     "data": {
      "text/plain": [
       "(220, 6)"
      ]
     },
     "execution_count": 212,
     "metadata": {},
     "output_type": "execute_result"
    }
   ],
   "source": [
    "JNorth_Adult_First_Site_2008_6_df.shape"
   ]
  },
  {
   "cell_type": "code",
   "execution_count": 213,
   "id": "8aadd64b",
   "metadata": {},
   "outputs": [],
   "source": [
    "JNorth_Adult_First_Site_2008_6_df = pd.DataFrame(JNorth_Adult_First_Site_2008_6_df)\n",
    "JNorth_Adult_First_Site_2008_6_df.drop(['month'], axis=1, inplace=True)"
   ]
  },
  {
   "cell_type": "code",
   "execution_count": 214,
   "id": "ae769a01",
   "metadata": {},
   "outputs": [],
   "source": [
    "# convert lat-long to floats and change address from ALL CAPS to regular capitalization\n",
    "JNorth_Adult_First_Site_2008_6_df['latitude'] = JNorth_Adult_First_Site_2008_6_df['latitude'].astype(float)\n",
    "JNorth_Adult_First_Site_2008_6_df['longitude'] = JNorth_Adult_First_Site_2008_6_df['longitude'].astype(float)\n",
    "# JNorth_Milkweed_Site_df['street_address'] = JNorth_Milkweed_Site_df['street_address'].str.title()"
   ]
  },
  {
   "cell_type": "code",
   "execution_count": 215,
   "id": "4e1cbc00",
   "metadata": {},
   "outputs": [],
   "source": [
    "geojson = df_to_geojson(JNorth_Adult_First_Site_2008_6_df, cols)"
   ]
  },
  {
   "cell_type": "code",
   "execution_count": 216,
   "id": "72fe008a",
   "metadata": {},
   "outputs": [],
   "source": [
    "file = open(\"JNorth_Adult_First_Site_2008_6.geojson\", \"w\")\n",
    "json.dump(geojson, file, indent =1)\n",
    "file.close()"
   ]
  },
  {
   "cell_type": "markdown",
   "id": "e88e1c71",
   "metadata": {},
   "source": [
    "## July"
   ]
  },
  {
   "cell_type": "code",
   "execution_count": 217,
   "id": "77e25b46",
   "metadata": {},
   "outputs": [
    {
     "data": {
      "text/html": [
       "<div>\n",
       "<style scoped>\n",
       "    .dataframe tbody tr th:only-of-type {\n",
       "        vertical-align: middle;\n",
       "    }\n",
       "\n",
       "    .dataframe tbody tr th {\n",
       "        vertical-align: top;\n",
       "    }\n",
       "\n",
       "    .dataframe thead th {\n",
       "        text-align: right;\n",
       "    }\n",
       "</style>\n",
       "<table border=\"1\" class=\"dataframe\">\n",
       "  <thead>\n",
       "    <tr style=\"text-align: right;\">\n",
       "      <th></th>\n",
       "      <th>sighting_date</th>\n",
       "      <th>species</th>\n",
       "      <th>latitude</th>\n",
       "      <th>longitude</th>\n",
       "      <th>number</th>\n",
       "      <th>month</th>\n",
       "    </tr>\n",
       "  </thead>\n",
       "  <tbody>\n",
       "    <tr>\n",
       "      <th>13136</th>\n",
       "      <td>2008-07-27</td>\n",
       "      <td>Monarch Adult (FIRST sighted)</td>\n",
       "      <td>38.296</td>\n",
       "      <td>-104.537</td>\n",
       "      <td>1</td>\n",
       "      <td>7</td>\n",
       "    </tr>\n",
       "    <tr>\n",
       "      <th>13137</th>\n",
       "      <td>2008-07-28</td>\n",
       "      <td>Monarch Adult (FIRST sighted)</td>\n",
       "      <td>39.985</td>\n",
       "      <td>-75.607</td>\n",
       "      <td>1</td>\n",
       "      <td>7</td>\n",
       "    </tr>\n",
       "    <tr>\n",
       "      <th>13138</th>\n",
       "      <td>2008-07-29</td>\n",
       "      <td>Monarch Adult (FIRST sighted)</td>\n",
       "      <td>38.494</td>\n",
       "      <td>-122.267</td>\n",
       "      <td>1</td>\n",
       "      <td>7</td>\n",
       "    </tr>\n",
       "    <tr>\n",
       "      <th>13139</th>\n",
       "      <td>2008-07-30</td>\n",
       "      <td>Monarch Adult (FIRST sighted)</td>\n",
       "      <td>37.538</td>\n",
       "      <td>-77.436</td>\n",
       "      <td>1</td>\n",
       "      <td>7</td>\n",
       "    </tr>\n",
       "    <tr>\n",
       "      <th>13140</th>\n",
       "      <td>2008-07-30</td>\n",
       "      <td>Monarch Adult (FIRST sighted)</td>\n",
       "      <td>43.615</td>\n",
       "      <td>-116.416</td>\n",
       "      <td>1</td>\n",
       "      <td>7</td>\n",
       "    </tr>\n",
       "  </tbody>\n",
       "</table>\n",
       "</div>"
      ],
      "text/plain": [
       "      sighting_date                        species  latitude  longitude  \\\n",
       "13136    2008-07-27  Monarch Adult (FIRST sighted)    38.296   -104.537   \n",
       "13137    2008-07-28  Monarch Adult (FIRST sighted)    39.985    -75.607   \n",
       "13138    2008-07-29  Monarch Adult (FIRST sighted)    38.494   -122.267   \n",
       "13139    2008-07-30  Monarch Adult (FIRST sighted)    37.538    -77.436   \n",
       "13140    2008-07-30  Monarch Adult (FIRST sighted)    43.615   -116.416   \n",
       "\n",
       "       number  month  \n",
       "13136       1      7  \n",
       "13137       1      7  \n",
       "13138       1      7  \n",
       "13139       1      7  \n",
       "13140       1      7  "
      ]
     },
     "execution_count": 217,
     "metadata": {},
     "output_type": "execute_result"
    }
   ],
   "source": [
    "JNorth_Adult_First_Site_2008_month_df =pd.DataFrame(JNorth_Adult_First_Site_2008_df)\n",
    "JNorth_Adult_First_Site_2008_7_df = JNorth_Adult_First_Site_2008_month_df[JNorth_Adult_First_Site_2008_month_df['month']==7]\n",
    "JNorth_Adult_First_Site_2008_7_df.tail()"
   ]
  },
  {
   "cell_type": "code",
   "execution_count": 218,
   "id": "a2dd7a68",
   "metadata": {},
   "outputs": [
    {
     "data": {
      "text/plain": [
       "(37, 6)"
      ]
     },
     "execution_count": 218,
     "metadata": {},
     "output_type": "execute_result"
    }
   ],
   "source": [
    "JNorth_Adult_First_Site_2008_7_df.shape"
   ]
  },
  {
   "cell_type": "code",
   "execution_count": 219,
   "id": "9aa6caeb",
   "metadata": {},
   "outputs": [],
   "source": [
    "JNorth_Adult_First_Site_2008_7_df = pd.DataFrame(JNorth_Adult_First_Site_2008_7_df)\n",
    "JNorth_Adult_First_Site_2008_7_df.drop(['month'], axis=1, inplace=True)"
   ]
  },
  {
   "cell_type": "code",
   "execution_count": 220,
   "id": "42748eef",
   "metadata": {},
   "outputs": [],
   "source": [
    "# convert lat-long to floats and change address from ALL CAPS to regular capitalization\n",
    "JNorth_Adult_First_Site_2008_7_df['latitude'] = JNorth_Adult_First_Site_2008_7_df['latitude'].astype(float)\n",
    "JNorth_Adult_First_Site_2008_7_df['longitude'] = JNorth_Adult_First_Site_2008_7_df['longitude'].astype(float)\n",
    "# JNorth_Milkweed_Site_df['street_address'] = JNorth_Milkweed_Site_df['street_address'].str.title()"
   ]
  },
  {
   "cell_type": "code",
   "execution_count": 221,
   "id": "c0ff994e",
   "metadata": {},
   "outputs": [],
   "source": [
    "geojson = df_to_geojson(JNorth_Adult_First_Site_2008_7_df, cols)"
   ]
  },
  {
   "cell_type": "code",
   "execution_count": 222,
   "id": "a72a37d3",
   "metadata": {},
   "outputs": [],
   "source": [
    "file = open(\"JNorth_Adult_First_Site_2008_7.geojson\", \"w\")\n",
    "json.dump(geojson, file, indent =1)\n",
    "file.close()"
   ]
  },
  {
   "cell_type": "markdown",
   "id": "4ebd9239",
   "metadata": {},
   "source": [
    "## August"
   ]
  },
  {
   "cell_type": "code",
   "execution_count": 223,
   "id": "5c9ebe9f",
   "metadata": {},
   "outputs": [
    {
     "data": {
      "text/html": [
       "<div>\n",
       "<style scoped>\n",
       "    .dataframe tbody tr th:only-of-type {\n",
       "        vertical-align: middle;\n",
       "    }\n",
       "\n",
       "    .dataframe tbody tr th {\n",
       "        vertical-align: top;\n",
       "    }\n",
       "\n",
       "    .dataframe thead th {\n",
       "        text-align: right;\n",
       "    }\n",
       "</style>\n",
       "<table border=\"1\" class=\"dataframe\">\n",
       "  <thead>\n",
       "    <tr style=\"text-align: right;\">\n",
       "      <th></th>\n",
       "      <th>sighting_date</th>\n",
       "      <th>species</th>\n",
       "      <th>latitude</th>\n",
       "      <th>longitude</th>\n",
       "      <th>number</th>\n",
       "      <th>month</th>\n",
       "    </tr>\n",
       "  </thead>\n",
       "  <tbody>\n",
       "    <tr>\n",
       "      <th>13291</th>\n",
       "      <td>2008-08-31</td>\n",
       "      <td>Monarch Adult (FIRST sighted)</td>\n",
       "      <td>43.060</td>\n",
       "      <td>-85.850</td>\n",
       "      <td>1</td>\n",
       "      <td>8</td>\n",
       "    </tr>\n",
       "    <tr>\n",
       "      <th>13292</th>\n",
       "      <td>2008-08-31</td>\n",
       "      <td>Monarch Adult (FIRST sighted)</td>\n",
       "      <td>43.061</td>\n",
       "      <td>-85.850</td>\n",
       "      <td>1</td>\n",
       "      <td>8</td>\n",
       "    </tr>\n",
       "    <tr>\n",
       "      <th>13293</th>\n",
       "      <td>2008-08-31</td>\n",
       "      <td>Monarch Adult (FIRST sighted)</td>\n",
       "      <td>43.430</td>\n",
       "      <td>-95.150</td>\n",
       "      <td>1</td>\n",
       "      <td>8</td>\n",
       "    </tr>\n",
       "    <tr>\n",
       "      <th>13294</th>\n",
       "      <td>2008-08-31</td>\n",
       "      <td>Monarch Adult (FIRST sighted)</td>\n",
       "      <td>43.485</td>\n",
       "      <td>-83.363</td>\n",
       "      <td>1</td>\n",
       "      <td>8</td>\n",
       "    </tr>\n",
       "    <tr>\n",
       "      <th>13295</th>\n",
       "      <td>2008-08-31</td>\n",
       "      <td>Monarch Adult (FIRST sighted)</td>\n",
       "      <td>45.000</td>\n",
       "      <td>-79.833</td>\n",
       "      <td>1</td>\n",
       "      <td>8</td>\n",
       "    </tr>\n",
       "  </tbody>\n",
       "</table>\n",
       "</div>"
      ],
      "text/plain": [
       "      sighting_date                        species  latitude  longitude  \\\n",
       "13291    2008-08-31  Monarch Adult (FIRST sighted)    43.060    -85.850   \n",
       "13292    2008-08-31  Monarch Adult (FIRST sighted)    43.061    -85.850   \n",
       "13293    2008-08-31  Monarch Adult (FIRST sighted)    43.430    -95.150   \n",
       "13294    2008-08-31  Monarch Adult (FIRST sighted)    43.485    -83.363   \n",
       "13295    2008-08-31  Monarch Adult (FIRST sighted)    45.000    -79.833   \n",
       "\n",
       "       number  month  \n",
       "13291       1      8  \n",
       "13292       1      8  \n",
       "13293       1      8  \n",
       "13294       1      8  \n",
       "13295       1      8  "
      ]
     },
     "execution_count": 223,
     "metadata": {},
     "output_type": "execute_result"
    }
   ],
   "source": [
    "JNorth_Adult_First_Site_2008_month_df =pd.DataFrame(JNorth_Adult_First_Site_2008_df)\n",
    "JNorth_Adult_First_Site_2008_8_df = JNorth_Adult_First_Site_2008_month_df[JNorth_Adult_First_Site_2008_month_df['month']==8]\n",
    "JNorth_Adult_First_Site_2008_8_df.tail()"
   ]
  },
  {
   "cell_type": "code",
   "execution_count": 224,
   "id": "ac0f88df",
   "metadata": {},
   "outputs": [
    {
     "data": {
      "text/plain": [
       "(155, 6)"
      ]
     },
     "execution_count": 224,
     "metadata": {},
     "output_type": "execute_result"
    }
   ],
   "source": [
    "JNorth_Adult_First_Site_2008_8_df.shape"
   ]
  },
  {
   "cell_type": "code",
   "execution_count": 225,
   "id": "a227591e",
   "metadata": {},
   "outputs": [],
   "source": [
    "JNorth_Adult_First_Site_2008_8_df = pd.DataFrame(JNorth_Adult_First_Site_2008_8_df)\n",
    "JNorth_Adult_First_Site_2008_8_df.drop(['month'], axis=1, inplace=True)"
   ]
  },
  {
   "cell_type": "code",
   "execution_count": 226,
   "id": "4e211578",
   "metadata": {},
   "outputs": [],
   "source": [
    "# convert lat-long to floats and change address from ALL CAPS to regular capitalization\n",
    "JNorth_Adult_First_Site_2008_8_df['latitude'] = JNorth_Adult_First_Site_2008_8_df['latitude'].astype(float)\n",
    "JNorth_Adult_First_Site_2008_8_df['longitude'] = JNorth_Adult_First_Site_2008_8_df['longitude'].astype(float)\n",
    "# JNorth_Milkweed_Site_df['street_address'] = JNorth_Milkweed_Site_df['street_address'].str.title()"
   ]
  },
  {
   "cell_type": "code",
   "execution_count": 227,
   "id": "01db8160",
   "metadata": {},
   "outputs": [],
   "source": [
    "geojson = df_to_geojson(JNorth_Adult_First_Site_2008_8_df, cols)"
   ]
  },
  {
   "cell_type": "code",
   "execution_count": 228,
   "id": "3fdff8db",
   "metadata": {},
   "outputs": [],
   "source": [
    "file = open(\"JNorth_Adult_First_Site_2008_8.geojson\", \"w\")\n",
    "json.dump(geojson, file, indent =1)\n",
    "file.close()"
   ]
  },
  {
   "cell_type": "markdown",
   "id": "15eef5a5",
   "metadata": {},
   "source": [
    "## September"
   ]
  },
  {
   "cell_type": "code",
   "execution_count": 229,
   "id": "4201b041",
   "metadata": {},
   "outputs": [
    {
     "data": {
      "text/html": [
       "<div>\n",
       "<style scoped>\n",
       "    .dataframe tbody tr th:only-of-type {\n",
       "        vertical-align: middle;\n",
       "    }\n",
       "\n",
       "    .dataframe tbody tr th {\n",
       "        vertical-align: top;\n",
       "    }\n",
       "\n",
       "    .dataframe thead th {\n",
       "        text-align: right;\n",
       "    }\n",
       "</style>\n",
       "<table border=\"1\" class=\"dataframe\">\n",
       "  <thead>\n",
       "    <tr style=\"text-align: right;\">\n",
       "      <th></th>\n",
       "      <th>sighting_date</th>\n",
       "      <th>species</th>\n",
       "      <th>latitude</th>\n",
       "      <th>longitude</th>\n",
       "      <th>number</th>\n",
       "      <th>month</th>\n",
       "    </tr>\n",
       "  </thead>\n",
       "  <tbody>\n",
       "    <tr>\n",
       "      <th>13717</th>\n",
       "      <td>2008-09-30</td>\n",
       "      <td>Monarch Adult (FIRST sighted)</td>\n",
       "      <td>40.040</td>\n",
       "      <td>-75.479</td>\n",
       "      <td>1</td>\n",
       "      <td>9</td>\n",
       "    </tr>\n",
       "    <tr>\n",
       "      <th>13718</th>\n",
       "      <td>2008-09-30</td>\n",
       "      <td>Monarch Adult (FIRST sighted)</td>\n",
       "      <td>40.187</td>\n",
       "      <td>-75.438</td>\n",
       "      <td>1</td>\n",
       "      <td>9</td>\n",
       "    </tr>\n",
       "    <tr>\n",
       "      <th>13719</th>\n",
       "      <td>2008-09-30</td>\n",
       "      <td>Monarch Adult (FIRST sighted)</td>\n",
       "      <td>40.257</td>\n",
       "      <td>-74.396</td>\n",
       "      <td>1</td>\n",
       "      <td>9</td>\n",
       "    </tr>\n",
       "    <tr>\n",
       "      <th>13720</th>\n",
       "      <td>2008-09-30</td>\n",
       "      <td>Monarch Adult (FIRST sighted)</td>\n",
       "      <td>40.752</td>\n",
       "      <td>-74.054</td>\n",
       "      <td>1</td>\n",
       "      <td>9</td>\n",
       "    </tr>\n",
       "    <tr>\n",
       "      <th>13721</th>\n",
       "      <td>2008-09-30</td>\n",
       "      <td>Monarch Adult (FIRST sighted)</td>\n",
       "      <td>44.731</td>\n",
       "      <td>-93.291</td>\n",
       "      <td>1</td>\n",
       "      <td>9</td>\n",
       "    </tr>\n",
       "  </tbody>\n",
       "</table>\n",
       "</div>"
      ],
      "text/plain": [
       "      sighting_date                        species  latitude  longitude  \\\n",
       "13717    2008-09-30  Monarch Adult (FIRST sighted)    40.040    -75.479   \n",
       "13718    2008-09-30  Monarch Adult (FIRST sighted)    40.187    -75.438   \n",
       "13719    2008-09-30  Monarch Adult (FIRST sighted)    40.257    -74.396   \n",
       "13720    2008-09-30  Monarch Adult (FIRST sighted)    40.752    -74.054   \n",
       "13721    2008-09-30  Monarch Adult (FIRST sighted)    44.731    -93.291   \n",
       "\n",
       "       number  month  \n",
       "13717       1      9  \n",
       "13718       1      9  \n",
       "13719       1      9  \n",
       "13720       1      9  \n",
       "13721       1      9  "
      ]
     },
     "execution_count": 229,
     "metadata": {},
     "output_type": "execute_result"
    }
   ],
   "source": [
    "JNorth_Adult_First_Site_2008_month_df =pd.DataFrame(JNorth_Adult_First_Site_2008_df)\n",
    "JNorth_Adult_First_Site_2008_9_df = JNorth_Adult_First_Site_2008_month_df[JNorth_Adult_First_Site_2008_month_df['month']==9]\n",
    "JNorth_Adult_First_Site_2008_9_df.tail()"
   ]
  },
  {
   "cell_type": "code",
   "execution_count": 230,
   "id": "516fca91",
   "metadata": {},
   "outputs": [
    {
     "data": {
      "text/plain": [
       "(426, 6)"
      ]
     },
     "execution_count": 230,
     "metadata": {},
     "output_type": "execute_result"
    }
   ],
   "source": [
    "JNorth_Adult_First_Site_2008_9_df.shape"
   ]
  },
  {
   "cell_type": "code",
   "execution_count": 231,
   "id": "a6b91576",
   "metadata": {},
   "outputs": [],
   "source": [
    "JNorth_Adult_First_Site_2008_9_df = pd.DataFrame(JNorth_Adult_First_Site_2008_9_df)\n",
    "JNorth_Adult_First_Site_2008_9_df.drop(['month'], axis=1, inplace=True)"
   ]
  },
  {
   "cell_type": "code",
   "execution_count": 232,
   "id": "8033ae13",
   "metadata": {},
   "outputs": [],
   "source": [
    "# convert lat-long to floats and change address from ALL CAPS to regular capitalization\n",
    "JNorth_Adult_First_Site_2008_9_df['latitude'] = JNorth_Adult_First_Site_2008_9_df['latitude'].astype(float)\n",
    "JNorth_Adult_First_Site_2008_9_df['longitude'] = JNorth_Adult_First_Site_2008_9_df['longitude'].astype(float)\n",
    "# JNorth_Milkweed_Site_df['street_address'] = JNorth_Milkweed_Site_df['street_address'].str.title()"
   ]
  },
  {
   "cell_type": "code",
   "execution_count": 233,
   "id": "da8fe8ce",
   "metadata": {},
   "outputs": [],
   "source": [
    "geojson = df_to_geojson(JNorth_Adult_First_Site_2008_9_df, cols)"
   ]
  },
  {
   "cell_type": "code",
   "execution_count": 234,
   "id": "13e5f165",
   "metadata": {},
   "outputs": [],
   "source": [
    "file = open(\"JNorth_Adult_First_Site_2008_9.geojson\", \"w\")\n",
    "json.dump(geojson, file, indent =1)\n",
    "file.close()"
   ]
  },
  {
   "cell_type": "markdown",
   "id": "ae2cb912",
   "metadata": {},
   "source": [
    "## October"
   ]
  },
  {
   "cell_type": "code",
   "execution_count": 235,
   "id": "4f1607ef",
   "metadata": {},
   "outputs": [
    {
     "data": {
      "text/html": [
       "<div>\n",
       "<style scoped>\n",
       "    .dataframe tbody tr th:only-of-type {\n",
       "        vertical-align: middle;\n",
       "    }\n",
       "\n",
       "    .dataframe tbody tr th {\n",
       "        vertical-align: top;\n",
       "    }\n",
       "\n",
       "    .dataframe thead th {\n",
       "        text-align: right;\n",
       "    }\n",
       "</style>\n",
       "<table border=\"1\" class=\"dataframe\">\n",
       "  <thead>\n",
       "    <tr style=\"text-align: right;\">\n",
       "      <th></th>\n",
       "      <th>sighting_date</th>\n",
       "      <th>species</th>\n",
       "      <th>latitude</th>\n",
       "      <th>longitude</th>\n",
       "      <th>number</th>\n",
       "      <th>month</th>\n",
       "    </tr>\n",
       "  </thead>\n",
       "  <tbody>\n",
       "    <tr>\n",
       "      <th>14026</th>\n",
       "      <td>2008-10-29</td>\n",
       "      <td>Monarch Adult (FIRST sighted)</td>\n",
       "      <td>37.602</td>\n",
       "      <td>-121.660</td>\n",
       "      <td>1</td>\n",
       "      <td>10</td>\n",
       "    </tr>\n",
       "    <tr>\n",
       "      <th>14027</th>\n",
       "      <td>2008-10-29</td>\n",
       "      <td>Monarch Adult (FIRST sighted)</td>\n",
       "      <td>39.107</td>\n",
       "      <td>-84.500</td>\n",
       "      <td>1</td>\n",
       "      <td>10</td>\n",
       "    </tr>\n",
       "    <tr>\n",
       "      <th>14028</th>\n",
       "      <td>2008-10-30</td>\n",
       "      <td>Monarch Adult (FIRST sighted)</td>\n",
       "      <td>30.230</td>\n",
       "      <td>-97.714</td>\n",
       "      <td>1</td>\n",
       "      <td>10</td>\n",
       "    </tr>\n",
       "    <tr>\n",
       "      <th>14029</th>\n",
       "      <td>2008-10-30</td>\n",
       "      <td>Monarch Adult (FIRST sighted)</td>\n",
       "      <td>39.130</td>\n",
       "      <td>-83.012</td>\n",
       "      <td>1</td>\n",
       "      <td>10</td>\n",
       "    </tr>\n",
       "    <tr>\n",
       "      <th>14030</th>\n",
       "      <td>2008-10-31</td>\n",
       "      <td>Monarch Adult (FIRST sighted)</td>\n",
       "      <td>29.310</td>\n",
       "      <td>-81.152</td>\n",
       "      <td>1</td>\n",
       "      <td>10</td>\n",
       "    </tr>\n",
       "  </tbody>\n",
       "</table>\n",
       "</div>"
      ],
      "text/plain": [
       "      sighting_date                        species  latitude  longitude  \\\n",
       "14026    2008-10-29  Monarch Adult (FIRST sighted)    37.602   -121.660   \n",
       "14027    2008-10-29  Monarch Adult (FIRST sighted)    39.107    -84.500   \n",
       "14028    2008-10-30  Monarch Adult (FIRST sighted)    30.230    -97.714   \n",
       "14029    2008-10-30  Monarch Adult (FIRST sighted)    39.130    -83.012   \n",
       "14030    2008-10-31  Monarch Adult (FIRST sighted)    29.310    -81.152   \n",
       "\n",
       "       number  month  \n",
       "14026       1     10  \n",
       "14027       1     10  \n",
       "14028       1     10  \n",
       "14029       1     10  \n",
       "14030       1     10  "
      ]
     },
     "execution_count": 235,
     "metadata": {},
     "output_type": "execute_result"
    }
   ],
   "source": [
    "JNorth_Adult_First_Site_2008_month_df =pd.DataFrame(JNorth_Adult_First_Site_2008_df)\n",
    "JNorth_Adult_First_Site_2008_10_df = JNorth_Adult_First_Site_2008_month_df[JNorth_Adult_First_Site_2008_month_df['month']==10]\n",
    "JNorth_Adult_First_Site_2008_10_df.tail()"
   ]
  },
  {
   "cell_type": "code",
   "execution_count": 236,
   "id": "a53315bd",
   "metadata": {},
   "outputs": [
    {
     "data": {
      "text/plain": [
       "(309, 6)"
      ]
     },
     "execution_count": 236,
     "metadata": {},
     "output_type": "execute_result"
    }
   ],
   "source": [
    "JNorth_Adult_First_Site_2008_10_df.shape"
   ]
  },
  {
   "cell_type": "code",
   "execution_count": 237,
   "id": "3d9e0ab1",
   "metadata": {},
   "outputs": [],
   "source": [
    "JNorth_Adult_First_Site_2008_10_df = pd.DataFrame(JNorth_Adult_First_Site_2008_10_df)\n",
    "JNorth_Adult_First_Site_2008_10_df.drop(['month'], axis=1, inplace=True)"
   ]
  },
  {
   "cell_type": "code",
   "execution_count": 238,
   "id": "0727e4cf",
   "metadata": {},
   "outputs": [],
   "source": [
    "# convert lat-long to floats and change address from ALL CAPS to regular capitalization\n",
    "JNorth_Adult_First_Site_2008_10_df['latitude'] = JNorth_Adult_First_Site_2008_10_df['latitude'].astype(float)\n",
    "JNorth_Adult_First_Site_2008_10_df['longitude'] = JNorth_Adult_First_Site_2008_10_df['longitude'].astype(float)\n",
    "# JNorth_Milkweed_Site_df['street_address'] = JNorth_Milkweed_Site_df['street_address'].str.title()"
   ]
  },
  {
   "cell_type": "code",
   "execution_count": 239,
   "id": "a86f9fa3",
   "metadata": {},
   "outputs": [],
   "source": [
    "geojson = df_to_geojson(JNorth_Adult_First_Site_2008_10_df, cols)"
   ]
  },
  {
   "cell_type": "code",
   "execution_count": 240,
   "id": "99899523",
   "metadata": {},
   "outputs": [],
   "source": [
    "file = open(\"JNorth_Adult_First_Site_2008_10.geojson\", \"w\")\n",
    "json.dump(geojson, file, indent =1)\n",
    "file.close()"
   ]
  },
  {
   "cell_type": "markdown",
   "id": "4b968d63",
   "metadata": {},
   "source": [
    "## November"
   ]
  },
  {
   "cell_type": "code",
   "execution_count": 241,
   "id": "2c7b2095",
   "metadata": {},
   "outputs": [
    {
     "data": {
      "text/html": [
       "<div>\n",
       "<style scoped>\n",
       "    .dataframe tbody tr th:only-of-type {\n",
       "        vertical-align: middle;\n",
       "    }\n",
       "\n",
       "    .dataframe tbody tr th {\n",
       "        vertical-align: top;\n",
       "    }\n",
       "\n",
       "    .dataframe thead th {\n",
       "        text-align: right;\n",
       "    }\n",
       "</style>\n",
       "<table border=\"1\" class=\"dataframe\">\n",
       "  <thead>\n",
       "    <tr style=\"text-align: right;\">\n",
       "      <th></th>\n",
       "      <th>sighting_date</th>\n",
       "      <th>species</th>\n",
       "      <th>latitude</th>\n",
       "      <th>longitude</th>\n",
       "      <th>number</th>\n",
       "      <th>month</th>\n",
       "    </tr>\n",
       "  </thead>\n",
       "  <tbody>\n",
       "    <tr>\n",
       "      <th>14058</th>\n",
       "      <td>2008-11-12</td>\n",
       "      <td>Monarch Adult (FIRST sighted)</td>\n",
       "      <td>33.566</td>\n",
       "      <td>-114.626</td>\n",
       "      <td>1</td>\n",
       "      <td>11</td>\n",
       "    </tr>\n",
       "    <tr>\n",
       "      <th>14059</th>\n",
       "      <td>2008-11-16</td>\n",
       "      <td>Monarch Adult (FIRST sighted)</td>\n",
       "      <td>28.529</td>\n",
       "      <td>-96.679</td>\n",
       "      <td>1</td>\n",
       "      <td>11</td>\n",
       "    </tr>\n",
       "    <tr>\n",
       "      <th>14060</th>\n",
       "      <td>2008-11-16</td>\n",
       "      <td>Monarch Adult (FIRST sighted)</td>\n",
       "      <td>34.238</td>\n",
       "      <td>-118.549</td>\n",
       "      <td>1</td>\n",
       "      <td>11</td>\n",
       "    </tr>\n",
       "    <tr>\n",
       "      <th>14061</th>\n",
       "      <td>2008-11-18</td>\n",
       "      <td>Monarch Adult (FIRST sighted)</td>\n",
       "      <td>30.061</td>\n",
       "      <td>-95.384</td>\n",
       "      <td>1</td>\n",
       "      <td>11</td>\n",
       "    </tr>\n",
       "    <tr>\n",
       "      <th>14062</th>\n",
       "      <td>2008-11-19</td>\n",
       "      <td>Monarch Adult (FIRST sighted)</td>\n",
       "      <td>34.501</td>\n",
       "      <td>-118.059</td>\n",
       "      <td>1</td>\n",
       "      <td>11</td>\n",
       "    </tr>\n",
       "  </tbody>\n",
       "</table>\n",
       "</div>"
      ],
      "text/plain": [
       "      sighting_date                        species  latitude  longitude  \\\n",
       "14058    2008-11-12  Monarch Adult (FIRST sighted)    33.566   -114.626   \n",
       "14059    2008-11-16  Monarch Adult (FIRST sighted)    28.529    -96.679   \n",
       "14060    2008-11-16  Monarch Adult (FIRST sighted)    34.238   -118.549   \n",
       "14061    2008-11-18  Monarch Adult (FIRST sighted)    30.061    -95.384   \n",
       "14062    2008-11-19  Monarch Adult (FIRST sighted)    34.501   -118.059   \n",
       "\n",
       "       number  month  \n",
       "14058       1     11  \n",
       "14059       1     11  \n",
       "14060       1     11  \n",
       "14061       1     11  \n",
       "14062       1     11  "
      ]
     },
     "execution_count": 241,
     "metadata": {},
     "output_type": "execute_result"
    }
   ],
   "source": [
    "JNorth_Adult_First_Site_2008_month_df =pd.DataFrame(JNorth_Adult_First_Site_2008_df)\n",
    "JNorth_Adult_First_Site_2008_11_df = JNorth_Adult_First_Site_2008_month_df[JNorth_Adult_First_Site_2008_month_df['month']==11]\n",
    "JNorth_Adult_First_Site_2008_11_df.tail()"
   ]
  },
  {
   "cell_type": "code",
   "execution_count": 242,
   "id": "fc92dbf5",
   "metadata": {},
   "outputs": [
    {
     "data": {
      "text/plain": [
       "(32, 6)"
      ]
     },
     "execution_count": 242,
     "metadata": {},
     "output_type": "execute_result"
    }
   ],
   "source": [
    "JNorth_Adult_First_Site_2008_11_df.shape"
   ]
  },
  {
   "cell_type": "code",
   "execution_count": 243,
   "id": "f87961bf",
   "metadata": {},
   "outputs": [],
   "source": [
    "JNorth_Adult_First_Site_2008_11_df = pd.DataFrame(JNorth_Adult_First_Site_2008_11_df)\n",
    "JNorth_Adult_First_Site_2008_11_df.drop(['month'], axis=1, inplace=True)"
   ]
  },
  {
   "cell_type": "code",
   "execution_count": 244,
   "id": "bfa4940c",
   "metadata": {},
   "outputs": [],
   "source": [
    "# convert lat-long to floats and change address from ALL CAPS to regular capitalization\n",
    "JNorth_Adult_First_Site_2008_11_df['latitude'] = JNorth_Adult_First_Site_2008_11_df['latitude'].astype(float)\n",
    "JNorth_Adult_First_Site_2008_11_df['longitude'] = JNorth_Adult_First_Site_2008_11_df['longitude'].astype(float)\n",
    "# JNorth_Milkweed_Site_df['street_address'] = JNorth_Milkweed_Site_df['street_address'].str.title()"
   ]
  },
  {
   "cell_type": "code",
   "execution_count": 245,
   "id": "2d6164a8",
   "metadata": {},
   "outputs": [],
   "source": [
    "geojson = df_to_geojson(JNorth_Adult_First_Site_2008_11_df, cols)"
   ]
  },
  {
   "cell_type": "code",
   "execution_count": 246,
   "id": "56e38bba",
   "metadata": {},
   "outputs": [],
   "source": [
    "file = open(\"JNorth_Adult_First_Site_2008_11.geojson\", \"w\")\n",
    "json.dump(geojson, file, indent =1)\n",
    "file.close()"
   ]
  },
  {
   "cell_type": "markdown",
   "id": "2b8ef922",
   "metadata": {},
   "source": [
    "## December"
   ]
  },
  {
   "cell_type": "code",
   "execution_count": 247,
   "id": "af6c5f79",
   "metadata": {},
   "outputs": [
    {
     "data": {
      "text/html": [
       "<div>\n",
       "<style scoped>\n",
       "    .dataframe tbody tr th:only-of-type {\n",
       "        vertical-align: middle;\n",
       "    }\n",
       "\n",
       "    .dataframe tbody tr th {\n",
       "        vertical-align: top;\n",
       "    }\n",
       "\n",
       "    .dataframe thead th {\n",
       "        text-align: right;\n",
       "    }\n",
       "</style>\n",
       "<table border=\"1\" class=\"dataframe\">\n",
       "  <thead>\n",
       "    <tr style=\"text-align: right;\">\n",
       "      <th></th>\n",
       "      <th>sighting_date</th>\n",
       "      <th>species</th>\n",
       "      <th>latitude</th>\n",
       "      <th>longitude</th>\n",
       "      <th>number</th>\n",
       "      <th>month</th>\n",
       "    </tr>\n",
       "  </thead>\n",
       "  <tbody>\n",
       "    <tr>\n",
       "      <th>14063</th>\n",
       "      <td>2008-12-07</td>\n",
       "      <td>Monarch Adult (FIRST sighted)</td>\n",
       "      <td>29.757</td>\n",
       "      <td>-95.365</td>\n",
       "      <td>1</td>\n",
       "      <td>12</td>\n",
       "    </tr>\n",
       "    <tr>\n",
       "      <th>14064</th>\n",
       "      <td>2008-12-14</td>\n",
       "      <td>Monarch Adult (FIRST sighted)</td>\n",
       "      <td>30.230</td>\n",
       "      <td>-97.714</td>\n",
       "      <td>1</td>\n",
       "      <td>12</td>\n",
       "    </tr>\n",
       "  </tbody>\n",
       "</table>\n",
       "</div>"
      ],
      "text/plain": [
       "      sighting_date                        species  latitude  longitude  \\\n",
       "14063    2008-12-07  Monarch Adult (FIRST sighted)    29.757    -95.365   \n",
       "14064    2008-12-14  Monarch Adult (FIRST sighted)    30.230    -97.714   \n",
       "\n",
       "       number  month  \n",
       "14063       1     12  \n",
       "14064       1     12  "
      ]
     },
     "execution_count": 247,
     "metadata": {},
     "output_type": "execute_result"
    }
   ],
   "source": [
    "JNorth_Adult_First_Site_2008_month_df =pd.DataFrame(JNorth_Adult_First_Site_2008_df)\n",
    "JNorth_Adult_First_Site_2008_12_df = JNorth_Adult_First_Site_2008_month_df[JNorth_Adult_First_Site_2008_month_df['month']==12]\n",
    "JNorth_Adult_First_Site_2008_12_df.tail()"
   ]
  },
  {
   "cell_type": "code",
   "execution_count": 248,
   "id": "18b6eb6b",
   "metadata": {},
   "outputs": [
    {
     "data": {
      "text/plain": [
       "(2, 6)"
      ]
     },
     "execution_count": 248,
     "metadata": {},
     "output_type": "execute_result"
    }
   ],
   "source": [
    "JNorth_Adult_First_Site_2008_12_df.shape"
   ]
  },
  {
   "cell_type": "code",
   "execution_count": 249,
   "id": "c0ea8b6c",
   "metadata": {},
   "outputs": [],
   "source": [
    "JNorth_Adult_First_Site_2008_12_df = pd.DataFrame(JNorth_Adult_First_Site_2008_12_df)\n",
    "JNorth_Adult_First_Site_2008_12_df.drop(['month'], axis=1, inplace=True)"
   ]
  },
  {
   "cell_type": "code",
   "execution_count": 250,
   "id": "778d493b",
   "metadata": {},
   "outputs": [],
   "source": [
    "# convert lat-long to floats and change address from ALL CAPS to regular capitalization\n",
    "JNorth_Adult_First_Site_2008_12_df['latitude'] = JNorth_Adult_First_Site_2008_12_df['latitude'].astype(float)\n",
    "JNorth_Adult_First_Site_2008_12_df['longitude'] = JNorth_Adult_First_Site_2008_12_df['longitude'].astype(float)\n",
    "# JNorth_Milkweed_Site_df['street_address'] = JNorth_Milkweed_Site_df['street_address'].str.title()"
   ]
  },
  {
   "cell_type": "code",
   "execution_count": 251,
   "id": "417d2972",
   "metadata": {},
   "outputs": [],
   "source": [
    "geojson = df_to_geojson(JNorth_Adult_First_Site_2008_12_df, cols)"
   ]
  },
  {
   "cell_type": "code",
   "execution_count": 252,
   "id": "2a518380",
   "metadata": {},
   "outputs": [],
   "source": [
    "file = open(\"JNorth_Adult_First_Site_2008_12.geojson\", \"w\")\n",
    "json.dump(geojson, file, indent =1)\n",
    "file.close()"
   ]
  },
  {
   "cell_type": "markdown",
   "id": "37696255",
   "metadata": {},
   "source": [
    "# 2009"
   ]
  },
  {
   "cell_type": "code",
   "execution_count": 253,
   "id": "c5711fe9",
   "metadata": {},
   "outputs": [
    {
     "data": {
      "text/html": [
       "<div>\n",
       "<style scoped>\n",
       "    .dataframe tbody tr th:only-of-type {\n",
       "        vertical-align: middle;\n",
       "    }\n",
       "\n",
       "    .dataframe tbody tr th {\n",
       "        vertical-align: top;\n",
       "    }\n",
       "\n",
       "    .dataframe thead th {\n",
       "        text-align: right;\n",
       "    }\n",
       "</style>\n",
       "<table border=\"1\" class=\"dataframe\">\n",
       "  <thead>\n",
       "    <tr style=\"text-align: right;\">\n",
       "      <th></th>\n",
       "      <th>sighting_date</th>\n",
       "      <th>species</th>\n",
       "      <th>latitude</th>\n",
       "      <th>longitude</th>\n",
       "      <th>number</th>\n",
       "      <th>year</th>\n",
       "    </tr>\n",
       "  </thead>\n",
       "  <tbody>\n",
       "    <tr>\n",
       "      <th>16523</th>\n",
       "      <td>2009-11-23</td>\n",
       "      <td>Monarch Adult (FIRST sighted)</td>\n",
       "      <td>30.209</td>\n",
       "      <td>-98.657</td>\n",
       "      <td>1</td>\n",
       "      <td>2009</td>\n",
       "    </tr>\n",
       "    <tr>\n",
       "      <th>16524</th>\n",
       "      <td>2009-11-30</td>\n",
       "      <td>Monarch Adult (FIRST sighted)</td>\n",
       "      <td>29.310</td>\n",
       "      <td>-81.152</td>\n",
       "      <td>1</td>\n",
       "      <td>2009</td>\n",
       "    </tr>\n",
       "    <tr>\n",
       "      <th>16525</th>\n",
       "      <td>2009-12-03</td>\n",
       "      <td>Monarch Adult (FIRST sighted)</td>\n",
       "      <td>32.845</td>\n",
       "      <td>-79.811</td>\n",
       "      <td>1</td>\n",
       "      <td>2009</td>\n",
       "    </tr>\n",
       "    <tr>\n",
       "      <th>16526</th>\n",
       "      <td>2009-12-15</td>\n",
       "      <td>Monarch Adult (FIRST sighted)</td>\n",
       "      <td>27.770</td>\n",
       "      <td>-82.637</td>\n",
       "      <td>1</td>\n",
       "      <td>2009</td>\n",
       "    </tr>\n",
       "    <tr>\n",
       "      <th>16527</th>\n",
       "      <td>2009-12-25</td>\n",
       "      <td>Monarch Adult (FIRST sighted)</td>\n",
       "      <td>37.777</td>\n",
       "      <td>-122.217</td>\n",
       "      <td>1</td>\n",
       "      <td>2009</td>\n",
       "    </tr>\n",
       "  </tbody>\n",
       "</table>\n",
       "</div>"
      ],
      "text/plain": [
       "      sighting_date                        species  latitude  longitude  \\\n",
       "16523    2009-11-23  Monarch Adult (FIRST sighted)    30.209    -98.657   \n",
       "16524    2009-11-30  Monarch Adult (FIRST sighted)    29.310    -81.152   \n",
       "16525    2009-12-03  Monarch Adult (FIRST sighted)    32.845    -79.811   \n",
       "16526    2009-12-15  Monarch Adult (FIRST sighted)    27.770    -82.637   \n",
       "16527    2009-12-25  Monarch Adult (FIRST sighted)    37.777   -122.217   \n",
       "\n",
       "       number  year  \n",
       "16523       1  2009  \n",
       "16524       1  2009  \n",
       "16525       1  2009  \n",
       "16526       1  2009  \n",
       "16527       1  2009  "
      ]
     },
     "execution_count": 253,
     "metadata": {},
     "output_type": "execute_result"
    }
   ],
   "source": [
    "JNorth_Adult_First_Site_2009_df = JNorth_Adult_First_Site_year_df[JNorth_Adult_First_Site_year_df['year']==2009]\n",
    "JNorth_Adult_First_Site_2009_df.tail()"
   ]
  },
  {
   "cell_type": "code",
   "execution_count": 254,
   "id": "aa5b49d4",
   "metadata": {},
   "outputs": [
    {
     "data": {
      "text/plain": [
       "(2463, 6)"
      ]
     },
     "execution_count": 254,
     "metadata": {},
     "output_type": "execute_result"
    }
   ],
   "source": [
    "JNorth_Adult_First_Site_2009_df.shape"
   ]
  },
  {
   "cell_type": "code",
   "execution_count": 255,
   "id": "a1f18555",
   "metadata": {},
   "outputs": [],
   "source": [
    "JNorth_Adult_First_Site_2009_df = pd.DataFrame(JNorth_Adult_First_Site_2009_df)\n",
    "JNorth_Adult_First_Site_2009_df.drop(['year'], axis=1, inplace=True)"
   ]
  },
  {
   "cell_type": "code",
   "execution_count": 256,
   "id": "67e0613b",
   "metadata": {},
   "outputs": [
    {
     "data": {
      "text/plain": [
       "<bound method NDFrame.tail of       sighting_date                        species  latitude  longitude  \\\n",
       "14065    2009-01-18  Monarch Adult (FIRST sighted)    33.422    -84.469   \n",
       "14066    2009-02-09  Monarch Adult (FIRST sighted)    29.836    -95.735   \n",
       "14067    2009-02-12  Monarch Adult (FIRST sighted)    30.613    -96.320   \n",
       "14068    2009-02-12  Monarch Adult (FIRST sighted)    32.080    -81.107   \n",
       "14069    2009-02-13  Monarch Adult (FIRST sighted)    27.770    -82.640   \n",
       "...             ...                            ...       ...        ...   \n",
       "16523    2009-11-23  Monarch Adult (FIRST sighted)    30.209    -98.657   \n",
       "16524    2009-11-30  Monarch Adult (FIRST sighted)    29.310    -81.152   \n",
       "16525    2009-12-03  Monarch Adult (FIRST sighted)    32.845    -79.811   \n",
       "16526    2009-12-15  Monarch Adult (FIRST sighted)    27.770    -82.637   \n",
       "16527    2009-12-25  Monarch Adult (FIRST sighted)    37.777   -122.217   \n",
       "\n",
       "       number  \n",
       "14065       1  \n",
       "14066       2  \n",
       "14067       1  \n",
       "14068       1  \n",
       "14069       1  \n",
       "...       ...  \n",
       "16523       1  \n",
       "16524       1  \n",
       "16525       1  \n",
       "16526       1  \n",
       "16527       1  \n",
       "\n",
       "[2463 rows x 5 columns]>"
      ]
     },
     "execution_count": 256,
     "metadata": {},
     "output_type": "execute_result"
    }
   ],
   "source": [
    "JNorth_Adult_First_Site_2009_df.tail"
   ]
  },
  {
   "cell_type": "code",
   "execution_count": 257,
   "id": "101e0e9c",
   "metadata": {},
   "outputs": [],
   "source": [
    "JNorth_Adult_First_Site_2009_df['month'] = pd.DatetimeIndex(JNorth_Adult_First_Site_2009_df['sighting_date']).month"
   ]
  },
  {
   "cell_type": "markdown",
   "id": "a21ec5a6",
   "metadata": {},
   "source": [
    "## January"
   ]
  },
  {
   "cell_type": "code",
   "execution_count": 258,
   "id": "cba59950",
   "metadata": {},
   "outputs": [
    {
     "data": {
      "text/html": [
       "<div>\n",
       "<style scoped>\n",
       "    .dataframe tbody tr th:only-of-type {\n",
       "        vertical-align: middle;\n",
       "    }\n",
       "\n",
       "    .dataframe tbody tr th {\n",
       "        vertical-align: top;\n",
       "    }\n",
       "\n",
       "    .dataframe thead th {\n",
       "        text-align: right;\n",
       "    }\n",
       "</style>\n",
       "<table border=\"1\" class=\"dataframe\">\n",
       "  <thead>\n",
       "    <tr style=\"text-align: right;\">\n",
       "      <th></th>\n",
       "      <th>sighting_date</th>\n",
       "      <th>species</th>\n",
       "      <th>latitude</th>\n",
       "      <th>longitude</th>\n",
       "      <th>number</th>\n",
       "      <th>month</th>\n",
       "    </tr>\n",
       "  </thead>\n",
       "  <tbody>\n",
       "    <tr>\n",
       "      <th>14065</th>\n",
       "      <td>2009-01-18</td>\n",
       "      <td>Monarch Adult (FIRST sighted)</td>\n",
       "      <td>33.422</td>\n",
       "      <td>-84.469</td>\n",
       "      <td>1</td>\n",
       "      <td>1</td>\n",
       "    </tr>\n",
       "  </tbody>\n",
       "</table>\n",
       "</div>"
      ],
      "text/plain": [
       "      sighting_date                        species  latitude  longitude  \\\n",
       "14065    2009-01-18  Monarch Adult (FIRST sighted)    33.422    -84.469   \n",
       "\n",
       "       number  month  \n",
       "14065       1      1  "
      ]
     },
     "execution_count": 258,
     "metadata": {},
     "output_type": "execute_result"
    }
   ],
   "source": [
    "JNorth_Adult_First_Site_2009_month_df =pd.DataFrame(JNorth_Adult_First_Site_2009_df)\n",
    "JNorth_Adult_First_Site_2009_1_df = JNorth_Adult_First_Site_2009_month_df[JNorth_Adult_First_Site_2009_month_df['month']==1]\n",
    "JNorth_Adult_First_Site_2009_1_df.tail()"
   ]
  },
  {
   "cell_type": "code",
   "execution_count": 259,
   "id": "e4f50cc1",
   "metadata": {},
   "outputs": [
    {
     "data": {
      "text/plain": [
       "(1, 6)"
      ]
     },
     "execution_count": 259,
     "metadata": {},
     "output_type": "execute_result"
    }
   ],
   "source": [
    "JNorth_Adult_First_Site_2009_1_df.shape"
   ]
  },
  {
   "cell_type": "code",
   "execution_count": 260,
   "id": "6648dc94",
   "metadata": {},
   "outputs": [],
   "source": [
    "JNorth_Adult_First_Site_2009_1_df = pd.DataFrame(JNorth_Adult_First_Site_2009_1_df)\n",
    "JNorth_Adult_First_Site_2009_1_df.drop(['month'], axis=1, inplace=True)"
   ]
  },
  {
   "cell_type": "code",
   "execution_count": 261,
   "id": "4b0457dd",
   "metadata": {},
   "outputs": [],
   "source": [
    "# convert lat-long to floats and change address from ALL CAPS to regular capitalization\n",
    "JNorth_Adult_First_Site_2009_1_df['latitude'] = JNorth_Adult_First_Site_2009_1_df['latitude'].astype(float)\n",
    "JNorth_Adult_First_Site_2009_1_df['longitude'] = JNorth_Adult_First_Site_2009_1_df['longitude'].astype(float)\n",
    "# JNorth_Milkweed_Site_df['street_address'] = JNorth_Milkweed_Site_df['street_address'].str.title()"
   ]
  },
  {
   "cell_type": "code",
   "execution_count": 262,
   "id": "68a03ebb",
   "metadata": {},
   "outputs": [],
   "source": [
    "geojson = df_to_geojson(JNorth_Adult_First_Site_2009_1_df, cols)"
   ]
  },
  {
   "cell_type": "code",
   "execution_count": 263,
   "id": "d5ffc5d6",
   "metadata": {},
   "outputs": [],
   "source": [
    "file = open(\"JNorth_Adult_First_Site_2009_1.geojson\", \"w\")\n",
    "json.dump(geojson, file, indent =1)\n",
    "file.close()"
   ]
  },
  {
   "cell_type": "markdown",
   "id": "d5873010",
   "metadata": {},
   "source": [
    "## February"
   ]
  },
  {
   "cell_type": "code",
   "execution_count": 264,
   "id": "44a69ab5",
   "metadata": {},
   "outputs": [
    {
     "data": {
      "text/html": [
       "<div>\n",
       "<style scoped>\n",
       "    .dataframe tbody tr th:only-of-type {\n",
       "        vertical-align: middle;\n",
       "    }\n",
       "\n",
       "    .dataframe tbody tr th {\n",
       "        vertical-align: top;\n",
       "    }\n",
       "\n",
       "    .dataframe thead th {\n",
       "        text-align: right;\n",
       "    }\n",
       "</style>\n",
       "<table border=\"1\" class=\"dataframe\">\n",
       "  <thead>\n",
       "    <tr style=\"text-align: right;\">\n",
       "      <th></th>\n",
       "      <th>sighting_date</th>\n",
       "      <th>species</th>\n",
       "      <th>latitude</th>\n",
       "      <th>longitude</th>\n",
       "      <th>number</th>\n",
       "      <th>month</th>\n",
       "    </tr>\n",
       "  </thead>\n",
       "  <tbody>\n",
       "    <tr>\n",
       "      <th>14077</th>\n",
       "      <td>2009-02-18</td>\n",
       "      <td>Monarch Adult (FIRST sighted)</td>\n",
       "      <td>29.467</td>\n",
       "      <td>-95.967</td>\n",
       "      <td>1</td>\n",
       "      <td>2</td>\n",
       "    </tr>\n",
       "    <tr>\n",
       "      <th>14078</th>\n",
       "      <td>2009-02-19</td>\n",
       "      <td>Monarch Adult (FIRST sighted)</td>\n",
       "      <td>28.228</td>\n",
       "      <td>-96.644</td>\n",
       "      <td>1</td>\n",
       "      <td>2</td>\n",
       "    </tr>\n",
       "    <tr>\n",
       "      <th>14079</th>\n",
       "      <td>2009-02-20</td>\n",
       "      <td>Monarch Adult (FIRST sighted)</td>\n",
       "      <td>29.757</td>\n",
       "      <td>-95.365</td>\n",
       "      <td>1</td>\n",
       "      <td>2</td>\n",
       "    </tr>\n",
       "    <tr>\n",
       "      <th>14080</th>\n",
       "      <td>2009-02-26</td>\n",
       "      <td>Monarch Adult (FIRST sighted)</td>\n",
       "      <td>29.996</td>\n",
       "      <td>-95.680</td>\n",
       "      <td>1</td>\n",
       "      <td>2</td>\n",
       "    </tr>\n",
       "    <tr>\n",
       "      <th>14081</th>\n",
       "      <td>2009-02-27</td>\n",
       "      <td>Monarch Adult (FIRST sighted)</td>\n",
       "      <td>30.034</td>\n",
       "      <td>-95.261</td>\n",
       "      <td>1</td>\n",
       "      <td>2</td>\n",
       "    </tr>\n",
       "  </tbody>\n",
       "</table>\n",
       "</div>"
      ],
      "text/plain": [
       "      sighting_date                        species  latitude  longitude  \\\n",
       "14077    2009-02-18  Monarch Adult (FIRST sighted)    29.467    -95.967   \n",
       "14078    2009-02-19  Monarch Adult (FIRST sighted)    28.228    -96.644   \n",
       "14079    2009-02-20  Monarch Adult (FIRST sighted)    29.757    -95.365   \n",
       "14080    2009-02-26  Monarch Adult (FIRST sighted)    29.996    -95.680   \n",
       "14081    2009-02-27  Monarch Adult (FIRST sighted)    30.034    -95.261   \n",
       "\n",
       "       number  month  \n",
       "14077       1      2  \n",
       "14078       1      2  \n",
       "14079       1      2  \n",
       "14080       1      2  \n",
       "14081       1      2  "
      ]
     },
     "execution_count": 264,
     "metadata": {},
     "output_type": "execute_result"
    }
   ],
   "source": [
    "JNorth_Adult_First_Site_2009_month_df =pd.DataFrame(JNorth_Adult_First_Site_2009_df)\n",
    "JNorth_Adult_First_Site_2009_2_df = JNorth_Adult_First_Site_2009_month_df[JNorth_Adult_First_Site_2009_month_df['month']==2]\n",
    "JNorth_Adult_First_Site_2009_2_df.tail()"
   ]
  },
  {
   "cell_type": "code",
   "execution_count": 265,
   "id": "d53e5084",
   "metadata": {},
   "outputs": [
    {
     "data": {
      "text/plain": [
       "(16, 6)"
      ]
     },
     "execution_count": 265,
     "metadata": {},
     "output_type": "execute_result"
    }
   ],
   "source": [
    "JNorth_Adult_First_Site_2009_2_df.shape"
   ]
  },
  {
   "cell_type": "code",
   "execution_count": 266,
   "id": "0e83f703",
   "metadata": {},
   "outputs": [],
   "source": [
    "JNorth_Adult_First_Site_2009_2_df = pd.DataFrame(JNorth_Adult_First_Site_2009_2_df)\n",
    "JNorth_Adult_First_Site_2009_2_df.drop(['month'], axis=1, inplace=True)"
   ]
  },
  {
   "cell_type": "code",
   "execution_count": 267,
   "id": "4a4a84a2",
   "metadata": {},
   "outputs": [],
   "source": [
    "# convert lat-long to floats and change address from ALL CAPS to regular capitalization\n",
    "JNorth_Adult_First_Site_2009_2_df['latitude'] = JNorth_Adult_First_Site_2009_2_df['latitude'].astype(float)\n",
    "JNorth_Adult_First_Site_2009_2_df['longitude'] = JNorth_Adult_First_Site_2009_2_df['longitude'].astype(float)\n",
    "# JNorth_Milkweed_Site_df['street_address'] = JNorth_Milkweed_Site_df['street_address'].str.title()"
   ]
  },
  {
   "cell_type": "code",
   "execution_count": 268,
   "id": "3cbf2fba",
   "metadata": {},
   "outputs": [],
   "source": [
    "geojson = df_to_geojson(JNorth_Adult_First_Site_2009_2_df, cols)"
   ]
  },
  {
   "cell_type": "code",
   "execution_count": 269,
   "id": "82350196",
   "metadata": {},
   "outputs": [],
   "source": [
    "file = open(\"JNorth_Adult_First_Site_2009_2.geojson\", \"w\")\n",
    "json.dump(geojson, file, indent =1)\n",
    "file.close()"
   ]
  },
  {
   "cell_type": "markdown",
   "id": "77061a71",
   "metadata": {},
   "source": [
    "## March"
   ]
  },
  {
   "cell_type": "code",
   "execution_count": 270,
   "id": "b85708c1",
   "metadata": {},
   "outputs": [
    {
     "data": {
      "text/html": [
       "<div>\n",
       "<style scoped>\n",
       "    .dataframe tbody tr th:only-of-type {\n",
       "        vertical-align: middle;\n",
       "    }\n",
       "\n",
       "    .dataframe tbody tr th {\n",
       "        vertical-align: top;\n",
       "    }\n",
       "\n",
       "    .dataframe thead th {\n",
       "        text-align: right;\n",
       "    }\n",
       "</style>\n",
       "<table border=\"1\" class=\"dataframe\">\n",
       "  <thead>\n",
       "    <tr style=\"text-align: right;\">\n",
       "      <th></th>\n",
       "      <th>sighting_date</th>\n",
       "      <th>species</th>\n",
       "      <th>latitude</th>\n",
       "      <th>longitude</th>\n",
       "      <th>number</th>\n",
       "      <th>month</th>\n",
       "    </tr>\n",
       "  </thead>\n",
       "  <tbody>\n",
       "    <tr>\n",
       "      <th>14260</th>\n",
       "      <td>2009-03-30</td>\n",
       "      <td>Monarch Adult (FIRST sighted)</td>\n",
       "      <td>35.143</td>\n",
       "      <td>-90.187</td>\n",
       "      <td>1</td>\n",
       "      <td>3</td>\n",
       "    </tr>\n",
       "    <tr>\n",
       "      <th>14261</th>\n",
       "      <td>2009-03-31</td>\n",
       "      <td>Monarch Adult (FIRST sighted)</td>\n",
       "      <td>30.230</td>\n",
       "      <td>-97.714</td>\n",
       "      <td>1</td>\n",
       "      <td>3</td>\n",
       "    </tr>\n",
       "    <tr>\n",
       "      <th>14262</th>\n",
       "      <td>2009-03-31</td>\n",
       "      <td>Monarch Adult (FIRST sighted)</td>\n",
       "      <td>32.347</td>\n",
       "      <td>-96.580</td>\n",
       "      <td>1</td>\n",
       "      <td>3</td>\n",
       "    </tr>\n",
       "    <tr>\n",
       "      <th>14263</th>\n",
       "      <td>2009-03-31</td>\n",
       "      <td>Monarch Adult (FIRST sighted)</td>\n",
       "      <td>34.089</td>\n",
       "      <td>-93.050</td>\n",
       "      <td>1</td>\n",
       "      <td>3</td>\n",
       "    </tr>\n",
       "    <tr>\n",
       "      <th>14264</th>\n",
       "      <td>2009-03-31</td>\n",
       "      <td>Monarch Adult (FIRST sighted)</td>\n",
       "      <td>38.494</td>\n",
       "      <td>-122.267</td>\n",
       "      <td>1</td>\n",
       "      <td>3</td>\n",
       "    </tr>\n",
       "  </tbody>\n",
       "</table>\n",
       "</div>"
      ],
      "text/plain": [
       "      sighting_date                        species  latitude  longitude  \\\n",
       "14260    2009-03-30  Monarch Adult (FIRST sighted)    35.143    -90.187   \n",
       "14261    2009-03-31  Monarch Adult (FIRST sighted)    30.230    -97.714   \n",
       "14262    2009-03-31  Monarch Adult (FIRST sighted)    32.347    -96.580   \n",
       "14263    2009-03-31  Monarch Adult (FIRST sighted)    34.089    -93.050   \n",
       "14264    2009-03-31  Monarch Adult (FIRST sighted)    38.494   -122.267   \n",
       "\n",
       "       number  month  \n",
       "14260       1      3  \n",
       "14261       1      3  \n",
       "14262       1      3  \n",
       "14263       1      3  \n",
       "14264       1      3  "
      ]
     },
     "execution_count": 270,
     "metadata": {},
     "output_type": "execute_result"
    }
   ],
   "source": [
    "JNorth_Adult_First_Site_2009_month_df =pd.DataFrame(JNorth_Adult_First_Site_2009_df)\n",
    "JNorth_Adult_First_Site_2009_3_df = JNorth_Adult_First_Site_2009_month_df[JNorth_Adult_First_Site_2009_month_df['month']==3]\n",
    "JNorth_Adult_First_Site_2009_3_df.tail()"
   ]
  },
  {
   "cell_type": "code",
   "execution_count": 271,
   "id": "52d84ebf",
   "metadata": {},
   "outputs": [
    {
     "data": {
      "text/plain": [
       "(183, 6)"
      ]
     },
     "execution_count": 271,
     "metadata": {},
     "output_type": "execute_result"
    }
   ],
   "source": [
    "JNorth_Adult_First_Site_2009_3_df.shape"
   ]
  },
  {
   "cell_type": "code",
   "execution_count": 272,
   "id": "7e18485a",
   "metadata": {},
   "outputs": [],
   "source": [
    "JNorth_Adult_First_Site_2009_3_df = pd.DataFrame(JNorth_Adult_First_Site_2009_3_df)\n",
    "JNorth_Adult_First_Site_2009_3_df.drop(['month'], axis=1, inplace=True)"
   ]
  },
  {
   "cell_type": "code",
   "execution_count": 273,
   "id": "d4c0a1cd",
   "metadata": {},
   "outputs": [],
   "source": [
    "# convert lat-long to floats and change address from ALL CAPS to regular capitalization\n",
    "JNorth_Adult_First_Site_2009_3_df['latitude'] = JNorth_Adult_First_Site_2009_3_df['latitude'].astype(float)\n",
    "JNorth_Adult_First_Site_2009_3_df['longitude'] = JNorth_Adult_First_Site_2009_3_df['longitude'].astype(float)\n",
    "# JNorth_Milkweed_Site_df['street_address'] = JNorth_Milkweed_Site_df['street_address'].str.title()"
   ]
  },
  {
   "cell_type": "code",
   "execution_count": 274,
   "id": "765e97ac",
   "metadata": {},
   "outputs": [],
   "source": [
    "geojson = df_to_geojson(JNorth_Adult_First_Site_2009_3_df, cols)"
   ]
  },
  {
   "cell_type": "code",
   "execution_count": 275,
   "id": "82ef8d30",
   "metadata": {},
   "outputs": [],
   "source": [
    "file = open(\"JNorth_Adult_First_Site_2009_3.geojson\", \"w\")\n",
    "json.dump(geojson, file, indent =1)\n",
    "file.close()"
   ]
  },
  {
   "cell_type": "markdown",
   "id": "eb9ba3a4",
   "metadata": {},
   "source": [
    "## April"
   ]
  },
  {
   "cell_type": "code",
   "execution_count": 276,
   "id": "048f6cf2",
   "metadata": {},
   "outputs": [
    {
     "data": {
      "text/html": [
       "<div>\n",
       "<style scoped>\n",
       "    .dataframe tbody tr th:only-of-type {\n",
       "        vertical-align: middle;\n",
       "    }\n",
       "\n",
       "    .dataframe tbody tr th {\n",
       "        vertical-align: top;\n",
       "    }\n",
       "\n",
       "    .dataframe thead th {\n",
       "        text-align: right;\n",
       "    }\n",
       "</style>\n",
       "<table border=\"1\" class=\"dataframe\">\n",
       "  <thead>\n",
       "    <tr style=\"text-align: right;\">\n",
       "      <th></th>\n",
       "      <th>sighting_date</th>\n",
       "      <th>species</th>\n",
       "      <th>latitude</th>\n",
       "      <th>longitude</th>\n",
       "      <th>number</th>\n",
       "      <th>month</th>\n",
       "    </tr>\n",
       "  </thead>\n",
       "  <tbody>\n",
       "    <tr>\n",
       "      <th>14479</th>\n",
       "      <td>2009-04-29</td>\n",
       "      <td>Monarch Adult (FIRST sighted)</td>\n",
       "      <td>41.355</td>\n",
       "      <td>-72.399</td>\n",
       "      <td>1</td>\n",
       "      <td>4</td>\n",
       "    </tr>\n",
       "    <tr>\n",
       "      <th>14480</th>\n",
       "      <td>2009-04-30</td>\n",
       "      <td>Monarch Adult (FIRST sighted)</td>\n",
       "      <td>34.391</td>\n",
       "      <td>-101.712</td>\n",
       "      <td>1</td>\n",
       "      <td>4</td>\n",
       "    </tr>\n",
       "    <tr>\n",
       "      <th>14481</th>\n",
       "      <td>2009-04-30</td>\n",
       "      <td>Monarch Adult (FIRST sighted)</td>\n",
       "      <td>40.363</td>\n",
       "      <td>-76.143</td>\n",
       "      <td>1</td>\n",
       "      <td>4</td>\n",
       "    </tr>\n",
       "    <tr>\n",
       "      <th>14482</th>\n",
       "      <td>2009-04-30</td>\n",
       "      <td>Monarch Adult (FIRST sighted)</td>\n",
       "      <td>40.407</td>\n",
       "      <td>-76.869</td>\n",
       "      <td>1</td>\n",
       "      <td>4</td>\n",
       "    </tr>\n",
       "    <tr>\n",
       "      <th>14483</th>\n",
       "      <td>2009-04-30</td>\n",
       "      <td>Monarch Adult (FIRST sighted)</td>\n",
       "      <td>40.538</td>\n",
       "      <td>-88.986</td>\n",
       "      <td>1</td>\n",
       "      <td>4</td>\n",
       "    </tr>\n",
       "  </tbody>\n",
       "</table>\n",
       "</div>"
      ],
      "text/plain": [
       "      sighting_date                        species  latitude  longitude  \\\n",
       "14479    2009-04-29  Monarch Adult (FIRST sighted)    41.355    -72.399   \n",
       "14480    2009-04-30  Monarch Adult (FIRST sighted)    34.391   -101.712   \n",
       "14481    2009-04-30  Monarch Adult (FIRST sighted)    40.363    -76.143   \n",
       "14482    2009-04-30  Monarch Adult (FIRST sighted)    40.407    -76.869   \n",
       "14483    2009-04-30  Monarch Adult (FIRST sighted)    40.538    -88.986   \n",
       "\n",
       "       number  month  \n",
       "14479       1      4  \n",
       "14480       1      4  \n",
       "14481       1      4  \n",
       "14482       1      4  \n",
       "14483       1      4  "
      ]
     },
     "execution_count": 276,
     "metadata": {},
     "output_type": "execute_result"
    }
   ],
   "source": [
    "JNorth_Adult_First_Site_2009_month_df =pd.DataFrame(JNorth_Adult_First_Site_2009_df)\n",
    "JNorth_Adult_First_Site_2009_4_df = JNorth_Adult_First_Site_2009_month_df[JNorth_Adult_First_Site_2009_month_df['month']==4]\n",
    "JNorth_Adult_First_Site_2009_4_df.tail()"
   ]
  },
  {
   "cell_type": "code",
   "execution_count": 277,
   "id": "aee6f7fd",
   "metadata": {},
   "outputs": [
    {
     "data": {
      "text/plain": [
       "(219, 6)"
      ]
     },
     "execution_count": 277,
     "metadata": {},
     "output_type": "execute_result"
    }
   ],
   "source": [
    "JNorth_Adult_First_Site_2009_4_df.shape"
   ]
  },
  {
   "cell_type": "code",
   "execution_count": 278,
   "id": "9c7faf6f",
   "metadata": {},
   "outputs": [],
   "source": [
    "JNorth_Adult_First_Site_2009_4_df = pd.DataFrame(JNorth_Adult_First_Site_2009_4_df)\n",
    "JNorth_Adult_First_Site_2009_4_df.drop(['month'], axis=1, inplace=True)"
   ]
  },
  {
   "cell_type": "code",
   "execution_count": 279,
   "id": "b2abce47",
   "metadata": {},
   "outputs": [],
   "source": [
    "# convert lat-long to floats and change address from ALL CAPS to regular capitalization\n",
    "JNorth_Adult_First_Site_2009_4_df['latitude'] = JNorth_Adult_First_Site_2009_4_df['latitude'].astype(float)\n",
    "JNorth_Adult_First_Site_2009_4_df['longitude'] = JNorth_Adult_First_Site_2009_4_df['longitude'].astype(float)\n",
    "# JNorth_Milkweed_Site_df['street_address'] = JNorth_Milkweed_Site_df['street_address'].str.title()"
   ]
  },
  {
   "cell_type": "code",
   "execution_count": 280,
   "id": "b4dd7e9b",
   "metadata": {},
   "outputs": [],
   "source": [
    "geojson = df_to_geojson(JNorth_Adult_First_Site_2009_4_df, cols)"
   ]
  },
  {
   "cell_type": "code",
   "execution_count": 281,
   "id": "c22bd60e",
   "metadata": {},
   "outputs": [],
   "source": [
    "file = open(\"JNorth_Adult_First_Site_2009_4.geojson\", \"w\")\n",
    "json.dump(geojson, file, indent =1)\n",
    "file.close()"
   ]
  },
  {
   "cell_type": "markdown",
   "id": "f6e85297",
   "metadata": {},
   "source": [
    "## May"
   ]
  },
  {
   "cell_type": "code",
   "execution_count": 282,
   "id": "4740a950",
   "metadata": {},
   "outputs": [
    {
     "data": {
      "text/html": [
       "<div>\n",
       "<style scoped>\n",
       "    .dataframe tbody tr th:only-of-type {\n",
       "        vertical-align: middle;\n",
       "    }\n",
       "\n",
       "    .dataframe tbody tr th {\n",
       "        vertical-align: top;\n",
       "    }\n",
       "\n",
       "    .dataframe thead th {\n",
       "        text-align: right;\n",
       "    }\n",
       "</style>\n",
       "<table border=\"1\" class=\"dataframe\">\n",
       "  <thead>\n",
       "    <tr style=\"text-align: right;\">\n",
       "      <th></th>\n",
       "      <th>sighting_date</th>\n",
       "      <th>species</th>\n",
       "      <th>latitude</th>\n",
       "      <th>longitude</th>\n",
       "      <th>number</th>\n",
       "      <th>month</th>\n",
       "    </tr>\n",
       "  </thead>\n",
       "  <tbody>\n",
       "    <tr>\n",
       "      <th>14702</th>\n",
       "      <td>2009-05-31</td>\n",
       "      <td>Monarch Adult (FIRST sighted)</td>\n",
       "      <td>44.297</td>\n",
       "      <td>-90.748</td>\n",
       "      <td>1</td>\n",
       "      <td>5</td>\n",
       "    </tr>\n",
       "    <tr>\n",
       "      <th>14703</th>\n",
       "      <td>2009-05-31</td>\n",
       "      <td>Monarch Adult (FIRST sighted)</td>\n",
       "      <td>44.300</td>\n",
       "      <td>-80.100</td>\n",
       "      <td>1</td>\n",
       "      <td>5</td>\n",
       "    </tr>\n",
       "    <tr>\n",
       "      <th>14704</th>\n",
       "      <td>2009-05-31</td>\n",
       "      <td>Monarch Adult (FIRST sighted)</td>\n",
       "      <td>44.766</td>\n",
       "      <td>-89.706</td>\n",
       "      <td>1</td>\n",
       "      <td>5</td>\n",
       "    </tr>\n",
       "    <tr>\n",
       "      <th>14705</th>\n",
       "      <td>2009-05-31</td>\n",
       "      <td>Monarch Adult (FIRST sighted)</td>\n",
       "      <td>45.095</td>\n",
       "      <td>-93.548</td>\n",
       "      <td>1</td>\n",
       "      <td>5</td>\n",
       "    </tr>\n",
       "    <tr>\n",
       "      <th>14706</th>\n",
       "      <td>2009-05-31</td>\n",
       "      <td>Monarch Adult (FIRST sighted)</td>\n",
       "      <td>45.701</td>\n",
       "      <td>-95.023</td>\n",
       "      <td>1</td>\n",
       "      <td>5</td>\n",
       "    </tr>\n",
       "  </tbody>\n",
       "</table>\n",
       "</div>"
      ],
      "text/plain": [
       "      sighting_date                        species  latitude  longitude  \\\n",
       "14702    2009-05-31  Monarch Adult (FIRST sighted)    44.297    -90.748   \n",
       "14703    2009-05-31  Monarch Adult (FIRST sighted)    44.300    -80.100   \n",
       "14704    2009-05-31  Monarch Adult (FIRST sighted)    44.766    -89.706   \n",
       "14705    2009-05-31  Monarch Adult (FIRST sighted)    45.095    -93.548   \n",
       "14706    2009-05-31  Monarch Adult (FIRST sighted)    45.701    -95.023   \n",
       "\n",
       "       number  month  \n",
       "14702       1      5  \n",
       "14703       1      5  \n",
       "14704       1      5  \n",
       "14705       1      5  \n",
       "14706       1      5  "
      ]
     },
     "execution_count": 282,
     "metadata": {},
     "output_type": "execute_result"
    }
   ],
   "source": [
    "JNorth_Adult_First_Site_2009_month_df =pd.DataFrame(JNorth_Adult_First_Site_2009_df)\n",
    "JNorth_Adult_First_Site_2009_5_df = JNorth_Adult_First_Site_2009_month_df[JNorth_Adult_First_Site_2009_month_df['month']==5]\n",
    "JNorth_Adult_First_Site_2009_5_df.tail()"
   ]
  },
  {
   "cell_type": "code",
   "execution_count": 283,
   "id": "ddefd2a3",
   "metadata": {},
   "outputs": [
    {
     "data": {
      "text/plain": [
       "(223, 6)"
      ]
     },
     "execution_count": 283,
     "metadata": {},
     "output_type": "execute_result"
    }
   ],
   "source": [
    "JNorth_Adult_First_Site_2009_5_df.shape"
   ]
  },
  {
   "cell_type": "code",
   "execution_count": 284,
   "id": "614cd3a8",
   "metadata": {},
   "outputs": [],
   "source": [
    "JNorth_Adult_First_Site_2009_5_df = pd.DataFrame(JNorth_Adult_First_Site_2009_5_df)\n",
    "JNorth_Adult_First_Site_2009_5_df.drop(['month'], axis=1, inplace=True)"
   ]
  },
  {
   "cell_type": "code",
   "execution_count": 285,
   "id": "01509961",
   "metadata": {},
   "outputs": [],
   "source": [
    "# convert lat-long to floats and change address from ALL CAPS to regular capitalization\n",
    "JNorth_Adult_First_Site_2009_5_df['latitude'] = JNorth_Adult_First_Site_2009_5_df['latitude'].astype(float)\n",
    "JNorth_Adult_First_Site_2009_5_df['longitude'] = JNorth_Adult_First_Site_2009_5_df['longitude'].astype(float)\n",
    "# JNorth_Milkweed_Site_df['street_address'] = JNorth_Milkweed_Site_df['street_address'].str.title()"
   ]
  },
  {
   "cell_type": "code",
   "execution_count": 286,
   "id": "bb763379",
   "metadata": {},
   "outputs": [],
   "source": [
    "geojson = df_to_geojson(JNorth_Adult_First_Site_2009_5_df, cols)"
   ]
  },
  {
   "cell_type": "code",
   "execution_count": 287,
   "id": "f2e88fe7",
   "metadata": {},
   "outputs": [],
   "source": [
    "file = open(\"JNorth_Adult_First_Site_2009_5.geojson\", \"w\")\n",
    "json.dump(geojson, file, indent =1)\n",
    "file.close()"
   ]
  },
  {
   "cell_type": "markdown",
   "id": "264863cf",
   "metadata": {},
   "source": [
    "## June"
   ]
  },
  {
   "cell_type": "code",
   "execution_count": 288,
   "id": "18fd4a7c",
   "metadata": {},
   "outputs": [
    {
     "data": {
      "text/html": [
       "<div>\n",
       "<style scoped>\n",
       "    .dataframe tbody tr th:only-of-type {\n",
       "        vertical-align: middle;\n",
       "    }\n",
       "\n",
       "    .dataframe tbody tr th {\n",
       "        vertical-align: top;\n",
       "    }\n",
       "\n",
       "    .dataframe thead th {\n",
       "        text-align: right;\n",
       "    }\n",
       "</style>\n",
       "<table border=\"1\" class=\"dataframe\">\n",
       "  <thead>\n",
       "    <tr style=\"text-align: right;\">\n",
       "      <th></th>\n",
       "      <th>sighting_date</th>\n",
       "      <th>species</th>\n",
       "      <th>latitude</th>\n",
       "      <th>longitude</th>\n",
       "      <th>number</th>\n",
       "      <th>month</th>\n",
       "    </tr>\n",
       "  </thead>\n",
       "  <tbody>\n",
       "    <tr>\n",
       "      <th>14872</th>\n",
       "      <td>2009-06-29</td>\n",
       "      <td>Monarch Adult (FIRST sighted)</td>\n",
       "      <td>42.122</td>\n",
       "      <td>-74.394</td>\n",
       "      <td>1</td>\n",
       "      <td>6</td>\n",
       "    </tr>\n",
       "    <tr>\n",
       "      <th>14873</th>\n",
       "      <td>2009-06-30</td>\n",
       "      <td>Monarch Adult (FIRST sighted)</td>\n",
       "      <td>42.066</td>\n",
       "      <td>-87.933</td>\n",
       "      <td>1</td>\n",
       "      <td>6</td>\n",
       "    </tr>\n",
       "    <tr>\n",
       "      <th>14874</th>\n",
       "      <td>2009-06-30</td>\n",
       "      <td>Monarch Adult (FIRST sighted)</td>\n",
       "      <td>42.966</td>\n",
       "      <td>-85.655</td>\n",
       "      <td>1</td>\n",
       "      <td>6</td>\n",
       "    </tr>\n",
       "    <tr>\n",
       "      <th>14875</th>\n",
       "      <td>2009-06-30</td>\n",
       "      <td>Monarch Adult (FIRST sighted)</td>\n",
       "      <td>44.474</td>\n",
       "      <td>-74.278</td>\n",
       "      <td>1</td>\n",
       "      <td>6</td>\n",
       "    </tr>\n",
       "    <tr>\n",
       "      <th>14876</th>\n",
       "      <td>2009-06-30</td>\n",
       "      <td>Monarch Adult (FIRST sighted)</td>\n",
       "      <td>46.267</td>\n",
       "      <td>-79.300</td>\n",
       "      <td>1</td>\n",
       "      <td>6</td>\n",
       "    </tr>\n",
       "  </tbody>\n",
       "</table>\n",
       "</div>"
      ],
      "text/plain": [
       "      sighting_date                        species  latitude  longitude  \\\n",
       "14872    2009-06-29  Monarch Adult (FIRST sighted)    42.122    -74.394   \n",
       "14873    2009-06-30  Monarch Adult (FIRST sighted)    42.066    -87.933   \n",
       "14874    2009-06-30  Monarch Adult (FIRST sighted)    42.966    -85.655   \n",
       "14875    2009-06-30  Monarch Adult (FIRST sighted)    44.474    -74.278   \n",
       "14876    2009-06-30  Monarch Adult (FIRST sighted)    46.267    -79.300   \n",
       "\n",
       "       number  month  \n",
       "14872       1      6  \n",
       "14873       1      6  \n",
       "14874       1      6  \n",
       "14875       1      6  \n",
       "14876       1      6  "
      ]
     },
     "execution_count": 288,
     "metadata": {},
     "output_type": "execute_result"
    }
   ],
   "source": [
    "JNorth_Adult_First_Site_2009_month_df =pd.DataFrame(JNorth_Adult_First_Site_2009_df)\n",
    "JNorth_Adult_First_Site_2009_6_df = JNorth_Adult_First_Site_2009_month_df[JNorth_Adult_First_Site_2009_month_df['month']==6]\n",
    "JNorth_Adult_First_Site_2009_6_df.tail()"
   ]
  },
  {
   "cell_type": "code",
   "execution_count": 289,
   "id": "446147fa",
   "metadata": {},
   "outputs": [
    {
     "data": {
      "text/plain": [
       "(170, 6)"
      ]
     },
     "execution_count": 289,
     "metadata": {},
     "output_type": "execute_result"
    }
   ],
   "source": [
    "JNorth_Adult_First_Site_2009_6_df.shape"
   ]
  },
  {
   "cell_type": "code",
   "execution_count": 290,
   "id": "073ab0c6",
   "metadata": {},
   "outputs": [],
   "source": [
    "JNorth_Adult_First_Site_2009_6_df = pd.DataFrame(JNorth_Adult_First_Site_2009_6_df)\n",
    "JNorth_Adult_First_Site_2009_6_df.drop(['month'], axis=1, inplace=True)"
   ]
  },
  {
   "cell_type": "code",
   "execution_count": 291,
   "id": "616d6b41",
   "metadata": {},
   "outputs": [],
   "source": [
    "# convert lat-long to floats and change address from ALL CAPS to regular capitalization\n",
    "JNorth_Adult_First_Site_2009_6_df['latitude'] = JNorth_Adult_First_Site_2009_6_df['latitude'].astype(float)\n",
    "JNorth_Adult_First_Site_2009_6_df['longitude'] = JNorth_Adult_First_Site_2009_6_df['longitude'].astype(float)\n",
    "# JNorth_Milkweed_Site_df['street_address'] = JNorth_Milkweed_Site_df['street_address'].str.title()"
   ]
  },
  {
   "cell_type": "code",
   "execution_count": 292,
   "id": "afab2795",
   "metadata": {},
   "outputs": [],
   "source": [
    "geojson = df_to_geojson(JNorth_Adult_First_Site_2009_6_df, cols)"
   ]
  },
  {
   "cell_type": "code",
   "execution_count": 293,
   "id": "ac1131c1",
   "metadata": {},
   "outputs": [],
   "source": [
    "file = open(\"JNorth_Adult_First_Site_2009_6.geojson\", \"w\")\n",
    "json.dump(geojson, file, indent =1)\n",
    "file.close()"
   ]
  },
  {
   "cell_type": "markdown",
   "id": "f99d61b2",
   "metadata": {},
   "source": [
    "## July"
   ]
  },
  {
   "cell_type": "code",
   "execution_count": 294,
   "id": "b0f8b698",
   "metadata": {},
   "outputs": [
    {
     "data": {
      "text/html": [
       "<div>\n",
       "<style scoped>\n",
       "    .dataframe tbody tr th:only-of-type {\n",
       "        vertical-align: middle;\n",
       "    }\n",
       "\n",
       "    .dataframe tbody tr th {\n",
       "        vertical-align: top;\n",
       "    }\n",
       "\n",
       "    .dataframe thead th {\n",
       "        text-align: right;\n",
       "    }\n",
       "</style>\n",
       "<table border=\"1\" class=\"dataframe\">\n",
       "  <thead>\n",
       "    <tr style=\"text-align: right;\">\n",
       "      <th></th>\n",
       "      <th>sighting_date</th>\n",
       "      <th>species</th>\n",
       "      <th>latitude</th>\n",
       "      <th>longitude</th>\n",
       "      <th>number</th>\n",
       "      <th>month</th>\n",
       "    </tr>\n",
       "  </thead>\n",
       "  <tbody>\n",
       "    <tr>\n",
       "      <th>14946</th>\n",
       "      <td>2009-07-29</td>\n",
       "      <td>Monarch Adult (FIRST sighted)</td>\n",
       "      <td>41.398</td>\n",
       "      <td>-87.330</td>\n",
       "      <td>1</td>\n",
       "      <td>7</td>\n",
       "    </tr>\n",
       "    <tr>\n",
       "      <th>14947</th>\n",
       "      <td>2009-07-29</td>\n",
       "      <td>Monarch Adult (FIRST sighted)</td>\n",
       "      <td>41.998</td>\n",
       "      <td>-89.375</td>\n",
       "      <td>2</td>\n",
       "      <td>7</td>\n",
       "    </tr>\n",
       "    <tr>\n",
       "      <th>14948</th>\n",
       "      <td>2009-07-29</td>\n",
       "      <td>Monarch Adult (FIRST sighted)</td>\n",
       "      <td>44.112</td>\n",
       "      <td>-117.233</td>\n",
       "      <td>1</td>\n",
       "      <td>7</td>\n",
       "    </tr>\n",
       "    <tr>\n",
       "      <th>14949</th>\n",
       "      <td>2009-07-30</td>\n",
       "      <td>Monarch Adult (FIRST sighted)</td>\n",
       "      <td>33.938</td>\n",
       "      <td>-81.380</td>\n",
       "      <td>1</td>\n",
       "      <td>7</td>\n",
       "    </tr>\n",
       "    <tr>\n",
       "      <th>14950</th>\n",
       "      <td>2009-07-31</td>\n",
       "      <td>Monarch Adult (FIRST sighted)</td>\n",
       "      <td>33.794</td>\n",
       "      <td>-83.362</td>\n",
       "      <td>1</td>\n",
       "      <td>7</td>\n",
       "    </tr>\n",
       "  </tbody>\n",
       "</table>\n",
       "</div>"
      ],
      "text/plain": [
       "      sighting_date                        species  latitude  longitude  \\\n",
       "14946    2009-07-29  Monarch Adult (FIRST sighted)    41.398    -87.330   \n",
       "14947    2009-07-29  Monarch Adult (FIRST sighted)    41.998    -89.375   \n",
       "14948    2009-07-29  Monarch Adult (FIRST sighted)    44.112   -117.233   \n",
       "14949    2009-07-30  Monarch Adult (FIRST sighted)    33.938    -81.380   \n",
       "14950    2009-07-31  Monarch Adult (FIRST sighted)    33.794    -83.362   \n",
       "\n",
       "       number  month  \n",
       "14946       1      7  \n",
       "14947       2      7  \n",
       "14948       1      7  \n",
       "14949       1      7  \n",
       "14950       1      7  "
      ]
     },
     "execution_count": 294,
     "metadata": {},
     "output_type": "execute_result"
    }
   ],
   "source": [
    "JNorth_Adult_First_Site_2009_month_df =pd.DataFrame(JNorth_Adult_First_Site_2009_df)\n",
    "JNorth_Adult_First_Site_2009_7_df = JNorth_Adult_First_Site_2009_month_df[JNorth_Adult_First_Site_2009_month_df['month']==7]\n",
    "JNorth_Adult_First_Site_2009_7_df.tail()"
   ]
  },
  {
   "cell_type": "code",
   "execution_count": 295,
   "id": "288aa2ec",
   "metadata": {},
   "outputs": [
    {
     "data": {
      "text/plain": [
       "(74, 6)"
      ]
     },
     "execution_count": 295,
     "metadata": {},
     "output_type": "execute_result"
    }
   ],
   "source": [
    "JNorth_Adult_First_Site_2009_7_df.shape"
   ]
  },
  {
   "cell_type": "code",
   "execution_count": 296,
   "id": "903c70c3",
   "metadata": {},
   "outputs": [],
   "source": [
    "JNorth_Adult_First_Site_2009_7_df = pd.DataFrame(JNorth_Adult_First_Site_2009_7_df)\n",
    "JNorth_Adult_First_Site_2009_7_df.drop(['month'], axis=1, inplace=True)"
   ]
  },
  {
   "cell_type": "code",
   "execution_count": 297,
   "id": "1f4a36a7",
   "metadata": {},
   "outputs": [],
   "source": [
    "# convert lat-long to floats and change address from ALL CAPS to regular capitalization\n",
    "JNorth_Adult_First_Site_2009_7_df['latitude'] = JNorth_Adult_First_Site_2009_7_df['latitude'].astype(float)\n",
    "JNorth_Adult_First_Site_2009_7_df['longitude'] = JNorth_Adult_First_Site_2009_7_df['longitude'].astype(float)\n",
    "# JNorth_Milkweed_Site_df['street_address'] = JNorth_Milkweed_Site_df['street_address'].str.title()"
   ]
  },
  {
   "cell_type": "code",
   "execution_count": 298,
   "id": "3537d71f",
   "metadata": {},
   "outputs": [],
   "source": [
    "geojson = df_to_geojson(JNorth_Adult_First_Site_2009_7_df, cols)"
   ]
  },
  {
   "cell_type": "code",
   "execution_count": 299,
   "id": "df48c8b8",
   "metadata": {},
   "outputs": [],
   "source": [
    "file = open(\"JNorth_Adult_First_Site_2009_7.geojson\", \"w\")\n",
    "json.dump(geojson, file, indent =1)\n",
    "file.close()"
   ]
  },
  {
   "cell_type": "markdown",
   "id": "3d498e81",
   "metadata": {},
   "source": [
    "## August"
   ]
  },
  {
   "cell_type": "code",
   "execution_count": 300,
   "id": "55d756cb",
   "metadata": {},
   "outputs": [
    {
     "data": {
      "text/html": [
       "<div>\n",
       "<style scoped>\n",
       "    .dataframe tbody tr th:only-of-type {\n",
       "        vertical-align: middle;\n",
       "    }\n",
       "\n",
       "    .dataframe tbody tr th {\n",
       "        vertical-align: top;\n",
       "    }\n",
       "\n",
       "    .dataframe thead th {\n",
       "        text-align: right;\n",
       "    }\n",
       "</style>\n",
       "<table border=\"1\" class=\"dataframe\">\n",
       "  <thead>\n",
       "    <tr style=\"text-align: right;\">\n",
       "      <th></th>\n",
       "      <th>sighting_date</th>\n",
       "      <th>species</th>\n",
       "      <th>latitude</th>\n",
       "      <th>longitude</th>\n",
       "      <th>number</th>\n",
       "      <th>month</th>\n",
       "    </tr>\n",
       "  </thead>\n",
       "  <tbody>\n",
       "    <tr>\n",
       "      <th>15195</th>\n",
       "      <td>2009-08-31</td>\n",
       "      <td>Monarch Adult (FIRST sighted)</td>\n",
       "      <td>38.075</td>\n",
       "      <td>-82.622</td>\n",
       "      <td>1</td>\n",
       "      <td>8</td>\n",
       "    </tr>\n",
       "    <tr>\n",
       "      <th>15196</th>\n",
       "      <td>2009-08-31</td>\n",
       "      <td>Monarch Adult (FIRST sighted)</td>\n",
       "      <td>38.801</td>\n",
       "      <td>-119.574</td>\n",
       "      <td>1</td>\n",
       "      <td>8</td>\n",
       "    </tr>\n",
       "    <tr>\n",
       "      <th>15197</th>\n",
       "      <td>2009-08-31</td>\n",
       "      <td>Monarch Adult (FIRST sighted)</td>\n",
       "      <td>42.830</td>\n",
       "      <td>-77.724</td>\n",
       "      <td>1</td>\n",
       "      <td>8</td>\n",
       "    </tr>\n",
       "    <tr>\n",
       "      <th>15198</th>\n",
       "      <td>2009-08-31</td>\n",
       "      <td>Monarch Adult (FIRST sighted)</td>\n",
       "      <td>45.650</td>\n",
       "      <td>-74.933</td>\n",
       "      <td>1</td>\n",
       "      <td>8</td>\n",
       "    </tr>\n",
       "    <tr>\n",
       "      <th>15199</th>\n",
       "      <td>2009-08-31</td>\n",
       "      <td>Monarch Adult (FIRST sighted)</td>\n",
       "      <td>45.667</td>\n",
       "      <td>-86.967</td>\n",
       "      <td>1</td>\n",
       "      <td>8</td>\n",
       "    </tr>\n",
       "  </tbody>\n",
       "</table>\n",
       "</div>"
      ],
      "text/plain": [
       "      sighting_date                        species  latitude  longitude  \\\n",
       "15195    2009-08-31  Monarch Adult (FIRST sighted)    38.075    -82.622   \n",
       "15196    2009-08-31  Monarch Adult (FIRST sighted)    38.801   -119.574   \n",
       "15197    2009-08-31  Monarch Adult (FIRST sighted)    42.830    -77.724   \n",
       "15198    2009-08-31  Monarch Adult (FIRST sighted)    45.650    -74.933   \n",
       "15199    2009-08-31  Monarch Adult (FIRST sighted)    45.667    -86.967   \n",
       "\n",
       "       number  month  \n",
       "15195       1      8  \n",
       "15196       1      8  \n",
       "15197       1      8  \n",
       "15198       1      8  \n",
       "15199       1      8  "
      ]
     },
     "execution_count": 300,
     "metadata": {},
     "output_type": "execute_result"
    }
   ],
   "source": [
    "JNorth_Adult_First_Site_2009_month_df =pd.DataFrame(JNorth_Adult_First_Site_2009_df)\n",
    "JNorth_Adult_First_Site_2009_8_df = JNorth_Adult_First_Site_2009_month_df[JNorth_Adult_First_Site_2009_month_df['month']==8]\n",
    "JNorth_Adult_First_Site_2009_8_df.tail()"
   ]
  },
  {
   "cell_type": "code",
   "execution_count": 301,
   "id": "e5f73698",
   "metadata": {},
   "outputs": [
    {
     "data": {
      "text/plain": [
       "(249, 6)"
      ]
     },
     "execution_count": 301,
     "metadata": {},
     "output_type": "execute_result"
    }
   ],
   "source": [
    "JNorth_Adult_First_Site_2009_8_df.shape"
   ]
  },
  {
   "cell_type": "code",
   "execution_count": 302,
   "id": "ef7668b7",
   "metadata": {},
   "outputs": [],
   "source": [
    "JNorth_Adult_First_Site_2009_8_df= pd.DataFrame(JNorth_Adult_First_Site_2009_8_df)\n",
    "JNorth_Adult_First_Site_2009_8_df.drop(['month'], axis=1, inplace=True)"
   ]
  },
  {
   "cell_type": "code",
   "execution_count": 303,
   "id": "48dacef8",
   "metadata": {},
   "outputs": [],
   "source": [
    "# convert lat-long to floats and change address from ALL CAPS to regular capitalization\n",
    "JNorth_Adult_First_Site_2009_8_df['latitude'] = JNorth_Adult_First_Site_2009_8_df['latitude'].astype(float)\n",
    "JNorth_Adult_First_Site_2009_8_df['longitude'] = JNorth_Adult_First_Site_2009_8_df['longitude'].astype(float)\n",
    "# JNorth_Milkweed_Site_df['street_address'] = JNorth_Milkweed_Site_df['street_address'].str.title()"
   ]
  },
  {
   "cell_type": "code",
   "execution_count": 304,
   "id": "1d563ba1",
   "metadata": {},
   "outputs": [],
   "source": [
    "geojson = df_to_geojson(JNorth_Adult_First_Site_2009_8_df, cols)"
   ]
  },
  {
   "cell_type": "code",
   "execution_count": 305,
   "id": "06443449",
   "metadata": {},
   "outputs": [],
   "source": [
    "file = open(\"JNorth_Adult_First_Site_2009_8.geojson\", \"w\")\n",
    "json.dump(geojson, file, indent =1)\n",
    "file.close()"
   ]
  },
  {
   "cell_type": "markdown",
   "id": "96a57c30",
   "metadata": {},
   "source": [
    "## September"
   ]
  },
  {
   "cell_type": "code",
   "execution_count": 306,
   "id": "d016649a",
   "metadata": {},
   "outputs": [
    {
     "data": {
      "text/html": [
       "<div>\n",
       "<style scoped>\n",
       "    .dataframe tbody tr th:only-of-type {\n",
       "        vertical-align: middle;\n",
       "    }\n",
       "\n",
       "    .dataframe tbody tr th {\n",
       "        vertical-align: top;\n",
       "    }\n",
       "\n",
       "    .dataframe thead th {\n",
       "        text-align: right;\n",
       "    }\n",
       "</style>\n",
       "<table border=\"1\" class=\"dataframe\">\n",
       "  <thead>\n",
       "    <tr style=\"text-align: right;\">\n",
       "      <th></th>\n",
       "      <th>sighting_date</th>\n",
       "      <th>species</th>\n",
       "      <th>latitude</th>\n",
       "      <th>longitude</th>\n",
       "      <th>number</th>\n",
       "      <th>month</th>\n",
       "    </tr>\n",
       "  </thead>\n",
       "  <tbody>\n",
       "    <tr>\n",
       "      <th>15841</th>\n",
       "      <td>2009-09-30</td>\n",
       "      <td>Monarch Adult (FIRST sighted)</td>\n",
       "      <td>41.517</td>\n",
       "      <td>-71.277</td>\n",
       "      <td>1</td>\n",
       "      <td>9</td>\n",
       "    </tr>\n",
       "    <tr>\n",
       "      <th>15842</th>\n",
       "      <td>2009-09-30</td>\n",
       "      <td>Monarch Adult (FIRST sighted)</td>\n",
       "      <td>41.928</td>\n",
       "      <td>-70.015</td>\n",
       "      <td>1</td>\n",
       "      <td>9</td>\n",
       "    </tr>\n",
       "    <tr>\n",
       "      <th>15843</th>\n",
       "      <td>2009-09-30</td>\n",
       "      <td>Monarch Adult (FIRST sighted)</td>\n",
       "      <td>43.248</td>\n",
       "      <td>-88.001</td>\n",
       "      <td>2</td>\n",
       "      <td>9</td>\n",
       "    </tr>\n",
       "    <tr>\n",
       "      <th>15844</th>\n",
       "      <td>2009-09-30</td>\n",
       "      <td>Monarch Adult (FIRST sighted)</td>\n",
       "      <td>43.503</td>\n",
       "      <td>-90.272</td>\n",
       "      <td>1</td>\n",
       "      <td>9</td>\n",
       "    </tr>\n",
       "    <tr>\n",
       "      <th>15845</th>\n",
       "      <td>2009-09-30</td>\n",
       "      <td>Monarch Adult (FIRST sighted)</td>\n",
       "      <td>45.067</td>\n",
       "      <td>-64.633</td>\n",
       "      <td>1</td>\n",
       "      <td>9</td>\n",
       "    </tr>\n",
       "  </tbody>\n",
       "</table>\n",
       "</div>"
      ],
      "text/plain": [
       "      sighting_date                        species  latitude  longitude  \\\n",
       "15841    2009-09-30  Monarch Adult (FIRST sighted)    41.517    -71.277   \n",
       "15842    2009-09-30  Monarch Adult (FIRST sighted)    41.928    -70.015   \n",
       "15843    2009-09-30  Monarch Adult (FIRST sighted)    43.248    -88.001   \n",
       "15844    2009-09-30  Monarch Adult (FIRST sighted)    43.503    -90.272   \n",
       "15845    2009-09-30  Monarch Adult (FIRST sighted)    45.067    -64.633   \n",
       "\n",
       "       number  month  \n",
       "15841       1      9  \n",
       "15842       1      9  \n",
       "15843       2      9  \n",
       "15844       1      9  \n",
       "15845       1      9  "
      ]
     },
     "execution_count": 306,
     "metadata": {},
     "output_type": "execute_result"
    }
   ],
   "source": [
    "JNorth_Adult_First_Site_2009_month_df =pd.DataFrame(JNorth_Adult_First_Site_2009_df)\n",
    "JNorth_Adult_First_Site_2009_9_df = JNorth_Adult_First_Site_2009_month_df[JNorth_Adult_First_Site_2009_month_df['month']==9]\n",
    "JNorth_Adult_First_Site_2009_9_df.tail()"
   ]
  },
  {
   "cell_type": "code",
   "execution_count": 307,
   "id": "0ecef701",
   "metadata": {},
   "outputs": [
    {
     "data": {
      "text/plain": [
       "(646, 6)"
      ]
     },
     "execution_count": 307,
     "metadata": {},
     "output_type": "execute_result"
    }
   ],
   "source": [
    "JNorth_Adult_First_Site_2009_9_df.shape"
   ]
  },
  {
   "cell_type": "code",
   "execution_count": 308,
   "id": "a073c137",
   "metadata": {},
   "outputs": [],
   "source": [
    "JNorth_Adult_First_Site_2009_9_df = pd.DataFrame(JNorth_Adult_First_Site_2009_9_df)\n",
    "JNorth_Adult_First_Site_2009_9_df.drop(['month'], axis=1, inplace=True)"
   ]
  },
  {
   "cell_type": "code",
   "execution_count": 309,
   "id": "815c4094",
   "metadata": {},
   "outputs": [],
   "source": [
    "# convert lat-long to floats and change address from ALL CAPS to regular capitalization\n",
    "JNorth_Adult_First_Site_2009_9_df['latitude'] = JNorth_Adult_First_Site_2009_9_df['latitude'].astype(float)\n",
    "JNorth_Adult_First_Site_2009_9_df['longitude'] = JNorth_Adult_First_Site_2009_9_df['longitude'].astype(float)\n",
    "# JNorth_Milkweed_Site_df['street_address'] = JNorth_Milkweed_Site_df['street_address'].str.title()"
   ]
  },
  {
   "cell_type": "code",
   "execution_count": 310,
   "id": "264210fa",
   "metadata": {},
   "outputs": [],
   "source": [
    "geojson = df_to_geojson(JNorth_Adult_First_Site_2009_9_df, cols)"
   ]
  },
  {
   "cell_type": "code",
   "execution_count": 311,
   "id": "8324bca8",
   "metadata": {},
   "outputs": [],
   "source": [
    "file = open(\"JNorth_Adult_First_Site_2009_9.geojson\", \"w\")\n",
    "json.dump(geojson, file, indent =1)\n",
    "file.close()"
   ]
  },
  {
   "cell_type": "markdown",
   "id": "25891dac",
   "metadata": {},
   "source": [
    "## October"
   ]
  },
  {
   "cell_type": "code",
   "execution_count": 312,
   "id": "2e972169",
   "metadata": {},
   "outputs": [
    {
     "data": {
      "text/html": [
       "<div>\n",
       "<style scoped>\n",
       "    .dataframe tbody tr th:only-of-type {\n",
       "        vertical-align: middle;\n",
       "    }\n",
       "\n",
       "    .dataframe tbody tr th {\n",
       "        vertical-align: top;\n",
       "    }\n",
       "\n",
       "    .dataframe thead th {\n",
       "        text-align: right;\n",
       "    }\n",
       "</style>\n",
       "<table border=\"1\" class=\"dataframe\">\n",
       "  <thead>\n",
       "    <tr style=\"text-align: right;\">\n",
       "      <th></th>\n",
       "      <th>sighting_date</th>\n",
       "      <th>species</th>\n",
       "      <th>latitude</th>\n",
       "      <th>longitude</th>\n",
       "      <th>number</th>\n",
       "      <th>month</th>\n",
       "    </tr>\n",
       "  </thead>\n",
       "  <tbody>\n",
       "    <tr>\n",
       "      <th>16395</th>\n",
       "      <td>2009-10-31</td>\n",
       "      <td>Monarch Adult (FIRST sighted)</td>\n",
       "      <td>35.648</td>\n",
       "      <td>-79.846</td>\n",
       "      <td>1</td>\n",
       "      <td>10</td>\n",
       "    </tr>\n",
       "    <tr>\n",
       "      <th>16396</th>\n",
       "      <td>2009-10-31</td>\n",
       "      <td>Monarch Adult (FIRST sighted)</td>\n",
       "      <td>38.212</td>\n",
       "      <td>-92.664</td>\n",
       "      <td>1</td>\n",
       "      <td>10</td>\n",
       "    </tr>\n",
       "    <tr>\n",
       "      <th>16397</th>\n",
       "      <td>2009-10-31</td>\n",
       "      <td>Monarch Adult (FIRST sighted)</td>\n",
       "      <td>40.298</td>\n",
       "      <td>-75.210</td>\n",
       "      <td>1</td>\n",
       "      <td>10</td>\n",
       "    </tr>\n",
       "    <tr>\n",
       "      <th>16398</th>\n",
       "      <td>2009-10-31</td>\n",
       "      <td>Monarch Adult (FIRST sighted)</td>\n",
       "      <td>40.650</td>\n",
       "      <td>-73.584</td>\n",
       "      <td>1</td>\n",
       "      <td>10</td>\n",
       "    </tr>\n",
       "    <tr>\n",
       "      <th>16399</th>\n",
       "      <td>2009-10-31</td>\n",
       "      <td>Monarch Adult (FIRST sighted)</td>\n",
       "      <td>40.988</td>\n",
       "      <td>-76.654</td>\n",
       "      <td>1</td>\n",
       "      <td>10</td>\n",
       "    </tr>\n",
       "  </tbody>\n",
       "</table>\n",
       "</div>"
      ],
      "text/plain": [
       "      sighting_date                        species  latitude  longitude  \\\n",
       "16395    2009-10-31  Monarch Adult (FIRST sighted)    35.648    -79.846   \n",
       "16396    2009-10-31  Monarch Adult (FIRST sighted)    38.212    -92.664   \n",
       "16397    2009-10-31  Monarch Adult (FIRST sighted)    40.298    -75.210   \n",
       "16398    2009-10-31  Monarch Adult (FIRST sighted)    40.650    -73.584   \n",
       "16399    2009-10-31  Monarch Adult (FIRST sighted)    40.988    -76.654   \n",
       "\n",
       "       number  month  \n",
       "16395       1     10  \n",
       "16396       1     10  \n",
       "16397       1     10  \n",
       "16398       1     10  \n",
       "16399       1     10  "
      ]
     },
     "execution_count": 312,
     "metadata": {},
     "output_type": "execute_result"
    }
   ],
   "source": [
    "JNorth_Adult_First_Site_2009_month_df =pd.DataFrame(JNorth_Adult_First_Site_2009_df)\n",
    "JNorth_Adult_First_Site_2009_10_df = JNorth_Adult_First_Site_2009_month_df[JNorth_Adult_First_Site_2009_month_df['month']==10]\n",
    "JNorth_Adult_First_Site_2009_10_df.tail()"
   ]
  },
  {
   "cell_type": "code",
   "execution_count": 313,
   "id": "b02cb6c5",
   "metadata": {},
   "outputs": [
    {
     "data": {
      "text/plain": [
       "(554, 6)"
      ]
     },
     "execution_count": 313,
     "metadata": {},
     "output_type": "execute_result"
    }
   ],
   "source": [
    "JNorth_Adult_First_Site_2009_10_df.shape"
   ]
  },
  {
   "cell_type": "code",
   "execution_count": 314,
   "id": "4c128c57",
   "metadata": {},
   "outputs": [],
   "source": [
    "JNorth_Adult_First_Site_2009_10_df = pd.DataFrame(JNorth_Adult_First_Site_2009_10_df)\n",
    "JNorth_Adult_First_Site_2009_10_df.drop(['month'], axis=1, inplace=True)"
   ]
  },
  {
   "cell_type": "code",
   "execution_count": 315,
   "id": "e11b561b",
   "metadata": {},
   "outputs": [],
   "source": [
    "# convert lat-long to floats and change address from ALL CAPS to regular capitalization\n",
    "JNorth_Adult_First_Site_2009_10_df['latitude'] = JNorth_Adult_First_Site_2009_10_df['latitude'].astype(float)\n",
    "JNorth_Adult_First_Site_2009_10_df['longitude'] = JNorth_Adult_First_Site_2009_10_df['longitude'].astype(float)\n",
    "# JNorth_Milkweed_Site_df['street_address'] = JNorth_Milkweed_Site_df['street_address'].str.title()"
   ]
  },
  {
   "cell_type": "code",
   "execution_count": 316,
   "id": "7510a3c3",
   "metadata": {},
   "outputs": [],
   "source": [
    "geojson = df_to_geojson(JNorth_Adult_First_Site_2009_10_df, cols)"
   ]
  },
  {
   "cell_type": "code",
   "execution_count": 317,
   "id": "c4baae80",
   "metadata": {},
   "outputs": [],
   "source": [
    "file = open(\"JNorth_Adult_First_Site_2009_10.geojson\", \"w\")\n",
    "json.dump(geojson, file, indent =1)\n",
    "file.close()"
   ]
  },
  {
   "cell_type": "markdown",
   "id": "bd664e59",
   "metadata": {},
   "source": [
    "## November"
   ]
  },
  {
   "cell_type": "code",
   "execution_count": 318,
   "id": "1204d4e5",
   "metadata": {},
   "outputs": [
    {
     "data": {
      "text/html": [
       "<div>\n",
       "<style scoped>\n",
       "    .dataframe tbody tr th:only-of-type {\n",
       "        vertical-align: middle;\n",
       "    }\n",
       "\n",
       "    .dataframe tbody tr th {\n",
       "        vertical-align: top;\n",
       "    }\n",
       "\n",
       "    .dataframe thead th {\n",
       "        text-align: right;\n",
       "    }\n",
       "</style>\n",
       "<table border=\"1\" class=\"dataframe\">\n",
       "  <thead>\n",
       "    <tr style=\"text-align: right;\">\n",
       "      <th></th>\n",
       "      <th>sighting_date</th>\n",
       "      <th>species</th>\n",
       "      <th>latitude</th>\n",
       "      <th>longitude</th>\n",
       "      <th>number</th>\n",
       "      <th>month</th>\n",
       "    </tr>\n",
       "  </thead>\n",
       "  <tbody>\n",
       "    <tr>\n",
       "      <th>16520</th>\n",
       "      <td>2009-11-19</td>\n",
       "      <td>Monarch Adult (FIRST sighted)</td>\n",
       "      <td>35.433</td>\n",
       "      <td>-97.524</td>\n",
       "      <td>1</td>\n",
       "      <td>11</td>\n",
       "    </tr>\n",
       "    <tr>\n",
       "      <th>16521</th>\n",
       "      <td>2009-11-19</td>\n",
       "      <td>Monarch Adult (FIRST sighted)</td>\n",
       "      <td>35.514</td>\n",
       "      <td>-82.718</td>\n",
       "      <td>1</td>\n",
       "      <td>11</td>\n",
       "    </tr>\n",
       "    <tr>\n",
       "      <th>16522</th>\n",
       "      <td>2009-11-22</td>\n",
       "      <td>Monarch Adult (FIRST sighted)</td>\n",
       "      <td>29.648</td>\n",
       "      <td>-99.224</td>\n",
       "      <td>1</td>\n",
       "      <td>11</td>\n",
       "    </tr>\n",
       "    <tr>\n",
       "      <th>16523</th>\n",
       "      <td>2009-11-23</td>\n",
       "      <td>Monarch Adult (FIRST sighted)</td>\n",
       "      <td>30.209</td>\n",
       "      <td>-98.657</td>\n",
       "      <td>1</td>\n",
       "      <td>11</td>\n",
       "    </tr>\n",
       "    <tr>\n",
       "      <th>16524</th>\n",
       "      <td>2009-11-30</td>\n",
       "      <td>Monarch Adult (FIRST sighted)</td>\n",
       "      <td>29.310</td>\n",
       "      <td>-81.152</td>\n",
       "      <td>1</td>\n",
       "      <td>11</td>\n",
       "    </tr>\n",
       "  </tbody>\n",
       "</table>\n",
       "</div>"
      ],
      "text/plain": [
       "      sighting_date                        species  latitude  longitude  \\\n",
       "16520    2009-11-19  Monarch Adult (FIRST sighted)    35.433    -97.524   \n",
       "16521    2009-11-19  Monarch Adult (FIRST sighted)    35.514    -82.718   \n",
       "16522    2009-11-22  Monarch Adult (FIRST sighted)    29.648    -99.224   \n",
       "16523    2009-11-23  Monarch Adult (FIRST sighted)    30.209    -98.657   \n",
       "16524    2009-11-30  Monarch Adult (FIRST sighted)    29.310    -81.152   \n",
       "\n",
       "       number  month  \n",
       "16520       1     11  \n",
       "16521       1     11  \n",
       "16522       1     11  \n",
       "16523       1     11  \n",
       "16524       1     11  "
      ]
     },
     "execution_count": 318,
     "metadata": {},
     "output_type": "execute_result"
    }
   ],
   "source": [
    "JNorth_Adult_First_Site_2009_month_df =pd.DataFrame(JNorth_Adult_First_Site_2009_df)\n",
    "JNorth_Adult_First_Site_2009_11_df = JNorth_Adult_First_Site_2009_month_df[JNorth_Adult_First_Site_2009_month_df['month']==11]\n",
    "JNorth_Adult_First_Site_2009_11_df.tail()"
   ]
  },
  {
   "cell_type": "code",
   "execution_count": 319,
   "id": "b5447ef0",
   "metadata": {},
   "outputs": [
    {
     "data": {
      "text/plain": [
       "(125, 6)"
      ]
     },
     "execution_count": 319,
     "metadata": {},
     "output_type": "execute_result"
    }
   ],
   "source": [
    "JNorth_Adult_First_Site_2009_11_df.shape"
   ]
  },
  {
   "cell_type": "code",
   "execution_count": 320,
   "id": "f3d3ebcd",
   "metadata": {},
   "outputs": [],
   "source": [
    "JNorth_Adult_First_Site_2009_11_df = pd.DataFrame(JNorth_Adult_First_Site_2009_11_df)\n",
    "JNorth_Adult_First_Site_2009_11_df.drop(['month'], axis=1, inplace=True)"
   ]
  },
  {
   "cell_type": "code",
   "execution_count": 321,
   "id": "efcce95f",
   "metadata": {},
   "outputs": [],
   "source": [
    "# convert lat-long to floats and change address from ALL CAPS to regular capitalization\n",
    "JNorth_Adult_First_Site_2009_11_df['latitude'] = JNorth_Adult_First_Site_2009_11_df['latitude'].astype(float)\n",
    "JNorth_Adult_First_Site_2009_11_df['longitude'] = JNorth_Adult_First_Site_2009_11_df['longitude'].astype(float)\n",
    "# JNorth_Milkweed_Site_df['street_address'] = JNorth_Milkweed_Site_df['street_address'].str.title()"
   ]
  },
  {
   "cell_type": "code",
   "execution_count": 322,
   "id": "f3d6c1d9",
   "metadata": {},
   "outputs": [],
   "source": [
    "geojson = df_to_geojson(JNorth_Adult_First_Site_2009_11_df, cols)"
   ]
  },
  {
   "cell_type": "code",
   "execution_count": 323,
   "id": "fd0e9741",
   "metadata": {},
   "outputs": [],
   "source": [
    "file = open(\"JNorth_Adult_First_Site_2009_11.geojson\", \"w\")\n",
    "json.dump(geojson, file, indent =1)\n",
    "file.close()"
   ]
  },
  {
   "cell_type": "markdown",
   "id": "cdcf918e",
   "metadata": {},
   "source": [
    "## December"
   ]
  },
  {
   "cell_type": "code",
   "execution_count": 324,
   "id": "3e347baa",
   "metadata": {},
   "outputs": [
    {
     "data": {
      "text/html": [
       "<div>\n",
       "<style scoped>\n",
       "    .dataframe tbody tr th:only-of-type {\n",
       "        vertical-align: middle;\n",
       "    }\n",
       "\n",
       "    .dataframe tbody tr th {\n",
       "        vertical-align: top;\n",
       "    }\n",
       "\n",
       "    .dataframe thead th {\n",
       "        text-align: right;\n",
       "    }\n",
       "</style>\n",
       "<table border=\"1\" class=\"dataframe\">\n",
       "  <thead>\n",
       "    <tr style=\"text-align: right;\">\n",
       "      <th></th>\n",
       "      <th>sighting_date</th>\n",
       "      <th>species</th>\n",
       "      <th>latitude</th>\n",
       "      <th>longitude</th>\n",
       "      <th>number</th>\n",
       "      <th>month</th>\n",
       "    </tr>\n",
       "  </thead>\n",
       "  <tbody>\n",
       "    <tr>\n",
       "      <th>16525</th>\n",
       "      <td>2009-12-03</td>\n",
       "      <td>Monarch Adult (FIRST sighted)</td>\n",
       "      <td>32.845</td>\n",
       "      <td>-79.811</td>\n",
       "      <td>1</td>\n",
       "      <td>12</td>\n",
       "    </tr>\n",
       "    <tr>\n",
       "      <th>16526</th>\n",
       "      <td>2009-12-15</td>\n",
       "      <td>Monarch Adult (FIRST sighted)</td>\n",
       "      <td>27.770</td>\n",
       "      <td>-82.637</td>\n",
       "      <td>1</td>\n",
       "      <td>12</td>\n",
       "    </tr>\n",
       "    <tr>\n",
       "      <th>16527</th>\n",
       "      <td>2009-12-25</td>\n",
       "      <td>Monarch Adult (FIRST sighted)</td>\n",
       "      <td>37.777</td>\n",
       "      <td>-122.217</td>\n",
       "      <td>1</td>\n",
       "      <td>12</td>\n",
       "    </tr>\n",
       "  </tbody>\n",
       "</table>\n",
       "</div>"
      ],
      "text/plain": [
       "      sighting_date                        species  latitude  longitude  \\\n",
       "16525    2009-12-03  Monarch Adult (FIRST sighted)    32.845    -79.811   \n",
       "16526    2009-12-15  Monarch Adult (FIRST sighted)    27.770    -82.637   \n",
       "16527    2009-12-25  Monarch Adult (FIRST sighted)    37.777   -122.217   \n",
       "\n",
       "       number  month  \n",
       "16525       1     12  \n",
       "16526       1     12  \n",
       "16527       1     12  "
      ]
     },
     "execution_count": 324,
     "metadata": {},
     "output_type": "execute_result"
    }
   ],
   "source": [
    "JNorth_Adult_First_Site_2009_month_df =pd.DataFrame(JNorth_Adult_First_Site_2009_df)\n",
    "JNorth_Adult_First_Site_2009_12_df = JNorth_Adult_First_Site_2009_month_df[JNorth_Adult_First_Site_2009_month_df['month']==12]\n",
    "JNorth_Adult_First_Site_2009_12_df.tail()"
   ]
  },
  {
   "cell_type": "code",
   "execution_count": 325,
   "id": "20a8e5a5",
   "metadata": {},
   "outputs": [
    {
     "data": {
      "text/plain": [
       "(3, 6)"
      ]
     },
     "execution_count": 325,
     "metadata": {},
     "output_type": "execute_result"
    }
   ],
   "source": [
    "JNorth_Adult_First_Site_2009_12_df.shape"
   ]
  },
  {
   "cell_type": "code",
   "execution_count": 326,
   "id": "529a75b3",
   "metadata": {},
   "outputs": [],
   "source": [
    "JNorth_Adult_First_Site_2009_12_df = pd.DataFrame(JNorth_Adult_First_Site_2009_12_df)\n",
    "JNorth_Adult_First_Site_2009_12_df.drop(['month'], axis=1, inplace=True)"
   ]
  },
  {
   "cell_type": "code",
   "execution_count": 327,
   "id": "9d50cf68",
   "metadata": {},
   "outputs": [],
   "source": [
    "# convert lat-long to floats and change address from ALL CAPS to regular capitalization\n",
    "JNorth_Adult_First_Site_2009_12_df['latitude'] = JNorth_Adult_First_Site_2009_12_df['latitude'].astype(float)\n",
    "JNorth_Adult_First_Site_2009_12_df['longitude'] = JNorth_Adult_First_Site_2009_12_df['longitude'].astype(float)\n",
    "# JNorth_Milkweed_Site_df['street_address'] = JNorth_Milkweed_Site_df['street_address'].str.title()"
   ]
  },
  {
   "cell_type": "code",
   "execution_count": 328,
   "id": "90e20da8",
   "metadata": {},
   "outputs": [],
   "source": [
    "geojson = df_to_geojson(JNorth_Adult_First_Site_2009_12_df, cols)"
   ]
  },
  {
   "cell_type": "code",
   "execution_count": 329,
   "id": "1dc06ea2",
   "metadata": {},
   "outputs": [],
   "source": [
    "file = open(\"JNorth_Adult_First_Site_2009_12.geojson\", \"w\")\n",
    "json.dump(geojson, file, indent =1)\n",
    "file.close()"
   ]
  },
  {
   "cell_type": "markdown",
   "id": "8bf917be",
   "metadata": {},
   "source": [
    "# 2010"
   ]
  },
  {
   "cell_type": "code",
   "execution_count": 330,
   "id": "4968168c",
   "metadata": {},
   "outputs": [
    {
     "data": {
      "text/html": [
       "<div>\n",
       "<style scoped>\n",
       "    .dataframe tbody tr th:only-of-type {\n",
       "        vertical-align: middle;\n",
       "    }\n",
       "\n",
       "    .dataframe tbody tr th {\n",
       "        vertical-align: top;\n",
       "    }\n",
       "\n",
       "    .dataframe thead th {\n",
       "        text-align: right;\n",
       "    }\n",
       "</style>\n",
       "<table border=\"1\" class=\"dataframe\">\n",
       "  <thead>\n",
       "    <tr style=\"text-align: right;\">\n",
       "      <th></th>\n",
       "      <th>sighting_date</th>\n",
       "      <th>species</th>\n",
       "      <th>latitude</th>\n",
       "      <th>longitude</th>\n",
       "      <th>number</th>\n",
       "      <th>year</th>\n",
       "    </tr>\n",
       "  </thead>\n",
       "  <tbody>\n",
       "    <tr>\n",
       "      <th>17430</th>\n",
       "      <td>2010-09-12</td>\n",
       "      <td>Monarch Adult (FIRST sighted)</td>\n",
       "      <td>38.801</td>\n",
       "      <td>-119.574</td>\n",
       "      <td>1</td>\n",
       "      <td>2010</td>\n",
       "    </tr>\n",
       "    <tr>\n",
       "      <th>17431</th>\n",
       "      <td>2010-09-14</td>\n",
       "      <td>Monarch Adult (FIRST sighted)</td>\n",
       "      <td>31.172</td>\n",
       "      <td>-83.795</td>\n",
       "      <td>1</td>\n",
       "      <td>2010</td>\n",
       "    </tr>\n",
       "    <tr>\n",
       "      <th>17432</th>\n",
       "      <td>2010-09-14</td>\n",
       "      <td>Monarch Adult (FIRST sighted)</td>\n",
       "      <td>34.677</td>\n",
       "      <td>-77.521</td>\n",
       "      <td>1</td>\n",
       "      <td>2010</td>\n",
       "    </tr>\n",
       "    <tr>\n",
       "      <th>17433</th>\n",
       "      <td>2010-10-11</td>\n",
       "      <td>Monarch Adult (FIRST sighted)</td>\n",
       "      <td>36.579</td>\n",
       "      <td>-121.832</td>\n",
       "      <td>1</td>\n",
       "      <td>2010</td>\n",
       "    </tr>\n",
       "    <tr>\n",
       "      <th>17434</th>\n",
       "      <td>2010-11-05</td>\n",
       "      <td>Monarch Adult (FIRST sighted)</td>\n",
       "      <td>38.893</td>\n",
       "      <td>-77.320</td>\n",
       "      <td>1</td>\n",
       "      <td>2010</td>\n",
       "    </tr>\n",
       "  </tbody>\n",
       "</table>\n",
       "</div>"
      ],
      "text/plain": [
       "      sighting_date                        species  latitude  longitude  \\\n",
       "17430    2010-09-12  Monarch Adult (FIRST sighted)    38.801   -119.574   \n",
       "17431    2010-09-14  Monarch Adult (FIRST sighted)    31.172    -83.795   \n",
       "17432    2010-09-14  Monarch Adult (FIRST sighted)    34.677    -77.521   \n",
       "17433    2010-10-11  Monarch Adult (FIRST sighted)    36.579   -121.832   \n",
       "17434    2010-11-05  Monarch Adult (FIRST sighted)    38.893    -77.320   \n",
       "\n",
       "       number  year  \n",
       "17430       1  2010  \n",
       "17431       1  2010  \n",
       "17432       1  2010  \n",
       "17433       1  2010  \n",
       "17434       1  2010  "
      ]
     },
     "execution_count": 330,
     "metadata": {},
     "output_type": "execute_result"
    }
   ],
   "source": [
    "JNorth_Adult_First_Site_2010_df = JNorth_Adult_First_Site_df[JNorth_Adult_First_Site_df['year']==2010]\n",
    "JNorth_Adult_First_Site_2010_df.tail()"
   ]
  },
  {
   "cell_type": "code",
   "execution_count": 331,
   "id": "0c944693",
   "metadata": {},
   "outputs": [
    {
     "data": {
      "text/plain": [
       "(907, 6)"
      ]
     },
     "execution_count": 331,
     "metadata": {},
     "output_type": "execute_result"
    }
   ],
   "source": [
    "JNorth_Adult_First_Site_2010_df.shape"
   ]
  },
  {
   "cell_type": "code",
   "execution_count": 332,
   "id": "92bc2990",
   "metadata": {},
   "outputs": [],
   "source": [
    "JNorth_Adult_First_Site_2010_df = pd.DataFrame(JNorth_Adult_First_Site_2010_df)\n",
    "JNorth_Adult_First_Site_2010_df.drop(['year'], axis=1, inplace=True)"
   ]
  },
  {
   "cell_type": "code",
   "execution_count": 333,
   "id": "9cdb97b2",
   "metadata": {},
   "outputs": [
    {
     "data": {
      "text/plain": [
       "<bound method NDFrame.tail of       sighting_date                        species  latitude  longitude  \\\n",
       "16528    2010-02-12  Monarch Adult (FIRST sighted)    26.530    -81.826   \n",
       "16529    2010-03-01  Monarch Adult (FIRST sighted)    26.313    -98.392   \n",
       "16530    2010-03-01  Monarch Adult (FIRST sighted)    34.051   -118.143   \n",
       "16531    2010-03-03  Monarch Adult (FIRST sighted)    26.313    -98.392   \n",
       "16532    2010-03-04  Monarch Adult (FIRST sighted)    20.517    -99.867   \n",
       "...             ...                            ...       ...        ...   \n",
       "17430    2010-09-12  Monarch Adult (FIRST sighted)    38.801   -119.574   \n",
       "17431    2010-09-14  Monarch Adult (FIRST sighted)    31.172    -83.795   \n",
       "17432    2010-09-14  Monarch Adult (FIRST sighted)    34.677    -77.521   \n",
       "17433    2010-10-11  Monarch Adult (FIRST sighted)    36.579   -121.832   \n",
       "17434    2010-11-05  Monarch Adult (FIRST sighted)    38.893    -77.320   \n",
       "\n",
       "       number  \n",
       "16528       1  \n",
       "16529       1  \n",
       "16530       1  \n",
       "16531       1  \n",
       "16532       1  \n",
       "...       ...  \n",
       "17430       1  \n",
       "17431       1  \n",
       "17432       1  \n",
       "17433       1  \n",
       "17434       1  \n",
       "\n",
       "[907 rows x 5 columns]>"
      ]
     },
     "execution_count": 333,
     "metadata": {},
     "output_type": "execute_result"
    }
   ],
   "source": [
    "JNorth_Adult_First_Site_2010_df.tail"
   ]
  },
  {
   "cell_type": "code",
   "execution_count": 334,
   "id": "7783762f",
   "metadata": {},
   "outputs": [],
   "source": [
    "JNorth_Adult_First_Site_2010_df['month'] = pd.DatetimeIndex(JNorth_Adult_First_Site_2010_df['sighting_date']).month"
   ]
  },
  {
   "cell_type": "markdown",
   "id": "f71cd27e",
   "metadata": {},
   "source": [
    "## January"
   ]
  },
  {
   "cell_type": "code",
   "execution_count": 335,
   "id": "5aa17557",
   "metadata": {},
   "outputs": [
    {
     "data": {
      "text/html": [
       "<div>\n",
       "<style scoped>\n",
       "    .dataframe tbody tr th:only-of-type {\n",
       "        vertical-align: middle;\n",
       "    }\n",
       "\n",
       "    .dataframe tbody tr th {\n",
       "        vertical-align: top;\n",
       "    }\n",
       "\n",
       "    .dataframe thead th {\n",
       "        text-align: right;\n",
       "    }\n",
       "</style>\n",
       "<table border=\"1\" class=\"dataframe\">\n",
       "  <thead>\n",
       "    <tr style=\"text-align: right;\">\n",
       "      <th></th>\n",
       "      <th>sighting_date</th>\n",
       "      <th>species</th>\n",
       "      <th>latitude</th>\n",
       "      <th>longitude</th>\n",
       "      <th>number</th>\n",
       "      <th>month</th>\n",
       "    </tr>\n",
       "  </thead>\n",
       "  <tbody>\n",
       "  </tbody>\n",
       "</table>\n",
       "</div>"
      ],
      "text/plain": [
       "Empty DataFrame\n",
       "Columns: [sighting_date, species, latitude, longitude, number, month]\n",
       "Index: []"
      ]
     },
     "execution_count": 335,
     "metadata": {},
     "output_type": "execute_result"
    }
   ],
   "source": [
    "JNorth_Adult_First_Site_2010_month_df =pd.DataFrame(JNorth_Adult_First_Site_2010_df)\n",
    "JNorth_Adult_First_Site_2010_1_df = JNorth_Adult_First_Site_2010_month_df[JNorth_Adult_First_Site_2010_month_df['month']==1]\n",
    "JNorth_Adult_First_Site_2010_1_df.tail()"
   ]
  },
  {
   "cell_type": "code",
   "execution_count": 336,
   "id": "ca135c2e",
   "metadata": {},
   "outputs": [
    {
     "data": {
      "text/plain": [
       "(0, 6)"
      ]
     },
     "execution_count": 336,
     "metadata": {},
     "output_type": "execute_result"
    }
   ],
   "source": [
    "JNorth_Adult_First_Site_2010_1_df.shape"
   ]
  },
  {
   "cell_type": "code",
   "execution_count": 337,
   "id": "6d0be994",
   "metadata": {},
   "outputs": [],
   "source": [
    "JNorth_Adult_First_Site_2010_1_df = pd.DataFrame(JNorth_Adult_First_Site_2010_1_df)\n",
    "JNorth_Adult_First_Site_2010_1_df.drop(['month'], axis=1, inplace=True)"
   ]
  },
  {
   "cell_type": "code",
   "execution_count": 338,
   "id": "be4f1dc4",
   "metadata": {},
   "outputs": [],
   "source": [
    "# convert lat-long to floats and change address from ALL CAPS to regular capitalization\n",
    "JNorth_Adult_First_Site_2010_1_df['latitude'] = JNorth_Adult_First_Site_2010_1_df['latitude'].astype(float)\n",
    "JNorth_Adult_First_Site_2010_1_df['longitude'] = JNorth_Adult_First_Site_2010_1_df['longitude'].astype(float)\n",
    "# JNorth_Milkweed_Site_df['street_address'] = JNorth_Milkweed_Site_df['street_address'].str.title()"
   ]
  },
  {
   "cell_type": "code",
   "execution_count": 339,
   "id": "918699f7",
   "metadata": {},
   "outputs": [],
   "source": [
    "geojson = df_to_geojson(JNorth_Adult_First_Site_2010_1_df, cols)"
   ]
  },
  {
   "cell_type": "code",
   "execution_count": 340,
   "id": "d4b56319",
   "metadata": {},
   "outputs": [],
   "source": [
    "file = open(\"JNorth_Adult_First_Site_2010_1.geojson\", \"w\")\n",
    "json.dump(geojson, file, indent =1)\n",
    "file.close()"
   ]
  },
  {
   "cell_type": "markdown",
   "id": "2330de88",
   "metadata": {},
   "source": [
    "# February"
   ]
  },
  {
   "cell_type": "code",
   "execution_count": 341,
   "id": "a96637fc",
   "metadata": {},
   "outputs": [
    {
     "data": {
      "text/html": [
       "<div>\n",
       "<style scoped>\n",
       "    .dataframe tbody tr th:only-of-type {\n",
       "        vertical-align: middle;\n",
       "    }\n",
       "\n",
       "    .dataframe tbody tr th {\n",
       "        vertical-align: top;\n",
       "    }\n",
       "\n",
       "    .dataframe thead th {\n",
       "        text-align: right;\n",
       "    }\n",
       "</style>\n",
       "<table border=\"1\" class=\"dataframe\">\n",
       "  <thead>\n",
       "    <tr style=\"text-align: right;\">\n",
       "      <th></th>\n",
       "      <th>sighting_date</th>\n",
       "      <th>species</th>\n",
       "      <th>latitude</th>\n",
       "      <th>longitude</th>\n",
       "      <th>number</th>\n",
       "      <th>month</th>\n",
       "    </tr>\n",
       "  </thead>\n",
       "  <tbody>\n",
       "    <tr>\n",
       "      <th>16528</th>\n",
       "      <td>2010-02-12</td>\n",
       "      <td>Monarch Adult (FIRST sighted)</td>\n",
       "      <td>26.53</td>\n",
       "      <td>-81.826</td>\n",
       "      <td>1</td>\n",
       "      <td>2</td>\n",
       "    </tr>\n",
       "  </tbody>\n",
       "</table>\n",
       "</div>"
      ],
      "text/plain": [
       "      sighting_date                        species  latitude  longitude  \\\n",
       "16528    2010-02-12  Monarch Adult (FIRST sighted)     26.53    -81.826   \n",
       "\n",
       "       number  month  \n",
       "16528       1      2  "
      ]
     },
     "execution_count": 341,
     "metadata": {},
     "output_type": "execute_result"
    }
   ],
   "source": [
    "JNorth_Adult_First_Site_2010_month_df =pd.DataFrame(JNorth_Adult_First_Site_2010_df)\n",
    "JNorth_Adult_First_Site_2010_2_df = JNorth_Adult_First_Site_2010_month_df[JNorth_Adult_First_Site_2010_month_df['month']==2]\n",
    "JNorth_Adult_First_Site_2010_2_df.tail()"
   ]
  },
  {
   "cell_type": "code",
   "execution_count": 342,
   "id": "27970c15",
   "metadata": {},
   "outputs": [
    {
     "data": {
      "text/plain": [
       "(1, 6)"
      ]
     },
     "execution_count": 342,
     "metadata": {},
     "output_type": "execute_result"
    }
   ],
   "source": [
    "JNorth_Adult_First_Site_2010_2_df.shape"
   ]
  },
  {
   "cell_type": "code",
   "execution_count": 343,
   "id": "c2b5b887",
   "metadata": {},
   "outputs": [],
   "source": [
    "JNorth_Adult_First_Site_2010_2_df = pd.DataFrame(JNorth_Adult_First_Site_2010_2_df)\n",
    "JNorth_Adult_First_Site_2010_2_df.drop(['month'], axis=1, inplace=True)"
   ]
  },
  {
   "cell_type": "code",
   "execution_count": 344,
   "id": "c7b9db54",
   "metadata": {},
   "outputs": [],
   "source": [
    "# convert lat-long to floats and change address from ALL CAPS to regular capitalization\n",
    "JNorth_Adult_First_Site_2010_2_df['latitude'] = JNorth_Adult_First_Site_2010_2_df['latitude'].astype(float)\n",
    "JNorth_Adult_First_Site_2010_2_df['longitude'] = JNorth_Adult_First_Site_2010_2_df['longitude'].astype(float)\n",
    "# JNorth_Milkweed_Site_df['street_address'] = JNorth_Milkweed_Site_df['street_address'].str.title()"
   ]
  },
  {
   "cell_type": "code",
   "execution_count": 345,
   "id": "8cd49e48",
   "metadata": {},
   "outputs": [],
   "source": [
    "geojson = df_to_geojson(JNorth_Adult_First_Site_2010_2_df, cols)"
   ]
  },
  {
   "cell_type": "code",
   "execution_count": 346,
   "id": "fc85e820",
   "metadata": {},
   "outputs": [],
   "source": [
    "file = open(\"JNorth_Adult_First_Site_2010_2.geojson\", \"w\")\n",
    "json.dump(geojson, file, indent =1)\n",
    "file.close()"
   ]
  },
  {
   "cell_type": "markdown",
   "id": "fae9abab",
   "metadata": {},
   "source": [
    "# March"
   ]
  },
  {
   "cell_type": "code",
   "execution_count": 347,
   "id": "80cd9c13",
   "metadata": {},
   "outputs": [
    {
     "data": {
      "text/html": [
       "<div>\n",
       "<style scoped>\n",
       "    .dataframe tbody tr th:only-of-type {\n",
       "        vertical-align: middle;\n",
       "    }\n",
       "\n",
       "    .dataframe tbody tr th {\n",
       "        vertical-align: top;\n",
       "    }\n",
       "\n",
       "    .dataframe thead th {\n",
       "        text-align: right;\n",
       "    }\n",
       "</style>\n",
       "<table border=\"1\" class=\"dataframe\">\n",
       "  <thead>\n",
       "    <tr style=\"text-align: right;\">\n",
       "      <th></th>\n",
       "      <th>sighting_date</th>\n",
       "      <th>species</th>\n",
       "      <th>latitude</th>\n",
       "      <th>longitude</th>\n",
       "      <th>number</th>\n",
       "      <th>month</th>\n",
       "    </tr>\n",
       "  </thead>\n",
       "  <tbody>\n",
       "    <tr>\n",
       "      <th>16680</th>\n",
       "      <td>2010-03-31</td>\n",
       "      <td>Monarch Adult (FIRST sighted)</td>\n",
       "      <td>30.230</td>\n",
       "      <td>-97.714</td>\n",
       "      <td>1</td>\n",
       "      <td>3</td>\n",
       "    </tr>\n",
       "    <tr>\n",
       "      <th>16681</th>\n",
       "      <td>2010-03-31</td>\n",
       "      <td>Monarch Adult (FIRST sighted)</td>\n",
       "      <td>30.408</td>\n",
       "      <td>-99.579</td>\n",
       "      <td>1</td>\n",
       "      <td>3</td>\n",
       "    </tr>\n",
       "    <tr>\n",
       "      <th>16682</th>\n",
       "      <td>2010-03-31</td>\n",
       "      <td>Monarch Adult (FIRST sighted)</td>\n",
       "      <td>32.304</td>\n",
       "      <td>-93.913</td>\n",
       "      <td>1</td>\n",
       "      <td>3</td>\n",
       "    </tr>\n",
       "    <tr>\n",
       "      <th>16683</th>\n",
       "      <td>2010-03-31</td>\n",
       "      <td>Monarch Adult (FIRST sighted)</td>\n",
       "      <td>32.688</td>\n",
       "      <td>-97.611</td>\n",
       "      <td>1</td>\n",
       "      <td>3</td>\n",
       "    </tr>\n",
       "    <tr>\n",
       "      <th>16684</th>\n",
       "      <td>2010-03-31</td>\n",
       "      <td>Monarch Adult (FIRST sighted)</td>\n",
       "      <td>32.758</td>\n",
       "      <td>-97.328</td>\n",
       "      <td>1</td>\n",
       "      <td>3</td>\n",
       "    </tr>\n",
       "  </tbody>\n",
       "</table>\n",
       "</div>"
      ],
      "text/plain": [
       "      sighting_date                        species  latitude  longitude  \\\n",
       "16680    2010-03-31  Monarch Adult (FIRST sighted)    30.230    -97.714   \n",
       "16681    2010-03-31  Monarch Adult (FIRST sighted)    30.408    -99.579   \n",
       "16682    2010-03-31  Monarch Adult (FIRST sighted)    32.304    -93.913   \n",
       "16683    2010-03-31  Monarch Adult (FIRST sighted)    32.688    -97.611   \n",
       "16684    2010-03-31  Monarch Adult (FIRST sighted)    32.758    -97.328   \n",
       "\n",
       "       number  month  \n",
       "16680       1      3  \n",
       "16681       1      3  \n",
       "16682       1      3  \n",
       "16683       1      3  \n",
       "16684       1      3  "
      ]
     },
     "execution_count": 347,
     "metadata": {},
     "output_type": "execute_result"
    }
   ],
   "source": [
    "JNorth_Adult_First_Site_2010_month_df =pd.DataFrame(JNorth_Adult_First_Site_2010_df)\n",
    "JNorth_Adult_First_Site_2010_3_df = JNorth_Adult_First_Site_2010_month_df[JNorth_Adult_First_Site_2010_month_df['month']==3]\n",
    "JNorth_Adult_First_Site_2010_3_df.tail()"
   ]
  },
  {
   "cell_type": "code",
   "execution_count": 348,
   "id": "f59a1362",
   "metadata": {},
   "outputs": [
    {
     "data": {
      "text/plain": [
       "(156, 6)"
      ]
     },
     "execution_count": 348,
     "metadata": {},
     "output_type": "execute_result"
    }
   ],
   "source": [
    "JNorth_Adult_First_Site_2010_3_df.shape"
   ]
  },
  {
   "cell_type": "code",
   "execution_count": 349,
   "id": "bbda5b6a",
   "metadata": {},
   "outputs": [],
   "source": [
    "JNorth_Adult_First_Site_2010_3_df = pd.DataFrame(JNorth_Adult_First_Site_2010_3_df)\n",
    "JNorth_Adult_First_Site_2010_3_df.drop(['month'], axis=1, inplace=True)"
   ]
  },
  {
   "cell_type": "code",
   "execution_count": 350,
   "id": "512d795b",
   "metadata": {},
   "outputs": [],
   "source": [
    "# convert lat-long to floats and change address from ALL CAPS to regular capitalization\n",
    "JNorth_Adult_First_Site_2010_3_df['latitude'] = JNorth_Adult_First_Site_2010_3_df['latitude'].astype(float)\n",
    "JNorth_Adult_First_Site_2010_3_df['longitude'] = JNorth_Adult_First_Site_2010_3_df['longitude'].astype(float)\n",
    "# JNorth_Milkweed_Site_df['street_address'] = JNorth_Milkweed_Site_df['street_address'].str.title()"
   ]
  },
  {
   "cell_type": "code",
   "execution_count": 351,
   "id": "0aaa7c36",
   "metadata": {},
   "outputs": [],
   "source": [
    "geojson = df_to_geojson(JNorth_Adult_First_Site_2010_3_df, cols)"
   ]
  },
  {
   "cell_type": "code",
   "execution_count": 352,
   "id": "aac20231",
   "metadata": {},
   "outputs": [],
   "source": [
    "file = open(\"JNorth_Adult_First_Site_2010_3.geojson\", \"w\")\n",
    "json.dump(geojson, file, indent =1)\n",
    "file.close()"
   ]
  },
  {
   "cell_type": "markdown",
   "id": "787bcc6e",
   "metadata": {},
   "source": [
    "# April"
   ]
  },
  {
   "cell_type": "code",
   "execution_count": 353,
   "id": "daf0e414",
   "metadata": {},
   "outputs": [
    {
     "data": {
      "text/html": [
       "<div>\n",
       "<style scoped>\n",
       "    .dataframe tbody tr th:only-of-type {\n",
       "        vertical-align: middle;\n",
       "    }\n",
       "\n",
       "    .dataframe tbody tr th {\n",
       "        vertical-align: top;\n",
       "    }\n",
       "\n",
       "    .dataframe thead th {\n",
       "        text-align: right;\n",
       "    }\n",
       "</style>\n",
       "<table border=\"1\" class=\"dataframe\">\n",
       "  <thead>\n",
       "    <tr style=\"text-align: right;\">\n",
       "      <th></th>\n",
       "      <th>sighting_date</th>\n",
       "      <th>species</th>\n",
       "      <th>latitude</th>\n",
       "      <th>longitude</th>\n",
       "      <th>number</th>\n",
       "      <th>month</th>\n",
       "    </tr>\n",
       "  </thead>\n",
       "  <tbody>\n",
       "    <tr>\n",
       "      <th>16820</th>\n",
       "      <td>2010-04-28</td>\n",
       "      <td>Monarch Adult (FIRST sighted)</td>\n",
       "      <td>31.260</td>\n",
       "      <td>-98.113</td>\n",
       "      <td>1</td>\n",
       "      <td>4</td>\n",
       "    </tr>\n",
       "    <tr>\n",
       "      <th>16821</th>\n",
       "      <td>2010-04-29</td>\n",
       "      <td>Monarch Adult (FIRST sighted)</td>\n",
       "      <td>34.734</td>\n",
       "      <td>-76.754</td>\n",
       "      <td>1</td>\n",
       "      <td>4</td>\n",
       "    </tr>\n",
       "    <tr>\n",
       "      <th>16822</th>\n",
       "      <td>2010-04-29</td>\n",
       "      <td>Monarch Adult (FIRST sighted)</td>\n",
       "      <td>38.665</td>\n",
       "      <td>-95.669</td>\n",
       "      <td>1</td>\n",
       "      <td>4</td>\n",
       "    </tr>\n",
       "    <tr>\n",
       "      <th>16823</th>\n",
       "      <td>2010-04-29</td>\n",
       "      <td>Monarch Adult (FIRST sighted)</td>\n",
       "      <td>39.002</td>\n",
       "      <td>-95.232</td>\n",
       "      <td>1</td>\n",
       "      <td>4</td>\n",
       "    </tr>\n",
       "    <tr>\n",
       "      <th>16824</th>\n",
       "      <td>2010-04-30</td>\n",
       "      <td>Monarch Adult (FIRST sighted)</td>\n",
       "      <td>32.788</td>\n",
       "      <td>-96.800</td>\n",
       "      <td>1</td>\n",
       "      <td>4</td>\n",
       "    </tr>\n",
       "  </tbody>\n",
       "</table>\n",
       "</div>"
      ],
      "text/plain": [
       "      sighting_date                        species  latitude  longitude  \\\n",
       "16820    2010-04-28  Monarch Adult (FIRST sighted)    31.260    -98.113   \n",
       "16821    2010-04-29  Monarch Adult (FIRST sighted)    34.734    -76.754   \n",
       "16822    2010-04-29  Monarch Adult (FIRST sighted)    38.665    -95.669   \n",
       "16823    2010-04-29  Monarch Adult (FIRST sighted)    39.002    -95.232   \n",
       "16824    2010-04-30  Monarch Adult (FIRST sighted)    32.788    -96.800   \n",
       "\n",
       "       number  month  \n",
       "16820       1      4  \n",
       "16821       1      4  \n",
       "16822       1      4  \n",
       "16823       1      4  \n",
       "16824       1      4  "
      ]
     },
     "execution_count": 353,
     "metadata": {},
     "output_type": "execute_result"
    }
   ],
   "source": [
    "JNorth_Adult_First_Site_2010_month_df =pd.DataFrame(JNorth_Adult_First_Site_2010_df)\n",
    "JNorth_Adult_First_Site_2010_4_df = JNorth_Adult_First_Site_2010_month_df[JNorth_Adult_First_Site_2010_month_df['month']==4]\n",
    "JNorth_Adult_First_Site_2010_4_df.tail()"
   ]
  },
  {
   "cell_type": "code",
   "execution_count": 354,
   "id": "f1600f0b",
   "metadata": {},
   "outputs": [
    {
     "data": {
      "text/plain": [
       "(140, 6)"
      ]
     },
     "execution_count": 354,
     "metadata": {},
     "output_type": "execute_result"
    }
   ],
   "source": [
    "JNorth_Adult_First_Site_2010_4_df.shape"
   ]
  },
  {
   "cell_type": "code",
   "execution_count": 355,
   "id": "2f4f800f",
   "metadata": {},
   "outputs": [],
   "source": [
    "JNorth_Adult_First_Site_2010_4_df= pd.DataFrame(JNorth_Adult_First_Site_2010_4_df)\n",
    "JNorth_Adult_First_Site_2010_4_df.drop(['month'], axis=1, inplace=True)"
   ]
  },
  {
   "cell_type": "code",
   "execution_count": 356,
   "id": "60a78c48",
   "metadata": {},
   "outputs": [],
   "source": [
    "# convert lat-long to floats and change address from ALL CAPS to regular capitalization\n",
    "JNorth_Adult_First_Site_2010_4_df['latitude'] = JNorth_Adult_First_Site_2010_4_df['latitude'].astype(float)\n",
    "JNorth_Adult_First_Site_2010_4_df['longitude'] = JNorth_Adult_First_Site_2010_4_df['longitude'].astype(float)\n",
    "# JNorth_Milkweed_Site_df['street_address'] = JNorth_Milkweed_Site_df['street_address'].str.title()"
   ]
  },
  {
   "cell_type": "code",
   "execution_count": 357,
   "id": "a9e22556",
   "metadata": {},
   "outputs": [],
   "source": [
    "geojson = df_to_geojson(JNorth_Adult_First_Site_2010_4_df, cols)"
   ]
  },
  {
   "cell_type": "code",
   "execution_count": 358,
   "id": "e0a805fc",
   "metadata": {},
   "outputs": [],
   "source": [
    "file = open(\"JNorth_Adult_First_Site_2010_4.geojson\", \"w\")\n",
    "json.dump(geojson, file, indent =1)\n",
    "file.close()"
   ]
  },
  {
   "cell_type": "markdown",
   "id": "1b33d9b6",
   "metadata": {},
   "source": [
    "# May"
   ]
  },
  {
   "cell_type": "code",
   "execution_count": 359,
   "id": "e5fe21a9",
   "metadata": {},
   "outputs": [
    {
     "data": {
      "text/html": [
       "<div>\n",
       "<style scoped>\n",
       "    .dataframe tbody tr th:only-of-type {\n",
       "        vertical-align: middle;\n",
       "    }\n",
       "\n",
       "    .dataframe tbody tr th {\n",
       "        vertical-align: top;\n",
       "    }\n",
       "\n",
       "    .dataframe thead th {\n",
       "        text-align: right;\n",
       "    }\n",
       "</style>\n",
       "<table border=\"1\" class=\"dataframe\">\n",
       "  <thead>\n",
       "    <tr style=\"text-align: right;\">\n",
       "      <th></th>\n",
       "      <th>sighting_date</th>\n",
       "      <th>species</th>\n",
       "      <th>latitude</th>\n",
       "      <th>longitude</th>\n",
       "      <th>number</th>\n",
       "      <th>month</th>\n",
       "    </tr>\n",
       "  </thead>\n",
       "  <tbody>\n",
       "    <tr>\n",
       "      <th>17215</th>\n",
       "      <td>2010-05-31</td>\n",
       "      <td>Monarch Adult (FIRST sighted)</td>\n",
       "      <td>46.694</td>\n",
       "      <td>-91.036</td>\n",
       "      <td>1</td>\n",
       "      <td>5</td>\n",
       "    </tr>\n",
       "    <tr>\n",
       "      <th>17216</th>\n",
       "      <td>2010-05-31</td>\n",
       "      <td>Monarch Adult (FIRST sighted)</td>\n",
       "      <td>49.493</td>\n",
       "      <td>-98.000</td>\n",
       "      <td>2</td>\n",
       "      <td>5</td>\n",
       "    </tr>\n",
       "    <tr>\n",
       "      <th>17217</th>\n",
       "      <td>2010-05-31</td>\n",
       "      <td>Monarch Adult (FIRST sighted)</td>\n",
       "      <td>49.689</td>\n",
       "      <td>-97.258</td>\n",
       "      <td>2</td>\n",
       "      <td>5</td>\n",
       "    </tr>\n",
       "    <tr>\n",
       "      <th>17218</th>\n",
       "      <td>2010-05-31</td>\n",
       "      <td>Monarch Adult (FIRST sighted)</td>\n",
       "      <td>49.884</td>\n",
       "      <td>-97.141</td>\n",
       "      <td>3</td>\n",
       "      <td>5</td>\n",
       "    </tr>\n",
       "    <tr>\n",
       "      <th>17219</th>\n",
       "      <td>2010-05-31</td>\n",
       "      <td>Monarch Adult (FIRST sighted)</td>\n",
       "      <td>49.946</td>\n",
       "      <td>-98.422</td>\n",
       "      <td>1</td>\n",
       "      <td>5</td>\n",
       "    </tr>\n",
       "  </tbody>\n",
       "</table>\n",
       "</div>"
      ],
      "text/plain": [
       "      sighting_date                        species  latitude  longitude  \\\n",
       "17215    2010-05-31  Monarch Adult (FIRST sighted)    46.694    -91.036   \n",
       "17216    2010-05-31  Monarch Adult (FIRST sighted)    49.493    -98.000   \n",
       "17217    2010-05-31  Monarch Adult (FIRST sighted)    49.689    -97.258   \n",
       "17218    2010-05-31  Monarch Adult (FIRST sighted)    49.884    -97.141   \n",
       "17219    2010-05-31  Monarch Adult (FIRST sighted)    49.946    -98.422   \n",
       "\n",
       "       number  month  \n",
       "17215       1      5  \n",
       "17216       2      5  \n",
       "17217       2      5  \n",
       "17218       3      5  \n",
       "17219       1      5  "
      ]
     },
     "execution_count": 359,
     "metadata": {},
     "output_type": "execute_result"
    }
   ],
   "source": [
    "JNorth_Adult_First_Site_2010_month_df =pd.DataFrame(JNorth_Adult_First_Site_2010_df)\n",
    "JNorth_Adult_First_Site_2010_5_df = JNorth_Adult_First_Site_2010_month_df[JNorth_Adult_First_Site_2010_month_df['month']==5]\n",
    "JNorth_Adult_First_Site_2010_5_df.tail()"
   ]
  },
  {
   "cell_type": "code",
   "execution_count": 360,
   "id": "5fa880cc",
   "metadata": {},
   "outputs": [
    {
     "data": {
      "text/plain": [
       "(395, 6)"
      ]
     },
     "execution_count": 360,
     "metadata": {},
     "output_type": "execute_result"
    }
   ],
   "source": [
    "JNorth_Adult_First_Site_2010_5_df.shape"
   ]
  },
  {
   "cell_type": "code",
   "execution_count": 361,
   "id": "cd71d0df",
   "metadata": {},
   "outputs": [],
   "source": [
    "JNorth_Adult_First_Site_2010_5_df = pd.DataFrame(JNorth_Adult_First_Site_2010_5_df)\n",
    "JNorth_Adult_First_Site_2010_5_df.drop(['month'], axis=1, inplace=True)"
   ]
  },
  {
   "cell_type": "code",
   "execution_count": 362,
   "id": "ceb51d7e",
   "metadata": {},
   "outputs": [],
   "source": [
    "# convert lat-long to floats and change address from ALL CAPS to regular capitalization\n",
    "JNorth_Adult_First_Site_2010_5_df['latitude'] = JNorth_Adult_First_Site_2010_5_df['latitude'].astype(float)\n",
    "JNorth_Adult_First_Site_2010_5_df['longitude'] = JNorth_Adult_First_Site_2010_5_df['longitude'].astype(float)\n",
    "# JNorth_Milkweed_Site_df['street_address'] = JNorth_Milkweed_Site_df['street_address'].str.title()"
   ]
  },
  {
   "cell_type": "code",
   "execution_count": 363,
   "id": "a9c45134",
   "metadata": {},
   "outputs": [],
   "source": [
    "geojson = df_to_geojson(JNorth_Adult_First_Site_2010_5_df, cols)"
   ]
  },
  {
   "cell_type": "code",
   "execution_count": 364,
   "id": "a126786f",
   "metadata": {},
   "outputs": [],
   "source": [
    "file = open(\"JNorth_Adult_First_Site_2010_5.geojson\", \"w\")\n",
    "json.dump(geojson, file, indent =1)\n",
    "file.close()"
   ]
  },
  {
   "cell_type": "markdown",
   "id": "21608e7a",
   "metadata": {},
   "source": [
    "# June"
   ]
  },
  {
   "cell_type": "code",
   "execution_count": 365,
   "id": "c9432557",
   "metadata": {},
   "outputs": [
    {
     "data": {
      "text/html": [
       "<div>\n",
       "<style scoped>\n",
       "    .dataframe tbody tr th:only-of-type {\n",
       "        vertical-align: middle;\n",
       "    }\n",
       "\n",
       "    .dataframe tbody tr th {\n",
       "        vertical-align: top;\n",
       "    }\n",
       "\n",
       "    .dataframe thead th {\n",
       "        text-align: right;\n",
       "    }\n",
       "</style>\n",
       "<table border=\"1\" class=\"dataframe\">\n",
       "  <thead>\n",
       "    <tr style=\"text-align: right;\">\n",
       "      <th></th>\n",
       "      <th>sighting_date</th>\n",
       "      <th>species</th>\n",
       "      <th>latitude</th>\n",
       "      <th>longitude</th>\n",
       "      <th>number</th>\n",
       "      <th>month</th>\n",
       "    </tr>\n",
       "  </thead>\n",
       "  <tbody>\n",
       "    <tr>\n",
       "      <th>17345</th>\n",
       "      <td>2010-06-30</td>\n",
       "      <td>Monarch Adult (FIRST sighted)</td>\n",
       "      <td>40.971</td>\n",
       "      <td>-72.304</td>\n",
       "      <td>1</td>\n",
       "      <td>6</td>\n",
       "    </tr>\n",
       "    <tr>\n",
       "      <th>17346</th>\n",
       "      <td>2010-06-30</td>\n",
       "      <td>Monarch Adult (FIRST sighted)</td>\n",
       "      <td>43.056</td>\n",
       "      <td>-77.520</td>\n",
       "      <td>1</td>\n",
       "      <td>6</td>\n",
       "    </tr>\n",
       "    <tr>\n",
       "      <th>17347</th>\n",
       "      <td>2010-06-30</td>\n",
       "      <td>Monarch Adult (FIRST sighted)</td>\n",
       "      <td>43.087</td>\n",
       "      <td>-78.728</td>\n",
       "      <td>1</td>\n",
       "      <td>6</td>\n",
       "    </tr>\n",
       "    <tr>\n",
       "      <th>17348</th>\n",
       "      <td>2010-06-30</td>\n",
       "      <td>Monarch Adult (FIRST sighted)</td>\n",
       "      <td>43.950</td>\n",
       "      <td>-79.833</td>\n",
       "      <td>1</td>\n",
       "      <td>6</td>\n",
       "    </tr>\n",
       "    <tr>\n",
       "      <th>17349</th>\n",
       "      <td>2010-06-30</td>\n",
       "      <td>Monarch Adult (FIRST sighted)</td>\n",
       "      <td>44.648</td>\n",
       "      <td>-83.361</td>\n",
       "      <td>1</td>\n",
       "      <td>6</td>\n",
       "    </tr>\n",
       "  </tbody>\n",
       "</table>\n",
       "</div>"
      ],
      "text/plain": [
       "      sighting_date                        species  latitude  longitude  \\\n",
       "17345    2010-06-30  Monarch Adult (FIRST sighted)    40.971    -72.304   \n",
       "17346    2010-06-30  Monarch Adult (FIRST sighted)    43.056    -77.520   \n",
       "17347    2010-06-30  Monarch Adult (FIRST sighted)    43.087    -78.728   \n",
       "17348    2010-06-30  Monarch Adult (FIRST sighted)    43.950    -79.833   \n",
       "17349    2010-06-30  Monarch Adult (FIRST sighted)    44.648    -83.361   \n",
       "\n",
       "       number  month  \n",
       "17345       1      6  \n",
       "17346       1      6  \n",
       "17347       1      6  \n",
       "17348       1      6  \n",
       "17349       1      6  "
      ]
     },
     "execution_count": 365,
     "metadata": {},
     "output_type": "execute_result"
    }
   ],
   "source": [
    "JNorth_Adult_First_Site_2010_month_df =pd.DataFrame(JNorth_Adult_First_Site_2010_df)\n",
    "JNorth_Adult_First_Site_2010_6_df = JNorth_Adult_First_Site_2010_month_df[JNorth_Adult_First_Site_2010_month_df['month']==6]\n",
    "JNorth_Adult_First_Site_2010_6_df.tail()"
   ]
  },
  {
   "cell_type": "code",
   "execution_count": 366,
   "id": "b1bd8bf7",
   "metadata": {},
   "outputs": [
    {
     "data": {
      "text/plain": [
       "(130, 6)"
      ]
     },
     "execution_count": 366,
     "metadata": {},
     "output_type": "execute_result"
    }
   ],
   "source": [
    "JNorth_Adult_First_Site_2010_6_df.shape"
   ]
  },
  {
   "cell_type": "code",
   "execution_count": 367,
   "id": "2f2ac9bc",
   "metadata": {},
   "outputs": [],
   "source": [
    "JNorth_Adult_First_Site_2010_6_df = pd.DataFrame(JNorth_Adult_First_Site_2010_6_df)\n",
    "JNorth_Adult_First_Site_2010_6_df.drop(['month'], axis=1, inplace=True)"
   ]
  },
  {
   "cell_type": "code",
   "execution_count": 368,
   "id": "a91809a2",
   "metadata": {},
   "outputs": [],
   "source": [
    "# convert lat-long to floats and change address from ALL CAPS to regular capitalization\n",
    "JNorth_Adult_First_Site_2010_6_df['latitude'] = JNorth_Adult_First_Site_2010_6_df['latitude'].astype(float)\n",
    "JNorth_Adult_First_Site_2010_6_df['longitude'] = JNorth_Adult_First_Site_2010_6_df['longitude'].astype(float)\n",
    "# JNorth_Milkweed_Site_df['street_address'] = JNorth_Milkweed_Site_df['street_address'].str.title()"
   ]
  },
  {
   "cell_type": "code",
   "execution_count": 369,
   "id": "03d8de83",
   "metadata": {},
   "outputs": [],
   "source": [
    "geojson = df_to_geojson(JNorth_Adult_First_Site_2010_6_df, cols)"
   ]
  },
  {
   "cell_type": "code",
   "execution_count": 370,
   "id": "a24a9426",
   "metadata": {},
   "outputs": [],
   "source": [
    "file = open(\"JNorth_Adult_First_Site_2010_6.geojson\", \"w\")\n",
    "json.dump(geojson, file, indent =1)\n",
    "file.close()"
   ]
  },
  {
   "cell_type": "markdown",
   "id": "6f0a7a5a",
   "metadata": {},
   "source": [
    "# July"
   ]
  },
  {
   "cell_type": "code",
   "execution_count": 371,
   "id": "d7920b96",
   "metadata": {},
   "outputs": [
    {
     "data": {
      "text/html": [
       "<div>\n",
       "<style scoped>\n",
       "    .dataframe tbody tr th:only-of-type {\n",
       "        vertical-align: middle;\n",
       "    }\n",
       "\n",
       "    .dataframe tbody tr th {\n",
       "        vertical-align: top;\n",
       "    }\n",
       "\n",
       "    .dataframe thead th {\n",
       "        text-align: right;\n",
       "    }\n",
       "</style>\n",
       "<table border=\"1\" class=\"dataframe\">\n",
       "  <thead>\n",
       "    <tr style=\"text-align: right;\">\n",
       "      <th></th>\n",
       "      <th>sighting_date</th>\n",
       "      <th>species</th>\n",
       "      <th>latitude</th>\n",
       "      <th>longitude</th>\n",
       "      <th>number</th>\n",
       "      <th>month</th>\n",
       "    </tr>\n",
       "  </thead>\n",
       "  <tbody>\n",
       "    <tr>\n",
       "      <th>17412</th>\n",
       "      <td>2010-07-27</td>\n",
       "      <td>Monarch Adult (FIRST sighted)</td>\n",
       "      <td>37.008</td>\n",
       "      <td>-76.387</td>\n",
       "      <td>1</td>\n",
       "      <td>7</td>\n",
       "    </tr>\n",
       "    <tr>\n",
       "      <th>17413</th>\n",
       "      <td>2010-07-27</td>\n",
       "      <td>Monarch Adult (FIRST sighted)</td>\n",
       "      <td>40.633</td>\n",
       "      <td>-76.154</td>\n",
       "      <td>1</td>\n",
       "      <td>7</td>\n",
       "    </tr>\n",
       "    <tr>\n",
       "      <th>17414</th>\n",
       "      <td>2010-07-29</td>\n",
       "      <td>Monarch Adult (FIRST sighted)</td>\n",
       "      <td>40.694</td>\n",
       "      <td>-73.991</td>\n",
       "      <td>1</td>\n",
       "      <td>7</td>\n",
       "    </tr>\n",
       "    <tr>\n",
       "      <th>17415</th>\n",
       "      <td>2010-07-30</td>\n",
       "      <td>Monarch Adult (FIRST sighted)</td>\n",
       "      <td>40.837</td>\n",
       "      <td>-76.899</td>\n",
       "      <td>1</td>\n",
       "      <td>7</td>\n",
       "    </tr>\n",
       "    <tr>\n",
       "      <th>17416</th>\n",
       "      <td>2010-07-31</td>\n",
       "      <td>Monarch Adult (FIRST sighted)</td>\n",
       "      <td>39.931</td>\n",
       "      <td>-75.341</td>\n",
       "      <td>1</td>\n",
       "      <td>7</td>\n",
       "    </tr>\n",
       "  </tbody>\n",
       "</table>\n",
       "</div>"
      ],
      "text/plain": [
       "      sighting_date                        species  latitude  longitude  \\\n",
       "17412    2010-07-27  Monarch Adult (FIRST sighted)    37.008    -76.387   \n",
       "17413    2010-07-27  Monarch Adult (FIRST sighted)    40.633    -76.154   \n",
       "17414    2010-07-29  Monarch Adult (FIRST sighted)    40.694    -73.991   \n",
       "17415    2010-07-30  Monarch Adult (FIRST sighted)    40.837    -76.899   \n",
       "17416    2010-07-31  Monarch Adult (FIRST sighted)    39.931    -75.341   \n",
       "\n",
       "       number  month  \n",
       "17412       1      7  \n",
       "17413       1      7  \n",
       "17414       1      7  \n",
       "17415       1      7  \n",
       "17416       1      7  "
      ]
     },
     "execution_count": 371,
     "metadata": {},
     "output_type": "execute_result"
    }
   ],
   "source": [
    "JNorth_Adult_First_Site_2010_month_df =pd.DataFrame(JNorth_Adult_First_Site_2010_df)\n",
    "JNorth_Adult_First_Site_2010_7_df = JNorth_Adult_First_Site_2010_month_df[JNorth_Adult_First_Site_2010_month_df['month']==7]\n",
    "JNorth_Adult_First_Site_2010_7_df.tail()"
   ]
  },
  {
   "cell_type": "code",
   "execution_count": 372,
   "id": "5924e525",
   "metadata": {},
   "outputs": [
    {
     "data": {
      "text/plain": [
       "(67, 6)"
      ]
     },
     "execution_count": 372,
     "metadata": {},
     "output_type": "execute_result"
    }
   ],
   "source": [
    "JNorth_Adult_First_Site_2010_7_df.shape"
   ]
  },
  {
   "cell_type": "code",
   "execution_count": 373,
   "id": "0a39c6f9",
   "metadata": {},
   "outputs": [],
   "source": [
    "JNorth_Adult_First_Site_2010_7_df = pd.DataFrame(JNorth_Adult_First_Site_2010_7_df)\n",
    "JNorth_Adult_First_Site_2010_7_df.drop(['month'], axis=1, inplace=True)"
   ]
  },
  {
   "cell_type": "code",
   "execution_count": 374,
   "id": "4366b19a",
   "metadata": {},
   "outputs": [],
   "source": [
    "# convert lat-long to floats and change address from ALL CAPS to regular capitalization\n",
    "JNorth_Adult_First_Site_2010_7_df['latitude'] = JNorth_Adult_First_Site_2010_7_df['latitude'].astype(float)\n",
    "JNorth_Adult_First_Site_2010_7_df['longitude'] = JNorth_Adult_First_Site_2010_7_df['longitude'].astype(float)\n",
    "# JNorth_Milkweed_Site_df['street_address'] = JNorth_Milkweed_Site_df['street_address'].str.title()"
   ]
  },
  {
   "cell_type": "code",
   "execution_count": 375,
   "id": "bfd9a473",
   "metadata": {},
   "outputs": [],
   "source": [
    "geojson = df_to_geojson(JNorth_Adult_First_Site_2010_7_df, cols)"
   ]
  },
  {
   "cell_type": "code",
   "execution_count": 376,
   "id": "d6fd2df8",
   "metadata": {},
   "outputs": [],
   "source": [
    "file = open(\"JNorth_Adult_First_Site_2010_7.geojson\", \"w\")\n",
    "json.dump(geojson, file, indent =1)\n",
    "file.close()"
   ]
  },
  {
   "cell_type": "markdown",
   "id": "334b2c32",
   "metadata": {},
   "source": [
    "# August"
   ]
  },
  {
   "cell_type": "code",
   "execution_count": 377,
   "id": "4e9bd738",
   "metadata": {},
   "outputs": [
    {
     "data": {
      "text/html": [
       "<div>\n",
       "<style scoped>\n",
       "    .dataframe tbody tr th:only-of-type {\n",
       "        vertical-align: middle;\n",
       "    }\n",
       "\n",
       "    .dataframe tbody tr th {\n",
       "        vertical-align: top;\n",
       "    }\n",
       "\n",
       "    .dataframe thead th {\n",
       "        text-align: right;\n",
       "    }\n",
       "</style>\n",
       "<table border=\"1\" class=\"dataframe\">\n",
       "  <thead>\n",
       "    <tr style=\"text-align: right;\">\n",
       "      <th></th>\n",
       "      <th>sighting_date</th>\n",
       "      <th>species</th>\n",
       "      <th>latitude</th>\n",
       "      <th>longitude</th>\n",
       "      <th>number</th>\n",
       "      <th>month</th>\n",
       "    </tr>\n",
       "  </thead>\n",
       "  <tbody>\n",
       "    <tr>\n",
       "      <th>17425</th>\n",
       "      <td>2010-08-04</td>\n",
       "      <td>Monarch Adult (FIRST sighted)</td>\n",
       "      <td>40.678</td>\n",
       "      <td>-74.567</td>\n",
       "      <td>1</td>\n",
       "      <td>8</td>\n",
       "    </tr>\n",
       "    <tr>\n",
       "      <th>17426</th>\n",
       "      <td>2010-08-08</td>\n",
       "      <td>Monarch Adult (FIRST sighted)</td>\n",
       "      <td>39.190</td>\n",
       "      <td>-78.160</td>\n",
       "      <td>1</td>\n",
       "      <td>8</td>\n",
       "    </tr>\n",
       "    <tr>\n",
       "      <th>17427</th>\n",
       "      <td>2010-08-09</td>\n",
       "      <td>Monarch Adult (FIRST sighted)</td>\n",
       "      <td>43.603</td>\n",
       "      <td>-71.152</td>\n",
       "      <td>1</td>\n",
       "      <td>8</td>\n",
       "    </tr>\n",
       "    <tr>\n",
       "      <th>17428</th>\n",
       "      <td>2010-08-12</td>\n",
       "      <td>Monarch Adult (FIRST sighted)</td>\n",
       "      <td>38.838</td>\n",
       "      <td>-77.340</td>\n",
       "      <td>1</td>\n",
       "      <td>8</td>\n",
       "    </tr>\n",
       "    <tr>\n",
       "      <th>17429</th>\n",
       "      <td>2010-08-13</td>\n",
       "      <td>Monarch Adult (FIRST sighted)</td>\n",
       "      <td>29.154</td>\n",
       "      <td>-98.212</td>\n",
       "      <td>1</td>\n",
       "      <td>8</td>\n",
       "    </tr>\n",
       "  </tbody>\n",
       "</table>\n",
       "</div>"
      ],
      "text/plain": [
       "      sighting_date                        species  latitude  longitude  \\\n",
       "17425    2010-08-04  Monarch Adult (FIRST sighted)    40.678    -74.567   \n",
       "17426    2010-08-08  Monarch Adult (FIRST sighted)    39.190    -78.160   \n",
       "17427    2010-08-09  Monarch Adult (FIRST sighted)    43.603    -71.152   \n",
       "17428    2010-08-12  Monarch Adult (FIRST sighted)    38.838    -77.340   \n",
       "17429    2010-08-13  Monarch Adult (FIRST sighted)    29.154    -98.212   \n",
       "\n",
       "       number  month  \n",
       "17425       1      8  \n",
       "17426       1      8  \n",
       "17427       1      8  \n",
       "17428       1      8  \n",
       "17429       1      8  "
      ]
     },
     "execution_count": 377,
     "metadata": {},
     "output_type": "execute_result"
    }
   ],
   "source": [
    "JNorth_Adult_First_Site_2010_month_df =pd.DataFrame(JNorth_Adult_First_Site_2010_df)\n",
    "JNorth_Adult_First_Site_2010_8_df = JNorth_Adult_First_Site_2010_month_df[JNorth_Adult_First_Site_2010_month_df['month']==8]\n",
    "JNorth_Adult_First_Site_2010_8_df.tail()"
   ]
  },
  {
   "cell_type": "code",
   "execution_count": 378,
   "id": "538be366",
   "metadata": {},
   "outputs": [
    {
     "data": {
      "text/plain": [
       "(13, 6)"
      ]
     },
     "execution_count": 378,
     "metadata": {},
     "output_type": "execute_result"
    }
   ],
   "source": [
    "JNorth_Adult_First_Site_2010_8_df.shape"
   ]
  },
  {
   "cell_type": "code",
   "execution_count": 379,
   "id": "4ed62f67",
   "metadata": {},
   "outputs": [],
   "source": [
    "JNorth_Adult_First_Site_2010_8_df = pd.DataFrame(JNorth_Adult_First_Site_2010_8_df)\n",
    "JNorth_Adult_First_Site_2010_8_df.drop(['month'], axis=1, inplace=True)"
   ]
  },
  {
   "cell_type": "code",
   "execution_count": 380,
   "id": "9efc6a19",
   "metadata": {},
   "outputs": [],
   "source": [
    "# convert lat-long to floats and change address from ALL CAPS to regular capitalization\n",
    "JNorth_Adult_First_Site_2010_8_df['latitude'] = JNorth_Adult_First_Site_2010_8_df['latitude'].astype(float)\n",
    "JNorth_Adult_First_Site_2010_8_df['longitude'] = JNorth_Adult_First_Site_2010_8_df['longitude'].astype(float)\n",
    "# JNorth_Milkweed_Site_df['street_address'] = JNorth_Milkweed_Site_df['street_address'].str.title()"
   ]
  },
  {
   "cell_type": "code",
   "execution_count": 381,
   "id": "49ec38e2",
   "metadata": {},
   "outputs": [],
   "source": [
    "geojson = df_to_geojson(JNorth_Adult_First_Site_2010_8_df, cols)"
   ]
  },
  {
   "cell_type": "code",
   "execution_count": 382,
   "id": "debcba01",
   "metadata": {},
   "outputs": [],
   "source": [
    "file = open(\"JNorth_Adult_First_Site_2010_8.geojson\", \"w\")\n",
    "json.dump(geojson, file, indent =1)\n",
    "file.close()"
   ]
  },
  {
   "cell_type": "markdown",
   "id": "1e000700",
   "metadata": {},
   "source": [
    "# September"
   ]
  },
  {
   "cell_type": "code",
   "execution_count": 383,
   "id": "5c4d5091",
   "metadata": {},
   "outputs": [
    {
     "data": {
      "text/html": [
       "<div>\n",
       "<style scoped>\n",
       "    .dataframe tbody tr th:only-of-type {\n",
       "        vertical-align: middle;\n",
       "    }\n",
       "\n",
       "    .dataframe tbody tr th {\n",
       "        vertical-align: top;\n",
       "    }\n",
       "\n",
       "    .dataframe thead th {\n",
       "        text-align: right;\n",
       "    }\n",
       "</style>\n",
       "<table border=\"1\" class=\"dataframe\">\n",
       "  <thead>\n",
       "    <tr style=\"text-align: right;\">\n",
       "      <th></th>\n",
       "      <th>sighting_date</th>\n",
       "      <th>species</th>\n",
       "      <th>latitude</th>\n",
       "      <th>longitude</th>\n",
       "      <th>number</th>\n",
       "      <th>month</th>\n",
       "    </tr>\n",
       "  </thead>\n",
       "  <tbody>\n",
       "    <tr>\n",
       "      <th>17430</th>\n",
       "      <td>2010-09-12</td>\n",
       "      <td>Monarch Adult (FIRST sighted)</td>\n",
       "      <td>38.801</td>\n",
       "      <td>-119.574</td>\n",
       "      <td>1</td>\n",
       "      <td>9</td>\n",
       "    </tr>\n",
       "    <tr>\n",
       "      <th>17431</th>\n",
       "      <td>2010-09-14</td>\n",
       "      <td>Monarch Adult (FIRST sighted)</td>\n",
       "      <td>31.172</td>\n",
       "      <td>-83.795</td>\n",
       "      <td>1</td>\n",
       "      <td>9</td>\n",
       "    </tr>\n",
       "    <tr>\n",
       "      <th>17432</th>\n",
       "      <td>2010-09-14</td>\n",
       "      <td>Monarch Adult (FIRST sighted)</td>\n",
       "      <td>34.677</td>\n",
       "      <td>-77.521</td>\n",
       "      <td>1</td>\n",
       "      <td>9</td>\n",
       "    </tr>\n",
       "  </tbody>\n",
       "</table>\n",
       "</div>"
      ],
      "text/plain": [
       "      sighting_date                        species  latitude  longitude  \\\n",
       "17430    2010-09-12  Monarch Adult (FIRST sighted)    38.801   -119.574   \n",
       "17431    2010-09-14  Monarch Adult (FIRST sighted)    31.172    -83.795   \n",
       "17432    2010-09-14  Monarch Adult (FIRST sighted)    34.677    -77.521   \n",
       "\n",
       "       number  month  \n",
       "17430       1      9  \n",
       "17431       1      9  \n",
       "17432       1      9  "
      ]
     },
     "execution_count": 383,
     "metadata": {},
     "output_type": "execute_result"
    }
   ],
   "source": [
    "JNorth_Adult_First_Site_2010_month_df =pd.DataFrame(JNorth_Adult_First_Site_2010_df)\n",
    "JNorth_Adult_First_Site_2010_9_df = JNorth_Adult_First_Site_2010_month_df[JNorth_Adult_First_Site_2010_month_df['month']==9]\n",
    "JNorth_Adult_First_Site_2010_9_df.tail()"
   ]
  },
  {
   "cell_type": "code",
   "execution_count": 384,
   "id": "969c475a",
   "metadata": {},
   "outputs": [
    {
     "data": {
      "text/plain": [
       "(3, 6)"
      ]
     },
     "execution_count": 384,
     "metadata": {},
     "output_type": "execute_result"
    }
   ],
   "source": [
    "JNorth_Adult_First_Site_2010_9_df.shape"
   ]
  },
  {
   "cell_type": "code",
   "execution_count": 385,
   "id": "37c1983d",
   "metadata": {},
   "outputs": [],
   "source": [
    "JNorth_Adult_First_Site_2010_9_df = pd.DataFrame(JNorth_Adult_First_Site_2010_9_df)\n",
    "JNorth_Adult_First_Site_2010_9_df.drop(['month'], axis=1, inplace=True)"
   ]
  },
  {
   "cell_type": "code",
   "execution_count": 386,
   "id": "bb7ca10e",
   "metadata": {},
   "outputs": [],
   "source": [
    "# convert lat-long to floats and change address from ALL CAPS to regular capitalization\n",
    "JNorth_Adult_First_Site_2010_9_df['latitude'] = JNorth_Adult_First_Site_2010_9_df['latitude'].astype(float)\n",
    "JNorth_Adult_First_Site_2010_9_df['longitude'] = JNorth_Adult_First_Site_2010_9_df['longitude'].astype(float)\n",
    "# JNorth_Milkweed_Site_df['street_address'] = JNorth_Milkweed_Site_df['street_address'].str.title()"
   ]
  },
  {
   "cell_type": "code",
   "execution_count": 387,
   "id": "08f724f1",
   "metadata": {},
   "outputs": [],
   "source": [
    "geojson = df_to_geojson(JNorth_Adult_First_Site_2010_9_df, cols)"
   ]
  },
  {
   "cell_type": "code",
   "execution_count": 388,
   "id": "ef197820",
   "metadata": {},
   "outputs": [],
   "source": [
    "file = open(\"JNorth_Adult_First_Site_2010_9.geojson\", \"w\")\n",
    "json.dump(geojson, file, indent =1)\n",
    "file.close()"
   ]
  },
  {
   "cell_type": "markdown",
   "id": "4f5b7c4f",
   "metadata": {},
   "source": [
    "# October"
   ]
  },
  {
   "cell_type": "code",
   "execution_count": 389,
   "id": "1c2fa71b",
   "metadata": {},
   "outputs": [
    {
     "data": {
      "text/html": [
       "<div>\n",
       "<style scoped>\n",
       "    .dataframe tbody tr th:only-of-type {\n",
       "        vertical-align: middle;\n",
       "    }\n",
       "\n",
       "    .dataframe tbody tr th {\n",
       "        vertical-align: top;\n",
       "    }\n",
       "\n",
       "    .dataframe thead th {\n",
       "        text-align: right;\n",
       "    }\n",
       "</style>\n",
       "<table border=\"1\" class=\"dataframe\">\n",
       "  <thead>\n",
       "    <tr style=\"text-align: right;\">\n",
       "      <th></th>\n",
       "      <th>sighting_date</th>\n",
       "      <th>species</th>\n",
       "      <th>latitude</th>\n",
       "      <th>longitude</th>\n",
       "      <th>number</th>\n",
       "      <th>month</th>\n",
       "    </tr>\n",
       "  </thead>\n",
       "  <tbody>\n",
       "    <tr>\n",
       "      <th>17433</th>\n",
       "      <td>2010-10-11</td>\n",
       "      <td>Monarch Adult (FIRST sighted)</td>\n",
       "      <td>36.579</td>\n",
       "      <td>-121.832</td>\n",
       "      <td>1</td>\n",
       "      <td>10</td>\n",
       "    </tr>\n",
       "  </tbody>\n",
       "</table>\n",
       "</div>"
      ],
      "text/plain": [
       "      sighting_date                        species  latitude  longitude  \\\n",
       "17433    2010-10-11  Monarch Adult (FIRST sighted)    36.579   -121.832   \n",
       "\n",
       "       number  month  \n",
       "17433       1     10  "
      ]
     },
     "execution_count": 389,
     "metadata": {},
     "output_type": "execute_result"
    }
   ],
   "source": [
    "JNorth_Adult_First_Site_2010_month_df =pd.DataFrame(JNorth_Adult_First_Site_2010_df)\n",
    "JNorth_Adult_First_Site_2010_10_df = JNorth_Adult_First_Site_2010_month_df[JNorth_Adult_First_Site_2010_month_df['month']==10]\n",
    "JNorth_Adult_First_Site_2010_10_df.tail()"
   ]
  },
  {
   "cell_type": "code",
   "execution_count": 390,
   "id": "2d002b31",
   "metadata": {},
   "outputs": [
    {
     "data": {
      "text/plain": [
       "(1, 6)"
      ]
     },
     "execution_count": 390,
     "metadata": {},
     "output_type": "execute_result"
    }
   ],
   "source": [
    "JNorth_Adult_First_Site_2010_10_df.shape"
   ]
  },
  {
   "cell_type": "code",
   "execution_count": 391,
   "id": "7568cee5",
   "metadata": {},
   "outputs": [],
   "source": [
    "JNorth_Adult_First_Site_2010_10_df = pd.DataFrame(JNorth_Adult_First_Site_2010_10_df)\n",
    "JNorth_Adult_First_Site_2010_10_df.drop(['month'], axis=1, inplace=True)"
   ]
  },
  {
   "cell_type": "code",
   "execution_count": 392,
   "id": "a5fbe353",
   "metadata": {},
   "outputs": [],
   "source": [
    "# convert lat-long to floats and change address from ALL CAPS to regular capitalization\n",
    "JNorth_Adult_First_Site_2010_10_df['latitude'] = JNorth_Adult_First_Site_2010_10_df['latitude'].astype(float)\n",
    "JNorth_Adult_First_Site_2010_10_df['longitude'] = JNorth_Adult_First_Site_2010_10_df['longitude'].astype(float)\n",
    "# JNorth_Milkweed_Site_df['street_address'] = JNorth_Milkweed_Site_df['street_address'].str.title()"
   ]
  },
  {
   "cell_type": "code",
   "execution_count": 393,
   "id": "100933f3",
   "metadata": {},
   "outputs": [],
   "source": [
    "geojson = df_to_geojson(JNorth_Adult_First_Site_2010_10_df, cols)"
   ]
  },
  {
   "cell_type": "code",
   "execution_count": 394,
   "id": "9d0df34e",
   "metadata": {},
   "outputs": [],
   "source": [
    "file = open(\"JNorth_Adult_First_Site_2010_10.geojson\", \"w\")\n",
    "json.dump(geojson, file, indent =1)\n",
    "file.close()"
   ]
  },
  {
   "cell_type": "markdown",
   "id": "0eb32a56",
   "metadata": {},
   "source": [
    "# November"
   ]
  },
  {
   "cell_type": "code",
   "execution_count": 395,
   "id": "fb16df8a",
   "metadata": {},
   "outputs": [
    {
     "data": {
      "text/html": [
       "<div>\n",
       "<style scoped>\n",
       "    .dataframe tbody tr th:only-of-type {\n",
       "        vertical-align: middle;\n",
       "    }\n",
       "\n",
       "    .dataframe tbody tr th {\n",
       "        vertical-align: top;\n",
       "    }\n",
       "\n",
       "    .dataframe thead th {\n",
       "        text-align: right;\n",
       "    }\n",
       "</style>\n",
       "<table border=\"1\" class=\"dataframe\">\n",
       "  <thead>\n",
       "    <tr style=\"text-align: right;\">\n",
       "      <th></th>\n",
       "      <th>sighting_date</th>\n",
       "      <th>species</th>\n",
       "      <th>latitude</th>\n",
       "      <th>longitude</th>\n",
       "      <th>number</th>\n",
       "      <th>month</th>\n",
       "    </tr>\n",
       "  </thead>\n",
       "  <tbody>\n",
       "    <tr>\n",
       "      <th>17434</th>\n",
       "      <td>2010-11-05</td>\n",
       "      <td>Monarch Adult (FIRST sighted)</td>\n",
       "      <td>38.893</td>\n",
       "      <td>-77.32</td>\n",
       "      <td>1</td>\n",
       "      <td>11</td>\n",
       "    </tr>\n",
       "  </tbody>\n",
       "</table>\n",
       "</div>"
      ],
      "text/plain": [
       "      sighting_date                        species  latitude  longitude  \\\n",
       "17434    2010-11-05  Monarch Adult (FIRST sighted)    38.893     -77.32   \n",
       "\n",
       "       number  month  \n",
       "17434       1     11  "
      ]
     },
     "execution_count": 395,
     "metadata": {},
     "output_type": "execute_result"
    }
   ],
   "source": [
    "JNorth_Adult_First_Site_2010_month_df =pd.DataFrame(JNorth_Adult_First_Site_2010_df)\n",
    "JNorth_Adult_First_Site_2010_11_df = JNorth_Adult_First_Site_2010_month_df[JNorth_Adult_First_Site_2010_month_df['month']==11]\n",
    "JNorth_Adult_First_Site_2010_11_df.tail()"
   ]
  },
  {
   "cell_type": "code",
   "execution_count": 396,
   "id": "8efd904d",
   "metadata": {},
   "outputs": [
    {
     "data": {
      "text/plain": [
       "(1, 6)"
      ]
     },
     "execution_count": 396,
     "metadata": {},
     "output_type": "execute_result"
    }
   ],
   "source": [
    "JNorth_Adult_First_Site_2010_11_df.shape"
   ]
  },
  {
   "cell_type": "code",
   "execution_count": 397,
   "id": "2b8c63f7",
   "metadata": {},
   "outputs": [],
   "source": [
    "JNorth_Adult_First_Site_2010_11_df = pd.DataFrame(JNorth_Adult_First_Site_2010_11_df)\n",
    "JNorth_Adult_First_Site_2010_11_df.drop(['month'], axis=1, inplace=True)"
   ]
  },
  {
   "cell_type": "code",
   "execution_count": 398,
   "id": "2abbf8e3",
   "metadata": {},
   "outputs": [],
   "source": [
    "# convert lat-long to floats and change address from ALL CAPS to regular capitalization\n",
    "JNorth_Adult_First_Site_2010_11_df['latitude'] = JNorth_Adult_First_Site_2010_11_df['latitude'].astype(float)\n",
    "JNorth_Adult_First_Site_2010_11_df['longitude'] = JNorth_Adult_First_Site_2010_11_df['longitude'].astype(float)\n",
    "# JNorth_Milkweed_Site_df['street_address'] = JNorth_Milkweed_Site_df['street_address'].str.title()"
   ]
  },
  {
   "cell_type": "code",
   "execution_count": 399,
   "id": "5de70789",
   "metadata": {},
   "outputs": [],
   "source": [
    "geojson = df_to_geojson(JNorth_Adult_First_Site_2010_11_df, cols)"
   ]
  },
  {
   "cell_type": "code",
   "execution_count": 400,
   "id": "ce936002",
   "metadata": {},
   "outputs": [],
   "source": [
    "file = open(\"JNorth_Adult_First_Site_2010_11.geojson\", \"w\")\n",
    "json.dump(geojson, file, indent =1)\n",
    "file.close()"
   ]
  },
  {
   "cell_type": "markdown",
   "id": "df18b8f4",
   "metadata": {},
   "source": [
    "# December"
   ]
  },
  {
   "cell_type": "code",
   "execution_count": 401,
   "id": "94259ac3",
   "metadata": {},
   "outputs": [
    {
     "data": {
      "text/html": [
       "<div>\n",
       "<style scoped>\n",
       "    .dataframe tbody tr th:only-of-type {\n",
       "        vertical-align: middle;\n",
       "    }\n",
       "\n",
       "    .dataframe tbody tr th {\n",
       "        vertical-align: top;\n",
       "    }\n",
       "\n",
       "    .dataframe thead th {\n",
       "        text-align: right;\n",
       "    }\n",
       "</style>\n",
       "<table border=\"1\" class=\"dataframe\">\n",
       "  <thead>\n",
       "    <tr style=\"text-align: right;\">\n",
       "      <th></th>\n",
       "      <th>sighting_date</th>\n",
       "      <th>species</th>\n",
       "      <th>latitude</th>\n",
       "      <th>longitude</th>\n",
       "      <th>number</th>\n",
       "      <th>month</th>\n",
       "    </tr>\n",
       "  </thead>\n",
       "  <tbody>\n",
       "  </tbody>\n",
       "</table>\n",
       "</div>"
      ],
      "text/plain": [
       "Empty DataFrame\n",
       "Columns: [sighting_date, species, latitude, longitude, number, month]\n",
       "Index: []"
      ]
     },
     "execution_count": 401,
     "metadata": {},
     "output_type": "execute_result"
    }
   ],
   "source": [
    "JNorth_Adult_First_Site_2010_month_df =pd.DataFrame(JNorth_Adult_First_Site_2010_df)\n",
    "JNorth_Adult_First_Site_2010_12_df = JNorth_Adult_First_Site_2010_month_df[JNorth_Adult_First_Site_2010_month_df['month']==12]\n",
    "JNorth_Adult_First_Site_2010_12_df.tail()"
   ]
  },
  {
   "cell_type": "code",
   "execution_count": 402,
   "id": "b8fe3b61",
   "metadata": {},
   "outputs": [
    {
     "data": {
      "text/plain": [
       "(0, 6)"
      ]
     },
     "execution_count": 402,
     "metadata": {},
     "output_type": "execute_result"
    }
   ],
   "source": [
    "JNorth_Adult_First_Site_2010_12_df.shape"
   ]
  },
  {
   "cell_type": "code",
   "execution_count": 403,
   "id": "efa8e27d",
   "metadata": {},
   "outputs": [],
   "source": [
    "JNorth_Adult_First_Site_2010_12_df = pd.DataFrame(JNorth_Adult_First_Site_2010_12_df)\n",
    "JNorth_Adult_First_Site_2010_12_df.drop(['month'], axis=1, inplace=True)"
   ]
  },
  {
   "cell_type": "code",
   "execution_count": 404,
   "id": "e7903a53",
   "metadata": {},
   "outputs": [],
   "source": [
    "# convert lat-long to floats and change address from ALL CAPS to regular capitalization\n",
    "JNorth_Adult_First_Site_2010_12_df['latitude'] = JNorth_Adult_First_Site_2010_12_df['latitude'].astype(float)\n",
    "JNorth_Adult_First_Site_2010_12_df['longitude'] = JNorth_Adult_First_Site_2010_12_df['longitude'].astype(float)\n",
    "# JNorth_Milkweed_Site_df['street_address'] = JNorth_Milkweed_Site_df['street_address'].str.title()"
   ]
  },
  {
   "cell_type": "code",
   "execution_count": 405,
   "id": "575291f2",
   "metadata": {},
   "outputs": [],
   "source": [
    "geojson = df_to_geojson(JNorth_Adult_First_Site_2010_12_df, cols)"
   ]
  },
  {
   "cell_type": "code",
   "execution_count": 406,
   "id": "b6be6057",
   "metadata": {},
   "outputs": [],
   "source": [
    "file = open(\"JNorth_Adult_First_Site_2010_12.geojson\", \"w\")\n",
    "json.dump(geojson, file, indent =1)\n",
    "file.close()"
   ]
  }
 ],
 "metadata": {
  "kernelspec": {
   "display_name": "mlenv",
   "language": "python",
   "name": "mlenv"
  },
  "language_info": {
   "codemirror_mode": {
    "name": "ipython",
    "version": 3
   },
   "file_extension": ".py",
   "mimetype": "text/x-python",
   "name": "python",
   "nbconvert_exporter": "python",
   "pygments_lexer": "ipython3",
   "version": "3.7.11"
  }
 },
 "nbformat": 4,
 "nbformat_minor": 5
}
