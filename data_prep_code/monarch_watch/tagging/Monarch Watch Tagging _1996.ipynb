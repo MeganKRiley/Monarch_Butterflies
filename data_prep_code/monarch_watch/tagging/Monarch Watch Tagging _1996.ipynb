{
 "cells": [
  {
   "cell_type": "markdown",
   "id": "d3937fe0",
   "metadata": {},
   "source": [
    "# Monarch Watch Data all taggings GBIF"
   ]
  },
  {
   "cell_type": "code",
   "execution_count": 1,
   "id": "f29960a6",
   "metadata": {},
   "outputs": [],
   "source": [
    "#  Import and read\n",
    "import pandas as pd \n",
    "import numpy as np\n",
    "import json\n",
    "# Sue Mottet 2-11-2022"
   ]
  },
  {
   "cell_type": "code",
   "execution_count": 2,
   "id": "3019ca22",
   "metadata": {},
   "outputs": [
    {
     "data": {
      "text/html": [
       "<div>\n",
       "<style scoped>\n",
       "    .dataframe tbody tr th:only-of-type {\n",
       "        vertical-align: middle;\n",
       "    }\n",
       "\n",
       "    .dataframe tbody tr th {\n",
       "        vertical-align: top;\n",
       "    }\n",
       "\n",
       "    .dataframe thead th {\n",
       "        text-align: right;\n",
       "    }\n",
       "</style>\n",
       "<table border=\"1\" class=\"dataframe\">\n",
       "  <thead>\n",
       "    <tr style=\"text-align: right;\">\n",
       "      <th></th>\n",
       "      <th>id</th>\n",
       "      <th>modified</th>\n",
       "      <th>language</th>\n",
       "      <th>license</th>\n",
       "      <th>institutionID</th>\n",
       "      <th>collectionID</th>\n",
       "      <th>institutionCode</th>\n",
       "      <th>collectionCode</th>\n",
       "      <th>datasetName</th>\n",
       "      <th>basisOfRecord</th>\n",
       "      <th>...</th>\n",
       "      <th>decimalLatitude</th>\n",
       "      <th>decimalLongitude</th>\n",
       "      <th>geodeticDatum</th>\n",
       "      <th>georeferenceRemarks</th>\n",
       "      <th>taxonID</th>\n",
       "      <th>nameAccordingToID</th>\n",
       "      <th>scientificName</th>\n",
       "      <th>kingdom</th>\n",
       "      <th>vernacularName</th>\n",
       "      <th>taxonRemarks</th>\n",
       "    </tr>\n",
       "  </thead>\n",
       "  <tbody>\n",
       "    <tr>\n",
       "      <th>0</th>\n",
       "      <td>MW0000001</td>\n",
       "      <td>7/30/2019</td>\n",
       "      <td>English</td>\n",
       "      <td>https://creativecommons.org/publicdomain/zero/...</td>\n",
       "      <td>https://bison.usgs.gov/</td>\n",
       "      <td>https://bison.usgs.gov/ipt/resource?r=monarchw...</td>\n",
       "      <td>BISON</td>\n",
       "      <td>Monarch Watch</td>\n",
       "      <td>Monarch Watch</td>\n",
       "      <td>humanobservation</td>\n",
       "      <td>...</td>\n",
       "      <td>38.61429</td>\n",
       "      <td>-76.512176</td>\n",
       "      <td>WGS84</td>\n",
       "      <td>centroid (type and size unkown)</td>\n",
       "      <td>117273</td>\n",
       "      <td>Integrated Taxonomic Information System (ITIS)...</td>\n",
       "      <td>Danaus plexippus</td>\n",
       "      <td>Animalia</td>\n",
       "      <td>Monarch butterfly</td>\n",
       "      <td>Danaus plexippus</td>\n",
       "    </tr>\n",
       "    <tr>\n",
       "      <th>1</th>\n",
       "      <td>MW0000002</td>\n",
       "      <td>7/30/2019</td>\n",
       "      <td>English</td>\n",
       "      <td>https://creativecommons.org/publicdomain/zero/...</td>\n",
       "      <td>https://bison.usgs.gov/</td>\n",
       "      <td>https://bison.usgs.gov/ipt/resource?r=monarchw...</td>\n",
       "      <td>BISON</td>\n",
       "      <td>Monarch Watch</td>\n",
       "      <td>Monarch Watch</td>\n",
       "      <td>humanobservation</td>\n",
       "      <td>...</td>\n",
       "      <td>38.61429</td>\n",
       "      <td>-76.512176</td>\n",
       "      <td>WGS84</td>\n",
       "      <td>centroid (type and size unkown)</td>\n",
       "      <td>117273</td>\n",
       "      <td>Integrated Taxonomic Information System (ITIS)...</td>\n",
       "      <td>Danaus plexippus</td>\n",
       "      <td>Animalia</td>\n",
       "      <td>Monarch butterfly</td>\n",
       "      <td>Danaus plexippus</td>\n",
       "    </tr>\n",
       "    <tr>\n",
       "      <th>2</th>\n",
       "      <td>MW0000003</td>\n",
       "      <td>7/30/2019</td>\n",
       "      <td>English</td>\n",
       "      <td>https://creativecommons.org/publicdomain/zero/...</td>\n",
       "      <td>https://bison.usgs.gov/</td>\n",
       "      <td>https://bison.usgs.gov/ipt/resource?r=monarchw...</td>\n",
       "      <td>BISON</td>\n",
       "      <td>Monarch Watch</td>\n",
       "      <td>Monarch Watch</td>\n",
       "      <td>humanobservation</td>\n",
       "      <td>...</td>\n",
       "      <td>38.61429</td>\n",
       "      <td>-76.512176</td>\n",
       "      <td>WGS84</td>\n",
       "      <td>centroid (type and size unkown)</td>\n",
       "      <td>117273</td>\n",
       "      <td>Integrated Taxonomic Information System (ITIS)...</td>\n",
       "      <td>Danaus plexippus</td>\n",
       "      <td>Animalia</td>\n",
       "      <td>Monarch butterfly</td>\n",
       "      <td>Danaus plexippus</td>\n",
       "    </tr>\n",
       "    <tr>\n",
       "      <th>3</th>\n",
       "      <td>MW0000004</td>\n",
       "      <td>7/30/2019</td>\n",
       "      <td>English</td>\n",
       "      <td>https://creativecommons.org/publicdomain/zero/...</td>\n",
       "      <td>https://bison.usgs.gov/</td>\n",
       "      <td>https://bison.usgs.gov/ipt/resource?r=monarchw...</td>\n",
       "      <td>BISON</td>\n",
       "      <td>Monarch Watch</td>\n",
       "      <td>Monarch Watch</td>\n",
       "      <td>humanobservation</td>\n",
       "      <td>...</td>\n",
       "      <td>38.61429</td>\n",
       "      <td>-76.512176</td>\n",
       "      <td>WGS84</td>\n",
       "      <td>centroid (type and size unkown)</td>\n",
       "      <td>117273</td>\n",
       "      <td>Integrated Taxonomic Information System (ITIS)...</td>\n",
       "      <td>Danaus plexippus</td>\n",
       "      <td>Animalia</td>\n",
       "      <td>Monarch butterfly</td>\n",
       "      <td>Danaus plexippus</td>\n",
       "    </tr>\n",
       "    <tr>\n",
       "      <th>4</th>\n",
       "      <td>MW0000005</td>\n",
       "      <td>7/30/2019</td>\n",
       "      <td>English</td>\n",
       "      <td>https://creativecommons.org/publicdomain/zero/...</td>\n",
       "      <td>https://bison.usgs.gov/</td>\n",
       "      <td>https://bison.usgs.gov/ipt/resource?r=monarchw...</td>\n",
       "      <td>BISON</td>\n",
       "      <td>Monarch Watch</td>\n",
       "      <td>Monarch Watch</td>\n",
       "      <td>humanobservation</td>\n",
       "      <td>...</td>\n",
       "      <td>38.61429</td>\n",
       "      <td>-76.512176</td>\n",
       "      <td>WGS84</td>\n",
       "      <td>centroid (type and size unkown)</td>\n",
       "      <td>117273</td>\n",
       "      <td>Integrated Taxonomic Information System (ITIS)...</td>\n",
       "      <td>Danaus plexippus</td>\n",
       "      <td>Animalia</td>\n",
       "      <td>Monarch butterfly</td>\n",
       "      <td>Danaus plexippus</td>\n",
       "    </tr>\n",
       "  </tbody>\n",
       "</table>\n",
       "<p>5 rows × 30 columns</p>\n",
       "</div>"
      ],
      "text/plain": [
       "          id   modified language  \\\n",
       "0  MW0000001  7/30/2019  English   \n",
       "1  MW0000002  7/30/2019  English   \n",
       "2  MW0000003  7/30/2019  English   \n",
       "3  MW0000004  7/30/2019  English   \n",
       "4  MW0000005  7/30/2019  English   \n",
       "\n",
       "                                             license            institutionID  \\\n",
       "0  https://creativecommons.org/publicdomain/zero/...  https://bison.usgs.gov/   \n",
       "1  https://creativecommons.org/publicdomain/zero/...  https://bison.usgs.gov/   \n",
       "2  https://creativecommons.org/publicdomain/zero/...  https://bison.usgs.gov/   \n",
       "3  https://creativecommons.org/publicdomain/zero/...  https://bison.usgs.gov/   \n",
       "4  https://creativecommons.org/publicdomain/zero/...  https://bison.usgs.gov/   \n",
       "\n",
       "                                        collectionID institutionCode  \\\n",
       "0  https://bison.usgs.gov/ipt/resource?r=monarchw...           BISON   \n",
       "1  https://bison.usgs.gov/ipt/resource?r=monarchw...           BISON   \n",
       "2  https://bison.usgs.gov/ipt/resource?r=monarchw...           BISON   \n",
       "3  https://bison.usgs.gov/ipt/resource?r=monarchw...           BISON   \n",
       "4  https://bison.usgs.gov/ipt/resource?r=monarchw...           BISON   \n",
       "\n",
       "  collectionCode    datasetName     basisOfRecord  ... decimalLatitude  \\\n",
       "0  Monarch Watch  Monarch Watch  humanobservation  ...        38.61429   \n",
       "1  Monarch Watch  Monarch Watch  humanobservation  ...        38.61429   \n",
       "2  Monarch Watch  Monarch Watch  humanobservation  ...        38.61429   \n",
       "3  Monarch Watch  Monarch Watch  humanobservation  ...        38.61429   \n",
       "4  Monarch Watch  Monarch Watch  humanobservation  ...        38.61429   \n",
       "\n",
       "  decimalLongitude geodeticDatum              georeferenceRemarks taxonID  \\\n",
       "0       -76.512176         WGS84  centroid (type and size unkown)  117273   \n",
       "1       -76.512176         WGS84  centroid (type and size unkown)  117273   \n",
       "2       -76.512176         WGS84  centroid (type and size unkown)  117273   \n",
       "3       -76.512176         WGS84  centroid (type and size unkown)  117273   \n",
       "4       -76.512176         WGS84  centroid (type and size unkown)  117273   \n",
       "\n",
       "                                   nameAccordingToID    scientificName  \\\n",
       "0  Integrated Taxonomic Information System (ITIS)...  Danaus plexippus   \n",
       "1  Integrated Taxonomic Information System (ITIS)...  Danaus plexippus   \n",
       "2  Integrated Taxonomic Information System (ITIS)...  Danaus plexippus   \n",
       "3  Integrated Taxonomic Information System (ITIS)...  Danaus plexippus   \n",
       "4  Integrated Taxonomic Information System (ITIS)...  Danaus plexippus   \n",
       "\n",
       "    kingdom     vernacularName      taxonRemarks  \n",
       "0  Animalia  Monarch butterfly  Danaus plexippus  \n",
       "1  Animalia  Monarch butterfly  Danaus plexippus  \n",
       "2  Animalia  Monarch butterfly  Danaus plexippus  \n",
       "3  Animalia  Monarch butterfly  Danaus plexippus  \n",
       "4  Animalia  Monarch butterfly  Danaus plexippus  \n",
       "\n",
       "[5 rows x 30 columns]"
      ]
     },
     "execution_count": 2,
     "metadata": {},
     "output_type": "execute_result"
    }
   ],
   "source": [
    "MWatch_Tagged_df = pd.read_csv(\"MWatch_occurrences_1996_2000.csv\")\n",
    "MWatch_Tagged_df.head()"
   ]
  },
  {
   "cell_type": "code",
   "execution_count": 3,
   "id": "21b4ea7b",
   "metadata": {},
   "outputs": [
    {
     "data": {
      "text/plain": [
       "['id',\n",
       " 'modified',\n",
       " 'language',\n",
       " 'license',\n",
       " 'institutionID',\n",
       " 'collectionID',\n",
       " 'institutionCode',\n",
       " 'collectionCode',\n",
       " 'datasetName',\n",
       " 'basisOfRecord',\n",
       " 'occurrenceID',\n",
       " 'catalogNumber',\n",
       " 'recordedBy',\n",
       " 'occurrenceStatus',\n",
       " 'associatedReferences',\n",
       " 'eventDate',\n",
       " 'year',\n",
       " 'country',\n",
       " 'stateProvince',\n",
       " 'verbatimLocality',\n",
       " 'decimalLatitude',\n",
       " 'decimalLongitude',\n",
       " 'geodeticDatum',\n",
       " 'georeferenceRemarks',\n",
       " 'taxonID',\n",
       " 'nameAccordingToID',\n",
       " 'scientificName',\n",
       " 'kingdom',\n",
       " 'vernacularName',\n",
       " 'taxonRemarks']"
      ]
     },
     "execution_count": 3,
     "metadata": {},
     "output_type": "execute_result"
    }
   ],
   "source": [
    "MWatch_Tagged_df.columns.tolist()"
   ]
  },
  {
   "cell_type": "code",
   "execution_count": 4,
   "id": "ac980820",
   "metadata": {},
   "outputs": [],
   "source": [
    "def df_to_geojson(df, properties, lat='decimalLatitude', lon='decimalLongitude'):\n",
    "    # create a new python dict to contain our geojson data, using geojson format\n",
    "    geojson = {'type':'FeatureCollection', 'features':[]}\n",
    "\n",
    "    # loop through each row in the dataframe and convert each row to geojson format\n",
    "    for _, row in df.iterrows():\n",
    "        # create a feature template to fill in\n",
    "        feature = {'type':'Feature',\n",
    "                   'properties':{},\n",
    "                   'geometry':{'type':'Point',\n",
    "                               'coordinates':[]}}\n",
    "\n",
    "        # fill in the coordinates\n",
    "        feature['geometry']['coordinates'] = [row[lon],row[lat]]\n",
    "\n",
    "        # for each column, get the value and add it as a new feature property\n",
    "        for prop in properties:\n",
    "            feature['properties'][prop] = row[prop]\n",
    "        \n",
    "        # add this feature (aka, converted dataframe row) to the list of features inside our dict\n",
    "        geojson['features'].append(feature)\n",
    "    \n",
    "    return geojson"
   ]
  },
  {
   "cell_type": "code",
   "execution_count": 5,
   "id": "aae77178",
   "metadata": {},
   "outputs": [
    {
     "name": "stdout",
     "output_type": "stream",
     "text": [
      "<class 'pandas.core.frame.DataFrame'>\n",
      "RangeIndex: 363582 entries, 0 to 363581\n",
      "Data columns (total 30 columns):\n",
      " #   Column                Non-Null Count   Dtype  \n",
      "---  ------                --------------   -----  \n",
      " 0   id                    363582 non-null  object \n",
      " 1   modified              363582 non-null  object \n",
      " 2   language              363582 non-null  object \n",
      " 3   license               363582 non-null  object \n",
      " 4   institutionID         363582 non-null  object \n",
      " 5   collectionID          363582 non-null  object \n",
      " 6   institutionCode       363582 non-null  object \n",
      " 7   collectionCode        363582 non-null  object \n",
      " 8   datasetName           363582 non-null  object \n",
      " 9   basisOfRecord         363582 non-null  object \n",
      " 10  occurrenceID          363582 non-null  object \n",
      " 11  catalogNumber         363582 non-null  object \n",
      " 12  recordedBy            363582 non-null  object \n",
      " 13  occurrenceStatus      363582 non-null  object \n",
      " 14  associatedReferences  363582 non-null  object \n",
      " 15  eventDate             363582 non-null  object \n",
      " 16  year                  363582 non-null  int64  \n",
      " 17  country               363582 non-null  object \n",
      " 18  stateProvince         363582 non-null  object \n",
      " 19  verbatimLocality      363582 non-null  object \n",
      " 20  decimalLatitude       363582 non-null  float64\n",
      " 21  decimalLongitude      363582 non-null  float64\n",
      " 22  geodeticDatum         363582 non-null  object \n",
      " 23  georeferenceRemarks   363582 non-null  object \n",
      " 24  taxonID               363582 non-null  int64  \n",
      " 25  nameAccordingToID     363582 non-null  object \n",
      " 26  scientificName        363582 non-null  object \n",
      " 27  kingdom               363582 non-null  object \n",
      " 28  vernacularName        363582 non-null  object \n",
      " 29  taxonRemarks          363582 non-null  object \n",
      "dtypes: float64(2), int64(2), object(26)\n",
      "memory usage: 83.2+ MB\n"
     ]
    }
   ],
   "source": [
    "MWatch_Tagged_df.info()"
   ]
  },
  {
   "cell_type": "code",
   "execution_count": 6,
   "id": "27d168d1",
   "metadata": {},
   "outputs": [
    {
     "data": {
      "text/html": [
       "<div>\n",
       "<style scoped>\n",
       "    .dataframe tbody tr th:only-of-type {\n",
       "        vertical-align: middle;\n",
       "    }\n",
       "\n",
       "    .dataframe tbody tr th {\n",
       "        vertical-align: top;\n",
       "    }\n",
       "\n",
       "    .dataframe thead th {\n",
       "        text-align: right;\n",
       "    }\n",
       "</style>\n",
       "<table border=\"1\" class=\"dataframe\">\n",
       "  <thead>\n",
       "    <tr style=\"text-align: right;\">\n",
       "      <th></th>\n",
       "      <th>year</th>\n",
       "      <th>decimalLatitude</th>\n",
       "      <th>decimalLongitude</th>\n",
       "      <th>taxonID</th>\n",
       "    </tr>\n",
       "  </thead>\n",
       "  <tbody>\n",
       "    <tr>\n",
       "      <th>count</th>\n",
       "      <td>363582.000000</td>\n",
       "      <td>363582.000000</td>\n",
       "      <td>363582.000000</td>\n",
       "      <td>363582.0</td>\n",
       "    </tr>\n",
       "    <tr>\n",
       "      <th>mean</th>\n",
       "      <td>1997.858071</td>\n",
       "      <td>39.694501</td>\n",
       "      <td>-90.112869</td>\n",
       "      <td>117273.0</td>\n",
       "    </tr>\n",
       "    <tr>\n",
       "      <th>std</th>\n",
       "      <td>1.763730</td>\n",
       "      <td>3.769477</td>\n",
       "      <td>8.696296</td>\n",
       "      <td>0.0</td>\n",
       "    </tr>\n",
       "    <tr>\n",
       "      <th>min</th>\n",
       "      <td>1992.000000</td>\n",
       "      <td>25.721490</td>\n",
       "      <td>-118.997683</td>\n",
       "      <td>117273.0</td>\n",
       "    </tr>\n",
       "    <tr>\n",
       "      <th>25%</th>\n",
       "      <td>1997.000000</td>\n",
       "      <td>38.203070</td>\n",
       "      <td>-96.731103</td>\n",
       "      <td>117273.0</td>\n",
       "    </tr>\n",
       "    <tr>\n",
       "      <th>50%</th>\n",
       "      <td>1998.000000</td>\n",
       "      <td>39.216660</td>\n",
       "      <td>-93.664964</td>\n",
       "      <td>117273.0</td>\n",
       "    </tr>\n",
       "    <tr>\n",
       "      <th>75%</th>\n",
       "      <td>1999.000000</td>\n",
       "      <td>42.213930</td>\n",
       "      <td>-82.491268</td>\n",
       "      <td>117273.0</td>\n",
       "    </tr>\n",
       "    <tr>\n",
       "      <th>max</th>\n",
       "      <td>2000.000000</td>\n",
       "      <td>49.895140</td>\n",
       "      <td>-67.958850</td>\n",
       "      <td>117273.0</td>\n",
       "    </tr>\n",
       "  </tbody>\n",
       "</table>\n",
       "</div>"
      ],
      "text/plain": [
       "                year  decimalLatitude  decimalLongitude   taxonID\n",
       "count  363582.000000    363582.000000     363582.000000  363582.0\n",
       "mean     1997.858071        39.694501        -90.112869  117273.0\n",
       "std         1.763730         3.769477          8.696296       0.0\n",
       "min      1992.000000        25.721490       -118.997683  117273.0\n",
       "25%      1997.000000        38.203070        -96.731103  117273.0\n",
       "50%      1998.000000        39.216660        -93.664964  117273.0\n",
       "75%      1999.000000        42.213930        -82.491268  117273.0\n",
       "max      2000.000000        49.895140        -67.958850  117273.0"
      ]
     },
     "execution_count": 6,
     "metadata": {},
     "output_type": "execute_result"
    }
   ],
   "source": [
    "MWatch_Tagged_df.describe()"
   ]
  },
  {
   "cell_type": "code",
   "execution_count": 7,
   "id": "bb3ab239",
   "metadata": {},
   "outputs": [
    {
     "name": "stdout",
     "output_type": "stream",
     "text": [
      "(363582, 30)\n"
     ]
    }
   ],
   "source": [
    "print(MWatch_Tagged_df.shape)"
   ]
  },
  {
   "cell_type": "code",
   "execution_count": 8,
   "id": "5f47a0c4",
   "metadata": {},
   "outputs": [
    {
     "name": "stdout",
     "output_type": "stream",
     "text": [
      "['MW0000001' 'MW0000002' 'MW0000003' ... 'MW0363580' 'MW0363581'\n",
      " 'MW0363582']\n",
      "['7/30/2019']\n",
      "['English']\n",
      "['https://creativecommons.org/publicdomain/zero/1.0/legalcode']\n",
      "['https://bison.usgs.gov/']\n",
      "['https://bison.usgs.gov/ipt/resource?r=monarchwatch']\n",
      "['BISON']\n",
      "['Monarch Watch']\n",
      "['Monarch Watch']\n",
      "['humanobservation']\n",
      "['MW0000001' 'MW0000002' 'MW0000003' ... 'MW0363580' 'MW0363581'\n",
      " 'MW0363582']\n",
      "['MW0000001' 'MW0000002' 'MW0000003' ... 'MW0363580' 'MW0363581'\n",
      " 'MW0363582']\n",
      "['Monarch Watch']\n",
      "['present']\n",
      "['Monarch Watch Tagging Data, https://monarchwatch.org/tagdata']\n",
      "['8/9/1992' '8/10/1992' '9/1/1992' ... '12/29/2000' '12/30/2000'\n",
      " '12/31/2000']\n",
      "[1992 1993 1994 1995 1996 1997 1998 1999 2000]\n",
      "['US' 'CA']\n",
      "['MD' 'MO' 'KS' 'MI' 'KY' 'CT' 'NJ' 'CO' 'TX' 'OH' 'NY' 'MA' 'GA' 'IN'\n",
      " 'PA' 'NC' 'MN' 'ON' 'NE' 'OK' 'FL' 'NH' 'VT' 'IA' 'IL' 'QC' 'WI' 'AZ'\n",
      " 'VA' 'ME' 'WV' 'TN' 'SD' 'LA' 'RI' 'DE' 'AL' 'NM' 'AR' 'SC' 'ND' 'DC'\n",
      " 'MS' 'MB' 'WY' 'BC' 'UT' 'ID']\n",
      "['City:PLUM POINT' 'City:INDEPENDENCE' 'City:BELTON' ...\n",
      " 'City:ISLE OF PALMS' 'City:ROANOKE RAPIDS' 'City:SURFSIDE']\n",
      "[38.61429 39.09112 38.81195 ... 32.81941 36.46154 28.9433 ]\n",
      "[-76.5121762 -94.4155068 -94.5318982 ... -79.7343791 -77.6541464\n",
      " -95.297715 ]\n",
      "['WGS84']\n",
      "['centroid (type and size unkown)']\n",
      "[117273]\n",
      "['Integrated Taxonomic Information System (ITIS). https://www.itis.gov']\n",
      "['Danaus plexippus']\n",
      "['Animalia']\n",
      "['Monarch butterfly']\n",
      "['Danaus plexippus']\n"
     ]
    }
   ],
   "source": [
    "# Determine the number of unique values in each column.\n",
    "for col in MWatch_Tagged_df:\n",
    "  print(MWatch_Tagged_df[col].unique())"
   ]
  },
  {
   "cell_type": "code",
   "execution_count": 9,
   "id": "f879a584",
   "metadata": {},
   "outputs": [
    {
     "name": "stdout",
     "output_type": "stream",
     "text": [
      "MW0000001    1\n",
      "MW0242418    1\n",
      "MW0242394    1\n",
      "MW0242393    1\n",
      "MW0242392    1\n",
      "            ..\n",
      "MW0121193    1\n",
      "MW0121192    1\n",
      "MW0121191    1\n",
      "MW0121190    1\n",
      "MW0363582    1\n",
      "Name: id, Length: 363582, dtype: int64\n",
      "7/30/2019    363582\n",
      "Name: modified, dtype: int64\n",
      "English    363582\n",
      "Name: language, dtype: int64\n",
      "https://creativecommons.org/publicdomain/zero/1.0/legalcode    363582\n",
      "Name: license, dtype: int64\n",
      "https://bison.usgs.gov/    363582\n",
      "Name: institutionID, dtype: int64\n",
      "https://bison.usgs.gov/ipt/resource?r=monarchwatch    363582\n",
      "Name: collectionID, dtype: int64\n",
      "BISON    363582\n",
      "Name: institutionCode, dtype: int64\n",
      "Monarch Watch    363582\n",
      "Name: collectionCode, dtype: int64\n",
      "Monarch Watch    363582\n",
      "Name: datasetName, dtype: int64\n",
      "humanobservation    363582\n",
      "Name: basisOfRecord, dtype: int64\n",
      "MW0000001    1\n",
      "MW0242418    1\n",
      "MW0242394    1\n",
      "MW0242393    1\n",
      "MW0242392    1\n",
      "            ..\n",
      "MW0121193    1\n",
      "MW0121192    1\n",
      "MW0121191    1\n",
      "MW0121190    1\n",
      "MW0363582    1\n",
      "Name: occurrenceID, Length: 363582, dtype: int64\n",
      "MW0000001    1\n",
      "MW0242418    1\n",
      "MW0242394    1\n",
      "MW0242393    1\n",
      "MW0242392    1\n",
      "            ..\n",
      "MW0121193    1\n",
      "MW0121192    1\n",
      "MW0121191    1\n",
      "MW0121190    1\n",
      "MW0363582    1\n",
      "Name: catalogNumber, Length: 363582, dtype: int64\n",
      "Monarch Watch    363582\n",
      "Name: recordedBy, dtype: int64\n",
      "present    363582\n",
      "Name: occurrenceStatus, dtype: int64\n",
      "Monarch Watch Tagging Data, https://monarchwatch.org/tagdata    363582\n",
      "Name: associatedReferences, dtype: int64\n",
      "9/18/1997    4921\n",
      "9/17/1996    4582\n",
      "9/15/1997    4269\n",
      "9/11/2000    3733\n",
      "9/19/1996    3629\n",
      "             ... \n",
      "6/14/2000       1\n",
      "4/4/1998        1\n",
      "4/3/1998        1\n",
      "4/1/1998        1\n",
      "4/13/1998       1\n",
      "Name: eventDate, Length: 1389, dtype: int64\n",
      "1999    81625\n",
      "2000    74329\n",
      "1997    70232\n",
      "1998    60781\n",
      "1996    46824\n",
      "1995    13877\n",
      "1994     7132\n",
      "1993     4845\n",
      "1992     3937\n",
      "Name: year, dtype: int64\n",
      "US    353210\n",
      "CA     10372\n",
      "Name: country, dtype: int64\n",
      "KS    108129\n",
      "IA     31506\n",
      "MN     29440\n",
      "TX     19015\n",
      "PA     16316\n",
      "OK     15344\n",
      "OH     12371\n",
      "NY     12119\n",
      "WI      9436\n",
      "NE      9190\n",
      "ON      7844\n",
      "MO      7323\n",
      "IL      7042\n",
      "FL      6880\n",
      "VA      6758\n",
      "CT      6437\n",
      "MI      6141\n",
      "SD      5494\n",
      "NJ      5010\n",
      "AR      4750\n",
      "SC      4144\n",
      "MA      4070\n",
      "WV      3901\n",
      "IN      3880\n",
      "MD      3322\n",
      "KY      2441\n",
      "QC      2384\n",
      "ME      1890\n",
      "VT      1883\n",
      "NC      1709\n",
      "CO      1133\n",
      "NH      1096\n",
      "LA      1081\n",
      "ND      1033\n",
      "GA       756\n",
      "DE       482\n",
      "DC       414\n",
      "RI       353\n",
      "TN       293\n",
      "WY       228\n",
      "MS       181\n",
      "MB       137\n",
      "NM       119\n",
      "AL        93\n",
      "BC         7\n",
      "UT         5\n",
      "AZ         1\n",
      "ID         1\n",
      "Name: stateProvince, dtype: int64\n",
      "City:WAMEGO           27220\n",
      "City:OKLAHOMA CITY     9482\n",
      "City:LAWRENCE          8682\n",
      "City:OLATHE            7589\n",
      "City:MOUNDRIDGE        6579\n",
      "                      ...  \n",
      "City:PORTAL               1\n",
      "City:CRESTLINE            1\n",
      "City:VIOLA                1\n",
      "City:REHRERSBURG          1\n",
      "City:GREAT FALLS          1\n",
      "Name: verbatimLocality, Length: 2673, dtype: int64\n",
      "39.201940    27220\n",
      "35.467560     9482\n",
      "38.971670     8682\n",
      "38.881400     7589\n",
      "38.203070     6579\n",
      "             ...  \n",
      "35.514006        1\n",
      "41.335237        1\n",
      "40.529270        1\n",
      "44.993930        1\n",
      "44.807820        1\n",
      "Name: decimalLatitude, Length: 3085, dtype: int64\n",
      "-96.304997    27220\n",
      "-97.516428     9482\n",
      "-95.235250     8682\n",
      "-94.819129     7589\n",
      "-97.519206     6579\n",
      "              ...  \n",
      "-94.015454        1\n",
      "-82.723373        1\n",
      "-99.292613        1\n",
      "-70.800786        1\n",
      "-99.800093        1\n",
      "Name: decimalLongitude, Length: 3085, dtype: int64\n",
      "WGS84    363582\n",
      "Name: geodeticDatum, dtype: int64\n",
      "centroid (type and size unkown)    363582\n",
      "Name: georeferenceRemarks, dtype: int64\n",
      "117273    363582\n",
      "Name: taxonID, dtype: int64\n",
      "Integrated Taxonomic Information System (ITIS). https://www.itis.gov    363582\n",
      "Name: nameAccordingToID, dtype: int64\n",
      "Danaus plexippus    363582\n",
      "Name: scientificName, dtype: int64\n",
      "Animalia    363582\n",
      "Name: kingdom, dtype: int64\n",
      "Monarch butterfly    363582\n",
      "Name: vernacularName, dtype: int64\n",
      "Danaus plexippus    363582\n",
      "Name: taxonRemarks, dtype: int64\n"
     ]
    }
   ],
   "source": [
    "# Determine the number of unique values in each column.\n",
    "for col in MWatch_Tagged_df:\n",
    "  print(MWatch_Tagged_df[col].value_counts())"
   ]
  },
  {
   "cell_type": "code",
   "execution_count": 10,
   "id": "1856ea6e",
   "metadata": {},
   "outputs": [
    {
     "name": "stdout",
     "output_type": "stream",
     "text": [
      "Column id has 0 null values\n",
      "Column modified has 0 null values\n",
      "Column language has 0 null values\n",
      "Column license has 0 null values\n",
      "Column institutionID has 0 null values\n",
      "Column collectionID has 0 null values\n",
      "Column institutionCode has 0 null values\n",
      "Column collectionCode has 0 null values\n",
      "Column datasetName has 0 null values\n",
      "Column basisOfRecord has 0 null values\n",
      "Column occurrenceID has 0 null values\n",
      "Column catalogNumber has 0 null values\n",
      "Column recordedBy has 0 null values\n",
      "Column occurrenceStatus has 0 null values\n",
      "Column associatedReferences has 0 null values\n",
      "Column eventDate has 0 null values\n",
      "Column year has 0 null values\n",
      "Column country has 0 null values\n",
      "Column stateProvince has 0 null values\n",
      "Column verbatimLocality has 0 null values\n",
      "Column decimalLatitude has 0 null values\n",
      "Column decimalLongitude has 0 null values\n",
      "Column geodeticDatum has 0 null values\n",
      "Column georeferenceRemarks has 0 null values\n",
      "Column taxonID has 0 null values\n",
      "Column nameAccordingToID has 0 null values\n",
      "Column scientificName has 0 null values\n",
      "Column kingdom has 0 null values\n",
      "Column vernacularName has 0 null values\n",
      "Column taxonRemarks has 0 null values\n"
     ]
    }
   ],
   "source": [
    "# Find null values\n",
    "for column in MWatch_Tagged_df.columns:\n",
    "   print(f\"Column {column} has {MWatch_Tagged_df[column].isnull().sum()} null values\")"
   ]
  },
  {
   "cell_type": "code",
   "execution_count": 11,
   "id": "4c1a2cda",
   "metadata": {},
   "outputs": [
    {
     "name": "stdout",
     "output_type": "stream",
     "text": [
      "Duplicate entries: 0\n"
     ]
    }
   ],
   "source": [
    "# Find duplicate entries\n",
    "print(f\"Duplicate entries: {MWatch_Tagged_df.duplicated().sum()}\")"
   ]
  },
  {
   "cell_type": "markdown",
   "id": "cdb7ec9b",
   "metadata": {},
   "source": [
    "# Format file for geoJSON"
   ]
  },
  {
   "cell_type": "code",
   "execution_count": 12,
   "id": "e12536ed",
   "metadata": {},
   "outputs": [],
   "source": [
    "MWatch_Tagged_df['species'] = 'Monarch Tagged'"
   ]
  },
  {
   "cell_type": "code",
   "execution_count": 13,
   "id": "66dbb148",
   "metadata": {},
   "outputs": [
    {
     "data": {
      "text/html": [
       "<div>\n",
       "<style scoped>\n",
       "    .dataframe tbody tr th:only-of-type {\n",
       "        vertical-align: middle;\n",
       "    }\n",
       "\n",
       "    .dataframe tbody tr th {\n",
       "        vertical-align: top;\n",
       "    }\n",
       "\n",
       "    .dataframe thead th {\n",
       "        text-align: right;\n",
       "    }\n",
       "</style>\n",
       "<table border=\"1\" class=\"dataframe\">\n",
       "  <thead>\n",
       "    <tr style=\"text-align: right;\">\n",
       "      <th></th>\n",
       "      <th>id</th>\n",
       "      <th>modified</th>\n",
       "      <th>language</th>\n",
       "      <th>license</th>\n",
       "      <th>institutionID</th>\n",
       "      <th>collectionID</th>\n",
       "      <th>institutionCode</th>\n",
       "      <th>collectionCode</th>\n",
       "      <th>datasetName</th>\n",
       "      <th>basisOfRecord</th>\n",
       "      <th>...</th>\n",
       "      <th>decimalLongitude</th>\n",
       "      <th>geodeticDatum</th>\n",
       "      <th>georeferenceRemarks</th>\n",
       "      <th>taxonID</th>\n",
       "      <th>nameAccordingToID</th>\n",
       "      <th>scientificName</th>\n",
       "      <th>kingdom</th>\n",
       "      <th>vernacularName</th>\n",
       "      <th>taxonRemarks</th>\n",
       "      <th>species</th>\n",
       "    </tr>\n",
       "  </thead>\n",
       "  <tbody>\n",
       "    <tr>\n",
       "      <th>0</th>\n",
       "      <td>MW0000001</td>\n",
       "      <td>7/30/2019</td>\n",
       "      <td>English</td>\n",
       "      <td>https://creativecommons.org/publicdomain/zero/...</td>\n",
       "      <td>https://bison.usgs.gov/</td>\n",
       "      <td>https://bison.usgs.gov/ipt/resource?r=monarchw...</td>\n",
       "      <td>BISON</td>\n",
       "      <td>Monarch Watch</td>\n",
       "      <td>Monarch Watch</td>\n",
       "      <td>humanobservation</td>\n",
       "      <td>...</td>\n",
       "      <td>-76.512176</td>\n",
       "      <td>WGS84</td>\n",
       "      <td>centroid (type and size unkown)</td>\n",
       "      <td>117273</td>\n",
       "      <td>Integrated Taxonomic Information System (ITIS)...</td>\n",
       "      <td>Danaus plexippus</td>\n",
       "      <td>Animalia</td>\n",
       "      <td>Monarch butterfly</td>\n",
       "      <td>Danaus plexippus</td>\n",
       "      <td>Monarch Tagged</td>\n",
       "    </tr>\n",
       "    <tr>\n",
       "      <th>1</th>\n",
       "      <td>MW0000002</td>\n",
       "      <td>7/30/2019</td>\n",
       "      <td>English</td>\n",
       "      <td>https://creativecommons.org/publicdomain/zero/...</td>\n",
       "      <td>https://bison.usgs.gov/</td>\n",
       "      <td>https://bison.usgs.gov/ipt/resource?r=monarchw...</td>\n",
       "      <td>BISON</td>\n",
       "      <td>Monarch Watch</td>\n",
       "      <td>Monarch Watch</td>\n",
       "      <td>humanobservation</td>\n",
       "      <td>...</td>\n",
       "      <td>-76.512176</td>\n",
       "      <td>WGS84</td>\n",
       "      <td>centroid (type and size unkown)</td>\n",
       "      <td>117273</td>\n",
       "      <td>Integrated Taxonomic Information System (ITIS)...</td>\n",
       "      <td>Danaus plexippus</td>\n",
       "      <td>Animalia</td>\n",
       "      <td>Monarch butterfly</td>\n",
       "      <td>Danaus plexippus</td>\n",
       "      <td>Monarch Tagged</td>\n",
       "    </tr>\n",
       "    <tr>\n",
       "      <th>2</th>\n",
       "      <td>MW0000003</td>\n",
       "      <td>7/30/2019</td>\n",
       "      <td>English</td>\n",
       "      <td>https://creativecommons.org/publicdomain/zero/...</td>\n",
       "      <td>https://bison.usgs.gov/</td>\n",
       "      <td>https://bison.usgs.gov/ipt/resource?r=monarchw...</td>\n",
       "      <td>BISON</td>\n",
       "      <td>Monarch Watch</td>\n",
       "      <td>Monarch Watch</td>\n",
       "      <td>humanobservation</td>\n",
       "      <td>...</td>\n",
       "      <td>-76.512176</td>\n",
       "      <td>WGS84</td>\n",
       "      <td>centroid (type and size unkown)</td>\n",
       "      <td>117273</td>\n",
       "      <td>Integrated Taxonomic Information System (ITIS)...</td>\n",
       "      <td>Danaus plexippus</td>\n",
       "      <td>Animalia</td>\n",
       "      <td>Monarch butterfly</td>\n",
       "      <td>Danaus plexippus</td>\n",
       "      <td>Monarch Tagged</td>\n",
       "    </tr>\n",
       "    <tr>\n",
       "      <th>3</th>\n",
       "      <td>MW0000004</td>\n",
       "      <td>7/30/2019</td>\n",
       "      <td>English</td>\n",
       "      <td>https://creativecommons.org/publicdomain/zero/...</td>\n",
       "      <td>https://bison.usgs.gov/</td>\n",
       "      <td>https://bison.usgs.gov/ipt/resource?r=monarchw...</td>\n",
       "      <td>BISON</td>\n",
       "      <td>Monarch Watch</td>\n",
       "      <td>Monarch Watch</td>\n",
       "      <td>humanobservation</td>\n",
       "      <td>...</td>\n",
       "      <td>-76.512176</td>\n",
       "      <td>WGS84</td>\n",
       "      <td>centroid (type and size unkown)</td>\n",
       "      <td>117273</td>\n",
       "      <td>Integrated Taxonomic Information System (ITIS)...</td>\n",
       "      <td>Danaus plexippus</td>\n",
       "      <td>Animalia</td>\n",
       "      <td>Monarch butterfly</td>\n",
       "      <td>Danaus plexippus</td>\n",
       "      <td>Monarch Tagged</td>\n",
       "    </tr>\n",
       "    <tr>\n",
       "      <th>4</th>\n",
       "      <td>MW0000005</td>\n",
       "      <td>7/30/2019</td>\n",
       "      <td>English</td>\n",
       "      <td>https://creativecommons.org/publicdomain/zero/...</td>\n",
       "      <td>https://bison.usgs.gov/</td>\n",
       "      <td>https://bison.usgs.gov/ipt/resource?r=monarchw...</td>\n",
       "      <td>BISON</td>\n",
       "      <td>Monarch Watch</td>\n",
       "      <td>Monarch Watch</td>\n",
       "      <td>humanobservation</td>\n",
       "      <td>...</td>\n",
       "      <td>-76.512176</td>\n",
       "      <td>WGS84</td>\n",
       "      <td>centroid (type and size unkown)</td>\n",
       "      <td>117273</td>\n",
       "      <td>Integrated Taxonomic Information System (ITIS)...</td>\n",
       "      <td>Danaus plexippus</td>\n",
       "      <td>Animalia</td>\n",
       "      <td>Monarch butterfly</td>\n",
       "      <td>Danaus plexippus</td>\n",
       "      <td>Monarch Tagged</td>\n",
       "    </tr>\n",
       "  </tbody>\n",
       "</table>\n",
       "<p>5 rows × 31 columns</p>\n",
       "</div>"
      ],
      "text/plain": [
       "          id   modified language  \\\n",
       "0  MW0000001  7/30/2019  English   \n",
       "1  MW0000002  7/30/2019  English   \n",
       "2  MW0000003  7/30/2019  English   \n",
       "3  MW0000004  7/30/2019  English   \n",
       "4  MW0000005  7/30/2019  English   \n",
       "\n",
       "                                             license            institutionID  \\\n",
       "0  https://creativecommons.org/publicdomain/zero/...  https://bison.usgs.gov/   \n",
       "1  https://creativecommons.org/publicdomain/zero/...  https://bison.usgs.gov/   \n",
       "2  https://creativecommons.org/publicdomain/zero/...  https://bison.usgs.gov/   \n",
       "3  https://creativecommons.org/publicdomain/zero/...  https://bison.usgs.gov/   \n",
       "4  https://creativecommons.org/publicdomain/zero/...  https://bison.usgs.gov/   \n",
       "\n",
       "                                        collectionID institutionCode  \\\n",
       "0  https://bison.usgs.gov/ipt/resource?r=monarchw...           BISON   \n",
       "1  https://bison.usgs.gov/ipt/resource?r=monarchw...           BISON   \n",
       "2  https://bison.usgs.gov/ipt/resource?r=monarchw...           BISON   \n",
       "3  https://bison.usgs.gov/ipt/resource?r=monarchw...           BISON   \n",
       "4  https://bison.usgs.gov/ipt/resource?r=monarchw...           BISON   \n",
       "\n",
       "  collectionCode    datasetName     basisOfRecord  ... decimalLongitude  \\\n",
       "0  Monarch Watch  Monarch Watch  humanobservation  ...       -76.512176   \n",
       "1  Monarch Watch  Monarch Watch  humanobservation  ...       -76.512176   \n",
       "2  Monarch Watch  Monarch Watch  humanobservation  ...       -76.512176   \n",
       "3  Monarch Watch  Monarch Watch  humanobservation  ...       -76.512176   \n",
       "4  Monarch Watch  Monarch Watch  humanobservation  ...       -76.512176   \n",
       "\n",
       "  geodeticDatum              georeferenceRemarks taxonID  \\\n",
       "0         WGS84  centroid (type and size unkown)  117273   \n",
       "1         WGS84  centroid (type and size unkown)  117273   \n",
       "2         WGS84  centroid (type and size unkown)  117273   \n",
       "3         WGS84  centroid (type and size unkown)  117273   \n",
       "4         WGS84  centroid (type and size unkown)  117273   \n",
       "\n",
       "                                   nameAccordingToID    scientificName  \\\n",
       "0  Integrated Taxonomic Information System (ITIS)...  Danaus plexippus   \n",
       "1  Integrated Taxonomic Information System (ITIS)...  Danaus plexippus   \n",
       "2  Integrated Taxonomic Information System (ITIS)...  Danaus plexippus   \n",
       "3  Integrated Taxonomic Information System (ITIS)...  Danaus plexippus   \n",
       "4  Integrated Taxonomic Information System (ITIS)...  Danaus plexippus   \n",
       "\n",
       "    kingdom     vernacularName      taxonRemarks         species  \n",
       "0  Animalia  Monarch butterfly  Danaus plexippus  Monarch Tagged  \n",
       "1  Animalia  Monarch butterfly  Danaus plexippus  Monarch Tagged  \n",
       "2  Animalia  Monarch butterfly  Danaus plexippus  Monarch Tagged  \n",
       "3  Animalia  Monarch butterfly  Danaus plexippus  Monarch Tagged  \n",
       "4  Animalia  Monarch butterfly  Danaus plexippus  Monarch Tagged  \n",
       "\n",
       "[5 rows x 31 columns]"
      ]
     },
     "execution_count": 13,
     "metadata": {},
     "output_type": "execute_result"
    }
   ],
   "source": [
    "MWatch_Tagged_df.head()"
   ]
  },
  {
   "cell_type": "code",
   "execution_count": 14,
   "id": "e38d536f",
   "metadata": {},
   "outputs": [
    {
     "data": {
      "text/html": [
       "<div>\n",
       "<style scoped>\n",
       "    .dataframe tbody tr th:only-of-type {\n",
       "        vertical-align: middle;\n",
       "    }\n",
       "\n",
       "    .dataframe tbody tr th {\n",
       "        vertical-align: top;\n",
       "    }\n",
       "\n",
       "    .dataframe thead th {\n",
       "        text-align: right;\n",
       "    }\n",
       "</style>\n",
       "<table border=\"1\" class=\"dataframe\">\n",
       "  <thead>\n",
       "    <tr style=\"text-align: right;\">\n",
       "      <th></th>\n",
       "      <th>id</th>\n",
       "      <th>eventDate</th>\n",
       "      <th>year</th>\n",
       "      <th>country</th>\n",
       "      <th>stateProvince</th>\n",
       "      <th>decimalLatitude</th>\n",
       "      <th>decimalLongitude</th>\n",
       "      <th>species</th>\n",
       "    </tr>\n",
       "  </thead>\n",
       "  <tbody>\n",
       "    <tr>\n",
       "      <th>0</th>\n",
       "      <td>MW0000001</td>\n",
       "      <td>8/9/1992</td>\n",
       "      <td>1992</td>\n",
       "      <td>US</td>\n",
       "      <td>MD</td>\n",
       "      <td>38.61429</td>\n",
       "      <td>-76.512176</td>\n",
       "      <td>Monarch Tagged</td>\n",
       "    </tr>\n",
       "    <tr>\n",
       "      <th>1</th>\n",
       "      <td>MW0000002</td>\n",
       "      <td>8/9/1992</td>\n",
       "      <td>1992</td>\n",
       "      <td>US</td>\n",
       "      <td>MD</td>\n",
       "      <td>38.61429</td>\n",
       "      <td>-76.512176</td>\n",
       "      <td>Monarch Tagged</td>\n",
       "    </tr>\n",
       "    <tr>\n",
       "      <th>2</th>\n",
       "      <td>MW0000003</td>\n",
       "      <td>8/10/1992</td>\n",
       "      <td>1992</td>\n",
       "      <td>US</td>\n",
       "      <td>MD</td>\n",
       "      <td>38.61429</td>\n",
       "      <td>-76.512176</td>\n",
       "      <td>Monarch Tagged</td>\n",
       "    </tr>\n",
       "    <tr>\n",
       "      <th>3</th>\n",
       "      <td>MW0000004</td>\n",
       "      <td>8/10/1992</td>\n",
       "      <td>1992</td>\n",
       "      <td>US</td>\n",
       "      <td>MD</td>\n",
       "      <td>38.61429</td>\n",
       "      <td>-76.512176</td>\n",
       "      <td>Monarch Tagged</td>\n",
       "    </tr>\n",
       "    <tr>\n",
       "      <th>4</th>\n",
       "      <td>MW0000005</td>\n",
       "      <td>8/10/1992</td>\n",
       "      <td>1992</td>\n",
       "      <td>US</td>\n",
       "      <td>MD</td>\n",
       "      <td>38.61429</td>\n",
       "      <td>-76.512176</td>\n",
       "      <td>Monarch Tagged</td>\n",
       "    </tr>\n",
       "  </tbody>\n",
       "</table>\n",
       "</div>"
      ],
      "text/plain": [
       "          id  eventDate  year country stateProvince  decimalLatitude  \\\n",
       "0  MW0000001   8/9/1992  1992      US            MD         38.61429   \n",
       "1  MW0000002   8/9/1992  1992      US            MD         38.61429   \n",
       "2  MW0000003  8/10/1992  1992      US            MD         38.61429   \n",
       "3  MW0000004  8/10/1992  1992      US            MD         38.61429   \n",
       "4  MW0000005  8/10/1992  1992      US            MD         38.61429   \n",
       "\n",
       "   decimalLongitude         species  \n",
       "0        -76.512176  Monarch Tagged  \n",
       "1        -76.512176  Monarch Tagged  \n",
       "2        -76.512176  Monarch Tagged  \n",
       "3        -76.512176  Monarch Tagged  \n",
       "4        -76.512176  Monarch Tagged  "
      ]
     },
     "execution_count": 14,
     "metadata": {},
     "output_type": "execute_result"
    }
   ],
   "source": [
    "MWatch_Tagged_df.drop(['modified', 'language', 'license', 'institutionID', 'collectionID', 'institutionCode', 'collectionCode', 'datasetName', 'basisOfRecord', 'occurrenceID', 'catalogNumber', 'recordedBy', 'occurrenceStatus', 'associatedReferences', 'verbatimLocality', 'geodeticDatum', 'georeferenceRemarks', 'taxonID', 'nameAccordingToID','scientificName','kingdom', 'vernacularName','taxonRemarks'], axis=1, inplace=True)\n",
    "MWatch_Tagged_df.head()"
   ]
  },
  {
   "cell_type": "code",
   "execution_count": 87,
   "id": "d1003c89",
   "metadata": {},
   "outputs": [],
   "source": [
    "cols = ['eventDate', 'species','country', 'stateProvince', 'decimalLatitude', 'decimalLongitude', 'number']"
   ]
  },
  {
   "cell_type": "code",
   "execution_count": 16,
   "id": "e4715b2f",
   "metadata": {},
   "outputs": [
    {
     "data": {
      "text/plain": [
       "(363582, 8)"
      ]
     },
     "execution_count": 16,
     "metadata": {},
     "output_type": "execute_result"
    }
   ],
   "source": [
    "MWatch_Tagged_df.shape"
   ]
  },
  {
   "cell_type": "code",
   "execution_count": 17,
   "id": "96f729a6",
   "metadata": {},
   "outputs": [],
   "source": [
    "# MWatch_Tagged_df.replace(np.nan,'',regex=True)"
   ]
  },
  {
   "cell_type": "code",
   "execution_count": 18,
   "id": "b2aeaa7f",
   "metadata": {},
   "outputs": [
    {
     "data": {
      "text/plain": [
       "(363582, 8)"
      ]
     },
     "execution_count": 18,
     "metadata": {},
     "output_type": "execute_result"
    }
   ],
   "source": [
    "MWatch_Tagged_df.shape"
   ]
  },
  {
   "cell_type": "code",
   "execution_count": 19,
   "id": "98fdb575",
   "metadata": {},
   "outputs": [
    {
     "data": {
      "text/html": [
       "<div>\n",
       "<style scoped>\n",
       "    .dataframe tbody tr th:only-of-type {\n",
       "        vertical-align: middle;\n",
       "    }\n",
       "\n",
       "    .dataframe tbody tr th {\n",
       "        vertical-align: top;\n",
       "    }\n",
       "\n",
       "    .dataframe thead th {\n",
       "        text-align: right;\n",
       "    }\n",
       "</style>\n",
       "<table border=\"1\" class=\"dataframe\">\n",
       "  <thead>\n",
       "    <tr style=\"text-align: right;\">\n",
       "      <th></th>\n",
       "      <th>id</th>\n",
       "      <th>eventDate</th>\n",
       "      <th>year</th>\n",
       "      <th>country</th>\n",
       "      <th>stateProvince</th>\n",
       "      <th>decimalLatitude</th>\n",
       "      <th>decimalLongitude</th>\n",
       "      <th>species</th>\n",
       "    </tr>\n",
       "  </thead>\n",
       "  <tbody>\n",
       "    <tr>\n",
       "      <th>0</th>\n",
       "      <td>MW0000001</td>\n",
       "      <td>8/9/1992</td>\n",
       "      <td>1992</td>\n",
       "      <td>US</td>\n",
       "      <td>MD</td>\n",
       "      <td>38.61429</td>\n",
       "      <td>-76.512176</td>\n",
       "      <td>Monarch Tagged</td>\n",
       "    </tr>\n",
       "    <tr>\n",
       "      <th>1</th>\n",
       "      <td>MW0000002</td>\n",
       "      <td>8/9/1992</td>\n",
       "      <td>1992</td>\n",
       "      <td>US</td>\n",
       "      <td>MD</td>\n",
       "      <td>38.61429</td>\n",
       "      <td>-76.512176</td>\n",
       "      <td>Monarch Tagged</td>\n",
       "    </tr>\n",
       "    <tr>\n",
       "      <th>2</th>\n",
       "      <td>MW0000003</td>\n",
       "      <td>8/10/1992</td>\n",
       "      <td>1992</td>\n",
       "      <td>US</td>\n",
       "      <td>MD</td>\n",
       "      <td>38.61429</td>\n",
       "      <td>-76.512176</td>\n",
       "      <td>Monarch Tagged</td>\n",
       "    </tr>\n",
       "    <tr>\n",
       "      <th>3</th>\n",
       "      <td>MW0000004</td>\n",
       "      <td>8/10/1992</td>\n",
       "      <td>1992</td>\n",
       "      <td>US</td>\n",
       "      <td>MD</td>\n",
       "      <td>38.61429</td>\n",
       "      <td>-76.512176</td>\n",
       "      <td>Monarch Tagged</td>\n",
       "    </tr>\n",
       "    <tr>\n",
       "      <th>4</th>\n",
       "      <td>MW0000005</td>\n",
       "      <td>8/10/1992</td>\n",
       "      <td>1992</td>\n",
       "      <td>US</td>\n",
       "      <td>MD</td>\n",
       "      <td>38.61429</td>\n",
       "      <td>-76.512176</td>\n",
       "      <td>Monarch Tagged</td>\n",
       "    </tr>\n",
       "    <tr>\n",
       "      <th>...</th>\n",
       "      <td>...</td>\n",
       "      <td>...</td>\n",
       "      <td>...</td>\n",
       "      <td>...</td>\n",
       "      <td>...</td>\n",
       "      <td>...</td>\n",
       "      <td>...</td>\n",
       "      <td>...</td>\n",
       "    </tr>\n",
       "    <tr>\n",
       "      <th>363577</th>\n",
       "      <td>MW0363578</td>\n",
       "      <td>12/30/2000</td>\n",
       "      <td>2000</td>\n",
       "      <td>US</td>\n",
       "      <td>TX</td>\n",
       "      <td>29.50745</td>\n",
       "      <td>-95.094930</td>\n",
       "      <td>Monarch Tagged</td>\n",
       "    </tr>\n",
       "    <tr>\n",
       "      <th>363578</th>\n",
       "      <td>MW0363579</td>\n",
       "      <td>12/31/2000</td>\n",
       "      <td>2000</td>\n",
       "      <td>US</td>\n",
       "      <td>TX</td>\n",
       "      <td>29.50745</td>\n",
       "      <td>-95.094930</td>\n",
       "      <td>Monarch Tagged</td>\n",
       "    </tr>\n",
       "    <tr>\n",
       "      <th>363579</th>\n",
       "      <td>MW0363580</td>\n",
       "      <td>12/31/2000</td>\n",
       "      <td>2000</td>\n",
       "      <td>US</td>\n",
       "      <td>TX</td>\n",
       "      <td>29.50745</td>\n",
       "      <td>-95.094930</td>\n",
       "      <td>Monarch Tagged</td>\n",
       "    </tr>\n",
       "    <tr>\n",
       "      <th>363580</th>\n",
       "      <td>MW0363581</td>\n",
       "      <td>12/31/2000</td>\n",
       "      <td>2000</td>\n",
       "      <td>US</td>\n",
       "      <td>TX</td>\n",
       "      <td>29.50745</td>\n",
       "      <td>-95.094930</td>\n",
       "      <td>Monarch Tagged</td>\n",
       "    </tr>\n",
       "    <tr>\n",
       "      <th>363581</th>\n",
       "      <td>MW0363582</td>\n",
       "      <td>12/31/2000</td>\n",
       "      <td>2000</td>\n",
       "      <td>US</td>\n",
       "      <td>TX</td>\n",
       "      <td>29.50745</td>\n",
       "      <td>-95.094930</td>\n",
       "      <td>Monarch Tagged</td>\n",
       "    </tr>\n",
       "  </tbody>\n",
       "</table>\n",
       "<p>363582 rows × 8 columns</p>\n",
       "</div>"
      ],
      "text/plain": [
       "               id   eventDate  year country stateProvince  decimalLatitude  \\\n",
       "0       MW0000001    8/9/1992  1992      US            MD         38.61429   \n",
       "1       MW0000002    8/9/1992  1992      US            MD         38.61429   \n",
       "2       MW0000003   8/10/1992  1992      US            MD         38.61429   \n",
       "3       MW0000004   8/10/1992  1992      US            MD         38.61429   \n",
       "4       MW0000005   8/10/1992  1992      US            MD         38.61429   \n",
       "...           ...         ...   ...     ...           ...              ...   \n",
       "363577  MW0363578  12/30/2000  2000      US            TX         29.50745   \n",
       "363578  MW0363579  12/31/2000  2000      US            TX         29.50745   \n",
       "363579  MW0363580  12/31/2000  2000      US            TX         29.50745   \n",
       "363580  MW0363581  12/31/2000  2000      US            TX         29.50745   \n",
       "363581  MW0363582  12/31/2000  2000      US            TX         29.50745   \n",
       "\n",
       "        decimalLongitude         species  \n",
       "0             -76.512176  Monarch Tagged  \n",
       "1             -76.512176  Monarch Tagged  \n",
       "2             -76.512176  Monarch Tagged  \n",
       "3             -76.512176  Monarch Tagged  \n",
       "4             -76.512176  Monarch Tagged  \n",
       "...                  ...             ...  \n",
       "363577        -95.094930  Monarch Tagged  \n",
       "363578        -95.094930  Monarch Tagged  \n",
       "363579        -95.094930  Monarch Tagged  \n",
       "363580        -95.094930  Monarch Tagged  \n",
       "363581        -95.094930  Monarch Tagged  \n",
       "\n",
       "[363582 rows x 8 columns]"
      ]
     },
     "execution_count": 19,
     "metadata": {},
     "output_type": "execute_result"
    }
   ],
   "source": [
    "MWatch_Tagged_df"
   ]
  },
  {
   "cell_type": "code",
   "execution_count": 20,
   "id": "b48ca33b",
   "metadata": {},
   "outputs": [],
   "source": [
    "# MWatch_Tagged_df['column name'] = df['column name'].replace(['old value'],'new value')"
   ]
  },
  {
   "cell_type": "code",
   "execution_count": 21,
   "id": "69738554",
   "metadata": {},
   "outputs": [
    {
     "data": {
      "text/html": [
       "<div>\n",
       "<style scoped>\n",
       "    .dataframe tbody tr th:only-of-type {\n",
       "        vertical-align: middle;\n",
       "    }\n",
       "\n",
       "    .dataframe tbody tr th {\n",
       "        vertical-align: top;\n",
       "    }\n",
       "\n",
       "    .dataframe thead th {\n",
       "        text-align: right;\n",
       "    }\n",
       "</style>\n",
       "<table border=\"1\" class=\"dataframe\">\n",
       "  <thead>\n",
       "    <tr style=\"text-align: right;\">\n",
       "      <th></th>\n",
       "      <th>eventDate</th>\n",
       "      <th>year</th>\n",
       "      <th>country</th>\n",
       "      <th>stateProvince</th>\n",
       "      <th>decimalLatitude</th>\n",
       "      <th>decimalLongitude</th>\n",
       "      <th>species</th>\n",
       "      <th>0</th>\n",
       "    </tr>\n",
       "  </thead>\n",
       "  <tbody>\n",
       "    <tr>\n",
       "      <th>0</th>\n",
       "      <td>1/1/2000</td>\n",
       "      <td>2000</td>\n",
       "      <td>US</td>\n",
       "      <td>FL</td>\n",
       "      <td>28.01863</td>\n",
       "      <td>-82.112864</td>\n",
       "      <td>Monarch Tagged</td>\n",
       "      <td>1</td>\n",
       "    </tr>\n",
       "    <tr>\n",
       "      <th>1</th>\n",
       "      <td>1/1/2000</td>\n",
       "      <td>2000</td>\n",
       "      <td>US</td>\n",
       "      <td>FL</td>\n",
       "      <td>28.53834</td>\n",
       "      <td>-81.379237</td>\n",
       "      <td>Monarch Tagged</td>\n",
       "      <td>1</td>\n",
       "    </tr>\n",
       "    <tr>\n",
       "      <th>2</th>\n",
       "      <td>1/10/1998</td>\n",
       "      <td>1998</td>\n",
       "      <td>US</td>\n",
       "      <td>KS</td>\n",
       "      <td>37.58613</td>\n",
       "      <td>-99.475674</td>\n",
       "      <td>Monarch Tagged</td>\n",
       "      <td>9</td>\n",
       "    </tr>\n",
       "    <tr>\n",
       "      <th>3</th>\n",
       "      <td>1/10/1998</td>\n",
       "      <td>1998</td>\n",
       "      <td>US</td>\n",
       "      <td>TX</td>\n",
       "      <td>25.90175</td>\n",
       "      <td>-97.497484</td>\n",
       "      <td>Monarch Tagged</td>\n",
       "      <td>1</td>\n",
       "    </tr>\n",
       "    <tr>\n",
       "      <th>4</th>\n",
       "      <td>1/10/1998</td>\n",
       "      <td>1998</td>\n",
       "      <td>US</td>\n",
       "      <td>TX</td>\n",
       "      <td>29.76043</td>\n",
       "      <td>-95.369803</td>\n",
       "      <td>Monarch Tagged</td>\n",
       "      <td>7</td>\n",
       "    </tr>\n",
       "  </tbody>\n",
       "</table>\n",
       "</div>"
      ],
      "text/plain": [
       "   eventDate  year country stateProvince  decimalLatitude  decimalLongitude  \\\n",
       "0   1/1/2000  2000      US            FL         28.01863        -82.112864   \n",
       "1   1/1/2000  2000      US            FL         28.53834        -81.379237   \n",
       "2  1/10/1998  1998      US            KS         37.58613        -99.475674   \n",
       "3  1/10/1998  1998      US            TX         25.90175        -97.497484   \n",
       "4  1/10/1998  1998      US            TX         29.76043        -95.369803   \n",
       "\n",
       "          species  0  \n",
       "0  Monarch Tagged  1  \n",
       "1  Monarch Tagged  1  \n",
       "2  Monarch Tagged  9  \n",
       "3  Monarch Tagged  1  \n",
       "4  Monarch Tagged  7  "
      ]
     },
     "execution_count": 21,
     "metadata": {},
     "output_type": "execute_result"
    }
   ],
   "source": [
    "MWatch_Tagged_df =MWatch_Tagged_df.groupby(['eventDate', 'year', 'country', 'stateProvince', 'decimalLatitude', 'decimalLongitude', 'species']).size().reset_index()\n",
    "MWatch_Tagged_df.head()"
   ]
  },
  {
   "cell_type": "code",
   "execution_count": 22,
   "id": "7471ee02",
   "metadata": {},
   "outputs": [
    {
     "data": {
      "text/html": [
       "<div>\n",
       "<style scoped>\n",
       "    .dataframe tbody tr th:only-of-type {\n",
       "        vertical-align: middle;\n",
       "    }\n",
       "\n",
       "    .dataframe tbody tr th {\n",
       "        vertical-align: top;\n",
       "    }\n",
       "\n",
       "    .dataframe thead th {\n",
       "        text-align: right;\n",
       "    }\n",
       "</style>\n",
       "<table border=\"1\" class=\"dataframe\">\n",
       "  <thead>\n",
       "    <tr style=\"text-align: right;\">\n",
       "      <th></th>\n",
       "      <th>eventDate</th>\n",
       "      <th>year</th>\n",
       "      <th>country</th>\n",
       "      <th>stateProvince</th>\n",
       "      <th>decimalLatitude</th>\n",
       "      <th>decimalLongitude</th>\n",
       "      <th>species</th>\n",
       "      <th>number</th>\n",
       "    </tr>\n",
       "  </thead>\n",
       "  <tbody>\n",
       "    <tr>\n",
       "      <th>0</th>\n",
       "      <td>1/1/2000</td>\n",
       "      <td>2000</td>\n",
       "      <td>US</td>\n",
       "      <td>FL</td>\n",
       "      <td>28.01863</td>\n",
       "      <td>-82.112864</td>\n",
       "      <td>Monarch Tagged</td>\n",
       "      <td>1</td>\n",
       "    </tr>\n",
       "    <tr>\n",
       "      <th>1</th>\n",
       "      <td>1/1/2000</td>\n",
       "      <td>2000</td>\n",
       "      <td>US</td>\n",
       "      <td>FL</td>\n",
       "      <td>28.53834</td>\n",
       "      <td>-81.379237</td>\n",
       "      <td>Monarch Tagged</td>\n",
       "      <td>1</td>\n",
       "    </tr>\n",
       "    <tr>\n",
       "      <th>2</th>\n",
       "      <td>1/10/1998</td>\n",
       "      <td>1998</td>\n",
       "      <td>US</td>\n",
       "      <td>KS</td>\n",
       "      <td>37.58613</td>\n",
       "      <td>-99.475674</td>\n",
       "      <td>Monarch Tagged</td>\n",
       "      <td>9</td>\n",
       "    </tr>\n",
       "    <tr>\n",
       "      <th>3</th>\n",
       "      <td>1/10/1998</td>\n",
       "      <td>1998</td>\n",
       "      <td>US</td>\n",
       "      <td>TX</td>\n",
       "      <td>25.90175</td>\n",
       "      <td>-97.497484</td>\n",
       "      <td>Monarch Tagged</td>\n",
       "      <td>1</td>\n",
       "    </tr>\n",
       "    <tr>\n",
       "      <th>4</th>\n",
       "      <td>1/10/1998</td>\n",
       "      <td>1998</td>\n",
       "      <td>US</td>\n",
       "      <td>TX</td>\n",
       "      <td>29.76043</td>\n",
       "      <td>-95.369803</td>\n",
       "      <td>Monarch Tagged</td>\n",
       "      <td>7</td>\n",
       "    </tr>\n",
       "  </tbody>\n",
       "</table>\n",
       "</div>"
      ],
      "text/plain": [
       "   eventDate  year country stateProvince  decimalLatitude  decimalLongitude  \\\n",
       "0   1/1/2000  2000      US            FL         28.01863        -82.112864   \n",
       "1   1/1/2000  2000      US            FL         28.53834        -81.379237   \n",
       "2  1/10/1998  1998      US            KS         37.58613        -99.475674   \n",
       "3  1/10/1998  1998      US            TX         25.90175        -97.497484   \n",
       "4  1/10/1998  1998      US            TX         29.76043        -95.369803   \n",
       "\n",
       "          species  number  \n",
       "0  Monarch Tagged       1  \n",
       "1  Monarch Tagged       1  \n",
       "2  Monarch Tagged       9  \n",
       "3  Monarch Tagged       1  \n",
       "4  Monarch Tagged       7  "
      ]
     },
     "execution_count": 22,
     "metadata": {},
     "output_type": "execute_result"
    }
   ],
   "source": [
    "MWatch_Tagged_df.rename( columns={0:'number'} ,inplace=True)\n",
    "MWatch_Tagged_df.head()"
   ]
  },
  {
   "cell_type": "code",
   "execution_count": 23,
   "id": "def6a91a",
   "metadata": {},
   "outputs": [],
   "source": [
    "MWatch_Tagged_year_df = MWatch_Tagged_df\n",
    "# MWatch_Tagged_year_df['years'] = pd.DatetimeIndex(MWatch_Tagged_year_df['eventDate']).year"
   ]
  },
  {
   "cell_type": "markdown",
   "id": "3d3ee1eb",
   "metadata": {},
   "source": [
    "# Filter Tagging Data By Year - 1996"
   ]
  },
  {
   "cell_type": "code",
   "execution_count": 24,
   "id": "07dea5d3",
   "metadata": {},
   "outputs": [
    {
     "data": {
      "text/html": [
       "<div>\n",
       "<style scoped>\n",
       "    .dataframe tbody tr th:only-of-type {\n",
       "        vertical-align: middle;\n",
       "    }\n",
       "\n",
       "    .dataframe tbody tr th {\n",
       "        vertical-align: top;\n",
       "    }\n",
       "\n",
       "    .dataframe thead th {\n",
       "        text-align: right;\n",
       "    }\n",
       "</style>\n",
       "<table border=\"1\" class=\"dataframe\">\n",
       "  <thead>\n",
       "    <tr style=\"text-align: right;\">\n",
       "      <th></th>\n",
       "      <th>eventDate</th>\n",
       "      <th>year</th>\n",
       "      <th>country</th>\n",
       "      <th>stateProvince</th>\n",
       "      <th>decimalLatitude</th>\n",
       "      <th>decimalLongitude</th>\n",
       "      <th>species</th>\n",
       "      <th>number</th>\n",
       "    </tr>\n",
       "  </thead>\n",
       "  <tbody>\n",
       "    <tr>\n",
       "      <th>179</th>\n",
       "      <td>10/1/1996</td>\n",
       "      <td>1996</td>\n",
       "      <td>CA</td>\n",
       "      <td>ON</td>\n",
       "      <td>43.45030</td>\n",
       "      <td>-80.483192</td>\n",
       "      <td>Monarch Tagged</td>\n",
       "      <td>1</td>\n",
       "    </tr>\n",
       "    <tr>\n",
       "      <th>180</th>\n",
       "      <td>10/1/1996</td>\n",
       "      <td>1996</td>\n",
       "      <td>US</td>\n",
       "      <td>AR</td>\n",
       "      <td>36.36479</td>\n",
       "      <td>-93.567967</td>\n",
       "      <td>Monarch Tagged</td>\n",
       "      <td>13</td>\n",
       "    </tr>\n",
       "    <tr>\n",
       "      <th>181</th>\n",
       "      <td>10/1/1996</td>\n",
       "      <td>1996</td>\n",
       "      <td>US</td>\n",
       "      <td>DE</td>\n",
       "      <td>39.78761</td>\n",
       "      <td>-75.696600</td>\n",
       "      <td>Monarch Tagged</td>\n",
       "      <td>2</td>\n",
       "    </tr>\n",
       "    <tr>\n",
       "      <th>182</th>\n",
       "      <td>10/1/1996</td>\n",
       "      <td>1996</td>\n",
       "      <td>US</td>\n",
       "      <td>IA</td>\n",
       "      <td>41.82479</td>\n",
       "      <td>-90.647615</td>\n",
       "      <td>Monarch Tagged</td>\n",
       "      <td>13</td>\n",
       "    </tr>\n",
       "    <tr>\n",
       "      <th>183</th>\n",
       "      <td>10/1/1996</td>\n",
       "      <td>1996</td>\n",
       "      <td>US</td>\n",
       "      <td>IA</td>\n",
       "      <td>41.82586</td>\n",
       "      <td>-90.758199</td>\n",
       "      <td>Monarch Tagged</td>\n",
       "      <td>1</td>\n",
       "    </tr>\n",
       "  </tbody>\n",
       "</table>\n",
       "</div>"
      ],
      "text/plain": [
       "     eventDate  year country stateProvince  decimalLatitude  decimalLongitude  \\\n",
       "179  10/1/1996  1996      CA            ON         43.45030        -80.483192   \n",
       "180  10/1/1996  1996      US            AR         36.36479        -93.567967   \n",
       "181  10/1/1996  1996      US            DE         39.78761        -75.696600   \n",
       "182  10/1/1996  1996      US            IA         41.82479        -90.647615   \n",
       "183  10/1/1996  1996      US            IA         41.82586        -90.758199   \n",
       "\n",
       "            species  number  \n",
       "179  Monarch Tagged       1  \n",
       "180  Monarch Tagged      13  \n",
       "181  Monarch Tagged       2  \n",
       "182  Monarch Tagged      13  \n",
       "183  Monarch Tagged       1  "
      ]
     },
     "execution_count": 24,
     "metadata": {},
     "output_type": "execute_result"
    }
   ],
   "source": [
    "# filtering by year\n",
    "MWatch_Tagged_1996_df = MWatch_Tagged_df[MWatch_Tagged_df['year']==1996]\n",
    "MWatch_Tagged_1996_df.head()"
   ]
  },
  {
   "cell_type": "code",
   "execution_count": 25,
   "id": "34d0ae51",
   "metadata": {},
   "outputs": [
    {
     "data": {
      "text/plain": [
       "179      10/1/1996\n",
       "180      10/1/1996\n",
       "181      10/1/1996\n",
       "182      10/1/1996\n",
       "183      10/1/1996\n",
       "           ...    \n",
       "39479     9/9/1996\n",
       "39480     9/9/1996\n",
       "39481     9/9/1996\n",
       "39482     9/9/1996\n",
       "39483     9/9/1996\n",
       "Name: eventDate, Length: 3401, dtype: object"
      ]
     },
     "execution_count": 25,
     "metadata": {},
     "output_type": "execute_result"
    }
   ],
   "source": [
    "MWatch_Tagged_1996_df['eventDate']"
   ]
  },
  {
   "cell_type": "code",
   "execution_count": 26,
   "id": "709e99de",
   "metadata": {},
   "outputs": [
    {
     "data": {
      "text/plain": [
       "(3401, 8)"
      ]
     },
     "execution_count": 26,
     "metadata": {},
     "output_type": "execute_result"
    }
   ],
   "source": [
    "MWatch_Tagged_1996_df.shape"
   ]
  },
  {
   "cell_type": "code",
   "execution_count": 28,
   "id": "ee39ade3",
   "metadata": {},
   "outputs": [],
   "source": [
    "MWatch_Tagged_1996_df = pd.DataFrame(MWatch_Tagged_1996_df)\n",
    "MWatch_Tagged_1996_df['month'] = pd.DatetimeIndex(MWatch_Tagged_1996_df['eventDate']).month"
   ]
  },
  {
   "cell_type": "code",
   "execution_count": 29,
   "id": "e959941c",
   "metadata": {},
   "outputs": [
    {
     "data": {
      "text/html": [
       "<div>\n",
       "<style scoped>\n",
       "    .dataframe tbody tr th:only-of-type {\n",
       "        vertical-align: middle;\n",
       "    }\n",
       "\n",
       "    .dataframe tbody tr th {\n",
       "        vertical-align: top;\n",
       "    }\n",
       "\n",
       "    .dataframe thead th {\n",
       "        text-align: right;\n",
       "    }\n",
       "</style>\n",
       "<table border=\"1\" class=\"dataframe\">\n",
       "  <thead>\n",
       "    <tr style=\"text-align: right;\">\n",
       "      <th></th>\n",
       "      <th>eventDate</th>\n",
       "      <th>year</th>\n",
       "      <th>country</th>\n",
       "      <th>stateProvince</th>\n",
       "      <th>decimalLatitude</th>\n",
       "      <th>decimalLongitude</th>\n",
       "      <th>species</th>\n",
       "      <th>number</th>\n",
       "      <th>month</th>\n",
       "    </tr>\n",
       "  </thead>\n",
       "  <tbody>\n",
       "    <tr>\n",
       "      <th>179</th>\n",
       "      <td>10/1/1996</td>\n",
       "      <td>1996</td>\n",
       "      <td>CA</td>\n",
       "      <td>ON</td>\n",
       "      <td>43.45030</td>\n",
       "      <td>-80.483192</td>\n",
       "      <td>Monarch Tagged</td>\n",
       "      <td>1</td>\n",
       "      <td>10</td>\n",
       "    </tr>\n",
       "    <tr>\n",
       "      <th>180</th>\n",
       "      <td>10/1/1996</td>\n",
       "      <td>1996</td>\n",
       "      <td>US</td>\n",
       "      <td>AR</td>\n",
       "      <td>36.36479</td>\n",
       "      <td>-93.567967</td>\n",
       "      <td>Monarch Tagged</td>\n",
       "      <td>13</td>\n",
       "      <td>10</td>\n",
       "    </tr>\n",
       "    <tr>\n",
       "      <th>181</th>\n",
       "      <td>10/1/1996</td>\n",
       "      <td>1996</td>\n",
       "      <td>US</td>\n",
       "      <td>DE</td>\n",
       "      <td>39.78761</td>\n",
       "      <td>-75.696600</td>\n",
       "      <td>Monarch Tagged</td>\n",
       "      <td>2</td>\n",
       "      <td>10</td>\n",
       "    </tr>\n",
       "    <tr>\n",
       "      <th>182</th>\n",
       "      <td>10/1/1996</td>\n",
       "      <td>1996</td>\n",
       "      <td>US</td>\n",
       "      <td>IA</td>\n",
       "      <td>41.82479</td>\n",
       "      <td>-90.647615</td>\n",
       "      <td>Monarch Tagged</td>\n",
       "      <td>13</td>\n",
       "      <td>10</td>\n",
       "    </tr>\n",
       "    <tr>\n",
       "      <th>183</th>\n",
       "      <td>10/1/1996</td>\n",
       "      <td>1996</td>\n",
       "      <td>US</td>\n",
       "      <td>IA</td>\n",
       "      <td>41.82586</td>\n",
       "      <td>-90.758199</td>\n",
       "      <td>Monarch Tagged</td>\n",
       "      <td>1</td>\n",
       "      <td>10</td>\n",
       "    </tr>\n",
       "  </tbody>\n",
       "</table>\n",
       "</div>"
      ],
      "text/plain": [
       "     eventDate  year country stateProvince  decimalLatitude  decimalLongitude  \\\n",
       "179  10/1/1996  1996      CA            ON         43.45030        -80.483192   \n",
       "180  10/1/1996  1996      US            AR         36.36479        -93.567967   \n",
       "181  10/1/1996  1996      US            DE         39.78761        -75.696600   \n",
       "182  10/1/1996  1996      US            IA         41.82479        -90.647615   \n",
       "183  10/1/1996  1996      US            IA         41.82586        -90.758199   \n",
       "\n",
       "            species  number  month  \n",
       "179  Monarch Tagged       1     10  \n",
       "180  Monarch Tagged      13     10  \n",
       "181  Monarch Tagged       2     10  \n",
       "182  Monarch Tagged      13     10  \n",
       "183  Monarch Tagged       1     10  "
      ]
     },
     "execution_count": 29,
     "metadata": {},
     "output_type": "execute_result"
    }
   ],
   "source": [
    "MWatch_Tagged_1996_df.head()"
   ]
  },
  {
   "cell_type": "code",
   "execution_count": 30,
   "id": "4e38a521",
   "metadata": {},
   "outputs": [],
   "source": [
    "MWatch_Tagged_1996_df.drop(['year'], axis=1, inplace=True)"
   ]
  },
  {
   "cell_type": "code",
   "execution_count": 31,
   "id": "b12fa405",
   "metadata": {},
   "outputs": [
    {
     "data": {
      "text/html": [
       "<div>\n",
       "<style scoped>\n",
       "    .dataframe tbody tr th:only-of-type {\n",
       "        vertical-align: middle;\n",
       "    }\n",
       "\n",
       "    .dataframe tbody tr th {\n",
       "        vertical-align: top;\n",
       "    }\n",
       "\n",
       "    .dataframe thead th {\n",
       "        text-align: right;\n",
       "    }\n",
       "</style>\n",
       "<table border=\"1\" class=\"dataframe\">\n",
       "  <thead>\n",
       "    <tr style=\"text-align: right;\">\n",
       "      <th></th>\n",
       "      <th>eventDate</th>\n",
       "      <th>country</th>\n",
       "      <th>stateProvince</th>\n",
       "      <th>decimalLatitude</th>\n",
       "      <th>decimalLongitude</th>\n",
       "      <th>species</th>\n",
       "      <th>number</th>\n",
       "      <th>month</th>\n",
       "    </tr>\n",
       "  </thead>\n",
       "  <tbody>\n",
       "    <tr>\n",
       "      <th>179</th>\n",
       "      <td>10/1/1996</td>\n",
       "      <td>CA</td>\n",
       "      <td>ON</td>\n",
       "      <td>43.45030</td>\n",
       "      <td>-80.483192</td>\n",
       "      <td>Monarch Tagged</td>\n",
       "      <td>1</td>\n",
       "      <td>10</td>\n",
       "    </tr>\n",
       "    <tr>\n",
       "      <th>180</th>\n",
       "      <td>10/1/1996</td>\n",
       "      <td>US</td>\n",
       "      <td>AR</td>\n",
       "      <td>36.36479</td>\n",
       "      <td>-93.567967</td>\n",
       "      <td>Monarch Tagged</td>\n",
       "      <td>13</td>\n",
       "      <td>10</td>\n",
       "    </tr>\n",
       "    <tr>\n",
       "      <th>181</th>\n",
       "      <td>10/1/1996</td>\n",
       "      <td>US</td>\n",
       "      <td>DE</td>\n",
       "      <td>39.78761</td>\n",
       "      <td>-75.696600</td>\n",
       "      <td>Monarch Tagged</td>\n",
       "      <td>2</td>\n",
       "      <td>10</td>\n",
       "    </tr>\n",
       "    <tr>\n",
       "      <th>182</th>\n",
       "      <td>10/1/1996</td>\n",
       "      <td>US</td>\n",
       "      <td>IA</td>\n",
       "      <td>41.82479</td>\n",
       "      <td>-90.647615</td>\n",
       "      <td>Monarch Tagged</td>\n",
       "      <td>13</td>\n",
       "      <td>10</td>\n",
       "    </tr>\n",
       "    <tr>\n",
       "      <th>183</th>\n",
       "      <td>10/1/1996</td>\n",
       "      <td>US</td>\n",
       "      <td>IA</td>\n",
       "      <td>41.82586</td>\n",
       "      <td>-90.758199</td>\n",
       "      <td>Monarch Tagged</td>\n",
       "      <td>1</td>\n",
       "      <td>10</td>\n",
       "    </tr>\n",
       "  </tbody>\n",
       "</table>\n",
       "</div>"
      ],
      "text/plain": [
       "     eventDate country stateProvince  decimalLatitude  decimalLongitude  \\\n",
       "179  10/1/1996      CA            ON         43.45030        -80.483192   \n",
       "180  10/1/1996      US            AR         36.36479        -93.567967   \n",
       "181  10/1/1996      US            DE         39.78761        -75.696600   \n",
       "182  10/1/1996      US            IA         41.82479        -90.647615   \n",
       "183  10/1/1996      US            IA         41.82586        -90.758199   \n",
       "\n",
       "            species  number  month  \n",
       "179  Monarch Tagged       1     10  \n",
       "180  Monarch Tagged      13     10  \n",
       "181  Monarch Tagged       2     10  \n",
       "182  Monarch Tagged      13     10  \n",
       "183  Monarch Tagged       1     10  "
      ]
     },
     "execution_count": 31,
     "metadata": {},
     "output_type": "execute_result"
    }
   ],
   "source": [
    "MWatch_Tagged_1996_df.head()"
   ]
  },
  {
   "cell_type": "markdown",
   "id": "e1e014c5",
   "metadata": {},
   "source": [
    "## January"
   ]
  },
  {
   "cell_type": "code",
   "execution_count": 36,
   "id": "4b51587a",
   "metadata": {},
   "outputs": [
    {
     "data": {
      "text/html": [
       "<div>\n",
       "<style scoped>\n",
       "    .dataframe tbody tr th:only-of-type {\n",
       "        vertical-align: middle;\n",
       "    }\n",
       "\n",
       "    .dataframe tbody tr th {\n",
       "        vertical-align: top;\n",
       "    }\n",
       "\n",
       "    .dataframe thead th {\n",
       "        text-align: right;\n",
       "    }\n",
       "</style>\n",
       "<table border=\"1\" class=\"dataframe\">\n",
       "  <thead>\n",
       "    <tr style=\"text-align: right;\">\n",
       "      <th></th>\n",
       "      <th>eventDate</th>\n",
       "      <th>country</th>\n",
       "      <th>stateProvince</th>\n",
       "      <th>decimalLatitude</th>\n",
       "      <th>decimalLongitude</th>\n",
       "      <th>species</th>\n",
       "      <th>number</th>\n",
       "      <th>month</th>\n",
       "    </tr>\n",
       "  </thead>\n",
       "  <tbody>\n",
       "  </tbody>\n",
       "</table>\n",
       "</div>"
      ],
      "text/plain": [
       "Empty DataFrame\n",
       "Columns: [eventDate, country, stateProvince, decimalLatitude, decimalLongitude, species, number, month]\n",
       "Index: []"
      ]
     },
     "execution_count": 36,
     "metadata": {},
     "output_type": "execute_result"
    }
   ],
   "source": [
    "MWatch_Tagged_1996_month_df =pd.DataFrame(MWatch_Tagged_1996_df)\n",
    "MWatch_Tagged_1996_1_df = MWatch_Tagged_1996_month_df[MWatch_Tagged_1996_month_df['month']==1]\n",
    "MWatch_Tagged_1996_1_df.head()"
   ]
  },
  {
   "cell_type": "code",
   "execution_count": 33,
   "id": "78ffb46c",
   "metadata": {},
   "outputs": [
    {
     "data": {
      "text/plain": [
       "(0, 8)"
      ]
     },
     "execution_count": 33,
     "metadata": {},
     "output_type": "execute_result"
    }
   ],
   "source": [
    "MWatch_Tagged_1996_1_df.shape"
   ]
  },
  {
   "cell_type": "code",
   "execution_count": 123,
   "id": "24d9c768",
   "metadata": {},
   "outputs": [
    {
     "data": {
      "text/html": [
       "<div>\n",
       "<style scoped>\n",
       "    .dataframe tbody tr th:only-of-type {\n",
       "        vertical-align: middle;\n",
       "    }\n",
       "\n",
       "    .dataframe tbody tr th {\n",
       "        vertical-align: top;\n",
       "    }\n",
       "\n",
       "    .dataframe thead th {\n",
       "        text-align: right;\n",
       "    }\n",
       "</style>\n",
       "<table border=\"1\" class=\"dataframe\">\n",
       "  <thead>\n",
       "    <tr style=\"text-align: right;\">\n",
       "      <th></th>\n",
       "      <th>eventDate</th>\n",
       "      <th>country</th>\n",
       "      <th>stateProvince</th>\n",
       "      <th>decimalLatitude</th>\n",
       "      <th>decimalLongitude</th>\n",
       "      <th>species</th>\n",
       "      <th>number</th>\n",
       "    </tr>\n",
       "  </thead>\n",
       "  <tbody>\n",
       "  </tbody>\n",
       "</table>\n",
       "</div>"
      ],
      "text/plain": [
       "Empty DataFrame\n",
       "Columns: [eventDate, country, stateProvince, decimalLatitude, decimalLongitude, species, number]\n",
       "Index: []"
      ]
     },
     "execution_count": 123,
     "metadata": {},
     "output_type": "execute_result"
    }
   ],
   "source": [
    "MWatch_Tagged_1996_1_df.head()"
   ]
  },
  {
   "cell_type": "code",
   "execution_count": 38,
   "id": "0da596a9",
   "metadata": {},
   "outputs": [],
   "source": [
    "MWatch_Tagged_1996_1_df = pd.DataFrame(MWatch_Tagged_1996_1_df)\n",
    "MWatch_Tagged_1996_1_df.drop(['month'], axis=1, inplace=True)"
   ]
  },
  {
   "cell_type": "code",
   "execution_count": 39,
   "id": "8b9a74f6",
   "metadata": {},
   "outputs": [
    {
     "data": {
      "text/html": [
       "<div>\n",
       "<style scoped>\n",
       "    .dataframe tbody tr th:only-of-type {\n",
       "        vertical-align: middle;\n",
       "    }\n",
       "\n",
       "    .dataframe tbody tr th {\n",
       "        vertical-align: top;\n",
       "    }\n",
       "\n",
       "    .dataframe thead th {\n",
       "        text-align: right;\n",
       "    }\n",
       "</style>\n",
       "<table border=\"1\" class=\"dataframe\">\n",
       "  <thead>\n",
       "    <tr style=\"text-align: right;\">\n",
       "      <th></th>\n",
       "      <th>eventDate</th>\n",
       "      <th>country</th>\n",
       "      <th>stateProvince</th>\n",
       "      <th>decimalLatitude</th>\n",
       "      <th>decimalLongitude</th>\n",
       "      <th>species</th>\n",
       "      <th>number</th>\n",
       "    </tr>\n",
       "  </thead>\n",
       "  <tbody>\n",
       "  </tbody>\n",
       "</table>\n",
       "</div>"
      ],
      "text/plain": [
       "Empty DataFrame\n",
       "Columns: [eventDate, country, stateProvince, decimalLatitude, decimalLongitude, species, number]\n",
       "Index: []"
      ]
     },
     "execution_count": 39,
     "metadata": {},
     "output_type": "execute_result"
    }
   ],
   "source": [
    "MWatch_Tagged_1996_1_df"
   ]
  },
  {
   "cell_type": "code",
   "execution_count": 40,
   "id": "b77fbff4",
   "metadata": {},
   "outputs": [],
   "source": [
    "# convert lat-long to floats and change address from ALL CAPS to regular capitalization\n",
    "MWatch_Tagged_1996_1_df['decimalLatitude'] = MWatch_Tagged_1996_1_df['decimalLatitude'].astype(float)\n",
    "MWatch_Tagged_1996_1_df['decimalLongitude'] = MWatch_Tagged_1996_1_df['decimalLongitude'].astype(float)\n",
    "# JNorth_Milkweed_Site_df['street_address'] = JNorth_Milkweed_Site_df['street_address'].str.title()"
   ]
  },
  {
   "cell_type": "code",
   "execution_count": 41,
   "id": "b2d65ff3",
   "metadata": {},
   "outputs": [],
   "source": [
    "geojson = df_to_geojson(MWatch_Tagged_1996_1_df, cols)"
   ]
  },
  {
   "cell_type": "code",
   "execution_count": 42,
   "id": "7be09d07",
   "metadata": {},
   "outputs": [],
   "source": [
    "file = open(\"MWatch_Tagged_1996_1.geojson\", \"w\")\n",
    "json.dump(geojson, file, indent =1)\n",
    "file.close()"
   ]
  },
  {
   "cell_type": "markdown",
   "id": "3fbad2ab",
   "metadata": {},
   "source": [
    "## February"
   ]
  },
  {
   "cell_type": "code",
   "execution_count": 48,
   "id": "5884490a",
   "metadata": {},
   "outputs": [
    {
     "data": {
      "text/html": [
       "<div>\n",
       "<style scoped>\n",
       "    .dataframe tbody tr th:only-of-type {\n",
       "        vertical-align: middle;\n",
       "    }\n",
       "\n",
       "    .dataframe tbody tr th {\n",
       "        vertical-align: top;\n",
       "    }\n",
       "\n",
       "    .dataframe thead th {\n",
       "        text-align: right;\n",
       "    }\n",
       "</style>\n",
       "<table border=\"1\" class=\"dataframe\">\n",
       "  <thead>\n",
       "    <tr style=\"text-align: right;\">\n",
       "      <th></th>\n",
       "      <th>eventDate</th>\n",
       "      <th>country</th>\n",
       "      <th>stateProvince</th>\n",
       "      <th>decimalLatitude</th>\n",
       "      <th>decimalLongitude</th>\n",
       "      <th>species</th>\n",
       "      <th>number</th>\n",
       "      <th>month</th>\n",
       "    </tr>\n",
       "  </thead>\n",
       "  <tbody>\n",
       "  </tbody>\n",
       "</table>\n",
       "</div>"
      ],
      "text/plain": [
       "Empty DataFrame\n",
       "Columns: [eventDate, country, stateProvince, decimalLatitude, decimalLongitude, species, number, month]\n",
       "Index: []"
      ]
     },
     "execution_count": 48,
     "metadata": {},
     "output_type": "execute_result"
    }
   ],
   "source": [
    "MWatch_Tagged_1996_month_df =pd.DataFrame(MWatch_Tagged_1996_df)\n",
    "MWatch_Tagged_1996_2_df = MWatch_Tagged_1996_month_df[MWatch_Tagged_1996_month_df['month']==2]\n",
    "MWatch_Tagged_1996_2_df.tail()"
   ]
  },
  {
   "cell_type": "code",
   "execution_count": 49,
   "id": "b42cb926",
   "metadata": {},
   "outputs": [
    {
     "data": {
      "text/plain": [
       "(0, 8)"
      ]
     },
     "execution_count": 49,
     "metadata": {},
     "output_type": "execute_result"
    }
   ],
   "source": [
    "MWatch_Tagged_1996_2_df.shape"
   ]
  },
  {
   "cell_type": "code",
   "execution_count": 50,
   "id": "b021a9c4",
   "metadata": {},
   "outputs": [
    {
     "ename": "KeyError",
     "evalue": "\"['month'] not found in axis\"",
     "output_type": "error",
     "traceback": [
      "\u001b[1;31m---------------------------------------------------------------------------\u001b[0m",
      "\u001b[1;31mKeyError\u001b[0m                                  Traceback (most recent call last)",
      "\u001b[1;32m~\\AppData\\Local\\Temp/ipykernel_5900/259966442.py\u001b[0m in \u001b[0;36m<module>\u001b[1;34m\u001b[0m\n\u001b[0;32m      1\u001b[0m \u001b[0mMWatch_Tagged_1996_2_df\u001b[0m \u001b[1;33m=\u001b[0m \u001b[0mpd\u001b[0m\u001b[1;33m.\u001b[0m\u001b[0mDataFrame\u001b[0m\u001b[1;33m(\u001b[0m\u001b[0mMWatch_Tagged_1996_1_df\u001b[0m\u001b[1;33m)\u001b[0m\u001b[1;33m\u001b[0m\u001b[1;33m\u001b[0m\u001b[0m\n\u001b[1;32m----> 2\u001b[1;33m \u001b[0mMWatch_Tagged_1996_2_df\u001b[0m\u001b[1;33m.\u001b[0m\u001b[0mdrop\u001b[0m\u001b[1;33m(\u001b[0m\u001b[1;33m[\u001b[0m\u001b[1;34m'month'\u001b[0m\u001b[1;33m]\u001b[0m\u001b[1;33m,\u001b[0m \u001b[0maxis\u001b[0m\u001b[1;33m=\u001b[0m\u001b[1;36m1\u001b[0m\u001b[1;33m,\u001b[0m \u001b[0minplace\u001b[0m\u001b[1;33m=\u001b[0m\u001b[1;32mTrue\u001b[0m\u001b[1;33m)\u001b[0m\u001b[1;33m\u001b[0m\u001b[1;33m\u001b[0m\u001b[0m\n\u001b[0m",
      "\u001b[1;32m~\\anaconda3\\envs\\mlenv\\lib\\site-packages\\pandas\\util\\_decorators.py\u001b[0m in \u001b[0;36mwrapper\u001b[1;34m(*args, **kwargs)\u001b[0m\n\u001b[0;32m    309\u001b[0m                     \u001b[0mstacklevel\u001b[0m\u001b[1;33m=\u001b[0m\u001b[0mstacklevel\u001b[0m\u001b[1;33m,\u001b[0m\u001b[1;33m\u001b[0m\u001b[1;33m\u001b[0m\u001b[0m\n\u001b[0;32m    310\u001b[0m                 )\n\u001b[1;32m--> 311\u001b[1;33m             \u001b[1;32mreturn\u001b[0m \u001b[0mfunc\u001b[0m\u001b[1;33m(\u001b[0m\u001b[1;33m*\u001b[0m\u001b[0margs\u001b[0m\u001b[1;33m,\u001b[0m \u001b[1;33m**\u001b[0m\u001b[0mkwargs\u001b[0m\u001b[1;33m)\u001b[0m\u001b[1;33m\u001b[0m\u001b[1;33m\u001b[0m\u001b[0m\n\u001b[0m\u001b[0;32m    312\u001b[0m \u001b[1;33m\u001b[0m\u001b[0m\n\u001b[0;32m    313\u001b[0m         \u001b[1;32mreturn\u001b[0m \u001b[0mwrapper\u001b[0m\u001b[1;33m\u001b[0m\u001b[1;33m\u001b[0m\u001b[0m\n",
      "\u001b[1;32m~\\anaconda3\\envs\\mlenv\\lib\\site-packages\\pandas\\core\\frame.py\u001b[0m in \u001b[0;36mdrop\u001b[1;34m(self, labels, axis, index, columns, level, inplace, errors)\u001b[0m\n\u001b[0;32m   4911\u001b[0m             \u001b[0mlevel\u001b[0m\u001b[1;33m=\u001b[0m\u001b[0mlevel\u001b[0m\u001b[1;33m,\u001b[0m\u001b[1;33m\u001b[0m\u001b[1;33m\u001b[0m\u001b[0m\n\u001b[0;32m   4912\u001b[0m             \u001b[0minplace\u001b[0m\u001b[1;33m=\u001b[0m\u001b[0minplace\u001b[0m\u001b[1;33m,\u001b[0m\u001b[1;33m\u001b[0m\u001b[1;33m\u001b[0m\u001b[0m\n\u001b[1;32m-> 4913\u001b[1;33m             \u001b[0merrors\u001b[0m\u001b[1;33m=\u001b[0m\u001b[0merrors\u001b[0m\u001b[1;33m,\u001b[0m\u001b[1;33m\u001b[0m\u001b[1;33m\u001b[0m\u001b[0m\n\u001b[0m\u001b[0;32m   4914\u001b[0m         )\n\u001b[0;32m   4915\u001b[0m \u001b[1;33m\u001b[0m\u001b[0m\n",
      "\u001b[1;32m~\\anaconda3\\envs\\mlenv\\lib\\site-packages\\pandas\\core\\generic.py\u001b[0m in \u001b[0;36mdrop\u001b[1;34m(self, labels, axis, index, columns, level, inplace, errors)\u001b[0m\n\u001b[0;32m   4148\u001b[0m         \u001b[1;32mfor\u001b[0m \u001b[0maxis\u001b[0m\u001b[1;33m,\u001b[0m \u001b[0mlabels\u001b[0m \u001b[1;32min\u001b[0m \u001b[0maxes\u001b[0m\u001b[1;33m.\u001b[0m\u001b[0mitems\u001b[0m\u001b[1;33m(\u001b[0m\u001b[1;33m)\u001b[0m\u001b[1;33m:\u001b[0m\u001b[1;33m\u001b[0m\u001b[1;33m\u001b[0m\u001b[0m\n\u001b[0;32m   4149\u001b[0m             \u001b[1;32mif\u001b[0m \u001b[0mlabels\u001b[0m \u001b[1;32mis\u001b[0m \u001b[1;32mnot\u001b[0m \u001b[1;32mNone\u001b[0m\u001b[1;33m:\u001b[0m\u001b[1;33m\u001b[0m\u001b[1;33m\u001b[0m\u001b[0m\n\u001b[1;32m-> 4150\u001b[1;33m                 \u001b[0mobj\u001b[0m \u001b[1;33m=\u001b[0m \u001b[0mobj\u001b[0m\u001b[1;33m.\u001b[0m\u001b[0m_drop_axis\u001b[0m\u001b[1;33m(\u001b[0m\u001b[0mlabels\u001b[0m\u001b[1;33m,\u001b[0m \u001b[0maxis\u001b[0m\u001b[1;33m,\u001b[0m \u001b[0mlevel\u001b[0m\u001b[1;33m=\u001b[0m\u001b[0mlevel\u001b[0m\u001b[1;33m,\u001b[0m \u001b[0merrors\u001b[0m\u001b[1;33m=\u001b[0m\u001b[0merrors\u001b[0m\u001b[1;33m)\u001b[0m\u001b[1;33m\u001b[0m\u001b[1;33m\u001b[0m\u001b[0m\n\u001b[0m\u001b[0;32m   4151\u001b[0m \u001b[1;33m\u001b[0m\u001b[0m\n\u001b[0;32m   4152\u001b[0m         \u001b[1;32mif\u001b[0m \u001b[0minplace\u001b[0m\u001b[1;33m:\u001b[0m\u001b[1;33m\u001b[0m\u001b[1;33m\u001b[0m\u001b[0m\n",
      "\u001b[1;32m~\\anaconda3\\envs\\mlenv\\lib\\site-packages\\pandas\\core\\generic.py\u001b[0m in \u001b[0;36m_drop_axis\u001b[1;34m(self, labels, axis, level, errors)\u001b[0m\n\u001b[0;32m   4183\u001b[0m                 \u001b[0mnew_axis\u001b[0m \u001b[1;33m=\u001b[0m \u001b[0maxis\u001b[0m\u001b[1;33m.\u001b[0m\u001b[0mdrop\u001b[0m\u001b[1;33m(\u001b[0m\u001b[0mlabels\u001b[0m\u001b[1;33m,\u001b[0m \u001b[0mlevel\u001b[0m\u001b[1;33m=\u001b[0m\u001b[0mlevel\u001b[0m\u001b[1;33m,\u001b[0m \u001b[0merrors\u001b[0m\u001b[1;33m=\u001b[0m\u001b[0merrors\u001b[0m\u001b[1;33m)\u001b[0m\u001b[1;33m\u001b[0m\u001b[1;33m\u001b[0m\u001b[0m\n\u001b[0;32m   4184\u001b[0m             \u001b[1;32melse\u001b[0m\u001b[1;33m:\u001b[0m\u001b[1;33m\u001b[0m\u001b[1;33m\u001b[0m\u001b[0m\n\u001b[1;32m-> 4185\u001b[1;33m                 \u001b[0mnew_axis\u001b[0m \u001b[1;33m=\u001b[0m \u001b[0maxis\u001b[0m\u001b[1;33m.\u001b[0m\u001b[0mdrop\u001b[0m\u001b[1;33m(\u001b[0m\u001b[0mlabels\u001b[0m\u001b[1;33m,\u001b[0m \u001b[0merrors\u001b[0m\u001b[1;33m=\u001b[0m\u001b[0merrors\u001b[0m\u001b[1;33m)\u001b[0m\u001b[1;33m\u001b[0m\u001b[1;33m\u001b[0m\u001b[0m\n\u001b[0m\u001b[0;32m   4186\u001b[0m             \u001b[0mresult\u001b[0m \u001b[1;33m=\u001b[0m \u001b[0mself\u001b[0m\u001b[1;33m.\u001b[0m\u001b[0mreindex\u001b[0m\u001b[1;33m(\u001b[0m\u001b[1;33m**\u001b[0m\u001b[1;33m{\u001b[0m\u001b[0maxis_name\u001b[0m\u001b[1;33m:\u001b[0m \u001b[0mnew_axis\u001b[0m\u001b[1;33m}\u001b[0m\u001b[1;33m)\u001b[0m\u001b[1;33m\u001b[0m\u001b[1;33m\u001b[0m\u001b[0m\n\u001b[0;32m   4187\u001b[0m \u001b[1;33m\u001b[0m\u001b[0m\n",
      "\u001b[1;32m~\\anaconda3\\envs\\mlenv\\lib\\site-packages\\pandas\\core\\indexes\\base.py\u001b[0m in \u001b[0;36mdrop\u001b[1;34m(self, labels, errors)\u001b[0m\n\u001b[0;32m   6015\u001b[0m         \u001b[1;32mif\u001b[0m \u001b[0mmask\u001b[0m\u001b[1;33m.\u001b[0m\u001b[0many\u001b[0m\u001b[1;33m(\u001b[0m\u001b[1;33m)\u001b[0m\u001b[1;33m:\u001b[0m\u001b[1;33m\u001b[0m\u001b[1;33m\u001b[0m\u001b[0m\n\u001b[0;32m   6016\u001b[0m             \u001b[1;32mif\u001b[0m \u001b[0merrors\u001b[0m \u001b[1;33m!=\u001b[0m \u001b[1;34m\"ignore\"\u001b[0m\u001b[1;33m:\u001b[0m\u001b[1;33m\u001b[0m\u001b[1;33m\u001b[0m\u001b[0m\n\u001b[1;32m-> 6017\u001b[1;33m                 \u001b[1;32mraise\u001b[0m \u001b[0mKeyError\u001b[0m\u001b[1;33m(\u001b[0m\u001b[1;34mf\"{labels[mask]} not found in axis\"\u001b[0m\u001b[1;33m)\u001b[0m\u001b[1;33m\u001b[0m\u001b[1;33m\u001b[0m\u001b[0m\n\u001b[0m\u001b[0;32m   6018\u001b[0m             \u001b[0mindexer\u001b[0m \u001b[1;33m=\u001b[0m \u001b[0mindexer\u001b[0m\u001b[1;33m[\u001b[0m\u001b[1;33m~\u001b[0m\u001b[0mmask\u001b[0m\u001b[1;33m]\u001b[0m\u001b[1;33m\u001b[0m\u001b[1;33m\u001b[0m\u001b[0m\n\u001b[0;32m   6019\u001b[0m         \u001b[1;32mreturn\u001b[0m \u001b[0mself\u001b[0m\u001b[1;33m.\u001b[0m\u001b[0mdelete\u001b[0m\u001b[1;33m(\u001b[0m\u001b[0mindexer\u001b[0m\u001b[1;33m)\u001b[0m\u001b[1;33m\u001b[0m\u001b[1;33m\u001b[0m\u001b[0m\n",
      "\u001b[1;31mKeyError\u001b[0m: \"['month'] not found in axis\""
     ]
    }
   ],
   "source": [
    "MWatch_Tagged_1996_2_df = pd.DataFrame(MWatch_Tagged_1996_1_df)\n",
    "MWatch_Tagged_1996_2_df.drop(['month'], axis=1, inplace=True)"
   ]
  },
  {
   "cell_type": "code",
   "execution_count": 51,
   "id": "9281836d",
   "metadata": {},
   "outputs": [],
   "source": [
    "# convert lat-long to floats and change address from ALL CAPS to regular capitalization\n",
    "MWatch_Tagged_1996_2_df['decimalLatitude'] = MWatch_Tagged_1996_2_df['decimalLatitude'].astype(float)\n",
    "MWatch_Tagged_1996_2_df['decimalLongitude'] = MWatch_Tagged_1996_2_df['decimalLongitude'].astype(float)\n",
    "# JNorth_Milkweed_Site_df['street_address'] = JNorth_Milkweed_Site_df['street_address'].str.title()"
   ]
  },
  {
   "cell_type": "code",
   "execution_count": 52,
   "id": "a8b965ac",
   "metadata": {},
   "outputs": [],
   "source": [
    "geojson = df_to_geojson(MWatch_Tagged_1996_2_df, cols)"
   ]
  },
  {
   "cell_type": "code",
   "execution_count": 53,
   "id": "ccc6a687",
   "metadata": {},
   "outputs": [],
   "source": [
    "file = open(\"MWatch_Tagged_1996_2.geojson\", \"w\")\n",
    "json.dump(geojson, file, indent =1)\n",
    "file.close()"
   ]
  },
  {
   "cell_type": "markdown",
   "id": "f58b04b3",
   "metadata": {},
   "source": [
    "## March"
   ]
  },
  {
   "cell_type": "code",
   "execution_count": 54,
   "id": "a8ef2f5b",
   "metadata": {},
   "outputs": [
    {
     "data": {
      "text/html": [
       "<div>\n",
       "<style scoped>\n",
       "    .dataframe tbody tr th:only-of-type {\n",
       "        vertical-align: middle;\n",
       "    }\n",
       "\n",
       "    .dataframe tbody tr th {\n",
       "        vertical-align: top;\n",
       "    }\n",
       "\n",
       "    .dataframe thead th {\n",
       "        text-align: right;\n",
       "    }\n",
       "</style>\n",
       "<table border=\"1\" class=\"dataframe\">\n",
       "  <thead>\n",
       "    <tr style=\"text-align: right;\">\n",
       "      <th></th>\n",
       "      <th>eventDate</th>\n",
       "      <th>country</th>\n",
       "      <th>stateProvince</th>\n",
       "      <th>decimalLatitude</th>\n",
       "      <th>decimalLongitude</th>\n",
       "      <th>species</th>\n",
       "      <th>number</th>\n",
       "      <th>month</th>\n",
       "    </tr>\n",
       "  </thead>\n",
       "  <tbody>\n",
       "  </tbody>\n",
       "</table>\n",
       "</div>"
      ],
      "text/plain": [
       "Empty DataFrame\n",
       "Columns: [eventDate, country, stateProvince, decimalLatitude, decimalLongitude, species, number, month]\n",
       "Index: []"
      ]
     },
     "execution_count": 54,
     "metadata": {},
     "output_type": "execute_result"
    }
   ],
   "source": [
    "MWatch_Tagged_1996_month_df =pd.DataFrame(MWatch_Tagged_1996_df)\n",
    "MWatch_Tagged_1996_3_df = MWatch_Tagged_1996_month_df[MWatch_Tagged_1996_month_df['month']==3]\n",
    "MWatch_Tagged_1996_3_df.tail()"
   ]
  },
  {
   "cell_type": "code",
   "execution_count": 55,
   "id": "ce7f1737",
   "metadata": {},
   "outputs": [
    {
     "data": {
      "text/plain": [
       "(0, 8)"
      ]
     },
     "execution_count": 55,
     "metadata": {},
     "output_type": "execute_result"
    }
   ],
   "source": [
    "MWatch_Tagged_1996_3_df.shape"
   ]
  },
  {
   "cell_type": "code",
   "execution_count": 57,
   "id": "7a38c9f2",
   "metadata": {},
   "outputs": [
    {
     "ename": "KeyError",
     "evalue": "\"['month'] not found in axis\"",
     "output_type": "error",
     "traceback": [
      "\u001b[1;31m---------------------------------------------------------------------------\u001b[0m",
      "\u001b[1;31mKeyError\u001b[0m                                  Traceback (most recent call last)",
      "\u001b[1;32m~\\AppData\\Local\\Temp/ipykernel_5900/1181326985.py\u001b[0m in \u001b[0;36m<module>\u001b[1;34m\u001b[0m\n\u001b[0;32m      1\u001b[0m \u001b[0mMWatch_Tagged_1996_3_df\u001b[0m \u001b[1;33m=\u001b[0m \u001b[0mpd\u001b[0m\u001b[1;33m.\u001b[0m\u001b[0mDataFrame\u001b[0m\u001b[1;33m(\u001b[0m\u001b[0mMWatch_Tagged_1996_3_df\u001b[0m\u001b[1;33m)\u001b[0m\u001b[1;33m\u001b[0m\u001b[1;33m\u001b[0m\u001b[0m\n\u001b[1;32m----> 2\u001b[1;33m \u001b[0mMWatch_Tagged_1996_3_df\u001b[0m\u001b[1;33m.\u001b[0m\u001b[0mdrop\u001b[0m\u001b[1;33m(\u001b[0m\u001b[1;33m[\u001b[0m\u001b[1;34m'month'\u001b[0m\u001b[1;33m]\u001b[0m\u001b[1;33m,\u001b[0m \u001b[0maxis\u001b[0m\u001b[1;33m=\u001b[0m\u001b[1;36m1\u001b[0m\u001b[1;33m,\u001b[0m \u001b[0minplace\u001b[0m\u001b[1;33m=\u001b[0m\u001b[1;32mTrue\u001b[0m\u001b[1;33m)\u001b[0m\u001b[1;33m\u001b[0m\u001b[1;33m\u001b[0m\u001b[0m\n\u001b[0m",
      "\u001b[1;32m~\\anaconda3\\envs\\mlenv\\lib\\site-packages\\pandas\\util\\_decorators.py\u001b[0m in \u001b[0;36mwrapper\u001b[1;34m(*args, **kwargs)\u001b[0m\n\u001b[0;32m    309\u001b[0m                     \u001b[0mstacklevel\u001b[0m\u001b[1;33m=\u001b[0m\u001b[0mstacklevel\u001b[0m\u001b[1;33m,\u001b[0m\u001b[1;33m\u001b[0m\u001b[1;33m\u001b[0m\u001b[0m\n\u001b[0;32m    310\u001b[0m                 )\n\u001b[1;32m--> 311\u001b[1;33m             \u001b[1;32mreturn\u001b[0m \u001b[0mfunc\u001b[0m\u001b[1;33m(\u001b[0m\u001b[1;33m*\u001b[0m\u001b[0margs\u001b[0m\u001b[1;33m,\u001b[0m \u001b[1;33m**\u001b[0m\u001b[0mkwargs\u001b[0m\u001b[1;33m)\u001b[0m\u001b[1;33m\u001b[0m\u001b[1;33m\u001b[0m\u001b[0m\n\u001b[0m\u001b[0;32m    312\u001b[0m \u001b[1;33m\u001b[0m\u001b[0m\n\u001b[0;32m    313\u001b[0m         \u001b[1;32mreturn\u001b[0m \u001b[0mwrapper\u001b[0m\u001b[1;33m\u001b[0m\u001b[1;33m\u001b[0m\u001b[0m\n",
      "\u001b[1;32m~\\anaconda3\\envs\\mlenv\\lib\\site-packages\\pandas\\core\\frame.py\u001b[0m in \u001b[0;36mdrop\u001b[1;34m(self, labels, axis, index, columns, level, inplace, errors)\u001b[0m\n\u001b[0;32m   4911\u001b[0m             \u001b[0mlevel\u001b[0m\u001b[1;33m=\u001b[0m\u001b[0mlevel\u001b[0m\u001b[1;33m,\u001b[0m\u001b[1;33m\u001b[0m\u001b[1;33m\u001b[0m\u001b[0m\n\u001b[0;32m   4912\u001b[0m             \u001b[0minplace\u001b[0m\u001b[1;33m=\u001b[0m\u001b[0minplace\u001b[0m\u001b[1;33m,\u001b[0m\u001b[1;33m\u001b[0m\u001b[1;33m\u001b[0m\u001b[0m\n\u001b[1;32m-> 4913\u001b[1;33m             \u001b[0merrors\u001b[0m\u001b[1;33m=\u001b[0m\u001b[0merrors\u001b[0m\u001b[1;33m,\u001b[0m\u001b[1;33m\u001b[0m\u001b[1;33m\u001b[0m\u001b[0m\n\u001b[0m\u001b[0;32m   4914\u001b[0m         )\n\u001b[0;32m   4915\u001b[0m \u001b[1;33m\u001b[0m\u001b[0m\n",
      "\u001b[1;32m~\\anaconda3\\envs\\mlenv\\lib\\site-packages\\pandas\\core\\generic.py\u001b[0m in \u001b[0;36mdrop\u001b[1;34m(self, labels, axis, index, columns, level, inplace, errors)\u001b[0m\n\u001b[0;32m   4148\u001b[0m         \u001b[1;32mfor\u001b[0m \u001b[0maxis\u001b[0m\u001b[1;33m,\u001b[0m \u001b[0mlabels\u001b[0m \u001b[1;32min\u001b[0m \u001b[0maxes\u001b[0m\u001b[1;33m.\u001b[0m\u001b[0mitems\u001b[0m\u001b[1;33m(\u001b[0m\u001b[1;33m)\u001b[0m\u001b[1;33m:\u001b[0m\u001b[1;33m\u001b[0m\u001b[1;33m\u001b[0m\u001b[0m\n\u001b[0;32m   4149\u001b[0m             \u001b[1;32mif\u001b[0m \u001b[0mlabels\u001b[0m \u001b[1;32mis\u001b[0m \u001b[1;32mnot\u001b[0m \u001b[1;32mNone\u001b[0m\u001b[1;33m:\u001b[0m\u001b[1;33m\u001b[0m\u001b[1;33m\u001b[0m\u001b[0m\n\u001b[1;32m-> 4150\u001b[1;33m                 \u001b[0mobj\u001b[0m \u001b[1;33m=\u001b[0m \u001b[0mobj\u001b[0m\u001b[1;33m.\u001b[0m\u001b[0m_drop_axis\u001b[0m\u001b[1;33m(\u001b[0m\u001b[0mlabels\u001b[0m\u001b[1;33m,\u001b[0m \u001b[0maxis\u001b[0m\u001b[1;33m,\u001b[0m \u001b[0mlevel\u001b[0m\u001b[1;33m=\u001b[0m\u001b[0mlevel\u001b[0m\u001b[1;33m,\u001b[0m \u001b[0merrors\u001b[0m\u001b[1;33m=\u001b[0m\u001b[0merrors\u001b[0m\u001b[1;33m)\u001b[0m\u001b[1;33m\u001b[0m\u001b[1;33m\u001b[0m\u001b[0m\n\u001b[0m\u001b[0;32m   4151\u001b[0m \u001b[1;33m\u001b[0m\u001b[0m\n\u001b[0;32m   4152\u001b[0m         \u001b[1;32mif\u001b[0m \u001b[0minplace\u001b[0m\u001b[1;33m:\u001b[0m\u001b[1;33m\u001b[0m\u001b[1;33m\u001b[0m\u001b[0m\n",
      "\u001b[1;32m~\\anaconda3\\envs\\mlenv\\lib\\site-packages\\pandas\\core\\generic.py\u001b[0m in \u001b[0;36m_drop_axis\u001b[1;34m(self, labels, axis, level, errors)\u001b[0m\n\u001b[0;32m   4183\u001b[0m                 \u001b[0mnew_axis\u001b[0m \u001b[1;33m=\u001b[0m \u001b[0maxis\u001b[0m\u001b[1;33m.\u001b[0m\u001b[0mdrop\u001b[0m\u001b[1;33m(\u001b[0m\u001b[0mlabels\u001b[0m\u001b[1;33m,\u001b[0m \u001b[0mlevel\u001b[0m\u001b[1;33m=\u001b[0m\u001b[0mlevel\u001b[0m\u001b[1;33m,\u001b[0m \u001b[0merrors\u001b[0m\u001b[1;33m=\u001b[0m\u001b[0merrors\u001b[0m\u001b[1;33m)\u001b[0m\u001b[1;33m\u001b[0m\u001b[1;33m\u001b[0m\u001b[0m\n\u001b[0;32m   4184\u001b[0m             \u001b[1;32melse\u001b[0m\u001b[1;33m:\u001b[0m\u001b[1;33m\u001b[0m\u001b[1;33m\u001b[0m\u001b[0m\n\u001b[1;32m-> 4185\u001b[1;33m                 \u001b[0mnew_axis\u001b[0m \u001b[1;33m=\u001b[0m \u001b[0maxis\u001b[0m\u001b[1;33m.\u001b[0m\u001b[0mdrop\u001b[0m\u001b[1;33m(\u001b[0m\u001b[0mlabels\u001b[0m\u001b[1;33m,\u001b[0m \u001b[0merrors\u001b[0m\u001b[1;33m=\u001b[0m\u001b[0merrors\u001b[0m\u001b[1;33m)\u001b[0m\u001b[1;33m\u001b[0m\u001b[1;33m\u001b[0m\u001b[0m\n\u001b[0m\u001b[0;32m   4186\u001b[0m             \u001b[0mresult\u001b[0m \u001b[1;33m=\u001b[0m \u001b[0mself\u001b[0m\u001b[1;33m.\u001b[0m\u001b[0mreindex\u001b[0m\u001b[1;33m(\u001b[0m\u001b[1;33m**\u001b[0m\u001b[1;33m{\u001b[0m\u001b[0maxis_name\u001b[0m\u001b[1;33m:\u001b[0m \u001b[0mnew_axis\u001b[0m\u001b[1;33m}\u001b[0m\u001b[1;33m)\u001b[0m\u001b[1;33m\u001b[0m\u001b[1;33m\u001b[0m\u001b[0m\n\u001b[0;32m   4187\u001b[0m \u001b[1;33m\u001b[0m\u001b[0m\n",
      "\u001b[1;32m~\\anaconda3\\envs\\mlenv\\lib\\site-packages\\pandas\\core\\indexes\\base.py\u001b[0m in \u001b[0;36mdrop\u001b[1;34m(self, labels, errors)\u001b[0m\n\u001b[0;32m   6015\u001b[0m         \u001b[1;32mif\u001b[0m \u001b[0mmask\u001b[0m\u001b[1;33m.\u001b[0m\u001b[0many\u001b[0m\u001b[1;33m(\u001b[0m\u001b[1;33m)\u001b[0m\u001b[1;33m:\u001b[0m\u001b[1;33m\u001b[0m\u001b[1;33m\u001b[0m\u001b[0m\n\u001b[0;32m   6016\u001b[0m             \u001b[1;32mif\u001b[0m \u001b[0merrors\u001b[0m \u001b[1;33m!=\u001b[0m \u001b[1;34m\"ignore\"\u001b[0m\u001b[1;33m:\u001b[0m\u001b[1;33m\u001b[0m\u001b[1;33m\u001b[0m\u001b[0m\n\u001b[1;32m-> 6017\u001b[1;33m                 \u001b[1;32mraise\u001b[0m \u001b[0mKeyError\u001b[0m\u001b[1;33m(\u001b[0m\u001b[1;34mf\"{labels[mask]} not found in axis\"\u001b[0m\u001b[1;33m)\u001b[0m\u001b[1;33m\u001b[0m\u001b[1;33m\u001b[0m\u001b[0m\n\u001b[0m\u001b[0;32m   6018\u001b[0m             \u001b[0mindexer\u001b[0m \u001b[1;33m=\u001b[0m \u001b[0mindexer\u001b[0m\u001b[1;33m[\u001b[0m\u001b[1;33m~\u001b[0m\u001b[0mmask\u001b[0m\u001b[1;33m]\u001b[0m\u001b[1;33m\u001b[0m\u001b[1;33m\u001b[0m\u001b[0m\n\u001b[0;32m   6019\u001b[0m         \u001b[1;32mreturn\u001b[0m \u001b[0mself\u001b[0m\u001b[1;33m.\u001b[0m\u001b[0mdelete\u001b[0m\u001b[1;33m(\u001b[0m\u001b[0mindexer\u001b[0m\u001b[1;33m)\u001b[0m\u001b[1;33m\u001b[0m\u001b[1;33m\u001b[0m\u001b[0m\n",
      "\u001b[1;31mKeyError\u001b[0m: \"['month'] not found in axis\""
     ]
    }
   ],
   "source": [
    "MWatch_Tagged_1996_3_df = pd.DataFrame(MWatch_Tagged_1996_3_df)\n",
    "MWatch_Tagged_1996_3_df.drop(['month'], axis=1, inplace=True)"
   ]
  },
  {
   "cell_type": "code",
   "execution_count": 58,
   "id": "a5d85ed7",
   "metadata": {},
   "outputs": [
    {
     "data": {
      "text/html": [
       "<div>\n",
       "<style scoped>\n",
       "    .dataframe tbody tr th:only-of-type {\n",
       "        vertical-align: middle;\n",
       "    }\n",
       "\n",
       "    .dataframe tbody tr th {\n",
       "        vertical-align: top;\n",
       "    }\n",
       "\n",
       "    .dataframe thead th {\n",
       "        text-align: right;\n",
       "    }\n",
       "</style>\n",
       "<table border=\"1\" class=\"dataframe\">\n",
       "  <thead>\n",
       "    <tr style=\"text-align: right;\">\n",
       "      <th></th>\n",
       "      <th>eventDate</th>\n",
       "      <th>country</th>\n",
       "      <th>stateProvince</th>\n",
       "      <th>decimalLatitude</th>\n",
       "      <th>decimalLongitude</th>\n",
       "      <th>species</th>\n",
       "      <th>number</th>\n",
       "    </tr>\n",
       "  </thead>\n",
       "  <tbody>\n",
       "  </tbody>\n",
       "</table>\n",
       "</div>"
      ],
      "text/plain": [
       "Empty DataFrame\n",
       "Columns: [eventDate, country, stateProvince, decimalLatitude, decimalLongitude, species, number]\n",
       "Index: []"
      ]
     },
     "execution_count": 58,
     "metadata": {},
     "output_type": "execute_result"
    }
   ],
   "source": [
    "MWatch_Tagged_1996_3_df"
   ]
  },
  {
   "cell_type": "code",
   "execution_count": 59,
   "id": "03245c40",
   "metadata": {},
   "outputs": [],
   "source": [
    "# convert lat-long to floats and change address from ALL CAPS to regular capitalization\n",
    "MWatch_Tagged_1996_3_df['decimalLatitude'] = MWatch_Tagged_1996_3_df['decimalLatitude'].astype(float)\n",
    "MWatch_Tagged_1996_3_df['decimalLongitude'] = MWatch_Tagged_1996_3_df['decimalLongitude'].astype(float)\n",
    "# JNorth_Milkweed_Site_df['street_address'] = JNorth_Milkweed_Site_df['street_address'].str.title()"
   ]
  },
  {
   "cell_type": "code",
   "execution_count": 60,
   "id": "bc9bad5b",
   "metadata": {},
   "outputs": [],
   "source": [
    "geojson = df_to_geojson(MWatch_Tagged_1996_3_df, cols)"
   ]
  },
  {
   "cell_type": "code",
   "execution_count": 61,
   "id": "336f0947",
   "metadata": {},
   "outputs": [],
   "source": [
    "file = open(\"MWatch_Tagged_1996_3.geojson\", \"w\")\n",
    "json.dump(geojson, file, indent =1)\n",
    "file.close()"
   ]
  },
  {
   "cell_type": "markdown",
   "id": "b5a4169d",
   "metadata": {},
   "source": [
    "## April"
   ]
  },
  {
   "cell_type": "code",
   "execution_count": 62,
   "id": "e1676dcb",
   "metadata": {},
   "outputs": [
    {
     "data": {
      "text/html": [
       "<div>\n",
       "<style scoped>\n",
       "    .dataframe tbody tr th:only-of-type {\n",
       "        vertical-align: middle;\n",
       "    }\n",
       "\n",
       "    .dataframe tbody tr th {\n",
       "        vertical-align: top;\n",
       "    }\n",
       "\n",
       "    .dataframe thead th {\n",
       "        text-align: right;\n",
       "    }\n",
       "</style>\n",
       "<table border=\"1\" class=\"dataframe\">\n",
       "  <thead>\n",
       "    <tr style=\"text-align: right;\">\n",
       "      <th></th>\n",
       "      <th>eventDate</th>\n",
       "      <th>country</th>\n",
       "      <th>stateProvince</th>\n",
       "      <th>decimalLatitude</th>\n",
       "      <th>decimalLongitude</th>\n",
       "      <th>species</th>\n",
       "      <th>number</th>\n",
       "      <th>month</th>\n",
       "    </tr>\n",
       "  </thead>\n",
       "  <tbody>\n",
       "  </tbody>\n",
       "</table>\n",
       "</div>"
      ],
      "text/plain": [
       "Empty DataFrame\n",
       "Columns: [eventDate, country, stateProvince, decimalLatitude, decimalLongitude, species, number, month]\n",
       "Index: []"
      ]
     },
     "execution_count": 62,
     "metadata": {},
     "output_type": "execute_result"
    }
   ],
   "source": [
    "MWatch_Tagged_1996_month_df =pd.DataFrame(MWatch_Tagged_1996_df)\n",
    "MWatch_Tagged_1996_4_df = MWatch_Tagged_1996_month_df[MWatch_Tagged_1996_month_df['month']==4]\n",
    "MWatch_Tagged_1996_4_df.tail()"
   ]
  },
  {
   "cell_type": "code",
   "execution_count": null,
   "id": "24530093",
   "metadata": {},
   "outputs": [],
   "source": [
    "MWatch_Tagged_1996_4_df.shape"
   ]
  },
  {
   "cell_type": "code",
   "execution_count": 63,
   "id": "a57f5b9b",
   "metadata": {},
   "outputs": [],
   "source": [
    "MWatch_Tagged_1996_4_df = pd.DataFrame(MWatch_Tagged_1996_4_df)\n",
    "MWatch_Tagged_1996_4_df.drop(['month'], axis=1, inplace=True)"
   ]
  },
  {
   "cell_type": "code",
   "execution_count": 64,
   "id": "fed7891d",
   "metadata": {},
   "outputs": [],
   "source": [
    "# convert lat-long to floats and change address from ALL CAPS to regular capitalization\n",
    "MWatch_Tagged_1996_4_df['decimalLatitude'] = MWatch_Tagged_1996_4_df['decimalLatitude'].astype(float)\n",
    "MWatch_Tagged_1996_4_df['decimalLongitude'] = MWatch_Tagged_1996_4_df['decimalLongitude'].astype(float)\n",
    "# JNorth_Milkweed_Site_df['street_address'] = JNorth_Milkweed_Site_df['street_address'].str.title()"
   ]
  },
  {
   "cell_type": "code",
   "execution_count": 65,
   "id": "8676718c",
   "metadata": {},
   "outputs": [],
   "source": [
    "geojson = df_to_geojson(MWatch_Tagged_1996_4_df, cols)"
   ]
  },
  {
   "cell_type": "code",
   "execution_count": 66,
   "id": "e4c13f3c",
   "metadata": {},
   "outputs": [],
   "source": [
    "file = open(\"MWatch_Tagged_1996_4.geojson\", \"w\")\n",
    "json.dump(geojson, file, indent =1)\n",
    "file.close()"
   ]
  },
  {
   "cell_type": "markdown",
   "id": "ecb6189f",
   "metadata": {},
   "source": [
    "## May"
   ]
  },
  {
   "cell_type": "code",
   "execution_count": 67,
   "id": "e8654b2f",
   "metadata": {},
   "outputs": [
    {
     "data": {
      "text/html": [
       "<div>\n",
       "<style scoped>\n",
       "    .dataframe tbody tr th:only-of-type {\n",
       "        vertical-align: middle;\n",
       "    }\n",
       "\n",
       "    .dataframe tbody tr th {\n",
       "        vertical-align: top;\n",
       "    }\n",
       "\n",
       "    .dataframe thead th {\n",
       "        text-align: right;\n",
       "    }\n",
       "</style>\n",
       "<table border=\"1\" class=\"dataframe\">\n",
       "  <thead>\n",
       "    <tr style=\"text-align: right;\">\n",
       "      <th></th>\n",
       "      <th>eventDate</th>\n",
       "      <th>country</th>\n",
       "      <th>stateProvince</th>\n",
       "      <th>decimalLatitude</th>\n",
       "      <th>decimalLongitude</th>\n",
       "      <th>species</th>\n",
       "      <th>number</th>\n",
       "      <th>month</th>\n",
       "    </tr>\n",
       "  </thead>\n",
       "  <tbody>\n",
       "  </tbody>\n",
       "</table>\n",
       "</div>"
      ],
      "text/plain": [
       "Empty DataFrame\n",
       "Columns: [eventDate, country, stateProvince, decimalLatitude, decimalLongitude, species, number, month]\n",
       "Index: []"
      ]
     },
     "execution_count": 67,
     "metadata": {},
     "output_type": "execute_result"
    }
   ],
   "source": [
    "MWatch_Tagged_1996_month_df =pd.DataFrame(MWatch_Tagged_1996_df)\n",
    "MWatch_Tagged_1996_5_df = MWatch_Tagged_1996_month_df[MWatch_Tagged_1996_month_df['month']==5]\n",
    "MWatch_Tagged_1996_5_df.tail()"
   ]
  },
  {
   "cell_type": "code",
   "execution_count": 68,
   "id": "60d8eb59",
   "metadata": {},
   "outputs": [
    {
     "data": {
      "text/plain": [
       "(0, 8)"
      ]
     },
     "execution_count": 68,
     "metadata": {},
     "output_type": "execute_result"
    }
   ],
   "source": [
    "MWatch_Tagged_1996_5_df.shape"
   ]
  },
  {
   "cell_type": "code",
   "execution_count": 69,
   "id": "73bb7166",
   "metadata": {},
   "outputs": [],
   "source": [
    "MWatch_Tagged_1996_5_df =pd.DataFrame(MWatch_Tagged_1996_5_df)\n",
    "MWatch_Tagged_1996_5_df.drop(['month'], axis=1, inplace=True)"
   ]
  },
  {
   "cell_type": "code",
   "execution_count": 70,
   "id": "6ec1381b",
   "metadata": {},
   "outputs": [],
   "source": [
    "# convert lat-long to floats and change address from ALL CAPS to regular capitalization\n",
    "MWatch_Tagged_1996_5_df['decimalLatitude'] = MWatch_Tagged_1996_5_df['decimalLatitude'].astype(float)\n",
    "MWatch_Tagged_1996_5_df['decimalLongitude'] = MWatch_Tagged_1996_5_df['decimalLongitude'].astype(float)\n",
    "# JNorth_Milkweed_Site_df['street_address'] = JNorth_Milkweed_Site_df['street_address'].str.title()"
   ]
  },
  {
   "cell_type": "code",
   "execution_count": 71,
   "id": "eb6b3375",
   "metadata": {},
   "outputs": [],
   "source": [
    "geojson = df_to_geojson(MWatch_Tagged_1996_5_df, cols)"
   ]
  },
  {
   "cell_type": "code",
   "execution_count": 72,
   "id": "e38d605b",
   "metadata": {},
   "outputs": [],
   "source": [
    "file = open(\"MWatch_Tagged_1996_5.geojson\", \"w\")\n",
    "json.dump(geojson, file, indent =1)\n",
    "file.close()"
   ]
  },
  {
   "cell_type": "markdown",
   "id": "e993c20c",
   "metadata": {},
   "source": [
    "## June"
   ]
  },
  {
   "cell_type": "code",
   "execution_count": 73,
   "id": "03fc48b5",
   "metadata": {},
   "outputs": [
    {
     "data": {
      "text/html": [
       "<div>\n",
       "<style scoped>\n",
       "    .dataframe tbody tr th:only-of-type {\n",
       "        vertical-align: middle;\n",
       "    }\n",
       "\n",
       "    .dataframe tbody tr th {\n",
       "        vertical-align: top;\n",
       "    }\n",
       "\n",
       "    .dataframe thead th {\n",
       "        text-align: right;\n",
       "    }\n",
       "</style>\n",
       "<table border=\"1\" class=\"dataframe\">\n",
       "  <thead>\n",
       "    <tr style=\"text-align: right;\">\n",
       "      <th></th>\n",
       "      <th>eventDate</th>\n",
       "      <th>country</th>\n",
       "      <th>stateProvince</th>\n",
       "      <th>decimalLatitude</th>\n",
       "      <th>decimalLongitude</th>\n",
       "      <th>species</th>\n",
       "      <th>number</th>\n",
       "      <th>month</th>\n",
       "    </tr>\n",
       "  </thead>\n",
       "  <tbody>\n",
       "  </tbody>\n",
       "</table>\n",
       "</div>"
      ],
      "text/plain": [
       "Empty DataFrame\n",
       "Columns: [eventDate, country, stateProvince, decimalLatitude, decimalLongitude, species, number, month]\n",
       "Index: []"
      ]
     },
     "execution_count": 73,
     "metadata": {},
     "output_type": "execute_result"
    }
   ],
   "source": [
    "MWatch_Tagged_1996_month_df =pd.DataFrame(MWatch_Tagged_1996_df)\n",
    "MWatch_Tagged_1996_6_df = MWatch_Tagged_1996_month_df[MWatch_Tagged_1996_month_df['month']==6]\n",
    "MWatch_Tagged_1996_6_df.tail()"
   ]
  },
  {
   "cell_type": "code",
   "execution_count": 74,
   "id": "a5b0b8ee",
   "metadata": {},
   "outputs": [
    {
     "data": {
      "text/plain": [
       "(0, 8)"
      ]
     },
     "execution_count": 74,
     "metadata": {},
     "output_type": "execute_result"
    }
   ],
   "source": [
    "MWatch_Tagged_1996_6_df.shape"
   ]
  },
  {
   "cell_type": "code",
   "execution_count": 75,
   "id": "c92eb8b8",
   "metadata": {},
   "outputs": [],
   "source": [
    "MWatch_Tagged_1996_6_df =pd.DataFrame(MWatch_Tagged_1996_6_df)\n",
    "MWatch_Tagged_1996_6_df.drop(['month'], axis=1, inplace=True)"
   ]
  },
  {
   "cell_type": "code",
   "execution_count": 76,
   "id": "83ed644f",
   "metadata": {},
   "outputs": [
    {
     "data": {
      "text/html": [
       "<div>\n",
       "<style scoped>\n",
       "    .dataframe tbody tr th:only-of-type {\n",
       "        vertical-align: middle;\n",
       "    }\n",
       "\n",
       "    .dataframe tbody tr th {\n",
       "        vertical-align: top;\n",
       "    }\n",
       "\n",
       "    .dataframe thead th {\n",
       "        text-align: right;\n",
       "    }\n",
       "</style>\n",
       "<table border=\"1\" class=\"dataframe\">\n",
       "  <thead>\n",
       "    <tr style=\"text-align: right;\">\n",
       "      <th></th>\n",
       "      <th>eventDate</th>\n",
       "      <th>country</th>\n",
       "      <th>stateProvince</th>\n",
       "      <th>decimalLatitude</th>\n",
       "      <th>decimalLongitude</th>\n",
       "      <th>species</th>\n",
       "      <th>number</th>\n",
       "    </tr>\n",
       "  </thead>\n",
       "  <tbody>\n",
       "  </tbody>\n",
       "</table>\n",
       "</div>"
      ],
      "text/plain": [
       "Empty DataFrame\n",
       "Columns: [eventDate, country, stateProvince, decimalLatitude, decimalLongitude, species, number]\n",
       "Index: []"
      ]
     },
     "execution_count": 76,
     "metadata": {},
     "output_type": "execute_result"
    }
   ],
   "source": [
    "MWatch_Tagged_1996_6_df"
   ]
  },
  {
   "cell_type": "code",
   "execution_count": 77,
   "id": "0652626f",
   "metadata": {},
   "outputs": [],
   "source": [
    "# convert lat-long to floats and change address from ALL CAPS to regular capitalization\n",
    "MWatch_Tagged_1996_6_df['decimalLatitude'] = MWatch_Tagged_1996_6_df['decimalLatitude'].astype(float)\n",
    "MWatch_Tagged_1996_6_df['decimalLongitude'] = MWatch_Tagged_1996_6_df['decimalLongitude'].astype(float)\n",
    "# JNorth_Milkweed_Site_df['street_address'] = JNorth_Milkweed_Site_df['street_address'].str.title()"
   ]
  },
  {
   "cell_type": "code",
   "execution_count": 78,
   "id": "d99099a1",
   "metadata": {},
   "outputs": [],
   "source": [
    "geojson = df_to_geojson(MWatch_Tagged_1996_6_df, cols)"
   ]
  },
  {
   "cell_type": "code",
   "execution_count": 79,
   "id": "52c13f18",
   "metadata": {},
   "outputs": [],
   "source": [
    "file = open(\"MWatch_Tagged_1996_6.geojson\", \"w\")\n",
    "json.dump(geojson, file, indent =1)\n",
    "file.close()"
   ]
  },
  {
   "cell_type": "markdown",
   "id": "8893271b",
   "metadata": {},
   "source": [
    "## July"
   ]
  },
  {
   "cell_type": "code",
   "execution_count": 80,
   "id": "a78f1523",
   "metadata": {},
   "outputs": [
    {
     "data": {
      "text/html": [
       "<div>\n",
       "<style scoped>\n",
       "    .dataframe tbody tr th:only-of-type {\n",
       "        vertical-align: middle;\n",
       "    }\n",
       "\n",
       "    .dataframe tbody tr th {\n",
       "        vertical-align: top;\n",
       "    }\n",
       "\n",
       "    .dataframe thead th {\n",
       "        text-align: right;\n",
       "    }\n",
       "</style>\n",
       "<table border=\"1\" class=\"dataframe\">\n",
       "  <thead>\n",
       "    <tr style=\"text-align: right;\">\n",
       "      <th></th>\n",
       "      <th>eventDate</th>\n",
       "      <th>country</th>\n",
       "      <th>stateProvince</th>\n",
       "      <th>decimalLatitude</th>\n",
       "      <th>decimalLongitude</th>\n",
       "      <th>species</th>\n",
       "      <th>number</th>\n",
       "      <th>month</th>\n",
       "    </tr>\n",
       "  </thead>\n",
       "  <tbody>\n",
       "    <tr>\n",
       "      <th>11905</th>\n",
       "      <td>7/14/1996</td>\n",
       "      <td>US</td>\n",
       "      <td>KS</td>\n",
       "      <td>39.20194</td>\n",
       "      <td>-96.304997</td>\n",
       "      <td>Monarch Tagged</td>\n",
       "      <td>4</td>\n",
       "      <td>7</td>\n",
       "    </tr>\n",
       "    <tr>\n",
       "      <th>11911</th>\n",
       "      <td>7/19/1996</td>\n",
       "      <td>US</td>\n",
       "      <td>KS</td>\n",
       "      <td>39.20194</td>\n",
       "      <td>-96.304997</td>\n",
       "      <td>Monarch Tagged</td>\n",
       "      <td>4</td>\n",
       "      <td>7</td>\n",
       "    </tr>\n",
       "  </tbody>\n",
       "</table>\n",
       "</div>"
      ],
      "text/plain": [
       "       eventDate country stateProvince  decimalLatitude  decimalLongitude  \\\n",
       "11905  7/14/1996      US            KS         39.20194        -96.304997   \n",
       "11911  7/19/1996      US            KS         39.20194        -96.304997   \n",
       "\n",
       "              species  number  month  \n",
       "11905  Monarch Tagged       4      7  \n",
       "11911  Monarch Tagged       4      7  "
      ]
     },
     "execution_count": 80,
     "metadata": {},
     "output_type": "execute_result"
    }
   ],
   "source": [
    "MWatch_Tagged_1996_month_df =pd.DataFrame(MWatch_Tagged_1996_df)\n",
    "MWatch_Tagged_1996_7_df = MWatch_Tagged_1996_month_df[MWatch_Tagged_1996_month_df['month']==7]\n",
    "MWatch_Tagged_1996_7_df.tail()"
   ]
  },
  {
   "cell_type": "code",
   "execution_count": 81,
   "id": "cf793498",
   "metadata": {},
   "outputs": [
    {
     "data": {
      "text/plain": [
       "(2, 8)"
      ]
     },
     "execution_count": 81,
     "metadata": {},
     "output_type": "execute_result"
    }
   ],
   "source": [
    "MWatch_Tagged_1996_7_df.shape"
   ]
  },
  {
   "cell_type": "code",
   "execution_count": 82,
   "id": "0b8580c9",
   "metadata": {},
   "outputs": [
    {
     "data": {
      "text/html": [
       "<div>\n",
       "<style scoped>\n",
       "    .dataframe tbody tr th:only-of-type {\n",
       "        vertical-align: middle;\n",
       "    }\n",
       "\n",
       "    .dataframe tbody tr th {\n",
       "        vertical-align: top;\n",
       "    }\n",
       "\n",
       "    .dataframe thead th {\n",
       "        text-align: right;\n",
       "    }\n",
       "</style>\n",
       "<table border=\"1\" class=\"dataframe\">\n",
       "  <thead>\n",
       "    <tr style=\"text-align: right;\">\n",
       "      <th></th>\n",
       "      <th>eventDate</th>\n",
       "      <th>country</th>\n",
       "      <th>stateProvince</th>\n",
       "      <th>decimalLatitude</th>\n",
       "      <th>decimalLongitude</th>\n",
       "      <th>species</th>\n",
       "      <th>number</th>\n",
       "      <th>month</th>\n",
       "    </tr>\n",
       "  </thead>\n",
       "  <tbody>\n",
       "    <tr>\n",
       "      <th>11905</th>\n",
       "      <td>7/14/1996</td>\n",
       "      <td>US</td>\n",
       "      <td>KS</td>\n",
       "      <td>39.20194</td>\n",
       "      <td>-96.304997</td>\n",
       "      <td>Monarch Tagged</td>\n",
       "      <td>4</td>\n",
       "      <td>7</td>\n",
       "    </tr>\n",
       "    <tr>\n",
       "      <th>11911</th>\n",
       "      <td>7/19/1996</td>\n",
       "      <td>US</td>\n",
       "      <td>KS</td>\n",
       "      <td>39.20194</td>\n",
       "      <td>-96.304997</td>\n",
       "      <td>Monarch Tagged</td>\n",
       "      <td>4</td>\n",
       "      <td>7</td>\n",
       "    </tr>\n",
       "  </tbody>\n",
       "</table>\n",
       "</div>"
      ],
      "text/plain": [
       "       eventDate country stateProvince  decimalLatitude  decimalLongitude  \\\n",
       "11905  7/14/1996      US            KS         39.20194        -96.304997   \n",
       "11911  7/19/1996      US            KS         39.20194        -96.304997   \n",
       "\n",
       "              species  number  month  \n",
       "11905  Monarch Tagged       4      7  \n",
       "11911  Monarch Tagged       4      7  "
      ]
     },
     "execution_count": 82,
     "metadata": {},
     "output_type": "execute_result"
    }
   ],
   "source": [
    "MWatch_Tagged_1996_7_df"
   ]
  },
  {
   "cell_type": "code",
   "execution_count": 83,
   "id": "0a11df25",
   "metadata": {},
   "outputs": [],
   "source": [
    "MWatch_Tagged_1996_7_df =pd.DataFrame(MWatch_Tagged_1996_7_df)\n",
    "MWatch_Tagged_1996_7_df.drop(['month'], axis=1, inplace=True)"
   ]
  },
  {
   "cell_type": "code",
   "execution_count": 84,
   "id": "547dffdc",
   "metadata": {},
   "outputs": [],
   "source": [
    "# convert lat-long to floats and change address from ALL CAPS to regular capitalization\n",
    "MWatch_Tagged_1996_7_df['decimalLatitude'] = MWatch_Tagged_1996_7_df['decimalLatitude'].astype(float)\n",
    "MWatch_Tagged_1996_7_df['decimalLongitude'] = MWatch_Tagged_1996_7_df['decimalLongitude'].astype(float)\n",
    "# JNorth_Milkweed_Site_df['street_address'] = JNorth_Milkweed_Site_df['street_address'].str.title()"
   ]
  },
  {
   "cell_type": "code",
   "execution_count": 85,
   "id": "97f4d573",
   "metadata": {},
   "outputs": [
    {
     "data": {
      "text/html": [
       "<div>\n",
       "<style scoped>\n",
       "    .dataframe tbody tr th:only-of-type {\n",
       "        vertical-align: middle;\n",
       "    }\n",
       "\n",
       "    .dataframe tbody tr th {\n",
       "        vertical-align: top;\n",
       "    }\n",
       "\n",
       "    .dataframe thead th {\n",
       "        text-align: right;\n",
       "    }\n",
       "</style>\n",
       "<table border=\"1\" class=\"dataframe\">\n",
       "  <thead>\n",
       "    <tr style=\"text-align: right;\">\n",
       "      <th></th>\n",
       "      <th>eventDate</th>\n",
       "      <th>country</th>\n",
       "      <th>stateProvince</th>\n",
       "      <th>decimalLatitude</th>\n",
       "      <th>decimalLongitude</th>\n",
       "      <th>species</th>\n",
       "      <th>number</th>\n",
       "    </tr>\n",
       "  </thead>\n",
       "  <tbody>\n",
       "    <tr>\n",
       "      <th>11905</th>\n",
       "      <td>7/14/1996</td>\n",
       "      <td>US</td>\n",
       "      <td>KS</td>\n",
       "      <td>39.20194</td>\n",
       "      <td>-96.304997</td>\n",
       "      <td>Monarch Tagged</td>\n",
       "      <td>4</td>\n",
       "    </tr>\n",
       "    <tr>\n",
       "      <th>11911</th>\n",
       "      <td>7/19/1996</td>\n",
       "      <td>US</td>\n",
       "      <td>KS</td>\n",
       "      <td>39.20194</td>\n",
       "      <td>-96.304997</td>\n",
       "      <td>Monarch Tagged</td>\n",
       "      <td>4</td>\n",
       "    </tr>\n",
       "  </tbody>\n",
       "</table>\n",
       "</div>"
      ],
      "text/plain": [
       "       eventDate country stateProvince  decimalLatitude  decimalLongitude  \\\n",
       "11905  7/14/1996      US            KS         39.20194        -96.304997   \n",
       "11911  7/19/1996      US            KS         39.20194        -96.304997   \n",
       "\n",
       "              species  number  \n",
       "11905  Monarch Tagged       4  \n",
       "11911  Monarch Tagged       4  "
      ]
     },
     "execution_count": 85,
     "metadata": {},
     "output_type": "execute_result"
    }
   ],
   "source": [
    "MWatch_Tagged_1996_7_df"
   ]
  },
  {
   "cell_type": "code",
   "execution_count": 88,
   "id": "9b8a01c4",
   "metadata": {},
   "outputs": [],
   "source": [
    "geojson = df_to_geojson(MWatch_Tagged_1996_7_df, cols)"
   ]
  },
  {
   "cell_type": "code",
   "execution_count": 89,
   "id": "7ede518a",
   "metadata": {},
   "outputs": [],
   "source": [
    "file = open(\"MWatch_Tagged_1996_7.geojson\", \"w\")\n",
    "json.dump(geojson, file, indent =1)\n",
    "file.close()"
   ]
  },
  {
   "cell_type": "markdown",
   "id": "510976eb",
   "metadata": {},
   "source": [
    "## August"
   ]
  },
  {
   "cell_type": "code",
   "execution_count": 91,
   "id": "3dd621e6",
   "metadata": {},
   "outputs": [
    {
     "data": {
      "text/html": [
       "<div>\n",
       "<style scoped>\n",
       "    .dataframe tbody tr th:only-of-type {\n",
       "        vertical-align: middle;\n",
       "    }\n",
       "\n",
       "    .dataframe tbody tr th {\n",
       "        vertical-align: top;\n",
       "    }\n",
       "\n",
       "    .dataframe thead th {\n",
       "        text-align: right;\n",
       "    }\n",
       "</style>\n",
       "<table border=\"1\" class=\"dataframe\">\n",
       "  <thead>\n",
       "    <tr style=\"text-align: right;\">\n",
       "      <th></th>\n",
       "      <th>eventDate</th>\n",
       "      <th>country</th>\n",
       "      <th>stateProvince</th>\n",
       "      <th>decimalLatitude</th>\n",
       "      <th>decimalLongitude</th>\n",
       "      <th>species</th>\n",
       "      <th>number</th>\n",
       "      <th>month</th>\n",
       "    </tr>\n",
       "  </thead>\n",
       "  <tbody>\n",
       "    <tr>\n",
       "      <th>16103</th>\n",
       "      <td>8/8/1996</td>\n",
       "      <td>US</td>\n",
       "      <td>MN</td>\n",
       "      <td>45.119410</td>\n",
       "      <td>-93.402453</td>\n",
       "      <td>Monarch Tagged</td>\n",
       "      <td>1</td>\n",
       "      <td>8</td>\n",
       "    </tr>\n",
       "    <tr>\n",
       "      <th>16104</th>\n",
       "      <td>8/8/1996</td>\n",
       "      <td>US</td>\n",
       "      <td>TX</td>\n",
       "      <td>29.370886</td>\n",
       "      <td>-100.895867</td>\n",
       "      <td>Monarch Tagged</td>\n",
       "      <td>23</td>\n",
       "      <td>8</td>\n",
       "    </tr>\n",
       "    <tr>\n",
       "      <th>16123</th>\n",
       "      <td>8/9/1996</td>\n",
       "      <td>US</td>\n",
       "      <td>MN</td>\n",
       "      <td>45.072460</td>\n",
       "      <td>-93.455788</td>\n",
       "      <td>Monarch Tagged</td>\n",
       "      <td>1</td>\n",
       "      <td>8</td>\n",
       "    </tr>\n",
       "    <tr>\n",
       "      <th>16124</th>\n",
       "      <td>8/9/1996</td>\n",
       "      <td>US</td>\n",
       "      <td>MN</td>\n",
       "      <td>45.119410</td>\n",
       "      <td>-93.402453</td>\n",
       "      <td>Monarch Tagged</td>\n",
       "      <td>1</td>\n",
       "      <td>8</td>\n",
       "    </tr>\n",
       "    <tr>\n",
       "      <th>16125</th>\n",
       "      <td>8/9/1996</td>\n",
       "      <td>US</td>\n",
       "      <td>TX</td>\n",
       "      <td>29.370886</td>\n",
       "      <td>-100.895867</td>\n",
       "      <td>Monarch Tagged</td>\n",
       "      <td>15</td>\n",
       "      <td>8</td>\n",
       "    </tr>\n",
       "  </tbody>\n",
       "</table>\n",
       "</div>"
      ],
      "text/plain": [
       "      eventDate country stateProvince  decimalLatitude  decimalLongitude  \\\n",
       "16103  8/8/1996      US            MN        45.119410        -93.402453   \n",
       "16104  8/8/1996      US            TX        29.370886       -100.895867   \n",
       "16123  8/9/1996      US            MN        45.072460        -93.455788   \n",
       "16124  8/9/1996      US            MN        45.119410        -93.402453   \n",
       "16125  8/9/1996      US            TX        29.370886       -100.895867   \n",
       "\n",
       "              species  number  month  \n",
       "16103  Monarch Tagged       1      8  \n",
       "16104  Monarch Tagged      23      8  \n",
       "16123  Monarch Tagged       1      8  \n",
       "16124  Monarch Tagged       1      8  \n",
       "16125  Monarch Tagged      15      8  "
      ]
     },
     "execution_count": 91,
     "metadata": {},
     "output_type": "execute_result"
    }
   ],
   "source": [
    "MWatch_Tagged_1996_month_df =pd.DataFrame(MWatch_Tagged_1996_df)\n",
    "MWatch_Tagged_1996_8_df = MWatch_Tagged_1996_month_df[MWatch_Tagged_1996_month_df['month']==8]\n",
    "MWatch_Tagged_1996_8_df.tail()"
   ]
  },
  {
   "cell_type": "code",
   "execution_count": 92,
   "id": "d1145a4b",
   "metadata": {},
   "outputs": [
    {
     "data": {
      "text/plain": [
       "(246, 8)"
      ]
     },
     "execution_count": 92,
     "metadata": {},
     "output_type": "execute_result"
    }
   ],
   "source": [
    "MWatch_Tagged_1996_8_df.shape"
   ]
  },
  {
   "cell_type": "code",
   "execution_count": 93,
   "id": "e7da4bd8",
   "metadata": {},
   "outputs": [],
   "source": [
    "MWatch_Tagged_1996_8_df = pd.DataFrame(MWatch_Tagged_1996_8_df)\n",
    "MWatch_Tagged_1996_8_df.drop(['month'], axis=1, inplace=True)"
   ]
  },
  {
   "cell_type": "code",
   "execution_count": 94,
   "id": "ce6fb27f",
   "metadata": {},
   "outputs": [],
   "source": [
    "# convert lat-long to floats and change address from ALL CAPS to regular capitalization\n",
    "MWatch_Tagged_1996_8_df['decimalLatitude'] = MWatch_Tagged_1996_8_df['decimalLatitude'].astype(float)\n",
    "MWatch_Tagged_1996_8_df['decimalLongitude'] = MWatch_Tagged_1996_8_df['decimalLongitude'].astype(float)\n",
    "# JNorth_Milkweed_Site_df['street_address'] = JNorth_Milkweed_Site_df['street_address'].str.title()"
   ]
  },
  {
   "cell_type": "code",
   "execution_count": 95,
   "id": "3c4ab342",
   "metadata": {},
   "outputs": [],
   "source": [
    "geojson = df_to_geojson(MWatch_Tagged_1996_8_df, cols)"
   ]
  },
  {
   "cell_type": "code",
   "execution_count": 96,
   "id": "3ead16ab",
   "metadata": {},
   "outputs": [],
   "source": [
    "file = open(\"MWatch_Tagged_1996_8.geojson\", \"w\")\n",
    "json.dump(geojson, file, indent =1)\n",
    "file.close()"
   ]
  },
  {
   "cell_type": "markdown",
   "id": "ecbd125e",
   "metadata": {},
   "source": [
    "## September"
   ]
  },
  {
   "cell_type": "code",
   "execution_count": 97,
   "id": "8c0ed9a5",
   "metadata": {},
   "outputs": [
    {
     "data": {
      "text/html": [
       "<div>\n",
       "<style scoped>\n",
       "    .dataframe tbody tr th:only-of-type {\n",
       "        vertical-align: middle;\n",
       "    }\n",
       "\n",
       "    .dataframe tbody tr th {\n",
       "        vertical-align: top;\n",
       "    }\n",
       "\n",
       "    .dataframe thead th {\n",
       "        text-align: right;\n",
       "    }\n",
       "</style>\n",
       "<table border=\"1\" class=\"dataframe\">\n",
       "  <thead>\n",
       "    <tr style=\"text-align: right;\">\n",
       "      <th></th>\n",
       "      <th>eventDate</th>\n",
       "      <th>country</th>\n",
       "      <th>stateProvince</th>\n",
       "      <th>decimalLatitude</th>\n",
       "      <th>decimalLongitude</th>\n",
       "      <th>species</th>\n",
       "      <th>number</th>\n",
       "      <th>month</th>\n",
       "    </tr>\n",
       "  </thead>\n",
       "  <tbody>\n",
       "    <tr>\n",
       "      <th>39479</th>\n",
       "      <td>9/9/1996</td>\n",
       "      <td>US</td>\n",
       "      <td>WI</td>\n",
       "      <td>44.740810</td>\n",
       "      <td>-89.063165</td>\n",
       "      <td>Monarch Tagged</td>\n",
       "      <td>6</td>\n",
       "      <td>9</td>\n",
       "    </tr>\n",
       "    <tr>\n",
       "      <th>39480</th>\n",
       "      <td>9/9/1996</td>\n",
       "      <td>US</td>\n",
       "      <td>WV</td>\n",
       "      <td>37.801788</td>\n",
       "      <td>-80.445630</td>\n",
       "      <td>Monarch Tagged</td>\n",
       "      <td>4</td>\n",
       "      <td>9</td>\n",
       "    </tr>\n",
       "    <tr>\n",
       "      <th>39481</th>\n",
       "      <td>9/9/1996</td>\n",
       "      <td>US</td>\n",
       "      <td>WV</td>\n",
       "      <td>38.642890</td>\n",
       "      <td>-79.331153</td>\n",
       "      <td>Monarch Tagged</td>\n",
       "      <td>8</td>\n",
       "      <td>9</td>\n",
       "    </tr>\n",
       "    <tr>\n",
       "      <th>39482</th>\n",
       "      <td>9/9/1996</td>\n",
       "      <td>US</td>\n",
       "      <td>WV</td>\n",
       "      <td>39.286480</td>\n",
       "      <td>-80.256198</td>\n",
       "      <td>Monarch Tagged</td>\n",
       "      <td>19</td>\n",
       "      <td>9</td>\n",
       "    </tr>\n",
       "    <tr>\n",
       "      <th>39483</th>\n",
       "      <td>9/9/1996</td>\n",
       "      <td>US</td>\n",
       "      <td>WV</td>\n",
       "      <td>39.440930</td>\n",
       "      <td>-78.973916</td>\n",
       "      <td>Monarch Tagged</td>\n",
       "      <td>1</td>\n",
       "      <td>9</td>\n",
       "    </tr>\n",
       "  </tbody>\n",
       "</table>\n",
       "</div>"
      ],
      "text/plain": [
       "      eventDate country stateProvince  decimalLatitude  decimalLongitude  \\\n",
       "39479  9/9/1996      US            WI        44.740810        -89.063165   \n",
       "39480  9/9/1996      US            WV        37.801788        -80.445630   \n",
       "39481  9/9/1996      US            WV        38.642890        -79.331153   \n",
       "39482  9/9/1996      US            WV        39.286480        -80.256198   \n",
       "39483  9/9/1996      US            WV        39.440930        -78.973916   \n",
       "\n",
       "              species  number  month  \n",
       "39479  Monarch Tagged       6      9  \n",
       "39480  Monarch Tagged       4      9  \n",
       "39481  Monarch Tagged       8      9  \n",
       "39482  Monarch Tagged      19      9  \n",
       "39483  Monarch Tagged       1      9  "
      ]
     },
     "execution_count": 97,
     "metadata": {},
     "output_type": "execute_result"
    }
   ],
   "source": [
    "MWatch_Tagged_1996_month_df =pd.DataFrame(MWatch_Tagged_1996_df)\n",
    "MWatch_Tagged_1996_9_df = MWatch_Tagged_1996_month_df[MWatch_Tagged_1996_month_df['month']==9]\n",
    "MWatch_Tagged_1996_9_df.tail()"
   ]
  },
  {
   "cell_type": "code",
   "execution_count": 98,
   "id": "4ca17692",
   "metadata": {},
   "outputs": [
    {
     "data": {
      "text/plain": [
       "(2001, 8)"
      ]
     },
     "execution_count": 98,
     "metadata": {},
     "output_type": "execute_result"
    }
   ],
   "source": [
    "MWatch_Tagged_1996_9_df.shape"
   ]
  },
  {
   "cell_type": "code",
   "execution_count": 99,
   "id": "a486ee81",
   "metadata": {},
   "outputs": [],
   "source": [
    "MWatch_Tagged_1996_9_df = pd.DataFrame(MWatch_Tagged_1996_9_df)\n",
    "MWatch_Tagged_1996_9_df.drop(['month'], axis=1, inplace=True)"
   ]
  },
  {
   "cell_type": "code",
   "execution_count": 100,
   "id": "2ed76410",
   "metadata": {},
   "outputs": [],
   "source": [
    "# convert lat-long to floats and change address from ALL CAPS to regular capitalization\n",
    "MWatch_Tagged_1996_9_df['decimalLatitude'] = MWatch_Tagged_1996_9_df['decimalLatitude'].astype(float)\n",
    "MWatch_Tagged_1996_9_df['decimalLongitude'] = MWatch_Tagged_1996_9_df['decimalLongitude'].astype(float)\n",
    "# JNorth_Milkweed_Site_df['street_address'] = JNorth_Milkweed_Site_df['street_address'].str.title()"
   ]
  },
  {
   "cell_type": "code",
   "execution_count": 101,
   "id": "153962db",
   "metadata": {},
   "outputs": [],
   "source": [
    "geojson = df_to_geojson(MWatch_Tagged_1996_9_df, cols)"
   ]
  },
  {
   "cell_type": "code",
   "execution_count": 102,
   "id": "f7e3dccf",
   "metadata": {},
   "outputs": [],
   "source": [
    "file = open(\"MWatch_Tagged_1996_9.geojson\", \"w\")\n",
    "json.dump(geojson, file, indent =1)\n",
    "file.close()"
   ]
  },
  {
   "cell_type": "markdown",
   "id": "eea9348c",
   "metadata": {},
   "source": [
    "## October"
   ]
  },
  {
   "cell_type": "code",
   "execution_count": 103,
   "id": "df23ee0d",
   "metadata": {},
   "outputs": [
    {
     "data": {
      "text/html": [
       "<div>\n",
       "<style scoped>\n",
       "    .dataframe tbody tr th:only-of-type {\n",
       "        vertical-align: middle;\n",
       "    }\n",
       "\n",
       "    .dataframe tbody tr th {\n",
       "        vertical-align: top;\n",
       "    }\n",
       "\n",
       "    .dataframe thead th {\n",
       "        text-align: right;\n",
       "    }\n",
       "</style>\n",
       "<table border=\"1\" class=\"dataframe\">\n",
       "  <thead>\n",
       "    <tr style=\"text-align: right;\">\n",
       "      <th></th>\n",
       "      <th>eventDate</th>\n",
       "      <th>country</th>\n",
       "      <th>stateProvince</th>\n",
       "      <th>decimalLatitude</th>\n",
       "      <th>decimalLongitude</th>\n",
       "      <th>species</th>\n",
       "      <th>number</th>\n",
       "      <th>month</th>\n",
       "    </tr>\n",
       "  </thead>\n",
       "  <tbody>\n",
       "    <tr>\n",
       "      <th>10098</th>\n",
       "      <td>10/9/1996</td>\n",
       "      <td>US</td>\n",
       "      <td>TX</td>\n",
       "      <td>32.93429</td>\n",
       "      <td>-97.078065</td>\n",
       "      <td>Monarch Tagged</td>\n",
       "      <td>17</td>\n",
       "      <td>10</td>\n",
       "    </tr>\n",
       "    <tr>\n",
       "      <th>10099</th>\n",
       "      <td>10/9/1996</td>\n",
       "      <td>US</td>\n",
       "      <td>TX</td>\n",
       "      <td>32.96179</td>\n",
       "      <td>-96.829168</td>\n",
       "      <td>Monarch Tagged</td>\n",
       "      <td>52</td>\n",
       "      <td>10</td>\n",
       "    </tr>\n",
       "    <tr>\n",
       "      <th>10100</th>\n",
       "      <td>10/9/1996</td>\n",
       "      <td>US</td>\n",
       "      <td>TX</td>\n",
       "      <td>32.97564</td>\n",
       "      <td>-96.889964</td>\n",
       "      <td>Monarch Tagged</td>\n",
       "      <td>10</td>\n",
       "      <td>10</td>\n",
       "    </tr>\n",
       "    <tr>\n",
       "      <th>10101</th>\n",
       "      <td>10/9/1996</td>\n",
       "      <td>US</td>\n",
       "      <td>WI</td>\n",
       "      <td>44.81135</td>\n",
       "      <td>-91.498494</td>\n",
       "      <td>Monarch Tagged</td>\n",
       "      <td>2</td>\n",
       "      <td>10</td>\n",
       "    </tr>\n",
       "    <tr>\n",
       "      <th>10102</th>\n",
       "      <td>10/9/1996</td>\n",
       "      <td>US</td>\n",
       "      <td>WV</td>\n",
       "      <td>39.35825</td>\n",
       "      <td>-81.167847</td>\n",
       "      <td>Monarch Tagged</td>\n",
       "      <td>2</td>\n",
       "      <td>10</td>\n",
       "    </tr>\n",
       "  </tbody>\n",
       "</table>\n",
       "</div>"
      ],
      "text/plain": [
       "       eventDate country stateProvince  decimalLatitude  decimalLongitude  \\\n",
       "10098  10/9/1996      US            TX         32.93429        -97.078065   \n",
       "10099  10/9/1996      US            TX         32.96179        -96.829168   \n",
       "10100  10/9/1996      US            TX         32.97564        -96.889964   \n",
       "10101  10/9/1996      US            WI         44.81135        -91.498494   \n",
       "10102  10/9/1996      US            WV         39.35825        -81.167847   \n",
       "\n",
       "              species  number  month  \n",
       "10098  Monarch Tagged      17     10  \n",
       "10099  Monarch Tagged      52     10  \n",
       "10100  Monarch Tagged      10     10  \n",
       "10101  Monarch Tagged       2     10  \n",
       "10102  Monarch Tagged       2     10  "
      ]
     },
     "execution_count": 103,
     "metadata": {},
     "output_type": "execute_result"
    }
   ],
   "source": [
    "MWatch_Tagged_1996_month_df =pd.DataFrame(MWatch_Tagged_1996_df)\n",
    "MWatch_Tagged_1996_10_df = MWatch_Tagged_1996_month_df[MWatch_Tagged_1996_month_df['month']==10]\n",
    "MWatch_Tagged_1996_10_df.tail()"
   ]
  },
  {
   "cell_type": "code",
   "execution_count": 104,
   "id": "67f5288a",
   "metadata": {},
   "outputs": [
    {
     "data": {
      "text/plain": [
       "(1026, 8)"
      ]
     },
     "execution_count": 104,
     "metadata": {},
     "output_type": "execute_result"
    }
   ],
   "source": [
    "MWatch_Tagged_1996_10_df.shape"
   ]
  },
  {
   "cell_type": "code",
   "execution_count": 105,
   "id": "a1fb31eb",
   "metadata": {},
   "outputs": [],
   "source": [
    "MWatch_Tagged_1996_10_df = pd.DataFrame(MWatch_Tagged_1996_10_df)\n",
    "MWatch_Tagged_1996_10_df.drop(['month'], axis=1, inplace=True)"
   ]
  },
  {
   "cell_type": "code",
   "execution_count": 106,
   "id": "cc6ee857",
   "metadata": {},
   "outputs": [],
   "source": [
    "# convert lat-long to floats and change address from ALL CAPS to regular capitalization\n",
    "MWatch_Tagged_1996_10_df['decimalLatitude'] = MWatch_Tagged_1996_10_df['decimalLatitude'].astype(float)\n",
    "MWatch_Tagged_1996_10_df['decimalLongitude'] = MWatch_Tagged_1996_10_df['decimalLongitude'].astype(float)\n",
    "# JNorth_Milkweed_Site_df['street_address'] = JNorth_Milkweed_Site_df['street_address'].str.title()"
   ]
  },
  {
   "cell_type": "code",
   "execution_count": 107,
   "id": "712beae1",
   "metadata": {},
   "outputs": [],
   "source": [
    "geojson = df_to_geojson(MWatch_Tagged_1996_10_df, cols)"
   ]
  },
  {
   "cell_type": "code",
   "execution_count": 108,
   "id": "808cb382",
   "metadata": {},
   "outputs": [],
   "source": [
    "file = open(\"MWatch_Tagged_1996_10.geojson\", \"w\")\n",
    "json.dump(geojson, file, indent =1)\n",
    "file.close()"
   ]
  },
  {
   "cell_type": "markdown",
   "id": "196b7f94",
   "metadata": {},
   "source": [
    "## November"
   ]
  },
  {
   "cell_type": "code",
   "execution_count": 109,
   "id": "8ddf9ecb",
   "metadata": {},
   "outputs": [
    {
     "data": {
      "text/html": [
       "<div>\n",
       "<style scoped>\n",
       "    .dataframe tbody tr th:only-of-type {\n",
       "        vertical-align: middle;\n",
       "    }\n",
       "\n",
       "    .dataframe tbody tr th {\n",
       "        vertical-align: top;\n",
       "    }\n",
       "\n",
       "    .dataframe thead th {\n",
       "        text-align: right;\n",
       "    }\n",
       "</style>\n",
       "<table border=\"1\" class=\"dataframe\">\n",
       "  <thead>\n",
       "    <tr style=\"text-align: right;\">\n",
       "      <th></th>\n",
       "      <th>eventDate</th>\n",
       "      <th>country</th>\n",
       "      <th>stateProvince</th>\n",
       "      <th>decimalLatitude</th>\n",
       "      <th>decimalLongitude</th>\n",
       "      <th>species</th>\n",
       "      <th>number</th>\n",
       "      <th>month</th>\n",
       "    </tr>\n",
       "  </thead>\n",
       "  <tbody>\n",
       "    <tr>\n",
       "      <th>11281</th>\n",
       "      <td>11/9/1996</td>\n",
       "      <td>US</td>\n",
       "      <td>IA</td>\n",
       "      <td>41.85718</td>\n",
       "      <td>-90.925083</td>\n",
       "      <td>Monarch Tagged</td>\n",
       "      <td>19</td>\n",
       "      <td>11</td>\n",
       "    </tr>\n",
       "    <tr>\n",
       "      <th>11282</th>\n",
       "      <td>11/9/1996</td>\n",
       "      <td>US</td>\n",
       "      <td>SC</td>\n",
       "      <td>32.71183</td>\n",
       "      <td>-79.952113</td>\n",
       "      <td>Monarch Tagged</td>\n",
       "      <td>1</td>\n",
       "      <td>11</td>\n",
       "    </tr>\n",
       "    <tr>\n",
       "      <th>11283</th>\n",
       "      <td>11/9/1996</td>\n",
       "      <td>US</td>\n",
       "      <td>TX</td>\n",
       "      <td>29.34746</td>\n",
       "      <td>-99.141425</td>\n",
       "      <td>Monarch Tagged</td>\n",
       "      <td>2</td>\n",
       "      <td>11</td>\n",
       "    </tr>\n",
       "    <tr>\n",
       "      <th>11284</th>\n",
       "      <td>11/9/1996</td>\n",
       "      <td>US</td>\n",
       "      <td>TX</td>\n",
       "      <td>30.19021</td>\n",
       "      <td>-98.086678</td>\n",
       "      <td>Monarch Tagged</td>\n",
       "      <td>1</td>\n",
       "      <td>11</td>\n",
       "    </tr>\n",
       "    <tr>\n",
       "      <th>11285</th>\n",
       "      <td>11/9/1996</td>\n",
       "      <td>US</td>\n",
       "      <td>TX</td>\n",
       "      <td>30.26715</td>\n",
       "      <td>-97.743061</td>\n",
       "      <td>Monarch Tagged</td>\n",
       "      <td>1</td>\n",
       "      <td>11</td>\n",
       "    </tr>\n",
       "  </tbody>\n",
       "</table>\n",
       "</div>"
      ],
      "text/plain": [
       "       eventDate country stateProvince  decimalLatitude  decimalLongitude  \\\n",
       "11281  11/9/1996      US            IA         41.85718        -90.925083   \n",
       "11282  11/9/1996      US            SC         32.71183        -79.952113   \n",
       "11283  11/9/1996      US            TX         29.34746        -99.141425   \n",
       "11284  11/9/1996      US            TX         30.19021        -98.086678   \n",
       "11285  11/9/1996      US            TX         30.26715        -97.743061   \n",
       "\n",
       "              species  number  month  \n",
       "11281  Monarch Tagged      19     11  \n",
       "11282  Monarch Tagged       1     11  \n",
       "11283  Monarch Tagged       2     11  \n",
       "11284  Monarch Tagged       1     11  \n",
       "11285  Monarch Tagged       1     11  "
      ]
     },
     "execution_count": 109,
     "metadata": {},
     "output_type": "execute_result"
    }
   ],
   "source": [
    "MWatch_Tagged_1996_month_df =pd.DataFrame(MWatch_Tagged_1996_df)\n",
    "MWatch_Tagged_1996_11_df = MWatch_Tagged_1996_month_df[MWatch_Tagged_1996_month_df['month']==11]\n",
    "MWatch_Tagged_1996_11_df.tail()"
   ]
  },
  {
   "cell_type": "code",
   "execution_count": 110,
   "id": "ad68049a",
   "metadata": {},
   "outputs": [
    {
     "data": {
      "text/plain": [
       "(107, 8)"
      ]
     },
     "execution_count": 110,
     "metadata": {},
     "output_type": "execute_result"
    }
   ],
   "source": [
    "MWatch_Tagged_1996_11_df.shape"
   ]
  },
  {
   "cell_type": "code",
   "execution_count": 111,
   "id": "b4c89154",
   "metadata": {},
   "outputs": [],
   "source": [
    "MWatch_Tagged_1996_11_df = pd.DataFrame(MWatch_Tagged_1996_11_df)\n",
    "MWatch_Tagged_1996_11_df.drop(['month'], axis=1, inplace=True)"
   ]
  },
  {
   "cell_type": "code",
   "execution_count": 112,
   "id": "d58b4c8b",
   "metadata": {},
   "outputs": [],
   "source": [
    "# convert lat-long to floats and change address from ALL CAPS to regular capitalization\n",
    "MWatch_Tagged_1996_11_df['decimalLatitude'] = MWatch_Tagged_1996_11_df['decimalLatitude'].astype(float)\n",
    "MWatch_Tagged_1996_11_df['decimalLongitude'] = MWatch_Tagged_1996_11_df['decimalLongitude'].astype(float)\n",
    "# JNorth_Milkweed_Site_df['street_address'] = JNorth_Milkweed_Site_df['street_address'].str.title()"
   ]
  },
  {
   "cell_type": "code",
   "execution_count": 113,
   "id": "f699d4b6",
   "metadata": {},
   "outputs": [],
   "source": [
    "geojson = df_to_geojson(MWatch_Tagged_1996_11_df, cols)"
   ]
  },
  {
   "cell_type": "code",
   "execution_count": 114,
   "id": "834ec4dc",
   "metadata": {},
   "outputs": [],
   "source": [
    "file = open(\"MWatch_Tagged_1996_11.geojson\", \"w\")\n",
    "json.dump(geojson, file, indent =1)\n",
    "file.close()"
   ]
  },
  {
   "cell_type": "markdown",
   "id": "40c71593",
   "metadata": {},
   "source": [
    "## December"
   ]
  },
  {
   "cell_type": "code",
   "execution_count": 116,
   "id": "6b4b81a1",
   "metadata": {},
   "outputs": [
    {
     "data": {
      "text/html": [
       "<div>\n",
       "<style scoped>\n",
       "    .dataframe tbody tr th:only-of-type {\n",
       "        vertical-align: middle;\n",
       "    }\n",
       "\n",
       "    .dataframe tbody tr th {\n",
       "        vertical-align: top;\n",
       "    }\n",
       "\n",
       "    .dataframe thead th {\n",
       "        text-align: right;\n",
       "    }\n",
       "</style>\n",
       "<table border=\"1\" class=\"dataframe\">\n",
       "  <thead>\n",
       "    <tr style=\"text-align: right;\">\n",
       "      <th></th>\n",
       "      <th>eventDate</th>\n",
       "      <th>country</th>\n",
       "      <th>stateProvince</th>\n",
       "      <th>decimalLatitude</th>\n",
       "      <th>decimalLongitude</th>\n",
       "      <th>species</th>\n",
       "      <th>number</th>\n",
       "      <th>month</th>\n",
       "    </tr>\n",
       "  </thead>\n",
       "  <tbody>\n",
       "    <tr>\n",
       "      <th>11499</th>\n",
       "      <td>12/7/1996</td>\n",
       "      <td>US</td>\n",
       "      <td>SC</td>\n",
       "      <td>32.71183</td>\n",
       "      <td>-79.952113</td>\n",
       "      <td>Monarch Tagged</td>\n",
       "      <td>2</td>\n",
       "      <td>12</td>\n",
       "    </tr>\n",
       "    <tr>\n",
       "      <th>11519</th>\n",
       "      <td>12/9/1996</td>\n",
       "      <td>US</td>\n",
       "      <td>IA</td>\n",
       "      <td>41.85718</td>\n",
       "      <td>-90.925083</td>\n",
       "      <td>Monarch Tagged</td>\n",
       "      <td>79</td>\n",
       "      <td>12</td>\n",
       "    </tr>\n",
       "    <tr>\n",
       "      <th>11520</th>\n",
       "      <td>12/9/1996</td>\n",
       "      <td>US</td>\n",
       "      <td>KS</td>\n",
       "      <td>39.20194</td>\n",
       "      <td>-96.304997</td>\n",
       "      <td>Monarch Tagged</td>\n",
       "      <td>16</td>\n",
       "      <td>12</td>\n",
       "    </tr>\n",
       "    <tr>\n",
       "      <th>11521</th>\n",
       "      <td>12/9/1996</td>\n",
       "      <td>US</td>\n",
       "      <td>MD</td>\n",
       "      <td>39.10344</td>\n",
       "      <td>-77.290817</td>\n",
       "      <td>Monarch Tagged</td>\n",
       "      <td>3</td>\n",
       "      <td>12</td>\n",
       "    </tr>\n",
       "    <tr>\n",
       "      <th>11522</th>\n",
       "      <td>12/9/1996</td>\n",
       "      <td>US</td>\n",
       "      <td>MN</td>\n",
       "      <td>45.11941</td>\n",
       "      <td>-93.402453</td>\n",
       "      <td>Monarch Tagged</td>\n",
       "      <td>2</td>\n",
       "      <td>12</td>\n",
       "    </tr>\n",
       "  </tbody>\n",
       "</table>\n",
       "</div>"
      ],
      "text/plain": [
       "       eventDate country stateProvince  decimalLatitude  decimalLongitude  \\\n",
       "11499  12/7/1996      US            SC         32.71183        -79.952113   \n",
       "11519  12/9/1996      US            IA         41.85718        -90.925083   \n",
       "11520  12/9/1996      US            KS         39.20194        -96.304997   \n",
       "11521  12/9/1996      US            MD         39.10344        -77.290817   \n",
       "11522  12/9/1996      US            MN         45.11941        -93.402453   \n",
       "\n",
       "              species  number  month  \n",
       "11499  Monarch Tagged       2     12  \n",
       "11519  Monarch Tagged      79     12  \n",
       "11520  Monarch Tagged      16     12  \n",
       "11521  Monarch Tagged       3     12  \n",
       "11522  Monarch Tagged       2     12  "
      ]
     },
     "execution_count": 116,
     "metadata": {},
     "output_type": "execute_result"
    }
   ],
   "source": [
    "MWatch_Tagged_1996_month_df =pd.DataFrame(MWatch_Tagged_1996_df)\n",
    "MWatch_Tagged_1996_12_df = MWatch_Tagged_1996_month_df[MWatch_Tagged_1996_month_df['month']==12]\n",
    "MWatch_Tagged_1996_12_df.tail()"
   ]
  },
  {
   "cell_type": "code",
   "execution_count": 117,
   "id": "c4df5f44",
   "metadata": {},
   "outputs": [
    {
     "data": {
      "text/plain": [
       "(19, 8)"
      ]
     },
     "execution_count": 117,
     "metadata": {},
     "output_type": "execute_result"
    }
   ],
   "source": [
    "MWatch_Tagged_1996_12_df.shape"
   ]
  },
  {
   "cell_type": "code",
   "execution_count": 118,
   "id": "d6ae0a6a",
   "metadata": {},
   "outputs": [],
   "source": [
    "MWatch_Tagged_1996_12_df = pd.DataFrame(MWatch_Tagged_1996_12_df)\n",
    "MWatch_Tagged_1996_12_df.drop(['month'], axis=1, inplace=True)"
   ]
  },
  {
   "cell_type": "code",
   "execution_count": 120,
   "id": "d4152a7f",
   "metadata": {},
   "outputs": [],
   "source": [
    "# convert lat-long to floats and change address from ALL CAPS to regular capitalization\n",
    "MWatch_Tagged_1996_12_df['decimalLatitude'] = MWatch_Tagged_1996_12_df['decimalLatitude'].astype(float)\n",
    "MWatch_Tagged_1996_12_df['decimalLongitude'] = MWatch_Tagged_1996_12_df['decimalLongitude'].astype(float)\n",
    "# JNorth_Milkweed_Site_df['street_address'] = JNorth_Milkweed_Site_df['street_address'].str.title()"
   ]
  },
  {
   "cell_type": "code",
   "execution_count": 121,
   "id": "dd3a5d1f",
   "metadata": {},
   "outputs": [],
   "source": [
    "geojson = df_to_geojson(MWatch_Tagged_1996_12_df, cols)"
   ]
  },
  {
   "cell_type": "code",
   "execution_count": 122,
   "id": "028f834c",
   "metadata": {},
   "outputs": [],
   "source": [
    "file = open(\"MWatch_Tagged_1996_12.geojson\", \"w\")\n",
    "json.dump(geojson, file, indent =1)\n",
    "file.close()"
   ]
  },
  {
   "cell_type": "code",
   "execution_count": null,
   "id": "60c87091",
   "metadata": {},
   "outputs": [],
   "source": []
  },
  {
   "cell_type": "code",
   "execution_count": null,
   "id": "9c85357e",
   "metadata": {},
   "outputs": [],
   "source": []
  }
 ],
 "metadata": {
  "kernelspec": {
   "display_name": "mlenv",
   "language": "python",
   "name": "mlenv"
  },
  "language_info": {
   "codemirror_mode": {
    "name": "ipython",
    "version": 3
   },
   "file_extension": ".py",
   "mimetype": "text/x-python",
   "name": "python",
   "nbconvert_exporter": "python",
   "pygments_lexer": "ipython3",
   "version": "3.7.11"
  }
 },
 "nbformat": 4,
 "nbformat_minor": 5
}
